{
 "cells": [
  {
   "cell_type": "markdown",
   "metadata": {},
   "source": [
    "# Ejercicio\n",
    "\n",
    "![56.png](img/56.png)\n",
    "\n",
    "Calcular:\n",
    "1. $\\Delta S_u$\n",
    "2. $\\eta_\\mathrm{ex,proc}$"
   ]
  },
  {
   "cell_type": "markdown",
   "metadata": {},
   "source": [
    "## Solución\n",
    "$$ \\Delta S_{1} = \\frac{Q_1}{T_1} $$\n",
    "\n",
    "$$ Q_{U1} = Q_1 - T_0 \\, \\Delta S_1 $$\n",
    "\n",
    "$$ \\eta_\\mathrm{ex} = \\frac{W_{MT}}{|Q_{U1}|} \\quad \\rightarrow \\quad W_{MT} = \\eta_\\mathrm{ex} \\, |Q_{U1}| $$"
   ]
  },
  {
   "cell_type": "code",
   "execution_count": 36,
   "metadata": {},
   "outputs": [
    {
     "name": "stdout",
     "output_type": "stream",
     "text": [
      "DS_1 = 2.5 kJ/kg·K\n",
      "Q_U1 = 1250.0 kJ\n",
      "W_MT = 1000.0 kJ\n"
     ]
    }
   ],
   "source": [
    "Q_1 = 2000 # kJ\n",
    "T_1 = 800 # K\n",
    "eta_ex = 0.8\n",
    "T_0 = 300 # K\n",
    "\n",
    "DS_1 = Q_1/T_1\n",
    "Q_U1 = Q_1 - T_0*DS_1\n",
    "\n",
    "W_MT = eta_ex * abs(Q_U1)\n",
    "\n",
    "print('DS_1 = %s kJ/kg·K'%round(DS_1,2))\n",
    "print('Q_U1 = %s kJ'%round(Q_U1,2))\n",
    "print('W_MT = %s kJ'%round(W_MT,2))"
   ]
  },
  {
   "cell_type": "markdown",
   "metadata": {},
   "source": [
    "$$ |W_{MT}| = |Q_1| - |Q_2| $$\n",
    "\n",
    "$$ |Q_2| = |Q_1| - |W_{MT}| $$"
   ]
  },
  {
   "cell_type": "code",
   "execution_count": 37,
   "metadata": {},
   "outputs": [
    {
     "name": "stdout",
     "output_type": "stream",
     "text": [
      "Q_2 = 1000.0 kJ\n"
     ]
    }
   ],
   "source": [
    "Q_2 = Q_1 - W_MT\n",
    "\n",
    "print('Q_2 = %s kJ'%round(Q_2,2))"
   ]
  },
  {
   "cell_type": "markdown",
   "metadata": {},
   "source": [
    "$$ \\Delta S_2 = \\frac{Q_2}{T_2} $$"
   ]
  },
  {
   "cell_type": "code",
   "execution_count": 38,
   "metadata": {},
   "outputs": [
    {
     "name": "stdout",
     "output_type": "stream",
     "text": [
      "DS_2 = 3.33 kJ/kg·K\n"
     ]
    }
   ],
   "source": [
    "T_2 = 300 # K\n",
    "\n",
    "DS_2 = Q_2/T_2\n",
    "\n",
    "print('DS_2 = %s kJ/kg·K'%round(DS_2,2))"
   ]
  },
  {
   "cell_type": "markdown",
   "metadata": {},
   "source": [
    "$$ \\Delta S_{uMT} = \\Delta S_1 + \\Delta S_2 $$"
   ]
  },
  {
   "cell_type": "code",
   "execution_count": 39,
   "metadata": {},
   "outputs": [
    {
     "name": "stdout",
     "output_type": "stream",
     "text": [
      "DS_uMT = 5.83 kJ/kg·K\n"
     ]
    }
   ],
   "source": [
    "DS_uMT = DS_1 + DS_2\n",
    "\n",
    "print('DS_uMT = %s kJ/kg·K'%round(DS_uMT,2))"
   ]
  },
  {
   "cell_type": "markdown",
   "metadata": {},
   "source": [
    "$$ W_\\mathrm{pal} = W_{MT} - Q_\\mathrm{perd} - W_\\mathrm{disp} $$"
   ]
  },
  {
   "cell_type": "code",
   "execution_count": 40,
   "metadata": {},
   "outputs": [
    {
     "name": "stdout",
     "output_type": "stream",
     "text": [
      "W_pal = 700.0 kJ\n"
     ]
    }
   ],
   "source": [
    "Q_perd = 0.05*W_MT\n",
    "W_disp = 0.25*W_MT\n",
    "\n",
    "W_pal = W_MT - Q_perd - W_disp\n",
    "\n",
    "print('W_pal = %s kJ'%round(W_pal,2))"
   ]
  },
  {
   "cell_type": "markdown",
   "metadata": {},
   "source": [
    "$\\begin{array}{l|l|l}\n",
    "1) & \\Delta U + W_{\\Delta V} + W_\\mathrm{pal} = 0 & \\Delta U , \\, W_{\\Delta V}  \\\\\n",
    "2) & \\Delta U = m_A \\, c_{v} \\, (T_{f} - T_{i} ) & T_{f} \\\\\n",
    "3) & \\Delta S_A = m_A \\, c_{p} \\ln (T_{f}/T_{i} ) & \\Delta S_A \\\\\n",
    "4) & P_{ext} \\, V_i = m_A R_A T_i & m_A \\\\\n",
    "5) & P_{ext} \\, V_f = m_A R_A T_f & V_f\n",
    "\\end{array}$"
   ]
  },
  {
   "cell_type": "code",
   "execution_count": 44,
   "metadata": {},
   "outputs": [
    {
     "name": "stdout",
     "output_type": "stream",
     "text": [
      "m_A = 1.16 kg\n"
     ]
    }
   ],
   "source": [
    "Pp = 200 # kPa\n",
    "T_i = 27 + 273.15 # K\n",
    "R_A = 0.287 # kJ/(kg·K)\n",
    "V_i = 0.5 # m^3\n",
    "\n",
    "m_A = (Pp*V_i)/(R_A*T_i)\n",
    "\n",
    "print('m_A = %s kg'%round(m_A,2))"
   ]
  },
  {
   "cell_type": "code",
   "execution_count": 42,
   "metadata": {},
   "outputs": [],
   "source": [
    "import sympy as sp"
   ]
  },
  {
   "cell_type": "code",
   "execution_count": 45,
   "metadata": {},
   "outputs": [
    {
     "ename": "TypeError",
     "evalue": "'float' object is not callable",
     "output_type": "error",
     "traceback": [
      "\u001b[0;31m---------------------------------------------------------------------------\u001b[0m",
      "\u001b[0;31mTypeError\u001b[0m                                 Traceback (most recent call last)",
      "\u001b[0;32m<ipython-input-45-4dde43d466a0>\u001b[0m in \u001b[0;36m<module>\u001b[0;34m\u001b[0m\n\u001b[1;32m      4\u001b[0m \u001b[0mW_DV\u001b[0m \u001b[0;34m=\u001b[0m \u001b[0mPp\u001b[0m\u001b[0;34m*\u001b[0m\u001b[0;34m(\u001b[0m\u001b[0mV_f\u001b[0m \u001b[0;34m-\u001b[0m \u001b[0mV_i\u001b[0m\u001b[0;34m)\u001b[0m\u001b[0;34m\u001b[0m\u001b[0;34m\u001b[0m\u001b[0m\n\u001b[1;32m      5\u001b[0m \u001b[0;34m\u001b[0m\u001b[0m\n\u001b[0;32m----> 6\u001b[0;31m \u001b[0mDU\u001b[0m \u001b[0;34m=\u001b[0m \u001b[0mm_A\u001b[0m\u001b[0;34m*\u001b[0m\u001b[0mcv\u001b[0m\u001b[0;34m(\u001b[0m\u001b[0mT_f\u001b[0m \u001b[0;34m-\u001b[0m \u001b[0mT_i\u001b[0m\u001b[0;34m)\u001b[0m\u001b[0;34m\u001b[0m\u001b[0;34m\u001b[0m\u001b[0m\n\u001b[0m\u001b[1;32m      7\u001b[0m \u001b[0meq1\u001b[0m \u001b[0;34m=\u001b[0m \u001b[0msp\u001b[0m\u001b[0;34m.\u001b[0m\u001b[0mEq\u001b[0m\u001b[0;34m(\u001b[0m\u001b[0mDU\u001b[0m \u001b[0;34m+\u001b[0m \u001b[0mW_DV\u001b[0m \u001b[0;34m+\u001b[0m \u001b[0mW_pal\u001b[0m \u001b[0;34m,\u001b[0m \u001b[0;36m0\u001b[0m\u001b[0;34m)\u001b[0m\u001b[0;34m\u001b[0m\u001b[0;34m\u001b[0m\u001b[0m\n\u001b[1;32m      8\u001b[0m \u001b[0;34m\u001b[0m\u001b[0m\n",
      "\u001b[0;31mTypeError\u001b[0m: 'float' object is not callable"
     ]
    }
   ],
   "source": [
    "T_f = sp.symbols('T_f')\n",
    "cv = 0.7176 # kJ/(kg·K)\n",
    "V_f = (m_A*R_A*T_f)/Pp\n",
    "\n",
    "W_DV = Pp*(V_f - V_i)\n",
    "DU = m_A*cv(T_f - T_i)\n",
    "eq1 = sp.Eq(DU + W_DV - W_pal , 0)\n",
    "\n",
    "Sol = sp.solve(eq1,T_f)\n",
    "print(Sol)"
   ]
  },
  {
   "cell_type": "code",
   "execution_count": 46,
   "metadata": {},
   "outputs": [
    {
     "data": {
      "text/plain": [
       "0.00166583374979177*T_f"
      ]
     },
     "execution_count": 46,
     "metadata": {},
     "output_type": "execute_result"
    }
   ],
   "source": []
  },
  {
   "cell_type": "code",
   "execution_count": 14,
   "metadata": {},
   "outputs": [
    {
     "ename": "NotImplementedError",
     "evalue": "\ninequality has more than one symbol of interest.",
     "output_type": "error",
     "traceback": [
      "\u001b[0;31m---------------------------------------------------------------------------\u001b[0m",
      "\u001b[0;31mNotImplementedError\u001b[0m                       Traceback (most recent call last)",
      "\u001b[0;32m<ipython-input-14-258899fe0c20>\u001b[0m in \u001b[0;36m<module>\u001b[0;34m\u001b[0m\n\u001b[1;32m     22\u001b[0m \u001b[0meq6\u001b[0m \u001b[0;34m=\u001b[0m \u001b[0msp\u001b[0m\u001b[0;34m.\u001b[0m\u001b[0mEq\u001b[0m\u001b[0;34m(\u001b[0m\u001b[0mPp\u001b[0m\u001b[0;34m*\u001b[0m\u001b[0mV_f\u001b[0m \u001b[0;34m,\u001b[0m \u001b[0mm_A\u001b[0m\u001b[0;34m*\u001b[0m\u001b[0mR_A\u001b[0m\u001b[0;34m*\u001b[0m\u001b[0mT_f\u001b[0m\u001b[0;34m)\u001b[0m\u001b[0;34m\u001b[0m\u001b[0;34m\u001b[0m\u001b[0m\n\u001b[1;32m     23\u001b[0m \u001b[0;34m\u001b[0m\u001b[0m\n\u001b[0;32m---> 24\u001b[0;31m \u001b[0mSol\u001b[0m\u001b[0;34m=\u001b[0m \u001b[0msp\u001b[0m\u001b[0;34m.\u001b[0m\u001b[0msolve\u001b[0m\u001b[0;34m(\u001b[0m\u001b[0;34m[\u001b[0m\u001b[0meq1\u001b[0m\u001b[0;34m,\u001b[0m\u001b[0meq2\u001b[0m\u001b[0;34m,\u001b[0m\u001b[0meq3\u001b[0m\u001b[0;34m,\u001b[0m\u001b[0meq4\u001b[0m\u001b[0;34m,\u001b[0m\u001b[0meq5\u001b[0m\u001b[0;34m,\u001b[0m\u001b[0meq6\u001b[0m\u001b[0;34m]\u001b[0m\u001b[0;34m,\u001b[0m\u001b[0;34m[\u001b[0m\u001b[0mW_DV\u001b[0m\u001b[0;34m,\u001b[0m\u001b[0mT_f\u001b[0m\u001b[0;34m,\u001b[0m\u001b[0mDS_A\u001b[0m\u001b[0;34m,\u001b[0m\u001b[0mV_f\u001b[0m\u001b[0;34m]\u001b[0m\u001b[0;34m)\u001b[0m\u001b[0;34m\u001b[0m\u001b[0;34m\u001b[0m\u001b[0m\n\u001b[0m\u001b[1;32m     25\u001b[0m \u001b[0;34m\u001b[0m\u001b[0m\n\u001b[1;32m     26\u001b[0m \u001b[0mprint\u001b[0m\u001b[0;34m(\u001b[0m\u001b[0mSol\u001b[0m\u001b[0;34m)\u001b[0m\u001b[0;34m\u001b[0m\u001b[0;34m\u001b[0m\u001b[0m\n",
      "\u001b[0;32m~/anaconda3/lib/python3.7/site-packages/sympy/solvers/solvers.py\u001b[0m in \u001b[0;36msolve\u001b[0;34m(f, *symbols, **flags)\u001b[0m\n\u001b[1;32m    978\u001b[0m \u001b[0;34m\u001b[0m\u001b[0m\n\u001b[1;32m    979\u001b[0m         \u001b[0;32mif\u001b[0m \u001b[0misinstance\u001b[0m\u001b[0;34m(\u001b[0m\u001b[0mfi\u001b[0m\u001b[0;34m,\u001b[0m \u001b[0;34m(\u001b[0m\u001b[0mbool\u001b[0m\u001b[0;34m,\u001b[0m \u001b[0mBooleanAtom\u001b[0m\u001b[0;34m)\u001b[0m\u001b[0;34m)\u001b[0m \u001b[0;32mor\u001b[0m \u001b[0mfi\u001b[0m\u001b[0;34m.\u001b[0m\u001b[0mis_Relational\u001b[0m\u001b[0;34m:\u001b[0m\u001b[0;34m\u001b[0m\u001b[0;34m\u001b[0m\u001b[0m\n\u001b[0;32m--> 980\u001b[0;31m             \u001b[0;32mreturn\u001b[0m \u001b[0mreduce_inequalities\u001b[0m\u001b[0;34m(\u001b[0m\u001b[0mf\u001b[0m\u001b[0;34m,\u001b[0m \u001b[0msymbols\u001b[0m\u001b[0;34m=\u001b[0m\u001b[0msymbols\u001b[0m\u001b[0;34m)\u001b[0m\u001b[0;34m\u001b[0m\u001b[0;34m\u001b[0m\u001b[0m\n\u001b[0m\u001b[1;32m    981\u001b[0m \u001b[0;34m\u001b[0m\u001b[0m\n\u001b[1;32m    982\u001b[0m         \u001b[0;32mif\u001b[0m \u001b[0misinstance\u001b[0m\u001b[0;34m(\u001b[0m\u001b[0mfi\u001b[0m\u001b[0;34m,\u001b[0m \u001b[0mPoly\u001b[0m\u001b[0;34m)\u001b[0m\u001b[0;34m:\u001b[0m\u001b[0;34m\u001b[0m\u001b[0;34m\u001b[0m\u001b[0m\n",
      "\u001b[0;32m~/anaconda3/lib/python3.7/site-packages/sympy/solvers/inequalities.py\u001b[0m in \u001b[0;36mreduce_inequalities\u001b[0;34m(inequalities, symbols)\u001b[0m\n\u001b[1;32m    985\u001b[0m \u001b[0;34m\u001b[0m\u001b[0m\n\u001b[1;32m    986\u001b[0m     \u001b[0;31m# solve system\u001b[0m\u001b[0;34m\u001b[0m\u001b[0;34m\u001b[0m\u001b[0;34m\u001b[0m\u001b[0m\n\u001b[0;32m--> 987\u001b[0;31m     \u001b[0mrv\u001b[0m \u001b[0;34m=\u001b[0m \u001b[0m_reduce_inequalities\u001b[0m\u001b[0;34m(\u001b[0m\u001b[0minequalities\u001b[0m\u001b[0;34m,\u001b[0m \u001b[0msymbols\u001b[0m\u001b[0;34m)\u001b[0m\u001b[0;34m\u001b[0m\u001b[0;34m\u001b[0m\u001b[0m\n\u001b[0m\u001b[1;32m    988\u001b[0m \u001b[0;34m\u001b[0m\u001b[0m\n\u001b[1;32m    989\u001b[0m     \u001b[0;31m# restore original symbols and return\u001b[0m\u001b[0;34m\u001b[0m\u001b[0;34m\u001b[0m\u001b[0;34m\u001b[0m\u001b[0m\n",
      "\u001b[0;32m~/anaconda3/lib/python3.7/site-packages/sympy/solvers/inequalities.py\u001b[0m in \u001b[0;36m_reduce_inequalities\u001b[0;34m(inequalities, symbols)\u001b[0m\n\u001b[1;32m    905\u001b[0m                 raise NotImplementedError(filldedent('''\n\u001b[1;32m    906\u001b[0m                     \u001b[0minequality\u001b[0m \u001b[0mhas\u001b[0m \u001b[0mmore\u001b[0m \u001b[0mthan\u001b[0m \u001b[0mone\u001b[0m \u001b[0msymbol\u001b[0m \u001b[0mof\u001b[0m \u001b[0minterest\u001b[0m\u001b[0;34m.\u001b[0m\u001b[0;34m\u001b[0m\u001b[0;34m\u001b[0m\u001b[0m\n\u001b[0;32m--> 907\u001b[0;31m                     '''))\n\u001b[0m\u001b[1;32m    908\u001b[0m \u001b[0;34m\u001b[0m\u001b[0m\n\u001b[1;32m    909\u001b[0m         \u001b[0;32mif\u001b[0m \u001b[0mexpr\u001b[0m\u001b[0;34m.\u001b[0m\u001b[0mis_polynomial\u001b[0m\u001b[0;34m(\u001b[0m\u001b[0mgen\u001b[0m\u001b[0;34m)\u001b[0m\u001b[0;34m:\u001b[0m\u001b[0;34m\u001b[0m\u001b[0;34m\u001b[0m\u001b[0m\n",
      "\u001b[0;31mNotImplementedError\u001b[0m: \ninequality has more than one symbol of interest."
     ]
    }
   ],
   "source": [
    "\n",
    "DS_A = sp.symbols('DS_A')\n",
    "V_f = sp.symbols('V_f')\n",
    "\n",
    "\n",
    "\n",
    "\n",
    "T_i = 27 + 273.15 # K\n",
    "V_i = 0.5 # m^3\n",
    "\n",
    "cp = 1.0047 # kJ/(kg·K)\n",
    "\n",
    "\n",
    "m_A = (Pp*V_i)/(R_A*T_i)\n",
    "\n",
    "\n",
    "eq2 = sp.Eq(DU , m_A*cv_A*(T_f - T_i))\n",
    "eq3 = sp.Eq(DS_A , m_A*cp_A*sp.log(T_f/T_i))\n",
    "eq4 = sp.Eq(W_DV , Pp*(V_f - V_i))            \n",
    "eq5 = sp.Eq(Pp*V_i , m_A*R_A*T_i)            \n",
    "eq6 = sp.Eq(Pp*V_f , m_A*R_A*T_f)\n",
    "\n",
    "Sol= sp.solve([eq1,eq2,eq3,eq4,eq5,eq6],[W_DV,T_f,DS_A,V_f])\n",
    "\n",
    "print(Sol)"
   ]
  },
  {
   "cell_type": "code",
   "execution_count": 35,
   "metadata": {},
   "outputs": [],
   "source": [
    "%reset -s -f"
   ]
  },
  {
   "cell_type": "code",
   "execution_count": null,
   "metadata": {},
   "outputs": [],
   "source": []
  }
 ],
 "metadata": {
  "kernelspec": {
   "display_name": "Python 3",
   "language": "python",
   "name": "python3"
  },
  "language_info": {
   "codemirror_mode": {
    "name": "ipython",
    "version": 3
   },
   "file_extension": ".py",
   "mimetype": "text/x-python",
   "name": "python",
   "nbconvert_exporter": "python",
   "pygments_lexer": "ipython3",
   "version": "3.7.3"
  }
 },
 "nbformat": 4,
 "nbformat_minor": 2
}
