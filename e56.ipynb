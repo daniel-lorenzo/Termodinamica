{
 "cells": [
  {
   "cell_type": "raw",
   "metadata": {},
   "source": [
    "<script>\n",
    "  function code_toggle() {\n",
    "    if (code_shown){\n",
    "      $('div.input').hide('500');\n",
    "      $('#toggleButton').val('Show Code')\n",
    "    } else {\n",
    "      $('div.input').show('500');\n",
    "      $('#toggleButton').val('Hide Code')\n",
    "    }\n",
    "    code_shown = !code_shown\n",
    "  }\n",
    "\n",
    "  $( document ).ready(function(){\n",
    "    code_shown=true;\n",
    "    $('div.input').show()\n",
    "  });\n",
    "</script>\n",
    "<form action=\"javascript:code_toggle()\"><input type=\"submit\" id=\"toggleButton\" value=\"Hide Code\"></form>"
   ]
  },
  {
   "cell_type": "markdown",
   "metadata": {},
   "source": [
    "# Ejercicio\n",
    "\n",
    "![56.png](img/56.png)\n",
    "\n",
    "Calcular:\n",
    "1. $\\Delta S_u$\n",
    "2. $\\eta_\\mathrm{ex,proc}$"
   ]
  },
  {
   "cell_type": "markdown",
   "metadata": {},
   "source": [
    "## Solución\n",
    "$$ \\Delta S_{1} = \\frac{Q_1}{T_1} $$"
   ]
  },
  {
   "cell_type": "markdown",
   "metadata": {},
   "source": [
    "$$ Q_{U1} = Q_1 - T_0 \\, \\Delta S_1 $$"
   ]
  },
  {
   "cell_type": "markdown",
   "metadata": {},
   "source": [
    "$$ \\eta_\\mathrm{ex} = \\frac{W_{MT}}{|Q_{U1}|} \\quad \\rightarrow \\quad W_{MT} = \\eta_\\mathrm{ex} \\, |Q_{U1}| $$"
   ]
  },
  {
   "cell_type": "code",
   "execution_count": 1,
   "metadata": {},
   "outputs": [
    {
     "name": "stdout",
     "output_type": "stream",
     "text": [
      "DS_1 = 2.5 kJ/kg·K\n",
      "Q_U1 = 1250.0 kJ\n",
      "W_MT = 1000.0 kJ\n"
     ]
    }
   ],
   "source": [
    "Q_1 = 2000e3 # J\n",
    "T_1 = 800 # K\n",
    "eta_ex = 0.8\n",
    "T_0 = 300 # K\n",
    "\n",
    "DS_1 = Q_1/T_1\n",
    "Q_U1 = Q_1 - T_0*DS_1\n",
    "\n",
    "W_MT = eta_ex * abs(Q_U1)\n",
    "\n",
    "print('DS_1 = %s kJ/kg·K'%round(DS_1/1e3,2))\n",
    "print('Q_U1 = %s kJ'%round(Q_U1/1e3,2))\n",
    "print('W_MT = %s kJ'%round(W_MT/1e3,2))"
   ]
  },
  {
   "cell_type": "markdown",
   "metadata": {},
   "source": [
    "$$ |W_{MT}| = |Q_1| - |Q_2| $$"
   ]
  },
  {
   "cell_type": "markdown",
   "metadata": {},
   "source": [
    "$$ |Q_2| = |Q_1| - |W_{MT}| $$"
   ]
  },
  {
   "cell_type": "code",
   "execution_count": 2,
   "metadata": {},
   "outputs": [
    {
     "name": "stdout",
     "output_type": "stream",
     "text": [
      "Q_2 = 1000.0 kJ\n"
     ]
    }
   ],
   "source": [
    "Q_2 = Q_1 - W_MT\n",
    "\n",
    "print('Q_2 = %s kJ'%round(Q_2/1e3,2))"
   ]
  },
  {
   "cell_type": "markdown",
   "metadata": {},
   "source": [
    "$$ \\Delta S_2 = \\frac{Q_2}{T_2} $$"
   ]
  },
  {
   "cell_type": "code",
   "execution_count": 3,
   "metadata": {},
   "outputs": [
    {
     "name": "stdout",
     "output_type": "stream",
     "text": [
      "DS_2 = 3.33 kJ/kg·K\n"
     ]
    }
   ],
   "source": [
    "T_2 = 300 # K\n",
    "\n",
    "DS_2 = Q_2/T_2\n",
    "\n",
    "print('DS_2 = %s kJ/kg·K'%round(DS_2/1e3,2))"
   ]
  },
  {
   "cell_type": "markdown",
   "metadata": {},
   "source": [
    "$$ \\Delta S_{uMT} = \\Delta S_1 + \\Delta S_2 $$"
   ]
  },
  {
   "cell_type": "code",
   "execution_count": 4,
   "metadata": {},
   "outputs": [
    {
     "name": "stdout",
     "output_type": "stream",
     "text": [
      "DS_uMT = 5.83 kJ/kg·K\n"
     ]
    }
   ],
   "source": [
    "DS_uMT = DS_1 + DS_2\n",
    "\n",
    "print('DS_uMT = %s kJ/kg·K'%round(DS_uMT/1e3,2))"
   ]
  },
  {
   "cell_type": "markdown",
   "metadata": {},
   "source": [
    "$$ W_\\mathrm{pal} = W_{MT} - Q_\\mathrm{perd} - W_\\mathrm{disp} $$"
   ]
  },
  {
   "cell_type": "code",
   "execution_count": 5,
   "metadata": {},
   "outputs": [
    {
     "name": "stdout",
     "output_type": "stream",
     "text": [
      "W_pal = 700.0 kJ\n"
     ]
    }
   ],
   "source": [
    "Q_perd = 0.05*W_MT\n",
    "W_disp = 0.25*W_MT\n",
    "\n",
    "W_pal = W_MT - Q_perd - W_disp\n",
    "\n",
    "print('W_pal = %s kJ'%round(W_pal/1e3,2))"
   ]
  },
  {
   "cell_type": "markdown",
   "metadata": {},
   "source": [
    "$\\begin{array}{l|l|l}\n",
    "1) & \\Delta U + W_{\\Delta V} + W_\\mathrm{pal} = 0 & \\Delta U , \\, W_{\\Delta V}  \\\\\n",
    "2) & \\Delta U = m_A \\, c_{v} \\, (T_{f} - T_{i} ) & T_{f} \\\\\n",
    "3) & \\Delta S_A = m_A \\, c_{p} \\ln (T_{f}/T_{i} ) & \\Delta S_A \\\\\n",
    "4) & P_{ext} \\, V_i = m_A R_A T_i & m_A \\\\\n",
    "5) & P_{ext} \\, V_f = m_A R_A T_f & V_f\n",
    "\\end{array}$"
   ]
  },
  {
   "cell_type": "markdown",
   "metadata": {},
   "source": [
    "### Pistón\n",
    "Cálculo de la masa en el pistón"
   ]
  },
  {
   "cell_type": "markdown",
   "metadata": {},
   "source": [
    "$$ m_A = \\frac{P_{ext} V_i}{R T_i} $$"
   ]
  },
  {
   "cell_type": "code",
   "execution_count": 6,
   "metadata": {},
   "outputs": [
    {
     "name": "stdout",
     "output_type": "stream",
     "text": [
      "m_A = 1.16 kg\n"
     ]
    }
   ],
   "source": [
    "Pp = 200e3 # Pa\n",
    "T_i = 27 + 273.15 # K\n",
    "R_A = 0.287e3 # J/(kg·K)\n",
    "V_i = 0.5 # m^3\n",
    "\n",
    "m_A = (Pp*V_i)/(R_A*T_i)\n",
    "\n",
    "print('m_A = %s kg'%round(m_A,2))"
   ]
  },
  {
   "cell_type": "markdown",
   "metadata": {},
   "source": [
    "$$ \\Delta U + W_{\\Delta V} = W_\\mathrm{pal} $$"
   ]
  },
  {
   "cell_type": "markdown",
   "metadata": {},
   "source": [
    "$$ m_A c_v (T_f - T_i) + P_{ext} \\left( \\frac{m_A R T_f}{P_{ext}} - V_i \\right) = W_\\mathrm{pal} $$"
   ]
  },
  {
   "cell_type": "code",
   "execution_count": 7,
   "metadata": {},
   "outputs": [],
   "source": [
    "import sympy as sp"
   ]
  },
  {
   "cell_type": "code",
   "execution_count": 8,
   "metadata": {},
   "outputs": [
    {
     "name": "stdout",
     "output_type": "stream",
     "text": [
      "T_f = 766.98 K\n",
      "t_f = 493.83°C\n"
     ]
    }
   ],
   "source": [
    "cv = 0.7176e3 # J/(kg·K)\n",
    "cp = 1.0047e3 # J/(kg·K) \n",
    "T_f = sp.symbols('T_f')\n",
    "\n",
    "eq1 = sp.Eq( m_A*cp*(T_f - T_i) + Pp*( (m_A*R_A*T_f)/Pp - V_i ) , W_pal )\n",
    "SEq1 = sp.solve(eq1,T_f)\n",
    "T_f = SEq1[0]\n",
    "\n",
    "print('T_f = %s K'%round(T_f,2))\n",
    "print('t_f = %s°C'%round(T_f - 273.15,2))"
   ]
  },
  {
   "cell_type": "markdown",
   "metadata": {},
   "source": [
    "$$ V_f = \\frac{m_A R_A T_f}{P_{ext}} $$"
   ]
  },
  {
   "cell_type": "code",
   "execution_count": 9,
   "metadata": {},
   "outputs": [
    {
     "name": "stdout",
     "output_type": "stream",
     "text": [
      "V_f = 1.278 m^3\n"
     ]
    }
   ],
   "source": [
    "V_f = (m_A*R_A*T_f)/Pp\n",
    "print('V_f = %s m^3'%round(V_f,3))"
   ]
  },
  {
   "cell_type": "markdown",
   "metadata": {},
   "source": [
    "$$ W_{\\Delta V} = P_{ext} (V_f - V_i) $$"
   ]
  },
  {
   "cell_type": "code",
   "execution_count": 10,
   "metadata": {},
   "outputs": [
    {
     "name": "stdout",
     "output_type": "stream",
     "text": [
      "W_DV = 155.53 kJ\n"
     ]
    }
   ],
   "source": [
    "W_DV = Pp*(V_f - V_i) \n",
    "print('W_DV = %s kJ'%round(W_DV/1e3,2))"
   ]
  },
  {
   "cell_type": "markdown",
   "metadata": {},
   "source": [
    "$T_0 = T_2$\n",
    "$$ Q_{U2} = Q_2 - T_0 \\frac{Q_2}{T_2} = 0 $$"
   ]
  },
  {
   "cell_type": "markdown",
   "metadata": {},
   "source": [
    "$$ \\Delta S_A = c_v \\ln \\left( \\frac{T_f}{T_i} \\right) + R_A \\ln \\left( \\frac{V_f}{V_i} \\right) $$"
   ]
  },
  {
   "cell_type": "code",
   "execution_count": 11,
   "metadata": {},
   "outputs": [],
   "source": [
    "import math"
   ]
  },
  {
   "cell_type": "code",
   "execution_count": 12,
   "metadata": {},
   "outputs": [
    {
     "name": "stdout",
     "output_type": "stream",
     "text": [
      "DS_A = 1.2118 kJ/K\n"
     ]
    }
   ],
   "source": [
    "DS_A = cp*math.log(T_f/T_i) + R_A*math.log(V_f/V_i)\n",
    "print('DS_A = %s kJ/K'%round(DS_A/1e3,4))"
   ]
  },
  {
   "cell_type": "markdown",
   "metadata": {},
   "source": [
    "$$ \\Delta U + W_{\\Delta V} = W_\\mathrm{pal} $$"
   ]
  },
  {
   "cell_type": "code",
   "execution_count": 13,
   "metadata": {},
   "outputs": [
    {
     "name": "stdout",
     "output_type": "stream",
     "text": [
      "DU = 544.47 kJ\n"
     ]
    }
   ],
   "source": [
    "DU = W_pal - W_DV\n",
    "print('DU = %s kJ'%round(DU/1e3,2))"
   ]
  },
  {
   "cell_type": "markdown",
   "metadata": {},
   "source": [
    "$$ \\Delta Ex_A = \\Delta U - T_0 \\Delta S_A $$"
   ]
  },
  {
   "cell_type": "code",
   "execution_count": 14,
   "metadata": {},
   "outputs": [
    {
     "name": "stdout",
     "output_type": "stream",
     "text": [
      "DEx_A = 180.92 kJ\n"
     ]
    }
   ],
   "source": [
    "P_0 = 1e5 # Pa\n",
    "\n",
    "DEx_A = DU - T_0*DS_A\n",
    "\n",
    "print('DEx_A = %s kJ'%round(DEx_A/1e3,2))"
   ]
  },
  {
   "cell_type": "markdown",
   "metadata": {},
   "source": [
    "$$ \\eta_{ex,proc} = \\frac{W_{\\Delta V} + \\Delta Ex_A + W_{disp} + Q_{perd} }{ | Q_{U1} | } $$"
   ]
  },
  {
   "cell_type": "code",
   "execution_count": 15,
   "metadata": {},
   "outputs": [
    {
     "name": "stdout",
     "output_type": "stream",
     "text": [
      "eta_expr = 0.5092\n"
     ]
    }
   ],
   "source": [
    "Q_perd = 0.05*W_MT\n",
    "W_disp = 0.25*W_MT\n",
    "\n",
    "W_Up = P_0*(V_f - V_i)\n",
    "\n",
    "eta_expr = ( W_DV + DEx_A + W_disp + Q_perd )/( Q_U1 )\n",
    "\n",
    "print('eta_expr = %s'%round(eta_expr,4))"
   ]
  },
  {
   "cell_type": "markdown",
   "metadata": {},
   "source": [
    "$$ \\Delta S_u = \\Delta S_1 + \\Delta S_2 + \\Delta S_A $$"
   ]
  },
  {
   "cell_type": "code",
   "execution_count": 16,
   "metadata": {},
   "outputs": [
    {
     "name": "stdout",
     "output_type": "stream",
     "text": [
      "DS_u = 2.0452 kJ/K\n"
     ]
    }
   ],
   "source": [
    "DS_u = -DS_1 + DS_2 + DS_A\n",
    "\n",
    "print('DS_u = %s kJ/K'%round(DS_u/1e3,4))"
   ]
  },
  {
   "cell_type": "code",
   "execution_count": 35,
   "metadata": {},
   "outputs": [],
   "source": [
    "%reset -s -f"
   ]
  }
 ],
 "metadata": {
  "kernelspec": {
   "display_name": "Python 3",
   "language": "python",
   "name": "python3"
  },
  "language_info": {
   "codemirror_mode": {
    "name": "ipython",
    "version": 3
   },
   "file_extension": ".py",
   "mimetype": "text/x-python",
   "name": "python",
   "nbconvert_exporter": "python",
   "pygments_lexer": "ipython3",
   "version": "3.7.3"
  }
 },
 "nbformat": 4,
 "nbformat_minor": 4
}
