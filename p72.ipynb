{
 "cells": [
  {
   "cell_type": "markdown",
   "metadata": {},
   "source": [
    "# Ejercicio 42\n",
    "\n",
    "![e42.png](img/e42.png)\n",
    "\n",
    "__Calcular:__\n",
    "1. $\\dot{W}$\n",
    "2. Estado vapor $4$, $(P,t,x)$\n",
    "3. $\\Delta S_u$"
   ]
  },
  {
   "cell_type": "markdown",
   "metadata": {},
   "source": [
    "## Solución\n",
    "\n",
    "### Turbina\n",
    "$\\left.\n",
    "\\begin{array}{l}\n",
    "P_1 = 10,5 \\, \\mathrm{bar} \\\\\n",
    "t_1 = 250^\\circ \\mathrm{C}\n",
    "\\end{array}\n",
    "\\right\\} \\quad \\rightarrow \\quad\n",
    "\\left[\n",
    "\\begin{array}{l}\n",
    "h_1 \\\\\n",
    "s_1\n",
    "\\end{array}\n",
    "\\right]\n",
    "$"
   ]
  },
  {
   "cell_type": "code",
   "execution_count": 1,
   "metadata": {},
   "outputs": [],
   "source": [
    "# Importa biblioteca termodinámica\n",
    "import CoolProp.CoolProp as cp"
   ]
  },
  {
   "cell_type": "code",
   "execution_count": 4,
   "metadata": {},
   "outputs": [
    {
     "name": "stdout",
     "output_type": "stream",
     "text": [
      "h1 = 2941.26 kJ/kg\n",
      "s1 = 6.90124 kJ/kg·K\n"
     ]
    }
   ],
   "source": [
    "# Punto 1\n",
    "# ---------\n",
    "m1 = 1.25 # kg/s\n",
    "P1 = 10.5e5 # Pa\n",
    "T1 = 250 + 273.15 # K\n",
    "# Consultamos h1 y s1\n",
    "h1 = cp.PropsSI('H','P',P1,'T',T1,'Water')\n",
    "s1 = cp.PropsSI('S','P',P1,'T',T1,'Water')\n",
    "# Imprime resultados\n",
    "print('h1 = %s kJ/kg'%round(h1/1000,2))\n",
    "print('s1 = %s kJ/kg·K'%round(s1/1000,5))"
   ]
  },
  {
   "cell_type": "markdown",
   "metadata": {},
   "source": [
    "$\\left.\n",
    "\\begin{array}{l}\n",
    "P_2 = P_3 = P_4 = 2 \\, \\mathrm{bar} \\\\\n",
    "s_{2rev} = s_1\n",
    "\\end{array}\n",
    "\\right\\} \\quad \\rightarrow \\quad\n",
    "\\left[\n",
    "\\begin{array}{l}\n",
    "s' \\\\\n",
    "s''\n",
    "\\end{array}\n",
    "\\right] \n",
    "\\quad\n",
    "\\left[\n",
    "\\begin{array}{l}\n",
    "h' \\\\\n",
    "h''\n",
    "\\end{array}\n",
    "\\right]\n",
    "$"
   ]
  },
  {
   "cell_type": "code",
   "execution_count": 5,
   "metadata": {},
   "outputs": [
    {
     "name": "stdout",
     "output_type": "stream",
     "text": [
      "sp1 = 1.53017 kJ/kg·K\n",
      "sp2 = 7.12689 kJ/kg·K\n",
      "--------------------\n",
      "hp1 = 504.7 kJ/kg\n",
      "hp2 = 2706.23 kJ/kg\n"
     ]
    }
   ],
   "source": [
    "# Punto 2\n",
    "# ----------\n",
    "P4 = 2e5 # Pa\n",
    "P2 = P4\n",
    "s2rev = s1\n",
    "# Consultamos s', s'', h', h''\n",
    "sp1 = cp.PropsSI('S','P',P2,'Q',0,'Water')\n",
    "sp2 = cp.PropsSI('S','P',P2,'Q',1,'Water')\n",
    "hp1 = cp.PropsSI('H','P',P2,'Q',0,'Water')\n",
    "hp2 = cp.PropsSI('H','P',P2,'Q',1,'Water')\n",
    "# Imprime resultados\n",
    "print('sp1 = %s kJ/kg·K'%round(sp1/1000,5))\n",
    "print('sp2 = %s kJ/kg·K'%round(sp2/1000,5))\n",
    "print('--------------------')\n",
    "print('hp1 = %s kJ/kg'%round(hp1/1000,2))\n",
    "print('hp2 = %s kJ/kg'%round(hp2/1000,2))"
   ]
  },
  {
   "cell_type": "markdown",
   "metadata": {},
   "source": [
    "$$ x_{2rev} = \\frac{ s_{2rev} - s' }{ s'' - s' } $$"
   ]
  },
  {
   "cell_type": "code",
   "execution_count": 6,
   "metadata": {},
   "outputs": [
    {
     "name": "stdout",
     "output_type": "stream",
     "text": [
      "x2rev = 0.95968\n"
     ]
    }
   ],
   "source": [
    "# Calculamos el título 2 reversible x2rev\n",
    "x2rev = (s2rev - sp1)/(sp2 - sp1)\n",
    "print('x2rev = %s'%round(x2rev,5))"
   ]
  },
  {
   "cell_type": "markdown",
   "metadata": {},
   "source": [
    "Con el $x_{2rev}$ obtenemos la $h_{2rev}$\n",
    "\n",
    "$$ h_{2rev} = x_{2rev} (h'' - h') + h' $$"
   ]
  },
  {
   "cell_type": "code",
   "execution_count": 7,
   "metadata": {},
   "outputs": [
    {
     "name": "stdout",
     "output_type": "stream",
     "text": [
      "h2rev = 2617.47 kJ/kg\n"
     ]
    }
   ],
   "source": [
    "# Calculamos entalpía 2 reversible\n",
    "h2rev = x2rev*(hp2 - hp1) + hp1\n",
    "print('h2rev = %s kJ/kg'%round(h2rev/1000,2))"
   ]
  },
  {
   "cell_type": "markdown",
   "metadata": {},
   "source": [
    "Con el $\\eta_{iso}$ obtenemos la $h_2$\n",
    "\n",
    "$$ \\eta_{iso} = \\frac{h_1 - h_2}{h_1 - h_{2rev}} $$\n",
    "\n",
    "$$ h_2 = \\eta_{iso} (h_{2rev} - h_1) + h_1 $$"
   ]
  },
  {
   "cell_type": "code",
   "execution_count": 8,
   "metadata": {},
   "outputs": [
    {
     "name": "stdout",
     "output_type": "stream",
     "text": [
      "h2 = 2682.23 kJ/kg\n"
     ]
    }
   ],
   "source": [
    "eta_iso = 0.8\n",
    "# Obtenemos h2\n",
    "h2 = eta_iso*(h2rev - h1) + h1\n",
    "\n",
    "print('h2 = %s kJ/kg'%round(h2/1000,2))"
   ]
  },
  {
   "cell_type": "markdown",
   "metadata": {},
   "source": [
    "Luego obtenemos el título $x_2$\n",
    "\n",
    "$$ x_2 = \\frac{h_2 - h'}{h'' - h'} $$"
   ]
  },
  {
   "cell_type": "code",
   "execution_count": 9,
   "metadata": {},
   "outputs": [
    {
     "name": "stdout",
     "output_type": "stream",
     "text": [
      "x2 = 0.9891\n"
     ]
    }
   ],
   "source": [
    "x2 = (h2 - hp1)/(hp2 - hp1)\n",
    "print('x2 = %s'%round(x2,5))"
   ]
  },
  {
   "cell_type": "markdown",
   "metadata": {},
   "source": [
    "Obtenemos $s_2$\n",
    "\n",
    "$$ s_2 = x_2 (s'' - s') + s' $$"
   ]
  },
  {
   "cell_type": "code",
   "execution_count": 10,
   "metadata": {},
   "outputs": [
    {
     "name": "stdout",
     "output_type": "stream",
     "text": [
      "s2 = 7.06587 kJ/kg·K\n"
     ]
    }
   ],
   "source": [
    "# Con x2 obtenemos s2\n",
    "s2 = x2*(sp2 - sp1) + sp1\n",
    "\n",
    "print('s2 = %s kJ/kg·K'%round(s2/1000,5))"
   ]
  },
  {
   "cell_type": "markdown",
   "metadata": {},
   "source": [
    "Variación de entalpía 1-2\n",
    "$$ \\Delta H_{12} = m_1 ( h_2 - h_1 ) $$"
   ]
  },
  {
   "cell_type": "markdown",
   "metadata": {},
   "source": [
    "Variación de entropía 1-2\n",
    "$$ \\Delta S_{12} = m_1 (s_2 - s_1) $$"
   ]
  },
  {
   "cell_type": "code",
   "execution_count": 11,
   "metadata": {},
   "outputs": [
    {
     "name": "stdout",
     "output_type": "stream",
     "text": [
      "DH12 = -323.79 kJ\n",
      "DS12 = 0.20579 kJ/K\n"
     ]
    }
   ],
   "source": [
    "DH12 = m1*(h2 - h1)\n",
    "DS12 = m1*(s2 - s1)\n",
    "\n",
    "print('DH12 = %s kJ'%round(DH12/1000,2))\n",
    "print('DS12 = %s kJ/K'%round(DS12/1000,5))"
   ]
  },
  {
   "cell_type": "markdown",
   "metadata": {},
   "source": [
    "Variación de exergía 1-2\n",
    "$$ \\Delta Ex_{12} = \\Delta H_{12} - T_0 S_{12} $$"
   ]
  },
  {
   "cell_type": "code",
   "execution_count": 17,
   "metadata": {},
   "outputs": [
    {
     "name": "stdout",
     "output_type": "stream",
     "text": [
      "DEx12 = -385.53 kJ\n"
     ]
    }
   ],
   "source": [
    "T0 = 300 # K\n",
    "DEx12 = DH12 - T0*DS12\n",
    "print('DEx12 = %s kJ'%round(DEx12/1000,2))"
   ]
  },
  {
   "cell_type": "markdown",
   "metadata": {},
   "source": [
    "Rendimiento exergético de la turbina\n",
    "$$ \\eta_{ex,turb} = \\frac{W_T}{| \\Delta Ex_{12} |} $$"
   ]
  },
  {
   "cell_type": "code",
   "execution_count": 18,
   "metadata": {},
   "outputs": [
    {
     "name": "stdout",
     "output_type": "stream",
     "text": [
      "eta_extu = 0.8399\n"
     ]
    }
   ],
   "source": [
    "WT = abs(DH12)\n",
    "\n",
    "eta_extu = WT/abs(DEx12)\n",
    "print('eta_extu = %s'%round(eta_extu,4))"
   ]
  },
  {
   "cell_type": "markdown",
   "metadata": {},
   "source": [
    "### Cámara de mezcla:\n",
    "\n",
    "$\\left.\n",
    "\\begin{array}{l}\n",
    "P_3 = 2 \\, \\mathrm{bar} \\\\\n",
    "t_3 = 240^\\circ \\mathrm{C}\n",
    "\\end{array}\n",
    "\\right\\} \\quad \\rightarrow \\quad\n",
    "\\left[\n",
    "\\begin{array}{l}\n",
    "h_3 \\\\\n",
    "s_3\n",
    "\\end{array}\n",
    "\\right]\n",
    "$\n",
    "\n",
    "$$ m_2 + m_3 = m_4 $$"
   ]
  },
  {
   "cell_type": "code",
   "execution_count": 22,
   "metadata": {},
   "outputs": [
    {
     "name": "stdout",
     "output_type": "stream",
     "text": [
      "h3 = 2951.11 kJ/kg\n",
      "s3 = 7.67117 kJ/kg·K\n"
     ]
    }
   ],
   "source": [
    "# Punto 3\n",
    "# ---------\n",
    "P3 = 2e5 # Pa\n",
    "T3 = 240 + 273.15 # K\n",
    "# Consultamos h3 y s3\n",
    "h3 = cp.PropsSI('H','P',P3,'T',T3,'Water')\n",
    "s3 = cp.PropsSI('S','P',P3,'T',T3,'Water')\n",
    "# Imprime resultados\n",
    "print('h3 = %s kJ/kg'%round(h3/1000,2))\n",
    "print('s3 = %s kJ/kg·K'%round(s3/1000,5))"
   ]
  },
  {
   "cell_type": "code",
   "execution_count": 19,
   "metadata": {},
   "outputs": [
    {
     "name": "stdout",
     "output_type": "stream",
     "text": [
      "m4 = 4.25 kg/s\n"
     ]
    }
   ],
   "source": [
    "# Calculamos masa 4\n",
    "m1 = 1.25 # kg/s\n",
    "m2 = m1\n",
    "m3 = 3 # kg/s\n",
    "\n",
    "m4 = m2 + m3\n",
    "print('m4 = %s kg/s'%m4)"
   ]
  },
  {
   "cell_type": "markdown",
   "metadata": {},
   "source": [
    "$$ h_4 = \\frac{m_2 h_2 + m_3 h_3}{m_4} $$"
   ]
  },
  {
   "cell_type": "code",
   "execution_count": 23,
   "metadata": {},
   "outputs": [
    {
     "name": "stdout",
     "output_type": "stream",
     "text": [
      "h4 = 2872.03 kJ/kg\n"
     ]
    }
   ],
   "source": [
    "# Calculamos h4\n",
    "h4 = (m2*h2 + m3*h3)/m4\n",
    "\n",
    "print('h4 = %s kJ/kg'%round(h4/1000,2))"
   ]
  },
  {
   "cell_type": "code",
   "execution_count": 24,
   "metadata": {},
   "outputs": [
    {
     "data": {
      "text/plain": [
       "'gas'"
      ]
     },
     "execution_count": 24,
     "metadata": {},
     "output_type": "execute_result"
    }
   ],
   "source": [
    "# Consultamos el estado en 4 con P4 y h4\n",
    "P4 = 2e5 # Pa\n",
    "\n",
    "cp.PhaseSI('P',P4,'H',h4,'Water')"
   ]
  },
  {
   "cell_type": "code",
   "execution_count": 27,
   "metadata": {},
   "outputs": [
    {
     "name": "stdout",
     "output_type": "stream",
     "text": [
      "s4 = 7.51082 kJ/kg·K\n",
      "T4 = 473.8 K = 200.65°C\n"
     ]
    }
   ],
   "source": [
    "# Consultamos s4 y T4 con P4 y h4\n",
    "s4 = cp.PropsSI('S','P',P4,'H',h4,'Water')\n",
    "T4 = cp.PropsSI('T','P',P4,'H',h4,'Water')\n",
    "\n",
    "print('s4 = %s kJ/kg·K'%round(s4/1000,5))\n",
    "print('T4 = %s K = %s°C'%(round(T4,2),round(T4 - 273.15,2)) )"
   ]
  },
  {
   "cell_type": "markdown",
   "metadata": {},
   "source": [
    "$\\begin{array}{l}\n",
    "\\Delta S_{24} = m_2 (s_4 - s_2) \\\\\n",
    "\\Delta S_{34} = m_3 (s_4 - s_3)\n",
    "\\end{array}$"
   ]
  },
  {
   "cell_type": "code",
   "execution_count": 28,
   "metadata": {},
   "outputs": [
    {
     "name": "stdout",
     "output_type": "stream",
     "text": [
      "DS24 = 0.55618 kJ/K\n",
      "DS34 = -0.48105 kJ/K\n"
     ]
    }
   ],
   "source": [
    "DS24 = m2*(s4 - s2)\n",
    "DS34 = m3*(s4 - s3)\n",
    "\n",
    "print('DS24 = %s kJ/K'%round(DS24/1000,5))\n",
    "print('DS34 = %s kJ/K'%round(DS34/1000,5))"
   ]
  },
  {
   "cell_type": "markdown",
   "metadata": {},
   "source": [
    "### Variación de entropía del universo\n",
    "$$ \\Delta S_u = \\Delta S_{12} + \\Delta S_{24} + \\Delta S_{34} $$"
   ]
  },
  {
   "cell_type": "code",
   "execution_count": 30,
   "metadata": {},
   "outputs": [
    {
     "name": "stdout",
     "output_type": "stream",
     "text": [
      "DSu = 0.28092 kJ/K\n"
     ]
    }
   ],
   "source": [
    "DSu = DS12 + DS24 + DS34\n",
    "\n",
    "print('DSu = %s kJ/K'%round(DSu/1000,5))"
   ]
  },
  {
   "cell_type": "markdown",
   "metadata": {},
   "source": [
    "Variaciones de exergías\n",
    "\n",
    "$\\begin{array}{l}\n",
    "\\Delta Ex_{12} = m_1 (h_2 - h_1) - T_0 \\Delta S_{12} \\\\\n",
    "\\Delta Ex_{24} = m_2 (h_4 - h_2) - T_0 \\Delta S_{24} \\\\\n",
    "\\Delta Ex_{34} = m_3 (h_4 - h_3) - T_0 \\Delta S_{34}\n",
    "\\end{array}\n",
    "$"
   ]
  },
  {
   "cell_type": "code",
   "execution_count": 31,
   "metadata": {},
   "outputs": [
    {
     "name": "stdout",
     "output_type": "stream",
     "text": [
      "DEx12 = -385.53 kJ\n",
      "DEx24 = 70.4 kJ\n",
      "DEx34 = -92.94 kJ\n"
     ]
    }
   ],
   "source": [
    "DEx12 = m1*(h2 - h1) - T0*DS12\n",
    "DEx24 = m2*(h4 - h2) - T0*DS24\n",
    "DEx34 = m3*(h4 - h3) - T0*DS34\n",
    "\n",
    "print('DEx12 = %s kJ'%round(DEx12/1000,2))\n",
    "print('DEx24 = %s kJ'%round(DEx24/1000,2))\n",
    "print('DEx34 = %s kJ'%round(DEx34/1000,2))"
   ]
  },
  {
   "cell_type": "markdown",
   "metadata": {},
   "source": [
    "### Rendimiento exergético del proceso\n",
    "$$ \\eta_{ex,proc} = \\frac{W_T + \\Delta Ex_{24}}{ | \\Delta Ex_{12} + \\Delta Ex_{34} | } $$"
   ]
  },
  {
   "cell_type": "code",
   "execution_count": 32,
   "metadata": {},
   "outputs": [
    {
     "name": "stdout",
     "output_type": "stream",
     "text": [
      "eta_exproc = 0.8239\n"
     ]
    }
   ],
   "source": [
    "eta_exproc = (WT + DEx24)/abs(DEx12 + DEx34)\n",
    "\n",
    "print('eta_exproc = %s'%round(eta_exproc,4))"
   ]
  },
  {
   "cell_type": "code",
   "execution_count": 33,
   "metadata": {},
   "outputs": [],
   "source": [
    "%reset -s -f"
   ]
  },
  {
   "cell_type": "code",
   "execution_count": null,
   "metadata": {},
   "outputs": [],
   "source": []
  }
 ],
 "metadata": {
  "kernelspec": {
   "display_name": "Python 3",
   "language": "python",
   "name": "python3"
  },
  "language_info": {
   "codemirror_mode": {
    "name": "ipython",
    "version": 3
   },
   "file_extension": ".py",
   "mimetype": "text/x-python",
   "name": "python",
   "nbconvert_exporter": "python",
   "pygments_lexer": "ipython3",
   "version": "3.7.3"
  }
 },
 "nbformat": 4,
 "nbformat_minor": 2
}
