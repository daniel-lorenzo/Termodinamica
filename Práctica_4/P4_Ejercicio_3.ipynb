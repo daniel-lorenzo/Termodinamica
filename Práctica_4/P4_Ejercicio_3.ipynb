{
  "nbformat": 4,
  "nbformat_minor": 0,
  "metadata": {
    "colab": {
      "provenance": [],
      "authorship_tag": "ABX9TyNrJSGqEGOV17VoMuaPyFyW",
      "include_colab_link": true
    },
    "kernelspec": {
      "name": "python3",
      "display_name": "Python 3"
    },
    "language_info": {
      "name": "python"
    }
  },
  "cells": [
    {
      "cell_type": "markdown",
      "metadata": {
        "id": "view-in-github",
        "colab_type": "text"
      },
      "source": [
        "<a href=\"https://colab.research.google.com/github/daniel-lorenzo/Termodinamica/blob/master/Pr%C3%A1ctica_4/P4_Ejercicio_3.ipynb\" target=\"_parent\"><img src=\"https://colab.research.google.com/assets/colab-badge.svg\" alt=\"Open In Colab\"/></a>"
      ]
    },
    {
      "cell_type": "markdown",
      "source": [
        "# Problema 3\n",
        "Un recipiente rígido y adiabático contiene una masa de 40 Kg de vapor que se encuentra a 80 °C.\n",
        "Si el 37,5 % de la masa está en fase liquida y el resto como de vapor.\n",
        "\n",
        "**Determinar**:    \n",
        "a) Título.    \n",
        "b) Presión del recipiente.    \n",
        "c) Volumen del recipiente.    "
      ],
      "metadata": {
        "id": "mZmTDIEaNe_h"
      }
    },
    {
      "cell_type": "code",
      "source": [
        "!pip install CoolProp; # (instala biblioteca CoolProp en CoLab)\n",
        "import CoolProp.CoolProp as cp;"
      ],
      "metadata": {
        "id": "UGOwscC9N3rG"
      },
      "execution_count": null,
      "outputs": []
    },
    {
      "cell_type": "markdown",
      "source": [
        "## Solución"
      ],
      "metadata": {
        "id": "ftC8SuItNxJa"
      }
    },
    {
      "cell_type": "markdown",
      "source": [
        "Datos:   \n",
        "$m = 40 \\; \\mathrm{kg}$    \n",
        "$t = 80^\\circ \\mathrm{C}$"
      ],
      "metadata": {
        "id": "z3xOIGVl19Pm"
      }
    },
    {
      "cell_type": "markdown",
      "source": [
        "### Título $x$\n",
        "$$x = 1 - (37,5/100)$$"
      ],
      "metadata": {
        "id": "YU0u6ewU2hd2"
      }
    },
    {
      "cell_type": "markdown",
      "source": [
        "$$\\color{red}{x = 0,625}$$"
      ],
      "metadata": {
        "id": "U5oaf9M82qKA"
      }
    },
    {
      "cell_type": "markdown",
      "source": [
        "### Presión del recipiente\n",
        "$$\\color{red}{P = 47,36 \\; \\mathrm{kPa}}$$"
      ],
      "metadata": {
        "id": "tD_LLS6u22m6"
      }
    },
    {
      "cell_type": "markdown",
      "source": [
        "### Volumen del recipiente\n",
        "\n",
        "$v' = 0,0010292 \\; \\mathrm{m^3/kg}$   \n",
        "$v'' = 3,4091 \\; \\mathrm{m^3/kg}$"
      ],
      "metadata": {
        "id": "kK8p2Chu3fAN"
      }
    },
    {
      "cell_type": "markdown",
      "source": [
        "$$v = v' + x(v'' - v')$$"
      ],
      "metadata": {
        "id": "lw6hqp2734cz"
      }
    },
    {
      "cell_type": "markdown",
      "source": [
        "$$v = 0,0010292 + 0,625(3,4091 - 0,0010292)$$"
      ],
      "metadata": {
        "id": "hmXcWKiX3-2y"
      }
    },
    {
      "cell_type": "markdown",
      "source": [
        "$$v = 2,13107 \\; \\mathrm{m^3/kg}$$"
      ],
      "metadata": {
        "id": "km-51s0W4K77"
      }
    },
    {
      "cell_type": "markdown",
      "source": [
        "Entonces\n",
        "$$V = m v$$"
      ],
      "metadata": {
        "id": "dHdWnNDC4qDE"
      }
    },
    {
      "cell_type": "markdown",
      "source": [
        "$$V = \\mathrm{(40 \\; kg)(2,13107 \\; m^3/kg)}$$"
      ],
      "metadata": {
        "id": "mrJqC2BK4xBn"
      }
    },
    {
      "cell_type": "markdown",
      "source": [
        "$$\\color{red}{V = 85,2429 \\; \\mathrm{m^3}}$$"
      ],
      "metadata": {
        "id": "mUvS8pTR4_kj"
      }
    },
    {
      "cell_type": "markdown",
      "source": [
        "Usando python"
      ],
      "metadata": {
        "id": "MJXT_JQy5cUX"
      }
    },
    {
      "cell_type": "code",
      "execution_count": null,
      "metadata": {
        "id": "BTYUpBsWNYPL"
      },
      "outputs": [],
      "source": [
        "# Datos:\n",
        "m = 40           # [kg]\n",
        "T = 80 + 273.15  # [K]\n",
        "x = 1 - (37.5/100)"
      ]
    },
    {
      "cell_type": "code",
      "source": [
        "#@title a) Título x\n",
        "print(\"x = %.4f\"%x)"
      ],
      "metadata": {
        "colab": {
          "base_uri": "https://localhost:8080/"
        },
        "cellView": "form",
        "id": "j6YIuQ5hOgl2",
        "outputId": "2476f4e0-bffa-4907-def9-9a874acbf62e"
      },
      "execution_count": null,
      "outputs": [
        {
          "output_type": "stream",
          "name": "stdout",
          "text": [
            "x = 0.6250\n"
          ]
        }
      ]
    },
    {
      "cell_type": "code",
      "source": [
        "P = cp.PropsSI('P','T',T,'Q',x,'Water')"
      ],
      "metadata": {
        "id": "QFstnhz4Onf-"
      },
      "execution_count": null,
      "outputs": []
    },
    {
      "cell_type": "code",
      "source": [
        "#@title b) Presión del recipiente\n",
        "print(\"P = %.2f [kPa]\"%(P/1000))"
      ],
      "metadata": {
        "colab": {
          "base_uri": "https://localhost:8080/"
        },
        "cellView": "form",
        "id": "7-O7abEaP7fo",
        "outputId": "629dd666-0241-4b38-c057-b70dbae57e81"
      },
      "execution_count": null,
      "outputs": [
        {
          "output_type": "stream",
          "name": "stdout",
          "text": [
            "P = 47.41 [kPa]\n"
          ]
        }
      ]
    },
    {
      "cell_type": "code",
      "source": [
        "v = 1/cp.PropsSI('D','T',T,'Q',x,'Water')\n",
        "V = m*v"
      ],
      "metadata": {
        "id": "FkIhCObEQJJS"
      },
      "execution_count": null,
      "outputs": []
    },
    {
      "cell_type": "code",
      "source": [
        "#@title c) Volumen del recipiente\n",
        "print(\"V = %.2f [m^3]\"%V)"
      ],
      "metadata": {
        "colab": {
          "base_uri": "https://localhost:8080/"
        },
        "cellView": "form",
        "id": "gppxKlnJQcZO",
        "outputId": "bdc492ed-29e7-4d25-c90d-cdffcbe2300d"
      },
      "execution_count": null,
      "outputs": [
        {
          "output_type": "stream",
          "name": "stdout",
          "text": [
            "V = 85.14 [m^3]\n"
          ]
        }
      ]
    }
  ]
}