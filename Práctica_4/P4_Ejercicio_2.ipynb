{
  "nbformat": 4,
  "nbformat_minor": 0,
  "metadata": {
    "colab": {
      "provenance": [],
      "authorship_tag": "ABX9TyPnt2QsJ+s+D7ueiGl878I0",
      "include_colab_link": true
    },
    "kernelspec": {
      "name": "python3",
      "display_name": "Python 3"
    },
    "language_info": {
      "name": "python"
    }
  },
  "cells": [
    {
      "cell_type": "markdown",
      "metadata": {
        "id": "view-in-github",
        "colab_type": "text"
      },
      "source": [
        "<a href=\"https://colab.research.google.com/github/daniel-lorenzo/Termodinamica/blob/master/Pr%C3%A1ctica_4/P4_Ejercicio_2.ipynb\" target=\"_parent\"><img src=\"https://colab.research.google.com/assets/colab-badge.svg\" alt=\"Open In Colab\"/></a>"
      ]
    },
    {
      "cell_type": "markdown",
      "source": [
        "# Problema 2\n",
        "Una masa de agua líquida saturada de 5 Kg se evapora totalmente a una presión constante de 500 kPa.\n",
        "\n",
        "**Determinar:**    \n",
        "a) Variación de volumen.    \n",
        "b) Energía mecánica intercambiada.    \n",
        "c) Energía térmica intercambiada."
      ],
      "metadata": {
        "id": "OHqk5Y1CKamS"
      }
    },
    {
      "cell_type": "code",
      "execution_count": null,
      "metadata": {
        "id": "xtlvZ2KUKIaq"
      },
      "outputs": [],
      "source": [
        "!pip install CoolProp; # (instala biblioteca CoolProp en CoLab)\n",
        "import CoolProp.CoolProp as cp"
      ]
    },
    {
      "cell_type": "markdown",
      "source": [
        "## Solución"
      ],
      "metadata": {
        "id": "4Ue6kCoPKmiR"
      }
    },
    {
      "cell_type": "markdown",
      "source": [
        "Datos:    \n",
        "$m = 5 \\; \\mathrm{kg}$   \n",
        "$P = 500 \\; \\mathrm{kPa}$"
      ],
      "metadata": {
        "id": "LxWrXNOfsPXA"
      }
    },
    {
      "cell_type": "markdown",
      "source": [
        "Variación de volumen"
      ],
      "metadata": {
        "id": "Yx0l3WrzxOXJ"
      }
    },
    {
      "cell_type": "markdown",
      "source": [
        "$v' = 0,001093 \\; \\mathrm{m^3/kg}$   \n",
        "$v'' = 0,3747 \\; \\mathrm{m^3/kg}$"
      ],
      "metadata": {
        "id": "Su2VzF5mwSgN"
      }
    },
    {
      "cell_type": "markdown",
      "source": [
        "$$\\Delta V = m (v'' - v')$$"
      ],
      "metadata": {
        "id": "Gocdv5yZxTnK"
      }
    },
    {
      "cell_type": "markdown",
      "source": [
        "$$\\Delta V = \\mathrm{(5 \\; kg)(0,3747 \\; m^3/kg - 0,001093 \\; m^3/kg)}$$"
      ],
      "metadata": {
        "id": "bzMWS0cYxdzX"
      }
    },
    {
      "cell_type": "markdown",
      "source": [
        "$$\\color{red}{\\Delta V = 1,868035 \\; \\mathrm{m^3}}$$"
      ],
      "metadata": {
        "id": "BeF9y1zFxopV"
      }
    },
    {
      "cell_type": "markdown",
      "source": [
        "Energía mecánica intercambiada"
      ],
      "metadata": {
        "id": "EQkggNHr0-2Q"
      }
    },
    {
      "cell_type": "markdown",
      "source": [
        "$$W_{\\Delta V} = P \\Delta V$$"
      ],
      "metadata": {
        "id": "CSvQ0YG3uXoq"
      }
    },
    {
      "cell_type": "markdown",
      "source": [
        "$$W_{\\Delta V} = \\mathrm{(500 \\; kPa)(1,868035 \\; m^3)}$$"
      ],
      "metadata": {
        "id": "YkuzPN88yO3K"
      }
    },
    {
      "cell_type": "markdown",
      "source": [
        "$$\\color{red}{W_{\\Delta V} = 934,02 \\; \\mathrm{kJ}}$$"
      ],
      "metadata": {
        "id": "S1uKbyBVv7t5"
      }
    },
    {
      "cell_type": "markdown",
      "source": [
        "Primer principio\n",
        "$$Q = \\Delta U + W_{\\Delta V} $$"
      ],
      "metadata": {
        "id": "k4DFu2m2w1Lb"
      }
    },
    {
      "cell_type": "markdown",
      "source": [
        "$u' = 639,57 \\; \\mathrm{kJ/kg}$    \n",
        "$u'' = 2560,20 \\; \\mathrm{kJ/kg}$"
      ],
      "metadata": {
        "id": "nKbPEDmXzWdD"
      }
    },
    {
      "cell_type": "markdown",
      "source": [
        "$$\\Delta U = m (u'' - u')$$"
      ],
      "metadata": {
        "id": "4PoOJ_dgzrA6"
      }
    },
    {
      "cell_type": "markdown",
      "source": [
        "$$\\Delta U = \\mathrm{(5 \\; kg)(2560,20 \\; kJ/kg - 639,57 \\; kJ/kg)}$$"
      ],
      "metadata": {
        "id": "r1yNZhE8zymp"
      }
    },
    {
      "cell_type": "markdown",
      "source": [
        "$$\\Delta U = 9603,15 \\; \\mathrm{kJ}$$"
      ],
      "metadata": {
        "id": "1r4domL40Cgz"
      }
    },
    {
      "cell_type": "markdown",
      "source": [
        "Energía térmica intercambiada\n",
        "$$Q = \\mathrm{9603,15 \\; kJ + 934,01 \\; kJ}$$"
      ],
      "metadata": {
        "id": "4nt6J6QB0XXf"
      }
    },
    {
      "cell_type": "markdown",
      "source": [
        "$$\\color{red}{Q = 10537,17 \\; \\mathrm{kJ}}$$"
      ],
      "metadata": {
        "id": "SHgjQDpB0mPx"
      }
    },
    {
      "cell_type": "markdown",
      "source": [
        "Usando python y coolprop"
      ],
      "metadata": {
        "id": "1f3gS7Od1gFC"
      }
    },
    {
      "cell_type": "code",
      "source": [
        "# Datos:\n",
        "m = 5     # [kg]\n",
        "P = 500e3 # [Pa]"
      ],
      "metadata": {
        "id": "HIA38IhdK8Qc"
      },
      "execution_count": 2,
      "outputs": []
    },
    {
      "cell_type": "code",
      "source": [
        "# Volumen inicial\n",
        "v_i = 1/cp.PropsSI('D','P',P,'Q',0,'Water')\n",
        "V_i = m*v_i\n",
        "# Vollumen final\n",
        "v_f = 1/cp.PropsSI('D','P',P,'Q',1,'Water')\n",
        "V_f = m*v_f\n",
        "# Variación de volumen\n",
        "ΔV = V_f - V_i\n",
        "# Trabajo por variación de volumen\n",
        "W_ΔV = P*ΔV\n",
        "# Energía térmica intercambiada\n",
        "h_i = cp.PropsSI('H','P',P,'Q',0,'Water')\n",
        "h_f = cp.PropsSI('H','P',P,'Q',1,'Water')\n",
        "\n",
        "Q = m*(h_f - h_i)"
      ],
      "metadata": {
        "id": "G9J33IIZLF3Q"
      },
      "execution_count": 3,
      "outputs": []
    },
    {
      "cell_type": "code",
      "source": [
        "#@title Resultados:\n",
        "print(\"ΔV = %.4f [m^3]\"%ΔV)\n",
        "print(\"W_ΔV = %.2f [kJ]\"%(W_ΔV/1000))\n",
        "print(\"Q =  %.2f [kJ]\"%(Q/1000))"
      ],
      "metadata": {
        "colab": {
          "base_uri": "https://localhost:8080/"
        },
        "cellView": "form",
        "id": "yvUeBU9DMlYQ",
        "outputId": "afef5e0b-9b6b-4800-ab61-86030a154b5a"
      },
      "execution_count": 4,
      "outputs": [
        {
          "output_type": "stream",
          "name": "stdout",
          "text": [
            "ΔV = 1.8686 [m^3]\n",
            "W_ΔV = 934.28 [kJ]\n",
            "Q =  10540.12 [kJ]\n"
          ]
        }
      ]
    }
  ]
}