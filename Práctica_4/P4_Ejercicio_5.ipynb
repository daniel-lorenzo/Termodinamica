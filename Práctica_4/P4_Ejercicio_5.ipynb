{
  "nbformat": 4,
  "nbformat_minor": 0,
  "metadata": {
    "colab": {
      "provenance": [],
      "authorship_tag": "ABX9TyPOQQDI/Veia84vbQleXAoz",
      "include_colab_link": true
    },
    "kernelspec": {
      "name": "python3",
      "display_name": "Python 3"
    },
    "language_info": {
      "name": "python"
    }
  },
  "cells": [
    {
      "cell_type": "markdown",
      "metadata": {
        "id": "view-in-github",
        "colab_type": "text"
      },
      "source": [
        "<a href=\"https://colab.research.google.com/github/daniel-lorenzo/Termodinamica/blob/master/Pr%C3%A1ctica_4/P4_Ejercicio_5.ipynb\" target=\"_parent\"><img src=\"https://colab.research.google.com/assets/colab-badge.svg\" alt=\"Open In Colab\"/></a>"
      ]
    },
    {
      "cell_type": "markdown",
      "source": [
        "# Problema 5\n",
        "Luego de abrir la vávula y una vez alcanzado el equilibrio, determinar:\n",
        "\n",
        "a) Estado final del vapor (P, T, y/o x).    \n",
        "b) Trabajo útil o neto."
      ],
      "metadata": {
        "id": "ObzKj4c59EBe"
      }
    },
    {
      "cell_type": "markdown",
      "source": [
        "![image.png](data:image/png;base64,iVBORw0KGgoAAAANSUhEUgAAAm0AAADkCAIAAABFSYTQAAAAA3NCSVQICAjb4U/gAAAgAElEQVR4Xu2dB5hURfa3mQTDADPkjDAgkqOAIIKoKBiQNSAmRIwLq6h/BEVRdF1FxYAJwyoIijmLgKKorAICAqIsKpIEJMchwwzfq+Xer+3bfaen53b37e5fPzw80xVOVb3Vdc+tU+GkHDlypIQ+IiACIiACIiACYRFIDSuXMomACIiACIiACPxOIF0YRCAZCOTl5eXn55uWpqamZmVlpadH5Md/+PDh7du3V6lSxZS1c+fO0qVLlyxZMn4h79279+DBgwHrn52dDcyAUWEEUgpllS9f3i8vSHft2lWxYkW7zIBRJM7IyAC7b3o6AtubXbhdpkJEoKgEXBsDRS1Y6UUgmgS6dOlS4X+fnJwcFFuLFi3efvtt1+swfPjwPn36WGIrVar0yiuvuF5KNAVec801Fjq/P3799VdXarJp06bevXvzcoP81q1bz50714jl1Wfw4MFlypQBY8OGDb/66iurOIeoli1b3nTTTb4Vu//++9Ggjz32mCu1lRAR8CMgPaqfRLIQOOmkkz7/4zNjxoz33nuvWrVqF1xwwfz5891qP9OdkSNHPvTQQ24J9Iic22+/3XDjf6p09dVXW1+rV6/uSiUvvfTS1atXL168GIWKFjz99NOZUyL57rvvfuONN6ZPn/7bb7+dcMIJZ5111ubNm02JDlF+VRo1ahQvNw888AC940ptJUQE/Akw+PURgYQn0KpVq759+/o2E0NfZmYmExcrEHvs0qVL9+/fHwaNFStWdOrUCdtj27ZtTzzxREtCWlra+PHjkYlkdINd8rp163744QfUg2/UoUOH+Lrhj489SwxDeHyglgJWIGx6W7ZsqV279tSpU43YtWvXUsqHH34IBCwHjz/+uAnH6lu1alVmlnx1iCK2bt261157rcl17733pqSkMBMNWGcFioArBDQf9X+x0PckIcDaHnqUBTbau3LlylNPPRWjIsZeTIioCgMBJcc0yP4hvR+ln376qU2bNkuWLGnfvr1f1GeffYaeQJFXrlyZWZEVi5WycePGderUQfWyntqzZ0/UrYllee+2224jV40aNRYuXOjxHglIL3R0AF+zZg3NN83krYI/aPv333/Pu063bt0sJscff7wx7TpE+bK677777rjjjmeffRbjsMcZqnpxTSAiWy3imogqnwwEeAl9+umnd+zYwbopk5sePXowlUQf8PieNGnSFVdcgc7DgMlele7du9uBsGLnF4gasDSBXxRTK8zITFLfeecd5sQNGjQ4//zzmV2dd955GDAXLFhAKVOmTDn77LOxYV522WUm+9ixY/nKKiAK2F4B74QEo0frQkRntWXWrFmsWI8bNw4zLKukcCOKHrES8FZBGr6aOWvAKCsxM9ERI0ZcdNFF9KN3cKkmiUnAlVmthIiAxwmgjZhuHvvHh2c0FkLG87nnnku1P/roI/5mcc5qwsUXX9ysWbPwWoRF0c+ue+edd1qi2IJ08skn83X37t0TJkxYv369FYVWYM3PfKU+N9xwQ3gViGguKuZn13WR3qOPPsqKNV3DK8XWrVtfffVVimMHr9UijPCNGjXiq0MUsdh1EcKcnjcb7OpffvllRJlIuAhoPpqYr0dqlZ1AzZo12ahCOEc1WHjr0KEDK5p8ZeUSAy8WXSsLUcwF+Ypd8aWXXrKLQtEGPIZhT0lIu3btrHBU+FNPPcVXZrToVLbystFp2bJlaHGWSAsKCqyUmHwDSis0EEv1rbfeGjBZ165dUVEBo8IODEYvDHQ3/vFhqxEvPcOGDTOdxcTdOsFy4MABYwmgv6hwwCjTECwNb731FtP9jh07XnLJJYsWLcJ6HHYblVEEnAlIjzrzUWziEGjevPldd91lbw9v02xFMf+bWPQZsxn+RhmMGTPGnsXYge3hAUN8T1gi2RxjZc9R586d2ZuDjRetzEaYXr16+WYvW7ZsQGleCwxGr0joWBg2qpHWMZUEBZNIZvZ8ZacVLz2m1Rs3bsS0y9+1atUKFmVSYh43bwxY6Vl+HjBgwAcffOA1dKpPwhCQHk2YrlRDwiTQtGnTffv2sXWFExdGBOcXzXTwqKOO+uWXX8KU+79sSD7zzDPNt3nz5pmJL2ulbKhhRbZevXpEoUjM1txilkV27peI5tmbYPRCRwdtZo3ffvstG7VM89mjZPZ8Mfv8+uuvseUSzivInDlzBg4cyN8wDBZlJGDONX/Qj6NHj77uuut4H2KyW3y8kiACdgLar2tnopDkIsBOXc74c9vAqlWrMIqybIlR1zyvXQHxyCOPsOeWaeiLL77I3hme6YhFT/A/RlH+Z+pG6ehy1gJdKTGaQopPj/kimpL1YCzbUHrmmWfYdTVo0CBmqEwrMSGwCxoTLpuPtm3bxsyS1jlE2dv+j3/8AwPvLbfcgqq2xypEBFwgoCViEUgGAvbzo76tZoWSKRHDickcVkRzSDE8LPZ9RmgIc4MS9/WwlcaIRWFgzsWezLodJ3CGDh3KV9YvTSw1YV02vApENBcVs58fLT49Tg3BHxqlSpXi4iFUqWkFtzka8yxmdu7NmDx5stU6hyjf86MmPXN9ThYdffTRAY/wRpSYhCcDgd+XhVzQxhIhAvFPgEtzeDpjaOVp7m5rmGsy2cXU6Xdghl2pbKuhRL/LYN0tPTrSik8Pbcc25vr16/vd2Uu46RezaO3bHIeo6LRapYgABKRH9TMQAREQAREQgfAJaH00fHbKKQIiIAIiIALSo/oNiIAIiIAIiED4BKRHw2ennCIgAiIgAiIgParfgAiIgAiIgAiET0B6NHx2yikCIiACIiAC0qP6DYiACIiACIhA+ASkR8Nnp5wiIAIiIAIiID2q34AIiIAIiIAIhE9AejR8dsopAiIgAiIgAtKj+g2IgAiIgAiIQPgEpEfDZ6ecIiACIiACIiA9qt+ACIiACIiACIRPQHo0fHbKKQIiIAIiIALSo/oNiIAIiIAIiED4BKRHw2ennCIgAiIgAiIgParfgAiIgAiIgAiET0B6NHx2yikCIiACIiAC0qP6DYiACIiACIhA+ASkR8Nnp5wiIAIiIAIiID2q34AIiIAIiIAIhE9AejR8dsopAiIgAiIgAtKj+g2IgAiIgAiIQPgEpEfDZ6ecIiACIiACIiA9qt+ACIiACIiACIRPQHo0fHbKKQIiIAIiIALSo/oNiIAIiIAIiED4BKRHw2ennCIgAiIgAiIgParfgAiIgAiIgAiET0B6NHx2yikCIiACIiAC0qP6DYiACIiACIhA+ATSnbPu3LXn9clfOqdRbIIRaNkkt2ObJgnWKDVHBERABCJEoBA9um1n3ujn3oxQ2RLrTQJX9e0pPerNrlGtREAEPEigED1qaly7WZecavU8WHtVyXUCS2e+5rpMCRQBERCBBCag9dEE7lw1TQREQAREIOIEpEcjjlgFiIAIiIAIJDAB6dEE7lw1TQREQAREIOIEpEcjjlgFiIAIiIAIJDAB6dEE7lw1TQREQAREIOIEpEcjjlgFiIAIiIAIJDCBkM69JHD71TQRSAYCK9ds2LNvfzK0VG10kUDpUiUb1K3posBEFSU9mqg9q3aJwP8ncOcjE+csXCoiIhAKgZJZZfnXqXHN26+7KJT0SiM9qt+ACCQFgVJlylfNbZkUTVUjwyJw6OC+Lau+P3xwf9VatVPKVR77ryvDEpOMmaRHk7HX1eYkJJBeMjO7at0kbLiaXCiBI0dKbP/t560rv0tLKTHw8t7lqtV5afqiQnMpgUVAelQ/BhEQARFIXgL7dm3duGzunp1bunVqdef1l9SpWWXiJwuTF0dYLZceDQubMomACIhAnBPIP3Rw06rF29f9WKVizsjhV53To3OcNyhm1ZcejRl6FSwCIiACMSGAIXfnhuWbli8oKDjU75zuQ646L6t0qZjUJDEKdV+P5h8+WIJe0sczBFLTMlJSdVDYM/2hiohATAnsy9u64ee5e3du6dSmyV039at/VI2YVicRCndfj/48652Cw4cSgU2itEFu7xKlJ9UOESgWAcuQW7lCzl0y5BaL5V8yu69HEd+5XbOeJ7Zzr5KSFCaBrdt3jRn3bpiZlU0ERCBRCPxpyF2xoCBfhlz3OzUierRJgzoX9urmfmUlsYgEuMVGerSIzJS8xIaf5+3Zvi4lJUUsEoZA/qFDBw/s69K++R2DL8mtUz1h2uWRhkREj3qkbaqGCIhAGAQOH9pXMrXgjG7tw8irLFEjsHrtxh279zgX1+CoGmWzSps0J7Rv1qOrzITOwMKMlR4NE5yyiUACE2D97J4h/RO4gQnQtMF3jf1m0U9pGRkB21JQUJB/+NDwgRd2atskYAIFukhAetRFmBIlAiIgAtEjkFk2J7f9WQHL27Nz86pvpwWMUqDrBHQcwnWkEigCIiACIpBEBKRHk6iz1VQREAEREAHXCUiPuo5UAkVABERABJKIgPRoEnW2mioCIiACIuA6AelR15FKoAiIgAiIQBIRkB5Nos5WU0VABERABFwnID3qOlIJFAEREAERSCIC0qNJ1NlqqgiIgAiIgOsEpEddRyqBIiACIiACSURAejSJOltNFQEREAERcJ2A9KjrSCVQBERABEQgiQhIjyZRZ6upIiACIiACrhOQHnUdqQSKgAiIgAgkEQHp0STqbDVVBERABETAdQLSo64jlUAREAEREIEkIiA9mkSdraaKgAiIgAi4TkB61HWkEigCIiACIpBEBKRHk6iz1VQREAEREAHXCUiPuo5UAkVABERABJKIQCz1aF5e3o7/fXbt2nX48OGA4Hf/8fGL2rlz58GDBwOmDyUQgYcOHbKnpA6bN2+2h5uQYhYaTGzxwwMiKr7YmEvYvnP34LvGbtuRF/OaBKvA6nWbhj84LliswhnXe/futXNg9DH0CwoKSGA9BAKmLM6gCzicCdy2bZu9SoTYo6hbwAdFwOzhBRZKIDyx0c8V4vO8mBWz95El0CHKpAn2Wyp+zWOpR7t06VLhf5+cnJySJUu2aNHi7bff9gW9Z8+eGjVqVK1alR+0b3i1atUmTpwYXpd8//33lStXfv311+3Zhw8f3qdPH3u4CalUqdIrr7wSLDZW4cEQxao+7pY79Yt5p/Ub/v702e6KLb60Q4cOPznh/dP73zbr26XFl5aoEi644ILWrVvbWzdy5Mj69evzKtyyZUvrIVCmTBn+HjRo0L59+6wsxRnpfsM5Pz9/8ODBlMJAbtiw4VdffWWVEjCK5zL1sZ5IS5cuff755+1tKWZIoQSKKT9q2UN5nhdamV9//bX6Xz9PP/20yRWwjwqN8i0x2G+p+DWPpR6lhSeddNLnf3xmzJjx3nvv0U4G3vz5863Go+3QeXwmTJjgS2TEiBFt27YttFfsCQ4cOHDJJZfwv1/UkSNHGNsPPfSQPYvHQ4Ih8ni1Q6/env2Hbr73uSuGPrxu49bQc0U05aL/Lj/7qpGPjX+voETakYiWFOfCr7zyymXLln3zzTe+7WAa+vLLLzMMMzMzCe/Vq5d5CEybNo1x/eKLL958881W+vBGesDhfPfdd7/xxhvTp0//7bffTjjhhLPOOssyPjlEWTW5/vrrfVWviz3jTMDFgiItqtDneaEVWLBgwZYtW+65555//e9DT5lcDn3kEFVoiSZBMWueHmIxEUrGRLNbt26WcP5GlTLna9eunQkcN25cz549GW/PPPPMDTfcYKXkTTM1NZyXADJSqF9zVq5cyaj+6aefQtHN6GDS16pVq1y5cr5yGJzbt2+n/mh9K5xX2vT09I0bNxJClF+5rnwNhsgV4V4QUiW3dWpa+pzvvu152W3X9+995YU908Lqelfasm//wScnvv/8q9PSS5U+qmW3XZvXlCjY6YrkhBTSu3dvhsOkSZOOO+44q4G8NK9Zs+aqq64yITVr1rQeAj169FixYsU777zz1FNPmdgwRnrA4cxIfPzxx3lAd+3aFcnPPffclClTGDu33HJLsKghQ4ZYdUb3o5v5MCtKS0sjfP/+/atXr+YhQP2L2XfOBIopPJrZC32eF1qZRYsWNWvW7Oqrr/ZLGayPHLqPKIfirK5MSUkhWaE1D/h4t+SHo4ocKlfMqOzsbFQmyIycn3/++euvv/7b3/522WWX/fjjj7y0WvIxzrzwwgt8XbduHS8s9g9jyV6Zzz77jHktL7x+UWjQNm3aLFmypH379vZcviFIqF27dqtWrXg6PPDAAyaKt9TGjRvXqVMHNVylShUUP2PMRGVkZNx2221kwTq9cOFCZ+FhxDogCkOaZ7OUr9GgfvuzSubUGP3cm+dc888lP6+OSVW//GZxj37D//3a1PI1j27QoVe5ynViUo04KpTFmn79+mEysQY1lWcM8qLMIArYENYpfDWTGelFGuYBhzOrOSyPWQqbgXn88ceb+aVDlFXD0047DfXPWlKpUqUIfPDBBytWrHjssceaUb98+fKAbQkv0I9AeEK8kMt6nofefehRHsI8vTFO/PLLL1YrHPrIISoYBOwQrCGeeOKJrIwGTOOriRwe71beGM9HfdvACwKmcNZBsVabcN4WGVHdu3fnBZBVBKakzL79ml26dGkS2Fkw/PwCmSz279+f91y0ml8Umo+PXYg95MMPP8T+TAfwyty3b98GDRqcffbZ55133umnn45FgsrwkksI5iN0v8k+duxYvvIaG+zBYS8l9JBQEIUuzcsp00tl1WneNW/L2uU/f3PuwH9e1bfn4Mv/VqpkRnTqvDNvz0PPvfXah19klSuf27ZH6ewq0Sk3AUrBtPvoo49iTWWM0Bz2xDF2CLGa9t///pehzVeWS3mMvv/++wwxv4aHPszJGHA4r127lijfsc+r7axZswh0iLKqMXnyZOqPFerZZ5/l5ZW5zieffHLqqadihDz55JOZNDPG/eoc+tdQCIQuzSMpfZ/noXcfPwAelcDkfQW2F1988fjx43kbc+gjh6iAKLZu3YrKYMLDw7xs2bL2NL415zfp/Hg32WOsR/ktGhMu7Jg4b9q06dxzzzU7fQh56aWX0EbGijJgwIBhw4Zt2LCBRWjflvNWeNddd9lZ2EOuvfZaTDoXXnihPSr0EGzL5pUWuFQVxc/oGj16NK+rWVlZyDnzzDPR/atWrbJkXn755eecc07oRYSeMkREoQv0fspylWtnla+6afnC516ZMvXzefcOHdCpbZNIV5u9Tnc+MnHn7r2V6zarmts6JXZW5Ui3NBLyMdN17NiRBVGjR998800saRdddJFVFi+g2HL5ypyVR2e9evXsG3dDH+bBmsAkjyizImvS8LexGzlEWdJIzIOINRpe0Kkk4YxxtvJil5o6dSqz22DlhhIeCoFQ5MQ8jcPzPJSnNN0BZ+ZRTzzxBH8wJ8EYyY4w8jr0kUOUHQizKd5+WGLjdQ3tbiUIVnOEOz/ejYQY61FUDqv9VIXFTrbsdujQoVOnTqZm/DrRrAwws+mAlwh+tdhyb7/9dl862GpQt3ZevMgw9qxwTEmzZ8/GAmBPWaQQa+GWXGxEZHbLuELxs6bL9ii2VCxevBijAaspllhMvkUqIvTEISIKXWBcpExLL1mj0XE51eqt/2lO/yGje5/aacR1F+dk+5sfXGnLug1bRjw84at5P5QrX61B+5NLlclxRWyyCWFKygsoM1Fe/xmJ7CX03Vtw6aWXmvkoWEhz0003sar6ww8/HHPMMRaoEIe5A1ijQZleWE9PNjoYq5VDVECBvBacf/7511xzDQuop5xyCu/TxXw7D4VAwJp4LTDY8zzE7qMjWL+zGnXGGWfwvsXcFD3q0EcOUXY+d9xxB78Bnti+SpRkwWpe6OPdFBFjPdq8efNg7ylYLLGi8Opqpu1Ul3HF7oBbb73VzFBNA+ihMWPG2HmxYcFXj6LwsBhTnJWSHfDsYv/iiy/seR1CfDc3oSyZEXL8q3PnzrzmMLRQ3o899hi773wlBDQdOBQRelSIiEIXGEcps8pXy2135pZfl7z/6Zz/zFty902X9uj65940V1rBtpI3Pvpy1NjXD+YX1GjYvkLtxn9sR9AnHAKoGbQj1lr2McycOfO+++4LJoXBcu+99zIweUf006OhDPNgYgnnYcL/GLR4XzfJ2P2Hadc5KqBAHgLMqr/77jsMgyzjsVrESPTdvREwV4iBwQiEmD22yYI9z0N8StsrX7duXX4Jzn3k0LN2gawMDhw4kBc1VClPbCtBsJoX+ng3EmKsR+3tNCFM6ViQYDH/xhtvtNJ88MEHtJ/Jvq+iOuqoo3yXo4MJZBO17+FrXnPQebzvBEsfLJwZLZZbEztv3jwWq1ns4d2ZhXHsUYRjmmCsYmEPJsGt8NARuVWi1+SwibdqbqvsKkdt+GnOdXc+1a1Tq38N6V+tcoXi1/OnFWtve3D84h9XlKtUu36j4zIyf7fY6xM2AXQDc1B2G7FNt0mTJmzwcRBlbLxs9PBNE+IwdxDLUGVuwb7FRo0akYyX4Dlz5vBI5W+HKF+BZmMnIViePvroI47JseOBYzmsmP79739nTcp+EMChPg5RAQk4pPd+VIjdx/koVs2+/PJLDJOmUVi8WRdw7qMQu88IZD2O/SssF3JMmW0urJI60wvx8e5RPYqplh+67yIKrUXtsTjKkqTfhM8ZhIll/dI3GZIxzoShRx955BFmumx6ooa8jb777rtGLGe00aO8dnHIjFPk9gWeUCpZpDSuIypS6d5JnFm2Qr22Pbet/ek/cxf2vOz2WwZe0PesE61HXlHrefhw/rg3Pn50/LupqRm1mhzPPuGiSlD6gAQ45cJUAA2BjdcvAQuNZmMRb58YnxhiPN1YGAsoJ+xArH88PbF+cQKHJTfse7xYs+sCgQ5RvsWxAYKdwGYjDHKoJOoTI+HcuXNZb/O1fhW1ktEhUNRaRT89hybYCPZ///d/3H3BXRlYH3lfYcbv3Echdp9vc9jmhth//OMfhe4O4yIOMhb6ePeoHmWPFprP78Ali/yMBK5KCHimJTq9ziyWxwGaksow4Jkfo+8JZJLKQGIFl91MfGVoRbo+hSLKzc2NdB28Ij8lpWKdxmUr117/0+w7Hp7w7iez7h92RW6dv+xHC6Wq3/6wbPgD41euWZ9dtW7NRselZfx+wkEfVwiw74HN7ZiOrH3sltiP//jwFXspT08GPkrOPL9cKdoSgn2LAxhY8NgWxGjFNmsdsAkY5XtWByEcMWchk2c9Qhj7LDBhLWNlh4H21ltv8UAIu7ZRIxB2DaOTkX25TE7YmIm9nT7ixQVVyrzFlB6wjwqNClhzep/DxCw3oEexlARMYwKZs4XyeE9xtkCuXLOBW9lqN+vCtg6Hwnyjls587YrzTrllYN8Q08ddMpQo749YKnyP1rANCsMOU1K/5evYti7eu4/7dTv0vr7GMR0q1v7dFlf458iRHRtWbFq+ILVEwTUXnz7wkrMyMkJ6uuXt2Tdm3LsvvTO9VFa56sd0LFMhVB28bums0gU7Z74+uvC6xTRFv5se/H7V9nptTg2lFmuXzKxU6tDHE+8NJXHcpWHZhVODDFX7JluHKNNM7ExMQMuXL89XtilhpkZ9mgWd6HPg6ukvv/0lt/3v+zTtnz07N6/6dtrER4aFsaF94icLX5y2YMYj/pYDeykRCmHRCmsBN0cWqY8K7b6wa1vo4z2kp0zYxSdkRjQlazx+TeM9mk9CtjeeGpWSgiW2bKVaG3/59okX3/9k5oL7hg1o2biQefnns79jFrtp644KtZtUr986JU2DIp76vKh1Nbe3BszlEGXSM0Myx9v4ygHHo48+OqAcBRaTADbzYCuXDn3kEFXM+hT6eNcjo5iEld1zBNJLZtZq2jmnWt1VP8/t849/Xfq3U4ZcdV5W6QBG2i3bdz3w9OvvfTKrdNkKuceeXjpbb0Ke601VSAS8T0B61Pt9pBqGQ6AsW23bV9u48ruX3v30s68X3nvz5Z3b/b7xz3xYzkB9/uuJV/fsO1Alt2WVui10u0I4lJVHBESgRAnpUf0KEpZAanpGjYbtcqpyMOaby29+6PRu7f/5f5eVzy675rfNIx5+cda3/y1boXr95t1LZv3liEXC4lDDREAEIkPAE3qUs64s11sLD1ZL2f7KtUycJLNuPzAOvYt5swFb7Lg2AZO3/XQEO/SojH0Le8BwLnZgq5F9JTwyPSWpYRLIyqma2+6MTau+nzbz228W/dSr+3GvffBlQYmU34+1VK9fQtcrhMk11GxszGF7jn2kMLQZiYxuRpx1/xc7Nv2eA5wlY0cC4aGUF3Cc2jNSLk8S60IGewKFiECRCHhCj7LzmINl3P7sV3VOOnNhGLcDmpufGHjshzY38Zotc0VqqknMbSmcnEEFMoCRz1klE45YrlzhSDXDnu0DnCoxfu+ChTNi2Zr/6quvsnma00Wc77b8QIVRK+9kObpDr9mby/ztnzM8UqVmJ/crfk1SUtOq1W9dqnQ5ttdOeGs6X3OP7VG6nJurodc8PmvTjj+d/BS/wq5LSMlpUaLETNfFhiKQvY6clOe4NjerWOm5/o0rNjk6wj0GnMbGAZkVxdDmePfDDz9str5z+O3JJ58sdHAFG6d+NeQZct1113GLJ8Occzhcc2YdqwilLUojAgEJeEKPcjQbVcplFr5OCv2c/VJ747CaAcMVnb6+SAM2LGAgx2+5k4wrs3HRwJEvvNxxuYm5n8jyBMsZbTydcesvl+WyZyxYuK987l7g+HChQz1glbwW+MvcD71zbKnI516C0OT+xs0rF21ds7Rq5fJnd+/08rszfv3u0yq5bSrWbOjWfPS5wU539ASpV/SCOfcSvcL+WhLvvtzzh6sGlBYn34lkesqVbJwoZaCZtJzSM2+0HCbhdjDOj2IrMi5IQ/TjHco4pSz8tHBYkxtzuHSQLNSK4jhfESs4sSp3/6H8zIzfvajq4woBT/gftZz9+jbJz9kvUcZhNRc7WbdaFwkBM1ORSM4AABxtSURBVMhRo0ZxEQmDB5MOyhv9x5FqhBDFsVxuwMchDMOew79saqe4YOG+5fo6+LXCuR2Qq0+YSRephkocCQJ7d2xcOX8ySpQb7aeM+9ctf79g2oR/dWx1zPqfvvl14fQDe+SFOxLU/yKTy4l4Zx06dCiWGyLQpkxSeZ211muMI2vuhGN2yOXvXDPEfWxGBC7JuPrAuYqhjFMjgctaed9lcszaDXYpVo5w6OYsPMFid+099NqXK+9+eVGCtSu2zfGEHg3F2a+Dw+oQncRyoRfHe5n4MngwI/M/d8rjtIEOCOYJNli4b5/5OfglKqI+fmP7c4mv0vMPH0RZrlzwSZXsUhMfGTr6tquNW5ha1SuPHz3k8bsGpRXsWT5v8sblC474+OeJrzbGS225ZR6X1/j0xqaKN+xJkyb53Vbm2xCsr9ZNQyys4uWJWIdhHso4NfIpFGef5m+uRUMBBzunGC9gQ6+n0aB/f2I2enTvgfzQMyploQQ8YdelloU6+3VwWB2ik1jstDiK4XJq8zrMmivro6zQUHowT7DBwn2x+jr4Jdx1H7+FdqESBCSAx+8NP3+Tf/jANRefEdDjN9t3jz+2qfHOvXfbuuqNOso7d0CSrgSyewgNii2XewEx27Kw4is2FEfWDsMc2yzSAvro9qs8S628SeMJlQUdVnaYm2IMc6WBXhaCBp0yb+0Hc9bsPXDYy/WM37p5RY86O/tlTdTBpzcmmmDO13w7hm2BfGVJhns1uWPztddeY5GVO73YKBTME2ywcF+x6GPLwS/hrvv4jd/fVqxqfvjA3vXL5u/atLrJ0XVHDRvQ7Ji6wWqSU67MPUP6n9ql7YjRL65c8HGFGg2rNWjLaZlg6RVeHAKMcdxgccWu5WPYkhaKI2uHYR7KODVlcZMfO4xIzy2eWKTYtcuKrP2kQHGa6am8e/YfZvYpDRrpTvGKHqWdDs5+nR1Wh+gkFm2HPmaJlIvmKY7F0U8//ZQdEOjRYJ5gg4U79IrrPn4dylKUP4EjR7b9tmzLykVpKUeGXtPnygt7pqUWvnLRtUOLj18a9eTE959/ddrubWurNeyQXbmOv2R9LzYBXltZFsVp2hVXXIHzzsqVK1siQ3Fk7TDMQxyn7Ffo27cvG5f4UDSrPMceeyyrtmZDU7Hb50UBz039+WBGAE+CazbvufTBoPu38/ZsozEOCbzY1CLWKTU1ZdSAY2tVcscloof0qIOzX2eH1SE6iTU+e403O8O8cePGZjtDME+wwcIduiyiPn4dylXUwX153LeQt219l/bN77n58lrVinCspXRmSfTumSd1uPXBcUsXf4FXhuoN23O/oKi6RQDHGmzfM6Zd3Hby0vz+++8HFB7MkbXDMA9xnM6ePZvZp/E5StGsjPLMwbobsBqJEXh97yb7UsszJd2Wd8C3RXWqlHns73/6+LS39I976re+PKyrPUohAQl4SI8Gc/ZbqMPqEJ3Etm/fnikpu40sVcqWWrPlPZgn2GDhfih973OItI/fgL2Y5IHsEmI77pZV32VllsJOe2GvbuEBadqw7jtP34n/0THj3lmxfUPl3FYVax0Tnijl8iWwfPly9uv279/feBRmbzy+sXAkbKk0P1wBHVk7DHO2xwfz0e0r2cyAmRNbLiU4R+4pB02u/2zSU1NOa1vzpFbVP/9ug12bul5c0gos3OoVTTQs+7MNnQ3xvs5+nR1Wh149vNXjSY7DLUuWLOF6VU6j4uvOjGTLEyxRLJ+w1d74+A0W7lco6yvGwS/hmI5ZrB07diznYRjexffxG3oDkzPl/rxtqxdOY8/tqSe0+XTS/WErUUMvPT2NfUlTJ9zXtmkue33XLJ5xcP+e5ATrVqsZUFhTGX3s8TEyUah9+vThfIs5BkOgcWSNN+933333iSeeQN0yWQzdlbfzOGWks6OQUlhzwVMTG502btzIE4Dhz85hu19xtxruHTkZaalo02cHdxp0VuOK5QI4bPBOVeO0Jh6aj0IwoLNfFx1Wc/CUgy6YlbjMj7np/fffb43VYE5ig4X79revg1+uknDXx2+c/rCiUO3fb1dY9d22X5dWqpD90L2Du3cu5JRh6FWqW6vqS48OfX3yl6PGvr5i7geV67asdFRT+y2SoQtM5pQsQC5evJgLv3yv82Qkco0R+pLbV4BTfEfWDuOU3RVsqufWBQ6Ff/DBB7ysc6iGs3YswfDKyy1mSdI7RpuauenspZuSpNXRaaa39ChtZkbo13IOhwVk8cAfn4BRwQKZODLZ5YWXF1LMRL779BjkLNjYPcEGC+dCYMsFOjvpuf/IcvDLyBw0aFBsffwGI5Aw4Xlb1236ee6B/bv7ntXt1oF9y2S5vJaJ1mRqe8rxre8a8/In//l21+bVNRt1zCxXMWEARq0hnNLm41ccm2/NoTLCmYw6VAajjkOsFRVsnJKAF3FmoiYlV35+8cUXmHOx7rJXn5fpUIQnUhqjTbu3qZFIjYp5WzynR6NAhHtx+QQsKJgn2GDhlhBUsq9Wlo/fgHhdCcw/dGDT8oXsyz26Xs1Rw25s3bSBK2IDCqlSqfxT91w3Y9aiEQ9PXDF/CrPSqrmtuJ43YGIFxpxAwHHKVb1cYeZbN67wDfuC7pi30ZUKpMo9gysc/yckGfWoqwAlLKoEOBW6cdnc/PxDrGLeOOCcjIxo/IBPPr71tJbHjH72TSy9u7esqX7McWUqVI9qs1VYMQhgHPJ9xy2GJGUVgcAEovEYClyyQkWgKAQO7d+9/keOtfzWpunRo24Z0KBuzaLkLm7a7LJZ7AQ+u3vH4aPHr1o4HYdrHIxJywjJmVdxy1b+4hGQEi0eP+UunID0aOGMlCLmBLat+3nT8gWlMtJGXHdxv3O7c4Y6JlVq36rR5Bf++dyrU8a+PHnvjg3VGraLSTVUqAiIgKcISI96qjtUmQAEONNSkH/4lM5t7r6pX7XKgRe2A2SLTFBmqZLc1nvK8W2Gc2PD9zNT0zJKV86JTFGSKgIiEB8EPHF+lJ2u7KDjuks/ZlyDaS7FtcK5D5OPHS13nSDEHu4cgrcHzok6p1FszAlUyM7CN8sz9w6OuRK1UHBn77vPjhx2bZ+MtBRt2Yj5L0QVEIHYEvCEHmUPOvvR/fbU/fjjjzg54uoTCxBqlbv9ONCN0vWjRkqOVIeOktsSBg8ezB0o3GyC4+6vvvrKnnfmzJlcgOL34dCbPaVCIkSATYXnn9Hl44n34ZslQkWELTYtLfXqi874aPw9ndo2DluIMoqACCQAAU/YddGO3BePHuXCaJyagXXv3r3nn38+1zLgnsWizL0kaDVU4IQJE7jz2pc+F0+3bds29P7gUDYXfnJ3EkqUIjj9iVc1P0+EqHYuarBkory554h7WEIvRSmLSaB8dtlRw64oppCIZufGBo/XMKLNl3AREAEIeEKPUg/uFeIGTq4+wTEhd3cZF6GfffYZd45Y/cRt9T179uQOMC5D8dOjaDjflM5dizmXae4999zTtevvFzFzffaUKVMQfsstt/hm5NITrj6xQs4++2wmo/YT5c5lKVYEREAERCCxCXjCrmsQjxkzpk6dOv369cMpBEbaSZMmYa216OMfm6vFULdcj4nJ9/PPP/ftGCy0L7zwwrp1604I9MHxvW9iLkhiPbVbt24mkDsC8eUU0LRr5cJZKbr23//+N9eJJfYPQq0TAREQAREoEgGvzEepNMe8jFslNOUdd9zBxNS3JcwXmSB2796dq7yYFzIlNW5EfdPguoEE9vajZX0DzYVktWvXtgIxLM+aNcue0YSwAWrYsGFcrl0k03EwaQoXAREQARFIJAIe0qNgxaNZ3bp1f/nlF1ZGfSmzJorXF/SruQ9zwIABKDbuwuUaMN9kXNrJxdOFdg/7lUhjfP+axPztcI0nM2M8AGM6LlSyEoiACIiACCQbAW/pUVY92buLlfWKK6747rvvjL9AugSPDWgyvBLefPPNfCUNc0QMuThB8+0wrLWoW3sX4i4NFWuFGw3KORnL9SDeff3mrL5CWEBlXZZtR3bJChEBERABEUhyAh7So2ygRWMZ0y6uzfALiAMW0z0YdXF5jwsOy0fEMcccQ+Jbb73V12MDepRFVnuP9ujRw1ePIoo0TGdzcv48QY/7F0y79oyEsOY6Z84cahUwVoEiIAIiIAJJTsArenT58uXs12UNEpeEdAn7aS+//PKnn34aP9ubN2/GfSD+BW+88Uart/Aj2Lt3b/b+9OrVywrEFRo24UJ7tEWLFsw+2bXUqFEjEuNwG01pHHrb85oNTWhie5RCREAEREAERMAT+3Uxsfbt25cLFp588knTJShUTmoOGTJk6dKlmGpRdUa/Wh12xhlnsDiKog2jC7HrstTKSiq+TimahU9uNWLN1YjilOrIkSMtsfPnz8eiG8zPWhilK4sIiIAIiEAiEfDEfJRjo4sXL2aCiDNeCy47ctmXi/rkuOdpp53mewaGNLjRRhc+9NBDnGnJzc0tapcwu8Vg27x5cw69YPJ988032QxshLAWy/SXixrMVyzJ+PstqnylFwEREAERSBICntCjXG5gv98A9WathgbsjAf++Jgoh922AfOisFl8ZYk0Ly8PNYk2tZKNHz++Y8eO1te33noroAQFioAIiIAIiAAEPKFHY9UTWIb9Ts5Qk4cfftjvpt9YVU/lioAIiIAIeJ9AUuvRgN0zaNAgOf4NSEaBIiACIiACdgKe2Gdkr1YMQ6REYwhfRYuACIhA3BGQHo27LlOFRUAEREAEPERAetRDnaGqiIAIiIAIxB0B6dG46zJVWAREQAREwEMEpEc91BmqigiIgAiIQNwRkB6Nuy5ThUVABERABDxEQHrUQ52hqoiACIiACMQdAenRuOsyVVgEREAERMBDBKRHPdQZqooIiIAIiEDcEZAejbsuU4VFQAREQAQ8REB61EOdoaqIgAiIgAjEHQHp0bjrMlVYBERABETAQwSkRz3UGaqKCIiACIhA3BGQHo27LlOFRUAEREAEPERAetRDnaGqiIAIiIAIxB0B6dG46zJVWAREQAREwEMEpEc91BmqigiIgAiIQNwRkB6Nuy5ThUVABERABDxEQHrUQ52hqoiACIiACMQdgfS4q7EqLAIiIAIiAIGCgoKD+3YHRHF4/56A4QqMBAHp0UhQlUwRiGMCqRkl87MrDX1mahy3IQmqvmpvRnbNOju3LAvW1qoNm4/7dMk7c1cFSxAsfP3WwLo5WHqFS4/qNyACIvAngfzDB3ZuWVm2arUS6Rk/rNOExts/jFIVsqtXcK7i2rwSa/OK3I+HDx50FqtYPwIR0aMr1myY+sU8sY45gc1bd8S8DqpAfBA4UiJv+5r8IwfSMzPLVKyeXbV2SmpEHg7xQSO5a5m3eW3e5jXJzaBorY/IUJkxaxH/ilYRpRYBEYgRgX15W/bt3ZxeKjMzq3xOjfoZpbJiVBEVKwJxScB9PZrb9rQjR47EJYwErXTJzHIJ2jI1q7gE8g/t37FlZUbpzJJZZbOr18vKrlIipbgylV8Eko2A+3o0s2zFZIOo9opA/BE4coSl0BJpBRlZpctUqJ5dpU5KWlr8tUI1FgEPEHBfj3qgUaqCCIiAE4G9uzbt37cVQ26pMhVyquemy5DrREtxIlAIAenRQgApWgQSicDhg/t3bl2Zbhlyc6okUuvUFhGICQHp0ZhgV6EiEG0CR0oUbN+wLLVk6p+G3Kp1UlJlyI12L6i8hCQgPZqQ3apGicBfCBwokZFTo3ZaZnpKSmqZSjXSM0rt27lFjEQgIIFDQe5ICphYgRCQHtXPQAQSmcCWnXuf+XDulpRy6Zm/78Q9cqRg95Z1idxgtU0Eok5AejTqyFWgCESRQNnSJW84r1Pr2mU6tW1aMkPjPYroVVTSENC4SpquVkOTkkBmyfTMEulndWuflK1Xo0UgGgTkNy0alFWGCIiACIhAohKQHk3UnlW7REAEREAEokFAejQalFWGCIiACIhAohKQHk3UnlW7REAEREAEokFAejQalFWGCIiACIhAohIIab9u/sF9B3UyN1F/An7tkq+eJOloNVMERMAlAiHp0fXL5pfgnz4iIAIiIAIiIAJ/JZDi7Cs0b8++j2Z8I2hJRaBxgzqtmzZIqiarsSIgAiIQNoFC9GjYcpVRBERABERABJKBgPYZJUMvq40iIAIiIAKRIiA9GimykisCIiACIpAMBKRHk6GX1UYREAEREIFIEZAejRRZyRUBERABEUgGAtKjydDLaqMIiIAIiECkCEiPRoqs5IqACIiACCQDAenRZOhltVEEREAERCBSBKRHI0VWckVABERABJKBgPRoMvSy2igCIiACIhApAtKjkSIruSIgAiIgAslAQHo0GXpZbRQBERABEYgUAenRSJGVXBEQAREQgWQgID2aDL2sNoqACIiACESKgPRopMhKrgiIgAiIQDIQkB5Nhl5WG0VABERABCJFQHo0UmQlVwREwEUCu3bt2rt3r13goUOHduzYUVBQYI+KTggVO3DgQJHK2r179549e/yy7N+/H1G+gfn5+TQtmOSdO3d+88038+bNc0gTLK/C3SUgPeouT0kTARGICIELLrigdevWdtEjR46sX7/+wYMH7VHRCWnZsuXo0aOLVFbPnj379u3rl2XEiBE0xASuX7/+vPPOy8rKqlChQvXq1Z955hnfxJs3b7744osrV67csWPHDh06VK1a9ZJLLiGwSHVQYhcJSI+6CFOiREAEIkXgyiuvXLZsGTMw3wKYhr788stokczMzEgVHAu5F1544fLly2ns9u3beVEYNGjQ22+/bSrC7LNz587/+c9/XnrpJf4mwSuvvPLVV1+hULdu3RqLyqrMEtKj+hGIgAjEAYHevXszA5s0aZJvXWfMmLFmzZqrrrrKCvztt9+WLFmyZcsWKwTr6JEjR7Ca/vjjj3l5efamoo2I8rPNHj58mJQb//jYsyBw1apVzBrtUYRs2rQJgZQYMLbQwBUrVsycOfPhhx9m/l2+fPmBAweedtppr776qsnItJWpJ4oTXZuTk0OC888//+uvv0ah3nzzzYUKV4JIEJAejQRVyRQBEXCZQMmSJfv16/f6668bDWekT5gwoV27dq1ateIrqqVx48Z16tRp27ZtlSpVsJ0aTVaqVKnhw4fXrFmzU6dOaOLbb78dLWiyr1y58tRTT8V22qJFi0qVKo0aNcqqdEZGxm233Va7du0aNWosXLjQtzE//PBD8+bNscFSFrNk3/qgdNF51apVQwVSFrowDAq1atX6/vvvmXRaeWkIy8B85Z1g4sSJl19+ed26dX0lU0/ULXACviiEUQdlKRoBflL6iIAIiID3CaDAeLpNmTLFVBWdwQris88+y1dmkywT9u/fn/07GHsnT56cmpqKliUqLS0tOzubGRt/T506NT093YSzpNqwYcPjjjsObYqWevHFF8ny3HPPGeEUxGzvnXfeefPNN82M1oSTq0GDBt27d2fKy04fs8x5zz33mFgWLNHrTFXJ8tZbb6GM0W12sOjIo48+Go3u+yEvutye+IsvvqAyGG+JYqrN32+88YY9GU0jatasWfYohUSaQIlIFyD5IiACIuAWAZQNW2yMtHHjxpUpU4Y9rnxlByzaEUOrVRBTtLvvvpuv6FEzBzVRZD/hhBP4+6OPPkLxLF682MpCVLNmzcxXom644QYryvpj+vTpRC1dutSEsCTJ0qzRo+gwombPnm0lvuiii7p27WoXgh7FHosK9/0w8bXr0QULFhCItjZCeBugiE8//dQuc+7cuUR9+OGH9iiFRJpAOuj1EQEREIG4IIAdFfWG1ixbtiyKk0285cqVo+Yo1D59+jBpmz9/PtuR0I4sIlqHYdq3b2+1DovrtGnT+IouRAVi0bWi2KrDVM/6ipXYzoRcGIobNWpkoipWrJibm2v+xhjLH9dffz2a24SsXbs22JEYVCmTZl/5rG4yJ/YN+fjjj2lgjx492FJkwtGp/ME82DeZ+Zv1Uf7AoG2PUkikCUiPRpqw5IuACLhGgM01N91003vvvcecks049913nxHNrBTNhC5h0w3Tyscee6xXr15WqRhsrb8x4Ro9xxwlJSXF/G9i0btYYq2UqGp7vU0W33AWbq3s/DF48GBfIb5/26U5hDz//PMseV533XUsslr1xxqMpsTSe+655/rlJZCXCebTDjIVFSEC0qMRAiuxIiAC7hNAtzFFY9GRbbpNmjQ5/vjjTRksZLJ6ykpnvXr1CGFjzoYNG9CRJnbRokWWWmXCavYlNW3adN++fUwiOQBqkmEaDTgH9W0G81eWSCnLTGRZjuWAiklAffiDHUDYck0Iu4spwjd7iH+PHz/+2muvfeSRR5h8+2bhDeCaa64ZM2YMKtYUZ2JXr1799NNPc/4noO4PsVAlC5uA9uuGjU4ZRUAEYkCAUy4sUnJsFBuvVTx7bvkboyv/Y/ZE2aDArPuPmJ6yeMneHwykzGUxvZKMnbrsMyIl24LYc4uVGKMu+sm5ScyD0bsc6GQtFvnMPjEymyxdunQxUaYaWI+vvvpqTLvOAu2xKEXkn3jiiahkams+TL5NSs69oMKJ/fe//83LxLp162gUc3G2WT344IN2aQqJBoFIL8BKvgiIgAi4S4CpJNZUVkAtsehIzLkYXVlBZHfu0KFD+Wr2+DCH428237JTl6jHH3/cysVKKhuXeM4SRYL777/fiiIQ/RSw2sx6WUklAZKZ5rZp08bar4sKRMMRRfWw6KKw0dB2Iai9M8880y98yJAhZp9RwNMy7Eiy0vOKQAPZqWQ0BCvEqH9OwdoLUkh0CPy+PBANda0yREAERCDCBNg9yx0ImHZLly5tFYWOZK0RazCzt6OOOso3yqTh6gaO0JCLDUShV/DXX39FbXOE1J6FU6Ss1FIWx3LssW6F8OrAZJc1XXYmh70K61ZlklyO9GiS/wDUfBFIcAJGj3J3QYK3U82LHQGtj8aOvUoWAREQARGIfwLarxv/fagWiIAIBCeAlVW7WIPjUYwLBGTXdQGiRIiACIiACCQtAdl1k7br1XAREAEREAEXCERPj3rWnT0Ui+rRPkR39kh28Ggvd/Yu/H4lQgREQARiTSB6etSz7uzpgqJ6tC/UnT0yHTzay519rH/2Kl8EREAEXCMQPT2aVO7s6Z9gHu3lzt61H68EiYAIiIAHCERPj4bozh4mrni0d3ZnTylcQBETj/ZyZ++Bn72qIAIiIAKuEYieHi3UnT1tctGjvYM7ewqKlUd7ubN37ZcrQSIgAiLgEQLRuX7QlOLgzp4E7nq0B29Ad/YUVHyP9kVyZ0+Jlkd7ubOP5u9NZYmACIhAFAj8bt6M5ieYO3vq4K5He/RoQHf2FFR8j/ahu7OnOF+P9nJnH80fm8oSAREQgSgQiPZ9RsHc2aP2XPdoH8yVoCse7UNxZ0+j/Dzay529R8wwqoYIiIAIuEUg2no0mDt72uO6R/tgl4HF0KO93Nm79cOVHBEQARHwCIFo69Fg7uzBkQwe7eXO3iO/e1VDBERABNwiEL39ulaNA7qzJzZJPNrLnb1bv13JEQEREAFPEIjCGqy9CLs7e9K469EeuMHc2VNWMT3aO7uzR76zR3u5s7f/JBQiAiIgAnFKwHP+XpLHo73c2XviRVKVEAEREIHiEfCcHg3YHHm0D4hFgSIgAiIgAjEnEIP10Zi3WRUQAREQAREQAbcI/D+eSacYmLkTxQAAAABJRU5ErkJggg==)"
      ],
      "metadata": {
        "id": "6pc361wX_ynP"
      }
    },
    {
      "cell_type": "markdown",
      "source": [
        "## Solución"
      ],
      "metadata": {
        "id": "aSUCD_Pw_05Y"
      }
    },
    {
      "cell_type": "code",
      "source": [
        "#!pip install CoolProp; # (instala biblioteca CoolProp en CoLab)\n",
        "import CoolProp.CoolProp as cp;"
      ],
      "metadata": {
        "id": "nw5g1fLYAr6Y"
      },
      "execution_count": null,
      "outputs": []
    },
    {
      "cell_type": "code",
      "execution_count": null,
      "metadata": {
        "id": "tuwPSZB18mNz"
      },
      "outputs": [],
      "source": [
        "# Datos:\n",
        "P_Ai = 41e5   # [Pa]\n",
        "V_A = 600e-3  # [m^3]\n",
        "x_Ai = 0.7\n",
        "V_Bi = 100e-3 # [m^3]\n",
        "x_Bi = 0.8\n",
        "P = 500e3     # [Pa]\n",
        "Po = 1e5      # [Pa]\n",
        "To = 300      # [K]"
      ]
    },
    {
      "cell_type": "code",
      "source": [
        "# Usando tabla de papel\n",
        "# Volumen específico inicial en A\n",
        "vp_iA = 0.001256 # [m^3/kg]\n",
        "vpp_iA = 0.0485 # [m^3/kg]\n",
        "\n",
        "# Energía interna específica inicial en A\n",
        "up_iA = 1089.41e3 # [J/kg]\n",
        "upp_iA = 2601.03e3 # [J/kg]\n",
        "\n",
        "# Volumen específico inicial en B\n",
        "vp_iB = 0.001093 # [m^3/kg]\n",
        "vpp_iB = 0.3747 # [m^3/kg]\n",
        "\n",
        "# Energía interna específica inicial en B\n",
        "up_iB = 639.57e3 # [J/kg]\n",
        "upp_iB = 2560.2e3 # [J/kg]\n",
        "\n",
        "# Entalpía específica final\n",
        "hp_f = 640.12e3 # [J/kg]\n",
        "hpp_f = 2747.54e3  # [J/kg]"
      ],
      "metadata": {
        "id": "q0txf8jf3Gvx"
      },
      "execution_count": null,
      "outputs": []
    },
    {
      "cell_type": "code",
      "source": [
        "#@title Usando CoolProp\n",
        "# Volumen específico inicial en A\n",
        "#vp_iA = 1/cp.PropsSI('D','P',P_Ai,'Q',0,'Water') # Líquido saturado\n",
        "#vpp_iA = 1/cp.PropsSI('D','P',P_Ai,'Q',1,'Water') # Vapor saturado\n",
        "\n",
        "# Energía interna específica inicial en A\n",
        "#up_iA = cp.PropsSI('U','P',P_Ai,'Q',0,'Water') # Líquido saturado\n",
        "#upp_iA = cp.PropsSI('U','P',P_Ai,'Q',1,'Water') # Vapor saturado\n",
        "\n",
        "# Volumen específico inicial en B\n",
        "#vp_iB = 1/cp.PropsSI('D','P',P,'Q',0,'Water') # Líquido saturado\n",
        "#vpp_iB = 1/cp.PropsSI('D','P',P,'Q',1,'Water') # Vapor saturado\n",
        "\n",
        "# Energía interna específica inicial en B\n",
        "#up_iB = cp.PropsSI('U','P',P,'Q',0,'Water') # Líquido saturado\n",
        "#upp_iB = cp.PropsSI('U','P',P,'Q',1,'Water') # Vapor saturado\n",
        "\n",
        "# Entalpía específica final\n",
        "#hp_f = cp.PropsSI('H','P',P,'Q',0,'Water') # Líquido saturado\n",
        "#hpp_f = cp.PropsSI('H','P',P,'Q',1,'Water') # Vapor saturado"
      ],
      "metadata": {
        "id": "E914qrfWBNqI",
        "cellView": "form"
      },
      "execution_count": null,
      "outputs": []
    },
    {
      "cell_type": "code",
      "source": [
        "# Volumen específico inicial en A\n",
        "v_Ai = vp_iA + x_Ai*(vpp_iA - vp_iA)\n",
        "# Volumen específico inicial en B\n",
        "v_Bi = vp_iB + x_Bi*(vpp_iB - vp_iB)\n",
        "# Energía interna específica inicial en A\n",
        "u_Ai = up_iA + x_Ai*(upp_iA - up_iA)\n",
        "# Energía interna específica inicial en B\n",
        "u_Bi = up_iB + x_Bi*(upp_iB - up_iB)"
      ],
      "metadata": {
        "id": "MHxh34-AA3nf"
      },
      "execution_count": null,
      "outputs": []
    },
    {
      "cell_type": "code",
      "source": [
        "# Masa inicial en A\n",
        "m_Ai = V_A/v_Ai\n",
        "# Masa inicial en B\n",
        "m_Bi = V_Bi/v_Bi"
      ],
      "metadata": {
        "id": "JeDS3tv0CbK9"
      },
      "execution_count": null,
      "outputs": []
    },
    {
      "cell_type": "markdown",
      "source": [
        "Planteando la ecuación del primer principio, se tiene que\n",
        "\n",
        "$$Q = \\Delta U + W_{\\Delta V} = 0$$"
      ],
      "metadata": {
        "id": "rD5ELeHBDqhg"
      }
    },
    {
      "cell_type": "markdown",
      "source": [
        "Entonces\n",
        "$$(U_f - U_i) + P(V_f - V_i) = 0 \\tag{1}$$"
      ],
      "metadata": {
        "id": "Pr__DziOEJ34"
      }
    },
    {
      "cell_type": "markdown",
      "source": [
        "Desarrollamos\n",
        "$$U_f - U_i + PV_f - PV_i = 0$$"
      ],
      "metadata": {
        "id": "N4ltwZoig9dd"
      }
    },
    {
      "cell_type": "markdown",
      "source": [
        "Reordemnamos\n",
        "$$\\underbrace{U_f + PV_f}_{H_f} - U_i - PV_i = 0$$"
      ],
      "metadata": {
        "id": "2r7pA51WhLle"
      }
    },
    {
      "cell_type": "markdown",
      "source": [
        "En la ecuación $(1)$ se tienen dos incógnitas, $U_f$ y $V_f$. Para resolver la indeterminación, y teniendo en cuenta que $P_f = P_\\mathrm{exterior} = P = \\mathrm{constante}$, planteamos:"
      ],
      "metadata": {
        "id": "2sI6kn0IETWE"
      }
    },
    {
      "cell_type": "markdown",
      "source": [
        "$$H_f = U_f + PV_f \\tag{2}$$"
      ],
      "metadata": {
        "id": "lbyVcq_HE68V"
      }
    },
    {
      "cell_type": "markdown",
      "source": [
        "Al reemplazar en la ecuación $(1)$ por la relación dada en $(2)$, se tiene que"
      ],
      "metadata": {
        "id": "aCf487AOFC5g"
      }
    },
    {
      "cell_type": "markdown",
      "source": [
        "$$H_f - U_i - PV_i = 0$$"
      ],
      "metadata": {
        "id": "vH0LzrilFOfv"
      }
    },
    {
      "cell_type": "markdown",
      "source": [
        "Entonces\n",
        "$$H_f = U_i + PV_i$$"
      ],
      "metadata": {
        "id": "bX5I3tMWFUMa"
      }
    },
    {
      "cell_type": "markdown",
      "source": [
        "$$h_f = \\frac{U_i - PV_i}{m_{Ai} + m_{Bi}}$$"
      ],
      "metadata": {
        "id": "64J4nMsXimWO"
      }
    },
    {
      "cell_type": "markdown",
      "source": [
        "$$h_f = \\frac{m_{Ai}u_{Ai} + m_{Bi}u_{Bi} + P(V_A + V_{Bi})}{m_{Ai} + m_{Bi}}$$"
      ],
      "metadata": {
        "id": "1TvymARqiydG"
      }
    },
    {
      "cell_type": "code",
      "source": [
        "# Entalpía específica final\n",
        "h_f = (m_Ai*u_Ai + m_Bi*u_Bi + P*(V_A + V_Bi))/(m_Ai + m_Bi)"
      ],
      "metadata": {
        "id": "ESlHI14jCkXm"
      },
      "execution_count": null,
      "outputs": []
    },
    {
      "cell_type": "code",
      "source": [
        "cp.PhaseSI('P',P,'H',h_f,'Water')"
      ],
      "metadata": {
        "colab": {
          "base_uri": "https://localhost:8080/",
          "height": 36
        },
        "id": "RlR-FlnOkOUH",
        "outputId": "50e6c398-6831-4173-c325-3cf23919163d"
      },
      "execution_count": null,
      "outputs": [
        {
          "output_type": "execute_result",
          "data": {
            "text/plain": [
              "'twophase'"
            ],
            "application/vnd.google.colaboratory.intrinsic+json": {
              "type": "string"
            }
          },
          "metadata": {},
          "execution_count": 136
        }
      ]
    },
    {
      "cell_type": "code",
      "source": [
        "x_f = (h_f - hp_f)/(hpp_f - hp_f)"
      ],
      "metadata": {
        "id": "s8tCWUNqlftu"
      },
      "execution_count": null,
      "outputs": []
    },
    {
      "cell_type": "code",
      "source": [
        "T_f = cp.PropsSI('T','P',P,'H',h_f,'Water')"
      ],
      "metadata": {
        "id": "MnFV39Cmo9UP"
      },
      "execution_count": null,
      "outputs": []
    },
    {
      "cell_type": "code",
      "source": [
        "#@title Estado final del vapor\n",
        "print(\"P = %.2f [kPa]\"%(P/1000))\n",
        "print(\"T_f = %.2f [K]\"%T_f)\n",
        "print(\"x_f = %.3f\"%x_f)"
      ],
      "metadata": {
        "colab": {
          "base_uri": "https://localhost:8080/"
        },
        "cellView": "form",
        "id": "4AnH7Ou1l-Nu",
        "outputId": "a4210bce-5bfd-4982-8aec-1e7abc36df55"
      },
      "execution_count": null,
      "outputs": [
        {
          "output_type": "stream",
          "name": "stdout",
          "text": [
            "P = 500.00 [kPa]\n",
            "T_f = 424.98 [K]\n",
            "x_f = 0.725\n"
          ]
        }
      ]
    },
    {
      "cell_type": "code",
      "source": [
        "cp.PropsSI('Q','P',P,'H',h_f,'Water')"
      ],
      "metadata": {
        "colab": {
          "base_uri": "https://localhost:8080/"
        },
        "id": "Ok_NwIIfmDjm",
        "outputId": "1fa839ec-dacb-4f47-ef31-e97d4a30045f"
      },
      "execution_count": null,
      "outputs": [
        {
          "output_type": "execute_result",
          "data": {
            "text/plain": [
              "0.7246796667223101"
            ]
          },
          "metadata": {},
          "execution_count": 140
        }
      ]
    },
    {
      "cell_type": "code",
      "source": [
        "vp_f = vp_iB\n",
        "vpp_f = vpp_iB\n",
        "\n",
        "\n",
        "v_f = vp_f + x_f*(vpp_f - vp_f)"
      ],
      "metadata": {
        "id": "O864Ihigmt4B"
      },
      "execution_count": null,
      "outputs": []
    },
    {
      "cell_type": "code",
      "source": [
        "V_f = v_f*(m_Ai + m_Bi)\n",
        "V_i = V_A + V_Bi"
      ],
      "metadata": {
        "id": "tDbju39rmRJO"
      },
      "execution_count": null,
      "outputs": []
    },
    {
      "cell_type": "code",
      "source": [
        "# Trabajo útil está dado por:\n",
        "W_util = (P - Po)*(V_f - V_i)"
      ],
      "metadata": {
        "id": "M9M10jZtnHwd"
      },
      "execution_count": null,
      "outputs": []
    },
    {
      "cell_type": "code",
      "source": [
        "#@title Trabajo útil\n",
        "print(\"Trabajo útil\")\n",
        "print(\"W_util = %.2f [kJ]\"%(W_util/1000))"
      ],
      "metadata": {
        "colab": {
          "base_uri": "https://localhost:8080/"
        },
        "cellView": "form",
        "id": "5zTxVF0uoJ9g",
        "outputId": "d8a40600-2836-45eb-c87a-3c866cc065cc"
      },
      "execution_count": null,
      "outputs": [
        {
          "output_type": "stream",
          "name": "stdout",
          "text": [
            "Trabajo útil\n",
            "W_util = 1657.35 [kJ]\n"
          ]
        }
      ]
    },
    {
      "cell_type": "code",
      "source": [
        "%reset -s -f"
      ],
      "metadata": {
        "id": "kkwNJ6uJocyd"
      },
      "execution_count": null,
      "outputs": []
    }
  ]
}