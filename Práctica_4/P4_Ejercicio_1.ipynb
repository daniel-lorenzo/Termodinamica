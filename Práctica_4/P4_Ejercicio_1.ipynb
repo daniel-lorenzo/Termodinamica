{
  "nbformat": 4,
  "nbformat_minor": 0,
  "metadata": {
    "colab": {
      "provenance": [],
      "authorship_tag": "ABX9TyP4/8wHNNwkOvc5/xZOMlXs",
      "include_colab_link": true
    },
    "kernelspec": {
      "name": "python3",
      "display_name": "Python 3"
    },
    "language_info": {
      "name": "python"
    }
  },
  "cells": [
    {
      "cell_type": "markdown",
      "metadata": {
        "id": "view-in-github",
        "colab_type": "text"
      },
      "source": [
        "<a href=\"https://colab.research.google.com/github/daniel-lorenzo/Termodinamica/blob/master/Pr%C3%A1ctica_4/P4_Ejercicio_1.ipynb\" target=\"_parent\"><img src=\"https://colab.research.google.com/assets/colab-badge.svg\" alt=\"Open In Colab\"/></a>"
      ]
    },
    {
      "cell_type": "markdown",
      "source": [
        "# Problema 1\n",
        "Utilizando la tabla de propiedades termodinámicas del agua, determinar:\n",
        "\n",
        "a) v, u, h y x si P=20 bar y T= 400°C    \n",
        "b) v, u, h y T si P= 10 bar y x= 1    \n",
        "c) v, u, h y P si se tiene líquido saturado a T= 295°C    \n",
        "d) v, u, T y x si P= 2 kPa h= 1500 kJ/kg   \n",
        "e) u, h, T y x si P= 5bar y v= 0,4148 m3/Kg   \n",
        "f) v, u, h y P si T= 120 °C x= 0,7   \n",
        "g) v, h, T y x si P=8,5 bar y u= 900 KJ/Kg   "
      ],
      "metadata": {
        "id": "MCIPEi059psd"
      }
    },
    {
      "cell_type": "code",
      "source": [
        "!pip install CoolProp; # (instala biblioteca CoolProp en CoLab)"
      ],
      "metadata": {
        "id": "9xn66QhD-5Ti"
      },
      "execution_count": null,
      "outputs": []
    },
    {
      "cell_type": "code",
      "execution_count": null,
      "metadata": {
        "id": "BcKRmjHh9dlh"
      },
      "outputs": [],
      "source": [
        "import CoolProp.CoolProp as cp"
      ]
    },
    {
      "cell_type": "markdown",
      "source": [
        "## Solución"
      ],
      "metadata": {
        "id": "HjsPSQOVHxfk"
      }
    },
    {
      "cell_type": "markdown",
      "source": [
        "---\n",
        "### a) v, u, h y x si P=20 bar y T= 400°C"
      ],
      "metadata": {
        "id": "KL-SDdvRA5u5"
      }
    },
    {
      "cell_type": "markdown",
      "source": [
        "__Usando tabla provista por la cátedra:__\n",
        "\n",
        "$h = 3248,70 \\; \\mathrm{kJ/kg}$    \n",
        "$v = 0,15113 \\; \\mathrm{m^3/kg}$     \n",
        "$u = 2946,45 \\; \\mathrm{kJ/kg}$    \n",
        "$x = \\nexists$ (no existe)"
      ],
      "metadata": {
        "id": "ZpR5k6j4fgOR"
      }
    },
    {
      "cell_type": "markdown",
      "source": [
        "Usando python"
      ],
      "metadata": {
        "id": "d67zf9FBmmrr"
      }
    },
    {
      "cell_type": "code",
      "source": [
        "# Datos:\n",
        "P_a = 20e5          # [Pa]\n",
        "T_a = 400 + 273.15  # [K]"
      ],
      "metadata": {
        "id": "xCFxPUIL-JEz"
      },
      "execution_count": null,
      "outputs": []
    },
    {
      "cell_type": "code",
      "source": [
        "# Consultamos el estado a la presión y temperatura dadas\n",
        "cp.PhaseSI('P',P_a,'T',T_a,'Water')"
      ],
      "metadata": {
        "colab": {
          "base_uri": "https://localhost:8080/",
          "height": 35
        },
        "id": "G7NDUxdY_E0K",
        "outputId": "56b34229-4f1e-4af2-ca59-c4ec8ef34b15"
      },
      "execution_count": null,
      "outputs": [
        {
          "output_type": "execute_result",
          "data": {
            "text/plain": [
              "'supercritical_gas'"
            ],
            "application/vnd.google.colaboratory.intrinsic+json": {
              "type": "string"
            }
          },
          "metadata": {},
          "execution_count": 4
        }
      ]
    },
    {
      "cell_type": "code",
      "source": [
        "# Usando biblioteca CoolProp\n",
        "v_a = 1/cp.PropsSI('D','T',T_a,'P',P_a,'Water')\n",
        "u_a = cp.PropsSI('U','T',T_a,'P',P_a,'Water')\n",
        "h_a = cp.PropsSI('H','T',T_a,'P',P_a,'Water')"
      ],
      "metadata": {
        "id": "MWlmQk9K_KcF"
      },
      "execution_count": null,
      "outputs": []
    },
    {
      "cell_type": "code",
      "source": [
        "#@title a) Resultados\n",
        "print(\"h = %.2f [kJ/kg]\"%(h_a/1000) )\n",
        "print(\"v = %.5f [m^3/kg]\"%v_a)\n",
        "print(\"u = %.3f [kJ/kg]\"%(u_a/1000) )"
      ],
      "metadata": {
        "colab": {
          "base_uri": "https://localhost:8080/"
        },
        "cellView": "form",
        "id": "oRKDo8aS_bNi",
        "outputId": "2dbf6c55-054e-4c20-aaee-7bd4423bd683"
      },
      "execution_count": null,
      "outputs": [
        {
          "output_type": "stream",
          "name": "stdout",
          "text": [
            "h = 3248.34 [kJ/kg]\n",
            "v = 0.15121 [m^3/kg]\n",
            "u = 2945.915 [kJ/kg]\n"
          ]
        }
      ]
    },
    {
      "cell_type": "markdown",
      "source": [
        "---\n",
        "### b) v, u, h y T si P= 10 bar y x= 1"
      ],
      "metadata": {
        "id": "XxJNWAhvBAPO"
      }
    },
    {
      "cell_type": "markdown",
      "source": [
        "__Usando tabla provista por la cátedra:__\n",
        "    \n",
        "$v = 0,1943 \\; \\mathrm{m^3/kg}$    \n",
        "$u = 2581,88 \\; \\mathrm{kJ/kg}$    \n",
        "$h = 2776,17 \\; \\mathrm{kJ/kg}$   \n",
        "$t = 179,88^\\circ \\mathrm{C}$    \n",
        "$T = 453,03 \\; \\mathrm{K}$"
      ],
      "metadata": {
        "id": "zlM_--4UiBmX"
      }
    },
    {
      "cell_type": "markdown",
      "source": [
        "Usando python y coolprop"
      ],
      "metadata": {
        "id": "jdciP-jXmH-p"
      }
    },
    {
      "cell_type": "code",
      "source": [
        "# Datos:\n",
        "P_b = 10e5  # [Pa]\n",
        "x_b = 1"
      ],
      "metadata": {
        "id": "T1QjvS0I_zdh"
      },
      "execution_count": null,
      "outputs": []
    },
    {
      "cell_type": "code",
      "source": [
        "v_b = 1/cp.PropsSI('D','P',P_b,'Q',x_b,'Water')\n",
        "u_b = cp.PropsSI('U','P',P_b,'Q',x_b,'Water')\n",
        "h_b = cp.PropsSI('H','P',P_b,'Q',x_b,'Water')\n",
        "T_b = cp.PropsSI('T','P',P_b,'Q',x_b,'Water')"
      ],
      "metadata": {
        "id": "5jRK2WOfBP38"
      },
      "execution_count": null,
      "outputs": []
    },
    {
      "cell_type": "code",
      "source": [
        "#@title b) Resultados\n",
        "print(\"v = %.5f [m^3/kg]\"%v_b)\n",
        "print(\"u = %.3f [kJ/kg]\"%(u_b/1000) )\n",
        "print(\"h = %.2f [kJ/kg]\"%(h_b/1000) )\n",
        "print(\"T = %.2f [K]\"%T_b)"
      ],
      "metadata": {
        "colab": {
          "base_uri": "https://localhost:8080/"
        },
        "cellView": "form",
        "id": "1Y_Ct74aBcqV",
        "outputId": "a10de8a9-46f4-4947-84fc-7b4502b57fa3"
      },
      "execution_count": null,
      "outputs": [
        {
          "output_type": "stream",
          "name": "stdout",
          "text": [
            "v = 0.19436 [m^3/kg]\n",
            "u = 2582.747 [kJ/kg]\n",
            "h = 2777.11 [kJ/kg]\n",
            "T = 453.03 [K]\n"
          ]
        }
      ]
    },
    {
      "cell_type": "markdown",
      "source": [
        "---\n",
        "### c) v, u, h y P si se tiene líquido saturado a T= 295°C"
      ],
      "metadata": {
        "id": "iSl2XFNEB6jb"
      }
    },
    {
      "cell_type": "markdown",
      "source": [
        "__Usando tabla provista por la cátedra:__\n",
        "\n",
        "$v = 0,0013844 \\; \\mathrm{m^3/kg}$    \n",
        "$u = 1306,19 \\; \\mathrm{kJ/kg}$      \n",
        "$h = 1317,27 \\; \\mathrm{kJ/kg}$     \n",
        "$P = 8003,69 \\; \\mathrm{kPa}$    "
      ],
      "metadata": {
        "id": "_ASFC4jQ8bat"
      }
    },
    {
      "cell_type": "markdown",
      "source": [
        "Usando python"
      ],
      "metadata": {
        "id": "kYRLCJ8Smuwm"
      }
    },
    {
      "cell_type": "code",
      "source": [
        "# Datos:\n",
        "x_c = 0\n",
        "T_c = 295 + 273.15 # [K]"
      ],
      "metadata": {
        "id": "_WTuB-ITBoq2"
      },
      "execution_count": null,
      "outputs": []
    },
    {
      "cell_type": "code",
      "source": [
        "v_c = 1/cp.PropsSI('D','T',T_c,'Q',x_c,'Water')\n",
        "u_c = cp.PropsSI('U','T',T_c,'Q',x_c,'Water')\n",
        "h_c = cp.PropsSI('H','T',T_c,'Q',x_c,'Water')\n",
        "P_c = cp.PropsSI('P','T',T_c,'Q',x_c,'Water')"
      ],
      "metadata": {
        "id": "cqMDswzLCKhS"
      },
      "execution_count": null,
      "outputs": []
    },
    {
      "cell_type": "code",
      "source": [
        "#@title c) Resultados\n",
        "print(\"v = %.5f [m^3/kg]\"%v_c)\n",
        "print(\"u = %.3f [kJ/kg]\"%(u_c/1000) )\n",
        "print(\"h = %.2f [kJ/kg]\"%(h_c/1000) )\n",
        "print(\"P = %.2f [kPa]\"%(P_c/1000))"
      ],
      "metadata": {
        "colab": {
          "base_uri": "https://localhost:8080/"
        },
        "cellView": "form",
        "id": "te-1zzphCYWP",
        "outputId": "581cc3a9-9a93-43e9-b4a1-d43549145027"
      },
      "execution_count": null,
      "outputs": [
        {
          "output_type": "stream",
          "name": "stdout",
          "text": [
            "v = 0.00138 [m^3/kg]\n",
            "u = 1306.193 [kJ/kg]\n",
            "h = 1317.27 [kJ/kg]\n",
            "P = 7999.11 [kPa]\n"
          ]
        }
      ]
    },
    {
      "cell_type": "markdown",
      "source": [
        "---\n",
        "###d) v, u, T y x si P= 2 kPa h= 1500 kJ/kg"
      ],
      "metadata": {
        "id": "jFYRCuh0CkC1"
      }
    },
    {
      "cell_type": "markdown",
      "source": [
        "__Usando tabla provista por la cátedra:__"
      ],
      "metadata": {
        "id": "8PK2XmXbJYzo"
      }
    },
    {
      "cell_type": "markdown",
      "source": [
        "__Cálculo del título $x_d$__\n",
        "\n",
        "$h'= 73,46 \\; \\mathrm{kJ/kg}$     \n",
        "$h'' = 2533,65 \\; \\mathrm{kJ/kg}$"
      ],
      "metadata": {
        "id": "Y3ylPXsT_4zJ"
      }
    },
    {
      "cell_type": "markdown",
      "source": [
        "$$x_d = \\frac{h - h'}{h'' - h'}$$"
      ],
      "metadata": {
        "id": "Xdvw57JHAx5j"
      }
    },
    {
      "cell_type": "markdown",
      "source": [
        "$$x_d = \\frac{1500 - 73,46}{2533,65 - 73,46}$$"
      ],
      "metadata": {
        "id": "YPn6yZJJA-H7"
      }
    },
    {
      "cell_type": "markdown",
      "source": [
        "$$\\color{red}{x_d \\approx 0,5798}$$"
      ],
      "metadata": {
        "id": "_L6ZOxC2GF2c"
      }
    },
    {
      "cell_type": "markdown",
      "source": [
        "$v' = 0,001001 \\; \\mathrm{m^3/kg}$    \n",
        "$v'' = 67,0062 \\; \\mathrm{m^3/kg}$"
      ],
      "metadata": {
        "id": "-3s7Y6XdC7Hm"
      }
    },
    {
      "cell_type": "markdown",
      "source": [
        "$$v = v' + x(v'' - v')$$"
      ],
      "metadata": {
        "id": "BGXmTNXHDVMN"
      }
    },
    {
      "cell_type": "markdown",
      "source": [
        "$$v = 0,001001 + 0,5798 \\cdot (67,0062 - 0,001001)$$"
      ],
      "metadata": {
        "id": "n7gHPwPEDaHU"
      }
    },
    {
      "cell_type": "markdown",
      "source": [
        "$$\\color{red}{v = 38,85393 \\; \\mathrm{m^3/kg}}$$"
      ],
      "metadata": {
        "id": "2l7-1PTbDqd-"
      }
    },
    {
      "cell_type": "markdown",
      "source": [
        "$u' = 73,46 \\; \\mathrm{kJ/kg}$    \n",
        "$u'' = 2399,64 \\; \\mathrm{kJ/kg}$   "
      ],
      "metadata": {
        "id": "EpWMsZ2KBpuv"
      }
    },
    {
      "cell_type": "markdown",
      "source": [
        "$$u = u' + x(u'' - u')$$"
      ],
      "metadata": {
        "id": "_b_K5JIXCEV7"
      }
    },
    {
      "cell_type": "markdown",
      "source": [
        "$$u = 73,46 + 0,5798 \\cdot(2399,64 - 73,46)$$"
      ],
      "metadata": {
        "id": "Kii9-huMCUGM"
      }
    },
    {
      "cell_type": "markdown",
      "source": [
        "$$\\color{red}{u = 1422,29 \\; \\mathrm{kJ/kg}}$$"
      ],
      "metadata": {
        "id": "SASSykBgEHR9"
      }
    },
    {
      "cell_type": "markdown",
      "source": [
        "$t = 17,51^\\circ \\mathrm{C}$   "
      ],
      "metadata": {
        "id": "MkRXU6IBC3Y-"
      }
    },
    {
      "cell_type": "markdown",
      "source": [
        "$$T = 17,51 + 273,15$$"
      ],
      "metadata": {
        "id": "3icUwzpoF0x3"
      }
    },
    {
      "cell_type": "markdown",
      "source": [
        "$$\\color{red}{T = 290,66 \\; \\mathrm{K}}$$"
      ],
      "metadata": {
        "id": "0XfVcNLbFvOH"
      }
    },
    {
      "cell_type": "markdown",
      "source": [
        "Usando python y coolprop"
      ],
      "metadata": {
        "id": "hNN_rAbpmhz8"
      }
    },
    {
      "cell_type": "code",
      "source": [
        "# Datos:\n",
        "P_d = 2e3    # [Pa]\n",
        "h_d = 1500e3 # [J/kg]"
      ],
      "metadata": {
        "id": "n-1oyUQ0Cfri"
      },
      "execution_count": null,
      "outputs": []
    },
    {
      "cell_type": "code",
      "source": [
        "cp.PhaseSI('P',P_d,'H',h_d,'Water')"
      ],
      "metadata": {
        "colab": {
          "base_uri": "https://localhost:8080/",
          "height": 35
        },
        "id": "NuNQzwTjC-cq",
        "outputId": "70ab9648-3d0f-44fa-a21e-370072b21a2e"
      },
      "execution_count": null,
      "outputs": [
        {
          "output_type": "execute_result",
          "data": {
            "text/plain": [
              "'twophase'"
            ],
            "application/vnd.google.colaboratory.intrinsic+json": {
              "type": "string"
            }
          },
          "metadata": {},
          "execution_count": 14
        }
      ]
    },
    {
      "cell_type": "code",
      "source": [
        "# Cálculo del título x_d\n",
        "x_d = cp.PropsSI('Q','P',P_d,'H',h_d,'Water')\n",
        "x_d"
      ],
      "metadata": {
        "colab": {
          "base_uri": "https://localhost:8080/"
        },
        "id": "M5b1MMjgDLhh",
        "outputId": "e34be45d-55d1-4598-c3a0-ed2a9f8c5e97"
      },
      "execution_count": null,
      "outputs": [
        {
          "output_type": "execute_result",
          "data": {
            "text/plain": [
              "0.5800372088542425"
            ]
          },
          "metadata": {},
          "execution_count": 37
        }
      ]
    },
    {
      "cell_type": "code",
      "source": [
        "v_d = 1/cp.PropsSI('D','P',P_d,'H',h_d,'Water')\n",
        "u_d = cp.PropsSI('U','P',P_d,'H',h_d,'Water')\n",
        "T_d = cp.PropsSI('T','P',P_d,'H',h_d,'Water')"
      ],
      "metadata": {
        "id": "EdhenkcpEW_s"
      },
      "execution_count": null,
      "outputs": []
    },
    {
      "cell_type": "code",
      "source": [
        "#@title d) Resultados\n",
        "print(\"v = %.5f [m^3/kg]\"%v_d)\n",
        "print(\"u = %.3f [kJ/kg]\"%(u_d/1000) )\n",
        "print(\"T = %.2f [K]\"%T_d)"
      ],
      "metadata": {
        "colab": {
          "base_uri": "https://localhost:8080/"
        },
        "cellView": "form",
        "id": "dkT-Z-72E1V3",
        "outputId": "9a9f35da-fa6a-40b3-baa2-d4c052b993b6"
      },
      "execution_count": null,
      "outputs": [
        {
          "output_type": "stream",
          "name": "stdout",
          "text": [
            "v = 38.85530 [m^3/kg]\n",
            "u = 1422.289 [kJ/kg]\n",
            "T = 290.64 [K]\n"
          ]
        }
      ]
    },
    {
      "cell_type": "markdown",
      "source": [
        "---\n",
        "###e) u, h, T y x si P= 5bar y v= 0,4148 m3/Kg"
      ],
      "metadata": {
        "id": "udN3HfDSFMnV"
      }
    },
    {
      "cell_type": "markdown",
      "source": [
        "__Usando tabla provista por la cátedra:__"
      ],
      "metadata": {
        "id": "00COUF7aeytG"
      }
    },
    {
      "cell_type": "markdown",
      "source": [
        "$u = 2626,00 \\; \\mathrm{kJ/kg}$    \n",
        "$h = 2833,40 \\; \\mathrm{kJ/kg}$    \n",
        "$t = 190^\\circ \\mathrm{C}$    \n",
        "$T = 463,15 \\; \\mathrm{K}$"
      ],
      "metadata": {
        "id": "m5gbvdrJdP1W"
      }
    },
    {
      "cell_type": "markdown",
      "source": [
        "Usando python y CoolProp:"
      ],
      "metadata": {
        "id": "UxltohUEe11T"
      }
    },
    {
      "cell_type": "code",
      "source": [
        "# Datos:\n",
        "P_e = 5e5     # [Pa]\n",
        "v_e = 0.4148  # [m^3/kg]"
      ],
      "metadata": {
        "id": "KJwwqeduFBMK"
      },
      "execution_count": null,
      "outputs": []
    },
    {
      "cell_type": "code",
      "source": [
        "d_e = 1/v_e\n",
        "cp.PhaseSI('P',P_e,'D',d_e,'Water')"
      ],
      "metadata": {
        "colab": {
          "base_uri": "https://localhost:8080/",
          "height": 35
        },
        "id": "XEDOueePFesU",
        "outputId": "f0e191c0-d83f-43ba-8a29-9a22d1596e9e"
      },
      "execution_count": null,
      "outputs": [
        {
          "output_type": "execute_result",
          "data": {
            "text/plain": [
              "'gas'"
            ],
            "application/vnd.google.colaboratory.intrinsic+json": {
              "type": "string"
            }
          },
          "metadata": {},
          "execution_count": 20
        }
      ]
    },
    {
      "cell_type": "code",
      "source": [
        "u_e = cp.PropsSI('U','P',P_e,'D',d_e,'Water')\n",
        "h_e = cp.PropsSI('H','P',P_e,'D',d_e,'Water')\n",
        "T_e = cp.PropsSI('T','P',P_e,'D',d_e,'Water')"
      ],
      "metadata": {
        "id": "fyxv66r2F9mN"
      },
      "execution_count": null,
      "outputs": []
    },
    {
      "cell_type": "code",
      "source": [
        "#@title e) Resultados\n",
        "print(\"u = %.3f [kJ/kg]\"%(u_e/1000) )\n",
        "print(\"h = %.2f [kJ/kg]\"%(h_e/1000) )\n",
        "print(\"T = %.2f [K]\"%T_e)"
      ],
      "metadata": {
        "colab": {
          "base_uri": "https://localhost:8080/"
        },
        "cellView": "form",
        "id": "D61lB6ywFrU9",
        "outputId": "41213fc1-5481-4e0b-cf3f-d97dd794b5e4"
      },
      "execution_count": null,
      "outputs": [
        {
          "output_type": "stream",
          "name": "stdout",
          "text": [
            "u = 2626.659 [kJ/kg]\n",
            "h = 2834.06 [kJ/kg]\n",
            "T = 463.05 [K]\n"
          ]
        }
      ]
    },
    {
      "cell_type": "markdown",
      "source": [
        "---\n",
        "###f) v, u, h y P si T= 120 °C x= 0,7"
      ],
      "metadata": {
        "id": "z2d9BfH9Ge3A"
      }
    },
    {
      "cell_type": "markdown",
      "source": [
        "$v' = 0,0010606 \\; \\mathrm{m^3/kg}$   \n",
        "$v'' = 0,8915 \\; \\mathrm{m^3/kg}$     "
      ],
      "metadata": {
        "id": "kyRSILCmgTKt"
      }
    },
    {
      "cell_type": "markdown",
      "source": [
        "$$v = v' + x (v'' - v')$$"
      ],
      "metadata": {
        "id": "cDg0H74-gu-j"
      }
    },
    {
      "cell_type": "markdown",
      "source": [
        "$$v = 0,0010606 + 0,7 (0,8915 - 0,0010606)$$"
      ],
      "metadata": {
        "id": "hahJ09j8g0na"
      }
    },
    {
      "cell_type": "markdown",
      "source": [
        "$$\\color{red}{v = 0,62437 \\; \\mathrm{m^3/kg}}$$"
      ],
      "metadata": {
        "id": "cJKWPZo_kG1e"
      }
    },
    {
      "cell_type": "markdown",
      "source": [
        "$u' = 503,51 \\; \\mathrm{kJ/kg}$    \n",
        "$u'' = 2528,96 \\; \\mathrm{kJ/kg}$    "
      ],
      "metadata": {
        "id": "kAFlQPc8hBrq"
      }
    },
    {
      "cell_type": "markdown",
      "source": [
        "$$u = u' + x(u'' - u')$$"
      ],
      "metadata": {
        "id": "lwLaz_9khSAw"
      }
    },
    {
      "cell_type": "markdown",
      "source": [
        "$$u = 503,51 + 0,7 (2528,96 - 503,51)$$"
      ],
      "metadata": {
        "id": "ph5bAmvShZAd"
      }
    },
    {
      "cell_type": "markdown",
      "source": [
        "$$\\color{red}{u = 1921,286 \\; \\mathrm{kJ/kg}}$$"
      ],
      "metadata": {
        "id": "yt0pKpb2kfI0"
      }
    },
    {
      "cell_type": "markdown",
      "source": [
        "$h' = 503,72 \\; \\mathrm{kJ/kg}$     \n",
        "$h'' = 2705,96 \\; \\mathrm{kJ/kg}$"
      ],
      "metadata": {
        "id": "0RFOPpSbhj7m"
      }
    },
    {
      "cell_type": "markdown",
      "source": [
        "$$h = h' + x (h'' - h')$$"
      ],
      "metadata": {
        "id": "NlBgl3Xwhvu4"
      }
    },
    {
      "cell_type": "markdown",
      "source": [
        "$$h = 503,51 + 0,7 (2705,96 - 503,72)$$"
      ],
      "metadata": {
        "id": "LH2_TZbvh00b"
      }
    },
    {
      "cell_type": "markdown",
      "source": [
        "$$\\color{red}{h = 2045,29 \\; \\mathrm{kJ/kg}}$$"
      ],
      "metadata": {
        "id": "cnZPWyCTkzOU"
      }
    },
    {
      "cell_type": "markdown",
      "source": [
        "$$\\color{red}{P = 198,54 \\; \\mathrm{kPa}}$$"
      ],
      "metadata": {
        "id": "iGfjXu-2wCYW"
      }
    },
    {
      "cell_type": "markdown",
      "source": [
        "Usando python"
      ],
      "metadata": {
        "id": "kejud2Qdlw5c"
      }
    },
    {
      "cell_type": "code",
      "source": [
        "# Datos:\n",
        "T_f = 120 + 273.15 # [K]\n",
        "x_f = 0.7"
      ],
      "metadata": {
        "id": "HDlW1_1RGbk2"
      },
      "execution_count": null,
      "outputs": []
    },
    {
      "cell_type": "code",
      "source": [
        "# Valores de tabla provista por la cátedra\n",
        "v1 = 0.0010606 # [m^3/kg]\n",
        "v2 = 0.8915    # [m^3/kg]\n",
        "u1 = 503.51    # [kJ/kg]\n",
        "u2 = 2528.96   # [kJ/kg]\n",
        "h1 = 503.72    # [kJ/kg]\n",
        "h2 = 2705.96   # [kJ/kg]"
      ],
      "metadata": {
        "id": "qBpwm8DpiWca"
      },
      "execution_count": null,
      "outputs": []
    },
    {
      "cell_type": "code",
      "source": [
        "v_f = v1 + x_f*(v2 - v1)\n",
        "u_f = u1 + x_f*(u2 - u1)\n",
        "h_f = h1 + x_f*(h2 - h1)"
      ],
      "metadata": {
        "id": "5G6cGYBZjSmM"
      },
      "execution_count": null,
      "outputs": []
    },
    {
      "cell_type": "code",
      "source": [
        "#@title f) Resultados\n",
        "print(\"v = %.5f [m^3/kg]\"%v_f)\n",
        "print(\"u = %.3f [kJ/kg]\"%u_f )\n",
        "print(\"h = %.2f [kJ/kg]\"%h_f )"
      ],
      "metadata": {
        "colab": {
          "base_uri": "https://localhost:8080/"
        },
        "cellView": "form",
        "id": "4UmCzqFWjppL",
        "outputId": "4bb9d1d4-a697-4fe6-9234-71179dca40ef"
      },
      "execution_count": null,
      "outputs": [
        {
          "output_type": "stream",
          "name": "stdout",
          "text": [
            "v = 0.62437 [m^3/kg]\n",
            "u = 1921.325 [kJ/kg]\n",
            "h = 2045.29 [kJ/kg]\n"
          ]
        }
      ]
    },
    {
      "cell_type": "markdown",
      "source": [
        "Usando biblioteca CoolProp"
      ],
      "metadata": {
        "id": "Xq1x0eiyj2C4"
      }
    },
    {
      "cell_type": "code",
      "source": [
        "v_f = 1/cp.PropsSI('D','T',T_f,'Q',x_f,'Water')\n",
        "u_f = cp.PropsSI('U','T',T_f,'Q',x_f,'Water')\n",
        "h_f = cp.PropsSI('H','T',T_f,'Q',x_f,'Water')"
      ],
      "metadata": {
        "id": "3LK1WB7XG6Fv"
      },
      "execution_count": null,
      "outputs": []
    },
    {
      "cell_type": "code",
      "source": [
        "#@title f) Resultados CoolProp\n",
        "print(\"v = %.5f [m^3/kg]\"%v_f)\n",
        "print(\"u = %.3f [kJ/kg]\"%(u_f/1000) )\n",
        "print(\"h = %.2f [kJ/kg]\"%(h_f/1000) )"
      ],
      "metadata": {
        "colab": {
          "base_uri": "https://localhost:8080/"
        },
        "cellView": "form",
        "id": "YWT6_5qlHYpU",
        "outputId": "0bb4e3b7-9aa7-47b2-8ffb-8f168ec0701e"
      },
      "execution_count": null,
      "outputs": [
        {
          "output_type": "stream",
          "name": "stdout",
          "text": [
            "v = 0.62417 [m^3/kg]\n",
            "u = 1921.286 [kJ/kg]\n",
            "h = 2045.29 [kJ/kg]\n"
          ]
        }
      ]
    },
    {
      "cell_type": "markdown",
      "source": [
        "---\n",
        "###g) v, h, T y x si P=8,5 bar y u= 900 KJ/Kg"
      ],
      "metadata": {
        "id": "kQaOW7JuHnbR"
      }
    },
    {
      "cell_type": "markdown",
      "source": [
        "Cálculo de $x$\n",
        "\n",
        "$$x = \\frac{u - u'}{u'' - u'}$$"
      ],
      "metadata": {
        "id": "fLkQo56LoPfA"
      }
    },
    {
      "cell_type": "markdown",
      "source": [
        "$u' = 731,08 \\; \\mathrm{kJ/kg}$    \n",
        "$u'' = 2577,10 \\; \\mathrm{kJ/kg}$"
      ],
      "metadata": {
        "id": "YwTMu3lyoe1M"
      }
    },
    {
      "cell_type": "markdown",
      "source": [
        "$$x = \\frac{900 - 731,08}{2577,10 - 731,08}$$"
      ],
      "metadata": {
        "id": "_I04xluKorq9"
      }
    },
    {
      "cell_type": "markdown",
      "source": [
        "$$\\color{red}{x \\approx 0,0915}$$"
      ],
      "metadata": {
        "id": "K4A-6F3BpKT-"
      }
    },
    {
      "cell_type": "markdown",
      "source": [
        "$v' = 0,001118 \\; \\mathrm{m^3/kg}$     \n",
        "$v'' = 0,2268 \\; \\mathrm{m^3/kg}$"
      ],
      "metadata": {
        "id": "BthuTYnnpQ_L"
      }
    },
    {
      "cell_type": "markdown",
      "source": [
        "$$v = v' + x (v'' - v')$$"
      ],
      "metadata": {
        "id": "Gu4WkqbzpiP2"
      }
    },
    {
      "cell_type": "markdown",
      "source": [
        "$$v = 0,001118 + 0,0915 (0,2268 - 0,001118)$$"
      ],
      "metadata": {
        "id": "1D7KgDYXpoP2"
      }
    },
    {
      "cell_type": "markdown",
      "source": [
        "$$\\color{red}{v = 0,02177 \\; \\mathrm{m^3/kg}}$$"
      ],
      "metadata": {
        "id": "_o-ghN6np4uN"
      }
    },
    {
      "cell_type": "markdown",
      "source": [
        "$h' = 732,03 \\; \\mathrm{kJ/kg}$    \n",
        "$h'' = 2769,89 \\; \\mathrm{kJ/kg}$"
      ],
      "metadata": {
        "id": "E4-IEcpOqYoG"
      }
    },
    {
      "cell_type": "markdown",
      "source": [
        "$$h = h' + x (h'' - h')$$"
      ],
      "metadata": {
        "id": "fmxMIQjnqpet"
      }
    },
    {
      "cell_type": "markdown",
      "source": [
        "$$h = 732,03 + 0,0915 (2769,89 - 732,03)$$"
      ],
      "metadata": {
        "id": "DT66b654qu82"
      }
    },
    {
      "cell_type": "markdown",
      "source": [
        "$$\\color{red}{h = 918,50 \\; \\mathrm{kJ/kg}}$$"
      ],
      "metadata": {
        "id": "9fJpF_PSrD3W"
      }
    },
    {
      "cell_type": "markdown",
      "source": [
        "$t = 172,94^\\circ \\mathrm{C}$"
      ],
      "metadata": {
        "id": "4QkMIDrhq6UP"
      }
    },
    {
      "cell_type": "markdown",
      "source": [
        "$$T = 172,94 + 273,15$$"
      ],
      "metadata": {
        "id": "wwvwZ1d6rgZQ"
      }
    },
    {
      "cell_type": "markdown",
      "source": [
        "$$\\color{red}{T = 446,09 \\; \\mathrm{K}}$$"
      ],
      "metadata": {
        "id": "W41AtGESrktG"
      }
    },
    {
      "cell_type": "code",
      "source": [
        "# Datos:\n",
        "P_g = 8.5e5  # [Pa]\n",
        "u_g = 900e3  # [J/kg]"
      ],
      "metadata": {
        "id": "K8QIDPgDHhwM"
      },
      "execution_count": null,
      "outputs": []
    },
    {
      "cell_type": "code",
      "source": [
        "cp.PhaseSI('P',P_g,'U',u_g,'Water')"
      ],
      "metadata": {
        "colab": {
          "base_uri": "https://localhost:8080/",
          "height": 35
        },
        "id": "Jk1WBS7cImrj",
        "outputId": "66872677-cd18-46ac-d825-f2861fa92e74"
      },
      "execution_count": null,
      "outputs": [
        {
          "output_type": "execute_result",
          "data": {
            "text/plain": [
              "'twophase'"
            ],
            "application/vnd.google.colaboratory.intrinsic+json": {
              "type": "string"
            }
          },
          "metadata": {},
          "execution_count": 27
        }
      ]
    },
    {
      "cell_type": "code",
      "source": [
        "v_g = 1/cp.PropsSI('D','P',P_g,'U',u_g,'Water')\n",
        "h_g = cp.PropsSI('H','P',P_g,'U',u_g,'Water')\n",
        "T_g = cp.PropsSI('T','P',P_g,'U',u_g,'Water')\n",
        "x_g = cp.PropsSI('Q','P',P_g,'U',u_g,'Water')"
      ],
      "metadata": {
        "id": "ytYxljU4Idkv"
      },
      "execution_count": null,
      "outputs": []
    },
    {
      "cell_type": "code",
      "source": [
        "#@title g) Resultados\n",
        "print(\"v = %.5f [m^3/kg]\"%v_g)\n",
        "print(\"h = %.2f [kJ/kg]\"%(h_g/1000) )\n",
        "print(\"T = %.2f [K]\"%T_g)\n",
        "print(\"x = %.5f\"%x_g)"
      ],
      "metadata": {
        "colab": {
          "base_uri": "https://localhost:8080/"
        },
        "cellView": "form",
        "id": "JTz6UUErJOaL",
        "outputId": "5df23a59-6eea-4516-dc26-b78b2c439702"
      },
      "execution_count": null,
      "outputs": [
        {
          "output_type": "stream",
          "name": "stdout",
          "text": [
            "v = 0.02178 [m^3/kg]\n",
            "h = 918.51 [kJ/kg]\n",
            "T = 446.09 [K]\n",
            "x = 0.09150\n"
          ]
        }
      ]
    }
  ]
}