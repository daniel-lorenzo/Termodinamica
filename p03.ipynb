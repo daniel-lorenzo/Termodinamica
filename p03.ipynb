{
 "cells": [
  {
   "cell_type": "markdown",
   "metadata": {},
   "source": [
    "# Clase práctica 3\n",
    "__UNLZ - Facultad de Ingeniería__       \n",
    "__Termodinámica__      \n",
    "__Alumno:__ Daniel Antonio Lorenzo\n",
    "\n",
    "<!--NAVIGATION-->\n",
    "[<-Previous ](https://nbviewer.jupyter.org/github/daniel-lorenzo/Termodinamica/blob/master/p02.ipynb) | [Index](https://github.com/daniel-lorenzo/Termodinamica/blob/master/Readme.md) | [Next -> ](https://nbviewer.jupyter.org/github/daniel-lorenzo/Termodinamica/blob/master/p04.ipynb)\n",
    "\n",
    "<a href=\"https://colab.research.google.com/github/daniel-lorenzo/Termodinamica/blob/master/p03.ipynb\"><img align=\"left\" src=\"https://colab.research.google.com/assets/colab-badge.svg\" alt=\"Open in Colab\" title=\"Open and Execute in Google Colaboratory\"></a>"
   ]
  },
  {
   "cell_type": "markdown",
   "metadata": {},
   "source": [
    "# Ejercicio 15\n",
    "Utilizando la tabla de propiedades del agua, determinar:\n",
    "\n",
    "    a) v, u, h y x si P=20 bar y T=400°C \n",
    "    b) v, u, h y T si P=10 bar y x=1\n",
    "    c) v, u, h y P si se tiene líquido saturado a T=295°C\n",
    "    d) v, u, T y x si P=2 kPa y h=1500 kJ/kg\n",
    "    e) x, u, h y T si P=5 bar y v=0,4148 m³/kg\n",
    "    f) v, u, h y P si T=120°C y x=0,7\n",
    "    g) v, h, T y x si P=8,5 bar y u=900 kJ/kg\n",
    "     "
   ]
  },
  {
   "cell_type": "markdown",
   "metadata": {},
   "source": [
    "## Solución\n",
    "Buscamos en la tabla:\n",
    "\n",
    "### a) ítem\n",
    "    v, u, h y x si P=20 bar y T=400°C "
   ]
  },
  {
   "cell_type": "markdown",
   "metadata": {},
   "source": [
    "Usando tabla de papel (proporcionada por la cátedra):\n",
    "\n",
    "| h  (kJ/kg)    | v  (m³/kg)        | u (kJ/kg)    | x                      |\n",
    "|---------------|--------------------|--------------|------------------------|\n",
    "|3248,70        | 0,15113            | 2946,45      | $\\nexists$ (no existe) |        "
   ]
  },
  {
   "cell_type": "markdown",
   "metadata": {},
   "source": [
    "Con __miniREFPROP__ - (National Intitute of Standards and Technology):\n",
    "\n",
    "<img src=\"img/15_ma.png\">\n",
    "\n",
    "Con biblioteca __CoolProp__"
   ]
  },
  {
   "cell_type": "code",
   "execution_count": 1,
   "metadata": {},
   "outputs": [],
   "source": [
    "# Importa CoolProp library en python 3 (requiere instalación) - www.coolprop.org\n",
    "import CoolProp.CoolProp as cp"
   ]
  },
  {
   "cell_type": "code",
   "execution_count": 2,
   "metadata": {},
   "outputs": [],
   "source": [
    "# Datos:\n",
    "P = 20e5 # Pa\n",
    "T = 400 + 273.15 # K"
   ]
  },
  {
   "cell_type": "code",
   "execution_count": 3,
   "metadata": {},
   "outputs": [],
   "source": [
    "# Consultamos entalpía (h):\n",
    "h = cp.PropsSI('H','P',P,'T',T,'Water') \n",
    "# Consultamos volumen específico (v):\n",
    "v = 1 / cp.PropsSI('D','P',P,'T',T,'Water')\n",
    "# Consultamos energía interna (u):\n",
    "u = cp.PropsSI('U','P',P,'T',T,'Water') "
   ]
  },
  {
   "cell_type": "code",
   "execution_count": 4,
   "metadata": {},
   "outputs": [
    {
     "name": "stdout",
     "output_type": "stream",
     "text": [
      "h = 3248.34 kJ/kg\n",
      "v = 0.15121 m^3/kg\n",
      "u = 2945.91 kJ/kg\n"
     ]
    }
   ],
   "source": [
    "print('h = %.2f kJ/kg'%(h/1000))\n",
    "print('v = %.5f m^3/kg'%v)\n",
    "print('u = %.2f kJ/kg'%(u/1000))"
   ]
  },
  {
   "cell_type": "markdown",
   "metadata": {},
   "source": [
    "### b) ítem\n",
    "    v, u, h y T si P=10 bar y x=1\n",
    "    \n",
    "Usando tabla de papel (proporcionada por la cátedra):\n",
    "\n",
    "| h  (kJ/kg)    | v (m³/kg)         | u (kJ/kg)   | t°C   |\n",
    "|---------------|--------------------|-------------|-------|\n",
    "| 2776,17       | 0,1943             | 2581,88     |179,88 |"
   ]
  },
  {
   "cell_type": "markdown",
   "metadata": {},
   "source": [
    "Con __miniREFPROP__\n",
    "<img src=\"img/15_mb.png\">"
   ]
  },
  {
   "cell_type": "markdown",
   "metadata": {},
   "source": [
    "Usando biblioteca __CoolProp__"
   ]
  },
  {
   "cell_type": "code",
   "execution_count": 5,
   "metadata": {},
   "outputs": [],
   "source": [
    "# Datos:\n",
    "P = 10e5 # Pa\n",
    "x = 1 # vapor saturado"
   ]
  },
  {
   "cell_type": "code",
   "execution_count": 6,
   "metadata": {},
   "outputs": [],
   "source": [
    "# Entalpía\n",
    "h = cp.PropsSI('H','P',P,'Q',x,'Water')  \n",
    "# Volumen específico\n",
    "v = 1 / cp.PropsSI('D','P',P,'Q',x,'Water')\n",
    "# Energía interna\n",
    "u = cp.PropsSI('U','P',P,'Q',x,'Water')"
   ]
  },
  {
   "cell_type": "code",
   "execution_count": 7,
   "metadata": {},
   "outputs": [
    {
     "name": "stdout",
     "output_type": "stream",
     "text": [
      "h = 2777.11 kJ/kg\n",
      "v = 0.19436 m^3/kg\n",
      "u = 2582.75 kJ/kg\n"
     ]
    }
   ],
   "source": [
    "print('h = %.2f kJ/kg'%(h/1000))\n",
    "print('v = %.5f m^3/kg'%v)\n",
    "print('u = %.2f kJ/kg'%(u/1000))"
   ]
  },
  {
   "cell_type": "markdown",
   "metadata": {},
   "source": [
    " ### c) ítem\n",
    "    v, u, h y P si se tiene líquido saturado a T=295°C\n",
    "    \n",
    "Usando tabla de papel (proporcionada por la cátedra):\n",
    "\n",
    "| h  (kJ/kg)    | v (m³/kg)          | u (kJ/kg)    | P (kPa)                |\n",
    "|---------------|--------------------|--------------|------------------------|\n",
    "| 1317,27       | 0,0013844          | 1306,19      | 8003,69  |     "
   ]
  },
  {
   "cell_type": "markdown",
   "metadata": {},
   "source": [
    "Con __miniREFPROP__\n",
    "![15_mc.png](img/15_mc.png)"
   ]
  },
  {
   "cell_type": "markdown",
   "metadata": {},
   "source": [
    "Usando biblioteca __CoolProp__"
   ]
  },
  {
   "cell_type": "code",
   "execution_count": 8,
   "metadata": {},
   "outputs": [],
   "source": [
    "# Datos:\n",
    "T = 295 + 273.15 # K\n",
    "x = 0 # líquido saturado"
   ]
  },
  {
   "cell_type": "code",
   "execution_count": 9,
   "metadata": {},
   "outputs": [],
   "source": [
    "# Entalpía\n",
    "h = cp.PropsSI('H','T',T,'Q',x,'Water')\n",
    "# Volumen específico\n",
    "v = 1 / cp.PropsSI('D','T',T,'Q',x,'Water')\n",
    "# Energía interna\n",
    "u = cp.PropsSI('U','T',T,'Q',x,'Water')"
   ]
  },
  {
   "cell_type": "code",
   "execution_count": 10,
   "metadata": {},
   "outputs": [
    {
     "name": "stdout",
     "output_type": "stream",
     "text": [
      "h = 1317.27 kJ/kg\n",
      "v = 0.0013846 m^3/kg\n",
      "u = 1306.19 kJ/kg\n"
     ]
    }
   ],
   "source": [
    "print('h = %.2f kJ/kg'%(h/1000))\n",
    "print('v = %.7f m^3/kg'%v)\n",
    "print('u = %.2f kJ/kg'%(u/1000))"
   ]
  },
  {
   "cell_type": "markdown",
   "metadata": {},
   "source": [
    "### d) ítem\n",
    "     v, u, T y x si P=2 kPa y h=1500 kJ/kg\n",
    "    \n",
    "$$\\begin{array}{c}\n",
    "\\displaystyle x = \\frac{v-v'}{v''-v'} = \\frac{u-u'}{u''-u'} = \\frac{h-h'}{h''-h'} = \\frac{s-s'}{s''-s'} \\\\\n",
    "h = x \\, (h''-h')+h' \n",
    "\\end{array}$$"
   ]
  },
  {
   "cell_type": "code",
   "execution_count": 11,
   "metadata": {},
   "outputs": [],
   "source": [
    "# Datos:\n",
    "h = 1500*1000 # J/kg\n",
    "P = 2000 # Pa\n",
    "# h1 = 73.46 # kJ/kg (dato de tabla de papel)\n",
    "# h2 = 2533.65 # kJ/kg (dato de tabla de papel)"
   ]
  },
  {
   "cell_type": "code",
   "execution_count": 12,
   "metadata": {},
   "outputs": [],
   "source": [
    "h1 = cp.PropsSI('H','P',P,'Q',0,'Water')\n",
    "h2 = cp.PropsSI('H','P',P,'Q',1,'Water')"
   ]
  },
  {
   "cell_type": "code",
   "execution_count": 13,
   "metadata": {},
   "outputs": [
    {
     "name": "stdout",
     "output_type": "stream",
     "text": [
      "h1 = 73.43 kJ/kg\n",
      "h2 = 2532.88 kJ/kg\n"
     ]
    }
   ],
   "source": [
    "print('h1 = %.2f kJ/kg'%(h1/1000))\n",
    "print('h2 = %.2f kJ/kg'%(h2/1000))"
   ]
  },
  {
   "cell_type": "code",
   "execution_count": 14,
   "metadata": {},
   "outputs": [
    {
     "name": "stdout",
     "output_type": "stream",
     "text": [
      "x = 0.58\n"
     ]
    }
   ],
   "source": [
    "x = (h-h1)/(h2-h1)\n",
    "\n",
    "print('x =',round(x,4))"
   ]
  },
  {
   "cell_type": "code",
   "execution_count": 15,
   "metadata": {},
   "outputs": [],
   "source": [
    "v1 = 1/cp.PropsSI('D','P',P,'Q',0,'Water')\n",
    "v2 = 1/cp.PropsSI('D','P',P,'Q',1,'Water')"
   ]
  },
  {
   "cell_type": "code",
   "execution_count": 16,
   "metadata": {},
   "outputs": [
    {
     "name": "stdout",
     "output_type": "stream",
     "text": [
      "v1 = 0.001001 m^3\n",
      "v2 = 66.986876 m^3\n"
     ]
    }
   ],
   "source": [
    "print('v1 = %.6f m^3'%v1)\n",
    "print('v2 = %.6f m^3'%v2)"
   ]
  },
  {
   "cell_type": "code",
   "execution_count": 17,
   "metadata": {},
   "outputs": [],
   "source": [
    "v = x*(v2-v1)+v1"
   ]
  },
  {
   "cell_type": "code",
   "execution_count": 18,
   "metadata": {},
   "outputs": [
    {
     "name": "stdout",
     "output_type": "stream",
     "text": [
      "v = 38.855 m^3/kg\n"
     ]
    }
   ],
   "source": [
    "print('v = %.3f m^3/kg'%v)"
   ]
  },
  {
   "cell_type": "code",
   "execution_count": 19,
   "metadata": {},
   "outputs": [],
   "source": [
    "u1 = cp.PropsSI('U','P',P,'Q',0,'Water')\n",
    "u2 = cp.PropsSI('U','P',P,'Q',1,'Water')"
   ]
  },
  {
   "cell_type": "code",
   "execution_count": 20,
   "metadata": {},
   "outputs": [
    {
     "name": "stdout",
     "output_type": "stream",
     "text": [
      "u1 = 73.43 kJ/kg\n",
      "u2 = 2398.90 kJ/kg\n"
     ]
    }
   ],
   "source": [
    "print('u1 = %.2f kJ/kg'%(u1/1000))\n",
    "print('u2 = %.2f kJ/kg'%(u2/1000))"
   ]
  },
  {
   "cell_type": "code",
   "execution_count": 21,
   "metadata": {},
   "outputs": [],
   "source": [
    "# u1 = 73.46 # kJ/Kg (dato tabla de papel)\n",
    "# u2 = 2399.64 # kJ/kg (dato tabla de papel)\n",
    "\n",
    "u = x*(u2-u1)+u1"
   ]
  },
  {
   "cell_type": "code",
   "execution_count": 22,
   "metadata": {},
   "outputs": [
    {
     "name": "stdout",
     "output_type": "stream",
     "text": [
      "u = 1422.289 kJ/kg\n"
     ]
    }
   ],
   "source": [
    "print('u = %.3f kJ/kg'%(u/1000))"
   ]
  },
  {
   "cell_type": "markdown",
   "metadata": {},
   "source": [
    "t = 17,51°C (dato tabla)"
   ]
  },
  {
   "cell_type": "markdown",
   "metadata": {},
   "source": [
    "Usando biblioteca __CoolProp__"
   ]
  },
  {
   "cell_type": "code",
   "execution_count": 23,
   "metadata": {},
   "outputs": [],
   "source": [
    "P = 2000 # Pa\n",
    "h = 1500*1000 # J/kg"
   ]
  },
  {
   "cell_type": "code",
   "execution_count": 24,
   "metadata": {},
   "outputs": [],
   "source": [
    "v = 1 / cp.PropsSI('D','P',P,'H',h,'Water')\n",
    "u = cp.PropsSI('U','P',P,'H',h,'Water') # kJ/kg\n",
    "T = cp.PropsSI('T','P',P,'H',h,'Water') # K\n",
    "x = cp.PropsSI('Q','P',P,'H',h,'Water')"
   ]
  },
  {
   "cell_type": "code",
   "execution_count": 25,
   "metadata": {},
   "outputs": [
    {
     "name": "stdout",
     "output_type": "stream",
     "text": [
      "v = 38.8553011 m^3/kg\n",
      "u = 1422.289 kJ/kg\n",
      "T = 290.64 K\n",
      "t = 17.49 °C\n",
      "x = 0.58004\n"
     ]
    }
   ],
   "source": [
    "print('v = %.7f m^3/kg'%v)\n",
    "print('u = %.3f kJ/kg'%(u/1000))\n",
    "print('T = %.2f K'%T)\n",
    "t = T - 273.15\n",
    "print('t = %.2f °C'%t)\n",
    "print('x = %.5f'%x)"
   ]
  },
  {
   "cell_type": "code",
   "execution_count": 26,
   "metadata": {},
   "outputs": [],
   "source": [
    "%reset -s -f"
   ]
  },
  {
   "cell_type": "markdown",
   "metadata": {},
   "source": [
    "### e) ítem\n",
    "    x, u, h y T si P=5 bar y v=0,4148 m³/kg"
   ]
  },
  {
   "cell_type": "markdown",
   "metadata": {},
   "source": [
    "    v = 0,4148 m³/kg   =>   u = 2626,00 kJ/kg   \n",
    "    => s = 7,01275 kJ/(kg K) \n",
    "    => h = 2833,40 kJ/kg  => t = 190°C\n",
    "    \n",
    "    x = no existe"
   ]
  },
  {
   "cell_type": "markdown",
   "metadata": {},
   "source": [
    "### f) ítem\n",
    "v, u, h y P si T=120°C y x=0,7"
   ]
  },
  {
   "cell_type": "code",
   "execution_count": 27,
   "metadata": {},
   "outputs": [],
   "source": [
    "x = 0.7\n",
    "v1 = 0.0010606 # m^3/kg (dato tabla A)\n",
    "v2 = 0.8915 # m^3/kg (dato tabla A)"
   ]
  },
  {
   "cell_type": "code",
   "execution_count": 28,
   "metadata": {},
   "outputs": [],
   "source": [
    "v = x*(v2-v1)+v1"
   ]
  },
  {
   "cell_type": "code",
   "execution_count": 29,
   "metadata": {},
   "outputs": [
    {
     "name": "stdout",
     "output_type": "stream",
     "text": [
      "v = 0.6244 m^3/kg\n"
     ]
    }
   ],
   "source": [
    "print('v = %.4f m^3/kg'%v)"
   ]
  },
  {
   "cell_type": "code",
   "execution_count": 30,
   "metadata": {},
   "outputs": [],
   "source": [
    "u1 = 503.51 # kJ/kg (dato tabla A)\n",
    "u2 = 2528.96 # kJ/kg (dato tabla A)"
   ]
  },
  {
   "cell_type": "code",
   "execution_count": 31,
   "metadata": {},
   "outputs": [],
   "source": [
    "u = x*(u2-u1)+u1"
   ]
  },
  {
   "cell_type": "code",
   "execution_count": 32,
   "metadata": {},
   "outputs": [
    {
     "name": "stdout",
     "output_type": "stream",
     "text": [
      "u = 1921.325 kJ/kg\n"
     ]
    }
   ],
   "source": [
    "print('u = %.3f kJ/kg'%u)"
   ]
  },
  {
   "cell_type": "code",
   "execution_count": 33,
   "metadata": {},
   "outputs": [],
   "source": [
    "h1 = 503.72 # kJ/kg (dato tabla A)\n",
    "h2 = 2705.96 # kJ/kg (dato tabla A)"
   ]
  },
  {
   "cell_type": "code",
   "execution_count": 34,
   "metadata": {},
   "outputs": [],
   "source": [
    "h = x*(h2-h1)+h1"
   ]
  },
  {
   "cell_type": "code",
   "execution_count": 35,
   "metadata": {},
   "outputs": [
    {
     "name": "stdout",
     "output_type": "stream",
     "text": [
      "h = 2045.288 kJ/kg\n"
     ]
    }
   ],
   "source": [
    "print('h = %.3f kJ/kg'%h)"
   ]
  },
  {
   "cell_type": "markdown",
   "metadata": {},
   "source": [
    "P = 198,54 kPa (dato tabla A)"
   ]
  },
  {
   "cell_type": "code",
   "execution_count": 36,
   "metadata": {},
   "outputs": [],
   "source": [
    "%reset -s -f"
   ]
  },
  {
   "cell_type": "markdown",
   "metadata": {},
   "source": [
    "### g) ítem\n",
    "    v, h, T y x si P=8,5 bar y u=900 kJ/kg\n",
    "    \n",
    "$$ x = \\frac{u-u'}{u''-u'}  $$"
   ]
  },
  {
   "cell_type": "code",
   "execution_count": 37,
   "metadata": {},
   "outputs": [],
   "source": [
    "u = 900 # kJ/kg\n",
    "u1 = 731.08 # kJ/kg (dato tabla B)\n",
    "u2 = 2577.10 # kJ/kg (dato tabla B)"
   ]
  },
  {
   "cell_type": "code",
   "execution_count": 38,
   "metadata": {},
   "outputs": [],
   "source": [
    "x = (u-u1)/(u2-u1)"
   ]
  },
  {
   "cell_type": "code",
   "execution_count": 39,
   "metadata": {},
   "outputs": [
    {
     "name": "stdout",
     "output_type": "stream",
     "text": [
      "x = 0.0915\n"
     ]
    }
   ],
   "source": [
    "print('x = %.4f'%x)"
   ]
  },
  {
   "cell_type": "code",
   "execution_count": 40,
   "metadata": {},
   "outputs": [],
   "source": [
    "v1 = 0.001118 # m^3/kg (dato tabla B)\n",
    "v2 = 0.2268 # m^3/kg (dato tabla B)"
   ]
  },
  {
   "cell_type": "code",
   "execution_count": 41,
   "metadata": {},
   "outputs": [],
   "source": [
    "v = x*(v2-v1)+v1"
   ]
  },
  {
   "cell_type": "code",
   "execution_count": 42,
   "metadata": {},
   "outputs": [
    {
     "name": "stdout",
     "output_type": "stream",
     "text": [
      "v = 0.0218 m^3/kg\n"
     ]
    }
   ],
   "source": [
    "print('v = %.4f m^3/kg'%v)"
   ]
  },
  {
   "cell_type": "code",
   "execution_count": 43,
   "metadata": {},
   "outputs": [],
   "source": [
    "h1 = 732.03 # kJ/kg (dato tabla B)\n",
    "h2 = 2769.89 # kJ/kg (dato tabla B)"
   ]
  },
  {
   "cell_type": "code",
   "execution_count": 44,
   "metadata": {},
   "outputs": [],
   "source": [
    "h = x*(h2-h1)+h1"
   ]
  },
  {
   "cell_type": "code",
   "execution_count": 45,
   "metadata": {},
   "outputs": [
    {
     "name": "stdout",
     "output_type": "stream",
     "text": [
      "h = 918.5043 kJ/kg\n"
     ]
    }
   ],
   "source": [
    "print('h = %.4f kJ/kg'%h)"
   ]
  },
  {
   "cell_type": "markdown",
   "metadata": {},
   "source": [
    "t = 172,94°C (dato tabla B)"
   ]
  },
  {
   "cell_type": "code",
   "execution_count": 46,
   "metadata": {},
   "outputs": [],
   "source": [
    "%reset -s -f"
   ]
  },
  {
   "cell_type": "markdown",
   "metadata": {},
   "source": [
    "# Ejercicio 16\n",
    "Se entrega energía térmica al vapor contenido en el conjunto cilindro-pistón, hasta que la temperatura alcance 220°C. Si consideramos $\\Delta E_c$ y $\\Delta E_p$ son nulas, determinar:\n",
    "\n",
    "1. Temperatura inicial del sistema\n",
    "2. $W_{\\Delta V}$\n",
    "3. Q que recibe el sistema\n",
    "4. Representación gráfica P-V\n",
    "![16.png](img/16.png)"
   ]
  },
  {
   "cell_type": "markdown",
   "metadata": {},
   "source": [
    "## Solución\n",
    "### 1. ítem\n",
    "Inicialmente $x_i=0,5$, entonces la temperatura es según tabla, t = 170,41°C"
   ]
  },
  {
   "cell_type": "markdown",
   "metadata": {},
   "source": [
    "### 2. ítem"
   ]
  },
  {
   "cell_type": "code",
   "execution_count": 47,
   "metadata": {},
   "outputs": [],
   "source": [
    "# Datos:\n",
    "v1 = 0.001115  # m^3/kg (de tabla B)\n",
    "v2 = 0.2403 # m^3/kg (de tabla B)\n",
    "x = 0.5\n",
    "m = 30 # kg"
   ]
  },
  {
   "cell_type": "code",
   "execution_count": 48,
   "metadata": {},
   "outputs": [],
   "source": [
    "# ecuación\n",
    "v = x*(v2-v1)+v1\n",
    "\n",
    "# volumen inicial\n",
    "Vol1 = v * m"
   ]
  },
  {
   "cell_type": "code",
   "execution_count": 49,
   "metadata": {},
   "outputs": [
    {
     "name": "stdout",
     "output_type": "stream",
     "text": [
      "Vol1 = 3.6212 m^3 (Volumen inicial)\n"
     ]
    }
   ],
   "source": [
    "print('Vol1 = %.4f m^3 (Volumen inicial)'%Vol1)"
   ]
  },
  {
   "cell_type": "code",
   "execution_count": 50,
   "metadata": {},
   "outputs": [],
   "source": [
    "vf = 0.27402 # m^3/kg\n",
    "Vol2 = vf * m"
   ]
  },
  {
   "cell_type": "code",
   "execution_count": 51,
   "metadata": {},
   "outputs": [
    {
     "name": "stdout",
     "output_type": "stream",
     "text": [
      "Vol2 = 8.221 m^3 (Volumen final)\n"
     ]
    }
   ],
   "source": [
    "print('Vol2 = %.3f m^3 (Volumen final)'%Vol2)"
   ]
  },
  {
   "cell_type": "code",
   "execution_count": 52,
   "metadata": {},
   "outputs": [],
   "source": [
    "P = 8*100 # kPa\n",
    "\n",
    "Wdv = P * (Vol2-Vol1)"
   ]
  },
  {
   "cell_type": "code",
   "execution_count": 53,
   "metadata": {},
   "outputs": [
    {
     "name": "stdout",
     "output_type": "stream",
     "text": [
      "El trabajo por variación de volumen es:\n",
      "Wdv = 3679.50 kJ\n"
     ]
    }
   ],
   "source": [
    "print('El trabajo por variación de volumen es:')\n",
    "print('Wdv = %.2f kJ'%Wdv)"
   ]
  },
  {
   "cell_type": "markdown",
   "metadata": {},
   "source": [
    "### 3. ítem\n",
    "$$ Q = \\Delta U + W_{\\Delta V}  $$"
   ]
  },
  {
   "cell_type": "code",
   "execution_count": 54,
   "metadata": {},
   "outputs": [],
   "source": [
    "u1 = 720.05 # (de tabla)\n",
    "u2 = 2575.25 # (de tabla)"
   ]
  },
  {
   "cell_type": "code",
   "execution_count": 55,
   "metadata": {},
   "outputs": [],
   "source": [
    "# equación\n",
    "ui = x*(u2-u1)+u1 # kJ/kg\n",
    "Uinicial = ui * m # Energía interna inicial\n",
    "uf = 2665.03 # kJ/kg (de tabla)\n",
    "Ufinal = uf * m # Energía interna final\n",
    "# Entonces:\n",
    "Q = (Ufinal - Uinicial) + Wdv"
   ]
  },
  {
   "cell_type": "code",
   "execution_count": 56,
   "metadata": {},
   "outputs": [
    {
     "name": "stdout",
     "output_type": "stream",
     "text": [
      "Q = 34200.9 kJ\n"
     ]
    }
   ],
   "source": [
    "print('Q = %.1f kJ'%Q)"
   ]
  },
  {
   "cell_type": "code",
   "execution_count": 57,
   "metadata": {},
   "outputs": [],
   "source": [
    "%reset -s -f"
   ]
  },
  {
   "cell_type": "markdown",
   "metadata": {},
   "source": [
    "## Ejercicio 17\n",
    "Una masa de agua líquida saturada de 5kg se evapora totalmente a una presión \n",
    "constante de 500 kPa.\n",
    "\n",
    "Calcular:\n",
    "    \n",
    "    a) ΔV\n",
    "    b) W\n",
    "    c) Q"
   ]
  },
  {
   "cell_type": "markdown",
   "metadata": {},
   "source": [
    "## Solución\n",
    "### a)"
   ]
  },
  {
   "cell_type": "code",
   "execution_count": 58,
   "metadata": {},
   "outputs": [],
   "source": [
    "m = 5          # kg\n",
    "v1 = 0.001093  # m^3/kg\n",
    "v2 = 0.3747    # m^3/kg"
   ]
  },
  {
   "cell_type": "code",
   "execution_count": 59,
   "metadata": {},
   "outputs": [],
   "source": [
    "# Variación de volumen:\n",
    "DV = m*(v2 - v1)"
   ]
  },
  {
   "cell_type": "code",
   "execution_count": 60,
   "metadata": {},
   "outputs": [
    {
     "name": "stdout",
     "output_type": "stream",
     "text": [
      "DV = 1.868 m^3\n"
     ]
    }
   ],
   "source": [
    "print('DV = %.3f m^3'%DV)"
   ]
  },
  {
   "cell_type": "markdown",
   "metadata": {},
   "source": [
    "### b)"
   ]
  },
  {
   "cell_type": "code",
   "execution_count": 61,
   "metadata": {},
   "outputs": [],
   "source": [
    "P = 500 # kPa\n",
    "W = P * DV"
   ]
  },
  {
   "cell_type": "code",
   "execution_count": 62,
   "metadata": {},
   "outputs": [
    {
     "name": "stdout",
     "output_type": "stream",
     "text": [
      "W = 934.02 kJ\n"
     ]
    }
   ],
   "source": [
    "print('W = %.2f kJ'%W)"
   ]
  },
  {
   "cell_type": "markdown",
   "metadata": {},
   "source": [
    "### c)\n",
    "$$ Q = \\Delta U + W   $$"
   ]
  },
  {
   "cell_type": "code",
   "execution_count": 63,
   "metadata": {},
   "outputs": [],
   "source": [
    "ui = 639.57 # kJ/kg (de tabla B)\n",
    "uf = 2560.20 # kJ/kg (de tabla B)\n",
    "DU = m*(uf-ui) # kJ"
   ]
  },
  {
   "cell_type": "code",
   "execution_count": 64,
   "metadata": {},
   "outputs": [],
   "source": [
    "Q = DU + W"
   ]
  },
  {
   "cell_type": "code",
   "execution_count": 65,
   "metadata": {},
   "outputs": [
    {
     "name": "stdout",
     "output_type": "stream",
     "text": [
      "DU = 9603.15 kJ\n",
      "Q = 10537.17 kJ\n"
     ]
    }
   ],
   "source": [
    "print('DU = %.2f kJ'%DU)\n",
    "print('Q = %.2f kJ'%Q)"
   ]
  },
  {
   "cell_type": "code",
   "execution_count": 66,
   "metadata": {},
   "outputs": [],
   "source": [
    "%reset -s -f"
   ]
  },
  {
   "cell_type": "markdown",
   "metadata": {},
   "source": [
    "## Ejercicio 18\n",
    "Un recipiente rígido y adiabático contiene una masa de 40 kg de vapor que se encuentra\n",
    "a 80°C. Si el 37,5% de la masa está en fase líquida, y el resto como vapor:\n",
    "\n",
    "Calcular:\n",
    "\n",
    "    a) Título, x\n",
    "    b) P del recipiente\n",
    "    c) V del recipiente"
   ]
  },
  {
   "cell_type": "markdown",
   "metadata": {},
   "source": [
    "## Solución\n",
    "### a)"
   ]
  },
  {
   "cell_type": "code",
   "execution_count": 67,
   "metadata": {},
   "outputs": [
    {
     "name": "stdout",
     "output_type": "stream",
     "text": [
      "x = 0.625\n"
     ]
    }
   ],
   "source": [
    "x = 1 - 37.5 / 100\n",
    "print('x =',x)"
   ]
  },
  {
   "cell_type": "markdown",
   "metadata": {},
   "source": [
    "### b)\n",
    "P = 47,36 kPa (de tabla A)"
   ]
  },
  {
   "cell_type": "markdown",
   "metadata": {},
   "source": [
    "### c)"
   ]
  },
  {
   "cell_type": "code",
   "execution_count": 68,
   "metadata": {},
   "outputs": [],
   "source": [
    "m = 40            # kg\n",
    "v1 = 0.0010292    # m^3/kg\n",
    "v2 = 3.4091       # m^3/kg"
   ]
  },
  {
   "cell_type": "code",
   "execution_count": 69,
   "metadata": {},
   "outputs": [],
   "source": [
    "v = x*(v2-v1)+v1  # m^3/kg\n",
    "Vol = v * m       # m^3"
   ]
  },
  {
   "cell_type": "code",
   "execution_count": 70,
   "metadata": {},
   "outputs": [
    {
     "name": "stdout",
     "output_type": "stream",
     "text": [
      "Vol = 85.243 m^3\n"
     ]
    }
   ],
   "source": [
    "print('Vol = %.3f m^3'%Vol)"
   ]
  },
  {
   "cell_type": "code",
   "execution_count": 71,
   "metadata": {},
   "outputs": [],
   "source": [
    "%reset -s -f"
   ]
  },
  {
   "cell_type": "markdown",
   "metadata": {},
   "source": [
    "## Ejercicio 19\n",
    "Se abre una válvula el tiempo necesario para que se equilibren las presiones.\n",
    "En ese instante, la masa que queda en el tanque, está a 250°C. Determinar:\n",
    "\n",
    "1. Temperatura final en el cilindro\n",
    "2. Masa que ingresó al cilindro\n",
    "\n",
    "<img src=\"img/19.png\">"
   ]
  },
  {
   "cell_type": "markdown",
   "metadata": {},
   "source": [
    "### Solución"
   ]
  },
  {
   "cell_type": "code",
   "execution_count": 72,
   "metadata": {},
   "outputs": [],
   "source": [
    "import CoolProp.CoolProp as cp"
   ]
  },
  {
   "cell_type": "code",
   "execution_count": 73,
   "metadata": {},
   "outputs": [],
   "source": [
    "# A = Tanque ; B = cilindro ; 1 = inicial ; 2 = final\n",
    "T_A1 = 500 + 273.15 # K\n",
    "P_A1 = 2e6 # Pa\n",
    "# Densidad específica inicial en el tanque\n",
    "d_A1 = cp.PropsSI('D','T',T_A1,'P',P_A1,'Water')\n",
    "# Volumen específico inicial en el tanque\n",
    "v_A1 = 1 / d_A1"
   ]
  },
  {
   "cell_type": "code",
   "execution_count": 74,
   "metadata": {},
   "outputs": [
    {
     "name": "stdout",
     "output_type": "stream",
     "text": [
      "d_A1 = 5.69206 kg/m^3\n",
      "v_A1 = 0.17568 m^3/kg\n"
     ]
    }
   ],
   "source": [
    "print('d_A1 = %.5f kg/m^3'%d_A1)\n",
    "print('v_A1 = %.5f m^3/kg'%v_A1)"
   ]
  },
  {
   "cell_type": "code",
   "execution_count": 75,
   "metadata": {},
   "outputs": [],
   "source": [
    "Vol_A = 0.2 # m^3\n",
    "\n",
    "# Masa inicial en el tanque\n",
    "m_A1 = Vol_A * d_A1 # kg"
   ]
  },
  {
   "cell_type": "code",
   "execution_count": 76,
   "metadata": {},
   "outputs": [
    {
     "name": "stdout",
     "output_type": "stream",
     "text": [
      "m_A1 = 1.1384 kg\n"
     ]
    }
   ],
   "source": [
    "print('m_A1 = %.4f kg'%m_A1)"
   ]
  },
  {
   "cell_type": "code",
   "execution_count": 77,
   "metadata": {},
   "outputs": [],
   "source": [
    "T_A2 = 250 + 273.15 # K\n",
    "P_2 = 3e5 # Pa"
   ]
  },
  {
   "cell_type": "code",
   "execution_count": 78,
   "metadata": {},
   "outputs": [],
   "source": [
    "# Densidad específica final en el tanque\n",
    "d_A2 = cp.PropsSI('D','T',T_A2,'P',P_2,'Water')\n",
    "# Volumen específico final en el tanque\n",
    "v_A2 = 1 / d_A2"
   ]
  },
  {
   "cell_type": "code",
   "execution_count": 79,
   "metadata": {},
   "outputs": [
    {
     "name": "stdout",
     "output_type": "stream",
     "text": [
      "d_A2 = 1.25558 kg/m^3\n",
      "v_A2 = 0.79644 m^3/kg\n"
     ]
    }
   ],
   "source": [
    "print('d_A2 = %.5f kg/m^3'%d_A2)\n",
    "print('v_A2 = %.5f m^3/kg'%v_A2)"
   ]
  },
  {
   "cell_type": "code",
   "execution_count": 80,
   "metadata": {},
   "outputs": [],
   "source": [
    "# Masa final en el tanque\n",
    "m_A2 = Vol_A * d_A2"
   ]
  },
  {
   "cell_type": "code",
   "execution_count": 81,
   "metadata": {},
   "outputs": [
    {
     "name": "stdout",
     "output_type": "stream",
     "text": [
      "m_A2 = 0.2511 kg\n"
     ]
    }
   ],
   "source": [
    "print('m_A2 = %.4f kg'%m_A2)"
   ]
  },
  {
   "cell_type": "code",
   "execution_count": 82,
   "metadata": {},
   "outputs": [],
   "source": [
    "# Masa que ingresó en el cilindro\n",
    "m_B2 = m_A1 - m_A2"
   ]
  },
  {
   "cell_type": "code",
   "execution_count": 83,
   "metadata": {},
   "outputs": [
    {
     "name": "stdout",
     "output_type": "stream",
     "text": [
      "m_B2 = 0.8873 kg\n"
     ]
    }
   ],
   "source": [
    "print('m_B2 = %.4f kg'%m_B2)"
   ]
  },
  {
   "cell_type": "markdown",
   "metadata": {},
   "source": [
    "$$\\begin{array}{c}\n",
    "Q - W = \\Delta U \\quad ; \\quad Q=0 \\\\\n",
    "W = W_{\\Delta V} = P(V_{B1} - V_{B2}) \\quad ; \\quad \\Delta U = U_{B2} + U_{A2} - U_{A1} \\\\\n",
    "0 = U_{B2} + U_{A2} - U_{A1} + P (V_{B2} - V_{B1}) \\\\\n",
    "0 = U_{B2} + P_{B2} V_{B2} + U_{A2} - U_{A1} \\\\\n",
    "U_{B2} + P_{B2} V_{B2} = H_{B2} \\\\\n",
    "H_{B2} = U_{A1} - U_{A2} \n",
    "\\end{array}$$"
   ]
  },
  {
   "cell_type": "markdown",
   "metadata": {},
   "source": [
    "Entalpía:\n",
    "$$ H_{B2} = m_{A1} u_{A1} - m_{A2} u_{A2} = m_{B2} h_{B2} $$"
   ]
  },
  {
   "cell_type": "markdown",
   "metadata": {},
   "source": [
    "Entalpía específica:\n",
    "$$\\Rightarrow \\; h_{B2} = \\frac{H_{B2}}{m_{B2}} \\quad \\rightarrow \\quad \\mbox{Temp. por tabla} $$"
   ]
  },
  {
   "cell_type": "code",
   "execution_count": 84,
   "metadata": {},
   "outputs": [],
   "source": [
    "# Energía interna específica inicial en el tanque\n",
    "u_A1 = cp.PropsSI('U','P',P_A1,'T',T_A1,'Water') / 1000 # kJ/kg\n",
    "# Energía interna específica final en el tanque\n",
    "u_A2 = cp.PropsSI('U','P',P_2,'T',T_A2,'Water') / 1000 # kJ/kg"
   ]
  },
  {
   "cell_type": "code",
   "execution_count": 85,
   "metadata": {},
   "outputs": [
    {
     "name": "stdout",
     "output_type": "stream",
     "text": [
      "u_A1 = 3116.87 kJ/kg\n",
      "u_A2 = 2728.93 kJ/kg\n"
     ]
    }
   ],
   "source": [
    "print('u_A1 = %.2f kJ/kg'%u_A1)\n",
    "print('u_A2 = %.2f kJ/kg'%u_A2)"
   ]
  },
  {
   "cell_type": "code",
   "execution_count": 86,
   "metadata": {},
   "outputs": [],
   "source": [
    "# Entalpía final en el cilindro\n",
    "H_B2 = m_A1*u_A1 - m_A2*u_A2\n",
    "# Entalpía específica final en el cilindro\n",
    "h_B2 = H_B2 / m_B2"
   ]
  },
  {
   "cell_type": "code",
   "execution_count": 87,
   "metadata": {},
   "outputs": [
    {
     "name": "stdout",
     "output_type": "stream",
     "text": [
      "H_B2 = 2863.01 kJ\n",
      "h_B2 = 3226.67 kJ/kg\n"
     ]
    }
   ],
   "source": [
    "print('H_B2 = %.2f kJ'%H_B2)\n",
    "print('h_B2 = %.2f kJ/kg'%h_B2)"
   ]
  },
  {
   "cell_type": "code",
   "execution_count": 88,
   "metadata": {},
   "outputs": [],
   "source": [
    "# Temperatura final en el cilindro\n",
    "# CoolProp trabaja con unidades SI solamente\n",
    "# (multiplicamos h_B2 por 1000 para convertir kJ a J)\n",
    "T_B2 = cp.PropsSI('T','P',P_2,'H',h_B2*1000,'Water') # en unidades SI entalpía en (J/kg)"
   ]
  },
  {
   "cell_type": "code",
   "execution_count": 89,
   "metadata": {},
   "outputs": [
    {
     "name": "stdout",
     "output_type": "stream",
     "text": [
      "T_B2 = 649.65 K (Kelvin)\n"
     ]
    }
   ],
   "source": [
    "print('T_B2 = %.2f K (Kelvin)'%T_B2)"
   ]
  },
  {
   "cell_type": "code",
   "execution_count": 90,
   "metadata": {},
   "outputs": [],
   "source": [
    "# Temperatura final en el cilindro en grados celsius\n",
    "Temp_cil = T_B2 - 273.15 # °C"
   ]
  },
  {
   "cell_type": "code",
   "execution_count": 91,
   "metadata": {},
   "outputs": [
    {
     "name": "stdout",
     "output_type": "stream",
     "text": [
      "Temp_cil = 376.5°C\n"
     ]
    }
   ],
   "source": [
    "print('Temp_cil = %.1f°C'%Temp_cil)"
   ]
  },
  {
   "cell_type": "code",
   "execution_count": 92,
   "metadata": {},
   "outputs": [],
   "source": [
    "%reset -s -f"
   ]
  },
  {
   "cell_type": "markdown",
   "metadata": {},
   "source": [
    "-------------------\n",
    "<!--NAVIGATION-->\n",
    "[<-Previous ](https://nbviewer.jupyter.org/github/daniel-lorenzo/Termodinamica/blob/master/p02.ipynb) | [Index](https://github.com/daniel-lorenzo/Termodinamica/blob/master/Readme.md) | [Next -> ](https://nbviewer.jupyter.org/github/daniel-lorenzo/Termodinamica/blob/master/p04.ipynb)\n",
    "\n",
    "<a href=\"https://colab.research.google.com/github/daniel-lorenzo/Termodinamica/blob/master/p03.ipynb\"><img align=\"left\" src=\"https://colab.research.google.com/assets/colab-badge.svg\" alt=\"Open in Colab\" title=\"Open and Execute in Google Colaboratory\"></a>"
   ]
  }
 ],
 "metadata": {
  "kernelspec": {
   "display_name": "Python 3",
   "language": "python",
   "name": "python3"
  },
  "language_info": {
   "codemirror_mode": {
    "name": "ipython",
    "version": 3
   },
   "file_extension": ".py",
   "mimetype": "text/x-python",
   "name": "python",
   "nbconvert_exporter": "python",
   "pygments_lexer": "ipython3",
   "version": "3.7.3"
  }
 },
 "nbformat": 4,
 "nbformat_minor": 4
}
