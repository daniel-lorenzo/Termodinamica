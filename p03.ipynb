{
 "cells": [
  {
   "cell_type": "markdown",
   "metadata": {},
   "source": [
    "# Clase práctica 3 - Termodinámica\n",
    "__UNLZ - FI -- Fecha: 22/04/2019 -- Jupyter Notebook + Python 3__\n",
    "   \n",
    "__Alumno: Lorenzo, Daniel Antonio__"
   ]
  },
  {
   "cell_type": "markdown",
   "metadata": {},
   "source": [
    "## Ejercicio 15\n",
    "Utilizando la tabla de propiedades del agua, determinar:\n",
    "\n",
    "    a) v, u, h y x si P=20 bar y T=400°C \n",
    "    b) v, u, h y T si P=10 bar y x=1\n",
    "    c) v, u, h y P si se tiene líquido saturado a T=295°C\n",
    "    d) v, u, T y x si P=2 kPa y h=1500 kJ/kg\n",
    "    e) x, u, h y T si P=5 bar y v=0,4148 m³/kg\n",
    "    f) v, u, h y P si T=120°C y x=0,7\n",
    "    g) v, h, T y x si P=8,5 bar y u=900 kJ/kg\n",
    "     "
   ]
  },
  {
   "cell_type": "markdown",
   "metadata": {},
   "source": [
    "## Solución\n",
    "Buscamos en la tabla:\n",
    "\n",
    "### a) ítem\n",
    "    v, u, h y x si P=20 bar y T=400°C \n",
    "\n",
    "\n",
    "| h  (kJ/kg)    | v  (m³/kg)        | u (kJ/kg)    | x                      |\n",
    "|---------------|--------------------|--------------|------------------------|\n",
    "|3248,70        | 0,15113            | 2946,45      | $\\nexists$ (no existe) |        \n"
   ]
  },
  {
   "cell_type": "markdown",
   "metadata": {},
   "source": [
    "### b) ítem\n",
    "    v, u, h y T si P=10 bar y x=1\n",
    "    \n",
    "    \n",
    "| h  (kJ/kg)    | v (m³/kg)         | u (kJ/kg)   | t°C   |\n",
    "|---------------|--------------------|-------------|-------|\n",
    "| 2776,17       | 0,1943             | 2581,88     |179,88 |"
   ]
  },
  {
   "cell_type": "markdown",
   "metadata": {},
   "source": [
    " ### c) ítem\n",
    "    v, u, h y P si se tiene líquido saturado a T=295°C\n",
    "    \n",
    "| h  (kJ/kg)    | v (m³/kg)          | u (kJ/kg)    | P (kPa)                |\n",
    "|---------------|--------------------|--------------|------------------------|\n",
    "| 1317,27       | 0,0013844          | 1306,19      | 8003,69  |     "
   ]
  },
  {
   "cell_type": "markdown",
   "metadata": {},
   "source": [
    "### d) ítem\n",
    "     v, u, T y x si P=2 kPa y h=1500 kJ/kg\n",
    "    \n",
    "## $$ x = \\frac{v-v'}{v''-v'} = \\frac{u-u'}{u''-u'} = \\frac{h-h'}{h''-h'} = \\frac{s-s'}{s''-s'} $$\n",
    "\n",
    "## $$ h = x \\, (h''-h')+h' $$"
   ]
  },
  {
   "cell_type": "code",
   "execution_count": 39,
   "metadata": {},
   "outputs": [
    {
     "name": "stdout",
     "output_type": "stream",
     "text": [
      "x = 0.5798\n"
     ]
    }
   ],
   "source": [
    "h = 1500 # kJ/kg\n",
    "P = 2 # kPa\n",
    "h1 = 73.46 # kJ/kg (dato de tabla)\n",
    "h2 = 2533.65 # kJ/kg (dato de tabla)\n",
    "x = (h-h1)/(h2-h1)\n",
    "print('x =',round(x,4))"
   ]
  },
  {
   "cell_type": "code",
   "execution_count": 40,
   "metadata": {},
   "outputs": [
    {
     "name": "stdout",
     "output_type": "stream",
     "text": [
      "v = 38.854 m^3/kg\n"
     ]
    }
   ],
   "source": [
    "v1 = 0.001001 # m^3/kg (dato tabla)\n",
    "v2 = 67.0062 # m^3/kg (dato tabla)\n",
    "v = x*(v2-v1)+v1\n",
    "print('v =',round(v,3),'m^3/kg')"
   ]
  },
  {
   "cell_type": "code",
   "execution_count": 41,
   "metadata": {},
   "outputs": [
    {
     "name": "stdout",
     "output_type": "stream",
     "text": [
      "u = 1422.294 kJ/kg\n"
     ]
    }
   ],
   "source": [
    "u1 = 73.46 # kJ/Kg (dato tabla)\n",
    "u2 = 2399.64 # kJ/kg (dato tabla)\n",
    "u = x*(u2-u1)+u1\n",
    "print('u =',round(u,3),'kJ/kg')"
   ]
  },
  {
   "cell_type": "markdown",
   "metadata": {},
   "source": [
    "t = 17,51°C (dato tabla)"
   ]
  },
  {
   "cell_type": "code",
   "execution_count": 42,
   "metadata": {},
   "outputs": [],
   "source": [
    "%reset -f"
   ]
  },
  {
   "cell_type": "markdown",
   "metadata": {},
   "source": [
    "### e) ítem\n",
    "    x, u, h y T si P=5 bar y v=0,4148 m³/kg"
   ]
  },
  {
   "cell_type": "markdown",
   "metadata": {},
   "source": [
    "    v = 0,4148 m³/kg   =>   u = 2626,00 kJ/kg   => s = 7,01275 kJ/(kg K)  => h = 2833,40 kJ/kg  => t = 190°C\n",
    "    x = no existe"
   ]
  },
  {
   "cell_type": "markdown",
   "metadata": {},
   "source": [
    "### f) ítem\n",
    "v, u, h y P si T=120°C y x=0,7"
   ]
  },
  {
   "cell_type": "code",
   "execution_count": 35,
   "metadata": {},
   "outputs": [
    {
     "name": "stdout",
     "output_type": "stream",
     "text": [
      "v = 0.6244 m^3/kg\n"
     ]
    }
   ],
   "source": [
    "x = 0.7\n",
    "v1 = 0.0010606 # m^3/kg (dato tabla A)\n",
    "v2 = 0.8915 # m^3/kg (dato tabla A)\n",
    "v = x*(v2-v1)+v1\n",
    "print('v =',round(v,4),'m^3/kg')"
   ]
  },
  {
   "cell_type": "code",
   "execution_count": 36,
   "metadata": {},
   "outputs": [
    {
     "name": "stdout",
     "output_type": "stream",
     "text": [
      "u = 1921.325 kJ/kg\n"
     ]
    }
   ],
   "source": [
    "u1 = 503.51 # kJ/kg (dato tabla A)\n",
    "u2 = 2528.96 # kJ/kg (dato tabla A)\n",
    "u = x*(u2-u1)+u1\n",
    "print('u =',round(u,4),'kJ/kg')"
   ]
  },
  {
   "cell_type": "code",
   "execution_count": 37,
   "metadata": {},
   "outputs": [
    {
     "name": "stdout",
     "output_type": "stream",
     "text": [
      "h = 2045.288 kJ/kg\n"
     ]
    }
   ],
   "source": [
    "h1 = 503.72 # kJ/kg (dato tabla A)\n",
    "h2 = 2705.96 # kJ/kg (dato tabla A)\n",
    "h = x*(h2-h1)+h1\n",
    "print('h =',round(h,4),'kJ/kg')"
   ]
  },
  {
   "cell_type": "markdown",
   "metadata": {},
   "source": [
    "P = 198,54 kPa (dato tabla A)"
   ]
  },
  {
   "cell_type": "code",
   "execution_count": 38,
   "metadata": {},
   "outputs": [],
   "source": [
    "%reset -f"
   ]
  },
  {
   "cell_type": "markdown",
   "metadata": {},
   "source": [
    "### g) ítem\n",
    "    v, h, T y x si P=8,5 bar y u=900 kJ/kg\n",
    "    \n",
    "$$ x = \\frac{u-u'}{u''-u'}  $$"
   ]
  },
  {
   "cell_type": "code",
   "execution_count": 22,
   "metadata": {},
   "outputs": [
    {
     "name": "stdout",
     "output_type": "stream",
     "text": [
      "x = 0.0915\n"
     ]
    }
   ],
   "source": [
    "u = 900 # kJ/kg\n",
    "u1 = 731.08 # kJ/kg (dato tabla B)\n",
    "u2 = 2577.10 # kJ/kg (dato tabla B)\n",
    "x = (u-u1)/(u2-u1)\n",
    "print('x =',round(x,4))"
   ]
  },
  {
   "cell_type": "code",
   "execution_count": 26,
   "metadata": {},
   "outputs": [
    {
     "name": "stdout",
     "output_type": "stream",
     "text": [
      "v = 0.0218 m^3/kg\n"
     ]
    }
   ],
   "source": [
    "v1 = 0.001118 # m^3/kg (dato tabla B)\n",
    "v2 = 0.2268 # m^3/kg (dato tabla B)\n",
    "v = x*(v2-v1)+v1\n",
    "print('v =',round(v,4),'m^3/kg')"
   ]
  },
  {
   "cell_type": "code",
   "execution_count": 30,
   "metadata": {},
   "outputs": [
    {
     "name": "stdout",
     "output_type": "stream",
     "text": [
      "h = 918.5043 kJ/kg\n"
     ]
    }
   ],
   "source": [
    "h1 = 732.03 # kJ/kg (dato tabla B)\n",
    "h2 = 2769.89 # kJ/kg (dato tabla B)\n",
    "h = x*(h2-h1)+h1\n",
    "print('h =',round(h,4),'kJ/kg')"
   ]
  },
  {
   "cell_type": "markdown",
   "metadata": {},
   "source": [
    "t = 172,94°C (dato tabla B)"
   ]
  },
  {
   "cell_type": "code",
   "execution_count": 20,
   "metadata": {},
   "outputs": [],
   "source": [
    "%reset -f"
   ]
  },
  {
   "cell_type": "markdown",
   "metadata": {},
   "source": [
    "## Ejercicio 16\n",
    "Se entrega energía térmica al vapor contenido en el conjunto cilindro-pistón, hasta que la temperatura alcance 220°C. Si consideramos $\\Delta E_c$ y $\\Delta E_p$ son nulas, determinar:\n",
    "\n",
    "1. Temperatura inicial del sistema\n",
    "2. $W_{\\Delta V}$\n",
    "3. Q que recibe el sistema\n",
    "4. Representación gráfica P-V\n",
    "![16.png](img/16.png)"
   ]
  },
  {
   "cell_type": "markdown",
   "metadata": {},
   "source": [
    "## Solución\n",
    "### 1. ítem\n",
    "Inicialmente $x_i=0,5$, entonces la temperatura es según tabla, t = 170,41°C"
   ]
  },
  {
   "cell_type": "markdown",
   "metadata": {},
   "source": [
    "### 2. ítem"
   ]
  },
  {
   "cell_type": "code",
   "execution_count": 16,
   "metadata": {},
   "outputs": [
    {
     "name": "stdout",
     "output_type": "stream",
     "text": [
      "Vol1 = 3.6212 m^3 (Volumen inicial)\n"
     ]
    }
   ],
   "source": [
    "# Datos:\n",
    "v1 = 0.001115  # m^3/kg (de tabla B)\n",
    "v2 = 0.2403 # m^3/kg (de tabla B)\n",
    "x = 0.5\n",
    "m = 30 # kg\n",
    "# ecuación\n",
    "v = x*(v2-v1)+v1\n",
    "# volumen inicial\n",
    "Vol1 = v * m\n",
    "print('Vol1 =',round(Vol1,4),'m^3 (Volumen inicial)')"
   ]
  },
  {
   "cell_type": "code",
   "execution_count": 17,
   "metadata": {},
   "outputs": [
    {
     "name": "stdout",
     "output_type": "stream",
     "text": [
      "Vol2 = 8.221 m^3 (Volumen final)\n"
     ]
    }
   ],
   "source": [
    "vf = 0.27402 # m^3/kg\n",
    "Vol2 = vf * m\n",
    "print('Vol2 =',round(Vol2,3),'m^3 (Volumen final)')"
   ]
  },
  {
   "cell_type": "code",
   "execution_count": 18,
   "metadata": {},
   "outputs": [
    {
     "name": "stdout",
     "output_type": "stream",
     "text": [
      "El trabajo por variación de volumen es:\n",
      "Wdv = 3679.5 kJ\n"
     ]
    }
   ],
   "source": [
    "P = 8*100 # kPa\n",
    "Wdv = P * (Vol2-Vol1)\n",
    "print('El trabajo por variación de volumen es:')\n",
    "print('Wdv =',round(Wdv,2),'kJ')"
   ]
  },
  {
   "cell_type": "markdown",
   "metadata": {},
   "source": [
    "### 3. ítem\n",
    "### $$ Q = \\Delta U + W_{\\Delta V}  $$"
   ]
  },
  {
   "cell_type": "code",
   "execution_count": 19,
   "metadata": {},
   "outputs": [
    {
     "name": "stdout",
     "output_type": "stream",
     "text": [
      "Q = 34200.9 kJ\n"
     ]
    }
   ],
   "source": [
    "u1 = 720.05 # (de tabla )\n",
    "u2 = 2575.25 # (de tabla)\n",
    "# equación\n",
    "ui = x*(u2-u1)+u1 # kJ/kg\n",
    "Uinicial = ui * m # Energía interna inicial\n",
    "uf = 2665.03 # kJ/kg (de tabla)\n",
    "Ufinal = uf * m # Energía interna final\n",
    "# Entonces:\n",
    "Q = (Ufinal - Uinicial) + Wdv\n",
    "print('Q =',round(Q,2),'kJ')"
   ]
  },
  {
   "cell_type": "code",
   "execution_count": 15,
   "metadata": {},
   "outputs": [],
   "source": [
    "%reset -f"
   ]
  },
  {
   "cell_type": "markdown",
   "metadata": {},
   "source": [
    "## Ejercicio 17\n",
    "Una masa de agua líquida saturada de 5kg se evapora totalmente a una presión \n",
    "constante de 500 kPa.\n",
    "\n",
    "Calcular:\n",
    "    \n",
    "    a) ΔV\n",
    "    b) W\n",
    "    c) Q"
   ]
  },
  {
   "cell_type": "markdown",
   "metadata": {},
   "source": [
    "## Solución\n",
    "### a)"
   ]
  },
  {
   "cell_type": "code",
   "execution_count": 14,
   "metadata": {},
   "outputs": [
    {
     "name": "stdout",
     "output_type": "stream",
     "text": [
      "DV = 1.868 m^3\n"
     ]
    }
   ],
   "source": [
    "m = 5 # kg\n",
    "v1 = 0.001093 # m^3/kg\n",
    "v2 = 0.3747 # m^3/kg\n",
    "# Variación de volumen:\n",
    "DV = m*(v2 - v1)\n",
    "print('DV =',round(DV,3),'m^3')"
   ]
  },
  {
   "cell_type": "markdown",
   "metadata": {},
   "source": [
    "### b)"
   ]
  },
  {
   "cell_type": "code",
   "execution_count": 13,
   "metadata": {},
   "outputs": [
    {
     "name": "stdout",
     "output_type": "stream",
     "text": [
      "W = 934.02 kJ\n"
     ]
    }
   ],
   "source": [
    "P = 500 # kPa\n",
    "W = P * DV\n",
    "print('W =',round(W,2),'kJ')"
   ]
  },
  {
   "cell_type": "markdown",
   "metadata": {},
   "source": [
    "### c)\n",
    "### $$ Q = \\Delta U + W   $$"
   ]
  },
  {
   "cell_type": "code",
   "execution_count": 12,
   "metadata": {},
   "outputs": [
    {
     "name": "stdout",
     "output_type": "stream",
     "text": [
      "DU = 9603.15 kJ\n",
      "Q = 10537.17 kJ\n"
     ]
    }
   ],
   "source": [
    "ui = 639.57 # kJ/kg (de tabla B)\n",
    "uf = 2560.20 # kJ/kg (de tabla B)\n",
    "DU = m*(uf-ui) # kJ\n",
    "print('DU =',round(DU,2),'kJ')\n",
    "Q = DU + W\n",
    "print('Q =',round(Q,2),'kJ')"
   ]
  },
  {
   "cell_type": "code",
   "execution_count": 43,
   "metadata": {},
   "outputs": [],
   "source": [
    "%reset -f"
   ]
  },
  {
   "cell_type": "markdown",
   "metadata": {},
   "source": [
    "## Ejercicio 18\n",
    "Un recipiente rígido y adiabático contiene una masa de 40 kg de vapor que se encuentra\n",
    "a 80°C. Si el 37,5% de la masa está en fase líquida, y el resto como vapor:\n",
    "\n",
    "Calcular:\n",
    "\n",
    "    a) x\n",
    "    b) P del recipiente\n",
    "    c) V del recipiente"
   ]
  },
  {
   "cell_type": "markdown",
   "metadata": {},
   "source": [
    "## Solución\n",
    "### a)"
   ]
  },
  {
   "cell_type": "code",
   "execution_count": 45,
   "metadata": {},
   "outputs": [
    {
     "name": "stdout",
     "output_type": "stream",
     "text": [
      "x = 0.625\n"
     ]
    }
   ],
   "source": [
    "x = 1 - 37.5 / 100\n",
    "print('x =',x)"
   ]
  },
  {
   "cell_type": "markdown",
   "metadata": {},
   "source": [
    "### b)\n",
    "P = 47,36 kPa (de tabla A)"
   ]
  },
  {
   "cell_type": "markdown",
   "metadata": {},
   "source": [
    "### c)"
   ]
  },
  {
   "cell_type": "code",
   "execution_count": 48,
   "metadata": {},
   "outputs": [
    {
     "name": "stdout",
     "output_type": "stream",
     "text": [
      "Vol = 85.243 m^3\n"
     ]
    }
   ],
   "source": [
    "m = 40 # kg\n",
    "v1 = 0.0010292 # m^3/kg\n",
    "v2 = 3.4091 # m^3/kg\n",
    "v = x*(v2-v1)+v1 # m^3/kg\n",
    "Vol = v * m # m^3\n",
    "print('Vol =',round(Vol,3),'m^3')"
   ]
  },
  {
   "cell_type": "code",
   "execution_count": 49,
   "metadata": {},
   "outputs": [],
   "source": [
    "#reset -f"
   ]
  },
  {
   "cell_type": "markdown",
   "metadata": {},
   "source": [
    "## Ejercicio 19\n",
    "Se abre una válvula el tiempo necesario para que se equilibren las presiones.\n",
    "En ese instante, la masa que queda en el tanque, está a 250°C. Determinar:\n",
    "\n",
    "1. Temperatura final en el cilindro\n",
    "2. Masa que ingresó al cilindro\n",
    "![19.png](img/19.png)"
   ]
  },
  {
   "cell_type": "code",
   "execution_count": 3,
   "metadata": {},
   "outputs": [
    {
     "name": "stdout",
     "output_type": "stream",
     "text": [
      "m = 1.1393 kg\n"
     ]
    }
   ],
   "source": [
    "Ti = 500 # °C\n",
    "Pi = 2000 # kPa\n",
    "v = 0.17555 # m^3/kg (dato tabla B)\n",
    "Vol_r = 0.2 # m^3\n",
    "m = Vol_r * 1 / v # kg\n",
    "print('m =',round(m,4),'kg')"
   ]
  },
  {
   "cell_type": "code",
   "execution_count": 5,
   "metadata": {},
   "outputs": [
    {
     "name": "stdout",
     "output_type": "stream",
     "text": [
      "m_r = 0.2511 kg\n"
     ]
    }
   ],
   "source": [
    "v1 = 0.79644 # m^3/kg (dato tabla B) a 250°C y 3 bar\n",
    "m_r = Vol_r * 1 / v1\n",
    "print('m_r =',round(m_r,4),'kg')"
   ]
  },
  {
   "cell_type": "code",
   "execution_count": 6,
   "metadata": {},
   "outputs": [
    {
     "name": "stdout",
     "output_type": "stream",
     "text": [
      "m_cil = 0.8882 kg\n"
     ]
    }
   ],
   "source": [
    "# Masa que ingresó en el cilindro\n",
    "m_cil = m - m_r\n",
    "print('m_cil =',round(m_cil,4),'kg')"
   ]
  },
  {
   "cell_type": "code",
   "execution_count": 1,
   "metadata": {},
   "outputs": [],
   "source": [
    "#reset -f"
   ]
  }
 ],
 "metadata": {
  "kernelspec": {
   "display_name": "Python 3",
   "language": "python",
   "name": "python3"
  },
  "language_info": {
   "codemirror_mode": {
    "name": "ipython",
    "version": 3
   },
   "file_extension": ".py",
   "mimetype": "text/x-python",
   "name": "python",
   "nbconvert_exporter": "python",
   "pygments_lexer": "ipython3",
   "version": "3.6.7"
  }
 },
 "nbformat": 4,
 "nbformat_minor": 2
}
