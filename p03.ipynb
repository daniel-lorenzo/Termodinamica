{
 "cells": [
  {
   "cell_type": "raw",
   "metadata": {},
   "source": [
    "<script>\n",
    "  function code_toggle() {\n",
    "    if (code_shown){\n",
    "      $('div.input').hide('500');\n",
    "      $('#toggleButton').val('Show Code')\n",
    "    } else {\n",
    "      $('div.input').show('500');\n",
    "      $('#toggleButton').val('Hide Code')\n",
    "    }\n",
    "    code_shown = !code_shown\n",
    "  }\n",
    "\n",
    "  $( document ).ready(function(){\n",
    "    code_shown=true;\n",
    "    $('div.input').show()\n",
    "  });\n",
    "</script>\n",
    "<form action=\"javascript:code_toggle()\"><input type=\"submit\" id=\"toggleButton\" value=\"Hide Code\"></form>"
   ]
  },
  {
   "cell_type": "markdown",
   "metadata": {},
   "source": [
    "# Clase práctica 3 - Termodinámica\n",
    "__UNLZ - FI -- Jupyter Notebook + Python 3__\n",
    "   \n",
    "__Alumno: Lorenzo, Daniel Antonio__  \n",
    "[<-Previous ](https://nbviewer.jupyter.org/github/daniel-lorenzo/Termodinamica/blob/master/p02.ipynb) - \n",
    "[Index](https://github.com/daniel-lorenzo/Termodinamica/blob/master/Readme.md) - \n",
    "[Next ->](https://nbviewer.jupyter.org/github/daniel-lorenzo/Termodinamica/blob/master/p04.ipynb)"
   ]
  },
  {
   "cell_type": "markdown",
   "metadata": {},
   "source": [
    "# Ejercicio 15\n",
    "Utilizando la tabla de propiedades del agua, determinar:\n",
    "\n",
    "    a) v, u, h y x si P=20 bar y T=400°C \n",
    "    b) v, u, h y T si P=10 bar y x=1\n",
    "    c) v, u, h y P si se tiene líquido saturado a T=295°C\n",
    "    d) v, u, T y x si P=2 kPa y h=1500 kJ/kg\n",
    "    e) x, u, h y T si P=5 bar y v=0,4148 m³/kg\n",
    "    f) v, u, h y P si T=120°C y x=0,7\n",
    "    g) v, h, T y x si P=8,5 bar y u=900 kJ/kg\n",
    "     "
   ]
  },
  {
   "cell_type": "markdown",
   "metadata": {},
   "source": [
    "## Solución\n",
    "Buscamos en la tabla:\n",
    "\n",
    "### a) ítem\n",
    "    v, u, h y x si P=20 bar y T=400°C \n",
    "\n",
    "Usando tabla de papel (proporcionada por la cátedra):\n",
    "\n",
    "| h  (kJ/kg)    | v  (m³/kg)        | u (kJ/kg)    | x                      |\n",
    "|---------------|--------------------|--------------|------------------------|\n",
    "|3248,70        | 0,15113            | 2946,45      | $\\nexists$ (no existe) |        \n",
    "\n",
    "Con __miniREFPROP__ - (National Intitute of Standards and Technology):\n",
    "![15_ma.png](img/15_ma.png)\n",
    "\n",
    "Con biblioteca __CoolProp__"
   ]
  },
  {
   "cell_type": "code",
   "execution_count": 1,
   "metadata": {},
   "outputs": [],
   "source": [
    "# Importa CoolProp library en python 3 (requiere instalación) - www.coolprop.org\n",
    "import CoolProp.CoolProp as cp"
   ]
  },
  {
   "cell_type": "code",
   "execution_count": 2,
   "metadata": {},
   "outputs": [
    {
     "name": "stdout",
     "output_type": "stream",
     "text": [
      "h = 3248.34 kJ/kg\n",
      "v = 0.15121 m^3/kg\n",
      "u = 2945.91 kJ/kg\n"
     ]
    }
   ],
   "source": [
    "# Datos:\n",
    "P = 20e5 # Pa\n",
    "T = 400 + 273.15 # K\n",
    "\n",
    "# Consultamos entalpía (h):\n",
    "h = cp.PropsSI('H','P',P,'T',T,'Water') \n",
    "# Consultamos volumen específico (v):\n",
    "v = 1 / cp.PropsSI('D','P',P,'T',T,'Water')\n",
    "# Consultamos energía interna (u):\n",
    "u = cp.PropsSI('U','P',P,'T',T,'Water') \n",
    "\n",
    "print('h = %s kJ/kg'%round(h/1000,2))\n",
    "print('v = %s m^3/kg'%round(v,5))\n",
    "print('u = %s kJ/kg'%round(u/1000,2))"
   ]
  },
  {
   "cell_type": "markdown",
   "metadata": {},
   "source": [
    "### b) ítem\n",
    "    v, u, h y T si P=10 bar y x=1\n",
    "    \n",
    "Usando tabla de papel (proporcionada por la cátedra):\n",
    "\n",
    "| h  (kJ/kg)    | v (m³/kg)         | u (kJ/kg)   | t°C   |\n",
    "|---------------|--------------------|-------------|-------|\n",
    "| 2776,17       | 0,1943             | 2581,88     |179,88 |\n",
    "\n",
    "Con __miniREFPROP__\n",
    "![15_mb.png](img/15_mb.png)\n",
    "\n",
    "Usando biblioteca __CoolProp__"
   ]
  },
  {
   "cell_type": "code",
   "execution_count": 3,
   "metadata": {},
   "outputs": [
    {
     "name": "stdout",
     "output_type": "stream",
     "text": [
      "h = 2777.11 kJ/kg\n",
      "v = 0.19436 m^3/kg\n",
      "u = 2582.75 kJ/kg\n"
     ]
    }
   ],
   "source": [
    "# Datos:\n",
    "P = 10e5 # Pa\n",
    "x = 1 # vapor saturado\n",
    "\n",
    "# Entalpía\n",
    "h = cp.PropsSI('H','P',P,'Q',x,'Water')  \n",
    "# Volumen específico\n",
    "v = 1 / cp.PropsSI('D','P',P,'Q',x,'Water')\n",
    "# Energía interna\n",
    "u = cp.PropsSI('U','P',P,'Q',x,'Water')\n",
    "\n",
    "print('h = %s kJ/kg'%round(h/1000,2))\n",
    "print('v = %s m^3/kg'%round(v,5))\n",
    "print('u = %s kJ/kg'%round(u/1000,2))"
   ]
  },
  {
   "cell_type": "markdown",
   "metadata": {},
   "source": [
    " ### c) ítem\n",
    "    v, u, h y P si se tiene líquido saturado a T=295°C\n",
    "    \n",
    "Usando tabla de papel (proporcionada por la cátedra):\n",
    "\n",
    "| h  (kJ/kg)    | v (m³/kg)          | u (kJ/kg)    | P (kPa)                |\n",
    "|---------------|--------------------|--------------|------------------------|\n",
    "| 1317,27       | 0,0013844          | 1306,19      | 8003,69  |     \n",
    "\n",
    "Con __miniREFPROP__\n",
    "![15_mc.png](img/15_mc.png)\n",
    "\n",
    "Usando biblioteca __CoolProp__"
   ]
  },
  {
   "cell_type": "code",
   "execution_count": 4,
   "metadata": {},
   "outputs": [
    {
     "name": "stdout",
     "output_type": "stream",
     "text": [
      "h = 1317.27 kJ/kg\n",
      "v = 0.0013846 m^3/kg\n",
      "u = 1306.19 kJ/kg\n"
     ]
    }
   ],
   "source": [
    "# Datos:\n",
    "T = 295 + 273.15 # K\n",
    "x = 0 # líquido saturado\n",
    "\n",
    "# Entalpía\n",
    "h = cp.PropsSI('H','T',T,'Q',x,'Water')\n",
    "# Volumen específico\n",
    "v = 1 / cp.PropsSI('D','T',T,'Q',x,'Water')\n",
    "# Energía interna\n",
    "u = cp.PropsSI('U','T',T,'Q',x,'Water')\n",
    "\n",
    "print('h = %s kJ/kg'%round(h/1000,2))\n",
    "print('v = %s m^3/kg'%round(v,7))\n",
    "print('u = %s kJ/kg'%round(u/1000,2))"
   ]
  },
  {
   "cell_type": "markdown",
   "metadata": {},
   "source": [
    "### d) ítem\n",
    "     v, u, T y x si P=2 kPa y h=1500 kJ/kg\n",
    "    \n",
    "$$ x = \\frac{v-v'}{v''-v'} = \\frac{u-u'}{u''-u'} = \\frac{h-h'}{h''-h'} = \\frac{s-s'}{s''-s'} $$\n",
    "\n",
    "$$ h = x \\, (h''-h')+h' $$"
   ]
  },
  {
   "cell_type": "code",
   "execution_count": 5,
   "metadata": {},
   "outputs": [
    {
     "name": "stdout",
     "output_type": "stream",
     "text": [
      "h1 = 73.43 kJ/kg\n",
      "h2 = 2532.88 kJ/kg\n"
     ]
    }
   ],
   "source": [
    "# Datos:\n",
    "h = 1500*1000 # J/kg\n",
    "P = 2000 # Pa\n",
    "# h1 = 73.46 # kJ/kg (dato de tabla de papel)\n",
    "# h2 = 2533.65 # kJ/kg (dato de tabla de papel)\n",
    "\n",
    "h1 = cp.PropsSI('H','P',P,'Q',0,'Water')\n",
    "h2 = cp.PropsSI('H','P',P,'Q',1,'Water')\n",
    "\n",
    "print('h1 = %s kJ/kg'%round(h1/1000,2))\n",
    "print('h2 = %s kJ/kg'%round(h2/1000,2))"
   ]
  },
  {
   "cell_type": "code",
   "execution_count": 6,
   "metadata": {},
   "outputs": [
    {
     "name": "stdout",
     "output_type": "stream",
     "text": [
      "x = 0.58\n"
     ]
    }
   ],
   "source": [
    "x = (h-h1)/(h2-h1)\n",
    "\n",
    "print('x =',round(x,4))"
   ]
  },
  {
   "cell_type": "code",
   "execution_count": 7,
   "metadata": {},
   "outputs": [
    {
     "name": "stdout",
     "output_type": "stream",
     "text": [
      "v1 = 0.001001 m^3\n",
      "v2 = 66.986876 m^3\n"
     ]
    }
   ],
   "source": [
    "v1 = 1/cp.PropsSI('D','P',P,'Q',0,'Water')\n",
    "v2 = 1/cp.PropsSI('D','P',P,'Q',1,'Water')\n",
    "\n",
    "print('v1 = %s m^3'%round(v1,6))\n",
    "print('v2 = %s m^3'%round(v2,6))"
   ]
  },
  {
   "cell_type": "code",
   "execution_count": 8,
   "metadata": {},
   "outputs": [
    {
     "name": "stdout",
     "output_type": "stream",
     "text": [
      "v = 38.855 m^3/kg\n"
     ]
    }
   ],
   "source": [
    "v = x*(v2-v1)+v1\n",
    "\n",
    "print('v = %s m^3/kg'%round(v,3))"
   ]
  },
  {
   "cell_type": "code",
   "execution_count": 9,
   "metadata": {},
   "outputs": [
    {
     "name": "stdout",
     "output_type": "stream",
     "text": [
      "u1 = 73.43 kJ/kg\n",
      "u2 = 2398.9 kJ/kg\n"
     ]
    }
   ],
   "source": [
    "u1 = cp.PropsSI('U','P',P,'Q',0,'Water')\n",
    "u2 = cp.PropsSI('U','P',P,'Q',1,'Water')\n",
    "\n",
    "print('u1 = %s kJ/kg'%round(u1/1000,2))\n",
    "print('u2 = %s kJ/kg'%round(u2/1000,2))"
   ]
  },
  {
   "cell_type": "code",
   "execution_count": 10,
   "metadata": {},
   "outputs": [
    {
     "name": "stdout",
     "output_type": "stream",
     "text": [
      "u = 1422.289 kJ/kg\n"
     ]
    }
   ],
   "source": [
    "# u1 = 73.46 # kJ/Kg (dato tabla de papel)\n",
    "# u2 = 2399.64 # kJ/kg (dato tabla de papel)\n",
    "\n",
    "u = x*(u2-u1)+u1\n",
    "\n",
    "print('u = %s kJ/kg'%round(u/1000,3))"
   ]
  },
  {
   "cell_type": "markdown",
   "metadata": {},
   "source": [
    "t = 17,51°C (dato tabla)"
   ]
  },
  {
   "cell_type": "markdown",
   "metadata": {},
   "source": [
    "Usando biblioteca __CoolProp__"
   ]
  },
  {
   "cell_type": "code",
   "execution_count": 11,
   "metadata": {},
   "outputs": [
    {
     "name": "stdout",
     "output_type": "stream",
     "text": [
      "v = 38.8553011 m^3/kg\n",
      "u = 1422.289 kJ/kg\n",
      "T = 290.64 K\n",
      "t = 17.49 °C\n",
      "x = 0.58004\n"
     ]
    }
   ],
   "source": [
    "P = 2000 # Pa\n",
    "h = 1500*1000 # J/kg\n",
    "\n",
    "v = 1 / cp.PropsSI('D','P',P,'H',h,'Water')\n",
    "u = cp.PropsSI('U','P',P,'H',h,'Water') # kJ/kg\n",
    "T = cp.PropsSI('T','P',P,'H',h,'Water') # K\n",
    "x = cp.PropsSI('Q','P',P,'H',h,'Water')\n",
    "\n",
    "print('v = %s m^3/kg'%round(v,7))\n",
    "print('u = %s kJ/kg'%round(u/1000,3))\n",
    "print('T = %s K'%round(T,2))\n",
    "t = T - 273.15\n",
    "print('t = %s °C'%round(t,2))\n",
    "print('x = %s'%round(x,5))"
   ]
  },
  {
   "cell_type": "code",
   "execution_count": 12,
   "metadata": {},
   "outputs": [],
   "source": [
    "%reset -s -f"
   ]
  },
  {
   "cell_type": "markdown",
   "metadata": {},
   "source": [
    "### e) ítem\n",
    "    x, u, h y T si P=5 bar y v=0,4148 m³/kg"
   ]
  },
  {
   "cell_type": "markdown",
   "metadata": {},
   "source": [
    "    v = 0,4148 m³/kg   =>   u = 2626,00 kJ/kg   \n",
    "    => s = 7,01275 kJ/(kg K) \n",
    "    => h = 2833,40 kJ/kg  => t = 190°C\n",
    "    \n",
    "    x = no existe"
   ]
  },
  {
   "cell_type": "markdown",
   "metadata": {},
   "source": [
    "### f) ítem\n",
    "v, u, h y P si T=120°C y x=0,7"
   ]
  },
  {
   "cell_type": "code",
   "execution_count": 13,
   "metadata": {},
   "outputs": [
    {
     "name": "stdout",
     "output_type": "stream",
     "text": [
      "v = 0.6244 m^3/kg\n"
     ]
    }
   ],
   "source": [
    "x = 0.7\n",
    "v1 = 0.0010606 # m^3/kg (dato tabla A)\n",
    "v2 = 0.8915 # m^3/kg (dato tabla A)\n",
    "\n",
    "v = x*(v2-v1)+v1\n",
    "\n",
    "print('v = %s m^3/kg'%round(v,4))"
   ]
  },
  {
   "cell_type": "code",
   "execution_count": 14,
   "metadata": {},
   "outputs": [
    {
     "name": "stdout",
     "output_type": "stream",
     "text": [
      "u = 1921.325 kJ/kg\n"
     ]
    }
   ],
   "source": [
    "u1 = 503.51 # kJ/kg (dato tabla A)\n",
    "u2 = 2528.96 # kJ/kg (dato tabla A)\n",
    "\n",
    "u = x*(u2-u1)+u1\n",
    "\n",
    "print('u = %s kJ/kg'%round(u,4))"
   ]
  },
  {
   "cell_type": "code",
   "execution_count": 15,
   "metadata": {},
   "outputs": [
    {
     "name": "stdout",
     "output_type": "stream",
     "text": [
      "h = 2045.288 kJ/kg\n"
     ]
    }
   ],
   "source": [
    "h1 = 503.72 # kJ/kg (dato tabla A)\n",
    "h2 = 2705.96 # kJ/kg (dato tabla A)\n",
    "\n",
    "h = x*(h2-h1)+h1\n",
    "\n",
    "print('h = %s kJ/kg'%round(h,4))"
   ]
  },
  {
   "cell_type": "markdown",
   "metadata": {},
   "source": [
    "P = 198,54 kPa (dato tabla A)"
   ]
  },
  {
   "cell_type": "code",
   "execution_count": 16,
   "metadata": {},
   "outputs": [],
   "source": [
    "%reset -s -f"
   ]
  },
  {
   "cell_type": "markdown",
   "metadata": {},
   "source": [
    "### g) ítem\n",
    "    v, h, T y x si P=8,5 bar y u=900 kJ/kg\n",
    "    \n",
    "$$ x = \\frac{u-u'}{u''-u'}  $$"
   ]
  },
  {
   "cell_type": "code",
   "execution_count": 17,
   "metadata": {},
   "outputs": [
    {
     "name": "stdout",
     "output_type": "stream",
     "text": [
      "x = 0.0915\n"
     ]
    }
   ],
   "source": [
    "u = 900 # kJ/kg\n",
    "u1 = 731.08 # kJ/kg (dato tabla B)\n",
    "u2 = 2577.10 # kJ/kg (dato tabla B)\n",
    "\n",
    "x = (u-u1)/(u2-u1)\n",
    "\n",
    "print('x =',round(x,4))"
   ]
  },
  {
   "cell_type": "code",
   "execution_count": 18,
   "metadata": {},
   "outputs": [
    {
     "name": "stdout",
     "output_type": "stream",
     "text": [
      "v = 0.0218 m^3/kg\n"
     ]
    }
   ],
   "source": [
    "v1 = 0.001118 # m^3/kg (dato tabla B)\n",
    "v2 = 0.2268 # m^3/kg (dato tabla B)\n",
    "\n",
    "v = x*(v2-v1)+v1\n",
    "\n",
    "print('v = %s m^3/kg'%round(v,4))"
   ]
  },
  {
   "cell_type": "code",
   "execution_count": 19,
   "metadata": {},
   "outputs": [
    {
     "name": "stdout",
     "output_type": "stream",
     "text": [
      "h = 918.5043 kJ/kg\n"
     ]
    }
   ],
   "source": [
    "h1 = 732.03 # kJ/kg (dato tabla B)\n",
    "h2 = 2769.89 # kJ/kg (dato tabla B)\n",
    "\n",
    "h = x*(h2-h1)+h1\n",
    "\n",
    "print('h = %s kJ/kg'%round(h,4))"
   ]
  },
  {
   "cell_type": "markdown",
   "metadata": {},
   "source": [
    "t = 172,94°C (dato tabla B)"
   ]
  },
  {
   "cell_type": "code",
   "execution_count": 20,
   "metadata": {},
   "outputs": [],
   "source": [
    "%reset -s -f"
   ]
  },
  {
   "cell_type": "markdown",
   "metadata": {},
   "source": [
    "# Ejercicio 16\n",
    "Se entrega energía térmica al vapor contenido en el conjunto cilindro-pistón, hasta que la temperatura alcance 220°C. Si consideramos $\\Delta E_c$ y $\\Delta E_p$ son nulas, determinar:\n",
    "\n",
    "1. Temperatura inicial del sistema\n",
    "2. $W_{\\Delta V}$\n",
    "3. Q que recibe el sistema\n",
    "4. Representación gráfica P-V\n",
    "![16.png](img/16.png)"
   ]
  },
  {
   "cell_type": "markdown",
   "metadata": {},
   "source": [
    "## Solución\n",
    "### 1. ítem\n",
    "Inicialmente $x_i=0,5$, entonces la temperatura es según tabla, t = 170,41°C"
   ]
  },
  {
   "cell_type": "markdown",
   "metadata": {},
   "source": [
    "### 2. ítem"
   ]
  },
  {
   "cell_type": "code",
   "execution_count": 21,
   "metadata": {},
   "outputs": [
    {
     "name": "stdout",
     "output_type": "stream",
     "text": [
      "Vol1 = 3.6212 m^3 (Volumen inicial)\n"
     ]
    }
   ],
   "source": [
    "# Datos:\n",
    "v1 = 0.001115  # m^3/kg (de tabla B)\n",
    "v2 = 0.2403 # m^3/kg (de tabla B)\n",
    "x = 0.5\n",
    "m = 30 # kg\n",
    "\n",
    "# ecuación\n",
    "v = x*(v2-v1)+v1\n",
    "\n",
    "# volumen inicial\n",
    "Vol1 = v * m\n",
    "\n",
    "print('Vol1 = %s m^3 (Volumen inicial)'%round(Vol1,4))"
   ]
  },
  {
   "cell_type": "code",
   "execution_count": 22,
   "metadata": {},
   "outputs": [
    {
     "name": "stdout",
     "output_type": "stream",
     "text": [
      "Vol2 = 8.221 m^3 (Volumen final)\n"
     ]
    }
   ],
   "source": [
    "vf = 0.27402 # m^3/kg\n",
    "Vol2 = vf * m\n",
    "\n",
    "print('Vol2 = %s m^3 (Volumen final)'%round(Vol2,3))"
   ]
  },
  {
   "cell_type": "code",
   "execution_count": 23,
   "metadata": {},
   "outputs": [
    {
     "name": "stdout",
     "output_type": "stream",
     "text": [
      "El trabajo por variación de volumen es:\n",
      "Wdv = 3679.5 kJ\n"
     ]
    }
   ],
   "source": [
    "P = 8*100 # kPa\n",
    "\n",
    "Wdv = P * (Vol2-Vol1)\n",
    "\n",
    "print('El trabajo por variación de volumen es:')\n",
    "print('Wdv = %s kJ'%round(Wdv,2))"
   ]
  },
  {
   "cell_type": "markdown",
   "metadata": {},
   "source": [
    "### 3. ítem\n",
    "$$ Q = \\Delta U + W_{\\Delta V}  $$"
   ]
  },
  {
   "cell_type": "code",
   "execution_count": 24,
   "metadata": {},
   "outputs": [
    {
     "name": "stdout",
     "output_type": "stream",
     "text": [
      "Q = 34200.9 kJ\n"
     ]
    }
   ],
   "source": [
    "u1 = 720.05 # (de tabla)\n",
    "u2 = 2575.25 # (de tabla)\n",
    "\n",
    "# equación\n",
    "ui = x*(u2-u1)+u1 # kJ/kg\n",
    "Uinicial = ui * m # Energía interna inicial\n",
    "uf = 2665.03 # kJ/kg (de tabla)\n",
    "Ufinal = uf * m # Energía interna final\n",
    "# Entonces:\n",
    "Q = (Ufinal - Uinicial) + Wdv\n",
    "\n",
    "print('Q = %s kJ'%round(Q,2))"
   ]
  },
  {
   "cell_type": "code",
   "execution_count": 25,
   "metadata": {},
   "outputs": [],
   "source": [
    "%reset -s -f"
   ]
  },
  {
   "cell_type": "markdown",
   "metadata": {},
   "source": [
    "## Ejercicio 17\n",
    "Una masa de agua líquida saturada de 5kg se evapora totalmente a una presión \n",
    "constante de 500 kPa.\n",
    "\n",
    "Calcular:\n",
    "    \n",
    "    a) ΔV\n",
    "    b) W\n",
    "    c) Q"
   ]
  },
  {
   "cell_type": "markdown",
   "metadata": {},
   "source": [
    "## Solución\n",
    "### a)"
   ]
  },
  {
   "cell_type": "code",
   "execution_count": 26,
   "metadata": {},
   "outputs": [
    {
     "name": "stdout",
     "output_type": "stream",
     "text": [
      "DV = 1.868 m^3\n"
     ]
    }
   ],
   "source": [
    "m = 5 # kg\n",
    "v1 = 0.001093 # m^3/kg\n",
    "v2 = 0.3747 # m^3/kg\n",
    "# Variación de volumen:\n",
    "DV = m*(v2 - v1)\n",
    "print('DV = %s m^3'%round(DV,3))"
   ]
  },
  {
   "cell_type": "markdown",
   "metadata": {},
   "source": [
    "### b)"
   ]
  },
  {
   "cell_type": "code",
   "execution_count": 27,
   "metadata": {},
   "outputs": [
    {
     "name": "stdout",
     "output_type": "stream",
     "text": [
      "W = 934.02 kJ\n"
     ]
    }
   ],
   "source": [
    "P = 500 # kPa\n",
    "W = P * DV\n",
    "print('W = %s kJ'%round(W,2))"
   ]
  },
  {
   "cell_type": "markdown",
   "metadata": {},
   "source": [
    "### c)\n",
    "$$ Q = \\Delta U + W   $$"
   ]
  },
  {
   "cell_type": "code",
   "execution_count": 28,
   "metadata": {},
   "outputs": [
    {
     "name": "stdout",
     "output_type": "stream",
     "text": [
      "DU = 9603.15 kJ\n",
      "Q = 10537.17 kJ\n"
     ]
    }
   ],
   "source": [
    "ui = 639.57 # kJ/kg (de tabla B)\n",
    "uf = 2560.20 # kJ/kg (de tabla B)\n",
    "DU = m*(uf-ui) # kJ\n",
    "print('DU = %s kJ'%round(DU,2))\n",
    "Q = DU + W\n",
    "print('Q = %s kJ'%round(Q,2))"
   ]
  },
  {
   "cell_type": "code",
   "execution_count": 29,
   "metadata": {},
   "outputs": [],
   "source": [
    "%reset -s -f"
   ]
  },
  {
   "cell_type": "markdown",
   "metadata": {},
   "source": [
    "## Ejercicio 18\n",
    "Un recipiente rígido y adiabático contiene una masa de 40 kg de vapor que se encuentra\n",
    "a 80°C. Si el 37,5% de la masa está en fase líquida, y el resto como vapor:\n",
    "\n",
    "Calcular:\n",
    "\n",
    "    a) Título, x\n",
    "    b) P del recipiente\n",
    "    c) V del recipiente"
   ]
  },
  {
   "cell_type": "markdown",
   "metadata": {},
   "source": [
    "## Solución\n",
    "### a)"
   ]
  },
  {
   "cell_type": "code",
   "execution_count": 30,
   "metadata": {},
   "outputs": [
    {
     "name": "stdout",
     "output_type": "stream",
     "text": [
      "x = 0.625\n"
     ]
    }
   ],
   "source": [
    "x = 1 - 37.5 / 100\n",
    "print('x =',x)"
   ]
  },
  {
   "cell_type": "markdown",
   "metadata": {},
   "source": [
    "### b)\n",
    "P = 47,36 kPa (de tabla A)"
   ]
  },
  {
   "cell_type": "markdown",
   "metadata": {},
   "source": [
    "### c)"
   ]
  },
  {
   "cell_type": "code",
   "execution_count": 31,
   "metadata": {},
   "outputs": [
    {
     "name": "stdout",
     "output_type": "stream",
     "text": [
      "Vol = 85.243 m^3\n"
     ]
    }
   ],
   "source": [
    "m = 40 # kg\n",
    "v1 = 0.0010292 # m^3/kg\n",
    "v2 = 3.4091 # m^3/kg\n",
    "v = x*(v2-v1)+v1 # m^3/kg\n",
    "Vol = v * m # m^3\n",
    "print('Vol = %s m^3'%round(Vol,3))"
   ]
  },
  {
   "cell_type": "code",
   "execution_count": 32,
   "metadata": {},
   "outputs": [],
   "source": [
    "%reset -s -f"
   ]
  },
  {
   "cell_type": "markdown",
   "metadata": {},
   "source": [
    "## Ejercicio 19\n",
    "Se abre una válvula el tiempo necesario para que se equilibren las presiones.\n",
    "En ese instante, la masa que queda en el tanque, está a 250°C. Determinar:\n",
    "\n",
    "1. Temperatura final en el cilindro\n",
    "2. Masa que ingresó al cilindro\n",
    "![19.png](img/19.png)"
   ]
  },
  {
   "cell_type": "markdown",
   "metadata": {},
   "source": [
    "### Solución"
   ]
  },
  {
   "cell_type": "code",
   "execution_count": 33,
   "metadata": {},
   "outputs": [],
   "source": [
    "import CoolProp.CoolProp as cp"
   ]
  },
  {
   "cell_type": "code",
   "execution_count": 34,
   "metadata": {},
   "outputs": [
    {
     "name": "stdout",
     "output_type": "stream",
     "text": [
      "d_A1 = 5.69206 kg/m^3\n",
      "v_A1 = 0.17568 m^3/kg\n"
     ]
    }
   ],
   "source": [
    "# A = Tanque ; B = cilindro ; 1 = inicial ; 2 = final\n",
    "T_A1 = 500 + 273.15 # K\n",
    "P_A1 = 2e6 # Pa\n",
    "# Densidad específica inicial en el tanque\n",
    "d_A1 = cp.PropsSI('D','T',T_A1,'P',P_A1,'Water')\n",
    "# Volumen específico inicial en el tanque\n",
    "v_A1 = 1 / d_A1\n",
    "\n",
    "print('d_A1 = %s kg/m^3'%round(d_A1,5))\n",
    "print('v_A1 = %s m^3/kg'%round(v_A1,5))"
   ]
  },
  {
   "cell_type": "code",
   "execution_count": 35,
   "metadata": {},
   "outputs": [
    {
     "name": "stdout",
     "output_type": "stream",
     "text": [
      "m_A1 = 1.1384 kg\n"
     ]
    }
   ],
   "source": [
    "Vol_A = 0.2 # m^3\n",
    "\n",
    "# Masa inicial en el tanque\n",
    "m_A1 = Vol_A * d_A1 # kg\n",
    "\n",
    "print('m_A1 = %s kg'%round(m_A1,4))"
   ]
  },
  {
   "cell_type": "code",
   "execution_count": 36,
   "metadata": {},
   "outputs": [
    {
     "name": "stdout",
     "output_type": "stream",
     "text": [
      "d_A2 = 1.25558 kg/m^3\n",
      "v_A2 = 0.79644 m^3/kg\n"
     ]
    }
   ],
   "source": [
    "T_A2 = 250 + 273.15 # K\n",
    "P_2 = 3e5 # Pa\n",
    "\n",
    "# Densidad específica final en el tanque\n",
    "d_A2 = cp.PropsSI('D','T',T_A2,'P',P_2,'Water')\n",
    "# Volumen específico final en el tanque\n",
    "v_A2 = 1 / d_A2\n",
    "\n",
    "print('d_A2 = %s kg/m^3'%round(d_A2,5))\n",
    "print('v_A2 = %s m^3/kg'%round(v_A2,5))"
   ]
  },
  {
   "cell_type": "code",
   "execution_count": 37,
   "metadata": {},
   "outputs": [
    {
     "name": "stdout",
     "output_type": "stream",
     "text": [
      "m_A2 = 0.2511 kg\n"
     ]
    }
   ],
   "source": [
    "# Masa final en el tanque\n",
    "m_A2 = Vol_A * d_A2\n",
    "\n",
    "print('m_A2 = %s kg'%round(m_A2,4))"
   ]
  },
  {
   "cell_type": "code",
   "execution_count": 38,
   "metadata": {},
   "outputs": [
    {
     "name": "stdout",
     "output_type": "stream",
     "text": [
      "m_B2 = 0.8873 kg\n"
     ]
    }
   ],
   "source": [
    "# Masa que ingresó en el cilindro\n",
    "m_B2 = m_A1 - m_A2\n",
    "\n",
    "print('m_B2 = %s kg'%round(m_B2,4))"
   ]
  },
  {
   "cell_type": "markdown",
   "metadata": {},
   "source": [
    "$$ Q - W = \\Delta U \\quad ; \\quad Q=0 $$\n",
    "\n",
    "$$ W = W_{\\Delta V} = P(V_{B1} - V_{B2}) \\quad ; \\quad \\Delta U = U_{B2} + U_{A2} - U_{A1} $$\n",
    "\n",
    "$$ 0 = U_{B2} + U_{A2} - U_{A1} + P (V_{B2} - V_{B1}) $$\n",
    "\n",
    "$$ 0 = U_{B2} + P_{B2} V_{B2} + U_{A2} - U_{A1} $$\n",
    "\n",
    "$$ U_{B2} + P_{B2} V_{B2} = H_{B2} $$\n",
    "\n",
    "$$ H_{B2} = U_{A1} - U_{A2} $$\n",
    "Entalpía:\n",
    "$$ H_{B2} = m_{A1} u_{A1} - m_{A2} u_{A2} = m_{B2} h_{B2} $$\n",
    "Entalpía específica:\n",
    "$$\\Rightarrow \\; h_{B2} = \\frac{H_{B2}}{m_{B2}} \\quad \\rightarrow \\quad \\mbox{Temp. por tabla} $$"
   ]
  },
  {
   "cell_type": "code",
   "execution_count": 39,
   "metadata": {},
   "outputs": [
    {
     "name": "stdout",
     "output_type": "stream",
     "text": [
      "u_A1 = 3116.87 kJ/kg\n",
      "u_A2 = 2728.93 kJ/kg\n"
     ]
    }
   ],
   "source": [
    "# Energía interna específica inicial en el tanque\n",
    "u_A1 = cp.PropsSI('U','P',P_A1,'T',T_A1,'Water') / 1000 # kJ/kg\n",
    "# Energía interna específica final en el tanque\n",
    "u_A2 = cp.PropsSI('U','P',P_2,'T',T_A2,'Water') / 1000 # kJ/kg\n",
    "\n",
    "print('u_A1 = %s kJ/kg'%round(u_A1,2))\n",
    "print('u_A2 = %s kJ/kg'%round(u_A2,2))"
   ]
  },
  {
   "cell_type": "code",
   "execution_count": 40,
   "metadata": {},
   "outputs": [
    {
     "name": "stdout",
     "output_type": "stream",
     "text": [
      "H_B2 = 2863.01 kJ\n",
      "h_B2 = 3226.67 kJ/kg\n"
     ]
    }
   ],
   "source": [
    "# Entalpía final en el cilindro\n",
    "H_B2 = m_A1*u_A1 - m_A2*u_A2\n",
    "# Entalpía específica final en el cilindro\n",
    "h_B2 = H_B2 / m_B2\n",
    "\n",
    "print('H_B2 = %s kJ'%round(H_B2,2))\n",
    "print('h_B2 = %s kJ/kg'%round(h_B2,2))"
   ]
  },
  {
   "cell_type": "code",
   "execution_count": 41,
   "metadata": {},
   "outputs": [
    {
     "name": "stdout",
     "output_type": "stream",
     "text": [
      "T_B2 = 649.65 K (Kelvin)\n"
     ]
    }
   ],
   "source": [
    "# Temperatura final en el cilindro\n",
    "# CoolProp trabaja con unidades SI solamente\n",
    "# (multiplicamos h_B2 por 1000 para convertir kJ a J)\n",
    "T_B2 = cp.PropsSI('T','P',P_2,'H',h_B2*1000,'Water') # en unidades SI entalpía en (J/kg)\n",
    "\n",
    "print('T_B2 = %s K (Kelvin)'%round(T_B2,2))"
   ]
  },
  {
   "cell_type": "code",
   "execution_count": 42,
   "metadata": {},
   "outputs": [
    {
     "name": "stdout",
     "output_type": "stream",
     "text": [
      "Temp_cil = 376.5°C\n"
     ]
    }
   ],
   "source": [
    "# Temperatura final en el cilindro en grados celsius\n",
    "Temp_cil = T_B2 - 273.15 # °C\n",
    "\n",
    "print('Temp_cil = %s°C'%round(Temp_cil,2))"
   ]
  },
  {
   "cell_type": "code",
   "execution_count": 43,
   "metadata": {},
   "outputs": [],
   "source": [
    "%reset -s -f"
   ]
  },
  {
   "cell_type": "markdown",
   "metadata": {},
   "source": [
    "-------------------\n",
    "[<-Previous ](https://nbviewer.jupyter.org/github/daniel-lorenzo/Termodinamica/blob/master/p02.ipynb) - \n",
    "[Index](https://github.com/daniel-lorenzo/Termodinamica/blob/master/Readme.md) - \n",
    "[Next ->](https://nbviewer.jupyter.org/github/daniel-lorenzo/Termodinamica/blob/master/p04.ipynb)"
   ]
  }
 ],
 "metadata": {
  "kernelspec": {
   "display_name": "Python 3",
   "language": "python",
   "name": "python3"
  },
  "language_info": {
   "codemirror_mode": {
    "name": "ipython",
    "version": 3
   },
   "file_extension": ".py",
   "mimetype": "text/x-python",
   "name": "python",
   "nbconvert_exporter": "python",
   "pygments_lexer": "ipython3",
   "version": "3.7.3"
  }
 },
 "nbformat": 4,
 "nbformat_minor": 2
}
