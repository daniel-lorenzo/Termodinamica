{
 "cells": [
  {
   "cell_type": "markdown",
   "metadata": {},
   "source": [
    "# Termodinámica\n",
    "## Modelo de final\n",
    "![final_termo_clase.png](img/final_termo_clase.png)\n",
    "\n",
    "__Determinar:__\n",
    "\n",
    "$\\begin{array}{ll}\n",
    "\\mbox{a)} & m_1 \\mbox{ y } m_2 \\\\\n",
    "\\mbox{b)} & m_4 \\\\\n",
    "\\mbox{c)} & \\Delta S_u \\\\\n",
    "\\mbox{d)} & \\eta_{ex}\n",
    "\\end{array}$\n",
    "\n",
    "La máquina térmica funciona hasta pararse y abastece todas las necesidades."
   ]
  },
  {
   "cell_type": "markdown",
   "metadata": {},
   "source": [
    "## Solución"
   ]
  },
  {
   "cell_type": "markdown",
   "metadata": {},
   "source": [
    "### Máquina frigorífica\n",
    "__Datos:__ $T_{6i}, c_{c6}, T_{7i}, c_{c7}, T_0, \\Delta Ex_{MF}, Q_6$\n",
    "\n",
    "__Incógnitas:__ $W_{MF}, \\Delta S_6, \\Delta S_7, Q_{U6}, Q_{U7}$ "
   ]
  },
  {
   "cell_type": "markdown",
   "metadata": {},
   "source": [
    "$\\begin{array}{l|l|l}\n",
    "n^\\circ & \\mbox{Ecuación} & \\mbox{Incógnitas} \\\\\n",
    "\\hline\n",
    "1) & W_{MF} = Q_1 + Q_2 & W_{MF}, Q_7 \\\\\n",
    "2) & Q_7 = c_{c7} (T_{7f} - T_{7i} & T_{7f}) \\\\\n",
    "3) & \\displaystyle \\Delta S_7 = c_{c7} \\ln \\frac{T_{7f}}{T_{7i}} & \\Delta S_7 \\; (+) \\\\\n",
    "4) & \\Delta S_{uMF} = \\Delta S_6 + \\Delta S_7 & \\Delta S_{uMF}, \\Delta S_6 \\\\\n",
    "5) & \\Delta Ex_{MF} = - T_0 \\Delta S_{uMF} \\\\\n",
    "6) & \\displaystyle \\Delta S_6 = c_{c6} \\ln \\frac{T_{6f}}{T_{6i}} & T_{6i} \\; (-) \\\\\n",
    "7) & Q_6 = c_{c6} (T_{6f} - T_{6i} ) \\\\\n",
    "8) & Q_{U6} = Q_6 - T_0 \\Delta S_6 & Q_{U6} \\\\\n",
    "9) & Q_{U7} = Q_7 - T_0 \\Delta S_7 & Q_{U7}\n",
    "\\end{array}$\n",
    "\n",
    "__9 ecuaciones - 9 incógnitas__"
   ]
  },
  {
   "cell_type": "markdown",
   "metadata": {},
   "source": [
    "### Análisis $Q_{U6}$\n",
    "$ \\Delta T_f \\;  \\quad\n",
    "\\left \\updownarrow\n",
    "\\begin{array}{ll}\n",
    " & T_0 = 20^\\circ \\mathrm{C} \\\\\n",
    "\\hline\n",
    "\\Delta T_i = 24^\\circ \\mathrm{C} & \\updownarrow \\\\\n",
    "-------  & T_{i6} = -4^\\circ \\mathrm{C} \\\\\n",
    " & \\updownarrow \\\\\n",
    "\\hline\n",
    "  & T_{f6}\n",
    "\\end{array}\n",
    "\\right.$\n",
    "\n",
    "$\\Delta T_f > \\Delta T_{i6} \\; \\Rightarrow$ mayor capacidad de realizar trabajo\n",
    "\n",
    "$Q_{U6} = \\mbox{producido}$ "
   ]
  },
  {
   "cell_type": "markdown",
   "metadata": {},
   "source": [
    "### Análisis $Q_{U7}$\n",
    "$ \\Delta T_f \\;  \\quad\n",
    "\\left\\{\n",
    "\\begin{array}{ll}\n",
    " & T_{f7} \\\\\n",
    "\\hline\n",
    "  & \\updownarrow \\\\\n",
    "-------  & \\Delta T_{7i} = 25^\\circ \\mathrm{C} \\\\\n",
    "\\updownarrow \\Delta T_i & \\updownarrow \\\\\n",
    "\\hline\n",
    "  & 20^\\circ \\mathrm{C} \n",
    "\\end{array}\n",
    "\\right.$\n",
    "\n",
    "$\\Delta T_f > \\Delta T_i \\;  \\Rightarrow $ mayor capacidad de realizar trabajo\n",
    "\n",
    "$Q_{U7} = \\mbox{producido}$ "
   ]
  },
  {
   "cell_type": "code",
   "execution_count": null,
   "metadata": {},
   "outputs": [],
   "source": []
  }
 ],
 "metadata": {
  "kernelspec": {
   "display_name": "Python 3",
   "language": "python",
   "name": "python3"
  },
  "language_info": {
   "codemirror_mode": {
    "name": "ipython",
    "version": 3
   },
   "file_extension": ".py",
   "mimetype": "text/x-python",
   "name": "python",
   "nbconvert_exporter": "python",
   "pygments_lexer": "ipython3",
   "version": "3.7.3"
  }
 },
 "nbformat": 4,
 "nbformat_minor": 2
}
