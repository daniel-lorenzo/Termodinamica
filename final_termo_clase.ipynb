{
 "cells": [
  {
   "cell_type": "markdown",
   "metadata": {},
   "source": [
    "# Termodinámica\n",
    "## Modelo de final\n",
    "![final_termo_clase.png](img/final_termo_clase.png)\n",
    "\n",
    "__Determinar:__\n",
    "\n",
    "$\\begin{array}{ll}\n",
    "\\mbox{a)} & m_1 \\mbox{ y } m_2 \\\\\n",
    "\\mbox{b)} & m_4 \\\\\n",
    "\\mbox{c)} & \\Delta S_u \\\\\n",
    "\\mbox{d)} & \\eta_{ex}\n",
    "\\end{array}$\n",
    "\n",
    "La máquina térmica funciona hasta pararse y abastece todas las necesidades."
   ]
  },
  {
   "cell_type": "markdown",
   "metadata": {},
   "source": [
    "## Solución"
   ]
  },
  {
   "cell_type": "markdown",
   "metadata": {},
   "source": [
    "### Máquina frigorífica\n",
    "__Datos:__ $T_{6i}, c_{c6}, T_{7i}, c_{c7}, T_0, \\Delta Ex_{MF}, Q_6$\n",
    "\n",
    "__Incógnitas:__ $W_{MF}, Q_7, T_{7f}, \\Delta S_7, \\Delta S_{uMF}, \\Delta S_6, T_{6f},Q_{U6}, Q_{U7} $"
   ]
  },
  {
   "cell_type": "markdown",
   "metadata": {},
   "source": [
    "$\\begin{array}{|l|l|l|}\n",
    "\\hline\n",
    "n^\\circ & \\mbox{Ecuación} & \\mbox{Incógnitas} \\\\\n",
    "\\hline\n",
    "1) & W_{MF} = Q_6 + Q_7 & W_{MF}, Q_7 \\\\\n",
    "2) & Q_7 = c_{c7} (T_{7f} - T_{7i}) & T_{7f} \\\\\n",
    "3) & \\displaystyle \\Delta S_7 = c_{c7} \\ln \\frac{T_{7f}}{T_{7i}} & \\Delta S_7 \\; (+) \\\\\n",
    "4) & \\Delta S_{uMF} = \\Delta S_6 + \\Delta S_7 & \\Delta S_{uMF}, \\Delta S_6 \\\\\n",
    "5) & \\Delta Ex_{MF} = - T_0 \\Delta S_{uMF} &  \\\\\n",
    "6) & \\displaystyle \\Delta S_6 = c_{c6} \\ln \\frac{T_{6f}}{T_{6i}} & T_{6f} \\; (-) \\\\\n",
    "7) & Q_6 = c_{c6} (T_{6f} - T_{6i} ) &  \\\\\n",
    "8) & Q_{U6} = Q_6 - T_0 \\Delta S_6 & Q_{U6} \\\\\n",
    "9) & Q_{U7} = Q_7 - T_0 \\Delta S_7 & Q_{U7} \\\\\n",
    "\\hline\n",
    "\\end{array}$\n",
    "\n",
    "__9 ecuaciones - 9 incógnitas__"
   ]
  },
  {
   "cell_type": "markdown",
   "metadata": {},
   "source": [
    "### Análisis $Q_{U6}$\n",
    "$ \\Delta T_f \\;  \\quad\n",
    "\\left \\updownarrow\n",
    "\\begin{array}{ll}\n",
    " & T_0 = 20^\\circ \\mathrm{C} \\\\\n",
    "\\hline\n",
    "\\Delta T_i = 24^\\circ \\mathrm{C} & \\updownarrow \\\\\n",
    "-------  & T_{i6} = -4^\\circ \\mathrm{C} \\\\\n",
    " & \\updownarrow \\\\\n",
    "\\hline\n",
    "  & T_{f6}\n",
    "\\end{array}\n",
    "\\right.$\n",
    "\n",
    "$\\Delta T_f > \\Delta T_{i6} \\; \\Rightarrow$ mayor capacidad de realizar trabajo\n",
    "\n",
    "$Q_{U6} = \\mbox{producido}$ "
   ]
  },
  {
   "cell_type": "markdown",
   "metadata": {},
   "source": [
    "### Análisis $Q_{U7}$\n",
    "$ \\Delta T_f \\;  \\quad\n",
    "\\left\\updownarrow\n",
    "\\begin{array}{ll}\n",
    " & T_{f7} \\\\\n",
    "\\hline\n",
    "  & \\updownarrow \\\\\n",
    "-------  & T_{7i} = 25^\\circ \\mathrm{C} \\\\\n",
    "\\updownarrow \\Delta T_i & \\updownarrow \\\\\n",
    "\\hline\n",
    "  & 20^\\circ \\mathrm{C} \n",
    "\\end{array}\n",
    "\\right.$\n",
    "\n",
    "$\\Delta T_f > \\Delta T_i \\;  \\Rightarrow $ mayor capacidad de realizar trabajo\n",
    "\n",
    "$Q_{U7} = \\mbox{producido}$ "
   ]
  },
  {
   "cell_type": "markdown",
   "metadata": {},
   "source": [
    "-----------\n",
    "### ¿Qué pasaría si $T_{7i} = 15^\\circ \\mathrm{C}$ ?\n",
    "$ \\Delta T_f \\;  \\quad\n",
    "\\left\\updownarrow\n",
    "\\begin{array}{ll}\n",
    " & T_{f7} \\\\\n",
    "\\hline\n",
    " (B) \\, \\updownarrow  &  \\\\\n",
    "-------  & \\Delta T_{7i} = 25^\\circ \\mathrm{C} \\\\\n",
    "\\uparrow \\, (A) \\\\\n",
    "------- & T_0 = 20^\\circ \\mathrm{C} \\\\\n",
    "\\downarrow \\; \\updownarrow \\Delta T_i = 5^\\circ \\mathrm{C} &  \\\\\n",
    "\\hline\n",
    "  & T_{7i} = 15^\\circ \\mathrm{C} \n",
    "\\end{array}\n",
    "\\right.$"
   ]
  },
  {
   "cell_type": "markdown",
   "metadata": {},
   "source": [
    "Si mi temperatura final está entre 15°C y 25°C\n",
    "\n",
    "$$\\begin{array}{cc}\n",
    "15^\\circ \\mathrm{C} < T_f < 20^\\circ \\mathrm{C} & (A) \\; \\mathrm{consumido} \\\\\n",
    "25^\\circ \\mathrm{C} < T_f & (B) \\; \\mathrm{producido}\n",
    "\\end{array}$$"
   ]
  },
  {
   "cell_type": "markdown",
   "metadata": {},
   "source": [
    "### Trabajo y calores\n",
    "$\\begin{array}{|l|l|l|}\n",
    "\\hline\n",
    "n^\\circ & \\mbox{Ecuación} & \\mbox{Incógnitas} \\\\\n",
    "\\hline\n",
    "1) & |W_{MF}| = 0,2 \\, W_{MT} & W_{MT} \\\\\n",
    "2) & |W_c| = 0,4 \\, W_{MT} & W_c \\\\\n",
    "3) & W_{MT} = Q_3 + W_{MF} + W_c & Q_3 \\\\\n",
    "\\hline\n",
    "\\end{array}$\n",
    "\n",
    "__3 ecuaciones - 3 incognitas__"
   ]
  },
  {
   "cell_type": "markdown",
   "metadata": {},
   "source": [
    "### Fuente 3\n",
    "__Datos:__ $T_3, \\, Q_3 \\qquad T_3 > T_0$\n",
    "\n",
    "__Incógnitas:__ $\\Delta S_3, \\, Q_{U3}$"
   ]
  },
  {
   "cell_type": "markdown",
   "metadata": {},
   "source": [
    "$\\begin{array}{|l|l|l|}\n",
    "\\hline\n",
    "n^\\circ & \\mbox{Ecuación} & \\mbox{Incógnita} \\\\\n",
    "\\hline\n",
    "1) & \\displaystyle \\Delta S_3 = \\frac{Q_3}{T_3} & \\Delta S_3 \\, (+) \\\\\n",
    "2) & Q_{U3} = Q_3 - T_0 \\Delta S_3 & \\mathrm{Prod.} \\\\\n",
    "   & Q_{U3} = Q_3 - \\frac{T_0}{T_3} Q_3 &  \\\\\n",
    "\\hline   \n",
    "\\end{array}$"
   ]
  },
  {
   "cell_type": "markdown",
   "metadata": {},
   "source": [
    "### Compresor\n",
    "__Datos:__ $P_4, \\, T_4, \\, P_5, \\, \\eta_{iso,comp}, \\, W_c, \\, T_0$\n",
    "\n",
    "__Incógnitas:__ $m_4, \\, \\Delta S_{45}, \\, \\Delta Ex_{45}$"
   ]
  },
  {
   "cell_type": "markdown",
   "metadata": {},
   "source": [
    "$\\begin{array}{|l|l|l|}\n",
    "\\hline\n",
    "n^\\circ & \\mbox{Ecuación} & \\mbox{Incógnita} \\\\\n",
    "\\hline\n",
    "1) & W_c = -m_4 c_{p4} (T_5 - T_4) & m_4, T_5 \\\\\n",
    "2) & \\displaystyle \\eta_{iso,comp} = \\frac{W_{ideal}}{W_{real}} = \\frac{T_{5id} - T_4}{T_5 - T_4} & T_{5id} \\\\\n",
    "3) & \\displaystyle \\Delta S_{45id} = m_4 \\left[ c_p \\ln \\frac{T_{5id}}{T_4} - R \\ln \\frac{P_5}{P_4} \\right] & \\Delta S_{45id} \\\\\n",
    "4) & \\Delta S_{uid} = \\Delta S_{45id} \\quad \\mbox{(adiab.)} & \\Delta S_{uid} \\\\\n",
    "5) & \\Delta S_{uid} = 0 \\quad \\mbox{(reversible)} & \\\\\n",
    "6) & \\displaystyle \\Delta S_{45} = m_4 \\left[ c_p \\ln \\frac{T_5}{T_4} - R \\ln \\frac{P_5}{P_4} \\right] & \\Delta S_{45} \\, (+) \\\\\n",
    "7) & \\Delta Ex_{45} = m_4 c_p (T_5 - T_4) - T_0 \\Delta S_{45} \\quad \\mbox{(Prod.)} & \\Delta Ex_{45} \\\\\n",
    "\\hline\n",
    "\\end{array}$\n",
    "\n",
    "__7 ecuaciones - 7 incógnitas__"
   ]
  },
  {
   "cell_type": "markdown",
   "metadata": {},
   "source": [
    "### Máquina térmica\n",
    "__Datos:__ $T_{1i}, \\, c_{p1}, \\, T_{2i}, \\, c_{p2}, \\, \\eta_{T}, \\, T_{1f} = T_{2f}, \\, T_0, \\, \\Delta S_u, \\, W_{MT}$\n",
    "\n",
    "__Incógnitas:__ $m_1, \\, m_2, \\, \\Delta S_1, \\, \\Delta S_2, \\, Q_{U1}, \\, Q_{U2}$"
   ]
  },
  {
   "cell_type": "markdown",
   "metadata": {},
   "source": [
    "$\\begin{array}{|l|l|l|}\n",
    "\\hline\n",
    "n^\\circ & \\mbox{Ecuación} & \\mbox{Incógnitas} \\\\\n",
    "\\hline\n",
    "1) & Q_1 = m_1 c_{p1} (T_f - T_i) & Q_1, m_1, T_f \\\\\n",
    "2) & \\displaystyle \\eta_T = \\frac{W_{MT}}{Q_1} & \\\\\n",
    "3) & \\displaystyle \\Delta S_1 = m_1 c_{p1} \\ln \\frac{T_f}{T_{1i}} & \\Delta S_1 \\\\\n",
    "4) & \\Delta S_{uMT} = \\Delta S_1 + \\Delta S_2 & \\Delta S_2 \\\\\n",
    "5) & \\displaystyle \\Delta S_2 = m_2 c_{p2} \\ln \\frac{T_f}{T_{2i}} & m_2 \\\\\n",
    "6) & Q_2 = m_2 c_{p2} (T_f - T_{2i}) & Q_2 \\\\\n",
    "7) & W_{MT} = Q_1 + Q_2 & \\\\\n",
    "8) & Q_{U1} = Q_1 - T_0 \\Delta S_1 & Q_{U1} \\\\\n",
    "9) & Q_{U2} = Q_2 - T_0 \\Delta S_2 & Q_{U2} \\\\\n",
    "\\hline\n",
    "\\end{array}$\n",
    "\n",
    "__9 ecuaciones - 9 incógnitas__"
   ]
  },
  {
   "cell_type": "markdown",
   "metadata": {},
   "source": [
    "### Análisis $Q_{U1}$\n",
    "$ \\Delta T_f \\;  \\quad\n",
    "\\left \\updownarrow\n",
    "\\begin{array}{ll}\n",
    " & 90^\\circ \\mathrm{C} \\\\\n",
    "\\hline\n",
    "\\Delta T_i = 70^\\circ \\mathrm{C} \\updownarrow &  \\\\\n",
    "-------  & 20^\\circ \\mathrm{C} \\\\\n",
    " &  \\\\\n",
    "\\hline\n",
    "  & 10^\\circ \\mathrm{C}\n",
    "\\end{array}\n",
    "\\right.$"
   ]
  },
  {
   "cell_type": "markdown",
   "metadata": {},
   "source": [
    "### Análisis $Q_{U2}$\n",
    "$ \\Delta T_f \\;  \\quad\n",
    "\\left\\updownarrow\n",
    "\\begin{array}{ll}\n",
    " & 90^\\circ \\mathrm{C} \\\\\n",
    "\\hline\n",
    "\\updownarrow Q_{U2} \\; \\mathrm{prod}  & \\updownarrow \\\\\n",
    "-------  & 30^\\circ \\mathrm{C} \\\\\n",
    "\\uparrow Q_{U2} \\; \\mathrm{cons}  \\\\\n",
    "------- & 20^\\circ \\mathrm{C} \\\\\n",
    "\\downarrow \\; \\updownarrow \\; \\Delta T_i = 10^\\circ \\mathrm{C}  &  \\\\\n",
    "\\hline\n",
    "  & 10^\\circ \\mathrm{C} \n",
    "\\end{array}\n",
    "\\right.$"
   ]
  },
  {
   "cell_type": "markdown",
   "metadata": {},
   "source": [
    "c)\n",
    " $$ \\Delta S_u = \\underbrace{\\Delta S_1}_{(-)} + \\overbrace{\\Delta S_2}^{(+)} + \\overbrace{\\Delta S_3}^{(+)} + \\overbrace{\\Delta S_{45}}^{(+)} + \\underbrace{\\Delta S_6}_{(-)} + \\overbrace{\\Delta S_7}^{(+)} $$"
   ]
  },
  {
   "cell_type": "markdown",
   "metadata": {},
   "source": [
    "d) \n",
    "$$ \\eta_{ex} = \\frac{ Q_{U3} + \\Delta Ex_{45} + Q_{U6} + Q_{U7} + \\overbrace{Q_{U2}}^{(+)} }{ Q_{U1} + \\underbrace{Q_{U2}}_{(-)} } $$"
   ]
  }
 ],
 "metadata": {
  "kernelspec": {
   "display_name": "Python 3",
   "language": "python",
   "name": "python3"
  },
  "language_info": {
   "codemirror_mode": {
    "name": "ipython",
    "version": 3
   },
   "file_extension": ".py",
   "mimetype": "text/x-python",
   "name": "python",
   "nbconvert_exporter": "python",
   "pygments_lexer": "ipython3",
   "version": "3.7.3"
  }
 },
 "nbformat": 4,
 "nbformat_minor": 4
}
