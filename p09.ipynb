{
 "cells": [
  {
   "cell_type": "markdown",
   "metadata": {},
   "source": [
    "# Clase práctica 9 - Termodinámica\n",
    "__UNLZ - FI -- Jupyter Notebook + Python 3__\n",
    "\n",
    "__Alumno: Lorenzo, Daniel Antonio__  \n",
    "[<-Previous ](https://nbviewer.jupyter.org/github/daniel-lorenzo/Termodinamica/blob/master/p08.ipynb) - \n",
    "[Index](https://github.com/daniel-lorenzo/Termodinamica/blob/master/Readme.md) - "
   ]
  },
  {
   "cell_type": "markdown",
   "metadata": {},
   "source": [
    "# Ejemplo 8-15\n",
    "__Análisis de una turbina de vapor mediante la segunda ley__\n",
    "\n",
    "\n",
    "El vapor de agua entra en una turbina en forma estacionaria a 3 MPa y 450°C a una razón de 8 kg/s, y sale a 0,2 MPa y 150°C. El vapor pierde calor hacia el aire de los alrededores a una tasa de 300 kW y el cual se halla a 100 kPa y 25°C, mientras que los cambios en las energías cinética y potencial son insignificantes.\n",
    "\n",
    "![ej8-15.png](img/ej8-15.png)\n",
    "\n",
    "__Determinar:__\n",
    "1. la salida de potencia real\n",
    "2. la salida de potencia máxima posible\n",
    "3. la eficiencia según la segunda ley\n",
    "4. la exergía destruida\n",
    "5. la exergía del vapor en las condiciones de entrada"
   ]
  },
  {
   "cell_type": "markdown",
   "metadata": {},
   "source": [
    "## Solución\n",
    "Se tiene una turbina de vapor de agua que opera en forma estacionaria entre los estados especificados de entrada y salida. Se determinará la salida de potencia real y máxima, la eficiencia según la segunda ley, la exergía destruida y la exergía de entrada.       \n",
    "__Suposiciones__\n",
    "1. Éste es un proceso de flujo estacionario porque no hay cambio con el tiempo en cualquier punto, por lo tanto $\\Delta m_{VC} = 0$, $\\Delta E_{VC} = 0$ y $\\Delta X_{VC} = 0$\n",
    "2. Las energías cinética y potencial son insignificantes."
   ]
  },
  {
   "cell_type": "markdown",
   "metadata": {},
   "source": [
    "__Análisis:__ Se considera a la turbina como el sistema, el cual es un volumen de control porque la masa cruza su frontera durante el proceso. Se observa que sólo hay una entrada y una salida, por lo tanto $\\dot{m}_1 = \\dot{m}_2 = \\dot{m}$. Asimismo, el calor se pierde hacia el aire de los alrededores y el sistema realiza trabajo.\n",
    "\n",
    "Las propiedades del vapor de agua en los estados de entrada y de salida y el estado del ambiente son\n",
    "\n",
    "Estado de entrada:\n",
    "$\\left\\{\n",
    "\\begin{array}{l}\n",
    "P_1 = 3 \\, \\mathrm{MPa} \\\\\n",
    "t_1 = 450^\\circ \\mathrm{C}\n",
    "\\end{array}\n",
    "\\right. \\quad \\rightarrow \\quad\n",
    "\\left[\n",
    "\\begin{array}{l}\n",
    "h_1 \\\\\n",
    "s_1\n",
    "\\end{array}\n",
    "\\right]$\n",
    "\n",
    "Estado de salida:\n",
    "$\\left\\{\n",
    "\\begin{array}{l}\n",
    "P_2 = 0,2 \\, \\mathrm{MPa} \\\\\n",
    "t_2 = 150^\\circ \\mathrm{C}\n",
    "\\end{array}\n",
    "\\right. \\quad \\rightarrow \\quad\n",
    "\\left[\n",
    "\\begin{array}{l}\n",
    "h_2 \\\\\n",
    "s_2\n",
    "\\end{array}\n",
    "\\right]$\n",
    "\n",
    "Estado muerto\n",
    "$\\left\\{\n",
    "\\begin{array}{l}\n",
    "P_0 = 100 \\, \\mathrm{kPa} \\\\\n",
    "t_0 = 25^\\circ \\mathrm{C}\n",
    "\\end{array}\n",
    "\\right. \\quad \\rightarrow \\quad\n",
    "\\left[\n",
    "\\begin{array}{l}\n",
    "h_0 \\\\\n",
    "s_0\n",
    "\\end{array}\n",
    "\\right]$"
   ]
  },
  {
   "cell_type": "code",
   "execution_count": 1,
   "metadata": {},
   "outputs": [],
   "source": [
    "import CoolProp.CoolProp as cp"
   ]
  },
  {
   "cell_type": "code",
   "execution_count": 2,
   "metadata": {},
   "outputs": [],
   "source": [
    "# Datos\n",
    "P1 = 3e6 # Pa\n",
    "T1 = 450 + 273.15 # K\n",
    "P2 = 0.2e6 # Pa\n",
    "T2 = 150 + 273.15 # K\n",
    "P0 = 100e3 # Pa\n",
    "T0 = 25 + 273.15 # K\n",
    "\n",
    "h1 = cp.PropsSI('H','P',P1,'T',T1,'Water')\n",
    "s1 = cp.PropsSI('S','P',P1,'T',T1,'Water')\n",
    "h2 = cp.PropsSI('H','P',P2,'T',T2,'Water')\n",
    "s2 = cp.PropsSI('S','P',P2,'T',T2,'Water')\n",
    "h0 = cp.PropsSI('H','P',P0,'T',T0,'Water')\n",
    "s0 = cp.PropsSI('S','P',P0,'T',T0,'Water')"
   ]
  },
  {
   "cell_type": "code",
   "execution_count": 3,
   "metadata": {},
   "outputs": [
    {
     "name": "stdout",
     "output_type": "stream",
     "text": [
      "h1 = 3344.84 kJ/kg\n",
      "s1 = 7.0856 kJ/kg·K\n",
      "----------------------------------\n",
      "h2 = 2769.1 kJ/kg\n",
      "s2 = 7.281 kJ/kg·K\n",
      "----------------------------------\n",
      "h0 = 104.92 kJ/kg\n",
      "s0 = 0.3672 kJ/kg·K\n"
     ]
    }
   ],
   "source": [
    "print('h1 = %s kJ/kg'%round(h1/1000,2))\n",
    "print('s1 = %s kJ/kg·K'%round(s1/1000,4))\n",
    "print('----------------------------------')\n",
    "print('h2 = %s kJ/kg'%round(h2/1000,2))\n",
    "print('s2 = %s kJ/kg·K'%round(s2/1000,4))\n",
    "print('----------------------------------')\n",
    "print('h0 = %s kJ/kg'%round(h0/1000,2))\n",
    "print('s0 = %s kJ/kg·K'%round(s0/1000,4))"
   ]
  },
  {
   "cell_type": "markdown",
   "metadata": {},
   "source": [
    "1. La salida real de potencia de la turbina es determinada de la forma de tasa del balance de energía,\n",
    "\n",
    "$$ \\dot{E}_\\mathrm{ent} - \\dot{E}_\\mathrm{sal} = \\frac{dE_\\mathrm{sis}}{dt} = 0 $$\n",
    "\n",
    "$$ \\dot{E}_\\mathrm{ent} = \\dot{E}_\\mathrm{sal} $$\n",
    "dado que $E_c \\cong E_p \\cong 0$\n",
    "$$ \\dot{m} h_1 = \\dot{W}_\\mathrm{sal} + \\dot{Q}_\\mathrm{sal} + \\dot{m} h_2 $$\n",
    "\n",
    "$$ \\dot{W}_\\mathrm{sal} = \\dot{m} (h_1 - h_2) - \\dot{Q}_\\mathrm{sal} $$"
   ]
  },
  {
   "cell_type": "code",
   "execution_count": 4,
   "metadata": {},
   "outputs": [
    {
     "name": "stdout",
     "output_type": "stream",
     "text": [
      "Wsal = 4306.0 kW\n"
     ]
    }
   ],
   "source": [
    "m = 8 # kg/s\n",
    "Qsal = 300e3 # W\n",
    "\n",
    "Wsal = m*(h1 - h2) - Qsal\n",
    "\n",
    "print('Wsal = %s kW'%round(Wsal/1000,1))"
   ]
  },
  {
   "cell_type": "markdown",
   "metadata": {},
   "source": [
    "2. La salida de potencia máxima (potencia reversible) se determina a partir de la forma de la tasa del balance de exergía aplicado sobre el sistema extendido (sistema +  alrededores inmediatos), cuya frontera está a la temperatura ambiente $T_0$; entonces, al igualar a cero el término de la destrucción de exergía,\n",
    "\n",
    "$$ \\dot{X}_\\mathrm{ent} - \\dot{X}_\\mathrm{sal} - \\overbrace{ \\dot{X}_\\mathrm{destruida} }^{= \\, 0 \\, \\mathrm{(revers)}} = \\frac{dX_\\mathrm{sistema}}{dt} = 0 $$\n",
    "\n",
    "$$ \\dot{X}_\\mathrm{ent} = \\dot{X}_\\mathrm{sal} $$\n",
    "\n",
    "$$ \\dot{m} \\psi_1 = \\dot{W}_\\mathrm{rev,sal} + \\overbrace{ \\dot{X}_\\mathrm{calor} }^{= \\, 0} + \\dot{m} \\psi_2 $$\n",
    "\n",
    "$$ \\dot{W}_\\mathrm{rev,sal} = \\dot{m} \\, (\\psi_1 - \\psi_2) $$\n",
    "\n",
    "$$ \\dot{W}_\\mathrm{rev,sal} = \\dot{m} \\,[(h_1 - h_2) - T_0 \\, (s_1 - s_2) - \\overbrace{ \\Delta E_c }^{= \\, 0} - \\overbrace{ \\Delta E_p }^{= \\, 0} ] $$\n",
    "\n",
    "Observe que la transferencia de exergía debida al calor es cero cuando la temperatura en el punto de transferencia es la temperatura ambiente $T_0$. Al sustituir se obtiene"
   ]
  },
  {
   "cell_type": "code",
   "execution_count": 5,
   "metadata": {},
   "outputs": [
    {
     "name": "stdout",
     "output_type": "stream",
     "text": [
      "Wrev_sal = 5072.0 kW\n"
     ]
    }
   ],
   "source": [
    "Wrev_sal = m*( (h1 - h2) - T0*(s1 - s2) )\n",
    "\n",
    "print('Wrev_sal = %s kW'%round(Wrev_sal/1000,2))"
   ]
  },
  {
   "cell_type": "markdown",
   "metadata": {},
   "source": [
    "3. La eficiencia según la segunda ley de una turbina es la relación de trabajo real entregado al trabajo reversible,\n",
    "\n",
    "$$ \\eta_{II} = \\frac{\\dot{W}_\\mathrm{sal}}{\\dot{W}_\\mathrm{rev,sal}} $$"
   ]
  },
  {
   "cell_type": "code",
   "execution_count": 6,
   "metadata": {},
   "outputs": [
    {
     "name": "stdout",
     "output_type": "stream",
     "text": [
      "eta_ii = 0.849\n",
      "eta_ii = 84.9%\n"
     ]
    }
   ],
   "source": [
    "eta_ii = Wsal/Wrev_sal\n",
    "\n",
    "print('eta_ii = %s'%round(eta_ii,3))\n",
    "print('eta_ii = %s%%'%round(eta_ii*100,1))"
   ]
  },
  {
   "cell_type": "markdown",
   "metadata": {},
   "source": [
    "Es decir, se desperdicia 15,1 por ciento del potencial de trabajo durante este proceso."
   ]
  },
  {
   "cell_type": "markdown",
   "metadata": {},
   "source": [
    "4. La diferencia entre el trabajo reversible y el trabajo útil real es la exergía destruida, la cual se determina como\n",
    "\n",
    "$$ \\dot{X}_\\mathrm{destruida} = \\dot{W}_\\mathrm{rev,sal} - \\dot{W}_\\mathrm{sal} $$"
   ]
  },
  {
   "cell_type": "code",
   "execution_count": 7,
   "metadata": {},
   "outputs": [
    {
     "name": "stdout",
     "output_type": "stream",
     "text": [
      "Xdest 766.05 kW\n"
     ]
    }
   ],
   "source": [
    "Xdest = Wrev_sal - Wsal\n",
    "\n",
    "print('Xdest %s kW'%round(Xdest/1000,2))"
   ]
  },
  {
   "cell_type": "markdown",
   "metadata": {},
   "source": [
    "Es decir, se desprecia el potencial para producir trabajo útil a una tasa de 776 kW durante este proceso. La exergía destruida también podría ser determinada calculando primero la tasa de generación de entropía $\\dot{S}_\\mathrm{gen}$ durante el proceso."
   ]
  },
  {
   "cell_type": "markdown",
   "metadata": {},
   "source": [
    "5. La exergía (máximo potencial de trabajo) del vapor de agua en las condiciones de entrada es simplemente la exergía del flujo, y se determina a partir de\n",
    "\n",
    "$$ \\psi_1 = (h_1 - h_0) - T_0 \\, (s_1 -s_0) + \\overbrace{ \\frac{V^2_1}{2} }^{\\nearrow \\, 0} + \\overbrace{ gz_1 }^{\\nearrow \\, 0} $$\n",
    "\n",
    "$$ \\psi_1 = (h_1 - h_0) - T_0 \\, (s_1 -s_0) $$"
   ]
  },
  {
   "cell_type": "code",
   "execution_count": 8,
   "metadata": {},
   "outputs": [
    {
     "name": "stdout",
     "output_type": "stream",
     "text": [
      "psi1 = 1236.83 kJ/kg\n"
     ]
    }
   ],
   "source": [
    "psi1 = (h1 - h0) - T0*(s1 - s0)\n",
    "\n",
    "print('psi1 = %s kJ/kg'%round(psi1/1000,2))"
   ]
  },
  {
   "cell_type": "markdown",
   "metadata": {},
   "source": [
    "Es decir, sin contar las energías cinética y potencial, cada kilogramo de vapor de agua que entra a la turbina tiene un potencial de trabajo de 1238 kJ. Esto corresponde a un potencial de potencia de $\\mathrm{(8 \\, kg/s)(1238 \\, kJ/kg) = 9904 \\, kw}$. Obviamente, la turbina convierte en trabajo 4306/9904 = 43,5 por ciento del potencial en trabajo disponible del vapor."
   ]
  },
  {
   "cell_type": "code",
   "execution_count": 9,
   "metadata": {},
   "outputs": [
    {
     "name": "stdout",
     "output_type": "stream",
     "text": [
      "potenW = 9894638.86\n",
      "Wutil = 0.4352\n",
      "Wutil = 43.52%\n"
     ]
    }
   ],
   "source": [
    "potenW = m * psi1\n",
    "Wutil = Wsal/potenW\n",
    "\n",
    "print('potenW = %s'%round(potenW,2))\n",
    "print('Wutil = %s'%round(Wutil,4))\n",
    "print('Wutil = %s%%'%round(Wutil*100,2))"
   ]
  },
  {
   "cell_type": "code",
   "execution_count": 10,
   "metadata": {},
   "outputs": [],
   "source": [
    "%reset -s -f"
   ]
  },
  {
   "cell_type": "markdown",
   "metadata": {},
   "source": [
    "# Ejercicio 8-110\n",
    "Para controlar una turbina isentrópica de vapor de agua, se coloca una válvula de estrangulación en la línea de vapor que va a la entrada de la turbina. Se suministra vapor a 6 MPa y 700 °C a la entrada de la válvula, y la presión de escape de la turbina se ajusta a 70 kPa. ¿Cuál es el efecto sobre la exergía del flujo a la entrada de la turbina cuando la válvula de estrangulación está parcialmente cerrada de manera que la presión a la entrada de la turbina sea de 3 MPa? Compare la eficiencia según la segunda ley del sistema cuando la válvula está parcialmente abierta y cuando está totalmente abierta. Tome To = 25 °C.\n",
    "\n",
    "![8-110.png](img/8-110.png)"
   ]
  },
  {
   "cell_type": "markdown",
   "metadata": {},
   "source": [
    "## Solución\n",
    "Se coloca una válvula de mariposa en la línea de vapor que alimenta la entrada de la turbina para controlar una turbina de vapor isentrópica.\n",
    "Debe compararse la eficiencia de segunda ley de este sistema cuando la válvula está parcialmente abierta y cuando está completamente abierta.\n",
    "\n",
    "__Suposiciones:__\n",
    "1. Este es un proceso de flujo constante ya que no hay cambios con el tiempo. \n",
    "2. La turbina está bien aislada y no hay transferencia de calor desde la turbina."
   ]
  },
  {
   "cell_type": "markdown",
   "metadata": {},
   "source": [
    "__La válvula está completamente abierta:__\n",
    "Las propiedades del vapor en varios estados son\n",
    "\n",
    "$\\left.\n",
    "\\begin{array}{l}\n",
    "P_0 = 100 \\, \\mathrm{kPa} \\\\\n",
    "T_0 = 25^\\circ \\mathrm{C}\n",
    "\\end{array}\n",
    "\\right\\} \\quad \\rightarrow \\quad\n",
    "\\left[\n",
    "\\begin{array}{l}\n",
    "h_0 \\\\\n",
    "s_0\n",
    "\\end{array}\n",
    "\\right]$\n",
    "\n",
    "$\\left.\n",
    "\\begin{array}{l}\n",
    "P_1 = P_2 = 6 \\, \\mathrm{MPa} \\\\\n",
    "T_1 = T_2 =  700^\\circ \\mathrm{C}\n",
    "\\end{array}\n",
    "\\right\\} \\quad \\rightarrow \\quad\n",
    "\\left[\n",
    "\\begin{array}{l}\n",
    "h_1 = h2 \\\\\n",
    "s_1 = s_2\n",
    "\\end{array}\n",
    "\\right]$\n",
    "\n",
    "$\\left.\n",
    "\\begin{array}{l}\n",
    "P_3 = 70 \\, \\mathrm{kPa} \\\\\n",
    "s_3 = s_2\n",
    "\\end{array}\n",
    "\\right\\} \\quad \\rightarrow \\quad\n",
    "\\left[\n",
    "\\begin{array}{l}\n",
    "x_3 \\\\\n",
    "h_3\n",
    "\\end{array}\n",
    "\\right]$"
   ]
  },
  {
   "cell_type": "code",
   "execution_count": 11,
   "metadata": {},
   "outputs": [],
   "source": [
    "import CoolProp.CoolProp as cp"
   ]
  },
  {
   "cell_type": "code",
   "execution_count": 12,
   "metadata": {},
   "outputs": [
    {
     "name": "stdout",
     "output_type": "stream",
     "text": [
      "h0 = 104.92 kJ/kg\n",
      "s0 = 0.3672 kJ/kg·K\n",
      "h1 = h2 = 3894.28 kJ/kg\n",
      "s1 = s1 = s3 = 7.4246 kJ/kg·K\n",
      "x3 = 0.9914\n",
      "h3 = 2639.68 kJ/kg\n"
     ]
    }
   ],
   "source": [
    "# Datos\n",
    "P0 = 100e3 # Pa\n",
    "T0 = 25 + 273.15 # K\n",
    "P1 = 6e6 # Pa\n",
    "T1 = 700 + 273.15 # K\n",
    "P2 = P1\n",
    "T2 = T1\n",
    "P3 = 70e3 # Pa\n",
    "\n",
    "h0 = cp.PropsSI('H','P',P0,'T',T0,'Water')\n",
    "s0 = cp.PropsSI('S','P',P0,'T',T0,'Water')\n",
    "\n",
    "h1 = cp.PropsSI('H','P',P1,'T',T1,'Water')\n",
    "s1 = cp.PropsSI('S','P',P1,'T',T1,'Water')\n",
    "\n",
    "h2 = h1\n",
    "s2 = s1\n",
    "s3 = s2\n",
    "\n",
    "x3 = cp.PropsSI('Q','P',P3,'S',s3,'Water')\n",
    "h3 = cp.PropsSI('H','P',P3,'S',s3,'Water')\n",
    "\n",
    "\n",
    "print('h0 = %s kJ/kg'%round(h0/1000,2))\n",
    "print('s0 = %s kJ/kg·K'%round(s0/1000,4))\n",
    "print('h1 = h2 = %s kJ/kg'%round(h1/1000,2))\n",
    "print('s1 = s1 = s3 = %s kJ/kg·K'%round(s1/1000,4))\n",
    "print('x3 = %s'%round(x3,4))\n",
    "print('h3 = %s kJ/kg'%round(h3/1000,2))"
   ]
  },
  {
   "cell_type": "markdown",
   "metadata": {},
   "source": [
    "La corriente exergética en la entrada de la turbina es\n",
    "$$ \\psi_1 = h_1 - h_0 - T_0 (s_1 - s_0) $$"
   ]
  },
  {
   "cell_type": "code",
   "execution_count": 13,
   "metadata": {},
   "outputs": [
    {
     "name": "stdout",
     "output_type": "stream",
     "text": [
      "psi_1 = 1685.19 kJ/kg\n"
     ]
    }
   ],
   "source": [
    "psi_1 = h1 - h0 - T0*(s1 - s0)\n",
    "\n",
    "print('psi_1 = %s kJ/kg'%round(psi_1/1000,2))"
   ]
  },
  {
   "cell_type": "markdown",
   "metadata": {},
   "source": [
    "La segunda ley de eficiencia de todo el sistema es entonces\n",
    "\n",
    "$$ \\eta_{II} = \\frac{w_{out}}{w_{rev}} = \\frac{h_1 - h_3}{h_1 - h_3 - T_0 \\,(s_1 - s_3)} = \\frac{h_1 - h_3}{h_1 - h_3} = 1 $$\n",
    "\n",
    "desde $s_1 = s_3$ para este sistema."
   ]
  },
  {
   "cell_type": "markdown",
   "metadata": {},
   "source": [
    "__La válvula está parcialmente abierta:__\n",
    "\n",
    "$\\left.\n",
    "\\begin{array}{l}\n",
    "P_2 = 3 \\, \\mathrm{MPa} \\\\\n",
    "h_2 = h_1\n",
    "\\end{array}\n",
    "\\right\\} \\quad  \\rightarrow \\quad \n",
    "[s_2]$"
   ]
  },
  {
   "cell_type": "code",
   "execution_count": 14,
   "metadata": {},
   "outputs": [
    {
     "name": "stdout",
     "output_type": "stream",
     "text": [
      "s2 = 7.7404 kJ/kg·K\n"
     ]
    }
   ],
   "source": [
    "P2 = 3e6 # Pa\n",
    "\n",
    "s2 = cp.PropsSI('S','P',P2,'H',h2,'Water')\n",
    "\n",
    "print('s2 = %s kJ/kg·K'%round(s2/1000,4))"
   ]
  },
  {
   "cell_type": "markdown",
   "metadata": {},
   "source": [
    "$\\left.\n",
    "\\begin{array}{l}\n",
    "P_3 = 70 \\, \\mathrm{kPa} \\\\\n",
    "s_3 = s_2\n",
    "\\end{array}\n",
    "\\right\\} \\quad  \\rightarrow \\quad \n",
    "[h_3]$"
   ]
  },
  {
   "cell_type": "code",
   "execution_count": 15,
   "metadata": {},
   "outputs": [
    {
     "name": "stdout",
     "output_type": "stream",
     "text": [
      "h3 = 2760.81 kJ/kg·K\n"
     ]
    }
   ],
   "source": [
    "P3 = 70e3 # Pa\n",
    "s3 = s2\n",
    "\n",
    "h3 = cp.PropsSI('H','P',P3,'S',s3,'Water')\n",
    "\n",
    "print('h3 = %s kJ/kg·K'%round(h3/1000,2))"
   ]
  },
  {
   "cell_type": "markdown",
   "metadata": {},
   "source": [
    "$$ \\psi_2 = h_2 - h_0 - T_0 \\, (s_2 - s_0) $$"
   ]
  },
  {
   "cell_type": "code",
   "execution_count": 16,
   "metadata": {},
   "outputs": [
    {
     "name": "stdout",
     "output_type": "stream",
     "text": [
      "psi_2 = 1591.03 kJ/kg\n"
     ]
    }
   ],
   "source": [
    "psi_2 = h2 - h0 - T0*(s2 - s0)\n",
    "\n",
    "print('psi_2 = %s kJ/kg'%round(psi_2/1000,2))"
   ]
  },
  {
   "cell_type": "markdown",
   "metadata": {},
   "source": [
    "$$ \\eta_{II} = \\frac{w_{out}}{w_{rev}} = \\frac{h_2 - h_3}{h_2 - h_3 - T_0 \\,(s_2 - s_3)} = \\frac{h_2 - h_3}{h_2 - h_3} = 1 $$"
   ]
  },
  {
   "cell_type": "code",
   "execution_count": 17,
   "metadata": {},
   "outputs": [],
   "source": [
    "%reset -s -f"
   ]
  },
  {
   "cell_type": "markdown",
   "metadata": {},
   "source": [
    "# Ejercicio 49\n",
    "Una turbina recibe:\n",
    "1. A toda carga vapor a 40 bar y 400°C\n",
    "2. A carga parcial una válvula reduce la presión a 20 bar.\n",
    "\n",
    "Si la descarga de la turbina se realiza a 0,1 bar y el $\\eta_{iso} = 0,8$\n",
    "* Calcular $h_3;$ $s_3$ y el $\\eta_{ex}$ (rendimiento exergético) en cada caso.\n",
    "\n",
    "![51.png](img/51.png)"
   ]
  },
  {
   "cell_type": "markdown",
   "metadata": {},
   "source": [
    "## Solución\n",
    "\n",
    "$$ \\eta_{iso} = \\frac{W_{real}}{W_{ideal}} = \\frac{h_2 - h_3}{h_2 - h_{3rev}} $$\n",
    "\n",
    "$$ \\eta_{ex} = \\mathrm{ \\frac{exergia \\, producida \\, (+)}{exergia \\, consumida \\, (-)} } $$\n",
    "\n",
    "$$ \\eta_{ex} = \\frac{W}{\\Delta E_{2-3}} = \\frac{h_2 - h_3}{h_2 - h_3 - T_0 (s_2 - s_3)} $$"
   ]
  },
  {
   "cell_type": "markdown",
   "metadata": {},
   "source": [
    "$\\left\\{\n",
    "\\begin{array}{l}\n",
    "P_2 = 40 \\, \\mathrm{bar} \\\\\n",
    "t_2 = 400^\\circ \\mathrm{C}\n",
    "\\end{array}\n",
    "\\right. \\quad \\rightarrow \\quad \n",
    "\\left[\n",
    "\\begin{array}{l}\n",
    "h_2 \\\\\n",
    "s_2\n",
    "\\end{array}\n",
    "\\right]$"
   ]
  },
  {
   "cell_type": "code",
   "execution_count": 1,
   "metadata": {},
   "outputs": [],
   "source": [
    "import CoolProp.CoolProp as cp"
   ]
  },
  {
   "cell_type": "code",
   "execution_count": 2,
   "metadata": {},
   "outputs": [
    {
     "name": "stdout",
     "output_type": "stream",
     "text": [
      "h2 = 3214.47 kJ/kg\n",
      "s2 = 6.77136 kJ/kg·K\n",
      "s3rev = 6.77136 kJ/kg·K\n"
     ]
    }
   ],
   "source": [
    "P2 = 40e5 # Pa\n",
    "T2 = 400 + 273.15 # K\n",
    "\n",
    "h2 = cp.PropsSI('H','P',P2,'T',T2,'Water')\n",
    "s2 = cp.PropsSI('S','P',P2,'T',T2,'Water')\n",
    "s3rev = s2\n",
    "\n",
    "print('h2 = %s kJ/kg'%round(h2/1000,2))\n",
    "print('s2 = %s kJ/kg·K'%round(s2/1000,5))\n",
    "print('s3rev = %s kJ/kg·K'%round(s3rev/1000,5))"
   ]
  },
  {
   "cell_type": "markdown",
   "metadata": {},
   "source": [
    "Averiguamos el título (reversible) en la salida de la turbina\n",
    "\n",
    "$\\left\\{\n",
    "\\begin{array}{l}\n",
    "P_3 = 0,1 \\, \\mathrm{bar} \\\\\n",
    "s_{3rev} = 6,77136 \\, \\mathrm{kJ/kg \\cdot K}\n",
    "\\end{array}\n",
    "\\right. \\quad \\rightarrow \\quad \n",
    "\\left[\n",
    "\\begin{array}{l}\n",
    "s' \\\\\n",
    "s''\n",
    "\\end{array}\n",
    "\\right] \\;\n",
    "\\left[\n",
    "\\begin{array}{l}\n",
    "h' \\\\\n",
    "h''\n",
    "\\end{array}\n",
    "\\right]$\n",
    "\n",
    "$$ x_{3rev} = \\frac{s_{3rev} - s'}{s'' - s'} $$"
   ]
  },
  {
   "cell_type": "code",
   "execution_count": 3,
   "metadata": {},
   "outputs": [
    {
     "name": "stdout",
     "output_type": "stream",
     "text": [
      "sp1 = 0.6492 kJ/kg·K\n",
      "sp2 = 8.14882 kJ/kg·K\n",
      "hp1 = 191.81 kJ/kg\n",
      "hp2 = 2583.86 kJ/kg\n",
      "  \n",
      "x3rev = 0.8163\n"
     ]
    }
   ],
   "source": [
    "P3 = 0.1e5 # Pa\n",
    "\n",
    "sp1 = cp.PropsSI('S','P',P3,'Q',0,'Water')\n",
    "sp2 = cp.PropsSI('S','P',P3,'Q',1,'Water')\n",
    "hp1 = cp.PropsSI('H','P',P3,'Q',0,'Water')\n",
    "hp2 = cp.PropsSI('H','P',P3,'Q',1,'Water')\n",
    "\n",
    "x3rev = (s3rev - sp1)/(sp2 - sp1)\n",
    "\n",
    "print('sp1 = %s kJ/kg·K'%round(sp1/1000,5))\n",
    "print('sp2 = %s kJ/kg·K'%round(sp2/1000,5))\n",
    "print('hp1 = %s kJ/kg'%round(hp1/1000,2))\n",
    "print('hp2 = %s kJ/kg'%round(hp2/1000,2))\n",
    "print('  ')\n",
    "print('x3rev = %s'%round(x3rev,4))"
   ]
  },
  {
   "cell_type": "markdown",
   "metadata": {},
   "source": [
    "$$ h_{3rev} = x_{3rev} (h'' - h') + h' $$"
   ]
  },
  {
   "cell_type": "code",
   "execution_count": 4,
   "metadata": {},
   "outputs": [
    {
     "name": "stdout",
     "output_type": "stream",
     "text": [
      "h3rev = 2144.51 kJ/kg\n"
     ]
    }
   ],
   "source": [
    "h3rev = x3rev*(hp2 - hp1) + hp1\n",
    "\n",
    "print('h3rev = %s kJ/kg'%round(h3rev/1000,2))"
   ]
  },
  {
   "cell_type": "markdown",
   "metadata": {},
   "source": [
    "$$ \\eta_{iso} = \\frac{h_2 - h_3}{h_2 - h_{3rev}} $$\n",
    "\n",
    "Entonces\n",
    "\n",
    "$$ h_3 = h_2 - \\eta_{iso} \\, (h_2 - h_{3rev}) $$"
   ]
  },
  {
   "cell_type": "code",
   "execution_count": 5,
   "metadata": {},
   "outputs": [
    {
     "name": "stdout",
     "output_type": "stream",
     "text": [
      "h3 = 2358.5 kJ/kg\n"
     ]
    }
   ],
   "source": [
    "eta_iso = 0.8\n",
    "\n",
    "h3 = h2 - eta_iso*(h2 - h3rev)\n",
    "\n",
    "print('h3 = %s kJ/kg'%round(h3/1000,2))"
   ]
  },
  {
   "cell_type": "markdown",
   "metadata": {},
   "source": [
    "$$ x_{3real} = \\frac{h_3 - h'}{h'' - h'} $$"
   ]
  },
  {
   "cell_type": "code",
   "execution_count": 6,
   "metadata": {},
   "outputs": [
    {
     "name": "stdout",
     "output_type": "stream",
     "text": [
      "x3real = 0.9058\n"
     ]
    }
   ],
   "source": [
    "x3real = (h3 - hp1)/(hp2 - hp1)\n",
    "\n",
    "print('x3real = %s'%round(x3real,4))"
   ]
  },
  {
   "cell_type": "markdown",
   "metadata": {},
   "source": [
    "$$ s_3 = x_{3real} (s'' - s') + s' $$"
   ]
  },
  {
   "cell_type": "code",
   "execution_count": 7,
   "metadata": {},
   "outputs": [
    {
     "name": "stdout",
     "output_type": "stream",
     "text": [
      "s3 = 7.44227 kJ/kg·K\n"
     ]
    }
   ],
   "source": [
    "s3 = x3real*(sp2 - sp1) + sp1\n",
    "\n",
    "print('s3 = %s kJ/kg·K'%round(s3/1000,5))"
   ]
  },
  {
   "cell_type": "markdown",
   "metadata": {},
   "source": [
    "$$ \\eta_{ex} = \\mathrm{ \\frac{exergia \\, producida \\, (+)}{exergia \\, consumida \\, (-)} } $$\n",
    "\n",
    "$$ \\eta_{ex} = \\frac{W}{\\Delta E_{2-3}} = \\frac{h_2 - h_3}{h_2 - h_3 - T_0 (s_2 - s_3)} $$"
   ]
  },
  {
   "cell_type": "code",
   "execution_count": 8,
   "metadata": {},
   "outputs": [
    {
     "name": "stdout",
     "output_type": "stream",
     "text": [
      "eta_ex = 0.8096\n"
     ]
    }
   ],
   "source": [
    "To = 300 # K\n",
    "\n",
    "eta_ex = (h2 - h3)/( h2 - h3 - To*(s2 - s3) ) \n",
    "\n",
    "print('eta_ex = %s'%round(eta_ex,4))"
   ]
  },
  {
   "cell_type": "markdown",
   "metadata": {},
   "source": [
    "### Item 2\n",
    "\n",
    "$$ \\eta_{iso} = \\frac{W_{real}}{W_{ideal}} = \\frac{h_2 - h_3}{h_2 - h_{3rev}} $$\n",
    "\n",
    "$$ \\eta_{ex} = \\mathrm{ \\frac{exergia \\, producida \\, (+)}{exergia \\, consumida \\, (-)} } $$\n",
    "\n",
    "$$ \\eta_{ex} = \\frac{W}{\\Delta E_{2-3}} = \\frac{h_2 - h_3}{h_2 - h_3 - T_0 (s_2 - s_3)} $$"
   ]
  },
  {
   "cell_type": "markdown",
   "metadata": {},
   "source": [
    "$\\left\\{\n",
    "\\begin{array}{l}\n",
    "P_1 = 40 \\, \\mathrm{bar} \\\\\n",
    "t_1 = 400^\\circ \\mathrm{C}\n",
    "\\end{array}\n",
    "\\right. \\quad \\rightarrow \\quad \n",
    "\\left[\n",
    "\\begin{array}{l}\n",
    "h_1 \\\\\n",
    "s_1\n",
    "\\end{array}\n",
    "\\right] \\quad \\rightarrow \\; h_1 = h_2 \\quad \\mbox{(válvula)}$"
   ]
  },
  {
   "cell_type": "code",
   "execution_count": 21,
   "metadata": {},
   "outputs": [
    {
     "name": "stdout",
     "output_type": "stream",
     "text": [
      "h1 = h2 = 3214.47 kJ/kg\n",
      "s1 = 6.7714 kJ/kg·K\n"
     ]
    }
   ],
   "source": [
    "# Datos\n",
    "P1 = 40e5 # Pa\n",
    "T1 = 400 + 273.15 # K\n",
    "\n",
    "h1 = cp.PropsSI('H','P',P1,'T',T1,'Water')\n",
    "s1 = cp.PropsSI('S','P',P1,'T',T1,'Water')\n",
    "h2 = h1\n",
    "\n",
    "print('h1 = h2 = %s kJ/kg'%round(h1/1000,2))\n",
    "print('s1 = %s kJ/kg·K'%round(s1/1000,4))"
   ]
  },
  {
   "cell_type": "markdown",
   "metadata": {},
   "source": [
    "$\\left\\{\n",
    "\\begin{array}{l}\n",
    "P_2 = 20 \\, \\mathrm{bar} \\\\\n",
    "h_2 = h_1\n",
    "\\end{array}\n",
    "\\right. \\quad \\rightarrow \\quad \n",
    "\\left[\n",
    "\\begin{array}{l}\n",
    "t_2 \\\\\n",
    "s_2\n",
    "\\end{array}\n",
    "\\right] \\quad \\rightarrow \\; s_2 = s_{3rev} \\quad  \\mbox{(turbina iso)}$"
   ]
  },
  {
   "cell_type": "code",
   "execution_count": 22,
   "metadata": {},
   "outputs": [
    {
     "name": "stdout",
     "output_type": "stream",
     "text": [
      "Fase: supercritical_gas\n",
      "T2 = 657.78 K\n",
      "t2 = 384.63°C\n",
      "s2 = s3rev = 7.07826 kJ/kg·K\n"
     ]
    }
   ],
   "source": [
    "#Dato\n",
    "P2 = 20e5 # Pa\n",
    "\n",
    "T2 = cp.PropsSI('T','P',P2,'H',h2,'Water')\n",
    "s2 = cp.PropsSI('S','P',P2,'H',h2,'Water')\n",
    "phase = cp.PhaseSI('P',P2,'H',h2,'Water')\n",
    "s3rev = s2\n",
    "\n",
    "print('Fase: %s'%phase)\n",
    "print('T2 = %s K'%round(T2,2))\n",
    "print('t2 = %s°C'%round(T2 - 273.15,2))\n",
    "print('s2 = s3rev = %s kJ/kg·K'%round(s2/1000,5))"
   ]
  },
  {
   "cell_type": "markdown",
   "metadata": {},
   "source": [
    "Averiguamos el título (reversible) en la salida de la turbina\n",
    "\n",
    "$\\left\\{\n",
    "\\begin{array}{l}\n",
    "P_3 = 0,1 \\, \\mathrm{bar} \\\\\n",
    "s_{3rev} = 7,07826 \\, \\mathrm{kJ/kg \\cdot K}\n",
    "\\end{array}\n",
    "\\right. \\quad \\rightarrow \\quad \n",
    "\\left[\n",
    "\\begin{array}{l}\n",
    "s' \\\\\n",
    "s''\n",
    "\\end{array}\n",
    "\\right] \\;\n",
    "\\left[\n",
    "\\begin{array}{l}\n",
    "h' \\\\\n",
    "h''\n",
    "\\end{array}\n",
    "\\right]$\n",
    "\n",
    "$$ x_{3rev} = \\frac{s_{3rev} - s'}{s'' - s'} $$"
   ]
  },
  {
   "cell_type": "code",
   "execution_count": 23,
   "metadata": {},
   "outputs": [
    {
     "name": "stdout",
     "output_type": "stream",
     "text": [
      "sp1 = 0.6492 kJ/kg·K\n",
      "sp2 = 8.14882 kJ/kg·K\n",
      "hp1 = 191.81 kJ/kg\n",
      "hp2 = 2583.86 kJ/kg\n",
      "  \n",
      "x3rev = 0.8573\n"
     ]
    }
   ],
   "source": [
    "sp1 = cp.PropsSI('S','P',P3,'Q',0,'Water')\n",
    "sp2 = cp.PropsSI('S','P',P3,'Q',1,'Water')\n",
    "hp1 = cp.PropsSI('H','P',P3,'Q',0,'Water')\n",
    "hp2 = cp.PropsSI('H','P',P3,'Q',1,'Water')\n",
    "\n",
    "x3rev = (s3rev - sp1)/(sp2 - sp1)\n",
    "\n",
    "print('sp1 = %s kJ/kg·K'%round(sp1/1000,5))\n",
    "print('sp2 = %s kJ/kg·K'%round(sp2/1000,5))\n",
    "print('hp1 = %s kJ/kg'%round(hp1/1000,2))\n",
    "print('hp2 = %s kJ/kg'%round(hp2/1000,2))\n",
    "print('  ')\n",
    "print('x3rev = %s'%round(x3rev,4))"
   ]
  },
  {
   "cell_type": "markdown",
   "metadata": {},
   "source": [
    "$$ h_{3rev} = x_{3rev} (h'' - h') + h' $$"
   ]
  },
  {
   "cell_type": "code",
   "execution_count": 25,
   "metadata": {},
   "outputs": [
    {
     "name": "stdout",
     "output_type": "stream",
     "text": [
      "h3rev = 2242.4 kJ/kg\n"
     ]
    }
   ],
   "source": [
    "h3rev = x3rev*(hp2 - hp1) + hp1\n",
    "\n",
    "print('h3rev = %s kJ/kg'%round(h3rev/1000,2))"
   ]
  },
  {
   "cell_type": "markdown",
   "metadata": {},
   "source": [
    "$$ \\eta_{iso} = \\frac{h_2 - h_3}{h_2 - h_{3rev}} $$\n",
    "\n",
    "Entonces\n",
    "\n",
    "$$ h_3 = h_2 - \\eta_{iso} \\, (h_2 - h_{3rev}) $$"
   ]
  },
  {
   "cell_type": "code",
   "execution_count": 26,
   "metadata": {},
   "outputs": [
    {
     "name": "stdout",
     "output_type": "stream",
     "text": [
      "h3 = 2436.81 kJ/kg\n"
     ]
    }
   ],
   "source": [
    "eta_iso = 0.8\n",
    "\n",
    "h3 = h2 - eta_iso*(h2 - h3rev)\n",
    "\n",
    "print('h3 = %s kJ/kg'%round(h3/1000,2))"
   ]
  },
  {
   "cell_type": "code",
   "execution_count": 28,
   "metadata": {},
   "outputs": [
    {
     "name": "stdout",
     "output_type": "stream",
     "text": [
      "x3real = 0.9385\n"
     ]
    }
   ],
   "source": [
    "x3real = (h3 - hp1)/(hp2 - hp1)\n",
    "\n",
    "print('x3real = %s'%round(x3real,4))"
   ]
  },
  {
   "cell_type": "code",
   "execution_count": 29,
   "metadata": {},
   "outputs": [
    {
     "name": "stdout",
     "output_type": "stream",
     "text": [
      "s3 = 7.68779 kJ/kg·K\n"
     ]
    }
   ],
   "source": [
    "s3 = x3real*(sp2 - sp1) + sp1\n",
    "\n",
    "print('s3 = %s kJ/kg·K'%round(s3/1000,5))"
   ]
  },
  {
   "cell_type": "markdown",
   "metadata": {},
   "source": [
    "$$ \\eta_{iso} = \\frac{W_{real}}{W_{ideal}} = \\frac{h_2 - h_3}{h_2 - h_{3rev}} $$\n",
    "\n",
    "$$ \\eta_{ex} = \\mathrm{ \\frac{exergia \\, producida \\, (+)}{exergia \\, consumida \\, (-)} } $$\n",
    "\n",
    "$$ \\eta_{ex} = \\frac{W}{\\Delta E_{2-3}} = \\frac{h_2 - h_3}{h_2 - h_3 - T_0 (s_2 - s_3)} $$"
   ]
  },
  {
   "cell_type": "code",
   "execution_count": 30,
   "metadata": {},
   "outputs": [
    {
     "name": "stdout",
     "output_type": "stream",
     "text": [
      "eta_ex = 0.8096\n"
     ]
    }
   ],
   "source": [
    "To = 300 # K\n",
    "\n",
    "eta_ex = (h2 - h3)/(h2 - h3 - To*(s2 - s3))\n",
    "\n",
    "print('eta_ex = %s'%round(eta_ex,4))"
   ]
  },
  {
   "cell_type": "code",
   "execution_count": null,
   "metadata": {},
   "outputs": [],
   "source": []
  }
 ],
 "metadata": {
  "kernelspec": {
   "display_name": "Python 3",
   "language": "python",
   "name": "python3"
  },
  "language_info": {
   "codemirror_mode": {
    "name": "ipython",
    "version": 3
   },
   "file_extension": ".py",
   "mimetype": "text/x-python",
   "name": "python",
   "nbconvert_exporter": "python",
   "pygments_lexer": "ipython3",
   "version": "3.7.3"
  }
 },
 "nbformat": 4,
 "nbformat_minor": 2
}
