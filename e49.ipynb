{
 "cells": [
  {
   "cell_type": "markdown",
   "metadata": {},
   "source": [
    "# Ejercicio 49\n",
    "Una turbina recibe:\n",
    "1. A toda carga vapor a 40 bar y 400°C\n",
    "2. A carga parcial una válvula reduce la presión a 20 bar.\n",
    "\n",
    "Si la descarga de la turbina se realiza a 0,1 bar y el $\\eta_{iso} = 0,8$\n",
    "* Calcular $h_3;$ $s_3$ y el $\\eta_{ex}$ (rendimiento exergético) en cada caso.\n",
    "\n",
    "![51.png](img/51.png)"
   ]
  },
  {
   "cell_type": "markdown",
   "metadata": {},
   "source": [
    "## Solución\n",
    "__1. ítem__ \n",
    "\n",
    "$\\begin{array}{l}\n",
    "P_1 = P_2 = 40 \\, \\mathrm{bar} \\\\\n",
    "T_1 = T_2 = 400^\\circ \\mathrm{C}\n",
    "\\end{array}$"
   ]
  },
  {
   "cell_type": "code",
   "execution_count": 55,
   "metadata": {},
   "outputs": [],
   "source": [
    "import CoolProp.CoolProp as cp"
   ]
  },
  {
   "cell_type": "code",
   "execution_count": 56,
   "metadata": {},
   "outputs": [
    {
     "name": "stdout",
     "output_type": "stream",
     "text": [
      "h2 = 3214.47 kJ/kg*K\n",
      "En el punto 3:\n"
     ]
    },
    {
     "data": {
      "text/plain": [
       "'twophase'"
      ]
     },
     "execution_count": 56,
     "metadata": {},
     "output_type": "execute_result"
    }
   ],
   "source": [
    "P1 = 40e5 # Pa\n",
    "P2 = P1\n",
    "T1 = 400 + 273.15 # K\n",
    "T2 = T1\n",
    "P3 = 0.1e5 # Pa\n",
    "\n",
    "# Consulta de entropía en 2\n",
    "s1 = cp.PropsSI('S','P',P1,'T',T1,'Water')\n",
    "s2 = s1\n",
    "h1 = cp.PropsSI('H','P',P1,'T',T1,'Water')\n",
    "h2 = h1\n",
    "s3rev = s2\n",
    "\n",
    "# Consulta\n",
    "print('h2 = %s kJ/kg*K'%round(h2/1000,2))\n",
    "print('En el punto 3:')\n",
    "cp.PhaseSI('S',s3rev,'P',P3,'Water')"
   ]
  },
  {
   "cell_type": "code",
   "execution_count": 57,
   "metadata": {},
   "outputs": [
    {
     "name": "stdout",
     "output_type": "stream",
     "text": [
      "s3rev = s2 = 6.7714 kJ/kg*K\n"
     ]
    }
   ],
   "source": [
    "print('s3rev = s2 = %s kJ/kg*K'%round(s2/1000,4))"
   ]
  },
  {
   "cell_type": "code",
   "execution_count": 58,
   "metadata": {},
   "outputs": [
    {
     "name": "stdout",
     "output_type": "stream",
     "text": [
      "x3rev = 0.8163\n"
     ]
    }
   ],
   "source": [
    "x3rev = cp.PropsSI('Q','P',P3,'S',s3rev,'Water')\n",
    "print('x3rev = %s'%round(x3rev,4))"
   ]
  },
  {
   "cell_type": "code",
   "execution_count": 59,
   "metadata": {},
   "outputs": [
    {
     "name": "stdout",
     "output_type": "stream",
     "text": [
      "h3rev = 2144.51 kJ/kg*K\n"
     ]
    }
   ],
   "source": [
    "h3rev = cp.PropsSI('H','P',P3,'S',s3rev,'Water')\n",
    "print('h3rev = %s kJ/kg*K'%round(h3rev/1000,2))"
   ]
  },
  {
   "cell_type": "markdown",
   "metadata": {},
   "source": [
    "$$ \\eta_{iso} = \\frac{h_2 - h_3}{h_2 - h_{3rev}} = 0,8 $$"
   ]
  },
  {
   "cell_type": "markdown",
   "metadata": {},
   "source": [
    "$$ h_3 = 0,8 \\, ( h_{3rev} - h_2 ) + h_2 $$"
   ]
  },
  {
   "cell_type": "code",
   "execution_count": 60,
   "metadata": {},
   "outputs": [
    {
     "name": "stdout",
     "output_type": "stream",
     "text": [
      "h3 = 2358.5 kJ/kg*K\n"
     ]
    }
   ],
   "source": [
    "h3 = 0.8*(h3rev - h2) + h2\n",
    "print('h3 = %s kJ/kg*K'%round(h3/1000,2))"
   ]
  },
  {
   "cell_type": "code",
   "execution_count": 61,
   "metadata": {},
   "outputs": [
    {
     "name": "stdout",
     "output_type": "stream",
     "text": [
      "x3 = 0.9058\n"
     ]
    }
   ],
   "source": [
    "# Cálculo de x3\n",
    "x3 = cp.PropsSI('Q','P',P3,'H',h3,'Water')\n",
    "print('x3 = %s'%round(x3,4))"
   ]
  },
  {
   "cell_type": "code",
   "execution_count": 62,
   "metadata": {},
   "outputs": [
    {
     "name": "stdout",
     "output_type": "stream",
     "text": [
      "s3 = 7.4423 kJ/kg*K\n"
     ]
    }
   ],
   "source": [
    "s3 = cp.PropsSI('S','P',P3,'H',h3,'Water')\n",
    "print('s3 = %s kJ/kg*K'%round(s3/1000,4))"
   ]
  },
  {
   "cell_type": "code",
   "execution_count": 63,
   "metadata": {},
   "outputs": [
    {
     "name": "stdout",
     "output_type": "stream",
     "text": [
      "eta_ex = 0.81\n"
     ]
    }
   ],
   "source": [
    "T0 = 300 # K\n",
    "W = h1 - h3\n",
    "DEx13 = (h3 - h1) - T0*(s3 - s1)\n",
    "\n",
    "eta_ex = W/abs(DEx13)\n",
    "\n",
    "print('eta_ex = %s'%round(eta_ex,3))"
   ]
  },
  {
   "cell_type": "markdown",
   "metadata": {},
   "source": [
    "__2. ítem__"
   ]
  },
  {
   "cell_type": "code",
   "execution_count": 64,
   "metadata": {},
   "outputs": [
    {
     "name": "stdout",
     "output_type": "stream",
     "text": [
      "h2 = 3214.47 kJ/kg*K\n",
      "En el punto 3:\n",
      "s3rev = s2 = 7.0783 kJ/kg*K\n"
     ]
    },
    {
     "data": {
      "text/plain": [
       "'twophase'"
      ]
     },
     "execution_count": 64,
     "metadata": {},
     "output_type": "execute_result"
    }
   ],
   "source": [
    "P2 = 20e5 # Pa\n",
    "\n",
    "h1 = cp.PropsSI('H','P',P1,'T',T1,'Water')\n",
    "s1 = cp.PropsSI('S','P',P1,'T',T1,'Water')\n",
    "h2 = h1\n",
    "\n",
    "# Consulto entropía en 2\n",
    "s2 = cp.PropsSI('S','P',P2,'H',h2,'Water')\n",
    "s3rev = s2\n",
    "\n",
    "print('h2 = %s kJ/kg*K'%round(h2/1000,2))\n",
    "print('En el punto 3:')\n",
    "print('s3rev = s2 = %s kJ/kg*K'%round(s2/1000,4))\n",
    "cp.PhaseSI('S',s3rev,'P',P3,'Water')"
   ]
  },
  {
   "cell_type": "code",
   "execution_count": 65,
   "metadata": {},
   "outputs": [
    {
     "name": "stdout",
     "output_type": "stream",
     "text": [
      "x3rev = 0.8573\n"
     ]
    }
   ],
   "source": [
    "x3rev = cp.PropsSI('Q','P',P3,'S',s3rev,'Water')\n",
    "print('x3rev = %s'%round(x3rev,4))"
   ]
  },
  {
   "cell_type": "code",
   "execution_count": 66,
   "metadata": {},
   "outputs": [
    {
     "name": "stdout",
     "output_type": "stream",
     "text": [
      "h3rev = 2242.4 kJ/kg*K\n"
     ]
    }
   ],
   "source": [
    "h3rev = cp.PropsSI('H','P',P3,'S',s3rev,'Water')\n",
    "print('h3rev = %s kJ/kg*K'%round(h3rev/1000,2))"
   ]
  },
  {
   "cell_type": "markdown",
   "metadata": {},
   "source": [
    "$$ \\eta_{iso} = \\frac{h_2 - h_3}{h_2 - h_{3rev}} = 0,8 $$"
   ]
  },
  {
   "cell_type": "markdown",
   "metadata": {},
   "source": [
    "$$ h_3 = 0,8 \\, ( h_{3rev} - h_2 ) + h_2 $$"
   ]
  },
  {
   "cell_type": "code",
   "execution_count": 67,
   "metadata": {},
   "outputs": [
    {
     "name": "stdout",
     "output_type": "stream",
     "text": [
      "h3 = 2436.81 kJ/kg*K\n"
     ]
    }
   ],
   "source": [
    "h3 = 0.8*(h3rev - h2) + h2\n",
    "print('h3 = %s kJ/kg*K'%round(h3/1000,2))"
   ]
  },
  {
   "cell_type": "code",
   "execution_count": 68,
   "metadata": {},
   "outputs": [
    {
     "name": "stdout",
     "output_type": "stream",
     "text": [
      "x3 = 0.9385\n"
     ]
    }
   ],
   "source": [
    "# Cálculo de x3\n",
    "x3 = cp.PropsSI('Q','P',P3,'H',h3,'Water')\n",
    "print('x3 = %s'%round(x3,4))"
   ]
  },
  {
   "cell_type": "code",
   "execution_count": 69,
   "metadata": {},
   "outputs": [
    {
     "name": "stdout",
     "output_type": "stream",
     "text": [
      "s3 = 7.6878 kJ/kg*K\n"
     ]
    }
   ],
   "source": [
    "s3 = cp.PropsSI('S','P',P3,'H',h3,'Water')\n",
    "print('s3 = %s kJ/kg*K'%round(s3/1000,4))"
   ]
  },
  {
   "cell_type": "code",
   "execution_count": 70,
   "metadata": {},
   "outputs": [
    {
     "name": "stdout",
     "output_type": "stream",
     "text": [
      "eta_ex = 0.739\n"
     ]
    }
   ],
   "source": [
    "T0 = 300 # K\n",
    "W = h1 - h3\n",
    "DEx13 = (h3 - h1) - T0*(s3 - s1)\n",
    "\n",
    "eta_ex = W/abs(DEx13)\n",
    "\n",
    "print('eta_ex = %s'%round(eta_ex,3))"
   ]
  },
  {
   "cell_type": "code",
   "execution_count": 71,
   "metadata": {},
   "outputs": [],
   "source": [
    "%reset -s -f"
   ]
  },
  {
   "cell_type": "code",
   "execution_count": null,
   "metadata": {},
   "outputs": [],
   "source": []
  }
 ],
 "metadata": {
  "kernelspec": {
   "display_name": "Python 3",
   "language": "python",
   "name": "python3"
  },
  "language_info": {
   "codemirror_mode": {
    "name": "ipython",
    "version": 3
   },
   "file_extension": ".py",
   "mimetype": "text/x-python",
   "name": "python",
   "nbconvert_exporter": "python",
   "pygments_lexer": "ipython3",
   "version": "3.7.3"
  }
 },
 "nbformat": 4,
 "nbformat_minor": 2
}
