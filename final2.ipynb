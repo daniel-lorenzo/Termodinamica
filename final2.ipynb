{
 "cells": [
  {
   "cell_type": "markdown",
   "metadata": {},
   "source": [
    "# Modelo de final de termodinámica\n",
    "\n",
    "![final2-0.png](img/final2-0.png)"
   ]
  },
  {
   "cell_type": "markdown",
   "metadata": {},
   "source": [
    "__Deterniar:__\n",
    "\n",
    "__a)__ Cuál debe ser la masa de los cuerpos de la máquina térmica para que cuando se pare haya abastecido a todos los requerimientos, sabiendo que: con el calor almacenado en la fuente 3, en la máquina térmica puede obtenerse un $W_{obt}$ con un $W_{perd}$.           \n",
    "($W_{obt}$ y $W_{perd}$ son datos).\n",
    "\n",
    "__b)__ $W_{perd}$ de toda la instalación\n",
    "\n",
    "__c)__ $\\eta_{ex}$ de la instalación (rendimiento excergético)"
   ]
  },
  {
   "cell_type": "markdown",
   "metadata": {},
   "source": [
    "## Solución"
   ]
  },
  {
   "cell_type": "markdown",
   "metadata": {},
   "source": [
    "### Máquina frigorífica\n",
    "Nos dicen que el trabajo a entregar a la máquina frigorífica es el mínimo, por lo tanto, nos están diciendo que la máquina frigorífica es reversible.\n",
    "Si la máquina frigorífica es reversible, la variación de entropía del universo de la máquina frigorífica es igual a cero $( \\Delta S_{UMF} = 0 )$\n",
    "\n",
    "![final2-1.png](img/final2-1.png)"
   ]
  },
  {
   "cell_type": "markdown",
   "metadata": {},
   "source": [
    "__Datos disponibles:__ $T_7, \\, T_{6i}, \\, T_{6f}, \\, Q_7, \\, c_6, \\, \\Delta S_{UMF}$ "
   ]
  },
  {
   "cell_type": "markdown",
   "metadata": {},
   "source": [
    "$\\begin{array}{lll|l}\n",
    " & \\mathrm{Ecuaciones:} & & \\mathrm{Inc \\acute{o} gnitas:} \\\\\n",
    " \\hline\n",
    "1) & W_{MF} = Q_6 + Q_7 & & W_{MF}, Q_6 \\\\\n",
    "2) & Q_6 = m_6 c_6 (T_{6f} - T_{6i}) & & m_6 \\\\\n",
    "3) & \\Delta S_6 = m_6 c_6 \\ln (T_{6f} / T_{6i}) & (-) & \\Delta S_6 \\\\\n",
    "4) & \\Delta S_{UMF} = \\Delta S_6 + \\Delta S_7 = 0 & & \\Delta S_7 \\\\\n",
    "5) & \\Delta S_7 = Q_7 / T_7 & (+)\n",
    "\\end{array}$\n",
    "\n",
    "__5 ecuaciones - 5 incógnitas $\\rightarrow$ tiene solución__"
   ]
  },
  {
   "cell_type": "markdown",
   "metadata": {},
   "source": [
    "Para responder a los ítems b y c necesitamos las variaciones de entropía (que ya fueron calculadas en las ecuaciones 3 y 5) y los calores utilizables.\n",
    "\n",
    "$\\begin{array}{l|l}\n",
    "Q_{U6} = Q_6 - T_0 \\Delta S_6 \\\\\n",
    "\\displaystyle Q_{U7} = Q_7 - T_0 \\Delta S_7 = Q_7 - T_0 \\frac{Q_7}{T_7} = 0 & \\therefore \\; (T_0 = T_7 = 20^\\circ \\mathrm{C})\n",
    "\\end{array}$"
   ]
  },
  {
   "cell_type": "markdown",
   "metadata": {},
   "source": [
    "### Análisis de $Q_{U6}$\n",
    "\n",
    "![final2-2.png](img/final2-2.png)\n",
    "\n",
    "El cuerpo 6 se está enfriando y su temperatura se aleja cada vez más de la temperatura ambiente, por tando se está incrementando su capacidad de hacer trabajo, con lo cual\n",
    "$$ Q_{U6} \\rightarrow \\mathrm{producido} $$"
   ]
  },
  {
   "cell_type": "markdown",
   "metadata": {},
   "source": [
    "Para los ítems b y c me llevo\n",
    "\n",
    "$\\begin{array}{|ll|}\n",
    "\\hline\n",
    "\\Delta S_6 \\; (-) & Q_{U6} \\rightarrow \\mathrm{(P)} \\\\\n",
    "\\Delta S_7 \\; (+) \\\\\n",
    "\\hline\n",
    "\\end{array}$"
   ]
  },
  {
   "cell_type": "markdown",
   "metadata": {},
   "source": [
    "-----------\n",
    "### Compresor adiabático\n",
    "![final2-3.png](img/final2-3.png)"
   ]
  },
  {
   "cell_type": "markdown",
   "metadata": {},
   "source": [
    "__Datos disponibles:__ $P_4, T_4, P_5, cp, R, W_c, W_{perd}$"
   ]
  },
  {
   "cell_type": "markdown",
   "metadata": {},
   "source": [
    "Para poder responder a los ítems b y c necesitamos la variación de entropía y de exergía del aire.\n",
    "\n",
    "$\\begin{array}{lll|l}\n",
    " & \\mathrm{Ecuaciones:} & & \\mathrm{Inc \\acute{o} gnitas:} \\\\\n",
    " \\hline\n",
    "1) & \\Delta S_{UC} = \\Delta S_{45} \\; (+) & \\mathrm{(por \\; adiab \\acute{a} tico)} & \\Delta S_{45}, \\; \\Delta S_{UC} \\\\\n",
    "2) & W_{perd} = T_0 \\Delta S_{UC} \\\\\n",
    "3) & \\Delta Ex_{45} = \\Delta H_{45} - T_0 \\Delta S_{45} & \\mathrm{(producida)} & \\Delta Ex_{45}, \\; \\Delta H_{45} \\\\\n",
    "4) & W_c = - \\Delta H_{45}\n",
    "\\end{array}$\n",
    "\n",
    "__4 ecuaciones - 4 incógnitas $\\rightarrow$ tiene solución__"
   ]
  },
  {
   "cell_type": "markdown",
   "metadata": {},
   "source": [
    "Para los ítems b y c me llevo\n",
    "\n",
    "$\\begin{array}{|l|}\n",
    "\\hline\n",
    "\\Delta S_{45} \\quad (+) \\\\\n",
    "\\Delta Ex_{45} \\rightarrow \\mathrm{(P)} \\\\\n",
    "\\hline\n",
    "\\end{array}\n",
    "$"
   ]
  },
  {
   "cell_type": "markdown",
   "metadata": {},
   "source": [
    "---------------\n",
    "### Máquina térmica\n",
    "Funciona hasta pararse\n",
    "\n",
    "![final2-4.png](img/final2-4.png)"
   ]
  },
  {
   "cell_type": "markdown",
   "metadata": {},
   "source": [
    "__Datos disponibles: $T_{1i}, \\, T_{2i}, \\, c_1, \\, c_2, \\, m_1 = m_2, \\, W_{MT}, \\Delta Ex_{MT}$__"
   ]
  },
  {
   "cell_type": "markdown",
   "metadata": {},
   "source": [
    "$\\begin{array}{lll|l}\n",
    " & \\mathrm{Ecuaciones} & & \\mathrm{Inc \\acute{o} gnitas} \\\\\n",
    " \\hline\n",
    "1) & Q_1 = m c_1 (T_f - T_{1i}) & & Q_1, m, T_f \\\\\n",
    "2) & W_{MT} = Q_1 + Q_2 & & Q_2 \\\\\n",
    "3) & \\Delta S_1 = m c_1 \\ln (T_f/T_{1i}) & (-) & \\Delta S_1 \\\\\n",
    "4) & Q_2 = m c_2 (T_f - T_{2i}) \\\\\n",
    "5) & \\Delta S_{UMT} = \\Delta S_1 + \\Delta S_2 & & \\Delta S_{UMT}, \\Delta S_2 \\\\\n",
    "6) & \\Delta Ex_{MT} = - T_0 \\Delta S_{UMT} \\\\\n",
    "7) & \\Delta S_2 = m c_2 \\ln (T_f/T_{2i}) & (+)\n",
    "\\end{array}\n",
    "$\n",
    "\n",
    "__7 ecuaciones - 7 icongnitas $\\rightarrow$ tiene solución__"
   ]
  },
  {
   "cell_type": "markdown",
   "metadata": {},
   "source": [
    "------------\n",
    "### Calor entregado a la fuente 3\n",
    "Nos dicen que con el calor almacenado en la fuente 3 en una máquina térmica puede obtenerse un $W_{obt}$ y se genera un $W_{perd}$.\n",
    "\n",
    "![final2-5.png](img/final2-5.png)\n",
    "\n",
    "__Dstos disponibles:__ $T_3, T_0, W_{perd}, W_{obt}, T_3 > T_0$"
   ]
  },
  {
   "cell_type": "markdown",
   "metadata": {},
   "source": [
    "$\\begin{array}{ll|l}\n",
    " & \\mathrm{Ecuaciones} & \\mathrm{Inc \\acute{o} gnitas } \\\\\n",
    " \\hline\n",
    "1) &  W_{obt} = Q_3 + Q_0 & Q_3, Q_0 \\\\\n",
    "2) & \\Delta S_0 = Q_0 / T_0 & \\Delta S_0 \\\\\n",
    "3) & \\Delta S_{UMT} = \\Delta S_3 + \\Delta S_0 & \\Delta S_3, \\Delta S_{UMT} \\\\\n",
    "4) & \\Delta S_3 = Q_3 / T_3 \\\\\n",
    "5) & W_{perd} = T_0 \\Delta S_{UMT}\n",
    "\\end{array}$\n",
    "\n",
    "__5 ecuaciones - 5 incógnitas $\\rightarrow$ tiene solución__"
   ]
  },
  {
   "cell_type": "markdown",
   "metadata": {},
   "source": [
    "Para los ítems b y c necesitamos el calor utilizable de $Q_3$ y la variación de entropía de la fuente 3.\n",
    "\n",
    "![final2-6.png](img/final2-6.png)\n",
    "\n",
    "$\\begin{array}{ll}\n",
    "\\Delta S_3 & (+) \\; \\mbox{(Le estoy entregando calor)} \\\\\n",
    "Q_{U3} = Q_3 - T_0 \\Delta S_3 & \\rightarrow \\mbox{producido}\n",
    "\\end{array}$"
   ]
  },
  {
   "cell_type": "markdown",
   "metadata": {},
   "source": [
    "$\\Rightarrow$ me llevo los ítems b y c\n",
    "\n",
    "$\\begin{array}{|lll|}\n",
    "\\hline\n",
    "\\Delta S_3 & & (+) \\\\\n",
    "Q_{U3} & \\rightarrow & \\mathrm{(P)} \\\\\n",
    "\\hline\n",
    "\\end{array}$"
   ]
  },
  {
   "cell_type": "markdown",
   "metadata": {},
   "source": [
    "------------\n",
    "### Calores - trabajos\n",
    "$\\begin{array}{l|ll}\n",
    "W_{MF} = \\% 1 W_{MT} & \\Rightarrow & W_{MT} \\\\\n",
    "W_{MT} = Q_3 + W_{disp} + \\%1 W_{MT} + \\%2 W_{MT} & \\Rightarrow & W_{disp} \\\\\n",
    "W_{comp} = \\%2 \\, W_{MT} & \\Rightarrow & W_{comp}\n",
    "\\end{array}$\n",
    "\n",
    "Para el ítem c, $W_{disp}$ es exergía producida."
   ]
  },
  {
   "cell_type": "markdown",
   "metadata": {},
   "source": [
    "Por último, para los ítems b y c necesitamos las variaciones de entropía (que ya fueron calculadas en las ecuaciones 3 y 7) y los calores utilizados.\n",
    "\n",
    "$\\begin{array}{l}\n",
    "Q_{U1} = Q_1 - T_0 \\Delta S_1 \\\\\n",
    "Q_{U2} = Q_2 - T_0 \\Delta S_2\n",
    "\\end{array}$"
   ]
  },
  {
   "cell_type": "markdown",
   "metadata": {},
   "source": [
    "-------------\n",
    "### Análisis de calores utilizables\n",
    "\n",
    "__Cuerpo 1:__\n",
    "\n",
    "![final2-7.png](img/final2-7.png)\n",
    "\n",
    "$\\begin{array}{llll}\n",
    "\\mathrm{Si} & T_f < -20 ^\\circ \\mathrm{C} & \\Rightarrow & Q_{U1} \\rightarrow \\mathrm{producido} \\\\\n",
    "\\mathrm{Si} & T_f > -20 ^\\circ \\mathrm{C} & \\Rightarrow & Q_{U1} \\rightarrow \\mathrm{consumido}\n",
    "\\end{array}\n",
    "$"
   ]
  },
  {
   "cell_type": "markdown",
   "metadata": {},
   "source": [
    "$\\begin{array}{l}\n",
    "\\mbox{Como } 10^\\circ \\mathrm{C} < T_f < 60^\\circ \\mathrm{C} \\\\\n",
    "\\Rightarrow Q_{U1} \\rightarrow \\mbox{consumindo si o si}\n",
    "\\end{array}$"
   ]
  },
  {
   "cell_type": "markdown",
   "metadata": {},
   "source": [
    "__Cuerpo 2:__\n",
    "\n",
    "![final2-8.png](img/final2-8.png)\n",
    "\n",
    "$\\begin{array}{llll}\n",
    "\\mathrm{Si} & T_f > 30 ^\\circ \\mathrm{C} & \\Rightarrow & Q_{U2} \\rightarrow \\mathrm{producido} \\\\\n",
    "\\mathrm{Si} & T_f < 30 ^\\circ \\mathrm{C} & \\Rightarrow & Q_{U2} \\rightarrow \\mathrm{consumido}\n",
    "\\end{array}\n",
    "$"
   ]
  },
  {
   "cell_type": "markdown",
   "metadata": {},
   "source": [
    "$\\Rightarrow Q_{U2} \\rightarrow \\mbox{producido o consumido}$"
   ]
  },
  {
   "cell_type": "markdown",
   "metadata": {},
   "source": [
    "Me llevo para los ítems b y c\n",
    "\n",
    "$\\begin{array}{|ll|ll|}\n",
    "\\hline\n",
    "\\Delta S_1 & (-) & Q_{U1} & (C) \\\\\n",
    "\\hline\n",
    "\\Delta S_2 & (+) & Q_{U2} & (C) \\\\\n",
    " & & & (P) \\\\\n",
    " \\hline\n",
    "\\end{array}\n",
    "$"
   ]
  },
  {
   "cell_type": "markdown",
   "metadata": {},
   "source": [
    "----------\n",
    "### b) Trabajo perdido de la instalación\n",
    "$$ W_{perd} = T_0 \\Delta S_u $$\n",
    "\n",
    "$$ \\Delta S_u = \\underbrace{ \\overbrace{ \\Delta S_6 }^{(-)} + \\overbrace{ \\Delta S_7 }^{(+)} }_{= \\, 0} + \\overbrace{ \\Delta S_3 }^{(+)} + \\overbrace{ \\Delta S_{45} }^{(+)} + \\overbrace{ \\Delta S_1 }^{(-)} + \\overbrace{ \\Delta S_2 }^{(+)} > 0 $$"
   ]
  },
  {
   "cell_type": "markdown",
   "metadata": {},
   "source": [
    "--------------\n",
    "### c) Rendimiento exergético de la instalación\n",
    "$$ \\eta_{ex} = \\frac{ \\mathrm{Ex. \\; producidas} }{ \\mathrm{Ex. \\; consumidas} } $$\n",
    "\n",
    "$$ \\eta_{ex} = \\frac{Q_{U6} + Q_{U3} + \\Delta Ex_{45} + \\overbrace{ Q_{U2} }^{(P)} + W_{disp} }{ Q_{U1} + \\underbrace{ Q_{U2} }_{(C)} } $$"
   ]
  }
 ],
 "metadata": {
  "kernelspec": {
   "display_name": "Python 3",
   "language": "python",
   "name": "python3"
  },
  "language_info": {
   "codemirror_mode": {
    "name": "ipython",
    "version": 3
   },
   "file_extension": ".py",
   "mimetype": "text/x-python",
   "name": "python",
   "nbconvert_exporter": "python",
   "pygments_lexer": "ipython3",
   "version": "3.7.3"
  }
 },
 "nbformat": 4,
 "nbformat_minor": 2
}
