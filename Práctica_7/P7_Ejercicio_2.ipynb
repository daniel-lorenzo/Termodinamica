{
  "nbformat": 4,
  "nbformat_minor": 0,
  "metadata": {
    "colab": {
      "provenance": [],
      "authorship_tag": "ABX9TyM1D3A5LclNV+bgBb4q9Nnj",
      "include_colab_link": true
    },
    "kernelspec": {
      "name": "python3",
      "display_name": "Python 3"
    },
    "language_info": {
      "name": "python"
    }
  },
  "cells": [
    {
      "cell_type": "markdown",
      "metadata": {
        "id": "view-in-github",
        "colab_type": "text"
      },
      "source": [
        "<a href=\"https://colab.research.google.com/github/daniel-lorenzo/Termodinamica/blob/master/Pr%C3%A1ctica_7/P7_Ejercicio_2.ipynb\" target=\"_parent\"><img src=\"https://colab.research.google.com/assets/colab-badge.svg\" alt=\"Open In Colab\"/></a>"
      ]
    },
    {
      "cell_type": "markdown",
      "source": [
        "# Ejercicio 2\n",
        "Las máquinas frigoríficas indicadas funcionan entre 2 fuentes a 300 K y 250 K, para los distintos casos de $Q_1$ y $Q_2$. Determinar:\n",
        "\n",
        "a) Variación de $S_{univ}; \\;(\\Delta S_u)$    \n",
        "b) $W$ de la máquina frigorífica    \n",
        "c) ¿Es reversible?    \n",
        "d) ¿Es posible?    \n",
        "e) Eficiencia $Ef_t$ y eficiencia reversible $Ef_R$    "
      ],
      "metadata": {
        "id": "kslXf6JY6Dfc"
      }
    },
    {
      "cell_type": "markdown",
      "source": [
        "## Caso 1\n",
        "![image.png](data:image/png;base64,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)"
      ],
      "metadata": {
        "id": "QLpCTrPa7L6N"
      }
    },
    {
      "cell_type": "markdown",
      "source": [
        "## Solución"
      ],
      "metadata": {
        "id": "gm2RrtPO7Ond"
      }
    },
    {
      "cell_type": "code",
      "execution_count": null,
      "metadata": {
        "id": "5JUtRwLhdkba"
      },
      "outputs": [],
      "source": [
        "# Datos:\n",
        "T_1 =  300 # [K]\n",
        "T_2 =  250 # [K]\n",
        "Q_1 = 4000 # [kJ]\n",
        "Q_2 = 2500 # [kJ]"
      ]
    },
    {
      "cell_type": "markdown",
      "source": [
        "## Caso 1"
      ],
      "metadata": {
        "id": "jAx-3g7XEqC-"
      }
    },
    {
      "cell_type": "markdown",
      "source": [
        "### a) $\\Delta S_u$"
      ],
      "metadata": {
        "id": "vAtiBce07Ysf"
      }
    },
    {
      "cell_type": "markdown",
      "source": [
        "$\\Delta S_{MT} = 0$\n",
        "$$\\Delta S_u = \\frac{Q_1}{T_1} + \\Delta S_{MT} + \\frac{Q_2}{T_2}$$"
      ],
      "metadata": {
        "id": "IGRCLPZ57dfJ"
      }
    },
    {
      "cell_type": "code",
      "source": [
        "ΔSu = Q_1/T_1 - Q_2/T_2"
      ],
      "metadata": {
        "id": "L2rU-vNO8Ec2"
      },
      "execution_count": null,
      "outputs": []
    },
    {
      "cell_type": "code",
      "source": [
        "#@title Resultado\n",
        "print(\"ΔSu = %.3f [kJ/K]\"%ΔSu)"
      ],
      "metadata": {
        "colab": {
          "base_uri": "https://localhost:8080/"
        },
        "cellView": "form",
        "id": "HTCjIN9Y8d-3",
        "outputId": "96f76799-5865-4169-dc4b-875c74c66b9d"
      },
      "execution_count": null,
      "outputs": [
        {
          "output_type": "stream",
          "name": "stdout",
          "text": [
            "ΔSu = 3.333 [kJ/K]\n"
          ]
        }
      ]
    },
    {
      "cell_type": "markdown",
      "source": [
        "---\n",
        "### b) $W$ de la máquina frigorífica"
      ],
      "metadata": {
        "id": "GG8txbqg8vRV"
      }
    },
    {
      "cell_type": "markdown",
      "source": [
        "$$W = |Q_1| - |Q_2|$$"
      ],
      "metadata": {
        "id": "F_RiVME-9Hps"
      }
    },
    {
      "cell_type": "code",
      "source": [
        "W = Q_1 - Q_2"
      ],
      "metadata": {
        "id": "B2SmXYrq8l5t"
      },
      "execution_count": null,
      "outputs": []
    },
    {
      "cell_type": "code",
      "source": [
        "#@title Resultado\n",
        "print(\"W = %.0f [kJ]\"%W)"
      ],
      "metadata": {
        "colab": {
          "base_uri": "https://localhost:8080/"
        },
        "cellView": "form",
        "id": "4iC5GWBN9oXN",
        "outputId": "5473ca0e-11b4-4726-9a13-408b46a8055f"
      },
      "execution_count": null,
      "outputs": [
        {
          "output_type": "stream",
          "name": "stdout",
          "text": [
            "W = 1500 [kJ]\n"
          ]
        }
      ]
    },
    {
      "cell_type": "markdown",
      "source": [
        "---\n",
        "### c)"
      ],
      "metadata": {
        "id": "H60LZBZqF5k5"
      }
    },
    {
      "cell_type": "markdown",
      "source": [
        "En una máquina térmica:\n",
        "$$\\eta = \\mathrm{\\frac{Prod}{Cons}} = \\frac{W}{Q_1}<1$$"
      ],
      "metadata": {
        "id": "sg3D46KgF__J"
      }
    },
    {
      "cell_type": "markdown",
      "source": [
        "En una máquina frigorífica:\n",
        "$$Ef = \\mathrm{\\frac{Prod}{Cons}} = \\frac{Q_2}{W}>1$$"
      ],
      "metadata": {
        "id": "EkkBn-L4GPTd"
      }
    },
    {
      "cell_type": "markdown",
      "source": [
        "$$Ef_R = \\frac{T_2}{T_1 - T_2}$$"
      ],
      "metadata": {
        "id": "CexkKF9TGmdr"
      }
    },
    {
      "cell_type": "markdown",
      "source": [
        "$$Ef_t = \\frac{Q_2}{|Q_1| - |Q_2|}$$"
      ],
      "metadata": {
        "id": "DleKw-XAGsrr"
      }
    },
    {
      "cell_type": "code",
      "source": [
        "Ef = T_2/(T_1 - T_2)\n",
        "Ef_t = Q_2/(Q_1 - Q_2)"
      ],
      "metadata": {
        "id": "U4FO5s2n9u5q"
      },
      "execution_count": null,
      "outputs": []
    },
    {
      "cell_type": "code",
      "source": [
        "#@title Resultados:\n",
        "print(\"Ef = %.2f\"%Ef)\n",
        "print(\"Ef_t = %.3f\"%Ef_t)"
      ],
      "metadata": {
        "colab": {
          "base_uri": "https://localhost:8080/"
        },
        "cellView": "form",
        "id": "FL21rgg5HB48",
        "outputId": "f626cc5c-945d-488f-be07-6b7e8bbbff6a"
      },
      "execution_count": null,
      "outputs": [
        {
          "output_type": "stream",
          "name": "stdout",
          "text": [
            "Ef = 5.00\n",
            "Ef_t = 1.667\n"
          ]
        }
      ]
    },
    {
      "cell_type": "markdown",
      "source": [
        "Como $Ef_{rev} \\neq Ef_t \\quad \\Rightarrow$ No es reversible."
      ],
      "metadata": {
        "id": "UzrigAZIHWdZ"
      }
    },
    {
      "cell_type": "markdown",
      "source": [
        "---\n",
        "### d)"
      ],
      "metadata": {
        "id": "5OIbreUgH1mT"
      }
    },
    {
      "cell_type": "markdown",
      "source": [
        "Si es posible."
      ],
      "metadata": {
        "id": "EmhEndwNH5HU"
      }
    },
    {
      "cell_type": "markdown",
      "source": [
        "---\n",
        "### e)"
      ],
      "metadata": {
        "id": "OmbqFi8lH7BB"
      }
    },
    {
      "cell_type": "markdown",
      "source": [
        "$$Ef_t = 1,667 < Ef_{Rev} = 5$$"
      ],
      "metadata": {
        "id": "BkwT6cY_H9hC"
      }
    },
    {
      "cell_type": "markdown",
      "source": [
        "---\n",
        "## Caso 2"
      ],
      "metadata": {
        "id": "LXol7cKbEs5-"
      }
    },
    {
      "cell_type": "markdown",
      "source": [
        "![image.png](data:image/png;base64,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)"
      ],
      "metadata": {
        "id": "36KWkRsNE-aJ"
      }
    },
    {
      "cell_type": "code",
      "source": [
        "# Datos:\n",
        "T_1 =  300 # [K]\n",
        "T_2 =  250 # [K]\n",
        "Q_1 = 4700 # [kJ]\n",
        "Q_2 = 4000 # [kJ]"
      ],
      "metadata": {
        "id": "uRYsit-oFV_2"
      },
      "execution_count": null,
      "outputs": []
    },
    {
      "cell_type": "markdown",
      "source": [
        "### a) $\\Delta S_u$"
      ],
      "metadata": {
        "id": "aBJiR9OnExqc"
      }
    },
    {
      "cell_type": "markdown",
      "source": [
        "$$\\Delta S_u = \\frac{Q_1}{T_1} + \\Delta S_{MT} + \\frac{Q_2}{T_2}$$"
      ],
      "metadata": {
        "id": "OMcM5Yq1FCo3"
      }
    },
    {
      "cell_type": "code",
      "source": [
        "ΔS_u = Q_1/T_1 - Q_2/T_2"
      ],
      "metadata": {
        "id": "q7Qyj8O4HPhK"
      },
      "execution_count": null,
      "outputs": []
    },
    {
      "cell_type": "code",
      "source": [
        "#@title Resultado:\n",
        "print(\"ΔS_u = %.3f [kJ/K]\"%ΔS_u)"
      ],
      "metadata": {
        "colab": {
          "base_uri": "https://localhost:8080/"
        },
        "cellView": "form",
        "id": "0Gq42N3HF69q",
        "outputId": "fc0e0e47-85c0-4427-c91b-6d5d54335fbd"
      },
      "execution_count": null,
      "outputs": [
        {
          "output_type": "stream",
          "name": "stdout",
          "text": [
            "ΔS_u = -0.333 [kJ/K]\n"
          ]
        }
      ]
    },
    {
      "cell_type": "markdown",
      "source": [
        "---\n",
        "### b) $W$"
      ],
      "metadata": {
        "id": "24xCnwcrGKcy"
      }
    },
    {
      "cell_type": "markdown",
      "source": [
        "$$W = Q_1 + Q_2$$"
      ],
      "metadata": {
        "id": "9xsSTH8OGReH"
      }
    },
    {
      "cell_type": "code",
      "source": [
        "W = -Q_1 + Q_2"
      ],
      "metadata": {
        "id": "zeH2Yec0GAaT"
      },
      "execution_count": null,
      "outputs": []
    },
    {
      "cell_type": "code",
      "source": [
        "#@title Resultado:\n",
        "print(\"W = %.0f [kJ]\"%W)"
      ],
      "metadata": {
        "colab": {
          "base_uri": "https://localhost:8080/"
        },
        "cellView": "form",
        "id": "H5zwzGOcG8Bu",
        "outputId": "f42c2784-10dd-4f53-9f5b-42124c0c42b3"
      },
      "execution_count": null,
      "outputs": [
        {
          "output_type": "stream",
          "name": "stdout",
          "text": [
            "W = -700 [kJ]\n"
          ]
        }
      ]
    },
    {
      "cell_type": "markdown",
      "source": [
        "---\n",
        "### c) ¿Es reversible?"
      ],
      "metadata": {
        "id": "VPekXLmBHH2S"
      }
    },
    {
      "cell_type": "markdown",
      "source": [
        "$$Ef_{Rev} = \\frac{T_2}{T_1 - T_2}$$"
      ],
      "metadata": {
        "id": "V5MoP2VUHOsl"
      }
    },
    {
      "cell_type": "markdown",
      "source": [
        "$$Ef_t = \\frac{Q_2}{|Q_1| - |Q_2|}$$"
      ],
      "metadata": {
        "id": "ssp3zJRCHXdm"
      }
    },
    {
      "cell_type": "code",
      "source": [
        "Ef_rev = T_2/(T_1 - T_2)\n",
        "Ef_t = Q_2/( Q_1 - Q_2 )"
      ],
      "metadata": {
        "id": "nY2trM9sHCcq"
      },
      "execution_count": null,
      "outputs": []
    },
    {
      "cell_type": "code",
      "source": [
        "#@title Resultados:\n",
        "print(\"Ef_rev = %.2f\"%Ef_rev)\n",
        "print(\"Ef_t = %.3f\"%Ef_t)"
      ],
      "metadata": {
        "colab": {
          "base_uri": "https://localhost:8080/"
        },
        "cellView": "form",
        "id": "aGdizWulHwKf",
        "outputId": "b33dbf91-9c8a-4b21-f0ce-a0f0df7e6e37"
      },
      "execution_count": null,
      "outputs": [
        {
          "output_type": "stream",
          "name": "stdout",
          "text": [
            "Ef_rev = 5.00\n",
            "Ef_t = 5.714\n"
          ]
        }
      ]
    },
    {
      "cell_type": "markdown",
      "source": [
        "Como $Ef_t \\neq Ef_{Rev} \\quad \\Rightarrow$ NO es reversible."
      ],
      "metadata": {
        "id": "oAUUoVrKIDmR"
      }
    },
    {
      "cell_type": "markdown",
      "source": [
        "---\n",
        "### d) ¿Es posible?"
      ],
      "metadata": {
        "id": "UqqSUAN4IMq4"
      }
    },
    {
      "cell_type": "markdown",
      "source": [
        "NO es posible."
      ],
      "metadata": {
        "id": "kXKlgtbHIUX7"
      }
    },
    {
      "cell_type": "markdown",
      "source": [
        "---\n",
        "### e)"
      ],
      "metadata": {
        "id": "V8etSYrQIWUf"
      }
    },
    {
      "cell_type": "markdown",
      "source": [
        "$$Ef_t = 5,714 > Ef_{Rev} = 5$$"
      ],
      "metadata": {
        "id": "hvNBHpKhIau4"
      }
    },
    {
      "cell_type": "markdown",
      "source": [
        "---\n",
        "## Caso 3"
      ],
      "metadata": {
        "id": "3I2H8VECI1Mm"
      }
    },
    {
      "cell_type": "markdown",
      "source": [
        "![image.png](data:image/png;base64,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)"
      ],
      "metadata": {
        "id": "p2Ypq17gJQMv"
      }
    },
    {
      "cell_type": "code",
      "source": [
        "# Datos:\n",
        "T_1 =  300 # [k]\n",
        "T_2 =  250 # [K]\n",
        "Q_1 = 2400 # [kJ]\n",
        "Q_2 = 2000 # [kJ]"
      ],
      "metadata": {
        "id": "uyCNx_U3JpEO"
      },
      "execution_count": null,
      "outputs": []
    },
    {
      "cell_type": "markdown",
      "source": [
        "### a) $\\Delta S_u$"
      ],
      "metadata": {
        "id": "hYKWFbkhJR30"
      }
    },
    {
      "cell_type": "markdown",
      "source": [
        "$$\\Delta S_u = \\frac{Q_1}{T_1} + \\Delta S_{MT} + \\frac{Q_2}{T_2}$$\n",
        "$\\Delta S_{MT} = 0$"
      ],
      "metadata": {
        "id": "gZ7DOWcXJVnX"
      }
    },
    {
      "cell_type": "code",
      "source": [
        "ΔS_u = Q_1/T_1 + (-Q_2)/T_2"
      ],
      "metadata": {
        "id": "m4iRsHsbI2vC"
      },
      "execution_count": null,
      "outputs": []
    },
    {
      "cell_type": "code",
      "source": [
        "#@title Resultado:\n",
        "print(\"ΔS_u = %.2f [kJ]\"%ΔS_u)"
      ],
      "metadata": {
        "colab": {
          "base_uri": "https://localhost:8080/"
        },
        "cellView": "form",
        "id": "RvSWH5fLKHbb",
        "outputId": "6aae70f7-2b45-46fd-d162-02500dd15c6c"
      },
      "execution_count": null,
      "outputs": [
        {
          "output_type": "stream",
          "name": "stdout",
          "text": [
            "ΔS_u = 0.00 [kJ]\n"
          ]
        }
      ]
    },
    {
      "cell_type": "markdown",
      "source": [
        "---\n",
        "### b) $W$"
      ],
      "metadata": {
        "id": "SzSH8wBaKb4c"
      }
    },
    {
      "cell_type": "markdown",
      "source": [
        "$$W = Q_1 + Q_2$$"
      ],
      "metadata": {
        "id": "LpJcd-l3Kfy5"
      }
    },
    {
      "cell_type": "code",
      "source": [
        "W = (-Q_1) + Q_2"
      ],
      "metadata": {
        "id": "5ilWNiEsKOxx"
      },
      "execution_count": null,
      "outputs": []
    },
    {
      "cell_type": "code",
      "source": [
        "#@title Resultado:\n",
        "print(\"W = %.0f [kJ]\"%W)"
      ],
      "metadata": {
        "colab": {
          "base_uri": "https://localhost:8080/"
        },
        "cellView": "form",
        "id": "MqhtnhnVK4-V",
        "outputId": "5603ab78-077e-4f48-ed91-4303e14930f9"
      },
      "execution_count": null,
      "outputs": [
        {
          "output_type": "stream",
          "name": "stdout",
          "text": [
            "W = -400 [kJ]\n"
          ]
        }
      ]
    },
    {
      "cell_type": "markdown",
      "source": [
        "---\n",
        "### c) ¿Es reversible?"
      ],
      "metadata": {
        "id": "4bTR4x8ULDJO"
      }
    },
    {
      "cell_type": "markdown",
      "source": [
        "$$Ef_{Rev} = \\frac{T_2}{T_1 - T_2}$$"
      ],
      "metadata": {
        "id": "JN4p8cKWLKW7"
      }
    },
    {
      "cell_type": "markdown",
      "source": [
        "$$Ef_t = \\frac{Q_2}{|Q_1| - |Q_2|}$$"
      ],
      "metadata": {
        "id": "Vm-aO_dmLP3N"
      }
    },
    {
      "cell_type": "code",
      "source": [
        "Ef_rev = T_2/(T_1 - T_2)\n",
        "Ef_t = Q_2/(Q_1 - Q_2)"
      ],
      "metadata": {
        "id": "k0JlyaR0K-kJ"
      },
      "execution_count": null,
      "outputs": []
    },
    {
      "cell_type": "code",
      "source": [
        "#@title Resultados:\n",
        "print(\"Ef_rev = %.2f\"%Ef_rev)\n",
        "print(\"Ef_t = %.3f\"%Ef_t)"
      ],
      "metadata": {
        "cellView": "form",
        "colab": {
          "base_uri": "https://localhost:8080/"
        },
        "id": "jO71ZMc5Lgaq",
        "outputId": "2b3a0fab-faba-4196-b434-d26013cf100a"
      },
      "execution_count": null,
      "outputs": [
        {
          "output_type": "stream",
          "name": "stdout",
          "text": [
            "Ef_rev = 5.00\n",
            "Ef_t = 5.000\n"
          ]
        }
      ]
    },
    {
      "cell_type": "markdown",
      "source": [
        "Como $Ef_t = Ef_{Rev} \\quad \\Rightarrow$ Sí, es reversible."
      ],
      "metadata": {
        "id": "0e42gIA6Lo77"
      }
    },
    {
      "cell_type": "markdown",
      "source": [
        "---\n",
        "### d) ¿Es posible?"
      ],
      "metadata": {
        "id": "MiuU6Ez8L12V"
      }
    },
    {
      "cell_type": "markdown",
      "source": [
        "Teóricamente es posible (de forma ideal)."
      ],
      "metadata": {
        "id": "p5mKE6Y_L5QV"
      }
    },
    {
      "cell_type": "markdown",
      "source": [
        "---\n",
        "### e)"
      ],
      "metadata": {
        "id": "SKR4VKXoMC_e"
      }
    },
    {
      "cell_type": "markdown",
      "source": [
        "$$Ef_t = 5 = Ef_{Rev}$$"
      ],
      "metadata": {
        "id": "7SV3vVNOMIk2"
      }
    }
  ]
}