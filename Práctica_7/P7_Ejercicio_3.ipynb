{
  "nbformat": 4,
  "nbformat_minor": 0,
  "metadata": {
    "colab": {
      "provenance": [],
      "authorship_tag": "ABX9TyPeb7iEb75sXkiXdixs8vvO",
      "include_colab_link": true
    },
    "kernelspec": {
      "name": "python3",
      "display_name": "Python 3"
    },
    "language_info": {
      "name": "python"
    }
  },
  "cells": [
    {
      "cell_type": "markdown",
      "metadata": {
        "id": "view-in-github",
        "colab_type": "text"
      },
      "source": [
        "<a href=\"https://colab.research.google.com/github/daniel-lorenzo/Termodinamica/blob/master/Pr%C3%A1ctica_7/P7_Ejercicio_3.ipynb\" target=\"_parent\"><img src=\"https://colab.research.google.com/assets/colab-badge.svg\" alt=\"Open In Colab\"/></a>"
      ]
    },
    {
      "cell_type": "markdown",
      "source": [
        "# Ejercicio 3\n",
        "Una máquina térmica funciona entre 2 fuentes\n",
        "\n",
        "![image.png](data:image/png;base64,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)\n",
        "\n",
        "$P_0 = 1 \\; \\mathrm{bar} \\quad T_0 = 300 \\; \\mathrm{K}$"
      ],
      "metadata": {
        "id": "JXgMnoU5Mxea"
      }
    },
    {
      "cell_type": "markdown",
      "source": [
        "__Determinar:__\n",
        "\n",
        "a) $W$ de la máquina térmica y $Q_2$   \n",
        "b) $\\Delta S_1, \\; \\Delta S_2$ y $\\Delta S_u$    \n",
        "c) $Q_{u1}$ y $Q_{u2}$    \n",
        "\n",
        "En los siguientes casos:\n",
        "1. Máqina reversible\n",
        "2. Máquina con $\\eta_t = 0,45$\n",
        "3. $\\Delta S_u = 0,02$"
      ],
      "metadata": {
        "id": "bK5rl5JZNMbR"
      }
    },
    {
      "cell_type": "code",
      "source": [
        "# Datos:\n",
        "T_1 = 800 # [K]\n",
        "T_2 = 352 # [K]\n",
        "Q_1 =  42 # [kJ]\n",
        "T_0 = 300 # [K]"
      ],
      "metadata": {
        "id": "YrrOn7DqP90v"
      },
      "execution_count": 1,
      "outputs": []
    },
    {
      "cell_type": "markdown",
      "source": [
        "## Solución"
      ],
      "metadata": {
        "id": "x_W-T6S7N80P"
      }
    },
    {
      "cell_type": "markdown",
      "source": [
        "### 1) En el caso del máquina térmica reversible $(\\Delta S_u = 0)$"
      ],
      "metadata": {
        "id": "BIIcKiD0OPE8"
      }
    },
    {
      "cell_type": "markdown",
      "source": [
        "### a) $$\\eta_{Rev} = \\frac{T_1 - T_2}{T_1}$$"
      ],
      "metadata": {
        "id": "u2N37Nr7OiEu"
      }
    },
    {
      "cell_type": "markdown",
      "source": [
        "$$\\eta_{Rev} = \\frac{W}{Q_1} \\quad \\rightarrow \\quad W = \\eta_{Rev} \\cdot Q_1$$"
      ],
      "metadata": {
        "id": "2zXYi7vgOr7o"
      }
    },
    {
      "cell_type": "markdown",
      "source": [
        "$$W = |Q_1| - |Q_2| \\quad \\rightarrow \\quad |Q_2| = |Q_1| - W$$"
      ],
      "metadata": {
        "id": "7uQn5gtaPWlN"
      }
    },
    {
      "cell_type": "code",
      "execution_count": 2,
      "metadata": {
        "id": "N-L15YvbMtBD"
      },
      "outputs": [],
      "source": [
        "η_rev = (T_1 - T_2)/T_1\n",
        "W = η_rev*Q_1\n",
        "Q_2 = Q_1 - W"
      ]
    },
    {
      "cell_type": "code",
      "source": [
        "#@title Resultados:\n",
        "print(\"η_rev = %.2f\"%η_rev)\n",
        "print(\"W = %.2f [kJ]\"%W)\n",
        "print(\"|Q_2| = %.2f [kJ]\"%Q_2)"
      ],
      "metadata": {
        "colab": {
          "base_uri": "https://localhost:8080/"
        },
        "cellView": "form",
        "id": "sq40gmMlQwRA",
        "outputId": "4fdb105f-37ae-4134-c518-3194d9228d38"
      },
      "execution_count": 3,
      "outputs": [
        {
          "output_type": "stream",
          "name": "stdout",
          "text": [
            "η_rev = 0.56\n",
            "W = 23.52 [kJ]\n",
            "|Q_2| = 18.48 [kJ]\n"
          ]
        }
      ]
    },
    {
      "cell_type": "markdown",
      "source": [
        "---\n",
        "### b)"
      ],
      "metadata": {
        "id": "et3cLxiURTTn"
      }
    },
    {
      "cell_type": "markdown",
      "source": [
        "$$\\Delta S_1 = \\frac{Q_1}{T_1}$$"
      ],
      "metadata": {
        "id": "-RKQjq5iRW7g"
      }
    },
    {
      "cell_type": "markdown",
      "source": [
        "$$\\Delta S_2 = \\frac{Q_2}{T_2}$$"
      ],
      "metadata": {
        "id": "6lnaUEufRdeo"
      }
    },
    {
      "cell_type": "markdown",
      "source": [
        "$$\\Delta S_u = \\Delta S_1 + \\Delta S_2$$"
      ],
      "metadata": {
        "id": "sN6wfZPKRiXN"
      }
    },
    {
      "cell_type": "code",
      "source": [
        "ΔS_1 = (-Q_1)/T_1\n",
        "ΔS_2 = Q_2/T_2\n",
        "ΔS_u = ΔS_1 + ΔS_2"
      ],
      "metadata": {
        "id": "jvuQh-frRCy6"
      },
      "execution_count": 4,
      "outputs": []
    },
    {
      "cell_type": "code",
      "source": [
        "#@title Resultados:\n",
        "print(\"ΔS_1 = %.4f [kJ/K]\"%ΔS_1)\n",
        "print(\"ΔS_2 = %.4f [kJ/K]\"%ΔS_2)\n",
        "print(\"ΔS_u = %.2f [kJ/K]\"%ΔS_u)"
      ],
      "metadata": {
        "colab": {
          "base_uri": "https://localhost:8080/"
        },
        "cellView": "form",
        "id": "VzcP3Pr4R6PM",
        "outputId": "f2969a59-a6ac-424f-880e-c5671dab9277"
      },
      "execution_count": 5,
      "outputs": [
        {
          "output_type": "stream",
          "name": "stdout",
          "text": [
            "ΔS_1 = -0.0525 [kJ/K]\n",
            "ΔS_2 = 0.0525 [kJ/K]\n",
            "ΔS_u = -0.00 [kJ/K]\n"
          ]
        }
      ]
    },
    {
      "cell_type": "markdown",
      "source": [
        "---\n",
        "### c)"
      ],
      "metadata": {
        "id": "aL2dI-JeWcZi"
      }
    },
    {
      "cell_type": "markdown",
      "source": [
        "$$Q_{u1} = Q_1 - T_0 \\Delta S_1$$\n",
        "$$Q_{u2} = Q_2 - T_0 \\Delta S_2$$"
      ],
      "metadata": {
        "id": "k7GxlB8SWhG1"
      }
    },
    {
      "cell_type": "code",
      "source": [
        "Q_u1 = (-Q_1) - T_0*ΔS_1\n",
        "Q_u2 = Q_2 - T_0*ΔS_2"
      ],
      "metadata": {
        "id": "qE26ExrtSR4k"
      },
      "execution_count": 6,
      "outputs": []
    },
    {
      "cell_type": "code",
      "source": [
        "#@title Resultados:\n",
        "print(\"Q_u1 = %.2f [kJ]\"%Q_u1)\n",
        "print(\"Q_u2 = %.2f [kJ]\"%Q_u2)"
      ],
      "metadata": {
        "colab": {
          "base_uri": "https://localhost:8080/"
        },
        "cellView": "form",
        "id": "GYQzo9RjW1nR",
        "outputId": "610aae4b-7f3a-42c8-ac99-482125087b8c"
      },
      "execution_count": 7,
      "outputs": [
        {
          "output_type": "stream",
          "name": "stdout",
          "text": [
            "Q_u1 = -26.25 [kJ]\n",
            "Q_u2 = 2.73 [kJ]\n"
          ]
        }
      ]
    },
    {
      "cell_type": "markdown",
      "source": [
        "---\n",
        "### 2) En el caso de máquina térmica con $\\eta_t = 0,45$"
      ],
      "metadata": {
        "id": "WcC754PM3sp1"
      }
    },
    {
      "cell_type": "markdown",
      "source": [
        "### a)"
      ],
      "metadata": {
        "id": "UIjcx5hh6Dly"
      }
    },
    {
      "cell_type": "markdown",
      "source": [
        "$$\\eta_t = \\frac{W}{Q_1}$$"
      ],
      "metadata": {
        "id": "eYLHWlbQ36YR"
      }
    },
    {
      "cell_type": "markdown",
      "source": [
        "$$W = \\eta_t \\cdot Q_1$$"
      ],
      "metadata": {
        "id": "yqH6gynA4NI6"
      }
    },
    {
      "cell_type": "code",
      "source": [
        "η_t = 0.45"
      ],
      "metadata": {
        "id": "wMMPYSwQXCb5"
      },
      "execution_count": 8,
      "outputs": []
    },
    {
      "cell_type": "code",
      "source": [
        "W = η_t*Q_1"
      ],
      "metadata": {
        "id": "kd5yqdIC5NbR"
      },
      "execution_count": 9,
      "outputs": []
    },
    {
      "cell_type": "code",
      "source": [
        "#@title Resultado\n",
        "print(\"W = %.2f [kJ]\"%W)"
      ],
      "metadata": {
        "colab": {
          "base_uri": "https://localhost:8080/"
        },
        "id": "_bzaOuwo5cgs",
        "outputId": "179d2463-f706-4834-ec9f-c74d09597116",
        "cellView": "form"
      },
      "execution_count": 10,
      "outputs": [
        {
          "output_type": "stream",
          "name": "stdout",
          "text": [
            "W = 18.90 [kJ]\n"
          ]
        }
      ]
    },
    {
      "cell_type": "markdown",
      "source": [
        "$$W = |Q_1| - |Q_2|$$"
      ],
      "metadata": {
        "id": "s1O_qg055kma"
      }
    },
    {
      "cell_type": "markdown",
      "source": [
        "$$|Q_2| = |Q_1| - W$$"
      ],
      "metadata": {
        "id": "52C_ZuSm5pm6"
      }
    },
    {
      "cell_type": "code",
      "source": [
        "Q_2 = Q_1 - W"
      ],
      "metadata": {
        "id": "vinktUlv5gCN"
      },
      "execution_count": 11,
      "outputs": []
    },
    {
      "cell_type": "code",
      "source": [
        "#@title Resultado\n",
        "print(\"Q_2 = %.2f [kJ]\"%Q_2)"
      ],
      "metadata": {
        "colab": {
          "base_uri": "https://localhost:8080/"
        },
        "id": "rbfSATDE5woR",
        "outputId": "c80a562e-9031-4e4d-c1ad-f873572fad80",
        "cellView": "form"
      },
      "execution_count": 12,
      "outputs": [
        {
          "output_type": "stream",
          "name": "stdout",
          "text": [
            "Q_2 = 23.10 [kJ]\n"
          ]
        }
      ]
    },
    {
      "cell_type": "markdown",
      "source": [
        "---\n",
        "### b)"
      ],
      "metadata": {
        "id": "dKSlKeiF6E2h"
      }
    },
    {
      "cell_type": "markdown",
      "source": [
        "$$\\Delta S_1 = \\frac{Q_1}{T_1}$$"
      ],
      "metadata": {
        "id": "30luG7E56WuB"
      }
    },
    {
      "cell_type": "markdown",
      "source": [
        "$$\\Delta S_2 = \\frac{Q_2}{T_2}$$"
      ],
      "metadata": {
        "id": "hf-TtHLE6dRH"
      }
    },
    {
      "cell_type": "markdown",
      "source": [
        "$$\\Delta S_u = \\Delta S_1 + \\Delta S_2$$"
      ],
      "metadata": {
        "id": "PECv_u756iXP"
      }
    },
    {
      "cell_type": "code",
      "source": [
        "ΔS_1 = -Q_1/T_1\n",
        "ΔS_2 = Q_2/T_2\n",
        "ΔS_u = ΔS_1 + ΔS_2"
      ],
      "metadata": {
        "id": "Rn4ESOTJ59a5"
      },
      "execution_count": 13,
      "outputs": []
    },
    {
      "cell_type": "code",
      "source": [
        "#@title Resultados\n",
        "print(\"ΔS_1 = %.5f [kJ/K]\"%ΔS_1)\n",
        "print(\"ΔS_2 = %.5f [kJ/K]\"%ΔS_2)\n",
        "print(\"ΔS_u = %.5f [kJ/K]\"%ΔS_u)"
      ],
      "metadata": {
        "colab": {
          "base_uri": "https://localhost:8080/"
        },
        "id": "YlFS-f6963I1",
        "outputId": "fd651473-2dca-4cd1-8b9e-11146ee7c095",
        "cellView": "form"
      },
      "execution_count": 14,
      "outputs": [
        {
          "output_type": "stream",
          "name": "stdout",
          "text": [
            "ΔS_1 = -0.05250 [kJ/K]\n",
            "ΔS_2 = 0.06562 [kJ/K]\n",
            "ΔS_u = 0.01312 [kJ/K]\n"
          ]
        }
      ]
    },
    {
      "cell_type": "markdown",
      "source": [
        "---\n",
        "### c)"
      ],
      "metadata": {
        "id": "r9-Zq0qy7acM"
      }
    },
    {
      "cell_type": "markdown",
      "source": [
        "$$Q_{u1} = Q_1 - T_0 \\Delta S_1$$\n",
        "$$Q_{u2} = Q_2 - T_0 \\Delta S_2$$"
      ],
      "metadata": {
        "id": "s9v8V1YK7cyu"
      }
    },
    {
      "cell_type": "code",
      "source": [
        "Q_u1 = -Q_1 - T_0*ΔS_1\n",
        "Q_u2 = Q_2 - T_0*ΔS_2"
      ],
      "metadata": {
        "id": "A91WyJ_s7Feu"
      },
      "execution_count": 15,
      "outputs": []
    },
    {
      "cell_type": "code",
      "source": [
        "#@title Resultados\n",
        "print(\"Q_u1 = %.2f [kJ]\"%Q_u1)\n",
        "print(\"Q_u2 = %.2f [kJ]\"%Q_u2)"
      ],
      "metadata": {
        "colab": {
          "base_uri": "https://localhost:8080/"
        },
        "id": "4uGYTSBg7vOT",
        "outputId": "31e54eb8-62de-40b1-b0c1-d77d994dc0e1",
        "cellView": "form"
      },
      "execution_count": 16,
      "outputs": [
        {
          "output_type": "stream",
          "name": "stdout",
          "text": [
            "Q_u1 = -26.25 [kJ]\n",
            "Q_u2 = 3.41 [kJ]\n"
          ]
        }
      ]
    },
    {
      "cell_type": "markdown",
      "source": [
        "---\n",
        "### 2) En el caso de máquina térmica con $\\eta_t = 0,45$"
      ],
      "metadata": {
        "id": "THxnsHHVNDSW"
      }
    },
    {
      "cell_type": "markdown",
      "source": [
        "a) $$\\eta_t = \\frac{W}{Q_1} \\quad \\Rightarrow \\quad W = \\eta_t \\cdot Q_1$$"
      ],
      "metadata": {
        "id": "KtU4KxHDNRad"
      }
    },
    {
      "cell_type": "code",
      "source": [
        "η_t = 0.45\n",
        "\n",
        "W = η_t*Q_1"
      ],
      "metadata": {
        "id": "lGUv20UD73HH"
      },
      "execution_count": 17,
      "outputs": []
    },
    {
      "cell_type": "code",
      "source": [
        "#@title Resultado\n",
        "print(\"W = %.2f [kJ]\"%W)"
      ],
      "metadata": {
        "colab": {
          "base_uri": "https://localhost:8080/"
        },
        "id": "dmEMmDYIOFza",
        "outputId": "793170e1-cf52-42d2-fed4-7957e75c6755",
        "cellView": "form"
      },
      "execution_count": 18,
      "outputs": [
        {
          "output_type": "stream",
          "name": "stdout",
          "text": [
            "W = 18.90 [kJ]\n"
          ]
        }
      ]
    },
    {
      "cell_type": "markdown",
      "source": [
        "b) $$\\Delta S_1 = \\frac{Q_1}{T_1}$$"
      ],
      "metadata": {
        "id": "5806v10QOKCV"
      }
    },
    {
      "cell_type": "markdown",
      "source": [
        "$$\\Delta S_2 = \\frac{Q_2}{T_2}$$"
      ],
      "metadata": {
        "id": "Ks8_3FD6ORG9"
      }
    },
    {
      "cell_type": "code",
      "source": [
        "ΔS_1 = -Q_1/T_1\n",
        "ΔS_2 = Q_2/T_2\n",
        "\n",
        "ΔS_u = ΔS_1 + ΔS_2"
      ],
      "metadata": {
        "id": "A6DdKjIrOGwh"
      },
      "execution_count": 19,
      "outputs": []
    },
    {
      "cell_type": "code",
      "source": [
        "#@title Resultados\n",
        "print(\"ΔS_1 = %.5f [kJ/K]\"%ΔS_1)\n",
        "print(\"ΔS_2 = %.5f [kJ/K]\"%ΔS_2)\n",
        "print(\"ΔS_u = %.5f [kJ/K]\"%ΔS_u)"
      ],
      "metadata": {
        "colab": {
          "base_uri": "https://localhost:8080/"
        },
        "id": "tjdo7HvFPGs1",
        "outputId": "9d105b25-a2bb-40f0-866b-5f3e4656de6c",
        "cellView": "form"
      },
      "execution_count": 20,
      "outputs": [
        {
          "output_type": "stream",
          "name": "stdout",
          "text": [
            "ΔS_1 = -0.05250 [kJ/K]\n",
            "ΔS_2 = 0.06562 [kJ/K]\n",
            "ΔS_u = 0.01312 [kJ/K]\n"
          ]
        }
      ]
    },
    {
      "cell_type": "markdown",
      "source": [
        "c)\n",
        "$$Q_{u1} = Q_1 - T_0 \\Delta S_1$$\n",
        "$$Q_{u2} = Q_1 - T_0 \\Delta S_2$$"
      ],
      "metadata": {
        "id": "vKfrK5-8POQn"
      }
    },
    {
      "cell_type": "code",
      "source": [
        "Q_u1 = -Q_1 - T_0*ΔS_1\n",
        "Q_u2 = Q_2 - T_0*ΔS_2"
      ],
      "metadata": {
        "id": "Q6jAnTK_PKQN"
      },
      "execution_count": 21,
      "outputs": []
    },
    {
      "cell_type": "code",
      "source": [
        "#@title Resultados\n",
        "print(\"Q_u1 = %.2f [kJ]\"%Q_u1)\n",
        "print(\"Q_u2 = %.2f [kJ]\"%Q_u2)"
      ],
      "metadata": {
        "colab": {
          "base_uri": "https://localhost:8080/"
        },
        "id": "IRVIRLsbQuJS",
        "outputId": "73464463-452e-4816-c477-39418ba4c0f2",
        "cellView": "form"
      },
      "execution_count": 22,
      "outputs": [
        {
          "output_type": "stream",
          "name": "stdout",
          "text": [
            "Q_u1 = -26.25 [kJ]\n",
            "Q_u2 = 3.41 [kJ]\n"
          ]
        }
      ]
    },
    {
      "cell_type": "markdown",
      "source": [
        "---\n",
        "### 3) En el caso de máquina térmica con $\\Delta S_u = 0,02 \\; \\mathrm{kJ/K}$"
      ],
      "metadata": {
        "id": "ZG5mrGqORP3w"
      }
    },
    {
      "cell_type": "markdown",
      "source": [
        "a)\n",
        "$$\\Delta S_u = \\frac{Q_1}{T_1} + \\frac{Q_2}{T_2}$$"
      ],
      "metadata": {
        "id": "FP6LqvBVReXv"
      }
    },
    {
      "cell_type": "markdown",
      "source": [
        "$$Q_2 = T_2 \\left( \\Delta S_u - \\frac{Q_1}{T_1} \\right)$$"
      ],
      "metadata": {
        "id": "n5ZDH79hR1lk"
      }
    },
    {
      "cell_type": "markdown",
      "source": [
        "$$W = |Q_1| - |Q_2|$$"
      ],
      "metadata": {
        "id": "OjR1wvFoTCea"
      }
    },
    {
      "cell_type": "code",
      "source": [
        "ΔS_u = 0.02 # [kJ/K]\n",
        "\n",
        "Q_2 = T_2*(ΔS_u - (-Q_1)/T_1)\n",
        "\n",
        "W = abs(Q_1) - abs(Q_2)"
      ],
      "metadata": {
        "id": "ZeDS405EQzJA"
      },
      "execution_count": 23,
      "outputs": []
    },
    {
      "cell_type": "code",
      "source": [
        "#@title Resultados\n",
        "print(\"Q_2 = %.2f [kJ]\"%Q_2)\n",
        "print(\"W = %.2f [kJ]\"%W)"
      ],
      "metadata": {
        "colab": {
          "base_uri": "https://localhost:8080/"
        },
        "id": "3ejMr_QxSUNh",
        "outputId": "c6c9c946-53ff-4b76-c7c8-ba1168afa5ab",
        "cellView": "form"
      },
      "execution_count": 24,
      "outputs": [
        {
          "output_type": "stream",
          "name": "stdout",
          "text": [
            "Q_2 = 25.52 [kJ]\n",
            "W = 16.48 [kJ]\n"
          ]
        }
      ]
    },
    {
      "cell_type": "markdown",
      "source": [
        "b) $$\\Delta S_1 = \\frac{Q_1}{T_1}$$"
      ],
      "metadata": {
        "id": "P_bfzqDMSwJl"
      }
    },
    {
      "cell_type": "markdown",
      "source": [
        "$$\\Delta S_2 = \\frac{Q_2}{T_2}$$"
      ],
      "metadata": {
        "id": "x5T8z_2hTPd5"
      }
    },
    {
      "cell_type": "markdown",
      "source": [
        "$$\\Delta S_u = \\Delta S_1 + \\Delta S_2$$"
      ],
      "metadata": {
        "id": "kmMAwPElTVEw"
      }
    },
    {
      "cell_type": "code",
      "source": [
        "ΔS_1 = -Q_1/T_1\n",
        "ΔS_2 = Q_2/T_2\n",
        "ΔS_u = ΔS_1 + ΔS_2"
      ],
      "metadata": {
        "id": "Q8kkhZ0USb2W"
      },
      "execution_count": 25,
      "outputs": []
    },
    {
      "cell_type": "code",
      "source": [
        "#@title Resultados\n",
        "print(\"ΔS_1 = %.5f [kJ/K]\"%ΔS_1)\n",
        "print(\"ΔS_2 = %.5f [kJ/K]\"%ΔS_2)\n",
        "print(\"ΔS_u = %.5f [kJ/K]\"%ΔS_u)"
      ],
      "metadata": {
        "colab": {
          "base_uri": "https://localhost:8080/"
        },
        "id": "H3FFjdHYTwUX",
        "outputId": "b47db55d-f663-494f-cc5c-587212d70d70",
        "cellView": "form"
      },
      "execution_count": 26,
      "outputs": [
        {
          "output_type": "stream",
          "name": "stdout",
          "text": [
            "ΔS_1 = -0.05250 [kJ/K]\n",
            "ΔS_2 = 0.07250 [kJ/K]\n",
            "ΔS_u = 0.02000 [kJ/K]\n"
          ]
        }
      ]
    },
    {
      "cell_type": "markdown",
      "source": [
        "c)\n",
        "$$Q_{u1} = Q_1 - T_0 \\Delta S_1$$\n",
        "$$Q_{u2} = Q_2 - T_0 \\Delta S_2$$"
      ],
      "metadata": {
        "id": "4iSraLfpT3pX"
      }
    },
    {
      "cell_type": "code",
      "source": [
        "Q_u1 = -Q_1 - T_0*ΔS_1\n",
        "Q_u2 = Q_2 - T_0*ΔS_2"
      ],
      "metadata": {
        "id": "zAJB5b5KTzK0"
      },
      "execution_count": 27,
      "outputs": []
    },
    {
      "cell_type": "code",
      "source": [
        "#@title Resultados\n",
        "print(\"Q_u1 = %.2f [kJ]\"%Q_u1)\n",
        "print(\"Q_u2 = %.2f [kJ]\"%Q_u2)"
      ],
      "metadata": {
        "id": "bGU-fS4oUGns",
        "outputId": "16ccf8b9-1f25-4054-e6cf-2a1bb5a23aab",
        "colab": {
          "base_uri": "https://localhost:8080/"
        },
        "cellView": "form"
      },
      "execution_count": 28,
      "outputs": [
        {
          "output_type": "stream",
          "name": "stdout",
          "text": [
            "Q_u1 = -26.25 [kJ]\n",
            "Q_u2 = 3.77 [kJ]\n"
          ]
        }
      ]
    },
    {
      "cell_type": "code",
      "source": [],
      "metadata": {
        "id": "KlXgp7E8UJix"
      },
      "execution_count": 28,
      "outputs": []
    }
  ]
}