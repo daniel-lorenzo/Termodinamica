{
  "nbformat": 4,
  "nbformat_minor": 0,
  "metadata": {
    "colab": {
      "provenance": [],
      "authorship_tag": "ABX9TyPAVbk9mKPheLP9eyyRejZG",
      "include_colab_link": true
    },
    "kernelspec": {
      "name": "python3",
      "display_name": "Python 3"
    },
    "language_info": {
      "name": "python"
    }
  },
  "cells": [
    {
      "cell_type": "markdown",
      "metadata": {
        "id": "view-in-github",
        "colab_type": "text"
      },
      "source": [
        "<a href=\"https://colab.research.google.com/github/daniel-lorenzo/Termodinamica/blob/master/Pr%C3%A1ctica_7/P7_Ejercicio_1.ipynb\" target=\"_parent\"><img src=\"https://colab.research.google.com/assets/colab-badge.svg\" alt=\"Open In Colab\"/></a>"
      ]
    },
    {
      "cell_type": "markdown",
      "source": [
        "# Ejercicio 1\n",
        "Las máquinas térmicas indicadas funcionan entre 2 fuentes a 1000 K y 300 K, para los distintos casos de $Q_1$ y $Q_2$, determinar:\n",
        "\n",
        "a) Variación de $S_{univ}$. $(\\Delta S_u)$    \n",
        "b) $W$ de la máquina térmica    \n",
        "c) ¿Es reversible?     \n",
        "d) ¿Es posible?    \n",
        "e) Rendimiento $\\eta_t$    \n"
      ],
      "metadata": {
        "id": "R262RhAlsgOv"
      }
    },
    {
      "cell_type": "markdown",
      "source": [
        "## Caso 1\n",
        "![image.png](data:image/png;base64,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)"
      ],
      "metadata": {
        "id": "5uifVh_j4u5f"
      }
    },
    {
      "cell_type": "markdown",
      "source": [
        "## Solución"
      ],
      "metadata": {
        "id": "es7HOEgitg8C"
      }
    },
    {
      "cell_type": "code",
      "execution_count": 1,
      "metadata": {
        "id": "T8l0pAnOsOkI"
      },
      "outputs": [],
      "source": [
        "# Datos:\n",
        "T1 =  1000 # [K]\n",
        "T2 =   300 # [K]\n",
        "Q1 =  4000 # [kJ]\n",
        "Q2 =  1800 # [kJ]\n",
        "ΔSmt = 0"
      ]
    },
    {
      "cell_type": "markdown",
      "source": [
        "### a) $\\Delta S_u$"
      ],
      "metadata": {
        "id": "eCT9-vn0yyDc"
      }
    },
    {
      "cell_type": "markdown",
      "source": [
        "$$\\Delta S_u = \\frac{Q_1}{T_1} + \\Delta S_{MT} + \\frac{Q_2}{T_2}$$"
      ],
      "metadata": {
        "id": "mpNTSdJAtktt"
      }
    },
    {
      "cell_type": "code",
      "source": [
        "# Variación de entropía del universo\n",
        "ΔSu = -Q1/T1 + ΔSmt + Q2/T2"
      ],
      "metadata": {
        "id": "PktLr1XwuXwL"
      },
      "execution_count": 2,
      "outputs": []
    },
    {
      "cell_type": "code",
      "source": [
        "#@title Resultado\n",
        "print(\"ΔSu = %.1f [kJ/K]\"%ΔSu)"
      ],
      "metadata": {
        "colab": {
          "base_uri": "https://localhost:8080/"
        },
        "cellView": "form",
        "id": "mBv74ylsu9Dl",
        "outputId": "b7b00fc4-a8db-456c-ed4e-ffd4851f9e87"
      },
      "execution_count": 3,
      "outputs": [
        {
          "output_type": "stream",
          "name": "stdout",
          "text": [
            "ΔSu = 2.0 [kJ/K]\n"
          ]
        }
      ]
    },
    {
      "cell_type": "markdown",
      "source": [
        "---\n",
        "### b) W de la máquina térmica"
      ],
      "metadata": {
        "id": "aCcWHEpWxJE8"
      }
    },
    {
      "cell_type": "markdown",
      "source": [
        "$$W = |Q_1| - |Q_2|$$"
      ],
      "metadata": {
        "id": "XFRvvFSjxcMU"
      }
    },
    {
      "cell_type": "code",
      "source": [
        "W = abs(Q1) - abs(Q2)"
      ],
      "metadata": {
        "id": "TnGEtZUGvH9B"
      },
      "execution_count": 4,
      "outputs": []
    },
    {
      "cell_type": "code",
      "source": [
        "#@title Resultado\n",
        "print(\"W = %.0f [kJ]\"%W)"
      ],
      "metadata": {
        "colab": {
          "base_uri": "https://localhost:8080/"
        },
        "cellView": "form",
        "id": "uua1qQ6Mxkca",
        "outputId": "a4082e56-ea96-49fb-f9e5-0b87cdc3e610"
      },
      "execution_count": 5,
      "outputs": [
        {
          "output_type": "stream",
          "name": "stdout",
          "text": [
            "W = 2200 [kJ]\n"
          ]
        }
      ]
    },
    {
      "cell_type": "markdown",
      "source": [
        "---\n",
        "### c) ¿Es reversible?"
      ],
      "metadata": {
        "id": "t03eOP2wxwea"
      }
    },
    {
      "cell_type": "markdown",
      "source": [
        "$$\\eta_{rev} = \\frac{T_1 - T_2}{T_1}$$"
      ],
      "metadata": {
        "id": "2U3UTEI3x4eC"
      }
    },
    {
      "cell_type": "markdown",
      "source": [
        "$$\\eta_t = \\frac{|Q_1| - |Q_2|}{Q_1}$$"
      ],
      "metadata": {
        "id": "bJX_5p9zyAb3"
      }
    },
    {
      "cell_type": "code",
      "source": [
        "η_rev = (T1 - T2)/T1\n",
        "η_t = (abs(Q1) - abs(Q2))/Q1"
      ],
      "metadata": {
        "id": "whsC9Msexr8f"
      },
      "execution_count": 6,
      "outputs": []
    },
    {
      "cell_type": "code",
      "source": [
        "#@title Resultado\n",
        "print(\"η_rev = %.2f\"%η_rev)\n",
        "print(\"η_t = %.2f\"%η_t)"
      ],
      "metadata": {
        "colab": {
          "base_uri": "https://localhost:8080/"
        },
        "cellView": "form",
        "id": "igGIZdnxyVi8",
        "outputId": "9e752685-3e11-40c6-f0aa-fbb4b7defd63"
      },
      "execution_count": 7,
      "outputs": [
        {
          "output_type": "stream",
          "name": "stdout",
          "text": [
            "η_rev = 0.70\n",
            "η_t = 0.55\n"
          ]
        }
      ]
    },
    {
      "cell_type": "markdown",
      "source": [
        "Como $\\eta_{rev} \\neq n_t \\quad \\Rightarrow$ No es reversible."
      ],
      "metadata": {
        "id": "nU6cwV4ryiPp"
      }
    },
    {
      "cell_type": "markdown",
      "source": [
        "---\n",
        "### d) ¿Es posible?"
      ],
      "metadata": {
        "id": "i1iNqlKcy5P7"
      }
    },
    {
      "cell_type": "markdown",
      "source": [
        "Si es posible."
      ],
      "metadata": {
        "id": "ROZ8vh_KzRIe"
      }
    },
    {
      "cell_type": "markdown",
      "source": [
        "---\n",
        "### d) Rendimiento $\\eta_t$"
      ],
      "metadata": {
        "id": "N8PE5GbuzTv_"
      }
    },
    {
      "cell_type": "markdown",
      "source": [
        "$$\\eta_{t} = 0,55 < \\eta_{rev} = 0,7$$"
      ],
      "metadata": {
        "id": "YIuBmRSDzupt"
      }
    },
    {
      "cell_type": "markdown",
      "source": [
        "---"
      ],
      "metadata": {
        "id": "2rby3jYQ0RsU"
      }
    },
    {
      "cell_type": "markdown",
      "source": [
        "## Caso 2\n",
        "![image.png](data:image/png;base64,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)"
      ],
      "metadata": {
        "id": "ykdtdkBC3-a5"
      }
    },
    {
      "cell_type": "markdown",
      "source": [
        "## Solución"
      ],
      "metadata": {
        "id": "HpHY_Uar3RJi"
      }
    },
    {
      "cell_type": "code",
      "source": [
        "# Datos:\n",
        "T1 = 1000 # [K]\n",
        "T2 =  300 # [K]\n",
        "Q1 = 1500 # [kJ]\n",
        "Q2 =  300 # [kJ]"
      ],
      "metadata": {
        "id": "tnA8jVPM1HKh"
      },
      "execution_count": 8,
      "outputs": []
    },
    {
      "cell_type": "markdown",
      "source": [
        "### a)"
      ],
      "metadata": {
        "id": "63_HOGRQ0f5y"
      }
    },
    {
      "cell_type": "markdown",
      "source": [
        "$$\\Delta S_u = \\frac{Q_1}{Q_2} + \\Delta S_{MT} + \\frac{Q_2}{T_2}$$"
      ],
      "metadata": {
        "id": "RCnUz1q70quX"
      }
    },
    {
      "cell_type": "code",
      "source": [
        "ΔS_u = -Q1/T1 + Q2/T2"
      ],
      "metadata": {
        "id": "dE6Mhzi0ygFf"
      },
      "execution_count": 9,
      "outputs": []
    },
    {
      "cell_type": "code",
      "source": [
        "#@title Resultado\n",
        "print(\"ΔS_u = %.2f [kJ/K]\"%ΔS_u)"
      ],
      "metadata": {
        "colab": {
          "base_uri": "https://localhost:8080/"
        },
        "cellView": "form",
        "id": "794HAUmE1Xev",
        "outputId": "6de7492e-c816-45f0-ce9c-48fd3ac357bd"
      },
      "execution_count": 10,
      "outputs": [
        {
          "output_type": "stream",
          "name": "stdout",
          "text": [
            "ΔS_u = -0.50 [kJ/K]\n"
          ]
        }
      ]
    },
    {
      "cell_type": "markdown",
      "source": [
        "---\n",
        "### b) $W$ de la máquina térmica"
      ],
      "metadata": {
        "id": "eMFYaC901k18"
      }
    },
    {
      "cell_type": "markdown",
      "source": [
        "$$W = |Q_1| - |Q_2|$$"
      ],
      "metadata": {
        "id": "wOeJXQVr1sUp"
      }
    },
    {
      "cell_type": "code",
      "source": [
        "W = abs(Q1) - abs(Q2)"
      ],
      "metadata": {
        "id": "gF_-BWxN1eqv"
      },
      "execution_count": 11,
      "outputs": []
    },
    {
      "cell_type": "code",
      "source": [
        "#@title Resultado\n",
        "print(\"W = %.0f [kJ]\"%W)"
      ],
      "metadata": {
        "colab": {
          "base_uri": "https://localhost:8080/"
        },
        "cellView": "form",
        "id": "cWRmt2dQ106Y",
        "outputId": "af18673d-008a-4cb1-fa22-7173025b66cb"
      },
      "execution_count": 12,
      "outputs": [
        {
          "output_type": "stream",
          "name": "stdout",
          "text": [
            "W = 1200 [kJ]\n"
          ]
        }
      ]
    },
    {
      "cell_type": "markdown",
      "source": [
        "---\n",
        "### c) ¿Es reversible?"
      ],
      "metadata": {
        "id": "B0H4br5Y17Gy"
      }
    },
    {
      "cell_type": "markdown",
      "source": [
        "$$\\eta_{rev} = \\frac{T_1 - T_2}{T_1}$$"
      ],
      "metadata": {
        "id": "kWZJszbw2BNc"
      }
    },
    {
      "cell_type": "markdown",
      "source": [
        "$$\\eta_t = \\frac{|Q_1| - |Q_2|}{Q_1}$$"
      ],
      "metadata": {
        "id": "hwHxywVc2JJJ"
      }
    },
    {
      "cell_type": "code",
      "source": [
        "η_rev = (T1 - T2)/T1\n",
        "η_t = (abs(Q1) - abs(Q2))/Q1"
      ],
      "metadata": {
        "id": "iI8NIAU9142e"
      },
      "execution_count": 13,
      "outputs": []
    },
    {
      "cell_type": "code",
      "source": [
        "#@title Resultado\n",
        "print(\"η_rev = %.2f\"%η_rev)\n",
        "print(\"η_t = %.2f\"%η_t)"
      ],
      "metadata": {
        "colab": {
          "base_uri": "https://localhost:8080/"
        },
        "cellView": "form",
        "id": "EX9zcfi42g3T",
        "outputId": "ad26ae01-cb40-41fc-d510-63a2b8321a68"
      },
      "execution_count": 14,
      "outputs": [
        {
          "output_type": "stream",
          "name": "stdout",
          "text": [
            "η_rev = 0.70\n",
            "η_t = 0.80\n"
          ]
        }
      ]
    },
    {
      "cell_type": "markdown",
      "source": [
        "Como $\\eta_{rev} \\neq n_t \\quad \\Rightarrow$ No es reversible."
      ],
      "metadata": {
        "id": "hdGBxGrN2pTo"
      }
    },
    {
      "cell_type": "markdown",
      "source": [
        "---\n",
        "### d)"
      ],
      "metadata": {
        "id": "8WGL14RH2rUR"
      }
    },
    {
      "cell_type": "markdown",
      "source": [
        "No es posible"
      ],
      "metadata": {
        "id": "iKU4044L21Cw"
      }
    },
    {
      "cell_type": "markdown",
      "source": [
        "---\n",
        "### e)"
      ],
      "metadata": {
        "id": "sgUe_7DZ23OU"
      }
    },
    {
      "cell_type": "markdown",
      "source": [
        "$$\\eta_t = 0,8 > \\eta_{rev} = 0,7$$"
      ],
      "metadata": {
        "id": "kobCAh_n26Aq"
      }
    },
    {
      "cell_type": "markdown",
      "source": [
        "---"
      ],
      "metadata": {
        "id": "G9NDLFop3lwK"
      }
    },
    {
      "cell_type": "markdown",
      "source": [
        "## Caso 3\n",
        "![image.png](data:image/png;base64,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)"
      ],
      "metadata": {
        "id": "b-iPQI893xIv"
      }
    },
    {
      "cell_type": "markdown",
      "source": [
        "## Solución"
      ],
      "metadata": {
        "id": "-5pA0MtJ49CJ"
      }
    },
    {
      "cell_type": "code",
      "source": [
        "# Datos:\n",
        "T1 = 1000 # [K]\n",
        "T2 =  300 # [K]\n",
        "Q1 = 3000 # [kJ]\n",
        "Q2 =  900 # [kJ]"
      ],
      "metadata": {
        "id": "GSTJJSDX5QyL"
      },
      "execution_count": 15,
      "outputs": []
    },
    {
      "cell_type": "markdown",
      "source": [
        "### a)"
      ],
      "metadata": {
        "id": "dxi9OWmA4_ti"
      }
    },
    {
      "cell_type": "markdown",
      "source": [
        "$$\\Delta S_u = \\frac{Q_1}{T_1} + \\Delta S_{MT} + \\frac{Q_2}{T_2}$$"
      ],
      "metadata": {
        "id": "D4NvP4s45B_N"
      }
    },
    {
      "cell_type": "code",
      "source": [
        "ΔSu = -Q1/T1 + Q2/T2"
      ],
      "metadata": {
        "id": "FbbjpnyQ2kfz"
      },
      "execution_count": 16,
      "outputs": []
    },
    {
      "cell_type": "code",
      "source": [
        "#@title Resultado\n",
        "print(\"ΔSu = %.0f [kJ]\"%ΔSu)"
      ],
      "metadata": {
        "colab": {
          "base_uri": "https://localhost:8080/"
        },
        "cellView": "form",
        "id": "rh35ZWcf5p_Y",
        "outputId": "ceb3b174-8f8d-4401-f8e9-85189c721a19"
      },
      "execution_count": 17,
      "outputs": [
        {
          "output_type": "stream",
          "name": "stdout",
          "text": [
            "ΔSu = 0 [kJ]\n"
          ]
        }
      ]
    },
    {
      "cell_type": "markdown",
      "source": [
        "---\n",
        "### b)"
      ],
      "metadata": {
        "id": "Ngq3Jd0s5_wW"
      }
    },
    {
      "cell_type": "markdown",
      "source": [
        "$$W = |Q_1| - |Q_2|$$"
      ],
      "metadata": {
        "id": "lz7ebxR66D1_"
      }
    },
    {
      "cell_type": "code",
      "source": [
        "W = Q1 - Q2"
      ],
      "metadata": {
        "id": "RAmQxZsP52uk"
      },
      "execution_count": 18,
      "outputs": []
    },
    {
      "cell_type": "code",
      "source": [
        "#@title Resultado\n",
        "print(\"W = %.0f [kJ]\"%W)"
      ],
      "metadata": {
        "colab": {
          "base_uri": "https://localhost:8080/"
        },
        "cellView": "form",
        "id": "vG5-bdT86NzO",
        "outputId": "d11ab475-23d4-4a87-c9f5-a8dd8938934f"
      },
      "execution_count": 19,
      "outputs": [
        {
          "output_type": "stream",
          "name": "stdout",
          "text": [
            "W = 2100 [kJ]\n"
          ]
        }
      ]
    },
    {
      "cell_type": "markdown",
      "source": [
        "---\n",
        "### c)"
      ],
      "metadata": {
        "id": "qVwtH1lL6Sla"
      }
    },
    {
      "cell_type": "markdown",
      "source": [
        "$$\\eta_{rev} = \\frac{T_1 - T_2}{T_1}$$"
      ],
      "metadata": {
        "id": "zFNjbAIt6kUU"
      }
    },
    {
      "cell_type": "markdown",
      "source": [
        "$$\\eta_{t} = \\frac{|Q_1| - |Q_2|}{Q_1}$$"
      ],
      "metadata": {
        "id": "SxAu7iKZ6pim"
      }
    },
    {
      "cell_type": "code",
      "source": [
        "η_rev = (T1 - T2)/T1\n",
        "η_t = (Q1 - Q2)/Q1"
      ],
      "metadata": {
        "id": "OtdfeFGe6Q_K"
      },
      "execution_count": 20,
      "outputs": []
    },
    {
      "cell_type": "code",
      "source": [
        "#@title Resultado\n",
        "print(\"η_rev = %.2f\"%η_rev)\n",
        "print(\"η_t = %.2f\"%η_t)"
      ],
      "metadata": {
        "colab": {
          "base_uri": "https://localhost:8080/"
        },
        "cellView": "form",
        "id": "Q42caNBW691N",
        "outputId": "933e47ee-620a-4631-c56e-bb01bbd08aa3"
      },
      "execution_count": 21,
      "outputs": [
        {
          "output_type": "stream",
          "name": "stdout",
          "text": [
            "η_rev = 0.70\n",
            "η_t = 0.70\n"
          ]
        }
      ]
    },
    {
      "cell_type": "markdown",
      "source": [
        "Como $\\eta_{rev} = \\eta_t \\quad \\Rightarrow$ Si es reversible."
      ],
      "metadata": {
        "id": "UuhM0T2C7DDb"
      }
    },
    {
      "cell_type": "markdown",
      "source": [
        "---\n",
        "### e)"
      ],
      "metadata": {
        "id": "62qnzfHR7PAX"
      }
    },
    {
      "cell_type": "markdown",
      "source": [
        "$$\\eta_t = \\eta_{rev} = 0,7$$"
      ],
      "metadata": {
        "id": "OeuQjmOZ7SEa"
      }
    }
  ]
}