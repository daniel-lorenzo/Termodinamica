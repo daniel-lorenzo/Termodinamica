{
  "nbformat": 4,
  "nbformat_minor": 0,
  "metadata": {
    "colab": {
      "provenance": [],
      "authorship_tag": "ABX9TyMpOePpUgx0yBfxD10mKvah",
      "include_colab_link": true
    },
    "kernelspec": {
      "name": "python3",
      "display_name": "Python 3"
    },
    "language_info": {
      "name": "python"
    }
  },
  "cells": [
    {
      "cell_type": "markdown",
      "metadata": {
        "id": "view-in-github",
        "colab_type": "text"
      },
      "source": [
        "<a href=\"https://colab.research.google.com/github/daniel-lorenzo/Termodinamica/blob/master/Pr%C3%A1ctica_7/P7_Ejercicio_5.ipynb\" target=\"_parent\"><img src=\"https://colab.research.google.com/assets/colab-badge.svg\" alt=\"Open In Colab\"/></a>"
      ]
    },
    {
      "cell_type": "markdown",
      "source": [
        "# Ejercicio 5\n",
        "La máquina térmica funciona hasta el equilibrio entre cuerpo y fuente, determinar:\n",
        "\n",
        "a) $Q_1$, $W$ de la máquina térmica.   \n",
        "b) $Q_2$    \n",
        "c) $\\Delta S_u$    \n",
        "d) $\\eta_{ex}$    \n",
        "e) $W_{perdido}$   \n",
        "\n",
        "![image.png](data:image/png;base64,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)\n",
        "\n",
        "$T_0 = 280 \\; \\mathrm{K}$    \n",
        "$\\eta_t = 0,4$"
      ],
      "metadata": {
        "id": "op51DhIOae9G"
      }
    },
    {
      "cell_type": "markdown",
      "source": [
        "## Solución"
      ],
      "metadata": {
        "id": "bGeIMACPbKDC"
      }
    },
    {
      "cell_type": "code",
      "source": [
        "# Datos:\n",
        "T_1 = 1200 ; T_2 = 280 ; T_0 = 280 # [K]\n",
        "η_t = 0.4\n",
        "c = 100 # [kJ/K]"
      ],
      "metadata": {
        "id": "S-ebwOR8cVw4"
      },
      "execution_count": null,
      "outputs": []
    },
    {
      "cell_type": "markdown",
      "source": [
        "### a) $Q_1, \\; W$ de la máquina térmica"
      ],
      "metadata": {
        "id": "wVfkU9kcb19-"
      }
    },
    {
      "cell_type": "markdown",
      "source": [
        "$$Q_1 = c \\cdot \\Delta T$$"
      ],
      "metadata": {
        "id": "GpcMrmg_bVPL"
      }
    },
    {
      "cell_type": "markdown",
      "source": [
        "$$\\eta_t = \\frac{W}{Q_1} \\quad \\rightarrow \\quad W = \\eta_t \\cdot Q_1$$"
      ],
      "metadata": {
        "id": "lpYjCQYHbccG"
      }
    },
    {
      "cell_type": "code",
      "execution_count": null,
      "metadata": {
        "id": "LhFdIiYaaaW1"
      },
      "outputs": [],
      "source": [
        "Q_1 = c*abs(T_2 - T_1)\n",
        "W = η_t*Q_1"
      ]
    },
    {
      "cell_type": "code",
      "source": [
        "#@title Resultados:\n",
        "print(\"Q_1 = %.0f [kJ]\"%Q_1)\n",
        "print(\"W = %.0f [kJ]\"%W)"
      ],
      "metadata": {
        "colab": {
          "base_uri": "https://localhost:8080/"
        },
        "cellView": "form",
        "id": "DU3ppsh0dBrR",
        "outputId": "87fe5742-6a1b-435d-8417-1c3e019b10ff"
      },
      "execution_count": null,
      "outputs": [
        {
          "output_type": "stream",
          "name": "stdout",
          "text": [
            "Q_1 = 92000 [kJ]\n",
            "W = 36800 [kJ]\n"
          ]
        }
      ]
    },
    {
      "cell_type": "markdown",
      "source": [
        "---\n",
        "### b) $Q_2$"
      ],
      "metadata": {
        "id": "hQvex92kdi8v"
      }
    },
    {
      "cell_type": "markdown",
      "source": [
        "$$W = |Q_1| + |Q_2|$$"
      ],
      "metadata": {
        "id": "uXozKrzfeeDl"
      }
    },
    {
      "cell_type": "markdown",
      "source": [
        "$$|Q_2| = W - |Q_1|$$"
      ],
      "metadata": {
        "id": "MzVPeBznelKQ"
      }
    },
    {
      "cell_type": "code",
      "source": [
        "Q_2 = W - Q_1"
      ],
      "metadata": {
        "id": "n_rr-j6edQf3"
      },
      "execution_count": null,
      "outputs": []
    },
    {
      "cell_type": "code",
      "source": [
        "#@title Resultado\n",
        "print(\"Q_2 = %.0f [kJ]\"%Q_2)"
      ],
      "metadata": {
        "colab": {
          "base_uri": "https://localhost:8080/"
        },
        "cellView": "form",
        "id": "AzRbQXmOeu0P",
        "outputId": "e1f592d9-2b25-4916-da6b-34d3db9eea2e"
      },
      "execution_count": null,
      "outputs": [
        {
          "output_type": "stream",
          "name": "stdout",
          "text": [
            "Q_2 = -55200 [kJ]\n"
          ]
        }
      ]
    },
    {
      "cell_type": "markdown",
      "source": [
        "---\n",
        "### c) $\\Delta S_u$"
      ],
      "metadata": {
        "id": "jL8o2HKUfSd8"
      }
    },
    {
      "cell_type": "markdown",
      "source": [
        "$$\\Delta S_1 =c \\cdot \\ln \\left( \\frac{T_2}{T_1} \\right)$$"
      ],
      "metadata": {
        "id": "mhH0yKWTfnsQ"
      }
    },
    {
      "cell_type": "markdown",
      "source": [
        "$$\\Delta S_2 = \\frac{Q_2}{T_2}$$"
      ],
      "metadata": {
        "id": "TzpTK1G1ghJG"
      }
    },
    {
      "cell_type": "markdown",
      "source": [
        "$$\\Delta S_u = \\Delta S_1 + \\Delta S_2$$"
      ],
      "metadata": {
        "id": "1oYWxphngnWw"
      }
    },
    {
      "cell_type": "code",
      "source": [
        "import numpy as np"
      ],
      "metadata": {
        "id": "uNMzhHYtgwYN"
      },
      "execution_count": null,
      "outputs": []
    },
    {
      "cell_type": "code",
      "source": [
        "ΔS_1 = c*np.log(T_2/T_1)\n",
        "ΔS_2 = abs(Q_2)/T_2\n",
        "ΔS_u = ΔS_1 + ΔS_2"
      ],
      "metadata": {
        "id": "2vDTKNPFezSE"
      },
      "execution_count": null,
      "outputs": []
    },
    {
      "cell_type": "code",
      "source": [
        "#@title Resultados\n",
        "print(\"ΔS_1 = %.3f [kJ/K]\"%ΔS_1)\n",
        "print(\"ΔS_2 = %.3f [kJ/K]\"%ΔS_2)\n",
        "print(\"ΔS_u = %.3f [kJ/K]\"%ΔS_u)"
      ],
      "metadata": {
        "colab": {
          "base_uri": "https://localhost:8080/"
        },
        "cellView": "form",
        "id": "TPVij7SHhCIK",
        "outputId": "b2551274-f35d-45a7-a991-44ab95936e23"
      },
      "execution_count": null,
      "outputs": [
        {
          "output_type": "stream",
          "name": "stdout",
          "text": [
            "ΔS_1 = -145.529 [kJ/K]\n",
            "ΔS_2 = 197.143 [kJ/K]\n",
            "ΔS_u = 51.614 [kJ/K]\n"
          ]
        }
      ]
    },
    {
      "cell_type": "markdown",
      "source": [
        "---\n",
        "### d) $\\eta_{ex}$"
      ],
      "metadata": {
        "id": "PUfR9oL4iaQj"
      }
    },
    {
      "cell_type": "markdown",
      "source": [
        "$$Q_{u1} = Q_1 - T_0 \\Delta S_1$$\n",
        "$$Q_{u2} = Q_2 - T_0 \\Delta S_2$$"
      ],
      "metadata": {
        "id": "ER6YS5ZrimEB"
      }
    },
    {
      "cell_type": "markdown",
      "source": [
        "$$\\eta_{ex} = \\frac{|W|}{|Q_{u1}|}$$"
      ],
      "metadata": {
        "id": "hj2i0AF4is9q"
      }
    },
    {
      "cell_type": "code",
      "source": [
        "Q_u1 = (-Q_1) - T_0*ΔS_1\n",
        "Q_u2 = (-Q_2) - T_0*ΔS_2\n",
        "\n",
        "η_ex = abs(W/Q_u1)"
      ],
      "metadata": {
        "id": "8XJBoZ7UhrcO"
      },
      "execution_count": null,
      "outputs": []
    },
    {
      "cell_type": "code",
      "source": [
        "#@title Resultados\n",
        "print(\"Q_u1 = %.2f [kJ]\"%Q_u1)\n",
        "print(\"Q_u2 = %.2f [kJ]\"%Q_u2)\n",
        "print(\"η_ex = %.3f\"%η_ex)"
      ],
      "metadata": {
        "colab": {
          "base_uri": "https://localhost:8080/"
        },
        "cellView": "form",
        "id": "dV60sMLmjQqr",
        "outputId": "2b59204d-2324-4d18-e605-4fc5d12d1263"
      },
      "execution_count": null,
      "outputs": [
        {
          "output_type": "stream",
          "name": "stdout",
          "text": [
            "Q_u1 = -51251.96 [kJ]\n",
            "Q_u2 = 0.00 [kJ]\n",
            "η_ex = 0.718\n"
          ]
        }
      ]
    },
    {
      "cell_type": "markdown",
      "source": [
        "---\n",
        "### e) $W_{perdido}$"
      ],
      "metadata": {
        "id": "RMEqSyf1kPVg"
      }
    },
    {
      "cell_type": "markdown",
      "source": [
        "$$W_{perdido} = T_0 \\cdot \\Delta S_u$$"
      ],
      "metadata": {
        "id": "DfzumnVpkphF"
      }
    },
    {
      "cell_type": "code",
      "source": [
        "W_perd = T_0*ΔS_u"
      ],
      "metadata": {
        "id": "YLfbjfbcjdva"
      },
      "execution_count": null,
      "outputs": []
    },
    {
      "cell_type": "code",
      "source": [
        "#@title Resultado\n",
        "print(\"W_perd = %.1f [kJ]\"%W_perd)"
      ],
      "metadata": {
        "colab": {
          "base_uri": "https://localhost:8080/"
        },
        "cellView": "form",
        "id": "uiM8M2ygkyzm",
        "outputId": "9cc87e77-4a4b-44fb-8f44-902baf5317a1"
      },
      "execution_count": null,
      "outputs": [
        {
          "output_type": "stream",
          "name": "stdout",
          "text": [
            "W_perd = 14452.0 [kJ]\n"
          ]
        }
      ]
    },
    {
      "cell_type": "code",
      "source": [],
      "metadata": {
        "id": "r5z3b4A8k3dd"
      },
      "execution_count": null,
      "outputs": []
    }
  ]
}