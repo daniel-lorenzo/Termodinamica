{
  "nbformat": 4,
  "nbformat_minor": 0,
  "metadata": {
    "colab": {
      "provenance": [],
      "authorship_tag": "ABX9TyO6mWlPZzvtUVaj3RcwT579",
      "include_colab_link": true
    },
    "kernelspec": {
      "name": "python3",
      "display_name": "Python 3"
    },
    "language_info": {
      "name": "python"
    }
  },
  "cells": [
    {
      "cell_type": "markdown",
      "metadata": {
        "id": "view-in-github",
        "colab_type": "text"
      },
      "source": [
        "<a href=\"https://colab.research.google.com/github/daniel-lorenzo/Termodinamica/blob/master/Pr%C3%A1ctica_7/P7_Ejercicio_7.ipynb\" target=\"_parent\"><img src=\"https://colab.research.google.com/assets/colab-badge.svg\" alt=\"Open In Colab\"/></a>"
      ]
    },
    {
      "cell_type": "markdown",
      "source": [
        "# Ejercicio 7\n",
        "Para el siguiente sistema y despreciando la variación de energía cinética y potencial determinar:\n",
        "\n",
        "a) $W$ de la máquina térmica    \n",
        "b) $Q_2$    \n",
        "c) $m_{O2}$   \n",
        "d) $T_f$ y $V_f$ del gas    \n",
        "e) $W_{\\Delta V}$ (trabajo útil del pistón)    \n",
        "f) $\\Delta S_u$     \n",
        "g) $\\eta_{ex}$ (rendimiento exergético)\n",
        "\n",
        "![image.png](data:image/png;base64,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)"
      ],
      "metadata": {
        "id": "PDn8BMYKXAo3"
      }
    },
    {
      "cell_type": "markdown",
      "source": [
        "## Solución"
      ],
      "metadata": {
        "id": "bOzggEPHYD8D"
      }
    },
    {
      "cell_type": "code",
      "execution_count": 1,
      "metadata": {
        "id": "q_TSSeDlW_se"
      },
      "outputs": [],
      "source": [
        "# Datos:\n",
        "T_1 = 800 ; T_2 = T_0 = 300 ; T_i = 27+273 # [K]\n",
        "Q_1 = 1000 # [kJ]\n",
        "P = 200 ; P_0 = 100 # [kPa]\n",
        "V_i = 0.5 # [m^3]\n",
        "η_t = 0.45\n",
        "R = 0.2598 # [kJ/(kg·K)]   (oxígeno)\n",
        "cp = 0.9185 # [kJ/(kg·K)]   (oxígeno)"
      ]
    },
    {
      "cell_type": "code",
      "source": [
        "import numpy as np"
      ],
      "metadata": {
        "id": "SvmM5HXdt1ki"
      },
      "execution_count": 2,
      "outputs": []
    },
    {
      "cell_type": "markdown",
      "source": [
        "---\n",
        "### a) $W$"
      ],
      "metadata": {
        "id": "UucRwIAIaytC"
      }
    },
    {
      "cell_type": "markdown",
      "source": [
        "$$\\eta_t = \\frac{W}{Q_1} \\quad \\rightarrow \\quad W = \\eta_t \\cdot Q_1$$"
      ],
      "metadata": {
        "id": "JTOcZGH1a1Zx"
      }
    },
    {
      "cell_type": "code",
      "source": [
        "W = η_t*Q_1"
      ],
      "metadata": {
        "id": "3Xgh-l7eafwX"
      },
      "execution_count": 3,
      "outputs": []
    },
    {
      "cell_type": "code",
      "source": [
        "#@title Resultado\n",
        "print(\"W = %.2f [kJ]\"%W)"
      ],
      "metadata": {
        "colab": {
          "base_uri": "https://localhost:8080/"
        },
        "cellView": "form",
        "id": "WwIXBTHXbLP5",
        "outputId": "4884d32e-6dff-4991-e834-f53e95b5377f"
      },
      "execution_count": 4,
      "outputs": [
        {
          "output_type": "stream",
          "name": "stdout",
          "text": [
            "W = 450.00 [kJ]\n"
          ]
        }
      ]
    },
    {
      "cell_type": "markdown",
      "source": [
        "---\n",
        "### b) $Q_2$"
      ],
      "metadata": {
        "id": "FeBu_00obRIP"
      }
    },
    {
      "cell_type": "markdown",
      "source": [
        "$$W = |Q_1| - |Q_2|$$"
      ],
      "metadata": {
        "id": "AUvzb-fdbcSz"
      }
    },
    {
      "cell_type": "markdown",
      "source": [
        "$$|Q_2| = |Q_1| - W$$"
      ],
      "metadata": {
        "id": "tero7AYTcBy3"
      }
    },
    {
      "cell_type": "code",
      "source": [
        "Q_2 = Q_1 - W"
      ],
      "metadata": {
        "id": "cWreVquobOYb"
      },
      "execution_count": 5,
      "outputs": []
    },
    {
      "cell_type": "code",
      "source": [
        "#@title Resultado\n",
        "print(\"Q_2 = %.2f [kJ]\"%Q_2)"
      ],
      "metadata": {
        "colab": {
          "base_uri": "https://localhost:8080/"
        },
        "cellView": "form",
        "id": "hbNv681AcJgT",
        "outputId": "a0780856-603e-44e7-fe87-22fe91599b11"
      },
      "execution_count": 6,
      "outputs": [
        {
          "output_type": "stream",
          "name": "stdout",
          "text": [
            "Q_2 = 550.00 [kJ]\n"
          ]
        }
      ]
    },
    {
      "cell_type": "markdown",
      "source": [
        "---\n",
        "### c) $m_{O2}$"
      ],
      "metadata": {
        "id": "ymGWP5itdpYK"
      }
    },
    {
      "cell_type": "markdown",
      "source": [
        "Cálculo de masa en el pistón"
      ],
      "metadata": {
        "id": "h76LGLVodsH8"
      }
    },
    {
      "cell_type": "markdown",
      "source": [
        "$$m = \\frac{PV}{RT}$$"
      ],
      "metadata": {
        "id": "rYIzsq9BdwCX"
      }
    },
    {
      "cell_type": "code",
      "source": [
        "m = (P*V_i)/(R*T_i)"
      ],
      "metadata": {
        "id": "nF1JuaW_cMYB"
      },
      "execution_count": 7,
      "outputs": []
    },
    {
      "cell_type": "code",
      "source": [
        "#@title Resultado\n",
        "print('m_A = %.3f [kg]'%m)"
      ],
      "metadata": {
        "colab": {
          "base_uri": "https://localhost:8080/"
        },
        "cellView": "form",
        "id": "GtmwFGCyeU41",
        "outputId": "31bc2b9f-8f40-46a1-ec03-9d15d309861a"
      },
      "execution_count": 8,
      "outputs": [
        {
          "output_type": "stream",
          "name": "stdout",
          "text": [
            "m_A = 1.283 [kg]\n"
          ]
        }
      ]
    },
    {
      "cell_type": "markdown",
      "source": [
        "---\n",
        "### d) $T_f$, $V_f$ del gas"
      ],
      "metadata": {
        "id": "7lNjZh7sl93k"
      }
    },
    {
      "cell_type": "markdown",
      "source": [
        "$$Q = \\Delta U + W_{\\Delta V} - W_{pal}$$"
      ],
      "metadata": {
        "id": "ShNmdSswfQ6-"
      }
    },
    {
      "cell_type": "markdown",
      "source": [
        "A presión constante tenemos\n",
        "$$\\Delta H = \\Delta U + W_{\\Delta V}$$"
      ],
      "metadata": {
        "id": "b-Lx0L68oKea"
      }
    },
    {
      "cell_type": "markdown",
      "source": [
        "$Q = 0$    \n",
        "$\\Delta H = m c_p (T_f - T_i)$   \n",
        "$W_{\\Delta V} = P (V_f - V_i)$    "
      ],
      "metadata": {
        "id": "sgd6TnJ7hjb8"
      }
    },
    {
      "cell_type": "markdown",
      "source": [
        "Entonces\n",
        "$$0 = \\Delta H - W_{pal}$$"
      ],
      "metadata": {
        "id": "7iZytUEKoljC"
      }
    },
    {
      "cell_type": "markdown",
      "source": [
        "$$0 = m c_p (T_f - T_i) - W_{pal}$$"
      ],
      "metadata": {
        "id": "1uqGTZsaox_V"
      }
    },
    {
      "cell_type": "markdown",
      "source": [
        "Reemplazando"
      ],
      "metadata": {
        "id": "3TwG-UEliPBY"
      }
    },
    {
      "cell_type": "markdown",
      "source": [
        "Despejamos $T_f$"
      ],
      "metadata": {
        "id": "UX5Byo3KjQqJ"
      }
    },
    {
      "cell_type": "markdown",
      "source": [
        "$$T_f = \\frac{W_{pal}}{m c_p} + T_i$$"
      ],
      "metadata": {
        "id": "znm3cspVjyvW"
      }
    },
    {
      "cell_type": "code",
      "source": [
        "W_pal = W\n",
        "T_f = W_pal/(m*cp) + T_i"
      ],
      "metadata": {
        "id": "qKCAaWyWeaLS"
      },
      "execution_count": 9,
      "outputs": []
    },
    {
      "cell_type": "markdown",
      "source": [
        "$$PV = mRT$$"
      ],
      "metadata": {
        "id": "COz-1HZolJ7u"
      }
    },
    {
      "cell_type": "markdown",
      "source": [
        "$$V_f = \\frac{mRT_f}{P}$$"
      ],
      "metadata": {
        "id": "EPo_VgO8lNra"
      }
    },
    {
      "cell_type": "code",
      "source": [
        "V_f = (m*R*T_f)/P"
      ],
      "metadata": {
        "id": "fr-C5ptfkz70"
      },
      "execution_count": 10,
      "outputs": []
    },
    {
      "cell_type": "code",
      "source": [
        "#@title Resultados\n",
        "print(\"T_f = %.2f [K]\"%T_f)\n",
        "print(\"V_f = %.3f [m^3]\"%V_f)"
      ],
      "metadata": {
        "colab": {
          "base_uri": "https://localhost:8080/"
        },
        "cellView": "form",
        "id": "o5B_YUVCkdxn",
        "outputId": "01ae9d30-eff0-444d-e9ba-4cd8849e2520"
      },
      "execution_count": 11,
      "outputs": [
        {
          "output_type": "stream",
          "name": "stdout",
          "text": [
            "T_f = 681.85 [K]\n",
            "V_f = 1.136 [m^3]\n"
          ]
        }
      ]
    },
    {
      "cell_type": "markdown",
      "source": [
        "---\n",
        "### e) $W_{\\Delta V}$, $W_{util}$"
      ],
      "metadata": {
        "id": "M0kij3tgmI8x"
      }
    },
    {
      "cell_type": "markdown",
      "source": [
        "$$W_{\\Delta V} = P (V_f - V_i)$$"
      ],
      "metadata": {
        "id": "lTjHpxiFmgp9"
      }
    },
    {
      "cell_type": "markdown",
      "source": [
        "$$W_{util} = W_{\\Delta V} - P_0 (V_f - V_i)$$"
      ],
      "metadata": {
        "id": "jGXZXnt6m7YP"
      }
    },
    {
      "cell_type": "code",
      "source": [
        "W_ΔV = P*(V_f - V_i)\n",
        "W_util = W_ΔV - P_0*(V_f - V_i)"
      ],
      "metadata": {
        "id": "JipCjGEQld3k"
      },
      "execution_count": 12,
      "outputs": []
    },
    {
      "cell_type": "code",
      "source": [
        "#@title Resultados\n",
        "print(\"W_ΔV = %.3f [kJ]\"%W_ΔV)\n",
        "print(\"W_util = %.3f [kJ]\"%W_util)"
      ],
      "metadata": {
        "colab": {
          "base_uri": "https://localhost:8080/"
        },
        "cellView": "form",
        "id": "DGBQS1ZLnVWN",
        "outputId": "bec06e0e-c7db-4c64-89d7-a66a78d3f6cd"
      },
      "execution_count": 13,
      "outputs": [
        {
          "output_type": "stream",
          "name": "stdout",
          "text": [
            "W_ΔV = 127.284 [kJ]\n",
            "W_util = 63.642 [kJ]\n"
          ]
        }
      ]
    },
    {
      "cell_type": "markdown",
      "source": [
        "---\n",
        "### f) $\\Delta S_u$"
      ],
      "metadata": {
        "id": "-ByQUfEsm_ob"
      }
    },
    {
      "cell_type": "markdown",
      "source": [
        "$$\\Delta S_1 = \\frac{Q_1}{T_1}$$"
      ],
      "metadata": {
        "id": "DNVXGD0WoIEZ"
      }
    },
    {
      "cell_type": "markdown",
      "source": [
        "$$Q_{u1} = Q_1 - T_0 \\Delta S_1$$"
      ],
      "metadata": {
        "id": "sLKyr3VFoT63"
      }
    },
    {
      "cell_type": "markdown",
      "source": [
        "$$\\eta_{ex} = \\frac{W_{MT}}{|Q_{u1}|}$$"
      ],
      "metadata": {
        "id": "FwqgKpY4pq3Q"
      }
    },
    {
      "cell_type": "markdown",
      "source": [
        "$$|Q_2| = |Q_1| - |W_{MT}|$$"
      ],
      "metadata": {
        "id": "4m5P-SMcqVdN"
      }
    },
    {
      "cell_type": "markdown",
      "source": [
        "$$\\Delta S_2 = \\frac{Q_2}{T_2}$$"
      ],
      "metadata": {
        "id": "PDArze5Jqi-z"
      }
    },
    {
      "cell_type": "markdown",
      "source": [
        "$$\\Delta S_{pist} = c_p \\ln  \\frac{T_f}{T_i} + R \\ln \\frac{V_f}{V_i}$$"
      ],
      "metadata": {
        "id": "DvO03pRqs26C"
      }
    },
    {
      "cell_type": "markdown",
      "source": [
        "$$\\Delta S_u = \\Delta S_1 + \\Delta S_2 + \\Delta S_{pist}$$"
      ],
      "metadata": {
        "id": "M2mJJwxeuPkq"
      }
    },
    {
      "cell_type": "code",
      "source": [
        "ΔS_1 = Q_1/T_1\n",
        "Q_u1 = Q_1 - T_0*ΔS_1\n",
        "Q_2 = Q_1 - W\n",
        "ΔS_2 = Q_2/T_2\n",
        "ΔS_pist = cp*np.log(T_f/T_i) + R*np.log(V_f/V_i)\n",
        "ΔS_u = (-ΔS_1) + ΔS_2 + ΔS_pist"
      ],
      "metadata": {
        "id": "hhoTWXilnf9j"
      },
      "execution_count": 14,
      "outputs": []
    },
    {
      "cell_type": "code",
      "source": [
        "#@title Resultados\n",
        "print(\"ΔS_1 = %.3f [kJ/K]\"%ΔS_1)\n",
        "print(\"Q_u1 = %.1f [kJ]\"%Q_u1)\n",
        "print(\"ΔS_2 = %.3f [kJ/K]\"%ΔS_2)\n",
        "print(\"ΔS_pist = %.3f [kJ/K]\"%ΔS_pist)\n",
        "print(\"ΔS_u = %.3f [kJ/K]\"%ΔS_u)"
      ],
      "metadata": {
        "colab": {
          "base_uri": "https://localhost:8080/"
        },
        "cellView": "form",
        "id": "VqnkcCEyrRvN",
        "outputId": "6a3cd0a1-c4b7-4704-8d2c-33eee2da38fd"
      },
      "execution_count": 15,
      "outputs": [
        {
          "output_type": "stream",
          "name": "stdout",
          "text": [
            "ΔS_1 = 1.250 [kJ/K]\n",
            "Q_u1 = 625.0 [kJ]\n",
            "ΔS_2 = 1.833 [kJ/K]\n",
            "ΔS_pist = 0.967 [kJ/K]\n",
            "ΔS_u = 1.551 [kJ/K]\n"
          ]
        }
      ]
    },
    {
      "cell_type": "markdown",
      "source": [
        "---\n",
        "### g) $\\eta_{ex}$"
      ],
      "metadata": {
        "id": "43zczFa-wHjP"
      }
    },
    {
      "cell_type": "markdown",
      "source": [
        "$\\Delta U = m c_p (T_f - T_i)$     \n",
        "$\\Delta Ex_{pist} = \\Delta U - T_0 \\Delta S_{pist}$"
      ],
      "metadata": {
        "id": "TQhP7pESx_Fa"
      }
    },
    {
      "cell_type": "markdown",
      "source": [
        "$$\\eta_{ex} = \\frac{\\Delta Ex_{O2} + W_{util}}{|Q_{u1}|}$$"
      ],
      "metadata": {
        "id": "zCtXg4K0wSJI"
      }
    },
    {
      "cell_type": "code",
      "source": [
        "ΔU_O2 = m*cp*(T_f - T_i)\n",
        "ΔEx_O2 = ΔU_O2 - T_0*ΔS_pist - P_0*(V_f - V_i)\n",
        "\n",
        "η_ex = (ΔEx_O2 + W_util)/Q_u1"
      ],
      "metadata": {
        "id": "07yyQRa3vLD-"
      },
      "execution_count": 16,
      "outputs": []
    },
    {
      "cell_type": "code",
      "source": [
        "#@title Resltados\n",
        "print(\"ΔU_O2 = %.2f [kJ/K]\"%ΔU_O2)\n",
        "print(\"ΔEx_O2 = %.2f [kJ/K]\"%ΔEx_O2)\n",
        "print(\"W_util = %.3f [kJ]\"%W_util)\n",
        "print(\"Q_u1 = %.1f [kJ]\"%Q_u1)\n",
        "print(\"\\nη_ex = %.2f [kJ/K]\"%η_ex)"
      ],
      "metadata": {
        "colab": {
          "base_uri": "https://localhost:8080/"
        },
        "cellView": "form",
        "id": "JZwWovidx5UO",
        "outputId": "c031454a-bb36-4976-de8e-a91c4ec311fc"
      },
      "execution_count": 17,
      "outputs": [
        {
          "output_type": "stream",
          "name": "stdout",
          "text": [
            "ΔU_O2 = 450.00 [kJ/K]\n",
            "ΔEx_O2 = 96.13 [kJ/K]\n",
            "W_util = 63.642 [kJ]\n",
            "Q_u1 = 625.0 [kJ]\n",
            "\n",
            "η_ex = 0.26 [kJ/K]\n"
          ]
        }
      ]
    }
  ]
}