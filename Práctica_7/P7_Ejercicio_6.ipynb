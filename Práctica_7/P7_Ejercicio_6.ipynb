{
  "nbformat": 4,
  "nbformat_minor": 0,
  "metadata": {
    "colab": {
      "provenance": [],
      "authorship_tag": "ABX9TyPI1du0V7GTUROlSReyXI3P",
      "include_colab_link": true
    },
    "kernelspec": {
      "name": "python3",
      "display_name": "Python 3"
    },
    "language_info": {
      "name": "python"
    }
  },
  "cells": [
    {
      "cell_type": "markdown",
      "metadata": {
        "id": "view-in-github",
        "colab_type": "text"
      },
      "source": [
        "<a href=\"https://colab.research.google.com/github/daniel-lorenzo/Termodinamica/blob/master/Pr%C3%A1ctica_7/P7_Ejercicio_6.ipynb\" target=\"_parent\"><img src=\"https://colab.research.google.com/assets/colab-badge.svg\" alt=\"Open In Colab\"/></a>"
      ]
    },
    {
      "cell_type": "markdown",
      "source": [
        "# Ejercicio 6\n",
        "Un cuerpo se enfría mediante una máquina frigorífica, determinar:\n",
        "\n",
        "a) $Q_2, \\; W$ y $Q_1$     \n",
        "b) $\\Delta S_u$    \n",
        "c) $Q_{u1}, \\; Q_{u2}$    \n",
        "d) $\\eta_{ex}$    \n",
        "e) $W_{perdido}$    \n",
        "\n",
        "![image.png](data:image/png;base64,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)"
      ],
      "metadata": {
        "id": "_xfWZ4Gol72e"
      }
    },
    {
      "cell_type": "markdown",
      "source": [
        "## Solución"
      ],
      "metadata": {
        "id": "r9eAGU2RmjK8"
      }
    },
    {
      "cell_type": "code",
      "source": [
        "# Datos:\n",
        "T_0 = T_1 = 280 ; T_i = 27+273 ; T_f = 273 # [K]\n",
        "c = 150 # [kJ/K]\n",
        "Ef = 15"
      ],
      "metadata": {
        "id": "9BtIjA31nl-T"
      },
      "execution_count": null,
      "outputs": []
    },
    {
      "cell_type": "code",
      "source": [
        "import numpy as np"
      ],
      "metadata": {
        "id": "L_2kfG5SsBry"
      },
      "execution_count": null,
      "outputs": []
    },
    {
      "cell_type": "markdown",
      "source": [
        "### a)"
      ],
      "metadata": {
        "id": "BEaYfxb8m2dA"
      }
    },
    {
      "cell_type": "markdown",
      "source": [
        "Sistema cuerpo    \n",
        "$W=0$\n",
        "$$Q = \\Delta U + W$$"
      ],
      "metadata": {
        "id": "JrrxYG3dm4a0"
      }
    },
    {
      "cell_type": "markdown",
      "source": [
        "$$Q_2 = c \\cdot \\Delta T$$"
      ],
      "metadata": {
        "id": "TY-GeO9KnGHM"
      }
    },
    {
      "cell_type": "markdown",
      "source": [
        "Sistema MF\n",
        "$$E_f = \\frac{Q_2}{|W|} \\quad \\rightarrow \\quad |W| = \\frac{Q_2}{E_f}$$"
      ],
      "metadata": {
        "id": "LxVDXmJTnMHd"
      }
    },
    {
      "cell_type": "markdown",
      "source": [
        "$$W = |Q_1| + |Q_2|$$"
      ],
      "metadata": {
        "id": "fSC4pw7wqI4h"
      }
    },
    {
      "cell_type": "markdown",
      "source": [
        "$$Q_1 = W - Q_2$$"
      ],
      "metadata": {
        "id": "I_n9YI2bqfjR"
      }
    },
    {
      "cell_type": "code",
      "execution_count": null,
      "metadata": {
        "id": "6l0Ka3u2lwuF"
      },
      "outputs": [],
      "source": [
        "Q_2 = c*(T_f - T_i)\n",
        "W = Q_2/Ef\n",
        "Q_1 = W - abs(Q_2)"
      ]
    },
    {
      "cell_type": "code",
      "source": [
        "#@title Resultados\n",
        "print(\"Q_2 = %.0f [kJ]\"%Q_2)\n",
        "print(\"W = %.0f [kJ]\"%W)\n",
        "print(\"Q_1 = %.0f [kJ]\"%Q_1)"
      ],
      "metadata": {
        "colab": {
          "base_uri": "https://localhost:8080/"
        },
        "cellView": "form",
        "id": "TobnPCgqob8j",
        "outputId": "dc0476c1-a290-467b-d13e-77440ff4a2d9"
      },
      "execution_count": null,
      "outputs": [
        {
          "output_type": "stream",
          "name": "stdout",
          "text": [
            "Q_2 = -4050 [kJ]\n",
            "W = -270 [kJ]\n",
            "Q_1 = -4320 [kJ]\n"
          ]
        }
      ]
    },
    {
      "cell_type": "markdown",
      "source": [
        "---\n",
        "### b) $\\Delta S_u$"
      ],
      "metadata": {
        "id": "aU1N120CowCt"
      }
    },
    {
      "cell_type": "markdown",
      "source": [
        "$$\\Delta S_{cuerpo} = c \\cdot \\ln \\left( \\frac{T_f}{T_i} \\right)$$"
      ],
      "metadata": {
        "id": "dmlSLNH2q_TT"
      }
    },
    {
      "cell_type": "markdown",
      "source": [
        "$$\\Delta S_{fuente} = \\frac{Q_1}{T_1}$$"
      ],
      "metadata": {
        "id": "JtUOfRKyrP2f"
      }
    },
    {
      "cell_type": "markdown",
      "source": [
        "$$\\Delta S_u = \\Delta S_{cuerpo} + \\Delta S_{fuente}$$"
      ],
      "metadata": {
        "id": "7Z1BGqiprX0C"
      }
    },
    {
      "cell_type": "code",
      "source": [
        "ΔS_cuerpo = c*np.log(T_f/T_i)\n",
        "ΔS_fuente = (-Q_1)/T_1\n",
        "ΔS_u = ΔS_cuerpo + ΔS_fuente"
      ],
      "metadata": {
        "id": "IRiEuNhFooz5"
      },
      "execution_count": null,
      "outputs": []
    },
    {
      "cell_type": "code",
      "source": [
        "#@title Resultados\n",
        "print(\"ΔS_cuerpo = %.3f [kJ/K]\"%ΔS_cuerpo)\n",
        "print(\"ΔS_fuente = %.3f [kJ/K]\"%ΔS_fuente)\n",
        "print(\"ΔS_u = %.3f [kJ/K]\"%ΔS_u)"
      ],
      "metadata": {
        "colab": {
          "base_uri": "https://localhost:8080/"
        },
        "cellView": "form",
        "id": "EOuRMhGIsbkG",
        "outputId": "e19fc48c-dd6e-41dd-e6a1-1be8b4e8878b"
      },
      "execution_count": null,
      "outputs": [
        {
          "output_type": "stream",
          "name": "stdout",
          "text": [
            "ΔS_cuerpo = -14.147 [kJ/K]\n",
            "ΔS_fuente = 15.429 [kJ/K]\n",
            "ΔS_u = 1.282 [kJ/K]\n"
          ]
        }
      ]
    },
    {
      "cell_type": "markdown",
      "source": [
        "---\n",
        "### c) $Q_{u1}, \\; Q_{u2}$"
      ],
      "metadata": {
        "id": "3RS3vLzXt1tc"
      }
    },
    {
      "cell_type": "markdown",
      "source": [
        "$$Q_{u1} = Q_1 - T_0 \\Delta S_{fuente}$$\n",
        "$$Q_{u2} = Q_2 - T_0 \\Delta S_{cuerpo}$$"
      ],
      "metadata": {
        "id": "kzx9Qg0CvAr6"
      }
    },
    {
      "cell_type": "markdown",
      "source": [
        "$$\\eta_{ex} = \\frac{|Q_{u2}|}{|W|}$$"
      ],
      "metadata": {
        "id": "qrEf9VSvvNNc"
      }
    },
    {
      "cell_type": "code",
      "source": [
        "Q_u1 = abs(Q_1) - T_0*ΔS_fuente\n",
        "Q_u2 = Q_2 - T_0*ΔS_cuerpo\n",
        "η_ex = abs(Q_u2/W)"
      ],
      "metadata": {
        "id": "dLvyv_p3tJKW"
      },
      "execution_count": null,
      "outputs": []
    },
    {
      "cell_type": "code",
      "source": [
        "#@title Resultados\n",
        "print(\"Q_u1 = %.1f [kJ]\"%Q_u1)\n",
        "print(\"Q_u2 = %.1f [kJ]\"%Q_u2)\n",
        "print(\"η_ex = %.2f\"%η_ex)"
      ],
      "metadata": {
        "colab": {
          "base_uri": "https://localhost:8080/"
        },
        "cellView": "form",
        "id": "HDm-wRmawmGs",
        "outputId": "f2e9ddbc-79dd-43e2-f9ca-b1e18aff906a"
      },
      "execution_count": null,
      "outputs": [
        {
          "output_type": "stream",
          "name": "stdout",
          "text": [
            "Q_u1 = 0.0 [kJ]\n",
            "Q_u2 = -89.0 [kJ]\n",
            "η_ex = 0.33\n"
          ]
        }
      ]
    },
    {
      "cell_type": "markdown",
      "source": [
        "---\n",
        "### d) $W_{perdido}$"
      ],
      "metadata": {
        "id": "HFvruOrMvUU7"
      }
    },
    {
      "cell_type": "markdown",
      "source": [
        "$$W_{perdido} = T_0 \\Delta S_u$$"
      ],
      "metadata": {
        "id": "92d8qIBtyJWh"
      }
    },
    {
      "cell_type": "code",
      "source": [
        "W_perdido = T_0*ΔS_u"
      ],
      "metadata": {
        "id": "LZ1U-k4uvXRm"
      },
      "execution_count": null,
      "outputs": []
    },
    {
      "cell_type": "code",
      "source": [
        "#@title Resultado\n",
        "print(\"W_perdido = %.2f [kJ]\"%W_perdido)"
      ],
      "metadata": {
        "colab": {
          "base_uri": "https://localhost:8080/"
        },
        "cellView": "form",
        "id": "UPFCi-5ZxfUL",
        "outputId": "621ad347-8208-411d-8530-6ac1bda6750e"
      },
      "execution_count": null,
      "outputs": [
        {
          "output_type": "stream",
          "name": "stdout",
          "text": [
            "W_perdido = 358.95 [kJ]\n"
          ]
        }
      ]
    }
  ]
}