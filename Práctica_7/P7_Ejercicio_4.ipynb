{
  "nbformat": 4,
  "nbformat_minor": 0,
  "metadata": {
    "colab": {
      "provenance": [],
      "authorship_tag": "ABX9TyO8zU+5A/d9X9EKKKl9pHnD",
      "include_colab_link": true
    },
    "kernelspec": {
      "name": "python3",
      "display_name": "Python 3"
    },
    "language_info": {
      "name": "python"
    }
  },
  "cells": [
    {
      "cell_type": "markdown",
      "metadata": {
        "id": "view-in-github",
        "colab_type": "text"
      },
      "source": [
        "<a href=\"https://colab.research.google.com/github/daniel-lorenzo/Termodinamica/blob/master/Pr%C3%A1ctica_7/P7_Ejercicio_4.ipynb\" target=\"_parent\"><img src=\"https://colab.research.google.com/assets/colab-badge.svg\" alt=\"Open In Colab\"/></a>"
      ]
    },
    {
      "cell_type": "markdown",
      "source": [
        "# Ejercicio 4\n",
        "Una máquina térmica funciona entre 2 fuentes\n",
        "\n",
        "![image.png](data:image/png;base64,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)\n",
        "\n",
        "$P_0 = 1 \\; \\mathrm{bar} \\quad T_0 = 300 \\; \\mathrm{K}$\n",
        "\n",
        "Si el trabajo perdido es: $W_{perdido} = 6 \\; \\mathrm{kJ}$.\n",
        "\n",
        "Determinar:\n",
        "\n",
        "a) $Q_2$   \n",
        "b) $W$    \n",
        "c) $Q_{u1}$, $Q_{u2}$ y $\\eta_{ex}$"
      ],
      "metadata": {
        "id": "BSx1zrbNTPka"
      }
    },
    {
      "cell_type": "markdown",
      "source": [
        "## Solución"
      ],
      "metadata": {
        "id": "fZ79pDP-UIZP"
      }
    },
    {
      "cell_type": "code",
      "source": [
        "# Datos:\n",
        "T_0 = 300 ; T_1 = 800; T_2 = 350 # [K]\n",
        "Q_1 =  42 ; W_perd = 6 # [kJ]"
      ],
      "metadata": {
        "id": "LqwxzccBUo6Z"
      },
      "execution_count": null,
      "outputs": []
    },
    {
      "cell_type": "markdown",
      "source": [
        "$$W_{perdido} = T_0 \\Delta S_u$$"
      ],
      "metadata": {
        "id": "In5KO_HaULmm"
      }
    },
    {
      "cell_type": "markdown",
      "source": [
        "---\n",
        "### a) $Q_2$\n",
        "$$\\Delta S_u = \\frac{W_{perdido}}{T_0}$$"
      ],
      "metadata": {
        "id": "qhreW14DUSHy"
      }
    },
    {
      "cell_type": "code",
      "execution_count": null,
      "metadata": {
        "id": "LLK11Dq0TOCH"
      },
      "outputs": [],
      "source": [
        "ΔS_u = W_perd/T_0"
      ]
    },
    {
      "cell_type": "markdown",
      "source": [
        "$$\\Delta S_u = \\frac{Q_1}{T_1} + \\frac{Q_2}{T_2}$$"
      ],
      "metadata": {
        "id": "GayVbTlJV5H7"
      }
    },
    {
      "cell_type": "markdown",
      "source": [
        "$$Q_2 = T_2 \\left( \\Delta S_u - \\frac{Q_1}{T_1} \\right)$$"
      ],
      "metadata": {
        "id": "SuJAc2wPWE7X"
      }
    },
    {
      "cell_type": "code",
      "source": [
        "Q_2 = T_2*(ΔS_u - (-Q_1)/T_1)"
      ],
      "metadata": {
        "id": "nKVi6OaQV4Ya"
      },
      "execution_count": null,
      "outputs": []
    },
    {
      "cell_type": "code",
      "source": [
        "#@title Resultados\n",
        "print(\"ΔS_u = %.3f [kJ/K]\"%ΔS_u)\n",
        "print(\"Q_2 = %.3f [kJ]\"%Q_2)"
      ],
      "metadata": {
        "colab": {
          "base_uri": "https://localhost:8080/"
        },
        "cellView": "form",
        "id": "AYIMRFZlWdkf",
        "outputId": "3e2f93a7-51b3-4c3b-b0ef-b4e32e4e6cf4"
      },
      "execution_count": null,
      "outputs": [
        {
          "output_type": "stream",
          "name": "stdout",
          "text": [
            "ΔS_u = 0.020 [kJ/K]\n",
            "Q_2 = 25.375 [kJ]\n"
          ]
        }
      ]
    },
    {
      "cell_type": "markdown",
      "source": [
        "---\n",
        "### b) $W$"
      ],
      "metadata": {
        "id": "-IGhuTuaW8F8"
      }
    },
    {
      "cell_type": "markdown",
      "source": [
        "$$W = |Q_1| - |Q_2|$$"
      ],
      "metadata": {
        "id": "ULgoGYlpXHRJ"
      }
    },
    {
      "cell_type": "code",
      "source": [
        "W = abs(Q_1) - abs(Q_2)"
      ],
      "metadata": {
        "id": "iADEEQFrWpt-"
      },
      "execution_count": null,
      "outputs": []
    },
    {
      "cell_type": "code",
      "source": [
        "#@title Resultado\n",
        "print(\"W = %.3f [kJ]\"%W)"
      ],
      "metadata": {
        "colab": {
          "base_uri": "https://localhost:8080/"
        },
        "cellView": "form",
        "id": "Eo_deYNYXYzh",
        "outputId": "0f75d97c-d7ea-40e3-9ff9-8b2ea680a8ab"
      },
      "execution_count": null,
      "outputs": [
        {
          "output_type": "stream",
          "name": "stdout",
          "text": [
            "W = 16.625 [kJ]\n"
          ]
        }
      ]
    },
    {
      "cell_type": "markdown",
      "source": [
        "---\n",
        "### c) $Q_{u1}$, $Q_{u2}$ y $\\eta_{ex}$"
      ],
      "metadata": {
        "id": "edYLiEDIXdDe"
      }
    },
    {
      "cell_type": "markdown",
      "source": [
        "$$\\Delta S_1 = \\frac{Q_1}{T_1}$$"
      ],
      "metadata": {
        "id": "06d3ZHsIXhzQ"
      }
    },
    {
      "cell_type": "markdown",
      "source": [
        "$$\\Delta S_2 = \\frac{Q_2}{T_2}$$"
      ],
      "metadata": {
        "id": "kfWA_1KkXmlq"
      }
    },
    {
      "cell_type": "markdown",
      "source": [
        "$$Q_{u1} = Q_1 - T_0 \\Delta S_1$$"
      ],
      "metadata": {
        "id": "h0i0urHgXsH7"
      }
    },
    {
      "cell_type": "markdown",
      "source": [
        "$$Q_{u2} = Q_2 - T_0 \\Delta S_2$$"
      ],
      "metadata": {
        "id": "uODSSEN_Xwod"
      }
    },
    {
      "cell_type": "markdown",
      "source": [
        "$$\\eta_{ex} = \\frac{|W| + |Q_{u2}|}{|Q_{u1}|}$$"
      ],
      "metadata": {
        "id": "78VviwNyX2BY"
      }
    },
    {
      "cell_type": "code",
      "source": [
        "ΔS_1 = (-Q_1)/T_1\n",
        "ΔS_2 = Q_2/T_2\n",
        "Q_u1 = (-Q_1) - T_0*ΔS_1\n",
        "Q_u2 = Q_2 - T_0*ΔS_2\n",
        "η_ex = (abs(W) + abs(Q_u2))/abs(Q_u1)"
      ],
      "metadata": {
        "id": "caEdoZWrXcJb"
      },
      "execution_count": null,
      "outputs": []
    },
    {
      "cell_type": "code",
      "source": [
        "#@title Resultados\n",
        "print(\"ΔS_1 = %.4f [kJ/K]\"%ΔS_1)\n",
        "print(\"ΔS_2 = %.4f [kJ/K]\"%ΔS_2)\n",
        "print(\"Q_u1 = %.3f [kJ]\"%Q_u1)\n",
        "print(\"Q_u2 = %.3f [kJ]\"%Q_u2)\n",
        "print(\"η_ex = %.3f\"%η_ex)"
      ],
      "metadata": {
        "colab": {
          "base_uri": "https://localhost:8080/"
        },
        "cellView": "form",
        "id": "PxTjbbGdYs-Q",
        "outputId": "7b125257-b9fd-43be-c23d-0a861cfd5020"
      },
      "execution_count": null,
      "outputs": [
        {
          "output_type": "stream",
          "name": "stdout",
          "text": [
            "ΔS_1 = -0.0525 [kJ/K]\n",
            "ΔS_2 = 0.0725 [kJ/K]\n",
            "Q_u1 = -26.250 [kJ]\n",
            "Q_u2 = 3.625 [kJ]\n",
            "η_ex = 0.771\n"
          ]
        }
      ]
    },
    {
      "cell_type": "code",
      "source": [],
      "metadata": {
        "id": "ygWd5DzxZH1-"
      },
      "execution_count": null,
      "outputs": []
    }
  ]
}