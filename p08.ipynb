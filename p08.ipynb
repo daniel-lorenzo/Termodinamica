{
 "cells": [
  {
   "cell_type": "markdown",
   "metadata": {},
   "source": [
    "# Clase práctica 8 - Termodinámica\n",
    "__UNLZ - FI -- Jupyter Notebook + Python 3__\n",
    "\n",
    "__Alumno: Lorenzo, Daniel Antonio__  \n",
    "[<-Previous ](https://nbviewer.jupyter.org/github/daniel-lorenzo/Termodinamica/blob/master/p07.ipynb)"
   ]
  },
  {
   "cell_type": "markdown",
   "metadata": {},
   "source": [
    "# Introducción\n",
    "Ver enlace de referencia: [<<< Entropía >>>](http://laplace.us.es/wiki/index.php/Entrop%C3%ADa)\n",
    "\n",
    "## Caso de una máquina térmica\n",
    "\n",
    "![Maquina-termica.png](img/Maquina-termica.png)\n",
    "\n",
    "Si tenemos una máquina que toma un calor $Q_c$ de una fuente caliente a una temperatura $T_c$ y entrega un calor $Q_f$ a un sumidero a una temperatura $T_f$, el primer principio de la termodinámica nos dice que\n",
    "\n",
    "__Trabajo de la máquina térmica__\n",
    "$$ W_{MT} = |Q_c| - |Q_f| $$\n",
    "\n",
    "Cuando tenemos una máquina térmica que intercambia calor con dos focos a temperatura $T_c$ y $T_f$, la variación de entropía del universo será la suma de la máquina más la del ambiente.\n",
    "\n",
    "__Variación de entropia del sistema__ $\\Delta S_\\mathrm{sis}$\n",
    "\n",
    "La máquina realiza un proceso cíclico. Puesto que la entropía es una función de estado suvalor al final del ciclo será el mismo que al principio. Por lo tanto\n",
    "\n",
    "$ \\Delta S_\\mathrm{sis} = 0 \\quad $ (proceso ciclico) \n",
    "\n",
    "__Variación de entropia del ambiente__ $\\Delta S_\\mathrm{amb}$\n",
    "\n",
    "La máquina intercambia calor con dos focos térmicos. Del foco $T_c$ sale una cantidad de calor $Q_c$. En el sumidero $T_f$ entra un calor $|Q_f|$. Por tanto la variación de entropía del ambiente es\n",
    "\n",
    "$$ \\Delta S_\\mathrm{amb} = - \\frac{|Q_c|}{T_c} + \\frac{|Q_f|}{T_f} $$\n",
    "\n",
    "__Variación de entropia del universo__ $ \\Delta S_u $\n",
    "\n",
    "Puesto que la entropía del sistema no cambia en un ciclo, la variación de entropía del universo coincide con la del ambiente\n",
    "\n",
    "$$ \\Delta S_u = \\overbrace{ \\Delta S_\\mathrm{sis} }^{= \\, 0} + \\Delta S_\\mathrm{amb} = - \\frac{|Q_c|}{T_c} + \\frac{|Q_f|}{T_f} $$\n",
    "\n",
    "Para que esta máquina pueda operar, esta variación de entropía debe ser positiva. La reducción de entropía de la fuente debe ser compensada con creces por el aumento del sumidero. Este criterio limita la eficiencia de máquinas térmicas y refrigeradores."
   ]
  },
  {
   "cell_type": "markdown",
   "metadata": {},
   "source": [
    "## Caso de un refrigerador\n",
    "\n",
    "![Refrigerador.png](img/Refrigerador.png)\n",
    "\n",
    "El caso de un refrigerador es parecido al de una máquina, salvo algunos signos en la demostración. Las conclusiones son también similares.\n",
    "\n",
    "Un refrigerador extrae un cierto calor $|Q_f|$ a una temperatura $T_f$, para lo cual necesita realizar una cierta cantidad de trabajo $|W|$. El refrigerador entrega una cantidad de calor de desecho $|Q_c|$ a un foco caliente (normalmente el ambiente) a temperatura $T_c$. Una bomba de calor es exactamente lo mismo, salvo que el ambiente es el foco frío y lo que interesa es el calor que entrega al foco caliente. El Primer Pincipio de la termodinámica nos dice que\n",
    " \n",
    "$$ |W| = |Q_c|-|Q_f| $$\n",
    "\n",
    "Por lo lado, la producción de entropía corresponde a que extraemos $|Q_f|$ del foco frío y entregamos $|Q_c|$ al caliente:\n",
    "\n",
    "$$ \\Delta S = \\frac{|Q_c|}{T_c}-\\frac{|Q_f|}{T_f} $$\n",
    "\n",
    "Despejando el calor entregado al foco caliente\n",
    "\n",
    "$$ |Q_c| = \\frac{T_c}{T_f}|Q_f| + T_c\\,\\Delta S $$\n",
    "\n",
    "Esta ecuación nos dice que para una cantidad fija que se extrae del foco frío,la generación de entropía por el refrigerador incrementa la cantidad de calor de desecho. Dicho en otras palabras, se desperdicia más energía, pues una vez que va a parar al ambiente que nos rodea) ya no es útil para producir trabajo adicional.\n",
    "\n",
    "Sustituyendo en la expresión del trabajo\n",
    "\n",
    "$$ |W| = \\left(\\frac{T_c}{T_f}-1\\right)|Q_f| + T_c\\,\\Delta S $$\n",
    "\n",
    "La cantidad entre paréntesis es la inversa del coeficiente de desempeño de un refrigerador reversible que opere entre las temperaturas $T_c$ y $T_c$. Por ello, esta ecuación se puede escribir\n",
    "\n",
    "$$ \\mathrm{COP}_\\mathrm{max}=\\frac{1}{T_c/T_f-1}   \\Rightarrow   |W| = |W|_\\mathrm{R}+T_c\\Delta S $$\n",
    "\n",
    "que nos dice que un refrigerador irreversible requiere más trabajo para extraer la misma cantidad de calor y que ese trabajo extra se desperdicia como calor de desecho. El trabajo extra es proporcional a la entropía creada\n",
    "\n",
    "$$ |W|-|W|_R = T_c\\Delta S $$\n",
    "\n",
    "En términos del coeficiente de desempeño, podemos escribir la ecuación anterior como\n",
    "\n",
    "$$ \\frac{1}{\\mathrm{COP}} = \\frac{|W|}{|Q_f|} = \\frac{1}{\\mathrm{COP}_R}+\\frac{T_c\\Delta S}{|Q_f|} $$\n",
    "\n",
    "lo que nos expresa el [teorema de Carnot](http://laplace.us.es/wiki/index.php/Teorema_de_Carnot) para refrigeradores: el máximo coeficiente de desempeño lo alcanzamos con un refrigerador reversible, y a partir de ahí empezamos a perder eficiencia, más cuanto más entropía se produzca (para un calor extraído constante).\n",
    "\n",
    "También pueden expresarse estos resultados en función del trabajo necesario\n",
    "\n",
    "$$ |Q_f| = \\mathrm{COP}_R|W|-T_c\\mathrm{COP}_R\\Delta S \\qquad  |Q_c| = \\frac{T_c}{T_f}\\mathrm{COP}_R|W|+T_c\\mathrm{COP}_R\\Delta S $$\n",
    "\n",
    "que nos dice que, para un trabajo dado, cuanto más irreversible sea el refrigerador menos calor extraemos del foco caliente y más calor de desecho arrojamos al foco caliente."
   ]
  },
  {
   "cell_type": "markdown",
   "metadata": {},
   "source": [
    "# Ejercicio 45\n",
    "Las máquinas térmicas indicadas funcionan entre fuentes a 1000K y 300K.\n",
    "1. $\\Delta S_u$\n",
    "2. $W$\n",
    "3. Es reversible?\n",
    "4. $\\eta_t$\n",
    "\n",
    "![45.png](img/45.png)\n",
    "\n",
    "|MT:  | Q1           | Q2        |\n",
    "|--|--------------|-----------|\n",
    "|1|  4000 kJ |  -1800 kJ |\n",
    "|2|  1500 kJ |  -3000 kJ |\n",
    "|3|  3000 kJ |  -900 kJ  |\n"
   ]
  },
  {
   "cell_type": "markdown",
   "metadata": {},
   "source": [
    "## Solución"
   ]
  },
  {
   "cell_type": "code",
   "execution_count": 48,
   "metadata": {},
   "outputs": [],
   "source": [
    "# Datos del problema\n",
    "T_H = 1000 # K\n",
    "T_L = 300 # K\n",
    "matriz = [[4000,-1800],\n",
    "          [1500,-3000],\n",
    "          [3000,-900]] # kJ"
   ]
  },
  {
   "cell_type": "code",
   "execution_count": 49,
   "metadata": {},
   "outputs": [
    {
     "name": "stdout",
     "output_type": "stream",
     "text": [
      "Resultados:\n",
      "--------------------------\n",
      "Máquina térmica 1:\n",
      "W_MT = 2200 kJ\n",
      "DSu = 2.0 kW/K\n",
      "Es posible, (Dsu > 0)\n",
      "Irreversible\n",
      "eta_ter = 0.55 (rendimiento térmico)\n",
      "--------------------------\n",
      "Máquina térmica 2:\n",
      "No es posible\n",
      "Libera más calor que el recibido\n",
      "--------------------------\n",
      "Máquina térmica 3:\n",
      "W_MT = 2100 kJ\n",
      "DSu = 0.0 kW/K\n",
      "No es posible.\n",
      "Es reversible\n",
      "--------------------------\n"
     ]
    }
   ],
   "source": [
    "print('Resultados:')\n",
    "print('--------------------------')\n",
    "\n",
    "for y in range(0,3):\n",
    "    for x in range(0,2):\n",
    "        Q_H = matriz[y][0]\n",
    "        Q_L = matriz[y][1]\n",
    "        cont = y + 1\n",
    "        \n",
    "    W_MT = abs(Q_H) - abs(Q_L)\n",
    "    DS_H = abs(Q_H)/T_H\n",
    "    DS_L = abs(Q_L)/T_L\n",
    "    DSu = - DS_H + DS_L\n",
    "\n",
    "    print('Máquina térmica %s:'%cont)\n",
    "    if W_MT > 0:\n",
    "        print('W_MT = %s kJ'%round(W_MT,2))\n",
    "        print('DSu = %s kW/K'%round(DSu,2))\n",
    "        if DSu > 0:\n",
    "            print('Es posible, (Dsu > 0)')\n",
    "            print('Irreversible')\n",
    "            eta_ter = (abs(Q_H) - abs(Q_L))/abs(Q_H)\n",
    "            print('eta_ter = %s (rendimiento térmico)'%round(eta_ter,2))\n",
    "        else:\n",
    "            print('No es posible.')\n",
    "        if DSu == 0:\n",
    "            print('Es reversible')   \n",
    "        print('--------------------------')\n",
    "    else:\n",
    "        print('No es posible')\n",
    "        print('Libera más calor que el recibido')\n",
    "        print('--------------------------')"
   ]
  },
  {
   "cell_type": "markdown",
   "metadata": {},
   "source": [
    "Rendimiento para una máquina reversible $\\rightarrow \\; \\eta_{Rev} = \\eta_{termico}$ :\n",
    "\n",
    "$$ \\eta_{rev} = \\frac{T_1 - T_2}{T_1} = \\frac{Q_1 - Q_2}{Q_1} \\quad \\Rightarrow \\quad Rev $$\n",
    "Rendimiento:\n",
    "$$ \\eta = \\frac{W}{Q_1} $$"
   ]
  },
  {
   "cell_type": "markdown",
   "metadata": {},
   "source": [
    "$\\frac{T_1 - T_2}{T_1} > \\eta_t$, entonces es irreversible"
   ]
  },
  {
   "cell_type": "markdown",
   "metadata": {},
   "source": [
    "$\\Delta S_u > 0$ (proceso irreversible)"
   ]
  },
  {
   "cell_type": "code",
   "execution_count": 50,
   "metadata": {},
   "outputs": [],
   "source": [
    "%reset -s -f"
   ]
  },
  {
   "cell_type": "markdown",
   "metadata": {},
   "source": [
    "## Ejercicio 46\n",
    "Las máquinas frigoríficas indicadas funcionan entre fuentes a 250 K y 300 K. Determinar:\n",
    "\n",
    "![46.png](img/46.png)\n",
    "\n",
    "|MF:  | Q1           | Q2        |\n",
    "|--|--------------|-----------|\n",
    "|1|  -4000 kJ |  2500 kJ |\n",
    "|2|  -4700 kJ |  4000 kJ |\n",
    "|3|  -2400 kJ |  2000 kJ  |\n",
    "\n",
    "a) $\\Delta S_u$\n",
    "\n",
    "b) W\n",
    "\n",
    "c) es reversible?\n",
    "\n",
    "d) es posible?\n",
    "\n",
    "e) $\\varepsilon_f$"
   ]
  },
  {
   "cell_type": "markdown",
   "metadata": {},
   "source": [
    "### Solución\n",
    "$$ \\Delta S_u = \\frac{|Q_H|}{T_H} - \\frac{|Q_L|}{T_L} $$\n",
    "\n",
    "$$ W = |Q_H| - |Q_L| \\quad ; \\quad \\varepsilon_f = \\frac{Q_L}{W} = COP \\quad ; \\quad COP_{max} = \\frac{T_H}{T_H-T_L} $$"
   ]
  },
  {
   "cell_type": "code",
   "execution_count": 51,
   "metadata": {},
   "outputs": [],
   "source": [
    "# Datos del problema\n",
    "T_H = 300 # K\n",
    "T_L = 250 # K\n",
    "#          Q_H   Q_L  \n",
    "matriz = [[-4000,2500], # kJ\n",
    "          [-4700,4000], # kJ\n",
    "          [-2400,2000]] # kJ"
   ]
  },
  {
   "cell_type": "code",
   "execution_count": 69,
   "metadata": {},
   "outputs": [
    {
     "name": "stdout",
     "output_type": "stream",
     "text": [
      "-------------------------\n",
      "Máquina frigorífica 1:\n",
      "W = 1500 kJ/s\n",
      "COP = 1.667 (eficiencia real)\n",
      "COPmax = 6.0 (eficiencia máxima teórica)\n",
      "Irreversible: COPmax > COP, es posible\n",
      "DSu = 3.33\n",
      "-------------------------\n",
      "Máquina frigorífica 2:\n",
      "No es posible\n",
      "DSu = -0.33\n",
      "-------------------------\n",
      "Máquina frigorífica 3:\n",
      "No es posible\n",
      "DSu = 0.0\n",
      "Es reversible\n",
      "W = 400 kJ/s\n"
     ]
    }
   ],
   "source": [
    "# Máquina 1\n",
    "#Q_H = -4000 # kJ/s\n",
    "#Q_L = 2500 # kJ/s\n",
    "\n",
    "for y in range(0,3):\n",
    "    for x in range(0,2):\n",
    "        Q_H = matriz[y][0]\n",
    "        Q_L = matriz[y][1]\n",
    "        cont = y + 1\n",
    "\n",
    "    print('-------------------------')\n",
    "    print('Máquina frigorífica %s:'%cont)\n",
    "    W = abs(Q_H) - abs(Q_L)\n",
    "    DSu = abs(Q_H)/T_H - abs(Q_L)/T_L\n",
    "    \n",
    "    if DSu > 0:\n",
    "        print('W = %s kJ/s'%round(W,2))\n",
    "        COP = Q_L/W\n",
    "        print('COP = %s (eficiencia real)'%round(COP,3))\n",
    "        COPmax = T_H/(T_H - T_L)\n",
    "        print('COPmax = %s (eficiencia máxima teórica)'%round(COPmax,3))\n",
    "\n",
    "        if COPmax > COP:\n",
    "            print('Irreversible: COPmax > COP, es posible')\n",
    "            print('DSu = %s'%round(DSu,2))\n",
    "        if COPmax == COP: \n",
    "            print('Reversible: beta = COP')\n",
    "        if COPmax < COP:\n",
    "            print('No es posible')\n",
    "    else:\n",
    "        print('No es posible')\n",
    "        print('DSu = %s'%round(DSu,2))\n",
    "    if DSu == 0:\n",
    "        print('Es reversible')\n",
    "        print('W = %s kJ/s'%round(W,2))"
   ]
  },
  {
   "cell_type": "code",
   "execution_count": 38,
   "metadata": {},
   "outputs": [],
   "source": [
    "%reset -s -f"
   ]
  },
  {
   "cell_type": "markdown",
   "metadata": {},
   "source": [
    "## Ejercicio 47\n",
    "Una máquina térmica trabaja entre 2 fuentes\n",
    "\n",
    "![47.png](img/47.png)\n",
    "\n",
    "Determinar para los siguientes casos: $W$, $Q_2$, $\\Delta S_1$, $\\Delta S_2$, $\\Delta S_u$\n",
    "1. Máquina reversible\n",
    "2. Con $\\eta_t = 0,45$\n",
    "3. $\\Delta S_u = 0,02$"
   ]
  },
  {
   "cell_type": "markdown",
   "metadata": {},
   "source": [
    "### Solución\n",
    "\n",
    "__ítem 1__\n",
    "\n",
    "$$ \\Delta S_u = - \\frac{|Q_1|}{T_1} + \\frac{|Q_2|}{T_2} $$\n",
    "\n",
    "$$ W_{perd} = T_0 \\, \\Delta S_u $$\n",
    "\n",
    "Para una máquina reversible $\\therefore \\, \\Delta S_u = 0$\n",
    "\n",
    "$$ |Q_2| = T_2 \\frac{|Q_1|}{T_1} $$\n",
    "\n",
    "$$\\eta_t = \\frac{T_1 - T_2}{T_1} \\quad ; \\quad \\eta_t = \\frac{W}{Q_1} \\quad \\Rightarrow \\quad W = \\eta_t Q_1$$"
   ]
  },
  {
   "cell_type": "code",
   "execution_count": 5,
   "metadata": {},
   "outputs": [
    {
     "name": "stdout",
     "output_type": "stream",
     "text": [
      "Q_2 = 18.48 kJ\n"
     ]
    }
   ],
   "source": [
    "T_1 = 800 # K\n",
    "T_2 = 352 # K\n",
    "Q_1 = 42 # kJ/s\n",
    "\n",
    "# Para una máquina reversible\n",
    "Q_2 = T_2 * Q_1/T_1\n",
    "\n",
    "print('Q_2 = %s kJ'%round(Q_2,2))"
   ]
  },
  {
   "cell_type": "code",
   "execution_count": 6,
   "metadata": {},
   "outputs": [
    {
     "name": "stdout",
     "output_type": "stream",
     "text": [
      "W = 23.62 kW\n"
     ]
    }
   ],
   "source": [
    "W = eta_t*Q1\n",
    "\n",
    "print('W = %s kW'%round(W,2))"
   ]
  },
  {
   "cell_type": "markdown",
   "metadata": {},
   "source": [
    "$$ W = Q_1 + Q_2 $$"
   ]
  },
  {
   "cell_type": "markdown",
   "metadata": {},
   "source": [
    "$$ \\Delta \\dot{S}_L = \\frac{\\dot{Q}_L}{T_L} \\quad ; \\quad \\Delta \\dot{S}_H = \\frac{\\dot{Q}_H}{T_H} $$\n",
    "\n",
    "$$ \\Delta \\dot{S}_\\mathrm{total} = \\Delta \\dot{S}_H + \\Delta \\dot{S}_L $$"
   ]
  },
  {
   "cell_type": "code",
   "execution_count": 8,
   "metadata": {},
   "outputs": [
    {
     "name": "stdout",
     "output_type": "stream",
     "text": [
      "DS_1 = 0.0525 kW/K\n",
      "DS_2 = -0.0525 kW/K\n",
      "DS_u = 0.0 kW/K\n"
     ]
    }
   ],
   "source": [
    "DS_1 = Q1/T1\n",
    "DS_2 = Q2/T2\n",
    "DS_u = DS_1 + DS_2\n",
    "print('DS_1 = %s kW/K'%round(DS_1,4))\n",
    "print('DS_2 = %s kW/K'%round(DS_2,4))\n",
    "print('DS_u = %s kW/K'%round(DS_u,4))"
   ]
  },
  {
   "cell_type": "markdown",
   "metadata": {},
   "source": [
    "__ítem 2__\n",
    "\n",
    "$$ \\eta_t = \\frac{W}{Q_1} \\quad \\Rightarrow \\quad W = \\eta_t Q_1 $$"
   ]
  },
  {
   "cell_type": "code",
   "execution_count": 9,
   "metadata": {},
   "outputs": [
    {
     "name": "stdout",
     "output_type": "stream",
     "text": [
      "W = 18.9 kW\n"
     ]
    }
   ],
   "source": [
    "eta_t = 0.45\n",
    "\n",
    "W = eta_t*Q1\n",
    "\n",
    "print('W = %s kW'%round(W,2))"
   ]
  },
  {
   "cell_type": "markdown",
   "metadata": {},
   "source": [
    "$$ W = Q_1 + Q_2 \\quad \\Rightarrow \\quad Q_2 = W - Q_1 $$"
   ]
  },
  {
   "cell_type": "code",
   "execution_count": 10,
   "metadata": {},
   "outputs": [
    {
     "name": "stdout",
     "output_type": "stream",
     "text": [
      "Q2 = -23.1 kW\n"
     ]
    }
   ],
   "source": [
    "Q2 = W - Q1\n",
    "print('Q2 = %s kW'%round(Q2,2))"
   ]
  },
  {
   "cell_type": "markdown",
   "metadata": {},
   "source": [
    "$$ \\Delta S_1 = \\frac{Q_1}{T_1} \\quad ; \\quad \\Delta S_2 = \\frac{Q_2}{T_2} $$\n",
    "\n",
    "$$ \\Delta S_u = \\Delta S_1 + \\Delta S_2 $$"
   ]
  },
  {
   "cell_type": "code",
   "execution_count": 13,
   "metadata": {},
   "outputs": [
    {
     "name": "stdout",
     "output_type": "stream",
     "text": [
      "DS_1 = 0.0525 kW/K\n",
      "DS_2 = -0.065625 kW/K\n",
      "DS_u = -0.013125 kW/K\n"
     ]
    }
   ],
   "source": [
    "DS_1 = Q1/T1\n",
    "DS_2 = Q2/T2\n",
    "DS_u = DS_1 + DS_2\n",
    "print('DS_1 = %s kW/K'%round(DS_1,6))\n",
    "print('DS_2 = %s kW/K'%round(DS_2,6))\n",
    "print('DS_u = %s kW/K'%round(DS_u,6))"
   ]
  },
  {
   "cell_type": "markdown",
   "metadata": {},
   "source": [
    "__ítem 3__"
   ]
  },
  {
   "cell_type": "markdown",
   "metadata": {},
   "source": [
    "$$ \\Delta S_u = \\frac{Q_1}{T_1} + \\frac{Q_2}{T_2}  $$\n",
    "\n",
    "$$ Q_2 = T_2 \\left( \\Delta S_u - \\frac{Q_1}{T_1} \\right) $$"
   ]
  },
  {
   "cell_type": "code",
   "execution_count": 15,
   "metadata": {},
   "outputs": [
    {
     "name": "stdout",
     "output_type": "stream",
     "text": [
      "Q2 = -11.44 kW\n"
     ]
    }
   ],
   "source": [
    "DS_u = 0.02\n",
    "\n",
    "Q2 = T2*(DS_u - Q1/T1)\n",
    "print('Q2 = %s kW'%round(Q2,2))"
   ]
  },
  {
   "cell_type": "code",
   "execution_count": 16,
   "metadata": {},
   "outputs": [
    {
     "name": "stdout",
     "output_type": "stream",
     "text": [
      "W = 30.56 kW\n"
     ]
    }
   ],
   "source": [
    "W = Q1 + Q2\n",
    "print('W = %s kW'%round(W,2))"
   ]
  },
  {
   "cell_type": "markdown",
   "metadata": {},
   "source": [
    "$$ \\Delta S_1 = \\frac{Q_1}{T_1} \\quad ; \\quad \\Delta S_2 = \\frac{Q_2}{T_2} $$\n",
    "\n",
    "$$ \\Delta S_u = \\Delta S_1 + \\Delta S_2 $$"
   ]
  },
  {
   "cell_type": "code",
   "execution_count": 17,
   "metadata": {},
   "outputs": [
    {
     "name": "stdout",
     "output_type": "stream",
     "text": [
      "DS_1 = 0.0525 kW/K\n",
      "DS_2 = -0.0325 kW/K\n",
      "DS_u = 0.02 kW/K\n"
     ]
    }
   ],
   "source": [
    "DS_1 = Q1/T1\n",
    "DS_2 = Q2/T2\n",
    "DS_u = DS_1 + DS_2\n",
    "print('DS_1 = %s kW/K'%round(DS_1,4))\n",
    "print('DS_2 = %s kW/K'%round(DS_2,4))\n",
    "print('DS_u = %s kW/K'%round(DS_u,4))"
   ]
  },
  {
   "cell_type": "code",
   "execution_count": 18,
   "metadata": {},
   "outputs": [],
   "source": [
    "%reset -s -f"
   ]
  },
  {
   "cell_type": "markdown",
   "metadata": {},
   "source": [
    "## Ejercicio 48\n",
    "Una máquina térmica funciona entre dos fuentes a 800 K y 350 K. Si el trabajo perdido es de 6 kJ,\n",
    "se pide:\n",
    "![48.png](img/48.png)\n",
    "1. $Q_2$\n",
    "2. $W$\n",
    "3. $Q_{1u}$ y $Q_{2u}$\n",
    "\n",
    "$$ W_\\mathrm{perdido} = T_0 \\Delta S_u $$\n",
    "\n",
    "$$ Q_u = Q - T_0 \\Delta S $$"
   ]
  },
  {
   "cell_type": "markdown",
   "metadata": {},
   "source": [
    "### Solución\n",
    "$$ \\Delta S_u = \\frac{W_\\mathrm{perdido}}{T_0} $$"
   ]
  },
  {
   "cell_type": "code",
   "execution_count": 1,
   "metadata": {},
   "outputs": [
    {
     "name": "stdout",
     "output_type": "stream",
     "text": [
      "DS_u = -0.02 kW/K\n"
     ]
    }
   ],
   "source": [
    "W_perd = -6 # kJ\n",
    "T_0 = 300 # K\n",
    "\n",
    "DS_u = W_perd/T_0\n",
    "print('DS_u = %s kW/K'%DS_u)"
   ]
  },
  {
   "cell_type": "markdown",
   "metadata": {},
   "source": [
    "$$ \\Delta S_1 = \\frac{Q_1}{T_1} \\quad ; \\quad \\Delta S_2 = \\frac{Q_2}{T_2} $$\n",
    "\n",
    "$$ \\Delta S_u = \\Delta S_1 + \\Delta S_2 $$\n",
    "\n",
    "$$ \\Delta S_u = \\frac{Q_1}{T_1} + \\frac{Q_2}{T_2}  $$\n",
    "\n",
    "$$ Q_2 = T_2 \\left( \\Delta S_u - \\frac{Q_1}{T_1} \\right) $$"
   ]
  },
  {
   "cell_type": "code",
   "execution_count": 2,
   "metadata": {},
   "outputs": [
    {
     "name": "stdout",
     "output_type": "stream",
     "text": [
      "Q2 = -25.38 kW\n"
     ]
    }
   ],
   "source": [
    "T1 = 800 # K\n",
    "T2 = 350 # K\n",
    "Q1 = 42 # kJ\n",
    "\n",
    "Q2 = T2*(DS_u - Q1/T1)\n",
    "print('Q2 = %s kW'%round(Q2,2))"
   ]
  },
  {
   "cell_type": "markdown",
   "metadata": {},
   "source": [
    "$$ W = Q_1 + Q_2 $$"
   ]
  },
  {
   "cell_type": "code",
   "execution_count": 3,
   "metadata": {},
   "outputs": [
    {
     "name": "stdout",
     "output_type": "stream",
     "text": [
      "W = 16.62 kW\n"
     ]
    }
   ],
   "source": [
    "W = Q1 + Q2\n",
    "print('W = %s kW'%round(W,2))"
   ]
  },
  {
   "cell_type": "code",
   "execution_count": 5,
   "metadata": {},
   "outputs": [
    {
     "name": "stdout",
     "output_type": "stream",
     "text": [
      "DS1 = 0.0525 kW/K\n",
      "DS2 = -0.0725 kW/K\n",
      "DSu = -0.02 kW/K\n"
     ]
    }
   ],
   "source": [
    "DS1 = Q1/T1\n",
    "DS2 = Q2/T2\n",
    "DSu = DS1 + DS2\n",
    "print('DS1 = %s kW/K'%round(DS1,5))\n",
    "print('DS2 = %s kW/K'%round(DS2,5))\n",
    "print('DSu = %s kW/K'%round(DSu,5))"
   ]
  },
  {
   "cell_type": "code",
   "execution_count": 7,
   "metadata": {},
   "outputs": [
    {
     "name": "stdout",
     "output_type": "stream",
     "text": [
      "Qu1 = 26.25 kJ\n",
      "Qu2 = -3.625 kJ\n"
     ]
    }
   ],
   "source": [
    "T_0 = 300 # K\n",
    "Qu1 = Q1 - T_0*DS1\n",
    "Qu2 = Q2 - T_0*DS2\n",
    "print('Qu1 = %s kJ'%Qu1)\n",
    "print('Qu2 = %s kJ'%Qu2)"
   ]
  },
  {
   "cell_type": "code",
   "execution_count": 8,
   "metadata": {},
   "outputs": [],
   "source": [
    "%reset -s -f"
   ]
  },
  {
   "cell_type": "markdown",
   "metadata": {},
   "source": [
    "## Ejercicio 49\n",
    "Un cuerpo se enfría mediante una máquina frigorífica\n",
    "![49.png](img/49.png)\n",
    "\n",
    "1. $Q_1$, $W$, $Q_2$\n",
    "2. $\\Delta S_u$\n",
    "3. $Q_{u1}$, $Q_{u2}$\n",
    "\n",
    "$$ \\Delta S = \\int_{Ti}^{Tf} \\frac{\\delta Q}{T} = \\int_{Ti}^{Tf} c \\, \\frac{dt}{T} $$\n",
    "\n",
    "$$\\Rightarrow \\quad \\Delta S = c \\, (\\ln T_f - \\ln T_i) $$"
   ]
  },
  {
   "cell_type": "code",
   "execution_count": 9,
   "metadata": {},
   "outputs": [],
   "source": [
    "import math as m"
   ]
  },
  {
   "cell_type": "code",
   "execution_count": 10,
   "metadata": {},
   "outputs": [
    {
     "name": "stdout",
     "output_type": "stream",
     "text": [
      "DS2 = 0.01413919 kW/K\n"
     ]
    }
   ],
   "source": [
    "c = 150 # kg/K\n",
    "Ti = 27 + 273.15 # K\n",
    "Tf = 0 + 273.15 # K\n",
    "DS2 = -c*(m.log(Tf) - m.log(Ti))\n",
    "print('DS2 = %s kW/K'%round(DS2/1000,8))"
   ]
  },
  {
   "cell_type": "markdown",
   "metadata": {},
   "source": [
    "$$ \\Delta S_2 = \\frac{Q_2}{T_2} \\quad \\rightarrow \\quad Q_2 = \\Delta S_2 T_2 $$ "
   ]
  },
  {
   "cell_type": "code",
   "execution_count": 11,
   "metadata": {},
   "outputs": [
    {
     "name": "stdout",
     "output_type": "stream",
     "text": [
      "Q2 = 3.8621 kJ\n"
     ]
    }
   ],
   "source": [
    "T2 = 0 + 273.15 # K\n",
    "\n",
    "Q2 = DS2*T2\n",
    "print('Q2 = %s kJ'%round(Q2/1000,4))"
   ]
  },
  {
   "cell_type": "markdown",
   "metadata": {},
   "source": [
    "$$ \\varepsilon_f = \\frac{Q_2}{W} \\quad \\rightarrow \\quad W = \\frac{ Q_2}{\\varepsilon_f} $$"
   ]
  },
  {
   "cell_type": "code",
   "execution_count": 9,
   "metadata": {},
   "outputs": [
    {
     "name": "stdout",
     "output_type": "stream",
     "text": [
      "W = 257.47 W\n"
     ]
    }
   ],
   "source": [
    "Ef = 15\n",
    "W = Q2/Ef\n",
    "print('W = %s W'%round(W,2))"
   ]
  },
  {
   "cell_type": "markdown",
   "metadata": {},
   "source": [
    "## Ejemplo 19.3\n",
    "Una hora antes de que empiecen a llegar los invitados nos damos cuenta de que hemos olvidado comprar cubitos de hielo para las bebidas. Rápidamente ponemos un litro de agua a 10°C en la bandeja de los cubitos y la colocamos en el congelador. ¿Tendremos a tiempo el hielo para los invitados? En la etiqueta de especificaciones del refrigerador consta que el aparato tiene un coeficiente de eficiencia de 5,5 y una potencia de 550W. Se estima que sólo el 10% de la potencia se emplea para fabricar los cubitos."
   ]
  },
  {
   "cell_type": "markdown",
   "metadata": {},
   "source": [
    "### Solución\n",
    "__Planteamiento del problema:__ El trabajo es igual a la potencia multiplicada por el tiempo. Como se nos da la potencia, hemos de hallar el trabajo para determinar el tiempo. El trabajo está relacionado con $Q_c$ por la ecuación:\n",
    "$$ \\eta = \\frac{Q_c}{W} $$\n",
    "Para obtener el valor de $Q_c$ hemos de calcular cuánto calor se ha de extraer del agua\n",
    "1. El tiempo está relacionado con la potencia disponible y el trabajo requerido\n",
    "$$ P = \\frac{W}{t} $$\n",
    "2. El trabajo está relacionado con el coeficiente de eficiencia y el calor\n",
    "$$ W = \\frac{Q_c}{\\eta} $$\n",
    "3. El calor $Q_c$ extraído del interior del refrigerador es igual al calor $Q_1$ extraído del agua para enfriarla más el calor $Q_2$ que se ha de extraer del agua para congelarla.\n",
    "4. El calor $Q_1$ necesario para enfriar 1L de agua (masa 1 kg) en 10°C\n",
    "$$ Q_1 = m c \\Delta T $$\n",
    "5. El calor $Q_2$ necesario para congelar el agua en cubitos de hielo es\n",
    "$$ Q_2 = m L_f $$\n",
    "6. La suma de estos calores nos da $Q_c$\n",
    "$$ Q_c = Q_1 + Q_2 $$\n",
    "7. Sustituyendo $Q_c$ en el paso 2 se determina el trabajo $W$\n",
    "$$ W = \\frac{Q_c}{\\eta} $$\n",
    "8. El tiempo $t$ se obtiene utilizando este valor del trabajo $W$ y el de la potencia disponible 55W"
   ]
  },
  {
   "cell_type": "code",
   "execution_count": 2,
   "metadata": {},
   "outputs": [
    {
     "name": "stdout",
     "output_type": "stream",
     "text": [
      "Q1 = 41.8 kJ\n"
     ]
    }
   ],
   "source": [
    "m = 1 # kg\n",
    "c = 4.18 # kJ/(kg·K)\n",
    "DT = 10 # K\n",
    "\n",
    "Q1 = m*c*DT\n",
    "print('Q1 = %s kJ'%round(Q1,2))"
   ]
  },
  {
   "cell_type": "code",
   "execution_count": 3,
   "metadata": {},
   "outputs": [
    {
     "name": "stdout",
     "output_type": "stream",
     "text": [
      "Q2 = 333.5 kJ\n"
     ]
    }
   ],
   "source": [
    "Lf = 333.5 # kJ/kg\n",
    "\n",
    "Q2 = m*Lf\n",
    "print('Q2 = %s kJ'%round(Q2,2))"
   ]
  },
  {
   "cell_type": "code",
   "execution_count": 4,
   "metadata": {},
   "outputs": [
    {
     "name": "stdout",
     "output_type": "stream",
     "text": [
      "Qc = 375.3 kJ\n"
     ]
    }
   ],
   "source": [
    "Qc = Q1 + Q2\n",
    "print('Qc = %s kJ'%round(Qc,2))"
   ]
  },
  {
   "cell_type": "code",
   "execution_count": 5,
   "metadata": {},
   "outputs": [
    {
     "name": "stdout",
     "output_type": "stream",
     "text": [
      "W = 68.24 kJ\n"
     ]
    }
   ],
   "source": [
    "eta = 5.5\n",
    "\n",
    "W = Qc/eta\n",
    "print('W = %s kJ'%round(W,2))"
   ]
  },
  {
   "cell_type": "code",
   "execution_count": 7,
   "metadata": {},
   "outputs": [
    {
     "name": "stdout",
     "output_type": "stream",
     "text": [
      "t = 1240.7 s = 20.7 min\n"
     ]
    }
   ],
   "source": [
    "P = 0.055 # kJ/s\n",
    "\n",
    "t = W/P\n",
    "print('t = %s s = %s min'%(round(t,1),round(t/60,1)))"
   ]
  },
  {
   "cell_type": "markdown",
   "metadata": {},
   "source": [
    "__Observación:__ Hay tiempo suficiente para fabricar cubitos de hielo."
   ]
  }
 ],
 "metadata": {
  "kernelspec": {
   "display_name": "Python 3",
   "language": "python",
   "name": "python3"
  },
  "language_info": {
   "codemirror_mode": {
    "name": "ipython",
    "version": 3
   },
   "file_extension": ".py",
   "mimetype": "text/x-python",
   "name": "python",
   "nbconvert_exporter": "python",
   "pygments_lexer": "ipython3",
   "version": "3.7.3"
  }
 },
 "nbformat": 4,
 "nbformat_minor": 2
}
