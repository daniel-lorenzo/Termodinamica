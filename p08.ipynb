{
 "cells": [
  {
   "cell_type": "markdown",
   "metadata": {},
   "source": [
    "# Clase práctica 8 - Termodinámica\n",
    "__UNLZ - FI -- Fecha: 27/05/2019 -- Jupyter Notebook + Python 3__\n",
    "\n",
    "__Alumno: Lorenzo, Daniel Antonio__  \n",
    "[<-Previous ](https://nbviewer.jupyter.org/github/daniel-lorenzo/Termodinamica/blob/master/p07.ipynb)"
   ]
  },
  {
   "cell_type": "markdown",
   "metadata": {},
   "source": [
    "## Ejercicio 45\n",
    "Las máquinas térmicas indicadas funcionan entre fuentes a 1000K y 300K.\n",
    "1. $\\Delta S_u$\n",
    "2. $W$\n",
    "3. Es reversible?\n",
    "4. $\\eta_t$\n",
    "![45.png](img/45.png)\n",
    "\n",
    "|MT:  | Q1           | Q2        |\n",
    "|--|--------------|-----------|\n",
    "|1|  4000 kJ |  -1800 kJ |\n",
    "|2|  1500 kJ |  -3000 kJ |\n",
    "|3|  3000 kJ |  -900 kJ  |\n"
   ]
  },
  {
   "cell_type": "markdown",
   "metadata": {},
   "source": [
    "### Solución\n",
    "$$ W = Q_1 + Q_2 $$\n",
    "\n",
    "$$ \\Delta S_1 = \\frac{Q_1}{T_1} \\quad ; \\quad \\Delta S_2 = \\frac{Q_2}{T_2} $$\n",
    "\n",
    "$$ \\Delta S_u = \\Delta S_1 + \\Delta S_2 $$"
   ]
  },
  {
   "cell_type": "code",
   "execution_count": 43,
   "metadata": {},
   "outputs": [],
   "source": [
    "matriz = [[4000,-1800],\n",
    "          [1500,-3000],\n",
    "          [3000,-900]]"
   ]
  },
  {
   "cell_type": "code",
   "execution_count": 44,
   "metadata": {},
   "outputs": [],
   "source": [
    "T1 = 1000 # K\n",
    "T2 = 300 # K\n",
    "eta_rev = (T1 - T2)/T1"
   ]
  },
  {
   "cell_type": "markdown",
   "metadata": {},
   "source": [
    "Rendimiento para una máquina reversible:\n",
    "$$ \\eta_{rev} = \\frac{T_1 - T_2}{T_1} $$\n",
    "Rendimiento:\n",
    "$$ \\eta = \\frac{W}{Q_1} $$"
   ]
  },
  {
   "cell_type": "code",
   "execution_count": 46,
   "metadata": {},
   "outputs": [
    {
     "name": "stdout",
     "output_type": "stream",
     "text": [
      "--------------\n",
      "Máquina 1:\n",
      "--------------\n",
      "W = 2200 kJ/s\n",
      "eta = 0.55\n",
      "eta_rev = 0.7\n",
      "Irreversible: eta_rev > eta\n",
      "DS1 = 4.0 kJ/K\n",
      "DS2 = -6.0 kJ/K\n",
      "DSu = -2.0 kJ/K\n",
      "--------------\n",
      "Máquina 2:\n",
      "--------------\n",
      "No es posible\n",
      "--------------\n",
      "Máquina 3:\n",
      "--------------\n",
      "W = 2100 kJ/s\n",
      "eta = 0.7\n",
      "eta_rev = 0.7\n",
      "Reversible: eta_rev = eta\n",
      "DS1 = 3.0 kJ/K\n",
      "DS2 = -3.0 kJ/K\n",
      "DSu = 0.0 kJ/K\n"
     ]
    }
   ],
   "source": [
    "for y in range(0,3):\n",
    "    for x in range(0,2):\n",
    "        Q1 = matriz[y][0]\n",
    "        Q2 = matriz[y][1]\n",
    "    \n",
    "    print('--------------')\n",
    "    print('Máquina %s:'%(y+1))\n",
    "    print('--------------')\n",
    "    W = Q1 + Q2\n",
    "    if Q1 < -Q2:\n",
    "        print('No es posible')\n",
    "    else:\n",
    "        print('W = %s kJ/s'%round(W,2))\n",
    "\n",
    "        eta = W/Q1\n",
    "        print('eta = %s'%round(eta,3))\n",
    "        print('eta_rev = %s'%round(eta_rev,3))\n",
    "\n",
    "        DS1 = Q1/T1\n",
    "        DS2 = Q2/T2\n",
    "        DSu = DS1 + DS2\n",
    "\n",
    "        if eta_rev > eta:\n",
    "            print('Irreversible: eta_rev > eta')\n",
    "            print('DS1 = %s kJ/K'%DS1)\n",
    "            print('DS2 = %s kJ/K'%DS2)\n",
    "            print('DSu = %s kJ/K'%DSu)\n",
    "        else: \n",
    "            print('Reversible: eta_rev = eta')\n",
    "            print('DS1 = %s kJ/K'%DS1)\n",
    "            print('DS2 = %s kJ/K'%DS2)\n",
    "            print('DSu = %s kJ/K'%DSu)"
   ]
  },
  {
   "cell_type": "markdown",
   "metadata": {},
   "source": [
    "$\\frac{T_1 - T_2}{T_1} > \\eta_t$, entonces es irreversible"
   ]
  },
  {
   "cell_type": "markdown",
   "metadata": {},
   "source": [
    "$\\Delta S_u > 0$ (proceso irreversible)"
   ]
  },
  {
   "cell_type": "code",
   "execution_count": 31,
   "metadata": {},
   "outputs": [],
   "source": [
    "%reset -s -f"
   ]
  },
  {
   "cell_type": "markdown",
   "metadata": {},
   "source": [
    "## Ejercicio 46\n",
    "Las máquinas frigoríficas indicadas funcionan entre fuentes a 250 K y 300 K. Determinar:\n",
    "\n",
    "![46.png](img/46.png)\n",
    "\n",
    "|MF:  | Q1           | Q2        |\n",
    "|--|--------------|-----------|\n",
    "|1|  -4000 kJ |  2500 kJ |\n",
    "|2|  -4700 kJ |  4000 kJ |\n",
    "|3|  -2400 kJ |  2000 kJ  |\n",
    "\n",
    "a) $\\Delta S_u$\n",
    "\n",
    "b) W\n",
    "\n",
    "c) es reversible?\n",
    "\n",
    "d) es posible?\n",
    "\n",
    "e) $\\varepsilon_f$"
   ]
  },
  {
   "cell_type": "markdown",
   "metadata": {},
   "source": [
    "### Solución\n",
    "$$ W = |Q_1| - |Q_2| \\quad ; \\quad \\varepsilon_f = \\frac{Q_2}{W} = COP \\quad ; \\quad COP_{max} = \\frac{T_1}{T_1-T_2} $$"
   ]
  },
  {
   "cell_type": "code",
   "execution_count": 39,
   "metadata": {},
   "outputs": [
    {
     "name": "stdout",
     "output_type": "stream",
     "text": [
      "W = 1500 kJ/s\n",
      "COP = 1.667 (ef)\n",
      "COPmax = 6.0\n",
      "Irreversible: COPmax > COP\n",
      "DeltaSu > 0\n"
     ]
    }
   ],
   "source": [
    "# Máquina 1\n",
    "Q1 = 4000 # kJ/s\n",
    "Q2 = 2500 # kJ/s\n",
    "\n",
    "W = Q1 - Q2\n",
    "\n",
    "if W < 0:\n",
    "    print('No es posible')\n",
    "else:    \n",
    "    print('W = %s kJ/s'%round(W,2))\n",
    "    COP = Q2/W\n",
    "    print('COP = %s (ef)'%round(COP,3))\n",
    "\n",
    "    T1 = 300 # K\n",
    "    T2 = 250 # K\n",
    "    COPmax = T1/(T1 - T2)\n",
    "    print('COPmax = %s'%round(COPmax,3))\n",
    "\n",
    "    if COPmax > COP:\n",
    "        print('Irreversible: COPmax > COP')\n",
    "        print('DeltaSu > 0')\n",
    "    if COPmax == COP: \n",
    "        print('Reversible: beta = COP')\n",
    "    if COPmax < COP:\n",
    "        print('No es posible')"
   ]
  },
  {
   "cell_type": "code",
   "execution_count": 40,
   "metadata": {},
   "outputs": [
    {
     "name": "stdout",
     "output_type": "stream",
     "text": [
      "W = 700 kJ/s\n",
      "COP = 5.714 (ef)\n",
      "COPmax = 6.0\n",
      "Irreversible: COPmax > COP\n",
      "DeltaSu > 0\n"
     ]
    }
   ],
   "source": [
    "# Máquina 2\n",
    "Q1 = 4700 # kJ/s\n",
    "Q2 = 4000 # kJ/s\n",
    "\n",
    "W = Q1 - Q2\n",
    "\n",
    "if W < 0:\n",
    "    print('No es posible')\n",
    "else:    \n",
    "    print('W = %s kJ/s'%round(W,2))\n",
    "    COP = Q2/W\n",
    "    print('COP = %s (ef)'%round(COP,3))\n",
    "\n",
    "    T1 = 300 # K\n",
    "    T2 = 250 # K\n",
    "    COPmax = T1/(T1 - T2)\n",
    "    print('COPmax = %s'%round(COPmax,3))\n",
    "\n",
    "    if COPmax > COP:\n",
    "        print('Irreversible: COPmax > COP')\n",
    "        print('DeltaSu > 0')\n",
    "    if COPmax == COP: \n",
    "        print('Reversible: beta = COP')\n",
    "    if COPmax < COP:\n",
    "        print('No es posible')"
   ]
  },
  {
   "cell_type": "code",
   "execution_count": 41,
   "metadata": {},
   "outputs": [
    {
     "name": "stdout",
     "output_type": "stream",
     "text": [
      "W = 400 kJ/s\n",
      "COP = 5.0 (ef)\n",
      "COPmax = 6.0\n",
      "Irreversible: COPmax > COP\n",
      "DeltaSu > 0\n"
     ]
    }
   ],
   "source": [
    "# Máquina 3\n",
    "Q1 = 2400 # kJ/s\n",
    "Q2 = 2000 # kJ/s\n",
    "\n",
    "W = Q1 - Q2\n",
    "\n",
    "if W < 0:\n",
    "    print('No es posible')\n",
    "else:    \n",
    "    print('W = %s kJ/s'%round(W,2))\n",
    "    COP = Q2/W\n",
    "    print('COP = %s (ef)'%round(COP,3))\n",
    "\n",
    "    T1 = 300 # K\n",
    "    T2 = 250 # K\n",
    "    COPmax = T1/(T1 - T2)\n",
    "    print('COPmax = %s'%round(COPmax,3))\n",
    "\n",
    "    if COPmax > COP:\n",
    "        print('Irreversible: COPmax > COP')\n",
    "        print('DeltaSu > 0')\n",
    "    if COPmax == COP: \n",
    "        print('Reversible: beta = COP')\n",
    "    if COPmax < COP:\n",
    "        print('No es posible')"
   ]
  },
  {
   "cell_type": "code",
   "execution_count": 38,
   "metadata": {},
   "outputs": [],
   "source": [
    "%reset -s -f"
   ]
  },
  {
   "cell_type": "markdown",
   "metadata": {},
   "source": [
    "## Ejercicio 47\n",
    "Una máquina térmica trabaja entre 2 fuentes\n",
    "![47.png](img/47.png)\n",
    "\n",
    "Determinar para los siguientes casos: $W$, $Q_2$, $\\Delta S_1$, $\\Delta S_2$, $\\Delta S_u$\n",
    "1. Máquina reversible\n",
    "2. Con $\\eta_t = 0,45$\n",
    "3. $\\Delta S_u = 0,02$"
   ]
  },
  {
   "cell_type": "markdown",
   "metadata": {},
   "source": [
    "### Solución\n",
    "__ítem 1__\n",
    "$$\\eta_t = \\frac{T_1 - T_2}{T_1} \\quad ; \\quad \\eta_t = \\frac{W}{Q_1} \\quad \\Rightarrow \\quad W = \\eta_t Q_1$$"
   ]
  },
  {
   "cell_type": "code",
   "execution_count": 3,
   "metadata": {},
   "outputs": [
    {
     "name": "stdout",
     "output_type": "stream",
     "text": [
      "eta_t = 0.56\n"
     ]
    }
   ],
   "source": [
    "T1 = 800 # K\n",
    "T2 = 352 # K\n",
    "\n",
    "eta_t = (T1 - T2)/T1 # Para una máquina reversible\n",
    "print('eta_t = %s'%eta_t)"
   ]
  },
  {
   "cell_type": "code",
   "execution_count": 5,
   "metadata": {},
   "outputs": [
    {
     "name": "stdout",
     "output_type": "stream",
     "text": [
      "W = 23.52 kW\n"
     ]
    }
   ],
   "source": [
    "Q1 = 42 # kJ/s\n",
    "\n",
    "W = eta_t*Q1\n",
    "print('W = %s kW'%round(W,2))"
   ]
  },
  {
   "cell_type": "markdown",
   "metadata": {},
   "source": [
    "$$ W = Q_1 + Q_2 $$"
   ]
  },
  {
   "cell_type": "code",
   "execution_count": 6,
   "metadata": {},
   "outputs": [
    {
     "name": "stdout",
     "output_type": "stream",
     "text": [
      "Q2 = -18.48 kW\n"
     ]
    }
   ],
   "source": [
    "Q2 = W - Q1\n",
    "print('Q2 = %s kW'%round(Q2,2))"
   ]
  },
  {
   "cell_type": "markdown",
   "metadata": {},
   "source": [
    "$$ \\Delta \\dot{S}_L = \\frac{\\dot{Q}_L}{T_L} \\quad ; \\quad \\Delta \\dot{S}_H = \\frac{\\dot{Q}_H}{T_H} $$\n",
    "\n",
    "$$ \\Delta \\dot{S}_\\mathrm{total} = \\Delta \\dot{S}_H + \\Delta \\dot{S}_L $$"
   ]
  },
  {
   "cell_type": "code",
   "execution_count": 8,
   "metadata": {},
   "outputs": [
    {
     "name": "stdout",
     "output_type": "stream",
     "text": [
      "DS_1 = 0.0525 kW/K\n",
      "DS_2 = -0.0525 kW/K\n",
      "DS_u = 0.0 kW/K\n"
     ]
    }
   ],
   "source": [
    "DS_1 = Q1/T1\n",
    "DS_2 = Q2/T2\n",
    "DS_u = DS_1 + DS_2\n",
    "print('DS_1 = %s kW/K'%round(DS_1,4))\n",
    "print('DS_2 = %s kW/K'%round(DS_2,4))\n",
    "print('DS_u = %s kW/K'%round(DS_u,4))"
   ]
  },
  {
   "cell_type": "markdown",
   "metadata": {},
   "source": [
    "__ítem 2__\n",
    "\n",
    "$$ \\eta_t = \\frac{W}{Q_1} \\quad \\Rightarrow \\quad W = \\eta_t Q_1 $$"
   ]
  },
  {
   "cell_type": "code",
   "execution_count": 9,
   "metadata": {},
   "outputs": [
    {
     "name": "stdout",
     "output_type": "stream",
     "text": [
      "W = 18.9 kW\n"
     ]
    }
   ],
   "source": [
    "eta_t = 0.45\n",
    "\n",
    "W = eta_t*Q1\n",
    "print('W = %s kW'%round(W,2))"
   ]
  },
  {
   "cell_type": "markdown",
   "metadata": {},
   "source": [
    "$$ W = Q_1 + Q_2 \\quad \\Rightarrow \\quad Q_2 = W - Q_1 $$"
   ]
  },
  {
   "cell_type": "code",
   "execution_count": 10,
   "metadata": {},
   "outputs": [
    {
     "name": "stdout",
     "output_type": "stream",
     "text": [
      "Q2 = -23.1 kW\n"
     ]
    }
   ],
   "source": [
    "Q2 = W - Q1\n",
    "print('Q2 = %s kW'%round(Q2,2))"
   ]
  },
  {
   "cell_type": "markdown",
   "metadata": {},
   "source": [
    "$$ \\Delta S_1 = \\frac{Q_1}{T_1} \\quad ; \\quad \\Delta S_2 = \\frac{Q_2}{T_2} $$\n",
    "\n",
    "$$ \\Delta S_u = \\Delta S_1 + \\Delta S_2 $$"
   ]
  },
  {
   "cell_type": "code",
   "execution_count": 13,
   "metadata": {},
   "outputs": [
    {
     "name": "stdout",
     "output_type": "stream",
     "text": [
      "DS_1 = 0.0525 kW/K\n",
      "DS_2 = -0.065625 kW/K\n",
      "DS_u = -0.013125 kW/K\n"
     ]
    }
   ],
   "source": [
    "DS_1 = Q1/T1\n",
    "DS_2 = Q2/T2\n",
    "DS_u = DS_1 + DS_2\n",
    "print('DS_1 = %s kW/K'%round(DS_1,6))\n",
    "print('DS_2 = %s kW/K'%round(DS_2,6))\n",
    "print('DS_u = %s kW/K'%round(DS_u,6))"
   ]
  },
  {
   "cell_type": "markdown",
   "metadata": {},
   "source": [
    "__ítem 3__"
   ]
  },
  {
   "cell_type": "markdown",
   "metadata": {},
   "source": [
    "$$ \\Delta S_u = \\frac{Q_1}{T_1} + \\frac{Q_2}{T_2}  $$\n",
    "\n",
    "$$ Q_2 = T_2 \\left( \\Delta S_u - \\frac{Q_1}{T_1} \\right) $$"
   ]
  },
  {
   "cell_type": "code",
   "execution_count": 15,
   "metadata": {},
   "outputs": [
    {
     "name": "stdout",
     "output_type": "stream",
     "text": [
      "Q2 = -11.44 kW\n"
     ]
    }
   ],
   "source": [
    "DS_u = 0.02\n",
    "\n",
    "Q2 = T2*(DS_u - Q1/T1)\n",
    "print('Q2 = %s kW'%round(Q2,2))"
   ]
  },
  {
   "cell_type": "code",
   "execution_count": 16,
   "metadata": {},
   "outputs": [
    {
     "name": "stdout",
     "output_type": "stream",
     "text": [
      "W = 30.56 kW\n"
     ]
    }
   ],
   "source": [
    "W = Q1 + Q2\n",
    "print('W = %s kW'%round(W,2))"
   ]
  },
  {
   "cell_type": "markdown",
   "metadata": {},
   "source": [
    "$$ \\Delta S_1 = \\frac{Q_1}{T_1} \\quad ; \\quad \\Delta S_2 = \\frac{Q_2}{T_2} $$\n",
    "\n",
    "$$ \\Delta S_u = \\Delta S_1 + \\Delta S_2 $$"
   ]
  },
  {
   "cell_type": "code",
   "execution_count": 17,
   "metadata": {},
   "outputs": [
    {
     "name": "stdout",
     "output_type": "stream",
     "text": [
      "DS_1 = 0.0525 kW/K\n",
      "DS_2 = -0.0325 kW/K\n",
      "DS_u = 0.02 kW/K\n"
     ]
    }
   ],
   "source": [
    "DS_1 = Q1/T1\n",
    "DS_2 = Q2/T2\n",
    "DS_u = DS_1 + DS_2\n",
    "print('DS_1 = %s kW/K'%round(DS_1,4))\n",
    "print('DS_2 = %s kW/K'%round(DS_2,4))\n",
    "print('DS_u = %s kW/K'%round(DS_u,4))"
   ]
  },
  {
   "cell_type": "code",
   "execution_count": 18,
   "metadata": {},
   "outputs": [],
   "source": [
    "%reset -s -f"
   ]
  },
  {
   "cell_type": "markdown",
   "metadata": {},
   "source": [
    "## Ejercicio 48\n",
    "Una máquina térmica funciona entre dos fuentes a 800 K y 350 K. Si el trabajo perdido es de 6 kJ,\n",
    "se pide:\n",
    "![48.png](img/48.png)\n",
    "1. $Q_2$\n",
    "2. $W$\n",
    "3. $Q_{1u}$ y $Q_{2u}$\n",
    "\n",
    "$$ W_\\mathrm{perdido} = T_0 \\Delta S_u $$\n",
    "\n",
    "$$ Q_u = Q - T_0 \\Delta S $$"
   ]
  },
  {
   "cell_type": "markdown",
   "metadata": {},
   "source": [
    "### Solución\n",
    "$$ \\Delta S_u = \\frac{W_\\mathrm{perdido}}{T_0} $$"
   ]
  },
  {
   "cell_type": "code",
   "execution_count": 1,
   "metadata": {},
   "outputs": [
    {
     "name": "stdout",
     "output_type": "stream",
     "text": [
      "DS_u = -0.02 kW/K\n"
     ]
    }
   ],
   "source": [
    "W_perd = -6 # kJ\n",
    "T_0 = 300 # K\n",
    "\n",
    "DS_u = W_perd/T_0\n",
    "print('DS_u = %s kW/K'%DS_u)"
   ]
  },
  {
   "cell_type": "markdown",
   "metadata": {},
   "source": [
    "$$ \\Delta S_1 = \\frac{Q_1}{T_1} \\quad ; \\quad \\Delta S_2 = \\frac{Q_2}{T_2} $$\n",
    "\n",
    "$$ \\Delta S_u = \\Delta S_1 + \\Delta S_2 $$\n",
    "\n",
    "$$ \\Delta S_u = \\frac{Q_1}{T_1} + \\frac{Q_2}{T_2}  $$\n",
    "\n",
    "$$ Q_2 = T_2 \\left( \\Delta S_u - \\frac{Q_1}{T_1} \\right) $$"
   ]
  },
  {
   "cell_type": "code",
   "execution_count": 2,
   "metadata": {},
   "outputs": [
    {
     "name": "stdout",
     "output_type": "stream",
     "text": [
      "Q2 = -25.38 kW\n"
     ]
    }
   ],
   "source": [
    "T1 = 800 # K\n",
    "T2 = 350 # K\n",
    "Q1 = 42 # kJ\n",
    "\n",
    "Q2 = T2*(DS_u - Q1/T1)\n",
    "print('Q2 = %s kW'%round(Q2,2))"
   ]
  },
  {
   "cell_type": "markdown",
   "metadata": {},
   "source": [
    "$$ W = Q_1 + Q_2 $$"
   ]
  },
  {
   "cell_type": "code",
   "execution_count": 3,
   "metadata": {},
   "outputs": [
    {
     "name": "stdout",
     "output_type": "stream",
     "text": [
      "W = 16.62 kW\n"
     ]
    }
   ],
   "source": [
    "W = Q1 + Q2\n",
    "print('W = %s kW'%round(W,2))"
   ]
  },
  {
   "cell_type": "code",
   "execution_count": 5,
   "metadata": {},
   "outputs": [
    {
     "name": "stdout",
     "output_type": "stream",
     "text": [
      "DS1 = 0.0525 kW/K\n",
      "DS2 = -0.0725 kW/K\n",
      "DSu = -0.02 kW/K\n"
     ]
    }
   ],
   "source": [
    "DS1 = Q1/T1\n",
    "DS2 = Q2/T2\n",
    "DSu = DS1 + DS2\n",
    "print('DS1 = %s kW/K'%round(DS1,5))\n",
    "print('DS2 = %s kW/K'%round(DS2,5))\n",
    "print('DSu = %s kW/K'%round(DSu,5))"
   ]
  },
  {
   "cell_type": "code",
   "execution_count": 7,
   "metadata": {},
   "outputs": [
    {
     "name": "stdout",
     "output_type": "stream",
     "text": [
      "Qu1 = 26.25 kJ\n",
      "Qu2 = -3.625 kJ\n"
     ]
    }
   ],
   "source": [
    "T_0 = 300 # K\n",
    "Qu1 = Q1 - T_0*DS1\n",
    "Qu2 = Q2 - T_0*DS2\n",
    "print('Qu1 = %s kJ'%Qu1)\n",
    "print('Qu2 = %s kJ'%Qu2)"
   ]
  },
  {
   "cell_type": "code",
   "execution_count": 8,
   "metadata": {},
   "outputs": [],
   "source": [
    "%reset -s -f"
   ]
  },
  {
   "cell_type": "markdown",
   "metadata": {},
   "source": [
    "## Ejercicio 49\n",
    "Un cuerpo se enfría mediante una máquina frigorífica\n",
    "![49.png](img/49.png)\n",
    "\n",
    "1. $Q_1$, $W$, $Q_2$\n",
    "2. $\\Delta S_u$\n",
    "3. $Q_{u1}$, $Q_{u2}$\n",
    "\n",
    "$$ \\Delta S = \\int_{Ti}^{Tf} \\frac{\\delta Q}{T} = \\int_{Ti}^{Tf} c \\, \\frac{dt}{T} $$\n",
    "\n",
    "$$\\Rightarrow \\quad \\Delta S = c \\, (\\ln T_f - \\ln T_i) $$"
   ]
  },
  {
   "cell_type": "code",
   "execution_count": 9,
   "metadata": {},
   "outputs": [],
   "source": [
    "import math as m"
   ]
  },
  {
   "cell_type": "code",
   "execution_count": 10,
   "metadata": {},
   "outputs": [
    {
     "name": "stdout",
     "output_type": "stream",
     "text": [
      "DS2 = 0.01413919 kW/K\n"
     ]
    }
   ],
   "source": [
    "c = 150 # kg/K\n",
    "Ti = 27 + 273.15 # K\n",
    "Tf = 0 + 273.15 # K\n",
    "DS2 = -c*(m.log(Tf) - m.log(Ti))\n",
    "print('DS2 = %s kW/K'%round(DS2/1000,8))"
   ]
  },
  {
   "cell_type": "markdown",
   "metadata": {},
   "source": [
    "$$ \\Delta S_2 = \\frac{Q_2}{T_2} \\quad \\rightarrow \\quad Q_2 = \\Delta S_2 T_2 $$ "
   ]
  },
  {
   "cell_type": "code",
   "execution_count": 11,
   "metadata": {},
   "outputs": [
    {
     "name": "stdout",
     "output_type": "stream",
     "text": [
      "Q2 = 3.8621 kJ\n"
     ]
    }
   ],
   "source": [
    "T2 = 0 + 273.15 # K\n",
    "\n",
    "Q2 = DS2*T2\n",
    "print('Q2 = %s kJ'%round(Q2/1000,4))"
   ]
  },
  {
   "cell_type": "markdown",
   "metadata": {},
   "source": [
    "$$ \\varepsilon_f = \\frac{Q_2}{W} \\quad \\rightarrow \\quad W = \\frac{ Q_2}{\\varepsilon_f} $$"
   ]
  },
  {
   "cell_type": "code",
   "execution_count": 9,
   "metadata": {},
   "outputs": [
    {
     "name": "stdout",
     "output_type": "stream",
     "text": [
      "W = 257.47 W\n"
     ]
    }
   ],
   "source": [
    "Ef = 15\n",
    "W = Q2/Ef\n",
    "print('W = %s W'%round(W,2))"
   ]
  },
  {
   "cell_type": "markdown",
   "metadata": {},
   "source": [
    "## Ejemplo 19.3\n",
    "Una hora antes de que empiecen a llegar los invitados nos damos cuenta de que hemos olvidado comprar cubitos de hielo para las bebidas. Rápidamente ponemos un litro de agua a 10°C en la bandeja de los cubitos y la colocamos en el congelador. ¿Tendremos a tiempo el hielo para los invitados? En la etiqueta de especificaciones del refrigerador consta que el aparato tiene un coeficiente de eficiencia de 5,5 y una potencia de 550W. Se estima que sólo el 10% de la potencia se emplea para fabricar los cubitos."
   ]
  },
  {
   "cell_type": "markdown",
   "metadata": {},
   "source": [
    "### Solución\n",
    "__Planteamiento del problema:__ El trabajo es igual a la potencia multiplicada por el tiempo. Como se nos da la potencia, hemos de hallar el trabajo para determinar el tiempo. El trabajo está relacionado con $Q_c$ por la ecuación:\n",
    "$$ \\eta = \\frac{Q_c}{W} $$\n",
    "Para obtener el valor de $Q_c$ hemos de calcular cuánto calor se ha de extraer del agua\n",
    "1. El tiempo está relacionado con la potencia disponible y el trabajo requerido\n",
    "$$ P = \\frac{W}{t} $$\n",
    "2. El trabajo está relacionado con el coeficiente de eficiencia y el calor\n",
    "$$ W = \\frac{Q_c}{\\eta} $$\n",
    "3. El calor $Q_c$ extraído del interior del refrigerador es igual al calor $Q_1$ extraído del agua para enfriarla más el calor $Q_2$ que se ha de extraer del agua para congelarla.\n",
    "4. El calor $Q_1$ necesario para enfriar 1L de agua (masa 1 kg) en 10°C\n",
    "$$ Q_1 = m c \\Delta T $$\n",
    "5. El calor $Q_2$ necesario para congelar el agua en cubitos de hielo es\n",
    "$$ Q_2 = m L_f $$\n",
    "6. La suma de estos calores nos da $Q_c$\n",
    "$$ Q_c = Q_1 + Q_2 $$\n",
    "7. Sustituyendo $Q_c$ en el paso 2 se determina el trabajo $W$\n",
    "$$ W = \\frac{Q_c}{\\eta} $$\n",
    "8. El tiempo $t$ se obtiene utilizando este valor del trabajo $W$ y el de la potencia disponible 55W"
   ]
  },
  {
   "cell_type": "code",
   "execution_count": 2,
   "metadata": {},
   "outputs": [
    {
     "name": "stdout",
     "output_type": "stream",
     "text": [
      "Q1 = 41.8 kJ\n"
     ]
    }
   ],
   "source": [
    "m = 1 # kg\n",
    "c = 4.18 # kJ/(kg·K)\n",
    "DT = 10 # K\n",
    "\n",
    "Q1 = m*c*DT\n",
    "print('Q1 = %s kJ'%round(Q1,2))"
   ]
  },
  {
   "cell_type": "code",
   "execution_count": 3,
   "metadata": {},
   "outputs": [
    {
     "name": "stdout",
     "output_type": "stream",
     "text": [
      "Q2 = 333.5 kJ\n"
     ]
    }
   ],
   "source": [
    "Lf = 333.5 # kJ/kg\n",
    "\n",
    "Q2 = m*Lf\n",
    "print('Q2 = %s kJ'%round(Q2,2))"
   ]
  },
  {
   "cell_type": "code",
   "execution_count": 4,
   "metadata": {},
   "outputs": [
    {
     "name": "stdout",
     "output_type": "stream",
     "text": [
      "Qc = 375.3 kJ\n"
     ]
    }
   ],
   "source": [
    "Qc = Q1 + Q2\n",
    "print('Qc = %s kJ'%round(Qc,2))"
   ]
  },
  {
   "cell_type": "code",
   "execution_count": 5,
   "metadata": {},
   "outputs": [
    {
     "name": "stdout",
     "output_type": "stream",
     "text": [
      "W = 68.24 kJ\n"
     ]
    }
   ],
   "source": [
    "eta = 5.5\n",
    "\n",
    "W = Qc/eta\n",
    "print('W = %s kJ'%round(W,2))"
   ]
  },
  {
   "cell_type": "code",
   "execution_count": 7,
   "metadata": {},
   "outputs": [
    {
     "name": "stdout",
     "output_type": "stream",
     "text": [
      "t = 1240.7 s = 20.7 min\n"
     ]
    }
   ],
   "source": [
    "P = 0.055 # kJ/s\n",
    "\n",
    "t = W/P\n",
    "print('t = %s s = %s min'%(round(t,1),round(t/60,1)))"
   ]
  },
  {
   "cell_type": "markdown",
   "metadata": {},
   "source": [
    "__Observación:__ Hay tiempo suficiente para fabricar cubitos de hielo."
   ]
  }
 ],
 "metadata": {
  "kernelspec": {
   "display_name": "Python 3",
   "language": "python",
   "name": "python3"
  },
  "language_info": {
   "codemirror_mode": {
    "name": "ipython",
    "version": 3
   },
   "file_extension": ".py",
   "mimetype": "text/x-python",
   "name": "python",
   "nbconvert_exporter": "python",
   "pygments_lexer": "ipython3",
   "version": "3.6.8"
  }
 },
 "nbformat": 4,
 "nbformat_minor": 2
}
