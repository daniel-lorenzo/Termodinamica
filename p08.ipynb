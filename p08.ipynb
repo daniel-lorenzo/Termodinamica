{
 "cells": [
  {
   "cell_type": "markdown",
   "metadata": {},
   "source": [
    "# Clase práctica 8 - Termodinámica\n",
    "__UNLZ - FI -- Fecha: 27/05/2019 -- Jupyter Notebook + Python 3__\n",
    "\n",
    "__Alumno: Lorenzo, Daniel Antonio__\n",
    "\n",
    "[<-Previous](https://nbviewer.jupyter.org/github/daniel-lorenzo/Termodinamica/blob/master/p07.ipynb)"
   ]
  },
  {
   "cell_type": "markdown",
   "metadata": {},
   "source": [
    "## Ejercicio 45\n",
    "Las máquinas térmicas indicadas funcionan entre fuentes a 1000K y 300K.\n",
    "1. $\\Delta S_u$\n",
    "2. $W$\n",
    "3. Es reversible?\n",
    "4. $\\eta_t$\n",
    "![45.png](img/45.png)\n",
    "\n",
    "|Máquina:  | Q1           | Q2        |\n",
    "|--|--------------|-----------|\n",
    "|1|  4000 kJ |  -1800 kJ |\n",
    "|2|  1500 kJ |  -3000 kJ |\n",
    "|3|  3000 kJ |  -900 kJ  |\n"
   ]
  },
  {
   "cell_type": "markdown",
   "metadata": {},
   "source": [
    "### Solución\n",
    "$$ W = Q_1 + Q_2 $$"
   ]
  },
  {
   "cell_type": "code",
   "execution_count": 32,
   "metadata": {},
   "outputs": [
    {
     "name": "stdout",
     "output_type": "stream",
     "text": [
      "W1 = 2200.0 kJ/s\n",
      "eta_1 = 0.55\n",
      "aux = 0.7\n",
      "Irreversible: aux > eta_1\n",
      "DeltaSu > 0\n"
     ]
    }
   ],
   "source": [
    "# Máquina 1\n",
    "Q1 = 4000e3 # J\n",
    "Q2 = -1800e3 # J\n",
    "\n",
    "W1 = Q1 + Q2\n",
    "print('W1 = %s kJ/s'%round(W1/1000,2))\n",
    "\n",
    "eta_1 = W1/Q1\n",
    "print('eta_1 = %s'%round(eta_1,3))\n",
    "\n",
    "T1 = 1000 # K\n",
    "T2 = 300 # K\n",
    "aux = (T1 - T2)/T1\n",
    "print('aux = %s'%round(aux,3))\n",
    "\n",
    "if aux > eta_1:\n",
    "    print('Irreversible: aux > eta_1')\n",
    "    print('DeltaSu > 0')\n",
    "else: \n",
    "    print('Reversible: aux = eta_1')"
   ]
  },
  {
   "cell_type": "markdown",
   "metadata": {},
   "source": [
    "$\\frac{T_1 - T_2}{T_1} > \\eta_t$, entonces es irreversible"
   ]
  },
  {
   "cell_type": "markdown",
   "metadata": {},
   "source": [
    "$\\Delta S_u > 0$ (proceso irreversible)"
   ]
  },
  {
   "cell_type": "code",
   "execution_count": 33,
   "metadata": {},
   "outputs": [
    {
     "name": "stdout",
     "output_type": "stream",
     "text": [
      "No es posible\n"
     ]
    }
   ],
   "source": [
    "# Máquina 2\n",
    "Q1 = 1500e3 # J\n",
    "Q2 = -3000e3 # J\n",
    "\n",
    "W1 = Q1 + Q2\n",
    "\n",
    "if W1 < 0:\n",
    "    print('No es posible')\n",
    "else:    \n",
    "    print('W1 = %s kJ/s'%round(W1/1000,2))\n",
    "    eta_1 = W1/Q1\n",
    "    print('eta_1 = %s'%round(eta_1,3))\n",
    "\n",
    "    T1 = 1000 # K\n",
    "    T2 = 300 # K\n",
    "    aux = (T1 - T2)/T1\n",
    "    print('aux = %s'%round(aux,3))\n",
    "\n",
    "    if aux > eta_1:\n",
    "        print('Irreversible: aux > eta_1')\n",
    "        print('DeltaSu > 0')\n",
    "    else: \n",
    "        print('Reversible: aux = eta_1')"
   ]
  },
  {
   "cell_type": "code",
   "execution_count": 34,
   "metadata": {},
   "outputs": [
    {
     "name": "stdout",
     "output_type": "stream",
     "text": [
      "W1 = 2100.0 kJ/s\n",
      "eta_1 = 0.7\n",
      "aux = 0.7\n",
      "Reversible: aux = eta_1\n"
     ]
    }
   ],
   "source": [
    "# Máquina 3\n",
    "Q1 = 3000e3 # J\n",
    "Q2 = -900e3 # J\n",
    "\n",
    "W1 = Q1 + Q2\n",
    "\n",
    "if W1 < 0:\n",
    "    print('No es posible')\n",
    "else:    \n",
    "    print('W1 = %s kJ/s'%round(W1/1000,2))\n",
    "    eta_1 = W1/Q1\n",
    "    print('eta_1 = %s'%round(eta_1,3))\n",
    "\n",
    "    T1 = 1000 # K\n",
    "    T2 = 300 # K\n",
    "    aux = (T1 - T2)/T1\n",
    "    print('aux = %s'%round(aux,3))\n",
    "\n",
    "    if aux > eta_1:\n",
    "        print('Irreversible: aux > eta_1')\n",
    "        print('DeltaSu > 0')\n",
    "    else: \n",
    "        print('Reversible: aux = eta_1')"
   ]
  },
  {
   "cell_type": "code",
   "execution_count": 31,
   "metadata": {},
   "outputs": [],
   "source": [
    "%reset -s -f"
   ]
  },
  {
   "cell_type": "markdown",
   "metadata": {},
   "source": [
    "## Ejercicio 46\n",
    "Las máquinas frigoríficas indicadas funcionan entre fuentes a 250 K y 300 K. Determinar:\n",
    "\n",
    "a) $\\Delta S_u$\n",
    "\n",
    "b) W\n",
    "\n",
    "c) es reversible?\n",
    "\n",
    "d) es posible?\n",
    "\n",
    "e) $\\varepsilon_f$"
   ]
  },
  {
   "cell_type": "code",
   "execution_count": null,
   "metadata": {},
   "outputs": [],
   "source": []
  }
 ],
 "metadata": {
  "kernelspec": {
   "display_name": "Python 3",
   "language": "python",
   "name": "python3"
  },
  "language_info": {
   "codemirror_mode": {
    "name": "ipython",
    "version": 3
   },
   "file_extension": ".py",
   "mimetype": "text/x-python",
   "name": "python",
   "nbconvert_exporter": "python",
   "pygments_lexer": "ipython3",
   "version": "3.7.3"
  }
 },
 "nbformat": 4,
 "nbformat_minor": 2
}
