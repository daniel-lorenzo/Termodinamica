{
 "cells": [
  {
   "cell_type": "markdown",
   "metadata": {},
   "source": [
    "## Ejemplo 6.1\n",
    "Un dispositivo cilindro pistón inicialmente agua líquida saturada a 100°C. El sistema sufre un proceso en el que el pistón se desliza libremente en el cilindro y el agua alcanza su estado correspondiente de vapor saturado. El cambio de estado se produce por un proceso de calentamiento reversible a presión y temperatura constantes. Determínese el trabajo y el calor intercambiables por unidad de masa, ambos en kJ/kg."
   ]
  },
  {
   "cell_type": "markdown",
   "metadata": {},
   "source": [
    "### Solución\n",
    "__Conocido:__ El agua contenida en un dispositivo cilindro-pistón sufre un proceso intercambiable reversible a 100°C, pasando de líquido saturado a vapor saturado.\n",
    "\n",
    "__Se debe hallar:__ El calor y trabajo intercambiados por unidad de masa.\n",
    "\n",
    "__Datos conocidos y diagramas:__\n",
    "![e6.1.png](img/e6.1.png)\n",
    "\n",
    "__Consideraciones e hipótesis:__\n",
    "1. El agua contenida en el dispositivo cilindro-pistón es un sistema cerrado.\n",
    "2. El proceso es internamente reversible.\n",
    "3. La temperatura y presión son constantes durante el proceso.\n",
    "4. No hay cambio de energía cinética y potencial entre los estados inicial y final.\n",
    "\n",
    "__Analisis:__ A presión constante el trabajo es\n",
    "$$ \\frac{W}{m} = \\int_f^g p \\; dv = p (v_g - v_f) $$"
   ]
  },
  {
   "cell_type": "code",
   "execution_count": 1,
   "metadata": {},
   "outputs": [],
   "source": [
    "# importamos la biblioteca CoolProp\n",
    "from CoolProp.CoolProp import PropsSI"
   ]
  },
  {
   "cell_type": "code",
   "execution_count": 8,
   "metadata": {},
   "outputs": [
    {
     "name": "stdout",
     "output_type": "stream",
     "text": [
      "v_g = 1.67176613 m^3/kg\n",
      "v_f = 0.00104346 m^3/kg\n"
     ]
    }
   ],
   "source": [
    "T = 100 + 273.15 # K\n",
    "\n",
    "v_g = 1/PropsSI('D','T',T,'Q',1,'Water') # m^3/kg\n",
    "v_f = 1/PropsSI('D','T',T,'Q',0,'Water') # m^3/kg\n",
    "print('v_g = %s m^3/kg'%round(v_g,8))\n",
    "print('v_f = %s m^3/kg'%round(v_f,8))"
   ]
  },
  {
   "cell_type": "code",
   "execution_count": 20,
   "metadata": {},
   "outputs": [
    {
     "name": "stdout",
     "output_type": "stream",
     "text": [
      "w = W/m = 169411.28 J/kg = 169.41 kJ/kg\n"
     ]
    }
   ],
   "source": [
    "P = 1.014e5 # Pa\n",
    "\n",
    "w = P*(v_g - v_f) # kJ/kg\n",
    "print('w = W/m = %s J/kg = %s kJ/kg'%(round(w,2),round(w/1000,2)))"
   ]
  },
  {
   "cell_type": "markdown",
   "metadata": {},
   "source": [
    "Como el proceso es internamente reversible y a temperatura constante\n",
    "\n",
    "$$ Q = \\int_f^g T \\; dS = m \\int_f^g T \\; dS $$\n",
    "$$ \\frac{Q}{m} = T (s_g - s_f ) $$"
   ]
  },
  {
   "cell_type": "code",
   "execution_count": 23,
   "metadata": {},
   "outputs": [
    {
     "name": "stdout",
     "output_type": "stream",
     "text": [
      "s_g = 7.35412 kJ/kg·K\n",
      "s_f = 1.30721 kJ/kg·K\n"
     ]
    }
   ],
   "source": [
    "s_g = PropsSI('S','T',T,'Q',1,'Water') / 1000 # kJ/kg·K\n",
    "s_f = PropsSI('S','T',T,'Q',0,'Water') / 1000 # kJ/kg·K\n",
    "print('s_g = %s kJ/kg·K'%round(s_g,5))\n",
    "print('s_f = %s kJ/kg·K'%round(s_f,5))"
   ]
  },
  {
   "cell_type": "code",
   "execution_count": 24,
   "metadata": {},
   "outputs": [
    {
     "name": "stdout",
     "output_type": "stream",
     "text": [
      "q = Q/m = 2256.4 kJ/kg\n"
     ]
    }
   ],
   "source": [
    "q = T*(s_g - s_f)\n",
    "\n",
    "print('q = Q/m = %s kJ/kg'%round(q,2))"
   ]
  },
  {
   "cell_type": "markdown",
   "metadata": {},
   "source": [
    "Como se muestra en la figura, el trabajo y el calor pueden representarse como áreas en los diagramas p-v y T-s, respectivamente.\n",
    "\n",
    "El calor absorbido podría determinarse alternativamente a partir del balance de energía para la unidad de masa\n",
    "\n",
    "$$ u_g - u_f = \\frac{Q}{m} - \\frac{W}{m} $$\n",
    "\n",
    "Sustituyendo $W/m = p (v_g - v_f)$ y resolviendo\n",
    "\n",
    "$$ \\frac{Q}{m} = (u_g - u_f) + p (v_g - v_f) $$\n",
    "\n",
    "$$ = (u_g + p v_g) - (u_f + p v_f) $$\n",
    "\n",
    "$$ = h_g - h_f $$"
   ]
  },
  {
   "cell_type": "code",
   "execution_count": 25,
   "metadata": {},
   "outputs": [
    {
     "name": "stdout",
     "output_type": "stream",
     "text": [
      "h_g = 2675.57 kJ/kg·K\n",
      "h_f = 419.17 kJ/kg·K\n"
     ]
    }
   ],
   "source": [
    "h_g = PropsSI('H','T',T,'Q',1,'Water') / 1000 # kJ/kg·K\n",
    "h_f = PropsSI('H','T',T,'Q',0,'Water') / 1000 # kJ/kg·K\n",
    "print('h_g = %s kJ/kg·K'%round(h_g,2))\n",
    "print('h_f = %s kJ/kg·K'%round(h_f,2))"
   ]
  },
  {
   "cell_type": "code",
   "execution_count": 27,
   "metadata": {},
   "outputs": [
    {
     "name": "stdout",
     "output_type": "stream",
     "text": [
      "Delta_h = 2256.4 kJ/kg\n"
     ]
    }
   ],
   "source": [
    "Delta_h = h_g - h_f\n",
    "print('Delta_h = %s kJ/kg'%round(Delta_h,2))"
   ]
  },
  {
   "cell_type": "markdown",
   "metadata": {},
   "source": [
    "El mismo valor obtenido para $Q/m$ en la solución anterior"
   ]
  },
  {
   "cell_type": "code",
   "execution_count": 29,
   "metadata": {},
   "outputs": [],
   "source": [
    "%reset -s -f"
   ]
  },
  {
   "cell_type": "markdown",
   "metadata": {},
   "source": [
    "## Ejemplo 6.2\n",
    "Un dispositivo cilindro-pistón contiene inicialmente agua líquida saturada a 100°C. El sistema sufre un proceso en el que el pistón desliza libremente en el cilindro y el agua alcanza su estado correspondiente de vapor saturado. No existe transferencia de calor con el entorno. Si el cambio de estado se produce a causa de la acción de un agitador de paletas, determínese el trabajo por unidad de masa, en kj/kg, y la entropía generada por unidad de masa, en kJ/kg·K.\n"
   ]
  },
  {
   "cell_type": "markdown",
   "metadata": {},
   "source": [
    "### Solución\n",
    "__Conocido:__ El agua contenida en un dispositivo cilindro-pistón sufre un proceso adiabático a 100°C pasando de líquido saturado a vapor saturado. Durante el proceso, el pistón se desliza libremente, y el agua se remueve enérgicamente mediante un agitador de paletas.\n",
    "\n",
    "__Se debe hallar:__\n",
    " El trabajo neto consumido por unidad de masa y la entropía generada por unidad de masa.\n",
    "\n",
    "__Datos conocidos y diagramas:__\n",
    "![e6.2.png](img/e6.2.png)\n",
    "\n",
    "__Consideraciones e hipótesis:__\n",
    "1. El agua contenida en el dispositivo cilindro-pistón constituye el sistema cerrado a analizar.\n",
    "2. No existe intercambio de calor con el entorno.\n",
    "3. El sistema se encuentra en estados de equilibrio al comienzo y al final del proceso. No existen variaciones de energía cinética o potencial entre ambos estados.\n",
    "\n",
    "__Análisis:__ A medida que el volumen del sistema aumenta durante el proceso, hay un intercambio de energía mediante trabajo desde el sistema asociado a la expansión, así como un intercambio de energía mediante trabajo al sistema vía el agitador de paletas. El trabajo neto puede evaluarse a partir del balance de energía que, de acuerdo con las hipótesis 2 y 3, se reduce a\n",
    "\n",
    "$$ \\Delta U + \\Delta E_c + \\Delta E_p = Q - W \\quad ; \\quad \n",
    "\\left\\{\n",
    "\\begin{array}{l}\n",
    "\\Delta E_c = 0 \\\\\n",
    "\\Delta E_p = 0 \n",
    "\\end{array}\n",
    "\\right.\n",
    "$$\n",
    "Por unidad de masa, el balance de energía adpota la forma\n",
    "\n",
    "$$ \\frac{W}{m} = - (u_g - u_f) $$\n",
    "\n",
    "Tomando los valores de la energía interna específica a 100°C"
   ]
  },
  {
   "cell_type": "code",
   "execution_count": 30,
   "metadata": {},
   "outputs": [],
   "source": [
    "from CoolProp.CoolProp import PropsSI"
   ]
  },
  {
   "cell_type": "code",
   "execution_count": 31,
   "metadata": {},
   "outputs": [
    {
     "name": "stdout",
     "output_type": "stream",
     "text": [
      "u_g = 2506.02 kJ/kg\n",
      "u_f = 419.06 kJ/kg\n"
     ]
    }
   ],
   "source": [
    "T = 100 + 273.15 # K\n",
    "u_g = PropsSI('U','T',T,'Q',1,'Water') / 1000\n",
    "u_f = PropsSI('U','T',T,'Q',0,'Water') / 1000\n",
    "\n",
    "print('u_g = %s kJ/kg'%round(u_g,2))\n",
    "print('u_f = %s kJ/kg'%round(u_f,2))"
   ]
  },
  {
   "cell_type": "code",
   "execution_count": 32,
   "metadata": {},
   "outputs": [
    {
     "name": "stdout",
     "output_type": "stream",
     "text": [
      "w = W/m = -2086.96 kJ/kg\n"
     ]
    }
   ],
   "source": [
    "w = -(u_g - u_f)\n",
    "print('w = W/m = %s kJ/kg'%round(w,2))"
   ]
  },
  {
   "cell_type": "markdown",
   "metadata": {},
   "source": [
    "El sino negativo indica que el trabajo de agitación es de mayor magnitud que el trabajo realizado por el agua al expandirse.\n",
    "\n",
    "La cantidad de entropía generada puede calcularse aplicando el balance de entropía. Como no hay intercambio de calor, el término correspondiente a la transferencia de entropía desaparece\n",
    "\n",
    "$$ \\Delta S = \\int_1^2 \\left( \\frac{\\delta Q}{T} \\right)_f + \\sigma $$\n",
    "\n",
    "Tomando como base el cálculo la unidad de masa, resulta:\n",
    "\n",
    "$$ \\frac{\\sigma}{m} = s_g - s_f $$\n",
    "\n",
    "Con los valores de la entropía específica a 100°C"
   ]
  },
  {
   "cell_type": "code",
   "execution_count": 35,
   "metadata": {},
   "outputs": [
    {
     "name": "stdout",
     "output_type": "stream",
     "text": [
      "s_g = 7.35412 kJ/kg·K\n",
      "s_f = 1.30721 kJ/kg·K\n"
     ]
    }
   ],
   "source": [
    "s_g = PropsSI('S','T',T,'Q',1,'Water') / 1000\n",
    "s_f = PropsSI('S','T',T,'Q',0,'Water') / 1000\n",
    "\n",
    "print('s_g = %s kJ/kg·K'%round(s_g,5))\n",
    "print('s_f = %s kJ/kg·K'%round(s_f,5))"
   ]
  },
  {
   "cell_type": "code",
   "execution_count": 37,
   "metadata": {},
   "outputs": [
    {
     "name": "stdout",
     "output_type": "stream",
     "text": [
      "sigma/m = 6.0469 kJ/kg·K\n"
     ]
    }
   ],
   "source": [
    "print('sigma/m = %s kJ/kg·K'%round(s_g - s_f,4))"
   ]
  },
  {
   "cell_type": "markdown",
   "metadata": {},
   "source": [
    "1. Aun cuando los estados inicial y final son estados de equilibrio a la misma temperatura y presión, esto no implica necesariamente que la presión y temperatura del sistema sean uniformes en los estados intermedios ni que estas variables mantengan un valor constante durante el proceso. En consecuencia, no existe una \"trayectoria\" bien definida para éste, lo que se pone de relieve utilizando líneas discontinuas para representar el proceso en los diagramas p-v y T-s. Las líneas discontinuas indican únicamente que el proceso ha tenido lugar, y no debe asociarse ninguna \"superficie\" con ellas. En particular, nótese que el proceso es adiabático, por lo cual el “área\" bajo la línea discontinua en el diagrama T-s no puede significar calor transferido. De igual forma, el trabajo no puede asociarse al área en el diagrama p-v.\n",
    "2. El cambio de estado es el mismo en este ejemplo que en el Ejemplo 6.1. Sin embargo, en el Ejemplo 6.1 el cambio de estado se produce a causa de la absorción de calor mientras el sistema desarrolla un proceso internamente reversible. De acuerdo con esto, el valor de la entropía generada en el proceso del Ejemplo 6.2 es cero. Aquí se resentan irreversibilidades durante el proceso y por ello la entropía generada toma un valor positivo. Puede concluirse, por tanto, que resulta posible obtener distintos valores para la entropía generada para dos procesos con los mismos estados inicial y final. Esto refuerza la idea de que la entropía generada no es una propiedad.\n"
   ]
  },
  {
   "cell_type": "code",
   "execution_count": 38,
   "metadata": {},
   "outputs": [],
   "source": [
    "%reset -s -f"
   ]
  },
  {
   "cell_type": "markdown",
   "metadata": {},
   "source": [
    "## Ejemplo 6.6\n",
    "Un flujo de vapor de agua entra a una turbina con una presión de 30 bar, una temperatura de 400°C y una velocidad de 160 m/s. El vapor sale saturado a 100°C y con una velocidad de 100 m/s. En situación estacionaria, la turbina produce un trabajo igual a 540 kJ por kilogramo de vapor que la atraviesa. La transferencia de calor entre la turbina y su entorno tiene lugar a una temperatura media en la superficie externa de 350 K. Determínese la entropía generada por kilogramo de vapor que atraviesa la turbina, en kJ/kg·K. Despréciese la variación de energía potencial entre la entrada y la salida."
   ]
  },
  {
   "cell_type": "markdown",
   "metadata": {},
   "source": [
    "### Solución\n",
    "__Conocido:__ El vapor se expande a través de una turbina en situación estacionaria, siendo conocidos sus estados a la en trada y a la salida.\n",
    "\n",
    "__Se debe hallar:__\n",
    " La entropía generada por kilogramo de vapor.\n",
    "\n",
    "Datos conocidos y diagramas:\n",
    "![e6.6.png](img/e6.6.png)\n",
    "\n",
    "__Análisis:__ Para determinar la entropía generada por unidad de flujo de masa a través de la turbina, comenzaremos planteando los balances de materia y entropía para volúmenes de control que operan en estado estacionario con una solaventrada y una sola salida:\n",
    "\n",
    "$$ 0 = \\dot{m}_1 - \\dot{m}_2 $$\n",
    "\n",
    "$$ 0 = \\sum_j \\frac{\\dot{Q}_j}{T_j} + \\dot{m}_1 s_1 - \\dot{m}_2 s_2 + \\sigma_{vc} $$\n",
    "\n",
    "Com o la transferencia de calor ocurre sólo a $T_f = 350 \\, K$, el primer término del segundo miembro del balance de entropía quedará reducido a $\\dot{Q}_{vc}/T_f$. Combinando ambos balances, resulta\n",
    "\n",
    "$$ 0 = \\frac{\\dot{Q}_{vc}}{T_f} + \\dot{m} (s_1 - s_2) + \\sigma_{vc} $$\n",
    "\n",
    "donde $\\dot{m}$ es el flujo másico. Despejando $\\dot{\\sigma}_{vc} / \\dot{m}$\n",
    "\n",
    "$$ \\frac{\\dot{\\sigma}_{vc}}{\\dot{m}} = - \\frac{\\dot{Q}_{vc}/\\dot{m}}{T_f} + (s_2 - s_1) $$\n",
    "\n",
    "La transferencia de calor por unidad de tiempo, $\\dot{Q}_{vc}/\\dot{m}$, requerida por esta expresión se calcula a continuación.\n",
    "\n",
    "A partir de las expresiones de los balances de materia y energía puede obtenerse que\n",
    "\n",
    "$$ \\frac{\\dot{Q}_{vc}}{\\dot{m}} = \\frac{\\dot{W}_{vc}}{\\dot{m}} + (h_2 - h_1) + \\left( \\frac{C^2_2 - C^2_1}{2} \\right) $$"
   ]
  },
  {
   "cell_type": "code",
   "execution_count": 50,
   "metadata": {},
   "outputs": [],
   "source": [
    "from CoolProp.CoolProp import PropsSI"
   ]
  },
  {
   "cell_type": "code",
   "execution_count": 53,
   "metadata": {},
   "outputs": [
    {
     "name": "stdout",
     "output_type": "stream",
     "text": [
      "h1 = 3231.69 kJ/kg\n",
      "h2 = 2675.57 kJ/kg\n"
     ]
    }
   ],
   "source": [
    "T1 = 400 + 273.15 # K\n",
    "P1 = 30e5 # Pa\n",
    "T2 = 100 + 273.15 # K\n",
    "\n",
    "h1 = PropsSI('H','T',T1,'P',P1,'Water')\n",
    "h2 = PropsSI('H','T',T2,'Q',1,'Water')\n",
    "print('h1 = %s kJ/kg'%round(h1/1000,2))\n",
    "print('h2 = %s kJ/kg'%round(h2/1000,2))"
   ]
  },
  {
   "cell_type": "code",
   "execution_count": 59,
   "metadata": {},
   "outputs": [
    {
     "name": "stdout",
     "output_type": "stream",
     "text": [
      "q_vc = -23.92 kJ/kg\n"
     ]
    }
   ],
   "source": [
    "w_vc = 540 # kJ/kg\n",
    "C2 = 100 # m/s\n",
    "C1 = 160 # m/s\n",
    "\n",
    "q_vc = w_vc + (h2 - h1)*(1/1000) + (C2**2 - C1**2)/2 * (1/1000)\n",
    "print('q_vc = %s kJ/kg'%round(q_vc,2))"
   ]
  },
  {
   "cell_type": "code",
   "execution_count": 63,
   "metadata": {},
   "outputs": [
    {
     "name": "stdout",
     "output_type": "stream",
     "text": [
      "s1 = 6.92345 kJ/kg·K\n",
      "s2 = 7.35412 kJ/kg·K\n"
     ]
    }
   ],
   "source": [
    "s1 = PropsSI('S','T',T1,'P',P1,'Water')\n",
    "s2 = PropsSI('S','T',T2,'Q',1,'Water')\n",
    "\n",
    "print('s1 = %s kJ/kg·K'%round(s1/1000,5))\n",
    "print('s2 = %s kJ/kg·K'%round(s2/1000,5))"
   ]
  },
  {
   "cell_type": "markdown",
   "metadata": {},
   "source": [
    "Sustituyendo estos valores en la expresión obtenida para la generación de entropía\n",
    "\n",
    "$$ \\frac{\\dot{\\sigma}_{vc}}{\\dot{m}} = - \\frac{\\dot{Q}_{vc}/\\dot{m}}{T_f} + (s_2 - s_1) $$"
   ]
  },
  {
   "cell_type": "code",
   "execution_count": 71,
   "metadata": {},
   "outputs": [
    {
     "name": "stdout",
     "output_type": "stream",
     "text": [
      "sigma_vc/m = 0.499 kJ/kg·K\n"
     ]
    }
   ],
   "source": [
    "T_f = 350 # K\n",
    "print('sigma_vc/m = %s kJ/kg·K'%round(- q_vc/T_f + (s2 - s1)*(1/1000),5) )"
   ]
  },
  {
   "cell_type": "code",
   "execution_count": 1,
   "metadata": {},
   "outputs": [],
   "source": [
    "%reset -s -f"
   ]
  },
  {
   "cell_type": "markdown",
   "metadata": {},
   "source": [
    "## Ejemplo 6.7\n",
    "Un inventor asegura haber desarrollado un invento que, sin consumo de energía transferida por flujo de trabajo o calor, es capaz de producir una corriente de aire frío y otra de aire caliente a partir de una única corriente a temperatura intermedia. El inventor proporciona los resultados de un test en régimen estacionario que indican que, cuando entra aire a una temperatura de 21,1°C y una presión de 5,1 atm, las corrientes de salida tienen temperaturas de -17,8°C y 79,4°C, ambas con una presión de 1 atm. La masa fría supone el 60 % del total que entra en el dispositivo. Evalúe la aseveración del inventor, empleando el modelo de gas ideal para el aire y despreciando variaciones en la energía cinética o potencial de los flujos de entrada o salida."
   ]
  },
  {
   "cell_type": "markdown",
   "metadata": {},
   "source": [
    "### Solución\n",
    "__Conocido:__ Se suministran datos de un dispositivo que en régimen estacionario produce corrientes de aire frío y caliente a partir de una única corriente a temperatura intermedia sin aporte de trabajo o calor. \n",
    "\n",
    "__Se debe hallar:__ Si el dispositivo puede funcionar como se asegura.\n",
    "\n",
    "Datos conocidos y diagramas:\n",
    "![e6.7.png](img/e6.7.png)"
   ]
  },
  {
   "cell_type": "markdown",
   "metadata": {},
   "source": [
    "### Solución\n",
    "1. El volumen de control del diagrama adjunto se encuentra en estado estacionario.\n",
    "2. Para el volumen de control, $\\dot{W}_{vc} = 0$ y $\\dot{Q}_{vc} = 0$\n",
    "3. Las variaciones en los valores de energía cinética y potencial a la entrada y a la salida pueden despreciarse.\n",
    "4. El aire puede modelarse como gas ideal con $c_p = 1,005 \\, kJ/kg·K$ constante.\n",
    "\n",
    "__Análisis:__ Si el disposotivo funciona como se pretende, cumplirá las leyes de conservación de la masa y de la energía. También debe cumplirse, el segundo principio y, en particular, la generación de entropía no puede ser negativa. De acuerdo con esto, consideraremos los distintos balances, uno tras otro.\n",
    "\n",
    "Con las consideraciones 1-3, los balances de masa y de energía se reducen, respectivamente, a\n",
    "\n",
    "$$ \\dot{m}_1 = \\dot{m}_2 + \\dot{m}_3 $$\n",
    "\n",
    "$$ 0 = \\dot{m}_1 h_1 - \\dot{m}_2 h_2 - \\dot{m}_3 h_3 $$\n",
    "\n",
    "Puesto que $\\dot{m}_3 = 0,6 \\dot{m}_1$ se deduce del balance de masa que $\\dot{m}_2 = 0,4 \\, \\dot{m}_1 $. Combinando los balances de masa y energía y calculando las variaciones en la entalpia específica mediante el calor específico constante cp comprobamos que el balance de energía también se cumple. Es decir\n",
    "\n",
    "$$ 0 = (\\dot{m}_2 + \\dot{m}_3) h_1 - \\dot{m}_2 h_2 - \\dot{m}_3 h_3 $$\n",
    "\n",
    "$$  = \\dot{m}_2 (h_1 - h_2) + \\dot{m}_3 (h_1 - h_3 ) $$\n",
    "\n",
    "$$  = 0,4 \\, \\dot{m}_1 c_p (T_1 - T_2) + 0,6 \\, \\dot{m}_1 c_p (T_1 - T_3) $$\n",
    "\n",
    "$$  = 0,4 \\, (T_1 - T_2) + 0,6 \\, (T_1 - T_3) $$"
   ]
  },
  {
   "cell_type": "code",
   "execution_count": 11,
   "metadata": {},
   "outputs": [
    {
     "data": {
      "text/plain": [
       "0.0"
      ]
     },
     "execution_count": 11,
     "metadata": {},
     "output_type": "execute_result"
    }
   ],
   "source": [
    "T1 = 21.1 + 273.15 # K\n",
    "T2 = 79.4 + 273.15 # K\n",
    "T3 = -17.8 + 273.15 # K\n",
    "cp = 1.005 # kJ/kg·K\n",
    "\n",
    "\n",
    "round(0.4*(T1 - T2) + 0.6*(T1 - T3),1) # redondeado da cero"
   ]
  },
  {
   "cell_type": "markdown",
   "metadata": {},
   "source": [
    "Puesto que no hay flujo de calor, el balance de entropía será:\n",
    "\n",
    "$$ 0 = \\sum_j \\frac{\\dot{Q}_j}{T_j} + \\dot{m}_1 s_1 - \\dot{m}_2 s_2 - \\dot{m}_3 s_3 + \\dot{\\sigma}_{vc} $$\n",
    "\n",
    "Combinando los balances de masa y entropía\n",
    "\n",
    "$$ 0 = (\\dot{m}_2 + \\dot{m}_3) s_1 - \\dot{m}_2 s_2 - \\dot{m}_3 s_3 + \\dot{\\sigma}_{vc} $$\n",
    "\n",
    "$$ = \\dot{m}_2 (s_1 - s_2) + \\dot{m}_3 (s_1 - s_3) + \\dot{\\sigma_{vc}} $$\n",
    "\n",
    "$$ = 0,4 \\dot{m}_1 (s_1 - s_2) + 0,6 \\dot{m}_1 (s_2 - s_3) + \\dot{\\sigma}_{vc}  $$\n",
    "\n",
    "Despejando $\\dot{\\sigma}_{vc}/\\dot{m}_1$, y utilizando la ecuación\n",
    "\n",
    "$$ \\frac{\\dot{\\sigma}_{vc}}{\\dot{m}_1} = 0,4 \\left[ c_p \\ln \\frac{T_2}{T_1} - R \\ln \\frac{p_2}{p_1} \\right] + 0,6 \\left[ c_p  \\ln \\frac{T_3}{T_1} - R \\ln \\frac{p_3}{p_1}  \\right] $$"
   ]
  },
  {
   "cell_type": "code",
   "execution_count": 6,
   "metadata": {},
   "outputs": [],
   "source": [
    "import math"
   ]
  },
  {
   "cell_type": "code",
   "execution_count": 13,
   "metadata": {},
   "outputs": [
    {
     "name": "stdout",
     "output_type": "stream",
     "text": [
      "sigma_vc/m = 0.4548 kJ/kg·K\n"
     ]
    }
   ],
   "source": [
    "p1 = 5.1 # atm\n",
    "p2 = 1 # atm\n",
    "p3 = 1 # atm\n",
    "R = 8.31451*(1/28.97) # kJ/kg·K \n",
    "\n",
    "sigma = 0.4*(cp*math.log(T2/T1) - R*math.log(p2/p1)) + 0.6*(cp*math.log(T3/T1) - R*math.log(p3/p1))\n",
    "\n",
    "print('sigma_vc/m = %s kJ/kg·K'%round(sigma,4))"
   ]
  },
  {
   "cell_type": "markdown",
   "metadata": {},
   "source": [
    "En consecuencia, también se cumple el segundo principio. Por tanto, y de acuerdo con esta evaluación, la afirmación del inventor no viola los principios termodinámicos.\n",
    "\n",
    "Si la generación de entropía por unidad de tiempo hubiera sido negativa o _cero_, la afirmación no hubiera sido válida. Un valor negativo es imposible, por el segundo principio, y un valor cero implicaría la inexistencia de irreversibilidades en la operación.\n",
    "\n",
    "El dispositivo propuesto existe. Se conoce como _tubo vórtex_ y se utiliza en la industria para _enfriamiento localizado_."
   ]
  },
  {
   "cell_type": "code",
   "execution_count": 14,
   "metadata": {},
   "outputs": [],
   "source": [
    "%reset -s -f"
   ]
  },
  {
   "cell_type": "markdown",
   "metadata": {},
   "source": [
    "## Ejemplo 6.11\n",
    "Una turbina funciona en estado estacionario, siendo las condiciones a la entrada de $p_1 = 5 \\, bar$ y $T_1 = 320^\\circ \\mathrm{C}$. El vapor abandona la turbina a una presión de 1 bar. No existe una transferencia de calor significativa entre la turbina y sus alrededores. Las variaciones de energía cinética y potencial entre la entrada y la salida son despreciables. Si el rendimiento isoentrópico de la turbina es del 75%, calculése el trabajo desarrollado por unidad de masa del vapor que fluye a través de la turbina, en kJ/kg."
   ]
  },
  {
   "cell_type": "markdown",
   "metadata": {},
   "source": [
    "### Solución\n",
    "__Conocido:__ El vapor se expande a través de una turbina que opera en estado estacionario entre unas condiciones especificadas de entrada y una presión de salida también especificada. El rendimiento de la turbina es conocido.\n",
    "\n",
    "__Se debe hallar:__ El trabajo desarrollado por unidad de masa del vapor que fluye a través de la turbina.\n",
    "![e6.11.png](img/e6.11.png)\n",
    "\n",
    "__Consideraciones e hipótesis:__\n",
    "1. El volumen de control mostrado en la figura opera en situación estacionaria.\n",
    "2. La expansión es adiabática y las variaciones de energía cinética y potencial entre la entrada y la salida son despreciables.\n",
    "\n",
    "__Análisis:__ El trabajo desarrollado puede determinarse a partir de la ecuación para el rendimiento isoentrópico de la turbina. Esta ecuación convenientemente reordenada nos da\n",
    "\n",
    "$$ \\frac{\\dot{W}_{vc}}{\\dot{m}} = \\eta_t \\left( \\frac{\\dot{W}_{vc}}{\\dot{m}} \\right)_s = \\eta_t (h_1 - h_{2s} ) $$"
   ]
  },
  {
   "cell_type": "code",
   "execution_count": 1,
   "metadata": {},
   "outputs": [],
   "source": [
    "from CoolProp.CoolProp import PropsSI"
   ]
  },
  {
   "cell_type": "code",
   "execution_count": 7,
   "metadata": {},
   "outputs": [
    {
     "name": "stdout",
     "output_type": "stream",
     "text": [
      "h1 = 3105.91 kJ/kg\n",
      "s1 = 7.53234 kJ/kg·K\n"
     ]
    }
   ],
   "source": [
    "T1 = 320 + 273.15 # K\n",
    "p1 = 5e5 # Pa\n",
    "\n",
    "h1 = PropsSI('H','T',T1,'P',p1,'Water') # J/kg\n",
    "s1 = PropsSI('S','T',T1,'P',p1,'Water') # J/kg\n",
    "print('h1 = %s kJ/kg'%round(h1/1000,2))\n",
    "print('s1 = %s kJ/kg·K'%round(s1/1000,5))"
   ]
  },
  {
   "cell_type": "code",
   "execution_count": 8,
   "metadata": {},
   "outputs": [
    {
     "name": "stdout",
     "output_type": "stream",
     "text": [
      "h2s = 2742.44 kJ/kg\n"
     ]
    }
   ],
   "source": [
    "# El estado de salida para la expansión isoentrópica viene fijado por p2 = 1 bar y s2s = s1\n",
    "s2s = s1\n",
    "p2 = 1e5 # Pa\n",
    "\n",
    "h2s = PropsSI('H','P',p2,'S',s2s,'Water')\n",
    "print('h2s = %s kJ/kg'%round(h2s/1000,2))"
   ]
  },
  {
   "cell_type": "code",
   "execution_count": 9,
   "metadata": {},
   "outputs": [
    {
     "name": "stdout",
     "output_type": "stream",
     "text": [
      "w_vc = 272.6 kJ/kg\n"
     ]
    }
   ],
   "source": [
    "eta_t = 0.75\n",
    "w_vc = eta_t*(h1 - h2s) # J/kg\n",
    "\n",
    "print('w_vc = %s kJ/kg'%round(w_vc/1000,2))"
   ]
  },
  {
   "cell_type": "markdown",
   "metadata": {},
   "source": [
    "El efecto de las irreversibilidades impone una penalización al trabajo producido por la turbina: el trabajo obtenido es únicamente el 75% del que podría obtenerse en una expansión isoentrópica entre el mismo estado de entrada y la misma presión de salida. Esto se ilustra claramente en términos de diferencias de entalpia en el diagrama h-s de la figura."
   ]
  },
  {
   "cell_type": "code",
   "execution_count": 10,
   "metadata": {},
   "outputs": [],
   "source": [
    "%reset -s -f"
   ]
  },
  {
   "cell_type": "markdown",
   "metadata": {},
   "source": [
    "## Ejemplo 6.13\n",
    "Un flujo de vapor de agua entra en una tobera a $p_1 = 10 \\, bar$ y $T_1 = 320^\\circ \\mathrm{C}$ con una velocidad de 30 m/s. La presión y temperatura a la salida son $p_2 = 3 \\, bar$ y $T_2 = 180^\\circ \\mathrm{C}$. No existe una transferencia de calor significativa entre la tobera y su entorno y las variaciones de energía potencial pueden despreciarse. Determínese el rendimiento de la tobera.\n"
   ]
  },
  {
   "cell_type": "markdown",
   "metadata": {},
   "source": [
    "### Solución\n",
    "__Conocido:__ El vapor de agua atraviesa la tobera y se conocen los estados de entrada y salida. También se conoce la velocidad de entrada.\n",
    "\n",
    "__Se debe hallar:__  El rendimiento de la tobera.\n",
    "\n",
    "Datos conocidos y diagramas:\n",
    "![e6.13.png](img/e6.13.png)\n",
    "\n",
    "__Consideraciones e hipótesis:__\n",
    "1. El volumen de control mostrado en la figura opera adiabáticamente en situación estacionaria.\n",
    "2. Para el volumen de control Wvc = 0 y la variación de energía potencial entre entrada y salida es despreciable\n",
    "\n",
    "__Análisis:__ Para calcular el rendimiento a partir de la Ec. 6.49 necesitamos conocer la energía cinética específica real a la salida y el valor máximo alcanzable por esta variable, que corresponde a una expansión isoentrópica entre el estado inicial y la presión final. La combinación de los balances de masa y energía para el proceso desarrollado nos permite escribir\n",
    "\n",
    "$$ \\frac{C^2_2}{2} = h_1 - h_2 + \\frac{C^2_1}{2} $$\n",
    "\n",
    "Esta ecuación se aplica tanto a la expansión real como a la isoentrópica."
   ]
  },
  {
   "cell_type": "code",
   "execution_count": 11,
   "metadata": {},
   "outputs": [],
   "source": [
    "from CoolProp.CoolProp import PropsSI"
   ]
  },
  {
   "cell_type": "code",
   "execution_count": 17,
   "metadata": {},
   "outputs": [
    {
     "name": "stdout",
     "output_type": "stream",
     "text": [
      "h1 = 3094.36 kJ/kg\n",
      "h2 = 2824.58 kJ/kg\n",
      "s1 = 7.19791 kJ/kg\n"
     ]
    }
   ],
   "source": [
    "p1 = 10e5 # Pa\n",
    "T1 = 320 + 273.15 # K\n",
    "p2 = 3e5 # Pa\n",
    "T2 = 180 + 273.15 # K\n",
    "\n",
    "h1 = PropsSI('H','P',p1,'T',T1,'Water')\n",
    "h2 = PropsSI('H','P',p2,'T',T2,'Water')\n",
    "s1 = PropsSI('S','P',p1,'T',T1,'Water')\n",
    "print('h1 = %s kJ/kg'%round(h1/1000,2))\n",
    "print('h2 = %s kJ/kg'%round(h2/1000,2))\n",
    "print('s1 = %s kJ/kg'%round(s1/1000,5))"
   ]
  },
  {
   "cell_type": "code",
   "execution_count": 18,
   "metadata": {},
   "outputs": [
    {
     "name": "stdout",
     "output_type": "stream",
     "text": [
      "h2s = 2812.87 kJ/kg\n"
     ]
    }
   ],
   "source": [
    "s2s = s1\n",
    "h2s = PropsSI('H','P',p2,'S',s2s,'Water')\n",
    "print('h2s = %s kJ/kg'%round(h2s/1000,2))"
   ]
  },
  {
   "cell_type": "code",
   "execution_count": 20,
   "metadata": {},
   "outputs": [
    {
     "name": "stdout",
     "output_type": "stream",
     "text": [
      "C^2/2 = 270.23 kJ/kg\n"
     ]
    }
   ],
   "source": [
    "C1 = 30 # m/s\n",
    "CC22 = h1 - h2 + C1**2/2\n",
    "print('C^2/2 = %s kJ/kg'%round(CC22/1000,2))"
   ]
  },
  {
   "cell_type": "code",
   "execution_count": 21,
   "metadata": {},
   "outputs": [
    {
     "name": "stdout",
     "output_type": "stream",
     "text": [
      "Cs^2/2 = 281.94 kJ/kg\n"
     ]
    }
   ],
   "source": [
    "CC22s = h1 - h2s + C1**2/2\n",
    "print('Cs^2/2 = %s kJ/kg'%round(CC22s/1000,2))"
   ]
  },
  {
   "cell_type": "code",
   "execution_count": 25,
   "metadata": {},
   "outputs": [
    {
     "name": "stdout",
     "output_type": "stream",
     "text": [
      "eta_t = 0.9584 = 95.84%\n"
     ]
    }
   ],
   "source": [
    "eta_t = CC22/CC22s\n",
    "print('eta_t = %s = %s%%'%(round(eta_t,4),round(eta_t*100,2)) )"
   ]
  },
  {
   "cell_type": "markdown",
   "metadata": {},
   "source": [
    "Una causa importante de irreversibilidad en las toberas es el rozamiento entre el flujo de gas o líquido y la pared interna. El efecto de esta fricción se traduce en una disminución de la energía cinética a la salida y, por tanto, en una menor velocidad con respecto a los valores límite propios de la expansión isoentrópica hasta la misma presión final."
   ]
  },
  {
   "cell_type": "code",
   "execution_count": 26,
   "metadata": {},
   "outputs": [],
   "source": [
    "%reset -s -f"
   ]
  },
  {
   "cell_type": "markdown",
   "metadata": {},
   "source": [
    "## Ejemplo 6.1\n",
    "Un ciclo simple de poetencia de vapor recibe 100.000 kJ/min en forma de calor desde los gases calientes de la combustión y descarga 66.00 kJ/min en forma de calor al ambiente. Si la potencia requerida por la bomba es 1.400 kJ/min, determínese __(a)__ el rendimiento térmico del ciclo, y __(b)__ la potencia suministrada por la turbina en kW."
   ]
  },
  {
   "cell_type": "markdown",
   "metadata": {},
   "source": [
    "### Solución\n",
    "__Datos:__ En la figura se muestra un ciclo simple de potencia de vapor con los datos apropiados.\n",
    "\n",
    "__Incognitas:__ (a) el rendimiento térmico, y (b) la potencia bruta de salida de la turbina en kW.\n",
    "\n",
    "__Modelo:__ Ciclo cerrado estacionario.\n",
    "![e6.1w.png](img/e6.1w.png)\n",
    "\n",
    "__Metodología:__ Aplicar el principio de conservación de la energía y la definición de rendimiento térmico.\n",
    "\n",
    "__Análisis:__ (a) El rendimiento térmico viene dado por $\\dot{W}_{net.obt}/\\dot{Q}_{sum}$. Además, el balance global de la energía aplicado al sistema cerrado de interior de la línea de trazos es\n",
    "\n",
    "$$ \\frac{dE}{dt} = \\sum \\dot{Q} + \\sum \\dot{W} = \\dot{Q}_{cal.sum} - \\dot{Q}_{cond.ced} - \\dot{W}_{net.sal} $$\n",
    "\n",
    "Como $dE/dt = 0$ en régimen estacionario, se tendrá que $\\dot{Q}_{net.sal} = \\dot{Q}_{cal.sum} - \\dot{Q}_{cond.ced}$. Por tanto:\n",
    "\n",
    "$$ \\eta_t = \\frac{\\dot{Q}_{cal.sum} - \\dot{Q}_{cond.ced}}{ \\dot{Q}_{cal.sum} } $$"
   ]
  },
  {
   "cell_type": "code",
   "execution_count": 14,
   "metadata": {},
   "outputs": [
    {
     "name": "stdout",
     "output_type": "stream",
     "text": [
      "eta_t = 0.34 => eta_t = 34.0%\n"
     ]
    }
   ],
   "source": [
    "Q_calsum = 100000 # kJ/min\n",
    "Q_condced = 66000 # kJ/min\n",
    "\n",
    "eta_t = (Q_calsum - Q_condced)/Q_calsum\n",
    "\n",
    "print('eta_t = %s => eta_t = %s%%'%(eta_t,eta_t*100))"
   ]
  },
  {
   "cell_type": "markdown",
   "metadata": {},
   "source": [
    "(b) La potencia neta de salida $\\dot{W}_{net.sal}$ es la diferencia entre la potencia de salida de la turbina del ciclo y la potencia suministrada a la bomba. Esto es, $\\dot{W}_{net.sal} = \\dot{W}_{T.sal}-\\dot{W}_{B.ent}$\n",
    "\n",
    "Por tanto, el balance global de la energía proporcionada\n",
    "$$\\dot{W}_{T.sal} - \\dot{W}_{B.ent} = \\dot{Q}_{cal.sum} - \\dot{Q}_{cond.ced} $$\n",
    "\n",
    "Así pues, la potencia de salida de la turbina es\n",
    "\n",
    "$$ \\dot{W}_{T.sal} = \\dot{Q}_{cal.sum} - \\dot{Q}_{cond.ced} + \\dot{W}_{B.ent} $$"
   ]
  },
  {
   "cell_type": "code",
   "execution_count": 21,
   "metadata": {},
   "outputs": [
    {
     "name": "stdout",
     "output_type": "stream",
     "text": [
      "W_Tsal = 35400 kJ/min\n",
      "W_Tsal = 590.0 kW\n"
     ]
    }
   ],
   "source": [
    "W_Bent = 1400 # kJ/min\n",
    "W_Tsal = Q_calsum - Q_condced + W_Bent\n",
    "print('W_Tsal = %s kJ/min'%W_Tsal)\n",
    "print('W_Tsal = %s kW'%round(W_Tsal*1/60,2))"
   ]
  },
  {
   "cell_type": "markdown",
   "metadata": {},
   "source": [
    "__Comentario.__ Nótese que en un ciclo simple de potencia de vapor la potencia suministrada a la bomba es una fracción pequeña de la potencia de salida de la turbina (en este caso 0,04)."
   ]
  },
  {
   "cell_type": "code",
   "execution_count": null,
   "metadata": {},
   "outputs": [],
   "source": []
  }
 ],
 "metadata": {
  "kernelspec": {
   "display_name": "Python 3",
   "language": "python",
   "name": "python3"
  },
  "language_info": {
   "codemirror_mode": {
    "name": "ipython",
    "version": 3
   },
   "file_extension": ".py",
   "mimetype": "text/x-python",
   "name": "python",
   "nbconvert_exporter": "python",
   "pygments_lexer": "ipython3",
   "version": "3.7.3"
  }
 },
 "nbformat": 4,
 "nbformat_minor": 2
}
