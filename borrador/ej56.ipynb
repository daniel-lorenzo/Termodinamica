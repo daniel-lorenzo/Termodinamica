{
 "cells": [
  {
   "cell_type": "markdown",
   "metadata": {},
   "source": [
    "# Ejercicio 56\n",
    "\n",
    "<img src=\"../img/56.png\">"
   ]
  },
  {
   "cell_type": "markdown",
   "metadata": {},
   "source": [
    "Calcular:\n",
    "1. $\\Delta S_u$\n",
    "2. $\\eta_{ex,proc}$"
   ]
  },
  {
   "cell_type": "markdown",
   "metadata": {},
   "source": [
    "## Solución"
   ]
  },
  {
   "cell_type": "code",
   "execution_count": 105,
   "metadata": {},
   "outputs": [],
   "source": [
    "# Datos:\n",
    "T_1 = 800 # [K]\n",
    "T_2 = 300 # [K]\n",
    "Q_1 = 2000e3 # [J]\n",
    "P_0 = 1e5 # [Pa]\n",
    "T_0 = 300 # [K]\n",
    "n_ex = 0.8"
   ]
  },
  {
   "cell_type": "markdown",
   "metadata": {},
   "source": [
    "$$ \\Delta S_1 = \\frac{Q_1}{T_1} $$"
   ]
  },
  {
   "cell_type": "code",
   "execution_count": 106,
   "metadata": {},
   "outputs": [],
   "source": [
    "DS_1 = Q_1/T_1"
   ]
  },
  {
   "cell_type": "code",
   "execution_count": 107,
   "metadata": {},
   "outputs": [
    {
     "name": "stdout",
     "output_type": "stream",
     "text": [
      "DS_1 = 2.50 [kJ/K]\n"
     ]
    }
   ],
   "source": [
    "print('DS_1 = %.2f [kJ/K]'%(DS_1/1000))"
   ]
  },
  {
   "cell_type": "markdown",
   "metadata": {},
   "source": [
    "$$ Q_{U1} = Q_1 - T_0 \\Delta S_1 $$"
   ]
  },
  {
   "cell_type": "code",
   "execution_count": 108,
   "metadata": {},
   "outputs": [],
   "source": [
    "Q_U1 = Q_1 - T_0*DS_1"
   ]
  },
  {
   "cell_type": "code",
   "execution_count": 109,
   "metadata": {},
   "outputs": [
    {
     "name": "stdout",
     "output_type": "stream",
     "text": [
      "Q_U1 = 1250 [kJ]\n"
     ]
    }
   ],
   "source": [
    "print('Q_U1 = %.0f [kJ]'%(Q_U1/1000))"
   ]
  },
  {
   "cell_type": "markdown",
   "metadata": {},
   "source": [
    "$$ \\eta_{ex} = \\frac{W_{MT}}{|Q_{U1}|} \\qquad \\rightarrow \\qquad W_{MT} = \\eta_{ex} |Q_{U1}| $$"
   ]
  },
  {
   "cell_type": "code",
   "execution_count": 110,
   "metadata": {},
   "outputs": [],
   "source": [
    "W_MT = n_ex*abs(Q_U1)"
   ]
  },
  {
   "cell_type": "code",
   "execution_count": 111,
   "metadata": {},
   "outputs": [
    {
     "name": "stdout",
     "output_type": "stream",
     "text": [
      "W_MT = 1000 [kJ]\n"
     ]
    }
   ],
   "source": [
    "print('W_MT = %.0f [kJ]'%(W_MT/1000))"
   ]
  },
  {
   "cell_type": "markdown",
   "metadata": {},
   "source": [
    "$$ |W_{MT}| = |Q_1| - |Q_2| $$"
   ]
  },
  {
   "cell_type": "markdown",
   "metadata": {},
   "source": [
    "$$ |Q_2| = |Q_1| - |W_{MT}| $$"
   ]
  },
  {
   "cell_type": "code",
   "execution_count": 112,
   "metadata": {},
   "outputs": [],
   "source": [
    "Q_2 = Q_1 - W_MT"
   ]
  },
  {
   "cell_type": "code",
   "execution_count": 113,
   "metadata": {},
   "outputs": [
    {
     "name": "stdout",
     "output_type": "stream",
     "text": [
      "Q_2 = 1000 [kJ]\n"
     ]
    }
   ],
   "source": [
    "print('Q_2 = %.0f [kJ]'%(Q_2/1000))"
   ]
  },
  {
   "cell_type": "markdown",
   "metadata": {},
   "source": [
    "$$ \\Delta S_2 = \\frac{Q_2}{T_2} $$"
   ]
  },
  {
   "cell_type": "code",
   "execution_count": 114,
   "metadata": {},
   "outputs": [],
   "source": [
    "DS_2 = Q_2/T_2"
   ]
  },
  {
   "cell_type": "code",
   "execution_count": 115,
   "metadata": {},
   "outputs": [
    {
     "name": "stdout",
     "output_type": "stream",
     "text": [
      "DS_2 = 3.33 [kJ/K]\n"
     ]
    }
   ],
   "source": [
    "print('DS_2 = %.2f [kJ/K]'%(DS_2/1000))"
   ]
  },
  {
   "cell_type": "markdown",
   "metadata": {},
   "source": [
    "$$ \\Delta S_{uMT} = \\Delta S_1 + \\Delta S_2 $$"
   ]
  },
  {
   "cell_type": "code",
   "execution_count": 116,
   "metadata": {},
   "outputs": [],
   "source": [
    "DS_uMT = DS_1 + DS_2"
   ]
  },
  {
   "cell_type": "code",
   "execution_count": 117,
   "metadata": {},
   "outputs": [
    {
     "name": "stdout",
     "output_type": "stream",
     "text": [
      "DS_uMT = 5.83 [kJ/K]\n"
     ]
    }
   ],
   "source": [
    "print('DS_uMT = %.2f [kJ/K]'%(DS_uMT/1000))"
   ]
  },
  {
   "cell_type": "markdown",
   "metadata": {},
   "source": [
    "$$ W_{pal} = W_{MT} - Q_{perd} - W_{disp} $$"
   ]
  },
  {
   "cell_type": "code",
   "execution_count": 118,
   "metadata": {},
   "outputs": [],
   "source": [
    "Q_perd = 0.05*W_MT\n",
    "W_disp = 0.25*W_MT"
   ]
  },
  {
   "cell_type": "code",
   "execution_count": 119,
   "metadata": {},
   "outputs": [],
   "source": [
    "W_pal = W_MT - Q_perd - W_disp"
   ]
  },
  {
   "cell_type": "code",
   "execution_count": 120,
   "metadata": {},
   "outputs": [
    {
     "name": "stdout",
     "output_type": "stream",
     "text": [
      "W_pal = 700 [kJ]\n"
     ]
    }
   ],
   "source": [
    "print('W_pal = %.0f [kJ]'%(W_pal/1000))"
   ]
  },
  {
   "cell_type": "markdown",
   "metadata": {},
   "source": [
    "$\\begin{array}{l|l|l}\n",
    "\\mbox{N}^\\circ & \\mbox{Ecuación} & \\mbox{Ingcógnita} \\\\\n",
    "\\hline\n",
    "1) & \\Delta U + W_{\\Delta V} + W_{pal} = 0 & \\Delta U, \\, W_{\\Delta V} \\\\\n",
    "2) & \\Delta U = m_A c_v (T_f - T_i) & T_f \\\\\n",
    "3) & \\Delta S_A = m_a c_p \\ln (T_f/T_i) & \\Delta S_A \\\\\n",
    "4) & P_{ext} V_i = m_A R_A T_i & m_A \\\\\n",
    "5) & P_{ext} V_f = m_A R_A T_f & V_f\n",
    "\\end{array}$"
   ]
  },
  {
   "cell_type": "markdown",
   "metadata": {},
   "source": [
    "## Pistón\n",
    "Cálculo de la masa en el pistón"
   ]
  },
  {
   "cell_type": "markdown",
   "metadata": {},
   "source": [
    "$$ m_A = \\frac{P_{ext} V_i}{R T_i} $$"
   ]
  },
  {
   "cell_type": "code",
   "execution_count": 121,
   "metadata": {},
   "outputs": [],
   "source": [
    "# Datos:\n",
    "P_p = 200e3 # [Pa]\n",
    "T_i = 27 + 273.15 # [K]\n",
    "R_A = 0.287e3 # [J/(kg·K)]\n",
    "V_i = 0.5 # [m^3]"
   ]
  },
  {
   "cell_type": "code",
   "execution_count": 122,
   "metadata": {},
   "outputs": [],
   "source": [
    "m_A = (P_p*V_i)/(R_A*T_i)"
   ]
  },
  {
   "cell_type": "code",
   "execution_count": 123,
   "metadata": {},
   "outputs": [
    {
     "name": "stdout",
     "output_type": "stream",
     "text": [
      "m_A = 1.16 [kg]\n"
     ]
    }
   ],
   "source": [
    "print('m_A = %.2f [kg]'%m_A)"
   ]
  },
  {
   "cell_type": "markdown",
   "metadata": {},
   "source": [
    "$$ \\Delta U + W_{\\Delta V} = W_{pal} $$"
   ]
  },
  {
   "cell_type": "markdown",
   "metadata": {},
   "source": [
    "$\\Delta U = m_a c_p (T_f - T_i)$"
   ]
  },
  {
   "cell_type": "markdown",
   "metadata": {},
   "source": [
    "$W_{\\Delta V} = P_{ext} (V_f - V_i)$"
   ]
  },
  {
   "cell_type": "markdown",
   "metadata": {},
   "source": [
    "$\\displaystyle V_f = \\frac{m_A R T_f}{P_{ext}}$"
   ]
  },
  {
   "cell_type": "markdown",
   "metadata": {},
   "source": [
    "Reemplazando\n",
    "$$ m_A c_v (T_f - T_i) + P_{ext} \\left( \\frac{m_A R T_f}{P_{ext}} - V_i \\right) = W_{pal} $$"
   ]
  },
  {
   "cell_type": "markdown",
   "metadata": {},
   "source": [
    "Despejamos $T_f$\n",
    "$$ {T_f}=\\frac{{T_i} {c_v} {m_A}+{W_{\\mathit{pal}}}+{P_p} {V_i}}{\\left( {c_v}+{R_A}\\right)  {m_A}} $$"
   ]
  },
  {
   "cell_type": "code",
   "execution_count": 124,
   "metadata": {},
   "outputs": [],
   "source": [
    "# Datos:\n",
    "c_v = 0.7176e3 # [J/(kg·K)]\n",
    "c_p = 1.0047e3 # [J/(kg·K)]"
   ]
  },
  {
   "cell_type": "code",
   "execution_count": 125,
   "metadata": {},
   "outputs": [],
   "source": [
    "import sympy as sp"
   ]
  },
  {
   "cell_type": "code",
   "execution_count": 126,
   "metadata": {},
   "outputs": [],
   "source": [
    "T_final = sp.symbols('T_final')\n",
    "V_f = (m_A*R_A*T_final)/P_p\n",
    "W_DV = P_p*(V_f - V_i)\n",
    "DU = m_A*c_p*(T_final - T_i)"
   ]
  },
  {
   "cell_type": "code",
   "execution_count": 127,
   "metadata": {},
   "outputs": [],
   "source": [
    "eq1 = sp.Eq(DU + W_DV , W_pal)"
   ]
  },
  {
   "cell_type": "code",
   "execution_count": 128,
   "metadata": {},
   "outputs": [],
   "source": [
    "sol = sp.solve([eq1],[T_final])"
   ]
  },
  {
   "cell_type": "code",
   "execution_count": 142,
   "metadata": {},
   "outputs": [],
   "source": [
    "T_f = sol[T_final]\n",
    "V_f = V_f.subs({T_final:T_f})\n",
    "W_DV = W_DV.subs({T_final:T_f})\n",
    "D_U = DU.subs({T_final:T_f})"
   ]
  },
  {
   "cell_type": "code",
   "execution_count": 132,
   "metadata": {},
   "outputs": [
    {
     "name": "stdout",
     "output_type": "stream",
     "text": [
      "T_f = 766.98 [K]\n",
      "t_f = 493.83 [°C]\n"
     ]
    }
   ],
   "source": [
    "print('T_f = %.2f [K]'%T_f)\n",
    "print('t_f = %.2f [°C]'%(T_f - 273.15))"
   ]
  },
  {
   "cell_type": "code",
   "execution_count": 137,
   "metadata": {},
   "outputs": [
    {
     "name": "stdout",
     "output_type": "stream",
     "text": [
      "V_f = 1.28 [m^3]\n",
      "W_DV = 155.53 [kJ]\n"
     ]
    }
   ],
   "source": [
    "print('V_f = %.2f [m^3]'%V_f)\n",
    "print('W_DV = %.2f [kJ]'%(W_DV/1000))"
   ]
  },
  {
   "cell_type": "markdown",
   "metadata": {},
   "source": [
    "$T_0 = T_2$"
   ]
  },
  {
   "cell_type": "markdown",
   "metadata": {},
   "source": [
    "$$ \\Delta S_A = c_p \\ln \\frac{T_f}{T_i} + R_A \\ln \\frac{V_f}{V_i} $$"
   ]
  },
  {
   "cell_type": "code",
   "execution_count": 156,
   "metadata": {},
   "outputs": [],
   "source": [
    "DS_A = c_p*sp.log(T_f/T_i) + R_A*sp.log(V_f/V_i)"
   ]
  },
  {
   "cell_type": "code",
   "execution_count": 157,
   "metadata": {},
   "outputs": [
    {
     "name": "stdout",
     "output_type": "stream",
     "text": [
      "DS_A = 1.212 [kJ/K]\n"
     ]
    }
   ],
   "source": [
    "print('DS_A = %.3f [kJ/K]'%(DS_A/1000))"
   ]
  },
  {
   "cell_type": "markdown",
   "metadata": {},
   "source": [
    "$$ \\Delta U + W_{\\Delta V} = W_{pal} $$"
   ]
  },
  {
   "cell_type": "code",
   "execution_count": 144,
   "metadata": {},
   "outputs": [
    {
     "data": {
      "text/plain": [
       "544.468529844394"
      ]
     },
     "execution_count": 144,
     "metadata": {},
     "output_type": "execute_result"
    }
   ],
   "source": [
    "D_U/1000"
   ]
  },
  {
   "cell_type": "code",
   "execution_count": 145,
   "metadata": {},
   "outputs": [],
   "source": [
    "DU = W_pal - W_DV"
   ]
  },
  {
   "cell_type": "code",
   "execution_count": 146,
   "metadata": {},
   "outputs": [
    {
     "name": "stdout",
     "output_type": "stream",
     "text": [
      "DU = 544.47 [kJ/K]\n"
     ]
    }
   ],
   "source": [
    "print('DU = %.2f [kJ/K]'%(DU/1000))"
   ]
  },
  {
   "cell_type": "markdown",
   "metadata": {},
   "source": [
    "$$ \\Delta Ex_A = \\Delta U - T_0 \\Delta S_A $$"
   ]
  },
  {
   "cell_type": "code",
   "execution_count": 158,
   "metadata": {},
   "outputs": [],
   "source": [
    "DEx_A = DU - T_0*DS_A"
   ]
  },
  {
   "cell_type": "code",
   "execution_count": 159,
   "metadata": {},
   "outputs": [
    {
     "name": "stdout",
     "output_type": "stream",
     "text": [
      "DEx_A = 180.92 [kJ]\n"
     ]
    }
   ],
   "source": [
    "print('DEx_A = %.2f [kJ]'%(DEx_A/1000))"
   ]
  },
  {
   "cell_type": "markdown",
   "metadata": {},
   "source": [
    "$$ \\eta_{ex,proc} = \\frac{W_{\\Delta V} + \\Delta Ex_A + W_{disp} + Q_{perd}}{|Q_{U1}|} $$"
   ]
  },
  {
   "cell_type": "code",
   "execution_count": 172,
   "metadata": {},
   "outputs": [],
   "source": [
    "n_exproc = (W_DV + DEx_A + W_disp - Q_perd)/abs(Q_U1)"
   ]
  },
  {
   "cell_type": "code",
   "execution_count": 176,
   "metadata": {},
   "outputs": [
    {
     "name": "stdout",
     "output_type": "stream",
     "text": [
      "n_exproc = 0.43\n"
     ]
    }
   ],
   "source": [
    "print('n_exproc = %.2f'%n_exproc)"
   ]
  },
  {
   "cell_type": "markdown",
   "metadata": {},
   "source": [
    "$$ \\Delta S_u = \\Delta S_1 + \\Delta S_2 + \\Delta S_A $$"
   ]
  },
  {
   "cell_type": "code",
   "execution_count": 183,
   "metadata": {},
   "outputs": [],
   "source": [
    "DS_u = -DS_1 + DS_2 + DS_A"
   ]
  },
  {
   "cell_type": "code",
   "execution_count": 184,
   "metadata": {},
   "outputs": [
    {
     "name": "stdout",
     "output_type": "stream",
     "text": [
      "DS_u = 2.05 [kJ/K]\n"
     ]
    }
   ],
   "source": [
    "print('DS_u = %.2f [kJ/K]'%(DS_u/1000))"
   ]
  },
  {
   "cell_type": "code",
   "execution_count": 104,
   "metadata": {},
   "outputs": [],
   "source": [
    "%reset -s -f"
   ]
  },
  {
   "cell_type": "code",
   "execution_count": null,
   "metadata": {},
   "outputs": [],
   "source": []
  }
 ],
 "metadata": {
  "kernelspec": {
   "display_name": "Python 3",
   "language": "python",
   "name": "python3"
  },
  "language_info": {
   "codemirror_mode": {
    "name": "ipython",
    "version": 3
   },
   "file_extension": ".py",
   "mimetype": "text/x-python",
   "name": "python",
   "nbconvert_exporter": "python",
   "pygments_lexer": "ipython3",
   "version": "3.7.3"
  }
 },
 "nbformat": 4,
 "nbformat_minor": 4
}
