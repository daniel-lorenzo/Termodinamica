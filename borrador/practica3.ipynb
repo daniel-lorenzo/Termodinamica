{
 "cells": [
  {
   "cell_type": "markdown",
   "metadata": {},
   "source": [
    "# Práctica 3"
   ]
  },
  {
   "cell_type": "markdown",
   "metadata": {},
   "source": [
    "## Ejercicio 15\n",
    "\n",
    "Utilizando la tabla de propiedades del agua, determinar:\n",
    "\n",
    "    a) v, u, h y x si P=20 bar y T=400°C \n",
    "    b) v, u, h y T si P=10 bar y x=1\n",
    "    c) v, u, h y P si se tiene líquido saturado a T=295°C\n",
    "    d) v, u, T y x si P=2 kPa y h=1500 kJ/kg\n",
    "    e) x, u, h y T si P=5 bar y v=0,4148 m³/kg\n",
    "    f) v, u, h y P si T=120°C y x=0,7\n",
    "    g) v, h, T y x si P=8,5 bar y u=900 kJ/kg"
   ]
  },
  {
   "cell_type": "code",
   "execution_count": 1,
   "metadata": {},
   "outputs": [],
   "source": [
    "import CoolProp.CoolProp as cp"
   ]
  },
  {
   "cell_type": "code",
   "execution_count": 27,
   "metadata": {},
   "outputs": [
    {
     "name": "stdout",
     "output_type": "stream",
     "text": [
      "ítem (a)\n",
      "v = 0.15121 m^3/kg\n",
      "u = 2945.91 kJ/kg\n",
      "h = 3248.34 kJ/kg\n",
      "supercritical_gas\n"
     ]
    }
   ],
   "source": [
    "# ítem (a)\n",
    "# Datos:\n",
    "P = 20e5 # Pa\n",
    "T = 400 + 273.15 # K\n",
    "\n",
    "# Volumen específico (v)\n",
    "v = 1 / cp.PropsSI('D','P',P,'T',T,'Water')\n",
    "# Energía interna (u)\n",
    "u = cp.PropsSI('U','P',P,'T',T,'Water')\n",
    "# Entalpía (h)\n",
    "h = cp.PropsSI('H','P',P,'T',T,'Water')\n",
    "# Fase\n",
    "fase = cp.PhaseSI('P',P,'T',T,'Water')\n",
    "\n",
    "print('ítem (a)')\n",
    "print('v = %.5f m^3/kg'%v)\n",
    "print('u = %.2f kJ/kg'%(u/1000))\n",
    "print('h = %.2f kJ/kg'%(h/1000))\n",
    "print(fase)"
   ]
  },
  {
   "cell_type": "code",
   "execution_count": 30,
   "metadata": {},
   "outputs": [
    {
     "name": "stdout",
     "output_type": "stream",
     "text": [
      "ítem (b)\n",
      "v = 0.19436 m^3/kg\n",
      "u = 2582.75 kJ/kg\n",
      "h = 2777.11 kJ/kg\n",
      "T = 453.03 K\n",
      "t = 179.88°C\n"
     ]
    }
   ],
   "source": [
    "# ítem (b)\n",
    "P = 10e5 # Pa\n",
    "x = 1\n",
    "\n",
    "# Volumen específico (v)\n",
    "v = 1 / cp.PropsSI('D','P',P,'Q',x,'Water')\n",
    "# Energía interna (u)\n",
    "u = cp.PropsSI('U','P',P,'Q',x,'Water')\n",
    "# Entalpía (h)\n",
    "h = cp.PropsSI('H','P',P,'Q',x,'Water')\n",
    "# Temperatura\n",
    "T = cp.PropsSI('T','P',P,'Q',x,'Water')\n",
    "\n",
    "print('ítem (b)')\n",
    "print('v = %.5f m^3/kg'%v)\n",
    "print('u = %.2f kJ/kg'%(u/1000))\n",
    "print('h = %.2f kJ/kg'%(h/1000))\n",
    "print('T = %.2f K'%T)\n",
    "print('t = %.2f°C'%(T - 273.15))"
   ]
  },
  {
   "cell_type": "code",
   "execution_count": 21,
   "metadata": {},
   "outputs": [
    {
     "name": "stdout",
     "output_type": "stream",
     "text": [
      "ítem (c)\n",
      "v = 0.0013846 m^3/kg\n",
      "u = 1306.19 kJ/kg\n",
      "h = 1317.27 kJ/kg\n",
      "P = 7999.11 kPa\n"
     ]
    }
   ],
   "source": [
    "# ítem (c)\n",
    "T = 295 + 273.15 # K\n",
    "x = 0\n",
    "\n",
    "# Volumen específico (v)\n",
    "v = 1 / cp.PropsSI('D','T',T,'Q',x,'Water')\n",
    "# Energía interna (u)\n",
    "u = cp.PropsSI('U','T',T,'Q',x,'Water')\n",
    "# Entalpía (h)\n",
    "h = cp.PropsSI('H','T',T,'Q',x,'Water')\n",
    "# Presión\n",
    "P = cp.PropsSI('P','T',T,'Q',x,'Water')\n",
    "\n",
    "print('ítem (c)')\n",
    "print('v = %.7f m^3/kg'%v)\n",
    "print('u = %.2f kJ/kg'%(u/1000))\n",
    "print('h = %.2f kJ/kg'%(h/1000))\n",
    "print('P = %.2f kPa'%(P/1000))"
   ]
  },
  {
   "cell_type": "code",
   "execution_count": 22,
   "metadata": {},
   "outputs": [],
   "source": [
    "# ítem (d)\n",
    "P = 2e3 # Pa\n",
    "h = 1500e3 # J/kg"
   ]
  },
  {
   "cell_type": "markdown",
   "metadata": {},
   "source": [
    "$$ h = x (h'' - h') + h' $$"
   ]
  },
  {
   "cell_type": "markdown",
   "metadata": {},
   "source": [
    "$$ x = \\frac{h - h'}{h'' - h'} $$"
   ]
  },
  {
   "cell_type": "code",
   "execution_count": 23,
   "metadata": {},
   "outputs": [],
   "source": [
    "hp1 = cp.PropsSI('H','P',P,'Q',0,'Water')\n",
    "hp2 = cp.PropsSI('H','P',P,'Q',1,'Water')\n",
    "\n",
    "x = (h - hp1)/(hp2 - hp1)"
   ]
  },
  {
   "cell_type": "code",
   "execution_count": 24,
   "metadata": {},
   "outputs": [
    {
     "name": "stdout",
     "output_type": "stream",
     "text": [
      "ítem (d)\n",
      "v = 38.855 m^3/kg\n",
      "u = 1422.29 kJ/kg\n",
      "T = 290.64 K\n",
      "t = 17.49°C\n",
      "x = 0.58\n"
     ]
    }
   ],
   "source": [
    "# Volumen específico\n",
    "v = 1 / cp.PropsSI('D','P',P,'Q',x,'Water')\n",
    "# Energía interna\n",
    "u = cp.PropsSI('U','P',P,'Q',x,'Water')\n",
    "# Temperatura\n",
    "T = cp.PropsSI('T','P',P,'Q',x,'Water')\n",
    "\n",
    "print('ítem (d)')\n",
    "print('v = %.3f m^3/kg'%v)\n",
    "print('u = %.2f kJ/kg'%(u/1000))\n",
    "print('T = %.2f K'%T)\n",
    "print('t = %.2f°C'%(T - 273.15))\n",
    "print('x = %.2f'%x)"
   ]
  },
  {
   "cell_type": "code",
   "execution_count": null,
   "metadata": {},
   "outputs": [],
   "source": [
    "# ítem (e)"
   ]
  }
 ],
 "metadata": {
  "kernelspec": {
   "display_name": "Python 3",
   "language": "python",
   "name": "python3"
  },
  "language_info": {
   "codemirror_mode": {
    "name": "ipython",
    "version": 3
   },
   "file_extension": ".py",
   "mimetype": "text/x-python",
   "name": "python",
   "nbconvert_exporter": "python",
   "pygments_lexer": "ipython3",
   "version": "3.7.3"
  }
 },
 "nbformat": 4,
 "nbformat_minor": 4
}
