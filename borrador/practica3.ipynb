{
 "cells": [
  {
   "cell_type": "markdown",
   "metadata": {},
   "source": [
    "# Práctica 3"
   ]
  },
  {
   "cell_type": "markdown",
   "metadata": {},
   "source": [
    "## Ejercicio 15\n",
    "\n",
    "Utilizando la tabla de propiedades del agua, determinar:\n",
    "\n",
    "    a) v, u, h y x si P=20 bar y T=400°C \n",
    "    b) v, u, h y T si P=10 bar y x=1\n",
    "    c) v, u, h y P si se tiene líquido saturado a T=295°C\n",
    "    d) v, u, T y x si P=2 kPa y h=1500 kJ/kg\n",
    "    e) x, u, h y T si P=5 bar y v=0,4148 m³/kg\n",
    "    f) v, u, h y P si T=120°C y x=0,7\n",
    "    g) v, h, T y x si P=8,5 bar y u=900 kJ/kg"
   ]
  },
  {
   "cell_type": "code",
   "execution_count": 1,
   "metadata": {},
   "outputs": [],
   "source": [
    "import CoolProp.CoolProp as cp"
   ]
  },
  {
   "cell_type": "code",
   "execution_count": 27,
   "metadata": {},
   "outputs": [
    {
     "name": "stdout",
     "output_type": "stream",
     "text": [
      "ítem (a)\n",
      "v = 0.15121 m^3/kg\n",
      "u = 2945.91 kJ/kg\n",
      "h = 3248.34 kJ/kg\n",
      "supercritical_gas\n"
     ]
    }
   ],
   "source": [
    "# ítem (a)\n",
    "# Datos:\n",
    "P = 20e5 # Pa\n",
    "T = 400 + 273.15 # K\n",
    "\n",
    "# Volumen específico (v)\n",
    "v = 1 / cp.PropsSI('D','P',P,'T',T,'Water')\n",
    "# Energía interna (u)\n",
    "u = cp.PropsSI('U','P',P,'T',T,'Water')\n",
    "# Entalpía (h)\n",
    "h = cp.PropsSI('H','P',P,'T',T,'Water')\n",
    "# Fase\n",
    "fase = cp.PhaseSI('P',P,'T',T,'Water')\n",
    "\n",
    "print('ítem (a)')\n",
    "print('v = %.5f m^3/kg'%v)\n",
    "print('u = %.2f kJ/kg'%(u/1000))\n",
    "print('h = %.2f kJ/kg'%(h/1000))\n",
    "print(fase)"
   ]
  },
  {
   "cell_type": "code",
   "execution_count": 30,
   "metadata": {},
   "outputs": [
    {
     "name": "stdout",
     "output_type": "stream",
     "text": [
      "ítem (b)\n",
      "v = 0.19436 m^3/kg\n",
      "u = 2582.75 kJ/kg\n",
      "h = 2777.11 kJ/kg\n",
      "T = 453.03 K\n",
      "t = 179.88°C\n"
     ]
    }
   ],
   "source": [
    "# ítem (b)\n",
    "P = 10e5 # Pa\n",
    "x = 1\n",
    "\n",
    "# Volumen específico (v)\n",
    "v = 1 / cp.PropsSI('D','P',P,'Q',x,'Water')\n",
    "# Energía interna (u)\n",
    "u = cp.PropsSI('U','P',P,'Q',x,'Water')\n",
    "# Entalpía (h)\n",
    "h = cp.PropsSI('H','P',P,'Q',x,'Water')\n",
    "# Temperatura\n",
    "T = cp.PropsSI('T','P',P,'Q',x,'Water')\n",
    "\n",
    "print('ítem (b)')\n",
    "print('v = %.5f m^3/kg'%v)\n",
    "print('u = %.2f kJ/kg'%(u/1000))\n",
    "print('h = %.2f kJ/kg'%(h/1000))\n",
    "print('T = %.2f K'%T)\n",
    "print('t = %.2f°C'%(T - 273.15))"
   ]
  },
  {
   "cell_type": "code",
   "execution_count": 21,
   "metadata": {},
   "outputs": [
    {
     "name": "stdout",
     "output_type": "stream",
     "text": [
      "ítem (c)\n",
      "v = 0.0013846 m^3/kg\n",
      "u = 1306.19 kJ/kg\n",
      "h = 1317.27 kJ/kg\n",
      "P = 7999.11 kPa\n"
     ]
    }
   ],
   "source": [
    "# ítem (c)\n",
    "T = 295 + 273.15 # K\n",
    "x = 0\n",
    "\n",
    "# Volumen específico (v)\n",
    "v = 1 / cp.PropsSI('D','T',T,'Q',x,'Water')\n",
    "# Energía interna (u)\n",
    "u = cp.PropsSI('U','T',T,'Q',x,'Water')\n",
    "# Entalpía (h)\n",
    "h = cp.PropsSI('H','T',T,'Q',x,'Water')\n",
    "# Presión\n",
    "P = cp.PropsSI('P','T',T,'Q',x,'Water')\n",
    "\n",
    "print('ítem (c)')\n",
    "print('v = %.7f m^3/kg'%v)\n",
    "print('u = %.2f kJ/kg'%(u/1000))\n",
    "print('h = %.2f kJ/kg'%(h/1000))\n",
    "print('P = %.2f kPa'%(P/1000))"
   ]
  },
  {
   "cell_type": "code",
   "execution_count": 22,
   "metadata": {},
   "outputs": [],
   "source": [
    "# ítem (d)\n",
    "P = 2e3 # Pa\n",
    "h = 1500e3 # J/kg"
   ]
  },
  {
   "cell_type": "markdown",
   "metadata": {},
   "source": [
    "$$ h = x (h'' - h') + h' $$"
   ]
  },
  {
   "cell_type": "markdown",
   "metadata": {},
   "source": [
    "$$ x = \\frac{h - h'}{h'' - h'} $$"
   ]
  },
  {
   "cell_type": "code",
   "execution_count": 23,
   "metadata": {},
   "outputs": [],
   "source": [
    "hp1 = cp.PropsSI('H','P',P,'Q',0,'Water')\n",
    "hp2 = cp.PropsSI('H','P',P,'Q',1,'Water')\n",
    "\n",
    "x = (h - hp1)/(hp2 - hp1)"
   ]
  },
  {
   "cell_type": "code",
   "execution_count": 24,
   "metadata": {},
   "outputs": [
    {
     "name": "stdout",
     "output_type": "stream",
     "text": [
      "ítem (d)\n",
      "v = 38.855 m^3/kg\n",
      "u = 1422.29 kJ/kg\n",
      "T = 290.64 K\n",
      "t = 17.49°C\n",
      "x = 0.58\n"
     ]
    }
   ],
   "source": [
    "# Volumen específico\n",
    "v = 1 / cp.PropsSI('D','P',P,'Q',x,'Water')\n",
    "# Energía interna\n",
    "u = cp.PropsSI('U','P',P,'Q',x,'Water')\n",
    "# Temperatura\n",
    "T = cp.PropsSI('T','P',P,'Q',x,'Water')\n",
    "\n",
    "print('ítem (d)')\n",
    "print('v = %.3f m^3/kg'%v)\n",
    "print('u = %.2f kJ/kg'%(u/1000))\n",
    "print('T = %.2f K'%T)\n",
    "print('t = %.2f°C'%(T - 273.15))\n",
    "print('x = %.2f'%x)"
   ]
  },
  {
   "cell_type": "code",
   "execution_count": 2,
   "metadata": {},
   "outputs": [],
   "source": [
    "# ítem (e)\n",
    "P = 5e5 # Pa\n",
    "v = 0.4148 # m^3/kg"
   ]
  },
  {
   "cell_type": "code",
   "execution_count": 4,
   "metadata": {},
   "outputs": [
    {
     "data": {
      "text/plain": [
       "'gas'"
      ]
     },
     "execution_count": 4,
     "metadata": {},
     "output_type": "execute_result"
    }
   ],
   "source": [
    "D = 1/v\n",
    "cp.PhaseSI('P',P,'D',D,'Water')"
   ]
  },
  {
   "cell_type": "markdown",
   "metadata": {},
   "source": [
    "Entonces x no existe"
   ]
  },
  {
   "cell_type": "code",
   "execution_count": 6,
   "metadata": {},
   "outputs": [
    {
     "name": "stdout",
     "output_type": "stream",
     "text": [
      "ítem (e)\n",
      "u = 2626.66 kJ/kg\n",
      "h = 2834.06 kJ/kg\n",
      "T = 463.05 K\n",
      "t = 189.90°C\n"
     ]
    }
   ],
   "source": [
    "# Energía interna\n",
    "u = cp.PropsSI('U','P',P,'D',D,'Water')\n",
    "# Entalpía\n",
    "h = cp.PropsSI('H','P',P,'D',D,'Water')\n",
    "# Temperatura\n",
    "T = cp.PropsSI('T','P',P,'D',D,'Water')\n",
    "\n",
    "print('ítem (e)')\n",
    "print('u = %.2f kJ/kg'%(u/1000))\n",
    "print('h = %.2f kJ/kg'%(h/1000))\n",
    "print('T = %.2f K'%T)\n",
    "print('t = %.2f°C'%(T - 273.15))"
   ]
  },
  {
   "cell_type": "code",
   "execution_count": 7,
   "metadata": {},
   "outputs": [],
   "source": [
    "# ítem (f)\n",
    "T = 120 + 273.15 # K\n",
    "x = 0.7"
   ]
  },
  {
   "cell_type": "markdown",
   "metadata": {},
   "source": [
    "$$\\begin{array}{l}\n",
    "v = x(v'' - v') + v' \\\\\n",
    "u = x(u'' - u') + u' \\\\\n",
    "h = x(h'' - h') + h'\n",
    "\\end{array}\n",
    "$$"
   ]
  },
  {
   "cell_type": "code",
   "execution_count": 9,
   "metadata": {},
   "outputs": [
    {
     "name": "stdout",
     "output_type": "stream",
     "text": [
      "ítem (f)\n",
      "v = 0.62417 m^3/kg\n",
      "u = 1921.29 kJ/kg\n",
      "h = 2045.29 kJ/kg\n",
      "P = 198.67 kPa\n"
     ]
    }
   ],
   "source": [
    "# Volumen específico\n",
    "v = 1 / cp.PropsSI('D','T',T,'Q',x,'Water')\n",
    "# Energía interna\n",
    "u = cp.PropsSI('U','T',T,'Q',x,'Water')\n",
    "# Entalpía\n",
    "h = cp.PropsSI('H','T',T,'Q',x,'Water')\n",
    "# Presión\n",
    "P = cp.PropsSI('P','T',T,'Q',x,'Water')\n",
    "\n",
    "print('ítem (f)')\n",
    "print('v = %.5f m^3/kg'%v)\n",
    "print('u = %.2f kJ/kg'%(u/1000))\n",
    "print('h = %.2f kJ/kg'%(h/1000))\n",
    "print('P = %.2f kPa'%(P/1000))"
   ]
  },
  {
   "cell_type": "code",
   "execution_count": 10,
   "metadata": {},
   "outputs": [],
   "source": [
    "# ítem (g)\n",
    "P = 8.5e5 # Pa\n",
    "u = 900e3 # J/kg"
   ]
  },
  {
   "cell_type": "code",
   "execution_count": 11,
   "metadata": {},
   "outputs": [
    {
     "data": {
      "text/plain": [
       "'twophase'"
      ]
     },
     "execution_count": 11,
     "metadata": {},
     "output_type": "execute_result"
    }
   ],
   "source": [
    "cp.PhaseSI('P',P,'U',u,'Water')"
   ]
  },
  {
   "cell_type": "code",
   "execution_count": 13,
   "metadata": {},
   "outputs": [
    {
     "name": "stdout",
     "output_type": "stream",
     "text": [
      "x = 0.0915\n"
     ]
    }
   ],
   "source": [
    "x = cp.PropsSI('Q','P',P,'U',u,'Water')\n",
    "print('x = %.4f'%x)"
   ]
  },
  {
   "cell_type": "markdown",
   "metadata": {},
   "source": [
    "$$ u = x \\,(u'' - u') + u' $$"
   ]
  },
  {
   "cell_type": "markdown",
   "metadata": {},
   "source": [
    "Entonces:\n",
    "$$ x = \\frac{u - u'}{u'' - u'} $$"
   ]
  },
  {
   "cell_type": "code",
   "execution_count": 14,
   "metadata": {},
   "outputs": [
    {
     "name": "stdout",
     "output_type": "stream",
     "text": [
      "x = 0.0915\n"
     ]
    }
   ],
   "source": [
    "up1 = cp.PropsSI('U','P',P,'Q',0,'Water')\n",
    "up2 = cp.PropsSI('U','P',P,'Q',1,'Water')\n",
    "\n",
    "x = (u - up1)/(up2 - up1)\n",
    "\n",
    "print('x = %.4f'%x)"
   ]
  },
  {
   "cell_type": "markdown",
   "metadata": {},
   "source": [
    "$$\\begin{array}{l}\n",
    "v = x \\, (v'' - v') + v' \\\\\n",
    "h = x \\, (h'' - h') + h'\n",
    "\\end{array}$$"
   ]
  },
  {
   "cell_type": "code",
   "execution_count": 15,
   "metadata": {},
   "outputs": [
    {
     "name": "stdout",
     "output_type": "stream",
     "text": [
      "ítem (g)\n",
      "v = 0.02178 m^3/kg\n",
      "h = 918.51 kJ/kg\n",
      "T = 446.09 K\n",
      "t = 172.94°C\n"
     ]
    }
   ],
   "source": [
    "# Volumen específico\n",
    "v = 1/cp.PropsSI('D','P',P,'U',u,'Water')\n",
    "# Entalpía\n",
    "h = cp.PropsSI('H','P',P,'U',u,'Water')\n",
    "# Temperatura\n",
    "T = cp.PropsSI('T','P',P,'U',u,'Water')\n",
    "\n",
    "print('ítem (g)')\n",
    "print('v = %.5f m^3/kg'%v)\n",
    "print('h = %.2f kJ/kg'%(h/1000))\n",
    "print('T = %.2f K'%T)\n",
    "print('t = %.2f°C'%(T - 273.15))"
   ]
  },
  {
   "cell_type": "code",
   "execution_count": 16,
   "metadata": {},
   "outputs": [],
   "source": [
    "%reset -s -f"
   ]
  },
  {
   "cell_type": "markdown",
   "metadata": {},
   "source": [
    "## Ejercicio 16"
   ]
  },
  {
   "cell_type": "markdown",
   "metadata": {},
   "source": [
    "1. ítem\n",
    "\n",
    "Inicialmente\n",
    "\n",
    "$\\left\\{\n",
    "\\begin{array}{l}\n",
    "x_i = 0,5 \\\\\n",
    "P = 8 \\, \\mathrm{bar}\n",
    "\\end{array}\n",
    "\\right. \\quad \\rightarrow \\quad$, entonces la temperatura es:"
   ]
  },
  {
   "cell_type": "code",
   "execution_count": 2,
   "metadata": {},
   "outputs": [],
   "source": [
    "# Datos:\n",
    "x = 0.5\n",
    "P = 8e5 # Pa"
   ]
  },
  {
   "cell_type": "code",
   "execution_count": 4,
   "metadata": {},
   "outputs": [
    {
     "name": "stdout",
     "output_type": "stream",
     "text": [
      "T_0 = 443.56 K\n",
      "t_0 = 170.41°C\n"
     ]
    }
   ],
   "source": [
    "T_0 = cp.PropsSI('T','P',P,'Q',x,'Water')\n",
    "\n",
    "print('T_0 = %.2f K'%T_0)\n",
    "print('t_0 = %.2f°C'%(T_0 - 273.15))"
   ]
  },
  {
   "cell_type": "markdown",
   "metadata": {},
   "source": [
    "2. ítem"
   ]
  },
  {
   "cell_type": "markdown",
   "metadata": {},
   "source": [
    "$$ v = x \\, (v'' - v') + v' $$"
   ]
  },
  {
   "cell_type": "code",
   "execution_count": 7,
   "metadata": {},
   "outputs": [
    {
     "name": "stdout",
     "output_type": "stream",
     "text": [
      "V_0 = 3.6218 m^3 (volumen inicial)\n"
     ]
    }
   ],
   "source": [
    "# Cálculo de volumen inicial\n",
    "vp1 = 1/cp.PropsSI('D','P',P,'Q',0,'Water')\n",
    "vp2 = 1/cp.PropsSI('D','P',P,'Q',1,'Water')\n",
    "m = 30 # kg\n",
    "\n",
    "v_0 = x*(vp2 - vp1) + vp1\n",
    "\n",
    "V_0 = v_0 * m\n",
    "\n",
    "print('V_0 = %.4f m^3 (volumen inicial)'%V_0)"
   ]
  },
  {
   "cell_type": "code",
   "execution_count": 6,
   "metadata": {},
   "outputs": [
    {
     "data": {
      "text/plain": [
       "'gas'"
      ]
     },
     "execution_count": 6,
     "metadata": {},
     "output_type": "execute_result"
    }
   ],
   "source": [
    "T_1 = 220 + 273.15 # K\n",
    "\n",
    "cp.PhaseSI('T',T_1,'P',P,'Water')"
   ]
  },
  {
   "cell_type": "code",
   "execution_count": 8,
   "metadata": {},
   "outputs": [
    {
     "name": "stdout",
     "output_type": "stream",
     "text": [
      "V_1 = 8.2216 m^3 (volumen final)\n"
     ]
    }
   ],
   "source": [
    "v_1 = 1/cp.PropsSI('D','P',P,'T',T_1,'Water')\n",
    "\n",
    "V_1 = v_1 * m\n",
    "\n",
    "print('V_1 = %.4f m^3 (volumen final)'%V_1)"
   ]
  },
  {
   "cell_type": "code",
   "execution_count": 10,
   "metadata": {},
   "outputs": [
    {
     "name": "stdout",
     "output_type": "stream",
     "text": [
      "Trabajo por variación de volumen:\n",
      "W_DV = 3679.79 kJ\n"
     ]
    }
   ],
   "source": [
    "W_DV = P*(V_1 - V_0)\n",
    "\n",
    "print('Trabajo por variación de volumen:')\n",
    "print('W_DV = %.2f kJ'%(W_DV/1000))"
   ]
  },
  {
   "cell_type": "markdown",
   "metadata": {},
   "source": [
    "3. ítem"
   ]
  },
  {
   "cell_type": "markdown",
   "metadata": {},
   "source": [
    "$$ Q = \\Delta U + W_{\\Delta V} $$"
   ]
  },
  {
   "cell_type": "markdown",
   "metadata": {},
   "source": [
    "$$ u_0 = x \\, (u'' - u') + u' $$"
   ]
  },
  {
   "cell_type": "code",
   "execution_count": 14,
   "metadata": {},
   "outputs": [],
   "source": [
    "up1 = cp.PropsSI('U','P',P,'Q',0,'Water')   #   u'\n",
    "up2 = cp.PropsSI('U','P',P,'Q',1,'Water')   #   u''\n",
    "\n",
    "u_0 = x*(up2 - up1) + up1\n",
    "u_1 = cp.PropsSI('U','P',P,'T',T_1,'Water')\n",
    "\n",
    "DU = m*(u_1 - u_0)\n",
    "\n",
    "Q = DU + W_DV"
   ]
  },
  {
   "cell_type": "code",
   "execution_count": 19,
   "metadata": {},
   "outputs": [
    {
     "name": "stdout",
     "output_type": "stream",
     "text": [
      "up1 = 719.97 kJ/kg\n",
      "up2 = 2576.03 kJ/kg\n",
      "u_0 = 1648.00 kJ/kg\n",
      "u_1 = 2665.66 kJ/kg\n",
      "DU = 30529.8 kJ\n"
     ]
    }
   ],
   "source": [
    "print('up1 = %.2f kJ/kg'%(up1/1000))\n",
    "print('up2 = %.2f kJ/kg'%(up2/1000))\n",
    "print('u_0 = %.2f kJ/kg'%(u_0/1000))\n",
    "print('u_1 = %.2f kJ/kg'%(u_1/1000))\n",
    "print('DU = %.1f kJ'%(DU/1000))"
   ]
  },
  {
   "cell_type": "code",
   "execution_count": 16,
   "metadata": {},
   "outputs": [
    {
     "name": "stdout",
     "output_type": "stream",
     "text": [
      "Q = 34209.6 kJ\n"
     ]
    }
   ],
   "source": [
    "print('Q = %.1f kJ'%(Q/1000))"
   ]
  },
  {
   "cell_type": "code",
   "execution_count": 20,
   "metadata": {},
   "outputs": [],
   "source": [
    "%reset -s -f"
   ]
  },
  {
   "cell_type": "markdown",
   "metadata": {},
   "source": [
    "## Ejercicio 17"
   ]
  },
  {
   "cell_type": "code",
   "execution_count": 21,
   "metadata": {},
   "outputs": [],
   "source": [
    "import CoolProp.CoolProp as cp"
   ]
  },
  {
   "cell_type": "code",
   "execution_count": 23,
   "metadata": {},
   "outputs": [],
   "source": [
    "# Datos:\n",
    "m = 5 # kg\n",
    "P = 500e3 # Pa\n",
    "vp1 = 1/cp.PropsSI('D','P',P,'Q',0,'Water')   # v'\n",
    "vp2 = 1/cp.PropsSI('D','P',P,'Q',1,'Water')   # v''"
   ]
  },
  {
   "cell_type": "code",
   "execution_count": 24,
   "metadata": {},
   "outputs": [
    {
     "name": "stdout",
     "output_type": "stream",
     "text": [
      "DV = 1.869 m^3\n"
     ]
    }
   ],
   "source": [
    "# Variación de volumen\n",
    "DV = m*(vp2 - vp1)\n",
    "\n",
    "print('DV = %.3f m^3'%DV)"
   ]
  },
  {
   "cell_type": "markdown",
   "metadata": {},
   "source": [
    "$$ W_{\\Delta V} = P \\, \\Delta V $$"
   ]
  },
  {
   "cell_type": "code",
   "execution_count": 25,
   "metadata": {},
   "outputs": [
    {
     "name": "stdout",
     "output_type": "stream",
     "text": [
      "W_DV = 934.28 kJ\n"
     ]
    }
   ],
   "source": [
    "W_DV = P*DV\n",
    "\n",
    "print('W_DV = %.2f kJ'%(W_DV/1000))"
   ]
  },
  {
   "cell_type": "code",
   "execution_count": 26,
   "metadata": {},
   "outputs": [],
   "source": [
    "up1 = cp.PropsSI('U','P',P,'Q',0,'Water')  # u'\n",
    "up2 = cp.PropsSI('U','P',P,'Q',1,'Water')  # u''\n",
    "\n",
    "DU = m*(up2 - up1)\n",
    "\n",
    "Q = DU + W_DV"
   ]
  },
  {
   "cell_type": "code",
   "execution_count": 28,
   "metadata": {},
   "outputs": [
    {
     "name": "stdout",
     "output_type": "stream",
     "text": [
      "up1 = 639.54 kJ/kg\n",
      "up2 = 2560.71 kJ/kg\n",
      "DU = 9605.84 kJ\n",
      "Q = 10540.12 kJ\n"
     ]
    }
   ],
   "source": [
    "print('up1 = %.2f kJ/kg'%(up1/1000))\n",
    "print('up2 = %.2f kJ/kg'%(up2/1000))\n",
    "print('DU = %.2f kJ'%(DU/1000))\n",
    "print('Q = %.2f kJ'%(Q/1000))"
   ]
  },
  {
   "cell_type": "markdown",
   "metadata": {},
   "source": [
    "## Ejercicio 18"
   ]
  },
  {
   "cell_type": "code",
   "execution_count": 29,
   "metadata": {},
   "outputs": [
    {
     "name": "stdout",
     "output_type": "stream",
     "text": [
      "x =  0.625\n"
     ]
    }
   ],
   "source": [
    "x = 1 - 37.5/100\n",
    "print('x = ',x)"
   ]
  },
  {
   "cell_type": "code",
   "execution_count": 30,
   "metadata": {},
   "outputs": [
    {
     "name": "stdout",
     "output_type": "stream",
     "text": [
      "P = 47.41 kPa\n"
     ]
    }
   ],
   "source": [
    "T = 80 + 273.15 # K\n",
    "# Presión del recipiente\n",
    "P = cp.PropsSI('P','T',T,'Q',x,'Water')\n",
    "print('P = %.2f kPa'%(P/1000))"
   ]
  },
  {
   "cell_type": "code",
   "execution_count": 31,
   "metadata": {},
   "outputs": [
    {
     "name": "stdout",
     "output_type": "stream",
     "text": [
      "v = 2.129 m^3/kg\n"
     ]
    }
   ],
   "source": [
    "m = 40 # kg\n",
    "vp1 = 1/cp.PropsSI('D','T',T,'Q',0,'Water')  # v'\n",
    "vp2 = 1/cp.PropsSI('D','T',T,'Q',1,'Water')  # v''\n",
    "# Volumen específico\n",
    "v = x*(vp2 - vp1) + vp1\n",
    "\n",
    "print('v = %.3f m^3/kg'%v)"
   ]
  },
  {
   "cell_type": "code",
   "execution_count": 33,
   "metadata": {},
   "outputs": [
    {
     "name": "stdout",
     "output_type": "stream",
     "text": [
      "v = 2.129 m^3/kg\n"
     ]
    }
   ],
   "source": [
    "# o tambien\n",
    "v = 1/cp.PropsSI('D','T',T,'Q',x,'Water')\n",
    "print('v = %.3f m^3/kg'%v)"
   ]
  },
  {
   "cell_type": "code",
   "execution_count": 34,
   "metadata": {},
   "outputs": [
    {
     "name": "stdout",
     "output_type": "stream",
     "text": [
      "Vol = 85.144 m^3\n"
     ]
    }
   ],
   "source": [
    "# Volumen del recipiente\n",
    "Vol = m*v\n",
    "print('Vol = %.3f m^3'%Vol)"
   ]
  },
  {
   "cell_type": "code",
   "execution_count": 35,
   "metadata": {},
   "outputs": [],
   "source": [
    "%reset -s -f"
   ]
  },
  {
   "cell_type": "markdown",
   "metadata": {},
   "source": [
    "## Ejercicio 19"
   ]
  },
  {
   "cell_type": "code",
   "execution_count": 36,
   "metadata": {},
   "outputs": [],
   "source": [
    "import CoolProp.CoolProp as cp"
   ]
  },
  {
   "cell_type": "code",
   "execution_count": 51,
   "metadata": {},
   "outputs": [
    {
     "data": {
      "text/plain": [
       "'supercritical_gas'"
      ]
     },
     "execution_count": 51,
     "metadata": {},
     "output_type": "execute_result"
    }
   ],
   "source": [
    "P_it = 2e6 # Pa\n",
    "T_it = 500 + 273.15 # K\n",
    "V_t = 0.2 # m^3\n",
    "\n",
    "cp.PhaseSI('P',P_0,'T',T_0,'Water')"
   ]
  },
  {
   "cell_type": "code",
   "execution_count": 52,
   "metadata": {},
   "outputs": [
    {
     "name": "stdout",
     "output_type": "stream",
     "text": [
      "m_it = 1.1384 kg\n"
     ]
    }
   ],
   "source": [
    "# Volumen específico inicial en el tanque\n",
    "v_it = 1/ cp.PropsSI('D','P',P_0,'T',T_0,'Water')\n",
    "# Cálculo de masa inicial en el tanque\n",
    "m_it = V_t/v_it\n",
    "print('m_it = %.4f kg'%m_it)"
   ]
  },
  {
   "cell_type": "code",
   "execution_count": 53,
   "metadata": {},
   "outputs": [
    {
     "name": "stdout",
     "output_type": "stream",
     "text": [
      "U_it = 3548.29 kJ\n"
     ]
    }
   ],
   "source": [
    "# Energía interna específica inicial en el tanque\n",
    "u_it = cp.PropsSI('U','P',P_0,'T',T_0,'Water')\n",
    "# Energía interna inicial en el tanque\n",
    "U_it = m*u_0\n",
    "print('U_it = %.2f kJ'%(U_it/1000))"
   ]
  },
  {
   "cell_type": "code",
   "execution_count": 55,
   "metadata": {},
   "outputs": [],
   "source": [
    "P_fc = 3e5 # Pa\n",
    "P_ft = P_fc\n",
    "T_ft = 250 + 273.15 # K"
   ]
  },
  {
   "cell_type": "code",
   "execution_count": 57,
   "metadata": {},
   "outputs": [
    {
     "name": "stdout",
     "output_type": "stream",
     "text": [
      "m_ft = 0.2511 kg\n"
     ]
    }
   ],
   "source": [
    "# Volumen específico final en el tanque\n",
    "v_ft = 1 / cp.PropsSI('D','P',P_1,'T',T_1,'Water')\n",
    "# Cálculo de masa en el tanque después de abrir la válvula\n",
    "m_ft = V_t/v_ft\n",
    "print('m_ft = %.4f kg'%m_ft)"
   ]
  },
  {
   "cell_type": "code",
   "execution_count": 58,
   "metadata": {},
   "outputs": [
    {
     "name": "stdout",
     "output_type": "stream",
     "text": [
      "m_fc = 0.8873 kg\n"
     ]
    }
   ],
   "source": [
    "# Cálculo de masa que ingresa al cilindro\n",
    "m_fc = m_it - m_ft\n",
    "print('m_fc = %.4f kg'%m_fc)"
   ]
  },
  {
   "cell_type": "markdown",
   "metadata": {},
   "source": [
    "$$ Q = \\Delta U + W_{\\Delta V} $$"
   ]
  },
  {
   "cell_type": "code",
   "execution_count": 59,
   "metadata": {},
   "outputs": [],
   "source": [
    "# Energía interna específica final en el tanque\n",
    "u_ft = cp.PropsSI('U','P',P_ft,'T',T_ft,'Water')"
   ]
  },
  {
   "cell_type": "code",
   "execution_count": 60,
   "metadata": {},
   "outputs": [
    {
     "name": "stdout",
     "output_type": "stream",
     "text": [
      "|DU_t| = 2863.01 kJ\n"
     ]
    }
   ],
   "source": [
    "# Variación de energía interna en el tanque\n",
    "DU_t = m_it*u_it - m_ft*u_ft\n",
    "\n",
    "print('|DU_t| = %.2f kJ'%(DU_t/1000))"
   ]
  },
  {
   "cell_type": "markdown",
   "metadata": {},
   "source": [
    "$$ 0 = U_{fc} + U_{ft} - U_{it} + P( V_{fc} - \\underbrace{V_{ic}}_{=0}) $$"
   ]
  },
  {
   "cell_type": "markdown",
   "metadata": {},
   "source": [
    "$$ 0 = \\underbrace{U_{fc} + P V_{fc}}_{H_{fc}} + U_{ft} - U_{it} $$"
   ]
  },
  {
   "cell_type": "markdown",
   "metadata": {},
   "source": [
    "$$ H_{fc} = U_{it} - U_{ft} = \\Delta U_t $$"
   ]
  },
  {
   "cell_type": "markdown",
   "metadata": {},
   "source": [
    "$$ H_{fc} = m_{it} u_{it} - m_{ft} u_{ft} $$"
   ]
  },
  {
   "cell_type": "markdown",
   "metadata": {},
   "source": [
    "$$ h_{fc} = \\frac{H_{fc}}{m_{fc}} $$"
   ]
  },
  {
   "cell_type": "code",
   "execution_count": 61,
   "metadata": {},
   "outputs": [],
   "source": [
    "H_fc = DU_t\n",
    "h_fc = H_fc/m_fc"
   ]
  },
  {
   "cell_type": "code",
   "execution_count": 62,
   "metadata": {},
   "outputs": [
    {
     "name": "stdout",
     "output_type": "stream",
     "text": [
      "T_fc = 649.65 K\n",
      "t_fc = 376.50°C\n"
     ]
    }
   ],
   "source": [
    "T_fc = cp.PropsSI('T','P',P_fc,'H',h_fc,'Water')\n",
    "\n",
    "print('T_fc = %.2f K'%T_fc)\n",
    "print('t_fc = %.2f°C'%(T_fc - 273.15))"
   ]
  },
  {
   "cell_type": "code",
   "execution_count": null,
   "metadata": {},
   "outputs": [],
   "source": []
  }
 ],
 "metadata": {
  "kernelspec": {
   "display_name": "Python 3",
   "language": "python",
   "name": "python3"
  },
  "language_info": {
   "codemirror_mode": {
    "name": "ipython",
    "version": 3
   },
   "file_extension": ".py",
   "mimetype": "text/x-python",
   "name": "python",
   "nbconvert_exporter": "python",
   "pygments_lexer": "ipython3",
   "version": "3.7.3"
  }
 },
 "nbformat": 4,
 "nbformat_minor": 4
}
