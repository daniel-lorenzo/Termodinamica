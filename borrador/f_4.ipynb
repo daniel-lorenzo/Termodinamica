{
 "cells": [
  {
   "cell_type": "markdown",
   "metadata": {},
   "source": [
    "# Final 4 termodinámica"
   ]
  },
  {
   "cell_type": "markdown",
   "metadata": {},
   "source": [
    "<img src=\"../img/final4-0.png\">"
   ]
  },
  {
   "cell_type": "markdown",
   "metadata": {},
   "source": [
    "### Hallar:\n",
    "1. $m$ del cuerpo de la máquina térmica.\n",
    "2. Estado general del vapor.\n",
    "3. $W_{perdMT}$\n",
    "4. $\\Delta S_{u}$\n",
    "5. $\\eta_{ex}$\n",
    "6. Si $Q_{perd}$ se almacena en una fuente a $T_F$ y de allí se quiere obtener $W$ ¿Cuál es el $W_{m \\acute{a} x}$ a obtener?"
   ]
  },
  {
   "cell_type": "markdown",
   "metadata": {},
   "source": [
    "## Solución"
   ]
  },
  {
   "cell_type": "markdown",
   "metadata": {},
   "source": [
    "### Compresor (vapor)"
   ]
  },
  {
   "cell_type": "markdown",
   "metadata": {},
   "source": [
    "__Datos:__\n",
    "\n",
    "$\\begin{array}{|l|l|}\n",
    "\\hline\n",
    "\\mbox{Entrada} & \\mbox{Salida} \\\\\n",
    "\\hline\n",
    "P_4 & P_5 \\\\\n",
    "x_4 \\\\\n",
    "m_4 \\\\\n",
    "\\hline\n",
    "\\end{array} \\quad\n",
    "\\begin{array}{ll}\n",
    "a) & \\Delta Ex_{comp} \\\\\n",
    "b) & \\eta_{iso}\n",
    "\\end{array}$"
   ]
  },
  {
   "cell_type": "markdown",
   "metadata": {},
   "source": [
    "En principio con los datos que disponemos buscamos en tabla:\n",
    "\n",
    "$$\\begin{array}{l}\n",
    "\\hline\n",
    "h'_4 = f(P_4) \\mbox{ líquido saturado (de tabla)} \\\\\n",
    "h''_4 = f(P_4) \\mbox{ vapor saturado (de tabla)} \\\\\n",
    "s'_4 = f(P_4) \\mbox{ líquido saturado (de tabla)} \\\\\n",
    "s''_4 = f(P_4) \\mbox{ vapor saturado (de tabla)} \\\\\n",
    "T_4 = f(P_4,x_4) \\\\\n",
    "h'_5 = f(P_5) \\mbox{ líquido saturado (de tabla)} \\\\\n",
    "h''_5 = f(P_5) \\mbox{ vapor saturado (de tabla)} \\\\\n",
    "s'_5 = f(P_5) \\mbox{ líquido saturado (de tabla)} \\\\\n",
    "s''_5 = f(P_5) \\mbox{ vapor saturado (de tabla)} \\\\\n",
    "\\hline\n",
    "\\end{array}$$"
   ]
  },
  {
   "cell_type": "markdown",
   "metadata": {},
   "source": [
    "__Utilizando $\\eta_{iso}$__\n",
    "\n",
    "$\\begin{array}{|l|l|l|}\n",
    "\\hline\n",
    "n^\\circ & \\mbox{Ecuación} & \\mbox{Incógnita} \\\\\n",
    "\\hline\n",
    "1) & h_4 = x_4 (h''_4 - h'_4) + h'_4 & h_4 \\\\\n",
    "2) & s_4 = x_4 (s''_4 - s'_4) + s'_4 & s_4 \\\\\n",
    "3) & s_{5id} = s_4 \\mbox{ (por reversible y adiabático)} & s_{5id} \\\\\n",
    "\\hline\n",
    " & \\mbox{Si con } P_5, \\, s_{5id} \\mbox{ dentro de la campana:} \\\\\n",
    "4) & \\displaystyle x_{5id} = \\frac{s_{5id} - s'_5}{s''_5 - s'_5} & x_{5id} \\\\\n",
    "5) & h_{5id} = x_{5id}(h''_5 - h'_5) + h'_5 & h_{5id} \\\\\n",
    "6) & \\displaystyle \\eta_{iso} = \\frac{h_{5id} - h_4}{h_5 - h_4} & h_5 \\\\\n",
    "7) & \\displaystyle x_5 = \\frac{h_5 - h_5'}{h''_5 - h'_5} & x_5 \\\\\n",
    "8) & s_5 = x_5 (s''_5 - s'_5) + s'_5 & s_5\\\\\n",
    "\\hline\n",
    " & \\mbox{Si con } P_5, \\, s_{5id} \\mbox{ fuera de la campana:} \\\\\n",
    "4) & h_{5id} = f(P_5,s_{5id}) \\; \\mbox{ (por tabla)} & h_{5id} \\\\\n",
    "5) & \\displaystyle \\eta_{iso} = \\frac{h_{5id} - h_4}{h_5 - h_4} & h_5 \\\\\n",
    "6) & s_5 = f(P_5, h_5) \\; \\mbox{ (por tabla)} & s_5 \\\\\n",
    "\\hline\n",
    "9) & \\Delta H_{45} = m (h_5 - h_4) & \\Delta H_{45} \\\\\n",
    "10) & W_c = -\\Delta H_{45} & W_c \\\\\n",
    "11) & \\Delta S_{45} = m(s_5 -s_4) & \\Delta S_{45} \\\\\n",
    "12) & \\Delta Ex_{45} = \\Delta H_{45} - T_0 \\Delta S_{45} & \\Delta Ex_{45} \\\\\n",
    "\\hline\n",
    "\\end{array}$\n",
    "\n",
    "__12 incógnitas - 12 ecuaciones $\\rightarrow$ tiene solución__"
   ]
  },
  {
   "cell_type": "markdown",
   "metadata": {},
   "source": [
    "### Cilindro-Pistón (adiabático)\n",
    "__Datos disponibles:__ $T_{iA}, \\, m_A, \\, \\Delta S_{Ucp}, \\, P_{ext}, \\, R_A, \\, c_{vA}, \\,c_{pA}$"
   ]
  },
  {
   "cell_type": "markdown",
   "metadata": {},
   "source": [
    "$\\begin{array}{|l|l|l|}\n",
    "\\hline\n",
    "n^\\circ & \\mbox{Ecuación} & \\mbox{Incógnita} \\\\\n",
    "\\hline\n",
    "1) & \\Delta S_A = \\Delta S_{Ucp} & \\Delta S_A \\\\\n",
    "2) & \\Delta S_A = m_A c_{pA} \\ln (T_{fA}/T_{iA}) & T_{fA}\\\\\n",
    "3) & \\Delta U = m_A c_{pA} (T_{fA} - T_{iA}) & \\Delta U \\\\\n",
    "4) & P_{ext} V_i = m_A R_A T_{iA} & V_i \\\\\n",
    "5) & P_{ext} V_f = m_A R_A T_{fA} & V_f \\\\\n",
    "6) & W_{\\Delta V} = P_{ext} (V_f - V_i) & W_{\\Delta V} \\\\\n",
    "7) & \\Delta U + W_{\\Delta V} + W_{pal} = 0 & W_{pal} \\\\\n",
    "\\hline\n",
    "\\end{array}$\n",
    "\n",
    "__7 ecuaciones - 7 incógnitas $\\rightarrow$ tiene solución__"
   ]
  },
  {
   "cell_type": "markdown",
   "metadata": {},
   "source": [
    "Para los ítems 4 y 5 voy a necesitar $\\Delta S_{gas}$ y $\\Delta Ex_{gas}$\n",
    "\n",
    "$$\\Delta S_{gas} = \\Delta S_A$$"
   ]
  },
  {
   "cell_type": "markdown",
   "metadata": {},
   "source": [
    "$$ \\Delta Ex_{gas} = \\Delta U - T_0 \\Delta S_{gas} + P_0 \\Delta V $$"
   ]
  },
  {
   "cell_type": "markdown",
   "metadata": {},
   "source": [
    "### Trabajos - calores"
   ]
  },
  {
   "cell_type": "markdown",
   "metadata": {},
   "source": [
    "$\\begin{array}{|l|l|l|}\n",
    "\\hline\n",
    "n^\\circ & \\mbox{Ecuación} & \\mbox{Incógnita} \\\\\n",
    "\\hline\n",
    "1) & W_{MT} = 10 \\% W_{MT} + W_c + W_{pal} & W_{MT} \\\\\n",
    "2) & Q_{perd} = 10 \\% W_{MT} & Q_{perd} \\\\\n",
    "\\hline\n",
    "\\end{array}$"
   ]
  },
  {
   "cell_type": "markdown",
   "metadata": {},
   "source": [
    "$$ \\Delta S_{medio} = \\frac{Q_{perd}}{T_0} \\qquad (+) $$"
   ]
  },
  {
   "cell_type": "markdown",
   "metadata": {},
   "source": [
    "### Máquina térmica (funciona hasta pararse)\n",
    "Datos diponibles: $c_{c1}, \\, T_1, \\, T_2, \\, W_{MT}, \\, \\eta_{term}=0,8 \\eta_{term,id}$"
   ]
  },
  {
   "cell_type": "markdown",
   "metadata": {},
   "source": [
    "$\\begin{array}{|l|l|l|}\n",
    "\\hline\n",
    "n^\\circ & \\mbox{Ecuación} & \\mbox{Incógnitas} \\\\\n",
    "\\hline\n",
    "1) & Q_1 = m_1 c_{p1} (T_2 - T_{1i}) & Q_1, m_1 \\\\\n",
    "2) & \\displaystyle \\eta_{term} = \\frac{W_{MT}}{Q_1} & \\eta_{term}\\\\\n",
    "3) & \\eta_{term} = \\eta_{term,id} & \\eta_{term.id} \\\\\n",
    "4) & \\displaystyle \\eta_{term,id} = \\frac{W_{MT}}{Q_{1id}} & Q_{1id} \\\\\n",
    "5) & Q_{1id} = m_{1id} c_{p1} (T_2 - T_{1i}) & m_{1id} \\\\\n",
    "6) & \\Delta S_{1id} = m_{1id} c_{p1} \\ln (T_2/T_{1i}) & \\Delta S_{1id} \\\\\n",
    "7) & \\Delta S_{uid} = \\Delta S_{1id} + \\Delta S_{2id} & \\Delta S_{uid}, \\Delta S_{2id} \\\\\n",
    "8) & \\Delta S_{uid} = 0 \\qquad \\mbox{(por reversibles)} \\\\\n",
    "9) & \\displaystyle \\Delta S_{2id} = \\frac{Q_{2id}}{T_2} & Q_{2id} \\\\\n",
    "10) & W_{MT} = Q_{1id} + Q_{2id} \\\\\n",
    "\\hline\n",
    "11) & \\Delta S_1 = m_1 c_{p1} \\ln (T_2/T_{1i}) \\qquad (-) & \\Delta S_1 \\\\\n",
    "12) & \\displaystyle \\Delta S_2 = \\frac{Q_2}{T_2} \\quad (+) & \\Delta S_2, Q_2 \\\\\n",
    "13) & W_{MT} = Q_1 + Q_2 \\\\\n",
    "14) & Q_{U1} = Q_1 - T_0 \\Delta S_1 & Q_{U1} \\\\\n",
    "15) & Q_{U2} = Q_2 - T_0 \\Delta S_2 & Q_{U2} \\\\\n",
    "16) & W_{perd} = T_0 \\Delta S_{uMT} & W_{perd}, \\Delta S_{uMT} \\\\\n",
    "17) & \\Delta S_{uMT} = \\Delta S_1 + \\Delta S_2 \\\\\n",
    "\\hline\n",
    "\\end{array}$"
   ]
  },
  {
   "cell_type": "markdown",
   "metadata": {},
   "source": [
    "### Análisis de $Q_{U1}$"
   ]
  },
  {
   "cell_type": "markdown",
   "metadata": {},
   "source": [
    "$\\downarrow T_1 (t) \\quad\n",
    "\\begin{array}{rl}\n",
    "  & T_{1i} = 40^\\circ \\mathrm{C} \\\\\n",
    "\\hline\n",
    "\\Delta T = 20^\\circ \\mathrm{C} & \\updownarrow \\\\\n",
    "- - - - - - - - - & T_0=20^\\circ \\mathrm{C} \\\\\n",
    "\\Delta T=20^\\circ \\mathrm{C} & \\updownarrow \\\\\n",
    "\\hline\n",
    "  & T=0^\\circ \\mathrm{C} \\\\\n",
    "\\end{array}$"
   ]
  },
  {
   "cell_type": "markdown",
   "metadata": {},
   "source": [
    "$\\begin{array}{l}\n",
    "\\mbox{Si } T_f<0^\\circ \\mathrm{C} \\quad \\Rightarrow Q_{U1} \\rightarrow \\; \\mbox{producido} \\\\\n",
    "\\mbox{Si } T_f>0^\\circ \\mathrm{C} \\quad \\Rightarrow Q_{U1} \\rightarrow \\; \\mbox{consumido}\n",
    "\\end{array}$"
   ]
  },
  {
   "cell_type": "markdown",
   "metadata": {},
   "source": [
    "$\\mbox{Como } T_f = 30^\\circ \\mathrm{C} \\quad \\Rightarrow Q_{U1} \\rightarrow \\mbox{consumido}$"
   ]
  },
  {
   "cell_type": "markdown",
   "metadata": {},
   "source": [
    "Para 4 y 5 me llevo \n",
    "$\\rightarrow\n",
    "\\begin{array}{|ll|}\n",
    "\\hline\n",
    "\\Delta S_1 \\, (-) & Q_{U1} \\rightarrow (C) \\\\\n",
    "\\Delta S_2 \\, (+) & Q_{U2} \\rightarrow (P) \\\\\n",
    "\\hline\n",
    "\\end{array}$"
   ]
  },
  {
   "cell_type": "markdown",
   "metadata": {},
   "source": [
    "### Ahora resolvemos los puntos\n",
    "$\\left.\n",
    "\\begin{array}{l}\n",
    "1) \\\\\n",
    "3) \\\\\n",
    "\\end{array} \\;\n",
    "\\right\\} \\mbox{ya se resolvieron}$"
   ]
  },
  {
   "cell_type": "markdown",
   "metadata": {},
   "source": [
    "$\\mbox{2) Estado general del vapor}$"
   ]
  },
  {
   "cell_type": "markdown",
   "metadata": {},
   "source": [
    "$\\begin{array}{lclc}\n",
    "\\mbox{Si} & h_5 = h'_5 & \\Rightarrow \\mbox{Líquido saturado} & \\mbox{I} \\\\\n",
    "\\mbox{Si} & h_5 = h''_5 & \\Rightarrow \\mbox{Vapor saturado} & \\mbox{II} \\\\\n",
    "\\mbox{Si} & h'_5 < h_5 < h''_5 & \\Rightarrow \\mbox{Vapor húmedo} & \\mbox{III} \\\\\n",
    " & \\displaystyle x_5 = \\frac{h_5 - h'_5}{h''_5 - h'_5} \\\\\n",
    "\\mbox{Si} & h_5>h''_5 & \\Rightarrow \\mbox{vapor sobrecalentado} & \\mbox{IV} \\\\ \n",
    "\\end{array}$"
   ]
  },
  {
   "cell_type": "markdown",
   "metadata": {},
   "source": [
    "$4)$\n",
    "$$ \\Delta S_u = \\underbrace{\\Delta S_{gas}}_{(+)} + \\underbrace{\\Delta S_{45}}_{(+)} + \\underbrace{\\frac{Q_p}{T_0}}_{(+)} + \\underbrace{\\Delta S_1}_{(-)} + \\underbrace{\\Delta S_2}_{(+)} > 0 $$"
   ]
  },
  {
   "cell_type": "markdown",
   "metadata": {},
   "source": [
    "$5)$\n",
    "$$ \\eta_{ex} = \\frac{\\mbox{Ex. producida}}{\\mbox{Ex. consumida}} = \\frac{\\Delta Ex_{gas}(P) + \\Delta Ex_{45} + Q_{U2}}{\\Delta Ex_{gas} (C) + Q_{U1}} $$"
   ]
  },
  {
   "cell_type": "markdown",
   "metadata": {},
   "source": [
    "$6)$ Si $Q_p$ se almacena en una fuente a $T_f$ y de allí se quiere obtener $W$ ¿Cuál es el $W_{max}$ a obtener?"
   ]
  }
 ],
 "metadata": {
  "kernelspec": {
   "display_name": "Python 3",
   "language": "python",
   "name": "python3"
  },
  "language_info": {
   "codemirror_mode": {
    "name": "ipython",
    "version": 3
   },
   "file_extension": ".py",
   "mimetype": "text/x-python",
   "name": "python",
   "nbconvert_exporter": "python",
   "pygments_lexer": "ipython3",
   "version": "3.7.3"
  }
 },
 "nbformat": 4,
 "nbformat_minor": 4
}
