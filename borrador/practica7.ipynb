{
 "cells": [
  {
   "cell_type": "markdown",
   "metadata": {},
   "source": [
    "# Práctica 7"
   ]
  },
  {
   "cell_type": "markdown",
   "metadata": {},
   "source": [
    "## Ejercicio 39\n",
    "Una turbina adiabática recibe 10 kg/s de vapor a 30 bar y 320°C. El vapor egresa a 0,14 bar siendo el rendimiento isoentrópico de 75%. Se pide:\n",
    "1. Potencia\n",
    "2. $\\Delta S_u$\n",
    "3. Trabajo perdido\n",
    "\n",
    "<center><img src=\"../img/39.png\" width=\"300\"></center>"
   ]
  },
  {
   "cell_type": "markdown",
   "metadata": {},
   "source": [
    "### Solución"
   ]
  },
  {
   "cell_type": "code",
   "execution_count": 10,
   "metadata": {},
   "outputs": [],
   "source": [
    "# Datos:\n",
    "P_1 = 30e5 # [Pa]\n",
    "P_2 = 0.14e5 # [Pa]\n",
    "T_1 = 320 + 273.15 # [K]\n",
    "T_0 = 300 # [K]\n",
    "m = 10 # [kg/s]\n",
    "n_iso = 0.75"
   ]
  },
  {
   "cell_type": "code",
   "execution_count": 2,
   "metadata": {},
   "outputs": [],
   "source": [
    "import CoolProp.CoolProp as cp"
   ]
  },
  {
   "cell_type": "code",
   "execution_count": 4,
   "metadata": {},
   "outputs": [],
   "source": [
    "h_1 = cp.PropsSI('H','P',P_1,'T',T_1,'Water')\n",
    "s_1 = cp.PropsSI('S','P',P_1,'T',T_1,'Water')\n",
    "fase_1 = cp.PhaseSI('P',P_1,'T',T_1,'Water')"
   ]
  },
  {
   "cell_type": "code",
   "execution_count": 8,
   "metadata": {},
   "outputs": [
    {
     "name": "stdout",
     "output_type": "stream",
     "text": [
      "h_1 = 3044.15 [kJ/kg]\n",
      "s_1 = 6.62664 [kJ/(kg·K)] - gas\n"
     ]
    }
   ],
   "source": [
    "print('h_1 = %.2f [kJ/kg]'%(h_1/1000))\n",
    "print('s_1 = %.5f [kJ/(kg·K)] -'%(s_1/1000),fase_1)"
   ]
  },
  {
   "cell_type": "markdown",
   "metadata": {},
   "source": [
    "Luego $s_{2rev} = s_1$"
   ]
  },
  {
   "cell_type": "code",
   "execution_count": 11,
   "metadata": {},
   "outputs": [
    {
     "data": {
      "text/plain": [
       "'twophase'"
      ]
     },
     "execution_count": 11,
     "metadata": {},
     "output_type": "execute_result"
    }
   ],
   "source": [
    "s_2rev = s_1\n",
    "cp.PhaseSI('P',P_2,'S',s_2rev,'Water')"
   ]
  },
  {
   "cell_type": "code",
   "execution_count": 12,
   "metadata": {},
   "outputs": [],
   "source": [
    "sp1 = cp.PropsSI('S','P',P_2,'Q',0,'Water')\n",
    "sp2 = cp.PropsSI('S','P',P_2,'Q',1,'Water')"
   ]
  },
  {
   "cell_type": "markdown",
   "metadata": {},
   "source": [
    "$$ x_{2rev} = \\frac{ s_{2rev} - s' }{ s'' - s' } $$"
   ]
  },
  {
   "cell_type": "code",
   "execution_count": 13,
   "metadata": {},
   "outputs": [],
   "source": [
    "x_2rev = (s_2rev - sp1)/(sp2 - sp1)"
   ]
  },
  {
   "cell_type": "code",
   "execution_count": 15,
   "metadata": {},
   "outputs": [
    {
     "name": "stdout",
     "output_type": "stream",
     "text": [
      "x_2rev = 0.8075\n"
     ]
    }
   ],
   "source": [
    "print('x_2rev = %.4f'%x_2rev)"
   ]
  },
  {
   "cell_type": "code",
   "execution_count": 16,
   "metadata": {},
   "outputs": [
    {
     "data": {
      "text/plain": [
       "0.8074610978872369"
      ]
     },
     "execution_count": 16,
     "metadata": {},
     "output_type": "execute_result"
    }
   ],
   "source": [
    "# también directamente x_2rev\n",
    "cp.PropsSI('Q','P',P_2,'S',s_2rev,'Water')"
   ]
  },
  {
   "cell_type": "markdown",
   "metadata": {},
   "source": [
    "$$ h_{2rev} = x_{2rev} (h'' - h') + h' $$"
   ]
  },
  {
   "cell_type": "code",
   "execution_count": 17,
   "metadata": {},
   "outputs": [],
   "source": [
    "hp1 = cp.PropsSI('H','P',P_2,'Q',0,'Water')\n",
    "hp2 = cp.PropsSI('H','P',P_2,'Q',1,'Water')"
   ]
  },
  {
   "cell_type": "code",
   "execution_count": 18,
   "metadata": {},
   "outputs": [],
   "source": [
    "h_2rev = x_2rev*(hp2 - hp1) + hp1"
   ]
  },
  {
   "cell_type": "code",
   "execution_count": 19,
   "metadata": {},
   "outputs": [
    {
     "name": "stdout",
     "output_type": "stream",
     "text": [
      "h_2rev = 2138.35 [kJ/kg]\n"
     ]
    }
   ],
   "source": [
    "print('h_2rev = %.2f [kJ/kg]'%(h_2rev/1000))"
   ]
  },
  {
   "cell_type": "code",
   "execution_count": 21,
   "metadata": {},
   "outputs": [
    {
     "data": {
      "text/plain": [
       "2138.349720340493"
      ]
     },
     "execution_count": 21,
     "metadata": {},
     "output_type": "execute_result"
    }
   ],
   "source": [
    "# o tambien h_2rev\n",
    "cp.PropsSI('H','P',P_2,'Q',x_2rev,'Water')/1000"
   ]
  },
  {
   "cell_type": "markdown",
   "metadata": {},
   "source": [
    "Rendimiento isoentrópico\n",
    "\n",
    "$$ \\eta_{iso(s)} = \\frac{ \\dot{W}_{real} }{ \\dot{W}_{rev} } = \\frac{h_1 - h_{2real} }{ h_1 - h_{2rev} } = 0,75 $$"
   ]
  },
  {
   "cell_type": "markdown",
   "metadata": {},
   "source": [
    "Trabajo reversible\n",
    "\n",
    "$$ \\dot{W}_{rev} = m \\, (h_1 - h_{2rev} ) $$"
   ]
  },
  {
   "cell_type": "markdown",
   "metadata": {},
   "source": [
    "Trabajo real\n",
    "\n",
    "$$ \\dot{W}_{real} = \\eta_{iso} \\dot{W}_{rev} $$"
   ]
  },
  {
   "cell_type": "code",
   "execution_count": 22,
   "metadata": {},
   "outputs": [],
   "source": [
    "W_rev = m*(h_1 - h_2rev)\n",
    "W_real = n_iso*W_rev"
   ]
  },
  {
   "cell_type": "markdown",
   "metadata": {},
   "source": [
    "Trabajo real\n",
    "\n",
    "$$ \\dot{W}_{real} = m \\, (h_1 - h_{2real}) $$"
   ]
  },
  {
   "cell_type": "markdown",
   "metadata": {},
   "source": [
    "Entalpía en 2, real\n",
    "\n",
    "$$ h_{2real} = h_1 - \\frac{\\dot{W}_{real}}{m} $$"
   ]
  },
  {
   "cell_type": "code",
   "execution_count": 23,
   "metadata": {},
   "outputs": [],
   "source": [
    "h_2real = h_1 - W_real/m"
   ]
  },
  {
   "cell_type": "code",
   "execution_count": 25,
   "metadata": {},
   "outputs": [
    {
     "name": "stdout",
     "output_type": "stream",
     "text": [
      "h_2real = 2364.80 [kJ/kg]\n"
     ]
    }
   ],
   "source": [
    "print('h_2real = %.2f [kJ/kg]'%(h_2real/1000))"
   ]
  },
  {
   "cell_type": "markdown",
   "metadata": {},
   "source": [
    "Estado del vapor en 2, real\n",
    "\n",
    "$$ x_{2real} = \\frac{h_{2real} - h'}{h'' - h'} $$"
   ]
  },
  {
   "cell_type": "code",
   "execution_count": 26,
   "metadata": {},
   "outputs": [],
   "source": [
    "x_2real = (h_2real - hp1)/(hp2 - hp1)"
   ]
  },
  {
   "cell_type": "code",
   "execution_count": 27,
   "metadata": {},
   "outputs": [
    {
     "name": "stdout",
     "output_type": "stream",
     "text": [
      "x_2real = 0.9028\n"
     ]
    }
   ],
   "source": [
    "print('x_2real = %.4f'%x_2real)"
   ]
  },
  {
   "cell_type": "markdown",
   "metadata": {},
   "source": [
    "Entropía en 2, real\n",
    "\n",
    "$$ s_{2real} = x_{2real} (s'' - s') + s' $$"
   ]
  },
  {
   "cell_type": "code",
   "execution_count": 28,
   "metadata": {},
   "outputs": [],
   "source": [
    "sp1 = cp.PropsSI('S','P',P_2,'Q',0,'Water')\n",
    "sp2 = cp.PropsSI('S','P',P_2,'Q',1,'Water')"
   ]
  },
  {
   "cell_type": "code",
   "execution_count": 29,
   "metadata": {},
   "outputs": [],
   "source": [
    "s_2real = x_2real*(sp2 - sp1) + sp1"
   ]
  },
  {
   "cell_type": "code",
   "execution_count": 31,
   "metadata": {},
   "outputs": [
    {
     "name": "stdout",
     "output_type": "stream",
     "text": [
      "s_2real = 7.32192 [kJ/(kg·K)]\n"
     ]
    }
   ],
   "source": [
    "print('s_2real = %.5f [kJ/(kg·K)]'%(s_2real/1000))"
   ]
  },
  {
   "cell_type": "markdown",
   "metadata": {},
   "source": [
    "Variación de entropía del Universo\n",
    "\n",
    "$$ \\Delta S_u = \\underbrace{\\Delta S_m}_{\\equiv \\, 0}  + \\Delta S_s $$"
   ]
  },
  {
   "cell_type": "markdown",
   "metadata": {},
   "source": [
    "$\\Delta S_m \\, \\rightarrow \\, 0$, porque la turbina es adiabática."
   ]
  },
  {
   "cell_type": "markdown",
   "metadata": {},
   "source": [
    "$$ \\Delta S_u = m \\, (s_{2real} - s_1) $$"
   ]
  },
  {
   "cell_type": "code",
   "execution_count": 32,
   "metadata": {},
   "outputs": [],
   "source": [
    "DSu = m*(s_2real - s_1)"
   ]
  },
  {
   "cell_type": "code",
   "execution_count": 33,
   "metadata": {},
   "outputs": [
    {
     "name": "stdout",
     "output_type": "stream",
     "text": [
      "DSu = 6.9528 [kJ/(K·s)]\n"
     ]
    }
   ],
   "source": [
    "print('DSu = %.4f [kJ/(K·s)]'%(DSu/1000))"
   ]
  },
  {
   "cell_type": "markdown",
   "metadata": {},
   "source": [
    "Trabajo perdido\n",
    "\n",
    "$$ \\dot{W}_{perd} = T_0 \\, \\Delta S_u $$"
   ]
  },
  {
   "cell_type": "code",
   "execution_count": 34,
   "metadata": {},
   "outputs": [],
   "source": [
    "W_perd = T_0*DSu"
   ]
  },
  {
   "cell_type": "code",
   "execution_count": 35,
   "metadata": {},
   "outputs": [
    {
     "name": "stdout",
     "output_type": "stream",
     "text": [
      "W_perd = 2085.84 [kW]\n"
     ]
    }
   ],
   "source": [
    "print('W_perd = %.2f [kW]'%(W_perd/1000))"
   ]
  },
  {
   "cell_type": "code",
   "execution_count": 37,
   "metadata": {
    "jupyter": {
     "source_hidden": true
    }
   },
   "outputs": [
    {
     "name": "stdout",
     "output_type": "stream",
     "text": [
      "Resumen de resultados:\n",
      "1) Potencia: W_real = 6793.51 [kW]\n",
      "2) Variación de entropía del universo: DSu = 6.9528 [kJ/(K·s)]\n",
      "3) Trabajo perdido: W_perd = 2085.84 [kW]\n"
     ]
    }
   ],
   "source": [
    "print('Resumen de resultados:')\n",
    "print('1) Potencia: W_real = %.2f [kW]'%(W_real/1000))\n",
    "print('2) Variación de entropía del universo: DSu = %.4f [kJ/(K·s)]'%(DSu/1000))\n",
    "print('3) Trabajo perdido: W_perd = %.2f [kW]'%(W_perd/1000))"
   ]
  },
  {
   "cell_type": "code",
   "execution_count": 38,
   "metadata": {},
   "outputs": [],
   "source": [
    "%reset -s -f"
   ]
  },
  {
   "cell_type": "markdown",
   "metadata": {},
   "source": [
    "-----\n",
    "## Ejercicio 40\n",
    "Proceso con vapor de agua, la variación de entropía entre entrada y salida de la turbina es 3,2 kW/K. Determinar:\n",
    "1. $\\dot{W}$\n",
    "2. $\\eta_{iso(s)}$\n",
    "\n",
    "<center><img src=\"../img/40.png\" width=\"350\"></center>"
   ]
  },
  {
   "cell_type": "markdown",
   "metadata": {},
   "source": [
    "### Solución"
   ]
  },
  {
   "cell_type": "code",
   "execution_count": 1,
   "metadata": {},
   "outputs": [],
   "source": [
    "import CoolProp.CoolProp as cp"
   ]
  },
  {
   "cell_type": "code",
   "execution_count": 2,
   "metadata": {},
   "outputs": [],
   "source": [
    "# Datos:\n",
    "P_1 = 22e5 # [Pa]\n",
    "T_1 = 300 + 273.15 # [K]\n",
    "m = 4 # [kg/s]\n",
    "P_2 = 0.4e5 # [Pa]\n",
    "P_0 = 1e5 # [Pa]\n",
    "T_0 = 300 # [K]\n",
    "DS_s = 3.2e3 # [W/K]"
   ]
  },
  {
   "cell_type": "code",
   "execution_count": 3,
   "metadata": {},
   "outputs": [
    {
     "data": {
      "text/plain": [
       "'gas'"
      ]
     },
     "execution_count": 3,
     "metadata": {},
     "output_type": "execute_result"
    }
   ],
   "source": [
    "cp.PhaseSI('P',P_1,'T',T_1,'Water')"
   ]
  },
  {
   "cell_type": "code",
   "execution_count": 4,
   "metadata": {},
   "outputs": [],
   "source": [
    "h_1 = cp.PropsSI('H','P',P_1,'T',T_1,'Water')\n",
    "s_1 = cp.PropsSI('S','P',P_1,'T',T_1,'Water')"
   ]
  },
  {
   "cell_type": "code",
   "execution_count": 5,
   "metadata": {},
   "outputs": [
    {
     "name": "stdout",
     "output_type": "stream",
     "text": [
      "h_1 = 3018.42 [kJ/kg]\n",
      "s_1 = 6.7167 [kJ/(kg·K)]\n"
     ]
    }
   ],
   "source": [
    "print('h_1 = %.2f [kJ/kg]'%(h_1/1000))\n",
    "print('s_1 = %.4f [kJ/(kg·K)]'%(s_1/1000))"
   ]
  },
  {
   "cell_type": "markdown",
   "metadata": {},
   "source": [
    "$$ \\Delta S_u = \\overbrace{\\Delta S_m}^{\\equiv \\, 0} + \\Delta S_s $$"
   ]
  },
  {
   "cell_type": "markdown",
   "metadata": {},
   "source": [
    "$\\Delta S_m \\, \\rightarrow \\, 0$, porque la turbina es adiabática."
   ]
  },
  {
   "cell_type": "markdown",
   "metadata": {},
   "source": [
    "$$ \\Delta S_u = m \\, (s_2 - s_1) $$"
   ]
  },
  {
   "cell_type": "markdown",
   "metadata": {},
   "source": [
    "$$ s_2 = \\frac{\\Delta S_u}{m} + s_1 $$"
   ]
  },
  {
   "cell_type": "code",
   "execution_count": 6,
   "metadata": {},
   "outputs": [],
   "source": [
    "DS_u = DS_s\n",
    "s_2 = DS_u/m + s_1"
   ]
  },
  {
   "cell_type": "code",
   "execution_count": 7,
   "metadata": {},
   "outputs": [
    {
     "name": "stdout",
     "output_type": "stream",
     "text": [
      "s_2 = 7.5167 [kJ/(kg·K)]\n"
     ]
    }
   ],
   "source": [
    "print('s_2 = %.4f [kJ/(kg·K)]'%(s_2/1000))"
   ]
  },
  {
   "cell_type": "code",
   "execution_count": 8,
   "metadata": {},
   "outputs": [
    {
     "data": {
      "text/plain": [
       "'twophase'"
      ]
     },
     "execution_count": 8,
     "metadata": {},
     "output_type": "execute_result"
    }
   ],
   "source": [
    "cp.PhaseSI('P',P_2,'S',s_2,'Water')"
   ]
  },
  {
   "cell_type": "markdown",
   "metadata": {},
   "source": [
    "Estado del vapor en 2, (real)\n",
    "$$ x_2 = \\frac{s_2 - s'}{s'' - s'} $$"
   ]
  },
  {
   "cell_type": "code",
   "execution_count": 9,
   "metadata": {},
   "outputs": [],
   "source": [
    "sp1 = cp.PropsSI('S','P',P_2,'Q',0,'Water')\n",
    "sp2 = cp.PropsSI('S','P',P_2,'Q',1,'Water')"
   ]
  },
  {
   "cell_type": "code",
   "execution_count": 10,
   "metadata": {},
   "outputs": [],
   "source": [
    "x_2 = (s_2 - sp1)/(sp2 - sp1)"
   ]
  },
  {
   "cell_type": "code",
   "execution_count": 11,
   "metadata": {},
   "outputs": [
    {
     "name": "stdout",
     "output_type": "stream",
     "text": [
      "x_2 = 0.9771\n"
     ]
    }
   ],
   "source": [
    "print('x_2 = %.4f'%x_2)"
   ]
  },
  {
   "cell_type": "code",
   "execution_count": 12,
   "metadata": {},
   "outputs": [
    {
     "data": {
      "text/plain": [
       "0.9770782418099017"
      ]
     },
     "execution_count": 12,
     "metadata": {},
     "output_type": "execute_result"
    }
   ],
   "source": [
    "# o también x_2\n",
    "cp.PropsSI('Q','P',P_2,'S',s_2,'Water')"
   ]
  },
  {
   "cell_type": "markdown",
   "metadata": {},
   "source": [
    "$$ h_{2real} = x_{2real} \\, (h'' -h') + h' $$"
   ]
  },
  {
   "cell_type": "code",
   "execution_count": 13,
   "metadata": {},
   "outputs": [],
   "source": [
    "hp1 = cp.PropsSI('H','P',P_2,'Q',0,'Water')\n",
    "hp2 = cp.PropsSI('H','P',P_2,'Q',1,'Water')"
   ]
  },
  {
   "cell_type": "code",
   "execution_count": 14,
   "metadata": {},
   "outputs": [],
   "source": [
    "h_2 = x_2*(hp2 - hp1) + hp1"
   ]
  },
  {
   "cell_type": "code",
   "execution_count": 15,
   "metadata": {},
   "outputs": [
    {
     "name": "stdout",
     "output_type": "stream",
     "text": [
      "h_2 = 2582.91 [kJ/kg]\n"
     ]
    }
   ],
   "source": [
    "print('h_2 = %.2f [kJ/kg]'%(h_2/1000))"
   ]
  },
  {
   "cell_type": "code",
   "execution_count": 16,
   "metadata": {},
   "outputs": [
    {
     "data": {
      "text/plain": [
       "2582.9088612337355"
      ]
     },
     "execution_count": 16,
     "metadata": {},
     "output_type": "execute_result"
    }
   ],
   "source": [
    "# o también\n",
    "cp.PropsSI('H','P',P_2,'S',s_2,'Water')/1000"
   ]
  },
  {
   "cell_type": "markdown",
   "metadata": {},
   "source": [
    "Potencia\n",
    "$$ \\dot{W} = \\dot{m} \\, (h_1 - h_2) $$"
   ]
  },
  {
   "cell_type": "code",
   "execution_count": 17,
   "metadata": {},
   "outputs": [],
   "source": [
    "W = m*(h_1 - h_2)"
   ]
  },
  {
   "cell_type": "code",
   "execution_count": 18,
   "metadata": {},
   "outputs": [
    {
     "name": "stdout",
     "output_type": "stream",
     "text": [
      "W = 1742.03 [kW]\n"
     ]
    }
   ],
   "source": [
    "print('W = %.2f [kW]'%(W/1000))"
   ]
  },
  {
   "cell_type": "markdown",
   "metadata": {},
   "source": [
    "Rendimiento isoentrópico\n",
    "\n",
    "$$ \\eta_{iso(s)} = \\frac{\\dot{W}_{real}}{\\dot{W}_{ideal}} = \\frac{h_1 - h_2}{h_1 - h_{2rev}} $$"
   ]
  },
  {
   "cell_type": "markdown",
   "metadata": {},
   "source": [
    "Averiguamos el $x_{2rev}$\n",
    "\n",
    "$$ x_{2rev} = \\frac{s_{2rev} - s'}{s'' - s'} $$"
   ]
  },
  {
   "cell_type": "code",
   "execution_count": 19,
   "metadata": {},
   "outputs": [],
   "source": [
    "s_2rev = s_1\n",
    "x_2rev = (s_2rev - sp1)/(sp2 - sp1)"
   ]
  },
  {
   "cell_type": "code",
   "execution_count": 20,
   "metadata": {},
   "outputs": [
    {
     "name": "stdout",
     "output_type": "stream",
     "text": [
      "x_2rev = 0.8566\n"
     ]
    }
   ],
   "source": [
    "print('x_2rev = %.4f'%x_2rev)"
   ]
  },
  {
   "cell_type": "markdown",
   "metadata": {},
   "source": [
    "Luego $h_{2rev}$\n",
    "\n",
    "$$ h_{2rev} = x_{2rev} \\, (h'' - h') + h' $$"
   ]
  },
  {
   "cell_type": "code",
   "execution_count": 21,
   "metadata": {},
   "outputs": [],
   "source": [
    "h_2rev = x_2rev*(hp2 - hp1) + hp1"
   ]
  },
  {
   "cell_type": "code",
   "execution_count": 22,
   "metadata": {},
   "outputs": [
    {
     "name": "stdout",
     "output_type": "stream",
     "text": [
      "h_2rev = 2303.70 [kJ/kg]\n"
     ]
    }
   ],
   "source": [
    "print('h_2rev = %.2f [kJ/kg]'%(h_2rev/1000))"
   ]
  },
  {
   "cell_type": "markdown",
   "metadata": {},
   "source": [
    "Rendimiento\n",
    "\n",
    "$$ \\eta_{iso} = \\frac{h_1 - h_{2real}}{h_1 - h_{2rev}} $$"
   ]
  },
  {
   "cell_type": "code",
   "execution_count": 23,
   "metadata": {},
   "outputs": [],
   "source": [
    "n_iso = (h_1 - h_2)/(h_1 - h_2rev)"
   ]
  },
  {
   "cell_type": "code",
   "execution_count": 24,
   "metadata": {},
   "outputs": [
    {
     "name": "stdout",
     "output_type": "stream",
     "text": [
      "n_iso = 0.60935\n"
     ]
    }
   ],
   "source": [
    "print('n_iso = %.5f'%n_iso)"
   ]
  },
  {
   "cell_type": "markdown",
   "metadata": {},
   "source": [
    "Variación de entropía del Universo\n",
    "\n",
    "$$ \\Delta S_u = \\underbrace{\\Delta S_m}_{\\equiv \\, 0} + \\Delta S_s $$"
   ]
  },
  {
   "cell_type": "markdown",
   "metadata": {},
   "source": [
    "$\\Delta S_m = 0$, porque la turbina es adiabática."
   ]
  },
  {
   "cell_type": "markdown",
   "metadata": {},
   "source": [
    "$$ \\Delta S_u = m \\, (s_{2real} - s_1) $$"
   ]
  },
  {
   "cell_type": "code",
   "execution_count": 25,
   "metadata": {},
   "outputs": [],
   "source": [
    "DS_u = DS_s"
   ]
  },
  {
   "cell_type": "code",
   "execution_count": 26,
   "metadata": {},
   "outputs": [
    {
     "name": "stdout",
     "output_type": "stream",
     "text": [
      "DS_u = 3.20 [kJ/K·s]\n"
     ]
    }
   ],
   "source": [
    "print('DS_u = %.2f [kJ/K·s]'%(DS_u/1000))"
   ]
  },
  {
   "cell_type": "markdown",
   "metadata": {},
   "source": [
    "Trabajo perdido\n",
    "\n",
    "$$ \\dot{W}_{perd} = T_0 \\Delta S_u $$"
   ]
  },
  {
   "cell_type": "code",
   "execution_count": 27,
   "metadata": {},
   "outputs": [],
   "source": [
    "W_perd = T_0*DS_u"
   ]
  },
  {
   "cell_type": "code",
   "execution_count": 28,
   "metadata": {},
   "outputs": [
    {
     "name": "stdout",
     "output_type": "stream",
     "text": [
      "W_perd = 960.0 [kJ]\n"
     ]
    }
   ],
   "source": [
    "print('W_perd = %.1f [kJ]'%(W_perd/1000))"
   ]
  },
  {
   "cell_type": "code",
   "execution_count": 29,
   "metadata": {},
   "outputs": [],
   "source": [
    "%reset -s -f"
   ]
  },
  {
   "cell_type": "markdown",
   "metadata": {},
   "source": [
    "## Ejercicio 41\n",
    "Un turbina es accionada por aire a 22 bar y 1000 K, saliendo de la misma a 0,3 bar.\n",
    "\n",
    "Sabiendo que $\\Delta S_{12} = 1,8 \\, \\mathrm{[kJ/K]}$\n",
    "\n",
    "<center><img src=\"../img/41.png\" width=\"350\"></center>"
   ]
  },
  {
   "cell_type": "markdown",
   "metadata": {},
   "source": [
    "Determinar:\n",
    "1. $T_{2rev}$ y $T_2$\n",
    "2. $\\dot{W}_{rev}$ y $\\dot{W}$"
   ]
  },
  {
   "cell_type": "markdown",
   "metadata": {},
   "source": [
    "### Solución"
   ]
  },
  {
   "cell_type": "code",
   "execution_count": 37,
   "metadata": {},
   "outputs": [],
   "source": [
    "# Datos:\n",
    "P_1 = 22e5 # [Pa]\n",
    "T_1 = 1000 # [K]\n",
    "P_2 = 0.3e5 # [Pa]\n",
    "m_1 = 4 # [kg/s]\n",
    "k = 1.4 # (dato de tabla)\n",
    "DS_12 = 1.8e3 # [J/K]\n",
    "R = 0.287e3 # [J/(kg·K)]\n",
    "cp = 1.0047e3 # [J/[kg·K]]\n",
    "m = 4 # [kg/s]"
   ]
  },
  {
   "cell_type": "markdown",
   "metadata": {},
   "source": [
    "$$ T_{2rev} = T_1 \\left( \\frac{P_2}{P_1} \\right)^{(k-1)/k} $$"
   ]
  },
  {
   "cell_type": "code",
   "execution_count": 32,
   "metadata": {},
   "outputs": [],
   "source": [
    "T_2rev = T_1*(P_2/P_1)**((k-1)/k)"
   ]
  },
  {
   "cell_type": "code",
   "execution_count": 33,
   "metadata": {},
   "outputs": [
    {
     "name": "stdout",
     "output_type": "stream",
     "text": [
      "T_2rev = 293.13 [K]\n"
     ]
    }
   ],
   "source": [
    "print('T_2rev = %.2f [K]'%T_2rev)"
   ]
  },
  {
   "cell_type": "markdown",
   "metadata": {},
   "source": [
    "$$ \\Delta s = s_2 - s_1 = c_p \\ln \\frac{T_2}{T_1} - R \\ln \\frac{P_2}{P_1} $$"
   ]
  },
  {
   "cell_type": "markdown",
   "metadata": {},
   "source": [
    "Despejo $T_2$"
   ]
  },
  {
   "cell_type": "markdown",
   "metadata": {},
   "source": [
    "$$ T_2 = T_1 e^{[\\Delta s + R \\ln (P_2/P_1)]/c_p} $$"
   ]
  },
  {
   "cell_type": "markdown",
   "metadata": {},
   "source": [
    "$$ T_2 = T_1 e^{\\Delta s/c_p} \\left( \\frac{P_2}{P_1} \\right)^{R/c_p} $$"
   ]
  },
  {
   "cell_type": "code",
   "execution_count": 34,
   "metadata": {},
   "outputs": [],
   "source": [
    "import numpy as np"
   ]
  },
  {
   "cell_type": "code",
   "execution_count": 38,
   "metadata": {},
   "outputs": [],
   "source": [
    "Ds = DS_12/m\n",
    "\n",
    "T_2 = T_1*np.exp(1)**(Ds/cp)*(P_2/P_1)**(R/cp)"
   ]
  },
  {
   "cell_type": "code",
   "execution_count": 39,
   "metadata": {},
   "outputs": [
    {
     "name": "stdout",
     "output_type": "stream",
     "text": [
      "T_2 = 458.86 [K]\n",
      "t_2 = 185.71 [°C]\n"
     ]
    }
   ],
   "source": [
    "print('T_2 = %.2f [K]'%T_2)\n",
    "print('t_2 = %.2f [°C]'%(T_2 - 273.15))"
   ]
  },
  {
   "cell_type": "markdown",
   "metadata": {},
   "source": [
    "Trabajo real\n",
    "\n",
    "$\\left\\{\n",
    "\\begin{array}{l}\n",
    "h_1 = T_1 c_p \\\\\n",
    "h_2 = T_2 c_p\n",
    "\\end{array}\n",
    "\\right. \\qquad \\rightarrow \\qquad \\dot{W} = \\dot{m} (h_1 - h_2)$"
   ]
  },
  {
   "cell_type": "markdown",
   "metadata": {},
   "source": [
    "Trabajo reversible (ideal)\n",
    "\n",
    "$h_{2rev} = T_{2rev} c_p \\qquad \\rightarrow \\qquad \\dot{W}_{rev} = \\dot{m} (h_1 - h_{2rev})$"
   ]
  },
  {
   "cell_type": "code",
   "execution_count": 40,
   "metadata": {},
   "outputs": [],
   "source": [
    "# Entalpías\n",
    "h_1 = T_1*cp\n",
    "h_2 = T_2*cp\n",
    "h_2rev = T_2rev\n",
    "# Trabajos\n",
    "W_rev = m*(h_1 - h_2rev)\n",
    "W = m*(h_1 - h_2)"
   ]
  },
  {
   "cell_type": "code",
   "execution_count": 43,
   "metadata": {},
   "outputs": [
    {
     "name": "stdout",
     "output_type": "stream",
     "text": [
      "W_rev = 4017.63 [kW]\n",
      "W = 2174.73 [kW]\n"
     ]
    }
   ],
   "source": [
    "print('W_rev = %.2f [kW]'%(W_rev/1000))\n",
    "print('W = %.2f [kW]'%(W/1000))"
   ]
  },
  {
   "cell_type": "code",
   "execution_count": 44,
   "metadata": {},
   "outputs": [],
   "source": [
    "%reset -s -f"
   ]
  },
  {
   "cell_type": "markdown",
   "metadata": {},
   "source": [
    "## Ejercicio 43\n",
    "\n",
    "<center><img src=\"../img/43.png\" width=\"350\"></center>\n",
    "\n",
    "1. $\\dot{W}$\n",
    "2. Estado vapor 4 $(P, \\, t, \\, x)$\n",
    "3. $\\Delta \\dot{S}_u$"
   ]
  },
  {
   "cell_type": "markdown",
   "metadata": {},
   "source": [
    "### Solución"
   ]
  },
  {
   "cell_type": "code",
   "execution_count": 45,
   "metadata": {},
   "outputs": [],
   "source": [
    "import CoolProp.CoolProp as cp"
   ]
  },
  {
   "cell_type": "code",
   "execution_count": 46,
   "metadata": {},
   "outputs": [],
   "source": [
    "# Datos:\n",
    "m_1 = 1.25 # [kg/s]\n",
    "P_1 = 10.5e5 # [Pa]\n",
    "T_1 = 250 + 273.15 # [K]\n",
    "m_3 = 3 # [kg/s]\n",
    "T_3 = 240 + 273.15 # [K]\n",
    "P_4 = 2e5 # [Pa]\n",
    "n_iso = 0.8"
   ]
  },
  {
   "cell_type": "code",
   "execution_count": 74,
   "metadata": {},
   "outputs": [],
   "source": [
    "P_2 = P_4\n",
    "P_3 = P_4\n",
    "m_2 = m_1"
   ]
  },
  {
   "cell_type": "code",
   "execution_count": 47,
   "metadata": {},
   "outputs": [],
   "source": [
    "h_1 = cp.PropsSI('H','P',P_1,'T',T_1,'Water')\n",
    "s_1 = cp.PropsSI('S','P',P_1,'T',T_1,'Water')\n",
    "phase_1 = cp.PhaseSI('P',P_1,'T',T_1,'Water')"
   ]
  },
  {
   "cell_type": "code",
   "execution_count": 51,
   "metadata": {},
   "outputs": [
    {
     "name": "stdout",
     "output_type": "stream",
     "text": [
      "Fase en 1: gas\n",
      "h_1 = 2941.26 [kJ/kg]\n",
      "s_1 = 6.90124 [kJ/(kg·K)]\n"
     ]
    }
   ],
   "source": [
    "print('Fase en 1:',phase_1)\n",
    "print('h_1 = %.2f [kJ/kg]'%(h_1/1000))\n",
    "print('s_1 = %.5f [kJ/(kg·K)]'%(s_1/1000))"
   ]
  },
  {
   "cell_type": "code",
   "execution_count": 54,
   "metadata": {},
   "outputs": [],
   "source": [
    "s_2rev = s_1\n",
    "phase_2 = cp.PhaseSI('P',P_2,'S',s_2rev,'Water')"
   ]
  },
  {
   "cell_type": "code",
   "execution_count": 55,
   "metadata": {},
   "outputs": [
    {
     "name": "stdout",
     "output_type": "stream",
     "text": [
      "Fase en 2: twophase\n"
     ]
    }
   ],
   "source": [
    "print('Fase en 2:',phase_2)"
   ]
  },
  {
   "cell_type": "markdown",
   "metadata": {},
   "source": [
    "Calidad del vapor en 2, reversible o ideal\n",
    "\n",
    "$$ x_{2rev} = \\frac{s_{2rev} - s'}{s'' - s'} $$"
   ]
  },
  {
   "cell_type": "code",
   "execution_count": 56,
   "metadata": {},
   "outputs": [],
   "source": [
    "sp1 = cp.PropsSI('S','P',P_2,'Q',0,'Water')\n",
    "sp2 = cp.PropsSI('S','P',P_2,'Q',1,'Water')"
   ]
  },
  {
   "cell_type": "code",
   "execution_count": 57,
   "metadata": {},
   "outputs": [],
   "source": [
    "x_2rev = (s_2rev - sp1)/(sp2 - sp1)"
   ]
  },
  {
   "cell_type": "code",
   "execution_count": 58,
   "metadata": {},
   "outputs": [
    {
     "name": "stdout",
     "output_type": "stream",
     "text": [
      "x_2rev = 0.9597\n"
     ]
    }
   ],
   "source": [
    "print('x_2rev = %.4f'%x_2rev)"
   ]
  },
  {
   "cell_type": "markdown",
   "metadata": {},
   "source": [
    "Entalpía en 2, reversible o ideal\n",
    "\n",
    "$$ h_{2rev} = x_{2rev} (h'' - h') + h' $$"
   ]
  },
  {
   "cell_type": "code",
   "execution_count": 59,
   "metadata": {},
   "outputs": [],
   "source": [
    "hp1 = cp.PropsSI('H','P',P_2,'Q',0,'Water')\n",
    "hp2 = cp.PropsSI('H','P',P_2,'Q',1,'Water')"
   ]
  },
  {
   "cell_type": "code",
   "execution_count": 60,
   "metadata": {},
   "outputs": [],
   "source": [
    "h_2rev = x_2rev*(hp2 - hp1) + hp1"
   ]
  },
  {
   "cell_type": "code",
   "execution_count": 61,
   "metadata": {},
   "outputs": [
    {
     "name": "stdout",
     "output_type": "stream",
     "text": [
      "h_2rev = 2617.47 [kJ/kg]\n"
     ]
    }
   ],
   "source": [
    "print('h_2rev = %.2f [kJ/kg]'%(h_2rev/1000))"
   ]
  },
  {
   "cell_type": "markdown",
   "metadata": {},
   "source": [
    "$$ \\eta_{iso(s)} = \\frac{\\dot{W}_{real}}{\\dot{W}_{ideal}} = \\frac{h_1 - h_{2real}}{h_1 - h_{2rev}} $$"
   ]
  },
  {
   "cell_type": "markdown",
   "metadata": {},
   "source": [
    "Entalpía en 2, real\n",
    "\n",
    "$$ h_{2real} = h_1 - \\eta_{iso} (h_1 - h_{2rev}) $$"
   ]
  },
  {
   "cell_type": "code",
   "execution_count": 62,
   "metadata": {},
   "outputs": [],
   "source": [
    "h_2 = h_1 - n_iso*(h_1 - h_2rev)"
   ]
  },
  {
   "cell_type": "code",
   "execution_count": 63,
   "metadata": {},
   "outputs": [
    {
     "name": "stdout",
     "output_type": "stream",
     "text": [
      "h_2 = 2682.23 [kJ/kg]\n"
     ]
    }
   ],
   "source": [
    "print('h_2 = %.2f [kJ/kg]'%(h_2/1000))"
   ]
  },
  {
   "cell_type": "markdown",
   "metadata": {},
   "source": [
    "Calidad del vapor en 2, real\n",
    "\n",
    "$$ x_{2real} = \\frac{h_{2real} - h'}{h'' - h'} $$"
   ]
  },
  {
   "cell_type": "markdown",
   "metadata": {},
   "source": [
    "Entropía en 2, real\n",
    "\n",
    "$$ s_{2real} = x_{2real} (s'' - s') + s' $$"
   ]
  },
  {
   "cell_type": "code",
   "execution_count": 64,
   "metadata": {},
   "outputs": [],
   "source": [
    "x_2 = (h_2 - hp1)/(hp2 - hp1)\n",
    "s_2 = x_2*(sp2 - sp1) + sp1"
   ]
  },
  {
   "cell_type": "code",
   "execution_count": 65,
   "metadata": {},
   "outputs": [
    {
     "name": "stdout",
     "output_type": "stream",
     "text": [
      "x_2 = 0.9891\n",
      "s_2 = 7065.87 [kJ/kg·K]\n"
     ]
    }
   ],
   "source": [
    "print('x_2 = %.4f'%x_2)\n",
    "print('s_2 = %.2f [kJ/kg·K]'%s_2)"
   ]
  },
  {
   "cell_type": "markdown",
   "metadata": {},
   "source": [
    "Potencia\n",
    "\n",
    "$$ \\dot{W} = m_1 (h_1 - h_{2real}) $$"
   ]
  },
  {
   "cell_type": "code",
   "execution_count": 66,
   "metadata": {},
   "outputs": [],
   "source": [
    "W = m_1*(h_1 - h_2)"
   ]
  },
  {
   "cell_type": "code",
   "execution_count": 67,
   "metadata": {},
   "outputs": [
    {
     "name": "stdout",
     "output_type": "stream",
     "text": [
      "W = 323.79 [kW]\n"
     ]
    }
   ],
   "source": [
    "print('W = %.2f [kW]'%(W/1000))"
   ]
  },
  {
   "cell_type": "code",
   "execution_count": 68,
   "metadata": {},
   "outputs": [],
   "source": [
    "T_2 = cp.PropsSI('T','P',P_2,'H',h_2,'Water')"
   ]
  },
  {
   "cell_type": "code",
   "execution_count": 69,
   "metadata": {},
   "outputs": [
    {
     "name": "stdout",
     "output_type": "stream",
     "text": [
      "T_2 = 393.36 [K]\n",
      "t_2 = 120.21 [°C]\n"
     ]
    }
   ],
   "source": [
    "print('T_2 = %.2f [K]'%T_2)\n",
    "print('t_2 = %.2f [°C]'%(T_2 - 273.15))"
   ]
  },
  {
   "cell_type": "code",
   "execution_count": 70,
   "metadata": {},
   "outputs": [],
   "source": [
    "h_3 = cp.PropsSI('H','P',P_3,'T',T_3,'Water')"
   ]
  },
  {
   "cell_type": "code",
   "execution_count": 71,
   "metadata": {},
   "outputs": [
    {
     "name": "stdout",
     "output_type": "stream",
     "text": [
      "h_3 = 2951.11 [kJ/kg]\n"
     ]
    }
   ],
   "source": [
    "print('h_3 = %.2f [kJ/kg]'%(h_3/1000))"
   ]
  },
  {
   "cell_type": "markdown",
   "metadata": {},
   "source": [
    "Estado vapor en 4\n",
    "\n",
    "$$\\left\\{\n",
    "\\begin{array}{l}\n",
    "m_2 + m_3 = m_4 \\\\\n",
    "m_2 h_2 + m_3 h_3 = m_4 h_4 \n",
    "\\end{array}\n",
    "\\right.$$"
   ]
  },
  {
   "cell_type": "markdown",
   "metadata": {},
   "source": [
    "$$ m_2 h_2 + m_3 h_3 = (m_2 + m_3) h_4 $$"
   ]
  },
  {
   "cell_type": "markdown",
   "metadata": {},
   "source": [
    "$$ h_4 = \\frac{m_2 h_2 + m_3 h_3}{m_2 + m_3} $$"
   ]
  },
  {
   "cell_type": "code",
   "execution_count": 75,
   "metadata": {},
   "outputs": [],
   "source": [
    "h_4 = (m_2*h_2 + m_3*h_3)/(m_2 + m_3)"
   ]
  },
  {
   "cell_type": "code",
   "execution_count": 76,
   "metadata": {},
   "outputs": [
    {
     "name": "stdout",
     "output_type": "stream",
     "text": [
      "h_4 = 2872.03 [kJ/kg]\n"
     ]
    }
   ],
   "source": [
    "print('h_4 = %.2f [kJ/kg]'%(h_4/1000))"
   ]
  },
  {
   "cell_type": "code",
   "execution_count": 77,
   "metadata": {},
   "outputs": [],
   "source": [
    "phase_4 = cp.PhaseSI('P',P_4,'H',h_4,'Water')"
   ]
  },
  {
   "cell_type": "code",
   "execution_count": 78,
   "metadata": {},
   "outputs": [
    {
     "name": "stdout",
     "output_type": "stream",
     "text": [
      "Fase en 4: gas\n"
     ]
    }
   ],
   "source": [
    "print('Fase en 4:',phase_4)"
   ]
  },
  {
   "cell_type": "markdown",
   "metadata": {},
   "source": [
    "Entonces $x_4$ no existe."
   ]
  },
  {
   "cell_type": "code",
   "execution_count": 82,
   "metadata": {},
   "outputs": [],
   "source": [
    "T_4 = cp.PropsSI('T','P',P_4,'H',h_4,'Water')"
   ]
  },
  {
   "cell_type": "code",
   "execution_count": 83,
   "metadata": {},
   "outputs": [
    {
     "name": "stdout",
     "output_type": "stream",
     "text": [
      "T_4 = 473.80 [K]\n",
      "t_4 = 200.65 [°C]\n"
     ]
    }
   ],
   "source": [
    "print('T_4 = %.2f [K]'%T_4)\n",
    "print('t_4 = %.2f [°C]'%(T_4 - 273.15))"
   ]
  },
  {
   "cell_type": "markdown",
   "metadata": {},
   "source": [
    "Variación de entropía del universo\n",
    "\n",
    "$$ \\Delta S_u = \\underbrace{ \\Delta S_m }_{\\equiv \\, 0} + \\Delta S_s $$"
   ]
  },
  {
   "cell_type": "markdown",
   "metadata": {},
   "source": [
    "$$ \\Delta S_u = m_4 s_4 - (m_1 s_1 + m_3 s_3 ) $$"
   ]
  },
  {
   "cell_type": "code",
   "execution_count": 84,
   "metadata": {},
   "outputs": [],
   "source": [
    "m_4 = m_2 + m_3\n",
    "s_3 = cp.PropsSI('S','P',P_3,'T',T_3,'Water')\n",
    "s_4 = cp.PropsSI('S','P',P_4,'T',T_4,'Water')"
   ]
  },
  {
   "cell_type": "code",
   "execution_count": 85,
   "metadata": {},
   "outputs": [
    {
     "name": "stdout",
     "output_type": "stream",
     "text": [
      "s_3 = 7.67117 [kJ/(kg·K)]\n",
      "s_4 = 7.51082 [kJ/(kg·K)]\n"
     ]
    }
   ],
   "source": [
    "print('s_3 = %.5f [kJ/(kg·K)]'%(s_3/1000))\n",
    "print('s_4 = %.5f [kJ/(kg·K)]'%(s_4/1000))"
   ]
  },
  {
   "cell_type": "code",
   "execution_count": 86,
   "metadata": {},
   "outputs": [],
   "source": [
    "DS_u = m_4*s_4 - (m_1*s_1 + m_3*s_3)"
   ]
  },
  {
   "cell_type": "code",
   "execution_count": 87,
   "metadata": {},
   "outputs": [
    {
     "name": "stdout",
     "output_type": "stream",
     "text": [
      "DS_u = 0.2809 [kJ/K]\n"
     ]
    }
   ],
   "source": [
    "print('DS_u = %.4f [kJ/K]'%(DS_u/1000))"
   ]
  },
  {
   "cell_type": "code",
   "execution_count": 88,
   "metadata": {},
   "outputs": [],
   "source": [
    "%reset -s -f"
   ]
  },
  {
   "cell_type": "markdown",
   "metadata": {},
   "source": [
    "## Ejercicio 44\n",
    "\n",
    "<img src=\"../img/44.png\">\n",
    "\n",
    "Calcular:\n",
    "1. $\\dot{Q}$\n",
    "2. $\\Delta S_u$\n",
    "3. $\\eta_{iso(turbina)}$\n",
    "4. $\\dot{W}_{perdido}$"
   ]
  },
  {
   "cell_type": "markdown",
   "metadata": {},
   "source": [
    "### Solución"
   ]
  },
  {
   "cell_type": "code",
   "execution_count": 1,
   "metadata": {},
   "outputs": [],
   "source": [
    "# Datos:\n",
    "P_1 = 10e5 # [Pa]\n",
    "m_1 = 5 # [kg/s]\n",
    "x_1 = 1\n",
    "P_2 = 20e5 # [Pa]\n",
    "T_2 = 250 + 273.15 # [K]\n",
    "T_f = 900 # [K]\n",
    "T_5 = 350 + 273.15 # [K]\n",
    "P_6 = 0.4e5 # [Pa]\n",
    "x_6 = 1\n",
    "P_7 = P_6\n",
    "x_7 = 0\n",
    "T_8 = 20 + 273.15 # [K]\n",
    "T_9 = 80 + 273.15 # [K]\n",
    "W = 5000e3 # [W]\n",
    "P_8 = 1e5 # [Pa]\n",
    "P_9 = P_8\n",
    "P_3 = P_1\n",
    "P_4 = P_1\n",
    "P_5 = P_1\n",
    "P_0 = 1e5 # [Pa]\n",
    "T_0 = 300 # [K]"
   ]
  },
  {
   "cell_type": "code",
   "execution_count": 2,
   "metadata": {},
   "outputs": [],
   "source": [
    "import CoolProp.CoolProp as cp"
   ]
  },
  {
   "cell_type": "code",
   "execution_count": 3,
   "metadata": {},
   "outputs": [],
   "source": [
    "h_1 = cp.PropsSI('H','P',P_1,'Q',x_1,'Water')\n",
    "h_2 = cp.PropsSI('H','P',P_2,'T',T_2,'Water')\n",
    "h_5 = cp.PropsSI('H','P',P_5,'T',T_5,'Water')\n",
    "h_6 = cp.PropsSI('H','P',P_6,'Q',x_6,'Water')\n",
    "h_7 = cp.PropsSI('H','P',P_7,'Q',x_7,'Water')\n",
    "h_8 = cp.PropsSI('H','P',P_8,'T',T_8,'Water')\n",
    "h_9 = cp.PropsSI('H','P',P_9,'T',T_9,'Water')"
   ]
  },
  {
   "cell_type": "code",
   "execution_count": 4,
   "metadata": {
    "jupyter": {
     "source_hidden": true
    }
   },
   "outputs": [
    {
     "name": "stdout",
     "output_type": "stream",
     "text": [
      "h_1 = 2777.11 [kJ/kg]\n",
      "h_2 = 2903.24 [kJ/kg]\n",
      "h_5 = 3158.18 [kJ/kg]\n",
      "h_6 = 2636.05 [kJ/kg]\n",
      "h_7 = 317.62 [kJ/kg]\n",
      "h_8 = 84.01 [kJ/kg]\n",
      "h_9 = 335.05 [kJ/kg]\n"
     ]
    }
   ],
   "source": [
    "print('h_1 = %.2f [kJ/kg]'%(h_1/1000))\n",
    "print('h_2 = %.2f [kJ/kg]'%(h_2/1000))\n",
    "print('h_5 = %.2f [kJ/kg]'%(h_5/1000))\n",
    "print('h_6 = %.2f [kJ/kg]'%(h_6/1000))\n",
    "print('h_7 = %.2f [kJ/kg]'%(h_7/1000))\n",
    "print('h_8 = %.2f [kJ/kg]'%(h_8/1000))\n",
    "print('h_9 = %.2f [kJ/kg]'%(h_9/1000))"
   ]
  },
  {
   "cell_type": "code",
   "execution_count": 5,
   "metadata": {},
   "outputs": [],
   "source": [
    "s_1 = cp.PropsSI('S','P',P_1,'Q',x_1,'Water')\n",
    "s_2 = cp.PropsSI('S','P',P_2,'T',T_2,'Water')\n",
    "s_5 = cp.PropsSI('S','P',P_5,'T',T_5,'Water')\n",
    "s_6 = cp.PropsSI('S','P',P_6,'Q',x_6,'Water')\n",
    "s_7 = cp.PropsSI('S','P',P_7,'Q',x_7,'Water')\n",
    "s_8 = cp.PropsSI('S','P',P_8,'T',T_8,'Water')\n",
    "s_9 = cp.PropsSI('S','P',P_9,'T',T_9,'Water')"
   ]
  },
  {
   "cell_type": "code",
   "execution_count": 6,
   "metadata": {
    "jupyter": {
     "source_hidden": true
    }
   },
   "outputs": [
    {
     "name": "stdout",
     "output_type": "stream",
     "text": [
      "s_1 = 6.58502 [kJ/(kg·K)]\n",
      "s_2 = 6.54746 [kJ/(kg·K)]\n",
      "s_5 = 7.30287 [kJ/(kg·K)]\n",
      "s_6 = 7.66900 [kJ/(kg·K)]\n",
      "s_7 = 1.02607 [kJ/(kg·K)]\n",
      "s_8 = 0.29646 [kJ/(kg·K)]\n",
      "s_9 = 1.07554 [kJ/(kg·K)]\n"
     ]
    }
   ],
   "source": [
    "print('s_1 = %.5f [kJ/(kg·K)]'%(s_1/1000))\n",
    "print('s_2 = %.5f [kJ/(kg·K)]'%(s_2/1000))\n",
    "print('s_5 = %.5f [kJ/(kg·K)]'%(s_5/1000))\n",
    "print('s_6 = %.5f [kJ/(kg·K)]'%(s_6/1000))\n",
    "print('s_7 = %.5f [kJ/(kg·K)]'%(s_7/1000))\n",
    "print('s_8 = %.5f [kJ/(kg·K)]'%(s_8/1000))\n",
    "print('s_9 = %.5f [kJ/(kg·K)]'%(s_9/1000))"
   ]
  },
  {
   "cell_type": "markdown",
   "metadata": {},
   "source": [
    "Turbina\n",
    "$$ Q = \\Delta H + W $$"
   ]
  },
  {
   "cell_type": "markdown",
   "metadata": {},
   "source": [
    "$$ -\\Delta H = W $$"
   ]
  },
  {
   "cell_type": "markdown",
   "metadata": {},
   "source": [
    "$$ W = -[\\dot{m}_5(h_6 - h_5)] $$"
   ]
  },
  {
   "cell_type": "markdown",
   "metadata": {},
   "source": [
    "$$ W = \\dot{m}_5 (h_5 - h_6) $$"
   ]
  },
  {
   "cell_type": "markdown",
   "metadata": {},
   "source": [
    "Despejo $m_5$\n",
    "$$ \\dot{m}_5 = \\frac{W}{h_5 - h_6} $$"
   ]
  },
  {
   "cell_type": "code",
   "execution_count": 7,
   "metadata": {},
   "outputs": [],
   "source": [
    "m_5 = W/(h_5 - h_6)"
   ]
  },
  {
   "cell_type": "code",
   "execution_count": 8,
   "metadata": {},
   "outputs": [
    {
     "name": "stdout",
     "output_type": "stream",
     "text": [
      "m_5 = 9.576 [kg/s]\n"
     ]
    }
   ],
   "source": [
    "print('m_5 = %.3f [kg/s]'%m_5)"
   ]
  },
  {
   "cell_type": "code",
   "execution_count": 9,
   "metadata": {},
   "outputs": [],
   "source": [
    "m_4 = m_5"
   ]
  },
  {
   "cell_type": "markdown",
   "metadata": {},
   "source": [
    "Cámara de mezcla"
   ]
  },
  {
   "cell_type": "markdown",
   "metadata": {},
   "source": [
    "$$ \\dot{m}_3 = \\dot{m}_4 - \\dot{m}_1 $$"
   ]
  },
  {
   "cell_type": "markdown",
   "metadata": {},
   "source": [
    "$$ \\dot{m}_1 h_1 + \\dot{m}_3 h_3 = \\dot{m}_4 h_4 $$"
   ]
  },
  {
   "cell_type": "markdown",
   "metadata": {},
   "source": [
    "Despejamos $h_4$\n",
    "$$ h_4 = \\frac{ \\dot{m}_1 h_1 + \\dot{m}_3 h_3 }{ \\dot{m}_4 } $$"
   ]
  },
  {
   "cell_type": "markdown",
   "metadata": {},
   "source": [
    "Válvula\n",
    "$$ h_3 = h_2 $$"
   ]
  },
  {
   "cell_type": "code",
   "execution_count": 10,
   "metadata": {},
   "outputs": [],
   "source": [
    "h_3 = h_2\n",
    "m_3 = m_4 - m_1"
   ]
  },
  {
   "cell_type": "code",
   "execution_count": 11,
   "metadata": {},
   "outputs": [
    {
     "data": {
      "text/plain": [
       "'gas'"
      ]
     },
     "execution_count": 11,
     "metadata": {},
     "output_type": "execute_result"
    }
   ],
   "source": [
    "cp.PhaseSI('P',P_3,'H',h_3,'Water')"
   ]
  },
  {
   "cell_type": "code",
   "execution_count": 12,
   "metadata": {},
   "outputs": [],
   "source": [
    "s_3 = cp.PropsSI('S','P',P_3,'H',h_3,'Water')"
   ]
  },
  {
   "cell_type": "code",
   "execution_count": 13,
   "metadata": {},
   "outputs": [],
   "source": [
    "h_4 = (m_1*h_1 + m_3*h_3)/m_4"
   ]
  },
  {
   "cell_type": "code",
   "execution_count": 14,
   "metadata": {},
   "outputs": [
    {
     "name": "stdout",
     "output_type": "stream",
     "text": [
      "h_4 = 2837.38 [kJ/kg]\n"
     ]
    }
   ],
   "source": [
    "print('h_4 = %.2f [kJ/kg]'%(h_4/1000))"
   ]
  },
  {
   "cell_type": "code",
   "execution_count": 15,
   "metadata": {},
   "outputs": [
    {
     "data": {
      "text/plain": [
       "'gas'"
      ]
     },
     "execution_count": 15,
     "metadata": {},
     "output_type": "execute_result"
    }
   ],
   "source": [
    "cp.PhaseSI('P',P_4,'H',h_4,'Water')"
   ]
  },
  {
   "cell_type": "code",
   "execution_count": 16,
   "metadata": {},
   "outputs": [],
   "source": [
    "s_4 = cp.PropsSI('S','P',P_4,'H',h_4,'Water')"
   ]
  },
  {
   "cell_type": "code",
   "execution_count": 17,
   "metadata": {},
   "outputs": [
    {
     "name": "stdout",
     "output_type": "stream",
     "text": [
      "s_4 = 6.71474 [kJ/(kg·K)]\n"
     ]
    }
   ],
   "source": [
    "print('s_4 = %.5f [kJ/(kg·K)]'%(s_4/1000))"
   ]
  },
  {
   "cell_type": "markdown",
   "metadata": {},
   "source": [
    "Fuente\n",
    "$$ Q_f = \\dot{m}_4 (h_4 - h_5) $$"
   ]
  },
  {
   "cell_type": "code",
   "execution_count": 18,
   "metadata": {},
   "outputs": [],
   "source": [
    "Q_f = m_4*(h_4 - h_5)"
   ]
  },
  {
   "cell_type": "code",
   "execution_count": 19,
   "metadata": {},
   "outputs": [
    {
     "name": "stdout",
     "output_type": "stream",
     "text": [
      "Q_f = -3072.03 [kJ/s]\n"
     ]
    }
   ],
   "source": [
    "print('Q_f = %.2f [kJ/s]'%(Q_f/1000))"
   ]
  },
  {
   "cell_type": "markdown",
   "metadata": {},
   "source": [
    "Variación de entropía de la turbina\n",
    "\n",
    "$$ \\Delta S_{turb} = m_5 (s_6 - s_5) $$"
   ]
  },
  {
   "cell_type": "code",
   "execution_count": 20,
   "metadata": {},
   "outputs": [],
   "source": [
    "DS_turb = m_5*(s_6 - s_5)"
   ]
  },
  {
   "cell_type": "code",
   "execution_count": 21,
   "metadata": {},
   "outputs": [
    {
     "name": "stdout",
     "output_type": "stream",
     "text": [
      "DS_turb = 3.5060 [kJ/K]\n"
     ]
    }
   ],
   "source": [
    "print('DS_turb = %.4f [kJ/K]'%(DS_turb/1000))"
   ]
  },
  {
   "cell_type": "markdown",
   "metadata": {},
   "source": [
    "Intercambiador de calor\n",
    "\n",
    "$$ \\dot{m}_6 h_6 - \\dot{m} h_7 = \\dot{m}_9 h_9 - \\dot{m}_8 h_8  $$"
   ]
  },
  {
   "cell_type": "markdown",
   "metadata": {},
   "source": [
    "$\\left\\{\n",
    "\\begin{array}{l}\n",
    "\\dot{m}_6 = \\dot{m}_7 \\\\\n",
    "\\dot{m}_8 = \\dot{m}_9\n",
    "\\end{array}\n",
    "\\right.$"
   ]
  },
  {
   "cell_type": "markdown",
   "metadata": {},
   "source": [
    "Simplificando\n",
    "$$ \\dot{m}_6 (h_6 - h_7) = \\dot{m}_8 (h_9 - h_8) $$"
   ]
  },
  {
   "cell_type": "markdown",
   "metadata": {},
   "source": [
    "Despejo\n",
    "$$ \\dot{m}_8 = \\dot{m}_6 \\, \\frac{ h_6 - h_7 }{ h_9 - h_8 } $$"
   ]
  },
  {
   "cell_type": "code",
   "execution_count": 22,
   "metadata": {},
   "outputs": [],
   "source": [
    "m_6 = m_5\n",
    "\n",
    "m_8 = m_6*(h_6 - h_7)/(h_9 - h_8)"
   ]
  },
  {
   "cell_type": "code",
   "execution_count": 23,
   "metadata": {},
   "outputs": [
    {
     "name": "stdout",
     "output_type": "stream",
     "text": [
      "m_8 = 88.435 [kg/s]\n"
     ]
    }
   ],
   "source": [
    "print('m_8 = %.3f [kg/s]'%m_8)"
   ]
  },
  {
   "cell_type": "code",
   "execution_count": 24,
   "metadata": {},
   "outputs": [],
   "source": [
    "m_2 = m_3\n",
    "m_7 = m_6\n",
    "m_9 = m_8"
   ]
  },
  {
   "cell_type": "markdown",
   "metadata": {},
   "source": [
    "$$ \\Delta S_u = \\Delta S_{turb} + \\Delta S_{1-5} + \\Delta S_{2-5} + \\Delta S_{6-7} + \\Delta S_{8-9} + \\Delta S_f $$"
   ]
  },
  {
   "cell_type": "code",
   "execution_count": 25,
   "metadata": {},
   "outputs": [],
   "source": [
    "DS_15 = m_1*(s_5 - s_1)\n",
    "DS_25 = m_2*(s_5 - s_2)\n",
    "DS_67 = m_6*(s_7 - s_6)\n",
    "DS_89 = m_8*(s_9 - s_8)\n",
    "DS_f = Q_f/T_f"
   ]
  },
  {
   "cell_type": "code",
   "execution_count": 26,
   "metadata": {},
   "outputs": [],
   "source": [
    "DS_u = DS_turb + DS_15 + DS_25 + DS_67 + DS_89 + DS_f"
   ]
  },
  {
   "cell_type": "code",
   "execution_count": 27,
   "metadata": {},
   "outputs": [
    {
     "name": "stdout",
     "output_type": "stream",
     "text": [
      "DS_u = 12.4236 [kJ/K]\n"
     ]
    }
   ],
   "source": [
    "print('DS_u = %.4f [kJ/K]'%(DS_u/1000))"
   ]
  },
  {
   "cell_type": "markdown",
   "metadata": {},
   "source": [
    "$s_{6rev} = s_5$\n",
    "$$ x_{6rev} = \\frac{s_{6rev} - s'}{s'' - s'} $$"
   ]
  },
  {
   "cell_type": "code",
   "execution_count": 28,
   "metadata": {},
   "outputs": [],
   "source": [
    "s_6rev = s_5"
   ]
  },
  {
   "cell_type": "code",
   "execution_count": 29,
   "metadata": {},
   "outputs": [],
   "source": [
    "sp1 = cp.PropsSI('S','P',P_6,'Q',0,'Water')\n",
    "sp2 = cp.PropsSI('S','P',P_6,'Q',1,'Water')"
   ]
  },
  {
   "cell_type": "code",
   "execution_count": 30,
   "metadata": {},
   "outputs": [],
   "source": [
    "x_6rev = (s_6rev - sp1)/(sp2 - sp1)"
   ]
  },
  {
   "cell_type": "code",
   "execution_count": 31,
   "metadata": {},
   "outputs": [
    {
     "name": "stdout",
     "output_type": "stream",
     "text": [
      "x_6rev = 0.9449\n"
     ]
    }
   ],
   "source": [
    "print('x_6rev = %.4f'%x_6rev)"
   ]
  },
  {
   "cell_type": "code",
   "execution_count": 32,
   "metadata": {},
   "outputs": [
    {
     "data": {
      "text/plain": [
       "0.9449"
      ]
     },
     "execution_count": 32,
     "metadata": {},
     "output_type": "execute_result"
    }
   ],
   "source": [
    "# o también\n",
    "round(cp.PropsSI('Q','P',P_6,'S',s_6rev,'Water') , 4)"
   ]
  },
  {
   "cell_type": "markdown",
   "metadata": {},
   "source": [
    "$$ h_{6rev} = x_{6rev} (h'' - h') + h' $$"
   ]
  },
  {
   "cell_type": "code",
   "execution_count": 33,
   "metadata": {},
   "outputs": [],
   "source": [
    "hp1 = cp.PropsSI('H','P',P_6,'Q',0,'Water')\n",
    "hp2 = cp.PropsSI('H','P',P_6,'Q',1,'Water')"
   ]
  },
  {
   "cell_type": "code",
   "execution_count": 34,
   "metadata": {},
   "outputs": [],
   "source": [
    "h_6rev = x_6rev*(hp2 - hp1) + hp1"
   ]
  },
  {
   "cell_type": "code",
   "execution_count": 35,
   "metadata": {},
   "outputs": [
    {
     "name": "stdout",
     "output_type": "stream",
     "text": [
      "h_6rev = 2508.27 [kJ/kg]\n"
     ]
    }
   ],
   "source": [
    "print('h_6rev = %.2f [kJ/kg]'%(h_6rev/1000))"
   ]
  },
  {
   "cell_type": "markdown",
   "metadata": {},
   "source": [
    "Rendimiento isoentrópico\n",
    "\n",
    "$$ \\eta_{iso} = \\frac{h_5 - h_6}{h_5 - h_{6rev}} $$"
   ]
  },
  {
   "cell_type": "code",
   "execution_count": 36,
   "metadata": {},
   "outputs": [],
   "source": [
    "n_iso = (h_5 - h_6)/(h_5 - h_6rev)"
   ]
  },
  {
   "cell_type": "code",
   "execution_count": 37,
   "metadata": {},
   "outputs": [
    {
     "name": "stdout",
     "output_type": "stream",
     "text": [
      "n_iso = 0.8034\n"
     ]
    }
   ],
   "source": [
    "print('n_iso = %.4f'%n_iso)"
   ]
  },
  {
   "cell_type": "markdown",
   "metadata": {},
   "source": [
    "$$ W_{perd} = T_0 \\Delta S_u $$"
   ]
  },
  {
   "cell_type": "code",
   "execution_count": 38,
   "metadata": {},
   "outputs": [],
   "source": [
    "W_perd = T_0*DS_u"
   ]
  },
  {
   "cell_type": "code",
   "execution_count": 39,
   "metadata": {},
   "outputs": [
    {
     "name": "stdout",
     "output_type": "stream",
     "text": [
      "W_perd = 3727.08 [kJ/s]\n"
     ]
    }
   ],
   "source": [
    "print('W_perd = %.2f [kJ/s]'%(W_perd/1000))"
   ]
  },
  {
   "cell_type": "markdown",
   "metadata": {},
   "source": [
    "Rendimiento exergético de la turbina\n",
    "\n",
    "$$ \\eta_{exT} = \\mathrm{ \\frac{Prod}{|Cons|} } = \\frac{W}{|\\Delta E_{x5-6}|} = \\frac{W}{|\\Delta H_{5-6} - T_0 \\Delta S_{turb}|} $$"
   ]
  },
  {
   "cell_type": "code",
   "execution_count": 42,
   "metadata": {},
   "outputs": [],
   "source": [
    "DEx_56 = m_4*( (h_6 - h_5) - T_0*(s_6 - s_5) )"
   ]
  },
  {
   "cell_type": "code",
   "execution_count": 43,
   "metadata": {},
   "outputs": [
    {
     "name": "stdout",
     "output_type": "stream",
     "text": [
      "DEx_56 = -6051.81 [kJ/K]\n"
     ]
    }
   ],
   "source": [
    "print('DEx_56 = %.2f [kJ/K]'%(DEx_56/1000))"
   ]
  },
  {
   "cell_type": "code",
   "execution_count": null,
   "metadata": {},
   "outputs": [],
   "source": []
  }
 ],
 "metadata": {
  "kernelspec": {
   "display_name": "Python 3",
   "language": "python",
   "name": "python3"
  },
  "language_info": {
   "codemirror_mode": {
    "name": "ipython",
    "version": 3
   },
   "file_extension": ".py",
   "mimetype": "text/x-python",
   "name": "python",
   "nbconvert_exporter": "python",
   "pygments_lexer": "ipython3",
   "version": "3.7.3"
  }
 },
 "nbformat": 4,
 "nbformat_minor": 4
}
