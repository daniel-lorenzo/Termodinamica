{
 "cells": [
  {
   "cell_type": "markdown",
   "metadata": {},
   "source": [
    "# Ejercicio 54\n",
    "\n",
    "<img src=\"../img/54.png\">\n",
    "\n",
    "1. $\\Delta S_u$\n",
    "2. $\\eta_{ex,proc}$\n",
    "3. $\\eta_{iso}$"
   ]
  },
  {
   "cell_type": "markdown",
   "metadata": {},
   "source": [
    "## Solución"
   ]
  },
  {
   "cell_type": "code",
   "execution_count": 1,
   "metadata": {},
   "outputs": [],
   "source": [
    "# Datos:\n",
    "P_0 = 1e5 # [Pa]\n",
    "T_0 = 300 # [K]\n",
    "m_1 = 3.5 # [kg/s]\n",
    "P_1 = P_0\n",
    "T_1 = T_0\n",
    "P_2 = 2e5 # [Pa]\n",
    "m_3 = 2.1 # [kg/s]\n",
    "T_3 = 200 + 273.15 # [K]\n",
    "P_3 = 4e5 # [Pa]\n",
    "P_4 = 1.4e5 # [Pa]\n",
    "P_5 = 1.2e5 # [Pa]\n",
    "x_5 = 0.5\n",
    "P_6 = 2e5 # [Pa]\n",
    "T_6 = 27 + 273.15 # [K]\n",
    "P_7 = P_6\n",
    "T_7 = 67 + 273.15 # [K]\n",
    "cp_aire = 1.0047e3 # [J/(kg·K)]\n",
    "cp_O2 = 0.9185e3 # [J/(kg·K)]\n",
    "R_aire = 0.287e3 # [J/(kg·K)]\n",
    "n_iso = 0.85"
   ]
  },
  {
   "cell_type": "code",
   "execution_count": 2,
   "metadata": {},
   "outputs": [],
   "source": [
    "import CoolProp.CoolProp as cp"
   ]
  },
  {
   "cell_type": "markdown",
   "metadata": {},
   "source": [
    "### Turbina\n",
    "Rendimiento isoentrópico\n",
    "$$ \\eta_{iso} = \\frac{W_{real}}{W_{ideal}} = \\frac{h_3 - h_4}{h_3 - h_{4rev}} $$"
   ]
  },
  {
   "cell_type": "markdown",
   "metadata": {},
   "source": [
    "Despejamos $h_4$\n",
    "\n",
    "$$ h_4 = \\eta_{iso} (h_{4rev} - h_3) + h_3 $$"
   ]
  },
  {
   "cell_type": "markdown",
   "metadata": {},
   "source": [
    "Averiguiamos $h_3$ y $s_3$"
   ]
  },
  {
   "cell_type": "code",
   "execution_count": 3,
   "metadata": {},
   "outputs": [],
   "source": [
    "h_3 = cp.PropsSI('H','P',P_3,'T',T_3,'Water')\n",
    "s_3 = cp.PropsSI('S','P',P_3,'T',T_3,'Water')"
   ]
  },
  {
   "cell_type": "code",
   "execution_count": 4,
   "metadata": {
    "jupyter": {
     "source_hidden": true
    }
   },
   "outputs": [
    {
     "name": "stdout",
     "output_type": "stream",
     "text": [
      "h_3 = 2860.93 [kJ/kg]\n",
      "s_3 = 7.17230 [kJ/(kg·K)]\n"
     ]
    }
   ],
   "source": [
    "print('h_3 = %.2f [kJ/kg]'%(h_3/1000))\n",
    "print('s_3 = %.5f [kJ/(kg·K)]'%(s_3/1000))"
   ]
  },
  {
   "cell_type": "markdown",
   "metadata": {},
   "source": [
    "Sabemos que $s_{4rev} = s_3$"
   ]
  },
  {
   "cell_type": "code",
   "execution_count": 5,
   "metadata": {},
   "outputs": [],
   "source": [
    "s_4rev = s_3"
   ]
  },
  {
   "cell_type": "markdown",
   "metadata": {},
   "source": [
    "$$ x_{4rev} = \\frac{s_{4rev} - s'_4}{s''_4 - s'_4} $$"
   ]
  },
  {
   "cell_type": "code",
   "execution_count": 6,
   "metadata": {},
   "outputs": [],
   "source": [
    "# Consulto s' y s'' en el punto 4:\n",
    "sp1 = cp.PropsSI('S','P',P_4,'Q',0,'Water')  #  s'\n",
    "sp2 = cp.PropsSI('S','P',P_4,'Q',1,'Water')  #  s''"
   ]
  },
  {
   "cell_type": "code",
   "execution_count": 7,
   "metadata": {
    "jupyter": {
     "source_hidden": true
    }
   },
   "outputs": [
    {
     "name": "stdout",
     "output_type": "stream",
     "text": [
      "sp1 = 1.41100 [kJ/(kg·K)]\n",
      "sp2 = 7.24606 [kJ/(kg·K)]\n"
     ]
    }
   ],
   "source": [
    "print('sp1 = %.5f [kJ/(kg·K)]'%(sp1/1000))\n",
    "print('sp2 = %.5f [kJ/(kg·K)]'%(sp2/1000))"
   ]
  },
  {
   "cell_type": "code",
   "execution_count": 8,
   "metadata": {},
   "outputs": [],
   "source": [
    "x_4rev = (s_4rev - sp1)/(sp2 - sp1)"
   ]
  },
  {
   "cell_type": "code",
   "execution_count": 9,
   "metadata": {
    "jupyter": {
     "source_hidden": true
    }
   },
   "outputs": [
    {
     "name": "stdout",
     "output_type": "stream",
     "text": [
      "x_4rev = 0.9874\n"
     ]
    }
   ],
   "source": [
    "print('x_4rev = %.4f'%x_4rev)"
   ]
  },
  {
   "cell_type": "markdown",
   "metadata": {},
   "source": [
    "$$ h_{4rev} = x_{4rev} (h'' - h') + h' $$"
   ]
  },
  {
   "cell_type": "code",
   "execution_count": 10,
   "metadata": {},
   "outputs": [],
   "source": [
    "hp1 = cp.PropsSI('H','P',P_4,'Q',0,'Water')  #  h' \n",
    "hp2 = cp.PropsSI('H','P',P_4,'Q',1,'Water')  #  h''"
   ]
  },
  {
   "cell_type": "code",
   "execution_count": 11,
   "metadata": {},
   "outputs": [],
   "source": [
    "h_4rev = x_4rev*(hp2 - hp1) + hp1"
   ]
  },
  {
   "cell_type": "code",
   "execution_count": 12,
   "metadata": {
    "jupyter": {
     "source_hidden": true
    }
   },
   "outputs": [
    {
     "name": "stdout",
     "output_type": "stream",
     "text": [
      "h_4rev = 2661.78 [kJ/kg]\n"
     ]
    }
   ],
   "source": [
    "print('h_4rev = %.2f [kJ/kg]'%(h_4rev/1000))"
   ]
  },
  {
   "cell_type": "code",
   "execution_count": 13,
   "metadata": {},
   "outputs": [],
   "source": [
    "# o directamente se puede hacer:\n",
    "h_4rev = cp.PropsSI('H','P',P_4,'S',s_4rev,'Water')"
   ]
  },
  {
   "cell_type": "code",
   "execution_count": 14,
   "metadata": {},
   "outputs": [
    {
     "name": "stdout",
     "output_type": "stream",
     "text": [
      "h_4rev = 2661.78 [kJ/kg]\n"
     ]
    }
   ],
   "source": [
    "print('h_4rev = %.2f [kJ/kg]'%(h_4rev/1000))"
   ]
  },
  {
   "cell_type": "markdown",
   "metadata": {},
   "source": [
    "$$ h_4 = \\eta_{iso} (h_{4rev} - h_3) + h_3 $$"
   ]
  },
  {
   "cell_type": "code",
   "execution_count": 15,
   "metadata": {},
   "outputs": [],
   "source": [
    "h_4 = n_iso*(h_4rev - h_3) + h_3"
   ]
  },
  {
   "cell_type": "code",
   "execution_count": 16,
   "metadata": {
    "jupyter": {
     "source_hidden": true
    }
   },
   "outputs": [
    {
     "name": "stdout",
     "output_type": "stream",
     "text": [
      "h_4 = 2691.65 [kJ/kg]\n"
     ]
    }
   ],
   "source": [
    "print('h_4 = %.2f [kJ/kg]'%(h_4/1000))"
   ]
  },
  {
   "cell_type": "code",
   "execution_count": 17,
   "metadata": {},
   "outputs": [
    {
     "data": {
      "text/plain": [
       "'gas'"
      ]
     },
     "execution_count": 17,
     "metadata": {},
     "output_type": "execute_result"
    }
   ],
   "source": [
    "cp.PhaseSI('P',P_4,'H',h_4,'Water')"
   ]
  },
  {
   "cell_type": "code",
   "execution_count": 18,
   "metadata": {},
   "outputs": [],
   "source": [
    "T_4 = cp.PropsSI('T','P',P_4,'H',h_4,'Water')"
   ]
  },
  {
   "cell_type": "code",
   "execution_count": 19,
   "metadata": {},
   "outputs": [
    {
     "name": "stdout",
     "output_type": "stream",
     "text": [
      "T_4 = 383.23 [K]\n",
      "t_4 = 110.08 [°C]\n"
     ]
    }
   ],
   "source": [
    "print('T_4 = %.2f [K]'%T_4)\n",
    "print('t_4 = %.2f [°C]'%(T_4 - 273.15))"
   ]
  },
  {
   "cell_type": "markdown",
   "metadata": {},
   "source": [
    "$$ |W_T| = \\dot{m}_3 \\, |h_4 - h_3| $$"
   ]
  },
  {
   "cell_type": "code",
   "execution_count": 67,
   "metadata": {},
   "outputs": [],
   "source": [
    "W_T = abs( m_3*(h_4 - h_3) )"
   ]
  },
  {
   "cell_type": "code",
   "execution_count": 68,
   "metadata": {},
   "outputs": [
    {
     "name": "stdout",
     "output_type": "stream",
     "text": [
      "|W_T| = 355.48 [kW]\n"
     ]
    }
   ],
   "source": [
    "print('|W_T| = %.2f [kW]'%(W_T/1000))"
   ]
  },
  {
   "cell_type": "markdown",
   "metadata": {},
   "source": [
    "$\\left\\{\n",
    "\\begin{array}{l}\n",
    "|W_C| = |\\Delta H_{12}| = |W_T| \\\\\n",
    "\\Delta H_{12} = m_1 c_{p,aire} \\Delta T_{12}\n",
    "\\end{array}\n",
    "\\right.$"
   ]
  },
  {
   "cell_type": "markdown",
   "metadata": {},
   "source": [
    "$$ \\Delta T_{12} = \\frac{|\\Delta H_{12}|}{m_1 c_{p,aire}} $$"
   ]
  },
  {
   "cell_type": "code",
   "execution_count": 69,
   "metadata": {},
   "outputs": [],
   "source": [
    "DH_12 = W_T\n",
    "DT_12 = DH_12/(m_1*cp_aire)"
   ]
  },
  {
   "cell_type": "code",
   "execution_count": 23,
   "metadata": {},
   "outputs": [
    {
     "name": "stdout",
     "output_type": "stream",
     "text": [
      "DT_12 = 101.09 [K]\n"
     ]
    }
   ],
   "source": [
    "print('DT_12 = %.2f [K]'%DT_12)"
   ]
  },
  {
   "cell_type": "markdown",
   "metadata": {},
   "source": [
    "$T_1 = T_0$\n",
    "$$ T_2 = T_1 + \\Delta T_{12} $$"
   ]
  },
  {
   "cell_type": "code",
   "execution_count": 24,
   "metadata": {},
   "outputs": [],
   "source": [
    "T_2 = T_1 + DT_12"
   ]
  },
  {
   "cell_type": "code",
   "execution_count": 25,
   "metadata": {
    "jupyter": {
     "source_hidden": true
    }
   },
   "outputs": [
    {
     "name": "stdout",
     "output_type": "stream",
     "text": [
      "T_2 = 401.09 [K]\n",
      "t_2 = 127.94 [°C]\n"
     ]
    }
   ],
   "source": [
    "print('T_2 = %.2f [K]'%T_2)\n",
    "print('t_2 = %.2f [°C]'%(T_2 - 273.15))"
   ]
  },
  {
   "cell_type": "markdown",
   "metadata": {},
   "source": [
    "__Variación de entropía del Universo__\n",
    "\n",
    "$$ \\Delta S_u = \\Delta S_{12} + \\Delta S_{35} + \\Delta S_{67} $$"
   ]
  },
  {
   "cell_type": "markdown",
   "metadata": {},
   "source": [
    "Variación de entropía en 1-2\n",
    "\n",
    "$$ \\Delta S_{12} = \\dot{m}_1 \\left( c_{p,aire} \\ln \\frac{T_2}{T_1} - R_{aire} \\ln \\frac{P_2}{P_1} \\right) $$"
   ]
  },
  {
   "cell_type": "code",
   "execution_count": 26,
   "metadata": {},
   "outputs": [],
   "source": [
    "import numpy as np"
   ]
  },
  {
   "cell_type": "code",
   "execution_count": 27,
   "metadata": {},
   "outputs": [],
   "source": [
    "DS_12 = m_1*( cp_aire*np.log(T_2/T_1) - R_aire*np.log(P_2/P_1) )"
   ]
  },
  {
   "cell_type": "code",
   "execution_count": 28,
   "metadata": {
    "jupyter": {
     "source_hidden": true
    }
   },
   "outputs": [
    {
     "name": "stdout",
     "output_type": "stream",
     "text": [
      "DS_12 = 0.32494 [kJ/K]\n"
     ]
    }
   ],
   "source": [
    "print('DS_12 = %.5f [kJ/K]'%(DS_12/1000))"
   ]
  },
  {
   "cell_type": "markdown",
   "metadata": {},
   "source": [
    "Variación de entropía en 3-5\n",
    "\n",
    "$$ \\Delta S_{35} = \\dot{m}_3 (s_5 - s_3) $$"
   ]
  },
  {
   "cell_type": "markdown",
   "metadata": {},
   "source": [
    "$$ s_5 = x_5 \\, (s_5'' - s_5') + s_5' $$"
   ]
  },
  {
   "cell_type": "code",
   "execution_count": 29,
   "metadata": {},
   "outputs": [],
   "source": [
    "sp1 = cp.PropsSI('S','P',P_5,'Q',0,'Water')  #  s'\n",
    "sp2 = cp.PropsSI('S','P',P_5,'Q',1,'Water')  #  s''"
   ]
  },
  {
   "cell_type": "code",
   "execution_count": 30,
   "metadata": {
    "jupyter": {
     "source_hidden": true
    }
   },
   "outputs": [
    {
     "name": "stdout",
     "output_type": "stream",
     "text": [
      "sp1 = 1.36093 [kJ/(kg·K)]\n",
      "sp2 = 7.29767 [kJ/(kg·K)]\n"
     ]
    }
   ],
   "source": [
    "print('sp1 = %.5f [kJ/(kg·K)]'%(sp1/1000))\n",
    "print('sp2 = %.5f [kJ/(kg·K)]'%(sp2/1000))"
   ]
  },
  {
   "cell_type": "code",
   "execution_count": 31,
   "metadata": {},
   "outputs": [],
   "source": [
    "s_5 = x_5*(sp2 - sp1) + sp1"
   ]
  },
  {
   "cell_type": "code",
   "execution_count": 32,
   "metadata": {
    "jupyter": {
     "source_hidden": true
    }
   },
   "outputs": [
    {
     "name": "stdout",
     "output_type": "stream",
     "text": [
      "s_5 = 4.32930 [kJ/(kg·K)]\n"
     ]
    }
   ],
   "source": [
    "print('s_5 = %.5f [kJ/(kg·K)]'%(s_5/1000))"
   ]
  },
  {
   "cell_type": "code",
   "execution_count": 33,
   "metadata": {},
   "outputs": [
    {
     "name": "stdout",
     "output_type": "stream",
     "text": [
      "s_5 = 4.32930 [kJ/(kg·K)]\n"
     ]
    }
   ],
   "source": [
    "# o tambien se puede hacer\n",
    "s_5 = cp.PropsSI('S','P',P_5,'Q',x_5,'Water')\n",
    "print('s_5 = %.5f [kJ/(kg·K)]'%(s_5/1000))"
   ]
  },
  {
   "cell_type": "code",
   "execution_count": 34,
   "metadata": {},
   "outputs": [],
   "source": [
    "DS_35 = m_3*(s_5 - s_3)"
   ]
  },
  {
   "cell_type": "code",
   "execution_count": 35,
   "metadata": {
    "jupyter": {
     "source_hidden": true
    }
   },
   "outputs": [
    {
     "name": "stdout",
     "output_type": "stream",
     "text": [
      "DS_35 = -5.97030 [kJ/K]\n"
     ]
    }
   ],
   "source": [
    "print('DS_35 = %.5f [kJ/K]'%(DS_35/1000))"
   ]
  },
  {
   "cell_type": "markdown",
   "metadata": {},
   "source": [
    "Variación de entropía en 3-4\n",
    "\n",
    "$$ \\Delta S_{34} = \\dot{m}_3 (s_4 - s_3) $$"
   ]
  },
  {
   "cell_type": "code",
   "execution_count": 36,
   "metadata": {},
   "outputs": [],
   "source": [
    "s_4 = cp.PropsSI('S','P',P_4,'H',h_4,'Water')"
   ]
  },
  {
   "cell_type": "code",
   "execution_count": 37,
   "metadata": {
    "jupyter": {
     "source_hidden": true
    }
   },
   "outputs": [
    {
     "name": "stdout",
     "output_type": "stream",
     "text": [
      "s_4 = 7.25041 [kJ/(kg·K)]\n"
     ]
    }
   ],
   "source": [
    "print('s_4 = %.5f [kJ/(kg·K)]'%(s_4/1000))"
   ]
  },
  {
   "cell_type": "code",
   "execution_count": 38,
   "metadata": {},
   "outputs": [],
   "source": [
    "DS_34 = m_3*(s_4 - s_3)"
   ]
  },
  {
   "cell_type": "code",
   "execution_count": 39,
   "metadata": {
    "jupyter": {
     "source_hidden": true
    }
   },
   "outputs": [
    {
     "name": "stdout",
     "output_type": "stream",
     "text": [
      "DS_34 = 0.16402 [kJ/K]\n"
     ]
    }
   ],
   "source": [
    "print('DS_34 = %.5f [kJ/K]'%(DS_34/1000))"
   ]
  },
  {
   "cell_type": "markdown",
   "metadata": {},
   "source": [
    "Variación de entropían en 6-7\n",
    "\n",
    "$$ \\Delta S_{67} = \\dot{m}_6 \\left( c_{p,O_2} \\ln \\frac{T_7}{T_6} - R_{O_2} \\ln \\frac{P_7}{P_6} \\right) $$"
   ]
  },
  {
   "cell_type": "markdown",
   "metadata": {},
   "source": [
    "Tenemos que $P_6 = P_7$, entonces se simplifica:"
   ]
  },
  {
   "cell_type": "markdown",
   "metadata": {},
   "source": [
    "$$ \\Delta S_{67} = \\dot{m}_6 \\left( c_{p,O_2} \\ln \\frac{T_7}{T_6} \\right) $$"
   ]
  },
  {
   "cell_type": "markdown",
   "metadata": {},
   "source": [
    "Averiguamos $\\dot{m}_6$, sabiendo que\n",
    "\n",
    "$$ |\\Delta H_{45}| = \\dot{m}_6 |\\Delta h_{67}| $$"
   ]
  },
  {
   "cell_type": "markdown",
   "metadata": {},
   "source": [
    "Entonces:\n",
    "$$ \\dot{m}_6 = \\left| \\frac{\\Delta H_{45}}{\\Delta h_{67}} \\right| $$"
   ]
  },
  {
   "cell_type": "markdown",
   "metadata": {},
   "source": [
    "$$ h_5 = x_5 \\, (h_5'' - h_5') + h_5' $$"
   ]
  },
  {
   "cell_type": "code",
   "execution_count": 40,
   "metadata": {},
   "outputs": [],
   "source": [
    "hp1 = cp.PropsSI('H','P',P_5,'Q',0,'Water')\n",
    "hp2 = cp.PropsSI('H','P',P_5,'Q',1,'Water')"
   ]
  },
  {
   "cell_type": "code",
   "execution_count": 41,
   "metadata": {
    "jupyter": {
     "source_hidden": true
    }
   },
   "outputs": [
    {
     "name": "stdout",
     "output_type": "stream",
     "text": [
      "hp1 = 439.36 [kJ/kg]\n",
      "hp2 = 2683.05 [kJ/kg]\n"
     ]
    }
   ],
   "source": [
    "print('hp1 = %.2f [kJ/kg]'%(hp1/1000))\n",
    "print('hp2 = %.2f [kJ/kg]'%(hp2/1000))"
   ]
  },
  {
   "cell_type": "code",
   "execution_count": 42,
   "metadata": {},
   "outputs": [],
   "source": [
    "h_5 = x_5*(hp2 - hp1) + hp1"
   ]
  },
  {
   "cell_type": "code",
   "execution_count": 43,
   "metadata": {
    "jupyter": {
     "source_hidden": true
    }
   },
   "outputs": [
    {
     "name": "stdout",
     "output_type": "stream",
     "text": [
      "h_5 = 1561.21 [kJ/kg]\n"
     ]
    }
   ],
   "source": [
    "print('h_5 = %.2f [kJ/kg]'%(h_5/1000))"
   ]
  },
  {
   "cell_type": "code",
   "execution_count": 44,
   "metadata": {},
   "outputs": [
    {
     "name": "stdout",
     "output_type": "stream",
     "text": [
      "h_5 = 1561.21 [kJ/kg]\n"
     ]
    }
   ],
   "source": [
    "# o también se puede hacer\n",
    "h_5 = cp.PropsSI('H','P',P_5,'Q',x_5,'Water')\n",
    "print('h_5 = %.2f [kJ/kg]'%(h_5/1000))"
   ]
  },
  {
   "cell_type": "code",
   "execution_count": 45,
   "metadata": {},
   "outputs": [],
   "source": [
    "m_4 = m_3\n",
    "DH_45 = m_4*(h_5 - h_4)"
   ]
  },
  {
   "cell_type": "markdown",
   "metadata": {},
   "source": [
    "$$ \\Delta h_{67} = c_{p,O_2} (T_7 - T_6) $$"
   ]
  },
  {
   "cell_type": "code",
   "execution_count": 46,
   "metadata": {},
   "outputs": [],
   "source": [
    "Dh_67 = cp_O2*(T_7 - T_6)"
   ]
  },
  {
   "cell_type": "code",
   "execution_count": 47,
   "metadata": {
    "jupyter": {
     "source_hidden": true
    }
   },
   "outputs": [
    {
     "name": "stdout",
     "output_type": "stream",
     "text": [
      "Dh_67 = 36.74 [kJ/kg]\n"
     ]
    }
   ],
   "source": [
    "print('Dh_67 = %.2f [kJ/kg]'%(Dh_67/1000))"
   ]
  },
  {
   "cell_type": "code",
   "execution_count": 48,
   "metadata": {},
   "outputs": [],
   "source": [
    "m_6 = abs( DH_45/Dh_67 )"
   ]
  },
  {
   "cell_type": "code",
   "execution_count": 49,
   "metadata": {
    "jupyter": {
     "source_hidden": true
    }
   },
   "outputs": [
    {
     "name": "stdout",
     "output_type": "stream",
     "text": [
      "m_6 = 64.614 [kg/s]\n"
     ]
    }
   ],
   "source": [
    "print('m_6 = %.3f [kg/s]'%m_6)"
   ]
  },
  {
   "cell_type": "markdown",
   "metadata": {},
   "source": [
    "$$ \\Delta S_{67} = \\dot{m}_6 \\left( c_{p,O_2} \\ln \\frac{T_7}{T_6} \\right) $$"
   ]
  },
  {
   "cell_type": "code",
   "execution_count": 50,
   "metadata": {},
   "outputs": [],
   "source": [
    "DS_67 = m_6*(cp_O2*np.log(T_7/T_6))"
   ]
  },
  {
   "cell_type": "code",
   "execution_count": 51,
   "metadata": {
    "jupyter": {
     "source_hidden": true
    }
   },
   "outputs": [
    {
     "name": "stdout",
     "output_type": "stream",
     "text": [
      "DS_67 = 7.42473 [kJ/K]\n"
     ]
    }
   ],
   "source": [
    "print('DS_67 = %.5f [kJ/K]'%(DS_67/1000))"
   ]
  },
  {
   "cell_type": "markdown",
   "metadata": {},
   "source": [
    "__Variación de entropía del Universo__\n",
    "\n",
    "$$ \\Delta S_u = \\Delta S_{12} + \\Delta S_{35} + \\Delta S_{67} $$"
   ]
  },
  {
   "cell_type": "code",
   "execution_count": 52,
   "metadata": {},
   "outputs": [],
   "source": [
    "DS_u = DS_12 + DS_35 + DS_67"
   ]
  },
  {
   "cell_type": "code",
   "execution_count": 53,
   "metadata": {
    "jupyter": {
     "source_hidden": true
    }
   },
   "outputs": [
    {
     "name": "stdout",
     "output_type": "stream",
     "text": [
      "DS_u = 1.77936 [kJ/K]\n"
     ]
    }
   ],
   "source": [
    "print('DS_u = %.5f [kJ/K]'%(DS_u/1000))"
   ]
  },
  {
   "cell_type": "markdown",
   "metadata": {},
   "source": [
    "__Variación de exergías__\n",
    "\n",
    "$\\begin{array}{l}\n",
    "\\Delta Ex_{12} = \\Delta H_{12} - T_0 \\Delta S_{12} \\\\\n",
    "\\Delta Ex_{34} = \\Delta H_{34} - T_0 \\Delta S_{34} \\\\\n",
    "\\Delta Ex_{45} = \\Delta H_{45} - T_0 \\Delta S_{45} \\\\\n",
    "\\Delta Ex_{67} = \\Delta H_{67} - T_0 \\Delta S_{67} \\\\\n",
    "\\end{array}$"
   ]
  },
  {
   "cell_type": "code",
   "execution_count": 54,
   "metadata": {},
   "outputs": [],
   "source": [
    "DEx_12 = DH_12 - T_0*DS_12\n",
    "DEx_34 = m_3*(h_4 - h_3) - T_0*DS_34\n",
    "DEx_45 = m_4*(h_5 - h_4) - T_0*m_4*(s_5 - s_4)\n",
    "DEx_67 = m_6*Dh_67 - T_0*DS_67"
   ]
  },
  {
   "cell_type": "code",
   "execution_count": 55,
   "metadata": {
    "jupyter": {
     "source_hidden": true
    }
   },
   "outputs": [
    {
     "name": "stdout",
     "output_type": "stream",
     "text": [
      "DEx_12 = 258.00 [kJ]\n",
      "DEx_34 = -404.69 [kJ]\n",
      "DEx_45 = -533.63 [kJ]\n",
      "DEx_67 = 146.51 [kJ]\n"
     ]
    }
   ],
   "source": [
    "print('DEx_12 = %.2f [kJ]'%(DEx_12/1000))\n",
    "print('DEx_34 = %.2f [kJ]'%(DEx_34/1000))\n",
    "print('DEx_45 = %.2f [kJ]'%(DEx_45/1000))\n",
    "print('DEx_67 = %.2f [kJ]'%(DEx_67/1000))"
   ]
  },
  {
   "cell_type": "markdown",
   "metadata": {},
   "source": [
    "Rendimiento exergético del proceso\n",
    "\n",
    "$$ \\eta_{ex,proc} = \\frac{\\Delta Ex_{12} + \\Delta Ex_{67}}{|\\Delta Ex_{34} + \\Delta Ex_{45}|} $$"
   ]
  },
  {
   "cell_type": "code",
   "execution_count": 56,
   "metadata": {},
   "outputs": [],
   "source": [
    "n_exproc = (DEx_12 + DEx_67)/abs(DEx_34 + DEx_45)"
   ]
  },
  {
   "cell_type": "code",
   "execution_count": 57,
   "metadata": {},
   "outputs": [
    {
     "name": "stdout",
     "output_type": "stream",
     "text": [
      "n_exproc = 0.4311\n"
     ]
    }
   ],
   "source": [
    "print('n_exproc = %.4f'%n_exproc)"
   ]
  },
  {
   "cell_type": "markdown",
   "metadata": {},
   "source": [
    "### Rendimiento isoentrópico del compresor\n",
    "\n",
    "$$ \\eta_{iso,comp} = \\frac{W_{real}}{W_{ideal}} $$"
   ]
  },
  {
   "cell_type": "code",
   "execution_count": null,
   "metadata": {},
   "outputs": [],
   "source": []
  }
 ],
 "metadata": {
  "kernelspec": {
   "display_name": "Python 3",
   "language": "python",
   "name": "python3"
  },
  "language_info": {
   "codemirror_mode": {
    "name": "ipython",
    "version": 3
   },
   "file_extension": ".py",
   "mimetype": "text/x-python",
   "name": "python",
   "nbconvert_exporter": "python",
   "pygments_lexer": "ipython3",
   "version": "3.7.3"
  }
 },
 "nbformat": 4,
 "nbformat_minor": 4
}
