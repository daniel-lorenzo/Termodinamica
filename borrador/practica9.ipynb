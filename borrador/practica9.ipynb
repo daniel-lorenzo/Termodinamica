{
 "cells": [
  {
   "cell_type": "markdown",
   "metadata": {},
   "source": [
    "# Práctica 9"
   ]
  },
  {
   "cell_type": "markdown",
   "metadata": {},
   "source": [
    "## Ejercicio 49\n",
    "Una turbina recibe:\n",
    "1. A toda carga vapor a 40 bar y 400°C\n",
    "2. A carga parcial una válvula reduce la presión a 20 bar.\n",
    "\n",
    "Si la descarga de la turbina se realiza a 0,1 bar y el $\\eta_{iso} = 0,8$\n",
    "* Calcular $h_3$, $s_3$ y el $\\eta_{ex}$ (rendimiento exergético) en cada caso.\n",
    "\n",
    "<img src=\"../img/51.png\" width=\"250\">"
   ]
  },
  {
   "cell_type": "markdown",
   "metadata": {},
   "source": [
    "### Solución"
   ]
  },
  {
   "cell_type": "markdown",
   "metadata": {},
   "source": [
    "$$ \\eta_{iso} = \\frac{W_{real}}{W_{ideal}} = \\frac{h_2 - h_3}{h_2 - h_{3rev}} $$"
   ]
  },
  {
   "cell_type": "markdown",
   "metadata": {},
   "source": [
    "$$ \\eta_{ex} = \\frac{ \\mbox{exergía producida }(+) }{\\mbox{exergía consumida }(-)} $$"
   ]
  },
  {
   "cell_type": "markdown",
   "metadata": {},
   "source": [
    "$$ \\eta_{ex} = \\frac{W}{\\Delta E_{2-3}} = \\frac{h_2 - h_3}{h_2 - h_3 - T_0 (s_2 - s_3)} $$"
   ]
  },
  {
   "cell_type": "code",
   "execution_count": 1,
   "metadata": {},
   "outputs": [],
   "source": [
    "# Datos:\n",
    "P_1 = 40e5 # [Pa]\n",
    "P_2 = P_1\n",
    "P_3 = 0.1e5 # [Pa]\n",
    "T_1 = 400 + 273.15 # [K]\n",
    "T_2 = T_1\n",
    "n_iso = 0.8\n",
    "P_0 = 1e5 # [Pa]\n",
    "T_0 = 300 # [K]"
   ]
  },
  {
   "cell_type": "code",
   "execution_count": 2,
   "metadata": {},
   "outputs": [],
   "source": [
    "import CoolProp.CoolProp as cp"
   ]
  },
  {
   "cell_type": "code",
   "execution_count": 3,
   "metadata": {},
   "outputs": [],
   "source": [
    "h_1 = cp.PropsSI('H','P',P_1,'T',T_1,'Water')\n",
    "h_2 = h_1\n",
    "s_1 = cp.PropsSI('S','P',P_1,'T',T_1,'Water')\n",
    "s_2 = s_1"
   ]
  },
  {
   "cell_type": "code",
   "execution_count": 4,
   "metadata": {},
   "outputs": [],
   "source": [
    "s_3rev = s_2"
   ]
  },
  {
   "cell_type": "code",
   "execution_count": 5,
   "metadata": {},
   "outputs": [
    {
     "name": "stdout",
     "output_type": "stream",
     "text": [
      "h_2 = 3214.47 [kJ/kg]\n",
      "s_2 = 6.7714 [kJ/(kg·K)]\n",
      "s_3rev = 6.7714 [kJ/(kg·K)]\n"
     ]
    }
   ],
   "source": [
    "print('h_2 = %.2f [kJ/kg]'%(h_2/1000))\n",
    "print('s_2 = %.4f [kJ/(kg·K)]'%(s_2/1000))\n",
    "print('s_3rev = %.4f [kJ/(kg·K)]'%(s_3rev/1000))"
   ]
  },
  {
   "cell_type": "markdown",
   "metadata": {},
   "source": [
    "$$ x_{3rev} = \\frac{s_{3rev} - s'}{s'' - s'} $$"
   ]
  },
  {
   "cell_type": "code",
   "execution_count": 6,
   "metadata": {},
   "outputs": [],
   "source": [
    "sp1 = cp.PropsSI('S','P',P_3,'Q',0,'Water')  # s'\n",
    "sp2 = cp.PropsSI('S','P',P_3,'Q',1,'Water')  # s''"
   ]
  },
  {
   "cell_type": "code",
   "execution_count": 7,
   "metadata": {},
   "outputs": [],
   "source": [
    "x_3rev = (s_3rev - sp1)/(sp2 - sp1)"
   ]
  },
  {
   "cell_type": "code",
   "execution_count": 8,
   "metadata": {},
   "outputs": [
    {
     "name": "stdout",
     "output_type": "stream",
     "text": [
      "x_3rev = 0.8163\n"
     ]
    }
   ],
   "source": [
    "print('x_3rev = %.4f'%x_3rev)"
   ]
  },
  {
   "cell_type": "markdown",
   "metadata": {},
   "source": [
    "$$ h_{3rev} = x_{3rev} (h'' - h') + h' $$"
   ]
  },
  {
   "cell_type": "code",
   "execution_count": 9,
   "metadata": {},
   "outputs": [],
   "source": [
    "hp1 = cp.PropsSI('H','P',P_3,'Q',0,'Water')\n",
    "hp2 = cp.PropsSI('H','P',P_3,'Q',1,'Water')"
   ]
  },
  {
   "cell_type": "code",
   "execution_count": 10,
   "metadata": {},
   "outputs": [],
   "source": [
    "h_3rev = x_3rev*(hp2 - hp1) + hp1"
   ]
  },
  {
   "cell_type": "code",
   "execution_count": 11,
   "metadata": {},
   "outputs": [
    {
     "name": "stdout",
     "output_type": "stream",
     "text": [
      "h_3rev = 2144.51 [kJ/kg]\n"
     ]
    }
   ],
   "source": [
    "print('h_3rev = %.2f [kJ/kg]'%(h_3rev/1000))"
   ]
  },
  {
   "cell_type": "code",
   "execution_count": 12,
   "metadata": {},
   "outputs": [
    {
     "name": "stdout",
     "output_type": "stream",
     "text": [
      "h_3rev = 2144.51 [kJ/kg]\n"
     ]
    }
   ],
   "source": [
    "# o también\n",
    "h_3rev = cp.PropsSI('H','P',P_3,'Q',x_3rev,'Water')\n",
    "print('h_3rev = %.2f [kJ/kg]'%(h_3rev/1000))"
   ]
  },
  {
   "cell_type": "markdown",
   "metadata": {},
   "source": [
    "$$ \\eta_{iso} = \\frac{h_2 - h_3}{h_2 - h_{3rev}} $$"
   ]
  },
  {
   "cell_type": "markdown",
   "metadata": {},
   "source": [
    "Entonces\n",
    "$$ h_3 = h_2 - \\eta_{iso} \\, (h_2 - h_{3rev} ) $$"
   ]
  },
  {
   "cell_type": "code",
   "execution_count": 13,
   "metadata": {},
   "outputs": [],
   "source": [
    "h_3 = h_2 - n_iso*(h_2 - h_3rev)"
   ]
  },
  {
   "cell_type": "code",
   "execution_count": 14,
   "metadata": {},
   "outputs": [
    {
     "name": "stdout",
     "output_type": "stream",
     "text": [
      "h_3 = 2358.50 [kJ/kg]\n"
     ]
    }
   ],
   "source": [
    "print('h_3 = %.2f [kJ/kg]'%(h_3/1000))"
   ]
  },
  {
   "cell_type": "markdown",
   "metadata": {},
   "source": [
    "$$ x_{3real} = \\frac{h_3 - h'}{h'' - h'} $$"
   ]
  },
  {
   "cell_type": "code",
   "execution_count": 15,
   "metadata": {},
   "outputs": [],
   "source": [
    "x_3 = (h_3 - hp1)/(hp2 - hp1)"
   ]
  },
  {
   "cell_type": "code",
   "execution_count": 16,
   "metadata": {},
   "outputs": [
    {
     "name": "stdout",
     "output_type": "stream",
     "text": [
      "x_3 = 0.9058 (real)\n"
     ]
    }
   ],
   "source": [
    "print('x_3 = %.4f (real)'%x_3)"
   ]
  },
  {
   "cell_type": "markdown",
   "metadata": {},
   "source": [
    "$$ s_3 = x_{3real} \\, (s'' - s') + s' $$"
   ]
  },
  {
   "cell_type": "code",
   "execution_count": 17,
   "metadata": {},
   "outputs": [],
   "source": [
    "s_3 = x_3*(sp2 - sp1) + sp1"
   ]
  },
  {
   "cell_type": "code",
   "execution_count": 18,
   "metadata": {},
   "outputs": [
    {
     "name": "stdout",
     "output_type": "stream",
     "text": [
      "s_3 = 7.4423 [kJ/(kg·K)]\n"
     ]
    }
   ],
   "source": [
    "print('s_3 = %.4f [kJ/(kg·K)]'%(s_3/1000))"
   ]
  },
  {
   "cell_type": "markdown",
   "metadata": {},
   "source": [
    "$$ \\eta_{ex} = \\frac{ \\mbox{exergía producida }(+) }{ \\mbox{exergía consumida }(-) } $$"
   ]
  },
  {
   "cell_type": "markdown",
   "metadata": {},
   "source": [
    "$$ \\eta_{ex} = \\frac{W}{\\Delta E_{2-3}} = \\frac{h_2 - h_3}{h_2 - h_3 - T_0 (s_2 - s_3)} $$"
   ]
  },
  {
   "cell_type": "code",
   "execution_count": 19,
   "metadata": {},
   "outputs": [],
   "source": [
    "n_ex = (h_2 - h_3)/(h_2 - h_3 - T_0*(s_2 - s_3))"
   ]
  },
  {
   "cell_type": "code",
   "execution_count": 20,
   "metadata": {},
   "outputs": [
    {
     "name": "stdout",
     "output_type": "stream",
     "text": [
      "n_ex = 0.8096\n"
     ]
    }
   ],
   "source": [
    "print('n_ex = %.4f'%n_ex)"
   ]
  },
  {
   "cell_type": "markdown",
   "metadata": {},
   "source": [
    "### ítem 2"
   ]
  },
  {
   "cell_type": "markdown",
   "metadata": {},
   "source": [
    "$$ \\eta_{iso} = \\frac{W_{real}}{W_{ideal}} = \\frac{h_2 - h_3}{h_2 - h_{3rev}} $$"
   ]
  },
  {
   "cell_type": "markdown",
   "metadata": {},
   "source": [
    "$$ \\eta_{ex} = \\frac{ \\mbox{exergía producida }(+) }{ \\mbox{exergía consumida }(-) } $$"
   ]
  },
  {
   "cell_type": "markdown",
   "metadata": {},
   "source": [
    "$$ \\eta_{ex} = \\frac{W}{\\Delta E_{1-2}} = \\frac{h_1 - h_3}{h_1 - h_3 - T_0 (s_1 - s_3)} $$"
   ]
  },
  {
   "cell_type": "code",
   "execution_count": 21,
   "metadata": {},
   "outputs": [],
   "source": [
    "# Dato:\n",
    "P_2 = 20e5 # [Pa]"
   ]
  },
  {
   "cell_type": "code",
   "execution_count": 28,
   "metadata": {},
   "outputs": [],
   "source": [
    "T_2 = cp.PropsSI('T','P',P_2,'H',h_2,'Water')"
   ]
  },
  {
   "cell_type": "code",
   "execution_count": 30,
   "metadata": {},
   "outputs": [
    {
     "data": {
      "text/plain": [
       "'supercritical_gas'"
      ]
     },
     "execution_count": 30,
     "metadata": {},
     "output_type": "execute_result"
    }
   ],
   "source": [
    "cp.PhaseSI('P',P_2,'T',T_2,'Water')"
   ]
  },
  {
   "cell_type": "code",
   "execution_count": 33,
   "metadata": {},
   "outputs": [],
   "source": [
    "s_2 = cp.PropsSI('S','P',P_2,'H',h_2,'Water')\n",
    "s_3rev = s_2"
   ]
  },
  {
   "cell_type": "markdown",
   "metadata": {},
   "source": [
    "Averiguamos el título (reversible) en la salida de la turbina"
   ]
  },
  {
   "cell_type": "markdown",
   "metadata": {},
   "source": [
    "$$ x_{3rev} = \\frac{s_{3rev} - s'}{s'' - s'} $$"
   ]
  },
  {
   "cell_type": "code",
   "execution_count": 34,
   "metadata": {},
   "outputs": [],
   "source": [
    "sp1 = cp.PropsSI('S','P',P_3,'Q',0,'Water')\n",
    "sp2 = cp.PropsSI('S','P',P_3,'Q',1,'Water')"
   ]
  },
  {
   "cell_type": "code",
   "execution_count": 35,
   "metadata": {},
   "outputs": [],
   "source": [
    "x_3rev = (s_3rev - sp1)/(sp2 - sp1)"
   ]
  },
  {
   "cell_type": "code",
   "execution_count": 36,
   "metadata": {},
   "outputs": [
    {
     "name": "stdout",
     "output_type": "stream",
     "text": [
      "x_3rev = 0.8573\n"
     ]
    }
   ],
   "source": [
    "print('x_3rev = %.4f'%x_3rev)"
   ]
  },
  {
   "cell_type": "markdown",
   "metadata": {},
   "source": [
    "$$ h_{3rev} = x_{3rev} (h'' - h') + h' $$"
   ]
  },
  {
   "cell_type": "code",
   "execution_count": 37,
   "metadata": {},
   "outputs": [],
   "source": [
    "h_3rev = x_3rev*(hp2 - hp1) + hp1"
   ]
  },
  {
   "cell_type": "code",
   "execution_count": 38,
   "metadata": {},
   "outputs": [
    {
     "name": "stdout",
     "output_type": "stream",
     "text": [
      "h_3rev = 2242.40 [kJ/kg]\n"
     ]
    }
   ],
   "source": [
    "print('h_3rev = %.2f [kJ/kg]'%(h_3rev/1000))"
   ]
  },
  {
   "cell_type": "markdown",
   "metadata": {},
   "source": [
    "$$ \\eta_{iso} = \\frac{h_2 - h_3}{h_2 - h_{3rev}} $$"
   ]
  },
  {
   "cell_type": "markdown",
   "metadata": {},
   "source": [
    "Entonces\n",
    "$$ h_3 = h_2 - \\eta_{iso} \\, (h_2 - h_{3rev}) $$"
   ]
  },
  {
   "cell_type": "code",
   "execution_count": 39,
   "metadata": {},
   "outputs": [],
   "source": [
    "n_iso = 0.8"
   ]
  },
  {
   "cell_type": "code",
   "execution_count": 40,
   "metadata": {},
   "outputs": [],
   "source": [
    "h_3 = h_2 - n_iso*(h_2 - h_3rev)"
   ]
  },
  {
   "cell_type": "code",
   "execution_count": 41,
   "metadata": {},
   "outputs": [
    {
     "name": "stdout",
     "output_type": "stream",
     "text": [
      "h_3 = 2436.81 [kJ/kg]\n"
     ]
    }
   ],
   "source": [
    "print('h_3 = %.2f [kJ/kg]'%(h_3/1000))"
   ]
  },
  {
   "cell_type": "markdown",
   "metadata": {},
   "source": [
    "$$ x_3 = \\frac{h_3 - h'}{h'' -h'} $$"
   ]
  },
  {
   "cell_type": "code",
   "execution_count": 42,
   "metadata": {},
   "outputs": [],
   "source": [
    "x_3 = (h_3 - hp1)/(hp2 - hp1)"
   ]
  },
  {
   "cell_type": "code",
   "execution_count": 43,
   "metadata": {},
   "outputs": [
    {
     "name": "stdout",
     "output_type": "stream",
     "text": [
      "x_3 = 0.9385\n"
     ]
    }
   ],
   "source": [
    "print('x_3 = %.4f'%x_3)"
   ]
  },
  {
   "cell_type": "markdown",
   "metadata": {},
   "source": [
    "$$ s_3 = x_3 \\, (s'' - s') + s' $$"
   ]
  },
  {
   "cell_type": "code",
   "execution_count": 44,
   "metadata": {},
   "outputs": [],
   "source": [
    "s_3 = x_3*(sp2 - sp1) + sp1"
   ]
  },
  {
   "cell_type": "code",
   "execution_count": 45,
   "metadata": {},
   "outputs": [
    {
     "name": "stdout",
     "output_type": "stream",
     "text": [
      "s_3 = 7.6878 [kJ/(kg·K)]\n"
     ]
    }
   ],
   "source": [
    "print('s_3 = %.4f [kJ/(kg·K)]'%(s_3/1000))"
   ]
  },
  {
   "cell_type": "markdown",
   "metadata": {},
   "source": [
    "$$ \\eta_{ex} = \\frac{W}{\\Delta E_{1-2}} = \\frac{h_1 - h_3}{h_1 - h_3 - T_0 (s_1 - s_3)} $$"
   ]
  },
  {
   "cell_type": "code",
   "execution_count": 46,
   "metadata": {},
   "outputs": [],
   "source": [
    "n_ex = (h_1 - h_3)/(h_1 - h_3 - T_0*(s_1 - s_3))"
   ]
  },
  {
   "cell_type": "code",
   "execution_count": 47,
   "metadata": {},
   "outputs": [
    {
     "name": "stdout",
     "output_type": "stream",
     "text": [
      "n_ex = 0.7388\n"
     ]
    }
   ],
   "source": [
    "print('n_ex = %.4f'%(n_ex))"
   ]
  },
  {
   "cell_type": "code",
   "execution_count": 48,
   "metadata": {},
   "outputs": [],
   "source": [
    "%reset -s -f"
   ]
  }
 ],
 "metadata": {
  "kernelspec": {
   "display_name": "Python 3",
   "language": "python",
   "name": "python3"
  },
  "language_info": {
   "codemirror_mode": {
    "name": "ipython",
    "version": 3
   },
   "file_extension": ".py",
   "mimetype": "text/x-python",
   "name": "python",
   "nbconvert_exporter": "python",
   "pygments_lexer": "ipython3",
   "version": "3.7.3"
  }
 },
 "nbformat": 4,
 "nbformat_minor": 4
}
