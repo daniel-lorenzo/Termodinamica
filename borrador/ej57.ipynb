{
 "cells": [
  {
   "cell_type": "markdown",
   "metadata": {},
   "source": [
    "# Ejercicio 57\n",
    "\n",
    "<img src=\"../img/57.png\">"
   ]
  },
  {
   "cell_type": "markdown",
   "metadata": {},
   "source": [
    "__Determinar:__\n",
    "1. $\\Delta S_u$\n",
    "2. $\\eta_{ex,proc}$\n",
    "3. $\\eta_{iso,turb}$ y $\\eta_{ex,turb}$\n",
    "\n",
    "-----"
   ]
  },
  {
   "cell_type": "markdown",
   "metadata": {},
   "source": [
    "## Solución"
   ]
  },
  {
   "cell_type": "markdown",
   "metadata": {},
   "source": [
    "### Máquina térmica"
   ]
  },
  {
   "cell_type": "markdown",
   "metadata": {},
   "source": [
    "$$ Q_2 = m c_c (T_f - T_i) \\tag{1} $$"
   ]
  },
  {
   "cell_type": "markdown",
   "metadata": {},
   "source": [
    "$$ \\Delta s_2 = \\int_{T_i}^{T_f} \\frac{\\delta Q}{T} = \\int_{T_i}^{T_f} c_c \\, \\frac{dt}{T} $$"
   ]
  },
  {
   "cell_type": "markdown",
   "metadata": {},
   "source": [
    "$$ \\Delta s_2 = c_c (\\ln T_f - \\ln T_i) $$"
   ]
  },
  {
   "cell_type": "markdown",
   "metadata": {},
   "source": [
    "$$ \\Delta S_2 = m c_c \\ln \\frac{T_f}{T_i} \\tag{2} $$"
   ]
  },
  {
   "cell_type": "code",
   "execution_count": 1,
   "metadata": {},
   "outputs": [],
   "source": [
    "import numpy as np"
   ]
  },
  {
   "cell_type": "code",
   "execution_count": 2,
   "metadata": {},
   "outputs": [],
   "source": [
    "# Datos:\n",
    "m = 1600 # [kg]\n",
    "cc = 3.7e3 # [J/kg]\n",
    "T_f = 5 + 273.15 # [K]\n",
    "T_i = 27 + 273.15 # [K]\n",
    "T_0 = 300 # [K]\n",
    "n_ex = 0.8"
   ]
  },
  {
   "cell_type": "code",
   "execution_count": 3,
   "metadata": {},
   "outputs": [],
   "source": [
    "Q_2 = m*cc*(T_f - T_i)\n",
    "DS_2 = m*cc*np.log(T_f/T_i)"
   ]
  },
  {
   "cell_type": "code",
   "execution_count": 4,
   "metadata": {},
   "outputs": [
    {
     "name": "stdout",
     "output_type": "stream",
     "text": [
      "Q_2 = -130240 [kJ]\n",
      "DS_2 = -450.64 [kJ/kg]\n"
     ]
    }
   ],
   "source": [
    "print('Q_2 = %.0f [kJ]'%(Q_2/1000))\n",
    "print('DS_2 = %.2f [kJ/kg]'%(DS_2/1000))"
   ]
  },
  {
   "cell_type": "markdown",
   "metadata": {},
   "source": [
    "$$ Q_{U2} = Q_2 - T_0 \\Delta S_2 \\tag{3} $$"
   ]
  },
  {
   "cell_type": "code",
   "execution_count": 5,
   "metadata": {},
   "outputs": [],
   "source": [
    "Q_U2 = Q_2 - T_0*DS_2"
   ]
  },
  {
   "cell_type": "code",
   "execution_count": 6,
   "metadata": {},
   "outputs": [
    {
     "name": "stdout",
     "output_type": "stream",
     "text": [
      "Q_U2 = 4952.34 [kJ]\n"
     ]
    }
   ],
   "source": [
    "print('Q_U2 = %.2f [kJ]'%(Q_U2/1000))"
   ]
  },
  {
   "cell_type": "markdown",
   "metadata": {},
   "source": [
    "$$ \\eta_{ex} = \\frac{Q_{U2}}{W_{MF}} $$"
   ]
  },
  {
   "cell_type": "markdown",
   "metadata": {},
   "source": [
    "Despejo $W_{MF}$\n",
    "\n",
    "$$ W_{MF} = \\frac{Q_{U2}}{\\eta_{ex}} \\tag{4} $$"
   ]
  },
  {
   "cell_type": "code",
   "execution_count": 7,
   "metadata": {},
   "outputs": [],
   "source": [
    "W_MF = Q_U2/n_ex"
   ]
  },
  {
   "cell_type": "code",
   "execution_count": 8,
   "metadata": {},
   "outputs": [
    {
     "name": "stdout",
     "output_type": "stream",
     "text": [
      "W_MF = 6190.43 [kJ]\n"
     ]
    }
   ],
   "source": [
    "print('W_MF = %.2f [kJ]'%(W_MF/1000))"
   ]
  },
  {
   "cell_type": "markdown",
   "metadata": {},
   "source": [
    "### Turbina"
   ]
  },
  {
   "cell_type": "code",
   "execution_count": 9,
   "metadata": {},
   "outputs": [],
   "source": [
    "# Datos:\n",
    "P_2 = 10e5 # [Pa]\n",
    "P_4 = P_2 # [Pa]\n",
    "T_4 = 300 + 273.15 # [K]\n",
    "P_5 = 0.5e5 # [Pa]\n",
    "x_5 = 0.95"
   ]
  },
  {
   "cell_type": "code",
   "execution_count": 10,
   "metadata": {},
   "outputs": [],
   "source": [
    "import CoolProp.CoolProp as cp"
   ]
  },
  {
   "cell_type": "code",
   "execution_count": 11,
   "metadata": {},
   "outputs": [],
   "source": [
    "h_4 = cp.PropsSI('H','P',P_4,'T',T_4,'Water')\n",
    "s_4 = cp.PropsSI('S','P',P_4,'T',T_4,'Water')"
   ]
  },
  {
   "cell_type": "code",
   "execution_count": 12,
   "metadata": {},
   "outputs": [
    {
     "name": "stdout",
     "output_type": "stream",
     "text": [
      "h_4 = 3051.63 [kJ/kg]\n",
      "s_4 = 7.12462 [kJ/(kg·K)]\n"
     ]
    }
   ],
   "source": [
    "print('h_4 = %.2f [kJ/kg]'%(h_4/1000))\n",
    "print('s_4 = %.5f [kJ/(kg·K)]'%(s_4/1000))"
   ]
  },
  {
   "cell_type": "markdown",
   "metadata": {},
   "source": [
    "$$ h_5 = x_5 (h'' - h') + h' \\tag{5}$$"
   ]
  },
  {
   "cell_type": "markdown",
   "metadata": {},
   "source": [
    "$$ s_5 = x_5 (s'' - s') + s' \\tag{6} $$"
   ]
  },
  {
   "cell_type": "code",
   "execution_count": 13,
   "metadata": {
    "jupyter": {
     "source_hidden": true
    }
   },
   "outputs": [],
   "source": [
    "# Para el punto 5\n",
    "hp1 = cp.PropsSI('H','P',P_5,'Q',0,'Water')\n",
    "hp2 = cp.PropsSI('H','P',P_5,'Q',1,'Water')\n",
    "sp1 = cp.PropsSI('S','P',P_5,'Q',0,'Water')\n",
    "sp2 = cp.PropsSI('S','P',P_5,'Q',1,'Water')\n",
    "T_5 = cp.PropsSI('T','P',P_5,'Q',x_5,'Water')"
   ]
  },
  {
   "cell_type": "code",
   "execution_count": 14,
   "metadata": {},
   "outputs": [
    {
     "name": "stdout",
     "output_type": "stream",
     "text": [
      "hp1 = 340.54 [kJ/kg]  (Líquido saturado)\n",
      "hp2 = 2645.22 [kJ/kg]  (Vapor saturado)\n",
      "sp1 = 1.09120 [kJ/(kg·K)]  (Líquido saturado)\n",
      "sp2 = 7.59300 [kJ/(kg·K)]  (Vapor saturado)\n",
      "T_5 = 354.47 [K]\n",
      "t_5 = 81.32 [°C]\n"
     ]
    }
   ],
   "source": [
    "print('hp1 = %.2f [kJ/kg]  (Líquido saturado)'%(hp1/1000))\n",
    "print('hp2 = %.2f [kJ/kg]  (Vapor saturado)'%(hp2/1000))\n",
    "print('sp1 = %.5f [kJ/(kg·K)]  (Líquido saturado)'%(sp1/1000))\n",
    "print('sp2 = %.5f [kJ/(kg·K)]  (Vapor saturado)'%(sp2/1000))\n",
    "print('T_5 = %.2f [K]'%T_5)\n",
    "print('t_5 = %.2f [°C]'%(T_5 - 273.15))"
   ]
  },
  {
   "cell_type": "code",
   "execution_count": 15,
   "metadata": {},
   "outputs": [],
   "source": [
    "h_5 = x_5*(hp2 - hp1) + hp1\n",
    "s_5 = x_5*(sp2 - sp1) + sp1"
   ]
  },
  {
   "cell_type": "code",
   "execution_count": 16,
   "metadata": {},
   "outputs": [
    {
     "name": "stdout",
     "output_type": "stream",
     "text": [
      "h_5 = 2529.98 [kJ/kg]\n",
      "s_5 = 7.26791 [kJ/(kg·K)]\n"
     ]
    }
   ],
   "source": [
    "print('h_5 = %.2f [kJ/kg]'%(h_5/1000))\n",
    "print('s_5 = %.5f [kJ/(kg·K)]'%(s_5/1000))"
   ]
  },
  {
   "cell_type": "code",
   "execution_count": 17,
   "metadata": {},
   "outputs": [],
   "source": [
    "# También se puede hacer\n",
    "h_5 = cp.PropsSI('H','P',P_5,'Q',x_5,'Water')\n",
    "s_5 = cp.PropsSI('S','P',P_5,'Q',x_5,'Water')"
   ]
  },
  {
   "cell_type": "code",
   "execution_count": 18,
   "metadata": {},
   "outputs": [
    {
     "name": "stdout",
     "output_type": "stream",
     "text": [
      "h_5 = 2529.98 [kJ/kg]\n",
      "s_5 = 7.26791 [kJ/(kg·K)]\n"
     ]
    }
   ],
   "source": [
    "print('h_5 = %.2f [kJ/kg]'%(h_5/1000))\n",
    "print('s_5 = %.5f [kJ/(kg·K)]'%(s_5/1000))"
   ]
  },
  {
   "cell_type": "markdown",
   "metadata": {},
   "source": [
    "$$ W_{MF} = -W_T \\tag{7} $$"
   ]
  },
  {
   "cell_type": "markdown",
   "metadata": {},
   "source": [
    "$$ W_T = m_4 (h_5 - h_4) $$"
   ]
  },
  {
   "cell_type": "markdown",
   "metadata": {},
   "source": [
    "$$ m_4 = \\frac{-W_T}{h_5 - h_4} \\tag{8} $$"
   ]
  },
  {
   "cell_type": "code",
   "execution_count": 19,
   "metadata": {},
   "outputs": [],
   "source": [
    "W_T = -W_MF\n",
    "m_4 = W_T/(h_5 - h_4)"
   ]
  },
  {
   "cell_type": "code",
   "execution_count": 20,
   "metadata": {},
   "outputs": [
    {
     "name": "stdout",
     "output_type": "stream",
     "text": [
      "m_4 = 11.867 [kg/s]\n"
     ]
    }
   ],
   "source": [
    "print('m_4 = %.3f [kg/s]'%m_4)"
   ]
  },
  {
   "cell_type": "markdown",
   "metadata": {},
   "source": [
    "### Intercambiador de calor"
   ]
  },
  {
   "cell_type": "code",
   "execution_count": 21,
   "metadata": {},
   "outputs": [],
   "source": [
    "# Datos:\n",
    "P_3 = 10e5 # [Pa]\n",
    "T_3 = 200 + 273.15 # [K]"
   ]
  },
  {
   "cell_type": "code",
   "execution_count": 22,
   "metadata": {},
   "outputs": [
    {
     "data": {
      "text/plain": [
       "'gas'"
      ]
     },
     "execution_count": 22,
     "metadata": {},
     "output_type": "execute_result"
    }
   ],
   "source": [
    "cp.PhaseSI('P',P_3,'T',T_3,'Water')"
   ]
  },
  {
   "cell_type": "code",
   "execution_count": 23,
   "metadata": {},
   "outputs": [],
   "source": [
    "h_3 = cp.PropsSI('H','P',P_3,'T',T_3,'Water')\n",
    "s_3 = cp.PropsSI('S','P',P_3,'T',T_3,'Water')"
   ]
  },
  {
   "cell_type": "code",
   "execution_count": 24,
   "metadata": {},
   "outputs": [
    {
     "name": "stdout",
     "output_type": "stream",
     "text": [
      "h_3 = 2828.26 [kJ/kg]\n",
      "s_3 = 6.69554 [kJ/(kg·K)]\n"
     ]
    }
   ],
   "source": [
    "print('h_3 = %.2f [kJ/kg]'%(h_3/1000))\n",
    "print('s_3 = %.5f [kJ/(kg·K)]'%(s_3/1000))"
   ]
  },
  {
   "cell_type": "markdown",
   "metadata": {},
   "source": [
    "$$ \\Delta H_{34} = \\dot{m}_3 (h_4 - h_3) = -Q_F $$"
   ]
  },
  {
   "cell_type": "markdown",
   "metadata": {},
   "source": [
    "Entonces\n",
    "$$ Q_F = \\dot{m}_3 (h_3 - h_4) \\tag{9} $$"
   ]
  },
  {
   "cell_type": "code",
   "execution_count": 25,
   "metadata": {},
   "outputs": [],
   "source": [
    "m_3 = m_4\n",
    "Q_F = m_3*(h_3 - h_4)"
   ]
  },
  {
   "cell_type": "code",
   "execution_count": 26,
   "metadata": {},
   "outputs": [
    {
     "name": "stdout",
     "output_type": "stream",
     "text": [
      "Q_F = -2650.70 [kJ/s]\n"
     ]
    }
   ],
   "source": [
    "print('Q_F = %.2f [kJ/s]'%(Q_F/1000))"
   ]
  },
  {
   "cell_type": "markdown",
   "metadata": {},
   "source": [
    "### Cámara de mezcla"
   ]
  },
  {
   "cell_type": "code",
   "execution_count": 27,
   "metadata": {},
   "outputs": [],
   "source": [
    "# Datos:\n",
    "T_1 = 270 + 273.15 # [K]\n",
    "x_2 = 0.9\n",
    "T_3 = 200 + 273.15 # [K]"
   ]
  },
  {
   "cell_type": "code",
   "execution_count": 28,
   "metadata": {},
   "outputs": [],
   "source": [
    "P_1 = P_2\n",
    "P_3 = P_2"
   ]
  },
  {
   "cell_type": "code",
   "execution_count": 29,
   "metadata": {},
   "outputs": [],
   "source": [
    "h_1 = cp.PropsSI('H','P',P_1,'T',T_1,'Water')\n",
    "s_1 = cp.PropsSI('S','P',P_1,'T',T_1,'Water')"
   ]
  },
  {
   "cell_type": "code",
   "execution_count": 30,
   "metadata": {},
   "outputs": [
    {
     "name": "stdout",
     "output_type": "stream",
     "text": [
      "h_1 = 2986.94 [kJ/kg]\n",
      "s_1 = 7.00869 [kJ/(kg·K)]\n"
     ]
    }
   ],
   "source": [
    "print('h_1 = %.2f [kJ/kg]'%(h_1/1000))\n",
    "print('s_1 = %.5f [kJ/(kg·K)]'%(s_1/1000))"
   ]
  },
  {
   "cell_type": "markdown",
   "metadata": {},
   "source": [
    "$$ h_2 = x_2 (h'' - h') + h' \\tag{10}$$"
   ]
  },
  {
   "cell_type": "markdown",
   "metadata": {},
   "source": [
    "$$ s_2 = x_2 (s'' -s') + s' \\tag{11}$$"
   ]
  },
  {
   "cell_type": "code",
   "execution_count": 31,
   "metadata": {},
   "outputs": [],
   "source": [
    "h_2 = cp.PropsSI('H','P',P_2,'Q',x_2,'Water')\n",
    "s_2 = cp.PropsSI('S','P',P_2,'Q',x_2,'Water')"
   ]
  },
  {
   "cell_type": "code",
   "execution_count": 32,
   "metadata": {},
   "outputs": [
    {
     "name": "stdout",
     "output_type": "stream",
     "text": [
      "h_2 = 2575.65 [kJ/kg]\n",
      "s_2 = 6.14032 [kJ/(kg·K)]\n"
     ]
    }
   ],
   "source": [
    "print('h_2 = %.2f [kJ/kg]'%(h_2/1000))\n",
    "print('s_2 = %.5f [kJ/(kg·K)]'%(s_2/1000))"
   ]
  },
  {
   "cell_type": "markdown",
   "metadata": {},
   "source": [
    "$$\\left\\{\n",
    "\\begin{array}{l}\n",
    "m_1 + m_2 = m_3 \\\\\n",
    "m_1 h_1 + m_2 h_2 = m_3 h_3\n",
    "\\end{array}\n",
    "\\right. \\tag{12}$$"
   ]
  },
  {
   "cell_type": "markdown",
   "metadata": {},
   "source": [
    "Resolvemos el sistema de ecuaciones por sustitución\n",
    "$$ m_2 = m_3 - m_1 $$"
   ]
  },
  {
   "cell_type": "markdown",
   "metadata": {},
   "source": [
    "$$ m_1 h_1 + (m_3 - m_1)h_2 = m_3 h_3 $$"
   ]
  },
  {
   "cell_type": "markdown",
   "metadata": {},
   "source": [
    "Despejando $m_1$\n",
    "$$ m_1 = - \\frac{(h_3 - h_2) \\, m_3}{h_2 - h_1} $$"
   ]
  },
  {
   "cell_type": "code",
   "execution_count": 47,
   "metadata": {},
   "outputs": [],
   "source": [
    "m_1 = -(h_3 - h_2)*m_3/(h_2 - h_1)\n",
    "m_2 = m_3 - m_1"
   ]
  },
  {
   "cell_type": "code",
   "execution_count": 48,
   "metadata": {},
   "outputs": [
    {
     "name": "stdout",
     "output_type": "stream",
     "text": [
      "m_1 = 7.289 [kg/s]\n",
      "m_2 = 4.578 [kg/s]\n"
     ]
    }
   ],
   "source": [
    "print('m_1 = %.3f [kg/s]'%m_1)\n",
    "print('m_2 = %.3f [kg/s]'%m_2)"
   ]
  },
  {
   "cell_type": "markdown",
   "metadata": {},
   "source": [
    "Resolvemos el sistema de ecuaciones en forma matricial"
   ]
  },
  {
   "cell_type": "markdown",
   "metadata": {},
   "source": [
    "$$M_{10} = \\pmatrix{1 & 1 \\\\\n",
    "h_1 & h_2} \\quad ; \\quad R_{10} = \\pmatrix{m_3 \\\\ m_3 h_3} $$"
   ]
  },
  {
   "cell_type": "markdown",
   "metadata": {},
   "source": [
    "$$ S_{10} = M_{10}^{-1} \\cdot R_{10} $$"
   ]
  },
  {
   "cell_type": "code",
   "execution_count": 33,
   "metadata": {},
   "outputs": [],
   "source": [
    "M10 = np.matrix([[1,1],[h_1,h_2]])\n",
    "R10 = np.matrix([[m_3],[m_3*h_3]])"
   ]
  },
  {
   "cell_type": "code",
   "execution_count": 34,
   "metadata": {},
   "outputs": [],
   "source": [
    "S10 = np.linalg.inv(M10)*R10"
   ]
  },
  {
   "cell_type": "code",
   "execution_count": 35,
   "metadata": {},
   "outputs": [
    {
     "data": {
      "text/plain": [
       "matrix([[7.28869498],\n",
       "        [4.57829486]])"
      ]
     },
     "execution_count": 35,
     "metadata": {},
     "output_type": "execute_result"
    }
   ],
   "source": [
    "S10"
   ]
  },
  {
   "cell_type": "code",
   "execution_count": 36,
   "metadata": {},
   "outputs": [],
   "source": [
    "m_1 = S10[0,0]\n",
    "m_2 = S10[1,0]"
   ]
  },
  {
   "cell_type": "code",
   "execution_count": 37,
   "metadata": {},
   "outputs": [
    {
     "name": "stdout",
     "output_type": "stream",
     "text": [
      "m_1 = 7.289 [kg/s]\n",
      "m_2 = 4.578 [kg/s]\n"
     ]
    }
   ],
   "source": [
    "print('m_1 = %.3f [kg/s]'%m_1)\n",
    "print('m_2 = %.3f [kg/s]'%m_2)"
   ]
  },
  {
   "cell_type": "markdown",
   "metadata": {},
   "source": [
    "### Rendimiento isoentrópico de la turbina"
   ]
  },
  {
   "cell_type": "markdown",
   "metadata": {},
   "source": [
    "$$ \\eta_{iso} = \\frac{h_4 - h_5}{h_4 - h_{5rev}} \\tag{13}$$"
   ]
  },
  {
   "cell_type": "markdown",
   "metadata": {},
   "source": [
    "Averiguamos $x_{5rev}$\n",
    "$$ x_{5rev} = \\frac{s_{5rev} - s'}{s'' - s'} \\tag{14} $$"
   ]
  },
  {
   "cell_type": "code",
   "execution_count": 38,
   "metadata": {},
   "outputs": [
    {
     "data": {
      "text/plain": [
       "'twophase'"
      ]
     },
     "execution_count": 38,
     "metadata": {},
     "output_type": "execute_result"
    }
   ],
   "source": [
    "s_5rev = s_4\n",
    "cp.PhaseSI('P',P_5,'S',s_5rev,'Water')"
   ]
  },
  {
   "cell_type": "code",
   "execution_count": 39,
   "metadata": {},
   "outputs": [],
   "source": [
    "x_5rev = cp.PropsSI('Q','P',P_5,'S',s_5rev,'Water')"
   ]
  },
  {
   "cell_type": "code",
   "execution_count": 40,
   "metadata": {},
   "outputs": [
    {
     "name": "stdout",
     "output_type": "stream",
     "text": [
      "x_5rev = 0.9280\n"
     ]
    }
   ],
   "source": [
    "print('x_5rev = %.4f'%x_5rev)"
   ]
  },
  {
   "cell_type": "code",
   "execution_count": 41,
   "metadata": {},
   "outputs": [],
   "source": [
    "h_5rev = cp.PropsSI('H','P',P_5,'Q',x_5rev,'Water')"
   ]
  },
  {
   "cell_type": "code",
   "execution_count": 42,
   "metadata": {},
   "outputs": [
    {
     "name": "stdout",
     "output_type": "stream",
     "text": [
      "h_5rev = 2479.19 [kJ/kg]\n"
     ]
    }
   ],
   "source": [
    "print('h_5rev = %.2f [kJ/kg]'%(h_5rev/1000))"
   ]
  },
  {
   "cell_type": "code",
   "execution_count": 49,
   "metadata": {},
   "outputs": [],
   "source": [
    "n_iso = (h_4 - h_5)/(h_4 - h_5rev)"
   ]
  },
  {
   "cell_type": "code",
   "execution_count": 50,
   "metadata": {},
   "outputs": [
    {
     "name": "stdout",
     "output_type": "stream",
     "text": [
      "n_iso = 0.9113\n"
     ]
    }
   ],
   "source": [
    "print('n_iso = %.4f'%n_iso)"
   ]
  },
  {
   "cell_type": "markdown",
   "metadata": {},
   "source": [
    "### Rendimiento exergérico de la turbina\n",
    "\n",
    "$$ \\eta_{ex,turb} = \\frac{W_T}{m_4[(h_5 - h_4) - T_0(s_5 -s_4)]} \\tag{15}$$"
   ]
  },
  {
   "cell_type": "code",
   "execution_count": 45,
   "metadata": {},
   "outputs": [],
   "source": [
    "n_exturb = W_T/(m_4*((h_5 - h_4) - T_0*(s_5 - s_4)))"
   ]
  },
  {
   "cell_type": "code",
   "execution_count": 46,
   "metadata": {},
   "outputs": [
    {
     "name": "stdout",
     "output_type": "stream",
     "text": [
      "n_exturb = 0.9239\n"
     ]
    }
   ],
   "source": [
    "print('n_exturb = %.4f'%n_exturb)"
   ]
  },
  {
   "cell_type": "markdown",
   "metadata": {},
   "source": [
    "### Variaciones de entropía\n",
    "\n",
    "$$ W_{MF} = Q_1 + Q_2 \\tag{16} $$"
   ]
  },
  {
   "cell_type": "markdown",
   "metadata": {},
   "source": [
    "Despejo $Q_1$\n",
    "$$ Q_1 = W_{MF} - Q_2 $$"
   ]
  },
  {
   "cell_type": "code",
   "execution_count": 51,
   "metadata": {},
   "outputs": [],
   "source": [
    "Q_1 = W_MF - Q_2"
   ]
  },
  {
   "cell_type": "code",
   "execution_count": 53,
   "metadata": {},
   "outputs": [
    {
     "name": "stdout",
     "output_type": "stream",
     "text": [
      "Q_1 = 136430.4 [kJ]\n"
     ]
    }
   ],
   "source": [
    "print('Q_1 = %.1f [kJ]'%(Q_1/1000))"
   ]
  },
  {
   "cell_type": "markdown",
   "metadata": {},
   "source": [
    "$$ \\Delta S_1 = \\frac{Q_1}{T_0} \\tag{17} $$"
   ]
  },
  {
   "cell_type": "code",
   "execution_count": 54,
   "metadata": {},
   "outputs": [],
   "source": [
    "DS_1 = Q_1/T_0"
   ]
  },
  {
   "cell_type": "code",
   "execution_count": 55,
   "metadata": {},
   "outputs": [
    {
     "name": "stdout",
     "output_type": "stream",
     "text": [
      "DS_1 = 454.77 [kJ/K]\n"
     ]
    }
   ],
   "source": [
    "print('DS_1 = %.2f [kJ/K]'%(DS_1/1000))"
   ]
  },
  {
   "cell_type": "markdown",
   "metadata": {},
   "source": [
    "$$ \\Delta S_F = \\frac{Q_F}{T_F} \\tag{18} $$"
   ]
  },
  {
   "cell_type": "code",
   "execution_count": 56,
   "metadata": {},
   "outputs": [],
   "source": [
    "# Dato:\n",
    "T_F = 700 # [K]\n",
    "DS_F = Q_F/T_F"
   ]
  },
  {
   "cell_type": "code",
   "execution_count": 57,
   "metadata": {},
   "outputs": [
    {
     "name": "stdout",
     "output_type": "stream",
     "text": [
      "DS_F = -3.787 [kJ/K]\n"
     ]
    }
   ],
   "source": [
    "print('DS_F = %.3f [kJ/K]'%(DS_F/1000))"
   ]
  },
  {
   "cell_type": "markdown",
   "metadata": {},
   "source": [
    "$$ \\Delta S_{15} = m_1 (s_5 - s_1) \\tag{19} $$"
   ]
  },
  {
   "cell_type": "markdown",
   "metadata": {},
   "source": [
    "$$ \\Delta S_{25} = m_2 (s_5 - s_2) \\tag{20} $$"
   ]
  },
  {
   "cell_type": "code",
   "execution_count": 58,
   "metadata": {},
   "outputs": [],
   "source": [
    "DS_15 = m_1*(s_5 - s_1)\n",
    "DS_25 = m_2*(s_5 - s_2)"
   ]
  },
  {
   "cell_type": "code",
   "execution_count": 60,
   "metadata": {},
   "outputs": [
    {
     "name": "stdout",
     "output_type": "stream",
     "text": [
      "DS_15 = 1.8894 [kJ/K]\n",
      "DS_25 = 5.1624 [kJ/K]\n"
     ]
    }
   ],
   "source": [
    "print('DS_15 = %.4f [kJ/K]'%(DS_15/1000))\n",
    "print('DS_25 = %.4f [kJ/K]'%(DS_25/1000))"
   ]
  },
  {
   "cell_type": "markdown",
   "metadata": {},
   "source": [
    "$$ \\Delta S_u = \\Delta S_{15} + \\Delta S_{25} + \\Delta S_F + \\Delta S_2 + \\Delta S_1 \\tag{21}$$"
   ]
  },
  {
   "cell_type": "code",
   "execution_count": 61,
   "metadata": {},
   "outputs": [],
   "source": [
    "DS_u = DS_15 + DS_25 + DS_F + DS_2 + DS_1"
   ]
  },
  {
   "cell_type": "code",
   "execution_count": 62,
   "metadata": {},
   "outputs": [
    {
     "name": "stdout",
     "output_type": "stream",
     "text": [
      "DS_u = 7.3921 [kJ/K]\n"
     ]
    }
   ],
   "source": [
    "print('DS_u = %.4f [kJ/K]'%(DS_u/1000))"
   ]
  },
  {
   "cell_type": "markdown",
   "metadata": {},
   "source": [
    "### Variaciones de exergía"
   ]
  },
  {
   "cell_type": "markdown",
   "metadata": {},
   "source": [
    "$\\begin{array}{l}\n",
    "\\Delta Ex_{14} = m_1 (h_4 - h_1) - m_1 T_0 (s_4 - s_1) \\\\\n",
    "\\Delta Ex_{24} = m_2 (h_4 - h_2) - m_2 T_0 (s_4 - s_2) \\\\\n",
    "\\Delta Ex_{45} = m_4 (h_5 - h_4) - m_4 T_0 (s_5 - s_4) \\\\\n",
    "\\end{array} \\tag{22}$"
   ]
  },
  {
   "cell_type": "code",
   "execution_count": 63,
   "metadata": {},
   "outputs": [],
   "source": [
    "DEx_14 = m_1*(h_4 - h_1) - m_1*T_0*(s_4 - s_1)\n",
    "DEx_24 = m_2*(h_4 - h_2) - m_2*T_0*(s_4 - s_2)\n",
    "DEx_45 = m_4*(h_5 - h_4) - m_4*T_0*(s_5 - s_4)"
   ]
  },
  {
   "cell_type": "code",
   "execution_count": 64,
   "metadata": {},
   "outputs": [
    {
     "name": "stdout",
     "output_type": "stream",
     "text": [
      "DEx_14 = 218.0023 [kJ/K]\n",
      "DEx_24 = 827.2626 [kJ/K]\n",
      "DEx_45 = -6700.5417 [kJ/K]\n"
     ]
    }
   ],
   "source": [
    "print('DEx_14 = %.4f [kJ/K]'%(DEx_14/1000))\n",
    "print('DEx_24 = %.4f [kJ/K]'%(DEx_24/1000))\n",
    "print('DEx_45 = %.4f [kJ/K]'%(DEx_45/1000))"
   ]
  },
  {
   "cell_type": "markdown",
   "metadata": {},
   "source": [
    "### Rendimiento exergético de proceso\n",
    "\n",
    "$$ \\eta_{ex,proc} = \\frac{\\Delta Ex_{14} + \\Delta Ex_{24} + Q_{U2}}{|\\Delta Ex_{45} + Q_F|} \\tag{23}$$"
   ]
  },
  {
   "cell_type": "code",
   "execution_count": 65,
   "metadata": {},
   "outputs": [],
   "source": [
    "n_exproc = (DEx_14 + DEx_24 + Q_U2)/abs(DEx_45 + Q_F)"
   ]
  },
  {
   "cell_type": "code",
   "execution_count": 66,
   "metadata": {},
   "outputs": [
    {
     "name": "stdout",
     "output_type": "stream",
     "text": [
      "n_exproc = 0.6414\n"
     ]
    }
   ],
   "source": [
    "print('n_exproc = %.4f'%n_exproc)"
   ]
  },
  {
   "cell_type": "code",
   "execution_count": null,
   "metadata": {},
   "outputs": [],
   "source": [
    "%reset -s -f"
   ]
  }
 ],
 "metadata": {
  "kernelspec": {
   "display_name": "Python 3",
   "language": "python",
   "name": "python3"
  },
  "language_info": {
   "codemirror_mode": {
    "name": "ipython",
    "version": 3
   },
   "file_extension": ".py",
   "mimetype": "text/x-python",
   "name": "python",
   "nbconvert_exporter": "python",
   "pygments_lexer": "ipython3",
   "version": "3.7.3"
  }
 },
 "nbformat": 4,
 "nbformat_minor": 4
}
