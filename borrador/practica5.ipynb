{
 "cells": [
  {
   "cell_type": "markdown",
   "metadata": {},
   "source": [
    "# Práctica 5"
   ]
  },
  {
   "cell_type": "markdown",
   "metadata": {},
   "source": [
    "## Ejercicio 27\n",
    "Para comprimir aire se utiliza una turbina de vapor. Determinar:\n",
    "1. Potencia que requiere el compresor\n",
    "2. Caudal másico de vapor\n",
    "\n",
    "<img src=\"../img/27.png\" width=\"500\">"
   ]
  },
  {
   "cell_type": "markdown",
   "metadata": {},
   "source": [
    "### Solución"
   ]
  },
  {
   "cell_type": "markdown",
   "metadata": {},
   "source": [
    "$$ |W_C| = |W_T| $$"
   ]
  },
  {
   "cell_type": "markdown",
   "metadata": {},
   "source": [
    "Turbina (vapor)\n",
    "$$ Q - W = \\Delta H $$"
   ]
  },
  {
   "cell_type": "markdown",
   "metadata": {},
   "source": [
    "$$ 0 - W = m (h_s - h_e) $$"
   ]
  },
  {
   "cell_type": "markdown",
   "metadata": {},
   "source": [
    "Entonces\n",
    "$$ W_T = \\dot{m}_3 (h_e - h_s) \\tag{1} $$"
   ]
  },
  {
   "cell_type": "markdown",
   "metadata": {},
   "source": [
    "Compresor (aire)\n",
    "$$ -W_C = \\dot{m}_1 (h_s - h_e) = \\dot{m}_1 c_p (T_f - T_e) \\tag{2} $$"
   ]
  },
  {
   "cell_type": "code",
   "execution_count": 2,
   "metadata": {},
   "outputs": [],
   "source": [
    "# Datos:\n",
    "cp_aire = 1.0047e3 # (J/kg·K)\n",
    "m_aire = 3 # (kg/s)\n",
    "P_1 = 1e5 # (Pa)\n",
    "P_2 = 3e5 # (Pa)\n",
    "P_3 = 4e5 # (Pa)\n",
    "P_4 = 1.4e5 # (Pa)\n",
    "T_1 = 300 + 273.15 # (K)\n",
    "T_2 = 420 # (K)\n",
    "T_3 = 200 + 273.15 # (K)\n",
    "x_4 = 1"
   ]
  },
  {
   "cell_type": "code",
   "execution_count": 3,
   "metadata": {},
   "outputs": [],
   "source": [
    "# Compresor\n",
    "W_C = -(m_aire*cp_aire*(T_2 - T_1))"
   ]
  },
  {
   "cell_type": "code",
   "execution_count": 11,
   "metadata": {},
   "outputs": [
    {
     "name": "stdout",
     "output_type": "stream",
     "text": [
      "Potencia que requiere el compresor:\n",
      "W_C = 461.61 (Watts)\n"
     ]
    }
   ],
   "source": [
    "print('Potencia que requiere el compresor:')\n",
    "print('W_C = %.2f (Watts)'%(W_C/1000))"
   ]
  },
  {
   "cell_type": "markdown",
   "metadata": {},
   "source": [
    "$$ W_T = \\dot{m}_3 (h_3 - h_4) $$"
   ]
  },
  {
   "cell_type": "markdown",
   "metadata": {},
   "source": [
    "Despejo $\\dot{m}_3$\n",
    "$$ \\dot{m}_3 = \\frac{W_T}{h_3 - h_4} $$"
   ]
  },
  {
   "cell_type": "code",
   "execution_count": 5,
   "metadata": {},
   "outputs": [],
   "source": [
    "import CoolProp.CoolProp as cp"
   ]
  },
  {
   "cell_type": "code",
   "execution_count": 7,
   "metadata": {},
   "outputs": [],
   "source": [
    "W_T = W_C\n",
    "h_3 = cp.PropsSI('H','P',P_3,'T',T_3,'Water')\n",
    "h_4 = cp.PropsSI('H','P',P_4,'Q',x_4,'Water')"
   ]
  },
  {
   "cell_type": "code",
   "execution_count": 8,
   "metadata": {},
   "outputs": [],
   "source": [
    "# Turbina\n",
    "m_3 = W_T/(h_3 - h_4)"
   ]
  },
  {
   "cell_type": "code",
   "execution_count": 12,
   "metadata": {},
   "outputs": [
    {
     "name": "stdout",
     "output_type": "stream",
     "text": [
      "Caudal másico de vapor:\n",
      "m_3 = 2.70 (kg/s)\n"
     ]
    }
   ],
   "source": [
    "print('Caudal másico de vapor:')\n",
    "print('m_3 = %.2f (kg/s)'%m_3)"
   ]
  },
  {
   "cell_type": "code",
   "execution_count": 13,
   "metadata": {},
   "outputs": [],
   "source": [
    "%reset -s -f"
   ]
  },
  {
   "cell_type": "markdown",
   "metadata": {},
   "source": [
    "## Ejercicio 28\n",
    "Determinar\n",
    "1. $\\dot{m}_1$\n",
    "2. $\\dot{m}_4 \\quad (O_2)$\n",
    "\n",
    "<img src=\"../img/28.png\">"
   ]
  },
  {
   "cell_type": "code",
   "execution_count": 28,
   "metadata": {},
   "outputs": [],
   "source": [
    "# Datos:\n",
    "cp_O2 = 0.9185e3 # J/(kg·K)\n",
    "P_1 = 10e5 # Pa\n",
    "P_2 = 1e5 # Pa\n",
    "P_3 = 0.95e5 # Pa\n",
    "T_1 = 400 + 273.15 # K\n",
    "T_2 = 140 + 273.15 # K\n",
    "T_4 = 27 + 273.15 # K\n",
    "T_5 = 150 + 273.15 # K\n",
    "W_T = 6000e3 # W\n",
    "x_3 = 1"
   ]
  },
  {
   "cell_type": "code",
   "execution_count": 15,
   "metadata": {},
   "outputs": [],
   "source": [
    "import CoolProp.CoolProp as cp"
   ]
  },
  {
   "cell_type": "code",
   "execution_count": 16,
   "metadata": {},
   "outputs": [],
   "source": [
    "h_1 = cp.PropsSI('H','P',P_1,'T',T_1,'Water')\n",
    "h_2 = cp.PropsSI('H','P',P_2,'T',T_2,'Water')"
   ]
  },
  {
   "cell_type": "code",
   "execution_count": 17,
   "metadata": {},
   "outputs": [
    {
     "name": "stdout",
     "output_type": "stream",
     "text": [
      "h_1 = 3264.47 (kJ/kg)\n",
      "h_2 = 2756.72 (kJ/kg)\n"
     ]
    }
   ],
   "source": [
    "print('h_1 = %.2f (kJ/kg)'%(h_1/1000))\n",
    "print('h_2 = %.2f (kJ/kg)'%(h_2/1000))"
   ]
  },
  {
   "cell_type": "markdown",
   "metadata": {},
   "source": [
    "Para la turbina\n",
    "$$ Q - W = \\Delta H $$"
   ]
  },
  {
   "cell_type": "markdown",
   "metadata": {},
   "source": [
    "$$ W_T = \\dot{m}_1 (h_1 - h_2) $$"
   ]
  },
  {
   "cell_type": "markdown",
   "metadata": {},
   "source": [
    "Despejo $\\dot{m}_1$\n",
    "$$ \\dot{m}_1 = \\frac{W_T}{h_1 - h_2} $$"
   ]
  },
  {
   "cell_type": "code",
   "execution_count": 23,
   "metadata": {},
   "outputs": [],
   "source": [
    "m_agua = W_T/(h_1 - h_2)"
   ]
  },
  {
   "cell_type": "code",
   "execution_count": 24,
   "metadata": {},
   "outputs": [
    {
     "name": "stdout",
     "output_type": "stream",
     "text": [
      "m_agua = 11.817 (kg/s)\n"
     ]
    }
   ],
   "source": [
    "print('m_agua = %.3f (kg/s)'%m_agua)"
   ]
  },
  {
   "cell_type": "markdown",
   "metadata": {},
   "source": [
    "Para el intercambiador de calor\n",
    "$$ Q - W = \\Delta H $$"
   ]
  },
  {
   "cell_type": "markdown",
   "metadata": {},
   "source": [
    "$$ \\Delta H = 0 $$"
   ]
  },
  {
   "cell_type": "markdown",
   "metadata": {},
   "source": [
    "$$ H_E = H_s $$"
   ]
  },
  {
   "cell_type": "markdown",
   "metadata": {},
   "source": [
    "$$ m_{agua} (h_2 - h_3) = m_{gas} (h_5 - h_4) = c_{p,gas} (T_5 - T_4) $$"
   ]
  },
  {
   "cell_type": "markdown",
   "metadata": {},
   "source": [
    "$$ m_{gas} = m_{agua} \\frac{h_2 - h_3}{c_{p,gas} (T_5 - T_4)} $$"
   ]
  },
  {
   "cell_type": "code",
   "execution_count": 26,
   "metadata": {},
   "outputs": [],
   "source": [
    "h_3 = cp.PropsSI('H','P',P_3,'Q',x_3,'Water')"
   ]
  },
  {
   "cell_type": "code",
   "execution_count": 29,
   "metadata": {},
   "outputs": [],
   "source": [
    "m_gas = m_agua*(h_2 - h_3)/(cp_O2*(T_5 - T_4))"
   ]
  },
  {
   "cell_type": "code",
   "execution_count": 31,
   "metadata": {},
   "outputs": [
    {
     "name": "stdout",
     "output_type": "stream",
     "text": [
      "m_gas = 8.79 (kg/s)\n"
     ]
    }
   ],
   "source": [
    "print('m_gas = %.2f (kg/s)'%m_gas)"
   ]
  },
  {
   "cell_type": "code",
   "execution_count": 32,
   "metadata": {},
   "outputs": [],
   "source": [
    "%reset -s -f"
   ]
  },
  {
   "cell_type": "markdown",
   "metadata": {},
   "source": [
    "## Ejercicio 29\n",
    "Mediante un eje que acciona una rueda de paletas se entrega trabajo al aire contenido en B hasta que éste alcanza 500°C. Determine el trabajo suministrado por el eje.\n",
    "\n",
    "<img src=\"../img/29.png\">"
   ]
  },
  {
   "cell_type": "markdown",
   "metadata": {},
   "source": [
    "### Solución"
   ]
  },
  {
   "cell_type": "markdown",
   "metadata": {},
   "source": [
    "* Variación energía interna del aire\n",
    "\n",
    "$$ \\Delta U_{aire} = m_{aire} c_v (T_2 - T_1) $$"
   ]
  },
  {
   "cell_type": "markdown",
   "metadata": {},
   "source": [
    "Averiguamos la temperatura en A y como el seperador es diatérmico la temperatura en B debe ser igual."
   ]
  },
  {
   "cell_type": "code",
   "execution_count": 1,
   "metadata": {},
   "outputs": [],
   "source": [
    "import CoolProp.CoolProp as cp"
   ]
  },
  {
   "cell_type": "code",
   "execution_count": 3,
   "metadata": {},
   "outputs": [],
   "source": [
    "# Datos:\n",
    "P_A = 9e5 # (Pa)\n",
    "x = 1"
   ]
  },
  {
   "cell_type": "code",
   "execution_count": 6,
   "metadata": {},
   "outputs": [],
   "source": [
    "T_1 = cp.PropsSI('T','P',P_A,'Q',x,'Water')"
   ]
  },
  {
   "cell_type": "code",
   "execution_count": 7,
   "metadata": {},
   "outputs": [
    {
     "name": "stdout",
     "output_type": "stream",
     "text": [
      "T_1 = 448.50 K\n",
      "t_1 = 175.35°C\n"
     ]
    }
   ],
   "source": [
    "print('T_1 = %.2f K'%T_A)\n",
    "print('t_1 = %.2f°C'%(T_A - 273.15))"
   ]
  },
  {
   "cell_type": "code",
   "execution_count": 9,
   "metadata": {},
   "outputs": [],
   "source": [
    "# Datos:\n",
    "x = 1\n",
    "T_2 = 500 + 273.15 # K\n",
    "m_aire = 30 # (kg)\n",
    "m_vapor = 10 # (kg)\n",
    "cv = 0.7176e3 # J/(kg·K)  (aire, a volumen constante)"
   ]
  },
  {
   "cell_type": "code",
   "execution_count": 10,
   "metadata": {},
   "outputs": [],
   "source": [
    "DU_aire = m_aire*cv*(T_2 - T_1)"
   ]
  },
  {
   "cell_type": "code",
   "execution_count": 21,
   "metadata": {},
   "outputs": [
    {
     "name": "stdout",
     "output_type": "stream",
     "text": [
      "Variación energía interna del aire (A)\n",
      "DU_aire = 6989.06 kJ\n"
     ]
    }
   ],
   "source": [
    "print('Variación energía interna del aire (A)')\n",
    "print('DU_aire = %.2f kJ'%(DU_aire/1000))"
   ]
  },
  {
   "cell_type": "markdown",
   "metadata": {},
   "source": [
    "* Variación energía interna del vapor\n",
    "\n",
    "$$ \\Delta U_{vapor} = m_{vapor} (u_2 - u_1) $$"
   ]
  },
  {
   "cell_type": "code",
   "execution_count": 12,
   "metadata": {},
   "outputs": [],
   "source": [
    "u_1 = cp.PropsSI('U','P',P_A,'Q',x,'Water')\n",
    "u_2 = cp.PropsSI('U','P',P_A,'T',T_2,'Water')"
   ]
  },
  {
   "cell_type": "code",
   "execution_count": 14,
   "metadata": {},
   "outputs": [
    {
     "name": "stdout",
     "output_type": "stream",
     "text": [
      "u_1 = 2579.64 (kJ/kg)\n",
      "u_2 = 3125.79 (kJ/kg)\n"
     ]
    }
   ],
   "source": [
    "print('u_1 = %.2f (kJ/kg)'%(u_1/1000))\n",
    "print('u_2 = %.2f (kJ/kg)'%(u_2/1000))"
   ]
  },
  {
   "cell_type": "code",
   "execution_count": 15,
   "metadata": {},
   "outputs": [],
   "source": [
    "DU_vapor = m_vapor*(u_2 - u_1)"
   ]
  },
  {
   "cell_type": "code",
   "execution_count": 20,
   "metadata": {},
   "outputs": [
    {
     "name": "stdout",
     "output_type": "stream",
     "text": [
      "Variación energía interna del vapor (B)\n",
      "DU_vapor = 5461.57 (kJ)\n"
     ]
    }
   ],
   "source": [
    "print('Variación energía interna del vapor (B)')\n",
    "print('DU_vapor = %.2f (kJ)'%(DU_vapor/1000))"
   ]
  },
  {
   "cell_type": "markdown",
   "metadata": {},
   "source": [
    "* Variación energía interna total\n",
    "\n",
    "$$ \\Delta U = \\Delta U_{aire} + \\Delta U_{vapor} $$"
   ]
  },
  {
   "cell_type": "code",
   "execution_count": 17,
   "metadata": {},
   "outputs": [],
   "source": [
    "DU = DU_aire + DU_vapor"
   ]
  },
  {
   "cell_type": "code",
   "execution_count": 19,
   "metadata": {},
   "outputs": [
    {
     "name": "stdout",
     "output_type": "stream",
     "text": [
      "Variación energía interna total\n",
      "DU = 12450.62 (kJ)\n"
     ]
    }
   ],
   "source": [
    "print('Variación energía interna total')\n",
    "print('DU = %.2f (kJ)'%(DU/1000))"
   ]
  },
  {
   "cell_type": "markdown",
   "metadata": {},
   "source": [
    "* Trabajo total\n",
    "$$ Q = \\Delta U + W \\qquad \\rightarrow \\qquad Q = 0 $$"
   ]
  },
  {
   "cell_type": "markdown",
   "metadata": {},
   "source": [
    "Entonces:\n",
    "$$ W_T = - \\Delta U $$"
   ]
  },
  {
   "cell_type": "code",
   "execution_count": 22,
   "metadata": {},
   "outputs": [],
   "source": [
    "W_T = -DU"
   ]
  },
  {
   "cell_type": "markdown",
   "metadata": {},
   "source": [
    "* Trabajo por variación de volumen\n",
    "\n",
    "$$ W_{\\Delta V} = P_p \\, m_{vapor} \\, (v_2 - v_1) $$"
   ]
  },
  {
   "cell_type": "code",
   "execution_count": 23,
   "metadata": {},
   "outputs": [],
   "source": [
    "v_1 = 1 / cp.PropsSI('D','P',P_A,'Q',x,'Water')\n",
    "v_2 = 1 / cp.PropsSI('D','P',P_A,'T',T_2,'Water')"
   ]
  },
  {
   "cell_type": "code",
   "execution_count": 24,
   "metadata": {},
   "outputs": [],
   "source": [
    "W_DV = P_A*m_vapor*(v_2 - v_1)"
   ]
  },
  {
   "cell_type": "code",
   "execution_count": 25,
   "metadata": {},
   "outputs": [
    {
     "name": "stdout",
     "output_type": "stream",
     "text": [
      "Trabajo por variación de volumen:\n",
      "W_DV = 1609.87 (kJ)\n"
     ]
    }
   ],
   "source": [
    "print('Trabajo por variación de volumen:')\n",
    "print('W_DV = %.2f (kJ)'%(W_DV/1000))"
   ]
  },
  {
   "cell_type": "markdown",
   "metadata": {},
   "source": [
    "* Trabajo en el eje\n",
    "\n",
    "$$ W_{eje} = W_T - W_{\\Delta V} $$"
   ]
  },
  {
   "cell_type": "code",
   "execution_count": 26,
   "metadata": {},
   "outputs": [],
   "source": [
    "W_eje = W_T - W_DV"
   ]
  },
  {
   "cell_type": "code",
   "execution_count": 27,
   "metadata": {},
   "outputs": [
    {
     "name": "stdout",
     "output_type": "stream",
     "text": [
      "Trabajo en el eje:\n",
      "W_eje = -14060.49 (kJ)\n"
     ]
    }
   ],
   "source": [
    "print('Trabajo en el eje:')\n",
    "print('W_eje = %.2f (kJ)'%(W_eje/1000))"
   ]
  },
  {
   "cell_type": "code",
   "execution_count": 28,
   "metadata": {},
   "outputs": [],
   "source": [
    "%reset -s -f"
   ]
  },
  {
   "cell_type": "markdown",
   "metadata": {},
   "source": [
    "## Ejercicio 30\n",
    "Determinar:\n",
    "1. $\\dot{W}_A$\n",
    "2. $\\dot{W}_B$\n",
    "3. $Q_{2-3}$\n",
    "\n",
    "<img src=\"../img/30.png\">"
   ]
  },
  {
   "cell_type": "markdown",
   "metadata": {},
   "source": [
    "## Solución"
   ]
  },
  {
   "cell_type": "markdown",
   "metadata": {},
   "source": [
    "Turbina vapor (ítem 1)\n",
    "$$ Q - W = \\Delta H $$"
   ]
  },
  {
   "cell_type": "markdown",
   "metadata": {},
   "source": [
    "$$ 0 - W_A = \\dot{m} \\, (h_2 - h_1) $$"
   ]
  },
  {
   "cell_type": "markdown",
   "metadata": {},
   "source": [
    "$$ W_A = \\dot{m} \\, (h_1 - h_2) $$"
   ]
  },
  {
   "cell_type": "code",
   "execution_count": 7,
   "metadata": {},
   "outputs": [],
   "source": [
    "# Datos:\n",
    "P_1 = 6e6 # [Pa]\n",
    "T_1 = 400 + 273.15 # [K]\n",
    "m = 13 # [kg/s]\n",
    "P_2 = 7e5 # [Pa]\n",
    "x_1 = 1"
   ]
  },
  {
   "cell_type": "code",
   "execution_count": 2,
   "metadata": {},
   "outputs": [],
   "source": [
    "import CoolProp.CoolProp as cp"
   ]
  },
  {
   "cell_type": "code",
   "execution_count": 3,
   "metadata": {},
   "outputs": [],
   "source": [
    "h_1 = cp.PropsSI('H','P',P_1,'T',T_1,'Water')\n",
    "h_2 = cp.PropsSI('H','P',P_2,'Q',x_1,'Water')"
   ]
  },
  {
   "cell_type": "code",
   "execution_count": 4,
   "metadata": {},
   "outputs": [
    {
     "name": "stdout",
     "output_type": "stream",
     "text": [
      "h_1 = 3178.25 [kJ/kg]\n",
      "h_2 = 2762.75 [kJ/kg]\n"
     ]
    }
   ],
   "source": [
    "print('h_1 = %.2f [kJ/kg]'%(h_1/1000))\n",
    "print('h_2 = %.2f [kJ/kg]'%(h_2/1000))"
   ]
  },
  {
   "cell_type": "code",
   "execution_count": 8,
   "metadata": {},
   "outputs": [],
   "source": [
    "W_A = m*(h_1 - h_2)"
   ]
  },
  {
   "cell_type": "code",
   "execution_count": 6,
   "metadata": {},
   "outputs": [
    {
     "name": "stdout",
     "output_type": "stream",
     "text": [
      "W_A = 5401.43 [kW]\n"
     ]
    }
   ],
   "source": [
    "print('W_A = %.2f [kW]'%(W_A/1000))"
   ]
  },
  {
   "cell_type": "markdown",
   "metadata": {},
   "source": [
    "Turbina de vapor (ítem 2)"
   ]
  },
  {
   "cell_type": "markdown",
   "metadata": {},
   "source": [
    "$$ Q - W = \\Delta H $$"
   ]
  },
  {
   "cell_type": "markdown",
   "metadata": {},
   "source": [
    "$$ 0 - W_B = \\Delta H = \\dot{m} \\, (h_4 - h_3) $$"
   ]
  },
  {
   "cell_type": "markdown",
   "metadata": {},
   "source": [
    "$$ W_B = \\dot{m} \\, (h_3 - h_4) $$"
   ]
  },
  {
   "cell_type": "code",
   "execution_count": 10,
   "metadata": {},
   "outputs": [],
   "source": [
    "# Datos:\n",
    "T_3 = 400 + 273.15 # [K]\n",
    "P_3 = P_2\n",
    "P_4 = 5e3 # [Pa]\n",
    "x_4 = 0.9"
   ]
  },
  {
   "cell_type": "code",
   "execution_count": 11,
   "metadata": {},
   "outputs": [],
   "source": [
    "h_3 = cp.PropsSI('H','P',P_3,'T',T_3,'Water')"
   ]
  },
  {
   "cell_type": "code",
   "execution_count": 12,
   "metadata": {},
   "outputs": [
    {
     "name": "stdout",
     "output_type": "stream",
     "text": [
      "h_3 = 3269.21 (kJ/kg)\n"
     ]
    }
   ],
   "source": [
    "print('h_3 = %.2f (kJ/kg)'%(h_3/1000))"
   ]
  },
  {
   "cell_type": "markdown",
   "metadata": {},
   "source": [
    "$$ h_4 = x_4 \\, (h'' - h') + h' $$"
   ]
  },
  {
   "cell_type": "code",
   "execution_count": 13,
   "metadata": {},
   "outputs": [],
   "source": [
    "hp1 = cp.PropsSI('H','P',P_4,'Q',0,'Water')  #  h'\n",
    "hp2 = cp.PropsSI('H','P',P_4,'Q',1,'Water')  #  h''\n",
    "\n",
    "h_4 = x_4*(hp2 - hp1) + hp1"
   ]
  },
  {
   "cell_type": "code",
   "execution_count": 22,
   "metadata": {},
   "outputs": [
    {
     "name": "stdout",
     "output_type": "stream",
     "text": [
      "h_4 = 2318.43 [kJ/kg]\n"
     ]
    }
   ],
   "source": [
    "print('h_4 = %.2f [kJ/kg]'%(h_4/1000))"
   ]
  },
  {
   "cell_type": "code",
   "execution_count": 15,
   "metadata": {},
   "outputs": [],
   "source": [
    "# o tambien\n",
    "h_4 = cp.PropsSI('H','P',P_4,'Q',x_4,'Water')"
   ]
  },
  {
   "cell_type": "code",
   "execution_count": 21,
   "metadata": {},
   "outputs": [
    {
     "name": "stdout",
     "output_type": "stream",
     "text": [
      "h_4 = 2318.43 [kJ/kg]\n"
     ]
    }
   ],
   "source": [
    "print('h_4 = %.2f [kJ/kg]'%(h_4/1000))"
   ]
  },
  {
   "cell_type": "code",
   "execution_count": 17,
   "metadata": {},
   "outputs": [],
   "source": [
    "W_B = m*(h_3 - h_4)"
   ]
  },
  {
   "cell_type": "code",
   "execution_count": 20,
   "metadata": {},
   "outputs": [
    {
     "name": "stdout",
     "output_type": "stream",
     "text": [
      "W_B = 12360.23 [kW]\n"
     ]
    }
   ],
   "source": [
    "print('W_B = %.2f [kW]'%(W_B/1000))"
   ]
  },
  {
   "cell_type": "markdown",
   "metadata": {},
   "source": [
    "Para el intercambiador de calor"
   ]
  },
  {
   "cell_type": "markdown",
   "metadata": {},
   "source": [
    "$$ Q - W = \\Delta H $$"
   ]
  },
  {
   "cell_type": "markdown",
   "metadata": {},
   "source": [
    "$$ Q - 0 = \\Delta H $$"
   ]
  },
  {
   "cell_type": "markdown",
   "metadata": {},
   "source": [
    "$$ Q_{2-3} = \\dot{m} \\, (h_3 - h_2) $$"
   ]
  },
  {
   "cell_type": "code",
   "execution_count": 23,
   "metadata": {},
   "outputs": [],
   "source": [
    "Q_23 = m*(h_3 - h_2)"
   ]
  },
  {
   "cell_type": "code",
   "execution_count": 24,
   "metadata": {},
   "outputs": [
    {
     "name": "stdout",
     "output_type": "stream",
     "text": [
      "Q_23 = 6584.00 [kJ/s]\n"
     ]
    }
   ],
   "source": [
    "print('Q_23 = %.2f [kJ/s]'%(Q_23/1000))"
   ]
  },
  {
   "cell_type": "code",
   "execution_count": 25,
   "metadata": {},
   "outputs": [],
   "source": [
    "%reset -s -f"
   ]
  },
  {
   "cell_type": "markdown",
   "metadata": {},
   "source": [
    "## Ejercicio 31\n",
    "\n",
    "<img src=\"../img/31.png\">"
   ]
  },
  {
   "cell_type": "markdown",
   "metadata": {},
   "source": [
    "Se pide:\n",
    "1. Estado de vapor en (2)\n",
    "2. $m_3$ y estado vapor $(P, \\, T, \\, x)$\n",
    "3. $Q$"
   ]
  },
  {
   "cell_type": "markdown",
   "metadata": {},
   "source": [
    "### Solución"
   ]
  },
  {
   "cell_type": "markdown",
   "metadata": {},
   "source": [
    "Para la válvula reguladora:\n",
    "\n",
    "$Q = 0$ y $W = 0$"
   ]
  },
  {
   "cell_type": "markdown",
   "metadata": {},
   "source": [
    "Primer principio\n",
    "$$ Q - W = \\Delta H $$"
   ]
  },
  {
   "cell_type": "markdown",
   "metadata": {},
   "source": [
    "Entonces\n",
    "$$ 0 = \\Delta H = m \\, (h_s - h_e) $$"
   ]
  },
  {
   "cell_type": "markdown",
   "metadata": {},
   "source": [
    "$$ h_s = h_e $$"
   ]
  },
  {
   "cell_type": "markdown",
   "metadata": {},
   "source": [
    "$\\left\\{\n",
    "\\begin{array}{l}\n",
    "P_1 = 40 \\, \\mbox{bar} \\\\\n",
    "x_1 = 0,8\n",
    "\\end{array}\n",
    "\\right. \\quad \\rightarrow \\quad h' \\; , \\; h'' \\quad \\rightarrow \\quad h_1$"
   ]
  },
  {
   "cell_type": "code",
   "execution_count": 33,
   "metadata": {},
   "outputs": [],
   "source": [
    "# Datos:\n",
    "P_1 = 40e5 # [Pa]\n",
    "x_1 = 0.8\n",
    "m_1 = 0.4 # [kg/s]\n",
    "P_3 = 10e5 # [Pa]\n",
    "T_4 = 400 + 273.15 # [K]\n",
    "W = 1000e3 # [W]\n",
    "P_5 = 0.05e5 # [Pa]\n",
    "x_5 = 0.9\n",
    "P_6 = P_5\n",
    "T_6 = 20 + 273.15 # [K]"
   ]
  },
  {
   "cell_type": "code",
   "execution_count": 27,
   "metadata": {},
   "outputs": [],
   "source": [
    "import CoolProp.CoolProp as cp"
   ]
  },
  {
   "cell_type": "markdown",
   "metadata": {},
   "source": [
    "$$ h_1 = x_1 \\, (h'' -h') + h' $$"
   ]
  },
  {
   "cell_type": "code",
   "execution_count": 29,
   "metadata": {},
   "outputs": [],
   "source": [
    "hp1 = cp.PropsSI('H','P',P_1,'Q',0,'Water')\n",
    "hp2 = cp.PropsSI('H','P',P_1,'Q',1,'Water')\n",
    "\n",
    "h_1 = x_1*(hp2 - hp1) + hp1"
   ]
  },
  {
   "cell_type": "code",
   "execution_count": 30,
   "metadata": {},
   "outputs": [
    {
     "name": "stdout",
     "output_type": "stream",
     "text": [
      "h_1 = 2458.15 [kJ/kg]\n"
     ]
    }
   ],
   "source": [
    "print('h_1 = %.2f [kJ/kg]'%(h_1/1000))"
   ]
  },
  {
   "cell_type": "code",
   "execution_count": 31,
   "metadata": {},
   "outputs": [],
   "source": [
    "# o también\n",
    "h_1 = cp.PropsSI('H','P',P_1,'Q',x_1,'Water')"
   ]
  },
  {
   "cell_type": "code",
   "execution_count": 32,
   "metadata": {},
   "outputs": [
    {
     "name": "stdout",
     "output_type": "stream",
     "text": [
      "h_1 = 2458.15 [kJ/kg]\n"
     ]
    }
   ],
   "source": [
    "print('h_1 = %.2f [kJ/kg]'%(h_1/1000))"
   ]
  },
  {
   "cell_type": "markdown",
   "metadata": {},
   "source": [
    "$\\left\\{\n",
    "\\begin{array}{l}\n",
    "P_2 = P_3 = 10 \\, \\mbox{bar} \\\\\n",
    "h_2 = h_1\n",
    "\\end{array}\n",
    "\\right. \\qquad \\rightarrow \\qquad h' \\; , \\; h''$"
   ]
  },
  {
   "cell_type": "markdown",
   "metadata": {},
   "source": [
    "$$ x_2 = \\frac{ h_2 -h' }{ h'' - h' } $$"
   ]
  },
  {
   "cell_type": "code",
   "execution_count": 35,
   "metadata": {},
   "outputs": [],
   "source": [
    "P_2 = P_3\n",
    "h_2 = h_1"
   ]
  },
  {
   "cell_type": "code",
   "execution_count": 36,
   "metadata": {},
   "outputs": [],
   "source": [
    "hp1 = cp.PropsSI('H','P',P_2,'Q',0,'Water')\n",
    "hp2 = cp.PropsSI('H','P',P_2,'Q',1,'Water')\n",
    "\n",
    "x_2 = (h_2 - hp1)/(hp2 - hp1)"
   ]
  },
  {
   "cell_type": "code",
   "execution_count": 39,
   "metadata": {},
   "outputs": [
    {
     "name": "stdout",
     "output_type": "stream",
     "text": [
      "Estado de vapor en (2)\n",
      "x_2 = 0.8417\n"
     ]
    }
   ],
   "source": [
    "print('Estado de vapor en (2)')\n",
    "print('x_2 = %.4f'%x_2)"
   ]
  },
  {
   "cell_type": "code",
   "execution_count": 40,
   "metadata": {},
   "outputs": [],
   "source": [
    "T_2 = cp.PropsSI('T','P',P_2,'Q',x_2,'Water')"
   ]
  },
  {
   "cell_type": "code",
   "execution_count": 41,
   "metadata": {},
   "outputs": [
    {
     "name": "stdout",
     "output_type": "stream",
     "text": [
      "Temperatura en (2)\n",
      "T_2 = 453.03 [K]\n",
      "t_2 = 179.88[°C]\n"
     ]
    }
   ],
   "source": [
    "print('Temperatura en (2)')\n",
    "print('T_2 = %.2f [K]'%T_2)\n",
    "print('t_2 = %.2f[°C]'%(T_2 - 273.15))"
   ]
  },
  {
   "cell_type": "markdown",
   "metadata": {},
   "source": [
    "Para la turbina tenemos\n",
    "$$ Q - W = \\Delta H $$"
   ]
  },
  {
   "cell_type": "markdown",
   "metadata": {},
   "source": [
    "$$ 0 - W = m_4 \\, (h_5 -h_4) $$"
   ]
  },
  {
   "cell_type": "markdown",
   "metadata": {},
   "source": [
    "$$ W = m_4 \\, (h_4 - h_5) $$"
   ]
  },
  {
   "cell_type": "code",
   "execution_count": 42,
   "metadata": {},
   "outputs": [],
   "source": [
    "P_4 = P_3"
   ]
  },
  {
   "cell_type": "code",
   "execution_count": 43,
   "metadata": {},
   "outputs": [],
   "source": [
    "h_4 = cp.PropsSI('H','P',P_4,'T',T_4,'Water')"
   ]
  },
  {
   "cell_type": "code",
   "execution_count": 45,
   "metadata": {},
   "outputs": [
    {
     "name": "stdout",
     "output_type": "stream",
     "text": [
      "h_4 = 3264.47 [kJ/kg]\n"
     ]
    }
   ],
   "source": [
    "print('h_4 = %.2f [kJ/kg]'%(h_4/1000))"
   ]
  },
  {
   "cell_type": "markdown",
   "metadata": {},
   "source": [
    "$$ h_5 = x_5 \\, (h'' - h') + h' $$"
   ]
  },
  {
   "cell_type": "code",
   "execution_count": 46,
   "metadata": {},
   "outputs": [],
   "source": [
    "hp1 = cp.PropsSI('H','P',P_5,'Q',0,'Water')\n",
    "hp2 = cp.PropsSI('H','P',P_5,'Q',1,'Water')\n",
    "\n",
    "h_5 = x_5*(hp2 - hp1) + hp1"
   ]
  },
  {
   "cell_type": "code",
   "execution_count": 47,
   "metadata": {},
   "outputs": [
    {
     "name": "stdout",
     "output_type": "stream",
     "text": [
      "h_5 = 2318.43 [kJ/kg]\n"
     ]
    }
   ],
   "source": [
    "print('h_5 = %.2f [kJ/kg]'%(h_5/1000))"
   ]
  },
  {
   "cell_type": "code",
   "execution_count": 48,
   "metadata": {},
   "outputs": [],
   "source": [
    "# o también\n",
    "h_5 = cp.PropsSI('H','P',P_5,'Q',x_5,'Water')"
   ]
  },
  {
   "cell_type": "code",
   "execution_count": 49,
   "metadata": {},
   "outputs": [
    {
     "name": "stdout",
     "output_type": "stream",
     "text": [
      "h_5 = 2318.43 [kJ/kg]\n"
     ]
    }
   ],
   "source": [
    "print('h_5 = %.2f [kJ/kg]'%(h_5/1000))"
   ]
  },
  {
   "cell_type": "markdown",
   "metadata": {},
   "source": [
    "$\\left\\{\n",
    "\\begin{array}{l}\n",
    "\\dot{m}_2 = \\dot{m}_1 \\\\\n",
    "\\dot{m}_4  = \\dot{m}_2 + \\dot{m}_3\n",
    "\\end{array}\n",
    "\\right.$"
   ]
  },
  {
   "cell_type": "markdown",
   "metadata": {},
   "source": [
    "$$ \\dot{W} = m_4 \\, (h_4 - h_5) $$"
   ]
  },
  {
   "cell_type": "markdown",
   "metadata": {},
   "source": [
    "$$ m_4 = \\frac{\\dot{W}}{h_4 - h_5} $$"
   ]
  },
  {
   "cell_type": "code",
   "execution_count": 52,
   "metadata": {},
   "outputs": [],
   "source": [
    "m_2 = m_1\n",
    "m_4 = W/(h_4 - h_5)"
   ]
  },
  {
   "cell_type": "code",
   "execution_count": 53,
   "metadata": {},
   "outputs": [
    {
     "name": "stdout",
     "output_type": "stream",
     "text": [
      "m_4 = 1.0570 [kg/s]\n"
     ]
    }
   ],
   "source": [
    "print('m_4 = %.4f [kg/s]'%m_4)"
   ]
  },
  {
   "cell_type": "markdown",
   "metadata": {},
   "source": [
    "$$ \\dot{m}_3 = \\dot{m}_4 - \\dot{m}_2 $$"
   ]
  },
  {
   "cell_type": "code",
   "execution_count": 54,
   "metadata": {},
   "outputs": [],
   "source": [
    "m_3 = m_4 - m_2"
   ]
  },
  {
   "cell_type": "code",
   "execution_count": 55,
   "metadata": {},
   "outputs": [
    {
     "name": "stdout",
     "output_type": "stream",
     "text": [
      "m_3 = 0.6570 [kg/s]\n"
     ]
    }
   ],
   "source": [
    "print('m_3 = %.4f [kg/s]'%m_3)"
   ]
  },
  {
   "cell_type": "markdown",
   "metadata": {},
   "source": [
    "Para la cámara de mezcla\n",
    "$$ \\dot{m}_2 h_2 + \\dot{m}_3 h_3 = \\dot{m}_4 h_4 $$"
   ]
  },
  {
   "cell_type": "markdown",
   "metadata": {},
   "source": [
    "$$ h_3 = \\frac{ \\dot{m}_4 h_4 - \\dot{m}_2 h_2 }{ \\dot{m}_3 } $$"
   ]
  },
  {
   "cell_type": "code",
   "execution_count": 56,
   "metadata": {},
   "outputs": [],
   "source": [
    "h_3 = (m_4*h_4 - m_2*h_2)/m_3"
   ]
  },
  {
   "cell_type": "code",
   "execution_count": 57,
   "metadata": {},
   "outputs": [
    {
     "name": "stdout",
     "output_type": "stream",
     "text": [
      "h_3 = 3755.36 [kJ/kg]\n"
     ]
    }
   ],
   "source": [
    "print('h_3 = %.2f [kJ/kg]'%(h_3/1000))"
   ]
  },
  {
   "cell_type": "code",
   "execution_count": 58,
   "metadata": {},
   "outputs": [
    {
     "data": {
      "text/plain": [
       "'supercritical_gas'"
      ]
     },
     "execution_count": 58,
     "metadata": {},
     "output_type": "execute_result"
    }
   ],
   "source": [
    "cp.PhaseSI('P',P_3,'H',h_3,'Water')"
   ]
  },
  {
   "cell_type": "markdown",
   "metadata": {},
   "source": [
    "Entonces, no existe $x_3$"
   ]
  },
  {
   "cell_type": "code",
   "execution_count": 60,
   "metadata": {},
   "outputs": [],
   "source": [
    "T_3 = cp.PropsSI('T','P',P_3,'H',h_3,'Water')"
   ]
  },
  {
   "cell_type": "code",
   "execution_count": 62,
   "metadata": {},
   "outputs": [
    {
     "name": "stdout",
     "output_type": "stream",
     "text": [
      "T_3 = 898.60 [K]\n",
      "t_3 = 625.45 [°C]\n"
     ]
    }
   ],
   "source": [
    "print('T_3 = %.2f [K]'%T_3)\n",
    "print('t_3 = %.2f [°C]'%(T_3 - 273.15))"
   ]
  },
  {
   "cell_type": "code",
   "execution_count": 63,
   "metadata": {},
   "outputs": [],
   "source": [
    "h_6 = cp.PropsSI('H','P',P_6,'T',T_6,'Water')"
   ]
  },
  {
   "cell_type": "code",
   "execution_count": 64,
   "metadata": {},
   "outputs": [
    {
     "name": "stdout",
     "output_type": "stream",
     "text": [
      "h_6 = 83.92 [kJ/kg]\n"
     ]
    }
   ],
   "source": [
    "print('h_6 = %.2f [kJ/kg]'%(h_6/1000))"
   ]
  },
  {
   "cell_type": "code",
   "execution_count": 65,
   "metadata": {},
   "outputs": [],
   "source": [
    "m_5 = m_4"
   ]
  },
  {
   "cell_type": "markdown",
   "metadata": {},
   "source": [
    "$$ \\dot{Q} = m_5 \\, (h_6 - h_5) $$"
   ]
  },
  {
   "cell_type": "code",
   "execution_count": 66,
   "metadata": {},
   "outputs": [],
   "source": [
    "Q = m_5*(h_6 - h_5)"
   ]
  },
  {
   "cell_type": "code",
   "execution_count": 67,
   "metadata": {},
   "outputs": [
    {
     "name": "stdout",
     "output_type": "stream",
     "text": [
      "Q = -2361.95 [kJ/s]\n"
     ]
    }
   ],
   "source": [
    "print('Q = %.2f [kJ/s]'%(Q/1000))"
   ]
  },
  {
   "cell_type": "code",
   "execution_count": 68,
   "metadata": {},
   "outputs": [],
   "source": [
    "%reset -s -f"
   ]
  },
  {
   "cell_type": "code",
   "execution_count": null,
   "metadata": {},
   "outputs": [],
   "source": []
  }
 ],
 "metadata": {
  "kernelspec": {
   "display_name": "Python 3",
   "language": "python",
   "name": "python3"
  },
  "language_info": {
   "codemirror_mode": {
    "name": "ipython",
    "version": 3
   },
   "file_extension": ".py",
   "mimetype": "text/x-python",
   "name": "python",
   "nbconvert_exporter": "python",
   "pygments_lexer": "ipython3",
   "version": "3.7.3"
  }
 },
 "nbformat": 4,
 "nbformat_minor": 4
}
