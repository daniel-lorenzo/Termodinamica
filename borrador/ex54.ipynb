{
 "cells": [
  {
   "cell_type": "markdown",
   "metadata": {},
   "source": [
    "# Ejercicio 54\n",
    "\n",
    "<img src=\"../img/54.png\">\n",
    "\n",
    "1. $\\Delta S_u$\n",
    "2. $\\eta_{ex,proc}$\n",
    "3. $\\eta_{iso}$\n",
    "\n",
    "-------"
   ]
  },
  {
   "cell_type": "markdown",
   "metadata": {},
   "source": [
    "## Solución"
   ]
  },
  {
   "cell_type": "code",
   "execution_count": 1,
   "metadata": {},
   "outputs": [],
   "source": [
    "# Datos:\n",
    "P_0 = 1e5 # [Pa]\n",
    "T_0 = 300 # [K]\n",
    "m_1 = 3.5 # [kg/s]\n",
    "P_1 = P_0\n",
    "T_1 = T_0\n",
    "P_2 = 2e5 # [Pa]\n",
    "m_3 = 2.1 # [kg/s]\n",
    "T_3 = 200 + 273.15 # [K]\n",
    "P_3 = 4e5 # [Pa]\n",
    "P_4 = 1.4e5 # [Pa]\n",
    "P_5 = 1.2e5 # [Pa]\n",
    "x_5 = 0.5\n",
    "P_6 = 2e5 # [Pa]\n",
    "T_6 = 27 + 273.15 # [K]\n",
    "P_7 = P_6\n",
    "T_7 = 67 + 273.15 # [K]\n",
    "cp_aire = 1.0047e3 # [J/(kg·K)]\n",
    "cp_O2 = 0.9185e3 # [J/(kg·K)]\n",
    "R_aire = 0.287e3 # [J/(kg·K)]\n",
    "n_iso = 0.85"
   ]
  },
  {
   "cell_type": "code",
   "execution_count": 2,
   "metadata": {},
   "outputs": [],
   "source": [
    "import CoolProp.CoolProp as cp"
   ]
  },
  {
   "cell_type": "markdown",
   "metadata": {},
   "source": [
    "### Turbina\n",
    "__Datos:__  $\\dot{m}_3, \\, t_3, \\, P_3, \\, P_4, \\, \\eta_{iso}$"
   ]
  },
  {
   "cell_type": "markdown",
   "metadata": {},
   "source": [
    "Consulto con $P_3$ y $T_3$ la fase"
   ]
  },
  {
   "cell_type": "code",
   "execution_count": 7,
   "metadata": {},
   "outputs": [
    {
     "data": {
      "text/plain": [
       "'gas'"
      ]
     },
     "execution_count": 7,
     "metadata": {},
     "output_type": "execute_result"
    }
   ],
   "source": [
    "cp.PhaseSI('P',P_3,'T',T_3,'Water')"
   ]
  },
  {
   "cell_type": "markdown",
   "metadata": {},
   "source": [
    "Entalpía y Entropía en 3 son funciones de la presión y la temperatura en 3\n",
    "\n",
    "$h_3 = f(P_3,T_3)$ , (de tabla)\n",
    "\n",
    "$s_3 = f(P_3,T_3)$ ,  (de tabla)"
   ]
  },
  {
   "cell_type": "markdown",
   "metadata": {},
   "source": [
    "Entropía reversible o ideal en 4\n",
    "\n",
    "$s_{4id} = s_3$, (por isoentrópico)"
   ]
  },
  {
   "cell_type": "markdown",
   "metadata": {},
   "source": [
    "Entalpías y Entropías de líquido y vapor saturado en 4 son función de $P_4$\n",
    "\n",
    "$s'_4 = f(P_4)$ , (líquido saturado)"
   ]
  },
  {
   "cell_type": "markdown",
   "metadata": {},
   "source": [
    "$s''_4 = f(P_4)$ , (vapor saturado)"
   ]
  },
  {
   "cell_type": "markdown",
   "metadata": {},
   "source": [
    "$h'_4 = f(P_4)$ , (líquido saturado)"
   ]
  },
  {
   "cell_type": "markdown",
   "metadata": {},
   "source": [
    "$h''_4 = f(P_4)$ , (vapor saturado)"
   ]
  },
  {
   "cell_type": "markdown",
   "metadata": {},
   "source": [
    "Calidad de vapor reversible o ideal en 4 (salida)\n",
    "\n",
    "$$ x_{4id} = \\frac{s_{4id} - s'_4}{s''_4 - s'_4}$$"
   ]
  },
  {
   "cell_type": "markdown",
   "metadata": {},
   "source": [
    "Entalpía reversible o ideal en 4 (salida)\n",
    "\n",
    "$$h_{4id} = x_{4id} (h''_4 - h'_4) + h'_4$$"
   ]
  },
  {
   "cell_type": "markdown",
   "metadata": {},
   "source": [
    "Rendimiento isoentrópico\n",
    "\n",
    "$$ \\eta_{iso} = \\frac{\\dot{W}_{real}}{\\dot{W}_{ideal}} = \\frac{\\dot{m}_3(h_3 - h_4)}{\\dot{m}_3(h_3 - h_{4id})} = \\frac{h_3 - h_4}{h_3 - h_{4id}}$$"
   ]
  },
  {
   "cell_type": "markdown",
   "metadata": {},
   "source": [
    "De la anterior despejo $h_4$\n",
    "\n",
    "$$h_4 = \\eta_{iso}(h_{4id} - h_3) + h_3$$"
   ]
  },
  {
   "cell_type": "markdown",
   "metadata": {},
   "source": [
    "Trabajo de la turbina\n",
    "\n",
    "$$\\dot{W}_T = - \\Delta H_{34} = \\dot{m}_3 (h_3 - h_4)$$"
   ]
  },
  {
   "cell_type": "markdown",
   "metadata": {},
   "source": [
    "$T_4 = f (P_4,h_4)$"
   ]
  },
  {
   "cell_type": "code",
   "execution_count": 8,
   "metadata": {},
   "outputs": [],
   "source": [
    "# Entropía y Entropía en 3\n",
    "h_3 = cp.PropsSI('H','P',P_3,'T',T_3,'Water')\n",
    "s_3 = cp.PropsSI('S','P',P_3,'T',T_3,'Water')"
   ]
  },
  {
   "cell_type": "code",
   "execution_count": 9,
   "metadata": {},
   "outputs": [],
   "source": [
    "# Entropía reversible o ideal en 4\n",
    "s_4id = s_3"
   ]
  },
  {
   "cell_type": "code",
   "execution_count": null,
   "metadata": {},
   "outputs": [],
   "source": [
    "# Entalpías y Entolpías de líquido y vapor saturado en 4 son función\n",
    "# de la presión en 4\n",
    "sf_4 = cp.PropsSI('S','P',P_4,'Q',0,'Water') # líquido saturado\n",
    "sg_4 = cp.PropsSI('S','P',P_4,'Q',1,'Water') # vapor saturado\n",
    "hf_4 = cp.PropsSI('H','P',P_4,'Q',0,'Water') # líquido saturado\n",
    "hg_4 = cp.PropsSI('H','P',P_4,'Q',1,'Water') # vapor saturado"
   ]
  },
  {
   "cell_type": "code",
   "execution_count": 6,
   "metadata": {},
   "outputs": [
    {
     "name": "stdout",
     "output_type": "stream",
     "text": [
      "h_3 = 2860.93 [kJ/kg]\n",
      "s_3 = 7.17230 [kJ/(kg·K)]\n"
     ]
    }
   ],
   "source": [
    "print('h_3 = %.2f [kJ/kg]'%(h_3/1000))\n",
    "print('s_3 = %.5f [kJ/(kg·K)]'%(s_3/1000))"
   ]
  },
  {
   "cell_type": "code",
   "execution_count": null,
   "metadata": {},
   "outputs": [],
   "source": []
  }
 ],
 "metadata": {
  "kernelspec": {
   "display_name": "Python 3",
   "language": "python",
   "name": "python3"
  },
  "language_info": {
   "codemirror_mode": {
    "name": "ipython",
    "version": 3
   },
   "file_extension": ".py",
   "mimetype": "text/x-python",
   "name": "python",
   "nbconvert_exporter": "python",
   "pygments_lexer": "ipython3",
   "version": "3.7.3"
  }
 },
 "nbformat": 4,
 "nbformat_minor": 4
}
