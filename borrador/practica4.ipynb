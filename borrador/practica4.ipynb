{
 "cells": [
  {
   "cell_type": "markdown",
   "metadata": {},
   "source": [
    "# Clase práctica 4\n",
    "__UNLZ - Facultad de Ingeniería__       \n",
    "__Termodinámica__      \n",
    "__Alumno:__ Daniel Antonio Lorenzo\n",
    "\n",
    "<!--NAVIGATION-->\n",
    "[<-Previous ](https://nbviewer.jupyter.org/github/daniel-lorenzo/Termodinamica/blob/master/p03.ipynb) | [Index](https://github.com/daniel-lorenzo/Termodinamica/blob/master/Readme.md) | [Next -> ](https://nbviewer.jupyter.org/github/daniel-lorenzo/Termodinamica/blob/master/p05.ipynb)\n",
    "\n",
    "<a href=\"https://colab.research.google.com/github/daniel-lorenzo/Termodinamica/blob/master/p04.ipynb\"><img align=\"left\" src=\"https://colab.research.google.com/assets/colab-badge.svg\" alt=\"Open in Colab\" title=\"Open and Execute in Google Colaboratory\"></a>"
   ]
  },
  {
   "cell_type": "markdown",
   "metadata": {},
   "source": [
    "## Ejercicio 20\n",
    "Analizar la válvula indicada. Si $\\Delta E_c$ y $\\Delta E_p$ son nulas."
   ]
  },
  {
   "cell_type": "markdown",
   "metadata": {},
   "source": [
    "![valv_reg.png](../img/valv_reg.png)"
   ]
  },
  {
   "cell_type": "markdown",
   "metadata": {},
   "source": [
    "__Datos:__\n",
    "\n",
    "$\\begin{array}{|l|l|}\n",
    "\\hline\n",
    "P_1 = 40 \\, \\mbox{bar} & P_2 = 20 \\, \\mbox{ bar} \\\\\n",
    "t_1 = 300^\\circ \\mbox{C} & t_2 = ? \\\\\n",
    "  & x_2 = ? \\\\\n",
    "\\hline  \n",
    "\\end{array}$"
   ]
  },
  {
   "cell_type": "markdown",
   "metadata": {},
   "source": [
    "## Solución"
   ]
  },
  {
   "cell_type": "code",
   "execution_count": 1,
   "metadata": {},
   "outputs": [],
   "source": [
    "# Datos:\n",
    "P_1 = 40e5 # Pa\n",
    "P_2 = 20e5 # Pa\n",
    "T_1 = 300 + 273.15 # K\n",
    "# T_2 = ?\n",
    "# x_2 = ?"
   ]
  },
  {
   "cell_type": "code",
   "execution_count": 2,
   "metadata": {},
   "outputs": [],
   "source": [
    "import CoolProp.CoolProp as cp"
   ]
  },
  {
   "cell_type": "markdown",
   "metadata": {},
   "source": [
    "Válvula\n",
    "$$ h_e = h_s $$"
   ]
  },
  {
   "cell_type": "code",
   "execution_count": 3,
   "metadata": {},
   "outputs": [],
   "source": [
    "# Entalpía de entrada\n",
    "h_e = cp.PropsSI('H','P',P_1,'T',T_1,'Water')\n",
    "h_s = h_e\n",
    "# Temperatura en 2\n",
    "T_2 = cp.PropsSI('T','P',P_2,'H',h_s,'Water')"
   ]
  },
  {
   "cell_type": "code",
   "execution_count": 4,
   "metadata": {},
   "outputs": [
    {
     "name": "stdout",
     "output_type": "stream",
     "text": [
      "h_s = 2961.69 kJ/kg\n",
      "T_2 = 546.71 K\n",
      "t_2 = 273.56°C\n"
     ]
    }
   ],
   "source": [
    "print('h_s = %.2f kJ/kg'%(h_s/1000))\n",
    "print('T_2 = %.2f K'%T_2)\n",
    "print('t_2 = %.2f°C'%(T_2 - 273.15))"
   ]
  },
  {
   "cell_type": "code",
   "execution_count": 5,
   "metadata": {},
   "outputs": [
    {
     "data": {
      "text/plain": [
       "'gas'"
      ]
     },
     "execution_count": 5,
     "metadata": {},
     "output_type": "execute_result"
    }
   ],
   "source": [
    "# Consultamos el estado en 2\n",
    "cp.PhaseSI('P',P_2,'T',T_2,'Water')"
   ]
  },
  {
   "cell_type": "markdown",
   "metadata": {},
   "source": [
    "Entonces $x_2 \\; \\nexists$ no existe."
   ]
  },
  {
   "cell_type": "markdown",
   "metadata": {},
   "source": [
    "## Ejercicio 21\n",
    "Analizar y resolver la siguiente cámara de mezcla.\n",
    "\n",
    "![camara_mezcla.png](../img/camara_mezcla.png)"
   ]
  },
  {
   "cell_type": "markdown",
   "metadata": {},
   "source": [
    "__Datos:__\n",
    "\n",
    "$\\begin{array}{|l|l|l|}\n",
    "\\hline\n",
    "\\dot{m}_1 = 0,5 \\mbox{ kg/s} & \\dot{m}_3 = 0,8 \\mbox{ kg/s} & t_2 = ? \\\\\n",
    "P_1 = 20 \\mbox{ bar} & x_3 = \\mbox{ (vapor saturado)} & h_2 = ? \\\\\n",
    "x_1 = 0,8 &  & \\dot{m}_2 = ? \\\\\n",
    " &  & P_2 = ? \\\\\n",
    "\\hline\n",
    "\\end{array}$"
   ]
  },
  {
   "cell_type": "markdown",
   "metadata": {},
   "source": [
    "### Solución:\n",
    "Cámara de mezcla\n",
    "\n",
    "$$\\left\\{\n",
    "\\begin{array}{l}\n",
    "m_1 + m_2 = m_3 \\\\\n",
    "m_1 h_1 + m_2 h_2 = m_3 h_3 \\\\\n",
    "P = \\mbox{cte.}\n",
    "\\end{array}\n",
    "\\right.$$\n"
   ]
  },
  {
   "cell_type": "code",
   "execution_count": 6,
   "metadata": {},
   "outputs": [],
   "source": [
    "# Datos:\n",
    "m_1 = 0.5 # kg/s\n",
    "P_1 = 20e5 # Pa\n",
    "x_1 = 0.8\n",
    "m_3 = 0.8 # kg/s\n",
    "x_3 = 1 # (vapor saturado)\n",
    "# Sabemos que:\n",
    "P_2 = P_1\n",
    "P_3 = P_1"
   ]
  },
  {
   "cell_type": "code",
   "execution_count": 7,
   "metadata": {},
   "outputs": [
    {
     "name": "stdout",
     "output_type": "stream",
     "text": [
      "m_2 = 0.30 kg/s\n"
     ]
    }
   ],
   "source": [
    "m_2 = m_3 - m_1\n",
    "\n",
    "print('m_2 = %.2f kg/s'%m_2)"
   ]
  },
  {
   "cell_type": "code",
   "execution_count": 9,
   "metadata": {},
   "outputs": [
    {
     "name": "stdout",
     "output_type": "stream",
     "text": [
      "h_1 = 2420.33 kJ/kg\n"
     ]
    }
   ],
   "source": [
    "# Obtenemos entalpía en 1\n",
    "hp1 = cp.PropsSI('H','P',P_1,'Q',0,'Water')  # h'\n",
    "hp2 = cp.PropsSI('H','P',P_1,'Q',1,'Water')  # h''\n",
    "\n",
    "h_1 = x_1*(hp2 - hp1) + hp1\n",
    "\n",
    "print('h_1 = %.2f kJ/kg'%(h_1/1000))"
   ]
  },
  {
   "cell_type": "code",
   "execution_count": 11,
   "metadata": {},
   "outputs": [
    {
     "name": "stdout",
     "output_type": "stream",
     "text": [
      "h_3 = 2798.29 kJ/kg\n"
     ]
    }
   ],
   "source": [
    "# Obtenemos entalpía en 3\n",
    "h_3 = cp.PropsSI('H','P',P_3,'Q',x_3,'Water')\n",
    "\n",
    "print('h_3 = %.2f kJ/kg'%(h_3/1000))"
   ]
  },
  {
   "cell_type": "markdown",
   "metadata": {},
   "source": [
    "$$ h_2 = \\frac{m_3 h_3 - m_1 h_1}{m_2} $$"
   ]
  },
  {
   "cell_type": "code",
   "execution_count": 12,
   "metadata": {},
   "outputs": [
    {
     "name": "stdout",
     "output_type": "stream",
     "text": [
      "h_2 = 3428.22 kJ/kg\n"
     ]
    }
   ],
   "source": [
    "# Calculamos entalpía en 2\n",
    "h_2 = (m_3*h_3 - m_1*h_1)/m_2\n",
    "\n",
    "print('h_2 = %.2f kJ/kg'%(h_2/1000))"
   ]
  },
  {
   "cell_type": "code",
   "execution_count": 13,
   "metadata": {},
   "outputs": [],
   "source": [
    "P_2 = P_1"
   ]
  },
  {
   "cell_type": "code",
   "execution_count": 14,
   "metadata": {},
   "outputs": [
    {
     "name": "stdout",
     "output_type": "stream",
     "text": [
      "T_2 = 754.99 K\n",
      "t_2 = 481.84°C\n"
     ]
    }
   ],
   "source": [
    "T_2 = cp.PropsSI('T','P',P_2,'H',h_2,'Water')\n",
    "\n",
    "print('T_2 = %.2f K'%T_2)\n",
    "print('t_2 = %.2f°C'%(T_2 - 273.15))"
   ]
  },
  {
   "cell_type": "code",
   "execution_count": 15,
   "metadata": {},
   "outputs": [],
   "source": [
    "%reset -s -f"
   ]
  },
  {
   "cell_type": "markdown",
   "metadata": {},
   "source": [
    "## Ejercicio 22\n",
    "A través de una turbina adiabática, circula un caudal másico de 180 kg/min de vapor de agua. Este ingresa a 10 MPa y 600°C y egresa a 100 kPa entregando una potencia de 2,5 MW. Determinar las condiciones de vapor a la salida de la turbina.\n",
    "\n",
    "![turbina.png](../img/turbina.png)"
   ]
  },
  {
   "cell_type": "markdown",
   "metadata": {},
   "source": [
    "__Datos:__\n",
    "\n",
    "$\\begin{array}{|l|l|l|}\n",
    "\\hline\n",
    "\\dot{m}_e = 180 \\mbox{ kg/min} & \\dot{m}_s = \\dot{m}_e & W = 2,5 \\mbox{ MW} \\\\\n",
    "P_e = 10 \\mbox{ MPa} & P_s = 100 \\mbox{ kPa} \\\\\n",
    "t_e = 600^\\circ \\mbox{C} \\\\\n",
    "\\hline\n",
    "\\end{array}$"
   ]
  },
  {
   "cell_type": "markdown",
   "metadata": {},
   "source": [
    "### Solución"
   ]
  },
  {
   "cell_type": "code",
   "execution_count": 16,
   "metadata": {},
   "outputs": [],
   "source": [
    "import CoolProp.CoolProp as cp"
   ]
  },
  {
   "cell_type": "code",
   "execution_count": 17,
   "metadata": {},
   "outputs": [],
   "source": [
    "# Datos:\n",
    "m = 180*(1/60) # [kg/s]\n",
    "P_e = 10e6 # [Pa]\n",
    "T_e = 600 + 273.15 # [K]\n",
    "P_s = 100e3 # [Pa]\n",
    "W = 2.5e6 # [W]"
   ]
  },
  {
   "cell_type": "code",
   "execution_count": 18,
   "metadata": {},
   "outputs": [
    {
     "name": "stdout",
     "output_type": "stream",
     "text": [
      "h_e = 3625.76 kJ/kg\n"
     ]
    }
   ],
   "source": [
    "# Entalpía de entrada:\n",
    "h_e = cp.PropsSI('H','P',P_e,'T',T_e,'Water')\n",
    "\n",
    "print('h_e = %.2f kJ/kg'%(h_e/1000))"
   ]
  },
  {
   "cell_type": "markdown",
   "metadata": {},
   "source": [
    "$$ Q - W = \\Delta H $$"
   ]
  },
  {
   "cell_type": "markdown",
   "metadata": {},
   "source": [
    "$$ 0 - W = m (h_s - h_e) $$"
   ]
  },
  {
   "cell_type": "markdown",
   "metadata": {},
   "source": [
    "$$ W = m (h_e - h_s) $$"
   ]
  },
  {
   "cell_type": "markdown",
   "metadata": {},
   "source": [
    "Entonces:\n",
    "$$ h_s = h_e - \\frac{W}{m} $$"
   ]
  },
  {
   "cell_type": "code",
   "execution_count": 20,
   "metadata": {},
   "outputs": [
    {
     "name": "stdout",
     "output_type": "stream",
     "text": [
      "h_s = 2792.42 kJ/kg\n"
     ]
    }
   ],
   "source": [
    "h_s = h_e - W/m\n",
    "\n",
    "print('h_s = %.2f kJ/kg'%(h_s/1000))"
   ]
  },
  {
   "cell_type": "code",
   "execution_count": 22,
   "metadata": {},
   "outputs": [
    {
     "data": {
      "text/plain": [
       "'gas'"
      ]
     },
     "execution_count": 22,
     "metadata": {},
     "output_type": "execute_result"
    }
   ],
   "source": [
    "# Consultamos estado\n",
    "cp.PhaseSI('P',P_s,'H',h_s,'Water')"
   ]
  },
  {
   "cell_type": "code",
   "execution_count": 23,
   "metadata": {},
   "outputs": [
    {
     "name": "stdout",
     "output_type": "stream",
     "text": [
      "T_s = 431.13 K\n",
      "t_s = 157.98°C\n"
     ]
    }
   ],
   "source": [
    "# Cálculo de temperatura de salida:\n",
    "T_s = cp.PropsSI('T','P',P_s,'H',h_s,'Water')\n",
    "\n",
    "print('T_s = %.2f K'%T_s)\n",
    "print('t_s = %.2f°C'%(T_s - 273.15))"
   ]
  },
  {
   "cell_type": "code",
   "execution_count": 24,
   "metadata": {},
   "outputs": [],
   "source": [
    "%reset -s -f"
   ]
  },
  {
   "cell_type": "markdown",
   "metadata": {},
   "source": [
    "## Ejercicio 23\n",
    "Para el siguiente intercambiador de calor, calcular el caudal másico de vapor que debe circular para calentar 720 kg/hr de agua a 1 bar de 10°C hasta 50°C. El vapor ingresa a 1,4 bar y 250°C y egresa a 1 bar y 150°C.\n",
    "<center>\n",
    "<img src=\"../img/interc.png\" alt=\"interc.png\" width=\"350\">\n",
    "</center>    "
   ]
  },
  {
   "cell_type": "markdown",
   "metadata": {},
   "source": [
    "__Datos:__\n",
    "\n",
    "$\\begin{array}{|l|l|}\n",
    "\\hline\n",
    "\\dot{m}_\\mathrm{agua} = 720 \\mbox{ kg/h} & \\dot{m}_\\mathrm{vapor} = \\, ? \\\\\n",
    "t_1 = 10^\\circ \\mbox{C} & P_3 = 1,4 \\mbox{ bar} \\\\\n",
    "t_2 = 50^\\circ \\mbox{C} & P_4 = 1 \\mbox{ bar} \\\\\n",
    "\\hline\n",
    "\\end{array}$"
   ]
  },
  {
   "cell_type": "markdown",
   "metadata": {},
   "source": [
    "## Solución"
   ]
  },
  {
   "cell_type": "markdown",
   "metadata": {},
   "source": [
    "$Q = 0$ y $W = 0$"
   ]
  },
  {
   "cell_type": "markdown",
   "metadata": {},
   "source": [
    "$$ Q - W = \\Delta H $$"
   ]
  },
  {
   "cell_type": "markdown",
   "metadata": {},
   "source": [
    "$\\left\\{\n",
    "\\begin{array}{l}\n",
    "\\dot{m}_2 h_2 - \\dot{m}_1 h_1 = \\dot{m}_3 h_3 + \\dot{m}_4 h_4 \\\\\n",
    "\\dot{m}_3 = \\dot{m}_4 \\\\\n",
    "\\dot{m}_1 = \\dot{m}_2\n",
    "\\end{array}\n",
    "\\right.$"
   ]
  },
  {
   "cell_type": "markdown",
   "metadata": {},
   "source": [
    "$$ \\dot{m}_\\mathrm{agua} \\; (h_2 - h_1) = \\dot{m}_\\mathrm{vapor} \\; (h_3 - h_4) $$"
   ]
  },
  {
   "cell_type": "markdown",
   "metadata": {},
   "source": [
    "$$ \\dot{m}_\\mathrm{agua} = \\mathrm{ 720 \\left[ \\frac{kg}{h} \\right] \\times \\left[ \\frac{1 \\, h}{3600 \\, s} \\right] } $$"
   ]
  },
  {
   "cell_type": "code",
   "execution_count": 25,
   "metadata": {},
   "outputs": [],
   "source": [
    "import CoolProp.CoolProp as cp"
   ]
  },
  {
   "cell_type": "code",
   "execution_count": 26,
   "metadata": {},
   "outputs": [
    {
     "name": "stdout",
     "output_type": "stream",
     "text": [
      "m_agua = 0.20 kg/s\n"
     ]
    }
   ],
   "source": [
    "m_agua = 720 * (1/3600) # kg/s\n",
    "\n",
    "print('m_agua = %.2f kg/s'%m_agua)"
   ]
  },
  {
   "cell_type": "code",
   "execution_count": 27,
   "metadata": {},
   "outputs": [],
   "source": [
    "# Datos:\n",
    "P_1 = 1e5 # Pa\n",
    "T_1 = 10 + 273.15 # K\n",
    "P_2 = P_1\n",
    "T_2 = 50 + 273.15 # K\n",
    "P_3 = 1.4e5 # Pa\n",
    "T_3 = 250 + 273.15 # K\n",
    "P_4 = 1e5 # Pa\n",
    "T_4 = 150 + 273.15 # K"
   ]
  },
  {
   "cell_type": "code",
   "execution_count": 28,
   "metadata": {},
   "outputs": [],
   "source": [
    "h_1 = cp.PropsSI('H','P',P_1,'T',T_1,'Water') # Entalpía en 1\n",
    "h_2 = cp.PropsSI('H','P',P_2,'T',T_2,'Water') # Entalpía en 2\n",
    "h_3 = cp.PropsSI('H','P',P_3,'T',T_3,'Water') # Entalpía en 3\n",
    "h_4 = cp.PropsSI('H','P',P_4,'T',T_4,'Water') # Entalpía en 4"
   ]
  },
  {
   "cell_type": "code",
   "execution_count": 29,
   "metadata": {
    "jupyter": {
     "source_hidden": true
    }
   },
   "outputs": [
    {
     "name": "stdout",
     "output_type": "stream",
     "text": [
      "h_1 = 42.118 (kJ/kg)\n",
      "h_2 = 209.42 (kJ/kg)\n",
      "h_3 = 2973.20 (kJ/kg)\n",
      "h_4 = 2776.60 (kJ/kg)\n"
     ]
    }
   ],
   "source": [
    "print('h_1 = %.3f (kJ/kg)'%(h_1/1000))\n",
    "print('h_2 = %.2f (kJ/kg)'%(h_2/1000))\n",
    "print('h_3 = %.2f (kJ/kg)'%(h_3/1000))\n",
    "print('h_4 = %.2f (kJ/kg)'%(h_4/1000))"
   ]
  },
  {
   "cell_type": "markdown",
   "metadata": {},
   "source": [
    "$$ \\dot{m}_\\mathrm{vapor} = \\dot{m}_\\mathrm{agua} \\; \\frac{ h_2 - h_1 }{ h_3 - h_4 } $$"
   ]
  },
  {
   "cell_type": "code",
   "execution_count": 30,
   "metadata": {},
   "outputs": [
    {
     "name": "stdout",
     "output_type": "stream",
     "text": [
      "m_vapor = 0.170 (kg/s)\n"
     ]
    }
   ],
   "source": [
    "m_vapor = m_agua * (h_2 - h_1)/(h_3 - h_4)\n",
    "\n",
    "print('m_vapor = %.3f (kg/s)'%m_vapor)"
   ]
  },
  {
   "cell_type": "code",
   "execution_count": 31,
   "metadata": {},
   "outputs": [],
   "source": [
    "%reset -s -f"
   ]
  },
  {
   "cell_type": "markdown",
   "metadata": {},
   "source": [
    "## Ejercicio 24\n",
    "Para el siguiente proceso, utilizando vapor de agua. Determinar:\n",
    "\n",
    "1. Estado de vapor en 3\n",
    "2. Calor recibido\n",
    "3. Potencia entregada por la turbina"
   ]
  },
  {
   "cell_type": "markdown",
   "metadata": {},
   "source": [
    "![24.png](../img/24.png)"
   ]
  },
  {
   "cell_type": "markdown",
   "metadata": {},
   "source": [
    "### Solución"
   ]
  },
  {
   "cell_type": "markdown",
   "metadata": {},
   "source": [
    "__Cámara de mezcla:__\n",
    "\n",
    "$$ Q - W = \\Delta H \\tag{1} $$"
   ]
  },
  {
   "cell_type": "markdown",
   "metadata": {},
   "source": [
    "$$ Q = 0 \\quad \\rightarrow \\quad h_e = h_s \\tag{2} $$"
   ]
  },
  {
   "cell_type": "markdown",
   "metadata": {},
   "source": [
    "$$ \\dot{m}_1 + \\dot{m}_2 = \\dot{m}_3 \\tag{3} $$"
   ]
  },
  {
   "cell_type": "markdown",
   "metadata": {},
   "source": [
    "$$ \\dot{m}_1 h_1 + \\dot{m}_2 h_2 = \\dot{m}_3 h_3 \\tag{4} $$"
   ]
  },
  {
   "cell_type": "markdown",
   "metadata": {},
   "source": [
    "$$ P = \\mbox{cte.} \\tag{5} $$"
   ]
  },
  {
   "cell_type": "code",
   "execution_count": 32,
   "metadata": {},
   "outputs": [],
   "source": [
    "# Datos:\n",
    "m_1 = 720*(1/3600) # (kg/s)\n",
    "P_1 = 10e5 # (Pa)\n",
    "x_1 = 0.8\n",
    "m_2 = 2160*(1/3600) # (kg/s)\n",
    "T_2 = 200 + 273.15 # (K)\n",
    "T_4 = 300 + 273.15 # (K)\n",
    "P_2 = P_1\n",
    "P_3 = P_1\n",
    "P_4 = P_3\n",
    "P_5 = 2e5 # Pa\n",
    "T_5 = 130 + 273.15 # K"
   ]
  },
  {
   "cell_type": "code",
   "execution_count": 33,
   "metadata": {},
   "outputs": [],
   "source": [
    "import CoolProp.CoolProp as cp"
   ]
  },
  {
   "cell_type": "markdown",
   "metadata": {},
   "source": [
    "$$ h_1 = x_1 \\, (h'' - h') + h' \\tag{6} $$"
   ]
  },
  {
   "cell_type": "code",
   "execution_count": 34,
   "metadata": {},
   "outputs": [
    {
     "name": "stdout",
     "output_type": "stream",
     "text": [
      "h_1 = 2374.19 (kJ/kg)\n"
     ]
    }
   ],
   "source": [
    "# Entalpía en 1\n",
    "hp1 = cp.PropsSI('H','P',P_1,'Q',0,'Water')  # h'\n",
    "hp2 = cp.PropsSI('H','P',P_1,'Q',1,'Water')  # h''\n",
    "\n",
    "h_1 = x_1*(hp2 - hp1) + hp1\n",
    "\n",
    "print('h_1 = %.2f (kJ/kg)'%(h_1/1000))"
   ]
  },
  {
   "cell_type": "code",
   "execution_count": 35,
   "metadata": {},
   "outputs": [],
   "source": [
    "h_1 = cp.PropsSI('H','P',P_1,'Q',x_1,'Water') # Entalpía en 1\n",
    "h_2 = cp.PropsSI('H','P',P_2,'T',T_2,'Water') # Entalpía en 2"
   ]
  },
  {
   "cell_type": "code",
   "execution_count": 36,
   "metadata": {},
   "outputs": [
    {
     "name": "stdout",
     "output_type": "stream",
     "text": [
      "h_1 = 2374.19 (kJ/kg)\n",
      "h_2 = 2828.26 (kJ/kg)\n"
     ]
    }
   ],
   "source": [
    "print('h_1 = %.2f (kJ/kg)'%(h_1/1000))\n",
    "print('h_2 = %.2f (kJ/kg)'%(h_2/1000))"
   ]
  },
  {
   "cell_type": "markdown",
   "metadata": {},
   "source": [
    "Despejamos $h_3$ de $(4)$\n",
    "$$ h_3 = \\frac{\\dot{m}_1 h_1 + \\dot{m}_2 h_2}{\\dot{m}_3} $$"
   ]
  },
  {
   "cell_type": "code",
   "execution_count": 37,
   "metadata": {},
   "outputs": [],
   "source": [
    "m_3 = m_1 + m_2\n",
    "\n",
    "h_3 = (m_1*h_1 + m_2*h_2)/m_3"
   ]
  },
  {
   "cell_type": "code",
   "execution_count": 38,
   "metadata": {},
   "outputs": [
    {
     "name": "stdout",
     "output_type": "stream",
     "text": [
      "m_3 = 0.80 (kg)\n",
      "h_3 = 2714.75 (kJ/kg)\n"
     ]
    }
   ],
   "source": [
    "print('m_3 = %.2f (kg)'%m_3)\n",
    "print('h_3 = %.2f (kJ/kg)'%(h_3/1000))"
   ]
  },
  {
   "cell_type": "code",
   "execution_count": 39,
   "metadata": {},
   "outputs": [],
   "source": [
    "hp1 = cp.PropsSI('H','P',P_3,'Q',0,'Water')  # h'\n",
    "hp2 = cp.PropsSI('H','P',P_3,'Q',1,'Water')  # h''"
   ]
  },
  {
   "cell_type": "markdown",
   "metadata": {},
   "source": [
    "$$ h_3 = x_3 \\, (h'' - h') + h' \\tag{7} $$"
   ]
  },
  {
   "cell_type": "markdown",
   "metadata": {},
   "source": [
    "Despejamos $x_3$ de $(7)$\n",
    "$$ x_3 = \\frac{ h_3 - h' }{ h'' - h' } $$"
   ]
  },
  {
   "cell_type": "code",
   "execution_count": 40,
   "metadata": {},
   "outputs": [],
   "source": [
    "x_3 = (h_3 - hp1)/(hp2 - hp1)"
   ]
  },
  {
   "cell_type": "code",
   "execution_count": 41,
   "metadata": {
    "jupyter": {
     "source_hidden": true
    }
   },
   "outputs": [
    {
     "name": "stdout",
     "output_type": "stream",
     "text": [
      "x_3 = 0.9690\n",
      "-> 96.90% (vapor)\n",
      "->  3.10% (líquido)\n"
     ]
    }
   ],
   "source": [
    "print('x_3 = %.4f'%x_3)\n",
    "print('-> %.2f%% (vapor)'%(x_3*100))\n",
    "print('->  %.2f%% (líquido)'%((1 - x_3)*100) )"
   ]
  },
  {
   "cell_type": "code",
   "execution_count": 42,
   "metadata": {},
   "outputs": [],
   "source": [
    "h_4 = cp.PropsSI('H','P',P_4,'T',T_4,'Water')  # Entalpia en 4"
   ]
  },
  {
   "cell_type": "markdown",
   "metadata": {},
   "source": [
    "__Calor recibido:__\n",
    "$$ Q = m_3 \\, (h_4 - h_3) \\tag{8} $$"
   ]
  },
  {
   "cell_type": "code",
   "execution_count": 43,
   "metadata": {},
   "outputs": [],
   "source": [
    "# Calor recibido\n",
    "Q = m_3*(h_4 - h_3)"
   ]
  },
  {
   "cell_type": "code",
   "execution_count": 44,
   "metadata": {},
   "outputs": [
    {
     "name": "stdout",
     "output_type": "stream",
     "text": [
      "Q = 269.51 (kJ/kg)\n"
     ]
    }
   ],
   "source": [
    "print('Q = %.2f (kJ/kg)'%(Q/1000))"
   ]
  },
  {
   "cell_type": "markdown",
   "metadata": {},
   "source": [
    "__Turbina:__\n",
    "$$ Q - W = \\Delta H \\tag{9} $$"
   ]
  },
  {
   "cell_type": "markdown",
   "metadata": {},
   "source": [
    "$$ Q = 0 \\tag{10} $$"
   ]
  },
  {
   "cell_type": "markdown",
   "metadata": {},
   "source": [
    "Entonces obtenemos:\n",
    "$$ -W = m \\, (h_s - h_e) $$"
   ]
  },
  {
   "cell_type": "markdown",
   "metadata": {},
   "source": [
    "$$ W = m (h_e - h_s) \\tag{11} $$"
   ]
  },
  {
   "cell_type": "code",
   "execution_count": 45,
   "metadata": {},
   "outputs": [],
   "source": [
    "h_5 = cp.PropsSI('H','P',P_5,'T',T_5,'Water')"
   ]
  },
  {
   "cell_type": "code",
   "execution_count": 46,
   "metadata": {},
   "outputs": [
    {
     "name": "stdout",
     "output_type": "stream",
     "text": [
      "h_5 = 2727.27 (kJ/kg)\n"
     ]
    }
   ],
   "source": [
    "print('h_5 = %.2f (kJ/kg)'%(h_5/1000))"
   ]
  },
  {
   "cell_type": "code",
   "execution_count": 47,
   "metadata": {},
   "outputs": [],
   "source": [
    "m_4 = m_3\n",
    "m_5 = m_4"
   ]
  },
  {
   "cell_type": "code",
   "execution_count": 48,
   "metadata": {},
   "outputs": [],
   "source": [
    "W = m_4*(h_4 - h_5)"
   ]
  },
  {
   "cell_type": "code",
   "execution_count": 49,
   "metadata": {},
   "outputs": [
    {
     "name": "stdout",
     "output_type": "stream",
     "text": [
      "Potencia entregada\n",
      "W = 259.49 (kJ/kg)\n"
     ]
    }
   ],
   "source": [
    "print('Potencia entregada')\n",
    "print('W = %.2f (kJ/kg)'%(W/1000))"
   ]
  },
  {
   "cell_type": "code",
   "execution_count": 50,
   "metadata": {},
   "outputs": [],
   "source": [
    "%reset -s -f"
   ]
  },
  {
   "cell_type": "markdown",
   "metadata": {},
   "source": [
    "## Ejercicio 25\n",
    "Para el siguiente proceso, determinar:\n",
    "1. El estado de vapor en (2) $(P,t,x)$\n",
    "2. $\\dot{W}$\n",
    "3. $\\dot{m}$\n",
    "\n",
    "![25.png](../img/25.png)"
   ]
  },
  {
   "cell_type": "markdown",
   "metadata": {},
   "source": [
    "### Solución"
   ]
  },
  {
   "cell_type": "markdown",
   "metadata": {},
   "source": [
    "Para la válvula reguladora tenemos: $ \\; Q = 0 \\; , \\; W = 0$\n",
    "\n",
    "$$ Q - W = \\Delta H = 0 $$"
   ]
  },
  {
   "cell_type": "markdown",
   "metadata": {},
   "source": [
    "$$ h_s - h_e = 0 \\quad \\Rightarrow \\quad h_s = h_e $$"
   ]
  },
  {
   "cell_type": "code",
   "execution_count": 51,
   "metadata": {},
   "outputs": [],
   "source": [
    "import CoolProp.CoolProp as cp"
   ]
  },
  {
   "cell_type": "code",
   "execution_count": 52,
   "metadata": {},
   "outputs": [],
   "source": [
    "# Datos\n",
    "P_1 = 100e5 # Pa\n",
    "T_1 = 450 + 273.15 # K\n",
    "P_2 = 40e5 # Pa\n",
    "P_3 = 1.4e5 # Pa\n",
    "T_3 = 190 + 273.15 # K\n",
    "P_4 = 1.3e5 # Pa\n",
    "T_4 = 130 + 273.15 # K\n",
    "T_5 = 20 + 273.15 # K\n",
    "m_5 = 8 # kg/s\n",
    "P_5 = 1e5 # Pa\n",
    "P_6 = 1e5 # Pa\n",
    "T_6 = 60 + 273.15 # K"
   ]
  },
  {
   "cell_type": "code",
   "execution_count": 53,
   "metadata": {},
   "outputs": [
    {
     "name": "stdout",
     "output_type": "stream",
     "text": [
      "h_1 = 3242.34 (kJ/kg)\n"
     ]
    }
   ],
   "source": [
    "h_1 = cp.PropsSI('H','P',P_1,'T',T_1,'Water')\n",
    "\n",
    "print('h_1 = %.2f (kJ/kg)'%(h_1/1000))"
   ]
  },
  {
   "cell_type": "code",
   "execution_count": 54,
   "metadata": {},
   "outputs": [],
   "source": [
    "h_2 = h_1"
   ]
  },
  {
   "cell_type": "code",
   "execution_count": 55,
   "metadata": {},
   "outputs": [
    {
     "data": {
      "text/plain": [
       "'supercritical_gas'"
      ]
     },
     "execution_count": 55,
     "metadata": {},
     "output_type": "execute_result"
    }
   ],
   "source": [
    "cp.PhaseSI('P',P_2,'H',h_2,'Water')"
   ]
  },
  {
   "cell_type": "markdown",
   "metadata": {},
   "source": [
    "$\\Rightarrow \\; \\nexists \\; x$"
   ]
  },
  {
   "cell_type": "code",
   "execution_count": 56,
   "metadata": {},
   "outputs": [
    {
     "name": "stdout",
     "output_type": "stream",
     "text": [
      "T_2 = 684.97 K\n",
      "t_2 = 411.82°C\n"
     ]
    }
   ],
   "source": [
    "T_2 = cp.PropsSI('T','P',P_2,'H',h_2,'Water')\n",
    "\n",
    "print('T_2 = %.2f K'%T_2)\n",
    "print('t_2 = %.2f°C'%(T_2 - 273.15))"
   ]
  },
  {
   "cell_type": "markdown",
   "metadata": {},
   "source": [
    "Resolvemos el ítem (3)\n",
    "\n",
    "$$ Q - W = \\Delta H $$"
   ]
  },
  {
   "cell_type": "markdown",
   "metadata": {},
   "source": [
    "$$ \\Delta H = 0 $$"
   ]
  },
  {
   "cell_type": "markdown",
   "metadata": {},
   "source": [
    "$$ h_e = h_s $$"
   ]
  },
  {
   "cell_type": "markdown",
   "metadata": {},
   "source": [
    "$\\left\\{\n",
    "\\begin{array}{l}\n",
    "\\dot{m_3} h_3 - \\dot{m_4} h_4 = \\dot{m_6} h_6 - \\dot{m_5} h_5 \\\\\n",
    "\\dot{m_3} = \\dot{m_4} \\\\\n",
    "\\dot{m_5} = \\dot{m_6}\n",
    "\\end{array}\n",
    "\\right.$"
   ]
  },
  {
   "cell_type": "markdown",
   "metadata": {},
   "source": [
    "Entonces:\n",
    "$$ \\dot{m}_3 (h_3 - h_4) = \\dot{m}_5 (h_6 - h_5) $$"
   ]
  },
  {
   "cell_type": "markdown",
   "metadata": {},
   "source": [
    "Despejo $\\dot{m}_3$\n",
    "\n",
    "$$ \\dot{m}_3 = \\dot{m}_5 \\; \\frac{h_6 - h_5}{h_3 - h_4} $$"
   ]
  },
  {
   "cell_type": "code",
   "execution_count": 57,
   "metadata": {},
   "outputs": [],
   "source": [
    "h_3 = cp.PropsSI('H','P',P_3,'T',T_3,'Water')\n",
    "h_4 = cp.PropsSI('H','P',P_4,'T',T_4,'Water')\n",
    "h_5 = cp.PropsSI('H','P',P_5,'T',T_5,'Water')\n",
    "h_6 = cp.PropsSI('H','P',P_6,'T',T_6,'Water')"
   ]
  },
  {
   "cell_type": "code",
   "execution_count": 58,
   "metadata": {
    "jupyter": {
     "source_hidden": true
    }
   },
   "outputs": [
    {
     "name": "stdout",
     "output_type": "stream",
     "text": [
      "h_3 = 2853.67 (kJ/kg)\n",
      "h_4 = 2733.98 (kJ/kg)\n",
      "h_5 = 84.01 (kJ/kg)\n",
      "h_6 = 251.25 (kJ/kg)\n"
     ]
    }
   ],
   "source": [
    "print('h_3 = %.2f (kJ/kg)'%(h_3/1000))\n",
    "print('h_4 = %.2f (kJ/kg)'%(h_4/1000))\n",
    "print('h_5 = %.2f (kJ/kg)'%(h_5/1000))\n",
    "print('h_6 = %.2f (kJ/kg)'%(h_6/1000))"
   ]
  },
  {
   "cell_type": "code",
   "execution_count": 59,
   "metadata": {},
   "outputs": [
    {
     "name": "stdout",
     "output_type": "stream",
     "text": [
      "m_3 = 11.178 (kg/s)\n"
     ]
    }
   ],
   "source": [
    "m_3 = m_5*(h_6 - h_5)/(h_3 - h_4)\n",
    "\n",
    "print('m_3 = %.3f (kg/s)'%m_3)"
   ]
  },
  {
   "cell_type": "markdown",
   "metadata": {},
   "source": [
    "Resolvemos el ítem (2)\n",
    "\n",
    "$$ Q - W = \\Delta H $$"
   ]
  },
  {
   "cell_type": "markdown",
   "metadata": {},
   "source": [
    "$$ - W = m (h_s - h_e) $$"
   ]
  },
  {
   "cell_type": "markdown",
   "metadata": {},
   "source": [
    "$$ W = m (h_e - h_s) $$"
   ]
  },
  {
   "cell_type": "code",
   "execution_count": 60,
   "metadata": {},
   "outputs": [],
   "source": [
    "W = m_3*(h_2 - h_3)"
   ]
  },
  {
   "cell_type": "code",
   "execution_count": 61,
   "metadata": {},
   "outputs": [
    {
     "name": "stdout",
     "output_type": "stream",
     "text": [
      "W = 4344.58 (kW)\n"
     ]
    }
   ],
   "source": [
    "print('W = %.2f (kW)'%(W/1000))"
   ]
  },
  {
   "cell_type": "code",
   "execution_count": 62,
   "metadata": {},
   "outputs": [],
   "source": [
    "%reset -s -f"
   ]
  },
  {
   "cell_type": "markdown",
   "metadata": {},
   "source": [
    "## Ejercicio 26\n",
    "Se abre la válvula y se quita las trabas alcanzándose un nuevo estado de equilibrio. Determinar:\n",
    "1. Presión, Tempratura y x (si corresponde)\n",
    "2. Trabajo intercambiado con el medio exterior\n",
    "\n",
    "![26.png](../img/26.png)"
   ]
  },
  {
   "cell_type": "markdown",
   "metadata": {},
   "source": [
    "### Solución"
   ]
  },
  {
   "cell_type": "code",
   "execution_count": 63,
   "metadata": {},
   "outputs": [],
   "source": [
    "import CoolProp.CoolProp as cp"
   ]
  },
  {
   "cell_type": "code",
   "execution_count": 64,
   "metadata": {},
   "outputs": [],
   "source": [
    "# Datos:\n",
    "P_Ai = 10e6 # Pa\n",
    "x_Ai = 1\n",
    "m_Ai = 8 # kg/s\n",
    "P_Bi = 0.1e6 # Pa\n",
    "x_Bi = 0.6\n",
    "P_f = 5e6 # Pa"
   ]
  },
  {
   "cell_type": "markdown",
   "metadata": {},
   "source": [
    "$\\left\\{\n",
    "\\begin{array}{l}\n",
    "P_{Ai} = 10 \\, \\mbox{MPa} \\\\\n",
    "x = 1\n",
    "\\end{array}\n",
    "\\right. \\qquad \\wedge \\qquad m = 8 \\, \\mbox{kg}$"
   ]
  },
  {
   "cell_type": "code",
   "execution_count": 65,
   "metadata": {},
   "outputs": [],
   "source": [
    "# Recipiente A (estado inicial)\n",
    "v_Ai = 1/cp.PropsSI('D','P',P_Ai,'Q',x_Ai,'Water')\n",
    "T_Ai = cp.PropsSI('T','P',P_Ai,'Q',x_Ai,'Water')\n",
    "u_Ai = cp.PropsSI('U','P',P_Ai,'Q',x_Ai,'Water')\n",
    "\n",
    "# Volumen del recipiente A\n",
    "V_A = m_Ai*v_Ai \n",
    "# Energía interna inicial en A\n",
    "U_Ai = m_Ai*u_Ai"
   ]
  },
  {
   "cell_type": "code",
   "execution_count": 66,
   "metadata": {
    "jupyter": {
     "source_hidden": true
    }
   },
   "outputs": [
    {
     "name": "stdout",
     "output_type": "stream",
     "text": [
      "v_Ai = 0.01803 m^3\n",
      "T_Ai = 584.15 K\n",
      "t_Ai = 311.00°C\n",
      "u_Ai = 2545.19 kJ/kg\n",
      "V_A = 0.14424 m^3\n",
      "V_A = 144.24 litros\n",
      "U_Ai = 20361.54 kJ\n"
     ]
    }
   ],
   "source": [
    "print('v_Ai = %.5f m^3'%v_Ai)\n",
    "print('T_Ai = %.2f K'%T_Ai)\n",
    "print('t_Ai = %.2f°C'%(T_Ai - 273.15))\n",
    "print('u_Ai = %.2f kJ/kg'%(u_Ai/1000))\n",
    "print('V_A = %.5f m^3'%V_A)\n",
    "print('V_A = %.2f litros'%(V_A*1000))\n",
    "print('U_Ai = %.2f kJ'%(U_Ai/1000))"
   ]
  },
  {
   "cell_type": "markdown",
   "metadata": {},
   "source": [
    "$$ v_{Bi} = x_{Bi} \\, (v'' - v') + v' $$"
   ]
  },
  {
   "cell_type": "code",
   "execution_count": 67,
   "metadata": {},
   "outputs": [],
   "source": [
    "vp1 = 1/cp.PropsSI('D','P',P_Bi,'Q',0,'Water')  # (v')\n",
    "vp2 = 1/cp.PropsSI('D','P',P_Bi,'Q',1,'Water')  # (v'')\n",
    "# Volumen específico inicial en B\n",
    "v_Bi = x_Bi*(vp2 - vp1) + vp1"
   ]
  },
  {
   "cell_type": "code",
   "execution_count": 68,
   "metadata": {},
   "outputs": [
    {
     "name": "stdout",
     "output_type": "stream",
     "text": [
      "v_Bi = 1.01677 m^3\n"
     ]
    }
   ],
   "source": [
    "print('v_Bi = %.5f m^3'%v_Bi)"
   ]
  },
  {
   "cell_type": "code",
   "execution_count": 69,
   "metadata": {},
   "outputs": [
    {
     "name": "stdout",
     "output_type": "stream",
     "text": [
      "v_Bi = 1.01677 m^3\n"
     ]
    }
   ],
   "source": [
    "# o también\n",
    "v_Bi = 1 / cp.PropsSI('D','P',P_Bi,'Q',x_Bi,'Water')\n",
    "print('v_Bi = %.5f m^3'%v_Bi)"
   ]
  },
  {
   "cell_type": "markdown",
   "metadata": {},
   "source": [
    "$$ V_{Bi} = m_{Bi} \\cdot v_{Bi}  $$"
   ]
  },
  {
   "cell_type": "markdown",
   "metadata": {},
   "source": [
    "Despejo $m_{Bi}$\n",
    "$$ m_{Bi} = \\frac{V_{Bi}}{v_{Bi}} $$"
   ]
  },
  {
   "cell_type": "code",
   "execution_count": 70,
   "metadata": {},
   "outputs": [],
   "source": [
    "# Recipiente B (estado inicial)\n",
    "V_Bi = 0.2*V_A\n",
    "m_Bi = V_Bi/v_Bi"
   ]
  },
  {
   "cell_type": "code",
   "execution_count": 71,
   "metadata": {},
   "outputs": [
    {
     "name": "stdout",
     "output_type": "stream",
     "text": [
      "V_Bi = 0.02885 m^3\n",
      "m_Bi = 0.02837 kg\n"
     ]
    }
   ],
   "source": [
    "print('V_Bi = %.5f m^3'%V_Bi)\n",
    "print('m_Bi = %.5f kg'%m_Bi)"
   ]
  },
  {
   "cell_type": "markdown",
   "metadata": {},
   "source": [
    "$$ u = x \\, (u'' - u') + u' $$"
   ]
  },
  {
   "cell_type": "code",
   "execution_count": 72,
   "metadata": {},
   "outputs": [],
   "source": [
    "up1 = cp.PropsSI('U','P',P_Bi,'Q',0,'Water')  # (u')\n",
    "up2 = cp.PropsSI('U','P',P_Bi,'Q',1,'Water')  # (u'')\n",
    "# Energía interna específica inicial en B\n",
    "u_Bi = x_Bi*(up2 - up1) + up1"
   ]
  },
  {
   "cell_type": "code",
   "execution_count": 73,
   "metadata": {},
   "outputs": [
    {
     "name": "stdout",
     "output_type": "stream",
     "text": [
      "u_Bi = 1670.29 kJ/kg\n"
     ]
    }
   ],
   "source": [
    "print('u_Bi = %.2f kJ/kg'%(u_Bi/1000))"
   ]
  },
  {
   "cell_type": "code",
   "execution_count": 74,
   "metadata": {},
   "outputs": [
    {
     "name": "stdout",
     "output_type": "stream",
     "text": [
      "u_Bi = 1670.29 kJ/kg\n"
     ]
    }
   ],
   "source": [
    "# o también\n",
    "u_Bi = cp.PropsSI('U','P',P_Bi,'Q',x_Bi,'Water')\n",
    "print('u_Bi = %.2f kJ/kg'%(u_Bi/1000))"
   ]
  },
  {
   "cell_type": "code",
   "execution_count": 75,
   "metadata": {},
   "outputs": [
    {
     "name": "stdout",
     "output_type": "stream",
     "text": [
      "U_Bi = 47.39 kJ\n"
     ]
    }
   ],
   "source": [
    "# Energía interna inicial en B\n",
    "U_Bi = m_Bi*u_Bi\n",
    "\n",
    "print('U_Bi = %.2f kJ'%(U_Bi/1000))"
   ]
  },
  {
   "cell_type": "markdown",
   "metadata": {},
   "source": [
    "$$ Q = \\Delta U + W_{\\Delta V} $$"
   ]
  },
  {
   "cell_type": "markdown",
   "metadata": {},
   "source": [
    "Estado inicial\n",
    "$$ 0 = U_i + 0 $$"
   ]
  },
  {
   "cell_type": "markdown",
   "metadata": {},
   "source": [
    "Estado final\n",
    "$$ 0 = U + W_{\\Delta V} = H_f $$"
   ]
  },
  {
   "cell_type": "markdown",
   "metadata": {},
   "source": [
    "Entonces\n",
    "$$ H_f = U_{Ai} + U_{Bi} $$"
   ]
  },
  {
   "cell_type": "markdown",
   "metadata": {},
   "source": [
    "$$ h_f = \\frac{U_{Ai} + U_{Bi}}{m_{t}} $$"
   ]
  },
  {
   "cell_type": "code",
   "execution_count": 76,
   "metadata": {},
   "outputs": [],
   "source": [
    "H_f = U_Ai + U_Bi\n",
    "m_t = m_Ai + m_Bi\n",
    "h_f = (U_Ai + U_Bi)/m_t"
   ]
  },
  {
   "cell_type": "code",
   "execution_count": 77,
   "metadata": {},
   "outputs": [
    {
     "name": "stdout",
     "output_type": "stream",
     "text": [
      "h_f = 2542.10 kJ/kg\n"
     ]
    }
   ],
   "source": [
    "print('h_f = %.2f kJ/kg'%(h_f/1000))"
   ]
  },
  {
   "cell_type": "code",
   "execution_count": 78,
   "metadata": {},
   "outputs": [
    {
     "data": {
      "text/plain": [
       "'twophase'"
      ]
     },
     "execution_count": 78,
     "metadata": {},
     "output_type": "execute_result"
    }
   ],
   "source": [
    "cp.PhaseSI('P',P_f,'H',h_f,'Water')"
   ]
  },
  {
   "cell_type": "code",
   "execution_count": 79,
   "metadata": {},
   "outputs": [],
   "source": [
    "x_f = cp.PropsSI('Q','P',P_f,'H',h_f,'Water')\n",
    "T_f = cp.PropsSI('T','P',P_f,'H',h_f,'Water')\n",
    "v_f = 1 / cp.PropsSI('D','P',P_f,'H',h_f,'Water')\n",
    "V_f = m_t*v_f\n",
    "V_Bf = V_f - V_A\n",
    "W_DV = P_f*(V_Bf - V_Bi)"
   ]
  },
  {
   "cell_type": "code",
   "execution_count": 80,
   "metadata": {},
   "outputs": [
    {
     "name": "stdout",
     "output_type": "stream",
     "text": [
      "x_f = 0.85\n",
      "T_f = 537.09 K\n",
      "t_f = 263.94°C\n",
      "v_f = 0.03358 m^3/kg\n",
      "V_f = 0.26958 m^3\n",
      "V_Bf = 0.12534 m^3\n",
      "W_DV = 482.46 kJ\n"
     ]
    }
   ],
   "source": [
    "print('x_f = %.2f'%x_f)\n",
    "print('T_f = %.2f K'%T_f)\n",
    "print('t_f = %.2f°C'%(T_f - 273.15))\n",
    "print('v_f = %.5f m^3/kg'%v_f)\n",
    "print('V_f = %.5f m^3'%V_f)\n",
    "print('V_Bf = %.5f m^3'%V_Bf)\n",
    "print('W_DV = %.2f kJ'%(W_DV/1000))"
   ]
  },
  {
   "cell_type": "code",
   "execution_count": 81,
   "metadata": {},
   "outputs": [],
   "source": [
    "%reset -s -f"
   ]
  }
 ],
 "metadata": {
  "kernelspec": {
   "display_name": "Python 3",
   "language": "python",
   "name": "python3"
  },
  "language_info": {
   "codemirror_mode": {
    "name": "ipython",
    "version": 3
   },
   "file_extension": ".py",
   "mimetype": "text/x-python",
   "name": "python",
   "nbconvert_exporter": "python",
   "pygments_lexer": "ipython3",
   "version": "3.7.3"
  }
 },
 "nbformat": 4,
 "nbformat_minor": 4
}
