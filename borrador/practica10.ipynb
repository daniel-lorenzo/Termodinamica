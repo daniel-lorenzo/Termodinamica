{
 "cells": [
  {
   "cell_type": "markdown",
   "metadata": {},
   "source": [
    "# Ejercicio 50"
   ]
  },
  {
   "cell_type": "markdown",
   "metadata": {},
   "source": [
    "<img src=\"../img/50.png\" width=\"450\">"
   ]
  },
  {
   "cell_type": "markdown",
   "metadata": {},
   "source": [
    "__Calcular:__\n",
    "1. $m_v$\n",
    "2. $\\Delta S_u$\n",
    "3. $\\Delta Ex_u$\n",
    "4. $\\eta_{ex}$"
   ]
  },
  {
   "cell_type": "markdown",
   "metadata": {},
   "source": [
    "## Solución"
   ]
  },
  {
   "cell_type": "code",
   "execution_count": 68,
   "metadata": {},
   "outputs": [],
   "source": [
    "# Datos:\n",
    "P_0 = 1e5 # [Pa]\n",
    "T_0 = 20 + 273.15 # [K]\n",
    "P_1 = 5e5 # [Pa]\n",
    "T_1 = 200 + 273.15 # [K]\n",
    "P_2 = 4.4e5 # [Pa]\n",
    "x_3 = 1\n",
    "P_3 = P_2\n",
    "T_4 = 20 + 273.15 # [K]\n",
    "T_5 = 120 + 273.15 # [K]\n",
    "m_aire = 100 # [kg/s]\n",
    "cp_aire = 1.0047e3 # [J/(kg·K)]  (aire)"
   ]
  },
  {
   "cell_type": "code",
   "execution_count": 54,
   "metadata": {},
   "outputs": [],
   "source": [
    "import CoolProp.CoolProp as cp"
   ]
  },
  {
   "cell_type": "code",
   "execution_count": 55,
   "metadata": {},
   "outputs": [],
   "source": [
    "h_1 = cp.PropsSI('H','P',P_1,'T',T_1,'Water')\n",
    "s_1 = cp.PropsSI('S','P',P_1,'T',T_1,'Water')"
   ]
  },
  {
   "cell_type": "code",
   "execution_count": 56,
   "metadata": {},
   "outputs": [],
   "source": [
    "# Válvula\n",
    "h_2 = h_1"
   ]
  },
  {
   "cell_type": "code",
   "execution_count": 57,
   "metadata": {},
   "outputs": [
    {
     "data": {
      "text/plain": [
       "'gas'"
      ]
     },
     "execution_count": 57,
     "metadata": {},
     "output_type": "execute_result"
    }
   ],
   "source": [
    "cp.PhaseSI('P',P_2,'H',h_2,'Water')"
   ]
  },
  {
   "cell_type": "code",
   "execution_count": 58,
   "metadata": {},
   "outputs": [],
   "source": [
    "T_2 = cp.PropsSI('T','P',P_2,'H',h_2,'Water')\n",
    "s_2 = cp.PropsSI('S','P',P_2,'H',h_2,'Water')"
   ]
  },
  {
   "cell_type": "code",
   "execution_count": 59,
   "metadata": {},
   "outputs": [],
   "source": [
    "h_3 = cp.PropsSI('H','P',P_3,'Q',x_3,'Water')\n",
    "s_3 = cp.PropsSI('S','P',P_3,'Q',x_3,'Water')\n",
    "T_3 = cp.PropsSI('T','P',P_3,'Q',x_3,'Water')"
   ]
  },
  {
   "cell_type": "markdown",
   "metadata": {},
   "source": [
    "$$ \\Delta H_{45} = m_{aire} c_p \\Delta T $$"
   ]
  },
  {
   "cell_type": "markdown",
   "metadata": {},
   "source": [
    "$$ \\Delta H_{45} = \\Delta H_{23} = m_v (h_2 - h_3) $$"
   ]
  },
  {
   "cell_type": "markdown",
   "metadata": {},
   "source": [
    "$$ m_{vapor} = \\frac{\\Delta H_{45}}{h_2 - h_3} $$"
   ]
  },
  {
   "cell_type": "code",
   "execution_count": 69,
   "metadata": {},
   "outputs": [],
   "source": [
    "DH_45 = m_aire*cp_aire*(T_5 - T_4)"
   ]
  },
  {
   "cell_type": "code",
   "execution_count": 70,
   "metadata": {},
   "outputs": [],
   "source": [
    "m_vapor = DH_45/(h_2 - h_3)"
   ]
  },
  {
   "cell_type": "code",
   "execution_count": 71,
   "metadata": {},
   "outputs": [
    {
     "name": "stdout",
     "output_type": "stream",
     "text": [
      "m_vapor = 88.547 [kg/s]\n"
     ]
    }
   ],
   "source": [
    "print('m_vapor = %.3f [kg/s]'%(m_vapor))"
   ]
  },
  {
   "cell_type": "markdown",
   "metadata": {},
   "source": [
    "$$ \\Delta S_{12} = m_{vapor} (s_2 - s_1) $$"
   ]
  },
  {
   "cell_type": "markdown",
   "metadata": {},
   "source": [
    "$$ \\Delta S_{23} = m_{vapor} (s_3 - s_2) $$"
   ]
  },
  {
   "cell_type": "code",
   "execution_count": 72,
   "metadata": {},
   "outputs": [],
   "source": [
    "DS_12 = m_vapor*(s_2 - s_1)\n",
    "DS_23 = m_vapor*(s_3 - s_2)"
   ]
  },
  {
   "cell_type": "markdown",
   "metadata": {},
   "source": [
    "$$ \\Delta S_{45} = m_{aire} \\left( c_p \\ln \\frac{T_5}{T_4} - R \\ln \\frac{P_5}{P_4} \\right) $$"
   ]
  },
  {
   "cell_type": "markdown",
   "metadata": {},
   "source": [
    "consideramos $P_4 = P_5$"
   ]
  },
  {
   "cell_type": "markdown",
   "metadata": {},
   "source": [
    "Entonces:\n",
    "$$ \\Delta S_{45} = m_{aire} \\left( c_p \\ln \\frac{T_5}{T_4} \\right) $$"
   ]
  },
  {
   "cell_type": "code",
   "execution_count": 73,
   "metadata": {},
   "outputs": [],
   "source": [
    "import numpy as np"
   ]
  },
  {
   "cell_type": "code",
   "execution_count": 77,
   "metadata": {},
   "outputs": [],
   "source": [
    "DS_45 = m_aire*(cp_aire*np.log(T_5/T_4))"
   ]
  },
  {
   "cell_type": "markdown",
   "metadata": {},
   "source": [
    "$$ \\Delta S_u = \\Delta S_{12} + \\Delta S_{23} + \\Delta S_{45} $$"
   ]
  },
  {
   "cell_type": "code",
   "execution_count": 78,
   "metadata": {},
   "outputs": [],
   "source": [
    "DS_u = DS_12 + DS_23 + DS_45"
   ]
  },
  {
   "cell_type": "code",
   "execution_count": 82,
   "metadata": {},
   "outputs": [
    {
     "name": "stdout",
     "output_type": "stream",
     "text": [
      "DS_u = 12.0045 [kJ/K]\n"
     ]
    }
   ],
   "source": [
    "print('DS_u = %.4f [kJ/K]'%(DS_u/1000))"
   ]
  },
  {
   "cell_type": "markdown",
   "metadata": {},
   "source": [
    "$$ \\Delta Ex_u = - T_0 \\Delta S_u $$"
   ]
  },
  {
   "cell_type": "code",
   "execution_count": 83,
   "metadata": {},
   "outputs": [],
   "source": [
    "DEx_u = -T_0*DS_u"
   ]
  },
  {
   "cell_type": "code",
   "execution_count": 84,
   "metadata": {},
   "outputs": [
    {
     "name": "stdout",
     "output_type": "stream",
     "text": [
      "DEx_u = -3519.12 [kJ]\n"
     ]
    }
   ],
   "source": [
    "print('DEx_u = %.2f [kJ]'%(DEx_u/1000))"
   ]
  },
  {
   "cell_type": "markdown",
   "metadata": {},
   "source": [
    "$$ \\Delta Ex_{13} = m_{vapor} (h_3 - h_1) - m_{vapor} T_0 (s_3 - s_1) $$"
   ]
  },
  {
   "cell_type": "markdown",
   "metadata": {},
   "source": [
    "$$ \\Delta Ex_{45} = \\Delta H_{45} - T_0 \\Delta S_{45} $$"
   ]
  },
  {
   "cell_type": "markdown",
   "metadata": {},
   "source": [
    "$$ \\eta_{ex} = \\frac{\\Delta Ex_{45}}{|\\Delta Ex_{13}|} $$"
   ]
  },
  {
   "cell_type": "code",
   "execution_count": 85,
   "metadata": {},
   "outputs": [],
   "source": [
    "DEx_13 = m_vapor*(h_3 - h_1) - m_vapor*T_0*(s_3 - s_1)\n",
    "DEx_45 = DH_45 - T_0*DS_45\n",
    "n_ex = DEx_45/abs(DEx_13)"
   ]
  },
  {
   "cell_type": "code",
   "execution_count": 86,
   "metadata": {},
   "outputs": [
    {
     "name": "stdout",
     "output_type": "stream",
     "text": [
      "n_ex = 0.285\n"
     ]
    }
   ],
   "source": [
    "print('n_ex = %.3f'%n_ex)"
   ]
  },
  {
   "cell_type": "code",
   "execution_count": null,
   "metadata": {},
   "outputs": [],
   "source": [
    "%reset -s -f"
   ]
  }
 ],
 "metadata": {
  "kernelspec": {
   "display_name": "Python 3",
   "language": "python",
   "name": "python3"
  },
  "language_info": {
   "codemirror_mode": {
    "name": "ipython",
    "version": 3
   },
   "file_extension": ".py",
   "mimetype": "text/x-python",
   "name": "python",
   "nbconvert_exporter": "python",
   "pygments_lexer": "ipython3",
   "version": "3.7.3"
  }
 },
 "nbformat": 4,
 "nbformat_minor": 4
}
