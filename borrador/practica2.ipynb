{
 "cells": [
  {
   "cell_type": "markdown",
   "metadata": {},
   "source": [
    "# Práctica 2"
   ]
  },
  {
   "cell_type": "markdown",
   "metadata": {},
   "source": [
    "## Ejercicio 11"
   ]
  },
  {
   "cell_type": "code",
   "execution_count": 9,
   "metadata": {},
   "outputs": [],
   "source": [
    "# Ejercicio 11\n",
    "\n",
    "# Datos:\n",
    "W_e = -1000e3 # J    (trabajo eléctrico)\n",
    "P = 10e5 # Pa\n",
    "T_1 = 27 + 273.15 # K\n",
    "V_1 = 0.3 # m^3\n",
    "R = 287 # J/(kg*K)  (R del aire, dato de tabla)\n",
    "cp = 1.0047e3 # J/(kg*K)  (del aire)\n",
    "Q = 0"
   ]
  },
  {
   "cell_type": "code",
   "execution_count": 2,
   "metadata": {},
   "outputs": [],
   "source": [
    "# Calculamos la masa con la ecuación de estado de los gases ideales\n",
    "m = (P*V_1)/(R*T_1)"
   ]
  },
  {
   "cell_type": "code",
   "execution_count": 4,
   "metadata": {},
   "outputs": [
    {
     "name": "stdout",
     "output_type": "stream",
     "text": [
      "m = 3.4826 kg\n"
     ]
    }
   ],
   "source": [
    "print('m = %.4f kg'%m)"
   ]
  },
  {
   "cell_type": "markdown",
   "metadata": {},
   "source": [
    "Primer principio de la termodinámica:\n",
    "$$ Q = \\Delta U + W $$"
   ]
  },
  {
   "cell_type": "markdown",
   "metadata": {},
   "source": [
    "$$ Q = \\Delta U + W_{\\Delta V} + W_e $$"
   ]
  },
  {
   "cell_type": "markdown",
   "metadata": {},
   "source": [
    "Tenemos que:\n",
    "$$ \\Delta U + W_{\\Delta V} = \\Delta H = m \\, c_p \\Delta T $$"
   ]
  },
  {
   "cell_type": "markdown",
   "metadata": {},
   "source": [
    "$$ Q = \\Delta H + W_e $$"
   ]
  },
  {
   "cell_type": "markdown",
   "metadata": {},
   "source": [
    "$$ Q = m \\, c_p \\Delta T + W_e $$"
   ]
  },
  {
   "cell_type": "markdown",
   "metadata": {},
   "source": [
    "$$ 0 = m \\, c_p (T_2 - T_1) + W_e $$"
   ]
  },
  {
   "cell_type": "markdown",
   "metadata": {},
   "source": [
    "Despejo $T_2$\n",
    "$$ T_2 = \\frac{T_1 \\, c_p \\, m - W_e}{c_p \\, m} $$"
   ]
  },
  {
   "cell_type": "code",
   "execution_count": 10,
   "metadata": {},
   "outputs": [],
   "source": [
    "T_2 = (T_1*cp*m - W_e)/(cp*m)"
   ]
  },
  {
   "cell_type": "code",
   "execution_count": 12,
   "metadata": {},
   "outputs": [
    {
     "name": "stdout",
     "output_type": "stream",
     "text": [
      "Temperatura final:\n",
      "T_2 = 585.95 K\n"
     ]
    }
   ],
   "source": [
    "print('Temperatura final:')\n",
    "print('T_2 = %.2f K'%T_2)"
   ]
  },
  {
   "cell_type": "code",
   "execution_count": 13,
   "metadata": {},
   "outputs": [],
   "source": [
    "# ítem 3. Trabajo por variación de volumen"
   ]
  },
  {
   "cell_type": "markdown",
   "metadata": {},
   "source": [
    "Trabajo por variación de volumen\n",
    "$$ W_{\\Delta V} = P \\cdot \\Delta V $$"
   ]
  },
  {
   "cell_type": "markdown",
   "metadata": {},
   "source": [
    "$$ W_{\\Delta V} = P \\cdot (V_2 - V_1) = P V_2 - P V_1 $$"
   ]
  },
  {
   "cell_type": "markdown",
   "metadata": {},
   "source": [
    "$$ W_{\\Delta V} = m R T_2 - P V_1 $$"
   ]
  },
  {
   "cell_type": "code",
   "execution_count": 14,
   "metadata": {},
   "outputs": [],
   "source": [
    "W_DV = m*R*T_2 - P*V_1"
   ]
  },
  {
   "cell_type": "code",
   "execution_count": 15,
   "metadata": {},
   "outputs": [
    {
     "name": "stdout",
     "output_type": "stream",
     "text": [
      "W_DV = 285.66 kJ\n"
     ]
    }
   ],
   "source": [
    "print('W_DV = %.2f kJ'%(W_DV/1000))"
   ]
  },
  {
   "cell_type": "markdown",
   "metadata": {},
   "source": [
    "$$ \\Delta V = \\frac{W_{\\Delta V}}{P} $$"
   ]
  },
  {
   "cell_type": "code",
   "execution_count": 16,
   "metadata": {},
   "outputs": [],
   "source": [
    "DV = W_DV/P"
   ]
  },
  {
   "cell_type": "code",
   "execution_count": 18,
   "metadata": {},
   "outputs": [
    {
     "name": "stdout",
     "output_type": "stream",
     "text": [
      "DV = 0.2857 m^3\n"
     ]
    }
   ],
   "source": [
    "print('DV = %.4f m^3'%DV)"
   ]
  },
  {
   "cell_type": "code",
   "execution_count": null,
   "metadata": {},
   "outputs": [],
   "source": [
    "%reset -s -f"
   ]
  },
  {
   "cell_type": "markdown",
   "metadata": {},
   "source": [
    "## Ejercicio 12"
   ]
  },
  {
   "cell_type": "code",
   "execution_count": 16,
   "metadata": {},
   "outputs": [],
   "source": [
    "# Ejercicio 12\n",
    "\n",
    "# Datos:\n",
    "R_A = 0.2598e3 # J/(kg·K) O_2  (de tabla)\n",
    "R_B = 0.2968e3 # J/(kg·K) N_2  (de tabla)\n",
    "R_C = 0.2870e3 # J/(kg·K) Aire (de tabla)\n",
    "cv_A = 0.6585e3 # J/(kg·K) O_2 (de tabla)\n",
    "cv_B = 0.7431e3 # J/(kg·K) N_2 (de tabla)\n",
    "cv_C = 0.7176e3 # J/(kg·K) Aire (de tabla)\n",
    "V_A = 5 # m^3\n",
    "V_B = 10 # m^3\n",
    "V_C = 12 # m^3\n",
    "T_oA = 77 + 273.15 # K\n",
    "T_oB = 127 + 273.15 # K\n",
    "T_oC = 27 + 273.15 # K\n",
    "P_oA = 3e5 # Pa\n",
    "P_oB = 5e5 # Pa\n",
    "P_oC = 1e5 # Pa"
   ]
  },
  {
   "cell_type": "markdown",
   "metadata": {},
   "source": [
    "Ecuación de los gases ideales:\n",
    "$$ PV = mRT $$"
   ]
  },
  {
   "cell_type": "markdown",
   "metadata": {},
   "source": [
    "Entonces:\n",
    "$$ m = \\frac{PV}{RT} $$"
   ]
  },
  {
   "cell_type": "code",
   "execution_count": 17,
   "metadata": {},
   "outputs": [],
   "source": [
    "# Calculamos la masa de gas en A\n",
    "m_A = (P_oA*V_A)/(R_A*T_oA)\n",
    "# Calculamos la masa de gas en B\n",
    "m_B = (P_oB*V_B)/(R_B*T_oB)\n",
    "# Calculamos la masa de gas en C\n",
    "m_C = (P_oC*V_C)/(R_C*T_oC)"
   ]
  },
  {
   "cell_type": "code",
   "execution_count": 18,
   "metadata": {},
   "outputs": [
    {
     "name": "stdout",
     "output_type": "stream",
     "text": [
      "m_A = 16.4891 kg\n",
      "m_B = 42.1001 kg\n",
      "m_C = 13.9303 kg\n"
     ]
    }
   ],
   "source": [
    "print('m_A = %.4f kg'%m_A)\n",
    "print('m_B = %.4f kg'%m_B)\n",
    "print('m_C = %.4f kg'%m_C)"
   ]
  },
  {
   "cell_type": "markdown",
   "metadata": {},
   "source": [
    "Utilizando la ecuación:\n",
    "$$ \\Delta U = m \\, c_v \\, \\Delta T $$"
   ]
  },
  {
   "cell_type": "markdown",
   "metadata": {},
   "source": [
    "Como $\\Delta U = 0$"
   ]
  },
  {
   "cell_type": "markdown",
   "metadata": {},
   "source": [
    "$$ 0 = m_A c_{vA} ( T_f - T_{0A}) + m_B c_{vB} ( T_f - T_{0B}) + m_A c_{vC} ( T_f - T_{0C}) $$"
   ]
  },
  {
   "cell_type": "markdown",
   "metadata": {},
   "source": [
    "Despejando $T_f$\n",
    "\n",
    "$$ T_f = \\frac{ T_{0A} C_{vA} m_A + T_{0B} C_{vB} m_B + T_{0C} C_{vC} m_C }{ c_{vA} m_A + c_{vB} m_B + c_{vC} m_C } $$"
   ]
  },
  {
   "cell_type": "code",
   "execution_count": 19,
   "metadata": {},
   "outputs": [],
   "source": [
    "T_f = (T_oA*cv_A*m_A + T_oB*cv_B*m_B + T_oC*cv_C*m_C)/(cv_A*m_A + cv_B*m_B + cv_C*m_C)"
   ]
  },
  {
   "cell_type": "code",
   "execution_count": 20,
   "metadata": {},
   "outputs": [
    {
     "name": "stdout",
     "output_type": "stream",
     "text": [
      "T_f = 370.56 K\n"
     ]
    }
   ],
   "source": [
    "print('T_f = %.2f K'%T_f)"
   ]
  },
  {
   "cell_type": "markdown",
   "metadata": {},
   "source": [
    "Cálculo de las presiones parciales finales de los gases sobre el volumen final"
   ]
  },
  {
   "cell_type": "markdown",
   "metadata": {},
   "source": [
    "$$ P_{fA} = \\frac{m_A R_A T_f}{V_f} \\quad ; \\quad P_{fB} = \\frac{m_B R_B T_f}{V_f} \\quad ; \\quad P_{fC} = \\frac{m_C R_C T_f}{V_f} $$"
   ]
  },
  {
   "cell_type": "code",
   "execution_count": 21,
   "metadata": {},
   "outputs": [],
   "source": [
    "V_f = V_A + V_B + V_C    # volumen final\n",
    "\n",
    "P_fA = (m_A*R_A*T_f)/V_f  # presión parcial final del gas A\n",
    "P_fB = (m_B*R_B*T_f)/V_f  # presión parcial final del gas B\n",
    "P_fC = (m_C*R_C*T_f)/V_f  # presión parcial final del gas C"
   ]
  },
  {
   "cell_type": "code",
   "execution_count": 22,
   "metadata": {},
   "outputs": [
    {
     "name": "stdout",
     "output_type": "stream",
     "text": [
      "P_fA = 58.7946 kPa\n",
      "P_fB = 171.4935 kPa\n",
      "P_fC = 54.8711 kPa\n"
     ]
    }
   ],
   "source": [
    "print('P_fA = %.4f kPa'%(P_fA/1e3))\n",
    "print('P_fB = %.4f kPa'%(P_fB/1e3))\n",
    "print('P_fC = %.4f kPa'%(P_fC/1e3))"
   ]
  },
  {
   "cell_type": "code",
   "execution_count": 23,
   "metadata": {},
   "outputs": [],
   "source": [
    "P_final = P_fA + P_fB + P_fC  # presión final"
   ]
  },
  {
   "cell_type": "code",
   "execution_count": 24,
   "metadata": {},
   "outputs": [
    {
     "name": "stdout",
     "output_type": "stream",
     "text": [
      "P_final = 285.1591 kPa\n"
     ]
    }
   ],
   "source": [
    "print('P_final = %.4f kPa'%(P_final/1e3))"
   ]
  },
  {
   "cell_type": "code",
   "execution_count": 25,
   "metadata": {},
   "outputs": [],
   "source": [
    "%reset -s -f"
   ]
  },
  {
   "cell_type": "markdown",
   "metadata": {},
   "source": [
    "## Ejercicio 12.1"
   ]
  },
  {
   "cell_type": "code",
   "execution_count": 27,
   "metadata": {},
   "outputs": [],
   "source": [
    "# Datos:\n",
    "P_2 = 10e5 # Pa\n",
    "P_1 = 1e5  # Pa\n",
    "V_1 = 10 # m^3\n",
    "T_amb = 20 + 273.15 # K"
   ]
  },
  {
   "cell_type": "markdown",
   "metadata": {},
   "source": [
    "Como es diatérmico $T_1 = T_2 = T_{amb}$"
   ]
  },
  {
   "cell_type": "markdown",
   "metadata": {},
   "source": [
    "$$ \\frac{P_1 V_1}{T_1} = \\frac{P_2 V_2}{T_2} $$"
   ]
  },
  {
   "cell_type": "markdown",
   "metadata": {},
   "source": [
    "Entonces:\n",
    "$$ V_2 = \\frac{P_1 V_1}{P_2} $$"
   ]
  },
  {
   "cell_type": "code",
   "execution_count": 28,
   "metadata": {},
   "outputs": [],
   "source": [
    "V_2 = (P_1*V_1)/P_2"
   ]
  },
  {
   "cell_type": "code",
   "execution_count": 29,
   "metadata": {},
   "outputs": [
    {
     "name": "stdout",
     "output_type": "stream",
     "text": [
      "V_2 = 1.00 m^3\n"
     ]
    }
   ],
   "source": [
    "print('V_2 = %.2f m^3'%V_2)"
   ]
  },
  {
   "cell_type": "markdown",
   "metadata": {},
   "source": [
    "Primer principio\n",
    "$$ Q = \\Delta U + W_{\\Delta V} $$"
   ]
  },
  {
   "cell_type": "markdown",
   "metadata": {},
   "source": [
    "$$ Q = m \\, c_v \\, \\underbrace{(T_2 - T_1)}_{= \\, 0} + P_p (V_2 - V_1) $$"
   ]
  },
  {
   "cell_type": "markdown",
   "metadata": {},
   "source": [
    "Entonces:\n",
    "$$ Q = W_{\\Delta V} = P_p (V_2 - V_1) $$"
   ]
  },
  {
   "cell_type": "markdown",
   "metadata": {},
   "source": [
    "El trabajo por variación de volumen $W_{\\Delta V}$ se transforma en calor"
   ]
  },
  {
   "cell_type": "code",
   "execution_count": 30,
   "metadata": {},
   "outputs": [],
   "source": [
    "Q = P_2*(V_2 - V_1)"
   ]
  },
  {
   "cell_type": "code",
   "execution_count": 33,
   "metadata": {},
   "outputs": [
    {
     "name": "stdout",
     "output_type": "stream",
     "text": [
      "Q = -9000.0 kJ\n"
     ]
    }
   ],
   "source": [
    "print('Q = %.1f kJ'%(Q/1000))"
   ]
  },
  {
   "cell_type": "code",
   "execution_count": 34,
   "metadata": {},
   "outputs": [],
   "source": [
    "%reset -s -f"
   ]
  },
  {
   "cell_type": "markdown",
   "metadata": {},
   "source": [
    "## Ejercicio 12.2"
   ]
  },
  {
   "cell_type": "code",
   "execution_count": 41,
   "metadata": {},
   "outputs": [],
   "source": [
    "P_1 = 1e5 # Pa\n",
    "P_2 = 10e5 # Pa\n",
    "V_1 = 10 # m^3\n",
    "T_1 = 20 + 273.15 # K\n",
    "R = 0.1889e3 # J/(kg·K)\n",
    "cv = 0.6552e3 # J/(kg·K)"
   ]
  },
  {
   "cell_type": "code",
   "execution_count": 36,
   "metadata": {},
   "outputs": [],
   "source": [
    "# Cálculo de la masa de CO_2\n",
    "m = (P_1*V_1)/(R*T_1)"
   ]
  },
  {
   "cell_type": "code",
   "execution_count": 38,
   "metadata": {},
   "outputs": [
    {
     "name": "stdout",
     "output_type": "stream",
     "text": [
      "m = 18.0584 kg\n"
     ]
    }
   ],
   "source": [
    "print('m = %.4f kg'%m)"
   ]
  },
  {
   "cell_type": "markdown",
   "metadata": {},
   "source": [
    "Primer principio\n",
    "$$ Q = \\Delta U + W_{\\Delta V} $$"
   ]
  },
  {
   "cell_type": "markdown",
   "metadata": {},
   "source": [
    "Tenemos:\n",
    "\n",
    "$\\left\\{\n",
    "\\begin{array}{l}\n",
    "Q = 0 \\\\\n",
    "\\Delta U = m \\, c_v (T_2 - T_1) \\\\\n",
    "W_{\\Delta V} = P_2 (V_2 - V_1) \\\\\n",
    "PV = m RT\n",
    "\\end{array}\n",
    "\\right.$"
   ]
  },
  {
   "cell_type": "markdown",
   "metadata": {},
   "source": [
    "$$ 0 = \\Delta U + W_{\\Delta V} $$"
   ]
  },
  {
   "cell_type": "markdown",
   "metadata": {},
   "source": [
    "$$ 0 = m \\, c_v (T_2 - T_1) + P_2 (V_2 - V_1) $$"
   ]
  },
  {
   "cell_type": "markdown",
   "metadata": {},
   "source": [
    "$$ 0 = m \\, c_v (T_2 - T_1) + m R T_2 - P_2 V_1 $$"
   ]
  },
  {
   "cell_type": "markdown",
   "metadata": {},
   "source": [
    "Despejo $T_2$\n",
    "$$ T_2 = \\frac{T_1 c_v m + P_2 V_1}{m \\, (c_v + R)} $$"
   ]
  },
  {
   "cell_type": "code",
   "execution_count": 42,
   "metadata": {},
   "outputs": [],
   "source": [
    "T_2 = (T_1*cv*m + P_2*V_1)/(m*(cv + R))"
   ]
  },
  {
   "cell_type": "code",
   "execution_count": 43,
   "metadata": {},
   "outputs": [
    {
     "name": "stdout",
     "output_type": "stream",
     "text": [
      "T_2 = 883.58 K\n"
     ]
    }
   ],
   "source": [
    "print('T_2 = %.2f K'%T_2)"
   ]
  },
  {
   "cell_type": "code",
   "execution_count": 44,
   "metadata": {},
   "outputs": [],
   "source": [
    "DU = m*cv*(T_2 - T_1)\n",
    "W_DV = -DU"
   ]
  },
  {
   "cell_type": "code",
   "execution_count": 45,
   "metadata": {},
   "outputs": [
    {
     "name": "stdout",
     "output_type": "stream",
     "text": [
      "DU = 6985.90 kJ\n",
      "W_DV = -6985.90 kJ\n"
     ]
    }
   ],
   "source": [
    "print('DU = %.2f kJ'%(DU/1000))\n",
    "print('W_DV = %.2f kJ'%(W_DV/1000))"
   ]
  },
  {
   "cell_type": "code",
   "execution_count": 46,
   "metadata": {},
   "outputs": [],
   "source": [
    "%reset -s -f"
   ]
  },
  {
   "cell_type": "markdown",
   "metadata": {},
   "source": [
    "## Ejercicio 13"
   ]
  },
  {
   "cell_type": "code",
   "execution_count": 5,
   "metadata": {},
   "outputs": [],
   "source": [
    "# Datos:\n",
    "m = 50 # kg\n",
    "T_1 = 320.15 # K\n",
    "P_1 = 8000e3 # Pa\n",
    "R = 0.287e3 # J/(kg·K)  (aire)\n",
    "P_p = 50e5 # Pa\n",
    "V_c = 0.2 # m^3\n",
    "cv = 0.7176e3 # J/(kg·K)  (aire)"
   ]
  },
  {
   "cell_type": "markdown",
   "metadata": {},
   "source": [
    "Cálculo del volumen del recipiente\n",
    "\n",
    "$$ P_1 V_1 = m R T_1 $$"
   ]
  },
  {
   "cell_type": "markdown",
   "metadata": {},
   "source": [
    "Despejamos:\n",
    "$$ V_1 = \\frac{m R T_1}{P_1} $$"
   ]
  },
  {
   "cell_type": "code",
   "execution_count": 7,
   "metadata": {},
   "outputs": [
    {
     "name": "stdout",
     "output_type": "stream",
     "text": [
      "V_1 = 0.574 m^3\n"
     ]
    }
   ],
   "source": [
    "V_1 = (m*R*T_1)/P_1\n",
    "\n",
    "print('V_1 = %.3f m^3'%V_1)"
   ]
  },
  {
   "cell_type": "markdown",
   "metadata": {},
   "source": [
    "Primer principio termodinámica\n",
    "$$ Q = \\Delta U + W_{\\Delta V} \\tag{1} $$"
   ]
  },
  {
   "cell_type": "markdown",
   "metadata": {},
   "source": [
    "Variación de energía interna\n",
    "$$ \\Delta U = m \\, c_v \\, (T_2 - T_1) \\tag{2} $$"
   ]
  },
  {
   "cell_type": "markdown",
   "metadata": {},
   "source": [
    "Trabajo por variación de volumen\n",
    "$$ W_{\\Delta V} = P_p (V_2 - V_1) \\tag{3} $$"
   ]
  },
  {
   "cell_type": "markdown",
   "metadata": {},
   "source": [
    "Calor (adiabático)\n",
    "$$ Q = 0 \\tag{4} $$"
   ]
  },
  {
   "cell_type": "markdown",
   "metadata": {},
   "source": [
    "Ecuación general de los gases ideales\n",
    "$$ PV = m R T \\tag{5} $$"
   ]
  },
  {
   "cell_type": "markdown",
   "metadata": {},
   "source": [
    "Reemplazamos en $(1)$\n",
    "$$ 0 = m \\, c_v \\, (T_2 - T_1) + P_p (V_2 - V_1) $$"
   ]
  },
  {
   "cell_type": "markdown",
   "metadata": {},
   "source": [
    "Luego\n",
    "$$ 0 = m \\, c_v \\, (T_2 - T_1) + m R T_2 - P_p V_1 $$"
   ]
  },
  {
   "cell_type": "markdown",
   "metadata": {},
   "source": [
    "Despejamos\n",
    "$$ T_2 = \\frac{T_1 c_v m + P_p V_1}{m \\, (c_v + R)} \\tag{6} $$"
   ]
  },
  {
   "cell_type": "code",
   "execution_count": 8,
   "metadata": {},
   "outputs": [],
   "source": [
    "T_2 = (T_1*cv*m + P_p*V_1)/(m*(cv + R))"
   ]
  },
  {
   "cell_type": "code",
   "execution_count": 9,
   "metadata": {},
   "outputs": [
    {
     "name": "stdout",
     "output_type": "stream",
     "text": [
      "T_2 = 285.85 K\n"
     ]
    }
   ],
   "source": [
    "print('T_2 = %.2f K'%T_2)"
   ]
  },
  {
   "cell_type": "markdown",
   "metadata": {},
   "source": [
    "Luego calculamos el volumen final $V_2$\n",
    "\n",
    "$$ V_2 = \\frac{m R T_2}{P_p} $$"
   ]
  },
  {
   "cell_type": "code",
   "execution_count": 12,
   "metadata": {},
   "outputs": [
    {
     "name": "stdout",
     "output_type": "stream",
     "text": [
      "V_2 = 0.820 m^3\n",
      "V_disp = 0.774 m^3\n"
     ]
    }
   ],
   "source": [
    "V_2 = (m*R*T_2)/P_p\n",
    "V_disp = V_c + V_1\n",
    "\n",
    "print('V_2 = %.3f m^3'%V_2)\n",
    "print('V_disp = %.3f m^3'%V_disp)"
   ]
  },
  {
   "cell_type": "markdown",
   "metadata": {},
   "source": [
    "Como podemos ver, el volumen disponible es menor que el volumen final calculado, entonces el trabajo por variación de volumen es el recorrido completo del cilindro."
   ]
  },
  {
   "cell_type": "code",
   "execution_count": 14,
   "metadata": {},
   "outputs": [
    {
     "name": "stdout",
     "output_type": "stream",
     "text": [
      "W_DV = 1000 kJ\n"
     ]
    }
   ],
   "source": [
    "# Trabajo por variación de volumen\n",
    "W_DV = P_p * V_c\n",
    "\n",
    "print('W_DV = %.0f kJ'%(W_DV/1000))"
   ]
  },
  {
   "cell_type": "markdown",
   "metadata": {},
   "source": [
    "$$ Q = \\Delta U + W_{\\Delta V} $$"
   ]
  },
  {
   "cell_type": "markdown",
   "metadata": {},
   "source": [
    "$$ 0 = m \\, c_v \\, (T_f - T_1) + W_{\\Delta V} $$"
   ]
  },
  {
   "cell_type": "markdown",
   "metadata": {},
   "source": [
    "Despejamos\n",
    "$$ T_f = T_1 - \\frac{W_{\\Delta V}}{m \\, c_v} $$"
   ]
  },
  {
   "cell_type": "code",
   "execution_count": 15,
   "metadata": {},
   "outputs": [
    {
     "name": "stdout",
     "output_type": "stream",
     "text": [
      "T_f = 292.28 K\n"
     ]
    }
   ],
   "source": [
    "T_f = T_1 - W_DV/(m*cv)\n",
    "\n",
    "print('T_f = %.2f K'%T_f)"
   ]
  },
  {
   "cell_type": "code",
   "execution_count": 16,
   "metadata": {},
   "outputs": [],
   "source": [
    "%reset -s -f"
   ]
  },
  {
   "cell_type": "markdown",
   "metadata": {},
   "source": [
    "## Ejercicio 14"
   ]
  },
  {
   "cell_type": "markdown",
   "metadata": {},
   "source": [
    "Primer principio de la termodinámica\n",
    "$$ Q = \\Delta U + W_{\\Delta V} \\tag{1} $$"
   ]
  },
  {
   "cell_type": "markdown",
   "metadata": {},
   "source": [
    "Variación de energía interna\n",
    "$$ \\Delta U = m c_v (T_2 - T_1) \\tag{2} $$"
   ]
  },
  {
   "cell_type": "markdown",
   "metadata": {},
   "source": [
    "Trabajo por varición de volumen\n",
    "$$ W_{\\Delta V} = P_f \\, (V_f - V_i) \\tag{3} $$"
   ]
  },
  {
   "cell_type": "markdown",
   "metadata": {},
   "source": [
    "Ecuación general de los gases ideales\n",
    "$$ P_f V_f = m R T_f \\tag{4} $$"
   ]
  },
  {
   "cell_type": "code",
   "execution_count": 21,
   "metadata": {},
   "outputs": [],
   "source": [
    "# Datos:\n",
    "T_1C = 227 + 273.15 # K\n",
    "R = 0.1889e3  # J/(kg·K)   CO2 Tabla\n",
    "cv = 0.6552e3 # J/(kg·K)   CO2 Tabla\n",
    "m_c = 2.6 # kg\n",
    "P_1A = 8e5 # Pa\n",
    "V_A = 0.6 # m^3\n",
    "P_p = 5e5 # Pa\n",
    "P_f = P_p\n",
    "T_0 = 300 # K"
   ]
  },
  {
   "cell_type": "code",
   "execution_count": 20,
   "metadata": {},
   "outputs": [
    {
     "name": "stdout",
     "output_type": "stream",
     "text": [
      "Volumen inicial en el cilindro:\n",
      "V_1C = 0.491 m^3\n"
     ]
    }
   ],
   "source": [
    "# Cálculo del volumen inicial:\n",
    "V_1C =(m_c*R*T_1C)/P_p\n",
    "\n",
    "print('Volumen inicial en el cilindro:')\n",
    "print('V_1C = %.3f m^3'%V_1C)"
   ]
  },
  {
   "cell_type": "code",
   "execution_count": 22,
   "metadata": {},
   "outputs": [
    {
     "name": "stdout",
     "output_type": "stream",
     "text": [
      "m_1A = 8.47 kg\n"
     ]
    }
   ],
   "source": [
    "# Cálculo de la masa inicial en A\n",
    "m_1A = (P_1A*V_A)/(R*T_0)\n",
    "\n",
    "print('m_1A = %.2f kg'%m_1A)"
   ]
  },
  {
   "cell_type": "code",
   "execution_count": 23,
   "metadata": {},
   "outputs": [
    {
     "name": "stdout",
     "output_type": "stream",
     "text": [
      "m_T = 11.07 kg\n",
      "V_f = 1.255 m^3\n"
     ]
    }
   ],
   "source": [
    "# Masa total\n",
    "m_T = m_1A + m_c\n",
    "# Volumen final\n",
    "V_f = (m_T*R*T_0)/P_p\n",
    "\n",
    "print('m_T = %.2f kg'%m_T)\n",
    "print('V_f = %.3f m^3'%V_f)"
   ]
  },
  {
   "cell_type": "code",
   "execution_count": 25,
   "metadata": {},
   "outputs": [
    {
     "name": "stdout",
     "output_type": "stream",
     "text": [
      "DV = 0.1634 m^3\n"
     ]
    }
   ],
   "source": [
    "# Variación de volumen\n",
    "DV = V_f - (V_A + V_1C)\n",
    "\n",
    "print('DV = %.4f m^3'%DV)"
   ]
  },
  {
   "cell_type": "markdown",
   "metadata": {},
   "source": [
    "$$ \\Delta U = m_c c_v (T_0 - T_{1C}) + m_{1A} c_v \\underbrace{ (T_0 - T_0) }_{= \\, 0} $$"
   ]
  },
  {
   "cell_type": "markdown",
   "metadata": {},
   "source": [
    "Entonces\n",
    "$$ \\Delta U = m_c c_v (T_0 - T_{1C}) $$"
   ]
  },
  {
   "cell_type": "code",
   "execution_count": 27,
   "metadata": {},
   "outputs": [
    {
     "name": "stdout",
     "output_type": "stream",
     "text": [
      "DU = -340.96 kJ\n"
     ]
    }
   ],
   "source": [
    "# Variación de energía interna\n",
    "DU = m_c * cv * (T_0 - T_1C)\n",
    "\n",
    "print('DU = %.2f kJ'%(DU/1000))"
   ]
  },
  {
   "cell_type": "code",
   "execution_count": 28,
   "metadata": {},
   "outputs": [
    {
     "name": "stdout",
     "output_type": "stream",
     "text": [
      "W_DV = 81.698 kJ\n"
     ]
    }
   ],
   "source": [
    "# Trabajo por variación de volumen\n",
    "W_DV = P_p * DV\n",
    "# Energía mecánica intercambiada con el medio\n",
    "print('W_DV = %.3f kJ'%(W_DV/1000))"
   ]
  },
  {
   "cell_type": "code",
   "execution_count": 29,
   "metadata": {},
   "outputs": [
    {
     "name": "stdout",
     "output_type": "stream",
     "text": [
      "Q = -259.261 kJ\n"
     ]
    }
   ],
   "source": [
    "# Energía térmica intercambiada con el medio (Q)\n",
    "Q = DU + W_DV\n",
    "print('Q = %.3f kJ'%(Q/1000))"
   ]
  },
  {
   "cell_type": "code",
   "execution_count": 30,
   "metadata": {},
   "outputs": [
    {
     "name": "stdout",
     "output_type": "stream",
     "text": [
      "W_net = 65.359 kJ\n"
     ]
    }
   ],
   "source": [
    "# Trabajo útil neto\n",
    "P_0 = 1e5 # Pa\n",
    "\n",
    "W_net = (P_p - P_0) * DV\n",
    "\n",
    "print('W_net = %.3f kJ'%(W_net/1000))"
   ]
  },
  {
   "cell_type": "code",
   "execution_count": 31,
   "metadata": {},
   "outputs": [],
   "source": [
    "%reset -s -f"
   ]
  },
  {
   "cell_type": "markdown",
   "metadata": {},
   "source": [
    "## Ejercicio 14.2"
   ]
  },
  {
   "cell_type": "code",
   "execution_count": 2,
   "metadata": {},
   "outputs": [],
   "source": [
    "# Datos:\n",
    "P_c = 5e5 # Pa\n",
    "m_c = 2.6 # kg\n",
    "P_a1 = 8e5 # Pa\n",
    "V_a = 0.6 # m^3\n",
    "T_a1 = 227 + 273.15 # K\n",
    "cv = 0.6522e3 # J/(kg·K)  -> CO2\n",
    "R = 0.1889e3  # J/(kg·K)  -> CO2\n",
    "T_0 = 300 # K\n",
    "P_0 = 1e5 # Pa"
   ]
  },
  {
   "cell_type": "code",
   "execution_count": 3,
   "metadata": {},
   "outputs": [
    {
     "name": "stdout",
     "output_type": "stream",
     "text": [
      "m_a1 = 5.081 kg\n"
     ]
    }
   ],
   "source": [
    "# Masa inicial en el recipiente A antes de abrir la válvula\n",
    "\n",
    "m_a1 = (P_a1*V_a)/(R*T_a1)\n",
    "\n",
    "print('m_a1 = %.3f kg'%m_a1)"
   ]
  },
  {
   "cell_type": "code",
   "execution_count": 4,
   "metadata": {},
   "outputs": [
    {
     "name": "stdout",
     "output_type": "stream",
     "text": [
      "m_t = 7.681 kg\n"
     ]
    }
   ],
   "source": [
    "# Masa total\n",
    "m_t = m_a1 + m_c\n",
    "\n",
    "print('m_t = %.3f kg'%m_t)"
   ]
  },
  {
   "cell_type": "markdown",
   "metadata": {},
   "source": [
    "Ecuación general de los gases ideales\n",
    "$$ PV = mRT $$"
   ]
  },
  {
   "cell_type": "markdown",
   "metadata": {},
   "source": [
    "$$ V = \\frac{mRT}{P} $$"
   ]
  },
  {
   "cell_type": "code",
   "execution_count": 5,
   "metadata": {},
   "outputs": [
    {
     "name": "stdout",
     "output_type": "stream",
     "text": [
      "V_f = 0.871 m^3\n"
     ]
    }
   ],
   "source": [
    "V_f =(m_t*R*T_0)/P_c\n",
    "\n",
    "print('V_f = %.3f m^3'%V_f)"
   ]
  },
  {
   "cell_type": "code",
   "execution_count": 6,
   "metadata": {},
   "outputs": [
    {
     "name": "stdout",
     "output_type": "stream",
     "text": [
      "V_2c = 0.271 m^3\n"
     ]
    }
   ],
   "source": [
    "V_2c = V_f - V_a\n",
    "\n",
    "print('V_2c = %.3f m^3'%V_2c)"
   ]
  },
  {
   "cell_type": "code",
   "execution_count": 7,
   "metadata": {},
   "outputs": [
    {
     "name": "stdout",
     "output_type": "stream",
     "text": [
      "V_1c = 0.295 m^3\n"
     ]
    }
   ],
   "source": [
    "V_1c = (m_c*R*T_0)/P_c\n",
    "\n",
    "print('V_1c = %.3f m^3'%V_1c)"
   ]
  },
  {
   "cell_type": "markdown",
   "metadata": {},
   "source": [
    "$$ Q = \\Delta U + W_{\\Delta V} $$"
   ]
  },
  {
   "cell_type": "markdown",
   "metadata": {},
   "source": [
    "$$ W_{\\Delta V} = P_c \\, (V_{2c} - V_{1c}) $$"
   ]
  },
  {
   "cell_type": "markdown",
   "metadata": {},
   "source": [
    "$$ \\Delta U = m_c c_v \\underbrace{ (T_0 - T_0) }_{= \\, 0} + m_{a1} c_v (T_0 - T_{a1}) $$"
   ]
  },
  {
   "cell_type": "code",
   "execution_count": 8,
   "metadata": {},
   "outputs": [
    {
     "name": "stdout",
     "output_type": "stream",
     "text": [
      "W_DV = -12.086 kJ\n"
     ]
    }
   ],
   "source": [
    "W_DV = P_c*(V_2c - V_1c)\n",
    "\n",
    "print('W_DV = %.3f kJ'%(W_DV/1000))"
   ]
  },
  {
   "cell_type": "code",
   "execution_count": 9,
   "metadata": {},
   "outputs": [
    {
     "name": "stdout",
     "output_type": "stream",
     "text": [
      "DU = -663.201 kJ\n"
     ]
    }
   ],
   "source": [
    "DU = m_a1*cv*(T_0 - T_a1)\n",
    "\n",
    "print('DU = %.3f kJ'%(DU/1000))"
   ]
  },
  {
   "cell_type": "code",
   "execution_count": 12,
   "metadata": {},
   "outputs": [
    {
     "name": "stdout",
     "output_type": "stream",
     "text": [
      "Q = -675.288 kJ\n"
     ]
    }
   ],
   "source": [
    "Q = DU + W_DV\n",
    "\n",
    "print('Q = %.3f kJ'%(Q/1000))"
   ]
  },
  {
   "cell_type": "markdown",
   "metadata": {},
   "source": [
    "Trabajo útil neto\n",
    "$$ W_{neto} = W_{\\Delta V} - P_0 \\, (V_{fc} - V_{ic}) $$"
   ]
  },
  {
   "cell_type": "code",
   "execution_count": 13,
   "metadata": {},
   "outputs": [],
   "source": [
    "# Trabajo útil neto\n",
    "\n",
    "W_neto = W_DV - P_0*(V_2c - V_1c)"
   ]
  },
  {
   "cell_type": "code",
   "execution_count": 14,
   "metadata": {},
   "outputs": [
    {
     "name": "stdout",
     "output_type": "stream",
     "text": [
      "W_neto = -9.67 kJ\n"
     ]
    }
   ],
   "source": [
    "print('W_neto = %.2f kJ'%(W_neto/1000))"
   ]
  },
  {
   "cell_type": "code",
   "execution_count": 15,
   "metadata": {},
   "outputs": [],
   "source": [
    "%reset -s -f"
   ]
  },
  {
   "cell_type": "code",
   "execution_count": null,
   "metadata": {},
   "outputs": [],
   "source": []
  }
 ],
 "metadata": {
  "kernelspec": {
   "display_name": "Python 3",
   "language": "python",
   "name": "python3"
  },
  "language_info": {
   "codemirror_mode": {
    "name": "ipython",
    "version": 3
   },
   "file_extension": ".py",
   "mimetype": "text/x-python",
   "name": "python",
   "nbconvert_exporter": "python",
   "pygments_lexer": "ipython3",
   "version": "3.7.3"
  }
 },
 "nbformat": 4,
 "nbformat_minor": 4
}
