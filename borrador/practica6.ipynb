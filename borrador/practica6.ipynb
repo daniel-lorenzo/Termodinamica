{
 "cells": [
  {
   "cell_type": "markdown",
   "metadata": {},
   "source": [
    "# Práctica 6"
   ]
  },
  {
   "cell_type": "markdown",
   "metadata": {},
   "source": [
    "## Ejercicio 34\n",
    "Se abre la válvula y un recipiente con vacío inicial, se llena hasta alcanzar la presión de línea, se pide:\n",
    "1. Temperatura final\n",
    "2. Masa que ingresó\n",
    "\n",
    "<center>\n",
    "<img src=\"../img/34.png\" width=\"350\">\n",
    "</center>    "
   ]
  },
  {
   "cell_type": "markdown",
   "metadata": {},
   "source": [
    "### Solución"
   ]
  },
  {
   "cell_type": "markdown",
   "metadata": {},
   "source": [
    "$\\begin{array}{|l|l|c|}\n",
    "\\hline\n",
    "\\mbox{Nro.} & \\mbox{Ecuación} & \\mbox{Incógnita} \\\\\n",
    "\\hline\n",
    "1) & Q = \\Delta U + W & \\Delta U, \\, W \\\\\n",
    "2) & W = W_{\\Delta V} = P (V_f - V_i) &  \\\\\n",
    "3) & \\Delta U = m c_p (T_f - T_i) &  m, \\, T_f \\\\\n",
    "4) & P V_f = m R T_f \\\\\n",
    "\\hline\n",
    "\\end{array}\n",
    "$\n",
    "\n",
    "__4 ecuaciones - 4 incógnitas__ $\\rightarrow$ Tiene solución."
   ]
  },
  {
   "cell_type": "code",
   "execution_count": 40,
   "metadata": {},
   "outputs": [],
   "source": [
    "# Datos:\n",
    "V_i = 0   # [m^3]  (volumen inicial)\n",
    "V_f = 0.5 # [m^3]  (volumen final)\n",
    "P = 10e5  # [Pa]   (presión de línea)\n",
    "R = 0.287e3 # [J/(kg·K)]\n",
    "cp = 1.0047e3 # [J/(kg·K)]\n",
    "T_i = 200 + 273.15 # [K]\n",
    "Q = 0 # (adiabático)"
   ]
  },
  {
   "cell_type": "code",
   "execution_count": 41,
   "metadata": {},
   "outputs": [],
   "source": [
    "# Ecuación (2)\n",
    "W_DV = P*(V_i - V_f)\n",
    "W = W_DV\n",
    "# Ecuación (1)\n",
    "DU = Q - W"
   ]
  },
  {
   "cell_type": "code",
   "execution_count": 42,
   "metadata": {
    "jupyter": {
     "source_hidden": true
    }
   },
   "outputs": [
    {
     "name": "stdout",
     "output_type": "stream",
     "text": [
      "Trabajo por variación de volumen:\n",
      "W_DV = -500.0 [kJ]\n",
      "Variación de energía inerna:\n",
      "DU = 500.0 [kJ]\n"
     ]
    }
   ],
   "source": [
    "print('Trabajo por variación de volumen:')\n",
    "print('W_DV = %.1f [kJ]'%(W_DV/1000))\n",
    "print('Variación de energía inerna:')\n",
    "print('DU = %.1f [kJ]'%(DU/1000))"
   ]
  },
  {
   "cell_type": "markdown",
   "metadata": {},
   "source": [
    "Despejo $m$ de $(4)$\n",
    "$$ m = \\frac{P V_f}{R T_f} $$"
   ]
  },
  {
   "cell_type": "markdown",
   "metadata": {},
   "source": [
    "Sustituyo $m$ en $(3)$\n",
    "$$ \\Delta U = \\left( \\frac{P V_f}{R T_f} \\right) c_p (T_f - T_i) $$"
   ]
  },
  {
   "cell_type": "markdown",
   "metadata": {},
   "source": [
    "Despejo $T_f$\n",
    "$$ T_f = \\frac{P T_i V_f c_p}{P V_f c_p - R \\Delta U} $$"
   ]
  },
  {
   "cell_type": "markdown",
   "metadata": {},
   "source": [
    "Por último calculo $m$\n",
    "$$ m = \\frac{PV_f}{RT_f} $$"
   ]
  },
  {
   "cell_type": "code",
   "execution_count": 43,
   "metadata": {},
   "outputs": [],
   "source": [
    "T_f = (P*T_i*V_f*cp)/(P*V_f*cp - R*DU)\n",
    "m = (P*V_f)/(R*T_f)"
   ]
  },
  {
   "cell_type": "code",
   "execution_count": 44,
   "metadata": {
    "jupyter": {
     "source_hidden": true
    }
   },
   "outputs": [
    {
     "name": "stdout",
     "output_type": "stream",
     "text": [
      "T_f = 662.36 [K]\n",
      "t_f = 389.21 [°C]\n",
      "m = 2.63 [kg]\n"
     ]
    }
   ],
   "source": [
    "print('T_f = %.2f [K]'%T_f)\n",
    "print('t_f = %.2f [°C]'%(T_f - 273.15))\n",
    "print('m = %.2f [kg]'%m)"
   ]
  },
  {
   "cell_type": "code",
   "execution_count": 45,
   "metadata": {},
   "outputs": [],
   "source": [
    "# Opcional\n",
    "# Resolvemos usando sympy\n",
    "import sympy as sp"
   ]
  },
  {
   "cell_type": "code",
   "execution_count": 46,
   "metadata": {},
   "outputs": [],
   "source": [
    "T_f = sp.symbols('T_f')\n",
    "Eq1 = sp.Eq(DU , (P*V_f)/(R*T_f)*cp*(T_f - T_i))\n",
    "Sol = sp.solve([Eq1],[T_f])"
   ]
  },
  {
   "cell_type": "code",
   "execution_count": 47,
   "metadata": {
    "jupyter": {
     "source_hidden": true
    }
   },
   "outputs": [
    {
     "name": "stdout",
     "output_type": "stream",
     "text": [
      "T_f = 662.36 [K]\n"
     ]
    }
   ],
   "source": [
    "print('T_f = %.2f [K]'%Sol[T_f])"
   ]
  },
  {
   "cell_type": "code",
   "execution_count": 39,
   "metadata": {},
   "outputs": [],
   "source": [
    "%reset -s -f"
   ]
  },
  {
   "cell_type": "markdown",
   "metadata": {},
   "source": [
    "-------\n",
    "## Ejercicio 35\n",
    "Se abre la válvula y el recipiente con vacío inicial, se llena hasta alzanzar la presión de línea:\n",
    "\n",
    "Determinar:\n",
    "1. Temperatura final del vapor\n",
    "2. Masa de vapor\n",
    "\n",
    "<center><img src=\"../img/35.png\" width=\"400\"></center>"
   ]
  },
  {
   "cell_type": "markdown",
   "metadata": {},
   "source": [
    "### Solución"
   ]
  },
  {
   "cell_type": "markdown",
   "metadata": {},
   "source": [
    "$$ H_E = U_f $$"
   ]
  },
  {
   "cell_type": "markdown",
   "metadata": {},
   "source": [
    "$$ m h_e = m u_f $$"
   ]
  },
  {
   "cell_type": "markdown",
   "metadata": {},
   "source": [
    "$$ h_e = u_f $$"
   ]
  },
  {
   "cell_type": "code",
   "execution_count": 29,
   "metadata": {},
   "outputs": [],
   "source": [
    "import CoolProp.CoolProp as cp"
   ]
  },
  {
   "cell_type": "code",
   "execution_count": 30,
   "metadata": {},
   "outputs": [],
   "source": [
    "# Datos:\n",
    "T_L = 250 + 273.15 # [K]\n",
    "x_L = 0.8\n",
    "V = 0.2 # [m^3]"
   ]
  },
  {
   "cell_type": "code",
   "execution_count": 47,
   "metadata": {},
   "outputs": [],
   "source": [
    "P_L = cp.PropsSI('P','T',T_L,'Q',x_L,'Water')"
   ]
  },
  {
   "cell_type": "code",
   "execution_count": 34,
   "metadata": {},
   "outputs": [],
   "source": [
    "# Entalpía específica de entrada\n",
    "h_e = cp.PropsSI('H','T',T_L,'Q',x_L,'Water')\n",
    "# Energía interna específica final\n",
    "u_f = h_e"
   ]
  },
  {
   "cell_type": "markdown",
   "metadata": {},
   "source": [
    "$$ x = \\frac{u - u'}{u'' - u'} $$"
   ]
  },
  {
   "cell_type": "code",
   "execution_count": 35,
   "metadata": {},
   "outputs": [],
   "source": [
    "up1 = cp.PropsSI('U','T',T_L,'Q',0,'Water')  # u'\n",
    "up2 = cp.PropsSI('U','T',T_L,'Q',1,'Water')  # u''"
   ]
  },
  {
   "cell_type": "code",
   "execution_count": 39,
   "metadata": {},
   "outputs": [],
   "source": [
    "x_2 = (u_f - up1)/(up2 - up1)"
   ]
  },
  {
   "cell_type": "code",
   "execution_count": 40,
   "metadata": {
    "jupyter": {
     "source_hidden": true
    }
   },
   "outputs": [
    {
     "name": "stdout",
     "output_type": "stream",
     "text": [
      "x_2 = 0.905\n"
     ]
    }
   ],
   "source": [
    "print('x_2 = %.3f'%x_2)"
   ]
  },
  {
   "cell_type": "markdown",
   "metadata": {},
   "source": [
    "$$ v = x_2 (v'' - v') + v' $$"
   ]
  },
  {
   "cell_type": "code",
   "execution_count": 41,
   "metadata": {},
   "outputs": [],
   "source": [
    "vp1 = 1 / cp.PropsSI('D','T',T_L,'Q',0,'Water')\n",
    "vp2 = 1 / cp.PropsSI('D','T',T_L,'Q',1,'Water')"
   ]
  },
  {
   "cell_type": "code",
   "execution_count": 42,
   "metadata": {},
   "outputs": [],
   "source": [
    "v_2 = x_2*(vp2 - vp1) + vp1\n",
    "dens = 1/v_2"
   ]
  },
  {
   "cell_type": "code",
   "execution_count": 43,
   "metadata": {},
   "outputs": [],
   "source": [
    "# Cálculo de masa\n",
    "m = dens*V"
   ]
  },
  {
   "cell_type": "code",
   "execution_count": 44,
   "metadata": {
    "jupyter": {
     "source_hidden": true
    }
   },
   "outputs": [
    {
     "name": "stdout",
     "output_type": "stream",
     "text": [
      "m = 4.40 [kg]\n"
     ]
    }
   ],
   "source": [
    "print('m = %.2f [kg]'%m)"
   ]
  },
  {
   "cell_type": "code",
   "execution_count": 48,
   "metadata": {},
   "outputs": [],
   "source": [
    "T_2 = cp.PropsSI('T','P',P_L,'Q',x_2,'Water')"
   ]
  },
  {
   "cell_type": "code",
   "execution_count": 49,
   "metadata": {
    "jupyter": {
     "source_hidden": true
    }
   },
   "outputs": [
    {
     "name": "stdout",
     "output_type": "stream",
     "text": [
      "T_2 = 523.15 [K]\n",
      "t_2 = 250.00 [°C]\n"
     ]
    }
   ],
   "source": [
    "print('T_2 = %.2f [K]'%T_2)\n",
    "print('t_2 = %.2f [°C]'%(T_2 - 273.15))"
   ]
  },
  {
   "cell_type": "code",
   "execution_count": 50,
   "metadata": {},
   "outputs": [],
   "source": [
    "%reset -s -f"
   ]
  },
  {
   "cell_type": "markdown",
   "metadata": {},
   "source": [
    "------\n",
    "## Ejercicio 36\n",
    "Un conjunto cilindro-pistón adiabático contiene inicialmente 10 kg de vapor húmedo con título 0,8. Se abre la válvula e ingresa vapor a 0,5 MPa y 350°C, hasta que el conjunto contenga vapor saturado. Determinar:\n",
    "\n",
    "1. Masa que ingresó\n",
    "2. Trabajo realizado\n",
    "3. Trabajo útil o neto\n",
    "<center>\n",
    "<img src=\"../img/36.png\" width=\"350\">\n",
    "</center>    "
   ]
  },
  {
   "cell_type": "markdown",
   "metadata": {},
   "source": [
    "### Solución"
   ]
  },
  {
   "cell_type": "code",
   "execution_count": 4,
   "metadata": {},
   "outputs": [],
   "source": [
    "# Datos:\n",
    "P_p = 3e5 # [Pa]\n",
    "P_0 = 1015e2 # [Pa]\n",
    "P_i = 0.5e6 # [Pa]\n",
    "T_i = 350 + 273.15 # [K]\n",
    "m_1 = 10 # [kg]\n",
    "x_1 = 0.8\n",
    "x_2 = 1"
   ]
  },
  {
   "cell_type": "code",
   "execution_count": 3,
   "metadata": {},
   "outputs": [],
   "source": [
    "import CoolProp.CoolProp as cp"
   ]
  },
  {
   "cell_type": "markdown",
   "metadata": {},
   "source": [
    "Balance de masa\n",
    "$$ m_{in} - m_{out} = \\Delta m_{system} $$"
   ]
  },
  {
   "cell_type": "markdown",
   "metadata": {},
   "source": [
    "$$ m_i = m_2 - m_1 \\tag{1} $$"
   ]
  },
  {
   "cell_type": "markdown",
   "metadata": {},
   "source": [
    "Balance de energía\n",
    "$$ E_{in} - E_{out} = \\Delta E_{system} $$"
   ]
  },
  {
   "cell_type": "markdown",
   "metadata": {},
   "source": [
    "$$ m_i h_i = W_{b,out} + m_2 u_2 - m_1 u_1  \\tag{2} $$"
   ]
  },
  {
   "cell_type": "markdown",
   "metadata": {},
   "source": [
    "Combinando las dos relaciones\n",
    "\n",
    "$$ 0 = W_{b,out} + m_2 u_2 - m_1 u_1 - (m_2 - m_1) h_i $$"
   ]
  },
  {
   "cell_type": "markdown",
   "metadata": {},
   "source": [
    "ya que el trabajo por variación de volumen y $\\Delta U$ se combinan en $\\Delta H$ para procesos de expansión y compresión de presión constante. Resolviendo para $m_2$ y sustituyendo"
   ]
  },
  {
   "cell_type": "markdown",
   "metadata": {},
   "source": [
    "$$ 0 = m_2 h_2 - m_1 h_1 -(m_2 - m_1) h_i $$"
   ]
  },
  {
   "cell_type": "markdown",
   "metadata": {},
   "source": [
    "$$ m_2 = \\frac{h_i - h_1}{h_i -h_2} m_1 $$"
   ]
  },
  {
   "cell_type": "code",
   "execution_count": 5,
   "metadata": {},
   "outputs": [],
   "source": [
    "h_i = cp.PropsSI('H','P',P_i,'T',T_i,'Water')\n",
    "h_1 = cp.PropsSI('H','P',P_p,'Q',x_1,'Water')\n",
    "h_2 = cp.PropsSI('H','P',P_p,'Q',x_2,'Water')"
   ]
  },
  {
   "cell_type": "code",
   "execution_count": 11,
   "metadata": {
    "jupyter": {
     "source_hidden": true
    }
   },
   "outputs": [
    {
     "name": "stdout",
     "output_type": "stream",
     "text": [
      "h_i = 3168.08 [kJ/kg]\n",
      "h_1 = 2292.19 [kJ/kg]\n",
      "h_2 = 2724.88 [kJ/kg]\n"
     ]
    }
   ],
   "source": [
    "print('h_i = %.2f [kJ/kg]'%(h_i/1000))\n",
    "print('h_1 = %.2f [kJ/kg]'%(h_1/1000))\n",
    "print('h_2 = %.2f [kJ/kg]'%(h_2/1000))"
   ]
  },
  {
   "cell_type": "code",
   "execution_count": 6,
   "metadata": {},
   "outputs": [],
   "source": [
    "m_2 = (h_i - h_1)/(h_i - h_2)*m_1"
   ]
  },
  {
   "cell_type": "code",
   "execution_count": 12,
   "metadata": {
    "jupyter": {
     "source_hidden": true
    }
   },
   "outputs": [
    {
     "name": "stdout",
     "output_type": "stream",
     "text": [
      "Masa final en el cilindro:\n",
      "m_2 = 19.7629 [kg]\n"
     ]
    }
   ],
   "source": [
    "print('Masa final en el cilindro:')\n",
    "print('m_2 = %.4f [kg]'%m_2)"
   ]
  },
  {
   "cell_type": "code",
   "execution_count": 8,
   "metadata": {},
   "outputs": [],
   "source": [
    "# ítem 1\n",
    "# Masa que ingresa al cilindro\n",
    "m_i = m_2 - m_1"
   ]
  },
  {
   "cell_type": "code",
   "execution_count": 10,
   "metadata": {
    "jupyter": {
     "source_hidden": true
    }
   },
   "outputs": [
    {
     "name": "stdout",
     "output_type": "stream",
     "text": [
      "Masa que ingresa en el cilindro:\n",
      "m_i = 9.7629 [kg]\n"
     ]
    }
   ],
   "source": [
    "print('Masa que ingresa en el cilindro:')\n",
    "print('m_i = %.4f [kg]'%m_i)"
   ]
  },
  {
   "cell_type": "code",
   "execution_count": 13,
   "metadata": {},
   "outputs": [],
   "source": [
    "v_1 = 1 / cp.PropsSI('D','P',P_p,'Q',x_1,'Water')\n",
    "v_2 = 1 / cp.PropsSI('D','P',P_p,'Q',x_2,'Water')"
   ]
  },
  {
   "cell_type": "code",
   "execution_count": 16,
   "metadata": {
    "jupyter": {
     "source_hidden": true
    }
   },
   "outputs": [
    {
     "name": "stdout",
     "output_type": "stream",
     "text": [
      "Volumen específico inicial:\n",
      "v_1 = 0.48482 [m^3/kg]\n",
      "Volumen específico final:\n",
      "v_2 = 0.60576 [m^3/kg]\n"
     ]
    }
   ],
   "source": [
    "print('Volumen específico inicial:')\n",
    "print('v_1 = %.5f [m^3/kg]'%v_1)\n",
    "print('Volumen específico final:')\n",
    "print('v_2 = %.5f [m^3/kg]'%v_2)"
   ]
  },
  {
   "cell_type": "code",
   "execution_count": 17,
   "metadata": {},
   "outputs": [],
   "source": [
    "V_1 = v_1*m_1\n",
    "V_2 = v_2*m_2"
   ]
  },
  {
   "cell_type": "code",
   "execution_count": 18,
   "metadata": {
    "jupyter": {
     "source_hidden": true
    }
   },
   "outputs": [
    {
     "name": "stdout",
     "output_type": "stream",
     "text": [
      "Volumen inicial:\n",
      "V_1 = 4.84822 [m^3]\n",
      "Volumen final:\n",
      "V_2 = 11.97159 [m^3]\n"
     ]
    }
   ],
   "source": [
    "print('Volumen inicial:')\n",
    "print('V_1 = %.5f [m^3]'%V_1)\n",
    "print('Volumen final:')\n",
    "print('V_2 = %.5f [m^3]'%V_2)"
   ]
  },
  {
   "cell_type": "code",
   "execution_count": 19,
   "metadata": {},
   "outputs": [],
   "source": [
    "# ítem 2\n",
    "# Trabajo por variación de volúmen\n",
    "W_DV = P_p*(V_2 - V_1)"
   ]
  },
  {
   "cell_type": "code",
   "execution_count": 23,
   "metadata": {
    "jupyter": {
     "source_hidden": true
    }
   },
   "outputs": [
    {
     "name": "stdout",
     "output_type": "stream",
     "text": [
      "Trabajo por variación de volumen:\n",
      "W_DV = 2137.0 [kJ]\n"
     ]
    }
   ],
   "source": [
    "print('Trabajo por variación de volumen:')\n",
    "print('W_DV = %.1f [kJ]'%(W_DV/1000))"
   ]
  },
  {
   "cell_type": "code",
   "execution_count": 21,
   "metadata": {},
   "outputs": [],
   "source": [
    "# ítem 3\n",
    "# Trabajo útil o neto\n",
    "W_net = W_DV - P_0*(V_2 - V_1)"
   ]
  },
  {
   "cell_type": "code",
   "execution_count": 24,
   "metadata": {
    "jupyter": {
     "source_hidden": true
    }
   },
   "outputs": [
    {
     "name": "stdout",
     "output_type": "stream",
     "text": [
      "Trabajo útil o neto:\n",
      "W_net = 1414.0 [kJ]\n"
     ]
    }
   ],
   "source": [
    "print('Trabajo útil o neto:')\n",
    "print('W_net = %.1f [kJ]'%(W_net/1000))"
   ]
  },
  {
   "cell_type": "code",
   "execution_count": 25,
   "metadata": {},
   "outputs": [],
   "source": [
    "%reset -s -f"
   ]
  },
  {
   "cell_type": "markdown",
   "metadata": {},
   "source": [
    "-----\n",
    "## Ejercicio 38\n",
    " \n",
    "Se abre la válvula el tiempo necesario para equilibrar las presiones. En el estado final, la masa que queda en el tanque esta a 250°C. Determinar:\n",
    "1. Temperatura final de la masa en el cilindro\n",
    "2. Masa que ingresa al cilindro\n",
    "\n",
    "<center><img src=\"../img/38.png\" width=\"120\"></center>"
   ]
  },
  {
   "cell_type": "markdown",
   "metadata": {},
   "source": [
    "### Solución"
   ]
  },
  {
   "cell_type": "code",
   "execution_count": 39,
   "metadata": {},
   "outputs": [],
   "source": [
    "# Datos:\n",
    "R = 0.287e3 # [J/(kg·K)]   (Constante del aire)\n",
    "T_A1 = 500 + 273.15 # [K]  (Temperatua inicial en el tanque)\n",
    "T_A2 = 250 + 273.15 # [K]  (Temperatura final en el tanque)\n",
    "P_A1 = 2e6 # [Pa]          (Presión inicial en el tanque)\n",
    "P_p = 3e5 # [Pa]           (Presión del pistón)\n",
    "V_A = 0.2 # [m^3]          (Volumen del tanque)\n",
    "cp = 1.0047e3 # [J/kg·K]   (dato de tabla)\n",
    "cv = 0.7176e3 # [J/kg·K]   (dato de tabla)"
   ]
  },
  {
   "cell_type": "markdown",
   "metadata": {},
   "source": [
    "Cálculo masa inicial en el tanque\n",
    "\n",
    "$$ PV = mRT $$"
   ]
  },
  {
   "cell_type": "markdown",
   "metadata": {},
   "source": [
    "$$ m_{A1} = \\frac{ P_{A1} V_A }{ R T_{A1} } $$"
   ]
  },
  {
   "cell_type": "code",
   "execution_count": 27,
   "metadata": {},
   "outputs": [],
   "source": [
    "m_A1 = (P_A1*V_A)/(R*T_A1)"
   ]
  },
  {
   "cell_type": "code",
   "execution_count": 28,
   "metadata": {
    "jupyter": {
     "source_hidden": true
    }
   },
   "outputs": [
    {
     "name": "stdout",
     "output_type": "stream",
     "text": [
      "m_A1 = 1.80 [kg]\n"
     ]
    }
   ],
   "source": [
    "print('m_A1 = %.2f [kg]'%m_A1)"
   ]
  },
  {
   "cell_type": "markdown",
   "metadata": {},
   "source": [
    "Cálculo masa final en el tanque\n",
    "\n",
    "$$ m_{A2} = \\frac{P_p V_A}{R T_{A2}} $$"
   ]
  },
  {
   "cell_type": "code",
   "execution_count": 32,
   "metadata": {},
   "outputs": [],
   "source": [
    "m_A2 = (P_p*V_A)/(R*T_A2)"
   ]
  },
  {
   "cell_type": "code",
   "execution_count": 33,
   "metadata": {
    "jupyter": {
     "source_hidden": true
    }
   },
   "outputs": [
    {
     "name": "stdout",
     "output_type": "stream",
     "text": [
      "m_A2 = 0.40 [kg]\n"
     ]
    }
   ],
   "source": [
    "print('m_A2 = %.2f [kg]'%m_A2)"
   ]
  },
  {
   "cell_type": "markdown",
   "metadata": {},
   "source": [
    "Cálculo masa final en el cilindro\n",
    "\n",
    "$$ m_{B2} = m_{A1} - m_{A2} $$"
   ]
  },
  {
   "cell_type": "code",
   "execution_count": 35,
   "metadata": {},
   "outputs": [],
   "source": [
    "m_B2 = m_A1 - m_A2"
   ]
  },
  {
   "cell_type": "code",
   "execution_count": 48,
   "metadata": {
    "jupyter": {
     "source_hidden": true
    }
   },
   "outputs": [
    {
     "name": "stdout",
     "output_type": "stream",
     "text": [
      "Item 2. Masa que ingresa al cilindro\n",
      "m_B2 = 1.40 [kg]\n"
     ]
    }
   ],
   "source": [
    "print('Item 2. Masa que ingresa al cilindro')\n",
    "print('m_B2 = %.2f [kg]'%m_B2)"
   ]
  },
  {
   "cell_type": "markdown",
   "metadata": {},
   "source": [
    "Energía interna inicial en el tanque\n",
    "\n",
    "$$ U_{A1} = m_{A1} c_v T_{A1} $$"
   ]
  },
  {
   "cell_type": "code",
   "execution_count": 40,
   "metadata": {},
   "outputs": [],
   "source": [
    "U_A1 = m_A1*cv*T_A1"
   ]
  },
  {
   "cell_type": "code",
   "execution_count": 41,
   "metadata": {
    "jupyter": {
     "source_hidden": true
    }
   },
   "outputs": [
    {
     "name": "stdout",
     "output_type": "stream",
     "text": [
      "U_A1 = 1000.14 [kJ]\n"
     ]
    }
   ],
   "source": [
    "print('U_A1 = %.2f [kJ]'%(U_A1/1000))"
   ]
  },
  {
   "cell_type": "markdown",
   "metadata": {},
   "source": [
    "Energía interna final en el tanque\n",
    "\n",
    "$$ U_{A2} = m_{A2} c_v T_{A2} $$"
   ]
  },
  {
   "cell_type": "code",
   "execution_count": 42,
   "metadata": {},
   "outputs": [],
   "source": [
    "U_A2 = m_A2*cv*T_A2"
   ]
  },
  {
   "cell_type": "code",
   "execution_count": 43,
   "metadata": {
    "jupyter": {
     "source_hidden": true
    }
   },
   "outputs": [
    {
     "name": "stdout",
     "output_type": "stream",
     "text": [
      "U_A2 = 150.02 [kJ]\n"
     ]
    }
   ],
   "source": [
    "print('U_A2 = %.2f [kJ]'%(U_A2/1000))"
   ]
  },
  {
   "cell_type": "markdown",
   "metadata": {},
   "source": [
    "Variación de energía interna en el tanque\n",
    "\n",
    "$$ \\Delta U_A = U_{A2} - U_{A1} $$"
   ]
  },
  {
   "cell_type": "code",
   "execution_count": 44,
   "metadata": {},
   "outputs": [],
   "source": [
    "DU_A = U_A2 - U_A1 "
   ]
  },
  {
   "cell_type": "code",
   "execution_count": 45,
   "metadata": {
    "jupyter": {
     "source_hidden": true
    }
   },
   "outputs": [
    {
     "name": "stdout",
     "output_type": "stream",
     "text": [
      "DU_A = -850.12 [kJ]\n"
     ]
    }
   ],
   "source": [
    "print('DU_A = %.2f [kJ]'%(DU_A/1000))"
   ]
  },
  {
   "cell_type": "markdown",
   "metadata": {},
   "source": [
    "$\\Delta U + W_{\\Delta V} = \\Delta H $"
   ]
  },
  {
   "cell_type": "markdown",
   "metadata": {},
   "source": [
    "$$ - \\Delta U_A = \\Delta H_B $$"
   ]
  },
  {
   "cell_type": "markdown",
   "metadata": {},
   "source": [
    "$$ - \\Delta U_A = m_{B2} \\, c_p \\, T_{B2} $$"
   ]
  },
  {
   "cell_type": "markdown",
   "metadata": {},
   "source": [
    "$$ T_{B2} = \\frac{- \\Delta U_A}{m_{B2} \\, c_p} $$"
   ]
  },
  {
   "cell_type": "code",
   "execution_count": 46,
   "metadata": {},
   "outputs": [],
   "source": [
    "T_B2 = -DU_A/(m_B2*cp)"
   ]
  },
  {
   "cell_type": "code",
   "execution_count": 49,
   "metadata": {
    "jupyter": {
     "source_hidden": true
    }
   },
   "outputs": [
    {
     "name": "stdout",
     "output_type": "stream",
     "text": [
      "Item 1. Temperatura final de la masa en el cilindro\n",
      "T_B2 = 603.07 [K]\n",
      "t_B2 = 329.92 [°C]\n"
     ]
    }
   ],
   "source": [
    "print('Item 1. Temperatura final de la masa en el cilindro')\n",
    "print('T_B2 = %.2f [K]'%T_B2)\n",
    "print('t_B2 = %.2f [°C]'%(T_B2 - 273.15))"
   ]
  },
  {
   "cell_type": "code",
   "execution_count": null,
   "metadata": {},
   "outputs": [],
   "source": [
    "%reset -s -f"
   ]
  }
 ],
 "metadata": {
  "kernelspec": {
   "display_name": "Python 3",
   "language": "python",
   "name": "python3"
  },
  "language_info": {
   "codemirror_mode": {
    "name": "ipython",
    "version": 3
   },
   "file_extension": ".py",
   "mimetype": "text/x-python",
   "name": "python",
   "nbconvert_exporter": "python",
   "pygments_lexer": "ipython3",
   "version": "3.7.3"
  }
 },
 "nbformat": 4,
 "nbformat_minor": 4
}
