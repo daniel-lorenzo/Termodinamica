{
 "cells": [
  {
   "cell_type": "markdown",
   "metadata": {},
   "source": [
    "# Ejercicio 54\n",
    "\n",
    "![54.png](img/54.png)\n",
    "\n",
    "1. $\\Delta S_u$\n",
    "2. $\\eta_{ex,proc}$\n",
    "3. $\\eta_{iso}$"
   ]
  },
  {
   "cell_type": "markdown",
   "metadata": {},
   "source": [
    "## Solución\n",
    "\n",
    "$$ \\eta_{iso} = \\frac{h_3 - h_4}{h_3 - h_{4rev}} $$"
   ]
  },
  {
   "cell_type": "code",
   "execution_count": 1,
   "metadata": {},
   "outputs": [],
   "source": [
    "import CoolProp.CoolProp as cp"
   ]
  },
  {
   "cell_type": "code",
   "execution_count": 2,
   "metadata": {},
   "outputs": [
    {
     "name": "stdout",
     "output_type": "stream",
     "text": [
      "h3 = 2860.93 kJ/kg\n",
      "s3 = 7.1723 kJ/kg·K\n"
     ]
    }
   ],
   "source": [
    "P3 = 4e5 # Pa\n",
    "T3 = 200 + 273.15 # K\n",
    "\n",
    "h3 = cp.PropsSI('H','P',P3,'T',T3,'Water')\n",
    "s3 = cp.PropsSI('S','P',P3,'T',T3,'Water')\n",
    "\n",
    "print('h3 = %s kJ/kg'%round(h3/1000,2))\n",
    "print('s3 = %s kJ/kg·K'%round(s3/1000,5))"
   ]
  },
  {
   "cell_type": "code",
   "execution_count": 4,
   "metadata": {},
   "outputs": [
    {
     "data": {
      "text/plain": [
       "'twophase'"
      ]
     },
     "execution_count": 4,
     "metadata": {},
     "output_type": "execute_result"
    }
   ],
   "source": [
    "P4 = 1.4e5 # Pa\n",
    "s4rev = s3\n",
    "\n",
    "cp.PhaseSI('P',P4,'S',s4rev,'Water')"
   ]
  },
  {
   "cell_type": "code",
   "execution_count": 5,
   "metadata": {},
   "outputs": [
    {
     "name": "stdout",
     "output_type": "stream",
     "text": [
      "x4rev = 0.9874\n"
     ]
    }
   ],
   "source": [
    "x4rev = cp.PropsSI('Q','P',P4,'S',s4rev,'Water')\n",
    "\n",
    "print('x4rev = %s'%round(x4rev,4))"
   ]
  },
  {
   "cell_type": "code",
   "execution_count": 6,
   "metadata": {},
   "outputs": [
    {
     "name": "stdout",
     "output_type": "stream",
     "text": [
      "h4rev = 2661.78 kJ/kg\n"
     ]
    }
   ],
   "source": [
    "h4rev = cp.PropsSI('H','P',P4,'S',s4rev,'Water')\n",
    "print('h4rev = %s kJ/kg'%round(h4rev/1000,2))"
   ]
  },
  {
   "cell_type": "markdown",
   "metadata": {},
   "source": [
    "$$ \\eta_{iso} = \\frac{h_3 - h_4}{h_3 - h_{4rev}} $$\n",
    "\n",
    "$$ h_4 = \\eta_{iso} (h_{4rev} - h_3) + h_3 $$"
   ]
  },
  {
   "cell_type": "code",
   "execution_count": 7,
   "metadata": {},
   "outputs": [
    {
     "name": "stdout",
     "output_type": "stream",
     "text": [
      "h4 = 2691.65 kJ/kg\n"
     ]
    }
   ],
   "source": [
    "eta_iso = 0.85\n",
    "\n",
    "h4 = eta_iso*(h4rev - h3) + h3\n",
    "\n",
    "print('h4 = %s kJ/kg'%round(h4/1000,2))"
   ]
  },
  {
   "cell_type": "markdown",
   "metadata": {},
   "source": [
    "$$ W_{MT} = m_3 (h_3 - h_4) $$"
   ]
  },
  {
   "cell_type": "code",
   "execution_count": 8,
   "metadata": {},
   "outputs": [
    {
     "name": "stdout",
     "output_type": "stream",
     "text": [
      "WMT = 3554.84 kW\n"
     ]
    }
   ],
   "source": [
    "m3 = 21 # kg/s\n",
    "\n",
    "WMT = m3*(h3 - h4)\n",
    "\n",
    "print('WMT = %s kW'%round(WMT/1000,2))"
   ]
  },
  {
   "cell_type": "markdown",
   "metadata": {},
   "source": [
    "$$ W_c = m_1 c_p (T_2 - T_1) $$"
   ]
  },
  {
   "cell_type": "markdown",
   "metadata": {},
   "source": [
    "$$ T_2 = \\frac{W_c}{m_1 c_p} + T_1 $$"
   ]
  },
  {
   "cell_type": "code",
   "execution_count": 9,
   "metadata": {},
   "outputs": [
    {
     "name": "stdout",
     "output_type": "stream",
     "text": [
      "T2 = 1310.92 K\n"
     ]
    }
   ],
   "source": [
    "Wc = WMT\n",
    "T0 = 300 # K\n",
    "T1 = T0\n",
    "m1 = 3.5 # kg/s\n",
    "cp = 1.0047e3 # J/kg·K\n",
    "\n",
    "T2 = Wc/(m1*cp) + T1\n",
    "\n",
    "print('T2 = %s K'%round(T2,2))"
   ]
  },
  {
   "cell_type": "code",
   "execution_count": null,
   "metadata": {},
   "outputs": [],
   "source": [
    "P5 = 1.2e5 # Pa\n",
    "x5 = 0.5"
   ]
  }
 ],
 "metadata": {
  "kernelspec": {
   "display_name": "Python 3",
   "language": "python",
   "name": "python3"
  },
  "language_info": {
   "codemirror_mode": {
    "name": "ipython",
    "version": 3
   },
   "file_extension": ".py",
   "mimetype": "text/x-python",
   "name": "python",
   "nbconvert_exporter": "python",
   "pygments_lexer": "ipython3",
   "version": "3.7.3"
  }
 },
 "nbformat": 4,
 "nbformat_minor": 2
}
