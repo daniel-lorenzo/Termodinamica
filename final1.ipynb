{
 "cells": [
  {
   "cell_type": "markdown",
   "metadata": {},
   "source": [
    "## Ejercicio\n",
    "Si el calor almacenado en la fuente $T_f$ se usa en una máquina térmica con $\\eta_{ex}=0,8 \\, \\eta_{ex,id}$, se obtiene $W_{MT2}$\n",
    "\n",
    "![final1-0.png](img/final1-0.png)"
   ]
  },
  {
   "cell_type": "markdown",
   "metadata": {},
   "source": [
    "__Determinar__\n",
    "\n",
    "__a)__ $m$ del cuerpo de la máquina térmica    \n",
    "__b)__ Estado general del vapor en A    \n",
    "__c)__ $\\eta_{ex}$ de la instalación    \n",
    "__d)__ $W_\\mathrm{perd}$ de la instalación   "
   ]
  },
  {
   "cell_type": "markdown",
   "metadata": {},
   "source": [
    "__Máquina frigorífica__\n",
    "\n",
    "Datos disponibles: $T_{4i}$, $T_{5i}$, $C_{c4}$, $C_{c5}$, $\\Delta S_4$, $\\Delta Ex_{MF}$\n",
    "\n",
    "![final1-1.png](img/final1-1.png)"
   ]
  },
  {
   "cell_type": "markdown",
   "metadata": {},
   "source": [
    "$\\begin{array}{l|l|l}\n",
    " & \\mathrm{Ecuacion} & \\mathrm{Incongnitas} \\\\\n",
    "\\hline\n",
    "1) & W_{MF} = Q_4 + Q_5 & W_{Mf}, \\, Q_4, \\, Q_5 \\\\\n",
    "2) & Q_4 = c_{c4} \\, (T_{4f} - T_{4i} ) & T_{4f} \\\\\n",
    "3) & Q_5 = c_{c5} \\, (T_{5f} - T_{5i} ) & T_{5f} \\\\\n",
    "4) & \\Delta S_4 = c_{c4} \\, \\ln (T_{4f}/T_{4i} ) \\\\\n",
    "5) & \\Delta S_5 = c_{c5} \\, \\ln (T_{5f}/T_{5i} ) & \\Delta S_5 \\\\\n",
    "6) & \\Delta S_{UMF} = \\Delta S_4 + \\Delta S_5 & \\Delta S_{UMF} \\\\\n",
    "7) & \\Delta Ex_{MF} = - T_0 \\Delta_{UMF} \\\\\n",
    "\\hline\n",
    " & \\sum = 7 \\, \\mathrm{ecuac.} & \\sum = 7 \\, \\mathrm{incog.}\n",
    "\\end{array} $\n",
    "\n",
    "Entonces, tiene solución."
   ]
  },
  {
   "cell_type": "markdown",
   "metadata": {},
   "source": [
    "Para los ítems c) y d) se necesitan los calores utilizables y las variaciones de entropías de los cuerpos.\n",
    "\n",
    "$\\begin{array}{l}\n",
    "Q_{U4} = Q_4 - T_0 \\Delta S_4 \\\\\n",
    "Q_{U5} = Q_5 - T_0 \\Delta S_5\n",
    "\\end{array}$"
   ]
  },
  {
   "cell_type": "markdown",
   "metadata": {},
   "source": [
    "Análisis de $Q_{U4}$\n",
    "\n",
    "$\\begin{array}{l}\n",
    "T_{4i} = 30^\\circ \\mathrm{C} \\\\\n",
    "T_0 = 20^\\circ \\mathrm{C} \\\\\n",
    "T = 10^\\circ \\mathrm{C}\n",
    "\\end{array}$"
   ]
  },
  {
   "cell_type": "code",
   "execution_count": null,
   "metadata": {},
   "outputs": [],
   "source": []
  }
 ],
 "metadata": {
  "kernelspec": {
   "display_name": "Python 3",
   "language": "python",
   "name": "python3"
  },
  "language_info": {
   "codemirror_mode": {
    "name": "ipython",
    "version": 3
   },
   "file_extension": ".py",
   "mimetype": "text/x-python",
   "name": "python",
   "nbconvert_exporter": "python",
   "pygments_lexer": "ipython3",
   "version": "3.7.3"
  }
 },
 "nbformat": 4,
 "nbformat_minor": 2
}
