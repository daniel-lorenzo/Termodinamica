{
 "cells": [
  {
   "cell_type": "raw",
   "metadata": {},
   "source": [
    "<script>\n",
    "  function code_toggle() {\n",
    "    if (code_shown){\n",
    "      $('div.input').hide('500');\n",
    "      $('#toggleButton').val('Show Code')\n",
    "    } else {\n",
    "      $('div.input').show('500');\n",
    "      $('#toggleButton').val('Hide Code')\n",
    "    }\n",
    "    code_shown = !code_shown\n",
    "  }\n",
    "\n",
    "  $( document ).ready(function(){\n",
    "    code_shown=true;\n",
    "    $('div.input').show()\n",
    "  });\n",
    "</script>\n",
    "<form action=\"javascript:code_toggle()\"><input type=\"submit\" id=\"toggleButton\" value=\"Hide Code\"></form>"
   ]
  },
  {
   "cell_type": "markdown",
   "metadata": {},
   "source": [
    "# Ejercicio\n",
    "\n",
    "[=> Index <=](https://github.com/daniel-lorenzo/Termodinamica/blob/master/Readme.md)\n",
    "\n",
    "![44.png](img/44.png)\n",
    "\n",
    "Calclular:\n",
    "1. $Q$\n",
    "2. $\\Delta S_u$\n",
    "3. $\\eta_{ex}$\n",
    "4. $W_{perd}$\n",
    "5. $\\eta_{iso}$"
   ]
  },
  {
   "cell_type": "code",
   "execution_count": 70,
   "metadata": {},
   "outputs": [],
   "source": [
    "import CoolProp.CoolProp as cp"
   ]
  },
  {
   "cell_type": "code",
   "execution_count": 71,
   "metadata": {},
   "outputs": [],
   "source": [
    "P1 = 10e5 # Pa\n",
    "x1 = 1\n",
    "P2 = 20e5 # Pa\n",
    "T2 = 250 + 273.15 # K\n",
    "P3 = P1\n",
    "P4 = P1\n",
    "P5 = P4\n",
    "T5 = 350 + 273.15 # K\n",
    "P6 = 0.4e5 # Pa\n",
    "x6 = 1\n",
    "P7 = P6\n",
    "x7 = 0\n",
    "P8 = 1e5 # Pa\n",
    "T8 = 20 + 273.15 # K\n",
    "P9 = P8\n",
    "T9 = 80 + 273.15 # K\n",
    "\n",
    "\n",
    "h1 = cp.PropsSI('H','P',P1,'Q',x1,'Water')\n",
    "s1 = cp.PropsSI('S','P',P1,'Q',x1,'Water')\n",
    "h2 = cp.PropsSI('H','P',P2,'T',T2,'Water')\n",
    "s2 = cp.PropsSI('S','P',P2,'T',T2,'Water')\n",
    "h3 = h2\n",
    "s3 = cp.PropsSI('S','P',P3,'H',h3,'Water')\n",
    "h5 = cp.PropsSI('H','P',P5,'T',T5,'Water')\n",
    "s5 = cp.PropsSI('S','P',P5,'T',T5,'Water')\n",
    "h6 = cp.PropsSI('H','P',P6,'Q',x6,'Water')\n",
    "s6 = cp.PropsSI('S','P',P6,'Q',x6,'Water')\n",
    "h7 = cp.PropsSI('H','P',P7,'Q',x7,'Water')\n",
    "s7 = cp.PropsSI('S','P',P7,'Q',x7,'Water')\n",
    "h8 = cp.PropsSI('H','P',P8,'T',T8,'Water')\n",
    "s8 = cp.PropsSI('S','P',P8,'T',T8,'Water')\n",
    "h9 = cp.PropsSI('H','P',P9,'T',T9,'Water')\n",
    "s9 = cp.PropsSI('S','P',P9,'T',T9,'Water')"
   ]
  },
  {
   "cell_type": "code",
   "execution_count": 72,
   "metadata": {},
   "outputs": [
    {
     "name": "stdout",
     "output_type": "stream",
     "text": [
      "h1 = 2777.11 kJ/kg  |  s1 = 6.58502 kJ/kg·K\n",
      "h2 = 2903.24 kJ/kg  |  s2 = 6.54746 kJ/kg·K\n",
      "h3 = 2903.24 kJ/kg  |  s3 = 6.84891 kJ/kg·K\n",
      "h5 = 3158.18 kJ/kg  |  s5 = 7.30287 kJ/kg·K\n",
      "h6 = 2636.05 kJ/kg  |  s6 = 7.669 kJ/kg·K\n",
      "h7 = 317.62 kJ/kg   |  s7 = 1.02607 kJ/kg·K\n",
      "h8 = 84.01 kJ/kg    |  s8 = 0.29646 kJ/kg·K\n",
      "h9 = 335.05 kJ/kg   |  s9 = 1.07554 kJ/kg·K\n"
     ]
    }
   ],
   "source": [
    "print('h1 = %s kJ/kg  |  s1 = %s kJ/kg·K'%(round(h1/1000,2),round(s1/1000,5)) )\n",
    "print('h2 = %s kJ/kg  |  s2 = %s kJ/kg·K'%(round(h2/1000,2),round(s2/1000,5)) )\n",
    "print('h3 = %s kJ/kg  |  s3 = %s kJ/kg·K'%(round(h3/1000,2),round(s3/1000,5)) )\n",
    "print('h5 = %s kJ/kg  |  s5 = %s kJ/kg·K'%(round(h5/1000,2),round(s5/1000,5)) )\n",
    "print('h6 = %s kJ/kg  |  s6 = %s kJ/kg·K'%(round(h6/1000,2),round(s6/1000,5)) )\n",
    "print('h7 = %s kJ/kg   |  s7 = %s kJ/kg·K'%(round(h7/1000,2),round(s7/1000,5)) )\n",
    "print('h8 = %s kJ/kg    |  s8 = %s kJ/kg·K'%(round(h8/1000,2),round(s8/1000,5)) )\n",
    "print('h9 = %s kJ/kg   |  s9 = %s kJ/kg·K'%(round(h9/1000,2),round(s9/1000,5)) )"
   ]
  },
  {
   "cell_type": "markdown",
   "metadata": {},
   "source": [
    "### Turbina\n",
    "$$ Q = \\Delta H + W $$\n",
    "$$ - \\Delta H = W $$\n",
    "$$ W = m_4 (h_5 - h_6) $$\n",
    "\n",
    "$$ m_4 = \\frac{W}{h_5 - h_6} $$"
   ]
  },
  {
   "cell_type": "code",
   "execution_count": 73,
   "metadata": {},
   "outputs": [
    {
     "name": "stdout",
     "output_type": "stream",
     "text": [
      "m4 = 9.576 kg\n"
     ]
    }
   ],
   "source": [
    "W = 5000e3 # W\n",
    "\n",
    "m4 = W/(h5 - h6)\n",
    "\n",
    "print('m4 = %s kg'%round(m4,3))"
   ]
  },
  {
   "cell_type": "markdown",
   "metadata": {},
   "source": [
    "### Cámara de mezcla\n",
    "$$ m_3 = m_4 - m_1 $$\n",
    "\n",
    "$$ m_1 h_1 + m_3 h_3 = m_4 h_4 $$\n",
    "\n",
    "$$ h_4 = \\frac{m_1 h_1 + m_3 h_3}{m_4} $$"
   ]
  },
  {
   "cell_type": "code",
   "execution_count": 74,
   "metadata": {},
   "outputs": [
    {
     "name": "stdout",
     "output_type": "stream",
     "text": [
      "h4 = 2837.38 kJ/kg\n"
     ]
    }
   ],
   "source": [
    "m1 = 5 # kg/s\n",
    "m3 = m4 - m1\n",
    "\n",
    "h4 = (m1*h1 + m3*h3)/m4\n",
    "\n",
    "print('h4 = %s kJ/kg'%round(h4/1000,2))"
   ]
  },
  {
   "cell_type": "markdown",
   "metadata": {},
   "source": [
    "$$ Q_F = m_4 (h_5 - h_4) $$"
   ]
  },
  {
   "cell_type": "code",
   "execution_count": 75,
   "metadata": {},
   "outputs": [
    {
     "name": "stdout",
     "output_type": "stream",
     "text": [
      "QF = -3072.03 kJ/s\n"
     ]
    }
   ],
   "source": [
    "QF = m4*(h4 - h5)\n",
    "\n",
    "print('QF = %s kJ/s'%round(QF/1000,2))"
   ]
  },
  {
   "cell_type": "markdown",
   "metadata": {},
   "source": [
    "$$ \\Delta S_{turb} = m_4 (s_6 - s_5) $$"
   ]
  },
  {
   "cell_type": "code",
   "execution_count": 76,
   "metadata": {},
   "outputs": [
    {
     "name": "stdout",
     "output_type": "stream",
     "text": [
      "DSturb = 3.50605 kJ/K\n"
     ]
    }
   ],
   "source": [
    "DSturb = m4*(s6 - s5)\n",
    "\n",
    "print('DSturb = %s kJ/K'%round(DSturb/1000,5))"
   ]
  },
  {
   "cell_type": "markdown",
   "metadata": {},
   "source": [
    "$$ \\Delta S_{1-5} = m_1 (s_5 - s_1) $$"
   ]
  },
  {
   "cell_type": "code",
   "execution_count": 77,
   "metadata": {},
   "outputs": [
    {
     "name": "stdout",
     "output_type": "stream",
     "text": [
      "DS15 = 3.58929 kJ/K\n",
      "DS25 = 3.45683 kJ/K\n",
      "DS67 = -63.61328 kJ/K\n"
     ]
    }
   ],
   "source": [
    "DS15 = m1*(s5 - s1)\n",
    "DS25 = m3*(s5 - s2)\n",
    "DS67 = m4*(s7 - s6)\n",
    "print('DS15 = %s kJ/K'%round(DS15/1000,5))\n",
    "print('DS25 = %s kJ/K'%round(DS25/1000,5))\n",
    "print('DS67 = %s kJ/K'%round(DS67/1000,5))"
   ]
  },
  {
   "cell_type": "markdown",
   "metadata": {},
   "source": [
    "$$ m_4 h_6 + m_8 h_8 = m_4 h_7 + m_8 h_9 $$\n",
    "\n",
    "$$ m_8 (h_8 - h_9) = m_4 (h_7 - h_6) $$\n",
    "\n",
    "$$ m_8 = m_4 \\, \\frac{h_7 - h_6}{h_8 - h_9} $$"
   ]
  },
  {
   "cell_type": "code",
   "execution_count": 78,
   "metadata": {},
   "outputs": [
    {
     "name": "stdout",
     "output_type": "stream",
     "text": [
      "m8 = 88.435 kg\n"
     ]
    }
   ],
   "source": [
    "m8 = m4 * (h7 - h6)/(h8 - h9)\n",
    "print('m8 = %s kg'%round(m8,3))"
   ]
  },
  {
   "cell_type": "markdown",
   "metadata": {},
   "source": [
    "$$ \\Delta S_{8-9} = m_8 (s_9 - s_8) $$"
   ]
  },
  {
   "cell_type": "code",
   "execution_count": 79,
   "metadata": {},
   "outputs": [
    {
     "name": "stdout",
     "output_type": "stream",
     "text": [
      "DS89 = 68.89808 kJ/K\n"
     ]
    }
   ],
   "source": [
    "DS89 = m8*(s9 - s8)\n",
    "print('DS89 = %s kJ/K'%round(DS89/1000,5))"
   ]
  },
  {
   "cell_type": "markdown",
   "metadata": {},
   "source": [
    "$$ \\Delta S_F = \\frac{Q_F}{T_F} $$"
   ]
  },
  {
   "cell_type": "code",
   "execution_count": 80,
   "metadata": {},
   "outputs": [
    {
     "name": "stdout",
     "output_type": "stream",
     "text": [
      "DSF = -3.41337 kJ/K\n"
     ]
    }
   ],
   "source": [
    "TF = 900 # K\n",
    "\n",
    "DSF = QF/TF\n",
    "print('DSF = %s kJ/K'%round(DSF/1000,5))"
   ]
  },
  {
   "cell_type": "markdown",
   "metadata": {},
   "source": [
    "$$ \\Delta S_u = \\Delta S_{turb} + \\Delta S_{1-5} + \\Delta S_{2-5} + \\Delta S_{6-7} + \\Delta S_{8-9} + \\Delta S_F $$"
   ]
  },
  {
   "cell_type": "code",
   "execution_count": 81,
   "metadata": {},
   "outputs": [
    {
     "name": "stdout",
     "output_type": "stream",
     "text": [
      "DSu = 12.42359 kJ/K\n"
     ]
    }
   ],
   "source": [
    "DSu = DSturb + DS15 + DS25 + DS67 + DS89 + DSF\n",
    "print('DSu = %s kJ/K'%round(DSu/1000,5))"
   ]
  },
  {
   "cell_type": "markdown",
   "metadata": {},
   "source": [
    "$s_5 = s_{6rev}$\n",
    "\n",
    "$$ x_{6rev} = \\frac{s_{6rev} - s'}{s'' - s'} $$"
   ]
  },
  {
   "cell_type": "code",
   "execution_count": 82,
   "metadata": {},
   "outputs": [
    {
     "name": "stdout",
     "output_type": "stream",
     "text": [
      "x6rev = 0.9449\n"
     ]
    }
   ],
   "source": [
    "s6rev = s5\n",
    "\n",
    "x6rev = cp.PropsSI('Q','P',P6,'S',s6rev,'Water')\n",
    "\n",
    "print('x6rev = %s'%round(x6rev,4))"
   ]
  },
  {
   "cell_type": "markdown",
   "metadata": {},
   "source": [
    "$$ h_{6rev} = x_{6rev} \\, (h'' - h') + h' $$"
   ]
  },
  {
   "cell_type": "code",
   "execution_count": 83,
   "metadata": {},
   "outputs": [
    {
     "name": "stdout",
     "output_type": "stream",
     "text": [
      "h6rev = 2508.27 kJ/kg\n"
     ]
    }
   ],
   "source": [
    "h6rev = cp.PropsSI('H','P',P6,'S',s6rev,'Water')\n",
    "print('h6rev = %s kJ/kg'%round(h6rev/1000,2))"
   ]
  },
  {
   "cell_type": "markdown",
   "metadata": {},
   "source": [
    "$$ \\eta_{iso} = \\frac{h_5 - h_6}{h_5 - h_{6rev}} $$"
   ]
  },
  {
   "cell_type": "code",
   "execution_count": 84,
   "metadata": {},
   "outputs": [
    {
     "name": "stdout",
     "output_type": "stream",
     "text": [
      "eta_iso = 0.8034\n"
     ]
    }
   ],
   "source": [
    "eta_iso = (h5 - h6)/(h5 - h6rev)\n",
    "print('eta_iso = %s'%round(eta_iso,4))"
   ]
  },
  {
   "cell_type": "markdown",
   "metadata": {},
   "source": [
    "$$ W_{perd} = T_0 \\Delta S_u $$"
   ]
  },
  {
   "cell_type": "code",
   "execution_count": 85,
   "metadata": {},
   "outputs": [
    {
     "name": "stdout",
     "output_type": "stream",
     "text": [
      "Wperd = 3727.08 kW\n"
     ]
    }
   ],
   "source": [
    "T0 = 300 # K\n",
    "\n",
    "Wperd = T0*DSu\n",
    "print('Wperd = %s kW'%round(Wperd/1000,2))"
   ]
  },
  {
   "cell_type": "markdown",
   "metadata": {},
   "source": [
    "$$ \\eta_{exT} = \\frac{Prod}{|Cons|} = \\frac{W}{|\\Delta E_{x5-6}|} = \\frac{W}{|\\Delta H_{5-6} - T_0 \\Delta S_{turb}|} $$"
   ]
  },
  {
   "cell_type": "code",
   "execution_count": 86,
   "metadata": {},
   "outputs": [],
   "source": [
    "m2 = m3\n",
    "DEx15 = m1*( (h5 - h1) - T0*(s5 - s1) )\n",
    "DEx25 = m2*( (h5 - h2) - T0*(s5 - s2) )\n",
    "DEx67 = m4*( (h7 - h6) - T0*(s7 - s6) )\n",
    "DEx89 = m8*( (h9 - h8) - T0*(s9 - s8) )\n",
    "DEx56 = m4*( (h6 - h5) - T0*(s6 - s5) )"
   ]
  },
  {
   "cell_type": "code",
   "execution_count": 87,
   "metadata": {},
   "outputs": [
    {
     "name": "stdout",
     "output_type": "stream",
     "text": [
      "DEx15 = 828.59 kJ/K\n",
      "DEx25 = 129.6 kJ/K\n",
      "DEx67 = -3117.49 kJ/K\n",
      "DEx89 = 1532.05 kJ/K\n",
      "DEx56 = -6051.81 kJ/K\n"
     ]
    }
   ],
   "source": [
    "print('DEx15 = %s kJ/K'%round(DEx15/1000,2))\n",
    "print('DEx25 = %s kJ/K'%round(DEx25/1000,2))\n",
    "print('DEx67 = %s kJ/K'%round(DEx67/1000,2))\n",
    "print('DEx89 = %s kJ/K'%round(DEx89/1000,2))\n",
    "print('DEx56 = %s kJ/K'%round(DEx56/1000,2))"
   ]
  },
  {
   "cell_type": "code",
   "execution_count": 88,
   "metadata": {},
   "outputs": [
    {
     "name": "stdout",
     "output_type": "stream",
     "text": [
      "eta_exTurb = 0.83\n"
     ]
    }
   ],
   "source": [
    "eta_exTurb = W/abs(DEx56)\n",
    "print('eta_exTurb = %s'%round(eta_exTurb,2))"
   ]
  },
  {
   "cell_type": "markdown",
   "metadata": {},
   "source": [
    "$$ \\eta_{ex} = \\frac{ \\Delta Ex_{1-5} + \\Delta Ex_{2-5} + \\Delta Ex_{8-9} + W }{ |\\Delta Ex_{6-7} + Q_F + \\Delta Ex_{5-6}| } $$"
   ]
  },
  {
   "cell_type": "code",
   "execution_count": 99,
   "metadata": {},
   "outputs": [
    {
     "name": "stdout",
     "output_type": "stream",
     "text": [
      "eta_ex = 0.612\n"
     ]
    }
   ],
   "source": [
    "eta_ex = ( DEx15 + DEx25 + DEx89 + W )/ abs(DEx67 + QF + DEx56)\n",
    "\n",
    "print('eta_ex = %s'%round(eta_ex,3))"
   ]
  },
  {
   "cell_type": "code",
   "execution_count": null,
   "metadata": {},
   "outputs": [],
   "source": []
  }
 ],
 "metadata": {
  "kernelspec": {
   "display_name": "Python 3",
   "language": "python",
   "name": "python3"
  },
  "language_info": {
   "codemirror_mode": {
    "name": "ipython",
    "version": 3
   },
   "file_extension": ".py",
   "mimetype": "text/x-python",
   "name": "python",
   "nbconvert_exporter": "python",
   "pygments_lexer": "ipython3",
   "version": "3.7.3"
  }
 },
 "nbformat": 4,
 "nbformat_minor": 2
}
