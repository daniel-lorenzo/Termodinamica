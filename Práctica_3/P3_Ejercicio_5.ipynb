{
  "nbformat": 4,
  "nbformat_minor": 0,
  "metadata": {
    "colab": {
      "provenance": [],
      "authorship_tag": "ABX9TyOsc3tpHZAe66DG6fBP46n7",
      "include_colab_link": true
    },
    "kernelspec": {
      "name": "python3",
      "display_name": "Python 3"
    },
    "language_info": {
      "name": "python"
    }
  },
  "cells": [
    {
      "cell_type": "markdown",
      "metadata": {
        "id": "view-in-github",
        "colab_type": "text"
      },
      "source": [
        "<a href=\"https://colab.research.google.com/github/daniel-lorenzo/Termodinamica/blob/master/Pr%C3%A1ctica_3/P3_Ejercicio_5.ipynb\" target=\"_parent\"><img src=\"https://colab.research.google.com/assets/colab-badge.svg\" alt=\"Open In Colab\"/></a>"
      ]
    },
    {
      "cell_type": "markdown",
      "source": [
        "# Ejercicio 5\n",
        "Después que se abre la válvula y para un nuevo estado de equilibrio termodinámico, determinar:\n",
        "1. $X$ (titulo del vapor en el estado final)\n",
        "2. $V_{final}$"
      ],
      "metadata": {
        "id": "nlWHuxsNxRfr"
      }
    },
    {
      "cell_type": "markdown",
      "source": [
        "![image.png](data:image/png;base64,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)"
      ],
      "metadata": {
        "id": "hpQ6TaTDxz-j"
      }
    },
    {
      "cell_type": "markdown",
      "source": [
        "**Guía:**     \n",
        "En este caso vamos a trabajar con Vapor de $H_2O$, por lo tanto con la tabla de vapor.\n",
        "Para saber $X_f$ (estado final del vapor), debemos hallar alguno de sus parámetros finales $(h,u,v)$ y para hallar $V_f$ debo conocer la masa total, en $A$ la tengo y en $B$ necesito el $v_{iB}$ (específ.), el cual calculo con la tabla, como así también $u_{iA}$ y $u_{iB}$ (específ.).\n",
        "\n",
        "Luego planteo el 1er principio para sistemas Cerrados, salvo la indeterminación con la definición de $H$, hallamos $h_f$, con $h_f$ y $P_f \\rightarrow u_f \\rightarrow X_f$ (si la hay) $\\rightarrow v_f$ y $V_f$."
      ],
      "metadata": {
        "id": "SMpZ-r2Qx3OB"
      }
    },
    {
      "cell_type": "markdown",
      "source": [
        "## Solución"
      ],
      "metadata": {
        "id": "66Yy76GczEMz"
      }
    },
    {
      "cell_type": "markdown",
      "source": [
        "### Datos:     \n",
        "\n",
        "**Cilindro A:**     \n",
        "$m_{iA} = 3 \\; \\mathrm{kg}$    \n",
        "$T_{iA} = 300^\\circ \\mathrm{C}$     \n",
        "$P_{A} = 10 \\; \\mathrm{bar}$    \n",
        "Vapor de agua\n",
        "\n",
        "**Ciclindro B**   \n",
        "$P_B = 5 \\; \\mathrm{bar}$     \n",
        "$X_{iB} = 0,7$    \n",
        "$V_{iB} = 0,9 \\; \\mathrm{m^3}$    \n",
        "Vapor de agua\n",
        "\n",
        "---"
      ],
      "metadata": {
        "id": "h4iXAQHYeoJm"
      }
    },
    {
      "cell_type": "markdown",
      "source": [
        "### 1) Título del vapor en el estado final"
      ],
      "metadata": {
        "id": "OzaRjgBkgQcR"
      }
    },
    {
      "cell_type": "markdown",
      "source": [
        "**Cálculo del volumen inicial de A**\n",
        "\n",
        "De la tabla con presión y temperatura obtenemos el volumen específico inicial en A   \n",
        "$\\left\\{\n",
        "\\begin{array}{l}\n",
        "P_A = 1000 \\; \\mathrm{kPa}\\\\\n",
        "T_{iA} = 573,15 \\; \\mathrm{K}\n",
        "\\end{array}\n",
        "\\right. \\quad \\rightarrow \\quad v_{iA} = 0,25798 \\; \\mathrm{m^3/kg}$"
      ],
      "metadata": {
        "id": "xZL4vaMunDI2"
      }
    },
    {
      "cell_type": "markdown",
      "source": [
        "**Volumen inicial**\n",
        "$$V_{iA} = m_{iA} v_{iA}$$"
      ],
      "metadata": {
        "id": "mg6VirND0K0c"
      }
    },
    {
      "cell_type": "markdown",
      "source": [
        "$$V_{iA} = \\mathrm{(3 \\; kg)(0,25798 \\; m^3/kg) = 0,77394 \\; m^3}$$"
      ],
      "metadata": {
        "id": "3ZwgjBUo0XBO"
      }
    },
    {
      "cell_type": "markdown",
      "source": [
        "**Masa inicial en B**     \n",
        "De tabla, con $P_B$"
      ],
      "metadata": {
        "id": "MF-NsQ5x1JLl"
      }
    },
    {
      "cell_type": "markdown",
      "source": [
        "$\\left\\{\n",
        "\\begin{array}{l}\n",
        "v' = 0,001093 \\; \\mathrm{m^3/kg}\\\\\n",
        "v'' = 0,3747 \\; \\mathrm{m^3/kg}\n",
        "\\end{array}\n",
        "\\right.$"
      ],
      "metadata": {
        "id": "u0bfQ--R1sZg"
      }
    },
    {
      "cell_type": "markdown",
      "source": [
        "$$v_{iB} = x_{iB}(v'' - v') + v'$$"
      ],
      "metadata": {
        "id": "P0YBHbVm2Ecp"
      }
    },
    {
      "cell_type": "markdown",
      "source": [
        "$$v_{iB} = 0,7 (0,3747 - 0,001093) + 0,001093$$"
      ],
      "metadata": {
        "id": "fJs5rReB2v5M"
      }
    },
    {
      "cell_type": "markdown",
      "source": [
        "$$v_{iB} = 0,2626179 \\; \\mathrm{m^3/kg}$$"
      ],
      "metadata": {
        "id": "R78YqKMv3W7c"
      }
    },
    {
      "cell_type": "markdown",
      "source": [
        "**Masa inicial en B**\n",
        "$$m_{iB} = \\frac{V_{iB}}{v_{iB}}$$"
      ],
      "metadata": {
        "id": "IcIabeAI4AY1"
      }
    },
    {
      "cell_type": "markdown",
      "source": [
        "$$m_{iB} = \\mathrm{\\frac{0,9 \\; m^3}{0,2626179 \\; m^3/kg} \\approx 3,427 \\; kg}$$"
      ],
      "metadata": {
        "id": "WKRgjsgn4OQE"
      }
    },
    {
      "cell_type": "markdown",
      "source": [
        "**Masa total**\n",
        "$$m_{tot} = m_{iA} + m_{iB}$$"
      ],
      "metadata": {
        "id": "8mk4wIoY4z5C"
      }
    },
    {
      "cell_type": "markdown",
      "source": [
        "$$m_{tot} = \\mathrm{3 \\; kg + 3,427 \\; kg \\approx 6,427 \\; kg}$$"
      ],
      "metadata": {
        "id": "VDrh5yDW493i"
      }
    },
    {
      "cell_type": "markdown",
      "source": [
        "Primer principio\n",
        "$$Q = \\Delta U + W_{\\Delta V}$$"
      ],
      "metadata": {
        "id": "AlO32RGg-rlm"
      }
    },
    {
      "cell_type": "markdown",
      "source": [
        "Es un proceso adiabático\n",
        "$$0 = \\Delta U + W_{\\Delta V}$$"
      ],
      "metadata": {
        "id": "HXIrikNTchMg"
      }
    },
    {
      "cell_type": "markdown",
      "source": [
        "Definición de entalpía\n",
        "$$\\Delta H = \\Delta U + W_{\\Delta V} = 0$$"
      ],
      "metadata": {
        "id": "rMhCFGowoGk_"
      }
    },
    {
      "cell_type": "markdown",
      "source": [
        "$$\\Delta H = m_t(h_f- h_i)$$"
      ],
      "metadata": {
        "id": "NcJyV0MeoTxX"
      }
    },
    {
      "cell_type": "markdown",
      "source": [
        "$$\\Delta H = m_t h_f - m_t h_i$$"
      ],
      "metadata": {
        "id": "HSGz650Oo2EN"
      }
    },
    {
      "cell_type": "markdown",
      "source": [
        "$$\\Delta H = m_t h_f - (m_{iA} h_{iA} + m_{iB}h_{iB})$$"
      ],
      "metadata": {
        "id": "R8I3aS1Oo7bZ"
      }
    },
    {
      "cell_type": "markdown",
      "source": [
        "$$0 = m_t h_f - (m_{iA} h_{iA} + m_{iB}h_{iB})$$"
      ],
      "metadata": {
        "id": "yavdAJ00okPL"
      }
    },
    {
      "cell_type": "markdown",
      "source": [
        "Entalpía específica final:"
      ],
      "metadata": {
        "id": "Ov_2CSaHqCNR"
      }
    },
    {
      "cell_type": "markdown",
      "source": [
        "$$\\frac{m_{iA} h_{iA} + m_{iB}h_{iB}}{m_t} = h_f$$"
      ],
      "metadata": {
        "id": "fQD5WvGTprj3"
      }
    },
    {
      "cell_type": "markdown",
      "source": [
        "De la tabla con presión y temperatura obtenemos\n",
        "   \n",
        "$\\left\\{\n",
        "\\begin{array}{l}\n",
        "P_A = 1000 \\; \\mathrm{kPa}\\\\\n",
        "T_{iA} = 573,15 \\; \\mathrm{K}\n",
        "\\end{array}\n",
        "\\right. \\quad \\rightarrow \\quad h_{iA} = 3052,14 \\; \\mathrm{kJ/kg}$"
      ],
      "metadata": {
        "id": "F73q3NyU54NL"
      }
    },
    {
      "cell_type": "markdown",
      "source": [
        "$\\left\\{\n",
        "\\begin{array}{l}\n",
        "P_B = 500 \\; kPa \\\\\n",
        "X_{iB} = 0,7\n",
        "\\end{array}\n",
        "\\right. \\quad \\rightarrow \\quad\n",
        "\\begin{array}{l}\n",
        "h' = 640,12 \\; \\mathrm{kJ/kg} \\\\\n",
        "h'' = 2747,54 \\; \\mathrm{kJ/kg}\n",
        "\\end{array}$"
      ],
      "metadata": {
        "id": "1gtme-tw60GA"
      }
    },
    {
      "cell_type": "markdown",
      "source": [
        "$$h_{iB} = x_{iB}(h'' - h') + h'$$"
      ],
      "metadata": {
        "id": "ZJ7EdCHC8YZ2"
      }
    },
    {
      "cell_type": "markdown",
      "source": [
        "$$h_{iB} = 0,7 (2747,54 - 640,12) + 640,12$$"
      ],
      "metadata": {
        "id": "BzH-uZtz8ouD"
      }
    },
    {
      "cell_type": "markdown",
      "source": [
        "$$h_{iB} = 2115,314 \\; \\mathrm{kJ/kg}$$"
      ],
      "metadata": {
        "id": "EPdK7Wan854Q"
      }
    },
    {
      "cell_type": "markdown",
      "source": [
        "$$h_f = \\mathrm{\\frac{(3 \\; kg)(3052,14 \\; kJ/kg) + (3,427 \\; kg)(2115,314 \\; kJ/kg)}{6,427 \\; kg}}$$"
      ],
      "metadata": {
        "id": "ma2oVBKg9Wif"
      }
    },
    {
      "cell_type": "markdown",
      "source": [
        "$$h_f \\approx 2552,606 \\; \\mathrm{kJ/kg}$$"
      ],
      "metadata": {
        "id": "_ycSkd-e91h4"
      }
    },
    {
      "cell_type": "code",
      "execution_count": null,
      "metadata": {
        "colab": {
          "base_uri": "https://localhost:8080/"
        },
        "id": "Cfwqe0cZxGLT",
        "outputId": "a7babacf-4ccc-42e5-97ec-c223badcb9ba"
      },
      "outputs": [
        {
          "output_type": "stream",
          "name": "stdout",
          "text": [
            "Requirement already satisfied: CoolProp in /usr/local/lib/python3.10/dist-packages (6.5.0.post1)\n"
          ]
        }
      ],
      "source": [
        "!pip install CoolProp; # (instala biblioteca CoolProp en CoLab)\n",
        "import CoolProp.CoolProp as cp"
      ]
    },
    {
      "cell_type": "code",
      "source": [
        "# Datos:\n",
        "# Cilindro A\n",
        "m_iA = 3              # [kg]\n",
        "T_iA = 300 + 273.15   # [K]\n",
        "P_A = 10e5            # [Pa]\n",
        "# Cilindro B\n",
        "P_B =  5e5            # [Pa]\n",
        "X_iB = 0.7\n",
        "V_iB = 0.9            # [m^3]"
      ],
      "metadata": {
        "id": "vFG9AAQ41mvi"
      },
      "execution_count": null,
      "outputs": []
    },
    {
      "cell_type": "code",
      "source": [
        "### Cálculo del volumen inicial de A\n",
        "# Volumen específico inicial en A\n",
        "v_iA = 1/cp.PropsSI('D','P',P_A,'T',T_iA,'Water')\n",
        "# Volumen inicial en A\n",
        "V_iA = m_iA*v_iA"
      ],
      "metadata": {
        "id": "4NCw4-iC5P5C"
      },
      "execution_count": null,
      "outputs": []
    },
    {
      "cell_type": "code",
      "source": [
        "#@title Volumen inicial en A\n",
        "print(\"Volumen inicial en A\")\n",
        "print(\"V_iA = %.4f [m³]\"%V_iA)"
      ],
      "metadata": {
        "colab": {
          "base_uri": "https://localhost:8080/"
        },
        "id": "IVtCbCXM6a1j",
        "outputId": "c1e35502-c2d8-4e2e-cc1e-fe4aa49d0287",
        "cellView": "form"
      },
      "execution_count": null,
      "outputs": [
        {
          "output_type": "stream",
          "name": "stdout",
          "text": [
            "Volumen inicial en A\n",
            "V_iA = 0.7740 [m³]\n"
          ]
        }
      ]
    },
    {
      "cell_type": "markdown",
      "source": [
        "Volumen específico inicial en B\n",
        "$$v_{iB} = x_{iB}(v'' - v') + v'$$"
      ],
      "metadata": {
        "id": "58wwLByJlceP"
      }
    },
    {
      "cell_type": "markdown",
      "source": [
        "Masa inicial en B\n",
        "$$m_{iB} = \\frac{V_{iB}}{v_{iB}}$$"
      ],
      "metadata": {
        "id": "48sC5Gt-l0UR"
      }
    },
    {
      "cell_type": "code",
      "source": [
        "### Calculo de la masa inicial en B\n",
        "vp1 = 1/cp.PropsSI('D','P',P_B,'Q',0,'Water') # (v')\n",
        "vp2 = 1/cp.PropsSI('D','P',P_B,'Q',1,'Water') # (v'')\n",
        "# Volumen específico inicial en B\n",
        "v_iB = X_iB*(vp2 - vp1) + vp1\n",
        "# Masa inicial en B\n",
        "m_iB = V_iB/v_iB"
      ],
      "metadata": {
        "id": "XbQCkCyB67jz"
      },
      "execution_count": null,
      "outputs": []
    },
    {
      "cell_type": "code",
      "source": [
        "#@title Masa inicial en B\n",
        "print(\"Masa inicial en B\")\n",
        "print(\"m_iB = %.3f [kg]\"%m_iB)"
      ],
      "metadata": {
        "colab": {
          "base_uri": "https://localhost:8080/"
        },
        "id": "S7wRcpDj9dc_",
        "outputId": "072e9ef9-d6bb-473d-b552-bba3ffc06441",
        "cellView": "form"
      },
      "execution_count": null,
      "outputs": [
        {
          "output_type": "stream",
          "name": "stdout",
          "text": [
            "Masa inicial en B\n",
            "m_iB = 3.426 [kg]\n"
          ]
        }
      ]
    },
    {
      "cell_type": "code",
      "source": [
        "# Consultamos la fase inicial en A\n",
        "cp.PhaseSI('P',P_A,'T',T_iA,'Water')"
      ],
      "metadata": {
        "colab": {
          "base_uri": "https://localhost:8080/",
          "height": 36
        },
        "id": "xvJybyTL5s01",
        "outputId": "db1f6c4b-939f-4f37-ee2e-dd8ec7208f2d"
      },
      "execution_count": null,
      "outputs": [
        {
          "output_type": "execute_result",
          "data": {
            "text/plain": [
              "'gas'"
            ],
            "application/vnd.google.colaboratory.intrinsic+json": {
              "type": "string"
            }
          },
          "metadata": {},
          "execution_count": 35
        }
      ]
    },
    {
      "cell_type": "code",
      "source": [
        "# Temperatura inicial en B\n",
        "T_iB = cp.PropsSI('T','P',P_B,'Q',X_iB,'Water')"
      ],
      "metadata": {
        "id": "Zx3oCOgIPM44"
      },
      "execution_count": null,
      "outputs": []
    },
    {
      "cell_type": "code",
      "source": [
        "T_iB - 273.15"
      ],
      "metadata": {
        "colab": {
          "base_uri": "https://localhost:8080/"
        },
        "id": "wi2KsFXKPnGc",
        "outputId": "487b6582-d936-48de-fe6b-f15d0ec6e5a0"
      },
      "execution_count": null,
      "outputs": [
        {
          "output_type": "execute_result",
          "data": {
            "text/plain": [
              "151.8310791030678"
            ]
          },
          "metadata": {},
          "execution_count": 37
        }
      ]
    },
    {
      "cell_type": "code",
      "source": [
        "# Masa total\n",
        "m_tot = m_iA + m_iB\n",
        "# Presión final\n",
        "P_f = P_B"
      ],
      "metadata": {
        "id": "hOrsAqK3m3pK"
      },
      "execution_count": null,
      "outputs": []
    },
    {
      "cell_type": "markdown",
      "source": [
        "$$\\Delta U = - W_{\\Delta V}$$"
      ],
      "metadata": {
        "id": "yBqxkjUdcn02"
      }
    },
    {
      "cell_type": "code",
      "source": [
        "h_iA = cp.PropsSI('H','P',P_A,'T',T_iA,'Water')\n",
        "h_iB = cp.PropsSI('H','P',P_B,'Q',X_iB,'Water')"
      ],
      "metadata": {
        "id": "U_GfYhzYrQER"
      },
      "execution_count": null,
      "outputs": []
    },
    {
      "cell_type": "code",
      "source": [
        "# Entalpía específica final\n",
        "h_f = (m_iA*h_iA + m_iB*h_iB)/m_tot"
      ],
      "metadata": {
        "id": "D2WNjJ1CrUww"
      },
      "execution_count": null,
      "outputs": []
    },
    {
      "cell_type": "code",
      "source": [
        "cp.PhaseSI('P',P_f,'H',h_f,'Water')"
      ],
      "metadata": {
        "colab": {
          "base_uri": "https://localhost:8080/",
          "height": 36
        },
        "id": "9gTd33usrZ7c",
        "outputId": "4ce901a8-1b1d-4c9f-c95c-018727574ab3"
      },
      "execution_count": null,
      "outputs": [
        {
          "output_type": "execute_result",
          "data": {
            "text/plain": [
              "'twophase'"
            ],
            "application/vnd.google.colaboratory.intrinsic+json": {
              "type": "string"
            }
          },
          "metadata": {},
          "execution_count": 45
        }
      ]
    },
    {
      "cell_type": "code",
      "source": [
        "cp.PropsSI('Q','P',P_f,'H',h_f,'Water')"
      ],
      "metadata": {
        "colab": {
          "base_uri": "https://localhost:8080/"
        },
        "id": "ntxDMRXTr_3q",
        "outputId": "e5fa91f1-95f8-4525-ce9b-4332eb8a7bb6"
      },
      "execution_count": null,
      "outputs": [
        {
          "output_type": "execute_result",
          "data": {
            "text/plain": [
              "0.9072736484165642"
            ]
          },
          "metadata": {},
          "execution_count": 46
        }
      ]
    },
    {
      "cell_type": "code",
      "source": [
        "v_f = 1/cp.PropsSI('D','P',P_f,'H',h_f,'Water')\n",
        "V_f = m_tot*v_f\n",
        "V_f"
      ],
      "metadata": {
        "colab": {
          "base_uri": "https://localhost:8080/"
        },
        "id": "gjOIdKxBg1wu",
        "outputId": "942c512b-d86a-4528-ffa4-d1254f912b37"
      },
      "execution_count": null,
      "outputs": [
        {
          "output_type": "execute_result",
          "data": {
            "text/plain": [
              "2.185844658772344"
            ]
          },
          "metadata": {},
          "execution_count": 47
        }
      ]
    },
    {
      "cell_type": "code",
      "source": [
        "W_ΔV = P_f*(V_f - V_iB)"
      ],
      "metadata": {
        "colab": {
          "base_uri": "https://localhost:8080/"
        },
        "id": "OSae3ND7hptd",
        "outputId": "97c3a552-4998-4581-a7b2-6e6f196b04a1"
      },
      "execution_count": null,
      "outputs": [
        {
          "output_type": "execute_result",
          "data": {
            "text/plain": [
              "1.2858446587723442"
            ]
          },
          "metadata": {},
          "execution_count": 48
        }
      ]
    },
    {
      "cell_type": "code",
      "source": [
        "# Energía interna específica final\n",
        "u_f = cp.PropsSI('U','P',P_f,'H',h_f,'Water')\n",
        "\n",
        "# Energía interna inicial en A\n",
        "U_iA = u_iA * m_iA\n",
        "# Energía interna inicial en B\n",
        "U_iB = u_iB * m_iB"
      ],
      "metadata": {
        "id": "EVetlfss-bKE"
      },
      "execution_count": null,
      "outputs": []
    },
    {
      "cell_type": "code",
      "source": [
        "# Energía interna inicial\n",
        "U_i = U_iA + U_iB\n",
        "# Energía interna final\n",
        "U_f = u_f*m_tot"
      ],
      "metadata": {
        "id": "Ou05TfBNDBAX"
      },
      "execution_count": null,
      "outputs": []
    },
    {
      "cell_type": "code",
      "source": [
        "# Variación de energía interna\n",
        "ΔU = U_f - U_i"
      ],
      "metadata": {
        "id": "6xoVzkrDsX-r"
      },
      "execution_count": null,
      "outputs": []
    },
    {
      "cell_type": "code",
      "source": [
        "# Trabajo por variación de volumen\n",
        "W_ΔV = ΔU"
      ],
      "metadata": {
        "id": "daW0AyvxskK1"
      },
      "execution_count": null,
      "outputs": []
    },
    {
      "cell_type": "markdown",
      "source": [
        "$$h_f = x (h'' - h') + h'$$"
      ],
      "metadata": {
        "id": "F2ieKQqLI54a"
      }
    },
    {
      "cell_type": "markdown",
      "source": [
        "Título del vapor en estado final\n",
        "$$x_f = \\frac{h_f - h'}{h'' -h'}$$"
      ],
      "metadata": {
        "id": "pd3uheOoJNWI"
      }
    },
    {
      "cell_type": "markdown",
      "source": [
        "Trabajo por variación de volumen\n",
        "$$W_{\\Delta V} = P_P (V_f - V_i)$$"
      ],
      "metadata": {
        "id": "jzzBvlzNHSwb"
      }
    },
    {
      "cell_type": "code",
      "source": [
        "x_f = cp.PropsSI('Q','P',P_f,'H',h_f,'Water')"
      ],
      "metadata": {
        "id": "tWkQfNZTsmV5"
      },
      "execution_count": null,
      "outputs": []
    },
    {
      "cell_type": "code",
      "source": [
        "x_f"
      ],
      "metadata": {
        "colab": {
          "base_uri": "https://localhost:8080/"
        },
        "id": "bK5PrXLlK8UD",
        "outputId": "3aa97fd7-697b-439e-e9b6-5838eabcd6a8"
      },
      "execution_count": null,
      "outputs": [
        {
          "output_type": "execute_result",
          "data": {
            "text/plain": [
              "0.9072736484165642"
            ]
          },
          "metadata": {},
          "execution_count": 21
        }
      ]
    },
    {
      "cell_type": "code",
      "source": [
        "hp1 = cp.PropsSI('H','P',P_f,'Q',0,'Water')\n",
        "hp2 = cp.PropsSI('H','P',P_f,'Q',1,'Water')\n",
        "\n",
        "x_f = (h_f - hp1)/(hp2 - hp1)"
      ],
      "metadata": {
        "id": "TX_gp1h5K9cZ"
      },
      "execution_count": null,
      "outputs": []
    },
    {
      "cell_type": "code",
      "source": [
        "x_f"
      ],
      "metadata": {
        "colab": {
          "base_uri": "https://localhost:8080/"
        },
        "id": "FIAQjWOyLgfm",
        "outputId": "02704201-edbf-47e6-ccf3-c7f1aa75cd8a"
      },
      "execution_count": null,
      "outputs": [
        {
          "output_type": "execute_result",
          "data": {
            "text/plain": [
              "0.9072736484165643"
            ]
          },
          "metadata": {},
          "execution_count": 23
        }
      ]
    },
    {
      "cell_type": "code",
      "source": [
        "T_f = cp.PropsSI('T','P',P_f,'H',h_f,'Water')\n",
        "T_f - 273.15"
      ],
      "metadata": {
        "colab": {
          "base_uri": "https://localhost:8080/"
        },
        "id": "dSCZLISEMET0",
        "outputId": "5831c23f-75fd-4423-c178-ef61ee9cfc38"
      },
      "execution_count": null,
      "outputs": [
        {
          "output_type": "execute_result",
          "data": {
            "text/plain": [
              "151.83107910306785"
            ]
          },
          "metadata": {},
          "execution_count": 26
        }
      ]
    },
    {
      "cell_type": "code",
      "source": [
        "%reset -s -f"
      ],
      "metadata": {
        "id": "v5H9CYyUP-FP"
      },
      "execution_count": null,
      "outputs": []
    },
    {
      "cell_type": "code",
      "source": [],
      "metadata": {
        "id": "HIKX4MpiiW_b"
      },
      "execution_count": null,
      "outputs": []
    }
  ]
}