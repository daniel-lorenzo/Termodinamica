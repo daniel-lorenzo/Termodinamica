{
  "nbformat": 4,
  "nbformat_minor": 0,
  "metadata": {
    "colab": {
      "provenance": [],
      "authorship_tag": "ABX9TyOiOvM1jSuC4M95ryHQucug",
      "include_colab_link": true
    },
    "kernelspec": {
      "name": "python3",
      "display_name": "Python 3"
    },
    "language_info": {
      "name": "python"
    }
  },
  "cells": [
    {
      "cell_type": "markdown",
      "metadata": {
        "id": "view-in-github",
        "colab_type": "text"
      },
      "source": [
        "<a href=\"https://colab.research.google.com/github/daniel-lorenzo/Termodinamica/blob/master/Pr%C3%A1ctica_3/P3_Ejercicio_2.ipynb\" target=\"_parent\"><img src=\"https://colab.research.google.com/assets/colab-badge.svg\" alt=\"Open In Colab\"/></a>"
      ]
    },
    {
      "cell_type": "markdown",
      "source": [
        "# Ejercicio 2\n",
        "Una masa de aire se calienta de 57°C hasta 87°C de dos maneras diferentes a saber:\n",
        "1. A presión cte. de 3 bar (absoluta).\n",
        "2. A volumen cte. de 3 m³.\n",
        "3. Conclusiones\n",
        "\n",
        "Suponiendo que se comporte como un gas ideal, determinar cuál de los dos procesos requiere mayor energía térmica por unidad de masa."
      ],
      "metadata": {
        "id": "Vz7g_neYg7sW"
      }
    },
    {
      "cell_type": "markdown",
      "source": [
        "---\n",
        "**Guía:**\n",
        "\n",
        "Acá también deben plantear el primer principio. para sistemas cerrados en ambos casos teniendo\n",
        "en cuenta dos salvedades:\n",
        "1. Que es por unidad de masa.\n",
        "2. La parte 1) la deberían hacer de dos maneras posibles, una planteando la ecuación\n",
        "original y la otra planteando el concepto de Entalpía (porque es a presión cte.) y comparar\n",
        "los resultados.\n",
        "3. Desarrollar las conclusiones."
      ],
      "metadata": {
        "id": "RfmtVI2MhPoT"
      }
    },
    {
      "cell_type": "markdown",
      "source": [
        "## Solución"
      ],
      "metadata": {
        "id": "ia0YhjuVkNyA"
      }
    },
    {
      "cell_type": "markdown",
      "source": [
        "Para determinar cuál de los dos procesos requiere mayor energía térmica por unidad de masa, primero debemos entender la diferencia entre los dos procesos: uno se realiza a presión constante y el otro a volumen constante."
      ],
      "metadata": {
        "id": "HRl5srGtnQyD"
      }
    },
    {
      "cell_type": "markdown",
      "source": [
        "Dado que se nos proporciona la presión constante en el primer proceso (3 bar absoluta), podemos usar la ecuación de la ley de los gases ideales para calcular la energía térmica requerida para este proceso."
      ],
      "metadata": {
        "id": "Z3cZ9onnntG7"
      }
    },
    {
      "cell_type": "markdown",
      "source": [
        "La ecuación de la ley de los gases ideales es:\n",
        "\n",
        "$$PV = mRT$$"
      ],
      "metadata": {
        "id": "p43iAYyCoiBg"
      }
    },
    {
      "cell_type": "markdown",
      "source": [
        "La variación de temperatura\n",
        "$$\\Delta T = (87-57) = 30$$"
      ],
      "metadata": {
        "id": "XS-mECN0rMfi"
      }
    },
    {
      "cell_type": "markdown",
      "source": [
        "a1)\n",
        "$$Q - W = \\Delta U$$"
      ],
      "metadata": {
        "id": "XsW9nVSvuV0X"
      }
    },
    {
      "cell_type": "markdown",
      "source": [
        "$$q = \\Delta u + PV$$"
      ],
      "metadata": {
        "id": "DwLRuKd6JRN1"
      }
    },
    {
      "cell_type": "markdown",
      "source": [
        "$$q = c_v \\Delta T + PV$$"
      ],
      "metadata": {
        "id": "f9afdZZjubIO"
      }
    },
    {
      "cell_type": "markdown",
      "source": [
        "$$q = c_v \\Delta T + RT$$"
      ],
      "metadata": {
        "id": "LBsksBO_ui20"
      }
    },
    {
      "cell_type": "markdown",
      "source": [
        "$$q = (0,7176)(30) + (0,287)(30)$$"
      ],
      "metadata": {
        "id": "k7I1kW1GuofM"
      }
    },
    {
      "cell_type": "markdown",
      "source": [
        "$$q = \\mathrm{30,138 \\; kJ/kg}$$"
      ],
      "metadata": {
        "id": "ulLtfNjDuzE_"
      }
    },
    {
      "cell_type": "markdown",
      "source": [
        "a2)\n",
        "$$q = c_p \\Delta T$$"
      ],
      "metadata": {
        "id": "7cRJk5S_u6re"
      }
    },
    {
      "cell_type": "markdown",
      "source": [
        "$$q = (1,0047)(30) = \\mathrm{30,141 \\; kJ/kg}$$"
      ],
      "metadata": {
        "id": "fsGMg9vAvBWh"
      }
    },
    {
      "cell_type": "markdown",
      "source": [
        "b)\n",
        "$$q = c_v \\Delta T$$"
      ],
      "metadata": {
        "id": "ouxJbgw7vRT1"
      }
    },
    {
      "cell_type": "markdown",
      "source": [
        "$$q = (0,7176) (30) = 21,528 \\; \\mathrm{kJ/kg}$$"
      ],
      "metadata": {
        "id": "CSh4JfdbvWK1"
      }
    },
    {
      "cell_type": "code",
      "execution_count": null,
      "metadata": {
        "id": "QKiJqAhrgvge"
      },
      "outputs": [],
      "source": [
        "T_1 = 57 # [°C]\n",
        "T_2 = 87 # [°C]\n",
        "cv = 0.7176 # [kJ/(kg·K)]\n",
        "R = 0.287 # [kJ/(kg·K)]"
      ]
    },
    {
      "cell_type": "code",
      "source": [
        "ΔT = T_2 - T_1\n",
        "q = cv*ΔT + R*ΔT"
      ],
      "metadata": {
        "id": "ltRaXYjAxLsF"
      },
      "execution_count": null,
      "outputs": []
    },
    {
      "cell_type": "code",
      "source": [
        "print(\"q = %.3f [kJ/kg]\"%q)"
      ],
      "metadata": {
        "colab": {
          "base_uri": "https://localhost:8080/"
        },
        "id": "J-kL0KLaxv12",
        "outputId": "5d1b19f7-4e4b-4512-9288-f386981da644"
      },
      "execution_count": null,
      "outputs": [
        {
          "output_type": "stream",
          "name": "stdout",
          "text": [
            "q = 30.138 [kJ/kg]\n"
          ]
        }
      ]
    }
  ]
}