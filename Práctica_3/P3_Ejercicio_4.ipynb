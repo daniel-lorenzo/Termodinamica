{
  "nbformat": 4,
  "nbformat_minor": 0,
  "metadata": {
    "colab": {
      "provenance": [],
      "authorship_tag": "ABX9TyOavCAHRfrte6N4AiqrJ0EP",
      "include_colab_link": true
    },
    "kernelspec": {
      "name": "python3",
      "display_name": "Python 3"
    },
    "language_info": {
      "name": "python"
    }
  },
  "cells": [
    {
      "cell_type": "markdown",
      "metadata": {
        "id": "view-in-github",
        "colab_type": "text"
      },
      "source": [
        "<a href=\"https://colab.research.google.com/github/daniel-lorenzo/Termodinamica/blob/master/Pr%C3%A1ctica_3/P3_Ejercicio_4.ipynb\" target=\"_parent\"><img src=\"https://colab.research.google.com/assets/colab-badge.svg\" alt=\"Open In Colab\"/></a>"
      ]
    },
    {
      "cell_type": "markdown",
      "source": [
        "# Problema 4\n",
        "Un recipiente rígido y adiabático está conectado a través de una válvula con un conjunto cilindro-pistón también adiabáticos. Inicialmente la válvula está cerrada y el cilindro vacío. Se abre la válvula alcanzando el sistema un nuevo estado de equilibrio. Se pide.\n",
        "1. Temperatura final.\n",
        "2. Trabajo útil o neto."
      ],
      "metadata": {
        "id": "dDltsJZ5MKwC"
      }
    },
    {
      "cell_type": "markdown",
      "source": [
        "![image.png](data:image/png;base64,iVBORw0KGgoAAAANSUhEUgAAAnkAAADcCAIAAACDJSCCAAAAA3NCSVQICAjb4U/gAAAgAElEQVR4Xu2dB7gVxfn/uVQBCygICIJgUGxYgwrYY0ksiEIQC2jsxhKxgFEjCRFQVNREjUAssYFGLBGNYsUCRLEQURQUREE6oZcL3P9HJ//5bXb37N2z95xzd875noeH557Z2SmfOTvvvu+8805ZRUVFDX1EQAREQAREQATyRqBm3kpWwSIgAiIgAiIgAj8QkKzV70AEREAEREAE8ktAsja/fFW6CIiACIiACEjW6jcgAiIgAiIgAvklUDtT8aOff/Olt97PdFXpxUFgyLW/2qHZdsXRF/VCBERABFJLIKOsnT13wXtTPqvXYKvUNl0NqwqBTRs3bNywfu269VUpRPeKgAiIgAjEIZBR1pqbdz6wW1lZWZyClMctAsvmzpj3xSS32qzWioAIiICjBLRe6+jAqdkiIAIiIALOEJCsdWao1FAREAEREAFHCUjWOjpwarYIiIAIiIAzBCRrnRkqNVQEREAERMBRApK1jg6cmi0CIiACIuAMAclaZ4ZKDRUBERABEXCUgGStowOnZouACIiACDhDQLLWmaFSQ0VABERABBwlIFnr6MCp2SIgAiIgAs4QkKx1ZqjUUBEQAREQAUcJSNY6OnBqtgiIgAiIgDMEJGudGSo1VAREQAREwFECkrWODpyaLQIiIAIi4AwByVpnhkoNFQEREAERcJSAZK2jA6dmi4AIiIAIOENAstaZoVJDRUAEREAEHCUgWevowKnZIiACIiACzhConY+WLps3Y/mC2fkoWWUGCbTcvUudeg2C6UoRAREQARFICYG8yNoNa1euXja/ZfOmZWUp6WZxNmPVmrX/Wb5q86aNxdk99UoEREAEioVAXmStgTP+kcF16uSx/GIZguT9eOzZ1wfe+Ujy+3WnCIiACIhAQQhovbYgmFWJCIiACIhACROQrC3hwVfXRUAEREAECkJAsrYgmFWJCIiACIhACROQrC3hwVfXRUAEREAECkJAsrYgmFWJCIiACIhACROQrC3hwVfXRUAEREAECkJAsrYgmFWJCIiACIhACROQrC3hwVfXRUAEREAECkJAsrYgmFWJCIiACIhACROQrC3hwVfXRUAEREAECkJAsrYgmFWJCIiACIhACROQrC3hwVfXRUAEREAECkJAsrYgmFWJCIiACIhACRPQOTwlPPjqeroJrFy99onn3ojfxjEvvLVhQ/kP+cvKtmu0dfwb/3/Ois4H7HHthT2zvzG9d4x4/MUX3/gXRBI0ccWq1eXlGytq1Dir+1Fl2ZwPeuiBe3XYeccENeqWIiYgWVvEg6uuuU1g+YpVw0Y8lUUfyspq161fr8EPUnbl4nVZ3Phj1rXLF+24Q9Ns70p5/u8XLZ02Y07Dxs0StbNW+do1G9atvm3k37O6vfE2W0rWZkWsFDJL1pbCKKuPDhNotvO+jXdoH6cDX056dsttW7TcrXOczME8MyeODSYWQUpZzbKd9j06WUfmz/xwyZxpHbr2qFEWa7lt/Zrls6a8nKwu3VXcBCRri3t81TvnCdSsWbtWnXpxupHEThqn3JLPU7N2vbKasWRtzVp1S56WAIQTiPUDCr9VqSIgAiIgAiIgAjEISNbGgKQsIiACIiACIlAFApK1VYCnW0VABERABEQgBgHJ2hiQlEUEREAEREAEqkBAsrYK8HSrCIiACIiACMQgID/kGJDynGXz5s0/+clP1q5dG6ynXr16O++88/nnn3/aaacFrypFBERABETACQKStdU/TJ999tmsWbMyteObb755/fXX58yZc+2112bKo3QRMATK169ZvWx+MhqbN21MdmPq76pIzKR83arU904NdINAqmXtxRdfvGrVqhNOOKFXr14+nIsXL77yyisPOeSQCy64gEvTpk0bOnSoL0+jRo3at29/+umnN2nSxFyaMmXKnXfemWlkhg8fbnNmypOP9H/9ixhyP3waNGiwyy67mL83bdr0/fff003z9Y9//OPVV19dM94mv3w0UmU6QWD10u/550RTC9bIis0Vsz8aX7DqSqeijz/++Pbbb/f2d4sttmDKPfHEE3fbbbc8cXj88cdbtmx52GGHecvv27fv0UcffeaZZ+ap0pwUm15ZO2nSpL/85S90curUqUFZu3r16kcffbR27dpG1s6fP5+vW/74MVwwzC5btqy8vPzGG298/vnnzdh89913ZNtqq60aNmwYxLduXdZh7YKFJEiZPHmyuYu3ijFjxtgSKioqrrnmGvNrXrly5ZIlS5o2LbYQeglw6ZZMBHbc6/AaFRVLvv187bLv/3prv0zZItK3bbRVxFUXLxHK+Oiu+yVr+R2jnp4+e0GLDp2zCoacrC4X75o7d65vOl2+fDlrYddff/2wYcN+85vf5LxTFH7ZZZf169fPJ2sRwNtuu61kbULgjCJ3HnDAAR988MGnn3665557VlrQgAEDGGabDXH717/+FWF83nnnzZgxw6YPGTLk17/+daWlFSyD1Wt/+tOfeivlCT/nnHOMrG3evLkEbcFGxNGKGjb6Ierv8oXfEJWw8/67O9qL3Da7XesW/EtW5oNPvVyz1pKGjZsnu71E7ho0aNAVV1xhOot68Oabb/7yl79kwesXv/iFtdLlBMWXX36J7rF06dKclFb4QlLqh7xx48Ynn3wS+Tpw4ECgPPHEEwnQYHHFq6hz584zZ85ctGhRghIKcAtvarxJmIo6derkq/Hll/8bW5WfbwEaoypEQAREIDEB1IMjjjjiuuuuw6CI0E1cju9GltJQW3fddVcslJWWuX79+kx50L5CXVBtfpYsM91b9fSUylpkDNLxrLPOOuaYYxo3boyJIHFXjTpYXfbhSpvNEjIvFmTjzWD33Xfnh8KH1uISdffdd99www1cat26Neu1lRalDCIgAiJQ7QR23PGH8wRxN8lVS1gZxJnmoYcewiQZUeZjjz2Gela/fn0agAXbK3SfeeaZfffdl6VDfGK23357fH3sVf7GzImDKmvMLC9GlF/FSymVtVBD9uDWVKdOnZNPPnn27NkTJ05M0NUVK1awGsqOmlatWiW4vQC3WAMy71y8FuBcwIefy0477YRlhrcwVibeeeedvP4ICtBNVSECIlAiBF588UV6ihqaq/4yJeL9xKd79+6ZynzhhRfOPfdctGoW3aj6rrvuwkXLZH7kkUdOOeUUnHtuvfVWfIAOPfRQPGR/97vfmatYPZmEsXjXqlWLKjKVX/X0NPpGocg/99xzhx9+uBGQOEY9+OCDqLYHH3xwdIdBdv/995s8iK4FCxZgfGYJgXu93g0Mw9//7j+QEt3x4Ycfji4/H1etrA0tnAWPBx54wLwnhmZQogiIgAhUI4F///vfTNemAf/5z39eeuklHDyNN7JJZJMIHjP8zwTOTL7DDjvko7WIzLFjxxphjFKLnxTT/vjx4/FPZrYnUMGzzz6LAzNVX3jhhfvtt98bb7xhm4FLEIn33ntvXjd6pFHWou+vWbPGOpUdddRR2223HeOHGYF3k4hxwpofNOj3799///33996F9SBol8exOaLk/F2yTsgs1tpfIV7HyGD+xx3goIMOwn26bl2d1ZW/QVDJIiACCQngf8rHezMuMshUu9cDXxMkGa4zrONecsklyDzMdZdffnlofUg7qy+FZsiUuMcee1itF83qD3/4A7J23LhxyFoag8aFEDH3ooYx/yN9vUXdfPPNeRW01BUlujL1Kt/pxgMZwym7fUxdW2+9NdEeXnvttWOPPTai9quuugqPcJMBuKyoYyu45ZZboIwDm70RH7mU+CGzJo153DRs5MiRHTt2tI386KOPePniK3noew4NMhEAdUkEREAEsiKAEmmj2iHk2rRp06zZD/7w5oMuwWZFpmUuYbZt0aIFExqLpuzSDK0lscDbZ599vAUSbm+bbbb56quvSMSvauHChYgVvFBJef/99/GG8W5sYQXXSuLQVuUkMXWyljFAprJgaYz+ppMEduAP3lOiZS1eVIy05cKSJy9cvNrwJuWVtTkBl5NCvFEseC/zlklfzFd+o7Ih54S2ChEBEcg5AabZAw88MFOxyLa99trLLOEh85C1aBdsbvzHP/6R6ZZk6chv3434uBi3U5ZyzzjjjA0bNrCDlGkW9ZrlQqyGNj+6XLJKs7ordbJ29OjRSFaWVLE52J6AjEHCtszKNmI4fg8xFLRr1y61G36sAZkfASvz3n5NmDDBfG3btm3wZxSfgHKKgAiIQHURwGkG/dLWzt+kIPbwVwptElL5V7/6Veil6MSvv/7am4FVyHnz5nXr1g2LcZ8+ffAxRuLasICIEq+sjS45V1dTJ2vxQMb3+NRTT/X2kGXaHj16IGjh1bNnz2w7H1ydzbaEPOW3em1wZ63dneY1LOepGSpWBERABPJBAOUSsWdL5m9S2NNI3KHQ6lA5ksnat956C8uwtWti0UTKdu3a9YsvviCAIOLDClr2/uIHExo6MLRJuUpMl6yFCy5hJ510EtYGXw9ZEkDWYkbOVtZiH/jkk0/Y/GMNBXjN4W0UJHjcccf5Qn8F8+Q2hZUDU2DQCEObzSUWHnJbqUoTAREQgcIQYC+JdUlByLHplhUxpuKc2xrRx4hxi18VhkAM1DjldOjQAbcspDuOpU899RTrjxiQ2UdLiEc8YDCUYkD1WRPzyiRdshallt727t072GeOGcBNl0VcXlLsWmYwWzAFDyN0RGz099xzj7mKIzifYE7OKiikrMVJ3cYbC+q19kfAIT/BpipFBERABNJPgA2vuODg6UkoCZQcQh2wqJePZuN4zCaULl26mMJZJMZNB08r4mDccccdOHBhIEQeI1/NoTU4auEPxSalfDQmtMx0yVp48QltKNQIdW0vYSvA09h+ZV+Q96u3BLY228MoMN9nyhZaaV4T+dlFNCZ6321eG6bCRUAERKBSAscff3zEDGZux2MGeySRInBJ+fDDD4OBDSqtxZuB7RihNaIxkw2FFaHOfl80WvZ52n2S7DrBZvnee+/RGCyIyA62fe69995mn2fOvbQy9ShdsjZTK4svnR1m3hBilXaQt7PovcWVlqAMIiACIlB4Ahhy2eTK+iC6Zl5XSbEFItH5BPvISpx3MQ6hy0plMFteUyRr84o3Y+Fs5R41alTGy4ELOIXxFhlIVoIIiIAIpJ0Aq37E5El7K/PcvpTGQ85zr1W8CIiACIiACBSOgPTawrH21kQ0Kw6xj183kU3iZ1ZOERABERCBVBGQrK2e4WBTU3BfU/U0RbWKgAiIgAjkmYBsyHkGrOJFQAREQARKnoBkbcn/BARABERABEQgzwQka/MMWMWLgAikmwD7LAmRn9pIrumGp9bFJSBZG5eU8omACBQTAQK1Ek6OkH5sXiewDHF6iUx30UUXzZkzp5i6qb6khIBkbUoGQs0QAREoHAEC5+6+++5Dhw610Xqpm2i9pBMMwUYjL1yDVFOxE0iLH/LHH39sIyka5ltssUX79u1PPPFEjkMyKYMGDeKAiJtvvjnxoPAITZw4EZMRBwUTyiR4LjEnRXBeBEEyDz74YA5ZzFRR3759uf3MM8/MlEHpIiACoQTiPOmhN+YwkUCwN910kymQU9542Dmpk/B+Ru4SFp+jZjgEJYc1FmVRnKVjjyML7eCf//xn74F6oXliJhKa8Y033pg2bRrnq/KSlGD2zjS3EzaSQM0DBw70nfIyZcqUO++8k5jJvJAhjGK2MyJbWmQtsY4fffRRzDg2iNfy5csJZHj99dcPGzaMyNH04ZVXXmFNJZmsZajOO++8Bx54gPMRCeXFgHEmAcGYOO3B0nnwwQexIHG2IhkIUc3zdt9999mgml6IHDfEjh3J2ogfli6JQCiBOE966I25SuTkVCtor7nmGiZZcz40U8RVV101fPhwKiJy7/Tp03NVY7GWw5k5r776qukdEybvKLyyeIUrc2lO+o4sOPnkk5HraEdMzkQ/5iQDzqFp3ry5LT969o64igKG6Ln00ku9spY3QiPOX3vttZwIWtqZLhsymitmHPNB++SIG87e4XQkjhukrVxF7iYbPN6wELQEoWbYOGUJuCC+4IILbGlUce6552I+4rilJUuWcBYE+UeOHJmsOt0lAiIQQSD6SY+4sYqXkAfmxZ1y+vfvf+uttxpBy1fewokww9qtqcJrW65ipcV6O5ZIO12b40F79eplU/ijadOmOek770YIWrQsDkZj9sbOjxHisssus4VHz97RV4Mt5PSCn/3sZ/weeJPgiIJghmQp6ZK13j7QVc5jwnmBtxhjqTj88MNBkKyfHOaA0nzXXXfxP2fRn3HGGRx2+PLLL9sDABDGlPzEE0/stNNOvJrxMyJSNomhx0p42xB9hADnFaOdR7RZ3o8RcHSpFAgEn3Rfr3OlHlEsB2uagyxbtmyJvPdVxMwwZMiQP/744azTUoDvRB+xIx5zzDG//e1vmZk5ggUdicNPmb3t5Bw9e0df9RHATG1OjUOj3WeffXLIJ72y1nSSg4X5g1ck/sfAi4xM1nlkHmc7eE8GNkfHY/owBSJlsSq3bt3afOX5Z6kYOxLWpEw1ctou676YTWgkL8s+ofvMM89g6MAkzoszERZRlG0G/kbDxgLDUjSyP1P5SheB0iHgfdLpNaHqMT7xVPIQ8YjxBjxgwACWfqoChElgxIgRpgQeWCRrsDRsiaxb8bFTQTCPUgpJAG2kWbNmRx55pLdSllH5MdjfQ/TsHX3VWywTPoIWoYBGm1tBSy1pl7UY5WklxxbyP6cyIZ+SDTMHKC5evNgeF48JgpOEeTkyFiQsS1z1mQvM188//zy0RtZ6sTmjeaMB0zw0ZmSzzcma0CmnnMIrGEYqjm889NBDWWbndGKTgVPiOZ6WJiH7cbMKLV+JIlBSBLxPOh3HM4Wn9ZxzzuncufNtt92GmyQG3tNOO60qTFg2Mm/tSFnv+lFVytS9+SaAVR+jLgZ/WxHm/QkTJjCpmrel6Nk7+qq38TNmzECioxEhaHnDy3m/0uIbZToGU1zCzN84A7/00ktjxowx3shV7DmvsWyb46WV5xZVEpnNM8yLsykWQcsfHPzkrcXEK2btNrRq5OXYsWO7d+/OVQrHTwpDx/jx41lRJwXfNtRoxDmmKr5eeOGFKM340dmi8HIk8d577w36QodWp0QRKCYCcZ70SZMmPfnkkz179jSP2FlnnYUlafLkyRz3nQwFE7S5sV27dsaslawc3ZUVAayy+KXyP/7e+CixiTmr272Z8WVj6n7nnXc6duyIP425FD17R1+1hTOfI855FcMSadfsE7cz9MZ0yVqcyPl4G4pEZHh8JwyzAsr5r6H9QXSxch68hMM3i744FeNsRmkwRWHl3RnlksxmQciH2Hxll1GwNFJYzjGClr8xOLOLAFk7btw4I2tpM2sJGDrMvRivsIQgfb1FsdQvQRvKVolFTyDOk96hQwcjaM0j9vvf/x5Z+9RTTyWWtdbdaZdddil6wunpIGfFo1ecf/75ON9ccsklaCAJJnDTnW+//ZaZnDl54cKFTOBGbEfP3tFXLSXeBtq0aYOORGt5q3v33Xe9C445gZkuWYuCaM1ECDA6j6U+2E9E1/z584PppIRKL8Ret27dGCdMx+zNIhveyBy9jpmXty2kb5MmTUhcuXKlt8wVK1bw1cpLX3U+az6FsG5PpDeTDZ2YXwN686effkoiTnr8RFjctYWwgpupZF9F+ioCxUcgzpPuW9MxjxjbBBLTMCoOt4c6SbD4h53JuNuwPJQn5SZx4x29ETsEpkF8hpnPWURjjyVGXVbusprAbd9Hjx7N38zk6EhM4F9//TXiNnr2jr5qS2Z5HrsjzUN1ZrVi8ODBWZ15Gmd00iVr8YCI89KKYopfcZzumTwYbLFZ4VthBC2JyEXUShybWTa/4YYbkHz8FJYtW+Yt03z1bsD1XrVbBWwiD7Bdq2c1FzcuXqnYRIQGzAvdww8/7JXlMmHFHz7lLD4CcZ700EeMt+TENKx5LNQJgzfjK664gsJ5Zs0fiSvSjZYAmgYbOphdSUEDYTrFukCYoKwmcB9P3OjwST799NP/+c9/EgUhevaOvmpLZnunmeqxULJ2yf8///nP+SXkcCjTJWtjdgwZhvNRaGYGFfq+S2zVJcW3TmDImi03rLG3atUKrdd7I9uZ+Uq41NCKeKXyprPra968eWjPJKJ29+nTBx9jJK55qyIRt2Sf3hxarBJFQAQMAd8jhuGRR+y4445LzAejtLmXN292jBx77LG2KCxPdt+tBG1iwsEbFyxY4I1uwd+kZDWBY3PG/szqrNf51Myrxj4cPXtHX7UNtgt8rDP+7W9/69SpE5ZkNqHgAx/sVLIUJ2Ut9nqU1NAOY2QPyloW0slMZAzv9mfjqWTtVL1798ZnmHcu3rjJjLzkzYsbrSrsq45QjpiFsXKbdNafuKVr1658xV8anbhHjx5W0LJFmP3UvlXn0PYrUQREwBDABQZxix+T+cpsyyMWETm1Um484wTG4WHE/sT6EZMp3jp8xWcK+5YxSrHtvorezpU2o6QyYO1DD7Fd5m9SsprAWVzH+M+7kVfWMv1SJhqzKTl69o6+GhwOhALOARgj8Za6++67gxmSpaR9z09orzDAYvQP/YQuA2C7wMWf96Orr76ap5c8PLc8dbznWv8mVmh4tcHwiwTFBZpobSzl4rcc2gAS2c/DY/nee+/hZsWmPVMa6+pcwsTByxFOHLw+MzuwZMvSgglHZbfzZipW6SIgAoYADwvTKxKXB3bUqFEspPFkVWWPHM4fhKowhZvwQ2effTY6E0YyI2gPOeQQPJ95tDUEuSKAvdC6pPFaw2zJIGY1gZvox8yxiD0CfGLbYDMY20m6dOnCq5JpZ/TsHX01tKf82HDLJQgGgYFDMyRILJVf1R133MFI87894YDN8g899JCNdcnb0/PPP0/UTfRaEw+ZdVyew0xMMeiTn/E2GXjDQpYbzyy8KqgIkxRqMc8tUwbBK3iMcQ3AHwpBnqlMpYuACFgC7KPjfZoHx6TgG8VCjM+ZP1tcvENjXsIq5lv3xUDF847olaDNFml0fiIQ8KrE8hw7VtnPydmF1lARfaP3KuPOWxe2fWveJ4Ag+pL1hI2evaOvhjYDEYAlGQWXHd4oS77toKG3VJqYFlmL5ldpNETv/tRKO+bLwAPG2BAOhlFn+RZ/pf3339+s2NuchAHjZ4G3N+IQa7AJZBNaEWKb9H79+lEayiv6MaV5TykgLBQLS2i9TA14e/Eks0WakTMrx1XxCwhtjxJFwBUCcZ500xdiofM2zJoZjxhzNNbjnCyeEX6OCZTJhNgFrAHjkMEOfiaE0DBSrlCt9nYyxYVO4EyABPPBbRg/I4aSTTUJmsrszQog+jEhgLBAMFjBMMXRs3fEVUJ1BqN10kje7XIbQDctsjbBACS4BXx8Im7EuIH7WUQG7yXeffgBZfJV89XFb+6kk06KWbKyiYAIQIBHDBFblTVaCmHznomB7EXK+7F1lSId46S9ypKTtgnk8OfHyhpRB/BiwfhXFZ8VLI7GmSZT26Jn7+irmcrMYXppydocglNRIiACThDAbxETVPymcpgYjh3x8ytnpQSwwbJmV2m24s7gpG9UcQ+JeicCpUDg6/krX/lw3oaNm0uhs+qjCEiv1W9ABESgGghMmbHksTe+PqhD07q1Q9748ZzI1RndOE/giRq/h7mqN36NylkKBCRrS2GU1UcRcIxADiOY4rTo9Vt0DISaWywEQt4oi6Vr6ocIiIAIiIAIpIKAZG0qhkGNEAEREAERKGIC1W9DxkuQ0+4iEBO8gyiabIEishcHBkTkjHmJPV7EULRxKthjx0bY0HsxZPnO8wlm44xrQmCzBZDd8ewCZMsQwZBzfh5TsF6liIAIiED1EiBovI0OZFrCarc5cZyA8HltGzukicrnrYKVAhv5hHQiABLKkWAJhJeK3jZGMDJ2JRE7Ja8Nrn5Zy9m/r776qukkIZaIFMOOdW+4ahNgmlhZ7CyuuqxlPzUHRBBfwspagn4RhSSUMvEoOPOBBhAqGYHK6QUElzHRlclPewjiyAE+NJij4AkXRUcIzUgIMca4KjvJQhujRBEQARFIFQH2JXM+EiGO7XSHyoH2QtQgtk7Z4xxy3maCAh155JG+Yps3b04MSJPICeIELWHqNkEACZJ/3333ZVq25+hxNlUXv6zltci+GfEmwm7lXr16QcrHEb3WnliXeOT4ERDx2ER9soUQJZWfi6/MOXPmcGyTGU7ON+bkAOK6ESGZY/h4leOwQ/KTAUHLiN51111mFNG8CVo9dOhQjrL3HXqfuM26UQREQATSTIDJ2UZPJHoUdkriVxAinnBRxEfMR8vNSeF4mNuQyNRiHciZrvE859Jjjz3G1l7m5OHDh6MOkT8fjYlZZvXrtTEbipCLmTMiG9FQOdjOF9wSfRQB7LsLjZbY0+QntiKBMTmdGJHMYQOcfDlmzBgiUxMkk5OlUZF5XbL3MtgEN8cizRjfeeedoUdSRzRPl0RABETAaQIEviUGMofkMHkidH2yFkUzk3KZVa9nzpxJfuZtr6y1JbDsyN+c3WSUInQ5LI4kojX54vIGK2XCzxRzG5M1VyMChWLpRJoEyzQpzvhGoT4GJWKmXoWmc5oskTmJsFqpdRet+u233yanjW0dLBCrMugxlQQvoQETcBXxHLykFBEQAREoegImmLyx6BIxCsMhko/jBxBUWC6ZIatopDR6LQvDoSSpCy3WCFoyIF85umD69OksIIbmN4koSHvuuSctpPFYvxGrNjOHH9B4BEeDBg04fJ6zZOxV/kZdZiWU9elo5coZWUs4TfoTQSr6EgcUY1Xg/NpMS7P2dhaMiejGr8EMJO84nHPZs2fPcePGYRzmbB/+JvPUqVOJWh56ui3uUSi7oZeiG6mrIiACIlAEBPAYpRe77ror/0+ZMgUXFtQPLPARHCsAABgiSURBVIWchce8esstt1TxkGD0Wnx6WM4777zzOIqYI9Q4ScJwYwLnvFvf4QTmK1bJTGzRxBAQaOQowTSbZUF7XC5HLlIFB0ChX6GtHXroodgsqdEURUs4EQFrOQvD0Qc+OmNDzsQoZjpr46x+Iywrzc/aA1YO3lZsTmzFWIZJxzeK4yZ4L0OjZUkg1HxRafnKIAIiIALFRIBdGJyXZ3qE3y/+pCy0GW9kkzhp0iQOBjZaCioj2gtK5OTJk/FRTcYBvRYnrGOPPRZtkukaSYkUxx6Jrw+CljJ9C4VM/iQuWbIkU3WIzLFjx5rjzGkhflI4TI0fPx7/ZPatoHFxZGrLli25/cILL0Rp9h4698EHH5CImIiwg3Kje7IW/yY8j0KR0dX7778/eIm3KqhNnDgxwtRu7uIked5ceLXxmt0BPfDHjy2ZMaMZnPkVrEspIiACIlBSBPAD9bmCosIi+exqHUcqGUELFiy6OCsha9mygaxNMJ9TCNZpTvFDCppj1jB54mGDwDvssMPMvhXfuqn5iu9qpnHhnD4jaE0LOZ4cWYstE1lLR3D4soHMULRYl/Wt6bJBJlrQUqx7spauEis1FFlob7Eb4MqEys8Rs6F3eRMHDx6MRR67RHROI2XxVY7OpqsiIAIiUPQEUAStTRhRihTEk9Tba59Fl/NGsQDPmjWLPNnO56ZYtoR4y2fBDumImRrbNcoul/CB9WbgXEW+RgT+9MVRMC00q8LoxAsXLmTJGX9YUt5//332y7Cya8tnBTeiZJvNPVnLu1JWZ62zwsqr08svv/zaa6+ZbmPQZyQwzXfq1ImVA8uC8Rg9ejTWg0rVX46VxqbPCgEr/NjxvYPK3++88w5vQyz6Vn03sK9kfRUBERCBtBFgWS3aGowC42szbkQYgUnMdj7P1HdzZh+aFQZq5D3Rirw5zdcWLVpkuj20hcaBCwM1brmoy+jQqL+4WLPV0yvLY5527JcTmZqSnnT6zGJ1aHtAzLqs7xIvWaH+UMhInx6M0YAt0meffXZo4b7Ek08+GTnNdqBgjdirMVZgRYlTjvKIgAiIQHETYG3O20GUHyIIYfUlMdv5nFtYwkPFZKUWhdIWaxyDkaYoQq1atfroo4+8NeJFxVe8WTNx9rVwzZo1tLBbt26o3cQBpC4kbpMmTcztuCX79OZMxXrT3ZO1iDGchEP7hidYUPJh3PD5vOHSzYsYEtFXCOsHmAKiX9DsLSaQxU033YRbGqEZbTo/AjZyMSqkhzZSiSIgAiJQUgQw9SHM2rVrZ3r9wAMPIMNM3MRs53NKQNYSbgG34VGjRlmMxthpyuzduzc+w7Nnz2aeJwN1cZV4fxF7Q4j0h2UYxcwUyPIzd3Xt2pX9L+jEPXr0sIKWUEg4xla6cTQ4vu7JWhR2jMDBnlQxhReZd999l1etSjc7m4poBp7fSHFGl122Xbp0QdLzk2KMly5dihte9F6rKrZWt4uACIiAKwQIvssWGhxXUUtQEHGgQeExO2QSzOfEx8BUicBGeGOGpHBciFmwI9aQiYeMGGbTDoZfTJUsDOOKxfruiBEjInBh5uR2Wojui2Am6BX+XES/Qi7g54waxjIwBmScsFgcZKUZBZp6s4p7756sjeBVlUu812CFQGTGLwT/cpbNiavMT8feRUxOVtEZpPjlKKcIiIAIFDEBnGBQkOzBAHgeYYbNFJ4pDgd24ODBipJjowmhetpNKAhj3HRY5kOvNfGQiWNvA+CHlo9rFbfY+X+vvfaiChYZcWC+4447cP5CLUYeI1/ZDkpHcLbFCMoGp9DSQhPTJWtR4fGuDm2odz9TaIb4iaERnQhAkanqiJLxgcKeQEQS3puwLTDGDElwmT2iBF0SAREQAUcJHH/88XGmTTZuEIaPsE3sxEW1xRZYqf9pNBBMuASHIl4Ce1vRkdjwihrqveWYY45huwqmSsQhpmATxypTmSZCPgorq7y0kKLYtGJjSRIWCnsnkXd5OWCFESFFjXhW49xDgfEdddMlazOxSHM6Q4J8tYf/pLmpapsIiIAIVAsB9EtEbPTZdtk2DLFnV1iD92KdRoMKpmdKoYV4GpsNu748KOJ8bCJC96STTspUTqZ0Z2I0ZuqA0kVABERABEQg5QQka1M+QGqeCIiACIiA8wRkQ3Z+CNUBERABEUgtAdZN7cmyqW1kARomWVsAyKpCBERABEqUQJz4haWARjbkUhhl9VEEREAERCA3BDg4ga29+EITGNJEpIpTrmRtHErKIwIiIAIiIAI1CEd16aWXEkSBHcPsxyX8ckwopWhDZqsu8be8gNi3Y/dZk06wLkJbsDGLE2q9TuoXX3wxe3v4PyZcZRMBERCB4ibAuTd33303h6UTGTHY0yuuuILox0SZiBmPL1hCREqmiTr0Fo6KYTMut7B7h/2yieP6sQH3yCOPNOHuOcXvT3/6E9Ik9Ig5XzNKTtayARlSPgoEe+JARJPIaYUXXXQREbFNwBECLN93331mXzPHJXJyoWRt6E9ZiSIgAiVIgAA+TIxEgQjKWoIJI4Y5uTYfgjZiovaNAtE2CC81ZMgQ0tkaSyQKE93vqKOOSjBeBJvkQ/iL7777jsPOEdtxBC0VlZwN2RxJSCgQjAD2w2kBBjpBoIilyXZmIl4S4ZpwXETdHDlyZIIh0S0iIAIiUPQECDiM7CFwHgqfr7PIYFKCMrjqTLKaqG+//XYE7SmnnIJSS3xjTp1B+tKqqsTVZ5kW1faee+7p379/zO6kWtaiXPq6gTkiZscyZZs5cyaXCEvt/Zx66qkmvxG6RP8ikCa/IQaJwJgkxolDZmsMNjtTY5QuAiIgAq4TINwxXeDwb19HkLXMopiXvekcCutbwkvQ/awmapSl1q1b0zz+Rwfl3IJhw4YhaDlYPrTq4AQelDusLWIKJWYyJw75zsoNLZPE1Mnaq6++GhMukTNx8SLuM8o+UaERdZxeR0xLQg3D67nnnsvUn0rTjV7bvn370JxIWUJrUoW5iumDVzbCHdOeYP7BgwdDHNz20oQJE0ihkSwJ8MpDabmNSRZsg1JEQAREoHoJEAqRU1iY7rzNYKZF+evevbs9Y2DixIk4E7FQigDGfjt16tTEzY4/USPXOc4PHZRzbW11aFD8zQquTYkvd5DZ9q2CjrOjKaYrcupkLSPE6wb6PromZ8IjX5Gy++67LycxIds4KWn58uW8Rq1YsSLZOKHXMtLQ4ZgIauG4BkucN53FixcTVNpbsvn6+eef+6obOHAgawBExeQ0CXOJA/UIeM1iAMfqcdbeddddx9sTq/HJ2qm7REAERMAJAogxDj1j3W3y5Mm2wT4DMpbbww47DIdTdKcbb7yReRjP0ylTpiToYFYTNeVzpjjnn3orMifZeM8djy93sELfcsstRtOlvyw1smIdpxdp9I3iHJ5XXnmFI3ToAMcEMkILFizAQG88x4DCejvCL+ah7j4K3I605jDC3XbbDY8nRPhtt93GMju/FQQtmRs3buy9hfc1vgLUm4ig5UxETkzkxHibjujdfvvtkbjEvCaRF7dka+++BuurCIiACKScAPoPPqQofHZafvrpp5s2bWrmQAyTKI6tWrXitBxUHfrC2TvouJiCmXuz7Vr8iZqSMRrvuuuu3irYY8Ls3bJlS9/JpzHlDpt80AabNWvGyfOo5py4R1FxupBGWcsBTEbQmiHhf0SjddFG9CJr161bx5vF5ZdfHtpJ+NqzDH0ZMLJzNATvXOY8B87+xZEM122KNWZ6DNfeW8xXqrOJRtDin+wVtPPmzcOAjJZsBC2Z8XbmbGFcBkJbqEQREAERKBoCGGkJ7zBmzBh8XJh+8UJiLxAuqOY0dTRLxBLqoBG09Jr87JYxs3q2M3nMiTrIloowOuInhYgZN26c7/DTmHIHJR7xgRMyG21R2OJHxUqprLWYjDu1V9c0g0cGDPFE2gwCJSXCCdsn/Hg3waZxzjnn8KqCROfelStXess0xmoLFD2YDLSH/OjH9qdjloF9ZyjyVbI2dICUKAIiUGQE8DYdNGgQWuMRRxyBUkvvWEozfTQeqWaV1PaaiBDm72xn8iZNmnBj9EQdZIvdmD0mCEjaOXz4cFOINxuy1n6NkDsmDzo6n2AtESlplLURzfVeIkRW/HN6I8rECYurGKUxDuAM5XMqM18xZZsSGGBWkZH32JzRa3GAMumsQ/CHL8Q2LYyoV5dEQAREoGgIGFmLGRlZi+aHqw1WYu/06DMZ2o5nO5OzVFfpRO2jikKFPRJP1SeffDL0hNoCjILDshZLAmIvlBEjgY03eIllV6wZKP6Mlr2KNxN/I00xDvCqwqZs743Gx6xt27YmsUePHma72EMPPcRG5j59+pj1CZNh7ty53nuxMwTboBQREAERKD4CLIsizJCyAwYMmDRpEgu0NoQF5mX6y4Kot9compgG8S3NdiaPM1F7K2JJGAdb1Gg8pKxZtPD8HZa1rKEyqKHIAJpJ1rIdCkvCqFGj7I1GOTabc5CjGPSxM7C/lgwYN7hKXEZMzSa/dRxHo2U5loVePI1r166NSxuG5bFjx1rDyMKFC999993Q5ilRBERABIqPAB5SBGVk06YJFmE7iPW4fv36qLynn366SSTuEnowuzyQtQlm8konals1cziWbTZhsoclYm2xAGORuj0/8fuMFxLO36GfTOu4OGezkZlQUGwfwpuJ9ywGAHfiE044wcRDRgyzG4wfAWv7mIWvuuoqFlyt+PS2DUWWd6VPPvnEeJNjPb7hhht4U8MbGfcrtGc0YER+PoKTxUeknCIgAiJQMAIs0KJ4sIsEHZeNmrZednPgx4rewk5IrH3Y/9hyyTxpAvcnmMmjJ2p236L59OvXjwYQHYHNSGw54Rb8cryfTLEs8oTLYb02GRFCTzDMSEQ+pgSEonVaRhg///zzvGqh15p4yEjQ888/P7QuJDGHK7EMQMBPfJsvu+wy4n8ixfmQn03c7N9F0w29V4kiIAIiUGQEWJtjC8lLL70UjMvIPLl06dKhP37oNbPrNddcY9XcbDlET9QYpdGUzBZYjJSIf4IoeCNXmOpYTPTFtMq2GVnlT52sfeaZZ3wd8MVH7NatW1YRE32lsQ7PWw/jje2XlVqiRPmch4lHgVqM+ZfRYhMYK/y2BHRob2kMoTf0CeZlZPYll1zCii/vdFieGciYW6+yGjNlFgEREIF0EsikLGL5GzFiBPKVvUDYclmzw65blS5ETNR9+/bF84Y9I5TPJIy9utKK8i13aEDqZG2lUHKSATWUT6aisGkQfCvT1Uzp/HqQrOjNJtQUy/5vv/02zlOZ8itdBERABEqKAMFxM8XHTcAh00RNyGXCVO2///4JyszfLQ6v1+YPSrKSMZ4QqJkT9/j/8ccfJ2AKQ44zXrLSdJcIiIAIiEACAm+++SYLtEE7doKicnhLieq1OSRoi8LbDTsJgcrYC0SMC3ZxYS0xzu75qE5lioAIiIAIBAngAMsnmF69KZK1OePPaj8xGvmwJo+De87KVUEiIAIiIAKOE5ANOfcDKEGbe6YqUQREQARcJiBZ6/Loqe0iIAIiIAIuEJCsdWGU1EYREAEREAGXCUjWujx6arsIiIAIiIALBCRrXRgltVEEREAERMBlApK1Lo+e2i4CIiACIuACAclaF0ZJbRQBERABEXCZgGSty6OntouACIiACLhAQLLWhVFSG0VABERABFwmIFnr8uip7SIgAiIgAi4QkKx1YZTURhEQAREQAZcJSNa6PHpquwiIgAiIgAsEJGtdGCW1UQREQAREwGUCkrUuj57aLgIiIAIi4AIByVoXRkltFAEREAERcJmAZK3Lo6e2i4AIiIAIuEBAstaFUVIbRUAEREAEXCYgWevy6KntIiACIiACLhCQrHVhlNRGERABERABlwlI1ro8emq7CIiACIiACwQka10YJbVRBERABETAZQKStS6PntouAiIgAiLgAgHJWhdGSW0UAREQARFwmYBkrcujp7aLgAiIgAi4QECy1oVRUhtFQAREQARcJiBZ6/Loqe0iIAIiIAIuEJCsdWGU1EYREAEREAGXCUjWujx6arsIiIAIiIALBCRrXRgltVEEREAERMBlApK1Lo+e2i4CIiACIuACAclaF0ZJbRQBERABEXCZgGSty6OntouACIiACLhAQLLWhVFSG0VABERABFwmIFnr8uip7SIgAiIgAi4QkKx1YZTURhEQAREQAZcJSNa6PHpquwiIgAiIgAsEJGtdGCW1UQREQAREwGUCkrUuj57aLgIiIAIi4AIByVoXRkltFAEREAERcJmAZK3Lo6e2i4AIiIAIuEBAstaFUVIbRUAEREAEXCZQ2+XGq+0iIAIuEZi7ZE3/B6bUqKig0Rs2bub/i/88sezHHnRo3eiG0zq61Bm1VQSyISC9NhtayisCIlAFAi23a7DXTo1WrdvIPyNrV//4N/9O7NSqCgXrVhFIOwHJ2rSPkNonAsVEoPfh7crKjCr7f93qsOM2e7fbtpi6qb6IgI+AZK1+EiIgAoUj0Lppw4M6NPHV1/uwtoVrgWoSgeogIFlbHdRVpwiUMAGfaiultoR/CyXUdcnaEhpsdVUE0kDAp9pKqU3DoKgN+SYgWZtvwipfBETAT8CqtlJq/Wj0vUgJSNYW6cCqWyKQYgJWtZVSm+JRUtNySUD7a3NJU2WJgAjEJIBq+5/V5XI/jolL2VwnIFnr+giq/SLwPwQ2byyvqFHx6Zez08/lpP22SXM7167fkH6GaqErBCRrXRkptVMEYhFYt2rZxvJN3S/4fazcypSZQNNtG2W+qCsikB0BydrseCl3tRCYMW/FmnUbo+2NFRUVEz9fNHvBqtOPaFctjUxRpWVlLXbplKL2ONiURbM+cbDVanJ6CeRR1l456P6aNf0BYtJLwsGWzZm30MFWJ2ny/GVrb396Gj6rp3Zp89Nd/JEQiK77wZeLR78166vvVx7UoWmSCorrHgIzbdtyl+LqU6F7s2zOtEJXqfqKmkBeZG1ZzVp16tZ7fdK/ixpdKjpXu069YMS7VLQsD42Y/u3ym0dP9Upcr5TNQ4UqUgREQARyQyAvsnb7tnvzLzcNVCki8L8E/itxW2/TsU3jKTOXoMuKkAiIgAiknEBeZG3K+6zmGQJN23Yc/sLsenXnph/IqrUbfY2cPmc5/4ItnzR90cl/eD2Y7lbKvb8+aIftGiRuM0vXC776MPHtuhEC5eXra9TX9KjfQs4I6MeUM5QqKA0EEFFFsGS7Zf06VYJZUbH4Gy03VgmhbhaB3BKQrM0tT5dKWzRr6pUDe+3cZof0N/rtaQvwjfK2c7cdtznt8HYbyjc98easr+f/nxmZgER9jto5/T3KXwsbNNp+84ZVn40fmb8qSqTk8wcMn/zpNyXSWXUz3wQka/NNWOXnmABSlpBDHds2NuUesEsTnJB9EjfHVaa+uE3l6+d9Mdk0c93KpZs2bbp84L2pb3XaG/jZjDmbN+N+p48I5ICAZG0OIKqIwhDwSVlTKbvK2AVkJW5hWpK2Wio2b16x8Bu8/2vVrotwqFW3wev/mp62RjrXno3r19aqV9+5ZqvB6SQgWZvOcVGr/ofADts2uLnvfnu0yRjH578St/12cxatLll2TVrv2aTNHiXb/Zx3fM4nr29YKy/3nHMt0QIla0t04N3q9s4ttorTYLYat9l+yzg5lUcEREAECklAZ+oVkrbqEgEREAERKEUCkrWlOOrqswiIgAiIQCEJSNYWkrbqEgEREAERKEUCkrWlOOrqswiIgAiIQCEJSNYWkrbqEgEREAERKEUCkrWlOOrqswiIgAiIQCEJSNYWkrbqEgEREAERKEUCkrWlOOrqswiIgAiIQCEJSNYWkrbqEgEREAERKEUCkrWlOOrqswiIgAiIQCEJVBKj8btPJ9QoI9asPsVGoHztqmLrUpH2Z9n3X61evjC6cxWbNpFh+YJZa1cuic6pq/EJrFu1dNPG8m+ZA2N/Nm8sj51XGUuLQEZZW69una23bFBjrR7d4vxBcBZ5nS0b1qwpw0Z6x7esZs2tt2xYo8b6GmvWV9LKigpiQW9Ys5x/P+SsqLFlQx1QUwmzyi9vKq9RsXnV4m/JWX+LerViPCw8Tltv1bBuXR4vfUTgfwiUVVTogEb9JkRABERABEQgjwSk1uQRrooWAREQAREQAQhI1upnIAIiIAIiIAL5JSBZm1++Kl0EREAEREAEJGv1GxABERABERCB/BL4f1d2KCcgI/wNAAAAAElFTkSuQmCC)"
      ],
      "metadata": {
        "id": "XXbeRiGOMhEs"
      }
    },
    {
      "cell_type": "markdown",
      "source": [
        "**Guía:**    \n",
        "En este caso debemos plantear distintas hipótesis porque no sabemos ni Vf, ni Tf, ni Pf,\n",
        "entonces:\n",
        "- 1ra hipótesis: el pistón no llega al tope, por lo tanto Vf es menor que V total (VR + VC) y Pf =\n",
        "Pp\n",
        "\n",
        "> Entonces planteamos el 1er Principio y calculamos Vf\n",
        "En el caso que se cumpla la 1ra hip. Entonces calculamos Tf y Trabajo útil, en caso contrario planteamos:\n",
        "\n",
        "- 2da hipótesis: El pistón llega al tope por lo tanto el Vf= Vtotal y Pf es mayor que Pp y luego\n",
        "calculamos Tf y W neto"
      ],
      "metadata": {
        "id": "AXSNs87kMrNa"
      }
    },
    {
      "cell_type": "markdown",
      "source": [
        "---\n",
        "## Solución"
      ],
      "metadata": {
        "id": "MlqmaNOPNOdq"
      }
    },
    {
      "cell_type": "code",
      "execution_count": null,
      "metadata": {
        "id": "3XddIeJCMHOX"
      },
      "outputs": [],
      "source": [
        "# Datos:\n",
        "m = 50              # [kg]\n",
        "T_1 = 47 + 273.15   # [K]\n",
        "P_1 = 80e2          # [kPa]\n",
        "R = 0.287           # [kJ/(kg·K)]\n",
        "P_p = 50e2          # [kPa]\n",
        "P_0 = 1e2           # [kPa]\n",
        "V_c = 0.2           # [m^3]\n",
        "cv = 0.7176         # [kJ/(kg·K)]"
      ]
    },
    {
      "cell_type": "markdown",
      "source": [
        "### 1) Cálculo del volumen del recipiente"
      ],
      "metadata": {
        "id": "51HzsSgKOo_n"
      }
    },
    {
      "cell_type": "markdown",
      "source": [
        "$$P_1 V_1 = mRT_1$$"
      ],
      "metadata": {
        "id": "hHM96bJlTK-1"
      }
    },
    {
      "cell_type": "markdown",
      "source": [
        "Despejamos\n",
        "$$V_1 = \\frac{mRT_1}{P_1}$$"
      ],
      "metadata": {
        "id": "VDxntBnBO0Bc"
      }
    },
    {
      "cell_type": "code",
      "source": [
        "V_1 = (m*R*T_1)/P_1"
      ],
      "metadata": {
        "id": "1BaLsdbwOnYi"
      },
      "execution_count": null,
      "outputs": []
    },
    {
      "cell_type": "code",
      "source": [
        "#@title Volumen recipiente 1\n",
        "print(\"V_1 = %.4f [m^3]\"%V_1)"
      ],
      "metadata": {
        "colab": {
          "base_uri": "https://localhost:8080/"
        },
        "cellView": "form",
        "id": "d7RPWqGcO_hL",
        "outputId": "b643017a-5c93-4585-cb48-3e67c0c191a8"
      },
      "execution_count": null,
      "outputs": [
        {
          "output_type": "stream",
          "name": "stdout",
          "text": [
            "V_1 = 0.5743 [m^3]\n"
          ]
        }
      ]
    },
    {
      "cell_type": "markdown",
      "source": [
        "Primer principio termodinámica\n",
        "$$Q = \\Delta U + W_{\\Delta V} \\tag{1}$$"
      ],
      "metadata": {
        "id": "ps1Qmk8ZPe7e"
      }
    },
    {
      "cell_type": "markdown",
      "source": [
        "Variación de energía interna\n",
        "$$\\Delta U = m c_v (T_2 - T_1) \\tag{2}$$"
      ],
      "metadata": {
        "id": "qaU5auO8Pp_-"
      }
    },
    {
      "cell_type": "markdown",
      "source": [
        "Trabajo por variación de volumen\n",
        "$$W_{\\Delta V} = P_P(V_2 - V_1) \\tag{3}$$"
      ],
      "metadata": {
        "id": "0gJ97yVkP7Fk"
      }
    },
    {
      "cell_type": "markdown",
      "source": [
        "Calor (adiabático)\n",
        "$$Q = 0 \\tag{4}$$"
      ],
      "metadata": {
        "id": "9nhUXml3QPiF"
      }
    },
    {
      "cell_type": "markdown",
      "source": [
        "Reemplazamos en (1)\n",
        "$$0 = m c_v (T_2 - T_1) + P_P (V_2 - V_1)$$"
      ],
      "metadata": {
        "id": "Vr1lG07xQmBO"
      }
    },
    {
      "cell_type": "markdown",
      "source": [
        "Ecuación de los gases ideales\n",
        "$$PV = mRT \\tag{5}$$"
      ],
      "metadata": {
        "id": "nwiuex2NQVnu"
      }
    },
    {
      "cell_type": "markdown",
      "source": [
        "$$\\Rightarrow \\quad P_P V_2 = mRT_2$$"
      ],
      "metadata": {
        "id": "H6mKI630RPZ6"
      }
    },
    {
      "cell_type": "markdown",
      "source": [
        "Reemplazando\n",
        "$$0 = m c_v (T_2 - T_1) + mRT_2 - P_P V_1$$"
      ],
      "metadata": {
        "id": "vJn51GnnRC5E"
      }
    },
    {
      "cell_type": "markdown",
      "source": [
        "Despejamos $T_2$\n",
        "$$T_2 = \\frac{T_1 c_v m + P_P V_1}{m(c_v + R)}$$"
      ],
      "metadata": {
        "id": "uurLoYYERluZ"
      }
    },
    {
      "cell_type": "code",
      "source": [
        "# Temperatura final\n",
        "T_2 = (T_1*cv*m + P_p*V_1)/(m*(cv + R))"
      ],
      "metadata": {
        "id": "k-5ZrVscPOKh"
      },
      "execution_count": null,
      "outputs": []
    },
    {
      "cell_type": "code",
      "source": [
        "#@title Temperatura $T_2$ (suponiendo que el pistón no tiene límite)\n",
        "print(\"T_2 = %.2f [K]\"%T_2)"
      ],
      "metadata": {
        "colab": {
          "base_uri": "https://localhost:8080/"
        },
        "cellView": "form",
        "id": "SsK8wgwQSJSN",
        "outputId": "41734a53-054e-4f70-c261-eb96d6dc1cca"
      },
      "execution_count": null,
      "outputs": [
        {
          "output_type": "stream",
          "name": "stdout",
          "text": [
            "T_2 = 285.85 [K]\n"
          ]
        }
      ]
    },
    {
      "cell_type": "markdown",
      "source": [
        "---\n",
        "### 2) Cálculo de trabajo"
      ],
      "metadata": {
        "id": "adSan6IuS7vi"
      }
    },
    {
      "cell_type": "markdown",
      "source": [
        "Calculamos el volumen final $V_2$\n",
        "$$V_2 = \\frac{mRT_2}{P_P}$$"
      ],
      "metadata": {
        "id": "TLeu9EtTVYJo"
      }
    },
    {
      "cell_type": "code",
      "source": [
        "# Volumen 2\n",
        "V_2 = (m*R*T_2)/P_p\n",
        "# Volumen disponible\n",
        "V_disp = V_c + V_1"
      ],
      "metadata": {
        "id": "U5Rrlzn5UQ9Y"
      },
      "execution_count": null,
      "outputs": []
    },
    {
      "cell_type": "code",
      "source": [
        "#@title Volumenes:\n",
        "print(\"Volumen 2\")\n",
        "print(\"V_2 = %.4f [m^3]\"%V_2)\n",
        "print(\"\\nEntonces V_1 + V_2\")\n",
        "print(\"V_1 + V_2 = %.4f [m^3]\"%(V_1 + V_2))\n",
        "print(\"\\nVolumen disponible:\")\n",
        "print(\"V_disp = %.4f [m^3]\"%V_disp)"
      ],
      "metadata": {
        "colab": {
          "base_uri": "https://localhost:8080/"
        },
        "cellView": "form",
        "id": "UHs6aYroWfJU",
        "outputId": "b689dbd4-0677-4b70-8245-6005759b0e92"
      },
      "execution_count": null,
      "outputs": [
        {
          "output_type": "stream",
          "name": "stdout",
          "text": [
            "Volumen 2\n",
            "V_2 = 0.8204 [m^3]\n",
            "\n",
            "Entonces V_1 + V_2\n",
            "V_1 + V_2 = 1.3947 [m^3]\n",
            "\n",
            "Volumen disponible:\n",
            "V_disp = 0.7743 [m^3]\n"
          ]
        }
      ]
    },
    {
      "cell_type": "markdown",
      "source": [
        "> **Como podemos ver, el volumen disponible es menor que el volumen final calculado, entonces el trabajo por variación de volumen es el recorrido completo del cilindro.**"
      ],
      "metadata": {
        "id": "GiOB0J4EXjhK"
      }
    },
    {
      "cell_type": "markdown",
      "source": [
        "Entonces el trabajo por variación de volumen"
      ],
      "metadata": {
        "id": "lBrt12GMYNH9"
      }
    },
    {
      "cell_type": "code",
      "source": [
        "# Trabajo por variación de volumen\n",
        "W_ΔV = P_p*V_c\n",
        "# Trabajo útil o neto\n",
        "W_neto = W_ΔV - P_0*V_c"
      ],
      "metadata": {
        "id": "GHOiDOVuXU0H"
      },
      "execution_count": null,
      "outputs": []
    },
    {
      "cell_type": "code",
      "source": [
        "#@title Trabajos\n",
        "print(\"Trabajo por variación de volumen\")\n",
        "print(\"W_ΔV = %.1f [kJ]\"%W_ΔV)\n",
        "print(\"\\nTrabajo útil o neto\")\n",
        "print(\"W_neto %.1f [kJ]\"%W_neto)"
      ],
      "metadata": {
        "colab": {
          "base_uri": "https://localhost:8080/"
        },
        "cellView": "form",
        "id": "bVZKh9XCYx5K",
        "outputId": "5fbe1a08-3913-4acf-c1ee-fb74b28fc80b"
      },
      "execution_count": null,
      "outputs": [
        {
          "output_type": "stream",
          "name": "stdout",
          "text": [
            "Trabajo por variación de volumen\n",
            "W_ΔV = 1000.0 [kJ]\n",
            "\n",
            "Trabajo útil o neto\n",
            "W_neto 980.0 [kJ]\n"
          ]
        }
      ]
    },
    {
      "cell_type": "markdown",
      "source": [
        "### Cálculo de temperatura final"
      ],
      "metadata": {
        "id": "FGvDxVfsafdm"
      }
    },
    {
      "cell_type": "markdown",
      "source": [
        "$$Q = \\Delta U + W_{\\Delta V}$$"
      ],
      "metadata": {
        "id": "awF7fHqJa7JW"
      }
    },
    {
      "cell_type": "markdown",
      "source": [
        "$$0 = m c_v (T_f - T_1) + W_{\\Delta V}$$"
      ],
      "metadata": {
        "id": "6XiKwY5qbB67"
      }
    },
    {
      "cell_type": "markdown",
      "source": [
        "Despejamos temperatura final"
      ],
      "metadata": {
        "id": "f1bCNKwQbJNr"
      }
    },
    {
      "cell_type": "markdown",
      "source": [
        "$$T_f = T_1 - \\frac{W_{\\Delta v}}{m c_V}$$"
      ],
      "metadata": {
        "id": "HS75u4E-bOxN"
      }
    },
    {
      "cell_type": "code",
      "source": [
        "# Temperatura final\n",
        "T_f = T_1 - W_ΔV/(m*cv)"
      ],
      "metadata": {
        "id": "k_nBhiZHZCnU"
      },
      "execution_count": null,
      "outputs": []
    },
    {
      "cell_type": "code",
      "source": [
        "#@title Temperatura final\n",
        "print(\"T_f = %.2f [K]\"%T_f)"
      ],
      "metadata": {
        "id": "cAEfS1j1bhL5",
        "outputId": "f27568f0-ada2-4978-ae1b-e6e0842b3596",
        "colab": {
          "base_uri": "https://localhost:8080/"
        },
        "cellView": "form"
      },
      "execution_count": null,
      "outputs": [
        {
          "output_type": "stream",
          "name": "stdout",
          "text": [
            "T_f = 292.28 [K]\n"
          ]
        }
      ]
    }
  ]
}