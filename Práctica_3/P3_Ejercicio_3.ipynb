{
  "nbformat": 4,
  "nbformat_minor": 0,
  "metadata": {
    "colab": {
      "provenance": [],
      "authorship_tag": "ABX9TyNY1ydGgHNbuUkwjw1HWOnp",
      "include_colab_link": true
    },
    "kernelspec": {
      "name": "python3",
      "display_name": "Python 3"
    },
    "language_info": {
      "name": "python"
    }
  },
  "cells": [
    {
      "cell_type": "markdown",
      "metadata": {
        "id": "view-in-github",
        "colab_type": "text"
      },
      "source": [
        "<a href=\"https://colab.research.google.com/github/daniel-lorenzo/Termodinamica/blob/master/Pr%C3%A1ctica_3/P3_Ejercicio_3.ipynb\" target=\"_parent\"><img src=\"https://colab.research.google.com/assets/colab-badge.svg\" alt=\"Open In Colab\"/></a>"
      ]
    },
    {
      "cell_type": "markdown",
      "source": [
        "# Ejercicio 3\n",
        "Si a través de los límites de sistema contenido en el conjunto cilindro-émbolo, se entrega un trabajo eléctrico (We) de 1000kJ y considerando que la variación de Ec = variación de Ep = 0,   \n",
        "\n",
        "**Determinar:**\n",
        "1. Masa del aire\n",
        "2. Temperatura final (Tf)\n",
        "3. Trabajo por variación de vol."
      ],
      "metadata": {
        "id": "WNhwpE7E5QXS"
      }
    },
    {
      "cell_type": "markdown",
      "source": [
        "![image.png](data:image/png;base64,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)"
      ],
      "metadata": {
        "id": "Ffs20UES5jIR"
      }
    },
    {
      "cell_type": "markdown",
      "source": [
        "## Solución"
      ],
      "metadata": {
        "id": "Eo7ZHl8K5ke_"
      }
    },
    {
      "cell_type": "markdown",
      "source": [
        "### 1) Cálculo de la masa de aire\n",
        "Ec. de estado\n",
        "$$PV =mRT$$"
      ],
      "metadata": {
        "id": "IZNklPhc-uHz"
      }
    },
    {
      "cell_type": "markdown",
      "source": [
        "Despejamos $m$\n",
        "$$m = \\frac{PV_1}{RT_1}$$"
      ],
      "metadata": {
        "id": "DB_IyVE7-34c"
      }
    },
    {
      "cell_type": "markdown",
      "source": [
        "$$m = \\mathrm{\\frac{(10 \\times 10^2 \\; kPa)(0,3 \\; m^3)}{[0,287 \\; kJ/(kg \\cdot K)](300,15 \\; K)}}$$"
      ],
      "metadata": {
        "id": "aUH4cseYAMn0"
      }
    },
    {
      "cell_type": "markdown",
      "source": [
        "$$m = 3,4826 \\; \\mathrm{kg}$$"
      ],
      "metadata": {
        "id": "n5YjzG-hCC6w"
      }
    },
    {
      "cell_type": "code",
      "execution_count": null,
      "metadata": {
        "colab": {
          "base_uri": "https://localhost:8080/"
        },
        "id": "KaF7V-eP5L8S",
        "outputId": "0981d840-4871-4b4e-e204-53468fc96e08"
      },
      "outputs": [
        {
          "output_type": "execute_result",
          "data": {
            "text/plain": [
              "3.482579267857361"
            ]
          },
          "metadata": {},
          "execution_count": 1
        }
      ],
      "source": [
        "(10e2*0.3)/(0.287*300.15)"
      ]
    },
    {
      "cell_type": "markdown",
      "source": [
        "### 2) Cálculo de temperatura final"
      ],
      "metadata": {
        "id": "J8ZpLM87CLJh"
      }
    },
    {
      "cell_type": "markdown",
      "source": [
        "Primer principio\n",
        "$$Q = \\Delta U + W$$"
      ],
      "metadata": {
        "id": "A8Tlz9wuCT1z"
      }
    },
    {
      "cell_type": "markdown",
      "source": [
        "$$Q = \\underbrace{\\Delta U + W_{\\Delta V}}_{\\Delta H} + W_e$$"
      ],
      "metadata": {
        "id": "cfjtO9U9CcZL"
      }
    },
    {
      "cell_type": "markdown",
      "source": [
        "Tenemos que:\n",
        "$$\\Delta H = m c_p \\Delta T$$"
      ],
      "metadata": {
        "id": "i_8ZyvmBEgdI"
      }
    },
    {
      "cell_type": "markdown",
      "source": [
        "$$Q = \\Delta H + W_e$$"
      ],
      "metadata": {
        "id": "eCUBSPKZHXFE"
      }
    },
    {
      "cell_type": "markdown",
      "source": [
        "$$Q = m c_p \\Delta T + W_e$$"
      ],
      "metadata": {
        "id": "D_A0a-NUHzRt"
      }
    },
    {
      "cell_type": "markdown",
      "source": [
        "$$0 = m c_p (T_2 - T_1) + W_e$$"
      ],
      "metadata": {
        "id": "neLysz05H5BJ"
      }
    },
    {
      "cell_type": "markdown",
      "source": [
        "Despejo $T_2$\n",
        "$$T_2 = \\frac{T_1 c_p m - W_e}{c_p m}$$"
      ],
      "metadata": {
        "id": "pEno-tq8H_eD"
      }
    },
    {
      "cell_type": "code",
      "source": [
        "# Datos:\n",
        "W_e = -1000       # [kJ]     (trabajo eléctrico)\n",
        "P = 10e2          # [kPa]\n",
        "T_1 = 27 + 273.15 # [K]\n",
        "V_1 = 0.3         # [m^3]\n",
        "R = 0.287         # [kJ/(kg·K)]   (R del aire)\n",
        "cp = 1.0047       # [kJ/(kg·K)]   (cp del aire)\n",
        "Q = 0"
      ],
      "metadata": {
        "id": "Sc-CwCjsCBgC"
      },
      "execution_count": null,
      "outputs": []
    },
    {
      "cell_type": "code",
      "source": [
        "# Masa\n",
        "m = (10e2*0.3)/(R*T_1)"
      ],
      "metadata": {
        "id": "H2-hfCltKXLo"
      },
      "execution_count": null,
      "outputs": []
    },
    {
      "cell_type": "code",
      "source": [
        "# Temperatura final\n",
        "T_2 = (T_1*cp*m - W_e)/(cp*m)"
      ],
      "metadata": {
        "id": "Ucwe7pYgJ84f"
      },
      "execution_count": null,
      "outputs": []
    },
    {
      "cell_type": "code",
      "source": [
        "#@title Temperatura final:\n",
        "print(\"Temperatura final:\")\n",
        "print(\"T_2 = %.2f [K]\"%T_2)"
      ],
      "metadata": {
        "colab": {
          "base_uri": "https://localhost:8080/"
        },
        "cellView": "form",
        "id": "dfnSKaP2KSfz",
        "outputId": "32d7b6d1-48f4-4538-8c30-f54160088b3b"
      },
      "execution_count": null,
      "outputs": [
        {
          "output_type": "stream",
          "name": "stdout",
          "text": [
            "Temperatura final:\n",
            "T_2 = 585.95 [K]\n"
          ]
        }
      ]
    },
    {
      "cell_type": "markdown",
      "source": [
        "### 3) Cálculo de trabajo por variación de volumen $W_{\\Delta V}$"
      ],
      "metadata": {
        "id": "JkPsreTSK7wQ"
      }
    },
    {
      "cell_type": "markdown",
      "source": [
        "Trabajo por variación de volumen\n",
        "$$W_{\\Delta V} = P \\Delta V$$"
      ],
      "metadata": {
        "id": "z_GTusLzLT_U"
      }
    },
    {
      "cell_type": "markdown",
      "source": [
        "$$W_{\\Delta V} = P (V_2 - V_1) = P V_2 - P V_1$$"
      ],
      "metadata": {
        "id": "3Nx2hj7pLdr-"
      }
    },
    {
      "cell_type": "markdown",
      "source": [
        "$$W_{\\Delta V} = mRT_2 - PV_1$$"
      ],
      "metadata": {
        "id": "ehQhV_r5LrCM"
      }
    },
    {
      "cell_type": "markdown",
      "source": [
        "Variación de volumen:\n",
        "$$\\Delta V = \\frac{W_{\\Delta V}}{P}$$"
      ],
      "metadata": {
        "id": "h-Wn0fcNLxN4"
      }
    },
    {
      "cell_type": "code",
      "source": [
        "# Trabajo por vaciación de volumen\n",
        "W_ΔV = m*R*T_2 - P*V_1\n",
        "# Variación de volumen\n",
        "ΔV = W_ΔV/P"
      ],
      "metadata": {
        "id": "MgPWUdpRK3K6"
      },
      "execution_count": null,
      "outputs": []
    },
    {
      "cell_type": "code",
      "source": [
        "#@title Resultados:\n",
        "print(\"Trabajo por variación de volumen:\")\n",
        "print(\"W_ΔV = %.2f [kJ]\"%W_ΔV)\n",
        "print(\"\\nVariación de volumen:\")\n",
        "print(\"ΔV = %.4f [m^3]\"%ΔV)"
      ],
      "metadata": {
        "colab": {
          "base_uri": "https://localhost:8080/"
        },
        "cellView": "form",
        "id": "NzNabglHMVRZ",
        "outputId": "5b622d55-c8f3-4cd0-81a4-b4370ed4a4cf"
      },
      "execution_count": null,
      "outputs": [
        {
          "output_type": "stream",
          "name": "stdout",
          "text": [
            "Trabajo por variación de volumen:\n",
            "W_ΔV = 285.66 [kJ]\n",
            "\n",
            "Variación de volumen:\n",
            "ΔV = 0.2857 [m^3]\n"
          ]
        }
      ]
    },
    {
      "cell_type": "code",
      "source": [],
      "metadata": {
        "id": "zPs4vZVuMxhb"
      },
      "execution_count": null,
      "outputs": []
    }
  ]
}