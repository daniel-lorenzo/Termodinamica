{
  "nbformat": 4,
  "nbformat_minor": 0,
  "metadata": {
    "colab": {
      "provenance": [],
      "authorship_tag": "ABX9TyPPQqHmdIfl5d0ZNmNV7xmq",
      "include_colab_link": true
    },
    "kernelspec": {
      "name": "python3",
      "display_name": "Python 3"
    },
    "language_info": {
      "name": "python"
    }
  },
  "cells": [
    {
      "cell_type": "markdown",
      "metadata": {
        "id": "view-in-github",
        "colab_type": "text"
      },
      "source": [
        "<a href=\"https://colab.research.google.com/github/daniel-lorenzo/Termodinamica/blob/master/Pr%C3%A1ctica_3/P3_Ejercicio_7.ipynb\" target=\"_parent\"><img src=\"https://colab.research.google.com/assets/colab-badge.svg\" alt=\"Open In Colab\"/></a>"
      ]
    },
    {
      "cell_type": "markdown",
      "source": [
        "# Ejercicio 7\n",
        "Un recipiente rígido y adiabático contiene una masa de 40 kg de vapor que se encuentra a 80°C, si el 37,5 % de la masa está en fase líquida y el resto como vapor, determinar:   \n",
        "\n",
        "a) Título    \n",
        "b) Presión de recipiente    \n",
        "c) Volumen del recipiente   "
      ],
      "metadata": {
        "id": "I7TGx47fkQoB"
      }
    },
    {
      "cell_type": "markdown",
      "source": [
        "__Guía:__     \n",
        "Como sabemos, como tenemos mezcla agua-vapor, entonces 1ro calculamos el título\n",
        "Con la temperatura, el X y la tabla, hallamos P.     \n",
        "Lugo con X y P vamos a la tabla y con v’ y v’’ hallamos v (específ.), para luego hallar V."
      ],
      "metadata": {
        "id": "cghKyzZ9kc6x"
      }
    },
    {
      "cell_type": "markdown",
      "source": [
        "## Solución"
      ],
      "metadata": {
        "id": "44PeyHGQkiFM"
      }
    },
    {
      "cell_type": "markdown",
      "source": [
        "### a) Título"
      ],
      "metadata": {
        "id": "g42LlG9ekvy5"
      }
    },
    {
      "cell_type": "code",
      "execution_count": null,
      "metadata": {
        "id": "jRSLszubkNH-"
      },
      "outputs": [],
      "source": [
        "# Título\n",
        "x = 1 - 37.5/100"
      ]
    },
    {
      "cell_type": "code",
      "source": [
        "#@title Resultado\n",
        "print(\"Título\")\n",
        "print(\"x = %.3f\"%x)"
      ],
      "metadata": {
        "colab": {
          "base_uri": "https://localhost:8080/"
        },
        "cellView": "form",
        "id": "_MMsQcJGk_xr",
        "outputId": "a02c3521-c972-4b0a-ef5d-f4a07831baba"
      },
      "execution_count": null,
      "outputs": [
        {
          "output_type": "stream",
          "name": "stdout",
          "text": [
            "Título\n",
            "x = 0.625\n"
          ]
        }
      ]
    },
    {
      "cell_type": "markdown",
      "source": [
        "---\n",
        "### b) P del recipiente"
      ],
      "metadata": {
        "id": "_PNJWp8flOEn"
      }
    },
    {
      "cell_type": "code",
      "source": [
        "# De tabla\n",
        "P = 47.36 # [kPa]      (con t=80°C, y con x entre 0 y 1)"
      ],
      "metadata": {
        "id": "k86iqzcQlTj6"
      },
      "execution_count": null,
      "outputs": []
    },
    {
      "cell_type": "markdown",
      "source": [
        "---\n",
        "### c) V del recipiente"
      ],
      "metadata": {
        "id": "CwUOphjJmqH9"
      }
    },
    {
      "cell_type": "code",
      "source": [
        "# Dato\n",
        "m = 40 # [kg]"
      ],
      "metadata": {
        "id": "NnHfrApAmmEV"
      },
      "execution_count": null,
      "outputs": []
    },
    {
      "cell_type": "code",
      "source": [
        "# De tabla\n",
        "vp  = 0.0010292 # [m^3/kg]     (v'  con t=80°C)\n",
        "vpp = 3.4091    # [m^3/kg]     (v'' con t=80°C)"
      ],
      "metadata": {
        "id": "bMsFKepEm4yW"
      },
      "execution_count": null,
      "outputs": []
    },
    {
      "cell_type": "code",
      "source": [
        "# Volumen específico\n",
        "v = x*(vpp - vp) + vp"
      ],
      "metadata": {
        "id": "Q-v5eyTpnc8u"
      },
      "execution_count": null,
      "outputs": []
    },
    {
      "cell_type": "code",
      "source": [
        "# Volumen del recipiento\n",
        "V = m*v"
      ],
      "metadata": {
        "id": "hCvQoebvnsyl"
      },
      "execution_count": null,
      "outputs": []
    },
    {
      "cell_type": "code",
      "source": [
        "#@title Resultado\n",
        "print(\"Volumen del recipiente\")\n",
        "print(\"V = %.3f [m^3]\"%V)"
      ],
      "metadata": {
        "colab": {
          "base_uri": "https://localhost:8080/"
        },
        "cellView": "form",
        "id": "s0FF-pW0n4lD",
        "outputId": "3a595615-fe33-4855-be9d-5478fbf7ffea"
      },
      "execution_count": null,
      "outputs": [
        {
          "output_type": "stream",
          "name": "stdout",
          "text": [
            "Volumen del recipiente\n",
            "V = 85.243 [m^3]\n"
          ]
        }
      ]
    }
  ]
}