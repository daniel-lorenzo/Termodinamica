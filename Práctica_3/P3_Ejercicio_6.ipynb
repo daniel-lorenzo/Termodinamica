{
  "nbformat": 4,
  "nbformat_minor": 0,
  "metadata": {
    "colab": {
      "provenance": [],
      "authorship_tag": "ABX9TyO1t9u2Nnh6AL8Q/dhtsebW",
      "include_colab_link": true
    },
    "kernelspec": {
      "name": "python3",
      "display_name": "Python 3"
    },
    "language_info": {
      "name": "python"
    }
  },
  "cells": [
    {
      "cell_type": "markdown",
      "metadata": {
        "id": "view-in-github",
        "colab_type": "text"
      },
      "source": [
        "<a href=\"https://colab.research.google.com/github/daniel-lorenzo/Termodinamica/blob/master/Pr%C3%A1ctica_3/P3_Ejercicio_6.ipynb\" target=\"_parent\"><img src=\"https://colab.research.google.com/assets/colab-badge.svg\" alt=\"Open In Colab\"/></a>"
      ]
    },
    {
      "cell_type": "markdown",
      "source": [
        "# Ejercicio 6\n",
        "Se entrega energía térmica al vapor contenido en el conjunto cilindro-émbolo, hasta que la temperatura alcance los 220°C. Si consideramos nulas las variaciones de Ec y Ep, determinar:\n",
        "1. Temperatura inicial del sistema\n",
        "2. $W$ por variación de volumen\n",
        "3. $Q$ que recibe el sistema\n",
        "4. Representación gráfica en P-V"
      ],
      "metadata": {
        "id": "i1vroaRRuTma"
      }
    },
    {
      "cell_type": "markdown",
      "source": [
        "![image.png](data:image/png;base64,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)"
      ],
      "metadata": {
        "id": "8rl5DtrFu4JU"
      }
    },
    {
      "cell_type": "markdown",
      "source": [
        "__Guía:__\n",
        "\n",
        "En este caso como tenemos la presión y el dato de vapor húmedo vamos a la tabla y hallamos la temperatura.     \n",
        "Luego para hallar el W mecánico debemos calcular 1ro. El vi con el x dado y el vf con los datos finales (ambos trabajando con la tabla).    \n",
        "Luego para hallar el Q planteamos el 1er. Principio para sistemas cerrados y deberemos calcular previamente ui y uf cada uno en sus condiciones.    \n",
        "Por último para la representación gráfica dibujamos la campana en n plano de coordenadas P-V donde tenemos la P, las dos isotermas entre las que se produce la transformación y los dos vi y vf calculados, con lo cual podremos representar la superficie equivalente al trabajo realizado."
      ],
      "metadata": {
        "id": "2Srsnl48u7P6"
      }
    },
    {
      "cell_type": "markdown",
      "source": [
        "## Solución"
      ],
      "metadata": {
        "id": "3mUCNyJRvMEi"
      }
    },
    {
      "cell_type": "code",
      "source": [
        "!pip install CoolProp"
      ],
      "metadata": {
        "id": "dK1SI9fNxKnu"
      },
      "execution_count": null,
      "outputs": []
    },
    {
      "cell_type": "code",
      "source": [
        "import CoolProp.CoolProp as cp"
      ],
      "metadata": {
        "id": "wY3cdDVpxTeC"
      },
      "execution_count": 2,
      "outputs": []
    },
    {
      "cell_type": "markdown",
      "source": [
        "### a) Temperatura inicial del sistema"
      ],
      "metadata": {
        "id": "73SFQAn-yrA4"
      }
    },
    {
      "cell_type": "code",
      "execution_count": 3,
      "metadata": {
        "id": "C-gwHLwGuMPl"
      },
      "outputs": [],
      "source": [
        "# Datos:\n",
        "x = 0.5\n",
        "P = 8e2 # [kPa]\n",
        "m = 30  # [kg]"
      ]
    },
    {
      "cell_type": "code",
      "source": [
        "# De tabla\n",
        "T_i = 170.41 + 273.15 # [K]"
      ],
      "metadata": {
        "id": "E0JIAr78xp6j"
      },
      "execution_count": 4,
      "outputs": []
    },
    {
      "cell_type": "code",
      "source": [
        "#@title Resultado:\n",
        "print(\"Temperatura inicial del sistema\")\n",
        "print(\"T_i = %.2f [K]\"%T_i)\n",
        "print(\"T_i = %.2f°C\"%(T_i - 273.15))"
      ],
      "metadata": {
        "colab": {
          "base_uri": "https://localhost:8080/"
        },
        "cellView": "form",
        "id": "Vttq9szRyLGe",
        "outputId": "ccb4c41b-c6c1-423a-8955-7708bdfaf5be"
      },
      "execution_count": 5,
      "outputs": [
        {
          "output_type": "stream",
          "name": "stdout",
          "text": [
            "Temperatura inicial del sistema\n",
            "T_i = 443.56 [K]\n",
            "T_i = 170.41°C\n"
          ]
        }
      ]
    },
    {
      "cell_type": "markdown",
      "source": [
        "---\n",
        "### b) Trabajo por variación de volumen $W_{\\Delta V}$"
      ],
      "metadata": {
        "id": "sUnttFWWyv3w"
      }
    },
    {
      "cell_type": "markdown",
      "source": [
        "Volumen específico inicial\n",
        "$$v_i = x(v'' - v') + v'$$"
      ],
      "metadata": {
        "id": "7ncTjjFAy5T1"
      }
    },
    {
      "cell_type": "markdown",
      "source": [
        "Volumen inicial\n",
        "$$V_i = mv_i$$"
      ],
      "metadata": {
        "id": "TqHz2zQydN8u"
      }
    },
    {
      "cell_type": "code",
      "source": [
        "# De tabla\n",
        "vp = 0.001115 # [m^3/kg]\n",
        "vpp = 0.2403  # [m^3/kg]"
      ],
      "metadata": {
        "id": "bMfwQ9cLyhNx"
      },
      "execution_count": 6,
      "outputs": []
    },
    {
      "cell_type": "code",
      "source": [
        "# Volumen específico inicial\n",
        "v_i = x*(vpp - vp) + vp\n",
        "# Volumen inicial\n",
        "V_i = m*v_i"
      ],
      "metadata": {
        "id": "CjgcizvLzYfM"
      },
      "execution_count": 7,
      "outputs": []
    },
    {
      "cell_type": "code",
      "source": [
        "#@title Volumen inicial\n",
        "print(\"Volumen inicial:\")\n",
        "print(\"V_i = %.3f [m^3]\"%V_i)"
      ],
      "metadata": {
        "id": "aER1pp9Jzf4o",
        "colab": {
          "base_uri": "https://localhost:8080/"
        },
        "cellView": "form",
        "outputId": "fbb6065b-1cbf-4b5e-dc74-f084e3bb7ed5"
      },
      "execution_count": 8,
      "outputs": [
        {
          "output_type": "stream",
          "name": "stdout",
          "text": [
            "Volumen inicial:\n",
            "V_i = 3.621 [m^3]\n"
          ]
        }
      ]
    },
    {
      "cell_type": "markdown",
      "source": [
        "P = 8 bar  \n",
        "T = 220°C"
      ],
      "metadata": {
        "id": "Yjw4eHm3ddu4"
      }
    },
    {
      "cell_type": "code",
      "source": [
        "# De tabla\n",
        "v_f = 0.27402 # [m^3/kg]       (con P=8 bar y T=220°C)"
      ],
      "metadata": {
        "id": "avzeB_RGcit1"
      },
      "execution_count": 9,
      "outputs": []
    },
    {
      "cell_type": "code",
      "source": [
        "# Volumen final\n",
        "V_f = m*v_f"
      ],
      "metadata": {
        "id": "CmXeQAlZd-o8"
      },
      "execution_count": 10,
      "outputs": []
    },
    {
      "cell_type": "code",
      "source": [
        "#@title Volumen final\n",
        "print(\"Volumen final:\")\n",
        "print(\"V_f = %.3f [m^3]\"%V_f)"
      ],
      "metadata": {
        "colab": {
          "base_uri": "https://localhost:8080/"
        },
        "cellView": "form",
        "id": "Kp8XIDbbeb87",
        "outputId": "7492abec-23f6-448f-821f-363a0e97983f"
      },
      "execution_count": 11,
      "outputs": [
        {
          "output_type": "stream",
          "name": "stdout",
          "text": [
            "Volumen final:\n",
            "V_f = 8.221 [m^3]\n"
          ]
        }
      ]
    },
    {
      "cell_type": "markdown",
      "source": [
        "$$W_{\\Delta V} = P (V_f - V_i)$$"
      ],
      "metadata": {
        "id": "KYTgKKFaelZS"
      }
    },
    {
      "cell_type": "code",
      "source": [
        "# Trabajo por variación de volumen\n",
        "W_ΔV = P*(V_f - V_i)"
      ],
      "metadata": {
        "id": "h0gn9aVqeJrY"
      },
      "execution_count": 12,
      "outputs": []
    },
    {
      "cell_type": "code",
      "source": [
        "#@title Trabajo por variación de volumen\n",
        "print(\"Trabajo por variación de volumen:\")\n",
        "print(\"W_ΔV = %.2f [kJ]\"%W_ΔV)"
      ],
      "metadata": {
        "colab": {
          "base_uri": "https://localhost:8080/"
        },
        "cellView": "form",
        "id": "pqlu0_yUe-v5",
        "outputId": "b4f9398d-9228-400a-faf5-269f81be19e7"
      },
      "execution_count": 13,
      "outputs": [
        {
          "output_type": "stream",
          "name": "stdout",
          "text": [
            "Trabajo por variación de volumen:\n",
            "W_ΔV = 3679.50 [kJ]\n"
          ]
        }
      ]
    },
    {
      "cell_type": "markdown",
      "source": [
        "---\n",
        "### c) Calor que recibe el sistema"
      ],
      "metadata": {
        "id": "t5yuGRuNgK1H"
      }
    },
    {
      "cell_type": "markdown",
      "source": [
        "$$Q = \\Delta U + W_{\\Delta V}$$"
      ],
      "metadata": {
        "id": "9SurNXBig60Y"
      }
    },
    {
      "cell_type": "markdown",
      "source": [
        "Energía específica inicial\n",
        "$$u_0 = x (u'' - u') + u'$$"
      ],
      "metadata": {
        "id": "tnSP_ynwhAUC"
      }
    },
    {
      "cell_type": "code",
      "source": [
        "# De tabla\n",
        "up =   720.05 # [kJ/kg]   (u' con P=8 bar)\n",
        "upp = 2575.25 # [kJ/kg]  (u'' con P=8 bar)"
      ],
      "metadata": {
        "id": "VhVqeUBZfY3H"
      },
      "execution_count": 14,
      "outputs": []
    },
    {
      "cell_type": "code",
      "source": [
        "# Energía específica inicial\n",
        "u_i = x*(upp - up) + up"
      ],
      "metadata": {
        "id": "SbU16Zc1hkHj"
      },
      "execution_count": 15,
      "outputs": []
    },
    {
      "cell_type": "code",
      "source": [
        "# De tabla\n",
        "u_f = 2665.03 # [kJ/kg]    (con P=8 bar y T=220°C)"
      ],
      "metadata": {
        "id": "1nne0xFlhy-7"
      },
      "execution_count": 16,
      "outputs": []
    },
    {
      "cell_type": "markdown",
      "source": [
        "Variación de energía interna\n",
        "$$\\Delta U = m(u_f - u_i)$$"
      ],
      "metadata": {
        "id": "dMCZDu2QiTIe"
      }
    },
    {
      "cell_type": "code",
      "source": [
        "# Variación de energía interna\n",
        "ΔU = m*(u_f - u_i)"
      ],
      "metadata": {
        "id": "irGG8mh5iEA9"
      },
      "execution_count": 17,
      "outputs": []
    },
    {
      "cell_type": "code",
      "source": [
        "# Calor que recibe el sistema\n",
        "Q = ΔU + W_ΔV"
      ],
      "metadata": {
        "id": "088-sy3qimcW"
      },
      "execution_count": 18,
      "outputs": []
    },
    {
      "cell_type": "code",
      "source": [
        "#@title Resultado\n",
        "print(\"Q = %.1f [kJ]\"%Q)"
      ],
      "metadata": {
        "colab": {
          "base_uri": "https://localhost:8080/"
        },
        "cellView": "form",
        "id": "XY9X3HTwi3G0",
        "outputId": "95672879-d9f5-4b0a-8090-4f02cc37c84d"
      },
      "execution_count": 19,
      "outputs": [
        {
          "output_type": "stream",
          "name": "stdout",
          "text": [
            "Q = 34200.9 [kJ]\n"
          ]
        }
      ]
    }
  ]
}