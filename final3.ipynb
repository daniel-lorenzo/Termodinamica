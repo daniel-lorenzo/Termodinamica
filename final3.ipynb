{
 "cells": [
  {
   "cell_type": "markdown",
   "metadata": {},
   "source": [
    "# Modelo final de termodinámica"
   ]
  },
  {
   "cell_type": "markdown",
   "metadata": {},
   "source": [
    "Si el calor almacenado en la fuente $T_f$ se usa en una máquina térmica con $\\eta_{ex} = 0,8 \\eta_{ex,id}$, se obtiene $W_{MT2}$\n",
    "\n",
    "![final3-0](img/final3-0.png)\n",
    "\n",
    "__Determinar:__\n",
    "\n",
    "__a)__ $m$ del cuerpo de la máquina térmica\n",
    "\n",
    "__b)__ Estado general del vapor en A\n",
    "\n",
    "__c)__ $\\eta_{ex}$ de la instalación\n",
    "\n",
    "__d)__ $W_{perd}$ de la instalación"
   ]
  },
  {
   "cell_type": "markdown",
   "metadata": {},
   "source": [
    "---------\n",
    "## Solución"
   ]
  },
  {
   "cell_type": "markdown",
   "metadata": {},
   "source": [
    "### Máquina frigorífica\n",
    "Datos disponibles: $T_{4i}, T_{5i}, C_{c4},c_{c5}, \\Delta S_4, \\Delta Ex_{MF}$       \n",
    "Incógnita: $W_{MF}$\n",
    "\n",
    "$\\begin{array}{|ll|l|l|}\n",
    "\\hline \n",
    " & \\mbox{Ecuación} & \\mbox{Incógnitas} \\\\\n",
    "\\hline \n",
    "1) & W_{MF} = Q_4 + Q_5 & W_{MF}, Q_4, Q_5 & (1), (2), (3) \\\\\n",
    "2) & Q_4 = c_{c4} (T_{4f} - T_{4i}) & T_{4f} & (4) \\\\\n",
    "3) & Q_5 c_{c5} (T_{5f} - T_{5i}) & T_{5f} & (5) \\\\\n",
    "4) & \\Delta S_4 = \\ln (T_{4f} / T_{5i} \\; (-) & & \\\\\n",
    "5) & \\Delta S_5 = c_{c5} \\ln (T_{5f} / T_{5i}) \\; (+) & \\Delta S_5 & (6) \\\\\n",
    "6) & \\Delta S_{UMF} = \\Delta S_4 + \\Delta S_5 & \\Delta S_{UMF} & (7) \\\\\n",
    "7) & \\Delta Ex_{MF} = - T_0 \\Delta S_{UMF} & & \\\\\n",
    "\\hline\n",
    "\\end{array}$\n",
    "\n",
    "__7 ecuaciones - 7 incógnitas $\\rightarrow$ tiene solución__"
   ]
  },
  {
   "cell_type": "markdown",
   "metadata": {},
   "source": [
    "Para los ítems c) y d) se necesitan los calores utilizables y las variaciones de entropías de los cuerpos.\n",
    "\n",
    "$$ Q_{U4} = Q_4 - T_0 \\Delta S_4 $$\n",
    "\n",
    "$$ Q_{U5} = Q_5 - T_0 \\Delta S_5 $$"
   ]
  },
  {
   "cell_type": "markdown",
   "metadata": {},
   "source": [
    "#### Análisis de $Q_{U4}$\n",
    "$ \\downarrow T_4 (t) \\quad\n",
    "\\begin{array}{ll}\n",
    " & T_{4i} = 30^\\circ \\mathrm{C} \\\\\n",
    "\\hline\n",
    "\\Delta T = 10^\\circ \\mathrm{C} & \\updownarrow \\\\\n",
    "-------  & T_0 = 20^\\circ \\mathrm{C} \\\\\n",
    "\\Delta T = 10^\\circ \\mathrm{C} & \\updownarrow \\\\\n",
    "\\hline\n",
    "  & T = 10^\\circ \\mathrm{C}\n",
    "\\end{array}$\n",
    "\n",
    "$\\begin{array}{ll}\n",
    "\\mbox{Si} \\; T_{4f} < 10^\\circ \\mathrm{C} & \\Rightarrow Q_{U4} \\rightarrow \\mbox{producido} \\\\\n",
    "\\mbox{Si} \\; 10^\\circ \\mathrm{C} < T_{f4} < 30^\\circ \\mathrm{C} & \\Rightarrow Q_{U4} \\rightarrow \\mbox{consumido}\n",
    "\\end{array}$"
   ]
  },
  {
   "cell_type": "markdown",
   "metadata": {},
   "source": [
    "#### Análisis de $Q_{U5}$\n",
    "$ \\uparrow T_5 (t) \\quad\n",
    "\\begin{array}{ll}\n",
    "\\hline\n",
    "  \\\\\n",
    "-------  & T_{5i} = 50^\\circ \\mathrm{C} \\\\\n",
    "\\Delta T = 30^\\circ \\mathrm{C} & \\updownarrow \\\\\n",
    "\\hline\n",
    "  & T_0 = 20^\\circ \\mathrm{C}\n",
    "\\end{array}$\n",
    "\n",
    "$\\begin{array}{ll}\n",
    "\\mbox{Si} \\; T_{5f} > 50^\\circ \\mathrm{C} & \\Rightarrow Q_{U5} \\rightarrow \\mbox{producido} \\\\\n",
    "\\mbox{Si} \\; T_{5f} > T_{5i} & \\Rightarrow Q_{U5} \\rightarrow \\mbox{producido}\n",
    "\\end{array}$"
   ]
  },
  {
   "cell_type": "markdown",
   "metadata": {},
   "source": [
    "$\\Rightarrow$ c y d me llevo $\\rightarrow$ \n",
    "\n",
    "$\\begin{array}{|lll|}\n",
    "\\hline\n",
    "\\Delta S_4 (-) & Q_{U4} & \\rightarrow (P); \\; (C) \\\\\n",
    " \\Delta S_5 (+) & Q_{U5} & \\rightarrow (P) \\\\\n",
    " \\hline\n",
    "\\end{array}$"
   ]
  },
  {
   "cell_type": "markdown",
   "metadata": {},
   "source": [
    "-----------\n",
    "### Pistón\n",
    "$\\begin{array}{|ll|l|l|}\n",
    "\\hline\n",
    "  & \\mathrm{Ecuaci \\acute{o} n} & \\mathrm{Inc \\acute{o} gnita} \\\\\n",
    "  \\hline\n",
    "1) & V_i = m_A v_i & V_i, v_i & (1),(2) \\\\\n",
    "2) & v_i = v'_i + x_i (v''_i - v'_i) & v_i, v''_i & (3),(4) \\\\\n",
    "3) & v'_i = f(P)  \\mbox{ líquido saturado (de tabla)} & & \\\\\n",
    "4) & v''_i = f(P) \\mbox{ vapor saturado (de tabla)} & & \\\\\n",
    "5) & V_f = m_A v_f & V_f, v_f & (5),(6) \\\\\n",
    "6) & W_{\\Delta V} = m_A P ( v_f - v_i) & W_{\\Delta V} & (7) \\\\\n",
    "7) & Q = \\Delta U + W_{\\Delta V} + W_{pal} & Q, \\Delta U & (8),(9) \\\\\n",
    "8) & Q = 0 \\mbox{ por adiabatico} & & \\\\\n",
    "9) & \\Delta U = m_A (u_f - u_i) & u_i, u_f & (10),(13) \\\\\n",
    "10) & u_i = x_i (u''_i - u'_i) + u'_i & u'_i, u''_i & (11),(12) \\\\\n",
    "11) & u'_i = f(P) \\mbox{ líquido saturado (de tabla)} & & \\\\\n",
    "12) & u''_i = f(P) \\mbox{ vapor saturado (de tabla)} & & \\\\\n",
    " & \\mbox{* Si } v'_f < v_f < v''_f & & \\\\\n",
    "13) & u_f = x_f (u''_f - u'_f) + u'_f & u'_f, u''_f, x_f & (14),(15),(16) \\\\\n",
    "14) & u'_f = u'_i & & \\\\\n",
    "15) & u''_f = u''_i & & \\\\\n",
    "16) & \\displaystyle x_f = \\frac{v_f - v'_f}{v''_f - v'_f} & v'_f, v''_f & (17),(18) \\\\\n",
    "17) & v'_f = v'_i & & \\\\\n",
    "18) & v''_f = v'_i & & \\\\\n",
    "\\hline\n",
    "\\end{array}$\n",
    "\n",
    "__18 ecuaciones - 18 incógnitas $\\rightarrow$ tiene solución__\n",
    "\n",
    "$\\begin{array}{lll}\n",
    "13') & u_f = f(P,v_f) & \\mbox{de tabla}\n",
    "\\end{array}$\n",
    "\n",
    "__13 ecuaciones - 13 incógnitas $\\rightarrow$ tiene solución__"
   ]
  },
  {
   "cell_type": "markdown",
   "metadata": {},
   "source": [
    "------------\n",
    "### Fuente\n",
    "Datos disponibles: $T_f, \\, T_0, \\, \\eta_{ex,MT} = 0,8, \\, \\eta_{ex,MTid}, \\, W_{MT2}$\n",
    "\n",
    "$\\begin{array}{|ll|l|l|}\n",
    "\\hline\n",
    "  & \\mathrm{Ecuaci \\acute{o} n} & \\mathrm{Inc \\acute{o} gnita} \\\\\n",
    "  \\hline\n",
    "1) & \\Delta S_F = Q_f / T_F & Q_F, \\Delta S_F & (1),(1) \\\\\n",
    "2) & Q_{UF} = Q_F - T_0 \\Delta S_F & Q_{UF} & (3) \\\\\n",
    "3) & \\displaystyle \\eta_{ex} = \\frac{W_{MT2}}{|Q_{UF}|} & \\eta_{ex} & (4) \\\\\n",
    "4) & \\eta_{ex} = 0,8 \\eta_{ex,id} & \\eta_{ex,id} & (5) \\\\\n",
    "5) & \\eta_{ex,id} = 1 & & \\\\\n",
    "\\hline\n",
    "\\end{array}$\n",
    "\n",
    "__5 ecuaciones - 5 incógnitas $\\rightarrow$ tiene solución__"
   ]
  },
  {
   "cell_type": "markdown",
   "metadata": {},
   "source": [
    "Para los ítems c) y d) se necesita el calor utilizable de $Q_F$ y la variación de entropía de la fuente.\n",
    "\n",
    "$\\begin{array}{ll}\n",
    "\\Delta S_F = Q_F - T_0 \\Delta S_F & (+) \\\\\n",
    "Q_{UF} = Q_{UF} - T_0 \\Delta S_F & \\rightarrow \\mbox{producido}\n",
    "\\end{array}$\n",
    "\n",
    "$\\Rightarrow$ Para los ítems c y d me llevo $\\rightarrow$ \n",
    "$\\begin{array}{|ll|}\n",
    "\\hline\n",
    "\\Delta S_F (+) & Q_{UF} \\rightarrow (P) \\\\\n",
    "\\hline\n",
    "\\end{array}$"
   ]
  },
  {
   "cell_type": "markdown",
   "metadata": {},
   "source": [
    "------------\n",
    "### Cálculo de trabajos\n",
    "$\\begin{array}{l|l}\n",
    "W_{MF} = \\%1 W_{MT} & \\Rightarrow W_{MT} \\\\\n",
    "W_{MT} = Q_F + W_{MF} + W_{disp} + W_{pal} & \\Rightarrow W_{pal}\n",
    "\\end{array}$\n",
    "\n",
    "Para el ítem c me llevo $\\rightarrow \n",
    "\\begin{array}{|l|}\n",
    "\\hline\n",
    "W_{disp} \\rightarrow (P) \\\\\n",
    "\\hline\n",
    "\\end{array}$"
   ]
  },
  {
   "cell_type": "markdown",
   "metadata": {},
   "source": [
    "-------------\n",
    "### Cilindro-pistón (adiabáticos)\n",
    "Datos disponibles: $x_{iA}, m_A, W_{pal}, P_{ext}, V_{m \\acute{a} x} = 2 V_{Ai}$\n",
    "\n",
    "#### Primer hipótesis: el pistón no hace tope.\n",
    "\n",
    "Si el pistón no hace tope\n",
    "$$ P_f = P_i = P_{ext} = P = \\mathrm{constante} $$"
   ]
  },
  {
   "cell_type": "markdown",
   "metadata": {},
   "source": [
    "Ahora, si \n",
    "$$ V_f < V_{m \\acute{a} x} = 2 V_i $$\n",
    "\n",
    "Si $v_f > v''_f \\Rightarrow$ vapor sobrecalentado $\\Rightarrow$ con $P$ y $v_f$ de tabla\n",
    "\n",
    "Si $v'_f < v_f v''_f \\; \\Rightarrow$ vapor húmedo $\\Rightarrow$ con $P$ y $v_f$ obtengo $x_f$\n",
    "\n",
    "Si la desigualdad (I) no se cumple, la hipótesis no es correcta. Por tanto, planteamos la segunda hipótesis."
   ]
  },
  {
   "cell_type": "markdown",
   "metadata": {},
   "source": [
    "#### Segunda hipótesis: el pistón hace tope\n",
    "Si el pistón hace tope, entonces\n",
    "\n",
    "$$ V_f = V_{m \\acute{a} x} = 2 V_i $$\n",
    "\n",
    "Para verificar la validez de la hipótesis se tiene que cumplir que\n",
    "\n",
    "$$ P_f < P_i = P_{ext} $$"
   ]
  },
  {
   "cell_type": "markdown",
   "metadata": {},
   "source": [
    "Para entrar en tabla y obtener $P_f$ necesito dos datos del estado final del vapor. Estos serán $v_f$ y $u_f$, porque se pueden calcular con los datos disponibles.\n",
    "\n",
    "Incógnitas: $v_f, u_f$\n",
    "\n",
    "$\\begin{array}{|ll|l|l|}\n",
    "\\hline\n",
    " & \\mathrm{Ecuaci \\acute{o} n} & \\mathrm{Inc \\acute{o} gnitas} \\\\\n",
    " \\hline\n",
    "1) & V_f = m_A v_f & v_f & (1) \\\\\n",
    "2) & \\Delta U = m (u_f - u_i) & u_f, \\Delta U & (2),(3) \\\\\n",
    "3) & Q = \\Delta U + W_{\\Delta V} + W_{pal} & W_{\\Delta V} & (4) \\\\\n",
    "4) & W_{\\Delta V} = P_{ext} (V_f - V_i) & & \\\\\n",
    "\\hline\n",
    "\\end{array}$\n",
    "\n",
    "__4 ecuaciones - 4 incógnitas $\\rightarrow$ tiene solución__"
   ]
  },
  {
   "cell_type": "markdown",
   "metadata": {},
   "source": [
    "Con $v_f$ y $u_f$ de tabla obtengo $P_f$, si $P_f > P_{ext}$ entonces la hipótesis es correcta."
   ]
  },
  {
   "cell_type": "markdown",
   "metadata": {},
   "source": [
    "Si $v'_f < v_f < v''_f \\; \\Rightarrow$ vapor húmedo\n",
    "\n",
    "$\\begin{array}{|lll|l|}\n",
    "\\hline\n",
    " & \\mathrm{Ecuaci \\acute{o} n} & & \\mathrm{Inc \\acute{o} gnitas} \\\\\n",
    " \\hline\n",
    "1) & \\displaystyle x_f = \\frac{v_f - v'_f}{v''_f - v'_f} &  & x_f, v'_f, v''_f \\\\\n",
    "2) & v'_f = f(P_f) & \\mathrm{liq. \\; sat. \\; (de \\; tabla)} & \\\\\n",
    "3) & v''_f = f(P_f) & \\mathrm{vap. \\; sat. \\; (de \\; tabla)} & \\\\\n",
    "\\hline\n",
    "\\end{array}$\n",
    "\n",
    "Si $v_f > v''_f \\; \\Rightarrow$ vapor sobrecalentado $\\Rightarrow$ con $v_f$ y $u_f$ de tabla obtengo $T_f$"
   ]
  },
  {
   "cell_type": "markdown",
   "metadata": {},
   "source": [
    "Para los ítems c) y d) se necesita la variación de exergía y de entropía del vapor, entonces\n",
    "\n",
    "$\\begin{array}{lll|l}\n",
    "\\mathrm{Si} & v'_f < v_f < v''_f \\\\\n",
    "1) & \\Delta S_{vapor} = m_A (s_f - s_i) & (+) \\; \\mathrm{por \\; adiab \\acute{a} tico} & \\Delta S_{vapor},s_f,s_i \\\\\n",
    "2) & s_f = x_f (s''_f - s'_f) + s'_f &  &  s'_f, s''_f \\\\\n",
    "3) & s'_f = f(P_f) & \\mathrm{liq. \\; sat. \\; (de \\; tabla)}  \\\\\n",
    "4) & s''_f = f(P_f) & \\mathrm{vap. \\; sat. \\; (de \\; tabla)} \\\\\n",
    "5) & s_i = x_i (s''_i -s'_i) + s'_i & & s'_i, s''_i \\\\\n",
    "6) & s'_i = f(P_i) & \\mathrm{liq. \\; sat. \\; (de \\; tabla)} \\\\\n",
    "7) & s''_i = f(P_i) & \\mathrm{vap. \\; sat. \\; (de \\; tabla)} \\\\\n",
    "8) & \\Delta Ex_{vapor} = \\Delta U - T_0 \\Delta S_{vapor} + P_0 (V_f - V_i) & & \\Delta Ex_{vapor}\n",
    "\\end{array}$"
   ]
  },
  {
   "cell_type": "markdown",
   "metadata": {},
   "source": [
    "$\\Rightarrow$ Para c y d me llevo $\\rightarrow \n",
    "\\begin{array}{|ll|}\n",
    "\\hline\n",
    "\\Delta S_{vapor} & (+) \\\\\n",
    "\\Delta Ex_{vapor} & \\rightarrow \\mathrm{producida} \\\\\n",
    "\\hline\n",
    "\\end{array}$"
   ]
  },
  {
   "cell_type": "markdown",
   "metadata": {},
   "source": [
    "----------\n",
    "### Máquina térmica (funciona hasta pararse)\n",
    "Datos disponibles: $T_1, T_{2i}, c_2, W_{MT}, \\eta_{term} = 0,6 \\eta_{term,id}$\n",
    "\n",
    "Incógnita $m_2$\n",
    "\n",
    "$\\begin{array}{|ll|l|}\n",
    "\\hline\n",
    " & \\mathrm{Ecuaci \\acute{o} n} & \\mathrm{Inc \\acute{o} gnitas} \\\\\n",
    " \\hline\n",
    "1) & Q_2 = m_2 c_2 (T_1 - T_{2i}) & m_2, Q_2 \\\\\n",
    "2) & W_{MT} = Q_1 + Q_2 & Q_1 \\\\\n",
    "3) & \\displaystyle \\eta_{term} = \\frac{W_{MT}}{Q_1} & \\eta_{term} \\\\\n",
    "4) & \\eta_{term} = 0,6 \\eta_{term,id} & \\eta_{term,id} \\\\\n",
    "5) & \\displaystyle \\eta_{term,id} = \\frac{W_{MT}}{Q_{1id}} & Q_{1id} \\\\\n",
    "6) & W_{MT} = Q_{1id} + Q_{2id} & Q_{2id} \\\\\n",
    "7) & Q_{2id} = m_{2id} c_2 (T_1 - T_{2i}) & m_{2id} \\\\\n",
    "8) & \\Delta S_{2id} = m_{2id} c_2 \\ln (T_1 / T_{2id} ) & \\Delta S_{2id} \\\\\n",
    "9) & \\Delta S_{Uid} = m_{2id} c_2 \\ln (T_1 / T_{2id}) & \\Delta S_{Uid}, \\Delta S_{1id} \\\\\n",
    "10) & \\Delta S_{Uid} = 0 \\quad \\mathrm{(por \\; reversible)} & \\\\\n",
    "11) & \\Delta S_{1id} = Q_{1id}/T_1 & \\\\\n",
    "\\hline\n",
    "\\end{array}$\n",
    "\n",
    "__11 ecuaciones - 11 incógnitas $\\rightarrow$ tiene solución__"
   ]
  },
  {
   "cell_type": "markdown",
   "metadata": {},
   "source": [
    "Para los ítems c) y d) se necesitan las variaciones de entropía y los calores utilizables:\n",
    "\n",
    "$\\begin{array}{ll}\n",
    "\\Delta S_1 = Q_1 / T_1 & (-) \\\\\n",
    "\\Delta S_2 = m_2 c_2 \\ln(T_1/T_{2i}) & (+) \\\\\n",
    "Q_{U1} = Q_1 - T_0 \\Delta S_1 & \\rightarrow \\mathrm{consumido} \\\\\n",
    "Q_{U2} = Q_2 - T_0 \\Delta S_2\n",
    "\\end{array}$"
   ]
  },
  {
   "cell_type": "markdown",
   "metadata": {},
   "source": [
    "#### Análisis de $Q_{U2}$\n",
    "\n",
    "$ \\uparrow T_2 (t) \\quad\n",
    "\\begin{array}{ll}\n",
    " & T = 30^\\circ \\mathrm{C} \\\\\n",
    "\\hline\n",
    "\\Delta T = 10^\\circ \\mathrm{C} & \\updownarrow \\\\\n",
    "-------  & T_0 = 20^\\circ \\mathrm{C} \\\\\n",
    "\\Delta T = 10^\\circ \\mathrm{C} & \\updownarrow \\\\\n",
    "\\hline\n",
    "  & T_{2i} = 10^\\circ \\mathrm{C}\n",
    "\\end{array}$\n",
    "\n",
    "$\\begin{array}{ll}\n",
    "\\mbox{Si} \\; T_1 > 30^\\circ \\mathrm{C} & \\Rightarrow Q_{U2} \\rightarrow \\mbox{producido} \\\\\n",
    "\\mbox{Si} \\; T_{2i} < T_1 < 30^\\circ \\mathrm{C} & \\Rightarrow Q_{U2} \\rightarrow \\mbox{consumido}\n",
    "\\end{array}$"
   ]
  },
  {
   "cell_type": "markdown",
   "metadata": {},
   "source": [
    "Para c y d me llevo $\\rightarrow$\n",
    "\n",
    "$\\begin{array}{|ll|}\n",
    "\\hline\n",
    "\\Delta S_1 \\; (-) & Q_{U1} \\rightarrow (C) \\\\\n",
    "\\Delta S_2 \\; (+) & Q_{U2} \\rightarrow (P), \\; (C) \\\\\n",
    "\\hline\n",
    "\\end{array}$"
   ]
  },
  {
   "cell_type": "markdown",
   "metadata": {},
   "source": [
    "#### (b) \n",
    "Si $v_f > v''_f \\; \\Rightarrow \\;$ vapor sobrecalentado a $T_f \\; (I)$\n",
    "\n",
    "Si $v'_f < v_f v''_f \\; \\Rightarrow \\;$ vapor húmedo con $x_f \\; (II)$"
   ]
  },
  {
   "cell_type": "markdown",
   "metadata": {},
   "source": [
    "### (c)\n",
    "$$ \\eta_{ex} = \\frac{Ex_P}{Ex_C} = \\frac{Q_{U4} (P) + Q_{U5} + Q_{UF} + W_{disp} + \\Delta Ex_{vapor} + Q_{U2} (P)  }{ Q_{U4} (C) + Q_{U1} + Q_{U2} (C)  } $$"
   ]
  },
  {
   "cell_type": "markdown",
   "metadata": {},
   "source": [
    "#### (d)\n",
    "$$ W_{perd} = T_0 \\Delta S_U $$\n",
    "\n",
    "$$ \\Delta S_U = \\underbrace{ \\Delta S_4 }_{(-)} + \\underbrace{ \\Delta S_5 }_{(+)} + \\underbrace{ \\Delta S_F }_{(+)} + \\underbrace{ \\Delta S_{vapor} }_{(+)} + \\underbrace{ \\Delta S_1 }_{(-)} + \\underbrace{ \\Delta S_2 }_{(+)} > 0 $$"
   ]
  },
  {
   "cell_type": "code",
   "execution_count": null,
   "metadata": {},
   "outputs": [],
   "source": []
  }
 ],
 "metadata": {
  "kernelspec": {
   "display_name": "Python 3",
   "language": "python",
   "name": "python3"
  },
  "language_info": {
   "codemirror_mode": {
    "name": "ipython",
    "version": 3
   },
   "file_extension": ".py",
   "mimetype": "text/x-python",
   "name": "python",
   "nbconvert_exporter": "python",
   "pygments_lexer": "ipython3",
   "version": "3.7.3"
  }
 },
 "nbformat": 4,
 "nbformat_minor": 2
}
