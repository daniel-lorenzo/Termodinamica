{
 "cells": [
  {
   "cell_type": "markdown",
   "metadata": {
    "id": "J3twrLeJUZpo"
   },
   "source": [
    "# Ejercicio 16\n",
    "Se entrega energía térmica al vapor contenido en el conjunto cilindro-pistón, hasta que la temperatura alcance 220°C. Si consideramos $\\Delta E_c$ y $\\Delta E_p$ son nulas, determinar:\n",
    "\n",
    "1. Temperatura inicial del sistema\n",
    "2. $W_{\\Delta V}$\n",
    "3. Q que recibe el sistema\n",
    "4. Representación gráfica P-V"
   ]
  },
  {
   "cell_type": "markdown",
   "metadata": {
    "id": "0ohV78YGUeyZ"
   },
   "source": [
    "![image.png](data:image/png;base64,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)"
   ]
  },
  {
   "cell_type": "markdown",
   "metadata": {
    "id": "R8u3gUjDUsCA"
   },
   "source": [
    "## Solución"
   ]
  },
  {
   "cell_type": "code",
   "execution_count": 3,
   "metadata": {
    "colab": {
     "base_uri": "https://localhost:8080/"
    },
    "executionInfo": {
     "elapsed": 4915,
     "status": "ok",
     "timestamp": 1648652217641,
     "user": {
      "displayName": "Daniel Lorenzo",
      "userId": "18370114327754096178"
     },
     "user_tz": 180
    },
    "id": "tL9LqFO5VEW5",
    "outputId": "29d80ba1-b470-46b7-b800-0e28dedeea34"
   },
   "outputs": [
    {
     "name": "stdout",
     "output_type": "stream",
     "text": [
      "Collecting CoolProp\n",
      "  Downloading CoolProp-6.4.1-cp37-cp37m-manylinux1_x86_64.whl (4.2 MB)\n",
      "\u001b[K     |████████████████████████████████| 4.2 MB 9.9 MB/s \n",
      "\u001b[?25hInstalling collected packages: CoolProp\n",
      "Successfully installed CoolProp-6.4.1\n"
     ]
    }
   ],
   "source": [
    "!pip install CoolProp;  # (instala biblioteca termodinámica)\n",
    "import CoolProp.CoolProp as cp"
   ]
  },
  {
   "cell_type": "markdown",
   "metadata": {
    "id": "GIs_nN9yUvvW"
   },
   "source": [
    "### 1) ítem\n",
    "\n",
    "Inicialmente\n",
    "\n",
    "$$\\left\\{\n",
    "\\begin{array}{l}\n",
    "x_i = 0,5 \\\\\n",
    "P = 8 \\, \\mathrm{bar}\n",
    "\\end{array}\n",
    "\\right.$$ \n",
    "entonces la temperatura es:"
   ]
  },
  {
   "cell_type": "code",
   "execution_count": 1,
   "metadata": {
    "executionInfo": {
     "elapsed": 5,
     "status": "ok",
     "timestamp": 1648652173823,
     "user": {
      "displayName": "Daniel Lorenzo",
      "userId": "18370114327754096178"
     },
     "user_tz": 180
    },
    "id": "J5AnN8ZeT-_k"
   },
   "outputs": [],
   "source": [
    "# Datos:\n",
    "x = 0.5\n",
    "P = 8e5 # Pa"
   ]
  },
  {
   "cell_type": "code",
   "execution_count": 5,
   "metadata": {
    "executionInfo": {
     "elapsed": 299,
     "status": "ok",
     "timestamp": 1648652244162,
     "user": {
      "displayName": "Daniel Lorenzo",
      "userId": "18370114327754096178"
     },
     "user_tz": 180
    },
    "id": "B5kClhiLU83s"
   },
   "outputs": [],
   "source": [
    "T_0 = cp.PropsSI('T','P',P,'Q',x,'Water')"
   ]
  },
  {
   "cell_type": "code",
   "execution_count": 6,
   "metadata": {
    "cellView": "form",
    "colab": {
     "base_uri": "https://localhost:8080/"
    },
    "executionInfo": {
     "elapsed": 287,
     "status": "ok",
     "timestamp": 1648652354522,
     "user": {
      "displayName": "Daniel Lorenzo",
      "userId": "18370114327754096178"
     },
     "user_tz": 180
    },
    "id": "0oweja0hU99X",
    "outputId": "c5154ef6-9e00-4d6a-bd64-008a5c676e5f"
   },
   "outputs": [
    {
     "name": "stdout",
     "output_type": "stream",
     "text": [
      "T_0 = 443.56 K\n",
      "t_0 = 170.41°C\n"
     ]
    }
   ],
   "source": [
    "#@title Resultado:\n",
    "print('T_0 = %.2f K'%T_0)\n",
    "print('t_0 = %.2f°C'%(T_0 - 273.15))"
   ]
  },
  {
   "cell_type": "markdown",
   "metadata": {
    "id": "jZhFFcrGVtNA"
   },
   "source": [
    "### 2) ítem\n",
    "$$ v = x \\, (v'' - v') + v' $$"
   ]
  },
  {
   "cell_type": "code",
   "execution_count": 7,
   "metadata": {
    "executionInfo": {
     "elapsed": 267,
     "status": "ok",
     "timestamp": 1648652423332,
     "user": {
      "displayName": "Daniel Lorenzo",
      "userId": "18370114327754096178"
     },
     "user_tz": 180
    },
    "id": "VZTPaA_JVzHy"
   },
   "outputs": [],
   "source": [
    "# Cálculo de volumen inicial\n",
    "vp1 = 1/cp.PropsSI('D','P',P,'Q',0,'Water')\n",
    "vp2 = 1/cp.PropsSI('D','P',P,'Q',1,'Water')\n",
    "m = 30 # kg\n",
    "\n",
    "v_0 = x*(vp2 - vp1) + vp1\n",
    "\n",
    "V_0 = v_0 * m"
   ]
  },
  {
   "cell_type": "code",
   "execution_count": 8,
   "metadata": {
    "cellView": "form",
    "colab": {
     "base_uri": "https://localhost:8080/"
    },
    "executionInfo": {
     "elapsed": 6,
     "status": "ok",
     "timestamp": 1648652451466,
     "user": {
      "displayName": "Daniel Lorenzo",
      "userId": "18370114327754096178"
     },
     "user_tz": 180
    },
    "id": "_NueJykfV67_",
    "outputId": "c2de7f2c-2ac6-4e39-cb44-efcd9983503d"
   },
   "outputs": [
    {
     "name": "stdout",
     "output_type": "stream",
     "text": [
      "V_0 = 3.6218 m^3 (volumen inicial)\n"
     ]
    }
   ],
   "source": [
    "#@title \n",
    "print('V_0 = %.4f m^3 (volumen inicial)'%V_0)"
   ]
  },
  {
   "cell_type": "code",
   "execution_count": 9,
   "metadata": {
    "colab": {
     "base_uri": "https://localhost:8080/",
     "height": 35
    },
    "executionInfo": {
     "elapsed": 8,
     "status": "ok",
     "timestamp": 1648652469993,
     "user": {
      "displayName": "Daniel Lorenzo",
      "userId": "18370114327754096178"
     },
     "user_tz": 180
    },
    "id": "iYCQSNSgV_rD",
    "outputId": "a83678ce-6707-4e5e-f9f3-b28ec7b24ba8"
   },
   "outputs": [
    {
     "data": {
      "application/vnd.google.colaboratory.intrinsic+json": {
       "type": "string"
      },
      "text/plain": [
       "'gas'"
      ]
     },
     "execution_count": 9,
     "metadata": {},
     "output_type": "execute_result"
    }
   ],
   "source": [
    "T_1 = 220 + 273.15 # K\n",
    "\n",
    "cp.PhaseSI('T',T_1,'P',P,'Water')"
   ]
  },
  {
   "cell_type": "code",
   "execution_count": 11,
   "metadata": {
    "executionInfo": {
     "elapsed": 382,
     "status": "ok",
     "timestamp": 1648652551836,
     "user": {
      "displayName": "Daniel Lorenzo",
      "userId": "18370114327754096178"
     },
     "user_tz": 180
    },
    "id": "gAD1u4MNWENO"
   },
   "outputs": [],
   "source": [
    "v_1 = 1/cp.PropsSI('D','P',P,'T',T_1,'Water')\n",
    "\n",
    "V_1 = v_1 * m"
   ]
  },
  {
   "cell_type": "code",
   "execution_count": 12,
   "metadata": {
    "cellView": "form",
    "colab": {
     "base_uri": "https://localhost:8080/"
    },
    "executionInfo": {
     "elapsed": 391,
     "status": "ok",
     "timestamp": 1648652586986,
     "user": {
      "displayName": "Daniel Lorenzo",
      "userId": "18370114327754096178"
     },
     "user_tz": 180
    },
    "id": "sOowwii7WHm3",
    "outputId": "ee3cf1b8-fa59-426d-fa7f-abfaea4e2931"
   },
   "outputs": [
    {
     "name": "stdout",
     "output_type": "stream",
     "text": [
      "V_1 = 8.2216 m^3 (volumen final)\n"
     ]
    }
   ],
   "source": [
    "#@title \n",
    "print('V_1 = %.4f m^3 (volumen final)'%V_1)"
   ]
  },
  {
   "cell_type": "code",
   "execution_count": 13,
   "metadata": {
    "executionInfo": {
     "elapsed": 286,
     "status": "ok",
     "timestamp": 1648652605907,
     "user": {
      "displayName": "Daniel Lorenzo",
      "userId": "18370114327754096178"
     },
     "user_tz": 180
    },
    "id": "Ky8NR-8aWjqB"
   },
   "outputs": [],
   "source": [
    "W_DV = P*(V_1 - V_0)"
   ]
  },
  {
   "cell_type": "code",
   "execution_count": 14,
   "metadata": {
    "cellView": "form",
    "colab": {
     "base_uri": "https://localhost:8080/"
    },
    "executionInfo": {
     "elapsed": 279,
     "status": "ok",
     "timestamp": 1648652625712,
     "user": {
      "displayName": "Daniel Lorenzo",
      "userId": "18370114327754096178"
     },
     "user_tz": 180
    },
    "id": "3n49aEblWlYd",
    "outputId": "0ac466d4-70ae-49c4-9c22-48b24431528c"
   },
   "outputs": [
    {
     "name": "stdout",
     "output_type": "stream",
     "text": [
      "Trabajo por variación de volumen:\n",
      "W_DV = 3679.79 kJ\n"
     ]
    }
   ],
   "source": [
    "#@title \n",
    "print('Trabajo por variación de volumen:')\n",
    "print('W_DV = %.2f kJ'%(W_DV/1000))"
   ]
  },
  {
   "cell_type": "markdown",
   "metadata": {
    "id": "sRYfwlgnWwTM"
   },
   "source": [
    "### 3) ítem"
   ]
  },
  {
   "cell_type": "markdown",
   "metadata": {
    "id": "ajZYgTPvW1BH"
   },
   "source": [
    "$$ Q = \\Delta U + W_{\\Delta V} $$"
   ]
  },
  {
   "cell_type": "markdown",
   "metadata": {
    "id": "CYdxa8D0W3JY"
   },
   "source": [
    "$$ u_0 = x \\, (u'' - u') + u' $$"
   ]
  },
  {
   "cell_type": "code",
   "execution_count": 15,
   "metadata": {
    "executionInfo": {
     "elapsed": 4,
     "status": "ok",
     "timestamp": 1648652701617,
     "user": {
      "displayName": "Daniel Lorenzo",
      "userId": "18370114327754096178"
     },
     "user_tz": 180
    },
    "id": "84bIW_XSWz7M"
   },
   "outputs": [],
   "source": [
    "up1 = cp.PropsSI('U','P',P,'Q',0,'Water')   #   u'\n",
    "up2 = cp.PropsSI('U','P',P,'Q',1,'Water')   #   u''\n",
    "\n",
    "u_0 = x*(up2 - up1) + up1\n",
    "u_1 = cp.PropsSI('U','P',P,'T',T_1,'Water')\n",
    "\n",
    "DU = m*(u_1 - u_0)\n",
    "\n",
    "Q = DU + W_DV"
   ]
  },
  {
   "cell_type": "code",
   "execution_count": 17,
   "metadata": {
    "cellView": "form",
    "colab": {
     "base_uri": "https://localhost:8080/"
    },
    "executionInfo": {
     "elapsed": 276,
     "status": "ok",
     "timestamp": 1648652759225,
     "user": {
      "displayName": "Daniel Lorenzo",
      "userId": "18370114327754096178"
     },
     "user_tz": 180
    },
    "id": "nzlJY1QaW8wh",
    "outputId": "45a88e9b-4811-42b3-e929-56eb2157d730"
   },
   "outputs": [
    {
     "name": "stdout",
     "output_type": "stream",
     "text": [
      "up1 = 719.97 kJ/kg\n",
      "up2 = 2576.03 kJ/kg\n",
      "u_0 = 1648.00 kJ/kg\n",
      "u_1 = 2665.66 kJ/kg\n",
      "DU = 30529.8 kJ\n",
      "Q = 34209.6 kJ\n"
     ]
    }
   ],
   "source": [
    "#@title\n",
    "print('up1 = %.2f kJ/kg'%(up1/1000))\n",
    "print('up2 = %.2f kJ/kg'%(up2/1000))\n",
    "print('u_0 = %.2f kJ/kg'%(u_0/1000))\n",
    "print('u_1 = %.2f kJ/kg'%(u_1/1000))\n",
    "print('DU = %.1f kJ'%(DU/1000))\n",
    "print('Q = %.1f kJ'%(Q/1000))"
   ]
  }
 ],
 "metadata": {
  "colab": {
   "authorship_tag": "ABX9TyPDBvpYAKtrYXs90o1EjHDw",
   "name": "Ejercicio_16.ipynb",
   "provenance": []
  },
  "kernelspec": {
   "display_name": "Python 3 (ipykernel)",
   "language": "python",
   "name": "python3"
  },
  "language_info": {
   "codemirror_mode": {
    "name": "ipython",
    "version": 3
   },
   "file_extension": ".py",
   "mimetype": "text/x-python",
   "name": "python",
   "nbconvert_exporter": "python",
   "pygments_lexer": "ipython3",
   "version": "3.10.12"
  }
 },
 "nbformat": 4,
 "nbformat_minor": 1
}
