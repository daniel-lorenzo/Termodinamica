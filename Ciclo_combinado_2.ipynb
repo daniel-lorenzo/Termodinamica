{
 "cells": [
  {
   "cell_type": "markdown",
   "metadata": {},
   "source": [
    "## Ejercicio 10-21\n",
    "Considere una planta eléctrica de vapor de agua que opera en un ciclo Rankine ideal simple y tiene una producción\n",
    "neta de potencia de 45 MW. El vapor entra a la turbina a 7 MPa y 500 °C y se enfría en el condensador a una presión\n",
    "de 10 kPa mediante la circulación de agua de enfriamiento de un lago por los tubos del condensador a razón de 2.000 kg/s. Muestre el ciclo en un diagrama T-s con respecto a las líneas de saturación y determine a) la eficiencia térmica del ciclo, b) el flujo másico del vapor y c) la elevación de temperatura del agua de enfriamiento."
   ]
  },
  {
   "cell_type": "markdown",
   "metadata": {},
   "source": [
    "### Solución\n",
    "Una planta de energía de vapor opera en un ciclo de Rankine ideal simple entre los límites de presión especificados. La eficiencia térmica del ciclo, el caudal másico del vapor y el aumento de la temperatura del agua de refrigeración deben determinarse.\n",
    "\n",
    "__Supuestos:__ 1 Existen condiciones operativas estables. 2 Los cambios de energía cinética y potencial son despreciables.   \n",
    "__Análisis:__ (a) De las tablas de vapor.\n",
    "![ce10-25.png](img/ce10-25.png)"
   ]
  },
  {
   "cell_type": "markdown",
   "metadata": {},
   "source": [
    "$$\\left.\n",
    "\\begin{array}{l}\n",
    "h_1 = h_{f@10kPa}  \\\\\n",
    "v_1 = v_{f@10kPa}\n",
    "\\end{array}\n",
    "\\right\\} \\quad \\rightarrow \\quad\n",
    "\\begin{array}{l}\n",
    "w_{p.in} = v_1 (P_2 - P_1) \\\\\n",
    "h_2 = h_1 + w_{p,in}\n",
    "\\end{array}\n",
    "$$"
   ]
  },
  {
   "cell_type": "code",
   "execution_count": 1,
   "metadata": {},
   "outputs": [],
   "source": [
    "import CoolProp.CoolProp as cp"
   ]
  },
  {
   "cell_type": "code",
   "execution_count": 2,
   "metadata": {},
   "outputs": [
    {
     "name": "stdout",
     "output_type": "stream",
     "text": [
      "h1 = 191.81 kJ/kg\n",
      "s1 = 191.8059 kJ/kg·K\n",
      "v1 = 0.00101 m^3/kg\n"
     ]
    }
   ],
   "source": [
    "P1 = 10e3 # Pa\n",
    "x1 = 0\n",
    "\n",
    "h1 = cp.PropsSI('H','P',P1,'Q',x1,'Water') ; print('h1 = %s kJ/kg'%round(h1/1000,2))\n",
    "s1 = cp.PropsSI('S','P',P1,'Q',x1,'Water') ; print('s1 = %s kJ/kg·K'%round(h1/1000,4))\n",
    "v1 = 1/cp.PropsSI('D','P',P1,'Q',x1,'Water'); print('v1 = %s m^3/kg'%round(v1,6))"
   ]
  },
  {
   "cell_type": "markdown",
   "metadata": {},
   "source": [
    "$$ w_{p,in} = v_1 (P_2 - P_1) $$\n",
    "$$ h_2 = h_1 + w_{p,in} $$"
   ]
  },
  {
   "cell_type": "code",
   "execution_count": 3,
   "metadata": {},
   "outputs": [
    {
     "name": "stdout",
     "output_type": "stream",
     "text": [
      "w_pin = 7.06 kJ/kg\n",
      "h2 = 198.87 kJ/kg\n"
     ]
    }
   ],
   "source": [
    "P2 = 7e6 # Pa\n",
    "\n",
    "w_pin = v1*(P2 - P1) ; print('w_pin = %s kJ/kg'%round(w_pin/1000,2))\n",
    "h2 = h1 + w_pin ; print('h2 = %s kJ/kg'%round(h2/1000,2))"
   ]
  },
  {
   "cell_type": "markdown",
   "metadata": {},
   "source": [
    "$$\\left.\n",
    "\\begin{array}{l}\n",
    "P_3 = 7 \\, MPa \\\\\n",
    "T_3 = 500^\\circ \\mathrm{C}\n",
    "\\end{array}\n",
    "\\right\\} \\quad \\rightarrow \\quad\n",
    "\\left[\n",
    "\\begin{array}{l}\n",
    "h_3 \\\\\n",
    "s_3\n",
    "\\end{array}\n",
    "\\right]\n",
    "$$"
   ]
  },
  {
   "cell_type": "code",
   "execution_count": 4,
   "metadata": {},
   "outputs": [
    {
     "name": "stdout",
     "output_type": "stream",
     "text": [
      "h3 = 3411.39 kJ/kg\n",
      "s3 = 6.8 kJ/kg·K\n"
     ]
    }
   ],
   "source": [
    "P3 = 7e6 # Pa\n",
    "T3 = 500 + 273.15 # K\n",
    "\n",
    "h3 = cp.PropsSI('H','P',P3,'T',T3,'Water') ; print('h3 = %s kJ/kg'%round(h3/1000,2))\n",
    "s3 = cp.PropsSI('S','P',P3,'T',T3,'Water') ; print('s3 = %s kJ/kg·K'%round(s3/1000,4))"
   ]
  },
  {
   "cell_type": "markdown",
   "metadata": {},
   "source": [
    "$$\\left.\n",
    "\\begin{array}{l}\n",
    "P_4 = 10 \\, kPa \\\\\n",
    "s_4 = s_3\n",
    "\\end{array}\n",
    "\\right\\} \\quad \\rightarrow \\quad\n",
    "\\begin{array}{l}\n",
    "\\displaystyle x_4 = \\frac{s_4 - s_f}{s_g - s_f} \\\\\n",
    "h_4 = h_f + x_4 (h_g - h_f)\n",
    "\\end{array}\n",
    "$$"
   ]
  },
  {
   "cell_type": "code",
   "execution_count": 5,
   "metadata": {},
   "outputs": [
    {
     "name": "stdout",
     "output_type": "stream",
     "text": [
      "x4 = 0.8201\n",
      "h4 = 2153.63 kJ/kg\n"
     ]
    }
   ],
   "source": [
    "P4 = 10e3 # Pa\n",
    "s4 = s3\n",
    "\n",
    "sf = cp.PropsSI('S','P',P4,'Q',0,'Water') ; hf = cp.PropsSI('H','P',P4,'Q',0,'Water')\n",
    "sg = cp.PropsSI('S','P',P4,'Q',1,'Water') ; hg = cp.PropsSI('H','P',P4,'Q',1,'Water')\n",
    "\n",
    "x4 = (s4 - sf)/(sg - sf) ; print('x4 = %s'%round(x4,4))\n",
    "h4 = hf + x4*(hg - hf) ; print('h4 = %s kJ/kg'%round(h4/1000,2))"
   ]
  },
  {
   "cell_type": "markdown",
   "metadata": {},
   "source": [
    "$$\\begin{array}{l}\n",
    "q_{in} = h_3 - h_2 \\\\\n",
    "q_{out} = h_4 - h_1 \\\\\n",
    "w_{net} = q_{in} - q_{out}\n",
    "\\end{array}\n",
    "$$"
   ]
  },
  {
   "cell_type": "code",
   "execution_count": 6,
   "metadata": {},
   "outputs": [
    {
     "name": "stdout",
     "output_type": "stream",
     "text": [
      "q_in = 3212.53 kJ/kg\n",
      "q_out = 1961.82 kJ/kg\n",
      "w_net = 1250.7 kJ/kg\n"
     ]
    }
   ],
   "source": [
    "q_in = h3 - h2 ; print('q_in = %s kJ/kg'%round(q_in/1000,2))\n",
    "q_out = h4 - h1 ; print('q_out = %s kJ/kg'%round(q_out/1000,2))\n",
    "w_net = q_in - q_out ; print('w_net = %s kJ/kg'%round(w_net/1000,2))"
   ]
  },
  {
   "cell_type": "markdown",
   "metadata": {},
   "source": [
    "$$ \\eta_{th} = \\frac{w_{net}}{q_{in}} $$"
   ]
  },
  {
   "cell_type": "code",
   "execution_count": 7,
   "metadata": {},
   "outputs": [
    {
     "name": "stdout",
     "output_type": "stream",
     "text": [
      "eta_th = 0.3893 = 38.93%\n"
     ]
    }
   ],
   "source": [
    "eta_th = w_net/q_in ; print('eta_th = %s = %s%%'%(round(eta_th,4),round(eta_th*100,2)))"
   ]
  },
  {
   "cell_type": "markdown",
   "metadata": {},
   "source": [
    "b)\n",
    "$$ \\dot{m} = \\frac{\\dot{W}_{net}}{w_{net}} $$"
   ]
  },
  {
   "cell_type": "code",
   "execution_count": 8,
   "metadata": {},
   "outputs": [
    {
     "name": "stdout",
     "output_type": "stream",
     "text": [
      "m = 35.98 kg/s\n"
     ]
    }
   ],
   "source": [
    "W_net = 45e6 # J/s\n",
    "\n",
    "m = W_net/w_net ; print('m = %s kg/s'%round(m,2))"
   ]
  },
  {
   "cell_type": "markdown",
   "metadata": {},
   "source": [
    "c) La tasa de rechazo de calor al agua de refrigeración y su aumento de temperatura son\n",
    "\n",
    "$$ \\dot{Q}_{out} = \\dot{m} q_{out} $$\n",
    "\n",
    "$$ \\Delta T_\\mathrm{agua,ref} = \\frac{\\dot{Q}_{out}}{\\dot{m}_\\mathrm{agua,ref} \\, c_\\mathrm{agua}} $$"
   ]
  },
  {
   "cell_type": "code",
   "execution_count": 9,
   "metadata": {},
   "outputs": [
    {
     "name": "stdout",
     "output_type": "stream",
     "text": [
      "Q_out = 70585.89 kJ\n",
      "DT_agua = 8.44°C\n"
     ]
    }
   ],
   "source": [
    "c = 4.18e3 # J/kg·°C\n",
    "m_ref = 2000 # kg/s\n",
    "\n",
    "Q_out = m*q_out ; print('Q_out = %s kJ'%round(Q_out/1000,2))\n",
    "DT_agua = Q_out/(m_ref*c) ; print('DT_agua = %s°C'%round(DT_agua,2))"
   ]
  },
  {
   "cell_type": "markdown",
   "metadata": {},
   "source": [
    "## Ejercicio 10-64\n",
    "Determine la destrucción de exergía correspondiente al proceso de rechazo de calor en el problema 10-21. Suponga\n",
    "una temperatura de fuente de 1500 K y una temperatura de sumidero de 290 K. También determine la exergía del vapor a\n",
    "la salida de la caldera. Considere P0 = 100 kPa."
   ]
  },
  {
   "cell_type": "markdown",
   "metadata": {},
   "source": [
    "### Solución\n",
    "La destrucción de exergía asociada con el proceso de rechazo de calor en el problema. 10-21 se debe determinar para las temperaturas de fuente y de sumidero especificadas. La exergía del vapor a la salida de la caldera también debe ser determinada.   \n",
    "__Supuestos:__ 1 Existen condiciones operativas estables. 2 Los cambios de energía cinética y potencial son despreciables.   \n",
    "__Análisis:__ del problema 10-21"
   ]
  },
  {
   "cell_type": "code",
   "execution_count": 10,
   "metadata": {},
   "outputs": [
    {
     "name": "stdout",
     "output_type": "stream",
     "text": [
      "s1 = s2 = sf@10kPa = 0.6492 kJ/kg·K\n",
      "s3 = s4 = 6.8 kJ/kg·K\n",
      "h3 = 3411.39 kJ/kg\n",
      "q_out = 1961.82 kJ/kg\n"
     ]
    }
   ],
   "source": [
    "print('s1 = s2 = sf@10kPa = %s kJ/kg·K'%round(s1/1000,4))\n",
    "print('s3 = s4 = %s kJ/kg·K'%round(s3/1000,4))\n",
    "print('h3 = %s kJ/kg'%round(h3/1000,2))\n",
    "print('q_out = %s kJ/kg'%round(q_out/1000,2))"
   ]
  },
  {
   "cell_type": "markdown",
   "metadata": {},
   "source": [
    "La destrucción de exergía asociada con el proceso de rechazo de calor es\n",
    "\n",
    "$$ \\chi_\\mathrm{destruida,41} = T_0 \\left( s_1 - s_4 + \\frac{q_{R,41}}{T_R} \\right) $$"
   ]
  },
  {
   "cell_type": "code",
   "execution_count": 11,
   "metadata": {},
   "outputs": [
    {
     "name": "stdout",
     "output_type": "stream",
     "text": [
      "Xd41 = 178.1 kJ/kg\n"
     ]
    }
   ],
   "source": [
    "To = 290 # K\n",
    "T_R = 290 # K\n",
    "\n",
    "Xd41 = To*(s1 - s4 + q_out/T_R)\n",
    "\n",
    "print('Xd41 = %s kJ/kg'%round(Xd41/1000,2))"
   ]
  },
  {
   "cell_type": "markdown",
   "metadata": {},
   "source": [
    "La exergía del vapor a la salida de la caldera es simplemente la exergía de flujo,\n",
    "\n",
    "$$ \\psi_3 = (h_3 - h_0) - T_0 (s_3 - s_0) + \\overbrace{ \\frac{V^2_3}{2} }^0 + \\overbrace{ qz_3 }^0 $$\n",
    "\n",
    "$$ \\Rightarrow \\; \\psi_3 = (h_3 - h_0) - T_0 (s_3 - s_0) $$\n",
    "\n",
    "donde\n",
    "$$ \\begin{array}{l}\n",
    "h_0 = h_{@(290K,100kPa)} \\approx h_{f@290K} \\\\\n",
    "s_0 = s_{@(290K,100kPa)} \\approx s_{f@290K}\n",
    "\\end{array}\n",
    "$$"
   ]
  },
  {
   "cell_type": "code",
   "execution_count": 12,
   "metadata": {},
   "outputs": [
    {
     "data": {
      "text/plain": [
       "'liquid'"
      ]
     },
     "execution_count": 12,
     "metadata": {},
     "output_type": "execute_result"
    }
   ],
   "source": [
    "cp.PhaseSI('P',100e3,'T',290,'Water')"
   ]
  },
  {
   "cell_type": "code",
   "execution_count": 13,
   "metadata": {},
   "outputs": [
    {
     "name": "stdout",
     "output_type": "stream",
     "text": [
      "h0 = 70.82 kJ/kg\n",
      "s0 = 0.2512 kJ/kg·K\n"
     ]
    }
   ],
   "source": [
    "h0 = cp.PropsSI('H','P',100e3,'T',290,'Water') ; print('h0 = %s kJ/kg'%round(h0/1000,2))\n",
    "s0 = cp.PropsSI('S','P',100e3,'T',290,'Water') ; print('s0 = %s kJ/kg·K'%round(s0/1000,4))"
   ]
  },
  {
   "cell_type": "code",
   "execution_count": 14,
   "metadata": {},
   "outputs": [
    {
     "name": "stdout",
     "output_type": "stream",
     "text": [
      "psi_3 = 1441.45 kJ/kg\n"
     ]
    }
   ],
   "source": [
    "psi_3 = (h3 - h0) - To*(s3 - s0) ; print('psi_3 = %s kJ/kg'%round(psi_3/1000,2))"
   ]
  },
  {
   "cell_type": "code",
   "execution_count": 15,
   "metadata": {},
   "outputs": [],
   "source": [
    "%reset -s -f"
   ]
  },
  {
   "cell_type": "markdown",
   "metadata": {},
   "source": [
    "## Ejercicio 10-33\n",
    "Un ciclo ideal de recalentamiento Rankine con agua como fluido de trabajo opera la entrada de la turbina de alta presión a 8 000 kPa y 450 °C; la entrada de la turbina de baja presión a 500 kPa y 500 °C, y el condensador a 10 kPa. Determine el flujo másico a través de la caldera que se necesita para que este sistema produzca una potencia neta de 5 000 kW, y la eficiencia térmica del ciclo.\n",
    "\n",
    "![ce10-33.png](img/ce10-33.png)"
   ]
  },
  {
   "cell_type": "markdown",
   "metadata": {},
   "source": [
    "### Solución\n",
    "Un ciclo de Rankine de vapor de recalentamiento ideal produce 5000 kW de potencia. Las tasas de adición y rechazo de calor, y la eficiencia térmica del ciclo deben ser determinadas.   \n",
    "__Supuestos:__ 1 Existen condiciones operativas estables. 2 Los cambios de energía cinética y potencial son despreciables.  \n",
    "__Análisis:__ de las tablas de vapor."
   ]
  },
  {
   "cell_type": "markdown",
   "metadata": {},
   "source": [
    "$$ \\begin{array}{l}\n",
    "h_1 = h_{f@10kPa} \\\\\n",
    "v_1 = v_{f@10kPa}\n",
    "\\end{array}\n",
    "$$"
   ]
  },
  {
   "cell_type": "code",
   "execution_count": 16,
   "metadata": {},
   "outputs": [],
   "source": [
    "import CoolProp.CoolProp as cp"
   ]
  },
  {
   "cell_type": "code",
   "execution_count": 27,
   "metadata": {},
   "outputs": [
    {
     "name": "stdout",
     "output_type": "stream",
     "text": [
      "h1 = 191.81 kJ/kg\n",
      "s1 = 0.6492 kJ/kg\n",
      "v1 = 0.0010103 m^3/kg\n"
     ]
    }
   ],
   "source": [
    "P1 = 10e3 # Pa\n",
    "x1 = 0\n",
    "\n",
    "h1 = cp.PropsSI('H','P',P1,'Q',x1,'Water')  ; print('h1 = %s kJ/kg'%round(h1/1000,2))\n",
    "s1 = cp.PropsSI('S','P',P1,'Q',x1,'Water')  ; print('s1 = %s kJ/kg'%round(s1/1000,4))\n",
    "v1 = 1/cp.PropsSI('D','P',P1,'Q',x1,'Water') ; print('v1 = %s m^3/kg'%round(v1,7))"
   ]
  },
  {
   "cell_type": "markdown",
   "metadata": {},
   "source": [
    "$$ w_{p,in} = v_1 (P_2 - P_1) $$\n",
    "\n",
    "$$ h_2 = h_1 + w_{p,in} $$"
   ]
  },
  {
   "cell_type": "code",
   "execution_count": 18,
   "metadata": {},
   "outputs": [
    {
     "name": "stdout",
     "output_type": "stream",
     "text": [
      "w_pin = 8.07 kJ/kg\n",
      "h2 = 199.88 kJ/kg\n"
     ]
    }
   ],
   "source": [
    "P2 = 8000e3 # Pa\n",
    "\n",
    "w_pin = v1*(P2 - P1) ; print('w_pin = %s kJ/kg'%round(w_pin/1000,2))\n",
    "h2 = h1 + w_pin      ; print('h2 = %s kJ/kg'%round(h2/1000,2))"
   ]
  },
  {
   "cell_type": "markdown",
   "metadata": {},
   "source": [
    "$$\\left.\n",
    "\\begin{array}{l}\n",
    "P_3 = 8000 \\, kPa \\\\\n",
    "T_3 = 450^\\circ \\mathrm{C}\n",
    "\\end{array}\n",
    "\\right\\} \\quad \\rightarrow \\quad\n",
    "\\left[\n",
    "\\begin{array}{l}\n",
    "h_3 \\\\\n",
    "s_3\n",
    "\\end{array}\n",
    "\\right]\n",
    "$$"
   ]
  },
  {
   "cell_type": "code",
   "execution_count": 19,
   "metadata": {},
   "outputs": [
    {
     "name": "stdout",
     "output_type": "stream",
     "text": [
      "h3 = 3273.33 kJ/kg\n",
      "s3 = 6.5579 kJ/kg·K\n"
     ]
    }
   ],
   "source": [
    "P3 = P2\n",
    "T3 = 450 + 273.15 # K\n",
    "\n",
    "h3 = cp.PropsSI('H','P',P3,'T',T3,'Water')  ; print('h3 = %s kJ/kg'%round(h3/1000,2))\n",
    "s3 = cp.PropsSI('S','P',P3,'T',T3,'Water')  ; print('s3 = %s kJ/kg·K'%round(s3/1000,4))"
   ]
  },
  {
   "cell_type": "markdown",
   "metadata": {},
   "source": [
    "$$\\left.\n",
    "\\begin{array}{l}\n",
    "P_4 = 500 \\, kPa \\\\\n",
    "s_4 = s_3\n",
    "\\end{array}\n",
    "\\right\\} \\quad \\rightarrow \\quad\n",
    "\\begin{array}{l}\n",
    "\\displaystyle x_4 = \\frac{s_4 - s_f}{s_g - s_f} \\\\\n",
    "h_4 = h_f + x_4 (h_g - h_f)\n",
    "\\end{array}\n",
    "$$"
   ]
  },
  {
   "cell_type": "code",
   "execution_count": 20,
   "metadata": {},
   "outputs": [
    {
     "name": "stdout",
     "output_type": "stream",
     "text": [
      "x4 = 0.947\n",
      "h4 = 2636.42 kJ/kg\n"
     ]
    }
   ],
   "source": [
    "P4 = 500e3 # Pa\n",
    "s4 = s3\n",
    "\n",
    "sf = cp.PropsSI('S','P',P4,'Q',0,'Water') ; sg = cp.PropsSI('S','P',P4,'Q',1,'Water')\n",
    "hf = cp.PropsSI('H','P',P4,'Q',0,'Water') ; hg = cp.PropsSI('H','P',P4,'Q',1,'Water')\n",
    "\n",
    "x4 = (s4 - sf)/(sg - sf) ; print('x4 = %s'%round(x4,4))\n",
    "h4 = hf + x4*(hg - hf)   ; print('h4 = %s kJ/kg'%round(h4/1000,2))"
   ]
  },
  {
   "cell_type": "markdown",
   "metadata": {},
   "source": [
    "$$\\left.\n",
    "\\begin{array}{l}\n",
    "P_5 = 500 \\, kPa \\\\\n",
    "T_5 = 500^\\circ \\mathrm{C}\n",
    "\\end{array}\n",
    "\\right\\} \\quad \\rightarrow \\quad\n",
    "\\left[\n",
    "\\begin{array}{l}\n",
    "h_5 \\\\\n",
    "s_5\n",
    "\\end{array}\n",
    "\\right]\n",
    "$$"
   ]
  },
  {
   "cell_type": "code",
   "execution_count": 21,
   "metadata": {},
   "outputs": [
    {
     "name": "stdout",
     "output_type": "stream",
     "text": [
      "h5 = 3484.47 kJ/kg\n",
      "s5 = 8.0892 kJ/kg·K\n"
     ]
    }
   ],
   "source": [
    "P5 = 500e3 # Pa\n",
    "T5 = 500 + 273.15 # K\n",
    "\n",
    "h5 = cp.PropsSI('H','P',P5,'T',T5,'Water')  ; print('h5 = %s kJ/kg'%round(h5/1000,2))\n",
    "s5 = cp.PropsSI('S','P',P5,'T',T5,'Water')  ; print('s5 = %s kJ/kg·K'%round(s5/1000,4))"
   ]
  },
  {
   "cell_type": "markdown",
   "metadata": {},
   "source": [
    "$$\\left.\n",
    "\\begin{array}{l}\n",
    "P_6 = 10 \\, kPa \\\\\n",
    "s_6 = s_5\n",
    "\\end{array}\n",
    "\\right\\} \\quad \\rightarrow \\quad\n",
    "\\begin{array}{l}\n",
    "\\displaystyle x_6 = \\frac{s_6 - s_f}{s_g - s_f} \\\\\n",
    "h_6 = h_f + x_6 (h_g - h_f)\n",
    "\\end{array}\n",
    "$$"
   ]
  },
  {
   "cell_type": "code",
   "execution_count": 22,
   "metadata": {},
   "outputs": [
    {
     "name": "stdout",
     "output_type": "stream",
     "text": [
      "x4 = 0.9921\n",
      "h4 = 2564.86 kJ/kg\n"
     ]
    }
   ],
   "source": [
    "P6 = 10e3 # Pa\n",
    "s6 = s5\n",
    "\n",
    "sf = cp.PropsSI('S','P',P6,'Q',0,'Water') ; sg = cp.PropsSI('S','P',P6,'Q',1,'Water')\n",
    "hf = cp.PropsSI('H','P',P6,'Q',0,'Water') ; hg = cp.PropsSI('H','P',P6,'Q',1,'Water')\n",
    "\n",
    "x6 = (s6 - sf)/(sg - sf) ; print('x4 = %s'%round(x6,4))\n",
    "h6 = hf + x6*(hg - hf)   ; print('h4 = %s kJ/kg'%round(h6/1000,2))"
   ]
  },
  {
   "cell_type": "markdown",
   "metadata": {},
   "source": [
    "$$ \\begin{array}{l}\n",
    "q_{in} = (h_3 - h_2) + (h_5 - h_4) \\\\\n",
    "q_{out} = h_6 - h_1 \\\\\n",
    "w_{net} = q_{in} - q_{out}\n",
    "\\end{array}\n",
    "$$"
   ]
  },
  {
   "cell_type": "code",
   "execution_count": 23,
   "metadata": {},
   "outputs": [
    {
     "name": "stdout",
     "output_type": "stream",
     "text": [
      "q_in = 3921.5 kJ/kg\n",
      "q_out = 2373.05 kJ/kg\n",
      "w_net = 1548.45 kJ/kg\n"
     ]
    }
   ],
   "source": [
    "q_in = (h3 - h2) + (h5 - h4) ; print('q_in = %s kJ/kg'%round(q_in/1000,2))\n",
    "q_out = h6 - h1              ; print('q_out = %s kJ/kg'%round(q_out/1000,2))\n",
    "w_net = q_in - q_out         ; print('w_net = %s kJ/kg'%round(w_net/1000,2))"
   ]
  },
  {
   "cell_type": "markdown",
   "metadata": {},
   "source": [
    "El flujo de masa del ciclo de vapor es determinado por\n",
    "\n",
    "$$ \\dot{W}_{net} = \\dot{m} (h_3 - h_4) \\quad \\rightarrow \\quad \\dot{m} = \\frac{\\dot{W}_{net}}{w_{net}} $$"
   ]
  },
  {
   "cell_type": "code",
   "execution_count": 24,
   "metadata": {},
   "outputs": [
    {
     "name": "stdout",
     "output_type": "stream",
     "text": [
      "m = 3.229 kg/s\n"
     ]
    }
   ],
   "source": [
    "W_net = 5000e3 # J/s\n",
    "\n",
    "m = W_net/w_net  ; print('m = %s kg/s'%round(m,4))"
   ]
  },
  {
   "cell_type": "markdown",
   "metadata": {},
   "source": [
    "y la eficiencia térmica del ciclo es\n",
    "\n",
    "$$ \\eta_{th} = 1 - \\frac{q_{out}}{q_{in}} $$"
   ]
  },
  {
   "cell_type": "code",
   "execution_count": 25,
   "metadata": {},
   "outputs": [
    {
     "name": "stdout",
     "output_type": "stream",
     "text": [
      "eta_th = 0.3949 = 39.49%\n"
     ]
    }
   ],
   "source": [
    "eta_th = 1 - q_out/q_in  ; print('eta_th = %s = %s%%'%(round(eta_th,4),round(eta_th*100,2)))"
   ]
  },
  {
   "cell_type": "markdown",
   "metadata": {},
   "source": [
    "## Ejercicio 10-65\n",
    "¿Cuál componente del ciclo Rankine ideal con recalentamiento del problema 10-33 ofrece la mejor oportunidad\n",
    "para recuperar el potencial perdido de potencia? El sumidero está a 10 °C, y la fuente está a 600 °C."
   ]
  },
  {
   "cell_type": "markdown",
   "metadata": {},
   "source": [
    "### Solución\n",
    "El componente del ciclo de Rankine ideal de recalentamiento descrito en el problema. 10-33 con la mayor destrucción de exergía debe ser identificado.  \n",
    "__Supuestos__ 1 Existen condiciones operativas estables. 2 Los cambios de energía cinética y potencial son despreciables.  \n",
    "__Análisis:__ del problema. 10-33"
   ]
  },
  {
   "cell_type": "markdown",
   "metadata": {},
   "source": [
    "$$ \\left\\{\n",
    "\\begin{array}{l}\n",
    "s_1 = s_2 = s_{f@10kPa} \\\\\n",
    "s_3 = s_4 \\\\\n",
    "s_5 = s_6 \\\\\n",
    "q_{in,2-3} = h_3 - h_2 \\\\\n",
    "q_{in,4-5} = h_5 - h_4 \\\\\n",
    "q_{out}\n",
    "\\end{array}\n",
    "\\right.\n",
    "$$"
   ]
  },
  {
   "cell_type": "code",
   "execution_count": 29,
   "metadata": {},
   "outputs": [
    {
     "name": "stdout",
     "output_type": "stream",
     "text": [
      "s1 = s2 = sf@10kPa = 0.6492 kJ/kg·K\n",
      "s3 = s4 = 6.5579 kJ/kg·K\n",
      "s5 = s6 = 8.08924 kJ/kg·K\n",
      "q_in2_3 = 3073.45 kJ/kg\n",
      "q_in4_5 = 848.05 kJ/kg\n",
      "q_out = 2373.05 kJ/kg\n"
     ]
    }
   ],
   "source": [
    "print('s1 = s2 = sf@10kPa = %s kJ/kg·K'%round(s1/1000,4))\n",
    "print('s3 = s4 = %s kJ/kg·K'%round(s3/1000,4))\n",
    "print('s5 = s6 = %s kJ/kg·K'%round(s5/1000,5))\n",
    "q_in2_3 = h3 - h2 ; print('q_in2_3 = %s kJ/kg'%round(q_in2_3/1000,2))\n",
    "q_in4_5 = h5 - h4 ; print('q_in4_5 = %s kJ/kg'%round(q_in4_5/1000,2))\n",
    "print('q_out = %s kJ/kg'%round(q_out/1000,2))"
   ]
  },
  {
   "cell_type": "markdown",
   "metadata": {},
   "source": [
    "La destrucción de la exergía durante un proceso de un flujo desde un estado de entrada a un estado de salida viene dada por"
   ]
  },
  {
   "cell_type": "markdown",
   "metadata": {},
   "source": [
    "$$ \\chi_\\mathrm{dest} = T_0 s_\\mathrm{gen} = T_0 \\left( s_e - s_i - \\frac{q_{in}}{T_\\mathrm{fuente}} + \\frac{q_{out}}{T_\\mathrm{sumidero}} \\right) $$"
   ]
  },
  {
   "cell_type": "markdown",
   "metadata": {},
   "source": [
    "La aplicación de esta ecuación para cada proceso del ciclo da"
   ]
  },
  {
   "cell_type": "markdown",
   "metadata": {},
   "source": [
    "$$ \\chi_\\mathrm{dest,23} = T_0 \\left( s_3 - s_2 - \\frac{q_{in,2-3}}{T_\\mathrm{fuente}} \\right) $$\n",
    "\n",
    "$$ \\chi_\\mathrm{dest,45} = T_0 \\left( s_5 - s_4 - \\frac{q_{in,4-5}}{T_\\mathrm{fuente}} \\right) $$\n",
    "\n",
    "$$ \\chi_\\mathrm{dest,61} = T_0 \\left( s_1 - s_6 + \\frac{q_{out}}{T_\\mathrm{sumidero}} \\right) $$"
   ]
  },
  {
   "cell_type": "code",
   "execution_count": 40,
   "metadata": {},
   "outputs": [
    {
     "name": "stdout",
     "output_type": "stream",
     "text": [
      "Xd23 = 676.36 kJ/kg\n",
      "Xd45 = 158.6 kJ/kg\n",
      "Xd45 = 266.4 kJ/kg\n"
     ]
    }
   ],
   "source": [
    "To = 10 + 273.15 # K\n",
    "Tf = 600 + 273.15 # K\n",
    "s2 = s1\n",
    "\n",
    "Xd23 = To*(s3 - s2 - q_in2_3/Tf) ; print('Xd23 = %s kJ/kg'%round(Xd23/1000,2))\n",
    "Xd45 = To*(s5 - s4 - q_in4_5/Tf) ; print('Xd45 = %s kJ/kg'%round(Xd45/1000,2))\n",
    "Xd45 = To*(s1 - s6 + q_out/To) ; print('Xd45 = %s kJ/kg'%round(Xd45/1000,2))"
   ]
  },
  {
   "cell_type": "markdown",
   "metadata": {},
   "source": [
    "Procesos 1-2, 3-4, y 5-6 son isentrópicos, y por lo tanto  \n",
    "\n",
    "$ \\chi_\\mathrm{dest,12} = 0 $  \n",
    "$ \\chi_\\mathrm{dest,34} = 0 $  \n",
    "$ \\chi_\\mathrm{dest,56} = 0 $  \n",
    "\n",
    "La mayor destrucción de exergía ocurre durante el proceso de adición de calor 2-3."
   ]
  },
  {
   "cell_type": "code",
   "execution_count": 41,
   "metadata": {},
   "outputs": [],
   "source": [
    "%reset -s -f"
   ]
  },
  {
   "cell_type": "markdown",
   "metadata": {},
   "source": [
    "## Ejercicio 10-35\n",
    "Una planta termoeléctrica que usa el vapor de agua, opera en el ciclo Rankine ideal con recalentamiento. El vapor entra a la turbina de alta presión a 6 MPa y 400 °C y sale a 2 MPa. El vapor se recalienta luego a\n",
    "presión constante a 400 °C antes de expandirse a 20 kPa en la turbina de baja presión. Determine la producción de trabajo de la turbina, en kJ/kg, y la eficiencia térmica del ciclo. También muestre el ciclo en un diagrama T-s con respecto a las líneas de saturación.\n",
    "\n",
    "![ce10-33.png](img/ce10-33.png)"
   ]
  },
  {
   "cell_type": "markdown",
   "metadata": {},
   "source": [
    "### Solución\n",
    "Se considera una planta de energía de vapor que opera en el ciclo ideal de Rankine de recalentamiento. La producción de trabajo de la turbina y la eficiencia térmica del ciclo deben ser determinadas.   \n",
    "__Supuestos:__ 1 Existen condiciones operativas estables. 2 Los cambios de energía cinética y potencial son despreciables.  \n",
    "__Análisis:__ de las tablas de vapor."
   ]
  },
  {
   "cell_type": "markdown",
   "metadata": {},
   "source": [
    "$$ \\begin{array}{l}\n",
    "h_1 = h_{f@20kPa} \\\\\n",
    "v_1 = v_{f@20kPa}\n",
    "\\end{array}\n",
    "$$"
   ]
  },
  {
   "cell_type": "code",
   "execution_count": 1,
   "metadata": {},
   "outputs": [],
   "source": [
    "import CoolProp.CoolProp as cp"
   ]
  },
  {
   "cell_type": "code",
   "execution_count": 4,
   "metadata": {},
   "outputs": [
    {
     "name": "stdout",
     "output_type": "stream",
     "text": [
      "h1 = 251.42 kJ/kg\n",
      "s1 = 0.832 kJ/kg·K\n",
      "v1 = 0.001017 m^3/kg\n"
     ]
    }
   ],
   "source": [
    "P1 = 20e3 # Pa\n",
    "\n",
    "h1 = cp.PropsSI('H','P',P1,'Q',0,'Water') ; print('h1 = %s kJ/kg'%round(h1/1000,2))\n",
    "s1 = cp.PropsSI('S','P',P1,'Q',0,'Water') ; print('s1 = %s kJ/kg·K'%round(s1/1000,4))\n",
    "v1 = 1/cp.PropsSI('D','P',P1,'Q',0,'Water') ; print('v1 = %s m^3/kg'%round(v1,6))"
   ]
  },
  {
   "cell_type": "markdown",
   "metadata": {},
   "source": [
    "$$ w_{p,in} = v_1 (P_2 - P_1) $$"
   ]
  },
  {
   "cell_type": "code",
   "execution_count": 5,
   "metadata": {},
   "outputs": [
    {
     "name": "stdout",
     "output_type": "stream",
     "text": [
      "w_pin = 6.08 kJ/kg\n"
     ]
    }
   ],
   "source": [
    "P2 = 6e6 # Pa\n",
    "w_pin = v1*(P2 - P1) ; print('w_pin = %s kJ/kg'%round(w_pin/1000,2))"
   ]
  },
  {
   "cell_type": "markdown",
   "metadata": {},
   "source": [
    "$$ h_2 = h_1 + w_{p,in} $$"
   ]
  },
  {
   "cell_type": "code",
   "execution_count": 7,
   "metadata": {},
   "outputs": [
    {
     "name": "stdout",
     "output_type": "stream",
     "text": [
      "h2 = 257.51 kJ/kg\n"
     ]
    }
   ],
   "source": [
    "h2 = h1 + w_pin ; print('h2 = %s kJ/kg'%round(h2/1000,2))"
   ]
  },
  {
   "cell_type": "markdown",
   "metadata": {},
   "source": [
    "$$\\left.\n",
    "\\begin{array}{l}\n",
    "P_3 = 6 \\, MPa \\\\\n",
    "T_3 = 400^\\circ \\mathrm{C}\n",
    "\\end{array}\n",
    "\\right\\} \\quad \\rightarrow \\quad\n",
    "\\left[\n",
    "\\begin{array}{l}\n",
    "h_3 \\\\\n",
    "s_3\n",
    "\\end{array}\n",
    "\\right]\n",
    "$$"
   ]
  },
  {
   "cell_type": "code",
   "execution_count": 8,
   "metadata": {},
   "outputs": [
    {
     "name": "stdout",
     "output_type": "stream",
     "text": [
      "h3 = 3178.25 kJ/kg\n",
      "s3 = 6.5432 kJ/kg\n"
     ]
    }
   ],
   "source": [
    "P3 = 6e6 # Pa\n",
    "T3 = 400 + 273.15 # K\n",
    "\n",
    "h3 = cp.PropsSI('H','P',P3,'T',T3,'Water') ; print('h3 = %s kJ/kg'%round(h3/1000,2))\n",
    "s3 = cp.PropsSI('S','P',P3,'T',T3,'Water') ; print('s3 = %s kJ/kg'%round(s3/1000,4))"
   ]
  },
  {
   "cell_type": "markdown",
   "metadata": {},
   "source": [
    "$$\\left.\n",
    "\\begin{array}{l}\n",
    "P_4 = 2 \\, MPa \\\\\n",
    "s_4 = s_3\n",
    "\\end{array}\n",
    "\\right\\} \\quad \\rightarrow \\quad\n",
    "[ h_4 ]\n",
    "$$"
   ]
  },
  {
   "cell_type": "code",
   "execution_count": 10,
   "metadata": {},
   "outputs": [
    {
     "name": "stdout",
     "output_type": "stream",
     "text": [
      "h4 = 2901.0 kJ/kg\n"
     ]
    }
   ],
   "source": [
    "P4 = 2e6 # Pa\n",
    "s4 = s3\n",
    "\n",
    "h4 = cp.PropsSI('H','P',P4,'S',s4,'Water') ; print('h4 = %s kJ/kg'%round(h4/1000,2))"
   ]
  },
  {
   "cell_type": "markdown",
   "metadata": {},
   "source": [
    "$$\\left.\n",
    "\\begin{array}{l}\n",
    "P_5 = 2 \\, MPa \\\\\n",
    "T_5 = 400^\\circ \\mathrm{C}\n",
    "\\end{array}\n",
    "\\right\\} \\quad \\rightarrow \\quad\n",
    "\\left[\n",
    "\\begin{array}{l}\n",
    "h_5 \\\\\n",
    "s_5\n",
    "\\end{array}\n",
    "\\right]\n",
    "$$"
   ]
  },
  {
   "cell_type": "code",
   "execution_count": 12,
   "metadata": {},
   "outputs": [
    {
     "name": "stdout",
     "output_type": "stream",
     "text": [
      "h5 = 3248.34 kJ/kg\n",
      "s5 = 7.1292 kJ/kg\n"
     ]
    }
   ],
   "source": [
    "P5 = 2e6 # Pa\n",
    "T5 = 400 + 273.15 # K\n",
    "\n",
    "h5 = cp.PropsSI('H','P',P5,'T',T5,'Water') ; print('h5 = %s kJ/kg'%round(h5/1000,2))\n",
    "s5 = cp.PropsSI('S','P',P5,'T',T5,'Water') ; print('s5 = %s kJ/kg'%round(s5/1000,4))"
   ]
  },
  {
   "cell_type": "markdown",
   "metadata": {},
   "source": [
    "$$\\left.\n",
    "\\begin{array}{l}\n",
    "P_6 = 20 \\, kPa \\\\\n",
    "s_6 = s_5\n",
    "\\end{array}\n",
    "\\right\\} \\quad \\rightarrow \\quad\n",
    "\\begin{array}{l}\n",
    "\\displaystyle x_6 = \\frac{s_6 - s_f}{s_g - s_f} \\\\\n",
    "h_6 = h_f + x_6 (h_g - h_f)\n",
    "\\end{array}\n",
    "$$"
   ]
  },
  {
   "cell_type": "code",
   "execution_count": 13,
   "metadata": {},
   "outputs": [
    {
     "name": "stdout",
     "output_type": "stream",
     "text": [
      "x4 = 0.89\n",
      "h4 = 2349.68 kJ/kg\n"
     ]
    }
   ],
   "source": [
    "P6 = 20e3 # Pa\n",
    "s6 = s5\n",
    "\n",
    "sf = cp.PropsSI('S','P',P6,'Q',0,'Water') ; sg = cp.PropsSI('S','P',P6,'Q',1,'Water')\n",
    "hf = cp.PropsSI('H','P',P6,'Q',0,'Water') ; hg = cp.PropsSI('H','P',P6,'Q',1,'Water')\n",
    "\n",
    "x6 = (s6 - sf)/(sg - sf) ; print('x4 = %s'%round(x6,4))\n",
    "h6 = hf + x6*(hg - hf)   ; print('h4 = %s kJ/kg'%round(h6/1000,2))"
   ]
  },
  {
   "cell_type": "markdown",
   "metadata": {},
   "source": [
    "La potencia de trabajo de la turbina y la eficiencia térmica se determinan a partir de\n",
    "\n",
    "$$ w_{T,out} = (h_3 - h_4) + (h_5 - h_6) $$\n",
    "y\n",
    "$$ q_{in} = (h_3 - h_2) + (h_5 - h_4) $$"
   ]
  },
  {
   "cell_type": "code",
   "execution_count": 19,
   "metadata": {},
   "outputs": [
    {
     "name": "stdout",
     "output_type": "stream",
     "text": [
      "w_Tout = 1175.91 kJ/kg\n",
      "q_in = 3268.09 kJ/kg\n",
      "q_iut = 2098.26 kJ/kg\n"
     ]
    }
   ],
   "source": [
    "w_Tout = (h3 - h4) + (h5 - h6) ; print('w_Tout = %s kJ/kg'%round(w_Tout/1000,2))\n",
    "q_in = (h3 - h2) + (h5 - h4) ; print('q_in = %s kJ/kg'%round(q_in/1000,2))\n",
    "q_out = h6 - h1 ; print('q_iut = %s kJ/kg'%round(q_out/1000,2))"
   ]
  },
  {
   "cell_type": "markdown",
   "metadata": {},
   "source": [
    "$$ w_{net} = w_{T,out} - w_{p,in} $$"
   ]
  },
  {
   "cell_type": "code",
   "execution_count": 15,
   "metadata": {},
   "outputs": [
    {
     "name": "stdout",
     "output_type": "stream",
     "text": [
      "w_net = 1169.83 kJ/kg\n"
     ]
    }
   ],
   "source": [
    "w_net = w_Tout - w_pin ; print('w_net = %s kJ/kg'%round(w_net/1000,2))"
   ]
  },
  {
   "cell_type": "markdown",
   "metadata": {},
   "source": [
    "Así\n",
    "$$ \\eta_{th} = \\frac{w_{net}}{q_{in}} $$"
   ]
  },
  {
   "cell_type": "code",
   "execution_count": 17,
   "metadata": {},
   "outputs": [
    {
     "name": "stdout",
     "output_type": "stream",
     "text": [
      "eta_th = 0.358 = 35.8%\n"
     ]
    }
   ],
   "source": [
    "eta_th = w_net/q_in ; print('eta_th = %s = %s%%'%(round(eta_th,4),round(eta_th*100,2)))"
   ]
  },
  {
   "cell_type": "markdown",
   "metadata": {},
   "source": [
    "## Ejercicio 10-66\n",
    "Determine la destrucción de exergía asociada con cada uno de los procesos para el ciclo Rankine con recalentamiento que se describe en el problema 10-35. Suponga una temperatura de fuente de 1.500 K y una temperatura de sumidero de 295 K."
   ]
  },
  {
   "cell_type": "markdown",
   "metadata": {},
   "source": [
    "### Solución\n",
    "Las destrucciones de exergía asociadas con cada uno de los procesos del ciclo de Rankine de recalentamiento descritos en el problema 10-35 deben determinarse para las temperaturas de fuente y de sumidero especificadas.  \n",
    "__Supuestos__ 1 Existen condiciones operativas estables. 2 Los cambios de energía cinética y potencial son despreciables.  \n",
    "__Análisis:__ del problema 10-35"
   ]
  },
  {
   "cell_type": "markdown",
   "metadata": {},
   "source": [
    "$$ \\left\\{\n",
    "\\begin{array}{l}\n",
    "s_1 = s_2 = s_{f@20kPa} \\\\\n",
    "s_3 = s_4 \\\\\n",
    "s_5 = s_6 \\\\\n",
    "q_{23,in} = h_3 - h_2 \\\\\n",
    "q_{45,in} = h_5 - h_4 \\\\\n",
    "q_{out}\n",
    "\\end{array}\n",
    "\\right.\n",
    "$$\n",
    "\n",
    "Los procesos 1-2, 3-4 y 5-6 son isoentrópicos. Por lo tanto, $i_{12} = i_{34} = i_{56} = 0$. También,"
   ]
  },
  {
   "cell_type": "code",
   "execution_count": 20,
   "metadata": {},
   "outputs": [
    {
     "name": "stdout",
     "output_type": "stream",
     "text": [
      "s1 = s2 = sf@10kPa = 0.832 kJ/kg·K\n",
      "s3 = s4 = 6.5432 kJ/kg·K\n",
      "s5 = s6 = 7.12916 kJ/kg·K\n",
      "q_23in = 2920.74 kJ/kg\n",
      "q_45in = 347.34 kJ/kg\n",
      "q_out = 2098.26 kJ/kg\n"
     ]
    }
   ],
   "source": [
    "print('s1 = s2 = sf@10kPa = %s kJ/kg·K'%round(s1/1000,4))\n",
    "print('s3 = s4 = %s kJ/kg·K'%round(s3/1000,4))\n",
    "print('s5 = s6 = %s kJ/kg·K'%round(s5/1000,5))\n",
    "q_23in = h3 - h2 ; print('q_23in = %s kJ/kg'%round(q_23in/1000,2))\n",
    "q_45in = h5 - h4 ; print('q_45in = %s kJ/kg'%round(q_45in/1000,2))\n",
    "print('q_out = %s kJ/kg'%round(q_out/1000,2))"
   ]
  },
  {
   "cell_type": "markdown",
   "metadata": {},
   "source": [
    "$$ \\chi_\\mathrm{dest,23} = T_0 \\left( s_3 - s_2 + \\frac{q_{R,23}}{T_\\mathrm{fuente}} \\right) $$\n",
    "\n",
    "$$ \\chi_\\mathrm{dest,45} = T_0 \\left( s_5 - s_4 + \\frac{q_{R,45}}{T_\\mathrm{fuente}} \\right) $$\n",
    "\n",
    "$$ \\chi_\\mathrm{dest,61} = T_0 \\left( s_1 - s_6 + \\frac{q_{R,61}}{T_\\mathrm{sumidero}} \\right) $$"
   ]
  },
  {
   "cell_type": "code",
   "execution_count": 24,
   "metadata": {},
   "outputs": [
    {
     "name": "stdout",
     "output_type": "stream",
     "text": [
      "Xd23 = 1110.38 kJ/kg\n",
      "Xd45 = 104.55 kJ/kg\n",
      "Xd45 = 240.6 kJ/kg\n"
     ]
    }
   ],
   "source": [
    "To = 295 # K\n",
    "Tf = 1500 # K\n",
    "s2 = s1\n",
    "q_R23 = -q_23in\n",
    "q_R45 = -q_45in\n",
    "q_R61 = q_out\n",
    "\n",
    "Xd23 = To*(s3 - s2 + q_R23/Tf) ; print('Xd23 = %s kJ/kg'%round(Xd23/1000,2))\n",
    "Xd45 = To*(s5 - s4 + q_R45/Tf) ; print('Xd45 = %s kJ/kg'%round(Xd45/1000,2))\n",
    "Xd45 = To*(s1 - s6 + q_R61/To) ; print('Xd45 = %s kJ/kg'%round(Xd45/1000,2))"
   ]
  },
  {
   "cell_type": "code",
   "execution_count": 25,
   "metadata": {},
   "outputs": [],
   "source": [
    "%reset -s -f"
   ]
  },
  {
   "cell_type": "code",
   "execution_count": null,
   "metadata": {},
   "outputs": [],
   "source": []
  }
 ],
 "metadata": {
  "kernelspec": {
   "display_name": "Python 3",
   "language": "python",
   "name": "python3"
  },
  "language_info": {
   "codemirror_mode": {
    "name": "ipython",
    "version": 3
   },
   "file_extension": ".py",
   "mimetype": "text/x-python",
   "name": "python",
   "nbconvert_exporter": "python",
   "pygments_lexer": "ipython3",
   "version": "3.7.3"
  }
 },
 "nbformat": 4,
 "nbformat_minor": 2
}
