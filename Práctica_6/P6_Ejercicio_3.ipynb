{
  "nbformat": 4,
  "nbformat_minor": 0,
  "metadata": {
    "colab": {
      "provenance": [],
      "authorship_tag": "ABX9TyPMWQI5p8hFemGQBAkQ59Qe",
      "include_colab_link": true
    },
    "kernelspec": {
      "name": "python3",
      "display_name": "Python 3"
    },
    "language_info": {
      "name": "python"
    }
  },
  "cells": [
    {
      "cell_type": "markdown",
      "metadata": {
        "id": "view-in-github",
        "colab_type": "text"
      },
      "source": [
        "<a href=\"https://colab.research.google.com/github/daniel-lorenzo/Termodinamica/blob/master/Pr%C3%A1ctica_6/P6_Ejercicio_3.ipynb\" target=\"_parent\"><img src=\"https://colab.research.google.com/assets/colab-badge.svg\" alt=\"Open In Colab\"/></a>"
      ]
    },
    {
      "cell_type": "markdown",
      "source": [
        "# Ejercicio 3\n",
        "Una turbina es accionada por aire a 22 bar y 1000 K, saliendo de la misma a 0.3 bar. Despreciando la $\\Delta Ep$ y $\\Delta Ec$, y sabiendo que $\\Delta S_{12} = 1,8 \\; \\mathrm{kJ/K}$. Determinar:\n",
        "1. $T_{2rev}$ y $T_2$\n",
        "2. $W_{rev}$ y $W$\n",
        "3. $\\eta_{iso}$\n",
        "\n",
        "![image.png](data:image/png;base64,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)\n",
        "\n",
        "$T_0 = 300 \\; \\mathrm{K}$"
      ],
      "metadata": {
        "id": "evUNM-5RVYET"
      }
    },
    {
      "cell_type": "markdown",
      "source": [
        "## Solución"
      ],
      "metadata": {
        "id": "m6ltTMddWQjp"
      }
    },
    {
      "cell_type": "markdown",
      "source": [
        "### 1) $T_{2rev}$ y $T_2$"
      ],
      "metadata": {
        "id": "uT0mSsXk_fmD"
      }
    },
    {
      "cell_type": "markdown",
      "source": [
        "$$\\Delta S_u = \\Delta S_{turb} = \\Delta S_{12} = 1,8 \\; \\mathrm{kJ/K}$$"
      ],
      "metadata": {
        "id": "gOKtq1uFWVKz"
      }
    },
    {
      "cell_type": "markdown",
      "source": [
        "$$\\Delta S_{12} = \\dot{m} \\left[ cp \\ln \\frac{T_2}{T_1} - R \\ln \\frac{P_2}{P_1} \\right]$$"
      ],
      "metadata": {
        "id": "KuQ28_CJzJya"
      }
    },
    {
      "cell_type": "markdown",
      "source": [
        "Despejamos $T_2$\n",
        "$$\\left( \\frac{\\Delta S_{12}}{\\dot{m}} + R \\ln \\frac{P_2}{P_1} \\right) \\frac{1}{cp} = \\ln \\frac{T_2}{T_1}$$"
      ],
      "metadata": {
        "id": "sJUeZv8L0WHe"
      }
    },
    {
      "cell_type": "markdown",
      "source": [
        "$$e^{ \\left( \\frac{\\Delta S_{12}}{\\dot{m}} + R \\ln \\frac{P_2}{P_1} \\right) \\frac{1}{cp}  } = \\frac{T_2}{T_1}$$"
      ],
      "metadata": {
        "id": "XMLhmOnO18Yn"
      }
    },
    {
      "cell_type": "markdown",
      "source": [
        "Entonces\n",
        "$$T_2 = T_1 \\cdot e^{ \\left( \\frac{\\Delta S_{12}}{\\dot{m}} + R \\ln \\frac{P_2}{P_1} \\right) \\frac{1}{cp}  }$$"
      ],
      "metadata": {
        "id": "r-zwQVkq2KtH"
      }
    },
    {
      "cell_type": "markdown",
      "source": [
        "$$T_2 \\approx 458,86 \\; [K]$$"
      ],
      "metadata": {
        "id": "mdoalVJaCEg3"
      }
    },
    {
      "cell_type": "markdown",
      "source": [
        "Si el sistema es reversible, entonces $\\Delta S_u = 0$"
      ],
      "metadata": {
        "id": "wtKq_Hns7X2c"
      }
    },
    {
      "cell_type": "markdown",
      "source": [
        "$$\\Delta S_u = cp \\ln \\left( \\frac{T_{2rev}}{T_1} \\right) - R \\ln \\frac{P_2}{P_1}$$"
      ],
      "metadata": {
        "id": "Tudvf5am7f6K"
      }
    },
    {
      "cell_type": "markdown",
      "source": [
        "Despejamos $T_{2rev}$\n",
        "$$\\left( \\Delta S_u + R \\ln \\frac{P_2}{P_1} \\right) \\frac{1}{cp} = \\ln \\frac{T_{2rev}}{T_1}$$"
      ],
      "metadata": {
        "id": "b7fEujVE761C"
      }
    },
    {
      "cell_type": "markdown",
      "source": [
        "$$T_{2rev} =T_1 \\cdot e^{\\left( \\Delta S_u + R \\ln \\frac{P_2}{P_1} \\right) \\frac{1}{cp}}$$"
      ],
      "metadata": {
        "id": "D7PJlaZA8e5X"
      }
    },
    {
      "cell_type": "markdown",
      "source": [
        "$$T_{2rev} \\approx 293,20 \\; \\mathrm{K}$$"
      ],
      "metadata": {
        "id": "WqWdUvWn92Fx"
      }
    },
    {
      "cell_type": "markdown",
      "source": [
        "---\n",
        "### 2) $W_{rev}$ y $W$"
      ],
      "metadata": {
        "id": "ocJN0YwX_nFX"
      }
    },
    {
      "cell_type": "markdown",
      "source": [
        "$$W_{rev} = m \\cdot cp \\cdot (T_1 - T_{2rev})$$"
      ],
      "metadata": {
        "id": "tfNFeIV__xvq"
      }
    },
    {
      "cell_type": "markdown",
      "source": [
        "$$W_{rev} = 2840.491 \\; \\mathrm{[kW]}$$"
      ],
      "metadata": {
        "id": "2wxooxztADBX"
      }
    },
    {
      "cell_type": "markdown",
      "source": [
        "---\n",
        "### 3) $\\eta_{iso}$"
      ],
      "metadata": {
        "id": "ahfOGTnYARJa"
      }
    },
    {
      "cell_type": "markdown",
      "source": [
        "$$\\eta_{iso} = \\frac{W}{W_{rev}}$$"
      ],
      "metadata": {
        "id": "bX4G_yA9AXwc"
      }
    },
    {
      "cell_type": "markdown",
      "source": [
        "$$\\eta_{iso} \\approx 0,766$$"
      ],
      "metadata": {
        "id": "e-Vay_cXAjHw"
      }
    },
    {
      "cell_type": "markdown",
      "source": [
        "---\n",
        "Python:"
      ],
      "metadata": {
        "id": "17HBcJwtCtVh"
      }
    },
    {
      "cell_type": "code",
      "execution_count": null,
      "metadata": {
        "id": "lhCoMsnKVQEF"
      },
      "outputs": [],
      "source": [
        "# Datos:\n",
        "P_1   = 22e2   # [kPa]\n",
        "T_1   = 1000   # [K]\n",
        "m     =    4   # [kg/s]\n",
        "ΔS_12 =  1.8   # [kJ/K]\n",
        "P_2   =  0.3e2 # [kPa]\n",
        "T_0   =  300   # [K]\n",
        "R     = 0.287  # [kJ/(kg·K)]\n",
        "cp    = 1.0047 # [kJ/(kg·K)]"
      ]
    },
    {
      "cell_type": "code",
      "source": [
        "import numpy as np"
      ],
      "metadata": {
        "id": "MgRxofdv3An2"
      },
      "execution_count": null,
      "outputs": []
    },
    {
      "cell_type": "code",
      "source": [
        "T_2 = T_1*np.exp( (ΔS_12/m + R*np.log(P_2/P_1))/cp )\n",
        "ΔS_u = 0\n",
        "T_2rev = T_1*np.exp( (ΔS_u + R*np.log(P_2/P_1))/cp )\n",
        "W = m*cp*(T_1 - T_2)\n",
        "W_rev = m*cp*(T_1 - T_2rev)\n",
        "η_iso = W/W_rev"
      ],
      "metadata": {
        "id": "VvIwavAS3y-0"
      },
      "execution_count": null,
      "outputs": []
    },
    {
      "cell_type": "code",
      "source": [
        "#@title Resultados:\n",
        "print(\"T_2 = %.2f [K]\"%T_2)\n",
        "print(\"T_2rev = %.2f [K]\"%T_2rev)\n",
        "print(\"W = %.3f [kW]\"%W)\n",
        "print(\"W_rev = %.3f [kW]\"%W_rev)\n",
        "print(\"η_iso = %.3f\"%η_iso)"
      ],
      "metadata": {
        "colab": {
          "base_uri": "https://localhost:8080/"
        },
        "cellView": "form",
        "id": "AzzfJquO-yJc",
        "outputId": "53d5b607-03f5-40c0-9230-9e925e7203a5"
      },
      "execution_count": null,
      "outputs": [
        {
          "output_type": "stream",
          "name": "stdout",
          "text": [
            "T_2 = 458.86 [K]\n",
            "T_2rev = 293.20 [K]\n",
            "W = 2174.730 [kW]\n",
            "W_rev = 2840.491 [kW]\n",
            "η_iso = 0.766\n"
          ]
        }
      ]
    },
    {
      "cell_type": "code",
      "source": [],
      "metadata": {
        "id": "X6tNSKdS-3Pf"
      },
      "execution_count": null,
      "outputs": []
    }
  ]
}