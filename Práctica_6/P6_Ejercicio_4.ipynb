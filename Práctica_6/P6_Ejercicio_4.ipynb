{
  "nbformat": 4,
  "nbformat_minor": 0,
  "metadata": {
    "colab": {
      "provenance": [],
      "authorship_tag": "ABX9TyNdrYJS9Ruwfa24FKTYclWl",
      "include_colab_link": true
    },
    "kernelspec": {
      "name": "python3",
      "display_name": "Python 3"
    },
    "language_info": {
      "name": "python"
    }
  },
  "cells": [
    {
      "cell_type": "markdown",
      "metadata": {
        "id": "view-in-github",
        "colab_type": "text"
      },
      "source": [
        "<a href=\"https://colab.research.google.com/github/daniel-lorenzo/Termodinamica/blob/master/Pr%C3%A1ctica_6/P6_Ejercicio_4.ipynb\" target=\"_parent\"><img src=\"https://colab.research.google.com/assets/colab-badge.svg\" alt=\"Open In Colab\"/></a>"
      ]
    },
    {
      "cell_type": "markdown",
      "source": [
        "# Ejercicio 4\n",
        "Determinar:\n",
        "1. Caudal másico $\\dot{m}_1$\n",
        "2. $\\dot{W}_{REV}$ y $\\dot{W}$\n",
        "3. $T_2$\n",
        "4. $\\Delta S_u$\n",
        "5. $W_{PERDIDO}$\n",
        "\n",
        "![image.png](data:image/png;base64,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)"
      ],
      "metadata": {
        "id": "gK5tfRrjM8uC"
      }
    },
    {
      "cell_type": "markdown",
      "source": [
        "---\n",
        "## Solución"
      ],
      "metadata": {
        "id": "LFxptmKBNbQ4"
      }
    },
    {
      "cell_type": "markdown",
      "source": [
        "### 1) Caudal másico $\\dot{m}_1$"
      ],
      "metadata": {
        "id": "JNj0sjHINq5V"
      }
    },
    {
      "cell_type": "markdown",
      "source": [
        "Ecuación de los gases ideales\n",
        "$$PV = mRT$$"
      ],
      "metadata": {
        "id": "Xn0N7uqiNzBl"
      }
    },
    {
      "cell_type": "markdown",
      "source": [
        "Despejamos $\\dot{m}$\n",
        "$$\\dot{m} = \\frac{P_1V_1}{RT_1}$$"
      ],
      "metadata": {
        "id": "T601Lh7oN2fi"
      }
    },
    {
      "cell_type": "markdown",
      "source": [
        "---\n",
        "### 2) $\\dot{W}_{REV}$ y $\\dot{W}$\n",
        "Si el sistema es reversible, entonces $\\Delta S_u = 0$"
      ],
      "metadata": {
        "id": "x1T7VqvvPu7T"
      }
    },
    {
      "cell_type": "markdown",
      "source": [
        "$$\\Delta S_u = \\dot{m} \\left[ cp \\ln \\left( \\frac{T_{2REV}}{T_1} \\right) - R \\ln \\frac{P_2}{P_1} \\right]$$"
      ],
      "metadata": {
        "id": "95ldn3QPQcSj"
      }
    },
    {
      "cell_type": "markdown",
      "source": [
        "Despejamos $T_{2REV}$\n",
        "$$\\frac{R}{cp} \\ln \\frac{P_2}{P_1} = \\ln \\frac{T_{2REV}}{T_1}$$"
      ],
      "metadata": {
        "id": "t_WpAF-WRO9Z"
      }
    },
    {
      "cell_type": "markdown",
      "source": [
        "Entonces\n",
        "$$T_{2REV} = T_1 \\cdot e^{\\frac{R}{cp} \\ln(P_2/P_1)}$$"
      ],
      "metadata": {
        "id": "tn9dfszqW5cc"
      }
    },
    {
      "cell_type": "markdown",
      "source": [
        "Luego\n",
        "$$-W_{REV} = \\dot{m} \\cdot cp \\cdot \\Delta T$$"
      ],
      "metadata": {
        "id": "BzRux9gcgiAN"
      }
    },
    {
      "cell_type": "markdown",
      "source": [
        "$$W_{REV} = \\dot{m} \\cdot cp \\cdot (T_1 - T_{2REV})$$"
      ],
      "metadata": {
        "id": "2ZjSq7Kvg03s"
      }
    },
    {
      "cell_type": "markdown",
      "source": [
        "Rendimiento isoentrópico (compresor)\n",
        "$$\\eta_{iso} = \\frac{\\dot{W}_{REV}}{\\dot{W}}$$"
      ],
      "metadata": {
        "id": "-N3V_nK-hjB6"
      }
    },
    {
      "cell_type": "markdown",
      "source": [
        "Despejamos $\\dot{W}$\n",
        "$$\\dot{W} = \\frac{\\dot{W}_{REV}}{\\eta_{iso}}$$"
      ],
      "metadata": {
        "id": "RjI2w0PIhy99"
      }
    },
    {
      "cell_type": "markdown",
      "source": [
        "---\n",
        "### 3) $T_2$\n",
        "$$\\dot{W} = \\dot{m} \\cdot  cp \\cdot (T_1 - T_2)$$"
      ],
      "metadata": {
        "id": "mFJJMMdoiOXP"
      }
    },
    {
      "cell_type": "markdown",
      "source": [
        "Despejamos $T_2$\n",
        "$$T_2 = T_1 - \\frac{\\dot{W}}{\\dot{m} \\cdot cp}$$"
      ],
      "metadata": {
        "id": "G0a_JKH0jTtN"
      }
    },
    {
      "cell_type": "markdown",
      "source": [
        "---\n",
        "### 4) $\\Delta S_u$"
      ],
      "metadata": {
        "id": "wDOEMnsjj7RI"
      }
    },
    {
      "cell_type": "markdown",
      "source": [
        "$$\\Delta S_u = \\dot{m} \\left[ cp \\ln \\frac{T_2}{T_1} - R \\ln \\frac{P_2}{P_1} \\right]$$"
      ],
      "metadata": {
        "id": "Rl8DiMs1kG3p"
      }
    },
    {
      "cell_type": "markdown",
      "source": [
        "---\n",
        "### 5) $\\dot{W}_{Perdido}$"
      ],
      "metadata": {
        "id": "N6gSeEBzkchf"
      }
    },
    {
      "cell_type": "markdown",
      "source": [
        "$$\\dot{W}_{Perdido} = T_0 \\Delta S_u$$"
      ],
      "metadata": {
        "id": "ss3paImOkppW"
      }
    },
    {
      "cell_type": "markdown",
      "source": [
        "Resolución en python"
      ],
      "metadata": {
        "id": "zPwoxFqUnPFs"
      }
    },
    {
      "cell_type": "code",
      "execution_count": null,
      "metadata": {
        "id": "n8U3Q_kNMgAT"
      },
      "outputs": [],
      "source": [
        "# Datos:\n",
        "P_1 = 1e2        # [kPa]\n",
        "T_1 = 27 + 273   # [K]\n",
        "V_1 = 1080/3600  # [m^3/s]\n",
        "P_2 = 10e2       # [kPa]\n",
        "η_iso = 0.85\n",
        "T_0 = 300        # [K]\n",
        "R = 0.287        # [kJ/(kg·K)]\n",
        "cp = 1.0047      # [kJ/(kg·K)]"
      ]
    },
    {
      "cell_type": "code",
      "source": [
        "import numpy as np"
      ],
      "metadata": {
        "id": "1PGq7FNJbU3V"
      },
      "execution_count": null,
      "outputs": []
    },
    {
      "cell_type": "code",
      "source": [
        "# Caudal másico\n",
        "m = (P_1*V_1)/(R*T_1)\n",
        "# Temperatura en 2 rev\n",
        "T_2rev = np.exp( R*np.log(P_2/P_1)/cp ) * T_1\n",
        "# Trabajo reversible\n",
        "W_rev = m*cp*(T_1 - T_2rev)\n",
        "# Trabajo\n",
        "W = W_rev/η_iso\n",
        "# Temperatura en 2\n",
        "T_2 = T_1 - W/(m*cp)\n",
        "# Variación de entropía del universo\n",
        "ΔS_u = m*(cp*np.log(T_2/T_1) - R*np.log(P_2/P_1))\n",
        "# Trabajo perdido\n",
        "W_perd = T_0*ΔS_u"
      ],
      "metadata": {
        "id": "O6xEsUYjOtcV"
      },
      "execution_count": null,
      "outputs": []
    },
    {
      "cell_type": "code",
      "source": [
        "#@title Resultados\n",
        "print(\"1) Caudal másico\")\n",
        "print(\"   m = %.2f [kg/s]\"%m)\n",
        "print(\"\\n2) W_rev y W\")\n",
        "print(\"   T_2rev = %.2f [K]\"%T_2rev)\n",
        "print(\"   W_rev = %.3f [kW]\"%W_rev)\n",
        "print(\"   W = %.2f [kW]\"%W)\n",
        "print(\"\\n3) Temperatura en 2\")\n",
        "print(\"   T_2 = %.2f [K]\"%T_2)\n",
        "print(\"\\n4) Variación de entropía del universo\")\n",
        "print(\"   ΔS_u = %.6f [kW/K]\"%ΔS_u)\n",
        "print(\"\\n5) Trabajo perdido\")\n",
        "print(\"   W_perd = %.3f [kW]\"%W_perd)"
      ],
      "metadata": {
        "colab": {
          "base_uri": "https://localhost:8080/"
        },
        "cellView": "form",
        "id": "MrAVtbQSlll1",
        "outputId": "d81a23ad-a0aa-4933-e26a-d8fdadae357c"
      },
      "execution_count": null,
      "outputs": [
        {
          "output_type": "stream",
          "name": "stdout",
          "text": [
            "1) Caudal másico\n",
            "   m = 0.35 [kg/s]\n",
            "\n",
            "2) W_rev y W\n",
            "   T_2rev = 579.13 [K]\n",
            "   W_rev = -97.716 [kW]\n",
            "   W = -114.96 [kW]\n",
            "\n",
            "3) Temperatura en 2\n",
            "   T_2 = 628.39 [K]\n",
            "\n",
            "4) Variación de entropía del universo\n",
            "   ΔS_u = 0.028577 [kW/K]\n",
            "\n",
            "5) Trabajo perdido\n",
            "   W_perd = 8.573 [kW]\n"
          ]
        }
      ]
    }
  ]
}