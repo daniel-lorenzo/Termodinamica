{
  "nbformat": 4,
  "nbformat_minor": 0,
  "metadata": {
    "colab": {
      "provenance": [],
      "authorship_tag": "ABX9TyPzcisF8ATkVb7c5qhB1ace",
      "include_colab_link": true
    },
    "kernelspec": {
      "name": "python3",
      "display_name": "Python 3"
    },
    "language_info": {
      "name": "python"
    }
  },
  "cells": [
    {
      "cell_type": "markdown",
      "metadata": {
        "id": "view-in-github",
        "colab_type": "text"
      },
      "source": [
        "<a href=\"https://colab.research.google.com/github/daniel-lorenzo/Termodinamica/blob/master/Pr%C3%A1ctica_6/P6_Ejercicio_1.ipynb\" target=\"_parent\"><img src=\"https://colab.research.google.com/assets/colab-badge.svg\" alt=\"Open In Colab\"/></a>"
      ]
    },
    {
      "cell_type": "markdown",
      "source": [
        "# Ejercicio 1\n",
        "Una turbina adiabática recibe 10 kg/s de vapor de agua a 30 bar y 320°C. El vapor egresa a 0,14 bar siendo el rendimiento del 75%. Se pide:\n",
        "1. Potencia\n",
        "2. Variación de entropía del universo\n",
        "3. Trabajo perdido\n",
        "\n",
        "![image.png](data:image/png;base64,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)"
      ],
      "metadata": {
        "id": "b80BZcYYjnSk"
      }
    },
    {
      "cell_type": "markdown",
      "source": [
        "## Solución"
      ],
      "metadata": {
        "id": "l1rM0u1FkRaG"
      }
    },
    {
      "cell_type": "code",
      "source": [
        "# Datos:"
      ],
      "metadata": {
        "id": "5VeaHIA0MJIT"
      },
      "execution_count": null,
      "outputs": []
    },
    {
      "cell_type": "markdown",
      "source": [
        "### Punto 1\n",
        "Con $P = 30 \\; \\mathrm{bar}$, y $T=320^\\circ \\mathrm{C}$"
      ],
      "metadata": {
        "id": "ScwOOjCeBrhu"
      }
    },
    {
      "cell_type": "code",
      "source": [
        "# De tabla\n",
        "h_1 = 3045.44 # [kJ/kg]\n",
        "s_1 = 6.62854 # [kJ/kg]"
      ],
      "metadata": {
        "id": "xVIQGu2iMdou"
      },
      "execution_count": null,
      "outputs": []
    },
    {
      "cell_type": "markdown",
      "source": [
        "### Punto 2    \n",
        "$P = 0,14 \\; bar \\quad \\rightarrow \\quad s', \\; s'', \\;h', \\; h'' \\quad \\rightarrow \\quad x_{2rev}, \\; h_{2rev}$"
      ],
      "metadata": {
        "id": "4awIu_WmB-Wf"
      }
    },
    {
      "cell_type": "code",
      "source": [
        "# Con P_2 = 0.14 bar, de tabla\n",
        "hp_2  =  220.02 # [kJ/kg]\n",
        "hpp_2 = 2596.71 # [kJ/kg]\n",
        "sp_2  = 0.73669 # [kJ/kg]\n",
        "spp_2 = 8.03338 # [kJ/kg]"
      ],
      "metadata": {
        "id": "FHRNJkT7MvAy"
      },
      "execution_count": null,
      "outputs": []
    },
    {
      "cell_type": "code",
      "source": [
        "s_2rev = s_1"
      ],
      "metadata": {
        "id": "fSsCGYzGNMp2"
      },
      "execution_count": null,
      "outputs": []
    },
    {
      "cell_type": "markdown",
      "source": [
        "$$s_{2rev} = s_1$$"
      ],
      "metadata": {
        "id": "c3xvRdS1DY13"
      }
    },
    {
      "cell_type": "markdown",
      "source": [
        "$$x_{2Rev} = \\frac{s_{2Rev} - s'}{s'' - s'}$$"
      ],
      "metadata": {
        "id": "hetvp6koLQ5u"
      }
    },
    {
      "cell_type": "code",
      "source": [
        "x_2rev = (s_2rev - sp_2)/(spp_2 - sp_2)"
      ],
      "metadata": {
        "id": "uVKU8h2NNP94"
      },
      "execution_count": null,
      "outputs": []
    },
    {
      "cell_type": "code",
      "source": [
        "print(\"x_2rev = %.3f\"%x_2rev)"
      ],
      "metadata": {
        "colab": {
          "base_uri": "https://localhost:8080/"
        },
        "id": "grAW3wVpNYac",
        "outputId": "0a9251fb-8dac-4f2c-dec7-e72fafb66e0f"
      },
      "execution_count": null,
      "outputs": [
        {
          "output_type": "stream",
          "name": "stdout",
          "text": [
            "x_2rev = 0.807\n"
          ]
        }
      ]
    },
    {
      "cell_type": "markdown",
      "source": [
        "$$h_{2rev} = x_{2rev} (h''_2 - h'_2) + h'_2$$"
      ],
      "metadata": {
        "id": "5SExkPPwLzq5"
      }
    },
    {
      "cell_type": "code",
      "source": [
        "h_2rev = x_2rev*(hpp_2 - hp_2) + hp_2"
      ],
      "metadata": {
        "id": "q4xgitodOknW"
      },
      "execution_count": null,
      "outputs": []
    },
    {
      "cell_type": "markdown",
      "source": [
        "$$\\eta_{iso} = 0,75 = \\frac{W}{W_{Rev}}$$"
      ],
      "metadata": {
        "id": "bntYXgnsCpH5"
      }
    },
    {
      "cell_type": "markdown",
      "source": [
        "$$W = \\eta_{iso} W_{rev}$$"
      ],
      "metadata": {
        "id": "fGKbSgSqOxK5"
      }
    },
    {
      "cell_type": "markdown",
      "source": [
        "$$\\underbrace{Q}_{=0} - W = \\Delta H$$"
      ],
      "metadata": {
        "id": "5XblqRRHCwTL"
      }
    },
    {
      "cell_type": "markdown",
      "source": [
        "$$W_{Rev} = m (h_1 - h_{2rev})$$"
      ],
      "metadata": {
        "id": "3EDRuvKBC_kp"
      }
    },
    {
      "cell_type": "markdown",
      "source": [
        "$$W = -\\Delta H = m(h_1 - h_2)$$"
      ],
      "metadata": {
        "id": "7dj5XHjDC5mJ"
      }
    },
    {
      "cell_type": "markdown",
      "source": [
        "$$h_2 = h_1 - \\frac{W}{m}$$"
      ],
      "metadata": {
        "id": "wqvmL2rNSU3l"
      }
    },
    {
      "cell_type": "markdown",
      "source": [
        "$$x_2 = \\frac{h_2 - h'}{h'' - h'}$$"
      ],
      "metadata": {
        "id": "V3zkqIcKS1JJ"
      }
    },
    {
      "cell_type": "code",
      "source": [
        "# Temperatura ambiento\n",
        "T_0 = 300 # [K]\n",
        "# Caudal másico\n",
        "m = 10 # [kg/s]\n",
        "# Rendimiento isoentrópico\n",
        "η_iso = 0.75\n",
        "# Trabajo reversible\n",
        "W_rev = m*(h_1 - h_2rev)\n",
        "# Trabajo\n",
        "W = η_iso*W_rev\n",
        "# Entropía en 2\n",
        "h_2 = h_1 - W/m\n",
        "# Estado vapor en 2\n",
        "x_2 = (h_2 - hp_2)/(hpp_2 - hp_2)\n",
        "# Entropía en  2\n",
        "s_2 = x_2*(spp_2 - sp_2) + sp_2\n",
        "# Variación de entropía del universo\n",
        "ΔS_u = m*(s_2 - s_1)\n",
        "# Trabajo perdido\n",
        "W_perd = T_0*ΔS_u"
      ],
      "metadata": {
        "id": "RZAhuZppO9Ho"
      },
      "execution_count": null,
      "outputs": []
    },
    {
      "cell_type": "code",
      "source": [
        "print(\"W = %.2f [W]\"%W)\n",
        "print(\"ΔS_u = %.5f [kW/K]\"%ΔS_u)\n",
        "print(\"W_perd = %.3f [W]\"%W_perd)"
      ],
      "metadata": {
        "colab": {
          "base_uri": "https://localhost:8080/"
        },
        "id": "Nh7FOsANPwGY",
        "outputId": "e67ec973-8f4f-4205-ba9d-f259362c01d8"
      },
      "execution_count": null,
      "outputs": [
        {
          "output_type": "stream",
          "name": "stdout",
          "text": [
            "W = 6797.38 [W]\n",
            "ΔS_u = 6.95622 [kW/K]\n",
            "W_perd = 2086.866 [W]\n"
          ]
        }
      ]
    },
    {
      "cell_type": "markdown",
      "source": [
        "$$\\Delta S_u = \\Delta S_{Turb} = \\Delta_{1-2} = m(s_2 - s_1)$$"
      ],
      "metadata": {
        "id": "IQ5xfzBADHEs"
      }
    },
    {
      "cell_type": "markdown",
      "source": [
        "$$\\dot{W}_{perd} = T_0 \\cdot \\Delta S_u$$"
      ],
      "metadata": {
        "id": "BJIlL2auT4_L"
      }
    },
    {
      "cell_type": "code",
      "source": [
        "%reset -s -f"
      ],
      "metadata": {
        "id": "nGKZw6JNUo5L"
      },
      "execution_count": null,
      "outputs": []
    },
    {
      "cell_type": "markdown",
      "source": [
        "---"
      ],
      "metadata": {
        "id": "K_NEGCT3Bosz"
      }
    },
    {
      "cell_type": "code",
      "source": [
        "!pip install CoolProp"
      ],
      "metadata": {
        "colab": {
          "base_uri": "https://localhost:8080/"
        },
        "id": "oUm_QPoDlyaw",
        "outputId": "6250c092-d4e1-49e9-88da-a2852d1d817b"
      },
      "execution_count": null,
      "outputs": [
        {
          "output_type": "stream",
          "name": "stdout",
          "text": [
            "Collecting CoolProp\n",
            "  Downloading CoolProp-6.5.0.post1-cp310-cp310-manylinux_2_17_x86_64.manylinux2014_x86_64.whl (6.7 MB)\n",
            "\u001b[2K     \u001b[90m━━━━━━━━━━━━━━━━━━━━━━━━━━━━━━━━━━━━━━━━\u001b[0m \u001b[32m6.7/6.7 MB\u001b[0m \u001b[31m27.0 MB/s\u001b[0m eta \u001b[36m0:00:00\u001b[0m\n",
            "\u001b[?25hInstalling collected packages: CoolProp\n",
            "Successfully installed CoolProp-6.5.0.post1\n"
          ]
        }
      ]
    },
    {
      "cell_type": "code",
      "execution_count": null,
      "metadata": {
        "id": "_7ognvrtjh5g"
      },
      "outputs": [],
      "source": [
        "# Datos:\n",
        "P_1 = 30e5 # [Pa]\n",
        "T_1 = 320+273.15 # [K]\n",
        "m_1 = 10 # [kg/s]\n",
        "P_2 = 0.14e5 # [Pa]\n",
        "η_iso = 0.75\n",
        "T_0 = 300 # [K]"
      ]
    },
    {
      "cell_type": "code",
      "source": [
        "import CoolProp.CoolProp as cp"
      ],
      "metadata": {
        "id": "rqjACXz6lhvi"
      },
      "execution_count": null,
      "outputs": []
    },
    {
      "cell_type": "markdown",
      "source": [
        "### 1) Potencia"
      ],
      "metadata": {
        "id": "PceMgnf_sEwO"
      }
    },
    {
      "cell_type": "code",
      "source": [
        "# En el punto 1\n",
        "# Con P_1 y T_1\n",
        "h_1 = cp.PropsSI(\"H\",'P',P_1,'T',T_1,'Water')\n",
        "s_1 = cp.PropsSI(\"S\",'P',P_1,'T',T_1,'Water')"
      ],
      "metadata": {
        "id": "DzjLpBkal_I6"
      },
      "execution_count": null,
      "outputs": []
    },
    {
      "cell_type": "code",
      "source": [
        "print(\"h_1 = %.2f [kJ/kg]\"%(h_1/1000))\n",
        "print(\"s_1 = %.5f [kJ/kg]\"%(s_1/1000))"
      ],
      "metadata": {
        "colab": {
          "base_uri": "https://localhost:8080/"
        },
        "id": "Of2Ir50ymT7p",
        "outputId": "10e1bb29-731e-4977-ac80-530a1ac61f5b"
      },
      "execution_count": null,
      "outputs": [
        {
          "output_type": "stream",
          "name": "stdout",
          "text": [
            "h_1 = 3044.15 [kJ/kg]\n",
            "s_1 = 6.62664 [kJ/kg]\n"
          ]
        }
      ]
    },
    {
      "cell_type": "markdown",
      "source": [
        "Considerando\n",
        "$$s_1 = s_{2rev}$$"
      ],
      "metadata": {
        "id": "pv9u0HeTnWyZ"
      }
    },
    {
      "cell_type": "code",
      "source": [
        "s_2rev = s_1\n",
        "cp.PhaseSI('P',P_2,'S',s_2rev,'Water')"
      ],
      "metadata": {
        "colab": {
          "base_uri": "https://localhost:8080/",
          "height": 36
        },
        "id": "6Mdja_gJnz9c",
        "outputId": "5983aeb2-1100-4d6e-fae4-0492fe56f748"
      },
      "execution_count": null,
      "outputs": [
        {
          "output_type": "execute_result",
          "data": {
            "text/plain": [
              "'twophase'"
            ],
            "application/vnd.google.colaboratory.intrinsic+json": {
              "type": "string"
            }
          },
          "metadata": {},
          "execution_count": 9
        }
      ]
    },
    {
      "cell_type": "markdown",
      "source": [
        "$$x_{2rev} = \\frac{s_{2rev} - s'_2}{s''_2 - s'_2}$$"
      ],
      "metadata": {
        "id": "qloHCdCDoSuW"
      }
    },
    {
      "cell_type": "code",
      "source": [
        "# Calculamos x_2\n",
        "sp_2 = cp.PropsSI('S','P',P_2,'Q',0,'Water')   # s'  (líq saturado)\n",
        "spp_2 = cp.PropsSI('S','P',P_2,'Q',1,'Water')  # s'' (vap saturado)\n",
        "\n",
        "x_2rev = (s_2rev - sp_2)/(spp_2 - sp_2)"
      ],
      "metadata": {
        "id": "covAdxEJmqCX"
      },
      "execution_count": null,
      "outputs": []
    },
    {
      "cell_type": "code",
      "source": [
        "print(\"x_2rev = %.3f\"%x_2rev)"
      ],
      "metadata": {
        "colab": {
          "base_uri": "https://localhost:8080/"
        },
        "id": "ipJZWXAlpOKw",
        "outputId": "ffe523fd-31b9-4f57-c82c-fabd9a449b9b"
      },
      "execution_count": null,
      "outputs": [
        {
          "output_type": "stream",
          "name": "stdout",
          "text": [
            "x_2rev = 0.807\n"
          ]
        }
      ]
    },
    {
      "cell_type": "code",
      "source": [
        "cp.PropsSI('Q','P',P_2,'S',s_2rev,'Water')"
      ],
      "metadata": {
        "colab": {
          "base_uri": "https://localhost:8080/"
        },
        "id": "U381-ArmpUCE",
        "outputId": "9e24b7aa-38b2-42ea-a2f0-d499fb643fb3"
      },
      "execution_count": null,
      "outputs": [
        {
          "output_type": "execute_result",
          "data": {
            "text/plain": [
              "0.8074610978872369"
            ]
          },
          "metadata": {},
          "execution_count": 13
        }
      ]
    },
    {
      "cell_type": "code",
      "source": [
        "hp_2 = cp.PropsSI('H','P',P_2,'Q',0,'Water')   # h'  (líq saturado)\n",
        "hpp_2 = cp.PropsSI('H','P',P_2,'Q',1,'Water')  # h'' (vap saturado)"
      ],
      "metadata": {
        "id": "If3mlX9Fpuuf"
      },
      "execution_count": null,
      "outputs": []
    },
    {
      "cell_type": "code",
      "source": [
        "h_2rev = x_2rev*(hpp_2 - hp_2) + hp_2"
      ],
      "metadata": {
        "id": "6sF0zYRHphad"
      },
      "execution_count": null,
      "outputs": []
    },
    {
      "cell_type": "markdown",
      "source": [
        "$$\\dot{W}_{rev} = \\dot{m} (h_1 - h_{2rev})$$"
      ],
      "metadata": {
        "id": "mtg8sWPNp_V9"
      }
    },
    {
      "cell_type": "markdown",
      "source": [
        "$$\\dot{W} = \\eta_{iso} W_{rev}$$"
      ],
      "metadata": {
        "id": "htBdfe58qUsa"
      }
    },
    {
      "cell_type": "code",
      "source": [
        "W_rev = m_1*(h_1 - h_2rev)\n",
        "# Potencia\n",
        "W = η_iso*W_rev"
      ],
      "metadata": {
        "id": "RI_FhfjVp9By"
      },
      "execution_count": null,
      "outputs": []
    },
    {
      "cell_type": "code",
      "source": [
        "#@title Resultado\n",
        "print(\"Potencia\")\n",
        "print(\"W = %.3f [kW]\"%(W/1000))"
      ],
      "metadata": {
        "colab": {
          "base_uri": "https://localhost:8080/"
        },
        "cellView": "form",
        "id": "xOh-U4p6q5mh",
        "outputId": "195be77f-bd9f-4398-801f-83afb845de70"
      },
      "execution_count": null,
      "outputs": [
        {
          "output_type": "stream",
          "name": "stdout",
          "text": [
            "Potencia\n",
            "W = 6793.514 [kW]\n"
          ]
        }
      ]
    },
    {
      "cell_type": "markdown",
      "source": [
        "---\n",
        "### 2) $\\Delta S_u$"
      ],
      "metadata": {
        "id": "ETsT3PVVrclM"
      }
    },
    {
      "cell_type": "markdown",
      "source": [
        "$$\\dot{W} = \\dot{m} (h_1 - h_2)$$"
      ],
      "metadata": {
        "id": "qKwfX_sar6Ep"
      }
    },
    {
      "cell_type": "markdown",
      "source": [
        "$$h_2 = h_1 - \\frac{\\dot{W}}{\\dot{m}}$$"
      ],
      "metadata": {
        "id": "7e73xeP6sUXl"
      }
    },
    {
      "cell_type": "code",
      "source": [
        "h_2 = h_1 - W/m_1"
      ],
      "metadata": {
        "id": "nNoLDpdprCV3"
      },
      "execution_count": null,
      "outputs": []
    },
    {
      "cell_type": "code",
      "source": [
        "x_2 = (h_2 - hp_2)/(hpp_2 - hp_2)"
      ],
      "metadata": {
        "id": "BlZhMKIxsp8T"
      },
      "execution_count": null,
      "outputs": []
    },
    {
      "cell_type": "code",
      "source": [
        "print(\"x_2 = %.3f\"%x_2)"
      ],
      "metadata": {
        "colab": {
          "base_uri": "https://localhost:8080/"
        },
        "id": "kH54y_Kwsvpv",
        "outputId": "3e446b42-72bd-4580-ccf3-73b891e0db6c"
      },
      "execution_count": null,
      "outputs": [
        {
          "output_type": "stream",
          "name": "stdout",
          "text": [
            "x_2 = 0.903\n"
          ]
        }
      ]
    },
    {
      "cell_type": "code",
      "source": [
        "s_2 = x_2*(spp_2 - sp_2) + sp_2"
      ],
      "metadata": {
        "id": "3AJag_bFs9GB"
      },
      "execution_count": null,
      "outputs": []
    },
    {
      "cell_type": "code",
      "source": [
        "print(\"s_2 = %.3f [kJ/(kg·K)]\"%(s_2/1000))"
      ],
      "metadata": {
        "colab": {
          "base_uri": "https://localhost:8080/"
        },
        "id": "CuYzbB9NtS8A",
        "outputId": "a44fda0e-7dec-488b-c76a-70dcf27c9d0e"
      },
      "execution_count": null,
      "outputs": [
        {
          "output_type": "stream",
          "name": "stdout",
          "text": [
            "s_2 = 7.322 [kJ/(kg·K)]\n"
          ]
        }
      ]
    },
    {
      "cell_type": "code",
      "source": [
        "ΔS_u = m_1*(s_2 - s_1)"
      ],
      "metadata": {
        "id": "rNPO-8arta3O"
      },
      "execution_count": null,
      "outputs": []
    },
    {
      "cell_type": "code",
      "source": [
        "#@title Resultado\n",
        "print(\"Variación de entropía del universo\")\n",
        "print(\"ΔS_u = %.3f [kW/K]\"%(ΔS_u/1000))"
      ],
      "metadata": {
        "colab": {
          "base_uri": "https://localhost:8080/"
        },
        "cellView": "form",
        "id": "HlHcKT8-tv78",
        "outputId": "8c0eb302-164f-472d-e0ee-4205421f07b3"
      },
      "execution_count": null,
      "outputs": [
        {
          "output_type": "stream",
          "name": "stdout",
          "text": [
            "Variación de entropía del universo\n",
            "ΔS_u = 6.953 [kW/K]\n"
          ]
        }
      ]
    },
    {
      "cell_type": "markdown",
      "source": [
        "---\n",
        "### 3) Trabajo perdido\n",
        "$$\\dot{W}_{perd} = T_0 \\cdot \\Delta S_u$$"
      ],
      "metadata": {
        "id": "y5ZBOZk_uFi9"
      }
    },
    {
      "cell_type": "code",
      "source": [
        "W_perd = T_0*ΔS_u"
      ],
      "metadata": {
        "id": "22EnWRb3t40M"
      },
      "execution_count": null,
      "outputs": []
    },
    {
      "cell_type": "code",
      "source": [
        "#@title Resultado\n",
        "print(\"Trabajo perdido\")\n",
        "print(\"W_perd = %.1f [kJ/s]\"%(W_perd/1000))"
      ],
      "metadata": {
        "colab": {
          "base_uri": "https://localhost:8080/"
        },
        "cellView": "form",
        "id": "Zz9zxoYYujez",
        "outputId": "8247a956-98d0-4565-aa68-865e153c9932"
      },
      "execution_count": null,
      "outputs": [
        {
          "output_type": "stream",
          "name": "stdout",
          "text": [
            "Trabajo perdido\n",
            "W_perd = 2085.8 [kJ/s]\n"
          ]
        }
      ]
    },
    {
      "cell_type": "code",
      "source": [],
      "metadata": {
        "id": "87-CKCMdupy1"
      },
      "execution_count": null,
      "outputs": []
    }
  ]
}