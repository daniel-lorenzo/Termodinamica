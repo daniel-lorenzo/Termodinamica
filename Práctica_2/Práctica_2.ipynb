{
  "nbformat": 4,
  "nbformat_minor": 0,
  "metadata": {
    "colab": {
      "provenance": [],
      "authorship_tag": "ABX9TyOReoVp72OcHHZ0lrLx313U",
      "include_colab_link": true
    },
    "kernelspec": {
      "name": "python3",
      "display_name": "Python 3"
    },
    "language_info": {
      "name": "python"
    }
  },
  "cells": [
    {
      "cell_type": "markdown",
      "metadata": {
        "id": "view-in-github",
        "colab_type": "text"
      },
      "source": [
        "<a href=\"https://colab.research.google.com/github/daniel-lorenzo/Termodinamica/blob/master/Pr%C3%A1ctica_2/Pr%C3%A1ctica_2.ipynb\" target=\"_parent\"><img src=\"https://colab.research.google.com/assets/colab-badge.svg\" alt=\"Open In Colab\"/></a>"
      ]
    },
    {
      "cell_type": "markdown",
      "source": [
        "#Práctica 2\n",
        "## Ejercicio 1\n",
        "Un recipiente de 0,5 m3 contiene aire inicialmente a 27°C y 5 bar de presión. Por medio de una válvula está conectado con otro recipiente que contiene 2Kg de aire inicialmente a 32°C y 200Kpa. Se abre la válvula y se deja que todo el sistema esté en equilibrio térmico con el medio, que se encuentra a 27°C. Determinar:\n",
        "1. Volumen del 2do. Recipiente\n",
        "2. Presión final de equilibrio"
      ],
      "metadata": {
        "id": "YTbzRAMN3DTq"
      }
    },
    {
      "cell_type": "markdown",
      "source": [
        "![image.png](data:image/png;base64,iVBORw0KGgoAAAANSUhEUgAAAj0AAACRCAIAAACnsp7qAAAAA3NCSVQICAjb4U/gAAAgAElEQVR4Xu2dBbgV1fr/4QTdwiGlpJUUkJBQSRG9EiJ6f2KASAkYCHjxmogICKhgwVWRUhABBQRBkBCku0skBOnO8//guv91h5nZc/bZdWbOfvfDw3P26vWd2etdb6dNTExMIx9BQBAQBAQBQcAjCMR4ZJ2yTEFAEBAEBAFB4DoCcW6DYe3atdu3b9erio+Pz5YtW9myZfPly2da6vz588+fP9+0adMgt/DTTz/t2LGjTp06t956a5BD6e6hWluo1iPjCAJRi8CUKVOuXr36wAMPcJgkCcLKlSt3797dsmXLtGnTJutX/PPPP1+8eLFJkyZJTjF79uxdu3bVq1ePY81X42RN7WuQ1FyOnNBVn+7du1vh5h2CPu3Zs8e41Nq1axcpUsTPxf/555+PPfbYli1bTO1PnjyZPXv28uXLnz171s+h/GmWrLX5M6C0EQQEgQAQWLx4sTpPJk6c6E/3p556ivaXL1+mcbJ+xXfcccctt9yS5BTHjh3LmjVrxYoVz507pxtbT6dkTZ3kpKmvgev4LfWSffbZZ6VLl+ZvrjCHDx/mxvTNN99wQ1m6dKlmvNq2bQvVsRI525LRo0d/+eWXffr0MdV+8MEHlHz77beZMmWy7RhYYbLWFtgU0ksQEASSRIAfPrfbuLi4kSNHPvTQQ0m2NzYIx6/4/fffZzEcOBkzZtRzWU+ncEydrL27vbHbSLHit5YvX25a2Ntvvw2UTz75ZGALVt03b95s6r5//34uO4GNKb0EAUHAzQicOXMmS5YsHTt2fOmllzg9rD9/6+KN/Ja11qHET37rjz/+sB44vk4nh+mivMozdhm9e/eGDR8zZgzvoroLvPrqq926ddP3Alixxx9/vFKlSqVKlUJZ1b9//wsXLqjaoUOHjh8/nr+ff/75l19+WRUeOnToueeeu++++2DjWrVqtWTJEj0UbQYPHgyTBzvfoEGDdevWMRcl/NG6dWuk0nfffffMmTNpP3XqVP5GMfbII48gs9YjmNZ24MCBF154oWrVqgz46KOPosPTLflj7969Xbt2ZeWMjGAd0baxVv4WBASBwBD4+uuvOS6aNWuGjoARPvroI+s4a9as4cfLT5hz4IcffjA28P+E0b24cHOkICtq3LgxTJVxNHVAsZg777zTeEDZnk5ygFif1A0lbqPbvvgt1vniiy+ydAiGWrNRBDxp0qSYmBjOfchDr169qlSpQssOHTqologIqlWrRgn06Y033qAQQ4z8+fPDqrdv355hy5UrFxsbO27cONX+9ttvR+OVIUOG4sWLc1/DToS5GBzBNC/l008/fdNNN9EeskcJP4mHH36Yr2XKlLl06ZJ1bdzyEhISMmfOzFwIKgsXLszIkEnVcsWKFRieMMsTTzzB3pkRZR7SS7c9F1mPIOA5BPjZ8lNF18DK+VHnyJHDpMZesGABh0DevHm5Abdr146/CxUqxEFh1W85nzCMD7/Fr5gR7r33Xti72267jXHeffddBZpDd+vpRBfj4SYHiPXFS2MtStkSB7o1bNgwXoVPP/1UrdD4aEuUKFGsWDH9Ul67dg3SlT59euyIVGMTJw4XRS1XLVWLjpTbFq8dWlNKeMWZaMiQIfyt1KfMRYkmJ3PmzOFrunTpNm7cqEZQbNyqVausa2vUqBFEa8OGDaoKPi9Xrlx33XUXX1kn7zeqNT3OqVOnILFIwKGsqr38LwgIAgEgsHXrVn6kECTVF8USX0eNGmUcil8f+nJkd6oQm0Cuv7Z0K8kTBrpFx379+qmhMHWuXr06RwS/d0qcu1vlhMbDTQ4Q69P3jJyQdwLmhv8hJPxv+nz33XfTpk3TthWwLLBQ3LO0qNDY/uDBg9i+o6RFaqfKuSXBdSFSQO6nSjCZfeaZZ/hbq095BWGYVK3i3urXr88sqkQNxQ/AtLDjx4/PnTsX6aI2sudyh43Ja6+9RkuIGR+G1eOwx9dff/3KlSuYP5mGkq+CgCDgPwIYO9AY3YHqgjCQn7BRVAhh49eHyrxgwYKqDb9obrS2U/hzwmCZrC2/kKmg2kAAo44Uf7rbzisHiC0sLrUntF0rzBDlMPvWWqgCOiQ4bt5FOBUUSIqEwNBYG8N3U7hw4UJeU12ryCGG8qqEV9lo8EMh9AYWTdWqP/TrTqFyDYG9M023c+dOCpE6GstRiamv6kqIZstYq76qKtNo8lUQEAT8QYAfHfbDyDlwluKjuhQoUAD9Ex5aSqCybds2ypVAT4/JBVS3N07kzwlTsmRJ46GhLqPqh+xPd9t9yQFiC4uX6BYvHHuoUKGCdSdQLCVg5C2ESHDrmTVr1vTp060tKYGF5/+bb74ZjZSxAaLFypUrqxJNonQDLmum0ZRIwXYKXajIobWvaoAYnT9MJvjc1JzHlFpBQBBwRmDGjBmIVbhNYuBgaslZgZsNhTBD/I8MytjA10/VnxMGMmkcSv2Q1dXZn+62O5IDxBYWz9Cto0ePIgnEqEEL9/R+uJJgjwfJwWQjT548qnzevHm2G6YQiwz+R/o8aNAg3QbRHJ+Q0ww1l0l+qBzmMcTgAsgC8M83LlXZJVrjg/jajpQLAoKACQH0WCgLsKjCeUtXwYTxFdNibIOR6XFzpYpoBsa++/bts4Lp5wkDpTT2VSNzZPnZ3TovJXKA2MLiDf0W1gqYj2N2gaEOr6NpJ/D7XGpatGihiRb+yFgK0QxSpBpj6cAf6u4Dx4bQb8KECdqknipeZXh8bN9tYQq4EH0sLy7D6pVwv8OI45133oGlQ0/G7wdBvK5lok8++YT/UcYGPKl0FASiGQEcpLBor1u3rpFoAQhGv1j/wsEgQuQr0kLOgS+++EKL90+fPv39999bofPnhKEXzXCV0d2hnfyNQXyS3Y2nk2l2OUCsj+N6idVUI2VLlLgPo4kuf38wOr///vs53FkqpAvCo5enTW7wHYYG8ICJ6YL1DsZ+eEopQZ8ODaUkA+hmeWUZQX2F5YJFw5bvvffeQ6QAJ6cM2Xmh8cAw4sBcxiAuStKIi6Juowge/6sSozmQ+pE0bNgQxywMDmGz2AsLUC2Zmq9ovGAQsYnv2bOnCmpl3GnKPhGZXRDwFgIDBw40/sSMi1exT9E8qcL//Oc/tCSGHEcHP09+tkpRbbKD9+eEwZ4Q8oMfCyRz9erVOMkwMlYhTJRkd9PpRBc5QJxfOZfSresU9e8PV6TcuXNj5IPHsekoNz5aeH8cNVQXzNnRbykzHk0eoGcqiiUGewoRbkOKB6cXpAJ2DTZfVYWWbjEmy9C8IDR4+PDhxqeCeT17VItHRA7lhi46PzapFQQEAV8I8EtH4H/ixAnbBvBh/NagUqoWC0N9dNxzzz3q3mz130ryhIFucft89tlnObIYHxrWuXNn7dDp3N16OhkPN9YpB4jpUabluzoxvf4/rwiKIl444mXYKlfZKQIEqBoftVlKuH9hK1+0aFGcf8OKALIILIsw5YAvVGIB43SqFsLMfS20kRLDuikZXBBIBQjgMIMRMldGzgGH7SR5wqi+R44cQZ+NO6nJ8tm5u/V0Mq1EDhAjIKmHbjm8cFIlCAgCgoAgkGoQ8IZdRqqBWzYiCAgCgoAgECQCQreCBFC6CwKCgCAgCEQUAaFbEYVbJhMEBAFBQBAIEgGhW0ECKN0FAUFAEBAEIoqA0K2Iwi2TCQKCgCAgCASJgNCtIAGU7pFAgIApxuAmxilxY1CeOrqQ4CP4m5uC7jCC8hYPbLlBdg9sUuklCAgCtggkbQe/fd/hCxevh3+VT6pEID4utkzRfC7fGuk6cRTF/c4UupRl4yuK8w2uezrMMU6apAwdO3Ys4VH0vvDs/uc//0lu2cB2GmT3wCaVXoKAIGCLQNJxdbsOHLd175+2naUwFSCQ76ZsS//Tx+UbIaQW4XNIYkSsL+NSf//9d3L9EfNbEy18twnzQ9gCI9Fy+e5keYKAIJAsBJKmWwwXGxPTpmHVZI0rjT2BwJT5qz2xTvithIQEWCgT3SL6FzG6VMhHtRGEhF9//bUpqZIn9iiLFAQEAT8R8ItuxcXF9O/yoJ8jSjMPIfDTb9dTaLr/Q7RTInkj5Tt8+DAETC+YmMVNmjRRCSmgWAQpJpf03r17CfRF0GQyR+s006rLgAEDCG0MYdMjEAqZ3EiUEJWnZcuWRMLs1KmTqiWzKGmpCb2qxtdd/JnI/ZDKCgUB7yIgdhnefXbRtXJEhRAMss/obf/6669kiGjfvr0qgd688sorzZs3HzFiRI8ePRYtWvTAAw/oFBWqDZlCIWx01IMQ45jAcSqUHLlvjGmmUafNnTuX7DkmoP2ZKLqejexWEIgsAn7xW5FdkswmCNggAMmpVavWV199he5KVZM5ieyaECq+YlW4dOlS6BapAFQt4YkJyI3JBilp9HDNmjUjMD/yxpo1a1JIkkBolUpmYTOlXZGfE9l19XzZ9wvXvTzyO89vQzbgBQRKFc77zYCOvlYqdMsXMlLuOgRgrZ588klC+JcsWZIY3hMnTuzYsaMKrk/eivXr16sVYwG/efPmZcuW8RUyY9wG8kasCtGKIXKkI1QQA8VWrVr5v1U/J/J/QA+1vHj5yskz5+PTpY+Nj/fQsmWpnkPgwrmzp8/d8Ms1bUHolueeafQumGyipEeC2KB2Ir8aWa0RHmo4oFv/+te/MC8kay1ZacjzSZU1TQ9GHKjBZs2aha0HBKx169ZW23pniP2cyHkQ79beXKpCgeJlvLt+Wbn7EVg8fazzIkW/5YyP1LoIAQhMmzZtkPKxJiwy6tWrB+Ol1gePddddd+HFRTrQXbt24Yncu3dv26WXL1+evKDjxo1buXIlbJnRFhHTRCOds/VT9n8i29mlUBAQBIJHQPit4DGUESKHAAwWbsXz5s2bPXv2559/rieGzTp69ChmgeScVYXYDfIH7lzWxUGrUIOR5RaerE6dOrpBxowZGUR/VSOYuidrIuvUUiIICALBIyD8VvAYygiRQ6BGjRrlypV75plnSFrdokULPbGSCn777bcwSefOnYO2DRs2jFqrNSCFuCRjQ0iC9scff9y4dGgYrs3Tpk0jX+3HH39spIuBTRQ5XGQmQSCaEBC6FU1PO1XsFZYL0wzMKzCR0Bu64447UG598sknyBL5jB49es6cOVhh4INl3XTOnDkxkYcVwyfMWPvGG2+UKFGCKhy2Bg8e/MEHH1j7Jmsia3cpEQQEgeARSDo+YeNuQ/ccPLp10hvBTyYjuA2B6u36x8SkdX+cJz9xwyIDp2MEgPnz5/ezi7UZ6rHLly+XKlUKdZe1VpWEZCJfg7u2fPK8Vc8P/ab4bdXELsO1zyh1LAy7jNJFEmYN7+5rO6Lf8oWMlHsPgaxZswYf4al48eJJ7jwkEyU5izQQBAQBWwRETmgLixQKAoKAICAIuBQBoVsufTCyLEFAEBAEBAFbBIRu2cIihYKAICAICAIuRUDolksfjCxLEBAEBAFBwBYBscuwhUUKBQFBIFgE9u/efProkWBHkf6pBYFbKtxBcMuQ7EboVkhgtBmE6Hkkf+rXr1+lSpUIYU5sveeff96mnRQJAqkUgTPH/vrrwN5UujnZVrIRKHZryJIPC91KNvp+diBHBm6tBCynPfEdxo8fL3TLT+ikWWpCYNyb7Qsl5ExNO5K9JBeBl0d8t3DN9uT2cmgvdMsBnKCqcCTq378/QRl27txJhieiMAQ1nHQWBLyJQP7c2Qvny+XNtcuqQ4NAxgwhTnwjdhmheTC+RiH8K5kyCMFQu3ZtX22kXBAQBAQBQcB/BFKe3yITEsFP//GPf8TGxlrXvWbNGlLWEuQ7V66grmx//fUX+XDPnDlTtWpVYtBZJ9IlBw4cOHXqlLEB8X6MOXMd+lqrmvz9mTFjRtOmTffv308SXmsbKREEBAFBQBDwH4GUp1vE8P7000+hXo0bN7au+//+7/8gJHysVf6XkKupS5cuEC2VYKlr167Dhw/3FX0OA4rFixcbB4egXrlyxf/pVEtiv6LiUmk1IFrQZnbhTDKTO4W0FwQEAUEgChFIebpFeG/oFklsrXSLzH4bNmwgxW369IFbT65YsYLk7g0aNCC3BYHAifn9zjvvlClTBkpmfd6kDVy3bh0yPcKN69qYmECkqeTCYJCNGzcyKdkx8uTJU6xYMeuMUiIICAKCgCCQLARSnm6RGAITBk520iaZxGhffPEFm2nfvn2ytmRqPGDAABJeTJgwIUeOHFTxldwW/N+5c2cry4VMklDfDz74IBaAwUxKX9LvQi8xhScpxrFjxyZNmmQrCA1yFukuCAgCgkC0IZDydAvEYbl69uwJ6SKhn34A5JLAdlxRNYenQpurV69aG2TPnr158+bwT3Pnzq1bt64iWqoZpn0vvfQSfFXFihVNHVGnUUIed+uAlLz66qsEAm/YsCFMG4wgyTJefPFFZIBTp04lS+Gff/7JgG+++aYOKM7fffv2PX78eMGCBW0HlEJBQBAQBASB5CLgCrqFEgtCgqjQSLe+//57jClgjJy3RM71ixcvWttgSQHdQsN04sQJpILGBiVLluQrhMdKt1avXg0TBgVq2bIlRoCwSk8//fR9992nuv/0009wTq+99lq9evWghZMnT2YKxJjIOWHR8ubNS554RoAikrFQdYGDFFsM69OREkFAEBAEAkbAFXSLRH/YE2Kgcfjw4YSEBLUZhITkYm/Tpo3z3iAS+EhZ2yiVGLwOVYxvbIDCia9QIGsv+C1YNPi/Ro0aFS5ceMGCBdOnT3/rrbdgm1TjzZs3kwZX6cYwcIf34iu0iuTxNCBbPI2hiJUrV7YOLiWCgCAgCAgCwSPgCrrFNiAVMCsTJ07s1q0bX+G0sB1v164dpMt5k+SldWiAzozadOnSGduor7ZcGtNhKD9u3DjFkx08eLB+/fokgL///vtVQkL6an1btWrVGJYGimjxt2LgsMgQuuXwUKRKEBAEBIFgEHAL3cLer0iRIogKFd0aO3Ys+i1biwzkh7BKhFBS24YfstVvoYi65557MmbMSDMTiVJfaWAFDtppLESDhSoLng9eUNEthIHauFH9YdRdKfGg7Xqsc0mJICAICAKCQAAIuIVuYWuOpgrDB9ye4HUQEpYvXx6jDNOWpk2b9uijj6JS0uUI62w5J/RbW7ZsyZcvHy2PHLkhKLX6ahIe+sIOg0CqDh06pBqYWDcKA7OS9zWdlAsCgkA0IIAKI1u2bCYbYyIecPdVt+1oACHgPQbimRTwZM4doVvQAGR0+DyhMbIyW8jrXnjhhTvvvNM4zpIlS5bbfTCaoBl0K3fu3CiljF3UV6soD3r23HPPwfMZGyuKBZvlvHipFQSsCOz8Q7J4WFGJ6pJLly5xjhH9h0/mzJmx+cL+SyNSoUIFLKujGiD/Nu8WfovVYgeBtBB6g50FIjij56/ay7333ktakJdfftm4tSpVqjjvFJM/aCE6p0KFCtESIR7CQCwMsaEwdcReY9SoUcghCZmh+apPPvmEZtqk0HkuqRUENAIzFm949ZNpv33xX4seQUYQAIHevXuPGDECM2nOut27d0OlsEzetGkTvJfg4z8CLuK3WDQ81vr16z/++OMWLVpYAxLWqlUrgMAZffr0wbS9WbNm8+fPx1zw4Ycf5i3Bs0ph9MMPPxB76b333uNrXFwcRBFBJUbwv/7667Jly5S1CP/78ujyH2hpGT0IXEtMHDJ2TpeB485dvBQ9u5adJokAzNZHH31ENr4ePXqgL+dKTaYIwpbiAJpkX2lgRMBF/BbLwiMYsR7uU1YhYcCPDW0ZWjFCVxDAgkHwRx45ciSUSQ1IdAzyjBw9elR9xY+YMIZDhgyB66IEQTMlpCMJeHbpGBIELl+5Gh9nE3Y5JIOHdpCz5y/2fO/r2Us3MWxiYmjHltFCiUDbtm25H2/duhVt+oULF3DFGTRoEHFt3n33XQ4E9BEEE9BuOQ4To19XF19TG4yTCYVqLDx//jx2XjjP6EIlBLL1yUFXglcrxmX8T3v8bYhUx9mIGXOvXr0wBRg6dKgyFnNYW2qtchfdQjpnsqEICe68KHv37oXNwjcLMkbYJz0s7Bd0C05LlcCZvf7663hrKR0Yxh1Gr+FFixYZ18M4DGgs4dU3lYRk/TLIkHE/Zcuc4ekH68QGFCsyYgD+fuhYh7e+3Lr3z6w5c188dzZNGhvPwogtRiZyRoB4b8hgihYtCmFAzEOs7bVr16LPhh+CBxo4cCBGEyZtt+2A0C1IiLUKmmeiW1yaTclj8fyhY82aNU3dkQwhSMQwTdmgoR/BMZTQdMicEBERo4frNREVrJNGSYm76Fb4QMfiw/Zuwv0Fm/sxY8YYp4YgWa02wrc2GTlJBC5dvvLOF7PmLd8yuEdr1yYh/G3jnmcGjD128kyeQsVKVqqxev4Paa7aRHJJcrPSIGIIcE/9+eef1UV23rx5qAZQE6BoZwGQLqiaXgn3UZJC6Dg4xhWimtL2xslaOZmVuCW3atWqevXqxo7EUoBo1alTB008V3mcWQkFjkkapJRmBBXitq0IXrKmS02N3aXfijyypBfhIiPqq8gjH8CMyzftafLssHGzlrmQqR33429tX/7s+KmzRctVKV3lzpiYaLkRBvAc3dMF2qClL5ArVN2KaLFCfDe1+A5lAZZcRCQg/gCMTkjWD1EkA0alSpVGjx5tHBDvHWSDmBp+8803yjoMgoozq9FODa1HSNbg3UG89+tCBh1CuImBq8PghnBYGSocCOQtXOLogT19R3z349JNA59tmTeXK0yw0L31+2jqhNnL49OlL3P7nTnzFAjH3mXMcCBgDLcN72WMRaCTRcyZM4d4bwRvg9kiWikiQQzZjYtBRw79sy4PVT0RTa3llKBRYyg07qjTTCGBmIuwO0gsoVsqXisyIboYXXEKFIj2d8x7dMv2PZDCaEAg4eZbCpcuv3XVkgWrtt3T+b2+TzR9pPENApbIg3Ds1NnO74xbun5XxqzZylW7K2MWV5DSyOPg0RmtmYysG0EjjoWzkhDiPEPsN1MbtOMmp1LVwJdpOwIeKB+mZxiIac26HhMJIUl0SZJO5CCyzuKBqiLyELtVk65wGAFYN+7mEqFbbn46sjYzAukzZqlQq+H+PVv2blrd98Mpi9Zsf7PTP3Jly2xuF5Hvm3YdbP/WlweOnMiZULBM1Ttj424IgxmRJcgkYUcAww0+TIMP6Pvvv68CGhhnxeoYYz8/1/Hhhx9CtMgp8corr9h2gTRiD4LbKAGDyAJIdqcaNWogMOQPSlQXws7Z9o2eQqFb0fOsU8tO06YtWKxsztwFtq1ehG/v0g17BnR5sFGN6/H4I/n5ftG6F4ZNunDxSqEStxYpVzltmrSRnF3mijAC2GsQfAArdmvwOf9XAuXDnpBArDinGkkdlAnlmXEccqMzF+F7sBojsh0JKODS4A5piewR/o/G/jCL/q/NWy1Tnm4hyeWdcEANexuHWn+qMA3CRAezHO4yPHgVURBVJxbwtt0RTPOhCoOfmTNn8g6RIcyarRj7V4LWo0fFIJVMXbg209J2QCkMOQKZsmavWOfe/Ts3/b5l7dP9xzSrXb5/lwezZ7keRjncH6xChk2YO2zCPF6kUpVrJdxcPNwzyvgpiwDnACZ8GMpjlxHMSjBh59DAJ0dFD9dDQaJMdIsqLOAxGsQoHzMNLAmxHyHQBi1r166Nhxmey7bGjcEsz0N9U55u4TGOf58DZMEYjxEyijsLvDk2rFxPGApr+ClTpmA4BDErW7as7bxEzSCgBow5L03Hjh15e/BcNvHmLBsrI+WwDEkjfBTvGZcpZatqO6wUhhYBHii8Tvbc+batWvTD4vWrt+0b1L1VrQrm8F2hnVS7FafPmKlMtfpZc9yQ2i20c8loYUUA7sc4vgo1oEsIxaSS1nJQEKaAn38wnJYalsOEj8Om9uzZo2u5FUEv+Yq3Mu6kOBrrAAgErqM8moOmpjzd4rjXHBUBu0hQQtQMnBUcnq7/Vfg9QBSZAlKE3Q6kCBNSwqvgZkg8ePSipqFgxtF/qmiEXK9IZIytKjQPRoq1aXYKqoYnII7rvEBcf4g+BdcI0eIexNuWZI5m/9cvLZNEAMpRud59v29du3/Hxkf7jWrbqNq/nmqWKUNYVE17Dx1t/8aY7fv+zJYzT5lq9dJliAR7lyQC0iCsCAwePBiLPpgeNQuMF3ErwjqjaXDuZ7iTEthQRaeDYyNYFGcR8sZILsNVc6U83eIBaHqgzFIxobG1zwkAOCgTgXe1NzuRXbBn5dqyePHievXqofY0jonEmSsY7wSyRMphw4n+wh/wUkaXQ+KvcPeBaOGBoaNp4AGGRJFC3vJOnTpF8ysVwGMKsktMbCxeU7ny3bxj9RL8qBau2TGkZ+tq5YoGOayp+8LV27u8O/7UmfP5ipS8pXz1tO6O3BHavUfzaER945OCCCAh5JbMmYOYER6LUBqQrigPaZjydCuYF2L8+PG2SRqJpwJTBdWBUJmEgcpby2pICjuF3I9blWbkCQKGrx/uFMTYJRS9iiTGaiFsTApTZQwBRTlmRW+//fbcuXNVkuVg9iV9A0AgW648Feveu3vTyn17dzzc91OCQj33aMNQRTWEHPYbOS0xTSIEEuFkAMuTLoJAwAj8+9//RgrF2ULWLqRTxJNTCviAB/R6R2/TLVJ2+UoaCd3inoKc0PSEuLNQQp4bUzmyRJRhaD51OTSMGDCzZ8/GPZDRdDm2GHhmwK5Znz3NjC2tDaQkrAjExseXqFjjpvyFd6z9deTkBT+v2Dqk50PliucPZlJCTP1r5NSvf1qBW3Hp2+vmyHM9E6l8BIEII0BkDT4RntS103mbbmElCLGxgusr3Qn6LYwyHnzwwVKlShl7EZds+vTpHTp0MJUT3IWPsSWc1oEDB3Bot5oXWpchJSmCQM6EApXr379r/W9b9u5q/twH3drc1a3N3YkrVL0AABjzSURBVIEF5D18/HTH/l+t3vp7lmw5scLIkDlLiuxIJhUEBAEjAt6mWyYy4/xo8UJHbIglIdYWppawZdAhNJ/OI1CLbQ+U0hhRPsku0iDyCMTFx5eqUjtXvkI71y0bOn7uglXbh/RoXazgdd8G/z8bdx1o/9aYg0dO5MpbqPTttcWt2H/opKUgEFYEPEa3sFUl2CU2hwoUmCRb/RZxxrT9j2r5+eefExAM5RZee1gSGjHFWAglJxosfwIVYpSIWkvn6wrrs5HBg0Qgd4Ei2W/Ku33trzBMTboP79H2no4t6sak9ctBePrCtS8OnyxuxUE+gmjrzsmAcZkvYQzaKVQMploMmDF/R3NhvQ1zRUbvTrB5AhJi6qUcT6MNUtv9eikePE5UMEzbtm3TO2ndujVCP+sH93LjbgmpgiYM9wvMCLV5hW6AZwbvByPbAmQtREiIw/LJkyetVfv27SOXj/K6sNZKSeQRiE+foVz1u0pWrnXlWhoyobT7938O/mXz4IwLu3rtGi27vTvhytXEMlXrYoghsTAi/+AiMOOpU6dCZSjI7ZnoTdAkzCWIhYHkhrAGegukOaaWcj4EesfNZteuXaoWzQW20xh5YZBsSoaC1ylxEpAP0YArNWESSWsSAVg8MYVn+C0ePI/NZB+/ZMkSW/0Wpn0afazSsQAksjL5Amz1XthZYPLuvyc8hj1YGOK5xcimZ/zll1/id8yFS1nSe+INiIZF5r35lhy5825bvWThmu0Nuw51CMiLW3GPwRPn/LY5Q8bMeGhlEbfi1Pt+9OzZE2th4hIEv0Xs1PHdJHohNly//PKLujdrP07IGAZffCVmLvwT89atW5c0ttA5qkhTwmUaN1O64z+qFvP4448TMx7BEvENqIXO4b2D6xhmaMTuCX7BXh/BM3QLOR4vB+7DRsTxzXJ+ACiuIFpICPnfVzgvjDJw6zNlE3AYFq8v0nKzGIiTMb3kqlWreLcwwWc6h+5SlSIIEJC3fM2Gh37fsXvDCgLy4oz1FgF5s98QkHfPwaPt3/xyx77DmNSXrVYfXi1FliqTRgYBWxVDAFNDS+CNOBaUPyhJ0rlPExhX0S2YLQ4fIu8QmYnBidfDvRa6hW4CCsS1W4kN+V9fwQnQA9HCy1gfd3BdGDBz4EBlsYM33ssDWHAq6OIZukWC6uTCTcYBnPV4IaBYpoBgvDEqagvGgfhy4Q/h/+BQJvgquhApg3F4nxgfDow3lV8Cib1N+jP/R5aW4UUgbVpchrPlSti+avHMJRuWbbwhIO8vq7bhVnz67AVxKw7vU3DH6MhvcHEhsig8EH/Xr1/fYV1QJq6q1gZcdrt27UqwdmIRIADUDaBAmghhyUVQwYYNG+papapQSSnJdwyLxv175cqVuGepNlBBFFr4jxpnRFaEVBOnYwYUuuUZumV9aZIsgQFXAS9U+GRje6JYarpFeXLDWzRq1AhpAESRiC+QKzUyybbJaWmbQS7JpUqDiCFAQN4KdZv+HZB3jQ7IS3jDfiO/S0yTtvht1QoUv8HzIWILk4kiiUDNmjUx0UILxQVUJbgieKkxLI5xMdAtHXPHWJ6QkADd4tqqTbrIIYkGgXgIffr0US255hIBztgLdoqvLID/Ef1x/UUMyImkKB9LWrRoEREPrGFzoXB8IomSa+dyF92CiQ4miq4JZeL/83GGntclsBnpiHHj2bNnscXgZSW9dzSHuXQG2W21/wvIu3oxFGvuiq0XLl6KT5++bNV62W7K67bVynrCgQDZG0goTI4ICA/jEysHsy8s+rjCQnhMWgMUUSajCdslkRmZGy1V3IkRDNq2wWgLHgtZH9dc1YBUEnx0Y6REnEjJvUnbzpWKC91FtzwHNFckk2Oy57YQtQsmIG/5mg1Wz//hwsXrUSjJ6RVuonXh8rWr1xIdAL9wJYkGl64kXr7qNMLlq9do4zDFlWuJF7Gt9P1hhazTtn7zwXO25V4vhN5goEHkUlgclNOwVkgOA9gUeR0J2L1jxw60UIQqXbFiBQaExnGIaIpVF2EvsBHzNb7KgAzn56uBlIOA0K2ofg3i0qXPlCP3st2nfKFw8fI1TjpftZT/fZLaH3OqF+ds8EftwcQETNIzZcnusJLkVl0jWvKli7fWuJsYhleuq8fTXbl0KS5dyALJ3373Ayzpn59t0gvLEB8TG+PkPZY+LibOsUG6uLTxsU4jxMfG0MYBCsZnFocGrJB12jY4cvqSbbnXCzExR5Wg5HKYnsPxmHaEQMVW/o/VO8JG3ZiA4HwQGuXPnx8bCkwBjRJCTC0gigj6Jk2a5GAFhtgGVRY5uqyoIq7Edj9PnjzWqmgr8RjdQoEUbU8orPtNlzl7lpsK/rbLJ91KH+/PSWp/zKmVc85mSufcIC7Jo3b79rN/HdibKVsOpHkhACQxzeGDew7t3EKc3PvuLP/k/bX3HPjrjVHTDh89lTVnbmK9x8WHYJaV86bGXL24ceKrIViwO4aYfOng1BnuWEpIV1H07w9Dkg4CY/TJkyebhocHss1QgfyQltASHENxwELdpTpiZ4EsGpN3PQ4G7vBw7du3J0OF4qh87QA7MoxE0M1jiIjFh7EZBA9DMFy+/Hfa8TWL18s9Rre8Drfb1n/u+OELJ490693AbQszrWfBwut0K3+xMmmCDhB49cql7Wt+/evA71kyZRjYreW9tW9jrpJ5M9/e/8ln352waO2OU0cP47mVNUfygkK5HEBZnhUBU/gJsq7jEYztnzU/JPZ7JDmyjqBKoFt46UCZ+vbtq0qWL1+Ojgo2Tn3FPhCi9dprrxEAwdcgxvLOnTsjTmQlfHQ5PB9T5MyZU6nQ/BknFbcRupWKH65szYzA6RNHt61ceP7s6QolCn3Qq23hfP9TP+TKlvmL1554f+K84RPmrV88u0i5ymi8zP3leypCAG4JNxiiGWDaR1JjTPtIFRsAK4NdOwmRyWGEhBCvGGzi4asoxHcYtODhkBZiZ4Guy0j8ECRi22ULJ2vAnhD/LWIDEegHySFOyviG8lUZj9j2iqpCoVtR9bijeLOJifv3bNm7cRUX4Sea1+r7xL3W1FzEjO/RtsFttxTs+d7Xu9evOHvi2C0VaviKNRfFUKaSrbdr127MmDFt2rQhNht/EO/Nymn5udVRo0Zhl4hJvTJOxrSdgKhYwNOdxEnopdBXmVxI4aV80S16oQyDCiK01LGdypUrRzjWpk2b+rmk1N3MSfGQuncuu4seBJANbln5C6QoU4Z0H/Z65N8dmluJlkajQfWy0wZ3KVMk3+F9u9Ytmnnh7JnoASqqdkqwG6zbCWsLXSG4NpG4MZfgA7eUXBwgUVA+YpbiFwyDhQMWES7UIOShhZhZP84mi8gwoab42GAksnbtWsbcuHGjEC39XFzBb/FgEC7rNfHMsKjBp4EbR0hCICMNQAZtfBfRmhKOhRIyQ/LWNmnSJLlvqrT3CgIOskFfWyhWIPd3gzuTLnLS3JVrfvm+ZKXaN+X/n4eNr15S7jkEsCHEPI9YGLbhMJK7HdJQEHQ7ub0c2nNMKRtFhzbRWeUKuoXBKGElrQ8AZ16q7r77bmtVskoeeughDH6MXRD+KA8J3NrxPcTlIlkDSmNvIOCHbNDXRjKkix/UvVWVMoVf+Wja5uULCpUoh8ZLAsP7gkvKBYFIIuAKuqU2TMwkxQPxlRhchLtFBIxdzZYtW1QglsBwgUMnLTISZ1SdeoSQsHGBrUd6RQYBW7vB5E79SOPqpQrn7fzOuD92bDxz4mjpqnXi00mw3eSiKO0FgRAj4CK6BYttVFQSiRL3BYS8hF0hCkvA+4aXwoSUHF0qWnPA40hHDyEQgGzQ1+6qli0ya9iz3QaNX7x255oFM8pWrZslp5jI+0JLygWBSCDgIrpl3a4KPUkyUGuVLiGEpW0+AjSlzZs3pxmaUv7HK9BhEPwt8K5Ax4b7IXrUFi1a6MbEEyMNAYOcO3cOg1RUowRx0ZlJSTSAeStRNYmxi6CcgM3kLXWYSKrCjkAQskFfayPdyRevPjn4q9kfffvLuiWzib1LzHhfjaVcEBAEwo2Aq+kWXgvsn6ApDijg34BhhbUBIkdFt3CnQL2JvRA+FsRdxtyDaCs4GOouVOF1QfwVeDKMVmlGCrgXXniBBnjOoxtjKKJwIlokpguECjqqY8D/+OOPuLVD8Mg7wOCZMmWyrkRKIoZASGSDtquNi415qV2TKmWL9Bzy9Y61S08dOywm8rZAeaiQoNg6KzFHBDYaofr9Hj9+HOcwXx4UZDDBgsMa7h3orFUYlNFSEpeY3is32sGjkYKWTJgwAVNRYqJAORx+DOiuNtt9Zs6cqXrBKjHgU089xf8YepB/BHqGE58e88yZM1ApKBZ53mC8iNMMcWIBNCAbKQ6DxMeEkpGCkj+I4ELyLWOSZSJpMtrOnTsxqNXGrw4LlqowIYBsEDkegTDwKZ4xtJsKhBHauRpWLzt9cBc0Xn+byM8SE/nQwhvh0fDcIvyE+pDLkRjZkBN8sAK20uIKy5GFAIYPo3E55i5r3BReWdzCyc8HVcOdS1NN2viqQn5DfuQII+P+6VzEbxFB2YQXFw1kdKVKlXLA0bmWjjhkoDZDSabCruAPQfgvXi+c0rGzpwESRZ0sBwEgtAo5IdlIYcsIBQa107cwLmV4/5HXmLReupBFKs2Z3IkcHlN4q8IgG/S14GIFc08Z1Pml9yd/v3Dd2oUzSlW5M2dCAV+NpdzlCEC0iJGhFomBMYITgsEjeuEm7BD61temODpGjBjB9ZdclAQnhN6Q1xihkQpjyM0Y4RBaBgzEMG/mD/T3gwcPZjSHKl9zRXm5i+gWfJUKdQx54KUhMDPSOauQkKxXcNOPPfaYenL4kNvqt7g64UhIG+1wrtozIGaKXLVwj1d0C3pmJDlQJlpu3bqV/2+99VZ8vwiFyVduYcoBkHIjv4Wto1CsFPwVhU826GtTmTOk++DFtrUq3NJv5LSNS+eJibwvoNxfzu3TaGbMgosVK9ahQweurUmm7jPtDmaLSzZpt3r06EEVZws8HHSLoQiGSwnHDi49KjI4qUwQAKIUVwpyhyr3Y5giK3QR3cJo0CHwiUKH8Fy8T927d9dgtW7d2pd+CwN6W0yhRpTrRHDGBNuUK5sLRZmgWGou3kKS68CWzZo1C0ppHBYXadtZpDACCITQbjC5q8VEvuTNCZ0HXDeRP3v6ROnKtUkKk9xBpL3bEFDpHLmtWhfGOWPrnswlmyBPuO5AfrCC1h0JUcjfXLL5HyqFDgK7LV2LQJI4vMQ9oIuvKnTtxmWgqse+mus4/1Petm1bVB4oSlCpoH0nti8KC8XbwTuyVBJjEl8Kro5NkaxSnXvWfXmxxEV0K0n4EO7BPJkSCixZssTI/ehBFA905MgR4l2ilDLeqhTF0umJTel2lPkimjBUVryOBINBVaZz3pBfIMl1SoNIIBBB2aCv7VQrV/TH97srE/nVv/xQ9nYxkfcFlWfKVYAC7UhqXDd0CymidSekL+GgQN1gzLZFs4kTJ/K/MopGYMMxpSPEU44RMv9zt+ao8VVlnAs9PeJHIijqW/vChQtnz56NCTQ83NGjR6GCqDAIMQUN69Sp01dffUUJ0iMOtIEDB+IIyxp8mYpYN+XyEi/RLS4U/fr1g7M2YgpNcoAY+TUhLxEtIoTUyWyUNaA2KSTKMncWbb9OewZs3Lgx5bxP6Lo00SL+GHlRqZVspA6YR6Aq8rJBX5symsivXzK72G3V8xUp4auxlLsNAZgkklqpVWGfBUPz6aefIlzRkQBRb/NjV7Z/sDJaSJPkRvCfgcVp1aqVYuA4OuiimCHVFzkNJxJ8mEOVnoUDCqJF7kou7qakXNykVQBfLMhYNtIgzi5mJ2eKVtsjDiU3CpoOW3qc5F5c2MBLdKtWrVrJRRBzROgcbDUcN7cPbiIQLZ495oXao4s2WMATehlbdoJj8iEBAfcUxNO8WwSawo4DZRt2g7wHuDCzBl41apO7GGkfEgRSUDZou/7/msiXKdzzvW92rP311LE/S1S8IybGS78s231FQyFCPBQNeqdI/LgcYyuhCBWaC5U3BJKAYZf/lhrz58+Hv0GJNXr0aDW4kgmhuTeiqr46VKnG8GTIBlFnIPczWc9zrCmiRUuCrPI3vjpMzWGl+iJMwsaE2EN8xZos1TzT1P/r4uXjJoVkGa6Lx4b8kBKjHTy6U25YmBdi3wEN42KipAGQMZIRIAEgRhQdeWsxXYXh47Xg5YDypZqXwCsbSZsmcf/uzc65SFJqLw3vKDdtcOeO/cdu37fr3KnjZarVT6mVyLz+I4CVFrI11Z5LKpdRTVrmzJmDcGXDhg2QCkyLORMQ0MHxWAfPnTs3B4Iux6Kd9hglwslpUqc4LQ4i3QwjeASPUBqHKtWYZRBLCKMw6NYjjzxiXAAyRuNXtoM3DiXQLbQqKM+4ZzM+124K4R2ti/doiSvoFu+EreA4JJjyIsKww2xx72BAOGWjdyEMtZqFx0yyAKyJjIwUqeSQE2LSykuGwb3i0I2PH4+ukCxSBvEHgR3rlp07fTJ71kyDu7ci24g/XSLZpnjBPN8N6vTi8EkzFm9Y98vMq9euZYi/4X4dycXIXP4ggACGgOu2LdFFffzxx4q/4dyHceFSa1Kuq45G6R8piTlJyISCSRft9cjKs9MY+geLCWopd6hS3ZEQYg4GO8W9GYtE44KVjFHPgjofzQhLhWpy7UblgaUbCjAIHhbUttv0aKEr6FYEsMNKEAsLh4lQYmk9lrEZtCrVCIUdtu+JKohW5dKFsUEvmOBSIW3mjOnJ7/XZ1EUDPoduJaaJFwtDT7xZNovkuOdDBddZlAiEzkFUY0xYbO3z4YcfQrSIGIduyVQLT4ZQBzMKwsipKqy9sJKAEDpUqZZQTVqi4MCkGVdRnEr14Erdrr7COGKdgfQINos/0IboTBqKp7S1X7PuwhMlboyX4QngZJERRgC+ucM/6nwz4GnXEi0FiFrnuDc75M6Z9UZ1RoQBk+lCgACeyOiWMHBPMhUy5A17QjRhBMuAvOmPFsngaDxlyhS8kuGKUJtB4Ui4DFfEKh2q9B4QBbEMvMHGjh2rCzGgR+mObHDlypVo5eER0XgpqSD+qVidEFWVPBsqSxRxrUKAiDuG8B6/pRz33IGerCJCCGTNdJ2PCUfopjBt4I7biv04/Nk+H04J0/gybAQQQImApoCAGii/k5yOmBfoq5D+Ic0zNobYKLdUgmUgJ8TXWJn5IbjT3JtDlXEoFGzY1uPaDClV0kKMotHDQQtpBuuGMSFaOkgsRJG4dATvQKmBIT5t4L2wm7fVzyW5NRc28B7dciGIsqRwI9D94XtMtljhnjH48W/KnmVk70eDH0dGCBMCylDL1+D79++Hd4FrSZLTUiMgANQyQF9jIkIkFCq0TUUpNDbzVWVUiaGN0/p41ZdgPbBueOxgbajcnFU5xLJXr15MRCxEFXKIcB6+VuXFcqFbXnxqUbdmzxEt9YRiY0QO79V3FWt4gmurWHHsAcYLgVvwmyH+nAovZx3KocraWJfw07BVwAc2msNErqoSuuWqxyGLEQQEAVcggOeMMSyTK9Yki/j/CAjdkndBEBAEBAHvIYAliPcWHaIVixwjREDKMIKAICAICAIRQUDoVkRglkkEAUFAEBAEQoSA0K0QASnDCAKCgCAgCEQEAaFbEYFZJhEEBAFBQBAIEQJCt0IEpAwjCAgCgoAgEBEEhG5FBGaZRBAQBAQBQSBECAjdChGQMowgIAgIAoJARBAQuhURmGUSQUAQEAQEgRAhIHQrREDKMIKAICAICAIRQUDiZUQEZplEEIhWBLb/fvjMuYvRunvZ93UETp29EFoghG6FFk8ZTRAQBG5A4On+YwQRQSC0CAjdCi2eMpogIAj8F4HsufPFxsULHIKAQiA2LmTkJmQDybMRBAQBQcCIQL4iJdPwTz6CQKgRELuMUCMq4wkCgoAgIAiEEwGhW+FEV8YWBAQBQUAQCDUCQrdCjaiMJwgIAoKAIBBOBIRuhRNdGVsQEAQEAUEg1AgI3Qo1ojKeICAICAKCQDgRELoVTnRlbEFAEBAEBIFQIyB0K9SIyniCgCAgCAgC4URA6FY40ZWxBQFBQBAQBEKNgNCtUCMq4wkCgoAgIAiEEwGhW+FEV8YWBAQBQUAQCDUCEucp1IjKeIJAqkbg4J5txw79kaq3KJtLaQQSE51XIHTLGR+pFQQEgRsQOH/mJP8EFEEgBRHwi25dvnz1n/1GpeAqZeowIXDizPlc2TKFaXAZNpUhcH/dig2ql01lm5LtuBOB2BgnHZZfdOtaYuKitTvcuT1ZlSAgCEQGgfi42OxZMkZmLplFEHBAIG1iUpJEcpVevXbNYQip8jQCMTFps2bK4OktyOIFAUEgqhBImm5FFRyyWUFAEBAEBAGXI+AkQ3T50mV5goAgIAgIAlGIgNCtKHzosmVBQBAQBDyMgNAtDz88WbogIAgIAlGIgNCtKHzosmVBQBAQBDyMwP8D9D5OvC8g2EwAAAAASUVORK5CYII=)"
      ],
      "metadata": {
        "id": "4RB8TlB43nDt"
      }
    },
    {
      "cell_type": "markdown",
      "source": [
        "### Solución"
      ],
      "metadata": {
        "id": "ou2lXKMj-Ou5"
      }
    },
    {
      "cell_type": "markdown",
      "source": [
        "**Datos:**\n",
        "\n",
        "$$\\begin{array}{|l|l|}\n",
        "\\hline\n",
        "\\mathrm{V_1 = 0,5 \\; m^3} & \\mathrm{m_2 = 2 \\; kg} \\\\\n",
        "\\mathrm{T_1 = (27 + 273,15) \\; K = 300,15 \\; K} & \\mathrm{T_2 = (32 + 273,15) K = 305,15 \\; K} \\\\\n",
        "\\mathrm{P_1 = (5 \\; bar \\cdot \\frac{100 \\; kPa}{1 \\; bar}) = 500 \\; kPa} & \\mathrm{P_2 = 200 \\; kPa} \\\\\n",
        " & \\mathrm{R_{aire} = 0,287 \\; kJ/(kg \\cdot K)} \\\\\n",
        "\\hline\n",
        "\\end{array}$$"
      ],
      "metadata": {
        "id": "eDfiduwSvqnX"
      }
    },
    {
      "cell_type": "markdown",
      "source": [
        "**a) Cálculo del volumen del segundo recipiente.**"
      ],
      "metadata": {
        "id": "1gkFfQMOxRcC"
      }
    },
    {
      "cell_type": "markdown",
      "source": [
        "Ecuanción de estado gases ideales\n",
        "$$PV = mRT$$"
      ],
      "metadata": {
        "id": "G1y1GiIu5-Bi"
      }
    },
    {
      "cell_type": "markdown",
      "source": [
        "Despejo $V_2$\n",
        "$$V_2 = \\frac{m_2 R T_2}{P_2}$$"
      ],
      "metadata": {
        "id": "LzsViJ5H6OYO"
      }
    },
    {
      "cell_type": "markdown",
      "source": [
        "Reemplazo\n",
        "$$V_2 = \\mathrm{\\frac{(2 \\; kg)(0,287 \\; kJ/kg \\cdot K)(305,15 \\; K)}{200 \\; kPa} = 0,87578 \\; m^3}$$"
      ],
      "metadata": {
        "id": "7ibqLI7_xiWN"
      }
    },
    {
      "cell_type": "markdown",
      "source": [
        "$$V_2 \\approx \\mathrm{875,78 \\; litros}$$"
      ],
      "metadata": {
        "id": "WNtrbHKpzF9T"
      }
    },
    {
      "cell_type": "markdown",
      "source": [
        "**b) Presión final de equilibrio.**"
      ],
      "metadata": {
        "id": "3UffH14Qzhhn"
      }
    },
    {
      "cell_type": "markdown",
      "source": [
        "$$\\begin{array}{l}\n",
        "T_{final} = T_1 = \\mathrm{300,15 \\; K}\\\\\n",
        "V_f = V_1 + V_2 = \\mathrm{(0,5 \\; m^3) + (0,87578 \\; m^3) = 1,37578 \\; m^3}\n",
        "\\end{array}$$"
      ],
      "metadata": {
        "id": "o97HmmD1zw7F"
      }
    },
    {
      "cell_type": "markdown",
      "source": [
        "Calculamos $m_1$\n",
        "$$m_1 = \\frac{P_1V_1}{R_{aire} T_1} = \\mathrm{\\frac{(500 \\; kPa)(0,5 \\; m^3)}{(0,287 \\;kJ/kg \\cdot K)(300,15 \\; K) } = 2,902 \\; kg}$$"
      ],
      "metadata": {
        "id": "Gy5PXM-b0wcT"
      }
    },
    {
      "cell_type": "markdown",
      "source": [
        "Calculamos la masa total\n",
        "$$m_T = m_1 + m_2 = \\mathrm{(2,902 \\; kg) + (2 \\; kg) = 4,902 \\; kg} $$"
      ],
      "metadata": {
        "id": "FQMbw0M61bRu"
      }
    },
    {
      "cell_type": "markdown",
      "source": [
        "Presión final\n",
        "$$P_f = \\frac{m_T R_{aire} T_f}{V_f}$$"
      ],
      "metadata": {
        "id": "c65i4x1_11bW"
      }
    },
    {
      "cell_type": "markdown",
      "source": [
        "Reemplazo\n",
        "$$P_f = \\mathrm{\\frac{(4,902 \\; kg)(0,287 \\; kJ/kg \\cdot K)(300,15 \\; K)}{1,37578 \\; m^3} \\approx 306,9 \\; kPa}$$"
      ],
      "metadata": {
        "id": "cCNObZJE2Ajq"
      }
    },
    {
      "cell_type": "markdown",
      "source": [
        "Resolución en python"
      ],
      "metadata": {
        "id": "42vL1OEn3CwW"
      }
    },
    {
      "cell_type": "code",
      "execution_count": null,
      "metadata": {
        "id": "WrN7uME12-zX"
      },
      "outputs": [],
      "source": [
        "# Datos:\n",
        "V_1 = 0.5         # [m^3]\n",
        "T_1 = 27 + 273.15 # [K]\n",
        "P_1 = 5e2         # [kPa]\n",
        "R = 0.287         # [kJ/(kg.K)]\n",
        "m_2 = 2           # [kg]\n",
        "T_2 = 32 + 273.15 # [K]\n",
        "P_2 = 200         # [kPa]"
      ]
    },
    {
      "cell_type": "code",
      "source": [
        "V_2 = (m_2*R*T_2)/P_2"
      ],
      "metadata": {
        "id": "CdAVt-eQ5zwl"
      },
      "execution_count": null,
      "outputs": []
    },
    {
      "cell_type": "code",
      "source": [
        "#@title Resultado\n",
        "print(\"V_2 = %.4f [m^3]\"%V_2)\n",
        "print(\"V_2 = %.2f [l]\"%(V_2*1000))"
      ],
      "metadata": {
        "colab": {
          "base_uri": "https://localhost:8080/"
        },
        "cellView": "form",
        "id": "Pvz417926cSZ",
        "outputId": "d1addea6-edc6-49cb-ee86-ebf921b9ea06"
      },
      "execution_count": null,
      "outputs": [
        {
          "output_type": "stream",
          "name": "stdout",
          "text": [
            "V_2 = 0.8758 [m^3]\n",
            "V_2 = 875.78 [l]\n"
          ]
        }
      ]
    },
    {
      "cell_type": "code",
      "source": [
        "m_1 = (P_1*V_1)/(R*T_1)\n",
        "m_total = m_1 + m_2\n",
        "T_final = T_1\n",
        "P_final = (m_total*R*T_final)/(V_1 + V_2)"
      ],
      "metadata": {
        "id": "QHQJ4t2Q6i2K"
      },
      "execution_count": null,
      "outputs": []
    },
    {
      "cell_type": "code",
      "source": [
        "#@title Resultado\n",
        "print(\"m_1 = %.3f [kg]\"%m_1)\n",
        "print(\"P_final = %.3f [kPa]\"%P_final)"
      ],
      "metadata": {
        "colab": {
          "base_uri": "https://localhost:8080/"
        },
        "id": "XWHkoPpT76fJ",
        "outputId": "5f08c10e-3974-415a-eb3b-cc79186f3721",
        "cellView": "form"
      },
      "execution_count": null,
      "outputs": [
        {
          "output_type": "stream",
          "name": "stdout",
          "text": [
            "m_1 = 2.902 [kg]\n",
            "P_final = 306.943 [kPa]\n"
          ]
        }
      ]
    },
    {
      "cell_type": "code",
      "source": [
        "%reset -s -f"
      ],
      "metadata": {
        "id": "_QY24lSm8E_r"
      },
      "execution_count": null,
      "outputs": []
    },
    {
      "cell_type": "markdown",
      "source": [
        "---\n",
        "## Ejercicio 2\n",
        "Un dispositivo cilindro-émbolo contiene una masa de gas N2 (nitrógeno). El volumen ocupado es de 100lts, la temperatura del gas es la atmosférica y el émbolo es de diámetro 0,3 mts. con una masa de 25 Kgr. La presión atmosférica es de 1015 HPa. Calcular:\n",
        "1. La presión que genera la masa del émbolo.\n",
        "2. La presión absoluta.\n",
        "3. La masa de N2 que contiene el cilindro"
      ],
      "metadata": {
        "id": "06r4R3Io90EG"
      }
    },
    {
      "cell_type": "markdown",
      "source": [
        "![image.png](data:image/png;base64,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)"
      ],
      "metadata": {
        "id": "6QY8qsdi-KXC"
      }
    },
    {
      "cell_type": "code",
      "source": [
        "# Datos:\n",
        "V = 100e-3         # [m^3]\n",
        "To = 27 + 273.15   # [K]\n",
        "d = 0.3            # [m]\n",
        "m = 25             # [kg]\n",
        "Po = 1015e2        # [Pa]\n",
        "R_N2 = 0.2968e3    # [J/(kg.K)]\n",
        "g = 9.81           # [m/s^2]"
      ],
      "metadata": {
        "id": "iD02uBGi9s50"
      },
      "execution_count": null,
      "outputs": []
    },
    {
      "cell_type": "code",
      "source": [
        "import numpy as np"
      ],
      "metadata": {
        "id": "6eUUghom_LGo"
      },
      "execution_count": null,
      "outputs": []
    },
    {
      "cell_type": "code",
      "source": [
        "# Cálculo de área del ciclindro\n",
        "A = np.pi*(d**2)/4\n",
        "# Peso\n",
        "F = m*g\n",
        "# Presión relativa\n",
        "P_rel = F/A"
      ],
      "metadata": {
        "id": "3vFNw0ob_Op_"
      },
      "execution_count": null,
      "outputs": []
    },
    {
      "cell_type": "code",
      "source": [
        "#@title Resultado\n",
        "print(\"P_rel = %.2f [Pa]\"%P_rel)\n",
        "print(\"P_rel = %.4f [kPa]\"%(P_rel/1e3))"
      ],
      "metadata": {
        "colab": {
          "base_uri": "https://localhost:8080/"
        },
        "cellView": "form",
        "id": "5tPOcqLF_vl0",
        "outputId": "53ae88b0-7403-41fc-c6e2-992c5e0d1877"
      },
      "execution_count": null,
      "outputs": [
        {
          "output_type": "stream",
          "name": "stdout",
          "text": [
            "P_rel = 3469.58 [Pa]\n",
            "P_rel = 3.4696 [kPa]\n"
          ]
        }
      ]
    },
    {
      "cell_type": "code",
      "source": [
        "# Presión absoluta\n",
        "P_abs = Po + P_rel"
      ],
      "metadata": {
        "id": "uMhmPJQc_6EJ"
      },
      "execution_count": null,
      "outputs": []
    },
    {
      "cell_type": "code",
      "source": [
        "#@title Resultado\n",
        "print(\"P_abs = %.2f [Pa]\"%P_abs)\n",
        "print(\"P_abs = %.4f [kPa]\"%(P_abs/1e3))\n",
        "print(\"P_abs = %.3f [hPa]\"%(P_abs/1e2))"
      ],
      "metadata": {
        "colab": {
          "base_uri": "https://localhost:8080/"
        },
        "cellView": "form",
        "id": "yoWJsWtHAPem",
        "outputId": "85cba3d2-d0e6-44fe-e2e2-aa73a097792e"
      },
      "execution_count": null,
      "outputs": [
        {
          "output_type": "stream",
          "name": "stdout",
          "text": [
            "P_abs = 104969.58 [Pa]\n",
            "P_abs = 104.9696 [kPa]\n",
            "P_abs = 1049.696 [hPa]\n"
          ]
        }
      ]
    },
    {
      "cell_type": "markdown",
      "source": [
        "$$PV = mRT$$"
      ],
      "metadata": {
        "id": "9mSbRL31A0Cx"
      }
    },
    {
      "cell_type": "code",
      "source": [
        "# Cálculo de masa de N2\n",
        "m = (P_abs*V)/(R_N2*To)"
      ],
      "metadata": {
        "id": "MAXhNToaAbd4"
      },
      "execution_count": null,
      "outputs": []
    },
    {
      "cell_type": "code",
      "source": [
        "#@title Resultado\n",
        "print(\"m = %.4f [kg]\"%m)"
      ],
      "metadata": {
        "colab": {
          "base_uri": "https://localhost:8080/"
        },
        "cellView": "form",
        "id": "4Ijbm41dBPwF",
        "outputId": "1567ee8a-c02d-4ff3-fc58-e53724cb5c45"
      },
      "execution_count": null,
      "outputs": [
        {
          "output_type": "stream",
          "name": "stdout",
          "text": [
            "m = 0.1178 [kg]\n"
          ]
        }
      ]
    },
    {
      "cell_type": "code",
      "source": [
        "%reset -s -f"
      ],
      "metadata": {
        "id": "bgFvL2etCIKz"
      },
      "execution_count": null,
      "outputs": []
    },
    {
      "cell_type": "markdown",
      "source": [
        "---\n",
        "## Ejercicio 3\n",
        "Un cilindro de capacidad 10 Lts. contiene 0,8 Kgr. de gas a 17°C. Si el 60% de la masa es N2 (nitrógeno) y el resto es O2 (oxigeno), determinar la presión a la que está sometido.    \n",
        "Recordemos que como se trata de una mezcla, debemos calcular primero el Rm (la cte. de la mezcla)."
      ],
      "metadata": {
        "id": "FHMuQADEB_hI"
      }
    },
    {
      "cell_type": "markdown",
      "source": [
        "### Solución"
      ],
      "metadata": {
        "id": "ZuKXRsgFCVU3"
      }
    },
    {
      "cell_type": "markdown",
      "source": [
        "$$R = \\frac{0,6_{N2} m_{tot} R_{N2} + 0,4 m_{tot} R_{O2}}{m_{tot}}$$"
      ],
      "metadata": {
        "id": "Bn15ajwcCXPL"
      }
    },
    {
      "cell_type": "markdown",
      "source": [
        "$$R = 0,6 R_{N2} + 0,4 R_{O2}$$"
      ],
      "metadata": {
        "id": "UN1xlvcRC3Ag"
      }
    },
    {
      "cell_type": "code",
      "source": [
        "# Datos:\n",
        "V = 10e-3 # [m^3]\n",
        "m_tot = 0.8 # [kg]\n",
        "T = 17 + 273.15 # [K]\n",
        "R_N2 = 0.2968e3 # [(Pa.m^3)/(kg.K)]\n",
        "R_O2 = 0.2598e3 # [(Pa.m^3)/(kg.K)]"
      ],
      "metadata": {
        "id": "I5NHl7XUBWgz"
      },
      "execution_count": null,
      "outputs": []
    },
    {
      "cell_type": "code",
      "source": [
        "R = 0.6*R_N2 + 0.4*R_O2"
      ],
      "metadata": {
        "id": "P2fFFK1ODTd7"
      },
      "execution_count": null,
      "outputs": []
    },
    {
      "cell_type": "code",
      "source": [
        "print(\"R = %.4f [(kPa.m^3)/(kg.K)]\"%(R/1e3))"
      ],
      "metadata": {
        "colab": {
          "base_uri": "https://localhost:8080/"
        },
        "id": "IjzgsCTcDwzv",
        "outputId": "ff07063e-ea80-44c0-920b-c0cb8698b541"
      },
      "execution_count": null,
      "outputs": [
        {
          "output_type": "stream",
          "name": "stdout",
          "text": [
            "R = 0.2820 [(kPa.m^3)/(kg.K)]\n"
          ]
        }
      ]
    },
    {
      "cell_type": "markdown",
      "source": [
        "$$PV = mRT$$"
      ],
      "metadata": {
        "id": "LtfClyEnEIVl"
      }
    },
    {
      "cell_type": "code",
      "source": [
        "# Presión\n",
        "P = (m_tot*R*T)/V"
      ],
      "metadata": {
        "id": "Am_o_eTWD9gh"
      },
      "execution_count": null,
      "outputs": []
    },
    {
      "cell_type": "code",
      "source": [
        "print(\"P = %.3f [kPa]\"%(P/1e3))"
      ],
      "metadata": {
        "colab": {
          "base_uri": "https://localhost:8080/"
        },
        "id": "SGDtIwMkERNR",
        "outputId": "97b9d886-3efa-4a76-e1f1-e40bdc740e6b"
      },
      "execution_count": null,
      "outputs": [
        {
          "output_type": "stream",
          "name": "stdout",
          "text": [
            "P = 6545.784 [kPa]\n"
          ]
        }
      ]
    },
    {
      "cell_type": "code",
      "source": [
        "%reset -s -f"
      ],
      "metadata": {
        "id": "U17TxxzGEXOT"
      },
      "execution_count": null,
      "outputs": []
    },
    {
      "cell_type": "markdown",
      "source": [
        "## Ejercicio 4\n",
        "Un recipiente de volumen V=900 Lts contiene aire. Para una lectura barométrica de 1018 Hpa existe una depresión de 600 mmHg y una temperatura de 17°C. Calcular la masa de aire.\n",
        "\n",
        "Trabajar Kpa, K y m"
      ],
      "metadata": {
        "id": "Mb5RuaZGEqhl"
      }
    },
    {
      "cell_type": "markdown",
      "source": [
        "### Solución"
      ],
      "metadata": {
        "id": "9pCvEz_0E6pm"
      }
    },
    {
      "cell_type": "markdown",
      "source": [
        "$$P_{rel} = \\mathrm{600 \\; mmHg \\cdot \\frac{P_{atm} \\; Pa}{760 \\; mmHg}}$$"
      ],
      "metadata": {
        "id": "fI3d8gPZG3op"
      }
    },
    {
      "cell_type": "code",
      "source": [
        "# Datos:\n",
        "V = 900e-3 # [m^3]\n",
        "Po = 1018*10 # [kPa]\n",
        "P_rel = -600*Po/760\n",
        "T = 17 + 273.15 # [K]\n",
        "R_aire = 0.287 # kJ/(kg.K)]"
      ],
      "metadata": {
        "id": "CrTY86PuEnyu"
      },
      "execution_count": null,
      "outputs": []
    },
    {
      "cell_type": "markdown",
      "source": [
        "$$PV = mRT$$"
      ],
      "metadata": {
        "id": "1w0uYry7Hu0w"
      }
    },
    {
      "cell_type": "markdown",
      "source": [
        "Presión absoluta\n",
        "$$P_{abs} = P_{atm} + P_{rel}$$"
      ],
      "metadata": {
        "id": "ngLZHfFpKGVC"
      }
    },
    {
      "cell_type": "markdown",
      "source": [
        "Cálculo de masa\n",
        "$$m = \\frac{P_{abs} V}{R_{aire} T}$$"
      ],
      "metadata": {
        "id": "nC09YqOKKdbc"
      }
    },
    {
      "cell_type": "code",
      "source": [
        "# Presión absoluta\n",
        "P_abs = Po + P_rel\n",
        "# Cálculo de masa\n",
        "m = (P_abs*V)/(R_aire*T)"
      ],
      "metadata": {
        "id": "r0akXgMNHt9C"
      },
      "execution_count": null,
      "outputs": []
    },
    {
      "cell_type": "code",
      "source": [
        "print(\"m = %.4f [kg]\"%m)"
      ],
      "metadata": {
        "colab": {
          "base_uri": "https://localhost:8080/"
        },
        "id": "y4rCzUm_ITkS",
        "outputId": "d2ea1935-83b6-4a89-ef15-8757db53911e"
      },
      "execution_count": null,
      "outputs": [
        {
          "output_type": "stream",
          "name": "stdout",
          "text": [
            "m = 23.1629 [kg]\n"
          ]
        }
      ]
    },
    {
      "cell_type": "code",
      "source": [
        "%reset -s -f"
      ],
      "metadata": {
        "id": "Sq84sDiiIY5w"
      },
      "execution_count": null,
      "outputs": []
    },
    {
      "cell_type": "markdown",
      "source": [
        "---\n",
        "## Ejercicio 5\n",
        "Una masa de 1,5 Kgr de O2 (Oxigeno) se encuentra dentro de un conjunto cilindro-pistón que soporta una presión cte. de 2 atm. a una temperatura de 15°C. Si luego la temperatura asciende a 30°C.   \n",
        "\n",
        "**Determinar:**\n",
        "1. Volumen inicial de la masa de gas\n",
        "2. Volumen final de la masa de gas"
      ],
      "metadata": {
        "id": "cbcjOvZN08ut"
      }
    },
    {
      "cell_type": "markdown",
      "source": [
        "![image.png](data:image/png;base64,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)"
      ],
      "metadata": {
        "id": "n1MY58Zx1dXt"
      }
    },
    {
      "cell_type": "markdown",
      "source": [
        "### Solución"
      ],
      "metadata": {
        "id": "LaI7_C_b1hCE"
      }
    },
    {
      "cell_type": "markdown",
      "source": [
        "$$PV = mRT$$"
      ],
      "metadata": {
        "id": "r1z7tBwf2CGg"
      }
    },
    {
      "cell_type": "markdown",
      "source": [
        "Volumen inicial:\n",
        "$$V_0 = \\frac{mRT_0}{P}$$"
      ],
      "metadata": {
        "id": "E-Cy1bsZ2G8S"
      }
    },
    {
      "cell_type": "markdown",
      "source": [
        "Volumen final\n",
        "$$V_1 = \\frac{mRT_1}{P}$$"
      ],
      "metadata": {
        "id": "HMZWORHq2Y3Y"
      }
    },
    {
      "cell_type": "code",
      "source": [
        "# Datos:\n",
        "m = 1.5           # [kg]         (masa de gas O2)\n",
        "P = 200           # [kPa]        (presión 1 atm = 100 kPa)\n",
        "R = 0.2598        # [kJ/(kg·K)]  (constante R del oxígeno)\n",
        "T_0 = 15 + 273.15 # [K]\n",
        "T_1 = 30 + 273.15 # [K]"
      ],
      "metadata": {
        "id": "gC6Cox77KCb0"
      },
      "execution_count": null,
      "outputs": []
    },
    {
      "cell_type": "code",
      "source": [
        "# Volumen inicial:\n",
        "V_0 = (m*R*T_0)/P\n",
        "# Volumen final:\n",
        "V_1 = (m*R*T_1)/P"
      ],
      "metadata": {
        "id": "SFvfKLb-3zYs"
      },
      "execution_count": null,
      "outputs": []
    },
    {
      "cell_type": "code",
      "source": [
        "#@title Resultado:\n",
        "print(\"Volumen inicial:\")\n",
        "print(\"V_0 = %.4f [m^3]\"%V_0)\n",
        "print(\"Volumen final:\")\n",
        "print(\"V_1 = %.4f [m^3]\"%V_1)"
      ],
      "metadata": {
        "colab": {
          "base_uri": "https://localhost:8080/"
        },
        "cellView": "form",
        "id": "W0aT0VOE4LXe",
        "outputId": "66293f02-5709-44be-b7a6-e5056846be39"
      },
      "execution_count": null,
      "outputs": [
        {
          "output_type": "stream",
          "name": "stdout",
          "text": [
            "Volumen inicial:\n",
            "V_0 = 0.5615 [m^3]\n",
            "Volumen final:\n",
            "V_1 = 0.5907 [m^3]\n"
          ]
        }
      ]
    },
    {
      "cell_type": "code",
      "source": [
        "%reset -s -f"
      ],
      "metadata": {
        "id": "3D9gRb1H4c6N"
      },
      "execution_count": null,
      "outputs": []
    },
    {
      "cell_type": "markdown",
      "source": [
        "---\n",
        "## Ejercicio 6\n",
        "Dentro de un conjunto cilindro-émbolo, con este último de 1mt de diámetro y 5 Kgr de peso, se encuentra una masa de 0,3 Kgr de aire, a una temperatura de -3°C. Luego de un tiempo la temperatura asciende a 350 K.\n",
        "\n",
        "**Determinar:**\n",
        "1. La presión\n",
        "2. El volumen inicial\n",
        "3. El volumen final\n",
        "4. Graficar la transformación en un diagrama P-V"
      ],
      "metadata": {
        "id": "9sQEpX7M4-E_"
      }
    },
    {
      "cell_type": "markdown",
      "source": [
        "### Solución"
      ],
      "metadata": {
        "id": "YGOmsASG-FLS"
      }
    },
    {
      "cell_type": "markdown",
      "source": [
        "![image.png](data:image/png;base64,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)"
      ],
      "metadata": {
        "id": "uBpAdtP25SYx"
      }
    },
    {
      "cell_type": "markdown",
      "source": [
        "### Solución"
      ],
      "metadata": {
        "id": "oYJ6s_k55Vcw"
      }
    },
    {
      "cell_type": "markdown",
      "source": [
        "$$PV = mRT$$"
      ],
      "metadata": {
        "id": "MtKB3bfq8H0E"
      }
    },
    {
      "cell_type": "markdown",
      "source": [
        "Entonces:\n",
        "$$V = \\frac{mRT}{P}$$"
      ],
      "metadata": {
        "id": "8gd_Aopr8LLI"
      }
    },
    {
      "cell_type": "code",
      "source": [
        "# Datos:\n",
        "d = 1             # [m]         (diámetro del cilindro)\n",
        "m_ce = 5          # [kg]        (masa cilindro émbolo)\n",
        "m_a = 0.3         # [kg]        (masa de aire)\n",
        "T_i = -3 + 273.15 # [K]         (temperatura inicial)\n",
        "T_f = 350         # [K]         (temperatura final)\n",
        "g = 9.81          # [m/s^2]     (aceleración de la gravedad)\n",
        "R_a = 0.287       # [kJ/(kg·K)] (constante R del aire)"
      ],
      "metadata": {
        "id": "p84fyRCc4vR5"
      },
      "execution_count": null,
      "outputs": []
    },
    {
      "cell_type": "code",
      "source": [
        "import numpy as np"
      ],
      "metadata": {
        "id": "0r-iXqx_7bRC"
      },
      "execution_count": null,
      "outputs": []
    },
    {
      "cell_type": "code",
      "source": [
        "# Área cilindro émbolo\n",
        "A = np.pi*(d**2)/4\n",
        "# Presión\n",
        "P = (m_ce*g)/A\n",
        "# Volumen inicial\n",
        "V_i = (m_a*R_a*T_i)/P\n",
        "# Volumen final\n",
        "V_f = (m_a*R_a*T_f)/P"
      ],
      "metadata": {
        "id": "GU4AVdik7Qit"
      },
      "execution_count": null,
      "outputs": []
    },
    {
      "cell_type": "code",
      "source": [
        "#@title Resultados:\n",
        "print(\"Área cilindro émbolo:\")\n",
        "print(\"A = %.4f [m^2]\"%A)\n",
        "print(\"Presión:\")\n",
        "print(\"P = %.4f [kPa]\"%P)\n",
        "print(\"Vollumen inicial:\")\n",
        "print(\"V_i = %.4f [m^3]\"%V_i)\n",
        "print(\"Volumen final:\")\n",
        "print(\"V_f = %.4f [m^3]\"%V_f)"
      ],
      "metadata": {
        "colab": {
          "base_uri": "https://localhost:8080/"
        },
        "cellView": "form",
        "id": "Ik2BEN4_84J5",
        "outputId": "5c248709-f078-423d-f707-e28c33e98918"
      },
      "execution_count": null,
      "outputs": [
        {
          "output_type": "stream",
          "name": "stdout",
          "text": [
            "Área cilindro émbolo:\n",
            "A = 0.7854 [m^2]\n",
            "Presión:\n",
            "P = 62.4524 [kPa]\n",
            "Vollumen inicial:\n",
            "V_i = 0.3724 [m^3]\n",
            "Volumen final:\n",
            "V_f = 0.4825 [m^3]\n"
          ]
        }
      ]
    },
    {
      "cell_type": "markdown",
      "source": [
        "![image.png](data:image/png;base64,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)"
      ],
      "metadata": {
        "id": "Nno63KLv7D2I"
      }
    },
    {
      "cell_type": "code",
      "source": [
        "%reset -s -f"
      ],
      "metadata": {
        "id": "51h-42kK9ke3"
      },
      "execution_count": null,
      "outputs": []
    },
    {
      "cell_type": "markdown",
      "source": [
        "---\n",
        "## Ejercicio 7\n",
        "Un cilindro-pistón con base cuadrangular de 20 cm de lado, contiene una masa de 1,5 Kgr de Nitrógeno a una presión de 1 bar y a una temperatura de27°C. Si la temperatura desciende hasta 26°C, calcular cuántos centímetros descendió el pistón?"
      ],
      "metadata": {
        "id": "m-kdmzo599D7"
      }
    },
    {
      "cell_type": "markdown",
      "source": [
        "### Solución\n",
        "$$V = \\frac{mRT}{P}$$"
      ],
      "metadata": {
        "id": "geNO4hytIryE"
      }
    },
    {
      "cell_type": "code",
      "source": [
        "# Datos:\n",
        "base = 20e-2        # [m]          (longitud base cuadrangular)\n",
        "m_N2 = 1.5          # [kg]         (masa de gas nitrógeno)\n",
        "P = 1e2             # [kPa]        (presión)\n",
        "R_N2 = 0.2968       # [kJ/(kg·K)]  (constante R de nitrógeno)\n",
        "T_i = 27 + 273.15   # [K]          (temperatura inicial)\n",
        "T_f = 26 + 273.15   # [K]          (temperatura final)"
      ],
      "metadata": {
        "id": "MeEOH7Ig9wY7"
      },
      "execution_count": null,
      "outputs": []
    },
    {
      "cell_type": "code",
      "source": [
        "# Área [m^2]\n",
        "A = base*base\n",
        "# Volumen inicial [m^3]\n",
        "V_i = (m_N2*R_N2*T_i)/P\n",
        "# Volumen final [m^3]\n",
        "V_f = (m_N2*R_N2*T_f)/P\n",
        "# Varialcion de volumen [m^3]\n",
        "ΔV = V_i - V_f"
      ],
      "metadata": {
        "id": "n256Y3oQEArH"
      },
      "execution_count": null,
      "outputs": []
    },
    {
      "cell_type": "markdown",
      "source": [
        "Variación de volumen\n",
        "$$\\Delta V = A \\cdot \\Delta x$$"
      ],
      "metadata": {
        "id": "fzAeoOs7F02u"
      }
    },
    {
      "cell_type": "markdown",
      "source": [
        "Variación posición del émbolo\n",
        "$$\\Delta x = \\frac{\\Delta V}{A}$$"
      ],
      "metadata": {
        "id": "2CDvQflLGFpT"
      }
    },
    {
      "cell_type": "code",
      "source": [
        "# Variación posición del émbolo [m]\n",
        "Δx = ΔV/A"
      ],
      "metadata": {
        "id": "vD5FbDQIFv_U"
      },
      "execution_count": null,
      "outputs": []
    },
    {
      "cell_type": "code",
      "source": [
        "#@title Resultado:\n",
        "print(\"Δx = %.4f [m]\"%Δx)\n",
        "print(\"Δx = %.3f [cm]\"%(Δx*100))"
      ],
      "metadata": {
        "colab": {
          "base_uri": "https://localhost:8080/"
        },
        "cellView": "form",
        "id": "Z5LbCMLSGRpT",
        "outputId": "940c528e-29bc-47a7-f67a-ae3b0c45cbe0"
      },
      "execution_count": null,
      "outputs": [
        {
          "output_type": "stream",
          "name": "stdout",
          "text": [
            "Δx = 0.1113 [m]\n",
            "Δx = 11.130 [cm]\n"
          ]
        }
      ]
    },
    {
      "cell_type": "code",
      "source": [
        "%reset -s -f"
      ],
      "metadata": {
        "id": "yGMAflCNGfuh"
      },
      "execution_count": null,
      "outputs": []
    },
    {
      "cell_type": "markdown",
      "source": [
        "---\n",
        "## Ejercicio 8\n",
        "Dado el siguiente ciclo representado en el diagrama P-V para una masa de 1,5 Kgr de Aire,\n",
        "\n",
        "**Calcular:** Presión Volumen y Temperatura de cada punto."
      ],
      "metadata": {
        "id": "BKVF8RyHJaeC"
      }
    },
    {
      "cell_type": "markdown",
      "source": [
        "![image.png](data:image/png;base64,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)"
      ],
      "metadata": {
        "id": "sx84M1GJKO5e"
      }
    },
    {
      "cell_type": "markdown",
      "source": [
        "### Solución"
      ],
      "metadata": {
        "id": "Iyos6NmcSR2P"
      }
    },
    {
      "cell_type": "code",
      "source": [
        "# Datos:\n",
        "T = 300   # [K]\n",
        "m = 1.5   # [kg]\n",
        "R = 0.287 # [kJ/(kg·K)]  (R aire)\n",
        "V_B = 0.5 # [m^3]\n",
        "P_A = 100 # [kPa]"
      ],
      "metadata": {
        "id": "JiWXDUP-Gyj2"
      },
      "execution_count": null,
      "outputs": []
    },
    {
      "cell_type": "markdown",
      "source": [
        "Ec. de estado gases ideales\n",
        "$$PV = mRT$$"
      ],
      "metadata": {
        "id": "XUkj_yakNnjZ"
      }
    },
    {
      "cell_type": "markdown",
      "source": [
        "En el punto A\n",
        "$$V_A = \\frac{mRT}{P_A}$$"
      ],
      "metadata": {
        "id": "20hsmQLAN_we"
      }
    },
    {
      "cell_type": "markdown",
      "source": [
        "En el punto B\n",
        "$$P_B = \\frac{mRT}{V_B}$$"
      ],
      "metadata": {
        "id": "FnWsjXWLOLNt"
      }
    },
    {
      "cell_type": "code",
      "source": [
        "# Volumen en el punto A\n",
        "V_A = (m*R*T)/P_A\n",
        "# Presión en el punto B\n",
        "P_B = (m*R*T)/V_B\n",
        "# Presión en el punto C\n",
        "P_C = P_B\n",
        "# Volumen el el punto C\n",
        "V_C = V_A\n",
        "# Temperatura en el punto C\n",
        "T_C = (P_C*V_C)/(m*R)"
      ],
      "metadata": {
        "id": "njlRWSzBNjHh"
      },
      "execution_count": null,
      "outputs": []
    },
    {
      "cell_type": "code",
      "source": [
        "#@title Resultados:\n",
        "print(\"\\t\\tA\\t\\tB\\t\\tC\")\n",
        "print(\"P (kPa)\\t|\\t%.1f\\t|\\t%.1f\\t|\\t%.1f\"%(P_A,P_B,P_C))\n",
        "print(\"V (m^3)\\t|\\t%.3f\\t|\\t%.3f\\t|\\t%.3f\"%(V_A,V_B,V_C))\n",
        "print(\"T (K)\\t|\\t%.1f\\t|\\t%.1f\\t|\\t%.1f\"%(T,T,T_C))"
      ],
      "metadata": {
        "colab": {
          "base_uri": "https://localhost:8080/"
        },
        "cellView": "form",
        "id": "fjGwmfuWPHJJ",
        "outputId": "91fc7240-e525-45c7-c6bb-b5be57342021"
      },
      "execution_count": null,
      "outputs": [
        {
          "output_type": "stream",
          "name": "stdout",
          "text": [
            "\t\tA\t\tB\t\tC\n",
            "P (kPa)\t|\t100.0\t|\t258.3\t|\t258.3\n",
            "V (m^3)\t|\t1.292\t|\t0.500\t|\t1.292\n",
            "T (K)\t|\t300.0\t|\t300.0\t|\t774.9\n"
          ]
        }
      ]
    },
    {
      "cell_type": "code",
      "source": [
        "%reset -s -f"
      ],
      "metadata": {
        "id": "fekH0f3YPei8"
      },
      "execution_count": null,
      "outputs": []
    },
    {
      "cell_type": "markdown",
      "source": [
        "---\n",
        "## Ejercicio 9\n",
        "Dado el siguiente ciclo representado en el diagrama P-V para una masa de 0,02 Kgr de Oxigeno.\n",
        "\n",
        "**Calcular:** Presión Volumen y Temperatura de cada punto."
      ],
      "metadata": {
        "id": "eXhiVgYARcVy"
      }
    },
    {
      "cell_type": "markdown",
      "source": [
        "![image.png](data:image/png;base64,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)"
      ],
      "metadata": {
        "id": "gNCfa7_dSBZN"
      }
    },
    {
      "cell_type": "markdown",
      "source": [
        "### Solución"
      ],
      "metadata": {
        "id": "iJ9WVbYNSDeA"
      }
    },
    {
      "cell_type": "markdown",
      "source": [
        "                 A      B     C    D\n",
        "    P (atm)     45                45\n",
        "    V (lts)    0.3    1.2   1.2  0.9\n",
        "    T (K)  "
      ],
      "metadata": {
        "id": "X0KtHJtVr85E"
      }
    },
    {
      "cell_type": "code",
      "source": [
        "# Datos:\n",
        "m = 0.02        # [kg]\n",
        "R = 0.2598      # [kJ/(kg·K)]  (constante R del oxígeno)\n",
        "V_A = 0.3e-3    # [m^3]\n",
        "V_B = 1.2e-3    # [m^3]\n",
        "V_D = 0.9e-3    # [m^3]\n",
        "P_A = 45e2      # [kPa]"
      ],
      "metadata": {
        "id": "mpav4jQWQY55"
      },
      "execution_count": null,
      "outputs": []
    },
    {
      "cell_type": "markdown",
      "source": [
        "Ec. de estado gases ideales\n",
        "$$PV = mRT$$"
      ],
      "metadata": {
        "id": "XXn5JskknwFs"
      }
    },
    {
      "cell_type": "markdown",
      "source": [
        "La temperatura en el punto A y en el punto B debe ser la misma."
      ],
      "metadata": {
        "id": "B62Pvkpcn2EV"
      }
    },
    {
      "cell_type": "markdown",
      "source": [
        "$$T_A = \\frac{P_AV_A}{mR} \\qquad \\wedge \\qquad T_B = \\frac{P_B V_B}{mR}$$"
      ],
      "metadata": {
        "id": "7naOWt_yoBlL"
      }
    },
    {
      "cell_type": "markdown",
      "source": [
        "$$T_A = T_B$$"
      ],
      "metadata": {
        "id": "jGQ4EMFzoq35"
      }
    },
    {
      "cell_type": "markdown",
      "source": [
        "$$\\frac{P_A V_A}{mR} = \\frac{P_B V_B}{mR}$$"
      ],
      "metadata": {
        "id": "jZFaTpZ0oZIy"
      }
    },
    {
      "cell_type": "markdown",
      "source": [
        "$$P_A V_A = P_B V_B$$"
      ],
      "metadata": {
        "id": "m0sD-pEQolEI"
      }
    },
    {
      "cell_type": "code",
      "source": [
        "P_D = P_A\n",
        "V_C = V_B"
      ],
      "metadata": {
        "id": "IooqD4HuqM78"
      },
      "execution_count": null,
      "outputs": []
    },
    {
      "cell_type": "code",
      "source": [
        "T_A = (P_A*V_A)/(m*R)\n",
        "T_B = T_A\n",
        "T_D = (P_D*V_D)/(m*R)\n",
        "T_C = T_D"
      ],
      "metadata": {
        "id": "XM73ldNzn7kG"
      },
      "execution_count": null,
      "outputs": []
    },
    {
      "cell_type": "code",
      "source": [
        "P_B = (m*R*T_B)/V_B\n",
        "P_C = (m*R*T_C)/V_C"
      ],
      "metadata": {
        "id": "O6y80hW3tqTw"
      },
      "execution_count": null,
      "outputs": []
    },
    {
      "cell_type": "code",
      "source": [
        "#@title Resultados:\n",
        "print(\"\\t\\tA\\t\\tB\\t\\tC\")\n",
        "print(\"P (atm)\\t|\\t%.3f\\t|\\t%.3f\\t|\\t%.3f\\t|\\t%.3f\"%(P_A/100,P_B/100,P_C/100,P_D/100))\n",
        "print(\"V (lts)\\t|\\t%.2f\\t|\\t%.2f\\t|\\t%.2f\\t|\\t%.2f\"%(V_A*1000,V_B*1000,V_C*1000,V_D*1000))\n",
        "print(\"T (K)\\t|\\t%.2f\\t|\\t%.2f\\t|\\t%.2f\\t|\\t%.2f\"%(T_A,T_B,T_C,T_D))"
      ],
      "metadata": {
        "colab": {
          "base_uri": "https://localhost:8080/"
        },
        "id": "pOeCyo3-uJZD",
        "outputId": "f703592c-0538-4078-bf0c-da8303af0867",
        "cellView": "form"
      },
      "execution_count": null,
      "outputs": [
        {
          "output_type": "stream",
          "name": "stdout",
          "text": [
            "\t\tA\t\tB\t\tC\n",
            "P (atm)\t|\t45.000\t|\t11.250\t|\t33.750\t|\t45.000\n",
            "V (lts)\t|\t0.30\t|\t1.20\t|\t1.20\t|\t0.90\n",
            "T (K)\t|\t259.82\t|\t259.82\t|\t779.45\t|\t779.45\n"
          ]
        }
      ]
    },
    {
      "cell_type": "code",
      "source": [
        "%reset -s -f"
      ],
      "metadata": {
        "id": "YoaEgPjnuVcq"
      },
      "execution_count": null,
      "outputs": []
    }
  ]
}