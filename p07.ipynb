{
 "cells": [
  {
   "cell_type": "raw",
   "metadata": {},
   "source": [
    "<script>\n",
    "  function code_toggle() {\n",
    "    if (code_shown){\n",
    "      $('div.input').hide('500');\n",
    "      $('#toggleButton').val('Show Code')\n",
    "    } else {\n",
    "      $('div.input').show('500');\n",
    "      $('#toggleButton').val('Hide Code')\n",
    "    }\n",
    "    code_shown = !code_shown\n",
    "  }\n",
    "\n",
    "  $( document ).ready(function(){\n",
    "    code_shown=true;\n",
    "    $('div.input').show()\n",
    "  });\n",
    "</script>\n",
    "<form action=\"javascript:code_toggle()\"><input type=\"submit\" id=\"toggleButton\" value=\"Hide Code\"></form>"
   ]
  },
  {
   "cell_type": "markdown",
   "metadata": {},
   "source": [
    "# Clase práctica 7 - Termodinámica\n",
    "__UNLZ - FI -- Jupyter Notebook + Python 3__\n",
    "\n",
    "__Alumno: Lorenzo, Daniel Antonio__  \n",
    "[<-Previous ](https://nbviewer.jupyter.org/github/daniel-lorenzo/Termodinamica/blob/master/p06.ipynb) - \n",
    "[Index](https://github.com/daniel-lorenzo/Termodinamica/blob/master/Readme.md) - \n",
    "[Next -> ](https://nbviewer.jupyter.org/github/daniel-lorenzo/Termodinamica/blob/master/p08.ipynb)"
   ]
  },
  {
   "cell_type": "markdown",
   "metadata": {},
   "source": [
    "# Ejercicio 39\n",
    "Una turbina adiabática recibe 10 kg/s de vapor a 30 bar y 320°C. El vapor egresa a 0,14 bar siendo el rendimiento isoentrópico de 75%. Se pide:\n",
    "\n",
    "1. Potencia\n",
    "2. $\\Delta S_u$ \n",
    "3. Trabajo perdido\n",
    "\n",
    "![39.png](img/39.png)"
   ]
  },
  {
   "cell_type": "markdown",
   "metadata": {},
   "source": [
    "## Solución"
   ]
  },
  {
   "cell_type": "code",
   "execution_count": 1,
   "metadata": {},
   "outputs": [],
   "source": [
    "# (importa biblioteca CoolProp, requiere instalación)\n",
    "import CoolProp.CoolProp as cp"
   ]
  },
  {
   "cell_type": "markdown",
   "metadata": {},
   "source": [
    "$\\left.\n",
    "\\begin{array}{l}\n",
    "P_1 = 30 \\, \\mathrm{bar} \\\\\n",
    "t_1 = 320^\\circ \\mathrm{C}\n",
    "\\end{array}\n",
    "\\right\\} \\quad \\rightarrow \\quad\n",
    "\\left[\n",
    "\\begin{array}{l}\n",
    "h_1 \\\\\n",
    "s_1\n",
    "\\end{array}\n",
    "\\right]$"
   ]
  },
  {
   "cell_type": "code",
   "execution_count": 2,
   "metadata": {},
   "outputs": [
    {
     "name": "stdout",
     "output_type": "stream",
     "text": [
      "h1 = 3044.15 kJ/kg\n",
      "s1 = 6.62664 kJ/kg·K - gas\n"
     ]
    }
   ],
   "source": [
    "# Datos:\n",
    "P1 = 30e5 # Pa\n",
    "T1 = 320 + 273.15 # K\n",
    "\n",
    "# Con P1 y T1 consultamos la entalpía y la entropía en 1\n",
    "h1 = cp.PropsSI('H','P',P1,'T',T1,'Water') # Entalpía en 1\n",
    "s1 = cp.PropsSI('S','P',P1,'T',T1,'Water') # Entropía en 1\n",
    "ph1 = cp.PhaseSI('P',P1,'T',T1,'Water')\n",
    "\n",
    "print('h1 = %s kJ/kg'%round(h1/1000,2))\n",
    "print('s1 = %s kJ/kg·K -'%round(s1/1000,5),ph1)"
   ]
  },
  {
   "cell_type": "markdown",
   "metadata": {},
   "source": [
    "Luego: $s_{2rev} = s_1$\n",
    "\n",
    "$\\left.\n",
    "\\begin{array}{l}\n",
    "P_2 = 0,14 \\, \\mathrm{bar} \\\\\n",
    "s_{2rev} = s_1\n",
    "\\end{array}\n",
    "\\right\\} \\quad \\rightarrow \\quad \n",
    "\\left[\n",
    "\\begin{array}{l}\n",
    "s' \\\\\n",
    "s''\n",
    "\\end{array}\n",
    "\\right]\n",
    "\\;\n",
    "\\left[\n",
    "\\begin{array}{l}\n",
    "h' \\\\\n",
    "h''\n",
    "\\end{array}\n",
    "\\right]\n",
    "\\quad \\rightarrow \\quad \n",
    "\\left[\n",
    "\\begin{array}{l}\n",
    "x_{2rev} \\\\\n",
    "h_{2rev}\n",
    "\\end{array}\n",
    "\\right]\n",
    "$"
   ]
  },
  {
   "cell_type": "code",
   "execution_count": 3,
   "metadata": {},
   "outputs": [
    {
     "name": "stdout",
     "output_type": "stream",
     "text": [
      "s2rev = 6.62664 kJ/kg·K - twophase\n"
     ]
    }
   ],
   "source": [
    "# Datos\n",
    "P2 = 0.14e5 # Pa\n",
    "# Entropía en 2 = entropía en 1 para un proceso reversible\n",
    "s2rev = s1 \n",
    "\n",
    "# Con P2 y s2rev consultamos la fase\n",
    "ph2 = cp.PhaseSI('P',P2,'S',s2rev,'Water')\n",
    "\n",
    "print('s2rev = %s kJ/kg·K -'%round(s2rev/1000,5),ph2)"
   ]
  },
  {
   "cell_type": "markdown",
   "metadata": {},
   "source": [
    "$x_{2rev}$ se puede determinar con la fórmula:\n",
    "\n",
    "$$ s_1 = s_{2rev} \\quad \\rightarrow \\quad \\mbox{dentro de la campana} $$"
   ]
  },
  {
   "cell_type": "code",
   "execution_count": 4,
   "metadata": {},
   "outputs": [
    {
     "name": "stdout",
     "output_type": "stream",
     "text": [
      "sp1 = 0.73664 kJ/kg·K\n",
      "sp2 = 8.03112 kJ/kg·K\n",
      " \n",
      "hp1 = 219.99 kJ/kg\n",
      "hp2 = 2595.78 kJ/kg\n"
     ]
    }
   ],
   "source": [
    "sp1 = cp.PropsSI('S','P',P2,'Q',0,'Water')\n",
    "sp2 = cp.PropsSI('S','P',P2,'Q',1,'Water')\n",
    "\n",
    "hp1 = cp.PropsSI('H','P',P2,'Q',0,'Water')\n",
    "hp2 = cp.PropsSI('H','P',P2,'Q',1,'Water')\n",
    "\n",
    "print('sp1 = %s kJ/kg·K'%round(sp1/1000,5))\n",
    "print('sp2 = %s kJ/kg·K'%round(sp2/1000,5))\n",
    "print(' ')\n",
    "print('hp1 = %s kJ/kg'%round(hp1/1000,2))\n",
    "print('hp2 = %s kJ/kg'%round(hp2/1000,2))"
   ]
  },
  {
   "cell_type": "markdown",
   "metadata": {},
   "source": [
    "Estado del vapor en 2, reversible\n",
    "$$ x_{2rev} = \\frac{s_{2rev} - s'_2}{s''_2 - s'_2} $$\n",
    "\n",
    "Entalpía 2, reversible\n",
    "$$ h_{2rev} = x_{2rev} \\, (h'' - h') + h' $$"
   ]
  },
  {
   "cell_type": "code",
   "execution_count": 5,
   "metadata": {},
   "outputs": [
    {
     "name": "stdout",
     "output_type": "stream",
     "text": [
      "h2rev = 2138.35 kJ/kg\n",
      "x2rev = 0.80746\n"
     ]
    }
   ],
   "source": [
    "# Sabiendo que se encuentra en dos fases, dentro de la campana, consultamos x\n",
    "# Con P2 y s2rev consultamos el x en 2\n",
    "x2rev = (s2rev - sp1)/(sp2 - sp1)\n",
    "h2rev = x2rev*(hp2 - hp1) + hp1\n",
    "\n",
    "print('h2rev = %s kJ/kg'%round(h2rev/1000,2))\n",
    "print('x2rev = %s'%round(x2rev,5))"
   ]
  },
  {
   "cell_type": "markdown",
   "metadata": {},
   "source": [
    "Rendimiento isoentrópico\n",
    "$$ \\eta_{iso(s)} = \\frac{\\dot{W}_{real}}{\\dot{W}_{rev}} = \\frac{h_1 - h_{2real}}{h_1 - h_{2rev}} = 0,75 $$ "
   ]
  },
  {
   "cell_type": "markdown",
   "metadata": {},
   "source": [
    "Trabajo reversible\n",
    "$$ \\dot{W}_{rev} = m \\, (h_1 - h_{2rev}) $$"
   ]
  },
  {
   "cell_type": "code",
   "execution_count": 7,
   "metadata": {},
   "outputs": [
    {
     "name": "stdout",
     "output_type": "stream",
     "text": [
      "Wrev = 9058.02 kW\n"
     ]
    }
   ],
   "source": [
    "# Dato\n",
    "m = 10 # kg\n",
    "# Trabajo reversible\n",
    "Wrev = m*(h1 - h2rev)\n",
    "\n",
    "print('Wrev = %s kW'%round(Wrev/1000,2))"
   ]
  },
  {
   "cell_type": "markdown",
   "metadata": {},
   "source": [
    "### Trabajo real (kJ/s, potencia)\n",
    "$$ \\dot{W}_{real} = \\eta_{iso} \\dot{W}_{rev} $$"
   ]
  },
  {
   "cell_type": "code",
   "execution_count": 8,
   "metadata": {},
   "outputs": [
    {
     "name": "stdout",
     "output_type": "stream",
     "text": [
      "Potencia:\n",
      "Wreal = 6793.51 kW\n"
     ]
    }
   ],
   "source": [
    "# Rendimiento isoentrópico (dato)\n",
    "eta_iso = 0.75\n",
    "# Trabajo real\n",
    "Wreal = eta_iso * Wrev\n",
    "\n",
    "print('Potencia:')\n",
    "print('Wreal = %s kW'%round(Wreal/1000,2))"
   ]
  },
  {
   "cell_type": "markdown",
   "metadata": {},
   "source": [
    "$$ \\dot{W}_{real} = m \\, (h_1 - h_{2real})  $$\n",
    "Entalpía en 2, real\n",
    "$$ h_{2real} = h_1 - \\frac{\\dot{W}_{real}}{m}  $$\n",
    "\n",
    "Estado del vapor en 2, real\n",
    "$$ x_{2real} = \\frac{h_{2real} - h'}{h'' - h'} $$"
   ]
  },
  {
   "cell_type": "code",
   "execution_count": 11,
   "metadata": {},
   "outputs": [
    {
     "name": "stdout",
     "output_type": "stream",
     "text": [
      "h2real = 2364.8 kJ/kg\n",
      "x2real = 0.9028\n"
     ]
    }
   ],
   "source": [
    "# Entalpía en 2 real\n",
    "h2real = h1 - Wreal/m\n",
    "# Estado del vapor en 2\n",
    "x2real = (h2real - hp1)/(hp2 - hp1)\n",
    "\n",
    "print('h2real = %s kJ/kg'%round(h2real/1000,2))\n",
    "print('x2real = %s'%round(x2real,4))"
   ]
  },
  {
   "cell_type": "markdown",
   "metadata": {},
   "source": [
    "Entropía en 2, real\n",
    "$$ s_{2real} = x_{2real} \\, (s'' - s') + s' $$"
   ]
  },
  {
   "cell_type": "code",
   "execution_count": 12,
   "metadata": {},
   "outputs": [
    {
     "name": "stdout",
     "output_type": "stream",
     "text": [
      "s2real = 7.3219 kJ/kg·K\n"
     ]
    }
   ],
   "source": [
    "# Entropía real en 2\n",
    "s2real = x2real*(sp2 - sp1) + sp1\n",
    "\n",
    "print('s2real = %s kJ/kg·K'%round(s2real/1000,4))"
   ]
  },
  {
   "cell_type": "markdown",
   "metadata": {},
   "source": [
    "### Variación de entropía del Universo\n",
    "$$ \\Delta S_u = \\underbrace{ \\Delta S_m }_{\\equiv \\, 0} + \\Delta S_s = m \\, (s_{2real} - s_1) $$\n",
    "\n",
    "$\\Delta S_m = 0$, porque la turbia es adiabática."
   ]
  },
  {
   "cell_type": "code",
   "execution_count": 13,
   "metadata": {},
   "outputs": [
    {
     "name": "stdout",
     "output_type": "stream",
     "text": [
      "DSu = 6.9528 kJ/Ks\n"
     ]
    }
   ],
   "source": [
    "# Varición de entropía del universo\n",
    "DSu = m * (s2real - s1)\n",
    "\n",
    "print('DSu = %s kJ/Ks'%round(DSu/1000,4))"
   ]
  },
  {
   "cell_type": "markdown",
   "metadata": {},
   "source": [
    "### Trabajo perdido\n",
    "$$ \\dot{W}_{perd} = T_0 \\, \\Delta S_u $$"
   ]
  },
  {
   "cell_type": "code",
   "execution_count": 14,
   "metadata": {},
   "outputs": [
    {
     "name": "stdout",
     "output_type": "stream",
     "text": [
      "Wperd = 2085.84 kW\n"
     ]
    }
   ],
   "source": [
    "# Dato\n",
    "To = 300 # K\n",
    "# Trabajo perdido\n",
    "Wperd = To * DSu\n",
    "\n",
    "print('Wperd = %s kW'%round(Wperd/1000,2))"
   ]
  },
  {
   "cell_type": "code",
   "execution_count": 15,
   "metadata": {},
   "outputs": [
    {
     "name": "stdout",
     "output_type": "stream",
     "text": [
      "Resumen de resultados:\n",
      "----------------------\n",
      "1) Potencia: Wreal = 6793.51 kW\n",
      "2) Variación de entropía del universo: DSu = 6.9528 kJ/Ks\n",
      "3) Trabajo perdido: Wperd = 2085.84 kW\n"
     ]
    }
   ],
   "source": [
    "print('Resumen de resultados:')\n",
    "print('----------------------')\n",
    "print('1) Potencia: Wreal = %s kW'%round(Wreal/1000,2))\n",
    "print('2) Variación de entropía del universo: DSu = %s kJ/Ks'%round(DSu/1000,4))\n",
    "print('3) Trabajo perdido: Wperd = %s kW'%round(Wperd/1000,2))"
   ]
  },
  {
   "cell_type": "code",
   "execution_count": 16,
   "metadata": {},
   "outputs": [],
   "source": [
    "%reset -s -f"
   ]
  },
  {
   "cell_type": "markdown",
   "metadata": {},
   "source": [
    "# Ejercicio 40\n",
    "Proceso con vapor de agua, la variación de entropía entre entrada y salida de la turbina\n",
    "es 3,2 kW/K\n",
    "\n",
    "Determinar:\n",
    "1. $\\dot{W}$\n",
    "2. $\\eta_{iso(s)}$\n",
    "\n",
    "![40.png](img/40.png)"
   ]
  },
  {
   "cell_type": "markdown",
   "metadata": {},
   "source": [
    "### Solución"
   ]
  },
  {
   "cell_type": "code",
   "execution_count": 42,
   "metadata": {},
   "outputs": [],
   "source": [
    "import CoolProp.CoolProp as CP"
   ]
  },
  {
   "cell_type": "markdown",
   "metadata": {},
   "source": [
    "$\\left.\n",
    "\\begin{array}{l}\n",
    "P_1 = 22 \\, \\mathrm{bar} \\\\\n",
    "t_1 = 300^\\circ \\mathrm{C}\n",
    "\\end{array}\n",
    "\\right\\} \\quad \\rightarrow \\quad\n",
    "\\left[\n",
    "\\begin{array}{l}\n",
    "h_1 \\\\\n",
    "s_1\n",
    "\\end{array}\n",
    "\\right]\n",
    "$"
   ]
  },
  {
   "cell_type": "code",
   "execution_count": 43,
   "metadata": {},
   "outputs": [
    {
     "name": "stdout",
     "output_type": "stream",
     "text": [
      "h1 = 3018.42 kJ/kg\n",
      "s1 = 6.7167 kJ/kg·K - gas\n"
     ]
    }
   ],
   "source": [
    "# Estado 1\n",
    "P1 = 22e5 # Pa\n",
    "T1 = 300 + 273.15 # K\n",
    "\n",
    "# Con P1 y T1, consultamos la fase en 1\n",
    "ph = CP.PhaseSI('P',P1,'T',T1,'Water')\n",
    "\n",
    "h1 = CP.PropsSI('H','P',P1,'T',T1,'Water') # Consultamos la entalpía en 1\n",
    "s1 = CP.PropsSI('S','P',P1,'T',T1,'Water') # Consultamos la entropía en 1\n",
    "\n",
    "print('h1 = %s kJ/kg'%round(h1/1000,2))\n",
    "print('s1 = %s kJ/kg·K -'%round(s1/1000,4),ph)"
   ]
  },
  {
   "cell_type": "markdown",
   "metadata": {},
   "source": [
    " $\\left.\n",
    " \\begin{array}{l}\n",
    " \\Delta S_s = 3,2 \\,\\mathrm{kW/K} \\\\\n",
    " m = 4 \\, \\mathrm{kg/s}\n",
    " \\end{array}\n",
    " \\right\\} \\quad \\rightarrow \\quad \n",
    " \\Delta S_u = \\overbrace{ \\Delta S_m}^{= \\, 0} + \\Delta S_s = m \\, (s_2 - s_1)\n",
    " $\n",
    "  \n",
    " Despejo $s_2$\n",
    " $$ s_2 = \\frac{\\Delta S_s}{m} + s_1 $$"
   ]
  },
  {
   "cell_type": "code",
   "execution_count": 55,
   "metadata": {},
   "outputs": [
    {
     "name": "stdout",
     "output_type": "stream",
     "text": [
      "s2 = 7.5167 kJ/kg\n"
     ]
    }
   ],
   "source": [
    "DSs = 3.2e3 # kW/K (real)\n",
    "m = 4 # kg\n",
    "\n",
    "s2 = DS/m + s1 # Entopía en 2 (real)\n",
    "\n",
    "print('s2 = %s kJ/kg'%round(s2/1000,4))"
   ]
  },
  {
   "cell_type": "code",
   "execution_count": 45,
   "metadata": {},
   "outputs": [
    {
     "name": "stdout",
     "output_type": "stream",
     "text": [
      "ph2 = twophase\n"
     ]
    }
   ],
   "source": [
    "P2 = 0.4e5 # Pa\n",
    "\n",
    "ph2 = CP.PhaseSI('P',P2,'S',s2,'Water')\n",
    "\n",
    "print('ph2 = %s'%ph2)"
   ]
  },
  {
   "cell_type": "markdown",
   "metadata": {},
   "source": [
    "$\\left.\n",
    "\\begin{array}{l}\n",
    "P_2 = 0,4 \\, \\mathrm{bar} \\\\\n",
    "s_{2}\n",
    "\\end{array}\n",
    "\\right\\} \\quad \\rightarrow \\quad \n",
    "\\left[\n",
    "\\begin{array}{l}\n",
    "s' \\\\\n",
    "s''\n",
    "\\end{array}\n",
    "\\right]\n",
    "\\;\n",
    "\\left[\n",
    "\\begin{array}{l}\n",
    "h' \\\\\n",
    "h''\n",
    "\\end{array}\n",
    "\\right]\n",
    "\\quad \\rightarrow \\quad \n",
    "\\left[\n",
    "\\begin{array}{l}\n",
    "x_{2real} \\\\\n",
    "h_{2real}\n",
    "\\end{array}\n",
    "\\right]\n",
    "$\n",
    "\n",
    "Estado del vapor en 2, real\n",
    "$$ x_{2real} = \\frac{s_2 - s'}{s'' - s'} $$\n",
    "\n",
    "$$ h_2 = x_{2real} \\, (h'' - h') + h' $$"
   ]
  },
  {
   "cell_type": "code",
   "execution_count": 46,
   "metadata": {},
   "outputs": [
    {
     "name": "stdout",
     "output_type": "stream",
     "text": [
      "sp1 = 1.02607 kJ/kg·K\n",
      "sp2 = 7.669 kJ/kg·K\n",
      " \n",
      "hp1 = 317.62 kJ/kg\n",
      "hp2 = 2636.05 kJ/kg\n"
     ]
    }
   ],
   "source": [
    "sp1 = CP.PropsSI('S','P',P2,'Q',0,'Water')\n",
    "sp2 = CP.PropsSI('S','P',P2,'Q',1,'Water')\n",
    "\n",
    "hp1 = CP.PropsSI('H','P',P2,'Q',0,'Water')\n",
    "hp2 = CP.PropsSI('H','P',P2,'Q',1,'Water')\n",
    "\n",
    "print('sp1 = %s kJ/kg·K'%round(sp1/1000,5))\n",
    "print('sp2 = %s kJ/kg·K'%round(sp2/1000,5))\n",
    "print(' ')\n",
    "print('hp1 = %s kJ/kg'%round(hp1/1000,2))\n",
    "print('hp2 = %s kJ/kg'%round(hp2/1000,2))"
   ]
  },
  {
   "cell_type": "code",
   "execution_count": 47,
   "metadata": {},
   "outputs": [
    {
     "name": "stdout",
     "output_type": "stream",
     "text": [
      "x2real = 0.9771\n",
      "h2 = 2582.91 kJ/kg\n"
     ]
    }
   ],
   "source": [
    "x2real = (s2 - sp1)/(sp2 - sp1)\n",
    "h2 = x2real*(hp2 - hp1) + hp1\n",
    "\n",
    "print('x2real = %s'%round(x2real,4))\n",
    "print('h2 = %s kJ/kg'%round(h2/1000,2))"
   ]
  },
  {
   "cell_type": "markdown",
   "metadata": {},
   "source": [
    "### Potencia\n",
    "$$ \\dot{W} = m \\, (h_1 - h_{2real}) $$"
   ]
  },
  {
   "cell_type": "code",
   "execution_count": 48,
   "metadata": {},
   "outputs": [
    {
     "name": "stdout",
     "output_type": "stream",
     "text": [
      "W = 1742.03 kW\n"
     ]
    }
   ],
   "source": [
    "# Potencia real\n",
    "W = m*(h1 - h2)\n",
    "\n",
    "print('W = %s kW'%round(W/1000,2))"
   ]
  },
  {
   "cell_type": "markdown",
   "metadata": {},
   "source": [
    "### Rendimiento isoentrópico\n",
    "$$ \\eta_{iso(s)} = \\frac{\\dot{W}_{real}}{\\dot{W}_{ideal}} = \\frac{h_1 - h_2}{h_1 - h_{2rev}} $$\n",
    "Averiguamos el $x_{2rev}$\n",
    "$$ x_{2rev} = \\frac{s_{2rev} - s'}{s'' - s'} $$\n",
    "Luego $h_{2rev}$\n",
    "$$ h_{2rev} = x_{2rev} \\, (h'' - h') + h' $$"
   ]
  },
  {
   "cell_type": "code",
   "execution_count": 49,
   "metadata": {},
   "outputs": [
    {
     "name": "stdout",
     "output_type": "stream",
     "text": [
      "x2rev = 0.8566\n",
      "h2rev = 2303.7 kJ/kg\n"
     ]
    }
   ],
   "source": [
    "# Para un proceso reversible\n",
    "s2rev = s1 \n",
    "\n",
    "x2rev = (s2rev - sp1)/(sp2 - sp1)\n",
    "h2rev = x2rev*(hp2 - hp1) + hp1\n",
    "\n",
    "print('x2rev = %s'%round(x2rev,4))\n",
    "print('h2rev = %s kJ/kg'%round(h2rev/1000,2))"
   ]
  },
  {
   "cell_type": "code",
   "execution_count": 50,
   "metadata": {},
   "outputs": [
    {
     "name": "stdout",
     "output_type": "stream",
     "text": [
      "h2rev = 2303.7 kJ/kg\n"
     ]
    }
   ],
   "source": [
    "# O tambien podemos consultar directamente \n",
    "# con P2 y s2rev en CoolProp\n",
    "\n",
    "h2rev = CP.PropsSI('H','P',P2,'S',s2rev,'Water') \n",
    "\n",
    "print('h2rev = %s kJ/kg'%round(h2rev/1000,2))"
   ]
  },
  {
   "cell_type": "markdown",
   "metadata": {},
   "source": [
    "Rendimiento\n",
    "$$ \\eta_{iso} = \\frac{h_1 - h_{2real}}{h_1 - h_{2rev}} $$"
   ]
  },
  {
   "cell_type": "code",
   "execution_count": 51,
   "metadata": {},
   "outputs": [
    {
     "name": "stdout",
     "output_type": "stream",
     "text": [
      "eta_iso = 0.60935\n"
     ]
    }
   ],
   "source": [
    "# Rendimiento\n",
    "eta_iso = (h1 - h2)/(h1 - h2rev)\n",
    "\n",
    "print('eta_iso = %s'%round(eta_iso,5))"
   ]
  },
  {
   "cell_type": "markdown",
   "metadata": {},
   "source": [
    "### Variación de entropía del Universo\n",
    "$$ \\Delta S_u = \\underbrace{ \\Delta S_m }_{\\equiv \\, 0} + \\Delta S_s = m \\, (s_{2real} - s_1) $$\n",
    "\n",
    "$\\Delta S_m = 0$, porque la turbia es adiabática.\n",
    "\n",
    "$$ \\Delta S_u = \\Delta S_s = 3,2 \\, \\mathrm{kJ/K·s} $$"
   ]
  },
  {
   "cell_type": "code",
   "execution_count": 56,
   "metadata": {},
   "outputs": [
    {
     "name": "stdout",
     "output_type": "stream",
     "text": [
      "DSu = 3.2 kJ/K·s\n"
     ]
    }
   ],
   "source": [
    "DSu = DSs\n",
    "\n",
    "print('DSu = %s kJ/K·s'%round(DSu/1000,4))"
   ]
  },
  {
   "cell_type": "markdown",
   "metadata": {},
   "source": [
    "### Trabajo perdido\n",
    "$$ \\dot{W}_{perd} = T_0 \\, \\Delta S_u $$"
   ]
  },
  {
   "cell_type": "code",
   "execution_count": 57,
   "metadata": {},
   "outputs": [
    {
     "name": "stdout",
     "output_type": "stream",
     "text": [
      "Wperd = 960.0 kW\n"
     ]
    }
   ],
   "source": [
    "To = 300 # K\n",
    "\n",
    "Wperd = To*DSu\n",
    "\n",
    "print('Wperd = %s kW'%round(Wperd/1000,2))"
   ]
  },
  {
   "cell_type": "code",
   "execution_count": 58,
   "metadata": {},
   "outputs": [],
   "source": [
    "%reset -s -f"
   ]
  },
  {
   "cell_type": "markdown",
   "metadata": {},
   "source": [
    "# Ejercicio 7.87\n",
    "Se expande argón en una turbina isentrópica de 2 MPa y 500 °C a 200 kPa. Determine la temperatura de salida y el\n",
    "trabajo producido por esta turbina por unidad de masa del argón.\n",
    "![c7-87.png](img/c7-87.png)"
   ]
  },
  {
   "cell_type": "markdown",
   "metadata": {},
   "source": [
    "## Solución\n",
    "$$ \\dot{E}_{in} - \\dot{E}_{out} = \\overbrace{ \\Delta \\dot{E}_{\\mathrm{sistema}} }^{\\mathrm{estacionario}} = 0 $$\n",
    "\n",
    "$$ \\dot{m} h_1 = \\dot{m} h_2 + \\dot{W}_{out}  $$\n",
    "\n",
    "$$ \\dot{W}_{out} = \\dot{m} \\, (h_1 - h_2) $$\n",
    "\n",
    "$$ w_{out} = h_1 - h_2 $$\n",
    "\n",
    "Para el mínimo trabajo de entrada al compresor, el proceso debe ser reversible y adiabático (isentrópico). La temperatura de salida  debe ser\n",
    "\n",
    "$$ \\frac{T_{2rev}}{T_1} = \\left( \\frac{P_2}{P_1} \\right)^{(k-1)/k} \\quad \\Rightarrow \\quad T_{2rev} = T_1 \\, \\left( \\frac{P_2}{P_1} \\right)^{(k-1)/k} $$"
   ]
  },
  {
   "cell_type": "code",
   "execution_count": 49,
   "metadata": {},
   "outputs": [
    {
     "name": "stdout",
     "output_type": "stream",
     "text": [
      "T2 = 307.65 K\n"
     ]
    }
   ],
   "source": [
    "T1 = 500 + 273 # K\n",
    "P1 = 2e6 # Pa\n",
    "P2 = 0.2e6 # Pa\n",
    "cp = 0.2081 # kJ/kg·K\n",
    "k = 1.667\n",
    "\n",
    "T2 = T1*(P2/P1)**((k-1)/k)\n",
    "\n",
    "print('T2 = %s K'%round(T2,2))"
   ]
  },
  {
   "cell_type": "markdown",
   "metadata": {},
   "source": [
    "Substituyendo\n",
    "\n",
    "$$ w_{out} = h_1 - h_2 = c_p \\, (T_1 - T_2) $$"
   ]
  },
  {
   "cell_type": "code",
   "execution_count": 50,
   "metadata": {},
   "outputs": [
    {
     "name": "stdout",
     "output_type": "stream",
     "text": [
      "w_out = 96.84 kJ/kg\n"
     ]
    }
   ],
   "source": [
    "w_out = cp*(T1 - T2)\n",
    "print('w_out = %s kJ/kg'%round(w_out,2))"
   ]
  },
  {
   "cell_type": "code",
   "execution_count": 21,
   "metadata": {},
   "outputs": [],
   "source": [
    "%reset -s -f"
   ]
  },
  {
   "cell_type": "markdown",
   "metadata": {},
   "source": [
    "# Ejercicio 41\n",
    "Una turbina es accionada por aire a 22 bar y 1000 K , saliendo de la misma a 0,3 bar\n",
    "\n",
    "Sabiendo que: $\\Delta S_{1-2} = 1,8 \\, \\mathrm{kJ/K}$\n",
    "\n",
    "![41.png](img/41.png)\n",
    "\n",
    "Determinar:\n",
    "\n",
    "1. $T_{2rev}$ y $T_2$\n",
    "2. $\\dot{W}_{rev}$ y $\\dot{W}$"
   ]
  },
  {
   "cell_type": "markdown",
   "metadata": {},
   "source": [
    "## Solución\n",
    "Datos:\n",
    "$\\left\\{\n",
    "\\begin{array}{l}\n",
    "T_1 = 1000 \\, \\mathrm{K} \\\\\n",
    "P_1 = 22 \\, \\mathrm{bar} \\\\\n",
    "P_2 = 0,3 \\, \\mathrm{bar} \\\\\n",
    "k = 1,4 \\; \\mbox{(dato de tabla)}\n",
    "\\end{array}\n",
    "\\right. \\quad \\rightarrow \\qquad\n",
    "\\displaystyle T_{2rev} = T_1 \\, \\left( \\frac{P_2}{P_1} \\right)^{(k - 1)/k}\n",
    "$"
   ]
  },
  {
   "cell_type": "code",
   "execution_count": 20,
   "metadata": {},
   "outputs": [
    {
     "name": "stdout",
     "output_type": "stream",
     "text": [
      "T2rev = 293.13 K\n"
     ]
    }
   ],
   "source": [
    "T1 = 1000 # K\n",
    "P1 = 22e5 # Pa\n",
    "P2 = 0.3e5 # Pa\n",
    "k = 1.4 # dato de tabla\n",
    "\n",
    "T2rev = T1*(P2/P1)**((k-1)/k)\n",
    "\n",
    "print('T2rev = %s K'%round(T2rev,2))"
   ]
  },
  {
   "cell_type": "markdown",
   "metadata": {},
   "source": [
    "$$ \\Delta s = s_2 - s_1 = c_p \\ln \\frac{T_2}{T_1} - R \\ln \\frac{P_2}{P_1}  $$\n",
    "Despejo $T_2$\n",
    "$$\\Rightarrow \\quad T_2 = T_1 \\, e^{[\\Delta s + R \\ln (P2/P1)]/c_p}$$\n",
    "Simplificando (opcional)\n",
    "$$ T_2 = T_1 e^{\\Delta s/c_p} \\, \\left( \\frac{P_2}{P_1} \\right)^{R/c_p} $$"
   ]
  },
  {
   "cell_type": "code",
   "execution_count": 17,
   "metadata": {},
   "outputs": [],
   "source": [
    "import math as math"
   ]
  },
  {
   "cell_type": "code",
   "execution_count": 21,
   "metadata": {},
   "outputs": [
    {
     "name": "stdout",
     "output_type": "stream",
     "text": [
      "T2 = 458.86 K\n"
     ]
    }
   ],
   "source": [
    "m = 4 # kg/s\n",
    "cp = 1.0047e3 # J/kg·K\n",
    "R = 0.287e3 # J/kg·K\n",
    "Delta_s = 1.8e3/m # J/K\n",
    "\n",
    "T2 = T1*math.exp((Delta_s + R*math.log(P2/P1))/cp)\n",
    "\n",
    "print('T2 = %s K'%round(T2,2))"
   ]
  },
  {
   "cell_type": "code",
   "execution_count": 22,
   "metadata": {},
   "outputs": [
    {
     "name": "stdout",
     "output_type": "stream",
     "text": [
      "T2 = 458.86 K\n"
     ]
    }
   ],
   "source": [
    "T2 = T1 * math.exp(Delta_s/cp) * (P2/P1)**(R/cp)\n",
    "\n",
    "print('T2 = %s K'%round(T2,2))"
   ]
  },
  {
   "cell_type": "markdown",
   "metadata": {},
   "source": [
    "### Trabajo real y trabajo reversible (ideal)\n",
    "$$\\left\\{\n",
    "\\begin{array}{l}\n",
    "h_1 = T_1 \\, c_p \\\\\n",
    " h_2 = T_2 \\, c_p \\\\\n",
    " h_{2rev} = T_{2rev} \\, c_p \n",
    "\\end{array} \n",
    "\\right.\n",
    "\\quad \\rightarrow \\quad \n",
    "\\begin{array}{l}\n",
    "\\dot{W} = \\dot{m} \\, (h_1 - h_2) \\\\\n",
    "\\dot{W}_{rev} = \\dot{m} \\, (h_1 - h_{2rev})\n",
    "\\end{array}\n",
    "$$"
   ]
  },
  {
   "cell_type": "code",
   "execution_count": 25,
   "metadata": {},
   "outputs": [
    {
     "name": "stdout",
     "output_type": "stream",
     "text": [
      "Wrev = 2840.78 kW\n",
      "W = 2174.73 kW\n"
     ]
    }
   ],
   "source": [
    "# Calculamos entalpías\n",
    "h1 = T1*cp\n",
    "h2rev = T2rev*cp\n",
    "h2 = T2*cp\n",
    "\n",
    "# Calculamos trabajos\n",
    "Wrev = m*(h1 - h2rev)\n",
    "W = m*(h1 - h2)\n",
    "\n",
    "print('Wrev = %s kW'%round(Wrev/1000,2))\n",
    "print('W = %s kW'%round(W/1000,2))"
   ]
  },
  {
   "cell_type": "code",
   "execution_count": 23,
   "metadata": {},
   "outputs": [],
   "source": [
    "%reset -s -f"
   ]
  },
  {
   "cell_type": "markdown",
   "metadata": {},
   "source": [
    "# Ejercicio 43\n",
    "![43.png](img/43.png)\n",
    "\n",
    "1. $\\dot{W}$\n",
    "2. Estado vapor 4 (P,t,x)\n",
    "3. $\\Delta \\dot{S}_u$"
   ]
  },
  {
   "cell_type": "markdown",
   "metadata": {},
   "source": [
    "## Solución"
   ]
  },
  {
   "cell_type": "code",
   "execution_count": 24,
   "metadata": {},
   "outputs": [],
   "source": [
    "import CoolProp.CoolProp as cp"
   ]
  },
  {
   "cell_type": "markdown",
   "metadata": {},
   "source": [
    "Estado en 1\n",
    "\n",
    "$\\left.\n",
    "\\begin{array}{l}\n",
    "P_1 = 10 \\, \\mathrm{bar} \\\\\n",
    "t_1 = 250^\\circ \\mathrm{C}\n",
    "\\end{array}\n",
    "\\right\\} \\quad \\rightarrow \\quad\n",
    "\\left[\n",
    "\\begin{array}{l}\n",
    "h_1 \\\\\n",
    "s_1\n",
    "\\end{array}\n",
    "\\right]\n",
    "$\n",
    "\n",
    "$m_1 = 1,25 \\, \\mathrm{kg}$"
   ]
  },
  {
   "cell_type": "code",
   "execution_count": 30,
   "metadata": {},
   "outputs": [
    {
     "name": "stdout",
     "output_type": "stream",
     "text": [
      "Fase en 1: gas\n",
      "h1 = 2941.26 kJ/kg\n",
      "s1 = 6.90124 kJ/kg\n"
     ]
    }
   ],
   "source": [
    "# Estado en 1\n",
    "P1 = 10.5e5 # Pa\n",
    "T1 = 250 + 273.15 # K\n",
    "m1 = 1.25 # kg/s\n",
    "\n",
    "h1 = cp.PropsSI('H','P',P1,'T',T1,'Water')\n",
    "s1 = cp.PropsSI('S','P',P1,'T',T1,'Water')\n",
    "\n",
    "ph1 = cp.PhaseSI('P',P1,'T',T1,'Water')\n",
    "\n",
    "print('Fase en 1:',ph1)\n",
    "print('h1 = %s kJ/kg'%round(h1/1000,2))\n",
    "print('s1 = %s kJ/kg'%round(s1/1000,5))"
   ]
  },
  {
   "cell_type": "code",
   "execution_count": 31,
   "metadata": {},
   "outputs": [
    {
     "name": "stdout",
     "output_type": "stream",
     "text": [
      "Fase en 2: twophase\n"
     ]
    }
   ],
   "source": [
    "P2 = 2e5 # Pa\n",
    "s2rev = s1 # Para un proceso reversible\n",
    "\n",
    "ph2 = cp.PhaseSI('P',P2,'S',s2rev,'Water')\n",
    "\n",
    "print('Fase en 2:',ph2)"
   ]
  },
  {
   "cell_type": "markdown",
   "metadata": {},
   "source": [
    "$\\left.\n",
    "\\begin{array}{l}\n",
    "P_2 = 2 \\, \\mathrm{bar} \\\\\n",
    "s_{2rev} = s_1\n",
    "\\end{array}\n",
    "\\right\\} \\quad \\mbox{dentro de la campana} \\rightarrow \\quad\n",
    "\\left[\n",
    "\\begin{array}{l}\n",
    "s' \\\\\n",
    "s''\n",
    "\\end{array}\n",
    "\\right] \\quad\n",
    "\\left[\n",
    "\\begin{array}{l}\n",
    "h' \\\\\n",
    "h''\n",
    "\\end{array}\n",
    "\\right]\n",
    "$\n",
    "\n",
    "Calidad del vapor en 2, reversible o ideal\n",
    "$$ x_{2rev} = \\frac{s_{2rev} - s'}{s'' -s'} $$\n",
    "Entalpía en 2, reversible o ideal\n",
    "$$ h_{2rev} = x_{2rev} \\, (h'' - h') + h' $$"
   ]
  },
  {
   "cell_type": "code",
   "execution_count": 33,
   "metadata": {},
   "outputs": [
    {
     "name": "stdout",
     "output_type": "stream",
     "text": [
      "x2rev = 0.9597\n",
      "h2rev = 2617.47 kJ/kg\n"
     ]
    }
   ],
   "source": [
    "# directamente con CoolProp\n",
    "x2rev = cp.PropsSI('Q','P',P2,'S',s2rev,'Water')\n",
    "h2rev = cp.PropsSI('H','P',P2,'S',s2rev,'Water')\n",
    "\n",
    "print('x2rev = %s'%round(x2rev,4))\n",
    "print('h2rev = %s kJ/kg'%round(h2rev/1000,2))"
   ]
  },
  {
   "cell_type": "markdown",
   "metadata": {},
   "source": [
    "$$ \\eta_{iso(s)} = \\frac{\\dot{W}_{real}}{\\dot{W}_{ideal}} = \\frac{h_1 - h_{2real}}{h_1 - h_{2rev}} $$\n",
    "Entalpía en 2, real\n",
    "$$ h_{2real} = h_1 - \\eta_{iso} \\, (h_1 - h_{2rev}) $$"
   ]
  },
  {
   "cell_type": "code",
   "execution_count": 34,
   "metadata": {},
   "outputs": [
    {
     "name": "stdout",
     "output_type": "stream",
     "text": [
      "h2real = 2682.23 kJ/kg\n"
     ]
    }
   ],
   "source": [
    "eta_iso = 0.8\n",
    "\n",
    "h2real = h1 - eta_iso*(h1 - h2rev)\n",
    "\n",
    "print('h2real = %s kJ/kg'%round(h2real/1000,2))"
   ]
  },
  {
   "cell_type": "markdown",
   "metadata": {},
   "source": [
    "Calidad del vapor en 2, real\n",
    "$$ x_{2real} = \\frac{h_{2real} - h'}{h'' - h'} $$\n",
    "Entropía en 2, real\n",
    "$$ s_{2real} = x_{2real} \\, (s'' - s') + s' $$"
   ]
  },
  {
   "cell_type": "code",
   "execution_count": 38,
   "metadata": {},
   "outputs": [
    {
     "name": "stdout",
     "output_type": "stream",
     "text": [
      "x2real = 0.9891\n",
      "s2real = 7.0659 kJ/kg\n"
     ]
    }
   ],
   "source": [
    "x2real = cp.PropsSI('Q','P',P2,'H',h2real,'Water')\n",
    "s2real = cp.PropsSI('S','P',P2,'H',h2real,'Water')\n",
    "\n",
    "print('x2real = %s'%round(x2real,4))\n",
    "print('s2real = %s kJ/kg'%round(s2real/1000,4))"
   ]
  },
  {
   "cell_type": "markdown",
   "metadata": {},
   "source": [
    "### Potencia \n",
    "$$ \\dot{W} = m_1 \\, (h_1 - h_{2real}) $$"
   ]
  },
  {
   "cell_type": "code",
   "execution_count": 35,
   "metadata": {},
   "outputs": [
    {
     "name": "stdout",
     "output_type": "stream",
     "text": [
      "W = 323.79 kW\n"
     ]
    }
   ],
   "source": [
    "W = m1*(h1 - h2real)\n",
    "\n",
    "print('W = %s kW'%round(W/1000,2) )"
   ]
  },
  {
   "cell_type": "markdown",
   "metadata": {},
   "source": [
    "$\\left.\n",
    "\\begin{array}{l}\n",
    "P_2 = 2 \\, \\mathrm{bar} \\\\\n",
    "x_{2real} = 0,9891\n",
    "\\end{array}\n",
    "\\right\\} \\quad \\rightarrow \\quad\n",
    "\\begin{array}{l}\n",
    "T_2 = 393,36 \\, \\mathrm{K} \\\\\n",
    "t_2 = 120,21^\\circ \\mathrm{C}\n",
    "\\end{array}\n",
    "$"
   ]
  },
  {
   "cell_type": "code",
   "execution_count": 36,
   "metadata": {},
   "outputs": [
    {
     "name": "stdout",
     "output_type": "stream",
     "text": [
      "T2 = 393.36 K\n",
      "T2 = 120.21°C\n"
     ]
    }
   ],
   "source": [
    "T2 = cp.PropsSI('T','P',P2,'H',h2real,'Water')\n",
    "\n",
    "print('T2 = %s K'%round(T2,2))\n",
    "print('T2 = %s°C'%round(T2 - 273.15,2))"
   ]
  },
  {
   "cell_type": "markdown",
   "metadata": {},
   "source": [
    "$\\left.\n",
    "\\begin{array}{l}\n",
    "P_3 = P_2 \\\\\n",
    "t_3 = 240^\\circ \\mathrm{C}\n",
    "\\end{array}\n",
    "\\right\\} \\quad \\rightarrow \\quad [h_3]$"
   ]
  },
  {
   "cell_type": "code",
   "execution_count": 37,
   "metadata": {},
   "outputs": [
    {
     "name": "stdout",
     "output_type": "stream",
     "text": [
      "h3 = 2951.11 kJ/kg\n"
     ]
    }
   ],
   "source": [
    "m3 = 3 # kg\n",
    "T3 = 240 + 273.15 # K\n",
    "P3 = P2\n",
    "\n",
    "h3 = cp.PropsSI('H','P',P3,'T',T3,'Water')\n",
    "print('h3 = %s kJ/kg'%round(h3/1000,2))"
   ]
  },
  {
   "cell_type": "markdown",
   "metadata": {},
   "source": [
    "### Estado vapor en 4\n",
    "Para el intercambiador de calor\n",
    "$$ \\dot{E}_{in} - \\dot{E}_{out} = \\Delta \\dot{E}_{system}  = 0 $$\n",
    "\n",
    "$$ m_2 + m_3 = m_4 $$\n",
    "\n",
    "$$ \\dot{m}_2 h_2 + \\dot{m}_3 h_3 = \\dot{m}_4 h_4 $$\n",
    "\n",
    "$$ \\dot{m}_2 h_2 + \\dot{m}_3 h_3 = (\\dot{m}_2 + \\dot{m}_3) h_4 $$\n",
    "\n",
    "$$ h_4 = \\frac{\\dot{m}_2 h_2 + \\dot{m}_3 h_3}{\\dot{m}_2 + \\dot{m}_3} $$"
   ]
  },
  {
   "cell_type": "markdown",
   "metadata": {},
   "source": [
    "$\\left\\{\n",
    "\\begin{array}{l}\n",
    "P_4 = P_2 \\\\\n",
    "m_2 = m_1\n",
    "\\end{array}\n",
    "\\right.$"
   ]
  },
  {
   "cell_type": "code",
   "execution_count": 10,
   "metadata": {},
   "outputs": [
    {
     "name": "stdout",
     "output_type": "stream",
     "text": [
      "h4 = 2872.03 kJ/kg\n",
      "T4 = 473.8 K\n",
      "T4 = 200.65°C\n"
     ]
    },
    {
     "data": {
      "text/plain": [
       "'gas'"
      ]
     },
     "execution_count": 10,
     "metadata": {},
     "output_type": "execute_result"
    }
   ],
   "source": [
    "P4 = P2\n",
    "m2 = m1\n",
    "\n",
    "h4 = (m2*h2real + m3*h3)/(m2 + m3)\n",
    "T4 = cp.PropsSI('T','P',P4,'H',h4,'Water')\n",
    "ph = cp.PhaseSI('P',P4,'H',h4,'Water')\n",
    "\n",
    "print('h4 = %s kJ/kg'%round(h4/1000,2))\n",
    "print('T4 = %s K'%round(T4,2))\n",
    "print('t4 = %s°C'%round(T4 - 273.15,2))\n",
    "ph"
   ]
  },
  {
   "cell_type": "markdown",
   "metadata": {},
   "source": [
    "### Variación de entropía del universo\n",
    "$$ \\Delta S_u = \\overbrace{ \\Delta S_m}^0 + \\Delta S_s = m_4  s_4 -  (m_1  s_1 + m_3  s_3) $$"
   ]
  },
  {
   "cell_type": "code",
   "execution_count": 15,
   "metadata": {},
   "outputs": [
    {
     "name": "stdout",
     "output_type": "stream",
     "text": [
      "s3 = 7.6712 kJ/kg·K\n",
      "s4 = 7.5108 kJ/kg·K\n"
     ]
    }
   ],
   "source": [
    "m4 = m2 + m3\n",
    "s3 = cp.PropsSI('S','P',P3,'T',T3,'Water')\n",
    "s4 = cp.PropsSI('S','P',P4,'T',T4,'Water')\n",
    "\n",
    "print('s3 = %s kJ/kg·K'%round(s3/1000,4))\n",
    "print('s4 = %s kJ/kg·K'%round(s4/1000,4))"
   ]
  },
  {
   "cell_type": "code",
   "execution_count": 17,
   "metadata": {},
   "outputs": [
    {
     "name": "stdout",
     "output_type": "stream",
     "text": [
      "DSu = 0.2809\n"
     ]
    }
   ],
   "source": [
    "DSu = m4*s4 - (m1*s1 + m3*s3)\n",
    "\n",
    "print('DSu = %s'%round(DSu/1000,4))"
   ]
  },
  {
   "cell_type": "code",
   "execution_count": 8,
   "metadata": {},
   "outputs": [],
   "source": [
    "%reset -s -f"
   ]
  },
  {
   "cell_type": "markdown",
   "metadata": {},
   "source": [
    "# Ejercicio 7-146\n",
    "Un intercambiador de calor bien aislado, de coraza y tubos, se usa para calentar agua $(c_p = 4,18 \\, \\mathrm{kJ/kg \\cdot ^\\circ C})$ en los tubos, de 20 a 70°C, a razón de 4,5 kg/s. El calor lo suministra un aceite caliente $c_p = 2,30 \\mathrm{kJ/kg \\cdot ^\\circ C}$ que entra a la coraza a 170°C a razón de 10 kg/s. Despreciando cualquier pérdida de calor del intercambiador, determine:\n",
    "1. la temperatura de salida del aceite\n",
    "2. la tasa de generación de entropía en el intercambiador de calor\n",
    "\n",
    "![7-146.png](img/7-146.png)"
   ]
  },
  {
   "cell_type": "markdown",
   "metadata": {},
   "source": [
    "## Solución\n",
    "El agua se calienta con aceite caliente en un intercambiador de calor. Se determinarán la temperatura de salida del aceite y la tasa de generación de entropía dentro del intercambiador de calor.\n",
    "\n",
    "__Supuestos__   \n",
    "1. Existen condiciones de funcionamiento estables.\n",
    "2. El intercambiador de calor está bien aislado, de modo que la pérdida de calor hacia los alrededores es insignificante y, por lo tanto, la transferencia de calor del fluido caliente es igual a la transferencia de calor al fluido frío.\n",
    "3. Los cambios en las energías cinética y potencial de las corrientes de fluidos son insignificantes.\n",
    "4. Las propiedades del fluido son constantes.\n",
    "\n",
    "__Propiedades__    \n",
    "Los calores específicos de agua y aceite son 4,18 y 2,3 kJ/kg·°C, respectivamente.\n",
    "\n",
    "__Análisis__    \n",
    "(a) Tomamos los tubos de agua fría como el sistema, que\n",
    "Es un volumen de control. El balance de energía para este sistema de flujo constante puede expresarse en forma de tasa como\n",
    "\n",
    "$$ \\dot{E}_{in} - \\dot{E}_{out} = \\overbrace{ \\Delta \\dot{E}_{system} }^{\\nearrow \\, 0} = 0 $$\n",
    "\n",
    "$$ \\dot{E}_{in} = \\dot{E}_{out} $$\n",
    "\n",
    "$ (\\mbox{debido a que: } \\Delta E_c \\approx \\Delta E_p \\approx 0 ) $\n",
    "\n",
    "$$ \\dot{Q}_{in} + \\dot{m} h_1 = \\dot{m} h_2 $$\n",
    "\n",
    "$$ \\dot{Q}_{in} = \\dot{m} c_p (T_2 - T_1) $$\n",
    "\n",
    "Entonces, la tasa de transferencia de calor al agua fría en este intercambiador de calor se convierte en\n",
    "\n",
    "$$ \\dot{Q} = [ \\dot{m} c_p \\, (T_{out} - T_{in} ]_\\mathrm{water} $$"
   ]
  },
  {
   "cell_type": "code",
   "execution_count": 4,
   "metadata": {},
   "outputs": [
    {
     "name": "stdout",
     "output_type": "stream",
     "text": [
      "Q = 940.5 kW\n"
     ]
    }
   ],
   "source": [
    "m_w = 4.5 # kg/s\n",
    "cp_w = 4.18 # kJ/kg·°C\n",
    "Tw_o = 70 # °C\n",
    "Tw_i = 20 # °C\n",
    "\n",
    "Q = m_w*cp_w*(Tw_o - Tw_i)\n",
    "\n",
    "print('Q = %s kW'%round(Q,2))"
   ]
  },
  {
   "cell_type": "markdown",
   "metadata": {},
   "source": [
    "Teniendo en cuenta que la ganancia de calor por el agua es igual a la pérdida de calor por el aceite, la temperatura de salida del aceite caliente se determina a partir de\n",
    "\n",
    "$$ \\dot{Q} = [ \\dot{m} c_p \\, (T_{in} - T_{out})_{oil} $$\n",
    "\n",
    "$$ T_{out} = T_{in} - \\frac{\\dot{Q}}{\\dot{m} c_p} $$"
   ]
  },
  {
   "cell_type": "code",
   "execution_count": 5,
   "metadata": {},
   "outputs": [
    {
     "name": "stdout",
     "output_type": "stream",
     "text": [
      "To_o = 147.5°C\n"
     ]
    }
   ],
   "source": [
    "To_i = 170 # °C\n",
    "m_o = 10 # kg\n",
    "cp_o = 2.3 # kJ/kg·°C\n",
    "\n",
    "To_o = To_i - Q/(m_o*cp)\n",
    "\n",
    "print('To_o = %s°C'%round(To_o,2))"
   ]
  },
  {
   "cell_type": "markdown",
   "metadata": {},
   "source": [
    "# Ejercicio 44\n",
    "![44.png](img/44.png)\n",
    "\n",
    "Calcular:\n",
    "1. $\\dot{Q}$\n",
    "2. $\\Delta \\dot{S}_u$\n",
    "3. $\\eta_{iso(turbina)}$\n",
    "4. $\\dot{W}_{perdido}$"
   ]
  },
  {
   "cell_type": "markdown",
   "metadata": {},
   "source": [
    "## Solución"
   ]
  },
  {
   "cell_type": "code",
   "execution_count": 1,
   "metadata": {},
   "outputs": [],
   "source": [
    "import CoolProp.CoolProp as cp"
   ]
  },
  {
   "cell_type": "code",
   "execution_count": 2,
   "metadata": {},
   "outputs": [],
   "source": [
    "P1 = 10e5 # Pa\n",
    "x1 = 1\n",
    "P2 = 20e5 # Pa\n",
    "T2 = 250 + 273.15 # K\n",
    "P3 = P1\n",
    "P4 = P1\n",
    "P5 = P4\n",
    "T5 = 350 + 273.15 # K\n",
    "P6 = 0.4e5 # Pa\n",
    "x6 = 1\n",
    "P7 = P6\n",
    "x7 = 0\n",
    "P8 = 1e5 # Pa\n",
    "T8 = 20 + 273.15 # K\n",
    "P9 = P8\n",
    "T9 = 80 + 273.15 # K\n",
    "\n",
    "\n",
    "h1 = cp.PropsSI('H','P',P1,'Q',x1,'Water')\n",
    "s1 = cp.PropsSI('S','P',P1,'Q',x1,'Water')\n",
    "h2 = cp.PropsSI('H','P',P2,'T',T2,'Water')\n",
    "s2 = cp.PropsSI('S','P',P2,'T',T2,'Water')\n",
    "h3 = h2\n",
    "s3 = cp.PropsSI('S','P',P3,'H',h3,'Water')\n",
    "h5 = cp.PropsSI('H','P',P5,'T',T5,'Water')\n",
    "s5 = cp.PropsSI('S','P',P5,'T',T5,'Water')\n",
    "h6 = cp.PropsSI('H','P',P6,'Q',x6,'Water')\n",
    "s6 = cp.PropsSI('S','P',P6,'Q',x6,'Water')\n",
    "h7 = cp.PropsSI('H','P',P7,'Q',x7,'Water')\n",
    "s7 = cp.PropsSI('S','P',P7,'Q',x7,'Water')\n",
    "h8 = cp.PropsSI('H','P',P8,'T',T8,'Water')\n",
    "s8 = cp.PropsSI('S','P',P8,'T',T8,'Water')\n",
    "h9 = cp.PropsSI('H','P',P9,'T',T9,'Water')\n",
    "s9 = cp.PropsSI('S','P',P9,'T',T9,'Water')"
   ]
  },
  {
   "cell_type": "code",
   "execution_count": 3,
   "metadata": {},
   "outputs": [
    {
     "name": "stdout",
     "output_type": "stream",
     "text": [
      "h1 = 2777.11 kJ/kg  |  s1 = 6.58502 kJ/kg·K\n",
      "h2 = 2903.24 kJ/kg  |  s2 = 6.54746 kJ/kg·K\n",
      "h3 = 2903.24 kJ/kg  |  s3 = 6.84891 kJ/kg·K\n",
      "h5 = 3158.18 kJ/kg  |  s5 = 7.30287 kJ/kg·K\n",
      "h6 = 2636.05 kJ/kg  |  s6 = 7.669 kJ/kg·K\n",
      "h7 = 317.62 kJ/kg   |  s7 = 1.02607 kJ/kg·K\n",
      "h8 = 84.01 kJ/kg    |  s8 = 0.29646 kJ/kg·K\n",
      "h9 = 335.05 kJ/kg   |  s9 = 1.07554 kJ/kg·K\n"
     ]
    }
   ],
   "source": [
    "print('h1 = %s kJ/kg  |  s1 = %s kJ/kg·K'%(round(h1/1000,2),round(s1/1000,5)) )\n",
    "print('h2 = %s kJ/kg  |  s2 = %s kJ/kg·K'%(round(h2/1000,2),round(s2/1000,5)) )\n",
    "print('h3 = %s kJ/kg  |  s3 = %s kJ/kg·K'%(round(h3/1000,2),round(s3/1000,5)) )\n",
    "print('h5 = %s kJ/kg  |  s5 = %s kJ/kg·K'%(round(h5/1000,2),round(s5/1000,5)) )\n",
    "print('h6 = %s kJ/kg  |  s6 = %s kJ/kg·K'%(round(h6/1000,2),round(s6/1000,5)) )\n",
    "print('h7 = %s kJ/kg   |  s7 = %s kJ/kg·K'%(round(h7/1000,2),round(s7/1000,5)) )\n",
    "print('h8 = %s kJ/kg    |  s8 = %s kJ/kg·K'%(round(h8/1000,2),round(s8/1000,5)) )\n",
    "print('h9 = %s kJ/kg   |  s9 = %s kJ/kg·K'%(round(h9/1000,2),round(s9/1000,5)) )"
   ]
  },
  {
   "cell_type": "markdown",
   "metadata": {},
   "source": [
    "### Turbina\n",
    "$$ Q = \\Delta H + W $$\n",
    "$$ - \\Delta H = W $$\n",
    "$$ W = m_4 (h_5 - h_6) $$\n",
    "\n",
    "$$ m_4 = \\frac{W}{h_5 - h_6} $$"
   ]
  },
  {
   "cell_type": "code",
   "execution_count": 4,
   "metadata": {},
   "outputs": [
    {
     "name": "stdout",
     "output_type": "stream",
     "text": [
      "m4 = 9.576 kg\n"
     ]
    }
   ],
   "source": [
    "W = 5000e3 # W\n",
    "\n",
    "m4 = W/(h5 - h6)\n",
    "\n",
    "print('m4 = %s kg'%round(m4,3))"
   ]
  },
  {
   "cell_type": "markdown",
   "metadata": {},
   "source": [
    "### Cámara de mezcla\n",
    "$$ m_3 = m_4 - m_1 $$\n",
    "\n",
    "$$ m_1 h_1 + m_3 h_3 = m_4 h_4 $$\n",
    "\n",
    "$$ h_4 = \\frac{m_1 h_1 + m_3 h_3}{m_4} $$"
   ]
  },
  {
   "cell_type": "code",
   "execution_count": 5,
   "metadata": {},
   "outputs": [
    {
     "name": "stdout",
     "output_type": "stream",
     "text": [
      "h4 = 2837.38 kJ/kg\n"
     ]
    }
   ],
   "source": [
    "m1 = 5 # kg/s\n",
    "m3 = m4 - m1\n",
    "\n",
    "h4 = (m1*h1 + m3*h3)/m4\n",
    "\n",
    "print('h4 = %s kJ/kg'%round(h4/1000,2))"
   ]
  },
  {
   "cell_type": "markdown",
   "metadata": {},
   "source": [
    "$$ Q_F = m_4 (h_5 - h_4) $$"
   ]
  },
  {
   "cell_type": "code",
   "execution_count": 6,
   "metadata": {},
   "outputs": [
    {
     "name": "stdout",
     "output_type": "stream",
     "text": [
      "QF = -3072.03 kJ/s\n"
     ]
    }
   ],
   "source": [
    "QF = m4*(h4 - h5)\n",
    "\n",
    "print('QF = %s kJ/s'%round(QF/1000,2))"
   ]
  },
  {
   "cell_type": "markdown",
   "metadata": {},
   "source": [
    "$$ \\Delta S_{turb} = m_4 (s_6 - s_5) $$"
   ]
  },
  {
   "cell_type": "code",
   "execution_count": 7,
   "metadata": {},
   "outputs": [
    {
     "name": "stdout",
     "output_type": "stream",
     "text": [
      "DSturb = 3.50605 kJ/K\n"
     ]
    }
   ],
   "source": [
    "DSturb = m4*(s6 - s5)\n",
    "\n",
    "print('DSturb = %s kJ/K'%round(DSturb/1000,5))"
   ]
  },
  {
   "cell_type": "markdown",
   "metadata": {},
   "source": [
    "$$ \\Delta S_{1-5} = m_1 (s_5 - s_1) $$"
   ]
  },
  {
   "cell_type": "code",
   "execution_count": 8,
   "metadata": {},
   "outputs": [
    {
     "name": "stdout",
     "output_type": "stream",
     "text": [
      "DS15 = 3.58929 kJ/K\n",
      "DS25 = 3.45683 kJ/K\n",
      "DS67 = -63.61328 kJ/K\n"
     ]
    }
   ],
   "source": [
    "DS15 = m1*(s5 - s1)\n",
    "DS25 = m3*(s5 - s2)\n",
    "DS67 = m4*(s7 - s6)\n",
    "print('DS15 = %s kJ/K'%round(DS15/1000,5))\n",
    "print('DS25 = %s kJ/K'%round(DS25/1000,5))\n",
    "print('DS67 = %s kJ/K'%round(DS67/1000,5))"
   ]
  },
  {
   "cell_type": "markdown",
   "metadata": {},
   "source": [
    "$$ m_4 h_6 + m_8 h_8 = m_4 h_7 + m_8 h_9 $$\n",
    "\n",
    "$$ m_8 (h_8 - h_9) = m_4 (h_7 - h_6) $$\n",
    "\n",
    "$$ m_8 = m_4 \\, \\frac{h_7 - h_6}{h_8 - h_9} $$"
   ]
  },
  {
   "cell_type": "code",
   "execution_count": 9,
   "metadata": {},
   "outputs": [
    {
     "name": "stdout",
     "output_type": "stream",
     "text": [
      "m8 = 88.435 kg\n"
     ]
    }
   ],
   "source": [
    "m8 = m4 * (h7 - h6)/(h8 - h9)\n",
    "print('m8 = %s kg'%round(m8,3))"
   ]
  },
  {
   "cell_type": "markdown",
   "metadata": {},
   "source": [
    "$$ \\Delta S_{8-9} = m_8 (s_9 - s_8) $$"
   ]
  },
  {
   "cell_type": "code",
   "execution_count": 10,
   "metadata": {},
   "outputs": [
    {
     "name": "stdout",
     "output_type": "stream",
     "text": [
      "DS89 = 68.89808 kJ/K\n"
     ]
    }
   ],
   "source": [
    "DS89 = m8*(s9 - s8)\n",
    "print('DS89 = %s kJ/K'%round(DS89/1000,5))"
   ]
  },
  {
   "cell_type": "markdown",
   "metadata": {},
   "source": [
    "$$ \\Delta S_F = \\frac{Q_F}{T_F} $$"
   ]
  },
  {
   "cell_type": "code",
   "execution_count": 11,
   "metadata": {},
   "outputs": [
    {
     "name": "stdout",
     "output_type": "stream",
     "text": [
      "DSF = -3.41337 kJ/K\n"
     ]
    }
   ],
   "source": [
    "TF = 900 # K\n",
    "\n",
    "DSF = QF/TF\n",
    "print('DSF = %s kJ/K'%round(DSF/1000,5))"
   ]
  },
  {
   "cell_type": "markdown",
   "metadata": {},
   "source": [
    "$$ \\Delta S_u = \\Delta S_{turb} + \\Delta S_{1-5} + \\Delta S_{2-5} + \\Delta S_{6-7} + \\Delta S_{8-9} + \\Delta S_F $$"
   ]
  },
  {
   "cell_type": "code",
   "execution_count": 12,
   "metadata": {},
   "outputs": [
    {
     "name": "stdout",
     "output_type": "stream",
     "text": [
      "DSu = 12.42359 kJ/K\n"
     ]
    }
   ],
   "source": [
    "DSu = DSturb + DS15 + DS25 + DS67 + DS89 + DSF\n",
    "print('DSu = %s kJ/K'%round(DSu/1000,5))"
   ]
  },
  {
   "cell_type": "markdown",
   "metadata": {},
   "source": [
    "$s_5 = s_{6rev}$\n",
    "\n",
    "$$ x_{6rev} = \\frac{s_{6rev} - s'}{s'' - s'} $$"
   ]
  },
  {
   "cell_type": "code",
   "execution_count": 13,
   "metadata": {},
   "outputs": [
    {
     "name": "stdout",
     "output_type": "stream",
     "text": [
      "x6rev = 0.9449\n"
     ]
    }
   ],
   "source": [
    "s6rev = s5\n",
    "\n",
    "x6rev = cp.PropsSI('Q','P',P6,'S',s6rev,'Water')\n",
    "\n",
    "print('x6rev = %s'%round(x6rev,4))"
   ]
  },
  {
   "cell_type": "markdown",
   "metadata": {},
   "source": [
    "$$ h_{6rev} = x_{6rev} \\, (h'' - h') + h' $$"
   ]
  },
  {
   "cell_type": "code",
   "execution_count": 14,
   "metadata": {},
   "outputs": [
    {
     "name": "stdout",
     "output_type": "stream",
     "text": [
      "h6rev = 2508.27 kJ/kg\n"
     ]
    }
   ],
   "source": [
    "h6rev = cp.PropsSI('H','P',P6,'S',s6rev,'Water')\n",
    "print('h6rev = %s kJ/kg'%round(h6rev/1000,2))"
   ]
  },
  {
   "cell_type": "markdown",
   "metadata": {},
   "source": [
    "$$ \\eta_{iso} = \\frac{h_5 - h_6}{h_5 - h_{6rev}} $$"
   ]
  },
  {
   "cell_type": "code",
   "execution_count": 15,
   "metadata": {},
   "outputs": [
    {
     "name": "stdout",
     "output_type": "stream",
     "text": [
      "eta_iso = 0.8034\n"
     ]
    }
   ],
   "source": [
    "eta_iso = (h5 - h6)/(h5 - h6rev)\n",
    "print('eta_iso = %s'%round(eta_iso,4))"
   ]
  },
  {
   "cell_type": "markdown",
   "metadata": {},
   "source": [
    "$$ W_{perd} = T_0 \\Delta S_u $$"
   ]
  },
  {
   "cell_type": "code",
   "execution_count": 16,
   "metadata": {},
   "outputs": [
    {
     "name": "stdout",
     "output_type": "stream",
     "text": [
      "Wperd = 3727.08 kW\n"
     ]
    }
   ],
   "source": [
    "T0 = 300 # K\n",
    "\n",
    "Wperd = T0*DSu\n",
    "print('Wperd = %s kW'%round(Wperd/1000,2))"
   ]
  },
  {
   "cell_type": "markdown",
   "metadata": {},
   "source": [
    "$$ \\eta_{exT} = \\frac{Prod}{|Cons|} = \\frac{W}{|\\Delta E_{x5-6}|} = \\frac{W}{|\\Delta H_{5-6} - T_0 \\Delta S_{turb}|} $$"
   ]
  },
  {
   "cell_type": "code",
   "execution_count": 17,
   "metadata": {},
   "outputs": [],
   "source": [
    "m2 = m3\n",
    "DEx15 = m1*( (h5 - h1) - T0*(s5 - s1) )\n",
    "DEx25 = m2*( (h5 - h2) - T0*(s5 - s2) )\n",
    "DEx67 = m4*( (h7 - h6) - T0*(s7 - s6) )\n",
    "DEx89 = m8*( (h9 - h8) - T0*(s9 - s8) )\n",
    "DEx56 = m4*( (h6 - h5) - T0*(s6 - s5) )"
   ]
  },
  {
   "cell_type": "code",
   "execution_count": 18,
   "metadata": {},
   "outputs": [
    {
     "name": "stdout",
     "output_type": "stream",
     "text": [
      "DEx15 = 828.59 kJ/K\n",
      "DEx25 = 129.6 kJ/K\n",
      "DEx67 = -3117.49 kJ/K\n",
      "DEx89 = 1532.05 kJ/K\n",
      "DEx56 = -6051.81 kJ/K\n"
     ]
    }
   ],
   "source": [
    "print('DEx15 = %s kJ/K'%round(DEx15/1000,2))\n",
    "print('DEx25 = %s kJ/K'%round(DEx25/1000,2))\n",
    "print('DEx67 = %s kJ/K'%round(DEx67/1000,2))\n",
    "print('DEx89 = %s kJ/K'%round(DEx89/1000,2))\n",
    "print('DEx56 = %s kJ/K'%round(DEx56/1000,2))"
   ]
  },
  {
   "cell_type": "code",
   "execution_count": 19,
   "metadata": {},
   "outputs": [
    {
     "name": "stdout",
     "output_type": "stream",
     "text": [
      "eta_exTurb = 0.83\n"
     ]
    }
   ],
   "source": [
    "eta_exTurb = W/abs(DEx56)\n",
    "print('eta_exTurb = %s'%round(eta_exTurb,2))"
   ]
  },
  {
   "cell_type": "markdown",
   "metadata": {},
   "source": [
    "$$ \\eta_{ex} = \\frac{ \\Delta Ex_{1-5} + \\Delta Ex_{2-5} + \\Delta Ex_{8-9} + W }{ |\\Delta Ex_{6-7} + Q_F + \\Delta Ex_{5-6}| } $$"
   ]
  },
  {
   "cell_type": "code",
   "execution_count": 20,
   "metadata": {},
   "outputs": [
    {
     "name": "stdout",
     "output_type": "stream",
     "text": [
      "eta_ex = 0.612\n"
     ]
    }
   ],
   "source": [
    "eta_ex = ( DEx15 + DEx25 + DEx89 + W )/ abs(DEx67 + QF + DEx56)\n",
    "\n",
    "print('eta_ex = %s'%round(eta_ex,3))"
   ]
  },
  {
   "cell_type": "markdown",
   "metadata": {},
   "source": [
    "--------------\n",
    "[<-Previous ](https://nbviewer.jupyter.org/github/daniel-lorenzo/Termodinamica/blob/master/p06.ipynb) - \n",
    "[Index](https://github.com/daniel-lorenzo/Termodinamica/blob/master/Readme.md) - \n",
    "[Next -> ](https://nbviewer.jupyter.org/github/daniel-lorenzo/Termodinamica/blob/master/p08.ipynb)"
   ]
  }
 ],
 "metadata": {
  "kernelspec": {
   "display_name": "Python 3",
   "language": "python",
   "name": "python3"
  },
  "language_info": {
   "codemirror_mode": {
    "name": "ipython",
    "version": 3
   },
   "file_extension": ".py",
   "mimetype": "text/x-python",
   "name": "python",
   "nbconvert_exporter": "python",
   "pygments_lexer": "ipython3",
   "version": "3.7.3"
  }
 },
 "nbformat": 4,
 "nbformat_minor": 2
}
