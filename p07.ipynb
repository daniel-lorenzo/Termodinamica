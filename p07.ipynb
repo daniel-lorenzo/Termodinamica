{
 "cells": [
  {
   "cell_type": "markdown",
   "metadata": {},
   "source": [
    "# Clase práctica 7 - Termodinámica\n",
    "__UNLZ - FI -- Jupyter Notebook + Python 3__\n",
    "\n",
    "__Alumno: Lorenzo, Daniel Antonio__  \n",
    "[<-Previous ](https://nbviewer.jupyter.org/github/daniel-lorenzo/Termodinamica/blob/master/p06.ipynb)"
   ]
  },
  {
   "cell_type": "markdown",
   "metadata": {},
   "source": [
    "# Ejercicio 39\n",
    "Una turbina adiabática recibe 10 kg/s de vapor a 30 bar y 320°C. El vapor egresa a 0,14 bar siendo el rendimiento isoentrópico de 75%. Se pide:\n",
    "\n",
    "1. Potencia\n",
    "2. $\\Delta S_u$ \n",
    "3. Trabajo perdido\n",
    "\n",
    "![39.png](img/39.png)"
   ]
  },
  {
   "cell_type": "markdown",
   "metadata": {},
   "source": [
    "## Solución"
   ]
  },
  {
   "cell_type": "code",
   "execution_count": 28,
   "metadata": {},
   "outputs": [],
   "source": [
    "# (importa biblioteca CoolProp, requiere instalación)\n",
    "import CoolProp.CoolProp as cp"
   ]
  },
  {
   "cell_type": "markdown",
   "metadata": {},
   "source": [
    "$\\left.\n",
    "\\begin{array}{l}\n",
    "P_1 = 30 \\, \\mathrm{bar} \\\\\n",
    "t_1 = 320^\\circ \\mathrm{C}\n",
    "\\end{array}\n",
    "\\right\\} \\quad \\rightarrow \\quad\n",
    "\\left[\n",
    "\\begin{array}{l}\n",
    "h_1 \\\\\n",
    "s_1\n",
    "\\end{array}\n",
    "\\right]$"
   ]
  },
  {
   "cell_type": "code",
   "execution_count": 29,
   "metadata": {},
   "outputs": [
    {
     "name": "stdout",
     "output_type": "stream",
     "text": [
      "h1 = 3044.15 kJ/kg\n",
      "s1 = 6.62664 kJ/kg·K - gas\n"
     ]
    }
   ],
   "source": [
    "# Datos:\n",
    "P1 = 30e5 # Pa\n",
    "T1 = 320 + 273.15 # K\n",
    "\n",
    "# Con P1 y T1 consultamos la entalpía y la entropía en 1\n",
    "h1 = cp.PropsSI('H','P',P1,'T',T1,'Water') # Entalpía en 1\n",
    "s1 = cp.PropsSI('S','P',P1,'T',T1,'Water') # Entropía en 1\n",
    "ph1 = cp.PhaseSI('P',P1,'T',T1,'Water')\n",
    "\n",
    "print('h1 = %s kJ/kg'%round(h1/1000,2))\n",
    "print('s1 = %s kJ/kg·K -'%round(s1/1000,5),ph1)"
   ]
  },
  {
   "cell_type": "markdown",
   "metadata": {},
   "source": [
    "Luego: $s_{2rev} = s_1$\n",
    "\n",
    "$\\left.\n",
    "\\begin{array}{l}\n",
    "P_2 = 0,14 \\, \\mathrm{bar} \\\\\n",
    "s_{2rev} = s_1\n",
    "\\end{array}\n",
    "\\right\\} \\quad \\rightarrow \\quad \n",
    "\\left[\n",
    "\\begin{array}{l}\n",
    "s' \\\\\n",
    "s'' \\\\\n",
    "h' \\\\\n",
    "h''\n",
    "\\end{array}\n",
    "\\right]\n",
    "\\quad \\rightarrow \\quad \n",
    "\\left[\n",
    "\\begin{array}{l}\n",
    "x_{2rev} \\\\\n",
    "h_{2rev}\n",
    "\\end{array}\n",
    "\\right]\n",
    "$"
   ]
  },
  {
   "cell_type": "code",
   "execution_count": 30,
   "metadata": {},
   "outputs": [
    {
     "name": "stdout",
     "output_type": "stream",
     "text": [
      "s2rev = 6.62664 kJ/kg·K - twophase\n"
     ]
    }
   ],
   "source": [
    "# Datos\n",
    "P2 = 0.14e5 # Pa\n",
    "# Entropía en 2 = entropía en 1 para un proceso reversible\n",
    "s2rev = s1 \n",
    "\n",
    "# Con P2 y s2rev consultamos la fase\n",
    "ph2 = cp.PhaseSI('P',P2,'S',s2rev,'Water')\n",
    "\n",
    "print('s2rev = %s kJ/kg·K -'%round(s2rev/1000,5),ph2)"
   ]
  },
  {
   "cell_type": "markdown",
   "metadata": {},
   "source": [
    "$x_{2rev}$ se puede determinar con la fórmula:\n",
    "\n",
    "$$ s_1 = s_{2rev} \\quad \\rightarrow \\quad \\mbox{dentro de la campana} $$"
   ]
  },
  {
   "cell_type": "code",
   "execution_count": 31,
   "metadata": {},
   "outputs": [
    {
     "name": "stdout",
     "output_type": "stream",
     "text": [
      "sp1 = 0.73664 kJ/kg·K\n",
      "sp2 = 8.03112 kJ/kg·K\n",
      " \n",
      "hp1 = 219.99 kJ/kg\n",
      "hp2 = 2595.78 kJ/kg\n"
     ]
    }
   ],
   "source": [
    "sp1 = cp.PropsSI('S','P',P2,'Q',0,'Water')\n",
    "sp2 = cp.PropsSI('S','P',P2,'Q',1,'Water')\n",
    "\n",
    "hp1 = cp.PropsSI('H','P',P2,'Q',0,'Water')\n",
    "hp2 = cp.PropsSI('H','P',P2,'Q',1,'Water')\n",
    "\n",
    "print('sp1 = %s kJ/kg·K'%round(sp1/1000,5))\n",
    "print('sp2 = %s kJ/kg·K'%round(sp2/1000,5))\n",
    "print(' ')\n",
    "print('hp1 = %s kJ/kg'%round(hp1/1000,2))\n",
    "print('hp2 = %s kJ/kg'%round(hp2/1000,2))"
   ]
  },
  {
   "cell_type": "markdown",
   "metadata": {},
   "source": [
    "Estado del vapor en 2, reversible\n",
    "$$ x_{2rev} = \\frac{s_{2rev} - s'_2}{s''_2 - s'_2} $$\n",
    "\n",
    "Entalpía 2, reversible\n",
    "$$ h_{2rev} = x_{2rev} \\, (h'' - h') + h' $$"
   ]
  },
  {
   "cell_type": "code",
   "execution_count": 32,
   "metadata": {},
   "outputs": [
    {
     "name": "stdout",
     "output_type": "stream",
     "text": [
      "h2rev = 2138.35 kJ/kg\n",
      "x2rev = 0.80746\n"
     ]
    }
   ],
   "source": [
    "# Sabiendo que se encuentra en dos fases, dentro de la campana, consultamos x\n",
    "# Con P2 y s2rev consultamos el x en 2\n",
    "x2rev = (s2rev - sp1)/(sp2 - sp1)\n",
    "h2rev = x2rev*(hp2 - hp1) + hp1\n",
    "\n",
    "print('h2rev = %s kJ/kg'%round(h2rev/1000,2))\n",
    "print('x2rev = %s'%round(x2rev,5))"
   ]
  },
  {
   "cell_type": "markdown",
   "metadata": {},
   "source": [
    "Rendimiento isoentrópico\n",
    "$$ \\eta_{iso(s)} = \\frac{\\dot{W}_{real}}{\\dot{W}_{rev}} = \\frac{h_1 - h_{2real}}{h_1 - h_{2rev}} = 0,75 $$ \n",
    "\n",
    "Entalpía en 2, real\n",
    "$$ h_{2real} = \\frac{3 h_{2rev} + h_1}{4} $$"
   ]
  },
  {
   "cell_type": "code",
   "execution_count": 33,
   "metadata": {},
   "outputs": [
    {
     "name": "stdout",
     "output_type": "stream",
     "text": [
      "h2real = 2364.8 kJ/kg\n"
     ]
    }
   ],
   "source": [
    "# Entalpía real en 2\n",
    "h2real = (3*h2rev + h1)/4\n",
    "\n",
    "print('h2real = %s kJ/kg'%round(h2real/1000,2))"
   ]
  },
  {
   "cell_type": "markdown",
   "metadata": {},
   "source": [
    "Trabajo reversible\n",
    "$$ \\dot{W}_{rev} = m \\, (h_1 - h_{2rev}) $$"
   ]
  },
  {
   "cell_type": "code",
   "execution_count": 34,
   "metadata": {},
   "outputs": [
    {
     "name": "stdout",
     "output_type": "stream",
     "text": [
      "Wrev = 9058.02 kW\n"
     ]
    }
   ],
   "source": [
    "# Dato\n",
    "m = 10 # kg\n",
    "# Trabajo reversible\n",
    "Wrev = m*(h1 - h2rev)\n",
    "\n",
    "print('Wrev = %s kW'%round(Wrev/1000,2))"
   ]
  },
  {
   "cell_type": "markdown",
   "metadata": {},
   "source": [
    "### Trabajo real (kJ/s, potencia)\n",
    "$$ \\dot{W}_{real} = \\eta_{iso} \\dot{W}_{rev} $$"
   ]
  },
  {
   "cell_type": "code",
   "execution_count": 35,
   "metadata": {},
   "outputs": [
    {
     "name": "stdout",
     "output_type": "stream",
     "text": [
      "Potencia:\n",
      "Wreal = 6793.51 kW\n"
     ]
    }
   ],
   "source": [
    "# Rendimiento isoentrópico (dato)\n",
    "eta_iso = 0.75\n",
    "# Trabajo real\n",
    "Wreal = eta_iso * Wrev\n",
    "\n",
    "print('Potencia:')\n",
    "print('Wreal = %s kW'%round(Wreal/1000,2))"
   ]
  },
  {
   "cell_type": "markdown",
   "metadata": {},
   "source": [
    "Estado del vapor en 2, real\n",
    "$$ x_{2real} = \\frac{h_{2real} - h'}{h'' - h'} $$"
   ]
  },
  {
   "cell_type": "code",
   "execution_count": 36,
   "metadata": {},
   "outputs": [
    {
     "name": "stdout",
     "output_type": "stream",
     "text": [
      "x2real = 0.9028\n"
     ]
    }
   ],
   "source": [
    "# Estado del vapor en 2\n",
    "x2real = (h2real - hp1)/(hp2 - hp1)\n",
    "\n",
    "print('x2real = %s'%round(x2real,4))"
   ]
  },
  {
   "cell_type": "markdown",
   "metadata": {},
   "source": [
    "Entropía en 2, real\n",
    "$$ s_{2real} = x_{2real} \\, (s'' - s') + s' $$"
   ]
  },
  {
   "cell_type": "code",
   "execution_count": 37,
   "metadata": {},
   "outputs": [
    {
     "name": "stdout",
     "output_type": "stream",
     "text": [
      "s2real = 7.3219 kJ/kg·K\n"
     ]
    }
   ],
   "source": [
    "# Entropía real en 2\n",
    "s2real = x2real*(sp2 - sp1) + sp1\n",
    "\n",
    "print('s2real = %s kJ/kg·K'%round(s2real/1000,4))"
   ]
  },
  {
   "cell_type": "markdown",
   "metadata": {},
   "source": [
    "### Variación de entropía del Universo\n",
    "$$ \\Delta S_u = \\underbrace{ \\Delta S_m }_{\\equiv \\, 0} + \\Delta S_s = m \\, (s_{2real} - s_1) $$\n",
    "\n",
    "$\\Delta S_m = 0$, porque la turbia es adiabática."
   ]
  },
  {
   "cell_type": "code",
   "execution_count": 38,
   "metadata": {},
   "outputs": [
    {
     "name": "stdout",
     "output_type": "stream",
     "text": [
      "DSu = 6.9528 kJ/Ks\n"
     ]
    }
   ],
   "source": [
    "# Varición de entropía del universo\n",
    "DSu = m * (s2real - s1)\n",
    "\n",
    "print('DSu = %s kJ/Ks'%round(DSu/1000,4))"
   ]
  },
  {
   "cell_type": "markdown",
   "metadata": {},
   "source": [
    "### Trabajo perdido\n",
    "$$ \\dot{W}_{perd} = T_0 \\, \\Delta S_u $$"
   ]
  },
  {
   "cell_type": "code",
   "execution_count": 39,
   "metadata": {},
   "outputs": [
    {
     "name": "stdout",
     "output_type": "stream",
     "text": [
      "Wperd = 2085.84 kW\n"
     ]
    }
   ],
   "source": [
    "# Dato\n",
    "To = 300 # K\n",
    "# Trabajo perdido\n",
    "Wperd = To * DSu\n",
    "\n",
    "print('Wperd = %s kW'%round(Wperd/1000,2))"
   ]
  },
  {
   "cell_type": "code",
   "execution_count": 40,
   "metadata": {},
   "outputs": [
    {
     "name": "stdout",
     "output_type": "stream",
     "text": [
      "Resumen de resultados:\n",
      "----------------------\n",
      "1) Potencia: Wreal = 6793.51 kW\n",
      "2) Variación de entropía del universo: DSu = 6.9528 kJ/Ks\n",
      "3) Trabajo perdido: Wperd = 2085.84 kW\n"
     ]
    }
   ],
   "source": [
    "print('Resumen de resultados:')\n",
    "print('----------------------')\n",
    "print('1) Potencia: Wreal = %s kW'%round(Wreal/1000,2))\n",
    "print('2) Variación de entropía del universo: DSu = %s kJ/Ks'%round(DSu/1000,4))\n",
    "print('3) Trabajo perdido: Wperd = %s kW'%round(Wperd/1000,2))"
   ]
  },
  {
   "cell_type": "code",
   "execution_count": 41,
   "metadata": {},
   "outputs": [],
   "source": [
    "%reset -s -f"
   ]
  },
  {
   "cell_type": "markdown",
   "metadata": {},
   "source": [
    "# Ejercicio 40\n",
    "Proceso con vapor de agua, la variación de entropía entre entrada y salida de la turbina\n",
    "es 3,2 kW/K\n",
    "\n",
    "Determinar:\n",
    "1. $\\dot{W}$\n",
    "2. $\\eta_{iso(s)}$\n",
    "\n",
    "![40.png](img/40.png)"
   ]
  },
  {
   "cell_type": "markdown",
   "metadata": {},
   "source": [
    "### Solución"
   ]
  },
  {
   "cell_type": "code",
   "execution_count": 42,
   "metadata": {},
   "outputs": [],
   "source": [
    "import CoolProp.CoolProp as CP"
   ]
  },
  {
   "cell_type": "markdown",
   "metadata": {},
   "source": [
    "$\\left.\n",
    "\\begin{array}{l}\n",
    "P_1 = 22 \\, \\mathrm{bar} \\\\\n",
    "t_1 = 300^\\circ \\mathrm{C}\n",
    "\\end{array}\n",
    "\\right\\} \\quad \\rightarrow \\quad\n",
    "\\left[\n",
    "\\begin{array}{l}\n",
    "h_1 \\\\\n",
    "s_1\n",
    "\\end{array}\n",
    "\\right]\n",
    "$"
   ]
  },
  {
   "cell_type": "code",
   "execution_count": 43,
   "metadata": {},
   "outputs": [
    {
     "name": "stdout",
     "output_type": "stream",
     "text": [
      "h1 = 3018.42 kJ/kg\n",
      "s1 = 6.7167 kJ/kg·K - gas\n"
     ]
    }
   ],
   "source": [
    "# Estado 1\n",
    "P1 = 22e5 # Pa\n",
    "T1 = 300 + 273.15 # K\n",
    "\n",
    "# Con P1 y T1, consultamos la fase en 1\n",
    "ph = CP.PhaseSI('P',P1,'T',T1,'Water')\n",
    "\n",
    "h1 = CP.PropsSI('H','P',P1,'T',T1,'Water') # Consultamos la entalpía en 1\n",
    "s1 = CP.PropsSI('S','P',P1,'T',T1,'Water') # Consultamos la entropía en 1\n",
    "\n",
    "print('h1 = %s kJ/kg'%round(h1/1000,2))\n",
    "print('s1 = %s kJ/kg·K -'%round(s1/1000,4),ph)"
   ]
  },
  {
   "cell_type": "markdown",
   "metadata": {},
   "source": [
    " $\\left.\n",
    " \\begin{array}{l}\n",
    " \\Delta S_s = 3,2 \\,\\mathrm{kW/K} \\\\\n",
    " m = 4 \\, \\mathrm{kg/s}\n",
    " \\end{array}\n",
    " \\right\\} \\quad \\rightarrow \\quad \n",
    " \\Delta S_u = \\overbrace{ \\Delta S_m}^{= \\, 0} + \\Delta S_s = m \\, (s_2 - s_1)\n",
    " $\n",
    "  \n",
    " Despejo $s_2$\n",
    " $$ s_2 = \\frac{\\Delta S_s}{m} + s_1 $$"
   ]
  },
  {
   "cell_type": "code",
   "execution_count": 55,
   "metadata": {},
   "outputs": [
    {
     "name": "stdout",
     "output_type": "stream",
     "text": [
      "s2 = 7.5167 kJ/kg\n"
     ]
    }
   ],
   "source": [
    "DSs = 3.2e3 # kW/K (real)\n",
    "m = 4 # kg\n",
    "\n",
    "s2 = DS/m + s1 # Entopía en 2 (real)\n",
    "\n",
    "print('s2 = %s kJ/kg'%round(s2/1000,4))"
   ]
  },
  {
   "cell_type": "code",
   "execution_count": 45,
   "metadata": {},
   "outputs": [
    {
     "name": "stdout",
     "output_type": "stream",
     "text": [
      "ph2 = twophase\n"
     ]
    }
   ],
   "source": [
    "P2 = 0.4e5 # Pa\n",
    "\n",
    "ph2 = CP.PhaseSI('P',P2,'S',s2,'Water')\n",
    "\n",
    "print('ph2 = %s'%ph2)"
   ]
  },
  {
   "cell_type": "markdown",
   "metadata": {},
   "source": [
    "$\\left.\n",
    "\\begin{array}{l}\n",
    "P_2 = 0,4 \\, \\mathrm{bar} \\\\\n",
    "s_{2}\n",
    "\\end{array}\n",
    "\\right\\} \\quad \\rightarrow \\quad \n",
    "\\left[\n",
    "\\begin{array}{l}\n",
    "s' \\\\\n",
    "s'' \\\\\n",
    "h' \\\\\n",
    "h''\n",
    "\\end{array}\n",
    "\\right]\n",
    "\\quad \\rightarrow \\quad \n",
    "\\left[\n",
    "\\begin{array}{l}\n",
    "x_{2real} \\\\\n",
    "h_{2real}\n",
    "\\end{array}\n",
    "\\right]\n",
    "$\n",
    "\n",
    "Estado del vapor en 2, real\n",
    "$$ x_{2real} = \\frac{s_2 - s'}{s'' - s'} $$\n",
    "\n",
    "$$ h_2 = x_{2real} \\, (h'' - h') + h' $$"
   ]
  },
  {
   "cell_type": "code",
   "execution_count": 46,
   "metadata": {},
   "outputs": [
    {
     "name": "stdout",
     "output_type": "stream",
     "text": [
      "sp1 = 1.02607 kJ/kg·K\n",
      "sp2 = 7.669 kJ/kg·K\n",
      " \n",
      "hp1 = 317.62 kJ/kg\n",
      "hp2 = 2636.05 kJ/kg\n"
     ]
    }
   ],
   "source": [
    "sp1 = CP.PropsSI('S','P',P2,'Q',0,'Water')\n",
    "sp2 = CP.PropsSI('S','P',P2,'Q',1,'Water')\n",
    "\n",
    "hp1 = CP.PropsSI('H','P',P2,'Q',0,'Water')\n",
    "hp2 = CP.PropsSI('H','P',P2,'Q',1,'Water')\n",
    "\n",
    "print('sp1 = %s kJ/kg·K'%round(sp1/1000,5))\n",
    "print('sp2 = %s kJ/kg·K'%round(sp2/1000,5))\n",
    "print(' ')\n",
    "print('hp1 = %s kJ/kg'%round(hp1/1000,2))\n",
    "print('hp2 = %s kJ/kg'%round(hp2/1000,2))"
   ]
  },
  {
   "cell_type": "code",
   "execution_count": 47,
   "metadata": {},
   "outputs": [
    {
     "name": "stdout",
     "output_type": "stream",
     "text": [
      "x2real = 0.9771\n",
      "h2 = 2582.91 kJ/kg\n"
     ]
    }
   ],
   "source": [
    "x2real = (s2 - sp1)/(sp2 - sp1)\n",
    "h2 = x2real*(hp2 - hp1) + hp1\n",
    "\n",
    "print('x2real = %s'%round(x2real,4))\n",
    "print('h2 = %s kJ/kg'%round(h2/1000,2))"
   ]
  },
  {
   "cell_type": "markdown",
   "metadata": {},
   "source": [
    "### Potencia\n",
    "$$ \\dot{W} = m \\, (h_1 - h_{2real}) $$"
   ]
  },
  {
   "cell_type": "code",
   "execution_count": 48,
   "metadata": {},
   "outputs": [
    {
     "name": "stdout",
     "output_type": "stream",
     "text": [
      "W = 1742.03 kW\n"
     ]
    }
   ],
   "source": [
    "# Potencia real\n",
    "W = m*(h1 - h2)\n",
    "\n",
    "print('W = %s kW'%round(W/1000,2))"
   ]
  },
  {
   "cell_type": "markdown",
   "metadata": {},
   "source": [
    "### Rendimiento isoentrópico\n",
    "$$ \\eta_{iso(s)} = \\frac{W_{real}}{W_{ideal}} = \\frac{h_1 - h_2}{h_1 - h_{2rev}} $$\n",
    "Averiguamos el $x_{2rev}$\n",
    "$$ x_{2rev} = \\frac{s_{2rev} - s'}{s'' - s'} $$\n",
    "Luego $h_{2rev}$\n",
    "$$ h_{2rev} = x_{2rev} \\, (h'' - h') + h' $$"
   ]
  },
  {
   "cell_type": "code",
   "execution_count": 49,
   "metadata": {},
   "outputs": [
    {
     "name": "stdout",
     "output_type": "stream",
     "text": [
      "x2rev = 0.8566\n",
      "h2rev = 2303.7 kJ/kg\n"
     ]
    }
   ],
   "source": [
    "# Para un proceso reversible\n",
    "s2rev = s1 \n",
    "\n",
    "x2rev = (s2rev - sp1)/(sp2 - sp1)\n",
    "h2rev = x2rev*(hp2 - hp1) + hp1\n",
    "\n",
    "print('x2rev = %s'%round(x2rev,4))\n",
    "print('h2rev = %s kJ/kg'%round(h2rev/1000,2))"
   ]
  },
  {
   "cell_type": "code",
   "execution_count": 50,
   "metadata": {},
   "outputs": [
    {
     "name": "stdout",
     "output_type": "stream",
     "text": [
      "h2rev = 2303.7 kJ/kg\n"
     ]
    }
   ],
   "source": [
    "# O tambien podemos consultar directamente \n",
    "# con P2 y s2rev en CoolProp\n",
    "\n",
    "h2rev = CP.PropsSI('H','P',P2,'S',s2rev,'Water') \n",
    "\n",
    "print('h2rev = %s kJ/kg'%round(h2rev/1000,2))"
   ]
  },
  {
   "cell_type": "code",
   "execution_count": 51,
   "metadata": {},
   "outputs": [
    {
     "name": "stdout",
     "output_type": "stream",
     "text": [
      "eta_iso = 0.60935\n"
     ]
    }
   ],
   "source": [
    "# Rendimiento\n",
    "eta_iso = (h1 - h2)/(h1 - h2rev)\n",
    "\n",
    "print('eta_iso = %s'%round(eta_iso,5))"
   ]
  },
  {
   "cell_type": "markdown",
   "metadata": {},
   "source": [
    "### Variación de entropía del Universo\n",
    "$$ \\Delta S_u = \\underbrace{ \\Delta S_m }_{\\equiv \\, 0} + \\Delta S_s = m \\, (s_{2real} - s_1) $$\n",
    "\n",
    "$\\Delta S_m = 0$, porque la turbia es adiabática."
   ]
  },
  {
   "cell_type": "code",
   "execution_count": 56,
   "metadata": {},
   "outputs": [
    {
     "name": "stdout",
     "output_type": "stream",
     "text": [
      "DSu = 3.2 kJ/K·s\n"
     ]
    }
   ],
   "source": [
    "DSu = DSs\n",
    "\n",
    "print('DSu = %s kJ/K·s'%round(DSu/1000,4))"
   ]
  },
  {
   "cell_type": "markdown",
   "metadata": {},
   "source": [
    "### Trabajo perdido\n",
    "$$ \\dot{W}_{perd} = T_0 \\, \\Delta S_u $$"
   ]
  },
  {
   "cell_type": "code",
   "execution_count": 57,
   "metadata": {},
   "outputs": [
    {
     "name": "stdout",
     "output_type": "stream",
     "text": [
      "Wperd = 960.0 kW\n"
     ]
    }
   ],
   "source": [
    "To = 300 # K\n",
    "\n",
    "Wperd = To*DSu\n",
    "\n",
    "print('Wperd = %s kW'%round(Wperd/1000,2))"
   ]
  },
  {
   "cell_type": "code",
   "execution_count": 58,
   "metadata": {},
   "outputs": [],
   "source": [
    "%reset -s -f"
   ]
  },
  {
   "cell_type": "markdown",
   "metadata": {},
   "source": [
    "# Ejercicio 7.87\n",
    "Se expande argón en una turbina isentrópica de 2 MPa y 500 °C a 200 kPa. Determine la temperatura de salida y el\n",
    "trabajo producido por esta turbina por unidad de masa del argón.\n",
    "![c7-87.png](img/c7-87.png)"
   ]
  },
  {
   "cell_type": "markdown",
   "metadata": {},
   "source": [
    "## Solución\n",
    "$$ \\dot{E}_{in} - \\dot{E}_{out} = \\overbrace{ \\Delta \\dot{E}_{\\mathrm{sistema}} }^{\\mathrm{estacionario}} = 0 $$\n",
    "\n",
    "$$ \\dot{m} h_1 = \\dot{m} h_2 + \\dot{W}_{out}  $$\n",
    "\n",
    "$$ \\dot{W}_{out} = \\dot{m} \\, (h_1 - h_2) $$\n",
    "\n",
    "$$ w_{out} = h_1 - h_2 $$\n",
    "\n",
    "Para el mínimo trabajo de entrada al compresor, el proceso debe ser reversible y adiabático (isentrópico). La temperatura de salida  debe ser\n",
    "\n",
    "$$ \\frac{T_{2rev}}{T_1} = \\left( \\frac{P_2}{P_1} \\right)^{(k-1)/k} \\quad \\Rightarrow \\quad T_{2rev} = T_1 \\, \\left( \\frac{P_2}{P_1} \\right)^{(k-1)/k} $$"
   ]
  },
  {
   "cell_type": "code",
   "execution_count": 49,
   "metadata": {},
   "outputs": [
    {
     "name": "stdout",
     "output_type": "stream",
     "text": [
      "T2 = 307.65 K\n"
     ]
    }
   ],
   "source": [
    "T1 = 500 + 273 # K\n",
    "P1 = 2e6 # Pa\n",
    "P2 = 0.2e6 # Pa\n",
    "cp = 0.2081 # kJ/kg·K\n",
    "k = 1.667\n",
    "\n",
    "T2 = T1*(P2/P1)**((k-1)/k)\n",
    "\n",
    "print('T2 = %s K'%round(T2,2))"
   ]
  },
  {
   "cell_type": "markdown",
   "metadata": {},
   "source": [
    "Substituyendo\n",
    "\n",
    "$$ w_{out} = h_1 - h_2 = c_p \\, (T_1 - T_2) $$"
   ]
  },
  {
   "cell_type": "code",
   "execution_count": 50,
   "metadata": {},
   "outputs": [
    {
     "name": "stdout",
     "output_type": "stream",
     "text": [
      "w_out = 96.84 kJ/kg\n"
     ]
    }
   ],
   "source": [
    "w_out = cp*(T1 - T2)\n",
    "print('w_out = %s kJ/kg'%round(w_out,2))"
   ]
  },
  {
   "cell_type": "code",
   "execution_count": 21,
   "metadata": {},
   "outputs": [],
   "source": [
    "%reset -s -f"
   ]
  },
  {
   "cell_type": "markdown",
   "metadata": {},
   "source": [
    "# Ejercicio 41\n",
    "Una turbina es accionada por aire a 22 bar y 1000 K , saliendo de la misma a 0,3 bar\n",
    "\n",
    "Sabiendo que: $\\Delta S_{1-2} = 1,8 \\, \\mathrm{kJ/K}$\n",
    "![41.png](img/41.png)\n",
    "Determinar:\n",
    "\n",
    "1. $T_{2rev}$ y $T_2$\n",
    "2. $\\dot{W}_{rev}$ y $\\dot{W}$"
   ]
  },
  {
   "cell_type": "markdown",
   "metadata": {},
   "source": [
    "## Solución\n",
    "Datos:\n",
    "$\\left\\{\n",
    "\\begin{array}{l}\n",
    "T_1 = 1000 \\, \\mathrm{K} \\\\\n",
    "P_1 = 22 \\, \\mathrm{bar} \\\\\n",
    "P_2 = 0,3 \\, \\mathrm{bar} \\\\\n",
    "k = 1,4 \\; \\mbox{(dato de tabla)}\n",
    "\\end{array}\n",
    "\\right. \\quad \\rightarrow \\qquad\n",
    "\\displaystyle T_{2rev} = T_1 \\, \\left( \\frac{P_2}{P_1} \\right)^{(k - 1)/k}\n",
    "$"
   ]
  },
  {
   "cell_type": "code",
   "execution_count": 22,
   "metadata": {},
   "outputs": [
    {
     "name": "stdout",
     "output_type": "stream",
     "text": [
      "T2rev = 293.13 K\n"
     ]
    }
   ],
   "source": [
    "T1 = 1000 # K\n",
    "P1 = 22e5 # Pa\n",
    "P2 = 0.3e5 # Pa\n",
    "k = 1.4 # dato de tabla\n",
    "\n",
    "T2rev = T1*(P2/P1)**((k-1)/k)\n",
    "\n",
    "print('T2rev = %s K'%round(T2rev,2))"
   ]
  },
  {
   "cell_type": "markdown",
   "metadata": {},
   "source": [
    "$$ \\Delta s = s_2 - s_1 = c_p \\ln \\frac{T_2}{T_1} - R \\ln \\frac{P_2}{P_1}  $$\n",
    "Despejo $T_2$\n",
    "$$\\Rightarrow \\quad T_2 = T_1 \\, e^{[\\Delta s + R \\ln (P2/P1)]/c_p}$$"
   ]
  },
  {
   "cell_type": "code",
   "execution_count": 23,
   "metadata": {},
   "outputs": [],
   "source": [
    "import math as math"
   ]
  },
  {
   "cell_type": "code",
   "execution_count": 24,
   "metadata": {},
   "outputs": [
    {
     "name": "stdout",
     "output_type": "stream",
     "text": [
      "T2 = 458.86 K\n"
     ]
    }
   ],
   "source": [
    "m = 4 # kg/s\n",
    "cp = 1.0047e3 # J/kg·K\n",
    "R = 0.287e3 # J/kg·K\n",
    "Delta_s = 1.8e3/m # J/K\n",
    "\n",
    "T2 = T1*math.exp((Delta_s + R*math.log(P2/P1))/cp)\n",
    "\n",
    "print('T2 = %s K'%round(T2,2))"
   ]
  },
  {
   "cell_type": "markdown",
   "metadata": {},
   "source": [
    "### Trabajo real y trabajo reversible (ideal)\n",
    "$$\\left\\{\n",
    "\\begin{array}{l}\n",
    "h_1 = T_1 \\, c_p \\\\\n",
    " h_2 = T_2 \\, c_p \\\\\n",
    " h_{2rev} = T_{2rev} \\, c_p \n",
    "\\end{array} \n",
    "\\right.\n",
    "\\quad \\rightarrow \\quad \n",
    "\\begin{array}{l}\n",
    "\\dot{W} = \\dot{m} \\, (h_1 - h_2) \\\\\n",
    "\\dot{W}_{rev} = \\dot{m} \\, (h_1 - h_{2rev})\n",
    "\\end{array}\n",
    "$$"
   ]
  },
  {
   "cell_type": "code",
   "execution_count": 25,
   "metadata": {},
   "outputs": [
    {
     "name": "stdout",
     "output_type": "stream",
     "text": [
      "Wrev = 2840.78 kW\n",
      "W = 2174.73 kW\n"
     ]
    }
   ],
   "source": [
    "# Calculamos entalpías\n",
    "h1 = T1*cp\n",
    "h2rev = T2rev*cp\n",
    "h2 = T2*cp\n",
    "\n",
    "# Calculamos trabajos\n",
    "Wrev = m*(h1 - h2rev)\n",
    "W = m*(h1 - h2)\n",
    "\n",
    "print('Wrev = %s kW'%round(Wrev/1000,2))\n",
    "print('W = %s kW'%round(W/1000,2))"
   ]
  },
  {
   "cell_type": "code",
   "execution_count": 14,
   "metadata": {},
   "outputs": [],
   "source": [
    "%reset -s -f"
   ]
  },
  {
   "cell_type": "markdown",
   "metadata": {},
   "source": [
    "# Ejercicio 43\n",
    "![43.png](img/43.png)\n",
    "\n",
    "1. $\\dot{W}$\n",
    "2. Estado vapor 4 (P,t,x)\n",
    "3. $\\Delta \\dot{S}_u$"
   ]
  },
  {
   "cell_type": "markdown",
   "metadata": {},
   "source": [
    "## Solución"
   ]
  },
  {
   "cell_type": "code",
   "execution_count": 42,
   "metadata": {},
   "outputs": [],
   "source": [
    "import CoolProp.CoolProp as cp"
   ]
  },
  {
   "cell_type": "code",
   "execution_count": 2,
   "metadata": {},
   "outputs": [
    {
     "data": {
      "text/plain": [
       "'gas'"
      ]
     },
     "execution_count": 2,
     "metadata": {},
     "output_type": "execute_result"
    }
   ],
   "source": [
    "# Estado en 1\n",
    "m1 = 1.25 # kg/s\n",
    "P1 = 10.5e5 # Pa\n",
    "T1 = 250 + 273.15 # K\n",
    "\n",
    "cp.PhaseSI('P',P1,'T',T1,'Water')"
   ]
  },
  {
   "cell_type": "code",
   "execution_count": 3,
   "metadata": {},
   "outputs": [
    {
     "name": "stdout",
     "output_type": "stream",
     "text": [
      "h1 = 2941.26 kJ/kg\n",
      "s1 = 6.90124 kJ/kg\n"
     ]
    }
   ],
   "source": [
    "h1 = cp.PropsSI('H','P',P1,'T',T1,'Water')\n",
    "s1 = cp.PropsSI('S','P',P1,'T',T1,'Water')\n",
    "\n",
    "print('h1 = %s kJ/kg'%round(h1/1000,2))\n",
    "print('s1 = %s kJ/kg'%round(s1/1000,5))"
   ]
  },
  {
   "cell_type": "code",
   "execution_count": 4,
   "metadata": {},
   "outputs": [
    {
     "name": "stdout",
     "output_type": "stream",
     "text": [
      "h2 = 2617.47 kJ/kg\n"
     ]
    }
   ],
   "source": [
    "P2 = 2e5 # Pa\n",
    "s2rev = s1 # Para un proceso reversible\n",
    "\n",
    "h2 = cp.PropsSI('H','P',P2,'S',s2rev,'Water')\n",
    "\n",
    "print('h2 = %s kJ/kg'%round(h2/1000,2))"
   ]
  },
  {
   "cell_type": "markdown",
   "metadata": {},
   "source": [
    "$$ \\eta_{iso(s)} = \\frac{W_{real}}{W_{ideal}} = \\frac{h_1 - h_{2real}}{h_1 - h_2} $$\n",
    "\n",
    "$$ h_{2real} = h_1 - \\eta_{iso} \\, (h_1 - h_2) $$"
   ]
  },
  {
   "cell_type": "code",
   "execution_count": 5,
   "metadata": {},
   "outputs": [
    {
     "name": "stdout",
     "output_type": "stream",
     "text": [
      "h2real = 2682.23 kJ/kg\n"
     ]
    }
   ],
   "source": [
    "eta_iso = 0.8\n",
    "\n",
    "h2real = h1 - eta_iso*(h1 - h2)\n",
    "\n",
    "print('h2real = %s kJ/kg'%round(h2real/1000,2))"
   ]
  },
  {
   "cell_type": "code",
   "execution_count": 6,
   "metadata": {},
   "outputs": [
    {
     "name": "stdout",
     "output_type": "stream",
     "text": [
      "W = 323.79 kW\n"
     ]
    }
   ],
   "source": [
    "W = m1*(h1 - h2real)\n",
    "\n",
    "print('W = %s kW'%round(W/1000,2) )"
   ]
  },
  {
   "cell_type": "code",
   "execution_count": 7,
   "metadata": {},
   "outputs": [
    {
     "name": "stdout",
     "output_type": "stream",
     "text": [
      "T2 = 393.36 K\n",
      "T2 = 120.21°C\n"
     ]
    }
   ],
   "source": [
    "T2 = cp.PropsSI('T','P',P2,'H',h2real,'Water')\n",
    "\n",
    "print('T2 = %s K'%round(T2,2))\n",
    "print('T2 = %s°C'%round(T2-273.15,2))"
   ]
  },
  {
   "cell_type": "markdown",
   "metadata": {},
   "source": [
    "$$ \\dot{E}_{in} - \\dot{E}_{out} = \\Delta \\dot{E}_{system}  = 0 $$\n",
    "\n",
    "$$ m_2 + m_3 = m_4 $$\n",
    "\n",
    "$$ \\dot{m}_2 h_2 + \\dot{m}_3 h_3 = \\dot{m}_4 h_4 $$\n",
    "\n",
    "$$ \\dot{m}_2 h_2 + \\dot{m}_3 h_3 = (\\dot{m}_2 + \\dot{m}_3) h_4 $$\n",
    "\n",
    "$$ h_4 = \\frac{\\dot{m}_2 h_2 + \\dot{m}_3 h_3}{\\dot{m}_2 + \\dot{m}_3} $$"
   ]
  },
  {
   "cell_type": "code",
   "execution_count": 8,
   "metadata": {},
   "outputs": [
    {
     "name": "stdout",
     "output_type": "stream",
     "text": [
      "h3 = 2951.11 kJ/kg\n"
     ]
    }
   ],
   "source": [
    "m3 = 3 # kg\n",
    "T3 = 240 + 273.15 # K\n",
    "P3 = P2\n",
    "\n",
    "h3 = cp.PropsSI('H','P',P3,'T',T3,'Water')\n",
    "print('h3 = %s kJ/kg'%round(h3/1000,2))"
   ]
  },
  {
   "cell_type": "code",
   "execution_count": 10,
   "metadata": {},
   "outputs": [
    {
     "name": "stdout",
     "output_type": "stream",
     "text": [
      "h4 = 2872.03 kJ/kg\n",
      "T4 = 473.8 K\n",
      "T4 = 200.65°C\n"
     ]
    },
    {
     "data": {
      "text/plain": [
       "'gas'"
      ]
     },
     "execution_count": 10,
     "metadata": {},
     "output_type": "execute_result"
    }
   ],
   "source": [
    "P4 = P2\n",
    "m2 = m1\n",
    "\n",
    "h4 = (m2*h2real + m3*h3)/(m2 + m3)\n",
    "T4 = cp.PropsSI('T','P',P4,'H',h4,'Water')\n",
    "ph = cp.PhaseSI('P',P4,'H',h4,'Water')\n",
    "\n",
    "print('h4 = %s kJ/kg'%round(h4/1000,2))\n",
    "print('T4 = %s K'%round(T4,2))\n",
    "print('T4 = %s°C'%round(T4-273.15,2))\n",
    "ph"
   ]
  },
  {
   "cell_type": "markdown",
   "metadata": {},
   "source": [
    " $$ \\Delta S_u = \\overbrace{ \\Delta S_m}^0 + \\Delta S_s = m_4  s_4 -  (m_1  s_1 + m_3  s_3) $$"
   ]
  },
  {
   "cell_type": "code",
   "execution_count": 15,
   "metadata": {},
   "outputs": [
    {
     "name": "stdout",
     "output_type": "stream",
     "text": [
      "s3 = 7.6712 kJ/kg·K\n",
      "s4 = 7.5108 kJ/kg·K\n"
     ]
    }
   ],
   "source": [
    "m4 = m2 + m3\n",
    "s3 = cp.PropsSI('S','P',P3,'T',T3,'Water')\n",
    "s4 = cp.PropsSI('S','P',P4,'T',T4,'Water')\n",
    "\n",
    "print('s3 = %s kJ/kg·K'%round(s3/1000,4))\n",
    "print('s4 = %s kJ/kg·K'%round(s4/1000,4))"
   ]
  },
  {
   "cell_type": "code",
   "execution_count": 17,
   "metadata": {},
   "outputs": [
    {
     "name": "stdout",
     "output_type": "stream",
     "text": [
      "DSu = 0.2809\n"
     ]
    }
   ],
   "source": [
    "DSu = m4*s4 - (m1*s1 + m3*s3)\n",
    "\n",
    "print('DSu = %s'%round(DSu/1000,4))"
   ]
  },
  {
   "cell_type": "code",
   "execution_count": 18,
   "metadata": {},
   "outputs": [],
   "source": [
    "%reset -s -f"
   ]
  },
  {
   "cell_type": "markdown",
   "metadata": {},
   "source": [
    "# Ejercicio 44\n",
    "![44.png](img/44.png)\n",
    "Calcular:\n",
    "1. $\\dot{Q}$\n",
    "2. $\\Delta \\dot{S}_u$\n",
    "3. $\\eta_{iso(turbina)}$\n",
    "4. $\\dot{W}_{perdido}$"
   ]
  },
  {
   "cell_type": "markdown",
   "metadata": {},
   "source": [
    "## Solución"
   ]
  },
  {
   "cell_type": "code",
   "execution_count": 27,
   "metadata": {},
   "outputs": [],
   "source": [
    "import CoolProp.CoolProp as cp"
   ]
  },
  {
   "cell_type": "code",
   "execution_count": 28,
   "metadata": {},
   "outputs": [
    {
     "name": "stdout",
     "output_type": "stream",
     "text": [
      "h1 = 2777.11 kJ/kg\n",
      "s1 = 6.585 kJ/kg\n",
      "T1 = 453.03 K = 179.88°C\n"
     ]
    }
   ],
   "source": [
    "m1 = 5 # kg\n",
    "P1 = 10e5 # Pa\n",
    "x1 = 1\n",
    "\n",
    "h1 = cp.PropsSI('H','P',P1,'Q',x1,'Water')\n",
    "s1 = cp.PropsSI('S','P',P1,'Q',x1,'Water')\n",
    "T1 = cp.PropsSI('T','P',P1,'Q',x1,'Water')\n",
    "\n",
    "print('h1 = %s kJ/kg'%round(h1/1000,2))\n",
    "print('s1 = %s kJ/kg'%round(s1/1000,4))\n",
    "print('T1 = %s K = %s°C'%(round(T1,2),round(T1-273.15,2)))"
   ]
  },
  {
   "cell_type": "code",
   "execution_count": 29,
   "metadata": {},
   "outputs": [
    {
     "name": "stdout",
     "output_type": "stream",
     "text": [
      "fase 3 = gas\n",
      "h2 = 2903.24 kJ/kg\n",
      "s2 = 6.5475 kJ/kg·K\n",
      "h3 = 2903.24 kJ/kg\n",
      "s3 = 6.8489 kJ/kg·K\n",
      "T3 = 505.3 K = 232.15°C\n"
     ]
    }
   ],
   "source": [
    "P2 = 20e5 # Pa\n",
    "T2 = 250 + 273.15 # K\n",
    "P3 = P1\n",
    "\n",
    "ph3 = cp.PhaseSI('P',P2,'T',T2,'Water')\n",
    "print('fase 3 = %s'%ph3)\n",
    "h2 = cp.PropsSI('H','P',P2,'T',T2,'Water')\n",
    "s2 = cp.PropsSI('S','P',P2,'T',T2,'Water')\n",
    "h3 = h2\n",
    "s3 = cp.PropsSI('S','P',P3,'H',h3,'Water')\n",
    "T3 = cp.PropsSI('T','P',P3,'H',h3,'Water')\n",
    "\n",
    "print('h2 = %s kJ/kg'%round(h2/1000,2))\n",
    "print('s2 = %s kJ/kg·K'%round(s2/1000,4))\n",
    "print('h3 = %s kJ/kg'%round(h3/1000,2))\n",
    "print('s3 = %s kJ/kg·K'%round(s3/1000,4))\n",
    "print('T3 = %s K = %s°C'%(round(T3,2),round(T3 - 273.15,2)))"
   ]
  },
  {
   "cell_type": "code",
   "execution_count": 30,
   "metadata": {},
   "outputs": [
    {
     "name": "stdout",
     "output_type": "stream",
     "text": [
      "h5 = 3158.18 kJ/kg\n",
      "s5 = 7.3029 kJ/kg·K\n"
     ]
    }
   ],
   "source": [
    "P4 = P1\n",
    "P5 = P3\n",
    "T5 = 350 + 273.15 # K\n",
    "\n",
    "h5 = cp.PropsSI('H','P',P5,'T',T5,'Water')\n",
    "s5 = cp.PropsSI('S','P',P5,'T',T5,'Water')\n",
    "\n",
    "print('h5 = %s kJ/kg'%round(h5/1000,2))\n",
    "print('s5 = %s kJ/kg·K'%round(s5/1000,4))"
   ]
  },
  {
   "cell_type": "code",
   "execution_count": 31,
   "metadata": {},
   "outputs": [
    {
     "name": "stdout",
     "output_type": "stream",
     "text": [
      "h6 = 2636.05 kJ/kg\n",
      "s6 = 7.669 kJ/kg·K\n",
      "T6 = 349.01 K = 232.15°C\n"
     ]
    }
   ],
   "source": [
    "P6 = 0.4e5 # Pa\n",
    "x6 = 1\n",
    "\n",
    "h6 = cp.PropsSI('H','P',P6,'Q',x6,'Water')\n",
    "s6 = cp.PropsSI('S','P',P6,'Q',x6,'Water')\n",
    "T6 = cp.PropsSI('T','P',P6,'Q',x6,'Water')\n",
    "\n",
    "print('h6 = %s kJ/kg'%round(h6/1000,2))\n",
    "print('s6 = %s kJ/kg·K'%round(s6/1000,4))\n",
    "print('T6 = %s K = %s°C'%(round(T6,2),round(T3 - 273.15,2)))"
   ]
  },
  {
   "cell_type": "code",
   "execution_count": 32,
   "metadata": {},
   "outputs": [
    {
     "name": "stdout",
     "output_type": "stream",
     "text": [
      "m5 = 9.58 kg\n"
     ]
    }
   ],
   "source": [
    "W = 5000e3 # W\n",
    "\n",
    "m5 = W/(h5 - h6)\n",
    "\n",
    "print('m5 = %s kg'%round(m5,2))"
   ]
  },
  {
   "cell_type": "markdown",
   "metadata": {},
   "source": [
    "$$ \\dot{E}_{in} - \\dot{E}_{out} = \\Delta \\dot{E}_{system}  = 0 $$\n",
    "\n",
    "$$ m_1 + m_3 = m_4 $$\n",
    "\n",
    "$$ \\dot{m}_1 h_1 + \\dot{m}_3 h_3 = \\dot{m}_4 h_4 $$\n",
    "\n",
    "$$ h_4 = \\frac{ \\dot{m}_1 h_1 + \\dot{m}_3 h_3 }{ \\dot{m}_4 } $$"
   ]
  },
  {
   "cell_type": "code",
   "execution_count": 33,
   "metadata": {},
   "outputs": [
    {
     "name": "stdout",
     "output_type": "stream",
     "text": [
      "h4 = 2837.38 kJ/kg\n"
     ]
    }
   ],
   "source": [
    "m4 = m5\n",
    "m3 = m4 - m1\n",
    "\n",
    "h4 = (m1*h1 + m3*h3)/m4\n",
    "\n",
    "print('h4 = %s kJ/kg'%round(h4/1000,2))"
   ]
  },
  {
   "cell_type": "code",
   "execution_count": 43,
   "metadata": {},
   "outputs": [
    {
     "name": "stdout",
     "output_type": "stream",
     "text": [
      "s4 = 6.7147 kJ/kg·K\n",
      "T4 = 476.93 K = 203.78°C\n"
     ]
    }
   ],
   "source": [
    "s4 = cp.PropsSI('S','P',P4,'H',h4,'Water')\n",
    "T4 = cp.PropsSI('T','P',P4,'H',h4,'Water')\n",
    "\n",
    "print('s4 = %s kJ/kg·K'%round(s4/1000,4))\n",
    "print('T4 = %s K = %s°C'%(round(T4,2),round(T4 - 273.15,2)))"
   ]
  },
  {
   "cell_type": "code",
   "execution_count": 35,
   "metadata": {},
   "outputs": [
    {
     "name": "stdout",
     "output_type": "stream",
     "text": [
      "Q = 1400.24 J/s\n"
     ]
    }
   ],
   "source": [
    "cp = 1\n",
    "Q = cp*m4*(T5 - T4)\n",
    "\n",
    "print('Q = %s J/s'%round(Q,2))"
   ]
  },
  {
   "cell_type": "markdown",
   "metadata": {},
   "source": [
    "$$ \\eta_{iso(s)} = \\frac{W_{real}}{W_{ideal}} = \\frac{h_5 - h_{6real}}{h_5 - h_6} $$"
   ]
  },
  {
   "cell_type": "code",
   "execution_count": 44,
   "metadata": {},
   "outputs": [
    {
     "name": "stdout",
     "output_type": "stream",
     "text": [
      "h6rev = 2508.27 kJ/kg\n"
     ]
    }
   ],
   "source": [
    "s6rev = s5\n",
    "\n",
    "h6rev = cp.PropsSI('H','P',P6,'S',s6rev,'Water')\n",
    "\n",
    "print('h6rev = %s kJ/kg'%round(h6rev/1000,2))"
   ]
  },
  {
   "cell_type": "markdown",
   "metadata": {},
   "source": [
    "$$ \\eta_{iso(s)} = \\frac{W_{real}}{W_{ideal}} = \\frac{h_5 - h_{6real}}{h_5 - h_6} $$"
   ]
  },
  {
   "cell_type": "code",
   "execution_count": 47,
   "metadata": {},
   "outputs": [
    {
     "name": "stdout",
     "output_type": "stream",
     "text": [
      "eta_iso = 0.8034\n"
     ]
    }
   ],
   "source": [
    "eta_iso = (h5 - h6)/(h5 - h6rev)\n",
    "\n",
    "print('eta_iso = %s'%round(eta_iso,4))"
   ]
  },
  {
   "cell_type": "code",
   "execution_count": 49,
   "metadata": {},
   "outputs": [
    {
     "name": "stdout",
     "output_type": "stream",
     "text": [
      "DSu = 3.506 kJ/Ks\n"
     ]
    }
   ],
   "source": [
    "# DSu = m5 * (s6 - s5)\n",
    "# print('DSu = %s kJ/Ks'%round(DSu/1000,4))"
   ]
  },
  {
   "cell_type": "markdown",
   "metadata": {},
   "source": [
    "[<-Previous ](https://nbviewer.jupyter.org/github/daniel-lorenzo/Termodinamica/blob/master/p06.ipynb)"
   ]
  }
 ],
 "metadata": {
  "kernelspec": {
   "display_name": "Python 3",
   "language": "python",
   "name": "python3"
  },
  "language_info": {
   "codemirror_mode": {
    "name": "ipython",
    "version": 3
   },
   "file_extension": ".py",
   "mimetype": "text/x-python",
   "name": "python",
   "nbconvert_exporter": "python",
   "pygments_lexer": "ipython3",
   "version": "3.7.3"
  }
 },
 "nbformat": 4,
 "nbformat_minor": 2
}
