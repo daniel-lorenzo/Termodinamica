{
 "cells": [
  {
   "cell_type": "markdown",
   "metadata": {},
   "source": [
    "## Ejemplo 8.1\n",
    "### Generación máxima de potencia de una turbina de viento\n",
    "\n",
    "Una turbina de viento con un rotor de 12 m de diámetro, como la que se\n",
    "muestra en la figura 8-6, será instalada en un sitio donde el viento sopla\n",
    "constantemente a una velocidad promedio de 10 m/s. Determine la potencia\n",
    "máxima que puede generar la turbina de viento.\n",
    "![c8-1.png](img/c8-1.png)"
   ]
  },
  {
   "cell_type": "markdown",
   "metadata": {},
   "source": [
    "### Solución \n",
    "El sistema es una turbina de viento que se instalará en un sitio especificado. Se determinará la potencia máxima que la turbina de viento puede generar.  \n",
    "__Suposición:__ El aire está en condiciones normales de 1 atm y 25 °C, por lo tanto su densidad es 1.18 kg/m3.  \n",
    "__Análisis:__ El aire que fluye con el viento tiene las mismas propiedades que el atmosférico que está estancado, sólo que posee una velocidad y por ende alguna energía cinética. Este aire alcanzará el estado muerto cuando se detenga por completo. Por consiguiente, la exergía del aire que sopla es simplemente la energía cinética que posee\n",
    "\n",
    "$$ ec = \\frac{v^2}{2} = \\mathrm{ \\frac{(10 \\; m/s)^2}{2} \\left( \\frac{1 \\; kJ/kg}{1000 \\; m^2/s^2} \\right) } $$"
   ]
  },
  {
   "cell_type": "code",
   "execution_count": 1,
   "metadata": {},
   "outputs": [
    {
     "name": "stdout",
     "output_type": "stream",
     "text": [
      "ec = 0.05 kJ/kg\n"
     ]
    }
   ],
   "source": [
    "V = 10 # m/s\n",
    "ec = V**2/2\n",
    "\n",
    "print('ec = %s kJ/kg'%round(ec/1000,4))"
   ]
  },
  {
   "cell_type": "markdown",
   "metadata": {},
   "source": [
    "Es decir, cada unidad de masa de aire que fluye a una velocidad de 10 m/s tiene un potencial de trabajo de 0.05 kJ/kg. En otros términos, una turbina de viento perfecta detendrá el aire completamente y capturará 0.05 kJ/kg de\n",
    "trabajo potencial. Para determinar la potencia máxima es necesario saber la cantidad de aire que atraviesa el rotor de la turbina de viento por unidad de tiempo, es decir, el flujo másico, el cual es\n",
    "\n",
    "$$ \\dot{m} = \\rho A V = \\rho \\frac{\\pi D^2}{4} V $$"
   ]
  },
  {
   "cell_type": "code",
   "execution_count": 2,
   "metadata": {},
   "outputs": [],
   "source": [
    "import math as m"
   ]
  },
  {
   "cell_type": "code",
   "execution_count": 3,
   "metadata": {},
   "outputs": [
    {
     "name": "stdout",
     "output_type": "stream",
     "text": [
      "m = 1334.55 kg/s\n"
     ]
    }
   ],
   "source": [
    "rho = 1.18 # kg/m^3\n",
    "D = 12 # m\n",
    "\n",
    "m = rho* (m.pi*D**2)/4 * V\n",
    "\n",
    "print('m = %s kg/s'%round(m,2))"
   ]
  },
  {
   "cell_type": "markdown",
   "metadata": {},
   "source": [
    "Por lo tanto,\n",
    "$$ \\mbox{Potencia máxima} = \\dot{m} \\, (ec) $$"
   ]
  },
  {
   "cell_type": "code",
   "execution_count": 4,
   "metadata": {},
   "outputs": [
    {
     "name": "stdout",
     "output_type": "stream",
     "text": [
      "Potmax = 66.73 kJ/kg\n"
     ]
    }
   ],
   "source": [
    "Potmax = m*ec\n",
    "\n",
    "print('Potmax = %s kJ/kg'%round(Potmax/1000,2))"
   ]
  },
  {
   "cell_type": "markdown",
   "metadata": {},
   "source": [
    "Ésta es la potencia máxima disponible de la turbina de viento. Si se supone una eficiencia de conversión de 30 por ciento, una turbina de viento real convertirá 20.0 kW a electricidad. Observe que en este caso el potencial de\n",
    "trabajo es igual a la energía cinética total del aire.  \n",
    "__Comentario:__ Aunque la energía cinética total del viento está disponible para la producción de potencia, la ley de Betz establece que la potencia de salida de una máquina de viento está en un máximo cuando el viento se reduzca a un tercio de su velocidad inicial. Por consiguiente, para la potencia máxima (y por lo tanto el costo mínimo por potencia instalada), la eficiencia más alta de una turbina de viento es aproximadamente 59 por ciento. En la práctica, la eficiencia real tiene un rango entre 20 y 40 por ciento y es de alrededor de\n",
    "35 por ciento para muchas turbinas de viento.  \n",
    "La potencia del viento es adecuada para ser aprovechada cuando hay vientos constantes con una velocidad promedio de por lo menos 6 m/s (o 13 mph). Las recientes mejoras en el diseño de turbinas de viento han disminuido el\n",
    "costo de la generación de potencia del viento a aproximadamente 5 centavos de dólar por kWh, lo cual las vuelve competitivas respecto a la generación de electricidad por otros medios."
   ]
  },
  {
   "cell_type": "code",
   "execution_count": 5,
   "metadata": {},
   "outputs": [],
   "source": [
    "%reset -s -f"
   ]
  },
  {
   "cell_type": "markdown",
   "metadata": {},
   "source": [
    "## Ejemplo 8.3 \n",
    "### Tasa de irreversibilidad de una máquina térmica\n",
    "\n",
    "Una máquina térmica recibe calor de una fuente a 1 200 K a una tasa de 500 kJ/s y rechaza calor de desecho a un medio a 300 K (Fig. 8-11). La salida de potencia de la máquina térmica es 180 kW. Determine la potencia\n",
    "reversible y la tasa de irreversibilidad para este proceso.\n",
    "![c8-3.png](img/c8-3.png)"
   ]
  },
  {
   "cell_type": "markdown",
   "metadata": {},
   "source": [
    "### Solución \n",
    "Se considera la operación de una máquina térmica. Se determinará la potencia reversible y la tasa de irreversibilidad asociada con esta operación.  \n",
    "__Análisis:__ La potencia reversible para este proceso es la cantidad de potencia que una máquina térmica reversible, como la de Carnot, produciría al operar entre los mismos límites de temperatura, y se determina:\n",
    "\n",
    "$$ \\dot{W}_\\mathrm{rev} = \\eta_\\mathrm{tér,rev} \\dot{Q}_\\mathrm{ent}  = \\left( 1 - \\frac{T_\\mathrm{sumidero}}{T_\\mathrm{fuente}} \\right) \\dot{Q}_\\mathrm{ent} $$"
   ]
  },
  {
   "cell_type": "code",
   "execution_count": 6,
   "metadata": {},
   "outputs": [
    {
     "name": "stdout",
     "output_type": "stream",
     "text": [
      "W_revsal = 375.0 kW\n"
     ]
    }
   ],
   "source": [
    "T_H = 1200 # K\n",
    "T_L = 300 # K\n",
    "Q_H = 500 # kW\n",
    "\n",
    "W_revsal = (1 - T_L/T_H)*Q_H\n",
    "print('W_revsal = %s kW'%round(W_revsal,2))"
   ]
  },
  {
   "cell_type": "markdown",
   "metadata": {},
   "source": [
    "Ésta es la potencia máxima que puede producir una máquina térmica que opera entre los límites de temperatura especificados y que recibe calor a la tasa especificada. Esto también representaría la potencia disponible si 300 K fuera la temperatura más baja disponible para el rechazo de calor.  \n",
    "La tasa de irreversibilidad es la diferencia entre la potencia reversible (potencia máxima que podría producirse) y la salida de potencia útil:\n",
    "\n",
    "$$ \\dot{I} = \\dot{W}_\\mathrm{rev,sal} - \\dot{W}_{u,\\mathrm{sal}} $$"
   ]
  },
  {
   "cell_type": "code",
   "execution_count": 7,
   "metadata": {},
   "outputs": [
    {
     "name": "stdout",
     "output_type": "stream",
     "text": [
      "I = 195.0 kW\n"
     ]
    }
   ],
   "source": [
    "W_usal = 180 # kW\n",
    "\n",
    "I = W_revsal - W_usal\n",
    "\n",
    "print('I = %s kW'%round(I,2))"
   ]
  },
  {
   "cell_type": "markdown",
   "metadata": {},
   "source": [
    "__Comentario:__ Observe que 195 kW de potencia están desperdiciados durante este proceso como resultado de irreversibilidades. También, los 500 - 375 = 125 kW de calor desechados hacia el sumidero no están disponibles para ser convertidos a trabajo y por lo tanto no son parte de la irreversibilidad."
   ]
  },
  {
   "cell_type": "code",
   "execution_count": 8,
   "metadata": {},
   "outputs": [],
   "source": [
    "%reset -s -f"
   ]
  },
  {
   "cell_type": "markdown",
   "metadata": {},
   "source": [
    "## Ejemplo 8-4\n",
    "### Irreversibilidad durante el enfriamiento de un bloque de hierro\n",
    "Un bloque de hierro de 500 kg, el cual se muestra en la figura 8-12, está inicialmente a 200 °C y se deja enfriar a 27 °C transfiriendo calor hacia el aire de los alrededores que se halla a 27 °C. Determine el trabajo reversible y la irreversibilidad para este proceso.\n",
    "![c8-4.png](img/c8-4.png)"
   ]
  },
  {
   "cell_type": "markdown",
   "metadata": {},
   "source": [
    "### Solución\n",
    "Un bloque de hierro caliente se deja enfriar con el aire. Se determinarán el trabajo reversible y la  irreversibilidad asociados con este proceso.  \n",
    "__Suposiciones:__ \n",
    "1. Las energías cinética y potencial son insignificantes. \n",
    "2. El proceso no involucra interacciones de trabajo.\n",
    "\n",
    "__Análisis:__ Se considera el bloque de hierro como el sistema, el cual es un sistema cerrado porque ninguna masa cruza su frontera. Se observa que ese calor es perdido por el sistema.  \n",
    "Probablemente le sorprenda que se le esté pidiendo encontrar el “trabajo reversible” para un proceso que no involucra ninguna interacción de trabajo; ahora bien, aun cuando no se intenta producir trabajo durante este proceso, el potencial para realizarlo existe, y el trabajo reversible es una medida cuantitativa de este potencial.  \n",
    "El trabajo reversible en este caso se determina al considerar una serie de máquinas térmicas reversibles imaginarias que operan entre la fuente (a una temperatura variable T) y el sumidero (a una temperatura constante T0), como se muestra en la figura 8-13. Sumando su salida de trabajo:\n",
    "![c8-4.2.png](img/c8-4.2.png)\n",
    "\n",
    "$$ \\delta W_\\mathrm{rev} = \\eta_\\mathrm{tér,rev} \\delta{Q}_\\mathrm{ent} = \\left( 1 - \\frac{ T_\\mathrm{sumidero} }{ T_\\mathrm{fuente} } \\right) \\delta Q_\\mathrm{ent} = \\left( 1 - \\frac{T_0}{T} \\right) \\delta Q_\\mathrm{ent} $$\n",
    "y\n",
    "$$ W_\\mathrm{rev} = \\int \\left( 1 - \\frac{T_0}{T} \\right) \\delta Q_\\mathrm{ent} $$\n",
    "\n",
    "La temperatura T de la fuente cambia de T1 = 200 °C = 473 K a T0 = 27 °C = 300 K durante este proceso. Una relación para la diferencial de la transferencia de calor desde el bloque de hierro puede obtenerse de la forma\n",
    "diferencial del balance de energía aplicado al bloque de hierro,\n",
    "\n",
    "$$ \\underbrace{ \\delta E_\\mathrm{ent} - \\delta E_\\mathrm{sal} }_\\mathrm{Transferencia \\; neta \\; de \\; energía \\\\ por \\; calor, \\; trabajo \\; y \\; masa} = \\underbrace{ dE_\\mathrm{sistema} }_\\mathrm{Cambio \\; de \\; energías \\; interna, \\\\ cinética, \\; potencial, \\; etc.}  $$\n",
    "\n",
    "$$ - \\delta Q_\\mathrm{sal} = dU = mc_\\mathrm{prom} \\, dT $$\n",
    "\n",
    "Entondes,\n",
    "$$ \\delta Q_\\mathrm{entrada, máquina \\; térmica} = \\delta Q_\\mathrm{salida,sistema} = -mc_\\mathrm{prom} dT $$\n",
    "\n",
    "dado que las transferencias de calor del hierro y la máquina térmica son iguales en magnitud y opuestas en  dirección. Al sustituir e integrar, el trabajo reversible queda determinado por\n",
    "\n",
    "$$ W_\\mathrm{rev} = \\int_{T_1}^{T_0} \\left( 1 - \\frac{T_0}{T} \\right) (-mc_\\mathrm{prom} dT) = mc_\\mathrm{prom} (T_1 - T_0) - m c_\\mathrm{prom} T_0 \\ln \\frac{T_1}{T_0} $$"
   ]
  },
  {
   "cell_type": "code",
   "execution_count": null,
   "metadata": {},
   "outputs": [],
   "source": [
    "import sympy as sp # importa la librería sympy"
   ]
  },
  {
   "cell_type": "code",
   "execution_count": 9,
   "metadata": {},
   "outputs": [
    {
     "name": "stdout",
     "output_type": "stream",
     "text": [
      "W_rev = 8191.38 kW\n"
     ]
    }
   ],
   "source": [
    "# Usamos sympy para integrar la función (sólo para probar, ya habíamos integrado manualmente)\n",
    "T = sp.symbols('T') # defini T como variable\n",
    "T0 = 300.0 # K\n",
    "T1 = 473.0 # K\n",
    "m = 500.0 # kg\n",
    "c_pr = 0.45 # kJ/kg·K\n",
    "\n",
    "W_rev = sp.integrate( (1-T0/T)*(-m*c_pr),[T,T1,T0] )\n",
    "print('W_rev = %s kW'%round(W_rev,2))"
   ]
  },
  {
   "cell_type": "markdown",
   "metadata": {},
   "source": [
    "donde el valor del calor específico se obtiene de la tabla A.3. El primer término en la ecuación anterior $[Q = mc_\\mathrm{prom}(T_1 - T_0) = 38 925 \\; \\mathrm{kJ}]$ es la transferencia de calor total del bloque de hierro hacia la máquina térmica. El trabajo reversible para este problema es igual a 8 191 kJ, lo que significa que de los 38 925 kJ, 8 191 (21 por ciento) de calor transferidos desde el bloque de hierro hacia el aire del ambiente podrían convertirse en trabajo. Si la temperatura ambiente especificada de 27 °C es la más baja disponible de éste, el trabajo reversible determinado anteriormente también representa la exergía que es el potencial de trabajo máximo de la energía sensible contenida en el bloque de hierro."
   ]
  },
  {
   "cell_type": "code",
   "execution_count": 10,
   "metadata": {},
   "outputs": [
    {
     "name": "stdout",
     "output_type": "stream",
     "text": [
      "Q = 38925.0 kJ\n"
     ]
    }
   ],
   "source": [
    "Q = m*c_pr*(T1-T0)\n",
    "print('Q = %s kJ'%round(Q,2))"
   ]
  },
  {
   "cell_type": "markdown",
   "metadata": {},
   "source": [
    "La irreversibilidad para este proceso se determina a partir de su definición,\n",
    "\n",
    "$$ I = W_\\mathrm{rev} - W_u = 8191 - 0 = 8191 \\; \\mathrm{kJ} $$\n",
    "\n",
    "__Comentario:__ Para este caso, el trabajo reversible y la irreversibilidad (potencial de trabajo desechado) es lo mismo, ya que todo el potencial de trabajo se desecha. La fuente de irreversibilidad en este proceso es la transferencia de calor debida a una diferencia finita de temperatura."
   ]
  },
  {
   "cell_type": "code",
   "execution_count": 11,
   "metadata": {},
   "outputs": [],
   "source": [
    "%reset -s -f"
   ]
  },
  {
   "cell_type": "code",
   "execution_count": null,
   "metadata": {},
   "outputs": [],
   "source": []
  }
 ],
 "metadata": {
  "kernelspec": {
   "display_name": "Python 3",
   "language": "python",
   "name": "python3"
  },
  "language_info": {
   "codemirror_mode": {
    "name": "ipython",
    "version": 3
   },
   "file_extension": ".py",
   "mimetype": "text/x-python",
   "name": "python",
   "nbconvert_exporter": "python",
   "pygments_lexer": "ipython3",
   "version": "3.6.8"
  }
 },
 "nbformat": 4,
 "nbformat_minor": 2
}
