{
 "cells": [
  {
   "cell_type": "markdown",
   "metadata": {},
   "source": [
    "## Ejemplo 8.1\n",
    "### Generación máxima de potencia de una turbina de viento\n",
    "\n",
    "Una turbina de viento con un rotor de 12 m de diámetro, como la que se\n",
    "muestra en la figura 8-6, será instalada en un sitio donde el viento sopla\n",
    "constantemente a una velocidad promedio de 10 m/s. Determine la potencia\n",
    "máxima que puede generar la turbina de viento.\n",
    "![c8-1.png](img/c8-1.png)"
   ]
  },
  {
   "cell_type": "markdown",
   "metadata": {},
   "source": [
    "### Solución \n",
    "El sistema es una turbina de viento que se instalará en un sitio especificado. Se determinará la potencia máxima que la turbina de viento puede generar.  \n",
    "__Suposición:__ El aire está en condiciones normales de 1 atm y 25 °C, por lo tanto su densidad es 1.18 kg/m3.  \n",
    "__Análisis:__ El aire que fluye con el viento tiene las mismas propiedades que el atmosférico que está estancado, sólo que posee una velocidad y por ende alguna energía cinética. Este aire alcanzará el estado muerto cuando se detenga por completo. Por consiguiente, la exergía del aire que sopla es simplemente la energía cinética que posee\n",
    "\n",
    "$$ ec = \\frac{v^2}{2} = \\mathrm{ \\frac{(10 \\; m/s)^2}{2} \\left( \\frac{1 \\; kJ/kg}{1000 \\; m^2/s^2} \\right) } $$"
   ]
  },
  {
   "cell_type": "code",
   "execution_count": 1,
   "metadata": {},
   "outputs": [
    {
     "name": "stdout",
     "output_type": "stream",
     "text": [
      "ec = 0.05 kJ/kg\n"
     ]
    }
   ],
   "source": [
    "V = 10 # m/s\n",
    "ec = V**2/2\n",
    "\n",
    "print('ec = %s kJ/kg'%round(ec/1000,4))"
   ]
  },
  {
   "cell_type": "markdown",
   "metadata": {},
   "source": [
    "Es decir, cada unidad de masa de aire que fluye a una velocidad de 10 m/s tiene un potencial de trabajo de 0.05 kJ/kg. En otros términos, una turbina de viento perfecta detendrá el aire completamente y capturará 0.05 kJ/kg de\n",
    "trabajo potencial. Para determinar la potencia máxima es necesario saber la cantidad de aire que atraviesa el rotor de la turbina de viento por unidad de tiempo, es decir, el flujo másico, el cual es\n",
    "\n",
    "$$ \\dot{m} = \\rho A V = \\rho \\frac{\\pi D^2}{4} V $$"
   ]
  },
  {
   "cell_type": "code",
   "execution_count": 2,
   "metadata": {},
   "outputs": [],
   "source": [
    "import math as m"
   ]
  },
  {
   "cell_type": "code",
   "execution_count": 3,
   "metadata": {},
   "outputs": [
    {
     "name": "stdout",
     "output_type": "stream",
     "text": [
      "m = 1334.55 kg/s\n"
     ]
    }
   ],
   "source": [
    "rho = 1.18 # kg/m^3\n",
    "D = 12 # m\n",
    "\n",
    "m = rho* (m.pi*D**2)/4 * V\n",
    "\n",
    "print('m = %s kg/s'%round(m,2))"
   ]
  },
  {
   "cell_type": "markdown",
   "metadata": {},
   "source": [
    "Por lo tanto,\n",
    "$$ \\mbox{Potencia máxima} = \\dot{m} \\, (ec) $$"
   ]
  },
  {
   "cell_type": "code",
   "execution_count": 4,
   "metadata": {},
   "outputs": [
    {
     "name": "stdout",
     "output_type": "stream",
     "text": [
      "Potmax = 66.73 kJ/kg\n"
     ]
    }
   ],
   "source": [
    "Potmax = m*ec\n",
    "\n",
    "print('Potmax = %s kJ/kg'%round(Potmax/1000,2))"
   ]
  },
  {
   "cell_type": "markdown",
   "metadata": {},
   "source": [
    "Ésta es la potencia máxima disponible de la turbina de viento. Si se supone una eficiencia de conversión de 30 por ciento, una turbina de viento real convertirá 20.0 kW a electricidad. Observe que en este caso el potencial de\n",
    "trabajo es igual a la energía cinética total del aire.  \n",
    "__Comentario:__ Aunque la energía cinética total del viento está disponible para la producción de potencia, la ley de Betz establece que la potencia de salida de una máquina de viento está en un máximo cuando el viento se reduzca a un tercio de su velocidad inicial. Por consiguiente, para la potencia máxima (y por lo tanto el costo mínimo por potencia instalada), la eficiencia más alta de una turbina de viento es aproximadamente 59 por ciento. En la práctica, la eficiencia real tiene un rango entre 20 y 40 por ciento y es de alrededor de\n",
    "35 por ciento para muchas turbinas de viento.  \n",
    "La potencia del viento es adecuada para ser aprovechada cuando hay vientos constantes con una velocidad promedio de por lo menos 6 m/s (o 13 mph). Las recientes mejoras en el diseño de turbinas de viento han disminuido el\n",
    "costo de la generación de potencia del viento a aproximadamente 5 centavos de dólar por kWh, lo cual las vuelve competitivas respecto a la generación de electricidad por otros medios."
   ]
  },
  {
   "cell_type": "code",
   "execution_count": 5,
   "metadata": {},
   "outputs": [],
   "source": [
    "%reset -s -f"
   ]
  },
  {
   "cell_type": "markdown",
   "metadata": {},
   "source": [
    "## Ejemplo 8.3 \n",
    "### Tasa de irreversibilidad de una máquina térmica\n",
    "\n",
    "Una máquina térmica recibe calor de una fuente a 1 200 K a una tasa de 500 kJ/s y rechaza calor de desecho a un medio a 300 K (Fig. 8-11). La salida de potencia de la máquina térmica es 180 kW. Determine la potencia\n",
    "reversible y la tasa de irreversibilidad para este proceso.\n",
    "![c8-3.png](img/c8-3.png)"
   ]
  },
  {
   "cell_type": "markdown",
   "metadata": {},
   "source": [
    "### Solución \n",
    "Se considera la operación de una máquina térmica. Se determinará la potencia reversible y la tasa de irreversibilidad asociada con esta operación.  \n",
    "__Análisis:__ La potencia reversible para este proceso es la cantidad de potencia que una máquina térmica reversible, como la de Carnot, produciría al operar entre los mismos límites de temperatura, y se determina:\n",
    "\n",
    "$$ \\dot{W}_\\mathrm{rev} = \\eta_\\mathrm{tér,rev} \\dot{Q}_\\mathrm{ent}  = \\left( 1 - \\frac{T_\\mathrm{sumidero}}{T_\\mathrm{fuente}} \\right) \\dot{Q}_\\mathrm{ent} $$"
   ]
  },
  {
   "cell_type": "code",
   "execution_count": 6,
   "metadata": {},
   "outputs": [
    {
     "name": "stdout",
     "output_type": "stream",
     "text": [
      "W_revsal = 375.0 kW\n"
     ]
    }
   ],
   "source": [
    "T_H = 1200 # K\n",
    "T_L = 300 # K\n",
    "Q_H = 500 # kW\n",
    "\n",
    "W_revsal = (1 - T_L/T_H)*Q_H\n",
    "print('W_revsal = %s kW'%round(W_revsal,2))"
   ]
  },
  {
   "cell_type": "markdown",
   "metadata": {},
   "source": [
    "Ésta es la potencia máxima que puede producir una máquina térmica que opera entre los límites de temperatura especificados y que recibe calor a la tasa especificada. Esto también representaría la potencia disponible si 300 K fuera la temperatura más baja disponible para el rechazo de calor.  \n",
    "La tasa de irreversibilidad es la diferencia entre la potencia reversible (potencia máxima que podría producirse) y la salida de potencia útil:\n",
    "\n",
    "$$ \\dot{I} = \\dot{W}_\\mathrm{rev,sal} - \\dot{W}_{u,\\mathrm{sal}} $$"
   ]
  },
  {
   "cell_type": "code",
   "execution_count": 7,
   "metadata": {},
   "outputs": [
    {
     "name": "stdout",
     "output_type": "stream",
     "text": [
      "I = 195.0 kW\n"
     ]
    }
   ],
   "source": [
    "W_usal = 180 # kW\n",
    "\n",
    "I = W_revsal - W_usal\n",
    "\n",
    "print('I = %s kW'%round(I,2))"
   ]
  },
  {
   "cell_type": "markdown",
   "metadata": {},
   "source": [
    "__Comentario:__ Observe que 195 kW de potencia están desperdiciados durante este proceso como resultado de irreversibilidades. También, los 500 - 375 = 125 kW de calor desechados hacia el sumidero no están disponibles para ser convertidos a trabajo y por lo tanto no son parte de la irreversibilidad."
   ]
  },
  {
   "cell_type": "code",
   "execution_count": 8,
   "metadata": {},
   "outputs": [],
   "source": [
    "%reset -s -f"
   ]
  },
  {
   "cell_type": "markdown",
   "metadata": {},
   "source": [
    "## Ejemplo 8-4\n",
    "### Irreversibilidad durante el enfriamiento de un bloque de hierro\n",
    "Un bloque de hierro de 500 kg, el cual se muestra en la figura 8-12, está inicialmente a 200 °C y se deja enfriar a 27 °C transfiriendo calor hacia el aire de los alrededores que se halla a 27 °C. Determine el trabajo reversible y la irreversibilidad para este proceso.\n",
    "![c8-4.png](img/c8-4.png)"
   ]
  },
  {
   "cell_type": "markdown",
   "metadata": {},
   "source": [
    "### Solución\n",
    "Un bloque de hierro caliente se deja enfriar con el aire. Se determinarán el trabajo reversible y la  irreversibilidad asociados con este proceso.  \n",
    "__Suposiciones:__ \n",
    "1. Las energías cinética y potencial son insignificantes. \n",
    "2. El proceso no involucra interacciones de trabajo.\n",
    "\n",
    "__Análisis:__ Se considera el bloque de hierro como el sistema, el cual es un sistema cerrado porque ninguna masa cruza su frontera. Se observa que ese calor es perdido por el sistema.  \n",
    "Probablemente le sorprenda que se le esté pidiendo encontrar el “trabajo reversible” para un proceso que no involucra ninguna interacción de trabajo; ahora bien, aun cuando no se intenta producir trabajo durante este proceso, el potencial para realizarlo existe, y el trabajo reversible es una medida cuantitativa de este potencial.  \n",
    "El trabajo reversible en este caso se determina al considerar una serie de máquinas térmicas reversibles imaginarias que operan entre la fuente (a una temperatura variable T) y el sumidero (a una temperatura constante T0), como se muestra en la figura 8-13. Sumando su salida de trabajo:\n",
    "![c8-4.2.png](img/c8-4.2.png)\n",
    "\n",
    "$$ \\delta W_\\mathrm{rev} = \\eta_\\mathrm{tér,rev} \\delta{Q}_\\mathrm{ent} = \\left( 1 - \\frac{ T_\\mathrm{sumidero} }{ T_\\mathrm{fuente} } \\right) \\delta Q_\\mathrm{ent} = \\left( 1 - \\frac{T_0}{T} \\right) \\delta Q_\\mathrm{ent} $$\n",
    "y\n",
    "$$ W_\\mathrm{rev} = \\int \\left( 1 - \\frac{T_0}{T} \\right) \\delta Q_\\mathrm{ent} $$\n",
    "\n",
    "La temperatura T de la fuente cambia de T1 = 200 °C = 473 K a T0 = 27 °C = 300 K durante este proceso. Una relación para la diferencial de la transferencia de calor desde el bloque de hierro puede obtenerse de la forma\n",
    "diferencial del balance de energía aplicado al bloque de hierro,\n",
    "\n",
    "$$ \\underbrace{ \\delta E_\\mathrm{ent} - \\delta E_\\mathrm{sal} }_\\mathrm{Transferencia \\; neta \\; de \\; energía \\\\ por \\; calor, \\; trabajo \\; y \\; masa} = \\underbrace{ dE_\\mathrm{sistema} }_\\mathrm{Cambio \\; de \\; energías \\; interna, \\\\ cinética, \\; potencial, \\; etc.}  $$\n",
    "\n",
    "$$ - \\delta Q_\\mathrm{sal} = dU = mc_\\mathrm{prom} \\, dT $$\n",
    "\n",
    "Entondes,\n",
    "$$ \\delta Q_\\mathrm{entrada, máquina \\; térmica} = \\delta Q_\\mathrm{salida,sistema} = -mc_\\mathrm{prom} dT $$\n",
    "\n",
    "dado que las transferencias de calor del hierro y la máquina térmica son iguales en magnitud y opuestas en  dirección. Al sustituir e integrar, el trabajo reversible queda determinado por\n",
    "\n",
    "$$ W_\\mathrm{rev} = \\int_{T_1}^{T_0} \\left( 1 - \\frac{T_0}{T} \\right) (-mc_\\mathrm{prom} dT) = mc_\\mathrm{prom} (T_1 - T_0) - m c_\\mathrm{prom} T_0 \\ln \\frac{T_1}{T_0} $$"
   ]
  },
  {
   "cell_type": "code",
   "execution_count": null,
   "metadata": {},
   "outputs": [],
   "source": [
    "import sympy as sp # importa la librería sympy"
   ]
  },
  {
   "cell_type": "code",
   "execution_count": 9,
   "metadata": {},
   "outputs": [
    {
     "name": "stdout",
     "output_type": "stream",
     "text": [
      "W_rev = 8191.38 kW\n"
     ]
    }
   ],
   "source": [
    "# Usamos sympy para integrar la función (sólo para probar, ya habíamos integrado manualmente)\n",
    "T = sp.symbols('T') # defini T como variable\n",
    "T0 = 300.0 # K\n",
    "T1 = 473.0 # K\n",
    "m = 500.0 # kg\n",
    "c_pr = 0.45 # kJ/kg·K\n",
    "\n",
    "W_rev = sp.integrate( (1-T0/T)*(-m*c_pr),[T,T1,T0] )\n",
    "print('W_rev = %s kW'%round(W_rev,2))"
   ]
  },
  {
   "cell_type": "markdown",
   "metadata": {},
   "source": [
    "donde el valor del calor específico se obtiene de la tabla A.3. El primer término en la ecuación anterior $[Q = mc_\\mathrm{prom}(T_1 - T_0) = 38 925 \\; \\mathrm{kJ}]$ es la transferencia de calor total del bloque de hierro hacia la máquina térmica. El trabajo reversible para este problema es igual a 8 191 kJ, lo que significa que de los 38 925 kJ, 8 191 (21 por ciento) de calor transferidos desde el bloque de hierro hacia el aire del ambiente podrían convertirse en trabajo. Si la temperatura ambiente especificada de 27 °C es la más baja disponible de éste, el trabajo reversible determinado anteriormente también representa la exergía que es el potencial de trabajo máximo de la energía sensible contenida en el bloque de hierro."
   ]
  },
  {
   "cell_type": "code",
   "execution_count": 10,
   "metadata": {},
   "outputs": [
    {
     "name": "stdout",
     "output_type": "stream",
     "text": [
      "Q = 38925.0 kJ\n"
     ]
    }
   ],
   "source": [
    "Q = m*c_pr*(T1-T0)\n",
    "\n",
    "print('Q = %s kJ'%round(Q,2))"
   ]
  },
  {
   "cell_type": "markdown",
   "metadata": {},
   "source": [
    "La irreversibilidad para este proceso se determina a partir de su definición,\n",
    "\n",
    "$$ I = W_\\mathrm{rev} - W_u = 8191 - 0 = 8191 \\; \\mathrm{kJ} $$\n",
    "\n",
    "__Comentario:__ Para este caso, el trabajo reversible y la irreversibilidad (potencial de trabajo desechado) es lo mismo, ya que todo el potencial de trabajo se desecha. La fuente de irreversibilidad en este proceso es la transferencia de calor debida a una diferencia finita de temperatura."
   ]
  },
  {
   "cell_type": "code",
   "execution_count": 11,
   "metadata": {},
   "outputs": [],
   "source": [
    "%reset -s -f"
   ]
  },
  {
   "cell_type": "markdown",
   "metadata": {},
   "source": [
    "# Ejercicio 8-17\n",
    "¿Qué porción de la energía térmica de 100 kJ a 800 K se puede convertir a trabajo útil? Suponga que el entorno está a 25°C.?\n",
    "\n",
    "![8-17.png](img/8-17.png)"
   ]
  },
  {
   "cell_type": "markdown",
   "metadata": {},
   "source": [
    "## Solución\n",
    "Un cuerpo contiene una cantidad específica de energía térmica a una temperatura específica. Se determinará la cantidad que se puede convertir en trabajo.\n",
    "\n",
    "__Análisis:__\n",
    "La cantidad de calor que se puede convertir en trabajo es simplemente la cantidad que un motor de calor reversible puede convertir en trabajo,"
   ]
  },
  {
   "cell_type": "markdown",
   "metadata": {},
   "source": [
    "$$ \\eta_\\mathrm{th,rev} = 1 - \\frac{T_0}{T_H} $$"
   ]
  },
  {
   "cell_type": "code",
   "execution_count": 1,
   "metadata": {},
   "outputs": [
    {
     "name": "stdout",
     "output_type": "stream",
     "text": [
      "eta_rev = 0.6275\n"
     ]
    }
   ],
   "source": [
    "T_0 = 298 # K\n",
    "T_H = 800 # K\n",
    "\n",
    "eta_rev = 1 - T_0/T_H\n",
    "\n",
    "print('eta_rev = %s'%round(eta_rev,4))"
   ]
  },
  {
   "cell_type": "markdown",
   "metadata": {},
   "source": [
    "$$ W_\\mathrm{max,out} = W_\\mathrm{rev,out} = \\eta_\\mathrm{th,rev} Q_\\mathrm{in} $$"
   ]
  },
  {
   "cell_type": "code",
   "execution_count": 2,
   "metadata": {},
   "outputs": [
    {
     "name": "stdout",
     "output_type": "stream",
     "text": [
      "W_max = 62.75 kJ\n"
     ]
    }
   ],
   "source": [
    "Q_in = 100 # kJ\n",
    "\n",
    "W_max = eta_rev*Q_in\n",
    "\n",
    "print('W_max = %s kJ'%round(W_max,2))"
   ]
  },
  {
   "cell_type": "code",
   "execution_count": 3,
   "metadata": {},
   "outputs": [],
   "source": [
    "%reset -s -f"
   ]
  },
  {
   "cell_type": "markdown",
   "metadata": {},
   "source": [
    "# Ejercicio 8-18\n",
    "Una máquina térmica que recibe calor de un horno a 1200°C y rechaza calor de desecho a un río a 20°C tiene una eficiencia térmica de 40 por ciento. Determinar la eficiencia de la segunda ley de esta planta de potencia.\n",
    "\n",
    "![8-18.png](img/8-18.png)"
   ]
  },
  {
   "cell_type": "markdown",
   "metadata": {},
   "source": [
    "## Solución\n",
    "Se da la eficiencia térmica de un motor térmico que funciona entre los límites de temperatura especificados. La eficiencia de la segunda ley de un motor debe determinarse.\n",
    "\n",
    "__Análisis:__ La eficiencia térmica de un motor térmico reversible que funciona entre los mismos depósitos de temperatura es\n",
    "\n",
    "$$ \\eta_\\mathrm{th,rev} = 1 - \\frac{T_0}{T_H} $$"
   ]
  },
  {
   "cell_type": "code",
   "execution_count": 4,
   "metadata": {},
   "outputs": [
    {
     "name": "stdout",
     "output_type": "stream",
     "text": [
      "eta_rev = 0.801\n"
     ]
    }
   ],
   "source": [
    "T_0 = 20 + 273.15 # K\n",
    "T_H = 1200 + 273.15 # K\n",
    "\n",
    "eta_rev = 1 - T_0/T_H\n",
    "\n",
    "print('eta_rev = %s'%round(eta_rev,4))"
   ]
  },
  {
   "cell_type": "markdown",
   "metadata": {},
   "source": [
    "Así,\n",
    "$$ \\eta_{II} = \\frac{\\eta_\\mathrm{th}}{\\eta_\\mathrm{th,rev}} $$"
   ]
  },
  {
   "cell_type": "code",
   "execution_count": 5,
   "metadata": {},
   "outputs": [
    {
     "name": "stdout",
     "output_type": "stream",
     "text": [
      "eta_II = 0.4994\n",
      "eta_II = 49.94%\n"
     ]
    }
   ],
   "source": [
    "eta_th = 0.40\n",
    "\n",
    "eta_II = eta_th/eta_rev\n",
    "\n",
    "print('eta_II = %s'%round(eta_II,4))\n",
    "print('eta_II = %s%%'%round(eta_II*100,2))"
   ]
  },
  {
   "cell_type": "markdown",
   "metadata": {},
   "source": [
    "# Ejercicio 8-19\n",
    "Considere un depósito de energía térmica a 1500K que puede suministrar calor a razón de 150000 kJ/h. Determinar la exergía de esta energía suministrada, suponiendo una temperatura de 25°C.\n",
    "\n",
    "![8-19.png](img/8-19.png)"
   ]
  },
  {
   "cell_type": "markdown",
   "metadata": {},
   "source": [
    "## Solución\n",
    "Un depósito de calor a una temperatura específica puede suministrar calor a una velocidad especificada. Se determinará la exergía de este calor suministrado.\n",
    "\n",
    "__Análisis:__\n",
    "La exergía del calor suministrado, en forma de velocidad, es la cantidad de energía que produciría un motor térmico reversible,"
   ]
  },
  {
   "cell_type": "markdown",
   "metadata": {},
   "source": [
    "$$ \\eta_\\mathrm{th,max} = \\eta_\\mathrm{th,rev} = 1 - \\frac{T_0}{T_H} $$"
   ]
  },
  {
   "cell_type": "code",
   "execution_count": 6,
   "metadata": {},
   "outputs": [
    {
     "name": "stdout",
     "output_type": "stream",
     "text": [
      "eta_rev = 0.8013\n"
     ]
    }
   ],
   "source": [
    "T_0 = 298 # K\n",
    "T_H = 1500 # K\n",
    "\n",
    "eta_rev = 1 - T_0/T_H\n",
    "\n",
    "print('eta_rev = %s'%round(eta_rev,4))"
   ]
  },
  {
   "cell_type": "markdown",
   "metadata": {},
   "source": [
    "$$ \\mathrm{Exergy} = \\dot{W}_\\mathrm{max,out} = \\dot{W}_\\mathrm{rev,out} = \\eta_\\mathrm{th,rev} \\dot{Q}_\\mathrm{in} $$"
   ]
  },
  {
   "cell_type": "code",
   "execution_count": 8,
   "metadata": {},
   "outputs": [
    {
     "name": "stdout",
     "output_type": "stream",
     "text": [
      "Exergy = 33.4 kW\n"
     ]
    }
   ],
   "source": [
    "Q_in = 150000 * (1/3600) # kJ/s\n",
    "\n",
    "Exergy = eta_rev*Q_in\n",
    "\n",
    "print('Exergy = %s kW'%round(Exergy,1))"
   ]
  },
  {
   "cell_type": "code",
   "execution_count": 9,
   "metadata": {},
   "outputs": [],
   "source": [
    "%reset -s -f"
   ]
  },
  {
   "cell_type": "markdown",
   "metadata": {},
   "source": [
    "# Ejercicio 8-20\n",
    "Una máquina térmica recibe calor de una fuente a 1100 K a razón de 400 kJ/s, y rechaza calor de desecho a un ambiente a 320 K. La producción medida de potencia de la máquina térmica es de 120 kW, y la temperatura ambiente es 25°C.     \n",
    "\n",
    "![8-20.png](img/8-20.png)\n",
    "\n",
    "__Determine:__\n",
    "1. la potencia reversible, \n",
    "2. la tasa de irreversibilidad y \n",
    "3. la eficiencia según la segunda ley de esta máquina térmica."
   ]
  },
  {
   "cell_type": "markdown",
   "metadata": {},
   "source": [
    "## Solución\n",
    "Una máquina térmica recibe calor de una fuente a una temperatura especificada a una tasa especificada, y libera calor como desecho. Para una potencia de salida, la potencia reversible, la tasa de irreversibilidad, y la segunda ley de eficiencia tienen que ser determinadas.\n",
    "\n",
    "__Análisis:__ La potencia reversible es la potencia producida por una máquina térmica reversible operando entre los límites especificados,\n",
    "\n",
    "$$ \\eta_\\mathrm{th,max} = \\eta_\\mathrm{th,rev} = 1 - \\frac{T_L}{T_H} $$"
   ]
  },
  {
   "cell_type": "code",
   "execution_count": 1,
   "metadata": {},
   "outputs": [
    {
     "name": "stdout",
     "output_type": "stream",
     "text": [
      "eta_rev = 0.7091\n"
     ]
    }
   ],
   "source": [
    "T_H = 1100 # K\n",
    "T_L = 320 # K\n",
    "\n",
    "eta_rev = 1 - T_L/T_H\n",
    "\n",
    "print('eta_rev = %s'%round(eta_rev,4))"
   ]
  },
  {
   "cell_type": "markdown",
   "metadata": {},
   "source": [
    "$$ \\dot{W}_\\mathrm{rev,out} = \\eta_\\mathrm{th,rev} \\dot{Q}_\\mathrm{in} $$"
   ]
  },
  {
   "cell_type": "code",
   "execution_count": 2,
   "metadata": {},
   "outputs": [
    {
     "name": "stdout",
     "output_type": "stream",
     "text": [
      "W_rev = 283.6 kW\n"
     ]
    }
   ],
   "source": [
    "Q_in = 400 # kJ\n",
    "\n",
    "W_rev = eta_rev * Q_in\n",
    "\n",
    "print('W_rev = %s kW'%round(W_rev,1))"
   ]
  },
  {
   "cell_type": "markdown",
   "metadata": {},
   "source": [
    "(b) La tasa de irreversibilidad es la diferencia entre la potencia reversible y la actual potencia de salida\n",
    "\n",
    "$$ \\dot{I} = \\dot{W}_\\mathrm{rev,out} - \\dot{W}_\\mathrm{u,out} $$"
   ]
  },
  {
   "cell_type": "code",
   "execution_count": 4,
   "metadata": {},
   "outputs": [
    {
     "name": "stdout",
     "output_type": "stream",
     "text": [
      "Ir = 163.6 kW\n"
     ]
    }
   ],
   "source": [
    "W_u = 120 # kJ\n",
    "\n",
    "Ir = W_rev - W_u\n",
    "\n",
    "print('Ir = %s kW'%round(Ir,1))"
   ]
  },
  {
   "cell_type": "markdown",
   "metadata": {},
   "source": [
    "(c) La segunda ley de rendimiento es determinada de su definición\n",
    "\n",
    "$$ \\eta_{II} = \\frac{W_\\mathrm{u,out}}{W_\\mathrm{rev,out}} $$"
   ]
  },
  {
   "cell_type": "code",
   "execution_count": 5,
   "metadata": {},
   "outputs": [
    {
     "name": "stdout",
     "output_type": "stream",
     "text": [
      "eta_II = 0.4231\n",
      "eta_II = 42.31%\n"
     ]
    }
   ],
   "source": [
    "eta_II = W_u/W_rev\n",
    "\n",
    "print('eta_II = %s'%round(eta_II,4))\n",
    "print('eta_II = %s%%'%round(eta_II*100,2))"
   ]
  },
  {
   "cell_type": "code",
   "execution_count": 6,
   "metadata": {},
   "outputs": [],
   "source": [
    "%reset -s -f"
   ]
  },
  {
   "cell_type": "markdown",
   "metadata": {},
   "source": [
    "# Ejercicio 8-23\n",
    "Una casa que pierde calor a razón de 50000 kJ/h cuando la temperatura exterior cae a 4°C se va a calentar por calefactores de resistencia eléctrica. Si la casa se ha de mantener a 25°C todo el tiempo, determine la entrada de trabajo reversible para este proceso y la irreversibilidad.\n",
    "\n",
    "![8-23.png](img/8-23.png)"
   ]
  },
  {
   "cell_type": "markdown",
   "metadata": {},
   "source": [
    "## Solución\n",
    "Una casa es mantenida a una temperatura especificada por calentadores eléctricos de resistencia. El trabajo reversible para este proceso de calentamiento tiene que ser determinado.\n",
    "\n",
    "__Análisis:__ El trabajo reversible es el mínimo trabajo requerido para cumplimentar el proceso, y la irreversibilidad es la diferencia de el trabajo reversible y el actual trabajo eléctrico consumido. La potencia de entrada actual es\n",
    "\n",
    "$$ \\dot{W}_\\mathrm{in} = \\dot{Q}_\\mathrm{out} = \\dot{Q}_H $$"
   ]
  },
  {
   "cell_type": "code",
   "execution_count": 7,
   "metadata": {},
   "outputs": [
    {
     "name": "stdout",
     "output_type": "stream",
     "text": [
      "W_in = Q_out = Q_H = 13.89 kW\n"
     ]
    }
   ],
   "source": [
    "W_in = 50000 * 1/3600 # kW\n",
    "Q_out = W_in\n",
    "Q_H = W_in\n",
    "\n",
    "print('W_in = Q_out = Q_H = %s kW'%round(W_in,2))"
   ]
  },
  {
   "cell_type": "markdown",
   "metadata": {},
   "source": [
    "El $COP_\\mathrm{HP,rev}$ de una bomba de calor reversible operando entre los límites de temperatura especificados es\n",
    "\n",
    "$$ COP_\\mathrm{HP,rev} = \\frac{1}{1 - T_L/T_H} $$"
   ]
  },
  {
   "cell_type": "code",
   "execution_count": 9,
   "metadata": {},
   "outputs": [
    {
     "name": "stdout",
     "output_type": "stream",
     "text": [
      "COP_rev = 14.2\n"
     ]
    }
   ],
   "source": [
    "T_H = 25 + 273.15 # K\n",
    "T_L = 4 + 273.15 # K\n",
    "\n",
    "COP_rev = 1/(1 - T_L/T_H)\n",
    "\n",
    "print('COP_rev = %s'%round(COP_rev,2))"
   ]
  },
  {
   "cell_type": "markdown",
   "metadata": {},
   "source": [
    "Así,\n",
    "$$ \\dot{W}_\\mathrm{rev,in} = \\frac{\\dot{Q}_H}{COP_\\mathrm{HP,rev}} $$"
   ]
  },
  {
   "cell_type": "code",
   "execution_count": 11,
   "metadata": {},
   "outputs": [
    {
     "name": "stdout",
     "output_type": "stream",
     "text": [
      "W_rev = 0.978 kW\n"
     ]
    }
   ],
   "source": [
    "W_rev = Q_H/COP_rev\n",
    "\n",
    "print('W_rev = %s kW'%round(W_rev,3))"
   ]
  },
  {
   "cell_type": "markdown",
   "metadata": {},
   "source": [
    "y\n",
    "$$ \\dot{I} = \\dot{W}_\\mathrm{u,in} - \\dot{W}_\\mathrm{rev,in} $$"
   ]
  },
  {
   "cell_type": "code",
   "execution_count": 12,
   "metadata": {},
   "outputs": [
    {
     "name": "stdout",
     "output_type": "stream",
     "text": [
      "Ir = 12.91 kW\n"
     ]
    }
   ],
   "source": [
    "Ir = W_in - W_rev\n",
    "\n",
    "print('Ir = %s kW'%round(Ir,2))"
   ]
  },
  {
   "cell_type": "code",
   "execution_count": 13,
   "metadata": {},
   "outputs": [],
   "source": [
    "%reset -s -f"
   ]
  },
  {
   "cell_type": "markdown",
   "metadata": {},
   "source": [
    "# Ejercicio 8-25\n",
    "Una planta de generación eléctrica usa agua líquida geotérmica a 150°C a razón de 210 kg/s como fuente de calor, y produce 5,1 MW de potencia neta en un ambiente a 25°C. Si 7,5 MW de la exergía que entra a la planta con el agua geotérmica se destruyen dentro de la planta, determine\n",
    "\n",
    "(a) la exergía del agua geotérmica que entra a la planta        \n",
    "(b) la eficiencia según la segunda ley       \n",
    "(c) la exergía del calor rechazado por la planta\n"
   ]
  },
  {
   "cell_type": "markdown",
   "metadata": {},
   "source": [
    "## Solución\n",
    "Una energía geotérmica produce 5,1 MW de potencia mientras que la destrucción de exergía en la planta es de 7,5 MW. Se determinará el ejercicio del agua geotérmica que ingresa a la planta, la eficiencia de la segunda ley de la planta y el ejercicio del calor rechazado por la planta.\n",
    "\n",
    "__Supuestos__\n",
    "1. Existen condiciones de funcionamiento estables.\n",
    "2. Los cambios de energía cinética y potencial son insignificantes.\n",
    "3. Las propiedades del agua se utilizan para el agua geotérmica."
   ]
  },
  {
   "cell_type": "markdown",
   "metadata": {},
   "source": [
    "(1)\n",
    "\n",
    "$\\left.\n",
    "\\begin{array}{l}\n",
    "T_1 = 150^\\circ \\mathrm{C} \\\\\n",
    "x_1 = 0\n",
    "\\end{array}\n",
    "\\right\\} \\quad \\rightarrow \\quad\n",
    "\\left[\n",
    "\\begin{array}{l}\n",
    "h_1 \\\\\n",
    "s_1\n",
    "\\end{array}\n",
    "\\right]\n",
    "$"
   ]
  },
  {
   "cell_type": "code",
   "execution_count": 14,
   "metadata": {},
   "outputs": [],
   "source": [
    "import CoolProp.CoolProp as cp"
   ]
  },
  {
   "cell_type": "code",
   "execution_count": 15,
   "metadata": {},
   "outputs": [
    {
     "name": "stdout",
     "output_type": "stream",
     "text": [
      "h_1 = 632.18 kJ/kg\n",
      "s_1 = 1.8418 kJ/kg·K\n"
     ]
    }
   ],
   "source": [
    "T_1 = 150 + 273.15 # K\n",
    "x_1 = 0\n",
    "\n",
    "h_1 = cp.PropsSI('H','T',T_1,'Q',x_1,'Water')\n",
    "s_1 = cp.PropsSI('S','T',T_1,'Q',x_1,'Water')\n",
    "\n",
    "print('h_1 = %s kJ/kg'%round(h_1/1000,2))\n",
    "print('s_1 = %s kJ/kg·K'%round(s_1/1000,4))"
   ]
  },
  {
   "cell_type": "markdown",
   "metadata": {},
   "source": [
    "$\\left.\n",
    "\\begin{array}{l}\n",
    "T_0 = 25^\\circ \\mathrm{C} \\\\\n",
    "x_0 = 0\n",
    "\\end{array}\n",
    "\\right\\} \\quad \\rightarrow \\quad\n",
    "\\left[\n",
    "\\begin{array}{l}\n",
    "h_0 \\\\\n",
    "s_0\n",
    "\\end{array}\n",
    "\\right]\n",
    "$"
   ]
  },
  {
   "cell_type": "code",
   "execution_count": 17,
   "metadata": {},
   "outputs": [
    {
     "name": "stdout",
     "output_type": "stream",
     "text": [
      "h_0 = 104.83 kJ/kg\n",
      "s_0 = 0.36722 kJ/kg·K\n"
     ]
    }
   ],
   "source": [
    "T_0 = 25 + 273.15 # K\n",
    "x_0 = 0\n",
    "\n",
    "h_0 = cp.PropsSI('H','T',T_0,'Q',x_0,'Water')\n",
    "s_0 = cp.PropsSI('S','T',T_0,'Q',x_0,'Water')\n",
    "\n",
    "print('h_0 = %s kJ/kg'%round(h_0/1000,2))\n",
    "print('s_0 = %s kJ/kg·K'%round(s_0/1000,5))"
   ]
  },
  {
   "cell_type": "markdown",
   "metadata": {},
   "source": [
    "La exergía del agua geotérmica que ingresa a la planta es\n",
    "\n",
    "$$ \\dot{X}_\\mathrm{in} = \\dot{m} [h_1 - h_0 - T_0 (s_1 - s_0)] $$"
   ]
  },
  {
   "cell_type": "code",
   "execution_count": 20,
   "metadata": {},
   "outputs": [
    {
     "name": "stdout",
     "output_type": "stream",
     "text": [
      "X_in = 18418.1 kW\n",
      "X_in = 18.42 MW\n"
     ]
    }
   ],
   "source": [
    "m = 210 # kg/s\n",
    "\n",
    "X_in = m*(h_1 - h_0 - T_0*(s_1 - s_0))\n",
    "\n",
    "print('X_in = %s kW'%round(X_in/1000,1))\n",
    "print('X_in = %s MW'%round(X_in/1e6,2))"
   ]
  },
  {
   "cell_type": "markdown",
   "metadata": {},
   "source": [
    "(2)\n",
    "La eficiencia de la segunda ley de la planta es la relación de potencia producida a la entrada de exergía a la planta.\n",
    "\n",
    "$$ \\eta_{II} = \\frac{\\dot{W}_\\mathrm{out}}{\\dot{X}_\\mathrm{in}} $$"
   ]
  },
  {
   "cell_type": "code",
   "execution_count": 23,
   "metadata": {},
   "outputs": [
    {
     "name": "stdout",
     "output_type": "stream",
     "text": [
      "eta_II = 0.277\n",
      "eta_II = 27.7%\n"
     ]
    }
   ],
   "source": [
    "W_out = 5.1e6 # W\n",
    "\n",
    "eta_II = W_out/X_in\n",
    "\n",
    "print('eta_II = %s'%round(eta_II,3))\n",
    "print('eta_II = %s%%'%round(eta_II*100,1))"
   ]
  },
  {
   "cell_type": "markdown",
   "metadata": {},
   "source": [
    "(c) El ejercicio del calor rechazado de la planta puede determinarse a partir de un equilibrio de ejercicio en la planta.\n",
    "\n",
    "$$ \\dot{X}_\\mathrm{heat,out} = \\dot{X}_\\mathrm{in} - \\dot{W}_\\mathrm{out} - \\dot{X}_\\mathrm{dest} $$"
   ]
  },
  {
   "cell_type": "code",
   "execution_count": 26,
   "metadata": {},
   "outputs": [
    {
     "name": "stdout",
     "output_type": "stream",
     "text": [
      "X_heat_out = 5818.07 kW\n",
      "X_heat_out = 5.82 MW\n"
     ]
    }
   ],
   "source": [
    "X_dest = 7.5e6 # W\n",
    "\n",
    "X_heat_out = X_in - W_out - X_dest\n",
    "\n",
    "print('X_heat_out = %s kW'%round(X_heat_out/1000,2))\n",
    "print('X_heat_out = %s MW'%round(X_heat_out/1e6,2))"
   ]
  },
  {
   "cell_type": "code",
   "execution_count": 27,
   "metadata": {},
   "outputs": [],
   "source": [
    "%reset -s -f"
   ]
  },
  {
   "cell_type": "markdown",
   "metadata": {},
   "source": [
    "# Ejercicio 8-28\n",
    "Una masa de 8 kg de helio sufre un proceso desde un extado inicial de 3 m³/kg y 15°C hasta un estado final de 0,5 m³/kg y 80°C. Suponiendo que el entorno está a 25°C y 100 kPa, determine el aumento en el potencial de trabajo útil del helio durante este proceso.\n",
    "\n",
    "![8-28.png](img/8-28.png)"
   ]
  },
  {
   "cell_type": "markdown",
   "metadata": {},
   "source": [
    "## Solución\n",
    "Una masa fija de helio se somete a un proceso desde un estado especificado a otro estado especificado. Se determinará el aumento en el potencial de energía útil del helio.\n",
    "\n",
    "Supuestos:\n",
    "1. En condiciones específicas, el helio puede tratarse como un gas ideal.\n",
    "2. El helio tiene calores específicos constantes a temperatura ambiente.\n",
    "\n",
    "Propiedades:\n",
    "\n",
    "* La constante de gas del helio es $R = 2.0769 \\, \\mathrm{kJ/kg \\cdot K}$\n",
    "* El calor específico de volumen constante de helio es $c_v = 3.1156 \\, \\mathrm{kJ / kg \\cdot K}$"
   ]
  },
  {
   "cell_type": "markdown",
   "metadata": {},
   "source": [
    "$$ \\Delta s = s_2 - s_1 = c_\\mathrm{v,prom} \\ln \\frac{T_2}{T_1} + R \\ln \\frac{v_2}{v_1} $$"
   ]
  },
  {
   "cell_type": "code",
   "execution_count": 1,
   "metadata": {},
   "outputs": [],
   "source": [
    "import math"
   ]
  },
  {
   "cell_type": "code",
   "execution_count": 2,
   "metadata": {},
   "outputs": [
    {
     "name": "stdout",
     "output_type": "stream",
     "text": [
      "Ds = s_2 - s_1 = -3.088 kJ/kg·K\n"
     ]
    }
   ],
   "source": [
    "cv = 3.1156 # kJ/kg·K\n",
    "R = 2.0769 # kJ/kg·K\n",
    "T_1 = 15 + 273.15 # K\n",
    "T_2 = 80 + 273.15 # K\n",
    "v_1 = 3 # m^3/kg\n",
    "v_2 = 0.5 # m^3/kg\n",
    "\n",
    "Ds = cv * math.log(T_2/T_1) + R * math.log(v_2/v_1)\n",
    "\n",
    "print('Ds = s_2 - s_1 = %s kJ/kg·K'%round(Ds,3))"
   ]
  },
  {
   "cell_type": "markdown",
   "metadata": {},
   "source": [
    "El aumento en el potencial útil de helio durante este proceso es simplemente el aumento en exergía,\n",
    "\n",
    "$$ \\Phi_2 - \\Phi_1 = m \\, [(u_2 - u_1) - T_0 (s_2 - s_1) + P_0 \\, (v_2 - v_1) ] $$\n",
    "\n",
    "$$ \\Phi_2 - \\Phi_1 = m[ c_{v,prom} (T_2 - T_1) - T_0 (s_2 - s_1) + P_0 \\, (v_2 - v_1) ] $$"
   ]
  },
  {
   "cell_type": "markdown",
   "metadata": {},
   "source": [
    "$$ \\Delta U = m c_{v,prom} (T_2 - T_1) $$"
   ]
  },
  {
   "cell_type": "code",
   "execution_count": 6,
   "metadata": {},
   "outputs": [
    {
     "name": "stdout",
     "output_type": "stream",
     "text": [
      "DPhi = 6984.5 kJ/kg·K\n"
     ]
    }
   ],
   "source": [
    "m = 8 # kg\n",
    "T_0 = 25 + 273.15 # K\n",
    "P_0 = 100 # kPa\n",
    "\n",
    "DPhi = m*( cv*(T_2 - T_1) - T_0*Ds + P_0*(v_2 - v_1) )\n",
    "\n",
    "print('DPhi = %s kJ/kg·K'%round(DPhi,1))"
   ]
  },
  {
   "cell_type": "code",
   "execution_count": 7,
   "metadata": {},
   "outputs": [],
   "source": [
    "%reset -s -f"
   ]
  },
  {
   "cell_type": "code",
   "execution_count": null,
   "metadata": {},
   "outputs": [],
   "source": []
  }
 ],
 "metadata": {
  "kernelspec": {
   "display_name": "Python 3",
   "language": "python",
   "name": "python3"
  },
  "language_info": {
   "codemirror_mode": {
    "name": "ipython",
    "version": 3
   },
   "file_extension": ".py",
   "mimetype": "text/x-python",
   "name": "python",
   "nbconvert_exporter": "python",
   "pygments_lexer": "ipython3",
   "version": "3.7.3"
  }
 },
 "nbformat": 4,
 "nbformat_minor": 2
}
