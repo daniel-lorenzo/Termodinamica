{
  "nbformat": 4,
  "nbformat_minor": 0,
  "metadata": {
    "colab": {
      "provenance": [],
      "authorship_tag": "ABX9TyMofNGSDEqb5QaeBeN2WAG1",
      "include_colab_link": true
    },
    "kernelspec": {
      "name": "python3",
      "display_name": "Python 3"
    },
    "language_info": {
      "name": "python"
    }
  },
  "cells": [
    {
      "cell_type": "markdown",
      "metadata": {
        "id": "view-in-github",
        "colab_type": "text"
      },
      "source": [
        "<a href=\"https://colab.research.google.com/github/daniel-lorenzo/Termodinamica/blob/master/Pr%C3%A1ctica_1/Pr%C3%A1ctica_1.ipynb\" target=\"_parent\"><img src=\"https://colab.research.google.com/assets/colab-badge.svg\" alt=\"Open In Colab\"/></a>"
      ]
    },
    {
      "cell_type": "markdown",
      "source": [
        "# Cuestionario 1 - Práctica 1"
      ],
      "metadata": {
        "id": "yeV3Kz16blOG"
      }
    },
    {
      "cell_type": "markdown",
      "source": [
        "## Ejercicio 1\n",
        "- El ***`volumen específico`*** se define como ***`volumen`*** por unidad de ***`masa`*** y es la inversa de la densidad.\n",
        "- La ***`densidad`*** de una sustancia se define como la ***`masa`*** por unidad de ***`volumen`***.\n",
        "- Presión ***`relativa`*** = Presión ***`absoluta`*** – Presión atmosférica.\n"
      ],
      "metadata": {
        "id": "Wcs4W6A0bvDa"
      }
    },
    {
      "cell_type": "markdown",
      "source": [
        "---\n",
        "## Ejercicio 2\n",
        "Se tiene un dispositivo cilindro - émbolo que contiene una masa de gas. El émbolo de diámetro 0,8m posee una masa de 80kg. Calcular la presión absoluta que soporta el gas si la presión atmosférica es de 1018 hPa. Indicar el resultado en bar y kPa"
      ],
      "metadata": {
        "id": "mEbY_5cJckxr"
      }
    },
    {
      "cell_type": "markdown",
      "source": [
        "### Solución"
      ],
      "metadata": {
        "id": "xqhC-KprgvYV"
      }
    },
    {
      "cell_type": "markdown",
      "source": [
        "**Datos:**\n",
        "$\\left\\{\n",
        "\\begin{array}{l}\n",
        "m = 80 \\; \\mathrm{[kg] } \\\\\n",
        "d = 0,8 \\; \\mathrm{[m] }\\\\\n",
        "P_{atm} = 1018 \\times 10^2 \\; \\mathrm{[Pa] }\\\\\n",
        "g = 9,81 \\; \\mathrm{[m/s^2]}\n",
        "\\end{array}\n",
        "\\right.$"
      ],
      "metadata": {
        "id": "Y6v7GzsAoVya"
      }
    },
    {
      "cell_type": "markdown",
      "source": [
        "**Cálculo de área**\n",
        "$$A = \\pi \\cdot \\frac{d^2}{4}$$"
      ],
      "metadata": {
        "id": "ESk2qeM7qFwp"
      }
    },
    {
      "cell_type": "markdown",
      "source": [
        "$$ A = \\pi \\cdot \\mathrm{\\frac{(0,8 \\; m)^2}{4} ≈ 0,5027 \\; m^2} $$"
      ],
      "metadata": {
        "id": "PyJS2byfeakG"
      }
    },
    {
      "cell_type": "markdown",
      "source": [
        "**Presión relativa**\n",
        "$$P_{rel} = \\frac{mg}{A}$$"
      ],
      "metadata": {
        "id": "05RUHg6sg_wS"
      }
    },
    {
      "cell_type": "markdown",
      "source": [
        "$$P_{rel} = \\mathrm{ \\frac{(80 \\; kg)(9,81 \\; m/s^2)}{0,5027 \\; m^3} ≈ 1561,3 \\; Pa }$$"
      ],
      "metadata": {
        "id": "53XcgFxyhXUd"
      }
    },
    {
      "cell_type": "markdown",
      "source": [
        "**Presión absoluta**\n",
        "$$P_{abs} = P_{rel} + P_{atm}$$"
      ],
      "metadata": {
        "id": "JNLi3OWhiEox"
      }
    },
    {
      "cell_type": "markdown",
      "source": [
        "$$P_{abs} = \\mathrm{1561,3 \\; Pa + (1018 \\times 10^2 \\; Pa)}$$"
      ],
      "metadata": {
        "id": "rmaUbNibiaxf"
      }
    },
    {
      "cell_type": "markdown",
      "source": [
        "$$P_{abs} = 103 \\, 361,3 \\; \\mathrm{Pa}$$"
      ],
      "metadata": {
        "id": "UnZcq-azi0sx"
      }
    },
    {
      "cell_type": "markdown",
      "source": [
        "**Convertimos a kPa**\n",
        "$$P_{abs} = \\mathrm{103 361,3 \\; Pa \\cdot \\left( \\frac{1 \\; kPa}{1000 \\; Pa} \\right) \\approx 103,36 \\; kPa }$$"
      ],
      "metadata": {
        "id": "fMGOvnehkuyf"
      }
    },
    {
      "cell_type": "markdown",
      "source": [
        "**Convertimos a bar**\n",
        "$$P_{abs} = \\mathrm{103 361,3 \\; Pa \\cdot \\left( \\frac{1 \\; bar}{1 \\times 10^5 \\; Pa} \\right) \\approx 1,034 \\; bar }$$"
      ],
      "metadata": {
        "id": "Dln0ocIelfmL"
      }
    },
    {
      "cell_type": "markdown",
      "source": [
        "**Resolución en python:**"
      ],
      "metadata": {
        "id": "gLrDHkG0nSBv"
      }
    },
    {
      "cell_type": "code",
      "execution_count": null,
      "metadata": {
        "id": "aN_FKXD1bVSF"
      },
      "outputs": [],
      "source": [
        "# Datos: (en unidades SI)\n",
        "m = 80          # [kg]      (masa)\n",
        "d = 0.8         # [m]       (diámetro)\n",
        "P_atm = 1018e2  # [Pa]      (presión atmosférica)\n",
        "g = 9.81        # [m/s²]    (aceleración de la gravedad)"
      ]
    },
    {
      "cell_type": "code",
      "source": [
        "import math"
      ],
      "metadata": {
        "id": "jC2S7BRedvoj"
      },
      "execution_count": null,
      "outputs": []
    },
    {
      "cell_type": "code",
      "source": [
        "# Cálculo de área del cilindro\n",
        "A = math.pi*(d**2)/4\n",
        "# Presión relativa\n",
        "P_rel = (m*g)/A\n",
        "# Presión absoluta\n",
        "P_abs = P_rel + P_atm"
      ],
      "metadata": {
        "id": "40AkdUsmd9qF"
      },
      "execution_count": null,
      "outputs": []
    },
    {
      "cell_type": "code",
      "source": [
        "#@title Cálculos intermedios\n",
        "print(\"A = %.4f [m^3]\"%A)\n",
        "print(\"P_rel = %.1f [Pa] = %.2f [kPa]\"%(P_rel,P_rel/1000))\n",
        "print(\"P_abs = %.1f [Pa]\"%P_abs)"
      ],
      "metadata": {
        "colab": {
          "base_uri": "https://localhost:8080/"
        },
        "cellView": "form",
        "id": "ZBWKkPRDewYZ",
        "outputId": "084c90af-713b-4903-e4be-8ae9fa531c95"
      },
      "execution_count": null,
      "outputs": [
        {
          "output_type": "stream",
          "name": "stdout",
          "text": [
            "A = 0.5027 [m^3]\n",
            "P_rel = 1561.3 [Pa] = 1.56 [kPa]\n",
            "P_abs = 103361.3 [Pa]\n"
          ]
        }
      ]
    },
    {
      "cell_type": "code",
      "source": [
        "#@title Resultados:\n",
        "print(\"Presión absoluta:\")\n",
        "print(\"%.3f [bar]\"%(P_abs/1e5))\n",
        "print(\"%.2f [kPa]\"%(P_abs/1e3))"
      ],
      "metadata": {
        "colab": {
          "base_uri": "https://localhost:8080/"
        },
        "cellView": "form",
        "id": "Ou6W7rkre4Rw",
        "outputId": "9fa92a0c-aa23-41be-d94a-ca24c048fd88"
      },
      "execution_count": null,
      "outputs": [
        {
          "output_type": "stream",
          "name": "stdout",
          "text": [
            "Presión absoluta:\n",
            "1.034 [bar]\n",
            "103.36 [kPa]\n"
          ]
        }
      ]
    },
    {
      "cell_type": "code",
      "source": [
        "%reset -sf"
      ],
      "metadata": {
        "id": "cyo42_dHob_v"
      },
      "execution_count": null,
      "outputs": []
    },
    {
      "cell_type": "markdown",
      "source": [
        "---\n",
        "## Ejercicio 3\n",
        "Un tanque T esta dentro de un recipiente hermético R el manómetro A indica 5bar y el b indica 3 bar siendo la presión atmosférica de 1,01 bar. Calcular presión absoluta en el tanque y presión absoluta del recipiente."
      ],
      "metadata": {
        "id": "urJOmUF8gUuz"
      }
    },
    {
      "cell_type": "markdown",
      "source": [
        "![fig_ej3.png](data:image/png;base64,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)"
      ],
      "metadata": {
        "id": "Dm3lBWaAg744"
      }
    },
    {
      "cell_type": "markdown",
      "source": [
        "### Solución\n",
        "$$P_{abs} = P_{atm} + P_{rel}$$"
      ],
      "metadata": {
        "id": "6C5mkkVJhK0w"
      }
    },
    {
      "cell_type": "markdown",
      "source": [
        "Datos:\n",
        "$\\left\\{\n",
        "\\begin{array}{l}\n",
        "P_{relA} = 5 \\; \\mathrm{bar}\\\\\n",
        "P_{relB} = 3 \\; \\mathrm{bar}\\\\\n",
        "P_{atm} = 1,01 \\; \\mathrm{bar}\n",
        "\\end{array}\n",
        "\\right.$"
      ],
      "metadata": {
        "id": "7jSiNa0Pq0VP"
      }
    },
    {
      "cell_type": "markdown",
      "source": [
        "Cálculo de presiones absolutas"
      ],
      "metadata": {
        "id": "lbRjgl5-rkg4"
      }
    },
    {
      "cell_type": "markdown",
      "source": [
        "En el tanque T\n",
        "$$P_{absT} = P_{relA} + P_{atm}$$"
      ],
      "metadata": {
        "id": "ltA0gv2Krsck"
      }
    },
    {
      "cell_type": "markdown",
      "source": [
        "$$P_{absT} = \\mathrm{5 \\; bar + 1,01 \\; bar = 6,01 \\; bar}$$"
      ],
      "metadata": {
        "id": "2arysOQEsAcd"
      }
    },
    {
      "cell_type": "markdown",
      "source": [
        "En el recipiente R\n",
        "$$P_{absR} = P_{relB} + P_{atm}$$"
      ],
      "metadata": {
        "id": "Dc8yJPxqr1OV"
      }
    },
    {
      "cell_type": "markdown",
      "source": [
        "$$P_{absR} = \\mathrm{3 \\; bar + 1,01 \\; bar = 4,01 \\; bar}$$"
      ],
      "metadata": {
        "id": "iZHyR6i08i6s"
      }
    },
    {
      "cell_type": "markdown",
      "source": [
        "**Resolución en python:**"
      ],
      "metadata": {
        "id": "cNVbYJj083rK"
      }
    },
    {
      "cell_type": "code",
      "source": [
        "# Datos\n",
        "P_relA = 5 # [bar]    (presión relativa en A)\n",
        "P_relB = 3 # [bar]    (presión relativa en B)\n",
        "P_atm = 1.01 # [bar]  (presión atomosférica)"
      ],
      "metadata": {
        "id": "NxRAZsi6fiKf"
      },
      "execution_count": null,
      "outputs": []
    },
    {
      "cell_type": "code",
      "source": [
        "# Cálculo de presiones absolutas\n",
        "# En el tanque T\n",
        "P_absT = P_relA + P_atm\n",
        "# En el recipiente R\n",
        "P_absR = P_relB + P_atm"
      ],
      "metadata": {
        "id": "THTgg_qXpyQY"
      },
      "execution_count": null,
      "outputs": []
    },
    {
      "cell_type": "code",
      "source": [
        "#@title Resultados\n",
        "print(\"Presión absoluta en el tanque T\")\n",
        "print(\"PabsT = %.2f [bar]\"%P_absT)\n",
        "print(\"Presión absoluta en el recipiente R\")\n",
        "print(\"PabsR = %.2f [bar]\"%P_absR)"
      ],
      "metadata": {
        "colab": {
          "base_uri": "https://localhost:8080/"
        },
        "cellView": "form",
        "id": "zgGNVo-9qT5T",
        "outputId": "90f14442-28bc-4114-f01f-a22ec5783539"
      },
      "execution_count": null,
      "outputs": [
        {
          "output_type": "stream",
          "name": "stdout",
          "text": [
            "Presión absoluta en el tanque T\n",
            "PabsT = 6.01 [bar]\n",
            "Presión absoluta en el recipiente R\n",
            "PabsR = 4.01 [bar]\n"
          ]
        }
      ]
    },
    {
      "cell_type": "code",
      "source": [
        "%reset -sf"
      ],
      "metadata": {
        "id": "rI4IRMhEqXGb"
      },
      "execution_count": null,
      "outputs": []
    },
    {
      "cell_type": "markdown",
      "source": [
        "---\n",
        "## Ejercicio 4\n",
        "Un gas contenido en un recipiente posee una presión absoluta de 0,2bar y la presión atmosférica es 1010hPa ¿Qué lectura indica el instrumento (manómetro)?"
      ],
      "metadata": {
        "id": "CBBpt5QJHweP"
      }
    },
    {
      "cell_type": "markdown",
      "source": [
        "### Solución"
      ],
      "metadata": {
        "id": "JP-byil0H2g0"
      }
    },
    {
      "cell_type": "code",
      "source": [
        "# Datos:\n",
        "P_abs = 0.2e5 # [Pa]\n",
        "P_atm = 1010e2 # [Pa]"
      ],
      "metadata": {
        "id": "oFKGSZtgH5h9"
      },
      "execution_count": null,
      "outputs": []
    },
    {
      "cell_type": "markdown",
      "source": [
        "$$P_{abs} = P_{atm} + P_{rel}$$"
      ],
      "metadata": {
        "id": "FPakRS0lH88z"
      }
    },
    {
      "cell_type": "markdown",
      "source": [
        "Entonces:\n",
        "$$P_{rel} = P_{abs} - P_{atm}$$"
      ],
      "metadata": {
        "id": "mMtnqD-GICZh"
      }
    },
    {
      "cell_type": "code",
      "source": [
        "# Cálculo de presión relativa\n",
        "P_rel = P_abs - P_atm"
      ],
      "metadata": {
        "id": "lor2BKaEIJIN"
      },
      "execution_count": null,
      "outputs": []
    },
    {
      "cell_type": "code",
      "source": [
        "#@title Resultado:\n",
        "print(\"P_rel = %.2f [bar]\"%(P_rel/1e5))"
      ],
      "metadata": {
        "colab": {
          "base_uri": "https://localhost:8080/"
        },
        "cellView": "form",
        "id": "VLpjBD0AIMki",
        "outputId": "e2df80ed-06a0-4efd-d9ff-98b42d4db183"
      },
      "execution_count": null,
      "outputs": [
        {
          "output_type": "stream",
          "name": "stdout",
          "text": [
            "P_rel = -0.81 [bar]\n"
          ]
        }
      ]
    },
    {
      "cell_type": "code",
      "source": [
        "%reset -sf"
      ],
      "metadata": {
        "id": "DcVj2oRvISA2"
      },
      "execution_count": null,
      "outputs": []
    },
    {
      "cell_type": "markdown",
      "source": [
        "---\n",
        "## Ejercicio 5\n",
        "Un turbogenerador consume 1200kg de vapor por hora y desarrolla una potencia de 200 kW. Calcular el trabajo realizado por cada kg de vapor."
      ],
      "metadata": {
        "id": "Mnu7l6CzQ0J3"
      }
    },
    {
      "cell_type": "markdown",
      "source": [
        "### Solución"
      ],
      "metadata": {
        "id": "RTOdUQ-wQ9oX"
      }
    },
    {
      "cell_type": "markdown",
      "source": [
        "El trabajo realizado por cada kilogramo de vapor puede calcularse dividiendo la potencia generada por el turbogenerador (en este caso, 200 kW) entre la cantidad de vapor consumida por hora (1200 kg/h). El trabajo se expresa en kilojulios (kJ) por kilogramo de vapor.\n",
        "\n",
        "Trabajo por kg de vapor = (Potencia generada / Cantidad de vapor consumida) * 1000\n",
        "\n",
        "Primero, convertimos la potencia generada a kJ por hora:\n",
        "\n",
        "Potencia generada = 200 kW = 200,000 W = 200,000 J/s\n",
        "Potencia generada por hora = 200,000 J/s * 3600 s = 720,000,000 J/h = 720,000 kJ/h\n",
        "\n",
        "Ahora calculamos el trabajo por kg de vapor:\n",
        "\n",
        "Trabajo por kg de vapor = (720,000 kJ/h / 1200 kg/h) * 1000 = 600 kJ/kg\n",
        "\n",
        "Por lo tanto, el trabajo realizado por cada kilogramo de vapor es de 600 kJ. Esto significa que, en promedio, cada kilogramo de vapor que entra en el turbogenerador realiza 600 kJ de trabajo para generar energía eléctrica."
      ],
      "metadata": {
        "id": "tON75pqNA66D"
      }
    },
    {
      "cell_type": "markdown",
      "source": [
        "Resolución en python:"
      ],
      "metadata": {
        "id": "_FMidE0Jrit6"
      }
    },
    {
      "cell_type": "code",
      "source": [],
      "metadata": {
        "id": "wTiT0_elBwpR"
      },
      "execution_count": null,
      "outputs": []
    },
    {
      "cell_type": "code",
      "source": [
        "%reset -sf"
      ],
      "metadata": {
        "id": "9H0RWQPbszy5"
      },
      "execution_count": null,
      "outputs": []
    },
    {
      "cell_type": "markdown",
      "source": [
        "---\n",
        "## Ejercicio 6\n",
        "Una turbina de vapor consume 1,5 g de vapor para producir 1 kJ de energía eléctrica. Si para obtener 1 kg de vapor se necesitan 3800 kJ de energía térmica. ¿Cuál es el rendimiento?"
      ],
      "metadata": {
        "id": "JxdeRZFqr-kd"
      }
    },
    {
      "cell_type": "markdown",
      "source": [
        "### Solución\n",
        "El rendimiento de una máquina térmica, como una turbina de vapor, se define como la relación entre la energía útil producida (en este caso, la energía eléctrica) y la energía total suministrada (en este caso, la energía térmica). Se puede expresar matemáticamente de la siguiente manera:"
      ],
      "metadata": {
        "id": "X62bYcOquflR"
      }
    },
    {
      "cell_type": "markdown",
      "source": [
        "Rendimiento\n",
        "$$\\mathrm{\\eta = \\frac{Energia \\; util}{Energia \\; suministrada}}$$"
      ],
      "metadata": {
        "id": "PRoqPUdj3pVd"
      }
    },
    {
      "cell_type": "markdown",
      "source": [
        "Rendimiento porcentual\n",
        "$$\\mathrm{\\eta = \\frac{Energia \\; util}{Energia \\; suministrada} \\cdot 100}$$"
      ],
      "metadata": {
        "id": "SzYjiD5ZzTot"
      }
    },
    {
      "cell_type": "markdown",
      "source": [
        "En este caso, la energía útil es la energía eléctrica producida y la energía total suministrada es la energía térmica necesaria para generar 1 kg de vapor."
      ],
      "metadata": {
        "id": "brJoUnrC0Fsn"
      }
    },
    {
      "cell_type": "markdown",
      "source": [
        "Dado que 1 kg de vapor requiere 3800 kJ de energía térmica y la turbina de vapor consume 1,5 g (0,0015 kg) de vapor para producir 1 kJ de energía eléctrica, podemos calcular la energía eléctrica producida por 1 kg de vapor:"
      ],
      "metadata": {
        "id": "H_8tX3ce0K70"
      }
    },
    {
      "cell_type": "markdown",
      "source": [
        "Energía eléctrica producida por 1 kg de vapor:\n",
        "\n",
        "$$\\mathrm{Energia \\; util = \\left( \\frac{1 \\; kg}{1,5 \\times 10^{-3} \\; kg} \\right) \\; kJ \\approx 666,67 \\; kJ}$$"
      ],
      "metadata": {
        "id": "XtQJCTbQ0Mxt"
      }
    },
    {
      "cell_type": "markdown",
      "source": [
        "Ahora, podemos calcular el rendimiento:"
      ],
      "metadata": {
        "id": "zStJ5gCw1Due"
      }
    },
    {
      "cell_type": "markdown",
      "source": [
        "$$\\eta = \\mathrm{\\frac{Energia \\; electrica \\; producida}{Energia \\; total \\; suministrada}}$$"
      ],
      "metadata": {
        "id": "EQeD4eEY1FJD"
      }
    },
    {
      "cell_type": "markdown",
      "source": [
        "$$\\eta = \\mathrm{\\frac{666,67 \\; kJ}{3800 \\; kJ} \\approx 0,1754}$$"
      ],
      "metadata": {
        "id": "AnT4Go4T1hMC"
      }
    },
    {
      "cell_type": "markdown",
      "source": [
        "Rendimiento porcentual:\n",
        "$$\\eta \\% \\approx 17,54 \\%$$"
      ],
      "metadata": {
        "id": "wkO4aLIk31_7"
      }
    },
    {
      "cell_type": "markdown",
      "source": [
        "Por lo tanto, el rendimiento de la turbina de vapor en estas condiciones sería aproximadamente 17.54%. Esto significa que solo alrededor del 17.54% de la energía térmica suministrada se convierte en energía eléctrica útil, mientras que el resto se pierde en forma de calor y otros procesos."
      ],
      "metadata": {
        "id": "dpNWHyfX2Xad"
      }
    },
    {
      "cell_type": "code",
      "source": [
        "# Datos:\n",
        "Energ_util = (1/1.5e-3) # kJ\n",
        "Energ_sumin = 3800  # kJ"
      ],
      "metadata": {
        "id": "xuZj713vraUf"
      },
      "execution_count": null,
      "outputs": []
    },
    {
      "cell_type": "code",
      "source": [
        "Rend = Energ_util/Energ_sumin"
      ],
      "metadata": {
        "id": "2rXxpIoYxkpo"
      },
      "execution_count": null,
      "outputs": []
    },
    {
      "cell_type": "code",
      "source": [
        "#@title Resultados:\n",
        "print(\"Rendimiento = %.4f\"%Rend)\n",
        "print(\"Rendimiento procentual = %.2f%%\"%(Rend*100))"
      ],
      "metadata": {
        "colab": {
          "base_uri": "https://localhost:8080/"
        },
        "cellView": "form",
        "id": "ghQSi_Cb54aa",
        "outputId": "9c2c1ed5-cabf-4585-f0e3-6bfd7fd0eceb"
      },
      "execution_count": null,
      "outputs": [
        {
          "output_type": "stream",
          "name": "stdout",
          "text": [
            "Rendimiento = 0.1754\n",
            "Rendimiento procentual = 17.54%\n"
          ]
        }
      ]
    }
  ]
}