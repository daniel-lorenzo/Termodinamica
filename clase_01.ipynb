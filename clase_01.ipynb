{
 "cells": [
  {
   "cell_type": "markdown",
   "id": "4e7ad7f2",
   "metadata": {},
   "source": [
    "# Clase 1\n",
    "\n",
    "Primer parcial: 23/9    \n",
    "Segundo parcial: 4/11"
   ]
  },
  {
   "cell_type": "markdown",
   "id": "b0cb2178",
   "metadata": {},
   "source": [
    "Conversión de temperaturas\n",
    "$$\\mathrm{ \\frac{x\\; ^\\circ C - 0 \\; ^\\circ C}{100^\\circ C - 0^\\circ C} = \\frac{x^\\circ F - 32}{212 - 32} = \\frac{xK - 273}{373 - 273} }$$"
   ]
  },
  {
   "cell_type": "markdown",
   "id": "4b24ee1c",
   "metadata": {},
   "source": [
    "# Cuestionario 1 - Práctica 1"
   ]
  },
  {
   "cell_type": "markdown",
   "id": "7d04f840",
   "metadata": {},
   "source": [
    "## Ejercicio 1\n",
    "- El ***volumen específico*** se define como ***volumen*** por unidad de ***masa*** y es la inversa de la densidad.\n",
    "- La ***densidad*** de una sustancia se define como la ***masa*** por unidad de ***volumen*** \n",
    "- Presión ***relativa*** = Presión ***absoluta*** – Presión atmosférica"
   ]
  },
  {
   "cell_type": "markdown",
   "id": "f39494e9",
   "metadata": {},
   "source": [
    "## Ejercicio 2\n",
    "Se tiene un dispositivo cilindro - émbolo que contiene una masa de gas. El émbolo de diámetro 0,8m posee una masa de 80kg. Calcular la presión absoluta que soporta el gas si la presión atmosférica es de 1018 hPa. Indicar el resultado en bar y kPa"
   ]
  },
  {
   "cell_type": "markdown",
   "id": "b6602772",
   "metadata": {},
   "source": [
    "$$\\mathrm{Pa = \\frac{1 \\; N}{m^2}}$$"
   ]
  },
  {
   "cell_type": "code",
   "execution_count": 4,
   "id": "f4df66c1",
   "metadata": {},
   "outputs": [],
   "source": [
    "# Datos:\n",
    "m = 80 # [kg]\n",
    "diam = 0.8 # [m]\n",
    "Po = 1018e2 # [Pa]\n",
    "g = 9.8 # [m/s^2]"
   ]
  },
  {
   "cell_type": "code",
   "execution_count": 2,
   "id": "bd9340ea",
   "metadata": {},
   "outputs": [],
   "source": [
    "import numpy as np"
   ]
  },
  {
   "cell_type": "code",
   "execution_count": 8,
   "id": "7a440f28",
   "metadata": {},
   "outputs": [],
   "source": [
    "# Cálculo de superficie\n",
    "Sup = np.pi*(diam/2)**2\n",
    "# Presión relativa\n",
    "P = (m*g)/Sup\n",
    "# Presión absoluta\n",
    "Pa = P + Po"
   ]
  },
  {
   "cell_type": "code",
   "execution_count": 18,
   "id": "ed8613f4",
   "metadata": {},
   "outputs": [
    {
     "name": "stdout",
     "output_type": "stream",
     "text": [
      "La presión absoluta es:\n",
      "103.36 [kPa]\n",
      "1.034 [Pa]\n"
     ]
    }
   ],
   "source": [
    "print(\"La presión absoluta es:\\n%.2f [kPa]\"%(Pa/1000))\n",
    "print(\"%.3f [Pa]\"%(Pa/1e5))"
   ]
  },
  {
   "cell_type": "markdown",
   "id": "929dacc8",
   "metadata": {},
   "source": [
    "## Ejercicio 3\n",
    "Un tanque T esta dentro de un recipiente hermético R el manómetro A indica 5bar y el b indica 3 bar siendo la presión atmosférica de 1,01 bar. Calcular presión absoluta en el tanque y presión absoluta del recipiente.\n",
    "\n",
    "![fig1](img/c1p1-ej_03.png)"
   ]
  },
  {
   "cell_type": "markdown",
   "id": "366e128e",
   "metadata": {},
   "source": [
    "### Solución"
   ]
  },
  {
   "cell_type": "markdown",
   "id": "2f5ac0ea",
   "metadata": {},
   "source": [
    "$$P_{abs} = P_{atm} + P_{rel}$$"
   ]
  },
  {
   "cell_type": "code",
   "execution_count": 13,
   "id": "6170617b",
   "metadata": {},
   "outputs": [],
   "source": [
    "# Datos:\n",
    "P_relA = 5 # [bar]\n",
    "P_relB = 3 # [bar]\n",
    "P_atm = 1.01 # [bar]"
   ]
  },
  {
   "cell_type": "code",
   "execution_count": 14,
   "id": "7b1b5344",
   "metadata": {},
   "outputs": [],
   "source": [
    "# Cálculo de presiones absolutas\n",
    "P_absT = P_relA + P_atm\n",
    "P_absR = P_relB + P_atm"
   ]
  },
  {
   "cell_type": "code",
   "execution_count": 15,
   "id": "3174b391",
   "metadata": {},
   "outputs": [
    {
     "name": "stdout",
     "output_type": "stream",
     "text": [
      "Pabs del tanque = 6.01 [bar]\n",
      "Pabs del recipiente = 4.01 [bar]\n"
     ]
    }
   ],
   "source": [
    "print(\"Pabs del tanque = %.2f [bar]\"%P_absT)\n",
    "print(\"Pabs del recipiente = %.2f [bar]\"%P_absR)"
   ]
  },
  {
   "cell_type": "code",
   "execution_count": 8,
   "id": "fbd14fc5",
   "metadata": {},
   "outputs": [],
   "source": [
    "%reset -sf"
   ]
  },
  {
   "cell_type": "markdown",
   "id": "f1208f7e",
   "metadata": {},
   "source": [
    "## Ejercicio 4\n",
    "Un gas contenido en un recipiente posee una presión absoluta de 0,2bar y la presión atmosférica es 1010hPa ¿Qué lectura indica el instrumento (manómetro)?"
   ]
  },
  {
   "cell_type": "code",
   "execution_count": 9,
   "id": "6ac8980e",
   "metadata": {},
   "outputs": [],
   "source": [
    "# Datos:\n",
    "P_abs = 0.2e5 # [Pa]\n",
    "P_atm = 1010e2 # [Pa]"
   ]
  },
  {
   "cell_type": "markdown",
   "id": "030f28e2",
   "metadata": {},
   "source": [
    "$$P_{abs} = P_{atm} + P_{rel}$$"
   ]
  },
  {
   "cell_type": "markdown",
   "id": "3cfe2630",
   "metadata": {},
   "source": [
    "Entonces:\n",
    "$$P_{rel} = P_{abs} - P_{atm}$$"
   ]
  },
  {
   "cell_type": "code",
   "execution_count": 10,
   "id": "28e81857",
   "metadata": {},
   "outputs": [],
   "source": [
    "# Cálculo de presión relativa\n",
    "P_rel = P_abs - P_atm"
   ]
  },
  {
   "cell_type": "code",
   "execution_count": 12,
   "id": "a2ef62e3",
   "metadata": {},
   "outputs": [
    {
     "name": "stdout",
     "output_type": "stream",
     "text": [
      "P_rel = -0.81 [bar]\n"
     ]
    }
   ],
   "source": [
    "print(\"P_rel = %.2f [bar]\"%(P_rel/1e5))"
   ]
  },
  {
   "cell_type": "code",
   "execution_count": 16,
   "id": "aa4c4c15",
   "metadata": {},
   "outputs": [],
   "source": [
    "%reset -sf"
   ]
  },
  {
   "cell_type": "markdown",
   "id": "f1b4e7b6",
   "metadata": {},
   "source": [
    "# Ejercicio 5\n",
    "Un turbogenerador consume 1200kg de vapor por hora y desarrolla una potencia de 200 kW. Calcular el trabajo realizado por cada kg de vapor."
   ]
  },
  {
   "cell_type": "code",
   "execution_count": 19,
   "id": "099255e1",
   "metadata": {},
   "outputs": [],
   "source": [
    "# Datos:\n",
    "m = 1200 # [kg/h]\n",
    "W = 200 # [kW]"
   ]
  },
  {
   "cell_type": "markdown",
   "id": "38234fb7",
   "metadata": {},
   "source": [
    "     1200 kg de vapor por hora __________ 200 kW\n",
    "        1 kg de vapor por hora __________   x kW"
   ]
  },
  {
   "cell_type": "code",
   "execution_count": 21,
   "id": "a8bfe094",
   "metadata": {},
   "outputs": [
    {
     "data": {
      "text/plain": [
       "0.16666666666666666"
      ]
     },
     "execution_count": 21,
     "metadata": {},
     "output_type": "execute_result"
    }
   ],
   "source": [
    "W/m"
   ]
  },
  {
   "cell_type": "code",
   "execution_count": null,
   "id": "0560c11d",
   "metadata": {},
   "outputs": [],
   "source": []
  }
 ],
 "metadata": {
  "kernelspec": {
   "display_name": "Python 3 (ipykernel)",
   "language": "python",
   "name": "python3"
  },
  "language_info": {
   "codemirror_mode": {
    "name": "ipython",
    "version": 3
   },
   "file_extension": ".py",
   "mimetype": "text/x-python",
   "name": "python",
   "nbconvert_exporter": "python",
   "pygments_lexer": "ipython3",
   "version": "3.10.12"
  }
 },
 "nbformat": 4,
 "nbformat_minor": 5
}
