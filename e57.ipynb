{
 "cells": [
  {
   "cell_type": "raw",
   "metadata": {},
   "source": [
    "<script>\n",
    "  function code_toggle() {\n",
    "    if (code_shown){\n",
    "      $('div.input').hide('500');\n",
    "      $('#toggleButton').val('Show Code')\n",
    "    } else {\n",
    "      $('div.input').show('500');\n",
    "      $('#toggleButton').val('Hide Code')\n",
    "    }\n",
    "    code_shown = !code_shown\n",
    "  }\n",
    "\n",
    "  $( document ).ready(function(){\n",
    "    code_shown=true;\n",
    "    $('div.input').show()\n",
    "  });\n",
    "</script>\n",
    "<form action=\"javascript:code_toggle()\"><input type=\"submit\" id=\"toggleButton\" value=\"Hide Code\"></form>"
   ]
  },
  {
   "cell_type": "markdown",
   "metadata": {},
   "source": [
    "# Ejercicio 57\n",
    "\n",
    " <img src=\"img/57-crop.svg\" alt=\"graph\" width=\"100%\" height=\"100%\"> \n",
    "\n",
    "__Determinar:__\n",
    "1. $\\Delta S_u$\n",
    "2. $\\eta_{ex,proc}$\n",
    "3. $\\eta_{iso,turb}$ y $\\eta_{ex,turb}$"
   ]
  },
  {
   "cell_type": "markdown",
   "metadata": {},
   "source": [
    "-----------\n",
    "## Solución"
   ]
  },
  {
   "cell_type": "markdown",
   "metadata": {},
   "source": [
    "$$ Q_2 = m c_c (T_f - T_i) $$"
   ]
  },
  {
   "cell_type": "code",
   "execution_count": 1,
   "metadata": {},
   "outputs": [
    {
     "name": "stdout",
     "output_type": "stream",
     "text": [
      "Q2 = -130240.0 kJ\n"
     ]
    }
   ],
   "source": [
    "# Datos:\n",
    "m = 1600 # kg\n",
    "cc = 3.7e3 # J/kg\n",
    "Tf = 5 + 273.15 # K\n",
    "Ti = 27 + 273.15 # K\n",
    "\n",
    "Q2 =  m*cc*(Tf - Ti)\n",
    "print('Q2 = %s kJ'%round(Q2/1000,2))"
   ]
  },
  {
   "cell_type": "markdown",
   "metadata": {},
   "source": [
    "$$ \\Delta s_2 = \\int_{Ti}^{Tf} \\frac{\\delta Q}{T} = \\int_{Ti}^{Tf} c_c \\, \\frac{dt}{T} $$\n",
    "\n",
    "$$ \\quad \\Delta s_2 = c_c \\, (\\ln T_f - \\ln T_i) $$\n",
    "\n",
    "$$ \\Rightarrow \\Delta S_2 = m c_c \\ln \\left( \\frac{T_f}{T_i}  \\right) $$"
   ]
  },
  {
   "cell_type": "code",
   "execution_count": 2,
   "metadata": {},
   "outputs": [],
   "source": [
    "import math"
   ]
  },
  {
   "cell_type": "code",
   "execution_count": 3,
   "metadata": {},
   "outputs": [
    {
     "name": "stdout",
     "output_type": "stream",
     "text": [
      "DS2 = -450.64 kJ/kg\n"
     ]
    }
   ],
   "source": [
    "DS2 = m*cc*math.log(Tf/Ti)\n",
    "print('DS2 = %s kJ/kg'%round(DS2/1000,2))"
   ]
  },
  {
   "cell_type": "markdown",
   "metadata": {},
   "source": [
    "$$ Q_{U2} = Q_2 - T_0 \\Delta S_2 $$"
   ]
  },
  {
   "cell_type": "code",
   "execution_count": 4,
   "metadata": {},
   "outputs": [
    {
     "name": "stdout",
     "output_type": "stream",
     "text": [
      "QU2 = 4952.34 kJ\n"
     ]
    }
   ],
   "source": [
    "T0 = 300 # K\n",
    "\n",
    "QU2 = Q2 - T0*DS2\n",
    "print('QU2 = %s kJ'%round(QU2/1000,2))"
   ]
  },
  {
   "cell_type": "markdown",
   "metadata": {},
   "source": [
    "$$ \\eta_{ex} = \\frac{Q_{U2}}{W_{MF}} \\quad \\Rightarrow \\quad W_{MF} = \\frac{Q_{U2}}{\\eta_{ex}} $$"
   ]
  },
  {
   "cell_type": "code",
   "execution_count": 5,
   "metadata": {},
   "outputs": [
    {
     "name": "stdout",
     "output_type": "stream",
     "text": [
      "WMF = 6190.43 kJ\n"
     ]
    }
   ],
   "source": [
    "eta_ex = 0.8\n",
    "\n",
    "WMF = QU2/eta_ex\n",
    "print('WMF = %s kJ'%round(WMF/1000,2))"
   ]
  },
  {
   "cell_type": "markdown",
   "metadata": {},
   "source": [
    "### Turbina\n",
    "$\\left.\n",
    "\\begin{array}{l}\n",
    "P_4 = 10 \\, \\mathrm{bar} \\\\\n",
    "t_4 = 300^\\circ \\mathrm{C}\n",
    "\\end{array}\n",
    "\\right\\} \\quad \\rightarrow \\quad\n",
    "\\left[\n",
    "\\begin{array}{l}\n",
    "h_4 \\\\\n",
    "s_4\n",
    "\\end{array}\n",
    "\\right]$"
   ]
  },
  {
   "cell_type": "code",
   "execution_count": 6,
   "metadata": {},
   "outputs": [],
   "source": [
    "import CoolProp.CoolProp as cp"
   ]
  },
  {
   "cell_type": "code",
   "execution_count": 7,
   "metadata": {},
   "outputs": [
    {
     "name": "stdout",
     "output_type": "stream",
     "text": [
      "h4 = 3051.63 kJ/kg\n",
      "s4 = 7.12462 kJ/kg*K\n"
     ]
    }
   ],
   "source": [
    "P4 = 10e5 # Pa\n",
    "T4 = 300 + 273.15 # K\n",
    "\n",
    "h4 = cp.PropsSI('H','P',P4,'T',T4,'Water')\n",
    "s4 = cp.PropsSI('S','P',P4,'T',T4,'Water')\n",
    "\n",
    "print('h4 = %s kJ/kg'%round(h4/1000,2))\n",
    "print('s4 = %s kJ/kg*K'%round(s4/1000,5))"
   ]
  },
  {
   "cell_type": "markdown",
   "metadata": {},
   "source": [
    "$\\left.\n",
    "\\begin{array}{l}\n",
    "P_5 = 0,5 \\, \\mathrm{bar} \\\\\n",
    "x_5 = 0,95\n",
    "\\end{array}\n",
    "\\right\\} \\quad \\rightarrow \\quad\n",
    "\\left[\n",
    "\\begin{array}{l}\n",
    "h' \\\\\n",
    "h''\n",
    "\\end{array}\n",
    "\\right]\n",
    "\\quad \\rightarrow \\quad\n",
    "\\left[\n",
    "\\begin{array}{l}\n",
    "s' \\\\\n",
    "s''\n",
    "\\end{array}\n",
    "\\right]\n",
    "$\n",
    "\n",
    "Entonces\n",
    "$$ \\begin{array}{l}\n",
    "h_5 = x_5 (h'' - h') + h' \\\\\n",
    "s_5 = x_5 (s'' - s') + s'\n",
    "\\end{array}$$"
   ]
  },
  {
   "cell_type": "code",
   "execution_count": 8,
   "metadata": {},
   "outputs": [
    {
     "name": "stdout",
     "output_type": "stream",
     "text": [
      "hp1 = 340.54 kJ/kg\n",
      "hp2 = 2645.22 kJ/kg\n",
      "sp1 = 1.0912 kJ/kg*K\n",
      "sp2 = 7.593 kJ/kg*K\n"
     ]
    }
   ],
   "source": [
    "P5 = 0.5e5 # Pa\n",
    "x5 = 0.95\n",
    "\n",
    "hp1 = cp.PropsSI('H','P',P5,'Q',0,'Water') # Líquido saturado\n",
    "hp2 = cp.PropsSI('H','P',P5,'Q',1,'Water') # Vapor saturado\n",
    "sp1 = cp.PropsSI('S','P',P5,'Q',0,'Water') # Líquido saturado\n",
    "sp2 = cp.PropsSI('S','P',P5,'Q',1,'Water') # Vapor saturado\n",
    "\n",
    "print('hp1 = %s kJ/kg'%round(hp1/1000,2))\n",
    "print('hp2 = %s kJ/kg'%round(hp2/1000,2))\n",
    "print('sp1 = %s kJ/kg*K'%round(sp1/1000,5))\n",
    "print('sp2 = %s kJ/kg*K'%round(sp2/1000,5))"
   ]
  },
  {
   "cell_type": "code",
   "execution_count": 9,
   "metadata": {},
   "outputs": [
    {
     "name": "stdout",
     "output_type": "stream",
     "text": [
      "h5 = 2529.98 kJ/kg\n",
      "s5 = 7.26791 kJ/kg*K\n"
     ]
    }
   ],
   "source": [
    "h5 = x5*(hp2 - hp1) + hp1\n",
    "s5 = x5*(sp2 - sp1) + sp1\n",
    "\n",
    "print('h5 = %s kJ/kg'%round(h5/1000,2))\n",
    "print('s5 = %s kJ/kg*K'%round(s5/1000,5))"
   ]
  },
  {
   "cell_type": "code",
   "execution_count": 10,
   "metadata": {},
   "outputs": [
    {
     "name": "stdout",
     "output_type": "stream",
     "text": [
      "T5 = 354.47 K\n",
      "t5 = 81.32°C\n"
     ]
    }
   ],
   "source": [
    "T5 = cp.PropsSI('T','P',P5,'Q',x5,'Water')\n",
    "print('T5 = %s K'%round(T5,2))\n",
    "print('t5 = %s°C'%round(T5 - 273.15,2))"
   ]
  },
  {
   "cell_type": "markdown",
   "metadata": {},
   "source": [
    "$$ W_{MF} = - W_T $$\n",
    "\n",
    "$$ W_T = m_4 (h_5 - h_4) $$"
   ]
  },
  {
   "cell_type": "markdown",
   "metadata": {},
   "source": [
    "$$ m_4 = \\frac{- W_T}{h_5 - h_4} $$"
   ]
  },
  {
   "cell_type": "code",
   "execution_count": 11,
   "metadata": {},
   "outputs": [
    {
     "name": "stdout",
     "output_type": "stream",
     "text": [
      "m4 = 11.867 kg/s\n"
     ]
    }
   ],
   "source": [
    "WT = -WMF\n",
    "\n",
    "m4 = WT/(h5 - h4)\n",
    "print('m4 = %s kg/s'%round(m4,3))"
   ]
  },
  {
   "cell_type": "markdown",
   "metadata": {},
   "source": [
    "### Intercambiador de calor\n",
    "$\\left.\n",
    "\\begin{array}{l}\n",
    "P_3 = 10 \\, \\mathrm{bar} \\\\\n",
    "t_3 = 200^\\circ \\mathrm{C}\n",
    "\\end{array}\n",
    "\\right\\} \\quad \\rightarrow \\quad\n",
    "\\left[\n",
    "\\begin{array}{l}\n",
    "h_3 \\\\\n",
    "s_3\n",
    "\\end{array}\n",
    "\\right]$"
   ]
  },
  {
   "cell_type": "code",
   "execution_count": 12,
   "metadata": {},
   "outputs": [
    {
     "name": "stdout",
     "output_type": "stream",
     "text": [
      "h3 = 2828.26 kJ/kg\n",
      "s3 = 6.69554 kJ/kg*K\n"
     ]
    }
   ],
   "source": [
    "P3 = 10e5 # Pa\n",
    "T3 = 200 + 273.15 # K\n",
    "\n",
    "h3 = cp.PropsSI('H','P',P3,'T',T3,'Water')\n",
    "s3 = cp.PropsSI('S','P',P3,'T',T3,'Water')\n",
    "\n",
    "print('h3 = %s kJ/kg'%round(h3/1000,2))\n",
    "print('s3 = %s kJ/kg*K'%round(s3/1000,5))"
   ]
  },
  {
   "cell_type": "markdown",
   "metadata": {},
   "source": [
    "$$ \\Delta H_{34} = m_3 ( h_4 - h_3 ) = -Q_F $$\n",
    "\n",
    "$$ \\Rightarrow \\; Q_F = m_3 (h_3 - h_4) $$"
   ]
  },
  {
   "cell_type": "code",
   "execution_count": 13,
   "metadata": {},
   "outputs": [
    {
     "name": "stdout",
     "output_type": "stream",
     "text": [
      "QF = -2650.7 kJ\n"
     ]
    }
   ],
   "source": [
    "m3 = m4\n",
    "\n",
    "QF = m3*(h3 - h4)\n",
    "print('QF = %s kJ'%round(QF/1000,2))"
   ]
  },
  {
   "cell_type": "markdown",
   "metadata": {},
   "source": [
    "$\\left.\n",
    "\\begin{array}{l}\n",
    "P_1 = P_2 = 10 \\, \\mathrm{bar} \\\\\n",
    "t_1 = 270^\\circ \\mathrm{C}\n",
    "\\end{array}\n",
    "\\right\\} \\quad \\rightarrow \\quad\n",
    "\\left[\n",
    "\\begin{array}{l}\n",
    "h_1 \\\\\n",
    "s_1\n",
    "\\end{array}\n",
    "\\right]$"
   ]
  },
  {
   "cell_type": "code",
   "execution_count": 14,
   "metadata": {},
   "outputs": [
    {
     "name": "stdout",
     "output_type": "stream",
     "text": [
      "h1 = 2986.94 kJ/kg\n",
      "s1 = 7.00869 kJ/kg*K\n"
     ]
    }
   ],
   "source": [
    "P2 = 10e5 # Pa\n",
    "P1 = P2\n",
    "P3 = P2\n",
    "P4 = P2\n",
    "T1 = 270 + 273.15 # K\n",
    "\n",
    "h1 = cp.PropsSI('H','P',P1,'T',T1,'Water')\n",
    "s1 = cp.PropsSI('S','P',P1,'T',T1,'Water')\n",
    "\n",
    "print('h1 = %s kJ/kg'%round(h1/1000,2))\n",
    "print('s1 = %s kJ/kg*K'%round(s1/1000,5))"
   ]
  },
  {
   "cell_type": "markdown",
   "metadata": {},
   "source": [
    "$\\left.\n",
    "\\begin{array}{l}\n",
    "P_2 = 10 \\, \\mathrm{bar} \\\\\n",
    "x_2 = 0,9\n",
    "\\end{array}\n",
    "\\right\\} \\quad \\rightarrow \\quad\n",
    "\\left[\n",
    "\\begin{array}{l}\n",
    "h' \\\\\n",
    "h''\n",
    "\\end{array}\n",
    "\\right]\n",
    "\\quad \\rightarrow \\quad\n",
    "\\left[\n",
    "\\begin{array}{l}\n",
    "s' \\\\\n",
    "s''\n",
    "\\end{array}\n",
    "\\right]\n",
    "$\n",
    "\n",
    "Entonces\n",
    "$$ \\begin{array}{l}\n",
    "h_2 = x_2 (h'' - h') + h' \\\\\n",
    "s_2 = x_2 (s'' - s') + s'\n",
    "\\end{array}$$"
   ]
  },
  {
   "cell_type": "code",
   "execution_count": 15,
   "metadata": {},
   "outputs": [
    {
     "name": "stdout",
     "output_type": "stream",
     "text": [
      "hp1 = 762.52 kJ/kg\n",
      "hp2 = 2777.11 kJ/kg\n",
      "sp1 = 2.13806 kJ/kg*K\n",
      "sp2 = 6.58502 kJ/kg*K\n"
     ]
    }
   ],
   "source": [
    "x2 = 0.9\n",
    "\n",
    "hp1 = cp.PropsSI('H','P',P2,'Q',0,'Water') # Líquido saturado\n",
    "hp2 = cp.PropsSI('H','P',P2,'Q',1,'Water') # Vapor saturado\n",
    "sp1 = cp.PropsSI('S','P',P2,'Q',0,'Water') # Líquido saturado\n",
    "sp2 = cp.PropsSI('S','P',P2,'Q',1,'Water') # Vapor saturado\n",
    "\n",
    "print('hp1 = %s kJ/kg'%round(hp1/1000,2))\n",
    "print('hp2 = %s kJ/kg'%round(hp2/1000,2))\n",
    "print('sp1 = %s kJ/kg*K'%round(sp1/1000,5))\n",
    "print('sp2 = %s kJ/kg*K'%round(sp2/1000,5))"
   ]
  },
  {
   "cell_type": "code",
   "execution_count": 16,
   "metadata": {},
   "outputs": [
    {
     "name": "stdout",
     "output_type": "stream",
     "text": [
      "h2 = 2986.94 kJ/kg\n",
      "s2 = 7.00869 kJ/kg*K\n"
     ]
    }
   ],
   "source": [
    "h2 = x2*(hp2 - hp1) + hp1\n",
    "s2 = x2*(sp2 - sp1) + sp1\n",
    "\n",
    "print('h2 = %s kJ/kg'%round(h2/1000,2))\n",
    "print('s2 = %s kJ/kg*K'%round(s2/1000,5))"
   ]
  },
  {
   "cell_type": "markdown",
   "metadata": {},
   "source": [
    "$\\left\\{\n",
    "\\begin{array}{l}\n",
    "m_3 = m_4 \\\\\n",
    "m_1 + m_2 = m_3 \\\\\n",
    "m_1 h_1 + m_2 h_2 = m_3 h_3\n",
    "\\end{array}\n",
    "\\right.\n",
    "$"
   ]
  },
  {
   "cell_type": "code",
   "execution_count": 17,
   "metadata": {},
   "outputs": [],
   "source": [
    "import sympy as sy"
   ]
  },
  {
   "cell_type": "code",
   "execution_count": 18,
   "metadata": {},
   "outputs": [
    {
     "name": "stdout",
     "output_type": "stream",
     "text": [
      "{m1: 7.28869497509010, m2: 4.57829486322370}\n"
     ]
    }
   ],
   "source": [
    "m1 , m2 = sy.symbols('m1 m2')\n",
    "\n",
    "Eq1 = sy.Eq( m1 + m2 , m3 )\n",
    "Eq2 = sy.Eq( m1*h1 + m2*h2 , m3*h3 )\n",
    "\n",
    "Sol = sy.solve( [Eq1,Eq2],[m1,m2] )\n",
    "print(Sol)"
   ]
  },
  {
   "cell_type": "code",
   "execution_count": 19,
   "metadata": {},
   "outputs": [
    {
     "name": "stdout",
     "output_type": "stream",
     "text": [
      "m1 = 7.289 kg/s\n",
      "m2 = 4.578 kg/s\n"
     ]
    }
   ],
   "source": [
    "m1 = Sol.get(m1)\n",
    "m2 = Sol.get(m2)\n",
    "\n",
    "print('m1 = %s kg/s'%round(m1,3))\n",
    "print('m2 = %s kg/s'%round(m2,3))"
   ]
  },
  {
   "cell_type": "markdown",
   "metadata": {},
   "source": [
    "### Rendimiento isoentrópico de la turbina\n",
    "$$ \\eta_{iso} = \\frac{h_4 - h_5}{h_4 - h_{5rev}} $$"
   ]
  },
  {
   "cell_type": "markdown",
   "metadata": {},
   "source": [
    "$\\left.\n",
    "\\begin{array}{l}\n",
    "P_5 = 0,5 \\, \\mathrm{bar} \\\\\n",
    "s_{5rev} = s_4\n",
    "\\end{array}\n",
    "\\right\\} \\quad \\rightarrow \\quad\n",
    "\\left[\n",
    "\\begin{array}{l}\n",
    "s' \\\\\n",
    "s''\n",
    "\\end{array}\n",
    "\\right]\n",
    ",\n",
    "\\left[\n",
    "\\begin{array}{l}\n",
    "h' \\\\\n",
    "h''\n",
    "\\end{array}\n",
    "\\right]$"
   ]
  },
  {
   "cell_type": "markdown",
   "metadata": {},
   "source": [
    "$$ x_{5rev} = \\frac{s_{5rev} - s'}{s'' - s'} $$"
   ]
  },
  {
   "cell_type": "code",
   "execution_count": 20,
   "metadata": {},
   "outputs": [
    {
     "name": "stdout",
     "output_type": "stream",
     "text": [
      "sp1 = 1.0912 kJ/kg*K\n",
      "sp2 = 7.593 kJ/kg*K\n"
     ]
    }
   ],
   "source": [
    "P5 = 0.5e5 # Pa\n",
    "s5rev = s4 # J/kg*K\n",
    "\n",
    "sp1 = cp.PropsSI('S','P',P5,'Q',0,'Water')\n",
    "sp2 = cp.PropsSI('S','P',P5,'Q',1,'Water')\n",
    "\n",
    "print('sp1 = %s kJ/kg*K'%round(sp1/1000,5))\n",
    "print('sp2 = %s kJ/kg*K'%round(sp2/1000,5))"
   ]
  },
  {
   "cell_type": "code",
   "execution_count": 21,
   "metadata": {},
   "outputs": [
    {
     "name": "stdout",
     "output_type": "stream",
     "text": [
      "x5rev = 0.92796\n"
     ]
    }
   ],
   "source": [
    "x5rev = (s5rev - sp1)/(sp2 - sp1)\n",
    "print('x5rev = %s'%round(x5rev,5))"
   ]
  },
  {
   "cell_type": "code",
   "execution_count": 22,
   "metadata": {},
   "outputs": [
    {
     "name": "stdout",
     "output_type": "stream",
     "text": [
      "hp1 = 340.54 kJ/kg\n",
      "hp2 = 2645.22 kJ/kg\n"
     ]
    }
   ],
   "source": [
    "hp1 = cp.PropsSI('H','P',P5,'Q',0,'Water')\n",
    "hp2 = cp.PropsSI('H','P',P5,'Q',1,'Water')\n",
    "\n",
    "print('hp1 = %s kJ/kg'%round(hp1/1000,2))\n",
    "print('hp2 = %s kJ/kg'%round(hp2/1000,2))"
   ]
  },
  {
   "cell_type": "markdown",
   "metadata": {},
   "source": [
    "$$ h_{5rev} = x_{5rev} (h'' - h') + h' $$"
   ]
  },
  {
   "cell_type": "code",
   "execution_count": 23,
   "metadata": {},
   "outputs": [
    {
     "name": "stdout",
     "output_type": "stream",
     "text": [
      "h5rev = 2479.19 kJ/kg\n"
     ]
    }
   ],
   "source": [
    "h5rev = x5rev*(hp2 - hp1) + hp1\n",
    "\n",
    "print('h5rev = %s kJ/kg'%round(h5rev/1000,2))"
   ]
  },
  {
   "cell_type": "markdown",
   "metadata": {},
   "source": [
    "### Rendimiento exergético de la turbina\n",
    "$$ \\eta_{ex,turb} = \\frac{W_T}{m_4[ (h_5 - h_4) - T_0 (s_5 - s_4) ]} $$"
   ]
  },
  {
   "cell_type": "code",
   "execution_count": 24,
   "metadata": {},
   "outputs": [
    {
     "name": "stdout",
     "output_type": "stream",
     "text": [
      "eta_ex_turb = 0.9239\n"
     ]
    }
   ],
   "source": [
    "eta_ex_turb = WT/( m4*( (h5 - h4) - T0*( s5 - s4 ) ))\n",
    "print('eta_ex_turb = %s'%round(eta_ex_turb,4))"
   ]
  },
  {
   "cell_type": "markdown",
   "metadata": {},
   "source": [
    "### Variaciones de entropía"
   ]
  },
  {
   "cell_type": "markdown",
   "metadata": {},
   "source": [
    "$$ W_{MF} = Q_1 + Q_2 $$\n",
    "\n",
    "$$ Q_1 = W_{MF} - Q_2 $$"
   ]
  },
  {
   "cell_type": "code",
   "execution_count": 25,
   "metadata": {},
   "outputs": [
    {
     "name": "stdout",
     "output_type": "stream",
     "text": [
      "Q1 = 136430.43 kJ\n"
     ]
    }
   ],
   "source": [
    "Q1 = WMF - Q2\n",
    "print('Q1 = %s kJ'%round(Q1/1000,2))"
   ]
  },
  {
   "cell_type": "markdown",
   "metadata": {},
   "source": [
    "$$ \\Delta S_1 = \\frac{Q_1}{T_0} $$"
   ]
  },
  {
   "cell_type": "code",
   "execution_count": 26,
   "metadata": {},
   "outputs": [
    {
     "name": "stdout",
     "output_type": "stream",
     "text": [
      "DS1 = 454.7681 kJ/K\n"
     ]
    }
   ],
   "source": [
    "DS1 = Q1/T0\n",
    "print('DS1 = %s kJ/K'%round(DS1/1000,4))"
   ]
  },
  {
   "cell_type": "markdown",
   "metadata": {},
   "source": [
    "$$ \\Delta S_F = \\frac{Q_F}{T_F} $$"
   ]
  },
  {
   "cell_type": "code",
   "execution_count": 27,
   "metadata": {},
   "outputs": [
    {
     "name": "stdout",
     "output_type": "stream",
     "text": [
      "DSF = -3.787 kJ/K\n"
     ]
    }
   ],
   "source": [
    "TF = 700 # K\n",
    "\n",
    "DSF = QF/TF\n",
    "print('DSF = %s kJ/K'%round(DSF/1000,3))"
   ]
  },
  {
   "cell_type": "markdown",
   "metadata": {},
   "source": [
    "$$ \\begin{array}{l}\n",
    "\\Delta S_{15} = m_1 (s_5 - s_1) \\\\\n",
    "\\Delta S_{25} = m_2 (s_5 - s_2)\n",
    "\\end{array}$$"
   ]
  },
  {
   "cell_type": "code",
   "execution_count": 28,
   "metadata": {},
   "outputs": [
    {
     "name": "stdout",
     "output_type": "stream",
     "text": [
      "DS15 = 1.8894 kJ/K\n",
      "DS25 = 5.1624 kJ/K\n"
     ]
    }
   ],
   "source": [
    "DS15 = m1*(s5 - s1)\n",
    "DS25 = m2*(s5 - s2)\n",
    "\n",
    "print('DS15 = %s kJ/K'%round(DS15/1000,4))\n",
    "print('DS25 = %s kJ/K'%round(DS25/1000,4))"
   ]
  },
  {
   "cell_type": "markdown",
   "metadata": {},
   "source": [
    "$$ \\Delta S_u = \\Delta S_{15} + \\Delta S_{25} + \\Delta S_F + \\Delta S_2 + \\Delta S_1 $$"
   ]
  },
  {
   "cell_type": "code",
   "execution_count": 29,
   "metadata": {},
   "outputs": [
    {
     "name": "stdout",
     "output_type": "stream",
     "text": [
      "DSu = 7.3921 kJ/K\n"
     ]
    }
   ],
   "source": [
    "DSu = DS15 + DS25 + DSF + DS2 + DS1 \n",
    "print('DSu = %s kJ/K'%round(DSu/1000,4))"
   ]
  },
  {
   "cell_type": "markdown",
   "metadata": {},
   "source": [
    "### Rendimiento isoentrópico de la turbina\n",
    "$$ \\eta_{iso} = \\frac{h_4 - h_5}{h_4 - h_{5rev}} $$"
   ]
  },
  {
   "cell_type": "code",
   "execution_count": 30,
   "metadata": {},
   "outputs": [
    {
     "name": "stdout",
     "output_type": "stream",
     "text": [
      "eta_iso = 0.911\n"
     ]
    }
   ],
   "source": [
    "eta_iso = (h4 - h5)/(h4 - h5rev)\n",
    "print('eta_iso = %s'%round(eta_iso,3))"
   ]
  },
  {
   "cell_type": "markdown",
   "metadata": {},
   "source": [
    "### Variaciones de exergía"
   ]
  },
  {
   "cell_type": "markdown",
   "metadata": {},
   "source": [
    "$\\begin{array}{l}\n",
    "\\Delta Ex_{14} = m_1 (h_4 - h_1) - m_1 T_0 (s_4 - s_1) \\\\\n",
    "\\Delta Ex_{24} = m_2 (h_4 - h_2) - m_2 T_0 (s_4 - s_2) \\\\\n",
    "\\Delta Ex_{45} = m_4 (h_5 - h_4) - m_4 T_0 (s_5 - s_4)\n",
    "\\end{array}$"
   ]
  },
  {
   "attachments": {
    "imagen.png": {
     "image/png": "[encoded data removed]"
    }
   },
   "cell_type": "markdown",
   "metadata": {},
   "source": [
    "![imagen.png](attachment:imagen.png)"
   ]
  },
  {
   "attachments": {
    "imagen.png": {
     "image/png": "[encoded data removed]"
    }
   },
   "cell_type": "markdown",
   "metadata": {},
   "source": [
    "![imagen.png](attachment:imagen.png)"
   ]
  },
  {
   "cell_type": "code",
   "execution_count": 31,
   "metadata": {},
   "outputs": [],
   "source": [
    "DEx14 = m1*(h4 - h1) - m1*T0*(s4 - s1)\n",
    "DEx24 = m2*(h4 - h2) - m2*T0*(s4 - s2)\n",
    "DEx45 = m4*(h5 - h4) - m4*T0*(s5 - s4)"
   ]
  },
  {
   "cell_type": "markdown",
   "metadata": {},
   "source": [
    "### Rendimiento exergético del proceso"
   ]
  },
  {
   "cell_type": "markdown",
   "metadata": {},
   "source": [
    "$$ \\eta_{ex,proc} = \\frac{\\Delta Ex_{14} + \\Delta Ex_{24} + Q_{U2} }{ |\\Delta Ex_{45} + Q_F| } $$"
   ]
  },
  {
   "cell_type": "code",
   "execution_count": 35,
   "metadata": {},
   "outputs": [
    {
     "name": "stdout",
     "output_type": "stream",
     "text": [
      "eta_ex_pro = 0.641\n"
     ]
    }
   ],
   "source": [
    "eta_ex_pro = (DEx14 + DEx24 + QU2)/abs(DEx45 + QF)\n",
    "print('eta_ex_pro = %s'%round(eta_ex_pro,3))"
   ]
  },
  {
   "cell_type": "code",
   "execution_count": 33,
   "metadata": {},
   "outputs": [],
   "source": [
    "%reset -s -f"
   ]
  }
 ],
 "metadata": {
  "hide_input": false,
  "kernelspec": {
   "display_name": "Python 3",
   "language": "python",
   "name": "python3"
  },
  "language_info": {
   "codemirror_mode": {
    "name": "ipython",
    "version": 3
   },
   "file_extension": ".py",
   "mimetype": "text/x-python",
   "name": "python",
   "nbconvert_exporter": "python",
   "pygments_lexer": "ipython3",
   "version": "3.7.3"
  },
  "toc": {
   "base_numbering": 1,
   "nav_menu": {},
   "number_sections": true,
   "sideBar": true,
   "skip_h1_title": false,
   "title_cell": "Table of Contents",
   "title_sidebar": "Contents",
   "toc_cell": false,
   "toc_position": {},
   "toc_section_display": true,
   "toc_window_display": false
  },
  "varInspector": {
   "cols": {
    "lenName": 16,
    "lenType": 16,
    "lenVar": 40
   },
   "kernels_config": {
    "python": {
     "delete_cmd_postfix": "",
     "delete_cmd_prefix": "del ",
     "library": "var_list.py",
     "varRefreshCmd": "print(var_dic_list())"
    },
    "r": {
     "delete_cmd_postfix": ") ",
     "delete_cmd_prefix": "rm(",
     "library": "var_list.r",
     "varRefreshCmd": "cat(var_dic_list()) "
    }
   },
   "types_to_exclude": [
    "module",
    "function",
    "builtin_function_or_method",
    "instance",
    "_Feature"
   ],
   "window_display": false
  }
 },
 "nbformat": 4,
 "nbformat_minor": 4
}
