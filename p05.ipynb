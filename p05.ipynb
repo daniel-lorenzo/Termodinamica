{
 "cells": [
  {
   "cell_type": "raw",
   "metadata": {},
   "source": [
    "<script>\n",
    "  function code_toggle() {\n",
    "    if (code_shown){\n",
    "      $('div.input').hide('500');\n",
    "      $('#toggleButton').val('Show Code')\n",
    "    } else {\n",
    "      $('div.input').show('500');\n",
    "      $('#toggleButton').val('Hide Code')\n",
    "    }\n",
    "    code_shown = !code_shown\n",
    "  }\n",
    "\n",
    "  $( document ).ready(function(){\n",
    "    code_shown=true;\n",
    "    $('div.input').show()\n",
    "  });\n",
    "</script>\n",
    "<form action=\"javascript:code_toggle()\"><input type=\"submit\" id=\"toggleButton\" value=\"Hide Code\"></form>"
   ]
  },
  {
   "cell_type": "markdown",
   "metadata": {},
   "source": [
    "# Clase práctica 5 - Termodinámica\n",
    "__UNLZ - FI -- Jupyter Notebook + Python 3__\n",
    "\n",
    "__Alumno: Lorenzo, Daniel Antonio__  \n",
    "[<-Previous ](https://nbviewer.jupyter.org/github/daniel-lorenzo/Termodinamica/blob/master/p04.ipynb) - \n",
    "[Index](https://github.com/daniel-lorenzo/Termodinamica/blob/master/Readme.md) - \n",
    "[Next ->](https://nbviewer.jupyter.org/github/daniel-lorenzo/Termodinamica/blob/master/p06.ipynb)"
   ]
  },
  {
   "cell_type": "markdown",
   "metadata": {},
   "source": [
    "## Ejercicio 27\n",
    "Para comprimir aire se utiliza una turbina de vapor. Determinar:\n",
    "\n",
    "    a) Potencia que requiere el compresor\n",
    "    b) Caudal másico de vapor\n",
    "![27.png](img/27.png)"
   ]
  },
  {
   "cell_type": "markdown",
   "metadata": {},
   "source": [
    "### Solución\n",
    "$$ |W_C| = |W_T| $$\n",
    "\n",
    "$$ \\begin{array}{cl}\n",
    "W_T = \\dot{m}_3 (h_e -h_s) & [1] \\\\\n",
    "-W_C = \\dot{m}_1 (h_s - h_e) = \\dot{m}_1 c_p (T_f - T_e) & [2]\n",
    "\\end{array}\n",
    "$$"
   ]
  },
  {
   "cell_type": "markdown",
   "metadata": {},
   "source": [
    "1) \n",
    "$Q=0$\n",
    "$$\\left.\n",
    "\\begin{array}{l}\n",
    "Q - W = \\Delta H \\\\\n",
    "-W_C = \\dot{m}_1 (h_2 - h_1)\n",
    "\\end{array}\n",
    "\\right\\} \\mbox{compresor (aire) }= \\dot{m}_1 c_p (T_2-T_1)\n",
    "$$"
   ]
  },
  {
   "cell_type": "code",
   "execution_count": 1,
   "metadata": {},
   "outputs": [
    {
     "name": "stdout",
     "output_type": "stream",
     "text": [
      "Wc = 461.61 kJ/s (Watts)\n"
     ]
    }
   ],
   "source": [
    "# Datos:\n",
    "m1 = 3 # kg/s\n",
    "cp = 1.0047e3 # J/kg*K (aire)\n",
    "T1 = 300 + 273.15 # K\n",
    "T2 = 420 # K\n",
    "# Calculamos:\n",
    "#=====================\n",
    "Wc = -m1*cp*(T2 - T1)\n",
    "#=====================\n",
    "print('Wc = %s kJ/s (Watts)'%round(Wc/1000,2) )"
   ]
  },
  {
   "cell_type": "markdown",
   "metadata": {},
   "source": [
    "2) \n",
    "$Q=0$\n",
    "\n",
    "$$\\left.\n",
    "\\begin{array}{l}\n",
    "Q - W = \\Delta H \\\\\n",
    "-W_T = \\dot{m}_3 (h_4 - h_3)\n",
    "\\end{array}\n",
    "\\right\\} \\mbox{turbina (vapor)}\n",
    "$$"
   ]
  },
  {
   "cell_type": "code",
   "execution_count": 2,
   "metadata": {},
   "outputs": [],
   "source": [
    "# Importa biblioteca CoolProp\n",
    "import CoolProp.CoolProp as cp"
   ]
  },
  {
   "cell_type": "code",
   "execution_count": 3,
   "metadata": {},
   "outputs": [
    {
     "name": "stdout",
     "output_type": "stream",
     "text": [
      "h3 = 2860.93 kJ/kg\n",
      "h4 = 2689.98 kJ/kg\n"
     ]
    }
   ],
   "source": [
    "P3 = 4e5 # Pa\n",
    "T3 = 200 + 273.15 # K\n",
    "P4 = 1.4e5 # Pa\n",
    "x4 = 1\n",
    "\n",
    "h3 = cp.PropsSI('H','P',P3,'T',T3,'Water')\n",
    "h4 = cp.PropsSI('H','P',P4,'Q',x4,'Water')\n",
    "\n",
    "print('h3 = %s kJ/kg'%round(h3/1000,2))\n",
    "print('h4 = %s kJ/kg'%round(h4/1000,2))"
   ]
  },
  {
   "cell_type": "code",
   "execution_count": 5,
   "metadata": {},
   "outputs": [
    {
     "name": "stdout",
     "output_type": "stream",
     "text": [
      "m3 = 2.7 kg/s\n"
     ]
    }
   ],
   "source": [
    "# Datos:\n",
    "Wt = Wc\n",
    "\n",
    "# Calculamos:\n",
    "#====================\n",
    "m3 = -Wt/(h4 - h3)\n",
    "#====================\n",
    "print('m3 = %s kg/s'%round(m3,3))"
   ]
  },
  {
   "cell_type": "code",
   "execution_count": 6,
   "metadata": {},
   "outputs": [],
   "source": [
    "%reset -s -f"
   ]
  },
  {
   "cell_type": "markdown",
   "metadata": {},
   "source": [
    "## Ejercicio 28\n",
    "Determinar:\n",
    "      \n",
    "1) $\\dot{m}_1$\n",
    "      \n",
    "2) $\\dot{m}_4 \\; (O_2)$\n",
    "\n",
    "![28.png](img/28.png)"
   ]
  },
  {
   "cell_type": "markdown",
   "metadata": {},
   "source": [
    "### Solución\n",
    "1) Para la turbina tenemos\n",
    "\n",
    "$\\left\\{\n",
    "\\begin{array}{l}\n",
    "P_1 = 10 \\, \\mathrm{bar} \\\\\n",
    "t_1 = 400^\\circ \\mathrm{C}\n",
    "\\end{array}\n",
    "\\right. \\qquad \\rightarrow \\qquad h_1 = 3264,5 \\, \\mathrm{kJ}\n",
    "$"
   ]
  },
  {
   "cell_type": "markdown",
   "metadata": {},
   "source": [
    "$\\left\\{\n",
    "\\begin{array}{l}\n",
    "P_2 = 1 \\, \\mathrm{bar} \\\\\n",
    "t_2 = 140^\\circ \\mathrm{C}\n",
    "\\end{array}\n",
    "\\right. \\qquad \\rightarrow \\qquad h_2 = 2756,7 \\, \\mathrm{kJ}\n",
    "$"
   ]
  },
  {
   "cell_type": "code",
   "execution_count": 7,
   "metadata": {},
   "outputs": [],
   "source": [
    "import CoolProp.CoolProp as cp"
   ]
  },
  {
   "cell_type": "code",
   "execution_count": 8,
   "metadata": {},
   "outputs": [
    {
     "name": "stdout",
     "output_type": "stream",
     "text": [
      "h1 = 3264.47 kJ/kg\n"
     ]
    }
   ],
   "source": [
    "P1 = 10e5 # Pa\n",
    "T1 = 400 + 273.15 # K\n",
    "\n",
    "h1 = cp.PropsSI('H','P',P1,'T',T1,'Water')\n",
    "\n",
    "print('h1 = %s kJ/kg'%round(h1/1000,2))"
   ]
  },
  {
   "cell_type": "code",
   "execution_count": 9,
   "metadata": {},
   "outputs": [
    {
     "name": "stdout",
     "output_type": "stream",
     "text": [
      "h2 = 2756.72 kJ/kg\n"
     ]
    }
   ],
   "source": [
    "P2 = 1e5 # Pa\n",
    "T2 = 140 + 273.15 # K\n",
    "\n",
    "h2 = cp.PropsSI('H','P',P2,'T',T2,'Water')\n",
    "\n",
    "print('h2 = %s kJ/kg'%round(h2/1000,2))"
   ]
  },
  {
   "cell_type": "markdown",
   "metadata": {},
   "source": [
    "$$\\begin{array}{c}\n",
    "Q - W = \\Delta H \\\\\n",
    "-W_T = \\dot{m}_1 (h_2 - h_1) \\\\\n",
    "\\displaystyle \\dot{m}_1 = \\frac{-W_T}{h_2 - h_1} \n",
    "\\end{array}$$"
   ]
  },
  {
   "cell_type": "code",
   "execution_count": 11,
   "metadata": {},
   "outputs": [
    {
     "name": "stdout",
     "output_type": "stream",
     "text": [
      "m1 = 11.817 kg/s\n"
     ]
    }
   ],
   "source": [
    "# Datos:\n",
    "W_T = 6000e3 # W\n",
    "\n",
    "# Calculamos:\n",
    "#====================\n",
    "m1 = -W_T/(h2 - h1)\n",
    "#====================\n",
    "print('m1 = %s kg/s'%round(m1,3))"
   ]
  },
  {
   "cell_type": "markdown",
   "metadata": {},
   "source": [
    "2) Para el intercambiador de calor:\n",
    "\n",
    "$Q=0$ y $W = 0$\n",
    "$$\\begin{array}{c}\n",
    "Q - W = \\Delta H \\\\\n",
    "\\Delta H = 0 \\\\\n",
    "H_E = H_S \n",
    "\\end{array}$$"
   ]
  },
  {
   "cell_type": "markdown",
   "metadata": {},
   "source": [
    "$\\left\\{\n",
    "\\begin{array}{l}\n",
    "P_3 = 0,95 \\, \\mathrm{bar} \\\\\n",
    "x_3 = 1\n",
    "\\end{array}\n",
    "\\right. \\qquad \\rightarrow \\qquad [h_3]\n",
    "$"
   ]
  },
  {
   "cell_type": "code",
   "execution_count": 12,
   "metadata": {},
   "outputs": [
    {
     "name": "stdout",
     "output_type": "stream",
     "text": [
      "h3 = 2672.69 kJ/kg\n"
     ]
    }
   ],
   "source": [
    "P3 = 0.95e5 # Pa\n",
    "x3 = 1\n",
    "\n",
    "h3 = cp.PropsSI('H','P',P3,'Q',x3,'Water')\n",
    "\n",
    "print('h3 = %s kJ/kg'%round(h3/1000,2))"
   ]
  },
  {
   "cell_type": "markdown",
   "metadata": {},
   "source": [
    "$\\left\\{ \\begin{array}{l}\n",
    "\\dot{m}_3 h_3 + \\dot{m}_5 h_5 = \\dot{m}_2 h_2 + \\dot{m}_4 h_4 \\\\\n",
    "\\dot{m}_4 = \\dot{m}_5 = \\dot{m}_{O_2} \\\\\n",
    "\\dot{m}_2 = \\dot{m}_3 = \\dot{m}_{vapor}\n",
    "\\end{array}\n",
    "\\right.\n",
    "$"
   ]
  },
  {
   "cell_type": "markdown",
   "metadata": {},
   "source": [
    "$$ \\dot{m}_2(h_2-h_3) = \\dot{m}_4(h_5-h_4) = c_{pO_2} \\dot{m}_4 (T_5 - T_4) $$"
   ]
  },
  {
   "cell_type": "markdown",
   "metadata": {},
   "source": [
    "$$ m_{O_2} = m_{vapor} \\, \\frac{h_2 - h_3}{c_p \\, (T_5 - T_4)} $$"
   ]
  },
  {
   "cell_type": "code",
   "execution_count": 13,
   "metadata": {},
   "outputs": [
    {
     "name": "stdout",
     "output_type": "stream",
     "text": [
      "m4 = 8.79 kg/s\n"
     ]
    }
   ],
   "source": [
    "# Datos:\n",
    "m2 = m1\n",
    "T4 = 27 + 273.15 # K\n",
    "T5 = 150 + 273.15 # K\n",
    "cp = 0.9185e3 # J/kg*K\n",
    "# Calculamos:\n",
    "#================================\n",
    "m4 = m2*(h2 - h3)/(T5 - T4)*1/cp\n",
    "#================================\n",
    "print('m4 = %s kg/s'%round(m4,2))"
   ]
  },
  {
   "cell_type": "code",
   "execution_count": 14,
   "metadata": {},
   "outputs": [],
   "source": [
    "%reset -s -f"
   ]
  },
  {
   "cell_type": "markdown",
   "metadata": {},
   "source": [
    "## Ejercicio 29\n",
    "Mediante un eje que acciona una rueda de paletas se entrega trabajo al aire contenido\n",
    "en B hasta que éste alcanza 500°C. Determine el trabajo suministrado por el eje.\n",
    "![29.png](img/29.png)"
   ]
  },
  {
   "cell_type": "markdown",
   "metadata": {},
   "source": [
    "### Solución\n",
    "En el equilibrio, con x = 1 es todo vapor de agua\n",
    "\n",
    "$$\\begin{array}{c}\n",
    "Q - \\Delta U = W \\qquad ; \\qquad Q = 0  \\\\\n",
    "\\Rightarrow \\; - \\Delta U = W_T \n",
    "\\end{array}$$"
   ]
  },
  {
   "cell_type": "markdown",
   "metadata": {},
   "source": [
    "$Q = 0$ (porque es adiabático, no hay intercambio de calor con el medio)"
   ]
  },
  {
   "cell_type": "markdown",
   "metadata": {},
   "source": [
    "Datos: \n",
    "$\\left\\{\n",
    "\\begin{array}{l}\n",
    "P_p = 9 \\, \\mathrm{bar}\\\\\n",
    "x_1 = 1\n",
    "\\end{array}\n",
    "\\right. \\qquad \\rightarrow \\qquad\n",
    "\\left[\n",
    "\\begin{array}{l}\n",
    "u_1 \\\\\n",
    "t_1 \\\\\n",
    "v_1\n",
    "\\end{array}\n",
    "\\right]\n",
    "$"
   ]
  },
  {
   "cell_type": "markdown",
   "metadata": {},
   "source": [
    "Datos: \n",
    "$\\left\\{\n",
    "\\begin{array}{l}\n",
    "P_p = 9 \\, \\mathrm{bar}\\\\\n",
    "t_2 = 500^\\circ \\mathrm{C}\n",
    "\\end{array}\n",
    "\\right. \\qquad \\rightarrow \\qquad\n",
    "\\left[\n",
    "\\begin{array}{l}\n",
    "u_2 \\\\\n",
    "v_2\n",
    "\\end{array}\n",
    "\\right]\n",
    "$"
   ]
  },
  {
   "cell_type": "code",
   "execution_count": 5,
   "metadata": {},
   "outputs": [],
   "source": [
    "import CoolProp.CoolProp as cp"
   ]
  },
  {
   "cell_type": "code",
   "execution_count": 8,
   "metadata": {},
   "outputs": [
    {
     "name": "stdout",
     "output_type": "stream",
     "text": [
      "u_1 = 2579.64 kJ/kg\n",
      "T_1 = 448.5 K\n",
      "t_1 = 175.35°C\n",
      "v_1 = 0.21489 m^3/kg\n",
      "   \n",
      "u_2 = 3125.79 kJ/kg\n",
      "v_2 = 0.39376 m^3/kg\n"
     ]
    }
   ],
   "source": [
    "# Datos:\n",
    "Pp = 9e5 # Pa\n",
    "x_1 = 1\n",
    "T_2 = 500 + 273.15 # K\n",
    "\n",
    "u_1 = cp.PropsSI('U','P',Pp,'Q',x_1,'Water')\n",
    "T_1 = cp.PropsSI('T','P',Pp,'Q',x_1,'Water')\n",
    "v_1 = 1/cp.PropsSI('D','P',Pp,'Q',x_1,'Water')\n",
    "\n",
    "u_2 = cp.PropsSI('U','P',Pp,'T',T_2,'Water')\n",
    "v_2 = 1/cp.PropsSI('D','P',Pp,'T',T_2,'Water')\n",
    "\n",
    "print('u_1 = %s kJ/kg'%round(u_1/1000,2))\n",
    "print('T_1 = %s K'%round(T_1,2))\n",
    "print('t_1 = %s°C'%round(T_1 - 273.15,2))\n",
    "print('v_1 = %s m^3/kg'%round(v_1,5))\n",
    "print('   ')\n",
    "print('u_2 = %s kJ/kg'%round(u_2/1000,2))\n",
    "print('v_2 = %s m^3/kg'%round(v_2,5))"
   ]
  },
  {
   "cell_type": "markdown",
   "metadata": {},
   "source": [
    "* Variación energía interna del aire\n",
    "\n",
    "$$ \\Delta U_{aire} = m_{aire} \\, c_v \\, (t_2 - t_1) $$"
   ]
  },
  {
   "cell_type": "markdown",
   "metadata": {},
   "source": [
    "* Variación energía interna del vapor\n",
    "\n",
    "$$ \\Delta U_{vapor} = m_{vapor} \\, (u_2 - u_1) $$"
   ]
  },
  {
   "cell_type": "markdown",
   "metadata": {},
   "source": [
    "* Variación energía interna (total)\n",
    "\n",
    "$$ \\Delta U = \\Delta U _{aire} + \\Delta U_{vapor} $$"
   ]
  },
  {
   "cell_type": "markdown",
   "metadata": {},
   "source": [
    "* Trabajo total\n",
    "\n",
    "$$ W_T = - \\Delta U $$"
   ]
  },
  {
   "cell_type": "markdown",
   "metadata": {},
   "source": [
    "* Trabajo por variación de volumen\n",
    "\n",
    "$$ W_{\\Delta V} = P_p \\, m_{vapor} \\, (v_2 - v_1) $$"
   ]
  },
  {
   "cell_type": "markdown",
   "metadata": {},
   "source": [
    "* Trabajo en el eje\n",
    "\n",
    "$$ W_{eje} = W_T - W_{\\Delta V} $$"
   ]
  },
  {
   "cell_type": "code",
   "execution_count": 12,
   "metadata": {},
   "outputs": [
    {
     "name": "stdout",
     "output_type": "stream",
     "text": [
      "W_T = -12450.62 kJ\n",
      "W_dv = 1609.87 kJ\n",
      "W_eje = -14060.49 kJ\n"
     ]
    }
   ],
   "source": [
    "# Datos:\n",
    "cv = 0.7176 * 1000 # J/kg*K (aire, a volumen constante)\n",
    "m_aire = 30 # kg\n",
    "m_vapor = 10 # kg\n",
    "\n",
    "# Calculamos:\n",
    "#==========================\n",
    "# (variación de energía interna del aire)\n",
    "DU_aire = m_aire*cv*(T_2 - T_1) \n",
    "\n",
    "# (variación de energía interna del vapor)\n",
    "DU_vapor = m_vapor*(u_2 - u_1) \n",
    "\n",
    "# (variación de energía interna)\n",
    "DU = DU_aire + DU_vapor \n",
    "\n",
    "# Trabajo total\n",
    "W_T = -DU \n",
    "\n",
    "# Trabajo por variación de volumen\n",
    "W_dv = Pp*m_vapor*(v_2 - v_1) \n",
    "\n",
    "# Trabajo en el eje\n",
    "W_eje = W_T - W_dv \n",
    "#===========================\n",
    "\n",
    "print('W_T = %s kJ'%round(W_T/1000,2))\n",
    "print('W_dv = %s kJ'%round(W_dv/1000,2))\n",
    "print('W_eje = %s kJ'%round(W_eje/1000,2))"
   ]
  },
  {
   "cell_type": "code",
   "execution_count": 24,
   "metadata": {},
   "outputs": [],
   "source": [
    "%reset -s -f"
   ]
  },
  {
   "cell_type": "markdown",
   "metadata": {},
   "source": [
    "## Ejercicio 30\n",
    "Determinar: \n",
    "1. $\\dot{W}_A$ \n",
    "2. $\\dot{W}_B$\n",
    "3. $Q_{2-3}$ \n",
    "\n",
    "![30.png](img/30.png)"
   ]
  },
  {
   "cell_type": "markdown",
   "metadata": {},
   "source": [
    "### Solución\n",
    "1.\n",
    "$Q=0$\n",
    "\n",
    "$$\\left.\n",
    "\\begin{array}{l}\n",
    "Q - W = \\Delta H \\\\\n",
    "-\\dot{W}_A = \\dot{m}_1 (h_2 - h_1)\n",
    "\\end{array}\n",
    "\\right\\} \\mbox{turbina (vapor)}\n",
    "$$"
   ]
  },
  {
   "cell_type": "markdown",
   "metadata": {},
   "source": [
    "$\\left\\{\n",
    "\\begin{array}{l}\n",
    "P_1 = 6 \\, \\mathrm{MPa} \\\\\n",
    "t_1 = 400^\\circ \\mathrm{C}\n",
    "\\end{array}\n",
    "\\right. \\qquad \\rightarrow \\qquad h_1$"
   ]
  },
  {
   "cell_type": "code",
   "execution_count": 25,
   "metadata": {},
   "outputs": [],
   "source": [
    "import CoolProp.CoolProp as cp"
   ]
  },
  {
   "cell_type": "code",
   "execution_count": 27,
   "metadata": {},
   "outputs": [
    {
     "name": "stdout",
     "output_type": "stream",
     "text": [
      "h_1 = 3178.25 kJ/kg\n"
     ]
    }
   ],
   "source": [
    "# Datos\n",
    "P_1 = 6e6 # Pa\n",
    "T_1 = 400 + 273.15 # K\n",
    "\n",
    "h_1 = cp.PropsSI('H','P',P_1,'T',T_1,'Water')\n",
    "\n",
    "print('h_1 = %s kJ/kg'%round(h_1/1000,2))"
   ]
  },
  {
   "cell_type": "markdown",
   "metadata": {},
   "source": [
    "$\\left\\{\n",
    "\\begin{array}{l}\n",
    "P_2 = 7 \\, \\mathrm{bar} \\\\\n",
    "x_1 = 1\n",
    "\\end{array}\n",
    "\\right. \\qquad \\rightarrow \\qquad h_2$"
   ]
  },
  {
   "cell_type": "code",
   "execution_count": 28,
   "metadata": {},
   "outputs": [
    {
     "name": "stdout",
     "output_type": "stream",
     "text": [
      "h_2 = 2762.75 kJ/kg\n"
     ]
    }
   ],
   "source": [
    "# Datos\n",
    "P_2 = 7e5 # Pa\n",
    "x_1 = 1\n",
    "\n",
    "h_2 = cp.PropsSI('H','P',P_2,'Q',x_1,'Water')\n",
    "\n",
    "print('h_2 = %s kJ/kg'%round(h_2/1000,2))"
   ]
  },
  {
   "cell_type": "markdown",
   "metadata": {},
   "source": [
    "$$ W_A = m_1 (h_1 - h_2) $$"
   ]
  },
  {
   "cell_type": "code",
   "execution_count": 30,
   "metadata": {},
   "outputs": [
    {
     "name": "stdout",
     "output_type": "stream",
     "text": [
      "W_A = 5401.43 kJ/s\n"
     ]
    }
   ],
   "source": [
    "m_1 = 13 # kg/s\n",
    "\n",
    "W_A = m_1*(h_1 - h_2)\n",
    "\n",
    "print('W_A = %s kJ/s'%round(W_A/1000,2))"
   ]
  },
  {
   "cell_type": "markdown",
   "metadata": {},
   "source": [
    "2. $Q=0$\n",
    "\n",
    "$$\\left.\n",
    "\\begin{array}{l}\n",
    "Q - W = \\Delta H \\\\\n",
    "-\\dot{W}_B = \\dot{m}_3 (h_4 - h_3)\n",
    "\\end{array}\n",
    "\\right\\} \\mbox{turbina (vapor)}\n",
    "$$"
   ]
  },
  {
   "cell_type": "markdown",
   "metadata": {},
   "source": [
    "$\\left\\{\n",
    "\\begin{array}{l}\n",
    "P_3 = 7 \\, \\mathrm{bar} \\\\\n",
    "t_3 = 400^\\circ \\mathrm{C}\n",
    "\\end{array}\n",
    "\\right. \\qquad \\rightarrow \\qquad h_3$"
   ]
  },
  {
   "cell_type": "code",
   "execution_count": 32,
   "metadata": {},
   "outputs": [
    {
     "name": "stdout",
     "output_type": "stream",
     "text": [
      "h_3 = 3269.21 kJ/kg\n"
     ]
    }
   ],
   "source": [
    "# Datos\n",
    "P_3 = 7e5 # Pa\n",
    "T_3 = 400 + 273.15 # K\n",
    "\n",
    "h_3 = cp.PropsSI('H','P',P_3,'T',T_3,'Water')\n",
    "\n",
    "print('h_3 = %s kJ/kg'%round(h_3/1000,2))"
   ]
  },
  {
   "cell_type": "markdown",
   "metadata": {},
   "source": [
    "$\\left\\{\n",
    "\\begin{array}{l}\n",
    "P_4 = 5 \\, \\mathrm{kPa} \\\\\n",
    "x_4 = 0,9\n",
    "\\end{array}\n",
    "\\right. \\qquad \\rightarrow \\qquad\n",
    "\\left[\n",
    "\\begin{array}{l}\n",
    "h' \\\\\n",
    "h''\n",
    "\\end{array}\n",
    "\\right]\n",
    "$"
   ]
  },
  {
   "cell_type": "markdown",
   "metadata": {},
   "source": [
    "$$ x = \\frac{h - h'}{h'' - h'} \\quad \\Rightarrow \\quad h = x \\, (h''-h')+h' $$"
   ]
  },
  {
   "cell_type": "markdown",
   "metadata": {},
   "source": [
    "$$ h_4 = x_4 \\, (h'' - h') + h' $$"
   ]
  },
  {
   "cell_type": "code",
   "execution_count": 34,
   "metadata": {},
   "outputs": [
    {
     "name": "stdout",
     "output_type": "stream",
     "text": [
      "h_4 = 2318.43 kJ/kg\n"
     ]
    }
   ],
   "source": [
    "# Datos\n",
    "P_4 = 5e3 # Pa\n",
    "x_4 = 0.9\n",
    "\n",
    "hp1 = cp.PropsSI('H','P',P_4,'Q',0,'Water')\n",
    "hp2 = cp.PropsSI('H','P',P_4,'Q',1,'Water')\n",
    "\n",
    "h_4 = x_4*(hp2 - hp1) + hp1\n",
    "\n",
    "print('h_4 = %s kJ/kg'%round(h_4/1000,2))"
   ]
  },
  {
   "cell_type": "code",
   "execution_count": 35,
   "metadata": {},
   "outputs": [
    {
     "name": "stdout",
     "output_type": "stream",
     "text": [
      "h_4 = 2318.43 kJ/kg\n"
     ]
    }
   ],
   "source": [
    "# o tambien\n",
    "h_4 = cp.PropsSI('H','P',P_4,'Q',x_4,'Water')\n",
    "\n",
    "print('h_4 = %s kJ/kg'%round(h_4/1000,2))"
   ]
  },
  {
   "cell_type": "markdown",
   "metadata": {},
   "source": [
    "$m_3 = m_1$\n",
    "$$ W_B = m_3 (h_3 - h_4) $$"
   ]
  },
  {
   "cell_type": "code",
   "execution_count": 38,
   "metadata": {},
   "outputs": [
    {
     "name": "stdout",
     "output_type": "stream",
     "text": [
      "W_B = 12360.23 kJ/s\n"
     ]
    }
   ],
   "source": [
    "m_3 = m_1\n",
    "\n",
    "W_B = m_3*(h_3 - h_4)\n",
    "\n",
    "print('W_B = %s kJ/s'%round(W_B/1000,2))"
   ]
  },
  {
   "cell_type": "markdown",
   "metadata": {},
   "source": [
    "Para el intercambiador de calor\n",
    "\n",
    "$W=0$\n",
    "\n",
    "$$\\begin{array}{c}\n",
    "Q - W = \\Delta H \\\\\n",
    "Q = \\Delta H \\\\\n",
    "Q = \\dot{m} \\, \\Delta h \\\\\n",
    "Q_{2-3} = \\dot{m}_3 \\, (h_3 - h_2) \n",
    "\\end{array}$$"
   ]
  },
  {
   "cell_type": "code",
   "execution_count": 39,
   "metadata": {},
   "outputs": [
    {
     "name": "stdout",
     "output_type": "stream",
     "text": [
      "Q_23 = 6584.0 kJ/s\n"
     ]
    }
   ],
   "source": [
    "Q_23 = m_3*(h_3 - h_2)\n",
    "\n",
    "print('Q_23 = %s kJ/s'%round(Q_23/1000,2))"
   ]
  },
  {
   "cell_type": "code",
   "execution_count": 40,
   "metadata": {},
   "outputs": [],
   "source": [
    "%reset -s -f"
   ]
  },
  {
   "cell_type": "markdown",
   "metadata": {},
   "source": [
    "## Ejercicio 31\n",
    "![31.png](img/31.png)\n",
    "\n",
    "Se pide:\n",
    "1. Estado de vapor en 2\n",
    "2. $m_3$ y estado vapor $(P, \\, T, \\, x)$\n",
    "3. $\\dot{Q}$"
   ]
  },
  {
   "cell_type": "markdown",
   "metadata": {},
   "source": [
    "### Solución"
   ]
  },
  {
   "cell_type": "markdown",
   "metadata": {},
   "source": [
    "Para la válvula reguladora:\n",
    "\n",
    "$Q = 0$ y $W=0$\n",
    "\n",
    "$$\\begin{array}{c}\n",
    "Q - W = \\Delta H \\\\\n",
    "H_S - H_E = 0 \\quad \\Rightarrow \\quad H_S = H_E \\\\\n",
    "m \\, (h_s - h_e) = 0  \\quad  \\Rightarrow \\quad h_s = h_e \n",
    "\\end{array}$$"
   ]
  },
  {
   "cell_type": "markdown",
   "metadata": {},
   "source": [
    "El punto 1 está en el equilibrio\n",
    "\n",
    "$\\left\\{\n",
    "\\begin{array}{l}\n",
    "P_1 = 40 \\, \\mathrm{bar} \\\\\n",
    "x_1 = 0,8\n",
    "\\end{array}\n",
    "\\right. \\qquad \\rightarrow \\qquad\n",
    "\\left[\n",
    "\\begin{array}{l}\n",
    "h' \\\\\n",
    "h''\n",
    "\\end{array}\n",
    "\\right]\n",
    "$\n",
    "\n",
    "$$ h_1 = x_1 \\, (h'' - h') + h' $$"
   ]
  },
  {
   "cell_type": "code",
   "execution_count": 1,
   "metadata": {},
   "outputs": [],
   "source": [
    "import CoolProp.CoolProp as cp"
   ]
  },
  {
   "cell_type": "code",
   "execution_count": 16,
   "metadata": {},
   "outputs": [
    {
     "name": "stdout",
     "output_type": "stream",
     "text": [
      "h_1 = 2458.15 kJ/kg\n"
     ]
    }
   ],
   "source": [
    "# Datos\n",
    "P_1 = 40e5 # Pa\n",
    "x_1 = 0.8\n",
    "m_1 = 0.4 # kg/s\n",
    "\n",
    "hp1 = cp.PropsSI('H','P',P_1,'Q',0,'Water')\n",
    "hp2 = cp.PropsSI('H','P',P_1,'Q',1,'Water')\n",
    "\n",
    "# Entonces\n",
    "h_1 = x_1*(hp2 - hp1) + hp1\n",
    "\n",
    "print('h_1 = %s kJ/kg'%round(h_1/1000,2))"
   ]
  },
  {
   "cell_type": "code",
   "execution_count": 3,
   "metadata": {},
   "outputs": [
    {
     "name": "stdout",
     "output_type": "stream",
     "text": [
      "h_1 = 2458.15 kJ/kg\n"
     ]
    }
   ],
   "source": [
    "# o también\n",
    "\n",
    "h_1 = cp.PropsSI('H','P',P_1,'Q',x_1,'Water')\n",
    "\n",
    "print('h_1 = %s kJ/kg'%round(h_1/1000,2))"
   ]
  },
  {
   "cell_type": "markdown",
   "metadata": {},
   "source": [
    "$\\left\\{\n",
    "\\begin{array}{l}\n",
    "P_2 = P_3 = 10 \\, \\mathrm{bar} \\\\\n",
    "h_2 = h_1 = 2458,15 \\, \\mathrm{kJ/kg}\n",
    "\\end{array}\n",
    "\\right. \\qquad \\rightarrow \\qquad\n",
    "\\left[\n",
    "\\begin{array}{l}\n",
    "h' \\\\\n",
    "h''\n",
    "\\end{array}\n",
    "\\right]\n",
    "$"
   ]
  },
  {
   "cell_type": "markdown",
   "metadata": {},
   "source": [
    "$$ x_2 = \\frac{h_2 - h'}{h'' - h'} $$"
   ]
  },
  {
   "cell_type": "code",
   "execution_count": 6,
   "metadata": {},
   "outputs": [
    {
     "name": "stdout",
     "output_type": "stream",
     "text": [
      "x_2 = 0.8417\n",
      "T_2 = 453.03 K\n",
      "t_2 = 179.88°C\n"
     ]
    }
   ],
   "source": [
    "# Datos\n",
    "P_3 = 10e5 # Pa\n",
    "h_2 = h_1\n",
    "\n",
    "hp1 = cp.PropsSI('H','P',P_3,'Q',0,'Water')\n",
    "hp2 = cp.PropsSI('H','P',P_3,'Q',1,'Water')\n",
    "T_2 = cp.PropsSI('T','P',P_3,'Q',1,'Water')\n",
    "\n",
    "x_2 = (h_2 - hp1)/(hp2 - hp1)\n",
    "\n",
    "print('x_2 = %s'%round(x_2,4))\n",
    "print('T_2 = %s K'%round(T_2,2))\n",
    "print('t_2 = %s°C'%round(T_2 - 273.15,2))"
   ]
  },
  {
   "cell_type": "code",
   "execution_count": 7,
   "metadata": {},
   "outputs": [
    {
     "name": "stdout",
     "output_type": "stream",
     "text": [
      "x_2 = 0.8417\n"
     ]
    }
   ],
   "source": [
    "# o también\n",
    "\n",
    "x_2 = cp.PropsSI('Q','P',P_3,'H',h_2,'Water')\n",
    "\n",
    "print('x_2 = %s'%round(x_2,4))"
   ]
  },
  {
   "cell_type": "markdown",
   "metadata": {},
   "source": [
    "Para la turbina tenemos\n",
    "\n",
    "$$\\begin{array}{c}\n",
    "Q = 0 \\quad \\wedge \\quad Q - W = \\Delta H \\\\\n",
    "-W = \\Delta H \\\\\n",
    "-W = m_4 \\, (h_5 - h_4) \n",
    "\\end{array}$$"
   ]
  },
  {
   "cell_type": "markdown",
   "metadata": {},
   "source": [
    "$\\left\\{\n",
    "\\begin{array}{l}\n",
    "P_4 = P_3 = 10 \\, \\mathrm{bar} \\\\\n",
    "t_4 = 400^\\circ \\mathrm{C}\n",
    "\\end{array}\n",
    "\\right. \\qquad \\rightarrow \\quad h_4\n",
    "$"
   ]
  },
  {
   "cell_type": "code",
   "execution_count": 9,
   "metadata": {},
   "outputs": [
    {
     "name": "stdout",
     "output_type": "stream",
     "text": [
      "h_4 = 3264.47 kJ/kg\n"
     ]
    }
   ],
   "source": [
    "# Datos\n",
    "P_4 = P_3\n",
    "T_4 = 400 + 273.15 # K\n",
    "\n",
    "h_4 = cp.PropsSI('H','P',P_4,'T',T_4,'Water')\n",
    "\n",
    "print('h_4 = %s kJ/kg'%round(h_4/1000,2))"
   ]
  },
  {
   "cell_type": "markdown",
   "metadata": {},
   "source": [
    "$\\left\\{\n",
    "\\begin{array}{l}\n",
    "P_5 = 0,05 \\, \\mathrm{bar} \\\\\n",
    "x_5 = 0,9\n",
    "\\end{array}\n",
    "\\right. \\qquad \\rightarrow \\quad\n",
    "\\left[\n",
    "\\begin{array}{l}\n",
    "h' \\\\\n",
    "h''\n",
    "\\end{array}\n",
    "\\right]\n",
    "$"
   ]
  },
  {
   "cell_type": "markdown",
   "metadata": {},
   "source": [
    "$$ h_5 = x \\, (h'' - h') + h' $$"
   ]
  },
  {
   "cell_type": "code",
   "execution_count": 10,
   "metadata": {},
   "outputs": [
    {
     "name": "stdout",
     "output_type": "stream",
     "text": [
      "h_5 = 2318.43 kJ/kg\n"
     ]
    }
   ],
   "source": [
    "# Datos\n",
    "P_5 = 0.05e5 # Pa\n",
    "x_5 = 0.9\n",
    "\n",
    "hp1 = cp.PropsSI('H','P',P_5,'Q',0,'Water')\n",
    "hp2 = cp.PropsSI('H','P',P_5,'Q',1,'Water')\n",
    "\n",
    "h_5 = x_5*(hp2 - hp1) + hp1\n",
    "\n",
    "print('h_5 = %s kJ/kg'%round(h_5/1000,2))"
   ]
  },
  {
   "cell_type": "code",
   "execution_count": 11,
   "metadata": {},
   "outputs": [
    {
     "name": "stdout",
     "output_type": "stream",
     "text": [
      "h_5 = 2318.43 kJ/kg\n"
     ]
    }
   ],
   "source": [
    "# o también\n",
    "\n",
    "h_5 = cp.PropsSI('H','P',P_5,'Q',x_5,'Water')\n",
    "\n",
    "print('h_5 = %s kJ/kg'%round(h_5/1000,2))"
   ]
  },
  {
   "cell_type": "markdown",
   "metadata": {},
   "source": [
    "$$ m_4 = \\frac{-W}{h_5 - h_4} $$"
   ]
  },
  {
   "cell_type": "code",
   "execution_count": 13,
   "metadata": {},
   "outputs": [
    {
     "name": "stdout",
     "output_type": "stream",
     "text": [
      "m_4 = 1.06 kg/s\n"
     ]
    }
   ],
   "source": [
    "# Datos\n",
    "W = 1000e3 # J/s\n",
    "\n",
    "m_4 = -W/(h_5 - h_4)\n",
    "\n",
    "print('m_4 = %s kg/s'%round(m_4,2))"
   ]
  },
  {
   "cell_type": "markdown",
   "metadata": {},
   "source": [
    "$$\\begin{array}{c}\n",
    "\\dot{m}_2 + \\dot{m}_3 = \\dot{m}_4 \\\\\n",
    "\\dot{m}_3 = \\dot{m}_4 - \\dot{m}_2 \\\\\n",
    "\\dot{m}_2 h_2 + \\dot{m}_3 h_3 = \\dot{m}_4 h_4 \n",
    "\\end{array}$$"
   ]
  },
  {
   "cell_type": "markdown",
   "metadata": {},
   "source": [
    "$$ h_3 = \\frac{ \\dot{m}_4 h_4 - \\dot{m}_2 h_2 }{ \\dot{m}_3 }$$"
   ]
  },
  {
   "cell_type": "code",
   "execution_count": 17,
   "metadata": {},
   "outputs": [
    {
     "name": "stdout",
     "output_type": "stream",
     "text": [
      "m_3 = 0.66 kg/s\n",
      "h_3 = 3755.36 kJ/kg\n"
     ]
    }
   ],
   "source": [
    "m_2 = m_1\n",
    "\n",
    "m_3 = m_4 - m_2\n",
    "\n",
    "h_3 = (m_4*h_4 - m_2*h_2)/m_3\n",
    "\n",
    "print('m_3 = %s kg/s'%round(m_3,2))\n",
    "print('h_3 = %s kJ/kg'%round(h_3/1000,2))"
   ]
  },
  {
   "cell_type": "markdown",
   "metadata": {},
   "source": [
    "$\\left\\{\n",
    "\\begin{array}{l}\n",
    "P_3 = 10 \\, \\mathrm{bar} \\\\\n",
    "h_3 = 3755,36 \\, \\mathrm{kJ/kg}\n",
    "\\end{array}\n",
    "\\right. \\qquad \\rightarrow \\qquad\n",
    "[T]\n",
    "$"
   ]
  },
  {
   "cell_type": "code",
   "execution_count": 18,
   "metadata": {},
   "outputs": [
    {
     "name": "stdout",
     "output_type": "stream",
     "text": [
      "T_3 = 898.6 K\n",
      "t_3 = 625.45°C\n"
     ]
    }
   ],
   "source": [
    "T_3 = cp.PropsSI('T','P',P_3,'H',h_3,'Water')\n",
    "\n",
    "print('T_3 = %s K'%round(T_3,2))\n",
    "print('t_3 = %s°C'%round(T_3 - 273.15,2))"
   ]
  },
  {
   "cell_type": "code",
   "execution_count": 20,
   "metadata": {},
   "outputs": [
    {
     "data": {
      "text/plain": [
       "'supercritical_gas'"
      ]
     },
     "execution_count": 20,
     "metadata": {},
     "output_type": "execute_result"
    }
   ],
   "source": [
    "cp.PhaseSI('P',P_3,'H',h_3,'Water')"
   ]
  },
  {
   "cell_type": "markdown",
   "metadata": {},
   "source": [
    "Entonces, no existe $x_3$"
   ]
  },
  {
   "cell_type": "markdown",
   "metadata": {},
   "source": [
    "$\\left\\{\n",
    "\\begin{array}{l}\n",
    "P_6 = 0,05 \\, \\mathrm{bar} \\\\\n",
    "t_6 = 20^\\circ \\mathrm{C}\n",
    "\\end{array}\n",
    "\\right. \\qquad \\rightarrow \\quad h_6\n",
    "$"
   ]
  },
  {
   "cell_type": "code",
   "execution_count": 22,
   "metadata": {},
   "outputs": [
    {
     "name": "stdout",
     "output_type": "stream",
     "text": [
      "h_6 = 83.92 kJ/kg\n"
     ]
    }
   ],
   "source": [
    "# Datos\n",
    "P_6 = P_5\n",
    "T_6 = 20 + 273.15 # K\n",
    "\n",
    "h_6 = cp.PropsSI('H','P',P_6,'T',T_6,'Water')\n",
    "\n",
    "print('h_6 = %s kJ/kg'%round(h_6/1000,2))"
   ]
  },
  {
   "cell_type": "markdown",
   "metadata": {},
   "source": [
    "$m_5 = m_4 $\n",
    "\n",
    "$$ \\dot{Q} = m_5 \\, (h_6 - h_5) $$"
   ]
  },
  {
   "cell_type": "code",
   "execution_count": 23,
   "metadata": {},
   "outputs": [
    {
     "name": "stdout",
     "output_type": "stream",
     "text": [
      "Q = -2361.95 kJ\n"
     ]
    }
   ],
   "source": [
    "m_5 = m_4\n",
    "\n",
    "Q = m_5*(h_6 - h_5)\n",
    "\n",
    "print('Q = %s kJ'%round(Q/1000,2))"
   ]
  },
  {
   "cell_type": "code",
   "execution_count": 20,
   "metadata": {},
   "outputs": [],
   "source": [
    "%reset -s -f"
   ]
  },
  {
   "cell_type": "markdown",
   "metadata": {},
   "source": [
    "--------------------\n",
    "[<-Previous ](https://nbviewer.jupyter.org/github/daniel-lorenzo/Termodinamica/blob/master/p04.ipynb) - \n",
    "[Index](https://github.com/daniel-lorenzo/Termodinamica/blob/master/Readme.md) - \n",
    "[Next ->](https://nbviewer.jupyter.org/github/daniel-lorenzo/Termodinamica/blob/master/p06.ipynb)"
   ]
  }
 ],
 "metadata": {
  "kernelspec": {
   "display_name": "Python 3",
   "language": "python",
   "name": "python3"
  },
  "language_info": {
   "codemirror_mode": {
    "name": "ipython",
    "version": 3
   },
   "file_extension": ".py",
   "mimetype": "text/x-python",
   "name": "python",
   "nbconvert_exporter": "python",
   "pygments_lexer": "ipython3",
   "version": "3.7.3"
  }
 },
 "nbformat": 4,
 "nbformat_minor": 4
}
