{
 "cells": [
  {
   "cell_type": "markdown",
   "metadata": {},
   "source": [
    "# Clase práctica 5 - Termodinámica\n",
    "__UNLZ - FI -- Fecha: 6/05/2019 -- Jupyter Notebook + Python 3__\n",
    "\n",
    "__Alumno: Lorenzo, Daniel Antonio__"
   ]
  },
  {
   "cell_type": "markdown",
   "metadata": {},
   "source": [
    "## Ejercicio 27\n",
    "Para comprimir aire se utiliza una turbina de vapor. Determinar:\n",
    "\n",
    "    a) Potencia que requiere el compresor\n",
    "    b) Caudal másico de vapor\n",
    "![27.png](img/27.png)"
   ]
  },
  {
   "cell_type": "markdown",
   "metadata": {},
   "source": [
    "### Solución\n",
    "$$ |W_C| = |W_T| $$\n",
    "\n",
    "$$ \\begin{array}{cl}\n",
    "W_T = \\dot{m}_3 (h_e -h_s) & [1] \\\\\n",
    "-W_C = \\dot{m}_1 (h_s - h_e) = \\dot{m}_1 c_p (T_f - T_e) & [2]\n",
    "\\end{array}\n",
    "$$\n",
    "\n",
    "1) \n",
    "$Q=0$\n",
    "$$\\left.\n",
    "\\begin{array}{l}\n",
    "Q - W = \\Delta H \\\\\n",
    "-W_C = \\dot{m}_1 (h_2 - h_1)\n",
    "\\end{array}\n",
    "\\right\\} \\mbox{compresor (aire) }= \\dot{m}_1 c_p (T_2-T_1)\n",
    "$$\n",
    "2) \n",
    "$Q=0$\n",
    "\n",
    "$$\\left.\n",
    "\\begin{array}{l}\n",
    "Q - W = \\Delta H \\\\\n",
    "-W_T = \\dot{m}_3 (h_4 - h_3)\n",
    "\\end{array}\n",
    "\\right\\} \\mbox{turbina (vapor)}\n",
    "$$\n",
    "![27_miniref1.png](img/27_miniref1.png)\n",
    "![27_miniref2.png](img/27_miniref2.png)"
   ]
  },
  {
   "cell_type": "code",
   "execution_count": 6,
   "metadata": {},
   "outputs": [
    {
     "name": "stdout",
     "output_type": "stream",
     "text": [
      "Wc = 461.1573 kJ/s (Watts)\n"
     ]
    }
   ],
   "source": [
    "m1 = 3 # kg/s\n",
    "cp = 1.0047 # kJ/kg*K (aire)\n",
    "T1 = 300+273 # K\n",
    "T2 = 420 # K\n",
    "\n",
    "Wc = -m1*cp*(T2 - T1)\n",
    "print('Wc =',Wc,'kJ/s (Watts)')"
   ]
  },
  {
   "cell_type": "code",
   "execution_count": 7,
   "metadata": {},
   "outputs": [
    {
     "name": "stdout",
     "output_type": "stream",
     "text": [
      "m3 = 2.6984 kg/s\n"
     ]
    }
   ],
   "source": [
    "Wt = Wc\n",
    "h3 = 2860.9 # kJ/kg\n",
    "h4 = 2690.0 # kJ/kg\n",
    "m3 = -Wt/(h4 - h3)\n",
    "print('m3 =',round(m3,4),'kg/s')"
   ]
  },
  {
   "cell_type": "code",
   "execution_count": 8,
   "metadata": {},
   "outputs": [],
   "source": [
    "%clear -f"
   ]
  },
  {
   "cell_type": "markdown",
   "metadata": {},
   "source": [
    "## Ejercicio 28\n",
    "Determinar:\n",
    "      \n",
    "1) $\\dot{m}_1$\n",
    "      \n",
    "2) $\\dot{m}_4 \\; (O_2)$\n",
    "![28.png](img/28.png)"
   ]
  },
  {
   "cell_type": "markdown",
   "metadata": {},
   "source": [
    "### Solución\n",
    "1)\n",
    "![28_miniref1.png](img/28_miniref1.png)\n",
    "\n",
    "$$ Q - W = \\Delta H $$\n",
    "$$ -W_T = \\dot{m}_1 (h_2 - h_1) $$\n",
    "\n",
    "$$ \\dot{m}_1 = \\frac{-W_T}{h2 - h1} $$"
   ]
  },
  {
   "cell_type": "code",
   "execution_count": 10,
   "metadata": {},
   "outputs": [
    {
     "name": "stdout",
     "output_type": "stream",
     "text": [
      "m1 = 11.816 kg/s\n"
     ]
    }
   ],
   "source": [
    "h1 = 3264.5 # kJ/kg\n",
    "h2 = 2756.7 # kJ/kg\n",
    "W_T = 6000 # kW\n",
    "\n",
    "m1 = -W_T/(h2 - h1)\n",
    "print('m1 =',round(m1,3),'kg/s')"
   ]
  },
  {
   "cell_type": "markdown",
   "metadata": {},
   "source": [
    "2) Para el intercambiador de calor:\n",
    "\n",
    "$Q=0$ y $W = 0$\n",
    "$$ Q - W = \\Delta H $$\n",
    "$$ \\Delta H = 0$$\n",
    "$$ H_E = H_S $$\n",
    "\n",
    "$\\left\\{ \\begin{array}{l}\n",
    "\\dot{m}_3 h_3 + \\dot{m}_5 h_5 = \\dot{m}_2 h_2 + \\dot{m}_4 h_4 \\\\\n",
    "\\dot{m}_4 = \\dot{m}_5 \\\\\n",
    "\\dot{m}_2 = \\dot{m}_3\n",
    "\\end{array}\n",
    "\\right.\n",
    "$\n",
    "\n",
    "$$ \\dot{m}_2(h_2-h_3) = \\dot{m}_4(h_5-h_4) = c_{pO_2} \\dot{m}_4 (T_5 - T_4) $$\n",
    "![28_miniref2.png](img/28_miniref2.png)"
   ]
  },
  {
   "cell_type": "code",
   "execution_count": 13,
   "metadata": {},
   "outputs": [
    {
     "name": "stdout",
     "output_type": "stream",
     "text": [
      "m4 = 245.28 kg/s\n"
     ]
    }
   ],
   "source": [
    "h3 = 411.48 # kJ/kg\n",
    "m2 = m1\n",
    "T4 = 27 # °C\n",
    "T5 = 150 # °C\n",
    "cp = 0.9185 # kJ/kg*K\n",
    "m4 = m2*(h2 - h3)/(T5 - T4)*1/cp\n",
    "\n",
    "print('m4 =',round(m4,2),'kg/s')"
   ]
  },
  {
   "cell_type": "code",
   "execution_count": 14,
   "metadata": {},
   "outputs": [],
   "source": [
    "%clear -f"
   ]
  },
  {
   "cell_type": "markdown",
   "metadata": {},
   "source": [
    "## Ejercicio 29\n",
    "Mediante un eje que acciona una rueda de paletas se entrega trabajo al aire contenido\n",
    "en B hasta que éste alcanza 500°C. Determine el trabajo suministrado por el eje.\n",
    "![29.png](img/29.png)"
   ]
  },
  {
   "cell_type": "markdown",
   "metadata": {},
   "source": [
    "### Solución\n",
    "En el equilibrio, con x = 1 es todo vapor de agua\n",
    "![29_minire1.png](img/29_miniref1.png)\n",
    "Luego a 500°C y 9 bar\n",
    "![29_minire2.png](img/29_miniref2.png)\n",
    "\n",
    "$$ Q - \\Delta U = W \\qquad ; \\qquad Q = 0  $$\n",
    "\n",
    "$$ \\Rightarrow \\; - \\Delta U = W_T $$\n",
    "\n",
    "$Q = 0$ (porque es adiabático, no hay intercambio de calor con el medio)"
   ]
  },
  {
   "cell_type": "code",
   "execution_count": 2,
   "metadata": {},
   "outputs": [
    {
     "name": "stdout",
     "output_type": "stream",
     "text": [
      "W_T = -12451.07 kJ\n",
      "W_dv = 1609.83 kJ\n",
      "W_eje = -14060.9 kJ\n"
     ]
    }
   ],
   "source": [
    "cv = 0.7176 # kJ/kg*K (aire, a volumen constante)\n",
    "m_aire = 30 # kg\n",
    "m_vapor = 10 # kg\n",
    "u1 = 2579.6 # kJ/kg (de tabla)\n",
    "u2 = 3125.8 # kJ/kg (de tabla)\n",
    "T2 = 500 # °C\n",
    "T1 = 175.35 # °C (de tabla a 9 bar)\n",
    "P = 900 # kPa\n",
    "v1 = 0.21489 # m^3/kg\n",
    "v2 = 0.39376 # m^3/kg\n",
    "\n",
    "DU_aire = m_aire*cv*(T2-T1) # (variación de energía interna del aire)\n",
    "DU_vapor = m_vapor*(u2 - u1) # (variación de energía interna del vapor)\n",
    "\n",
    "DU = DU_aire + DU_vapor # (variación de energía interna)\n",
    "W_T = -DU # Trabajo total\n",
    "W_dv = P*m_vapor*(v2 - v1) # Trabajo por variación de volumen\n",
    "\n",
    "W_eje = W_T - W_dv # Trabajo en el eje\n",
    "\n",
    "print('W_T =',round(W_T,2),'kJ')\n",
    "print('W_dv =',round(W_dv,2),'kJ')\n",
    "print('W_eje =',round(W_eje,2),'kJ')"
   ]
  },
  {
   "cell_type": "code",
   "execution_count": 7,
   "metadata": {},
   "outputs": [
    {
     "name": "stdout",
     "output_type": "stream",
     "text": [
      "\u001b[H\u001b[2J"
     ]
    }
   ],
   "source": [
    "%clear -f"
   ]
  },
  {
   "cell_type": "markdown",
   "metadata": {},
   "source": [
    "## Ejercicio 30\n",
    "Determinar: \n",
    "1. $\\dot{W}_A$ \n",
    "2. $\\dot{W}_B$\n",
    "3. $Q_{2-3}$ \n",
    "![30.png](img/30.png)"
   ]
  },
  {
   "cell_type": "markdown",
   "metadata": {},
   "source": [
    "### Solución\n",
    "1.\n",
    "$Q=0$\n",
    "\n",
    "$$\\left.\n",
    "\\begin{array}{l}\n",
    "Q - W = \\Delta H \\\\\n",
    "-\\dot{W}_A = \\dot{m}_1 (h_2 - h_1)\n",
    "\\end{array}\n",
    "\\right\\} \\mbox{turbina (vapor)}\n",
    "$$\n",
    "![30_miniref1.png](img/30_miniref1.png)\n",
    "![30_miniref2.png](img/30_miniref2.png)"
   ]
  },
  {
   "cell_type": "code",
   "execution_count": 2,
   "metadata": {},
   "outputs": [
    {
     "name": "stdout",
     "output_type": "stream",
     "text": [
      "W_A = 5400.2 kJ/s\n"
     ]
    }
   ],
   "source": [
    "m1 = 13 # kg/s\n",
    "h1 = 3178.2 # kJ/kg\n",
    "h2 = 2762.8 # kJ/kg\n",
    "W_A = -m1*(h2 - h1)\n",
    "print('W_A =',round(W_A,2),'kJ/s')"
   ]
  },
  {
   "cell_type": "markdown",
   "metadata": {},
   "source": [
    "2. $Q=0$\n",
    "\n",
    "$$\\left.\n",
    "\\begin{array}{l}\n",
    "Q - W = \\Delta H \\\\\n",
    "-\\dot{W}_B = \\dot{m}_1 (h_4 - h_3)\n",
    "\\end{array}\n",
    "\\right\\} \\mbox{turbina (vapor)}\n",
    "$$\n",
    "\n",
    "$$ x = \\frac{h - h'}{h'' - h'} \\quad \\Rightarrow \\quad h = x \\, (h''-h')+h' $$\n",
    "![30_mR3.png](img/30_mR3.png)\n",
    "![30_mR4.png](img/30_mR4.png)"
   ]
  },
  {
   "cell_type": "code",
   "execution_count": 3,
   "metadata": {},
   "outputs": [
    {
     "name": "stdout",
     "output_type": "stream",
     "text": [
      "W_B = 12360.335 kJ/s\n"
     ]
    }
   ],
   "source": [
    "h3 = 3269.2 # kJ/kg\n",
    "x = 0.9\n",
    "hp1 = 137.75 # kJ/kg\n",
    "hp2 = 2560.7 # kJ/kg\n",
    "h4 = x*(hp2 - hp1) + hp1\n",
    "W_B = -m1*(h4-h3)\n",
    "print('W_B =',round(W_B,3),'kJ/s')"
   ]
  },
  {
   "cell_type": "markdown",
   "metadata": {},
   "source": [
    "3. $Q=0$ y $W = 0$\n",
    "$$ Q - W = \\Delta H $$\n",
    "$$ \\Delta H = 0$$\n",
    "$$ H_E = H_S $$"
   ]
  },
  {
   "cell_type": "code",
   "execution_count": 4,
   "metadata": {},
   "outputs": [
    {
     "name": "stdout",
     "output_type": "stream",
     "text": [
      "Q_23 = 6583.2 kJ/s\n"
     ]
    }
   ],
   "source": [
    "Q_23 = m1*(h3 - h2)\n",
    "print('Q_23 =',round(Q_23,2),'kJ/s')"
   ]
  },
  {
   "cell_type": "code",
   "execution_count": 9,
   "metadata": {},
   "outputs": [
    {
     "name": "stdout",
     "output_type": "stream",
     "text": [
      "\u001b[H\u001b[2J"
     ]
    }
   ],
   "source": [
    "%clear -f"
   ]
  },
  {
   "cell_type": "markdown",
   "metadata": {},
   "source": [
    "## Ejercicio 31\n",
    "![31.png](img/31.png)\n",
    "\n",
    "Se pide:\n",
    "1. Estado de vapor en 2\n",
    "2. $m_3$ y estado vapor $(P, \\, T, \\, x)$\n",
    "3. $\\dot{Q}$"
   ]
  },
  {
   "cell_type": "markdown",
   "metadata": {},
   "source": [
    "### Solución"
   ]
  },
  {
   "cell_type": "markdown",
   "metadata": {},
   "source": [
    "Para la válvula reguladora:\n",
    "\n",
    "$Q = 0$ y $W=0$\n",
    "$$ Q - W = \\Delta H $$\n",
    "\n",
    "$$ H_S - H_E = 0 \\quad \\Rightarrow \\quad H_S = H_E$$\n",
    "\n",
    "$$ m \\, (h_s - h_e) = 0  \\quad  \\Rightarrow \\quad h_s = h_e $$\n",
    "\n",
    "El punto 1 está en el equilibrio con $x=0,8$ a $40 \\, bar$, entonces buscamos en la tabla\n",
    "![31_mR1.png](img/31_mR1.png)\n",
    "\n",
    "$$ h = x \\, (h''-h')+h' $$"
   ]
  },
  {
   "cell_type": "code",
   "execution_count": 1,
   "metadata": {},
   "outputs": [
    {
     "name": "stdout",
     "output_type": "stream",
     "text": [
      "h_e = 2458.14 kJ/kg\n",
      "h_s = 2458.14 kJ/kg\n"
     ]
    }
   ],
   "source": [
    "x = 0.8\n",
    "hp1 = 1087.5 # kJ/kg (h')\n",
    "hp2 = 2800.8 # kJ/kg (h'')\n",
    "h_e = x*(hp2 - hp1) + hp1 # entalpía de entrada\n",
    "h_s = h_e\n",
    "print('h_e = %s kJ/kg' % round(h_e,2))\n",
    "print('h_s = %s kJ/kg' % round(h_s,2))"
   ]
  },
  {
   "cell_type": "markdown",
   "metadata": {},
   "source": [
    "__Punto 2:__ La entalpía en el punto 2 es 2458,14 kJ/kg y la presión 10 bar, igual que en el punto 3 debido a la propiedad de la cámara de mezclado. Con estos dos datos podemos buscar en la tábla\n",
    "![31_mR2.png](img/31_mR2.png)\n",
    "y obtengo una temperatura de 179,88°C\n",
    "\n",
    "__Punto 3:__ a 10 bar de presión busco en la tabla los valores en el equilibrio\n",
    "![31_mR4.png](img/31_mR4.png)\n",
    "\n",
    "Calculo el título en 3\n",
    "$$ x = \\frac{h - h'}{h'' - h'} $$"
   ]
  },
  {
   "cell_type": "code",
   "execution_count": 3,
   "metadata": {},
   "outputs": [
    {
     "name": "stdout",
     "output_type": "stream",
     "text": [
      "x = 0.8417\n"
     ]
    }
   ],
   "source": [
    "hp1 = 762.52 # kJ/kg (a 10 bar)\n",
    "hp2 = 2777.1 # kJ/kg (a 10 bar)\n",
    "x = (h_e - hp1)/(hp2 - hp1)\n",
    "print('x =',round(x,4))"
   ]
  },
  {
   "cell_type": "markdown",
   "metadata": {},
   "source": [
    "__Punto 4:__ calculo la entalpía en 4, tengo $t_4 = 400^\\circ \\mathrm{C}$ y $P = 10 \\, bar$\n",
    "![31_m4.png](img/31_m4.png)\n",
    "\n",
    "$\\rightarrow \\, h_4 = 3264,5 \\, kJ/kg$"
   ]
  },
  {
   "cell_type": "markdown",
   "metadata": {},
   "source": [
    "__Punto 5:__ calculo la entalpía con $P_5 = 0,05 \\, bar$ y $x_5 = 0,9$\n",
    "\n",
    "![31_mR5.png](img/31_mR5.png)\n",
    "\n",
    "$$ h = x \\, (h''-h')+h' $$"
   ]
  },
  {
   "cell_type": "code",
   "execution_count": 8,
   "metadata": {},
   "outputs": [
    {
     "name": "stdout",
     "output_type": "stream",
     "text": [
      "h5 = 2318.4 kJ/kg\n"
     ]
    }
   ],
   "source": [
    "x = 0.9\n",
    "hp1 = 137.75 # kJ/kg\n",
    "hp2 = 2560.7 # kJ/kg\n",
    "\n",
    "h5 = x*(hp2 - hp1) + hp1\n",
    "print('h5 = %s kJ/kg' % round(h,2))"
   ]
  },
  {
   "cell_type": "markdown",
   "metadata": {},
   "source": [
    "__Para la turbina tenemos:__\n",
    "\n",
    "$Q=0$\n",
    "$$ Q - W = \\Delta H $$\n",
    " \n",
    "$$ -W = m (h_s - h_e) $$\n",
    " \n",
    "$$ W = m (h_e - h_s) $$"
   ]
  },
  {
   "cell_type": "code",
   "execution_count": 12,
   "metadata": {},
   "outputs": [
    {
     "name": "stdout",
     "output_type": "stream",
     "text": [
      "m4 = 1.057 kg/s\n",
      "Entonces:\n",
      "m3 = 0.657 kg/s\n"
     ]
    }
   ],
   "source": [
    "W = 1000 # kW\n",
    "h4 = 3264.5 # kJ/kg\n",
    "m1 = 0.4 # kg/s\n",
    "m2 = m1\n",
    "\n",
    "m4 = W/(h4 - h5)\n",
    "print('m4 = %s kg/s' % round(m4,3) )\n",
    "print('Entonces:')\n",
    "m3 = m4 - m2\n",
    "print('m3 = %s kg/s' % round(m3,3) )"
   ]
  },
  {
   "cell_type": "markdown",
   "metadata": {},
   "source": [
    "__Punto 6:__\n",
    "$$ Q = \\Delta H = m \\,(h_s - h_e) $$\n",
    "\n",
    "Busco la entalía en 6 con $t_6 = 20^\\circ \\mathrm{C}$ y $P_6 = 0,05 \\, bar$\n",
    "![31_m6.png](img/31_m6.png)"
   ]
  },
  {
   "cell_type": "code",
   "execution_count": 14,
   "metadata": {},
   "outputs": [
    {
     "name": "stdout",
     "output_type": "stream",
     "text": [
      "Q6 = -2361.8 kJ/s\n"
     ]
    }
   ],
   "source": [
    "h6 = 83.917 # kJ/kg\n",
    "m5 = m4\n",
    "\n",
    "Q6 = m5*(h6 - h5)\n",
    "print('Q6 = %s kJ/s' % round(Q6,2) )"
   ]
  },
  {
   "cell_type": "code",
   "execution_count": 15,
   "metadata": {},
   "outputs": [
    {
     "name": "stdout",
     "output_type": "stream",
     "text": [
      "\u001b[H\u001b[2J"
     ]
    }
   ],
   "source": [
    "%clear -f"
   ]
  },
  {
   "cell_type": "code",
   "execution_count": null,
   "metadata": {},
   "outputs": [],
   "source": []
  }
 ],
 "metadata": {
  "kernelspec": {
   "display_name": "Python 3",
   "language": "python",
   "name": "python3"
  },
  "language_info": {
   "codemirror_mode": {
    "name": "ipython",
    "version": 3
   },
   "file_extension": ".py",
   "mimetype": "text/x-python",
   "name": "python",
   "nbconvert_exporter": "python",
   "pygments_lexer": "ipython3",
   "version": "3.7.3"
  }
 },
 "nbformat": 4,
 "nbformat_minor": 2
}
