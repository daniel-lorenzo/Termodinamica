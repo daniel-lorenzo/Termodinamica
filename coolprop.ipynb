{
 "cells": [
  {
   "cell_type": "markdown",
   "metadata": {},
   "source": [
    "# Cómo reemplazar las tablas termodinámicas del agua con la biblioteca CoolProp\n",
    "Hace tiempo que quería escribir un tutorial acerca de como utilizar herramientas libres para la resolución de problemas. En este caso vamos a utlizar un notebook Jupyter con python como kernel.\n",
    "CoolProp es una biblioteca que contiene una base de datos termodinámicos de una variedad de fluidos refrigerantes, entre ellos el agua que nos puede resultar útil en la resolución de problemas de termodinámica. La bibliotaca está escrita en C++, pero puede utilizarse en una multitud de lenguajes de programación, en particular vamos a utilizarla desde python, que es un lenguaje de programación interpretado que nosotros vamos a utilizar como motor de cálculo."
   ]
  },
  {
   "cell_type": "code",
   "execution_count": null,
   "metadata": {},
   "outputs": [],
   "source": []
  }
 ],
 "metadata": {
  "kernelspec": {
   "display_name": "Python 3",
   "language": "python",
   "name": "python3"
  },
  "language_info": {
   "codemirror_mode": {
    "name": "ipython",
    "version": 3
   },
   "file_extension": ".py",
   "mimetype": "text/x-python",
   "name": "python",
   "nbconvert_exporter": "python",
   "pygments_lexer": "ipython3",
   "version": "3.7.3"
  }
 },
 "nbformat": 4,
 "nbformat_minor": 2
}
