{
 "cells": [
  {
   "cell_type": "markdown",
   "metadata": {},
   "source": [
    "# Clase práctica 2 - Termodinámica\n",
    "## Ejercicio 10\n",
    "Un sistema cerrado se somete a un ciclo-combinado de 2 procesos. En el \n",
    "primero se transfieren 60kJ de energía térmica, y éste entrega al medio un\n",
    "trabajo de 80kJ. En el segundo, el medio exterior entrega al sistema un \n",
    "trabajo de 45 kJ. Se pide\n",
    "\n",
    "1. Determinar el intercambio de calor durante el segundo proceso.\n",
    "2. Determinar el trabajo y el calor intercambiado durante el ciclo.\n",
    "\n",
    "![10.png](10.png)\n",
    "## Solución"
   ]
  },
  {
   "cell_type": "markdown",
   "metadata": {},
   "source": [
    "$$ Q_1 = \\Delta U_1 + W_1 $$\n",
    "\n",
    "$$ \\Delta U_1 = Q_1 - W_1 $$"
   ]
  },
  {
   "cell_type": "code",
   "execution_count": 1,
   "metadata": {},
   "outputs": [
    {
     "name": "stdout",
     "output_type": "stream",
     "text": [
      "DU1 = -20 kJ\n"
     ]
    }
   ],
   "source": [
    "Q1 = 60 # kJ\n",
    "W1 = 80 # kJ\n",
    "DU1 = Q1 - W1 # kJ\n",
    "print 'DU1 =',DU1,'kJ' # varición de energía interna"
   ]
  },
  {
   "cell_type": "markdown",
   "metadata": {},
   "source": [
    "$$ Q_2 = -(\\Delta U_1 + W_2)  $$"
   ]
  },
  {
   "cell_type": "code",
   "execution_count": 2,
   "metadata": {},
   "outputs": [
    {
     "name": "stdout",
     "output_type": "stream",
     "text": [
      "Q2 = -25 kJ\n"
     ]
    }
   ],
   "source": [
    "W2 = 45 # kJ\n",
    "Q2 = -(DU1+W2) # kJ\n",
    "print 'Q2 =',Q2,'kJ' # intercambio de calor durante el segundo proceso"
   ]
  },
  {
   "cell_type": "code",
   "execution_count": 3,
   "metadata": {},
   "outputs": [
    {
     "name": "stdout",
     "output_type": "stream",
     "text": [
      "W = 35 kJ\n"
     ]
    }
   ],
   "source": [
    "W1 = 80 # kJ\n",
    "W2 = -45 # kJ\n",
    "W = W1 + W2\n",
    "print 'W =',W,'kJ' # trabajo intercambiado durante el ciclo"
   ]
  },
  {
   "cell_type": "code",
   "execution_count": 4,
   "metadata": {},
   "outputs": [
    {
     "name": "stdout",
     "output_type": "stream",
     "text": [
      "Q = 35 kJ\n"
     ]
    }
   ],
   "source": [
    "Q1 = 60 # kJ\n",
    "Q = Q1 + Q2 # kJ\n",
    "print 'Q =',Q,'kJ' # calor intercambiado durante el ciclo"
   ]
  },
  {
   "cell_type": "code",
   "execution_count": 5,
   "metadata": {},
   "outputs": [],
   "source": [
    "reset()"
   ]
  },
  {
   "cell_type": "markdown",
   "metadata": {},
   "source": [
    "## Ejercicio 11\n",
    "Si a través de los límites del sistema contenido en el conjunto cilindro-pistón se entrega\n",
    "un trabajo eléctrico (We) se 1000 kJ. Considerando ΔEc = ΔEp = 0\n",
    "Determinar\n",
    "\n",
    "1. Masa del aire\n",
    "2. $T_{final}$\n",
    "3. $W_{ΔV}$\n",
    "\n",
    "![11.png](11.png)"
   ]
  },
  {
   "cell_type": "markdown",
   "metadata": {},
   "source": [
    "## Solución\n",
    "### 1. item $$ PV = mRT$$\n",
    "\n",
    "$$ \\Rightarrow \\qquad m = \\frac{PV}{RT} $$"
   ]
  },
  {
   "cell_type": "code",
   "execution_count": 6,
   "metadata": {},
   "outputs": [
    {
     "name": "stdout",
     "output_type": "stream",
     "text": [
      "P = 1000.0 kPa\n"
     ]
    }
   ],
   "source": [
    "# Convertimos bar a kPa\n",
    "# 1kPa ___________ 0,01 bar\n",
    "# x    ___________ 10 bar\n",
    "\n",
    "P = 10*1/0.01 # kPa\n",
    "print 'P =',round(P,2),'kPa'"
   ]
  },
  {
   "cell_type": "code",
   "execution_count": 3,
   "metadata": {},
   "outputs": [],
   "source": [
    "# Datos del problema\n",
    "Vi = 0.3 # m^3\n",
    "R = 0.287 # kJ/(Kg*K) (R del aire dato de tabla)\n",
    "Ti = 27 + 273 # K"
   ]
  },
  {
   "cell_type": "code",
   "execution_count": 4,
   "metadata": {},
   "outputs": [
    {
     "name": "stdout",
     "output_type": "stream",
     "text": [
      "m = 3.4843 Kg\n"
     ]
    }
   ],
   "source": [
    "# Calculamos la masa con la ecuación de estado de los gases ideales\n",
    "m = (P*Vi)/(R*Ti) # Kg\n",
    "print 'm =',round(m,4),'Kg'"
   ]
  },
  {
   "cell_type": "markdown",
   "metadata": {},
   "source": [
    "### 2. item \n",
    "\n",
    "Primer principio de la termodinámica\n",
    "### $$ Q = \\Delta U + W $$\n",
    "El intercambio de calor del sistema con el medio es cero porque el recipiente es adiabático\n",
    "$$ Q = 0$$\n",
    "Variación de energía interna:\n",
    " $$ \\Delta U = m · c_v · \\Delta T $$ \n",
    "El trabajo total en este caso el la suma del trabajo eléctico y el trabajo de varición de volumen\n",
    " $$ W = W_E + W_{\\Delta V} $$\n",
    "El trabajo eléctrico $W_E$ se realiza sobre el sistema, entonces es negativo:\n",
    "$$ W_E = -1000 kJ $$ \n",
    "Trabajo de variaón de volumen:\n",
    "$$ W_{\\Delta V} = P (V_f-V_i) = PV_f - PV_i $$ \n",
    "Reemplazamos $PV_f$ en la ecuación anterior\n",
    "$$ \\qquad PV_f = mRT_f$$\n",
    "Entonces\n",
    "### $$ \\Rightarrow W_{\\Delta V} = mRT_f - PV_i $$"
   ]
  },
  {
   "cell_type": "code",
   "execution_count": 8,
   "metadata": {},
   "outputs": [],
   "source": [
    "var('Tf') # define variable\n",
    "cv = 0.7176 # kJ/(Kg·K) (del aire) dato de tabla\n",
    "Q = 0 # intercambio de calor es cero, porque es adiabático el recipiente\n",
    "DU = m * cv * (Tf-Ti) # varición de energía interna del sistema\n",
    "We = -1000     # kJ (trabajo eléctrico negativo porque se realiza sobre el sistema gas)\n",
    "WV = m*R*Tf-P*Vi # trabajo variación de volumen"
   ]
  },
  {
   "cell_type": "code",
   "execution_count": 9,
   "metadata": {},
   "outputs": [
    {
     "name": "stdout",
     "output_type": "stream",
     "text": [
      "Tf == (2941900/5023) K\n",
      "Tf == 585.69 K\n"
     ]
    }
   ],
   "source": [
    "# Calculamos la temperatura final\n",
    "eq1 = Q == DU + We + WV # (primer principio de la termodinámica)\n",
    "seq1=solve(eq1,Tf) # resuelve la ecuación 1\n",
    "print seq1[0],'K' # resultado\n",
    "Tfinal = seq1[0].rhs().n() # aproximación numérica\n",
    "print 'Tf ==',round(Tfinal,2),'K' # temperatura en [K]"
   ]
  },
  {
   "cell_type": "markdown",
   "metadata": {},
   "source": [
    "### 3. item"
   ]
  },
  {
   "cell_type": "code",
   "execution_count": 10,
   "metadata": {},
   "outputs": [
    {
     "name": "stdout",
     "output_type": "stream",
     "text": [
      "WV = 285.69 kJ\n"
     ]
    }
   ],
   "source": [
    "# trabajo de variación de volumen (kJ)\n",
    "Wvol = WV.subs(Tf = Tfinal) # sustituimos Tfinal en WV (trabajo de variación de volumen)\n",
    "print 'WV =',round(Wvol,2),'kJ'"
   ]
  },
  {
   "cell_type": "code",
   "execution_count": 11,
   "metadata": {},
   "outputs": [
    {
     "name": "stdout",
     "output_type": "stream",
     "text": [
      "DV = 0.2857 m^3\n"
     ]
    }
   ],
   "source": [
    "# Variacion de volumen (m^3)\n",
    "DV = Wvol/P \n",
    "print 'DV =',round(DV,4),'m^3'"
   ]
  },
  {
   "cell_type": "code",
   "execution_count": 12,
   "metadata": {},
   "outputs": [
    {
     "name": "stdout",
     "output_type": "stream",
     "text": [
      "Vf = 0.5857 m^3\n"
     ]
    }
   ],
   "source": [
    "# Volumen final (m^3)\n",
    "Vf = DV + Vi \n",
    "print 'Vf =',round(Vf,4),'m^3'"
   ]
  },
  {
   "cell_type": "code",
   "execution_count": 13,
   "metadata": {},
   "outputs": [],
   "source": [
    "reset()"
   ]
  },
  {
   "cell_type": "markdown",
   "metadata": {},
   "source": [
    "## Ejercicio 12\n",
    "Los recipientes rígidos y adiabáticos están interconectados por medio de\n",
    "válvulas inicialmente cerradas. Se abren hasta alcanzar un nuevo equilibrio.\n",
    "\n",
    "Determinar:\n",
    "1. Temperatura de equilibrio final\n",
    "2. Presión de equilibrio final\n",
    "\n",
    "![12.png](12.png)\n",
    "\n",
    "$$ \\begin{array}{l|r|r}\n",
    " & R \\; [kJ/(Kg \\cdot K)] & c_v [\\; kJ/(Kg \\cdot K)]\\\\\n",
    "\\hline\n",
    "A & O_2 = 0,2598  & O_2 = 0,6585  \\\\\n",
    "B & N_2 = 0,2968  & N_2 = 0,7431 \\\\\n",
    "C & Aire = 0,287 & Aire = 0,7176\n",
    "\\end{array}   $$\n",
    "## Solución"
   ]
  },
  {
   "cell_type": "code",
   "execution_count": 14,
   "metadata": {},
   "outputs": [
    {
     "name": "stdout",
     "output_type": "stream",
     "text": [
      "mA = 16.4962 Kg\n"
     ]
    }
   ],
   "source": [
    "# Calculamos la masa de gas en A (oxígeno)\n",
    "var('mA')\n",
    "# Datos\n",
    "VA = 5 # m^3\n",
    "TiA = 77+273 # K\n",
    "PiA = 3*100 # kPa\n",
    "RA = 0.2598 # kJ/(Kg*K) Dato de tabla\n",
    "# Ecuación de los gases ideales\n",
    "eqA = (PiA)*(VA) == (mA)*(RA)*(TiA)\n",
    "seqA = solve(eqA,mA)\n",
    "mA = seqA[0].rhs().n()\n",
    "print 'mA =',round(mA,4),'Kg'"
   ]
  },
  {
   "cell_type": "code",
   "execution_count": 15,
   "metadata": {},
   "outputs": [
    {
     "name": "stdout",
     "output_type": "stream",
     "text": [
      "mB = 42.1159 Kg\n"
     ]
    }
   ],
   "source": [
    "# Calculamos la masa de gas en B (nitrógeno)\n",
    "var('mB')\n",
    "# Datos\n",
    "VB = 10 # m^3\n",
    "TiB = 127 + 273 # K\n",
    "PiB = 5*100 # kPa\n",
    "RB = 0.2968 # kJ/(Kg*K) Dato de tabla\n",
    "# Ecuación de los gases ideales\n",
    "eqB = (PiB)*(VB) == (mB)*(RB)*(TiB)\n",
    "seqB = solve(eqB,mB)\n",
    "mB = seqB[0].rhs().n()\n",
    "print 'mB =',round(mB,4),'Kg'"
   ]
  },
  {
   "cell_type": "code",
   "execution_count": 16,
   "metadata": {},
   "outputs": [
    {
     "name": "stdout",
     "output_type": "stream",
     "text": [
      "mC = 13.9373 Kg\n"
     ]
    }
   ],
   "source": [
    "# Calculammos la masa de gas en C (aire)\n",
    "var('mC')\n",
    "# Datos\n",
    "VC = 12 # m^3\n",
    "TiC = 27 + 273 # K\n",
    "PiC = 1*100 # kPa\n",
    "RC = 0.287 # kJ/(Kg*K) Dato de tabla\n",
    "# Ecuación de los gases ideales\n",
    "eqC = (PiC)*(VC) == (mC)*(RC)*(TiC)\n",
    "seqC = solve(eqC,mC)\n",
    "mC = seqC[0].rhs().n()\n",
    "print 'mC =',round(mC,4),'Kg'"
   ]
  },
  {
   "cell_type": "markdown",
   "metadata": {},
   "source": [
    "Utilizamos la ecuación\n",
    "## $$ \\Delta U = m \\, c_v \\, \\Delta T $$\n",
    "con $\\Delta U = 0$"
   ]
  },
  {
   "cell_type": "code",
   "execution_count": 17,
   "metadata": {},
   "outputs": [
    {
     "name": "stdout",
     "output_type": "stream",
     "text": [
      "Tf = 370.41 K\n"
     ]
    }
   ],
   "source": [
    "# Calculo de la temperatura de equilibrio final\n",
    "# Datos:\n",
    "cvA = 0.6585 # kJ/(Kg*K)\n",
    "cvB = 0.7431 # kJ/(Kg*K)\n",
    "cvC = 0.7176 # kJ/(Kg*K)\n",
    "var('Tf')\n",
    "eq4 = 0 == mA*cvA*(Tf-TiA)+mB*cvB*(Tf-TiB)+mC*cvC*(Tf-TiC)\n",
    "seq4 = solve(eq4,Tf)\n",
    "Tf = seq4[0].rhs().n()\n",
    "print 'Tf =',round(Tf,2),'K'"
   ]
  },
  {
   "cell_type": "code",
   "execution_count": 18,
   "metadata": {},
   "outputs": [
    {
     "name": "stdout",
     "output_type": "stream",
     "text": [
      "PfA = 58.7957 kPa\n"
     ]
    }
   ],
   "source": [
    "# Calculo de la presión final del gas A (oxígeno) sobre el volumen final\n",
    "var('PfA')\n",
    "Vf = VA + VB + VC\n",
    "eq5 = PfA*Vf == mA*RA*Tf\n",
    "seq5 = solve(eq5,PfA)\n",
    "PfA = seq5[0].rhs().n()\n",
    "print 'PfA =',round(PfA,4),'kPa'"
   ]
  },
  {
   "cell_type": "code",
   "execution_count": 19,
   "metadata": {},
   "outputs": [
    {
     "name": "stdout",
     "output_type": "stream",
     "text": [
      "PfB = 171.4875 kPa\n"
     ]
    }
   ],
   "source": [
    "# Calculo de la presión final del gas B (nitrógeno) sobre el volumen final\n",
    "var('PfB')\n",
    "eq6 = PfB*Vf == mB*RB*Tf\n",
    "seq6 = solve(eq6,PfB)\n",
    "PfB = seq6[0].rhs().n()\n",
    "print 'PfB =',round(PfB,4),'kPa'"
   ]
  },
  {
   "cell_type": "code",
   "execution_count": 20,
   "metadata": {},
   "outputs": [
    {
     "name": "stdout",
     "output_type": "stream",
     "text": [
      "PfC = 54.876 kPa\n"
     ]
    }
   ],
   "source": [
    "# Calculo de la presión final del gas C (aire) sobre el volumen final\n",
    "var('PfC')\n",
    "eq7 = PfC*Vf == mC*RC*Tf\n",
    "seq7 = solve(eq7,PfC)\n",
    "PfC = seq7[0].rhs().n()\n",
    "print 'PfC =',round(PfC,4),'kPa'"
   ]
  },
  {
   "cell_type": "code",
   "execution_count": 21,
   "metadata": {},
   "outputs": [
    {
     "name": "stdout",
     "output_type": "stream",
     "text": [
      "Pfinal = 285.1591 kPa\n"
     ]
    }
   ],
   "source": [
    "# Presión final (alcanzado el equilibrio)\n",
    "Pfinal = PfA+PfB+PfC\n",
    "print 'Pfinal =',round(Pfinal,4),'kPa'"
   ]
  },
  {
   "cell_type": "code",
   "execution_count": 22,
   "metadata": {},
   "outputs": [],
   "source": [
    "reset()"
   ]
  },
  {
   "cell_type": "markdown",
   "metadata": {},
   "source": [
    "## Ejercicio 13 \n",
    "Un recipiente rígido y adiabático está conectado a través de una válvula\n",
    "con un conjunto cilindro-embolo también adiabáticos. Inicialmente, la válvula\n",
    "está cerrada y el cilindro vacío. Se abre la válvula alcanzando el sistema un\n",
    "nuevo estado de equilibrio. Se pide:\n",
    "\n",
    "1. Temperatura final\n",
    "2. Trabajo\n",
    "\n",
    "![13.png](13.png)"
   ]
  },
  {
   "cell_type": "markdown",
   "metadata": {},
   "source": [
    "## Solución\n",
    "$$ P_iV_R = m R T_i $$\n",
    "\n",
    "$$ V_R = \\frac{m R T_i}{P_i} $$"
   ]
  },
  {
   "cell_type": "code",
   "execution_count": 23,
   "metadata": {},
   "outputs": [
    {
     "name": "stdout",
     "output_type": "stream",
     "text": [
      "Ti = 320 K\n",
      "Vi = 0.574 m^3\n"
     ]
    }
   ],
   "source": [
    "# Calculoamos el volumen del recipiente R\n",
    "m = 50 # Kg\n",
    "Ti = 47+273 # K\n",
    "Pi = 80*100 # kPa\n",
    "R = 0.287 # (aire) kJ/(Kg*K) Dato de tabla\n",
    "Vi = m*R*Ti/Pi\n",
    "print 'Ti =',Ti,'K'\n",
    "print 'Vi =',round(Vi,3),'m^3'"
   ]
  },
  {
   "cell_type": "markdown",
   "metadata": {},
   "source": [
    "Una vez abierta la válvula las presiones se igualan hasta alcanzar Pp = 50 bar = 5000 kPa\n",
    "$$ \\Delta U = m c_v \\Delta T $$\n",
    "\n",
    "Primer principio de la termodinámica\n",
    "### $$ Q = \\Delta U + W $$\n",
    "El intercambio de calor del sistema con el medio es cero porque el recipiente es adiabático\n",
    "$$ Q = 0$$\n",
    "Variación de energía interna:\n",
    " $$ \\Delta U = m · c_v · \\Delta T $$ \n",
    "El trabajo total en este caso el trabajo de varición de volumen\n",
    " $$ W = W_{\\Delta V} $$\n",
    "Trabajo de variaón de volumen:\n",
    "$$ W_{\\Delta V} = P (V_f-V_i) = PV_f - PV_i $$ \n",
    "Reemplazamos $PV_f$ en la ecuación anterior\n",
    "$$ \\qquad PV_f = mRT_f$$\n",
    "Entonces\n",
    "### $$ \\Rightarrow W_{\\Delta V} = mRT_f - PV_i $$"
   ]
  },
  {
   "cell_type": "code",
   "execution_count": 24,
   "metadata": {},
   "outputs": [
    {
     "name": "stdout",
     "output_type": "stream",
     "text": [
      "Vf = 0.774 m^3\n",
      "Tf =  292.13 K\n"
     ]
    }
   ],
   "source": [
    "var('Tf')\n",
    "Pp = 50*100 # kPa \n",
    "cv = 0.7176 # (aire) kJ/(Kg*K)\n",
    "Vc = 0.2 # m^3\n",
    "Vf = Vi + Vc\n",
    "WvV = Pp*(Vf-Vi)\n",
    "Uv = m * cv * (Tf-Ti)\n",
    "eq1 = 0 == Uv + WvV\n",
    "seq1 = solve(eq1,Tf)\n",
    "Tf = seq1[0].rhs().n()\n",
    "print 'Vf =',round(Vf,3),'m^3'\n",
    "print 'Tf = ',round(Tf,2),'K'"
   ]
  },
  {
   "cell_type": "code",
   "execution_count": 25,
   "metadata": {},
   "outputs": [
    {
     "name": "stdout",
     "output_type": "stream",
     "text": [
      "WvV = 1000.0 kJ\n"
     ]
    }
   ],
   "source": [
    "# Trabajo por varición de volumen\n",
    "print'WvV =',round(WvV.subs(Tf = Tf),2),'kJ'"
   ]
  },
  {
   "cell_type": "code",
   "execution_count": 26,
   "metadata": {},
   "outputs": [],
   "source": [
    "reset()"
   ]
  },
  {
   "cell_type": "markdown",
   "metadata": {},
   "source": [
    "## Ejercicio 14\n",
    "El recipiente R, rígido y diatérmico, se encuentra conectado a un cilindro\n",
    "émbolo adiabático, a través de una válvula inicialmente cerrada. Se abre la\n",
    "válvula y luego de un tiempo se alcanza un nuevo equilibrio.\n",
    "\n",
    "Determinar:\n",
    "1. Energía térmica intercambia con el medio (Q)\n",
    "2. Energía mecánica intercambiada con el medio (W)\n",
    "3. Trabajo útil neto.\n",
    "![14.png](14.png)"
   ]
  },
  {
   "cell_type": "markdown",
   "metadata": {},
   "source": [
    "## Solución\n",
    "\n",
    "## $$ Q = \\Delta U + W $$\n",
    "\n",
    "### $$ \\Delta U = m \\, c_v \\, \\Delta T $$\n",
    "\n",
    "### $$ W = W_{\\Delta V} = P_f(V_f-V_i) = m R T_f - P_f V_i $$\n",
    "\n",
    "$$ P_f V_f = m R T_f $$"
   ]
  },
  {
   "cell_type": "code",
   "execution_count": 27,
   "metadata": {},
   "outputs": [
    {
     "name": "stdout",
     "output_type": "stream",
     "text": [
      "ViC = 0.4911 m^3\n",
      "VTi = 1.0911 m^3\n"
     ]
    }
   ],
   "source": [
    "# Datos:\n",
    "TiC = 227 + 273 # K\n",
    "R = 0.1889 # (CO2) kJ/(Kg*K) Dato de tabla\n",
    "cv = 0.6552 # (CO2) kJ/(Kg*K) Dato de tabla\n",
    "mC = 2.6 # K\n",
    "Pf = 5*100 # kPa\n",
    "VA = 0.6 # m^3\n",
    "# Calculo del volumen inicial:\n",
    "ViC = mC*R*TiC/Pf\n",
    "VTi = ViC + VA\n",
    "print 'ViC =',round(ViC,4),'m^3' # Volumen inicial en C\n",
    "print 'VTi =',round(VTi,4),'m^3' # Volumen total inicial"
   ]
  },
  {
   "cell_type": "code",
   "execution_count": 28,
   "metadata": {},
   "outputs": [
    {
     "name": "stdout",
     "output_type": "stream",
     "text": [
      "mA = 8.4701 Kg\n"
     ]
    }
   ],
   "source": [
    "# Calculo la masa en A\n",
    "Tf = 300 # K\n",
    "Pa = 8*100 # kPa\n",
    "mA = (Pa*VA)/(R*Tf)\n",
    "print 'mA =',round(mA,4),'Kg'"
   ]
  },
  {
   "cell_type": "code",
   "execution_count": 29,
   "metadata": {},
   "outputs": [
    {
     "name": "stdout",
     "output_type": "stream",
     "text": [
      "VTf = 1.2547 m^3\n"
     ]
    }
   ],
   "source": [
    "mT = mA + mC # mT: masa total en Kg\n",
    "Pf = 5*100 # kPa\n",
    "VTf = (mT*R*Tf)/Pf\n",
    "print 'VTf =',round(VTf,4),'m^3' # Volumen total final"
   ]
  },
  {
   "cell_type": "code",
   "execution_count": 30,
   "metadata": {},
   "outputs": [
    {
     "name": "stdout",
     "output_type": "stream",
     "text": [
      "DV = 0.1635 m^3\n"
     ]
    }
   ],
   "source": [
    "# DV: Variación de volumen\n",
    "DV = VTf - VTi\n",
    "print 'DV =',round(DV,4),'m^3' # Variación de volumen"
   ]
  },
  {
   "cell_type": "code",
   "execution_count": 31,
   "metadata": {},
   "outputs": [
    {
     "name": "stdout",
     "output_type": "stream",
     "text": [
      "DU = -340.704 kJ\n"
     ]
    }
   ],
   "source": [
    "# Variación de energía interna\n",
    "DU = mC * cv * (Tf - TiC)\n",
    "print 'DU =',round(DU,4),'kJ'"
   ]
  },
  {
   "cell_type": "markdown",
   "metadata": {},
   "source": [
    "### item 2\n",
    "Energía mecánica intercambiada con el medio (W)"
   ]
  },
  {
   "cell_type": "code",
   "execution_count": 32,
   "metadata": {},
   "outputs": [
    {
     "name": "stdout",
     "output_type": "stream",
     "text": [
      "Wdv = 81.772 kJ\n"
     ]
    }
   ],
   "source": [
    "# Wdv: Trabajo por variación de volumen\n",
    "Wdv = Pf * DV\n",
    "print 'Wdv =',round(Wdv,4),'kJ' # energía mecánica intercambiada con el medio"
   ]
  },
  {
   "cell_type": "markdown",
   "metadata": {},
   "source": [
    "### item 1\n",
    "Energía térmica intercambia con el medio (Q)"
   ]
  },
  {
   "cell_type": "code",
   "execution_count": 33,
   "metadata": {},
   "outputs": [
    {
     "name": "stdout",
     "output_type": "stream",
     "text": [
      "Q = -258.932 kJ\n"
     ]
    }
   ],
   "source": [
    "# Q: Intercambio de calor con el medio\n",
    "Q = DU + Wdv\n",
    "print 'Q =',round(Q,4),'kJ'"
   ]
  },
  {
   "cell_type": "markdown",
   "metadata": {},
   "source": [
    "### item 3\n",
    "Trabajo útil neto."
   ]
  },
  {
   "cell_type": "code",
   "execution_count": 34,
   "metadata": {},
   "outputs": [
    {
     "name": "stdout",
     "output_type": "stream",
     "text": [
      "Wnet = 65.4176 kJ\n"
     ]
    }
   ],
   "source": [
    "# Wnet: Trabajo útil neto\n",
    "Po = 1*100 # kPa\n",
    "Wnet = (Pf-Po) * DV\n",
    "print 'Wnet =',round(Wnet,4),'kJ'"
   ]
  },
  {
   "cell_type": "code",
   "execution_count": null,
   "metadata": {},
   "outputs": [],
   "source": [
    "reset()"
   ]
  }
 ],
 "metadata": {
  "kernelspec": {
   "display_name": "SageMath 8.1",
   "language": "",
   "name": "sagemath"
  },
  "language_info": {
   "codemirror_mode": {
    "name": "ipython",
    "version": 2
   },
   "file_extension": ".py",
   "mimetype": "text/x-python",
   "name": "python",
   "nbconvert_exporter": "python",
   "pygments_lexer": "ipython2",
   "version": "2.7.15rc1"
  }
 },
 "nbformat": 4,
 "nbformat_minor": 2
}
