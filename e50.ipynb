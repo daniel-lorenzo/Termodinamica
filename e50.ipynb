{
 "cells": [
  {
   "cell_type": "raw",
   "metadata": {},
   "source": [
    "<script>\n",
    "  function code_toggle() {\n",
    "    if (code_shown){\n",
    "      $('div.input').hide('500');\n",
    "      $('#toggleButton').val('Show Code')\n",
    "    } else {\n",
    "      $('div.input').show('500');\n",
    "      $('#toggleButton').val('Hide Code')\n",
    "    }\n",
    "    code_shown = !code_shown\n",
    "  }\n",
    "\n",
    "  $( document ).ready(function(){\n",
    "    code_shown=false;\n",
    "    $('div.input').hide()\n",
    "  });\n",
    "</script>\n",
    "<form action=\"javascript:code_toggle()\"><input type=\"submit\" id=\"toggleButton\" value=\"Show Code\"></form>"
   ]
  },
  {
   "cell_type": "markdown",
   "metadata": {},
   "source": [
    "# Ejercicio 50\n",
    "![50.png](img/50.png)\n",
    "\n",
    "__Calcular:__\n",
    "\n",
    "$\\begin{array}{ll}\n",
    "1) & m_v \\\\\n",
    "2) & \\Delta S_u \\\\\n",
    "3) & \\Delta Ex_u \\\\\n",
    "4) & \\eta_{ex} \\\\\n",
    "\\end{array}$\n",
    "\n",
    "------------"
   ]
  },
  {
   "cell_type": "markdown",
   "metadata": {},
   "source": [
    "## Solución"
   ]
  },
  {
   "cell_type": "markdown",
   "metadata": {},
   "source": [
    "$\\left.\n",
    "\\begin{array}{l}\n",
    "P_1 = 5 \\, \\mathrm{bar} \\\\\n",
    "t_1 = 200^\\circ \\mathrm{C}\n",
    "\\end{array}\n",
    "\\right\\} \\quad \\rightarrow \\quad\n",
    "\\left[\n",
    "\\begin{array}{l}\n",
    "h_1 \\\\\n",
    "s_1\n",
    "\\end{array}\n",
    "\\right]$"
   ]
  },
  {
   "cell_type": "code",
   "execution_count": 1,
   "metadata": {},
   "outputs": [],
   "source": [
    "import CoolProp.CoolProp as cp"
   ]
  },
  {
   "cell_type": "code",
   "execution_count": 2,
   "metadata": {},
   "outputs": [
    {
     "name": "stdout",
     "output_type": "stream",
     "text": [
      "h1 = 2855.84 kJ/kg\n",
      "s1 = 7.06102 kJ/kg*K\n"
     ]
    }
   ],
   "source": [
    "P1 = 5e5 # Pa\n",
    "T1 = 200 + 273.15 # K\n",
    "\n",
    "h1 = cp.PropsSI('H','P',P1,'T',T1,'Water')\n",
    "s1 = cp.PropsSI('S','P',P1,'T',T1,'Water')\n",
    "\n",
    "print('h1 = %s kJ/kg'%round(h1/1e3,2))\n",
    "print('s1 = %s kJ/kg*K'%round(s1/1e3,5))"
   ]
  },
  {
   "cell_type": "markdown",
   "metadata": {},
   "source": [
    "$\\left.\n",
    "\\begin{array}{l}\n",
    "P_2 = 4,4 \\, \\mathrm{bar} \\\\\n",
    "h_2 = h_1\n",
    "\\end{array}\n",
    "\\right\\} \\quad \\rightarrow \\quad\n",
    "\\left[\n",
    "\\begin{array}{l}\n",
    "t_2 \\\\\n",
    "s_2\n",
    "\\end{array}\n",
    "\\right]$"
   ]
  },
  {
   "cell_type": "code",
   "execution_count": 3,
   "metadata": {},
   "outputs": [
    {
     "name": "stdout",
     "output_type": "stream",
     "text": [
      "T2 = 471.7 K\n",
      "t2 = 198.55°C\n",
      "s2 = 7.11853 kJ/kg*K\n"
     ]
    }
   ],
   "source": [
    "P2 = 4.4e5 # Pa\n",
    "h2 = h1\n",
    "\n",
    "T2 = cp.PropsSI('T','P',P2,'H',h2,'Water')\n",
    "s2 = cp.PropsSI('S','P',P2,'H',h2,'Water')\n",
    "\n",
    "print('T2 = %s K'%round(T2,2))\n",
    "print('t2 = %s°C'%round(T2 - 273.15,2))\n",
    "print('s2 = %s kJ/kg*K'%round(s2/1e3,5))"
   ]
  },
  {
   "cell_type": "markdown",
   "metadata": {},
   "source": [
    "$\\left.\n",
    "\\begin{array}{l}\n",
    "x_3 = 1 \\\\\n",
    "P_3 = P_2\n",
    "\\end{array}\n",
    "\\right\\} \\quad \\rightarrow \\quad\n",
    "\\left[\n",
    "\\begin{array}{l}\n",
    "h_3 \\\\\n",
    "s_3\n",
    "\\end{array}\n",
    "\\right]$"
   ]
  },
  {
   "cell_type": "code",
   "execution_count": 5,
   "metadata": {},
   "outputs": [
    {
     "name": "stdout",
     "output_type": "stream",
     "text": [
      "h3 = 2742.37 kJ/kg\n",
      "s3 = 6.86356 kJ/kg*K\n",
      "T3 = 420.23 K\n",
      "t3 = 147.08°C\n"
     ]
    }
   ],
   "source": [
    "P3 = P2\n",
    "x3 = 1\n",
    "\n",
    "h3 = cp.PropsSI('H','P',P3,'Q',x3,'Water')\n",
    "s3 = cp.PropsSI('S','P',P3,'Q',x3,'Water')\n",
    "T3 = cp.PropsSI('T','P',P3,'Q',x3,'Water')\n",
    "\n",
    "print('h3 = %s kJ/kg'%round(h3/1e3,2))\n",
    "print('s3 = %s kJ/kg*K'%round(s3/1e3,5))\n",
    "print('T3 = %s K'%round(T3,2))\n",
    "print('t3 = %s°C'%round(T3 - 273.15,2))"
   ]
  },
  {
   "cell_type": "markdown",
   "metadata": {},
   "source": [
    "$$ \\Delta H_{45} = m_{aire} c_p \\Delta T $$"
   ]
  },
  {
   "cell_type": "code",
   "execution_count": 6,
   "metadata": {},
   "outputs": [
    {
     "name": "stdout",
     "output_type": "stream",
     "text": [
      "DH45 = 10047.0 kJ/s\n"
     ]
    }
   ],
   "source": [
    "m_aire = 100 # Kg/s\n",
    "cp = 1.0047e3 # J/kg*K\n",
    "DT = 100 # K\n",
    "\n",
    "DH45 = m_aire*cp*DT\n",
    "\n",
    "print('DH45 = %s kJ/s'%round(DH45/1e3,2))"
   ]
  },
  {
   "cell_type": "markdown",
   "metadata": {},
   "source": [
    "$$ \\Delta H_{45} = \\Delta H_{23} = m_v (h_2 - h_3) $$"
   ]
  },
  {
   "cell_type": "markdown",
   "metadata": {},
   "source": [
    "$$ m_v = \\frac{\\Delta H_{45}}{h_2 - h_3} $$"
   ]
  },
  {
   "cell_type": "code",
   "execution_count": 7,
   "metadata": {},
   "outputs": [
    {
     "name": "stdout",
     "output_type": "stream",
     "text": [
      "mv = 88.547 kg/s\n"
     ]
    }
   ],
   "source": [
    "mv = DH45/(h2 - h3)\n",
    "\n",
    "print('mv = %s kg/s'%round(mv,3))"
   ]
  },
  {
   "cell_type": "markdown",
   "metadata": {},
   "source": [
    "$\\begin{array}{l}\n",
    "\\Delta S_{12} = m_v (s_2 - s_1) \\\\\n",
    "\\Delta S_{23} = m_v (s_3 - s_2)\n",
    "\\end{array}$"
   ]
  },
  {
   "cell_type": "code",
   "execution_count": 8,
   "metadata": {},
   "outputs": [
    {
     "name": "stdout",
     "output_type": "stream",
     "text": [
      "DS12 = 5.09216 kJ/K\n",
      "DS23 = -22.5763 kJ/K\n"
     ]
    }
   ],
   "source": [
    "DS12 = mv*(s2 - s1)\n",
    "DS23 = mv*(s3 - s2)\n",
    "\n",
    "print('DS12 = %s kJ/K'%round(DS12/1e3,5))\n",
    "print('DS23 = %s kJ/K'%round(DS23/1e3,5))"
   ]
  },
  {
   "cell_type": "markdown",
   "metadata": {},
   "source": [
    "$$ \\Delta S_{45} = m_{aire} \\left( c_p \\ln \\frac{T_5}{T_4} - R \\underbrace{ \\ln \\frac{P_5}{P_4} }_{= \\, 0} \\right) $$\n",
    "consideramos $P_4 = P_5$"
   ]
  },
  {
   "cell_type": "code",
   "execution_count": 9,
   "metadata": {},
   "outputs": [],
   "source": [
    "import math"
   ]
  },
  {
   "cell_type": "code",
   "execution_count": 10,
   "metadata": {},
   "outputs": [
    {
     "name": "stdout",
     "output_type": "stream",
     "text": [
      "DS45 = 29.48863 kJ/K\n"
     ]
    }
   ],
   "source": [
    "T4 = 20 + 273.15 # K\n",
    "T5 = 120 + 273.15 # K\n",
    "\n",
    "DS45 = m_aire*(cp*math.log(T5/T4))\n",
    "\n",
    "print('DS45 = %s kJ/K'%round(DS45/1e3,5))"
   ]
  },
  {
   "cell_type": "markdown",
   "metadata": {},
   "source": [
    "$$ \\Delta S_u = \\Delta S_{12} + \\Delta S_{23} + \\Delta S_{45} $$"
   ]
  },
  {
   "cell_type": "code",
   "execution_count": 11,
   "metadata": {},
   "outputs": [
    {
     "name": "stdout",
     "output_type": "stream",
     "text": [
      "DSu = 12.00449 kJ/K\n"
     ]
    }
   ],
   "source": [
    "DSu = DS12 + DS23 + DS45\n",
    "\n",
    "print('DSu = %s kJ/K'%round(DSu/1e3,5))"
   ]
  },
  {
   "cell_type": "markdown",
   "metadata": {},
   "source": [
    "$$ \\Delta Ex_u = - T_0 \\Delta S_u $$"
   ]
  },
  {
   "cell_type": "code",
   "execution_count": 12,
   "metadata": {},
   "outputs": [
    {
     "name": "stdout",
     "output_type": "stream",
     "text": [
      "DExu = -3519.12 kJ\n"
     ]
    }
   ],
   "source": [
    "T0 = 20 + 273.15 # K\n",
    "\n",
    "DExu = - T0*DSu\n",
    "\n",
    "print('DExu = %s kJ'%round(DExu/1e3,2))"
   ]
  },
  {
   "cell_type": "markdown",
   "metadata": {},
   "source": [
    "$$ \\Delta Ex_{13} = m_v (h_3 - h_1) - m_v T_0 (s_3 - s_1) $$"
   ]
  },
  {
   "cell_type": "code",
   "execution_count": 14,
   "metadata": {},
   "outputs": [
    {
     "name": "stdout",
     "output_type": "stream",
     "text": [
      "DEx13 = -4921.525 kJ\n"
     ]
    }
   ],
   "source": [
    "DEx13 = mv*(h3 - h1) - mv*T0*(s3 - s1)\n",
    "print('DEx13 = %s kJ'%round(DEx13/1e3,3))"
   ]
  },
  {
   "cell_type": "markdown",
   "metadata": {},
   "source": [
    "$$ \\Delta Ex_{45} = \\Delta H_{45} - T_0 \\Delta S_{45} $$"
   ]
  },
  {
   "cell_type": "code",
   "execution_count": 15,
   "metadata": {},
   "outputs": [
    {
     "name": "stdout",
     "output_type": "stream",
     "text": [
      "DEx45 = 1402.409 kJ\n"
     ]
    }
   ],
   "source": [
    "DEx45 = DH45 - T0*DS45\n",
    "print('DEx45 = %s kJ'%round(DEx45/1e3,3))"
   ]
  },
  {
   "cell_type": "markdown",
   "metadata": {},
   "source": [
    "$$ \\eta_{ex} = \\frac{\\Delta Ex_{45}}{|\\Delta Ex_{13}|} $$"
   ]
  },
  {
   "cell_type": "code",
   "execution_count": 16,
   "metadata": {},
   "outputs": [
    {
     "name": "stdout",
     "output_type": "stream",
     "text": [
      "eta_ex = 0.285\n"
     ]
    }
   ],
   "source": [
    "eta_ex = DEx45/abs(DEx13)\n",
    "\n",
    "print('eta_ex = %s'%round(eta_ex,4))"
   ]
  },
  {
   "cell_type": "code",
   "execution_count": null,
   "metadata": {},
   "outputs": [],
   "source": [
    "%reset -s -f"
   ]
  }
 ],
 "metadata": {
  "kernelspec": {
   "display_name": "Python 3",
   "language": "python",
   "name": "python3"
  },
  "language_info": {
   "codemirror_mode": {
    "name": "ipython",
    "version": 3
   },
   "file_extension": ".py",
   "mimetype": "text/x-python",
   "name": "python",
   "nbconvert_exporter": "python",
   "pygments_lexer": "ipython3",
   "version": "3.7.3"
  }
 },
 "nbformat": 4,
 "nbformat_minor": 2
}
