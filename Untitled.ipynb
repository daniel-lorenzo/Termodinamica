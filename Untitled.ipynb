{
 "cells": [
  {
   "cell_type": "markdown",
   "metadata": {},
   "source": [
    "# Ejercicio 18\n",
    "Una masa de agua líquida saturada de 5 kg se evapora totalmente a una presión de 500 kPa.\n",
    "\n",
    "Determinar:\n",
    "1. Variación de volumen $\\Delta V$\n",
    "2. Energía mecánica intercambiada (W)\n",
    "3. Energía térmica intercambiada (Q)"
   ]
  },
  {
   "cell_type": "code",
   "execution_count": 5,
   "metadata": {},
   "outputs": [],
   "source": [
    "import CoolProp.CoolProp as cp"
   ]
  },
  {
   "cell_type": "code",
   "execution_count": 13,
   "metadata": {},
   "outputs": [
    {
     "name": "stdout",
     "output_type": "stream",
     "text": [
      "DV = 1.8686 m^3\n"
     ]
    }
   ],
   "source": [
    "P = 500e3 # Pa\n",
    "m = 5 # kg\n",
    "\n",
    "v0 = 1/cp.PropsSI('D','P',P,'Q',0,'Water')\n",
    "v1 = 1/cp.PropsSI('D','P',P,'Q',1,'Water')\n",
    "\n",
    "DV = (v1 - v0)*m\n",
    "\n",
    "print('DV = %s m^3'%round(DV,4))"
   ]
  },
  {
   "cell_type": "code",
   "execution_count": 14,
   "metadata": {},
   "outputs": [
    {
     "name": "stdout",
     "output_type": "stream",
     "text": [
      "Wb = 934.28 kJ\n"
     ]
    }
   ],
   "source": [
    "Wb = P*DV\n",
    "\n",
    "print('Wb = %s kJ'%round(Wb/1000,2))"
   ]
  },
  {
   "cell_type": "markdown",
   "metadata": {},
   "source": [
    "$$ Q = \\Delta U + W_{\\Delta V} $$"
   ]
  },
  {
   "cell_type": "code",
   "execution_count": 15,
   "metadata": {},
   "outputs": [
    {
     "name": "stdout",
     "output_type": "stream",
     "text": [
      "DU = 9605.84 kJ\n",
      "Q = 10540.12 kJ\n"
     ]
    }
   ],
   "source": [
    "u0 = cp.PropsSI('U','P',P,'Q',0,'Water')\n",
    "u1 = cp.PropsSI('U','P',P,'Q',1,'Water')\n",
    "\n",
    "DU = m*(u1 - u0)\n",
    "\n",
    "Q = DU + Wb\n",
    "\n",
    "print('DU = %s kJ'%round(DU/1000,2))\n",
    "print('Q = %s kJ'%round(Q/1000,2))"
   ]
  },
  {
   "cell_type": "markdown",
   "metadata": {},
   "source": [
    "# Ejercicio 19\n",
    "Un recipiente rígido y adiabático contiene una masa de 40 kg de vapor que se encuentra a 80°C. Si el 37,5% de la masa está en fase líquida y el resto como vapor, determinar:\n",
    "1. Título\n",
    "2. P del recipiente\n",
    "3. Volumen del recipientte"
   ]
  },
  {
   "cell_type": "code",
   "execution_count": 1,
   "metadata": {},
   "outputs": [],
   "source": [
    "import CoolProp.CoolProp as cp"
   ]
  },
  {
   "cell_type": "code",
   "execution_count": 4,
   "metadata": {},
   "outputs": [],
   "source": [
    "# Datos\n",
    "Q = 1 - 37.5/100\n",
    "T = 80 + 273.15 # K\n",
    "m = 40 # kg"
   ]
  },
  {
   "cell_type": "code",
   "execution_count": 3,
   "metadata": {},
   "outputs": [
    {
     "name": "stdout",
     "output_type": "stream",
     "text": [
      "x = 0.625\n"
     ]
    }
   ],
   "source": [
    "print('x = %s'%Q)"
   ]
  },
  {
   "cell_type": "code",
   "execution_count": 5,
   "metadata": {},
   "outputs": [],
   "source": [
    "P = cp.PropsSI('P','T',T,'Q',Q,'Water')\n",
    "V = m*1/cp.PropsSI('D','T',T,'Q',Q,'Water')"
   ]
  },
  {
   "cell_type": "code",
   "execution_count": 7,
   "metadata": {},
   "outputs": [
    {
     "name": "stdout",
     "output_type": "stream",
     "text": [
      "P = 47.41 kPa\n",
      "V = 85.1444 m^3\n"
     ]
    }
   ],
   "source": [
    "print('P = %s kPa'%round(P/1000,2))\n",
    "print('V = %s m^3'%round(V,4))"
   ]
  },
  {
   "cell_type": "markdown",
   "metadata": {},
   "source": [
    "# Ejercicio 20\n",
    "Un conjunto cilindro-pistón contiene 20 kg de agua de los cuales 12 kg están en forma líquida, y el resto como vapor. El pistón ejerce una presión absoluta de 8 bar. Se entrega energía térmica lentamente hasta que la temperatura asciende a 220°C. Determinar:\n",
    "1. Título inicial\n",
    "2. $W$ intercambiado con el medio exterior\n",
    "3. $Q$ intercambiado con el medio exterior\n",
    "4. Representar en un diagrama P-V"
   ]
  },
  {
   "cell_type": "code",
   "execution_count": 10,
   "metadata": {},
   "outputs": [
    {
     "name": "stdout",
     "output_type": "stream",
     "text": [
      "x_inic = 0.4\n"
     ]
    }
   ],
   "source": [
    "m_total = 20 # kg\n",
    "m_liq = 12 # kg\n",
    "m_vapor = m_total - m_liq\n",
    "\n",
    "x_inic = m_vapor/m_total\n",
    "\n",
    "print('x_inic = %s'%x_inic)"
   ]
  },
  {
   "cell_type": "code",
   "execution_count": 18,
   "metadata": {},
   "outputs": [
    {
     "name": "stdout",
     "output_type": "stream",
     "text": [
      "Ti = 443.56 K\n",
      "ti = 170.41 °C\n"
     ]
    }
   ],
   "source": [
    "Ti = cp.PropsSI('T','P',P,'Q',x_inic,'Water')\n",
    "\n",
    "print('Ti = %s K'%round(Ti,2))\n",
    "print('ti = %s °C'%round(Ti - 273.15,2))"
   ]
  },
  {
   "cell_type": "code",
   "execution_count": 13,
   "metadata": {},
   "outputs": [],
   "source": [
    "P = 8e5 # Pa\n",
    "Tf = 220 + 273.15 # K\n",
    "\n",
    "vi = 1/cp.PropsSI('D','P',P,'Q',x_inic,'Water')\n",
    "vf = 1/cp.PropsSI('D','P',P,'T',Tf,'Water')\n",
    "\n",
    "Vi = m_total*vi\n",
    "Vf = m_total*vf\n",
    "\n",
    "Wb = P*(Vf - Vi)"
   ]
  },
  {
   "cell_type": "code",
   "execution_count": 14,
   "metadata": {},
   "outputs": [
    {
     "name": "stdout",
     "output_type": "stream",
     "text": [
      "Wb = 2835.95 kJ\n"
     ]
    }
   ],
   "source": [
    "print('Wb = %s kJ'%round(Wb/1000,2))"
   ]
  },
  {
   "cell_type": "markdown",
   "metadata": {},
   "source": [
    "$$ Q = \\Delta U + W_{\\Delta V} $$"
   ]
  },
  {
   "cell_type": "code",
   "execution_count": 15,
   "metadata": {},
   "outputs": [],
   "source": [
    "ui = cp.PropsSI('U','P',P,'Q',x_inic,'Water')\n",
    "uf = cp.PropsSI('U','P',P,'T',Tf,'Water')\n",
    "\n",
    "DU = (uf - ui)*m_total"
   ]
  },
  {
   "cell_type": "code",
   "execution_count": 16,
   "metadata": {},
   "outputs": [],
   "source": [
    "Q = DU + Wb"
   ]
  },
  {
   "cell_type": "code",
   "execution_count": 17,
   "metadata": {},
   "outputs": [
    {
     "name": "stdout",
     "output_type": "stream",
     "text": [
      "Q = 26901.29 kJ\n"
     ]
    }
   ],
   "source": [
    "print('Q = %s kJ'%round(Q/1000,2))"
   ]
  },
  {
   "cell_type": "code",
   "execution_count": 19,
   "metadata": {},
   "outputs": [],
   "source": [
    "%reset -s -f"
   ]
  },
  {
   "cell_type": "markdown",
   "metadata": {},
   "source": [
    "# Ejercicio 22\n",
    "Mediante un eje que acciona una rueda de paletas se entrega trabajo al aire contenido en B hasta que éste alcanza los 500°C. Determinar el trabajo suministrado por el eje."
   ]
  },
  {
   "cell_type": "code",
   "execution_count": 23,
   "metadata": {},
   "outputs": [],
   "source": [
    "import CoolProp.CoolProp as cp"
   ]
  },
  {
   "cell_type": "code",
   "execution_count": 57,
   "metadata": {},
   "outputs": [
    {
     "name": "stdout",
     "output_type": "stream",
     "text": [
      "Ti = 448.5 K\n",
      "ti = 175.35 °C\n"
     ]
    }
   ],
   "source": [
    "# Datos\n",
    "Pp = 9e5 # Pa (Presión del pistón)\n",
    "x = 1 # Vapor saturado\n",
    "\n",
    "Ti = cp.PropsSI('T','P',Pp,'Q',x,'Water')\n",
    "\n",
    "print('Ti = %s K'%round(Ti,2))\n",
    "print('ti = %s °C'%round(Ti - 273.15,2))"
   ]
  },
  {
   "cell_type": "markdown",
   "metadata": {},
   "source": [
    "$$ \\Delta U_A = m_A \\, c_p \\, (T_f - T_i) $$"
   ]
  },
  {
   "cell_type": "code",
   "execution_count": 52,
   "metadata": {},
   "outputs": [
    {
     "name": "stdout",
     "output_type": "stream",
     "text": [
      "DU_B = 6989.06 kJ\n"
     ]
    }
   ],
   "source": [
    "Tf = 500 + 273.15 # K\n",
    "m_B = 30 # kg\n",
    "P_iB = 1e5 # Pa\n",
    "cv = 0.7176e3 # J/kg·K\n",
    "\n",
    "DU_B = m_B * cv * (Tf - Ti)\n",
    "\n",
    "print('DU_B = %s kJ'%round(DU_B/1000,2))"
   ]
  },
  {
   "cell_type": "code",
   "execution_count": 53,
   "metadata": {},
   "outputs": [
    {
     "name": "stdout",
     "output_type": "stream",
     "text": [
      "DU_A = 5461.57 kJ\n"
     ]
    }
   ],
   "source": [
    "m_A = 10 # kg\n",
    "\n",
    "ui_A = cp.PropsSI('U','P',Pp,'Q',Q,'Water')\n",
    "uf_A = cp.PropsSI('U','T',Tf,'P',Pp,'Water')\n",
    "\n",
    "DU_A = m_A*(uf_A - ui_A)\n",
    "\n",
    "print('DU_A = %s kJ'%round(DU_A/1000,2))"
   ]
  },
  {
   "cell_type": "code",
   "execution_count": 54,
   "metadata": {},
   "outputs": [
    {
     "name": "stdout",
     "output_type": "stream",
     "text": [
      "Wb = 1609.87 kJ\n"
     ]
    }
   ],
   "source": [
    "v_i = 1/cp.PropsSI('D','P',Pp,'Q',Q,'Water')\n",
    "v_f = 1/cp.PropsSI('D','P',Pp,'T',Tf,'Water')\n",
    "\n",
    "DV_A = m_A*(v_f - v_i)\n",
    "Wb = Pp*DV_A\n",
    "\n",
    "print('Wb = %s kJ'%round(Wb/1000,2))"
   ]
  },
  {
   "cell_type": "code",
   "execution_count": 55,
   "metadata": {},
   "outputs": [
    {
     "name": "stdout",
     "output_type": "stream",
     "text": [
      "Weje = 14060.49 kJ\n"
     ]
    }
   ],
   "source": [
    "Weje = Wb + DU_A + DU_B\n",
    "\n",
    "print('Weje = %s kJ'%round(Weje/1000,2))"
   ]
  },
  {
   "cell_type": "code",
   "execution_count": 58,
   "metadata": {},
   "outputs": [],
   "source": [
    "%reset -s -f"
   ]
  },
  {
   "cell_type": "markdown",
   "metadata": {},
   "source": [
    "# Ejercicio 21"
   ]
  },
  {
   "cell_type": "markdown",
   "metadata": {},
   "source": [
    "$$ Q = \\Delta U + W_b $$\n",
    "\n",
    "$$ 0 = \\Delta U + W_b $$"
   ]
  },
  {
   "cell_type": "code",
   "execution_count": 1,
   "metadata": {},
   "outputs": [],
   "source": [
    "import CoolProp.CoolProp as cp"
   ]
  },
  {
   "cell_type": "code",
   "execution_count": 3,
   "metadata": {},
   "outputs": [
    {
     "name": "stdout",
     "output_type": "stream",
     "text": [
      "h1 = 2620.52 kJ/kg\n",
      "s1 = 5.86301 kJ/kg·K\n"
     ]
    }
   ],
   "source": [
    "P1 = 27e5 # Pa\n",
    "x1 = 0.9\n",
    "\n",
    "h1 = cp.PropsSI('H','P',P1,'Q',x1,'Water')\n",
    "s1 = cp.PropsSI('S','P',P1,'Q',x1,'Water')\n",
    "\n",
    "print('h1 = %s kJ/kg'%round(h1/1000,2))\n",
    "print('s1 = %s kJ/kg·K'%round(s1/1000,6))"
   ]
  },
  {
   "cell_type": "code",
   "execution_count": 11,
   "metadata": {},
   "outputs": [
    {
     "name": "stdout",
     "output_type": "stream",
     "text": [
      "h = 504.7 kJ/kg\n",
      "s = 1.530174 kJ/kg·K\n"
     ]
    }
   ],
   "source": [
    "T = 130 + 273.15 # K\n",
    "\n",
    "h = cp.PropsSI('H','P',2e5,'Q',0,'Water')\n",
    "s = cp.PropsSI('S','P',2e5,'Q',0,'Water')\n",
    "\n",
    "print('h = %s kJ/kg'%round(h/1000,2))\n",
    "print('s = %s kJ/kg·K'%round(s/1000,6))"
   ]
  },
  {
   "cell_type": "code",
   "execution_count": null,
   "metadata": {},
   "outputs": [],
   "source": []
  }
 ],
 "metadata": {
  "kernelspec": {
   "display_name": "Python 3",
   "language": "python",
   "name": "python3"
  },
  "language_info": {
   "codemirror_mode": {
    "name": "ipython",
    "version": 3
   },
   "file_extension": ".py",
   "mimetype": "text/x-python",
   "name": "python",
   "nbconvert_exporter": "python",
   "pygments_lexer": "ipython3",
   "version": "3.7.3"
  }
 },
 "nbformat": 4,
 "nbformat_minor": 2
}
