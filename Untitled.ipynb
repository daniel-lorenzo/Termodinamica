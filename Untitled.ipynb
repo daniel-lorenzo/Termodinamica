{
 "cells": [
  {
   "cell_type": "markdown",
   "metadata": {},
   "source": [
    "$\\begin{array}{l|l|l|l}\n",
    " & \\mathrm{Ecuaciones} & & \\mathrm{Incognitas} \\\\\n",
    " \\hline\n",
    "1) & Q = \\dot{m} (h_f - h_i) + W_{pal} &  & Q, \\, h_f, \\, h_i \\\\\n",
    "2) & h_i = h''_i & f(P) \\mbox{ vapor saturado } x_i = 1 \\\\\n",
    "3) & Q = 0 & \\mbox{porque es adiabático} \\\\\n",
    "4) & V_i = \\dot{m} v_i & & v_i, \\, Vi \\\\\n",
    "5) & v_i = v''_i & f(P) \\, \\mbox{vapor saturado } x_i = 1 \\\\\n",
    "6) & V_f = \\dot{m} v_f & & V_f, \\, v_f \\\\\n",
    "7) & v_f & f(h_f;P) \\\\\n",
    "\\hline\n",
    "\\end{array}$\n",
    "\n",
    "__7 ecuaciones - 7 incognitas__"
   ]
  },
  {
   "cell_type": "code",
   "execution_count": 1,
   "metadata": {},
   "outputs": [],
   "source": [
    "import CoolProp.CoolProp as cp"
   ]
  },
  {
   "cell_type": "code",
   "execution_count": 2,
   "metadata": {},
   "outputs": [],
   "source": [
    "import sympy as sp"
   ]
  },
  {
   "cell_type": "code",
   "execution_count": 14,
   "metadata": {},
   "outputs": [
    {
     "ename": "NameError",
     "evalue": "name 'Vi' is not defined",
     "output_type": "error",
     "traceback": [
      "\u001b[0;31m---------------------------------------------------------------------------\u001b[0m",
      "\u001b[0;31mNameError\u001b[0m                                 Traceback (most recent call last)",
      "\u001b[0;32m<ipython-input-14-a34205d5c922>\u001b[0m in \u001b[0;36m<module>\u001b[0;34m\u001b[0m\n\u001b[1;32m     15\u001b[0m \u001b[0meq3\u001b[0m \u001b[0;34m=\u001b[0m \u001b[0msp\u001b[0m\u001b[0;34m.\u001b[0m\u001b[0mEq\u001b[0m\u001b[0;34m(\u001b[0m \u001b[0mQ\u001b[0m \u001b[0;34m,\u001b[0m \u001b[0;36m0\u001b[0m \u001b[0;34m)\u001b[0m                         \u001b[0;31m# 3\u001b[0m\u001b[0;34m\u001b[0m\u001b[0;34m\u001b[0m\u001b[0m\n\u001b[1;32m     16\u001b[0m \u001b[0mvi\u001b[0m \u001b[0;34m=\u001b[0m \u001b[0;36m1\u001b[0m\u001b[0;34m/\u001b[0m\u001b[0mcp\u001b[0m\u001b[0;34m.\u001b[0m\u001b[0mPropsSI\u001b[0m\u001b[0;34m(\u001b[0m\u001b[0;34m'D'\u001b[0m\u001b[0;34m,\u001b[0m\u001b[0;34m'P'\u001b[0m\u001b[0;34m,\u001b[0m\u001b[0mPi\u001b[0m\u001b[0;34m,\u001b[0m\u001b[0;34m'Q'\u001b[0m\u001b[0;34m,\u001b[0m\u001b[0mxi\u001b[0m\u001b[0;34m,\u001b[0m\u001b[0;34m'Water'\u001b[0m\u001b[0;34m)\u001b[0m \u001b[0;31m# 4\u001b[0m\u001b[0;34m\u001b[0m\u001b[0;34m\u001b[0m\u001b[0m\n\u001b[0;32m---> 17\u001b[0;31m \u001b[0meq5\u001b[0m \u001b[0;34m=\u001b[0m \u001b[0msp\u001b[0m\u001b[0;34m.\u001b[0m\u001b[0mEq\u001b[0m\u001b[0;34m(\u001b[0m \u001b[0mVi\u001b[0m \u001b[0;34m,\u001b[0m \u001b[0mm\u001b[0m\u001b[0;34m*\u001b[0m\u001b[0mvi\u001b[0m \u001b[0;34m)\u001b[0m                     \u001b[0;31m# 5\u001b[0m\u001b[0;34m\u001b[0m\u001b[0;34m\u001b[0m\u001b[0m\n\u001b[0m\u001b[1;32m     18\u001b[0m \u001b[0mvf\u001b[0m \u001b[0;34m=\u001b[0m \u001b[0;36m1\u001b[0m\u001b[0;34m/\u001b[0m\u001b[0mcp\u001b[0m\u001b[0;34m.\u001b[0m\u001b[0mPropsSI\u001b[0m\u001b[0;34m(\u001b[0m\u001b[0;34m'D'\u001b[0m\u001b[0;34m,\u001b[0m\u001b[0;34m'P'\u001b[0m\u001b[0;34m,\u001b[0m\u001b[0mP\u001b[0m\u001b[0;34m,\u001b[0m\u001b[0;34m'H'\u001b[0m\u001b[0;34m,\u001b[0m\u001b[0mhf\u001b[0m\u001b[0;34m,\u001b[0m\u001b[0;34m'Water'\u001b[0m\u001b[0;34m)\u001b[0m  \u001b[0;31m# 6\u001b[0m\u001b[0;34m\u001b[0m\u001b[0;34m\u001b[0m\u001b[0m\n\u001b[1;32m     19\u001b[0m \u001b[0meq7\u001b[0m \u001b[0;34m=\u001b[0m \u001b[0msp\u001b[0m\u001b[0;34m.\u001b[0m\u001b[0mEq\u001b[0m\u001b[0;34m(\u001b[0m \u001b[0mVf\u001b[0m \u001b[0;34m,\u001b[0m \u001b[0mm\u001b[0m\u001b[0;34m*\u001b[0m\u001b[0mvf\u001b[0m \u001b[0;34m)\u001b[0m                     \u001b[0;31m# 7\u001b[0m\u001b[0;34m\u001b[0m\u001b[0;34m\u001b[0m\u001b[0m\n",
      "\u001b[0;31mNameError\u001b[0m: name 'Vi' is not defined"
     ]
    }
   ],
   "source": [
    "# Datos\n",
    "m = 2 # kg\n",
    "xi = 1\n",
    "P = 2*101325 # Pa\n",
    "Pi = P\n",
    "Wpal = -500e3 # J\n",
    "Q = 0\n",
    "\n",
    "sp.symbols('Q hf hi Vi Vf')\n",
    "hf = hi - Wpal/m\n",
    "hi = cp.PropsSI('H','P',Pi,'Q',xi,'Water')   # 2\n",
    "eq1 = sp.Eq(Q , m*(hf - hi) + Wpal )         # 1\n",
    "eq3 = sp.Eq( Q , 0 )                         # 3\n",
    "vi = 1/cp.PropsSI('D','P',Pi,'Q',xi,'Water') # 4\n",
    "eq5 = sp.Eq( Vi , m*vi )                     # 5\n",
    "vf = 1/cp.PropsSI('D','P',P,'H',hf,'Water')  # 6\n",
    "eq7 = sp.Eq( Vf , m*vf )                     # 7\n",
    "\n",
    "\n",
    "sp.solve([eq1,eq3,eq5,eq7],[Q,hf,Vf])"
   ]
  },
  {
   "cell_type": "code",
   "execution_count": null,
   "metadata": {},
   "outputs": [],
   "source": []
  }
 ],
 "metadata": {
  "kernelspec": {
   "display_name": "Python 3",
   "language": "python",
   "name": "python3"
  },
  "language_info": {
   "codemirror_mode": {
    "name": "ipython",
    "version": 3
   },
   "file_extension": ".py",
   "mimetype": "text/x-python",
   "name": "python",
   "nbconvert_exporter": "python",
   "pygments_lexer": "ipython3",
   "version": "3.7.3"
  }
 },
 "nbformat": 4,
 "nbformat_minor": 2
}
