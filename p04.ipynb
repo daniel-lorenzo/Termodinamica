{
 "cells": [
  {
   "cell_type": "markdown",
   "metadata": {},
   "source": [
    "# Clase práctica 4 - Termodinámica\n",
    "__UNLZ - FI -- Fecha: 4/05/2019 -- Jupyter Notebook + Python 3__\n",
    "\n",
    "__Alumno: Lorenzo, Daniel Antonio__"
   ]
  },
  {
   "cell_type": "markdown",
   "metadata": {},
   "source": [
    "## Turbinas y compresores\n",
    "En las centrales eléctricas de vapor, gas o en hidroeléctricas, el dispositivo\n",
    "que impulsa al generador eléctrico es la turbina. A medida que el fluido pasa\n",
    "por ésta se hace trabajo contra los álabes, los cuales están unidos a la flecha,\n",
    "la cual a su vez gira y la turbina produce trabajo.\n",
    "Al igual que las bombas y los ventiladores, los compresores son dispositivos\n",
    "que se utilizan para incrementar la presión de un fluido. A estos dispositivos el\n",
    "trabajo se suministra desde una fuente externa a través de un eje giratorio, por\n",
    "lo tanto los compresores requieren entrada de trabajo. Aun cuando estos tres\n",
    "dispositivos funcionan de manera similar, difieren en las tareas que llevan a\n",
    "cabo. Un ventilador se usa sobre todo para movilizar un gas y sólo incrementa\n",
    "ligeramente la presión, mientras que un compresor es capaz de comprimir el\n",
    "gas a presiones muy altas. Las bombas funcionan de manera muy parecida a\n",
    "los compresores excepto que manejan líquidos en lugar de gases.\n",
    "Note que las turbinas producen potencia mientras que los compresores,\n",
    "bombas y ventiladores requieren entrada de potencia.\n",
    "Las velocidades de fluido encontradas en la mayor parte de las tur-\n",
    "binas son muy altas, por lo que el fluido experimenta un cambio importante en\n",
    "su energía cinética. Sin embargo, este cambio es por lo regular muy pequeño\n",
    "con respecto al cambio de entalpía, por lo tanto no se toma en cuenta.\n",
    "![turbina.png](img/turbina.png)\n",
    "$Q=0$\n",
    "\n",
    "$$ Q - W = \\Delta H $$\n",
    "\n",
    "$$ -W = m (h_s - h_e) $$\n",
    "\n",
    "$$ W = m (h_e - h_s) $$"
   ]
  },
  {
   "cell_type": "markdown",
   "metadata": {},
   "source": [
    "## Válvula reguladora o de estrangulamiento\n",
    "Las válvulas de estrangulamiento son dispositivos de diferentes tipos que restringen el flujo de un fluido provocando una caída relevante de presión. A diferecia de las turbinas, producen una caída de presión sin implicar trabajo. La caída de presión en el fluido suele ir acompañada de una gran disminución de temperatura, por esa razón los dispositivos de estrangulamiento son de uso común en aplicaciones de refrigeración y acondicionamiento de aire. Las válvulas de estrangulamiento son por lo regular dispositivos pequeños, y se puede suponer que el flujo por ellos es adiabático $(q \\approx 0)$ puesto que no hay suficiente tiempo ni área suficientemente grande para que ocurra alguna transferencia de calor efectiva. Tampoco se realiza trabajo $W=0$, y el cambio en la energía potencial, si tiene lugar, es muy pequeño $(\\Delta Ep \\approx 0)$. Aun cuando la velocidad de salida sea con frecuencia considerablemente mayor que la velocidad de entrada, en muchos casos el incremento de energía cinética es insignificante $(\\Delta Ec \\approx 0)$. Entonces la ecuación de conservación de la energía para este dispositivo de flujo estacionario de una sola corriente se reduce a\n",
    "$$ h_2 \\approx h_1 \\quad (kJ/kg) $$\n",
    "Es decir, los valores de entalpía en la entrada y la salida de una válvula de estrangulamiento son los mismos.\n",
    "![valv_reg.png](img/valv_reg.png)\n",
    "$Q = 0$ y $W=0$\n",
    "$$ Q - W = \\Delta H = 0 $$\n",
    "$$ h_S - h_E = 0 \\quad \\Rightarrow \\quad h_S = h_E$$"
   ]
  },
  {
   "cell_type": "markdown",
   "metadata": {},
   "source": [
    "## Cámara de mezcla\n",
    "En las aplicaciones de ingeniería, mezclar dos corrientes de fluido no es raro. La sección donde el proceso de mezclado tiene lugar se conoce como __cámara de mezclado__, la cual no tiene que ser exactamente una “cámara”. Una\n",
    "tubería ordinaria en forma de “T” o en “Y” de una regadera, por ejemplo, sirve como cámara de mezclado para las corrientes de agua fría y caliente.\n",
    "\n",
    "El principio de conservación de la masa para una cámara de mezclado\n",
    "requiere que la suma de los flujos másicos entrantes sea igual al flujo másico\n",
    "de la mezcla saliente.\n",
    "\n",
    "Las cámaras de mezclado por lo regular están bien aisladas $( Q \\approx 0)$ y normalmente no involucran trabajo $(W = 0)$.\n",
    "![camara_mezcla.png](img/camara_mezcla.png)\n",
    "\n",
    "$$ Q - W = \\Delta H $$\n",
    "$$ m_1 + m_2 = m_3 $$\n",
    "$$ h_S = h_E $$\n",
    "\n",
    "$\\left\\{ \\begin{array}{l}\n",
    "m_1 + m_2 = m_3 \\\\\n",
    "m_1 h_1 + m_2 h_2 = m_3 h_3 \\\\\n",
    "P = cte\n",
    "\\end{array} \\right.\n",
    "$\n",
    "\n",
    "P = constante en todos los puntos de la cámara."
   ]
  },
  {
   "cell_type": "markdown",
   "metadata": {},
   "source": [
    "## Intercambiador de calor\n",
    "Como su nombre indica, los intercambiadores de calor son dispositivos donde\n",
    "dos corrientes de fluido en movimiento intercambian calor sin mezclado. Los\n",
    "intercambiadores de calor se usan ampliamente en varias industrias y su diseño\n",
    "es variado.\n",
    "\n",
    "![interc.png](img/interc.png)\n",
    "\n",
    "$Q=0$ y $W = 0$\n",
    "$$ Q - W = \\Delta H $$\n",
    "$$ \\Delta H = 0$$\n",
    "$$ h_E = h_S $$\n",
    "\n",
    "$\\left\\{ \\begin{array}{l}\n",
    "\\dot{m}_2 h_2 + \\dot{m}_4 h_4 = \\dot{m}_1 h_1 + \\dot{m}_3 h_3 \\\\\n",
    "\\dot{m}_3 = \\dot{m}_4 \\\\\n",
    "\\dot{m}_1 = \\dot{m}_2\n",
    "\\end{array}\n",
    "\\right.\n",
    "$"
   ]
  },
  {
   "cell_type": "markdown",
   "metadata": {},
   "source": [
    "## Ejercicio 20\n",
    "Analizar la válvula indicada. Si $\\Delta E_c$ y $\\Delta E_p$ son nulas.\n",
    "![valv_reg.png](img/valv_reg.png)\n",
    "$\\left\\{ \\begin{array}{l}\n",
    "P_1 = 40 \\, bar \\\\\n",
    "P_2 = 20 \\, bar \\\\\n",
    "t_i = 300^\\circ \\mathrm{C} \\\\\n",
    "t_2 = ? \\\\\n",
    "x_2 = ?\n",
    "\\end{array}\n",
    "\\right.\n",
    "$"
   ]
  },
  {
   "cell_type": "markdown",
   "metadata": {},
   "source": [
    "### Solución\n",
    "$P_1 = 40 \\, bar$: de tabla tenemos que: $h_e = 2962,01 \\, kJ/kg$\n",
    "### $$ h_e = h_s $$\n",
    "Busco en la __tabla de propiedades termodinámicas del agua__ la columna de entalpía h para una presión de 20 bar.\n",
    "### $$h_e = 2962,01 \\, lJ/kg$$\n",
    "Luego con este valor, busco en la columna de entalpía h para una presión de 20 bar.\n",
    "\n",
    "$$ h_s = \\left\\{\n",
    "\\begin{array}{l}\n",
    "2953,09 \\, kJ/kg \\quad \\rightarrow \\quad 270^\\circ \\mathrm{C} \\\\\n",
    "2977,53 \\, kJ/kg \\quad \\rightarrow \\quad 280^\\circ \\mathrm{C} \n",
    "\\end{array}\n",
    "\\right.\n",
    "$$\n",
    "\n",
    "El valor más cercano es 2953,09 kJ/kg a una __t = 270°C__"
   ]
  },
  {
   "cell_type": "code",
   "execution_count": 22,
   "metadata": {},
   "outputs": [
    {
     "data": {
      "text/plain": [
       "2965.3100000000004"
      ]
     },
     "execution_count": 22,
     "metadata": {},
     "output_type": "execute_result"
    }
   ],
   "source": [
    "(2953.09+2977.53)/2"
   ]
  },
  {
   "cell_type": "code",
   "execution_count": 2,
   "metadata": {},
   "outputs": [
    {
     "data": {
      "text/plain": [
       "274.6958149259771"
      ]
     },
     "execution_count": 2,
     "metadata": {},
     "output_type": "execute_result"
    }
   ],
   "source": [
    "2962.02*275/2965.3"
   ]
  },
  {
   "cell_type": "markdown",
   "metadata": {},
   "source": [
    "* Entonces $t_2$ debe estar entre __270°C__ y __280°C__. Haciendo una aproximación lineal $t_2 \\approx 274,7^\\circ \\mathrm{C}$\n",
    "\n",
    "Usando el programa __miniREFPROP__ (es mas exacto que la tabla de papel)\n",
    "![20_minirefprop.png](img/20_minirefprop.png)\n",
    "\n",
    "obtenemos una temperatura $t_2 = 273,57^\\circ \\mathrm{C}$, valor cercano al aproximado con la tabla.\n",
    "## $x_2 = \\nexists$ \n",
    "No existe porque a esa temperatura es todo __vapor sobrecalentado__."
   ]
  },
  {
   "cell_type": "markdown",
   "metadata": {},
   "source": [
    "## Ejercicio 21\n",
    "Analizar y resolver la siguiente cámara de mezcla.\n",
    "![camara_mezcla.png](img/camara_mezcla.png)"
   ]
  },
  {
   "cell_type": "markdown",
   "metadata": {},
   "source": [
    "Datos:\n",
    "$\\left\\{  \\begin{array}{l}\n",
    "\\dot{m}_1 = 0,5 \\, kg/s \\\\\n",
    "P_1 = 20 \\, bar \\\\\n",
    "x_1 = 0,8\n",
    "\\end{array}\n",
    "\\right.\n",
    "\\quad ; \\quad\n",
    "\\left\\{ \\begin{array}{l}\n",
    "\\dot{m}_3 = 0,8 \\, kg/s \\\\\n",
    "x_3 = \\mathrm{(vapor \\, saturado)}\n",
    "\\end{array}\n",
    "\\right.\n",
    "\\quad \\rightarrow \\quad\n",
    "\\left\\{ \\begin{array}{l}\n",
    "t_2 = ? \\\\\n",
    "h_2 = ? \\\\\n",
    "\\dot{m}_2 = ? \\\\\n",
    "P_2 = ?\n",
    "\\end{array}\n",
    "\\right.\n",
    "$"
   ]
  },
  {
   "cell_type": "markdown",
   "metadata": {},
   "source": [
    "### Solución\n",
    "\n",
    "$\\left\\{ \\begin{array}{l}\n",
    "Q - W = \\Delta H \\\\\n",
    "Q = 0 \\quad \\rightarrow \\quad h_s = h_e \\\\\n",
    "\\dot{m}_1 + \\dot{m}_2 = \\dot{m}_3 \\\\\n",
    "\\dot{m}_1 h_1 + \\dot{m}_2 h_2 = \\dot{m}_3 h_3 \\\\\n",
    "P = cte\n",
    "\\end{array} \\right.\n",
    "$"
   ]
  },
  {
   "cell_type": "code",
   "execution_count": null,
   "metadata": {},
   "outputs": [],
   "source": [
    "m1 = 0.5 # kg/s\n",
    "m3 = 0.8 # kg/s\n",
    "# Entonces:\n",
    "m2 = m3 - m1\n",
    "print('m2 =',round(m2,2),'kg/s')"
   ]
  },
  {
   "cell_type": "markdown",
   "metadata": {},
   "source": [
    "$$ x = \\frac{h-h'}{h''-h'} \\quad \\rightarrow \\quad  h = x \\, (h''-h')+h' $$"
   ]
  },
  {
   "cell_type": "code",
   "execution_count": 6,
   "metadata": {},
   "outputs": [
    {
     "name": "stdout",
     "output_type": "stream",
     "text": [
      "h1 = 2419.49 kJ/kg\n"
     ]
    }
   ],
   "source": [
    "x1 = 0.8\n",
    "h1 = 908.59 # kJ/kg\n",
    "h2 = 2797.22 # kJ/kg\n",
    "h1 = x1*(h2-h1)+h1\n",
    "print('h1 =',round(h1,2),'kJ/kg')"
   ]
  },
  {
   "cell_type": "code",
   "execution_count": 7,
   "metadata": {},
   "outputs": [
    {
     "name": "stdout",
     "output_type": "stream",
     "text": [
      "h3 = 2797.22 kJ/kg\n"
     ]
    }
   ],
   "source": [
    "x3 = 1 # (vapor saturado)\n",
    "h3 = x3*(h2-h1)+h1\n",
    "print('h3 =',round(h3,2),'kJ/kg')"
   ]
  },
  {
   "cell_type": "markdown",
   "metadata": {},
   "source": [
    "### $$ \\dot{m}_1 h_1 + \\dot{m}_2 h_2 = \\dot{m}_3 h_3 \\quad \\Rightarrow \\quad h_2 = \\frac{\\dot{m}_3 h_3 - \\dot{m_1} h_1}{m_2} $$"
   ]
  },
  {
   "cell_type": "code",
   "execution_count": 11,
   "metadata": {},
   "outputs": [
    {
     "name": "stdout",
     "output_type": "stream",
     "text": [
      "h2 = 3426.76 kJ/kg\n"
     ]
    }
   ],
   "source": [
    "h2 = (m3*h3 - m1*h1)/m2\n",
    "print('h2 =',round(h2,2),'kJ/kg')"
   ]
  },
  {
   "cell_type": "markdown",
   "metadata": {},
   "source": [
    "De tabla:\n",
    "\n",
    "$t_2 \\approx 480^\\circ \\mathrm{C} \\quad, \\quad P=cte \\; \\rightarrow P_2 = 20 \\, bar$"
   ]
  },
  {
   "cell_type": "code",
   "execution_count": 12,
   "metadata": {},
   "outputs": [],
   "source": [
    "%reset -f"
   ]
  },
  {
   "cell_type": "markdown",
   "metadata": {},
   "source": [
    "## Ejercicio 22\n",
    "A través de una turbina adiabática, circula un caudal másico de 180 kg/min de vapor de agua. Este ingresa a 10  MPa y 600°C y egresa a 100 kPa entregando una potencia de 2,5 MW. Determinar las condiciones de vapor a la salida de la turbina.\n",
    "![turbina.png](img/turbina.png)\n",
    "$ W = 2,5 \\, MW $"
   ]
  },
  {
   "cell_type": "markdown",
   "metadata": {},
   "source": [
    "### Solución\n",
    "$$ Q - W = \\Delta H  \\\\\n",
    " -W = m (h_s - h_e)  \\\\\n",
    " W = m (h_e - h_s) $$"
   ]
  },
  {
   "cell_type": "code",
   "execution_count": 19,
   "metadata": {},
   "outputs": [
    {
     "name": "stdout",
     "output_type": "stream",
     "text": [
      "h_s = 2789.37 kJ/kg\n"
     ]
    }
   ],
   "source": [
    "m = 180/60 # kg/s\n",
    "h_e = 3622.70 # kJ/kg (de tabla)\n",
    "W = 2.5*1000 # kJ/s\n",
    "h_s = -W/m+h_e\n",
    "print('h_s =',round(h_s,2),'kJ/kg')"
   ]
  },
  {
   "cell_type": "markdown",
   "metadata": {},
   "source": [
    "De tabla, para una entalpía $h_s = 2789,37 \\, kJ/kg$ y una presión $P = 100 \\, kPa$:\n",
    "\n",
    "$t_s \\approx 160^\\circ \\mathrm{C}$"
   ]
  },
  {
   "cell_type": "code",
   "execution_count": 20,
   "metadata": {},
   "outputs": [],
   "source": [
    "%reset -f"
   ]
  },
  {
   "cell_type": "markdown",
   "metadata": {},
   "source": [
    "## Ejercicio 23\n",
    "Para el siguiente intercambiador de calor, calcular el caudal másico de vapor que debe\n",
    "circular para calentar 720 kg/hr de agua a 1 bar de 10°C hasta 50°C. El vapor ingresa a\n",
    "1,4 bar y 250°C y egresa a 1 bar y 150°C.\n",
    "\n",
    "![interc.png](img/interc.png)\n",
    "$Q=0$ y $W = 0$\n",
    "$$ Q - W = \\Delta H $$\n",
    "$$ \\Delta H = 0$$\n",
    "$$ H_E = H_S $$\n",
    "\n",
    "$\\left\\{ \\begin{array}{l}\n",
    "\\dot{m}_2 h_2 + \\dot{m}_4 h_4 = \\dot{m}_1 h_1 + \\dot{m}_3 h_3 \\\\\n",
    "\\dot{m}_3 = \\dot{m}_4 \\\\\n",
    "\\dot{m}_1 = \\dot{m}_2\n",
    "\\end{array}\n",
    "\\right.\n",
    "$\n",
    "\n",
    "$$ \\dot{m}_{agua}(h_1-h_2) = \\dot{m}_{vapor}(h_4-h_3) $$"
   ]
  },
  {
   "cell_type": "code",
   "execution_count": 2,
   "metadata": {},
   "outputs": [
    {
     "name": "stdout",
     "output_type": "stream",
     "text": [
      "m_vapor = 0.1699 kg/s\n"
     ]
    }
   ],
   "source": [
    "m_agua = 720*1/3600 # kg/s\n",
    "h1 = 42.09 # kJ/kg\n",
    "h2 = 209.33 # kJ/kg\n",
    "h3 = 2973.2 # kJ/kg\n",
    "h4 = 2776.32 # kJ/kg\n",
    "\n",
    "m_vapor = m_agua*(h1-h2)/(h4-h3)\n",
    "print('m_vapor =',round(m_vapor,3),'kg/s')"
   ]
  },
  {
   "cell_type": "code",
   "execution_count": 3,
   "metadata": {},
   "outputs": [],
   "source": [
    "%reset -f"
   ]
  },
  {
   "cell_type": "markdown",
   "metadata": {},
   "source": [
    "## Ejercicio 24\n",
    "Para el siguiente proceso, utilizando vapor de agua. Determinar:\n",
    "\n",
    "1. Estado de vapor en 3\n",
    "2. Calor recibido\n",
    "3. Potencia entregada por la turbina\n",
    "\n",
    "![24.png](img/24.png)"
   ]
  },
  {
   "cell_type": "markdown",
   "metadata": {},
   "source": [
    "### Solución\n",
    "Cámara de mezclado\n",
    "$\\left\\{ \\begin{array}{l}\n",
    "Q - W = \\Delta H \\\\\n",
    "Q = 0 \\quad \\rightarrow \\quad h_s = h_e \\\\\n",
    "\\dot{m}_1 + \\dot{m}_2 = \\dot{m}_3 \\\\\n",
    "\\dot{m}_1 h_1 + \\dot{m}_2 h_2 = \\dot{m}_3 h_3 \\\\\n",
    "P = cte\n",
    "\\end{array} \\right.\n",
    "$\n",
    "\n",
    "$$ x = \\frac{h-h'}{h''-h'} \\quad \\rightarrow \\quad  h = x \\, (h''-h')+h' $$"
   ]
  },
  {
   "cell_type": "code",
   "execution_count": 5,
   "metadata": {},
   "outputs": [
    {
     "name": "stdout",
     "output_type": "stream",
     "text": [
      "m3 = 0.8 kg\n",
      "h3 = 2713.46 kJ/kg\n"
     ]
    }
   ],
   "source": [
    "m1 = 720*1/3600 # kg/s\n",
    "m2 = 2160*1/3600 # kg/s\n",
    "m3 = m1 + m2 # kg/s\n",
    "hp1 = 762.61 # kJ/kg (valor de tabla)\n",
    "hp2 = 2776.17 # kJ/kg (valor de tabla)\n",
    "x1 = 0.8\n",
    "h1 = x1*(hp2-hp1)+hp1\n",
    "h2 = 2826.79 # kJ/kg (valor de tabla)\n",
    "h3 = (m1*h1+m2*h2)/m3 # kJ/kg\n",
    "\n",
    "print('m3 =',m3,'kg')\n",
    "print('h3 =',round(h3,2),'kJ/kg')"
   ]
  },
  {
   "cell_type": "markdown",
   "metadata": {},
   "source": [
    "Turbina:\n",
    "$$ Q - W = \\Delta H  \\\\\n",
    " -W = m (h_s - h_e)  \\\\\n",
    " W = m (h_e - h_s) $$"
   ]
  },
  {
   "cell_type": "code",
   "execution_count": 15,
   "metadata": {},
   "outputs": [
    {
     "name": "stdout",
     "output_type": "stream",
     "text": [
      "W = 260.192 kJ/s\n"
     ]
    }
   ],
   "source": [
    "t4 = 300 # °C\n",
    "P1 = 10 # bar\n",
    "P2 = P1\n",
    "P3 = P1\n",
    "P4 = P3\n",
    "h4 = 3052.14 # kJ/kg\n",
    "h5 = 2726.90 # kJ/kg\n",
    "W = m3*(h4-h5)\n",
    "print('W =',round(W,3),'kJ/s')"
   ]
  },
  {
   "cell_type": "code",
   "execution_count": 21,
   "metadata": {},
   "outputs": [
    {
     "name": "stdout",
     "output_type": "stream",
     "text": [
      "Q = 270.946 kJ/s\n"
     ]
    }
   ],
   "source": [
    "Q = (h4-h3)*m3\n",
    "print('Q =',round(Q,3),'kJ/s')"
   ]
  },
  {
   "cell_type": "code",
   "execution_count": 1,
   "metadata": {},
   "outputs": [],
   "source": [
    "%reset -f"
   ]
  },
  {
   "cell_type": "markdown",
   "metadata": {},
   "source": [
    "## Ejercicio 25\n",
    "Para el siguiente proceso, determinar.\n",
    "\n",
    "1. El estado de vapor en 2. $(P; \\, t; \\, x)$\n",
    "2. $\\dot{W}$\n",
    "3. $\\dot{m}$\n",
    "![25.png](img/25.png)"
   ]
  },
  {
   "cell_type": "markdown",
   "metadata": {},
   "source": [
    "### Solución\n",
    "1) Para la válvula reguladora tenemos:\n",
    "$Q = 0$ y $W=0$\n",
    " $$ Q - W = \\Delta H = 0 $$\n",
    " $$ h_s - h_e = 0 \\quad \\Rightarrow \\quad h_s = h_e$$\n",
    " Usando el programa miniREFPROP para el vapor de agua tenemos:\n",
    " \n",
    " ![25_minirefprop1.png](img/25_minirefprop1.png)\n",
    " ### $t_2 = 411,81^\\circ \\mathrm{C} \\quad ; \\quad x_2 = \\nexists $"
   ]
  },
  {
   "cell_type": "markdown",
   "metadata": {},
   "source": [
    "3)\n",
    "\n",
    "$Q=0$ y $W = 0$\n",
    "$$ Q - W = \\Delta H $$\n",
    "$$ \\Delta H = 0$$\n",
    "$$ h_E = h_S $$\n",
    "\n",
    "$\\left\\{ \\begin{array}{l}\n",
    "\\dot{m}_3 h_3 + \\dot{m}_5 h_5 = \\dot{m}_4 h_4 + \\dot{m}_6 h_6 \\\\\n",
    "\\dot{m}_3 = \\dot{m}_4 \\\\\n",
    "\\dot{m}_5 = \\dot{m}_6\n",
    "\\end{array}\n",
    "\\right.\n",
    "$\n",
    "$$ \\dot{m}_{agua}(h_3-h_4) = \\dot{m}_{vapor}(h_6-h_5) $$\n",
    "$$ \\dot{m}_{agua} = \\dot{m}_{vapor} \\frac{h_6-h_5}{h_3-h_4} $$\n",
    "![25_minirefprop2.png](img/25_minirefprop2.png)"
   ]
  },
  {
   "cell_type": "code",
   "execution_count": 8,
   "metadata": {},
   "outputs": [
    {
     "name": "stdout",
     "output_type": "stream",
     "text": [
      "m3 = 11.178 kg\n"
     ]
    }
   ],
   "source": [
    "# De tabla\n",
    "h3 = 2853.7 # kJ/kg\n",
    "h4 = 2734.0 # kJ/kg\n",
    "h5 = 84.006 # kJ/kg\n",
    "h6 = 251.25 # kJ/kg\n",
    "m5 = 8 # kg\n",
    "# Entonces, la masa de agua:\n",
    "m3 = m5*(h6-h5)/(h3-h4)\n",
    "print('m3 =',round(m3,3),'kg')"
   ]
  },
  {
   "cell_type": "markdown",
   "metadata": {},
   "source": [
    "2) \n",
    "$$ Q - W = \\Delta H  $$\n",
    "\n",
    "$$ -W = m (h_s - h_e)  $$\n",
    "\n",
    "$$ W = m (h_e - h_s) $$"
   ]
  },
  {
   "cell_type": "code",
   "execution_count": 9,
   "metadata": {},
   "outputs": [
    {
     "name": "stdout",
     "output_type": "stream",
     "text": [
      "W = 4343.594 kW\n"
     ]
    }
   ],
   "source": [
    "h2 = 3242.3 # kJ/kg\n",
    "W = m3*(h2-h3)\n",
    "print('W =',round(W,3),'kW')"
   ]
  },
  {
   "cell_type": "code",
   "execution_count": 6,
   "metadata": {},
   "outputs": [],
   "source": [
    "%reset -f"
   ]
  },
  {
   "cell_type": "markdown",
   "metadata": {},
   "source": [
    "## Ejercicio 26\n",
    "Se abre la válvula y se quita las trabas alcanzándose un nuevo estado de equilibrio.\n",
    "      Determinar:\n",
    "\n",
    "\ta) Presión, Temperatura y x (si corresponde)\n",
    "\tb) Trabajo intercambiado con el medio exterior\n",
    "![26.png](img/26.png)"
   ]
  },
  {
   "cell_type": "markdown",
   "metadata": {},
   "source": [
    "### Solución\n",
    "![26_miniref1.png](img/26_miniref1.png)\n",
    "\n",
    "__Presión final:__ $5 \\, MPa = 5000 \\, kPa = 50 \\, bar$ (de tabla)\n",
    "\n",
    "__Temperatura final:__ $263,94^\\circ \\mathrm{C} $ (de tabla)\n",
    "\n",
    "$P_{iA} = 10 \\, MPa = 10\\, 000 \\, kPa = 100 \\, bar$ (vapor saturado)"
   ]
  },
  {
   "cell_type": "code",
   "execution_count": 3,
   "metadata": {},
   "outputs": [
    {
     "name": "stdout",
     "output_type": "stream",
     "text": [
      "Vol_A = 0.1442 m^3\n",
      "Vol_iB = 0.0288 m^3\n"
     ]
    }
   ],
   "source": [
    "# Cálculo de volumenes\n",
    "dvap_A = 55.463 # kg/m^3 (a 100 bar)\n",
    "v_A = 1/dvap_A # m^3/kg (a 100 bar)\n",
    "Vol_A = v_A*8 # m^3\n",
    "# Entonces:\n",
    "Vol_iB = 0.2*Vol_A\n",
    "print('Vol_A =',round(Vol_A,4),'m^3')\n",
    "print('Vol_iB =',round(Vol_iB,4),'m^3')"
   ]
  },
  {
   "cell_type": "markdown",
   "metadata": {},
   "source": [
    "$$ x = \\frac{h-h'}{h''-h'} = \\frac{v-v'}{v''-v'} $$\n",
    "\n",
    "$$  h = x(h''-h')+h' $$\n",
    "\n",
    "$$ v = x(v''-v')+v' $$"
   ]
  },
  {
   "cell_type": "markdown",
   "metadata": {},
   "source": [
    "$P_{iB} = 0,1 \\, MPa = 100 \\, kPa = 1 \\, bar$ (de tabla)"
   ]
  },
  {
   "cell_type": "code",
   "execution_count": 7,
   "metadata": {},
   "outputs": [
    {
     "name": "stdout",
     "output_type": "stream",
     "text": [
      "m_B = 0.0284 kg\n"
     ]
    }
   ],
   "source": [
    "x_iB = 0.6\n",
    "dv_B = 0.59034 # kg/m^3 (1 bar)\n",
    "dl_B = 958.63 # kg/m^3 (1 bar)\n",
    "vp1_B = 1/dl_B # m^3/kg (1 bar)\n",
    "vp2_B = 1/dv_B # m^3/kg (1 bar)\n",
    "v = x_iB*(vp2_B-vp1_B)+vp1_B # m^3/kg\n",
    "m_B = 1/v * Vol_iB # kg\n",
    "print('m_B =',round(m_B,4),'kg')"
   ]
  },
  {
   "cell_type": "markdown",
   "metadata": {},
   "source": [
    "![valv_reg.png](img/valv_reg.png)\n",
    "$P_1 = 100 \\, bar $ (vapor saturado), entonces: $t_1 = 310,96^\\circ \\mathrm{C} \\\\\n",
    "P_2 = 50 \\, bar $"
   ]
  },
  {
   "cell_type": "code",
   "execution_count": 8,
   "metadata": {},
   "outputs": [
    {
     "name": "stdout",
     "output_type": "stream",
     "text": [
      "h_e = h_s = 2725.5 kJ/kg\n",
      "x = 0.958\n"
     ]
    }
   ],
   "source": [
    "# Entalpía de entrada\n",
    "h_e = 2725.5 # (a 100 bar)\n",
    "h_s = h_e\n",
    "hp1 = 1154.6 # (a 50 bar)\n",
    "hp2 = 2794.2 # (a 50 bar)\n",
    "x = (h_s - hp1)/(hp2 - hp1)\n",
    "print('h_e = h_s =',h_e,'kJ/kg')\n",
    "print('x =',round(x,3))"
   ]
  },
  {
   "cell_type": "code",
   "execution_count": 15,
   "metadata": {},
   "outputs": [
    {
     "name": "stdout",
     "output_type": "stream",
     "text": [
      "Vol_final = 0.3167 m^3\n",
      "Variación de volumen: DV = 0.1436 m^3\n"
     ]
    }
   ],
   "source": [
    "m_A = 8 # kg\n",
    "vap_dens50 = 25.351 # kg/m^3 (a 50 bar)\n",
    "Vol_final = 1/vap_dens50 * (m_A+m_B) # m^3 (a 50 bar)\n",
    "print('Vol_final =',round(Vol_final,4),'m^3')\n",
    "DV = Vol_final - (Vol_A + Vol_iB)\n",
    "print('Variación de volumen: DV =',round(DV,4),'m^3')"
   ]
  },
  {
   "cell_type": "code",
   "execution_count": 18,
   "metadata": {},
   "outputs": [
    {
     "name": "stdout",
     "output_type": "stream",
     "text": [
      "W_DV = 718.001 kJ (trabajo por variación de volumen)\n"
     ]
    }
   ],
   "source": [
    "P_f = 5000 # kPa\n",
    "W_DV =  P_f * DV\n",
    "print('W_DV =',round(W_DV,3),'kJ (trabajo por variación de volumen)')"
   ]
  },
  {
   "cell_type": "code",
   "execution_count": null,
   "metadata": {},
   "outputs": [],
   "source": [
    "%reset -f"
   ]
  }
 ],
 "metadata": {
  "kernelspec": {
   "display_name": "Python 3",
   "language": "python",
   "name": "python3"
  },
  "language_info": {
   "codemirror_mode": {
    "name": "ipython",
    "version": 3
   },
   "file_extension": ".py",
   "mimetype": "text/x-python",
   "name": "python",
   "nbconvert_exporter": "python",
   "pygments_lexer": "ipython3",
   "version": "3.7.1"
  }
 },
 "nbformat": 4,
 "nbformat_minor": 2
}
