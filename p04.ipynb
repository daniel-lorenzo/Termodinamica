{
 "cells": [
  {
   "cell_type": "raw",
   "metadata": {},
   "source": [
    "<script>\n",
    "  function code_toggle() {\n",
    "    if (code_shown){\n",
    "      $('div.input').hide('500');\n",
    "      $('#toggleButton').val('Show Code')\n",
    "    } else {\n",
    "      $('div.input').show('500');\n",
    "      $('#toggleButton').val('Hide Code')\n",
    "    }\n",
    "    code_shown = !code_shown\n",
    "  }\n",
    "\n",
    "  $( document ).ready(function(){\n",
    "    code_shown=true;\n",
    "    $('div.input').show()\n",
    "  });\n",
    "</script>\n",
    "<form action=\"javascript:code_toggle()\"><input type=\"submit\" id=\"toggleButton\" value=\"Hide Code\"></form>"
   ]
  },
  {
   "cell_type": "markdown",
   "metadata": {},
   "source": [
    "# Clase práctica 4 - Termodinámica\n",
    "__UNLZ - FI -- Jupyter Notebook + Python 3__\n",
    "\n",
    "__Alumno: Lorenzo, Daniel Antonio__  \n",
    "[<-Previous ](https://nbviewer.jupyter.org/github/daniel-lorenzo/Termodinamica/blob/master/p03.ipynb) - \n",
    "[Index](https://github.com/daniel-lorenzo/Termodinamica/blob/master/Readme.md) - \n",
    "[Next ->](https://nbviewer.jupyter.org/github/daniel-lorenzo/Termodinamica/blob/master/p05.ipynb)"
   ]
  },
  {
   "cell_type": "markdown",
   "metadata": {},
   "source": [
    "## Turbinas y compresores\n",
    "En las centrales eléctricas de vapor, gas o en hidroeléctricas, el dispositivo\n",
    "que impulsa al generador eléctrico es la turbina. A medida que el fluido pasa\n",
    "por ésta se hace trabajo contra los álabes, los cuales están unidos a la flecha,\n",
    "la cual a su vez gira y la turbina produce trabajo.\n",
    "Al igual que las bombas y los ventiladores, los compresores son dispositivos\n",
    "que se utilizan para incrementar la presión de un fluido. A estos dispositivos el\n",
    "trabajo se suministra desde una fuente externa a través de un eje giratorio, por\n",
    "lo tanto los compresores requieren entrada de trabajo. Aun cuando estos tres\n",
    "dispositivos funcionan de manera similar, difieren en las tareas que llevan a\n",
    "cabo. Un ventilador se usa sobre todo para movilizar un gas y sólo incrementa\n",
    "ligeramente la presión, mientras que un compresor es capaz de comprimir el\n",
    "gas a presiones muy altas. Las bombas funcionan de manera muy parecida a\n",
    "los compresores excepto que manejan líquidos en lugar de gases.\n",
    "Note que las turbinas producen potencia mientras que los compresores,\n",
    "bombas y ventiladores requieren entrada de potencia.\n",
    "Las velocidades de fluido encontradas en la mayor parte de las tur-\n",
    "binas son muy altas, por lo que el fluido experimenta un cambio importante en\n",
    "su energía cinética. Sin embargo, este cambio es por lo regular muy pequeño\n",
    "con respecto al cambio de entalpía, por lo tanto no se toma en cuenta.\n",
    "\n",
    "![turbina.png](img/turbina.png)"
   ]
  },
  {
   "cell_type": "markdown",
   "metadata": {},
   "source": [
    "$Q=0$\n",
    "$$\\begin{array}{c}\n",
    "Q - W = \\Delta H \\\\\n",
    "-W = m (h_s - h_e) \\\\\n",
    "W = m (h_e - h_s) \n",
    "\\end{array}$$"
   ]
  },
  {
   "cell_type": "markdown",
   "metadata": {},
   "source": [
    "## Válvula reguladora o de estrangulamiento\n",
    "Las válvulas de estrangulamiento son dispositivos de diferentes tipos que restringen el flujo de un fluido provocando una caída relevante de presión. A diferecia de las turbinas, producen una caída de presión sin implicar trabajo. La caída de presión en el fluido suele ir acompañada de una gran disminución de temperatura, por esa razón los dispositivos de estrangulamiento son de uso común en aplicaciones de refrigeración y acondicionamiento de aire. Las válvulas de estrangulamiento son por lo regular dispositivos pequeños, y se puede suponer que el flujo por ellos es adiabático $(q \\approx 0)$ puesto que no hay suficiente tiempo ni área suficientemente grande para que ocurra alguna transferencia de calor efectiva. Tampoco se realiza trabajo $W=0$, y el cambio en la energía potencial, si tiene lugar, es muy pequeño $(\\Delta Ep \\approx 0)$. Aun cuando la velocidad de salida sea con frecuencia considerablemente mayor que la velocidad de entrada, en muchos casos el incremento de energía cinética es insignificante $(\\Delta Ec \\approx 0)$. Entonces la ecuación de conservación de la energía para este dispositivo de flujo estacionario de una sola corriente se reduce a"
   ]
  },
  {
   "cell_type": "markdown",
   "metadata": {},
   "source": [
    "$$ h_2 \\approx h_1 \\quad \\mathrm{(kJ/kg)} $$"
   ]
  },
  {
   "cell_type": "markdown",
   "metadata": {},
   "source": [
    "Es decir, los valores de entalpía en la entrada y la salida de una válvula de estrangulamiento son los mismos.\n",
    "\n",
    "![valv_reg.png](img/valv_reg.png)"
   ]
  },
  {
   "cell_type": "markdown",
   "metadata": {},
   "source": [
    "$\\left\\{\n",
    "\\begin{array}{l}\n",
    "Q = 0 \\\\\n",
    "W = 0\n",
    "\\end{array}\n",
    "\\right.\n",
    "$"
   ]
  },
  {
   "cell_type": "markdown",
   "metadata": {},
   "source": [
    "$$\\begin{array}{c}\n",
    "Q - W = \\Delta H \\\\\n",
    "H_S - H_E = 0 \\quad \\Rightarrow \\quad H_S = H_E\n",
    "\\end{array}$$"
   ]
  },
  {
   "cell_type": "markdown",
   "metadata": {},
   "source": [
    "## Cámara de mezcla\n",
    "En las aplicaciones de ingeniería, mezclar dos corrientes de fluido no es raro. La sección donde el proceso de mezclado tiene lugar se conoce como __cámara de mezclado__, la cual no tiene que ser exactamente una “cámara”. Una\n",
    "tubería ordinaria en forma de “T” o en “Y” de una regadera, por ejemplo, sirve como cámara de mezclado para las corrientes de agua fría y caliente.\n",
    "\n",
    "El principio de conservación de la masa para una cámara de mezclado\n",
    "requiere que la suma de los flujos másicos entrantes sea igual al flujo másico\n",
    "de la mezcla saliente.\n",
    "\n",
    "Las cámaras de mezclado por lo regular están bien aisladas $( Q \\approx 0)$ y normalmente no involucran trabajo $(W = 0)$."
   ]
  },
  {
   "cell_type": "markdown",
   "metadata": {},
   "source": [
    "![camara_mezcla.png](img/camara_mezcla.png)"
   ]
  },
  {
   "cell_type": "markdown",
   "metadata": {},
   "source": [
    "$$\\begin{array}{c}\n",
    "Q - W = \\Delta H \\\\\n",
    "m_1 + m_2 = m_3 \\\\\n",
    "H_S = H_E \n",
    "\\end{array}$$"
   ]
  },
  {
   "cell_type": "markdown",
   "metadata": {},
   "source": [
    "$\\left\\{ \\begin{array}{l}\n",
    "m_1 + m_2 = m_3 \\\\\n",
    "m_1 h_1 + m_2 h_2 = m_3 h_3 \\\\\n",
    "P = cte\n",
    "\\end{array} \\right.\n",
    "$\n",
    "\n",
    "P = constante en todos los puntos de la cámara."
   ]
  },
  {
   "cell_type": "markdown",
   "metadata": {},
   "source": [
    "## Intercambiador de calor\n",
    "Como su nombre indica, los intercambiadores de calor son dispositivos donde\n",
    "dos corrientes de fluido en movimiento intercambian calor sin mezclado. Los\n",
    "intercambiadores de calor se usan ampliamente en varias industrias y su diseño\n",
    "es variado."
   ]
  },
  {
   "cell_type": "markdown",
   "metadata": {},
   "source": [
    "![interc.png](img/interc.png)"
   ]
  },
  {
   "cell_type": "markdown",
   "metadata": {},
   "source": [
    "$\\left\\{\n",
    "\\begin{array}{l}\n",
    "Q = 0 \\\\\n",
    "W = 0\n",
    "\\end{array}\n",
    "\\right.\n",
    "$"
   ]
  },
  {
   "cell_type": "markdown",
   "metadata": {},
   "source": [
    "$$\\begin{array}{c}\n",
    "Q - W = \\Delta H \\\\\n",
    "\\Delta H = 0 \\\\\n",
    "h_e = h_s \n",
    "\\end{array}$$"
   ]
  },
  {
   "cell_type": "markdown",
   "metadata": {},
   "source": [
    "$\\left\\{ \\begin{array}{l}\n",
    "\\dot{m}_2 h_2 + \\dot{m}_4 h_4 = \\dot{m}_1 h_1 + \\dot{m}_3 h_3 \\\\\n",
    "\\dot{m}_3 = \\dot{m}_4 \\\\\n",
    "\\dot{m}_1 = \\dot{m}_2\n",
    "\\end{array}\n",
    "\\right.\n",
    "$"
   ]
  },
  {
   "cell_type": "markdown",
   "metadata": {},
   "source": [
    "## Ejercicio 20\n",
    "Analizar la válvula indicada. Si $\\Delta E_c$ y $\\Delta E_p$ son nulas.\n",
    "\n",
    "![valv_reg.png](img/valv_reg.png)\n",
    "$\\quad \\left\\{ \\begin{array}{l}\n",
    "P_1 = 40 \\, \\mathrm{bar} \\\\\n",
    "P_2 = 20 \\, \\mathrm{bar} \\\\\n",
    "t_1 = 300^\\circ \\mathrm{C} \\\\\n",
    "t_2 = ? \\\\\n",
    "x_2 = ?\n",
    "\\end{array}\n",
    "\\right.\n",
    "$"
   ]
  },
  {
   "cell_type": "markdown",
   "metadata": {},
   "source": [
    "### Solución\n",
    "$\\left\\{\n",
    "\\begin{array}{l}\n",
    "P_1 = 40 \\, \\mathrm{bar} \\\\\n",
    "t_1 = 300^\\circ \\mathrm{C}\n",
    "\\end{array}\n",
    "\\right. \\rightarrow \\quad$ de tabla: $h_e = 2962,01 \\, \\mathrm{kJ/kg}$\n",
    "\n",
    "$$ h_e = h_s $$"
   ]
  },
  {
   "cell_type": "markdown",
   "metadata": {},
   "source": [
    "Busco en la __tabla de propiedades termodinámicas del agua__ la columna de entalpía h para una presión de 20 bar.\n",
    "\n",
    "$$h_e = 2962,01 \\, \\mathrm{kJ/kg}$$"
   ]
  },
  {
   "cell_type": "markdown",
   "metadata": {},
   "source": [
    "$$ h_s = \\left\\{\n",
    "\\begin{array}{l}\n",
    "2953,09 \\, \\mathrm{kJ/kg} \\quad \\rightarrow \\quad 270^\\circ \\mathrm{C} \\\\\n",
    "2977,53 \\, \\mathrm{kJ/kg} \\quad \\rightarrow \\quad 280^\\circ \\mathrm{C} \n",
    "\\end{array}\n",
    "\\right.\n",
    "$$\n",
    "\n",
    "El valor más cercano es 2953,09 kJ/kg a una __t = 270°C__"
   ]
  },
  {
   "cell_type": "code",
   "execution_count": 1,
   "metadata": {},
   "outputs": [],
   "source": [
    "# Usando CoolProp\n",
    "import CoolProp.CoolProp as cp"
   ]
  },
  {
   "cell_type": "code",
   "execution_count": 3,
   "metadata": {},
   "outputs": [
    {
     "name": "stdout",
     "output_type": "stream",
     "text": [
      "h_e = h_s = 2961.69 kJ/kg\n",
      "T2 = 546.71 K\n",
      "t2 = 273.56°C\n"
     ]
    }
   ],
   "source": [
    "# Datos\n",
    "P1 = 40e5 # Pa\n",
    "P2 = 20e5 # Pa\n",
    "T1 = 300 + 273.15 # K\n",
    "\n",
    "h_e = cp.PropsSI('H','P',P1,'T',T1,'Water')\n",
    "h_s = h_e\n",
    "T2 = cp.PropsSI('T','P',P2,'H',h_s,'Water')\n",
    "\n",
    "print('h_e = h_s = %s kJ/kg'%round(h_e/1000,2))\n",
    "print('T2 = %s K'%round(T2,2))\n",
    "print('t2 = %s°C'%round(T2 - 273.15,2))"
   ]
  },
  {
   "cell_type": "code",
   "execution_count": 4,
   "metadata": {},
   "outputs": [
    {
     "data": {
      "text/plain": [
       "'gas'"
      ]
     },
     "execution_count": 4,
     "metadata": {},
     "output_type": "execute_result"
    }
   ],
   "source": [
    "# Consultamos el estado\n",
    "cp.PhaseSI('P',P2,'T',T2,'Water')"
   ]
  },
  {
   "cell_type": "markdown",
   "metadata": {},
   "source": [
    "$\\Rightarrow \\; x_2 = \\nexists$"
   ]
  },
  {
   "cell_type": "markdown",
   "metadata": {},
   "source": [
    "* Entonces $t_2$ debe estar entre __270°C__ y __280°C__.\n",
    "\n",
    "Usando el programa __miniREFPROP__     \n",
    "![20_minirefprop.png](img/20_minirefprop.png)\n",
    "\n",
    "obtenemos una temperatura $t_2 = 273,57^\\circ \\mathrm{C}$, valor cercano al aproximado con la tabla.\n",
    "$x_2 = \\nexists$ \n",
    "No existe porque a esa temperatura es todo __vapor sobrecalentado__."
   ]
  },
  {
   "cell_type": "markdown",
   "metadata": {},
   "source": [
    "## Ejercicio 21\n",
    "Analizar y resolver la siguiente cámara de mezcla.\n",
    "\n",
    "![camara_mezcla.png](img/camara_mezcla.png)"
   ]
  },
  {
   "cell_type": "markdown",
   "metadata": {},
   "source": [
    "Datos:\n",
    "$\\left\\{  \\begin{array}{l}\n",
    "\\dot{m}_1 = 0,5 \\, \\mathrm{kg/s} \\\\\n",
    "P_1 = 20 \\, \\mathrm{bar} \\\\\n",
    "x_1 = 0,8\n",
    "\\end{array}\n",
    "\\right.\n",
    "\\quad ; \\quad\n",
    "\\left\\{ \\begin{array}{l}\n",
    "\\dot{m}_3 = 0,8 \\, \\mathrm{kg/s} \\\\\n",
    "x_3 = \\mathrm{(vapor \\, saturado)}\n",
    "\\end{array}\n",
    "\\right.\n",
    "\\quad \\rightarrow \\quad\n",
    "\\left\\{ \\begin{array}{l}\n",
    "t_2 = ? \\\\\n",
    "h_2 = ? \\\\\n",
    "\\dot{m}_2 = ? \\\\\n",
    "P_2 = ?\n",
    "\\end{array}\n",
    "\\right.\n",
    "$"
   ]
  },
  {
   "cell_type": "markdown",
   "metadata": {},
   "source": [
    "### Solución\n",
    "\n",
    "$\\left\\{ \\begin{array}{l}\n",
    "Q - W = \\Delta H \\\\\n",
    "Q = 0 \\quad \\rightarrow \\quad h_s = h_e \\\\\n",
    "\\dot{m}_1 + \\dot{m}_2 = \\dot{m}_3 \\\\\n",
    "\\dot{m}_1 h_1 + \\dot{m}_2 h_2 = \\dot{m}_3 h_3 \\\\\n",
    "P = cte\n",
    "\\end{array} \\right.\n",
    "$"
   ]
  },
  {
   "cell_type": "markdown",
   "metadata": {},
   "source": [
    "Datos:\n",
    "$\\left\\{\n",
    "\\begin{array}{l}\n",
    "P_1 = 20 \\, \\mathrm{bar} \\\\\n",
    "x_1 = 0,8\n",
    "\\end{array}\n",
    "\\right. \\qquad \\rightarrow \\qquad \n",
    "\\left[\n",
    "\\begin{array}{l}\n",
    "h' \\\\\n",
    "h''\n",
    "\\end{array}\n",
    "\\right]$"
   ]
  },
  {
   "cell_type": "markdown",
   "metadata": {},
   "source": [
    "Entonces\n",
    "$$ h_1 = x \\, (h'' - h') + h' $$"
   ]
  },
  {
   "cell_type": "markdown",
   "metadata": {},
   "source": [
    "Datos:\n",
    "$\\left\\{\n",
    "\\begin{array}{l}\n",
    "P_3 = 20 \\, \\mathrm{bar} \\\\\n",
    "x_3 = 1\n",
    "\\end{array}\n",
    "\\right. \\qquad \\rightarrow \\qquad h_3$"
   ]
  },
  {
   "cell_type": "code",
   "execution_count": 11,
   "metadata": {},
   "outputs": [
    {
     "name": "stdout",
     "output_type": "stream",
     "text": [
      "m2 = 0.3 kg/s\n"
     ]
    }
   ],
   "source": [
    "# Datos:\n",
    "m1 = 0.5 # kg/s\n",
    "m3 = 0.8 # kg/s\n",
    "\n",
    "# Entonces:\n",
    "#=================\n",
    "m2 = m3 - m1\n",
    "#=================\n",
    "print('m2 = %s kg/s'%round(m2,2))"
   ]
  },
  {
   "cell_type": "markdown",
   "metadata": {},
   "source": [
    "$$ x = \\frac{h-h'}{h''-h'} \\quad \\rightarrow \\quad  h = x \\, (h''-h')+h' $$"
   ]
  },
  {
   "cell_type": "code",
   "execution_count": 6,
   "metadata": {},
   "outputs": [
    {
     "name": "stdout",
     "output_type": "stream",
     "text": [
      "h1 = 2419.49 kJ/kg\n"
     ]
    }
   ],
   "source": [
    "# Datos:\n",
    "x1 = 0.8\n",
    "hp1 = 908.59 # kJ/kg (de tabla)\n",
    "hp2 = 2797.22 # kJ/kg (de la tabla)\n",
    "\n",
    "# Calculamos:\n",
    "#=====================\n",
    "h1 = x1*(hp2-hp1)+hp1\n",
    "#=====================\n",
    "print('h1 = %s kJ/kg'%round(h1,2))"
   ]
  },
  {
   "cell_type": "code",
   "execution_count": 7,
   "metadata": {},
   "outputs": [
    {
     "name": "stdout",
     "output_type": "stream",
     "text": [
      "h3 = 2797.22 kJ/kg\n"
     ]
    }
   ],
   "source": [
    "x3 = 1 # (vapor saturado)\n",
    "\n",
    "# Calculamos:\n",
    "#=====================\n",
    "h3 = x3*(hp2-hp1)+hp1\n",
    "#=====================\n",
    "print('h3 = %s kJ/kg'%round(h3,2))"
   ]
  },
  {
   "cell_type": "markdown",
   "metadata": {},
   "source": [
    "$$ \\dot{m}_1 h_1 + \\dot{m}_2 h_2 = \\dot{m}_3 h_3 \\quad \\Rightarrow \\quad h_2 = \\frac{\\dot{m}_3 h_3 - \\dot{m_1} h_1}{m_2} $$"
   ]
  },
  {
   "cell_type": "code",
   "execution_count": 8,
   "metadata": {},
   "outputs": [
    {
     "name": "stdout",
     "output_type": "stream",
     "text": [
      "h2 = 3426.76 kJ/kg\n"
     ]
    }
   ],
   "source": [
    "# Calculamos:\n",
    "#=======================\n",
    "h2 = (m3*h3 - m1*h1)/m2\n",
    "#=======================\n",
    "print('h2 = %s kJ/kg'%round(h2,2))"
   ]
  },
  {
   "cell_type": "markdown",
   "metadata": {},
   "source": [
    "De tabla:\n",
    "\n",
    "$t_2 \\approx 480^\\circ \\mathrm{C} \\quad, \\quad P= \\mathrm{cte} \\; \\rightarrow P_2 = 20 \\, \\mathrm{bar}$"
   ]
  },
  {
   "cell_type": "code",
   "execution_count": 10,
   "metadata": {},
   "outputs": [],
   "source": [
    "# Usando CoolProp\n",
    "import CoolProp.CoolProp as cp"
   ]
  },
  {
   "cell_type": "code",
   "execution_count": 13,
   "metadata": {},
   "outputs": [
    {
     "name": "stdout",
     "output_type": "stream",
     "text": [
      "h1 = 2420.33 kJ/kg\n",
      "h3 = 2798.29 kJ/kg\n"
     ]
    }
   ],
   "source": [
    "# Datos\n",
    "P1 = 20e5 # Pa\n",
    "P3 = P1\n",
    "x1 = 0.8\n",
    "x3 = 1\n",
    "\n",
    "h1 = cp.PropsSI('H','P',P1,'Q',x1,'Water')\n",
    "h3 = cp.PropsSI('H','P',P3,'Q',x3,'Water')\n",
    "\n",
    "print('h1 = %s kJ/kg'%round(h1/1000,2))\n",
    "print('h3 = %s kJ/kg'%round(h3/1000,2))"
   ]
  },
  {
   "cell_type": "code",
   "execution_count": 15,
   "metadata": {},
   "outputs": [
    {
     "name": "stdout",
     "output_type": "stream",
     "text": [
      "h2 = 3428.22 kJ/kg\n"
     ]
    }
   ],
   "source": [
    "# Calculamos:\n",
    "#=======================\n",
    "h2 = (m3*h3 - m1*h1)/m2\n",
    "#=======================\n",
    "print('h2 = %s kJ/kg'%round(h2/1000,2))"
   ]
  },
  {
   "cell_type": "code",
   "execution_count": 16,
   "metadata": {},
   "outputs": [
    {
     "name": "stdout",
     "output_type": "stream",
     "text": [
      "T2 = 754.99 K\n",
      "t2 = 481.84°C\n"
     ]
    }
   ],
   "source": [
    "P2 = P1\n",
    "\n",
    "T2 = cp.PropsSI('T','P',P2,'H',h2,'Water')\n",
    "\n",
    "print('T2 = %s K'%round(T2,2))\n",
    "print('t2 = %s°C'%round(T2 - 273.15,2))"
   ]
  },
  {
   "cell_type": "code",
   "execution_count": 9,
   "metadata": {},
   "outputs": [],
   "source": [
    "%reset -s -f"
   ]
  },
  {
   "cell_type": "markdown",
   "metadata": {},
   "source": [
    "## Ejercicio 22\n",
    "A través de una turbina adiabática, circula un caudal másico de 180 kg/min de vapor de agua. Este ingresa a 10  MPa y 600°C y egresa a 100 kPa entregando una potencia de 2,5 MW. Determinar las condiciones de vapor a la salida de la turbina.\n",
    "\n",
    "![turbina.png](img/turbina.png)\n",
    "\n",
    "$ W = 2,5 \\, \\mathrm{MW} $"
   ]
  },
  {
   "cell_type": "markdown",
   "metadata": {},
   "source": [
    "### Solución\n",
    "$$ Q - W = \\Delta H  \\\\\n",
    " -W = m (h_s - h_e)  \\\\\n",
    " W = m (h_e - h_s) $$"
   ]
  },
  {
   "cell_type": "markdown",
   "metadata": {},
   "source": [
    "Despejamos $h_s$ \n",
    "$$ h_s = h_e - \\frac{W}{m} $$ "
   ]
  },
  {
   "cell_type": "markdown",
   "metadata": {},
   "source": [
    "Datos:\n",
    "$\\left\\{\n",
    "\\begin{array}{l}\n",
    "P_e = 10 \\, \\mathrm{MPa} \\\\\n",
    "t_e = 600^\\circ \\mathrm{C}\n",
    "\\end{array}\n",
    "\\right. \\qquad \\rightarrow \\qquad h_e$"
   ]
  },
  {
   "cell_type": "code",
   "execution_count": 23,
   "metadata": {},
   "outputs": [
    {
     "name": "stdout",
     "output_type": "stream",
     "text": [
      "h_s = 2789.37 kJ/kg\n"
     ]
    }
   ],
   "source": [
    "# Datos:\n",
    "m = 180/60 # kg/s\n",
    "h_e = 3622.70 # kJ/kg (de tabla)\n",
    "W = 2.5*1000 # kJ/s\n",
    "\n",
    "# Calculamos:\n",
    "#==================\n",
    "h_s = h_e - W/m\n",
    "#==================\n",
    "print('h_s = %s kJ/kg'%round(h_s,2))"
   ]
  },
  {
   "cell_type": "markdown",
   "metadata": {},
   "source": [
    "De tabla, \n",
    "$\\left\\{\n",
    "\\begin{array}{l}\n",
    "P = 100 \\, \\mathrm{kPa} \\\\\n",
    "h_s = 2789,37 \\, \\mathrm{kJ/kg}\n",
    "\\end{array}\n",
    "\\right. \\quad \\rightarrow \\quad t_s \\approx 160^\\circ \\mathrm{C}$"
   ]
  },
  {
   "cell_type": "markdown",
   "metadata": {},
   "source": [
    "Usando miniREFPROP: \n",
    "\n",
    "![22_miniref1.png](img/22_miniref1.png)\n",
    "\n",
    "Obtenomos 156,44°C"
   ]
  },
  {
   "cell_type": "code",
   "execution_count": 24,
   "metadata": {},
   "outputs": [],
   "source": [
    "# Usando CoolProp (opcional)\n",
    "import CoolProp.CoolProp as cp"
   ]
  },
  {
   "cell_type": "code",
   "execution_count": 25,
   "metadata": {},
   "outputs": [
    {
     "name": "stdout",
     "output_type": "stream",
     "text": [
      "h_e = 3625.76 kJ\n",
      "h_s = 2792.42 kJ\n",
      "T_s = 431.13 K\n",
      "t_s = 157.98°C\n"
     ]
    }
   ],
   "source": [
    "# Datos:\n",
    "m = 180/60 # kg/s\n",
    "P_e = 10e6 # Pa\n",
    "P_s = 100e3 # Pa\n",
    "T_e = 600 + 273.15 # K\n",
    "W = 2.5e6 # J\n",
    "\n",
    "h_e = cp.PropsSI('H','P',P_e,'T',T_e,'Water')\n",
    "h_s = h_e - W/m\n",
    "T_s = cp.PropsSI('T','P',P_s,'H',h_s,'Water')\n",
    "\n",
    "print('h_e = %s kJ'%round(h_e/1000,2))\n",
    "print('h_s = %s kJ'%round(h_s/1000,2))\n",
    "print('T_s = %s K'%round(T_s,2))\n",
    "print('t_s = %s°C'%round(T_s - 273.15,2))"
   ]
  },
  {
   "cell_type": "code",
   "execution_count": 26,
   "metadata": {},
   "outputs": [],
   "source": [
    "%reset -s -f"
   ]
  },
  {
   "cell_type": "markdown",
   "metadata": {},
   "source": [
    "## Ejercicio 23\n",
    "Para el siguiente intercambiador de calor, calcular el caudal másico de vapor que debe\n",
    "circular para calentar 720 kg/hr de agua a 1 bar de 10°C hasta 50°C. El vapor ingresa a\n",
    "1,4 bar y 250°C y egresa a 1 bar y 150°C."
   ]
  },
  {
   "cell_type": "markdown",
   "metadata": {},
   "source": [
    "<img src=\"img/interc.png\" alt=\"interc.png\" width=\"35%\" height=\"35%\" >"
   ]
  },
  {
   "cell_type": "markdown",
   "metadata": {},
   "source": [
    "$Q=0$ y $W = 0$\n",
    "$$\\begin{array}{c}\n",
    "Q - W = \\Delta H \\\\\n",
    "\\Delta H = 0 \\\\\n",
    "h_e = h_s \n",
    "\\end{array}$$"
   ]
  },
  {
   "cell_type": "markdown",
   "metadata": {},
   "source": [
    "$\\left\\{ \\begin{array}{l}\n",
    "\\dot{m}_2 h_2 - \\dot{m}_1 h_1 = \\dot{m}_3 h_3 + \\dot{m}_4 h_4 \\\\\n",
    "\\dot{m}_3 = \\dot{m}_4 \\\\\n",
    "\\dot{m}_1 = \\dot{m}_2\n",
    "\\end{array}\n",
    "\\right.\n",
    "$"
   ]
  },
  {
   "cell_type": "markdown",
   "metadata": {},
   "source": [
    "$$\\begin{array}{c}\n",
    "\\dot{m}_{agua}(h_2 - h_1) = \\dot{m}_{vapor}(h_3 - h_4) \\\\\n",
    "\\displaystyle \\dot{m}_{agua} = 720 \\, \\mathrm{ \\left( \\frac{kg}{h} \\right) \\cdot \\left( \\frac{1 \\, h}{3600 \\, s} \\right)  = 0,2 \\, kg/s } \\\\\n",
    "\\displaystyle \\dot{m}_{vapor} = \\frac{h_2 - h_1}{h_3 - h_4} \\, \\dot{m}_{agua} \n",
    "\\end{array}$$"
   ]
  },
  {
   "cell_type": "markdown",
   "metadata": {},
   "source": [
    "Obtenemos de tabla con los siguentes datos:\n",
    "\n",
    "Datos:\n",
    "$\n",
    "\\left\\{\n",
    "\\begin{array}{l}\n",
    "P_1 = 1 \\, \\mathrm{bar} \\\\\n",
    "t_1 = 10^\\circ \\mathrm{C}\n",
    "\\end{array}\n",
    "\\right. \\qquad \\rightarrow \\qquad h_1\n",
    "$"
   ]
  },
  {
   "cell_type": "markdown",
   "metadata": {},
   "source": [
    "Datos:\n",
    "$\n",
    "\\left\\{\n",
    "\\begin{array}{l}\n",
    "P_2 = 1 \\, \\mathrm{bar} \\\\\n",
    "t_2 = 50^\\circ \\mathrm{C}\n",
    "\\end{array}\n",
    "\\right. \\qquad \\rightarrow \\qquad h_2\n",
    "$"
   ]
  },
  {
   "cell_type": "markdown",
   "metadata": {},
   "source": [
    "Datos:\n",
    "$\n",
    "\\left\\{\n",
    "\\begin{array}{l}\n",
    "P_3 = 1,4 \\, \\mathrm{bar} \\\\\n",
    "t_3 = 250^\\circ \\mathrm{C}\n",
    "\\end{array}\n",
    "\\right. \\qquad \\rightarrow \\qquad h_3\n",
    "$"
   ]
  },
  {
   "cell_type": "markdown",
   "metadata": {},
   "source": [
    "Datos:\n",
    "$\n",
    "\\left\\{\n",
    "\\begin{array}{l}\n",
    "P_4 = 1 \\, \\mathrm{bar} \\\\\n",
    "t_4 = 150^\\circ \\mathrm{C}\n",
    "\\end{array}\n",
    "\\right. \\qquad \\rightarrow \\qquad h_4\n",
    "$"
   ]
  },
  {
   "cell_type": "markdown",
   "metadata": {},
   "source": [
    "![23_miniref1.png](img/23_miniref1.png)"
   ]
  },
  {
   "cell_type": "code",
   "execution_count": 11,
   "metadata": {},
   "outputs": [
    {
     "name": "stdout",
     "output_type": "stream",
     "text": [
      "m_vapor = 0.17 kg/s\n"
     ]
    }
   ],
   "source": [
    "# Datos:\n",
    "m_agua = 720*1/3600 # kg/s\n",
    "h1 = 42.118 # kJ/kg\n",
    "h2 = 209.42 # kJ/kg\n",
    "h3 = 2973.2 # kJ/kg\n",
    "h4 = 2776.6 # kJ/kg\n",
    "\n",
    "# Calculamos:\n",
    "#===================================\n",
    "m_vapor = m_agua*(h1 - h2)/(h4 - h3)\n",
    "#===================================\n",
    "# Imprime resultados:\n",
    "print('m_vapor = %s kg/s'%round(m_vapor,3))"
   ]
  },
  {
   "cell_type": "code",
   "execution_count": 27,
   "metadata": {},
   "outputs": [],
   "source": [
    "# Usando CoolProp (opcional)\n",
    "import CoolProp.CoolProp as cp"
   ]
  },
  {
   "cell_type": "code",
   "execution_count": 30,
   "metadata": {},
   "outputs": [
    {
     "name": "stdout",
     "output_type": "stream",
     "text": [
      "h1 = 42.12 kJ\n",
      "h2 = 209.42 kJ\n",
      "h3 = 2973.2 kJ\n",
      "h4 = 2776.6 kJ\n",
      "m_vapor = 0.17 kg/s\n"
     ]
    }
   ],
   "source": [
    "# Datos:\n",
    "P3 = 1.4e5 # Pa\n",
    "P4 = 1e5 # Pa\n",
    "P1 = 1e5 # Pa\n",
    "P2 = P1\n",
    "T3 = 250 + 273.15 # K\n",
    "T4 = 150 + 273.15 # K\n",
    "T1 = 10 + 273.15 # K\n",
    "T2 = 50 + 273.15 # K\n",
    "m_agua = 720*1/3600 # kg/s\n",
    "\n",
    "h1 = cp.PropsSI('H','P',P1,'T',T1,'Water')\n",
    "h2 = cp.PropsSI('H','P',P2,'T',T2,'Water')\n",
    "h3 = cp.PropsSI('H','P',P3,'T',T3,'Water')\n",
    "h4 = cp.PropsSI('H','P',P4,'T',T4,'Water')\n",
    "\n",
    "# Calculamos:\n",
    "#================================\n",
    "m_vapor = m_agua*(h1-h2)/(h4-h3)\n",
    "#================================\n",
    "# Imprime resultados:\n",
    "print('h1 = %s kJ'%round(h1/1000,2))\n",
    "print('h2 = %s kJ'%round(h2/1000,2))\n",
    "print('h3 = %s kJ'%round(h3/1000,2))\n",
    "print('h4 = %s kJ'%round(h4/1000,2))\n",
    "print('m_vapor = %s kg/s'%round(m_vapor,3))"
   ]
  },
  {
   "cell_type": "code",
   "execution_count": 1,
   "metadata": {},
   "outputs": [],
   "source": [
    "%reset -s -f"
   ]
  },
  {
   "cell_type": "markdown",
   "metadata": {},
   "source": [
    "## Ejercicio 24\n",
    "Para el siguiente proceso, utilizando vapor de agua. Determinar:\n",
    "\n",
    "1. Estado de vapor en 3\n",
    "2. Calor recibido\n",
    "3. Potencia entregada por la turbina\n",
    "\n",
    "![24.png](img/24.png)"
   ]
  },
  {
   "cell_type": "markdown",
   "metadata": {},
   "source": [
    "### Solución\n",
    "Cámara de mezclado\n",
    "$\\left\\{ \\begin{array}{l}\n",
    "Q - W = \\Delta H \\\\\n",
    "Q = 0 \\quad \\rightarrow \\quad h_s = h_e \\\\\n",
    "\\dot{m}_1 + \\dot{m}_2 = \\dot{m}_3 \\\\\n",
    "\\dot{m}_1 h_1 + \\dot{m}_2 h_2 = \\dot{m}_3 h_3 \\\\\n",
    "P = cte\n",
    "\\end{array} \\right.\n",
    "$"
   ]
  },
  {
   "cell_type": "markdown",
   "metadata": {},
   "source": [
    "$$ x = \\frac{h-h'}{h''-h'} \\quad \\rightarrow \\quad  h_1 = x_1 \\, (h''-h')+h' $$"
   ]
  },
  {
   "cell_type": "markdown",
   "metadata": {},
   "source": [
    "$$ h_3 = \\frac{ \\dot{m}_1 h_1 + \\dot{m}_2 h_2 }{ \\dot{m}_3 } $$"
   ]
  },
  {
   "cell_type": "code",
   "execution_count": 2,
   "metadata": {},
   "outputs": [
    {
     "name": "stdout",
     "output_type": "stream",
     "text": [
      "m3 = 0.8 kg\n",
      "h1 = 2373.46 kJ/kg\n",
      "h3 = 2713.46 kJ/kg\n"
     ]
    }
   ],
   "source": [
    "# Datos:\n",
    "m1 = 720*1/3600 # kg/s\n",
    "m2 = 2160*1/3600 # kg/s\n",
    "m3 = m1 + m2 # kg/s\n",
    "hp1 = 762.61 # kJ/kg (valor de tabla)\n",
    "hp2 = 2776.17 # kJ/kg (valor de tabla)\n",
    "x1 = 0.8\n",
    "h2 = 2826.79 # kJ/kg (valor de tabla)\n",
    "\n",
    "# Calculamos:\n",
    "#=========================\n",
    "h1 = x1*(hp2-hp1)+hp1\n",
    "h3 = (m1*h1+m2*h2)/m3 \n",
    "#=========================\n",
    "# Imprime resultados:\n",
    "print('m3 = %s kg'%m3)\n",
    "print('h1 = %s kJ/kg'%round(h1,2))\n",
    "print('h3 = %s kJ/kg'%round(h3,2))"
   ]
  },
  {
   "cell_type": "code",
   "execution_count": 3,
   "metadata": {},
   "outputs": [
    {
     "name": "stdout",
     "output_type": "stream",
     "text": [
      "x3 = 0.97\n"
     ]
    }
   ],
   "source": [
    "x3 = (h3 - hp1)/(hp2 - hp1)\n",
    "\n",
    "print('x3 = %s'%round(x3,2) )"
   ]
  },
  {
   "cell_type": "markdown",
   "metadata": {},
   "source": [
    "En 3 tenemos 97% de vapor y un 3% de líquido"
   ]
  },
  {
   "cell_type": "markdown",
   "metadata": {},
   "source": [
    "Turbina:\n",
    "$$ Q - W = \\Delta H  \\\\\n",
    " -W = m (h_s - h_e)  \\\\\n",
    " W = m (h_e - h_s) $$"
   ]
  },
  {
   "cell_type": "code",
   "execution_count": 4,
   "metadata": {},
   "outputs": [
    {
     "name": "stdout",
     "output_type": "stream",
     "text": [
      "W = 260.192 kJ/s (potencia entregada)\n",
      "Q = 270.946 kJ/s (calor recibido)\n"
     ]
    }
   ],
   "source": [
    "# Datos:\n",
    "t4 = 300 # °C\n",
    "P1 = 10 # bar\n",
    "P2 = P1\n",
    "P3 = P1\n",
    "P4 = P3\n",
    "h4 = 3052.14 # kJ/kg\n",
    "h5 = 2726.90 # kJ/kg\n",
    "\n",
    "# Calculamos:\n",
    "#==================\n",
    "W = m3*(h4 - h5)\n",
    "Q = (h4 - h3)*m3\n",
    "#==================\n",
    "# Imprime resultados:\n",
    "print('W = %s kJ/s (potencia entregada)'%round(W,3))\n",
    "print('Q = %s kJ/s (calor recibido)'%round(Q,3))"
   ]
  },
  {
   "cell_type": "code",
   "execution_count": 37,
   "metadata": {},
   "outputs": [],
   "source": [
    "%reset -s -f"
   ]
  },
  {
   "cell_type": "markdown",
   "metadata": {},
   "source": [
    "## Ejercicio 25\n",
    "Para el siguiente proceso, determinar.\n",
    "\n",
    "1. El estado de vapor en 2. $(P; \\, t; \\, x)$\n",
    "2. $\\dot{W}$\n",
    "3. $\\dot{m}$\n",
    "\n",
    "![25.png](img/25.png)"
   ]
  },
  {
   "cell_type": "markdown",
   "metadata": {},
   "source": [
    "### Solución\n",
    "1) Para la válvula reguladora tenemos:\n",
    "$\\left\\{\n",
    "\\begin{array}{l}\n",
    "P_1 = 100 \\, \\mathrm{bar} \\\\\n",
    "t_1 = 450^\\circ \\mathrm{C} \\\\\n",
    "Q = 0 \\\\\n",
    "W = 0\n",
    "\\end{array}\n",
    "\\right.$"
   ]
  },
  {
   "cell_type": "markdown",
   "metadata": {},
   "source": [
    "$$ Q - W = \\Delta H = 0 $$"
   ]
  },
  {
   "cell_type": "markdown",
   "metadata": {},
   "source": [
    "$$ h_s - h_e = 0 \\quad \\Rightarrow \\quad h_s = h_e$$"
   ]
  },
  {
   "cell_type": "markdown",
   "metadata": {},
   "source": [
    " Usando el programa miniREFPROP para el vapor de agua tenemos:\n",
    " \n",
    " ![25_minirefprop1.png](img/25_minirefprop1.png)\n",
    " \n",
    " $t_2 = 411,81^\\circ \\mathrm{C} \\quad ; \\quad x_2 = \\nexists $"
   ]
  },
  {
   "cell_type": "markdown",
   "metadata": {},
   "source": [
    "3)\n",
    "\n",
    "$\\left\\{\n",
    "\\begin{array}{l}\n",
    "Q=0 \\\\\n",
    "W = 0\n",
    "\\end{array} \n",
    "\\right.$\n"
   ]
  },
  {
   "cell_type": "markdown",
   "metadata": {},
   "source": [
    "$$\\begin{array}{c}\n",
    "Q - W = \\Delta H \\\\\n",
    "\\Delta H = 0 \n",
    "\\end{array}$$"
   ]
  },
  {
   "cell_type": "markdown",
   "metadata": {},
   "source": [
    "$$ h_e = h_s $$"
   ]
  },
  {
   "cell_type": "markdown",
   "metadata": {},
   "source": [
    "$\\left\\{ \\begin{array}{l}\n",
    "\\dot{m}_3 h_3 + \\dot{m}_5 h_5 = \\dot{m}_4 h_4 + \\dot{m}_6 h_6 \\\\\n",
    "\\dot{m}_3 = \\dot{m}_4 \\\\\n",
    "\\dot{m}_5 = \\dot{m}_6\n",
    "\\end{array}\n",
    "\\right.\n",
    "$"
   ]
  },
  {
   "cell_type": "markdown",
   "metadata": {},
   "source": [
    "$$\\begin{array}{c}\n",
    "\\dot{m}_{vapor}(h_3-h_4) = \\dot{m}_{agua}(h_6-h_5) \\\\\n",
    "\\displaystyle \\dot{m}_{vapor} = \\frac{h_6-h_5}{h_3-h_4} \\, \\dot{m}_{agua} \n",
    "\\end{array}$$"
   ]
  },
  {
   "cell_type": "markdown",
   "metadata": {},
   "source": [
    "![25_minirefprop2.png](img/25_minirefprop2.png)"
   ]
  },
  {
   "cell_type": "code",
   "execution_count": 17,
   "metadata": {},
   "outputs": [
    {
     "name": "stdout",
     "output_type": "stream",
     "text": [
      "m3 = 11.178 kg\n"
     ]
    }
   ],
   "source": [
    "# De tabla\n",
    "h3 = 2853.7 # kJ/kg\n",
    "h4 = 2734.0 # kJ/kg\n",
    "h5 = 84.006 # kJ/kg\n",
    "h6 = 251.25 # kJ/kg\n",
    "m5 = 8 # kg\n",
    "\n",
    "# Entonces, la masa de agua:\n",
    "#===========================\n",
    "m3 = m5*(h6 - h5)/(h3 - h4)\n",
    "#===========================\n",
    "# Imprime resultados:\n",
    "print('m3 = %s kg'%round(m3,3))"
   ]
  },
  {
   "cell_type": "markdown",
   "metadata": {},
   "source": [
    "2) \n",
    "$$\\begin{array}{c}\n",
    "Q - W = \\Delta H  \\\\\n",
    "-W = m (h_s - h_e)  \\\\\n",
    " W = m (h_e - h_s) \n",
    "\\end{array}$$"
   ]
  },
  {
   "cell_type": "code",
   "execution_count": 18,
   "metadata": {},
   "outputs": [
    {
     "name": "stdout",
     "output_type": "stream",
     "text": [
      "W = 4343.594 kW\n"
     ]
    }
   ],
   "source": [
    "# Dato:\n",
    "h2 = 3242.3 # kJ/kg\n",
    "\n",
    "# Calculamos:\n",
    "#====================\n",
    "W = m3*(h2 - h3)\n",
    "#====================\n",
    "# Imprime resultados:\n",
    "print('W = %s kW'%round(W,3))"
   ]
  },
  {
   "cell_type": "code",
   "execution_count": 19,
   "metadata": {},
   "outputs": [],
   "source": [
    "%reset -s -f"
   ]
  },
  {
   "cell_type": "markdown",
   "metadata": {},
   "source": [
    "## Ejercicio 26\n",
    "Se abre la válvula y se quita las trabas alcanzándose un nuevo estado de equilibrio.\n",
    "      Determinar:\n",
    "\n",
    "\ta) Presión, Temperatura y x (si corresponde)\n",
    "\tb) Trabajo intercambiado con el medio exterior\n",
    "![26.png](img/26.png)"
   ]
  },
  {
   "cell_type": "code",
   "execution_count": 16,
   "metadata": {},
   "outputs": [],
   "source": [
    "import CoolProp.CoolProp as cp"
   ]
  },
  {
   "cell_type": "markdown",
   "metadata": {},
   "source": [
    "$\\left\\{\n",
    "\\begin{array}{l}\n",
    "P_{A1} = 1000 \\, \\mathrm{kPa} \\\\\n",
    "x_{A1} = 1 \\\\\n",
    "m_{A1} = 8 \\, \\mathrm{kg}\n",
    "\\end{array}\n",
    "\\right. \\qquad \\rightarrow \\qquad\n",
    "\\left[\n",
    "\\begin{array}{l}\n",
    "t(^\\circ \\mathrm{C}) \\\\\n",
    "v \\\\\n",
    "u\n",
    "\\end{array}\n",
    "\\right] \\quad \\wedge \\quad\n",
    "V_A = v_A \\cdot m_{A1}$"
   ]
  },
  {
   "cell_type": "code",
   "execution_count": 24,
   "metadata": {},
   "outputs": [
    {
     "name": "stdout",
     "output_type": "stream",
     "text": [
      "T_A1 = 584.15 K\n",
      "t_A1 = 311.0°C\n",
      "u_A1 = 2545.19 kJ/kg\n",
      "v_A1 = 0.01803 m^3 (volumen especifico inicial en A)\n",
      "--------------------\n",
      "Volumen recipiente A:\n",
      "V_A = 0.1442 m^3\n"
     ]
    }
   ],
   "source": [
    "# Datos\n",
    "P_A1 = 10e6 # Pa\n",
    "x_A1 = 1\n",
    "m_A1 = 8 # kg\n",
    "\n",
    "# Consulta temperatura\n",
    "T_A1 = cp.PropsSI('T','P',P_A1,'Q',x_A1,'Water')\n",
    "# Consulta volumen específico\n",
    "v_A1 = 1/cp.PropsSI('D','P',P_A1,'Q',x_A1,'Water')\n",
    "# Consulta energía interna específica\n",
    "u_A1 = cp.PropsSI('U','P',P_A1,'Q',x_A1,'Water')\n",
    "# Cálculo de volumen en A\n",
    "V_A = v_A1 * m_A1\n",
    "\n",
    "# Imprime resultados:\n",
    "print('T_A1 = %s K'%round(T_A1,2))\n",
    "print('t_A1 = %s°C'%round(T_A1 - 273.15,2))\n",
    "print('u_A1 = %s kJ/kg'%round(u_A1/1000,2))\n",
    "print('v_A1 = %s m^3/kg (volumen especifico inicial en A)'%round(v_A1,6))\n",
    "print('--------------------')\n",
    "print('Volumen recipiente A:')\n",
    "print('V_A = %s m^3'%round(V_A,4))"
   ]
  },
  {
   "cell_type": "code",
   "execution_count": 22,
   "metadata": {},
   "outputs": [
    {
     "name": "stdout",
     "output_type": "stream",
     "text": [
      "V_B1 = 0.0288 m^3 (volumen inicial en B)\n"
     ]
    }
   ],
   "source": [
    "# Calculo del volumen inicial en B\n",
    "V_B1 = 0.2*V_A\n",
    "\n",
    "print('V_B1 = %s m^3 (volumen inicial en B)'%round(V_B1,4))"
   ]
  },
  {
   "cell_type": "markdown",
   "metadata": {},
   "source": [
    "Datos: $\\left\\{\n",
    "\\begin{array}{l}\n",
    "P_{B1} = 100 \\, \\mathrm{kPa} \\\\\n",
    "x_{B1} = 0,6\n",
    "\\end{array}\n",
    "\\right. \\qquad \\rightarrow \\qquad\n",
    "\\left[\n",
    "\\begin{array}{l}\n",
    "t(^\\circ \\mathrm{C}) \\\\\n",
    "v' \\; , v'' \\\\\n",
    "u' \\; , u''\n",
    "\\end{array}\n",
    "\\right]$"
   ]
  },
  {
   "cell_type": "markdown",
   "metadata": {},
   "source": [
    "El volumen específico se obtiene\n",
    "$$ v_{B1} = x \\,(v'' - v') + v' $$"
   ]
  },
  {
   "cell_type": "markdown",
   "metadata": {},
   "source": [
    "La energía interna específica se obtiene\n",
    "\n",
    "$$ u_{B1} = x \\, (u'' - u') + u' $$"
   ]
  },
  {
   "cell_type": "markdown",
   "metadata": {},
   "source": [
    "Densidad inicial en B\n",
    "\n",
    "$$ \\rho_{B1} = \\frac{1}{v_{B1}} $$"
   ]
  },
  {
   "cell_type": "markdown",
   "metadata": {},
   "source": [
    "Entonces, la masa inicial en B es\n",
    "\n",
    "$$ m_{B1} = \\rho_{B1} \\cdot V_{B1} $$"
   ]
  },
  {
   "cell_type": "code",
   "execution_count": 29,
   "metadata": {},
   "outputs": [
    {
     "name": "stdout",
     "output_type": "stream",
     "text": [
      "T_B1 = 372.76 K\n",
      "t_B1 = 99.61°C\n",
      "u_B1 = 1670.29 kJ/kg\n",
      "v_B1 = 1.0168 m^3/kg (volumen especifico inicial en B)\n",
      "rho_B1 = 0.9835 kg/m^3 (densidad inicial en B)\n",
      "------------------\n",
      "Masa inicial en B\n",
      "m_B = 0.0284 kg\n"
     ]
    }
   ],
   "source": [
    "# Calculo de masa inicial en B\n",
    "P_B1 = 0.1e6 # Pa\n",
    "x_B1 = 0.6\n",
    "\n",
    "T_B1 = cp.PropsSI('T','P',P_B1,'Q',x_B1,'Water')\n",
    "v_B1 = 1/cp.PropsSI('D','P',P_B1,'Q',x_B1,'Water')\n",
    "u_B1 = cp.PropsSI('U','P',P_B1,'Q',x_B1,'Water')\n",
    "rho_B1 = cp.PropsSI('D','P',P_B1,'Q',x_B1,'Water')\n",
    "m_B = rho_B1*V_B1\n",
    "\n",
    "print('T_B1 = %s K'%round(T_B1,2))\n",
    "print('t_B1 = %s°C'%round(T_B1 - 273.15,2))\n",
    "print('u_B1 = %s kJ/kg'%round(u_B1/1000,2))\n",
    "print('v_B1 = %s m^3/kg (volumen especifico inicial en B)'%round(v_B1,4))\n",
    "print('rho_B1 = %s kg/m^3 (densidad inicial en B)'%round(rho_B1,4))\n",
    "print('------------------')\n",
    "print('Masa inicial en B')\n",
    "print('m_B = %s kg'%round(m_B,4))"
   ]
  },
  {
   "cell_type": "markdown",
   "metadata": {},
   "source": [
    "Estado inicial\n",
    "$$\\begin{array}{c}\n",
    "Q = \\Delta U + W_b \\\\\n",
    "0 =  U_i + 0 \n",
    "\\end{array}$$"
   ]
  },
  {
   "cell_type": "markdown",
   "metadata": {},
   "source": [
    "Estado final\n",
    "$$ 0 = \\underbrace{U + W_b}_{H_f} $$"
   ]
  },
  {
   "cell_type": "markdown",
   "metadata": {},
   "source": [
    "Entonces\n",
    "$$ H_{final} = U_{A1} + U_{B1} $$"
   ]
  },
  {
   "cell_type": "markdown",
   "metadata": {},
   "source": [
    "$$ h_{final} = \\frac{U_{A1} + U_{B1}}{m_{total}} $$"
   ]
  },
  {
   "cell_type": "code",
   "execution_count": 32,
   "metadata": {},
   "outputs": [
    {
     "name": "stdout",
     "output_type": "stream",
     "text": [
      "m_total = 8.0284 kg\n",
      "h_final = 2542.1 kJ/kg\n"
     ]
    }
   ],
   "source": [
    "m_total = m_A1 + m_B\n",
    "h_final = (m_A1*u_A1 + m_B*u_B1)/m_total\n",
    "\n",
    "print('m_total = %s kg'%round(m_total,4))\n",
    "print('h_final = %s kJ/kg'%round(h_final/1000,2))"
   ]
  },
  {
   "cell_type": "markdown",
   "metadata": {},
   "source": [
    "$$ x = \\frac{h_{final} - h'}{h'' - h'} $$"
   ]
  },
  {
   "cell_type": "code",
   "execution_count": 11,
   "metadata": {},
   "outputs": [
    {
     "name": "stdout",
     "output_type": "stream",
     "text": [
      "T_final = 537.09 K\n",
      "t_final = 263.94°C\n",
      "twophase\n"
     ]
    }
   ],
   "source": [
    "P_final = 5e6 # Pa\n",
    "\n",
    "T_final = cp.PropsSI('T','P',P_final,'H',h_final,'Water')\n",
    "phase = cp.PhaseSI('P',P_final,'H',h_final,'Water')\n",
    "\n",
    "print('T_final = %s K'%round(T_final,2))\n",
    "print('t_final = %s°C'%round(T_final - 273.15,2))\n",
    "print(phase)"
   ]
  },
  {
   "cell_type": "code",
   "execution_count": 12,
   "metadata": {},
   "outputs": [
    {
     "name": "stdout",
     "output_type": "stream",
     "text": [
      "x_final = 0.85\n"
     ]
    }
   ],
   "source": [
    "x_final = cp.PropsSI('Q','P',P_final,'H',h_final,'Water')\n",
    "\n",
    "print('x_final = %s'%round(x_final,2))"
   ]
  },
  {
   "cell_type": "markdown",
   "metadata": {},
   "source": [
    "$$ h = u + pv $$"
   ]
  },
  {
   "cell_type": "code",
   "execution_count": 13,
   "metadata": {},
   "outputs": [
    {
     "name": "stdout",
     "output_type": "stream",
     "text": [
      "V_final = 0.2696 m^3\n"
     ]
    }
   ],
   "source": [
    "v_final = 1/cp.PropsSI('D','P',P_final,'H',h_final,'Water')\n",
    "\n",
    "V_final = v_final*m_total\n",
    "\n",
    "print('V_final = %s m^3'%round(V_final,4))"
   ]
  },
  {
   "cell_type": "markdown",
   "metadata": {},
   "source": [
    "$$ W_b = P_p \\, \\Delta V $$"
   ]
  },
  {
   "cell_type": "code",
   "execution_count": 14,
   "metadata": {},
   "outputs": [
    {
     "name": "stdout",
     "output_type": "stream",
     "text": [
      "Wb = 482.46 kJ\n"
     ]
    }
   ],
   "source": [
    "# Trabajo por variación de volumen\n",
    "V_inicial = V_A + V_B1\n",
    "Wb = P_final*(V_final - V_inicial)\n",
    "\n",
    "print('Wb = %s kJ'%round(Wb/1000,2))"
   ]
  },
  {
   "cell_type": "code",
   "execution_count": 15,
   "metadata": {},
   "outputs": [],
   "source": [
    "%reset -s -f"
   ]
  },
  {
   "cell_type": "markdown",
   "metadata": {},
   "source": [
    "# Ejemplo 3.5\n",
    "Tres kilogramos de agua líquida saturada están contenidos en un sistema de presión constante a 5 bar. Se añada energía al fluido hasta que se alcanza una calidad del 60 por 100. Determínese:\n",
    "1. la temperatura inicial\n",
    "2. la presión y temperaturas finales\n",
    "3. los cambios en el volumen y la entalpía"
   ]
  },
  {
   "cell_type": "markdown",
   "metadata": {},
   "source": [
    "## Solución\n",
    "Se suministra energía al agua líquida saturada. El proceso se muestra en la fig."
   ]
  },
  {
   "cell_type": "code",
   "execution_count": 22,
   "metadata": {},
   "outputs": [],
   "source": [
    "import CoolProp.CoolProp as cp"
   ]
  },
  {
   "cell_type": "code",
   "execution_count": 25,
   "metadata": {},
   "outputs": [
    {
     "name": "stdout",
     "output_type": "stream",
     "text": [
      "T_1 = 424.98 K\n",
      "t_1 = 151.83°C\n"
     ]
    }
   ],
   "source": [
    "P_1 = 5e5 # Pa\n",
    "x_1 = 0.6\n",
    "\n",
    "T_1 = cp.PropsSI('T','P',P_1,'Q',x_1,'Water')\n",
    "\n",
    "print('T_1 = %s K'%round(T_1,2))\n",
    "print('t_1 = %s°C'%round(T_1 - 273.15,2))"
   ]
  },
  {
   "cell_type": "code",
   "execution_count": 31,
   "metadata": {},
   "outputs": [
    {
     "name": "stdout",
     "output_type": "stream",
     "text": [
      "v_1 = 0.0010925 m^3/kg\n",
      "v_2 = 0.2253205 m^3/kg\n",
      "h_2 = 1904.9 kJ/kg\n"
     ]
    }
   ],
   "source": [
    "v_1 = 1/cp.PropsSI('D','P',P_1,'Q',0,'Water')\n",
    "v_2 = 1/cp.PropsSI('D','P',P_1,'Q',0.6,'Water')\n",
    "h_2 = cp.PropsSI('H','P',P_1,'Q',0.6,'Water')\n",
    "\n",
    "print('v_1 = %s m^3/kg'%round(v_1,7))\n",
    "print('v_2 = %s m^3/kg'%round(v_2,7))\n",
    "print('h_2 = %s kJ/kg'%round(h_2/1000,2))"
   ]
  },
  {
   "cell_type": "code",
   "execution_count": 29,
   "metadata": {},
   "outputs": [
    {
     "name": "stdout",
     "output_type": "stream",
     "text": [
      "h_1 = 640.09 kJ/kg\n"
     ]
    }
   ],
   "source": [
    "h_1 = cp.PropsSI('H','P',P_1,'Q',0,'Water')\n",
    "\n",
    "print('h_1 = %s kJ/kg'%round(h_1/1000,2))"
   ]
  },
  {
   "cell_type": "code",
   "execution_count": 32,
   "metadata": {},
   "outputs": [
    {
     "name": "stdout",
     "output_type": "stream",
     "text": [
      "DV = 0.673 m^3\n",
      "DH = 3794.44 kJ/kg\n"
     ]
    }
   ],
   "source": [
    "m = 3 # kg\n",
    "\n",
    "DV = m*(v_2 - v_1)\n",
    "DH = m*(h_2 - h_1)\n",
    "\n",
    "print('DV = %s m^3'%round(DV,3))\n",
    "print('DH = %s kJ/kg'%round(DH/1000,2))"
   ]
  },
  {
   "cell_type": "code",
   "execution_count": 33,
   "metadata": {},
   "outputs": [],
   "source": [
    "%reset -s -f"
   ]
  },
  {
   "cell_type": "markdown",
   "metadata": {},
   "source": [
    "[<-Previous ](https://nbviewer.jupyter.org/github/daniel-lorenzo/Termodinamica/blob/master/p03.ipynb) -\n",
    "[Index](https://github.com/daniel-lorenzo/Termodinamica/blob/master/Readme.md) - \n",
    "[Next ->](https://nbviewer.jupyter.org/github/daniel-lorenzo/Termodinamica/blob/master/p05.ipynb)"
   ]
  }
 ],
 "metadata": {
  "kernelspec": {
   "display_name": "Python 3",
   "language": "python",
   "name": "python3"
  },
  "language_info": {
   "codemirror_mode": {
    "name": "ipython",
    "version": 3
   },
   "file_extension": ".py",
   "mimetype": "text/x-python",
   "name": "python",
   "nbconvert_exporter": "python",
   "pygments_lexer": "ipython3",
   "version": "3.7.3"
  }
 },
 "nbformat": 4,
 "nbformat_minor": 2
}
