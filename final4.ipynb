{
 "cells": [
  {
   "cell_type": "markdown",
   "metadata": {},
   "source": [
    "# Final de Termodinámica\n",
    "\n",
    "![final4-0.png](img/final4-0.png)"
   ]
  },
  {
   "cell_type": "markdown",
   "metadata": {},
   "source": [
    "### Hallar:\n",
    "1. $m$ del cuerpo de la máquina térmica.\n",
    "2. Estado general del vapor.\n",
    "3. $W_{perdMT}$\n",
    "4. $\\Delta S_{u}$\n",
    "5. $\\eta_{ex}$\n",
    "6. Si $Q_{perd}$ se almacena en una fuente a $T_F$ y de allí se quiere obtener $W$ ¿Cuál es el $W_{m \\acute{a} x}$ a obtener?"
   ]
  },
  {
   "cell_type": "markdown",
   "metadata": {},
   "source": [
    "## Solución"
   ]
  },
  {
   "cell_type": "markdown",
   "metadata": {},
   "source": [
    "Por dónde arrancarían?\n",
    "\n",
    "$MT$ $\\rightarrow$ no tengo $W_{MT}$ y no tengo la masa del cuerpo     \n",
    "2 incógnitas - 1 ecuación extra $\\rightarrow$ no tiene solución"
   ]
  },
  {
   "cell_type": "markdown",
   "metadata": {},
   "source": [
    "$C-P$ $\\rightarrow$ no tengo $W_{pal}$, pero tengo $\\Delta S_u$ y $P_{final} \\; \\rightarrow$ con $\\Delta S_A = \\Delta S_u$ puedo calcular $T_f \\; \\rightarrow$ con esta $\\rightarrow \\Delta U$ y $V_f \\; \\Rightarrow \\; W_{\\Delta V} \\; \\Rightarrow$ puedo calcular $W_{pal} \\; \\Rightarrow$ puedo arrancar por allí."
   ]
  },
  {
   "cell_type": "markdown",
   "metadata": {},
   "source": [
    "Compresor $\\rightarrow$ me falta un dato del estado final pero tengo una ecuación extra $\\Rightarrow$ puedo arrancar por allí."
   ]
  },
  {
   "cell_type": "markdown",
   "metadata": {},
   "source": [
    "Arranco por el cilindro-pistón"
   ]
  },
  {
   "cell_type": "markdown",
   "metadata": {},
   "source": [
    "### Cilindro-Pistón (adiabático)\n",
    "Datos disponibles: $T_{Ai}, m_A, \\Delta S_{Ucp},P_{ext},cv_A,R_A,cp_A$"
   ]
  },
  {
   "cell_type": "markdown",
   "metadata": {},
   "source": [
    "$\\begin{array}{|ll|l|l|}\n",
    "\\hline\n",
    "   & \\mathrm{Ecuaci \\acute o n} & \\mathrm{Inc \\acute o gnita} \\\\\n",
    "\\hline   \n",
    "1) & \\Delta U + W_{\\Delta V} + W_{pal} = 0 & \\Delta U, W_{\\Delta V}, W_{pal} & (2),(4),(1) \\\\\n",
    "2) & \\Delta U = m_A cv_A (T_{fA} - T_{iA} ) & T_{fA} & (3) \\\\\n",
    "3) & \\Delta S_A = m_A cp_A \\ln (T_{fA} / T_{iA}) & \\Delta S_A & (5) \\\\\n",
    "4) & W_{\\Delta V} = P_{ext} (V_f - V_i) & V_f, V_i & (7),(6) \\\\\n",
    "5) & \\Delta S_{Ucp} = \\Delta S_A \\quad (+) \\mathrm{ \\; por \\; adiab \\acute{a} tico} & & \\\\\n",
    "6) & P_{ext} V_f = m_A R_A T_{iA} & & \\\\\n",
    "7) & P_{ext} V_f = m_A R_A t_{fA} & & \\\\\n",
    "\\hline\n",
    "\\end{array}$\n",
    "\n",
    "__7 ecuaciones - 7 incógnitas $\\rightarrow$ tiene solución__"
   ]
  },
  {
   "cell_type": "markdown",
   "metadata": {},
   "source": [
    "Para los ítems 4 y 5 voy a necesitar $\\Delta S_{gas}$ y $\\Delta Ex_{gas}$\n",
    "\n",
    "$$ \\Delta Ex_{gas} = \\Delta U - T_0 \\Delta S_{gas} + P_0 \\Delta V $$"
   ]
  },
  {
   "cell_type": "markdown",
   "metadata": {},
   "source": [
    "$\\begin{array}{|l|c|}\n",
    "\\hline\n",
    "\\Delta S_{gas} = \\Delta S_A & (+) \\\\\n",
    "\\hline\n",
    "\\Delta Ex_{gas} & \\rightarrow \\mathrm{producida \\; (P)} \\\\\n",
    "  & \\rightarrow \\mathrm{consumida \\; (C)} \\\\\n",
    " \\hline\n",
    "\\end{array}$"
   ]
  },
  {
   "cell_type": "markdown",
   "metadata": {},
   "source": [
    "-----------\n",
    "### Compresor (adiabático)\n",
    "Datos disponibles: $P_5, P_4, x_4, m_4, \\eta_{iso}, \\Delta Ex_{comp}$"
   ]
  },
  {
   "cell_type": "markdown",
   "metadata": {},
   "source": [
    "$\\begin{array}{|ll|l|l|}\n",
    "\\hline\n",
    "  & \\mathrm{Ecuaci \\acute o n} & \\mathrm{ Inc \\acute o gnitas } \\\\\n",
    "\\hline  \n",
    "1) & W_c = - \\Delta H_{45} & W_c, \\Delta H_{45} & (1),(2) \\\\\n",
    "2) & \\Delta H_{45} = m (h_5 - h_4) & h_5, h_4 & (6),(3) \\\\\n",
    "3) & h_4 = x_4 (h''_4 - h'_4 ) + h'_4 & h'_4 , h''_4 & (4),(5) \\\\\n",
    "4) & h'_4 = f(P_4) \\; \\mbox{líquido saturado (de tabla) } & & \\\\\n",
    "5) & h''_4 = f(P_4) \\; \\mathrm{vapor \\; saturado \\; (de \\; tabla)} & & \\\\\n",
    "6) & h_5 = f(P_5,s_5) \\; \\mbox{de tabla} & s_5 & (7) \\\\\n",
    "7) & \\Delta S_{45} = m (s_5 - s_4) & \\Delta S_{45}, s_4 & (11),(8) \\\\\n",
    "8) & s_4 = x_4 (s''_4 - s'_4) + s'_4 & s'_4, s''_4 & (9),(10) \\\\\n",
    "9) & s'_4 = f(P_4) \\; \\mbox{líquido saturado (de tabla)} & & \\\\\n",
    "10) & s''_4 = f(P_4) \\; \\mbox{vapor saturado (de tabla)} & & \\\\\n",
    "11) & \\Delta S_{Ucomp} = \\Delta S_{45} \\; \\mathrm{por adiabático} & \\Delta S_{Ucomp} & (12) \\\\\n",
    "12) & \\Delta Ex_{comp} = - T_0 \\Delta S_{Ucomp} & & \\\\\n",
    "\\hline\n",
    "\\end{array}$\n",
    "\n",
    "__12 ecuaciones - 12 incógnitas $\\rightarrow$ tiene solución__"
   ]
  },
  {
   "cell_type": "markdown",
   "metadata": {},
   "source": [
    "Para los ítems 4 y 5 necesito $\\Delta S_{45}$ y $\\Delta Ex_{45}$\n",
    "\n",
    "$\\begin{array}{ll}\n",
    "\\Delta Ex_{45} = \\Delta H_{45} - T_0 \\Delta S_{45} & \\rightarrow \\mathrm{producida} \\\\\n",
    "\\Delta S_{45} & (+) \\; \\mathrm{por \\; adiab \\acute a tico}\n",
    "\\end{array}$"
   ]
  },
  {
   "cell_type": "markdown",
   "metadata": {},
   "source": [
    "$\\begin{array}{|lr|}\n",
    "\\hline\n",
    "\\Delta S_{45}  & (+) \\\\\n",
    "\\Delta Ex_{45} & \\rightarrow (P) \\\\\n",
    "\\hline\n",
    "\\end{array}$"
   ]
  },
  {
   "cell_type": "markdown",
   "metadata": {},
   "source": [
    "### <font color='blue'>Utilizando $\\eta_{iso}$  </font>"
   ]
  },
  {
   "cell_type": "markdown",
   "metadata": {},
   "source": [
    "$\\begin{array}{|ll|l|l|}\n",
    "\\hline\n",
    "  & \\mathrm{Ecuaci \\acute on} & \\mathrm{Inc \\acute ognita} \\\\\n",
    "\\hline  \n",
    "1) & W_c = - \\Delta H_{45} & W_c, \\Delta H_{45} & (1),(2) \\\\\n",
    "2) & \\Delta h_{45} = m (h_5 - h_4) & h_5, h_4 & (6),(3) \\\\\n",
    "3) & h_4 = x_4 (h''_4 - h'_4) + h'_4 & h'_4,h''_4 & (4),(5) \\\\\n",
    "4) & h'_4 = f(P_4) \\; \\mbox{líquido saturado (de tabla)} & & \\\\\n",
    "5) & h''_4 = f(P_4) \\; \\mbox{vapor saturado (de tabla)} & & \\\\\n",
    "6) & \\displaystyle \\eta_{iso} = \\frac{h_{5id} - h_4}{h_5 - h_4} & h_{5id} & (7) \\\\\n",
    "7) & h_{5id} = f(p_5,s_{5id}) \\; \\mbox{(de tabla)} & s_{5id} & (8) \\\\\n",
    "8) & s_{5id} = s_4 \\; \\mbox{(por reversible y adiabático)} & s_4 & (9) \\\\\n",
    "9) & s_4 = x_4 (s''_4 - s'_4) + s'_4 & s'_4, s''_4 & (10),(11) \\\\\n",
    "10) & s'_4 = f(P_4) \\; \\mbox{líquido saturado (de tabla)} & & \\\\\n",
    "11) & s'_4 = f(P_4) \\; \\mbox{vapor saturado} & & \\\\\n",
    "12) & \\Delta S_{45} = m (s_5 - s_4) \\; (+) \\; \\mbox{(por adiabático)} & \\Delta S_{45}, s_5 & (12),(13) \\\\\n",
    "13) & s_5 = f(P_5,h_5) & & \\\\\n",
    "\\hline\n",
    "\\end{array}\n",
    "$"
   ]
  },
  {
   "cell_type": "markdown",
   "metadata": {},
   "source": [
    "Para el ítem 2 necesito $h_5 \\rightarrow$ me llevo $h_5$     \n",
    "Para los ítems 4 y 5 necesito $\\Delta S_{45}$ y $\\Delta Ex_{45}$"
   ]
  },
  {
   "cell_type": "markdown",
   "metadata": {},
   "source": [
    "$$ \\Delta Ex_{45} = \\Delta H_{45} - T_0 \\Delta S_{45} \\rightarrow \\mbox{producida} $$"
   ]
  },
  {
   "cell_type": "markdown",
   "metadata": {},
   "source": [
    "$\\begin{array}{|lr|}\n",
    "\\hline\n",
    "\\Delta S_{45}  & (+) \\\\\n",
    "\\Delta Ex_{45} & \\rightarrow (P) \\\\\n",
    "\\hline\n",
    "\\end{array}$"
   ]
  },
  {
   "cell_type": "markdown",
   "metadata": {},
   "source": [
    "### <font color='blue'> Trabajos - calores </font>"
   ]
  },
  {
   "cell_type": "markdown",
   "metadata": {},
   "source": [
    "$\\begin{array}{ll}\n",
    "W_{MT} = 10\\% W_{MT} + W_c + W_{pal} & \\Rightarrow W_{MT} \\\\\n",
    "Q_{perd} = 10 \\% W_{MT} & \\Rightarrow Q_{perd}\n",
    "\\end{array}\n",
    "$"
   ]
  },
  {
   "cell_type": "markdown",
   "metadata": {},
   "source": [
    "$$ Q_{uq} = Q_p - T_0 \\frac{Q_p}{T_0} $$"
   ]
  },
  {
   "cell_type": "markdown",
   "metadata": {},
   "source": [
    "$$ \\Delta S_{medio} = \\frac{Q_p}{T_0} \\quad (+) $$"
   ]
  },
  {
   "cell_type": "markdown",
   "metadata": {},
   "source": [
    "### <font color='blue'> Máquina térmica (funciona hasta pararse) </font>\n",
    "Datos disponibles: $cp_1, T_{1i}, T_2, W_{MT}, \\eta_{term} = 0,8 \\, \\eta_{term,id}$"
   ]
  },
  {
   "cell_type": "markdown",
   "metadata": {},
   "source": [
    "$\\begin{array}{|ll|l|l|}\n",
    "\\hline\n",
    "   & \\mathrm{Ecuaci \\acute on} & \\mathrm{Inc \\acute ognitas} \\\\\n",
    "\\hline   \n",
    "1) & Q_1 = m_1 cp_1 (T_2 - T_{1i})& Q_1, m_1 & (2),(1) \\\\\n",
    "2) & \\displaystyle \\eta_{term} = \\frac{W_{MT}}{Q_1} & \\eta_{term} & (3) \\\\\n",
    "3) & \\eta_{term} = 0,8 \\, \\eta_{term,id} & \\eta_{term,id} & (4) \\\\\n",
    "4) & \\displaystyle \\eta_{term,id} = \\frac{W_{MT}}{Q_{1id}} & Q_{1id} & (5) \\\\\n",
    "5) & Q_{1id} = m_{1id} cp_1 (T_2 - T_{1i}) & m_{1id} & (6) \\\\\n",
    "6) & \\Delta S_{1id} = m_{1id} cp_1 \\ln (T_2/T_{1i}) & \\Delta S_{1id} & (7) \\\\\n",
    "7) & \\Delta S_{uid} = \\Delta S_{1id} + \\Delta S_{2id} & \\Delta S_{uid}, \\Delta S_{2id} & (8),(9) \\\\\n",
    "8) & \\Delta S_{uid} = 0 \\; \\mbox{(por reversibles)} & & \\\\\n",
    "9) & \\displaystyle \\Delta S_{2id} = \\frac{Q_{2id}}{T_2} & Q_{2id} & (10) \\\\\n",
    "10) & W_{MT} = Q_{1id} + Q_{2id} & &  \\\\\n",
    "\\hline\n",
    "11) & \\Delta S_1 = m_1 cp_1 \\ln (T_2/T_{1i}) \\quad (-) & \\Delta S_1 & (11) \\\\\n",
    "12) & \\Delta S_2 = Q_2 / T_2 \\quad (+) & \\Delta S_2, Q_2 & (12),(13) \\\\\n",
    "13) & W_{MT} = Q_1 + Q_2 & & \\\\\n",
    "14) & Q_{U1} = Q_1 - T_0 \\Delta S_1 & Q_{U1} & (14) \\\\\n",
    "15) & Q_{U2} = Q_2 - T_0 \\Delta S_2 \\; \\mbox{(producido)} & Q_{U2} & (15) \\\\\n",
    "16) & W_{perd} = T_0 \\Delta S_{uMT} \\; \\mbox{ (punto 3) } \\Rightarrow & W_{perd}, \\Delta S_{uMT} & (16),(17) \\\\\n",
    "17) & \\Delta S_{uMT} = \\Delta S_1 + \\Delta S_2 & & \\\\\n",
    "\\hline\n",
    "\\end{array}$"
   ]
  },
  {
   "cell_type": "markdown",
   "metadata": {},
   "source": [
    "### <font color = 'blue'> Análisis de $Q_{U1}$ </font>"
   ]
  },
  {
   "cell_type": "markdown",
   "metadata": {},
   "source": [
    "$ \\downarrow T_1 (t) \\quad \n",
    "\\begin{array}{ll}\n",
    "------- \\downarrow & T_{1i} = 40^\\circ \\mathrm{C} \\\\\n",
    "\\updownarrow \\Delta T = 20^\\circ \\mathrm{C} --- & T_f = 30^\\circ \\mathrm{C} \\\\\n",
    "--------  & T_0 = 20^\\circ \\mathrm{C} \\\\\n",
    "\\updownarrow \\Delta T = 20^\\circ \\mathrm{C} & \\updownarrow \\\\\n",
    "-------  & T = 0^\\circ \\mathrm{C}\n",
    "\\end{array}$"
   ]
  },
  {
   "cell_type": "markdown",
   "metadata": {},
   "source": [
    "$\\begin{array}{ll}\n",
    "\\mbox{Si} \\; T_{f} < 0^\\circ \\mathrm{C} & \\Rightarrow Q_{U1} \\rightarrow \\mbox{producido} \\\\\n",
    "\\mbox{Si} \\; T_{f} > 0^\\circ \\mathrm{C} & \\Rightarrow Q_{U1} \\rightarrow \\mbox{consumido}\n",
    "\\end{array}$"
   ]
  },
  {
   "cell_type": "markdown",
   "metadata": {},
   "source": [
    "$\\begin{array}{ll}\n",
    "\\mbox{Como} \\; T_{f} = 30^\\circ \\mathrm{C} & \\Rightarrow Q_{U1} \\rightarrow \\mbox{consumido}\n",
    "\\end{array}$"
   ]
  },
  {
   "cell_type": "markdown",
   "metadata": {},
   "source": [
    "Para 4 y 5 me llevo $\\rightarrow \\;$ \n",
    "$\\begin{array}{|ll|}\n",
    "\\hline\n",
    "\\Delta S_1 \\; (-) & Q_{U1} \\rightarrow (C) \\\\\n",
    "\\Delta S_2 \\; (+) & Q_{U2} \\rightarrow (P) \\\\\n",
    "\\hline\n",
    "\\end{array}$"
   ]
  },
  {
   "cell_type": "markdown",
   "metadata": {},
   "source": [
    "### <font color = 'blue'> Ahora resolvemos los puntos </font>"
   ]
  },
  {
   "cell_type": "markdown",
   "metadata": {},
   "source": [
    "$\\left.\n",
    "\\begin{array}{l}\n",
    "1) \\\\\n",
    "3)\n",
    "\\end{array}\n",
    "\\right\\} \\; \\mbox{ya se resolvieron}$"
   ]
  },
  {
   "cell_type": "markdown",
   "metadata": {},
   "source": [
    "$2) \\; \\mbox{Estado general del vapor}$\n",
    "\n",
    "$\\begin{array}{lclc}\n",
    "\\mbox{Si} & h_5 = h'_5 & \\Rightarrow \\mbox{Liquido saturado} & \\mathrm{I} \\\\\n",
    "\\mbox{Si} & h_5 = h''_5 & \\Rightarrow \\mbox{Vapor saturado} & \\mathrm{II} \\\\\n",
    "\\mbox{Si} & h'_5<h_5<h''_5 & \\Rightarrow \\mbox{Vapor húmedo} & \\mathrm{III} \\\\\n",
    "          & \\displaystyle x_5 = \\frac{h_5 - h'_5}{h''_5 - h'_5} \\\\\n",
    "\\mbox{Si} & h_5 > h''_5 & \\Rightarrow \\mbox{vapor sobrecalentado} & \\mathrm{IV}\n",
    "\\end{array}$"
   ]
  },
  {
   "cell_type": "markdown",
   "metadata": {},
   "source": [
    "$4)$\n",
    "$$ \\Delta S_{u} = \\underbrace{ \\Delta S_{gas} }_{(+)} + \\underbrace{ \\Delta S_{45} }_{(+)} + \\underbrace{ \\frac{Q_p}{T_0} }_{(+)} +  \\underbrace{ \\Delta S_1 }_{(-)} + \\underbrace{ \\Delta S_2 }_{(+)} > 0 $$"
   ]
  },
  {
   "cell_type": "markdown",
   "metadata": {},
   "source": [
    "$5)$\n",
    "\n",
    "$$ \\eta_{ex} = \\frac{ \\mbox{Ex. producida} }{ \\mbox{Ex. consumida} } = \\frac{ \\Delta Ex_{gas} (P) + \\Delta Ex_{45} + Q_{U2} }{ \\Delta Ex_{gas} (C) + Q_{U1} } $$"
   ]
  },
  {
   "cell_type": "markdown",
   "metadata": {},
   "source": [
    "$6)$\n",
    "Si $Q_p$ se almacena en una fuente a $T_f$ y de allí se quiere obtener $W$ ¿Cuál es el $W_{m \\acute ax}$ a obener?"
   ]
  },
  {
   "cell_type": "markdown",
   "metadata": {},
   "source": [
    "Rta: el $W_{m \\acute a x}$ a obtener es el $W_{ideal}$, por lo tanto\n",
    "\n",
    "$\\begin{array}{ll|l}\n",
    "1) & W_{m \\acute a x} = \\eta_{term,id} \\, Q_p & W_{m \\acute a x}, \\eta_{term,id} \\\\\n",
    "2) & \\displaystyle \\eta_{term,id} = 1 - \\frac{T_0}{t_f}\n",
    "\\end{array}$"
   ]
  },
  {
   "cell_type": "markdown",
   "metadata": {},
   "source": [
    "$\\acute o$\n",
    "\n",
    "$\\begin{array}{ll}\n",
    "1) & W_{m \\acute a x} = Q_p - T_0 \\Delta S_f = Q_{uqp} \\\\\n",
    "2) & \\displaystyle \\Delta S_f = \\frac{Q_p}{T_f}\n",
    "\\end{array}$"
   ]
  }
 ],
 "metadata": {
  "hide_input": false,
  "kernelspec": {
   "display_name": "Python 3",
   "language": "python",
   "name": "python3"
  },
  "language_info": {
   "codemirror_mode": {
    "name": "ipython",
    "version": 3
   },
   "file_extension": ".py",
   "mimetype": "text/x-python",
   "name": "python",
   "nbconvert_exporter": "python",
   "pygments_lexer": "ipython3",
   "version": "3.7.3"
  },
  "toc": {
   "base_numbering": 1,
   "nav_menu": {},
   "number_sections": true,
   "sideBar": true,
   "skip_h1_title": false,
   "title_cell": "Table of Contents",
   "title_sidebar": "Contents",
   "toc_cell": false,
   "toc_position": {},
   "toc_section_display": true,
   "toc_window_display": false
  },
  "varInspector": {
   "cols": {
    "lenName": 16,
    "lenType": 16,
    "lenVar": 40
   },
   "kernels_config": {
    "python": {
     "delete_cmd_postfix": "",
     "delete_cmd_prefix": "del ",
     "library": "var_list.py",
     "varRefreshCmd": "print(var_dic_list())"
    },
    "r": {
     "delete_cmd_postfix": ") ",
     "delete_cmd_prefix": "rm(",
     "library": "var_list.r",
     "varRefreshCmd": "cat(var_dic_list()) "
    }
   },
   "types_to_exclude": [
    "module",
    "function",
    "builtin_function_or_method",
    "instance",
    "_Feature"
   ],
   "window_display": false
  }
 },
 "nbformat": 4,
 "nbformat_minor": 2
}
