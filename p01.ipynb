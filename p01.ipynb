{
 "cells": [
  {
   "cell_type": "markdown",
   "metadata": {},
   "source": [
    "# Clase práctica 1 - Termodinámica\n",
    "__UNLZ - FI -- Fecha: 08/04/2019 -- Jupyter Notebook + Python 3__\n",
    "   \n",
    "__Alumno: Lorenzo, Daniel Antonio__"
   ]
  },
  {
   "cell_type": "markdown",
   "metadata": {},
   "source": [
    "## Ejercicio 1\n",
    "\n",
    "Indicar cuales de las siguientes magnitudes son intensivas, y cuales extensivas:\n",
    "\n",
    "\n",
    "|  Item                      |Propiedad                      \n",
    "|:-----------------------|:---------------------\n",
    "|a) Longitud de un alambre  |     a) EXTENSIVA \n",
    "|b) Capacidad calorífica    |     b) EXTENSIVA    \n",
    "|c) Densidad                |     c) INTENSIVA           \n",
    "|d) Peso de un cuerpo       |     d) EXTENSIVA        \n",
    "|e) Indice de refracción    |     e) INTENSIVA           \n",
    "|f)  Calor específico        |     f) INTENSIVA           \n",
    "|g) Carga eléctrica          |     g) EXTENSIVA           \n",
    "|h) Tensión eléctrica      |       h) INTENSIVA        \n"
   ]
  },
  {
   "cell_type": "markdown",
   "metadata": {},
   "source": [
    "## Ejercicio 2\n",
    "\n",
    "Se calienta agua en un recipiente abierto y luego de un intervalo de tiempo comienza a\n",
    "hervir. La descripción de dicho proceso para el mencionado intervalo es:\n",
    "\n",
    "1. ¿Transformación isotérmica?\n",
    "2. ¿Transformación isocórica?\n",
    "3. ¿Transformación isobárica?     $ \\Leftarrow $\n",
    "\n",
    "Rta: 3) Es una transformación isobárica porque se trata de un recipiente abierto."
   ]
  },
  {
   "cell_type": "markdown",
   "metadata": {},
   "source": [
    "## Ejercicio 3\n",
    "\n",
    "Un recipiente contiene gas, la presión absoluta es de 0,04 MPa. Si la presión almosférica\n",
    "es de 1015 hPa, determinar la presión relativa.\n",
    "\n",
    "### Solución:\n",
    "\n",
    "Presión absoluta, convertimos a kPa"
   ]
  },
  {
   "cell_type": "code",
   "execution_count": 1,
   "metadata": {},
   "outputs": [
    {
     "name": "stdout",
     "output_type": "stream",
     "text": [
      "Pabs = 40.0 kPa\n"
     ]
    }
   ],
   "source": [
    "# 1 MPa________1000 kPa\n",
    "# 0.04 MPa_____ x  kPa\n",
    "\n",
    "Pabs = 0.04*1000 # kPa\n",
    "print('Pabs =',Pabs,'kPa')"
   ]
  },
  {
   "cell_type": "markdown",
   "metadata": {},
   "source": [
    "Presión atmosférica, convertimos a kPa"
   ]
  },
  {
   "cell_type": "code",
   "execution_count": 2,
   "metadata": {},
   "outputs": [
    {
     "name": "stdout",
     "output_type": "stream",
     "text": [
      "Patm = 101.5 kPa\n"
     ]
    }
   ],
   "source": [
    "# 10 hPa _______ 1 kPa\n",
    "# 1015 hPa _____ x kPa\n",
    "\n",
    "Patm = 1015/10 # kPa\n",
    "print('Patm =',Patm,'kPa')"
   ]
  },
  {
   "cell_type": "markdown",
   "metadata": {},
   "source": [
    "$$ P_{abs} = P_{atm} + P_{rel} $$\n",
    "\n",
    "$$ \\Rightarrow P_{rel} = P_{abs} - P_{atm}  $$"
   ]
  },
  {
   "cell_type": "code",
   "execution_count": 3,
   "metadata": {},
   "outputs": [
    {
     "name": "stdout",
     "output_type": "stream",
     "text": [
      "Prel = -61.5 kPa\n"
     ]
    }
   ],
   "source": [
    "Prel = Pabs - Patm # kPa\n",
    "print('Prel =',Prel,'kPa')"
   ]
  },
  {
   "cell_type": "code",
   "execution_count": 4,
   "metadata": {},
   "outputs": [],
   "source": [
    "%reset -f"
   ]
  },
  {
   "cell_type": "markdown",
   "metadata": {},
   "source": [
    "## Ejercicio 4\n",
    "\n",
    "Un recipiente de Vol = 9000 lts contiene aire. Para una\n",
    "lectura barométrica de 1018 hPa, existe una depresión de\n",
    "600 mmHg y una temperatura de 17°C. Calcular la masa del\n",
    "aire.\n",
    "\n",
    "### Solución\n",
    "\n",
    "                     V = 9 m³ ________________________ Po = 101,8 kPa\n",
    "                                              |\n",
    "                                            ( - )  600 mmHg = 79,98 kPa\n",
    "$P_{abs} = P_{atm} + P_{rel}$\n",
    "\n",
    "                                       \n",
    "$PV = mRT$                  \n",
    " \n",
    "$$ m = \\frac{P_{abs} V}{R T}  $$\n",
    "$R = 0,287 kJ/(Kg \\cdot K) \\quad ; \\quad T = 290 K$"
   ]
  },
  {
   "cell_type": "code",
   "execution_count": 5,
   "metadata": {},
   "outputs": [
    {
     "name": "stdout",
     "output_type": "stream",
     "text": [
      "Prel = 79.998 kPa\n"
     ]
    }
   ],
   "source": [
    "# Convertimos de mmHg a kPa\n",
    "Prel = 600*0.13333 # kPa\n",
    "print('Prel =',Prel,'kPa')"
   ]
  },
  {
   "cell_type": "code",
   "execution_count": 6,
   "metadata": {},
   "outputs": [],
   "source": [
    "Patm = 101.8  # kPa\n",
    "V = 9   # m^3\n",
    "R = 0.287 # kJ/(Kg*K)\n",
    "T = 273+17 # K"
   ]
  },
  {
   "cell_type": "code",
   "execution_count": 8,
   "metadata": {},
   "outputs": [
    {
     "name": "stdout",
     "output_type": "stream",
     "text": [
      "Pabs = 21.802 kPa\n"
     ]
    }
   ],
   "source": [
    "Pabs = Patm + (-Prel) # (kPa)\n",
    "print('Pabs =',round(Pabs,3),'kPa')"
   ]
  },
  {
   "cell_type": "code",
   "execution_count": 11,
   "metadata": {},
   "outputs": [
    {
     "name": "stdout",
     "output_type": "stream",
     "text": [
      "m = 2.3575 kg\n"
     ]
    }
   ],
   "source": [
    "# masa del aire\n",
    "m = (Pabs*V)/(R*T) # (Kg)\n",
    "print('m =',round(m,4),'kg')"
   ]
  },
  {
   "cell_type": "markdown",
   "metadata": {},
   "source": [
    "Se necesitan aprox. 2,36 Kg de aire."
   ]
  },
  {
   "cell_type": "code",
   "execution_count": 12,
   "metadata": {},
   "outputs": [],
   "source": [
    "%reset -f"
   ]
  },
  {
   "cell_type": "markdown",
   "metadata": {},
   "source": [
    "## Ejercicio 5\n",
    "\n",
    "Qué cantidad de calor será necesaria para producir un trabajo de 0,25 kWh, sabiendo que si se pierde un 10% al\n",
    "medir.\n",
    "\n",
    "### Solución\n",
    "Convertimos     $1kW = 1kJ/s  \\Rightarrow $\n",
    "$$ 0,25 \\frac{kJ}{s} \\cdot 1 h \\cdot \\frac{3600s}{1h} $$"
   ]
  },
  {
   "cell_type": "code",
   "execution_count": 13,
   "metadata": {},
   "outputs": [
    {
     "name": "stdout",
     "output_type": "stream",
     "text": [
      "W = 900.0 kJ\n"
     ]
    }
   ],
   "source": [
    "W = 0.25*1*3600 # kJ\n",
    "print('W =',W,'kJ')"
   ]
  },
  {
   "cell_type": "markdown",
   "metadata": {},
   "source": [
    "`90%   __________ 900 kJ` \n",
    "\n",
    "`100% __________ x`"
   ]
  },
  {
   "cell_type": "code",
   "execution_count": 14,
   "metadata": {},
   "outputs": [
    {
     "name": "stdout",
     "output_type": "stream",
     "text": [
      "Q = 1000.0 kJ\n"
     ]
    }
   ],
   "source": [
    "# calor en kJ\n",
    "Q = W*100/(100-10) # kJ\n",
    "print('Q =',Q,'kJ')"
   ]
  },
  {
   "cell_type": "markdown",
   "metadata": {},
   "source": [
    "`1kJ __________ 0,2389 kcal`\n",
    "\n",
    "`1000 kJ ______ x`"
   ]
  },
  {
   "cell_type": "code",
   "execution_count": 15,
   "metadata": {},
   "outputs": [
    {
     "name": "stdout",
     "output_type": "stream",
     "text": [
      "Qcal = 238.9 kcal\n"
     ]
    }
   ],
   "source": [
    "# calor en kcal\n",
    "Qcal = Q*0.2389/1 # kcal\n",
    "print('Qcal =',Qcal,'kcal')"
   ]
  },
  {
   "cell_type": "code",
   "execution_count": 16,
   "metadata": {},
   "outputs": [],
   "source": [
    "%reset -f"
   ]
  },
  {
   "cell_type": "markdown",
   "metadata": {},
   "source": [
    "## Ejercicio 6\n",
    "Un turbogenerador consume 1500 Kg/h de vapor y desarrolla una potencia de 300 kW. Determinar el trabajo por\n",
    "Kg de vapor.\n",
    "\n",
    "### Solución:\n",
    "\n",
    "$ \\ddot{m} = 1500 (Kg/h) \\cdot (1h) / (3600s)$\n",
    "\n",
    "$ \\ddot{W} = 300 kW $"
   ]
  },
  {
   "cell_type": "code",
   "execution_count": 18,
   "metadata": {},
   "outputs": [
    {
     "name": "stdout",
     "output_type": "stream",
     "text": [
      "m = 0.4167 kg/s\n"
     ]
    }
   ],
   "source": [
    "m = 1500*1/3600 # kg/s\n",
    "W = 300 # kW\n",
    "print('m =',round(m,4),'kg/s')"
   ]
  },
  {
   "cell_type": "markdown",
   "metadata": {},
   "source": [
    "$$ w = \\frac{J}{Kg} = \\frac{W}{m} = \\frac{kJ}{Kg/s} = \\frac{kJ}{Kg}  $$"
   ]
  },
  {
   "cell_type": "code",
   "execution_count": 19,
   "metadata": {},
   "outputs": [
    {
     "name": "stdout",
     "output_type": "stream",
     "text": [
      "w = 720.0 kJ/kg\n"
     ]
    }
   ],
   "source": [
    "w = W/m # kJ/kg\n",
    "print('w =',w,'kJ/kg')"
   ]
  },
  {
   "cell_type": "markdown",
   "metadata": {},
   "source": [
    "Se desarrollan 720 kJ/Kg"
   ]
  },
  {
   "cell_type": "code",
   "execution_count": 20,
   "metadata": {},
   "outputs": [],
   "source": [
    "%reset -f"
   ]
  },
  {
   "cell_type": "markdown",
   "metadata": {},
   "source": [
    "## Ejercicio 7\n",
    "Que trabajo se podría realizar mediante el calor producido por la combustión de 1000 Kg de carbón que\n",
    "producen 9000 kcal suponiendo que ha sido aprovechado totalmente.\n",
    "### Solución\n",
    "`1 kJ ________________ 0.2389 kcal`\n",
    "\n",
    "`   x ________________ 9000 kcal`"
   ]
  },
  {
   "cell_type": "code",
   "execution_count": 22,
   "metadata": {},
   "outputs": [
    {
     "name": "stdout",
     "output_type": "stream",
     "text": [
      "W = 37672.67 kJ\n"
     ]
    }
   ],
   "source": [
    "W = 9000*1/0.2389 # kJ\n",
    "print('W =',round(W,2),'kJ')"
   ]
  },
  {
   "cell_type": "code",
   "execution_count": 23,
   "metadata": {},
   "outputs": [],
   "source": [
    "%reset -f"
   ]
  },
  {
   "cell_type": "markdown",
   "metadata": {},
   "source": [
    "## Ejercicio 8\n",
    "La caldera de una planta de producción de vapor consume 4 toneladas de combustible por hora para alimentar\n",
    "una turbina 410 kW. Si la capacidad calorífica del combustible es de 716 kcal/Kg, determinar el rendimiento\n",
    "térmico.\n",
    "$$ \\mathrm{ \\eta = \\frac{Entregado}{Absorbido} } \\qquad \\qquad (\\mathrm{\\eta = Rendimiento}) $$\n",
    "![08.png](08.png)"
   ]
  },
  {
   "cell_type": "markdown",
   "metadata": {},
   "source": [
    "### Solución:\n",
    "Convertimos a kJ:\n",
    "\n",
    "`0.2389 kcal  ________________ 1 kJ`\n",
    "\n",
    "`716 kcal  __________________  x`"
   ]
  },
  {
   "cell_type": "code",
   "execution_count": 25,
   "metadata": {},
   "outputs": [
    {
     "name": "stdout",
     "output_type": "stream",
     "text": [
      "CCComb = 2997.07 kJ\n"
     ]
    }
   ],
   "source": [
    "CCComb=716*1/0.2389 # (capacidad calorífica del combustible)\n",
    "print('CCComb =',round(CCComb,2),'kJ')"
   ]
  },
  {
   "cell_type": "markdown",
   "metadata": {},
   "source": [
    "Kg de combustible por segundo:\n",
    "\n",
    "(4 Ton/h)*(1000 Kg/Ton)*(1h/3600s)"
   ]
  },
  {
   "cell_type": "code",
   "execution_count": 27,
   "metadata": {},
   "outputs": [
    {
     "name": "stdout",
     "output_type": "stream",
     "text": [
      "Flujo = 1.111 kg/s\n"
     ]
    }
   ],
   "source": [
    "Flujo = 4*1000*1/3600 # Kg/s\n",
    "print('Flujo =',round(Flujo,3),'kg/s')"
   ]
  },
  {
   "cell_type": "code",
   "execution_count": 29,
   "metadata": {},
   "outputs": [
    {
     "name": "stdout",
     "output_type": "stream",
     "text": [
      "n = 0.1231\n"
     ]
    }
   ],
   "source": [
    "Potencia = 410 # kW\n",
    "n = Potencia/(CCComb*Flujo) # Rendimiento\n",
    "print('n =',round(n,4))"
   ]
  },
  {
   "cell_type": "code",
   "execution_count": 31,
   "metadata": {},
   "outputs": [
    {
     "name": "stdout",
     "output_type": "stream",
     "text": [
      "np = 12.31 %\n"
     ]
    }
   ],
   "source": [
    "np = n*100 # Rendimiento en porcentaje\n",
    "print('np =',round(np,2),'%')"
   ]
  },
  {
   "cell_type": "code",
   "execution_count": null,
   "metadata": {},
   "outputs": [],
   "source": [
    "%reset -f"
   ]
  }
 ],
 "metadata": {
  "kernelspec": {
   "display_name": "Python 3",
   "language": "python",
   "name": "python3"
  },
  "language_info": {
   "codemirror_mode": {
    "name": "ipython",
    "version": 3
   },
   "file_extension": ".py",
   "mimetype": "text/x-python",
   "name": "python",
   "nbconvert_exporter": "python",
   "pygments_lexer": "ipython3",
   "version": "3.7.1"
  }
 },
 "nbformat": 4,
 "nbformat_minor": 2
}
