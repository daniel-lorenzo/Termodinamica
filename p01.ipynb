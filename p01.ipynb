{
 "cells": [
  {
   "cell_type": "raw",
   "metadata": {},
   "source": [
    "<script>\n",
    "  function code_toggle() {\n",
    "    if (code_shown){\n",
    "      $('div.input').hide('500');\n",
    "      $('#toggleButton').val('Show Code')\n",
    "    } else {\n",
    "      $('div.input').show('500');\n",
    "      $('#toggleButton').val('Hide Code')\n",
    "    }\n",
    "    code_shown = !code_shown\n",
    "  }\n",
    "\n",
    "  $( document ).ready(function(){\n",
    "    code_shown=true;\n",
    "    $('div.input').show()\n",
    "  });\n",
    "</script>\n",
    "<form action=\"javascript:code_toggle()\"><input type=\"submit\" id=\"toggleButton\" value=\"Hide Code\"></form>"
   ]
  },
  {
   "cell_type": "markdown",
   "metadata": {},
   "source": [
    "# Clase práctica 1 - Termodinámica\n",
    "__UNLZ - FI -- Jupyter Notebook + Python 3__\n",
    "   \n",
    "__Alumno: Lorenzo, Daniel Antonio__  \n",
    "\n",
    "<a href=\"https://github.com/daniel-lorenzo/Termodinamica/blob/master/Readme.md\">Index</a> - \n",
    "<a href=\"https://nbviewer.jupyter.org/github/daniel-lorenzo/Termodinamica/blob/master/p02.ipynb\">Next --></a>"
   ]
  },
  {
   "cell_type": "markdown",
   "metadata": {},
   "source": [
    "## Ejercicio 1\n",
    "\n",
    "Indicar cuales de las siguientes magnitudes son intensivas, y cuales extensivas:\n",
    "\n",
    "\n",
    "|  Item                      |Propiedad                      \n",
    "|:-----------------------|:---------------------\n",
    "|a) Longitud de un alambre  |     a) EXTENSIVA \n",
    "|b) Capacidad calorífica    |     b) EXTENSIVA    \n",
    "|c) Densidad                |     c) INTENSIVA           \n",
    "|d) Peso de un cuerpo       |     d) EXTENSIVA        \n",
    "|e) Indice de refracción    |     e) INTENSIVA           \n",
    "|f)  Calor específico        |     f) INTENSIVA           \n",
    "|g) Carga eléctrica          |     g) EXTENSIVA           \n",
    "|h) Tensión eléctrica      |       h) INTENSIVA        "
   ]
  },
  {
   "cell_type": "markdown",
   "metadata": {},
   "source": [
    "## Ejercicio 1.1\n",
    "Un recipiente $R_1$ (hermético) se encuentra dentro de otro $R_2$ (hermético). El manómetro A indica 5 bar y el B, 3 bar, siendo la presión atmosférica 1,01 bar.\n",
    "\n",
    "__Determinar:__\n",
    "1. la presión absoluta en $R_2$\n",
    "2. la presión absoluta en $R_1$\n",
    "\n",
    "![1.1.png](img/1.1.png)"
   ]
  },
  {
   "cell_type": "markdown",
   "metadata": {},
   "source": [
    "### Solución\n",
    "$$\\begin{array}{l}\n",
    "P_{abs} = P_{atm} + P_{rel} \\\\\n",
    "1 \\, \\mathrm{bar} = 100 \\, \\mathrm{kPa}\n",
    "\\end{array}\n",
    "$$"
   ]
  },
  {
   "cell_type": "markdown",
   "metadata": {},
   "source": [
    "1. Presión absoluta en $R_2$\n",
    "$$P_{abs,R2} = P_{atm} + P_{rel,R2}$$\n",
    "\n",
    "$$P_{abs,R2} = \\mathrm{ (1,01 \\, bar) (3 \\, bar) = 4,01 \\, bar} $$\n",
    "\n",
    "$$\\Rightarrow \\, P_{abs,R2} = 401 \\, \\mathrm{kPa} $$"
   ]
  },
  {
   "cell_type": "markdown",
   "metadata": {},
   "source": [
    "2. Presión absoluta en $R_1$\n",
    "$$P_{abs,R1} = P_{atm} + P_{rel,R1}$$\n",
    "\n",
    "$$P_{abs,R2} = \\mathrm{ (1,01 \\, bar) (5 \\, bar) = 6,01 \\, bar} $$\n",
    "\n",
    "$$\\Rightarrow \\, P_{abs,R2} = 601 \\, \\mathrm{kPa} $$"
   ]
  },
  {
   "cell_type": "markdown",
   "metadata": {},
   "source": [
    "## Ejercicio 2\n",
    "\n",
    "Se calienta agua en un recipiente abierto y luego de un intervalo de tiempo comienza a\n",
    "hervir. La descripción de dicho proceso para el mencionado intervalo es:\n",
    "\n",
    "1. ¿Transformación isotérmica?\n",
    "2. ¿Transformación isocórica?\n",
    "3. ¿Transformación isobárica?     $ \\Leftarrow $\n",
    "\n",
    "Rta: 3) Es una transformación isobárica porque se trata de un recipiente abierto."
   ]
  },
  {
   "cell_type": "markdown",
   "metadata": {},
   "source": [
    "## Ejercicio 2.2\n",
    "Un recipiente de 0,5 m³ contiene aire, inicialmente a 27°C y 5 bar. Por medio de una válvula, está conectado con otro que contiene 2 Kg aire inicial a 32°C y 200 kPa. Se abre la válvula y se deja que todo el sistema esté en equilibrio térmico con el medio que se encuentra a 27°C.\n",
    "\n",
    "__Determinar:__\n",
    "1. Volumen del 2do. recipuente\n",
    "2. Presión final de equilibrio\n",
    "\n",
    "![2.2.png](img/2.2.png)"
   ]
  },
  {
   "cell_type": "markdown",
   "metadata": {},
   "source": [
    "### Solución\n",
    "1. Volumen del 2do. recipiente\n",
    "\n",
    "$$ PV = mRT $$\n",
    "\n",
    "$$ V_2 = \\frac{mRT_2}{P_2} = \\mathrm{ \\frac{(2 \\, kg)(0,287 \\, kJ/kg \\cdot K)(305 \\, K)}{200 \\, kPa} } $$\n",
    "\n",
    "$$ V_2 = 0,87535 \\, \\mathrm{m^3} $$"
   ]
  },
  {
   "cell_type": "markdown",
   "metadata": {},
   "source": [
    "2. Presión final de equilibrio\n",
    "\n",
    "$$ m_1 = \\frac{P_1 V_1}{R T_1} = \\mathrm{ \\frac{(500 \\, kPa)(0,5 \\, m^3)}{(0,287 \\, kJ/kg \\cdot K)(300 \\, K)} = 2,9 \\, kg } $$\n",
    "Luego:\n",
    "$$\\left\\{\n",
    "\\begin{array}{l}\n",
    "\\Delta U = 0 \\\\\n",
    "\\Delta U = m \\, c_v \\, \\Delta T \n",
    "\\end{array}\n",
    "\\right.\n",
    "$$\n",
    "\n",
    "$$ 0 = m_1 \\, c_v \\, (T_f - T_{i1}) + m_2 \\, c_v \\, (T_f - T_{i2}) $$"
   ]
  },
  {
   "cell_type": "markdown",
   "metadata": {},
   "source": [
    "Despejando y reemplazando:\n",
    "$$ T_f = \\frac{T_{i2} \\, m_2 + T_{i1} \\, m_1  }{m_2 + m_1} \\approx 302 \\, \\mathrm{K}$$"
   ]
  },
  {
   "cell_type": "markdown",
   "metadata": {},
   "source": [
    "Luego:\n",
    "$$ P_f V_T = m R T_f $$\n",
    "\n",
    "$$ P_f = \\frac{m_T R T_f}{V_f} = \\frac{(m_1 + m_2) R T_f}{V_T} $$"
   ]
  },
  {
   "cell_type": "markdown",
   "metadata": {},
   "source": [
    "Reemplazando:\n",
    "$$ P_f = 308,8 \\, \\mathrm{kPa} $$"
   ]
  },
  {
   "cell_type": "markdown",
   "metadata": {},
   "source": [
    "## Ejercicio 3\n",
    "\n",
    "Un recipiente contiene gas, la presión absoluta es de 0,04 MPa. Si la presión almosférica\n",
    "es de 1015 hPa, determinar la presión relativa.\n",
    "\n",
    "### Solución:\n",
    "\n",
    "Presión absoluta, convertimos a kPa"
   ]
  },
  {
   "cell_type": "markdown",
   "metadata": {},
   "source": [
    "$$ P_{abs} = 0,04 \\, \\mathrm{MPa} \\cdot \\frac{1000 \\, \\mathrm{kPa} }{ \\mathrm{MPa} } $$"
   ]
  },
  {
   "cell_type": "code",
   "execution_count": 1,
   "metadata": {},
   "outputs": [
    {
     "name": "stdout",
     "output_type": "stream",
     "text": [
      "Pabs = 40.0 kPa\n"
     ]
    }
   ],
   "source": [
    "# Presión absoluta\n",
    "Pabs = 0.04*1000 # kPa\n",
    "\n",
    "print('Pabs = %s kPa'%Pabs)"
   ]
  },
  {
   "cell_type": "markdown",
   "metadata": {},
   "source": [
    "Presión atmosférica, convertimos a kPa"
   ]
  },
  {
   "cell_type": "markdown",
   "metadata": {},
   "source": [
    "$$ P_{atm} = 1015 \\, \\mathrm{hPa} \\cdot \\frac{1 \\, \\mathrm{kPa} }{ 10 \\, \\mathrm{hPa} } $$"
   ]
  },
  {
   "cell_type": "code",
   "execution_count": 2,
   "metadata": {},
   "outputs": [
    {
     "name": "stdout",
     "output_type": "stream",
     "text": [
      "Patm = 101.5 kPa\n"
     ]
    }
   ],
   "source": [
    "# 10 hPa _______ 1 kPa\n",
    "# 1015 hPa _____ x kPa\n",
    "\n",
    "# Presión atmosférica\n",
    "Patm = 1015/10 # kPa\n",
    "\n",
    "print('Patm = %s kPa'%Patm)"
   ]
  },
  {
   "cell_type": "markdown",
   "metadata": {},
   "source": [
    "$$ P_{abs} = P_{atm} + P_{rel} $$\n",
    "\n",
    "$$ \\Rightarrow P_{rel} = P_{abs} - P_{atm}  $$"
   ]
  },
  {
   "cell_type": "code",
   "execution_count": 3,
   "metadata": {},
   "outputs": [
    {
     "name": "stdout",
     "output_type": "stream",
     "text": [
      "Prel = -61.5 kPa\n"
     ]
    }
   ],
   "source": [
    "Prel = Pabs - Patm # kPa\n",
    "\n",
    "print('Prel = %s kPa'%Prel)"
   ]
  },
  {
   "cell_type": "code",
   "execution_count": 4,
   "metadata": {},
   "outputs": [],
   "source": [
    "%reset -s -f"
   ]
  },
  {
   "cell_type": "markdown",
   "metadata": {},
   "source": [
    "## Ejercicio 3.1\n",
    "Un dispositivo cilindro-embolo contiene una masa de $N_2$. El volumen ocupado es 100 litros, la temperatura del gas es la atmosférica, y el embolo de diámetro igual a 0,3 m posee una masa de 25 kg, la presión atmosférica es de 1015 hPa.  \n",
    "__Calcular:__ \n",
    "1. Presión que genera la masa del émbolo\n",
    "2. Presión absoluta\n",
    "3. Masa de $N_2$ que contiene el cilindro\n",
    "\n",
    "![3.1.png](img/3.1.png)"
   ]
  },
  {
   "cell_type": "markdown",
   "metadata": {},
   "source": [
    "### Solución\n",
    "__1. Presión que genera la masa del émbolo__\n",
    "$$\\left\\{\n",
    "\\begin{array}{lcl}\n",
    "P_0 &=& 1015 \\, \\mathrm{hPa} \\\\\n",
    "t_0 &=& 27^\\circ \\mathrm{C} \\\\\n",
    "R_{N_2} &=& 0,2968 \\, \\mathrm{kJ/(kg \\cdot K)}\n",
    "\\end{array}\n",
    "\\right.\n",
    "\\quad ; \\quad \n",
    "\\left\\{\n",
    "\\begin{array}{l}\n",
    "\\displaystyle A = \\pi \\, \\frac{d^2}{4} \\\\\n",
    "\\displaystyle \\mathrm{Presi\\acute{o}n = \\frac{Fuerza}{\\acute{A}rea}}\n",
    "\\end{array}\n",
    "\\right.\n",
    "$$"
   ]
  },
  {
   "cell_type": "markdown",
   "metadata": {},
   "source": [
    "__Área del émbolo:__\n",
    "$$ A = \\pi \\, \\frac{d^2}{4} = \\pi \\, \\frac{(0,3 \\, \\mathrm{m} )^2}{4} \\approx 7,0686 \\times 10^{-2} \\, \\mathrm{m^2} $$"
   ]
  },
  {
   "cell_type": "markdown",
   "metadata": {},
   "source": [
    "__Presión que genera la masa del émbolo:__\n",
    "\n",
    "$$ P_{rel} = \\frac{m g}{A} = \\mathrm{ \\frac{(25 \\, kg)(9,8 \\, m/s^2)}{7,0686 \\times 10^{-2} m^3} = 3466 \\, Pa } $$\n",
    "\n",
    "$$ P_{rel} = 3,466 \\, \\mathrm{kPa} $$"
   ]
  },
  {
   "cell_type": "markdown",
   "metadata": {},
   "source": [
    "__2. Presión absoluta__\n",
    "$$ P_{abs} = P_{rel} + P_{atm} = \\mathrm{ 3,466 \\, kPa + 101,5 \\, kPa } $$\n",
    "\n",
    "$$ P_{abs} \\approx 105 \\, \\mathrm{ kPa } $$"
   ]
  },
  {
   "cell_type": "markdown",
   "metadata": {},
   "source": [
    "__3. Masa de $N_2$ que contiene el cilindro__\n",
    "$$ PV = m RT $$\n",
    "\n",
    "$$ m = \\frac{P_{abs}V}{RT} = \\mathrm{ \\frac{(105 \\, kPa)(0,1 \\, m^3)}{(0,2968 \\, kJ/kg \\cdot K)(300 \\, K)} } $$\n",
    "\n",
    "$$ m = 0,1178 \\, \\mathrm{kg} $$"
   ]
  },
  {
   "cell_type": "code",
   "execution_count": 5,
   "metadata": {},
   "outputs": [],
   "source": [
    "import math"
   ]
  },
  {
   "cell_type": "code",
   "execution_count": 6,
   "metadata": {},
   "outputs": [
    {
     "name": "stdout",
     "output_type": "stream",
     "text": [
      "Resultados:\n",
      "A = 0.070686 m^3\n",
      "Prel = 3.468 kPa\n",
      "Pabs = 104.97 kPa\n",
      "m = 0.1178 kg\n"
     ]
    }
   ],
   "source": [
    "Patm = 101.5 * 1000 # Pa\n",
    "Tatm = 27 + 273.15 # K\n",
    "R = 296.8 # J/(kg·K)\n",
    "d = 0.3 # m^3\n",
    "m = 25 # kg\n",
    "g = 9.806 # m/s^2\n",
    "V = 0.1 # m^3\n",
    "\n",
    "A = math.pi*d**2/4 # área del cilindro\n",
    "Prel = (m*g)/A\n",
    "Pabs = Patm + Prel\n",
    "m = (Pabs * V)/(R*Tatm)\n",
    "\n",
    "print('Resultados:')\n",
    "print('A = %s m^3'%round(A,6))\n",
    "print('Prel = %s kPa'%round(Prel/1000,3))\n",
    "print('Pabs = %s kPa'%round(Pabs/1000,2))\n",
    "print('m = %s kg'%round(m,4))"
   ]
  },
  {
   "cell_type": "code",
   "execution_count": 7,
   "metadata": {},
   "outputs": [],
   "source": [
    "%reset -s -f"
   ]
  },
  {
   "cell_type": "markdown",
   "metadata": {},
   "source": [
    "## Ejercicio 4\n",
    "\n",
    "Un recipiente de Vol = 9000 lts contiene aire. Para una\n",
    "lectura barométrica de 1018 hPa, existe una depresión de\n",
    "600 mmHg y una temperatura de 17°C. Calcular la masa del\n",
    "aire.\n",
    "\n",
    "### Solución\n",
    "\n",
    "    V = 9 m³ _______________________ Po = 101,8 kPa\n",
    "                          |\n",
    "                        ( - )  600 mmHg = 79,98 kPa\n",
    "\n",
    "$P_{abs} = P_{atm} + P_{rel}$\n",
    "\n",
    "                                       \n",
    "$PV = mRT$                  \n",
    " \n",
    "$$ m = \\frac{P_{abs} V}{R T}  $$\n",
    "$R = \\mathrm{ 0,287 \\, kJ/(Kg \\cdot K) \\quad ; \\quad T = 290 \\, K }$"
   ]
  },
  {
   "cell_type": "markdown",
   "metadata": {},
   "source": [
    "Convertimos de mmHg a kPa    \n",
    "$ \\mathrm{( 760 \\, mmHg = 1 \\, atm = 1 \\, bar = 100 \\, kPa )} $\n",
    "\n",
    "$$ P_{rel} = \\mathrm{ 600 \\, mmHg \\cdot \\frac{100 \\, kPa}{760 \\, mmHg} } $$"
   ]
  },
  {
   "cell_type": "code",
   "execution_count": 36,
   "metadata": {},
   "outputs": [
    {
     "name": "stdout",
     "output_type": "stream",
     "text": [
      "Prel = 78.947 kPa\n"
     ]
    }
   ],
   "source": [
    "# Convertimos de mmHg a kPa\n",
    "Prel = 600*(100/760) # kPa\n",
    "\n",
    "print('Prel = %s kPa'%round(Prel,3))"
   ]
  },
  {
   "cell_type": "markdown",
   "metadata": {},
   "source": [
    "$\\left\\{\n",
    "\\begin{array}{l}\n",
    "P_{atm} = 101,8 \\, \\mathrm{kPa} \\\\\n",
    "R = 0,287 \\, \\mathrm{kJ/(kg \\cdot K)} \\\\\n",
    "T = (273,15 + 17) \\, \\mathrm{K}\n",
    "\\end{array}\n",
    "\\right.$"
   ]
  },
  {
   "cell_type": "markdown",
   "metadata": {},
   "source": [
    "$$ P_{abs} = P_{atm} + (-P_{rel}) $$"
   ]
  },
  {
   "cell_type": "markdown",
   "metadata": {},
   "source": [
    "Masa del aire\n",
    "$$ m = \\frac{P_{atm} V}{R T} $$"
   ]
  },
  {
   "cell_type": "code",
   "execution_count": 9,
   "metadata": {},
   "outputs": [
    {
     "name": "stdout",
     "output_type": "stream",
     "text": [
      "Resultados:\n",
      "Pabs = 22.853 kPa\n",
      "m = 2.4711 kg\n"
     ]
    }
   ],
   "source": [
    "Patm = 101.8  # kPa\n",
    "V = 9   # m^3\n",
    "R = 0.287 # kJ/(Kg*K)\n",
    "T = 273+17 # K\n",
    "\n",
    "Pabs = Patm + (-Prel) # (kPa)\n",
    "# masa del aire\n",
    "m = (Pabs*V)/(R*T) # (Kg)\n",
    "\n",
    "print('Resultados:')\n",
    "print('Pabs = %s kPa'%round(Pabs,3))\n",
    "print('m = %s kg'%round(m,4))"
   ]
  },
  {
   "cell_type": "markdown",
   "metadata": {},
   "source": [
    "Se necesitan aprox. 2,36 Kg de aire."
   ]
  },
  {
   "cell_type": "code",
   "execution_count": 10,
   "metadata": {},
   "outputs": [],
   "source": [
    "%reset -s -f"
   ]
  },
  {
   "cell_type": "markdown",
   "metadata": {},
   "source": [
    "## Ejercicio 4.1\n",
    "Un cilindro de capacidad 10 litros contiene 0,8 kg de gas a 17°C. Si el 60% de la masa es $N_2$ y el resto $O_2$. Determinar: la presión a la que está sometido (gases ideales).\n",
    "$$ R_{N_2} = \\mathrm{ 0,2968 \\, kJ/(kg \\cdot K) } \\quad ; \\quad R_{O_2} = \\mathrm{ 0,2598 \\, kJ/(kg \\cdot K) }$$"
   ]
  },
  {
   "cell_type": "markdown",
   "metadata": {},
   "source": [
    "### Solución\n",
    "* Masa total\n",
    "$$ m_T = 0,8 \\, \\mathrm{kg} $$"
   ]
  },
  {
   "cell_type": "markdown",
   "metadata": {},
   "source": [
    "* Masa de $N_2$\n",
    "$$ m_{N_2} = m_T \\cdot 0,6 = 0,48 \\, \\mathrm{kg} $$"
   ]
  },
  {
   "cell_type": "markdown",
   "metadata": {},
   "source": [
    "* Masa de $O_2$\n",
    "$$ m_{O_2} = m_T \\cdot 0,4 = 0,32 \\, \\mathrm{kg} $$"
   ]
  },
  {
   "cell_type": "markdown",
   "metadata": {},
   "source": [
    "Luego:\n",
    "$$ P = P_{N_2} + P_{O_2} = \\frac{m_{N_2} R_{N_2} T}{V} + \\frac{m_{O_2} R_{O_2} T}{V} $$"
   ]
  },
  {
   "cell_type": "code",
   "execution_count": 11,
   "metadata": {},
   "outputs": [
    {
     "name": "stdout",
     "output_type": "stream",
     "text": [
      "Resultados:\n",
      "m_N2 = 0.48 kg\n",
      "m_O2 = 0.32 kg\n",
      "Presión total:\n",
      "P = 6545.78 kPa\n"
     ]
    }
   ],
   "source": [
    "# Datos:\n",
    "m_t = 0.8 # masa total\n",
    "R_N2 = 0.2968 # kJ/(kg·K)\n",
    "R_O2 = 0.2598 # kJ/(kg·K)\n",
    "T = 17 + 273.15 # K\n",
    "V = 10 / 1000 # m^3\n",
    "\n",
    "m_N2 = m_t * 0.6 # masa de N2\n",
    "m_O2 = m_t * 0.4 # masa de O2\n",
    "\n",
    "P_N2 = (m_N2 * R_N2 * T)/V # Presión parcial de N_2\n",
    "P_O2 = (m_O2 * R_O2 * T)/V # Presión parcial de O_2\n",
    "\n",
    "P = P_N2 + P_O2 # Presión total\n",
    "\n",
    "print('Resultados:')\n",
    "print('m_N2 = %s kg'%round(m_N2,2))\n",
    "print('m_O2 = %s kg'%round(m_O2,2))\n",
    "print('Presión total:')\n",
    "print('P = %s kPa'%round(P,2))"
   ]
  },
  {
   "cell_type": "markdown",
   "metadata": {},
   "source": [
    "$$ P = 6545,78 \\, kPa $$"
   ]
  },
  {
   "cell_type": "code",
   "execution_count": 12,
   "metadata": {},
   "outputs": [],
   "source": [
    "%reset -s -f"
   ]
  },
  {
   "cell_type": "markdown",
   "metadata": {},
   "source": [
    "## Ejercicio 5\n",
    "\n",
    "Qué cantidad de calor será necesaria para producir un trabajo de 0,25 kWh, sabiendo que si se pierde un 10% al\n",
    "medir.\n",
    "\n",
    "### Solución\n",
    "Convertimos     $\\mathrm{ 1 \\, kW = 1 \\, kJ/s  \\Rightarrow }$\n",
    "$$ \\mathrm{ 0,25 \\, \\frac{kJ}{s} \\cdot 1 \\, h \\cdot \\frac{3600 \\, s}{1 \\, h} = 900 \\, kJ } $$"
   ]
  },
  {
   "cell_type": "code",
   "execution_count": 13,
   "metadata": {},
   "outputs": [
    {
     "name": "stdout",
     "output_type": "stream",
     "text": [
      "W = 900.0 kJ\n"
     ]
    }
   ],
   "source": [
    "W = 0.25*1*3600 # kJ\n",
    "\n",
    "print('W = %s kJ'%W)"
   ]
  },
  {
   "cell_type": "markdown",
   "metadata": {},
   "source": [
    "    90%   __________ 900 kJ\n",
    "    100% __________ x"
   ]
  },
  {
   "cell_type": "code",
   "execution_count": 14,
   "metadata": {},
   "outputs": [
    {
     "name": "stdout",
     "output_type": "stream",
     "text": [
      "Q = 1000.0 kJ\n"
     ]
    }
   ],
   "source": [
    "# calor en kJ\n",
    "Q = W*100/(100-10) # kJ\n",
    "\n",
    "print('Q = %s kJ'%Q)"
   ]
  },
  {
   "cell_type": "markdown",
   "metadata": {},
   "source": [
    "    1kJ __________ 0,2389 kcal\n",
    "    1000 kJ ______ x"
   ]
  },
  {
   "cell_type": "code",
   "execution_count": 15,
   "metadata": {},
   "outputs": [
    {
     "name": "stdout",
     "output_type": "stream",
     "text": [
      "Qcal = 238.9 kcal\n"
     ]
    }
   ],
   "source": [
    "# calor en kcal\n",
    "Qcal = Q*0.2389/1 # kcal\n",
    "\n",
    "print('Qcal = %s kcal'%Qcal)"
   ]
  },
  {
   "cell_type": "code",
   "execution_count": 16,
   "metadata": {},
   "outputs": [],
   "source": [
    "%reset -s -f"
   ]
  },
  {
   "cell_type": "markdown",
   "metadata": {},
   "source": [
    "## Ejercicio 5.1\n",
    "Que trabajo podrá realizar mediante el calor producido por combustión, que producen 9000 kcal. Suponiendo que ha sido aprovechado totalmente."
   ]
  },
  {
   "cell_type": "markdown",
   "metadata": {},
   "source": [
    "### Solución\n",
    "     0,2388 kcal _________ 1 kJ\n",
    "     9000 kcal ___________ x"
   ]
  },
  {
   "cell_type": "code",
   "execution_count": 17,
   "metadata": {},
   "outputs": [
    {
     "name": "stdout",
     "output_type": "stream",
     "text": [
      "Q = 37688.4 kJ\n"
     ]
    }
   ],
   "source": [
    "# conversión de unidades\n",
    "Q = 9000 * 1 / 0.2388 \n",
    "\n",
    "print('Q = %s kJ'%round(Q,1))"
   ]
  },
  {
   "cell_type": "markdown",
   "metadata": {},
   "source": [
    "## Ejercicio 6\n",
    "Un turbogenerador consume 1500 Kg/h de vapor y desarrolla una potencia de 300 kW. Determinar el trabajo por\n",
    "Kg de vapor.\n",
    "\n",
    "### Solución:\n",
    "\n",
    "$ \\dot{m} = \\mathrm{ 1500 \\, (Kg/h) \\cdot (1 \\, h) / (3600 \\, s)}$\n",
    "\n",
    "$ \\dot{W} = \\mathrm{ 300 \\, kW }$"
   ]
  },
  {
   "cell_type": "code",
   "execution_count": 18,
   "metadata": {},
   "outputs": [
    {
     "name": "stdout",
     "output_type": "stream",
     "text": [
      "m = 0.4167 kg/s\n"
     ]
    }
   ],
   "source": [
    "m = 1500*1/3600 # kg/s\n",
    "W = 300 # kW\n",
    "\n",
    "print('m = %s kg/s'%round(m,4))"
   ]
  },
  {
   "cell_type": "markdown",
   "metadata": {},
   "source": [
    "$$ w = \\mathrm{ \\frac{J}{Kg} = \\frac{W}{m} = \\frac{kJ}{Kg/s} = \\frac{kJ}{Kg} } $$"
   ]
  },
  {
   "cell_type": "code",
   "execution_count": 19,
   "metadata": {},
   "outputs": [
    {
     "name": "stdout",
     "output_type": "stream",
     "text": [
      "w = 720.0 kJ/kg\n"
     ]
    }
   ],
   "source": [
    "w = W/m # kJ/kg\n",
    "\n",
    "print('w = %s kJ/kg'%w)"
   ]
  },
  {
   "cell_type": "markdown",
   "metadata": {},
   "source": [
    "Se desarrollan 720 kJ/Kg"
   ]
  },
  {
   "cell_type": "code",
   "execution_count": 20,
   "metadata": {},
   "outputs": [],
   "source": [
    "%reset -s -f"
   ]
  },
  {
   "cell_type": "markdown",
   "metadata": {},
   "source": [
    "## Ejercicio 6.1\n",
    "Que cantidad de calor será necesaria para producir un trabajo de 0,25 kWh, sabiendo que se pierde 10% con el medio.\n",
    "\n",
    "![6.1.png](img/6.1.png)"
   ]
  },
  {
   "cell_type": "markdown",
   "metadata": {},
   "source": [
    "### Solución\n",
    "$$ \\mathrm{ Potencia = \\frac{Trabajo}{Tiempo}  \\quad  \\Rightarrow \\quad Trabajo = Potencia \\cdot Tiempo }$$\n",
    "\n",
    "$$ \\mathrm{1 \\, h = 3600 \\, s} $$\n",
    "\n",
    "$$ \\mathrm{0,25 \\, kWh \\cdot \\frac{3600 \\, s}{h} = 900 \\, kJ }$$\n",
    "\n",
    "Teniendo en cuenta que se pierde un 10%\n",
    "\n",
    "    0.9 ________ 900 kJ\n",
    "    1 __________ x kJ\n",
    "    \n",
    "    x = 1000 kJ\n",
    "$$ Q = \\mathrm{ 1000 \\, kJ = (1000 \\cdot 0,2388) \\, kcal = 238,8 \\, kcal }$$"
   ]
  },
  {
   "cell_type": "code",
   "execution_count": 21,
   "metadata": {},
   "outputs": [
    {
     "name": "stdout",
     "output_type": "stream",
     "text": [
      "Q = 1000.0 kJ = 238.8 kcal\n"
     ]
    }
   ],
   "source": [
    "Q = (0.25 * 3600)/0.9\n",
    "\n",
    "print('Q = %s kJ = %s kcal'%(round(Q,2),round(Q*0.2388,2) )  )"
   ]
  },
  {
   "cell_type": "code",
   "execution_count": 22,
   "metadata": {},
   "outputs": [],
   "source": [
    "%reset -s -f"
   ]
  },
  {
   "cell_type": "markdown",
   "metadata": {},
   "source": [
    "## Ejercicio 7\n",
    "Que trabajo se podría realizar mediante el calor producido por la combustión de 1000 Kg de carbón que\n",
    "producen 9000 kcal suponiendo que ha sido aprovechado totalmente.\n",
    "### Solución\n",
    "    1 kJ ________________ 0.2389 kcal\n",
    "    x ________________ 9000 kcal"
   ]
  },
  {
   "cell_type": "code",
   "execution_count": 23,
   "metadata": {},
   "outputs": [
    {
     "name": "stdout",
     "output_type": "stream",
     "text": [
      "W = 37672.67 kJ\n"
     ]
    }
   ],
   "source": [
    "W = 9000*1/0.2389 # kJ\n",
    "\n",
    "print('W = %s kJ'%round(W,2))"
   ]
  },
  {
   "cell_type": "code",
   "execution_count": 24,
   "metadata": {},
   "outputs": [],
   "source": [
    "%reset -s -f"
   ]
  },
  {
   "cell_type": "markdown",
   "metadata": {},
   "source": [
    "## Ejercicio 7.1\n",
    "Un turbo generador consume 1500 kg/h de vapor y desarrolla una potencia de 300 kW. Determinar el trabajo por kg de vapor."
   ]
  },
  {
   "cell_type": "markdown",
   "metadata": {},
   "source": [
    "### Solución\n",
    "$$ \\mathrm{Potencia = \\frac{Trabajo}{Tiempo} = \\frac{300 \\, kJ}{s} \\cdot \\frac{3600 \\, s}{h} = 1\\,080\\,000 \\, kJ/h } $$\n",
    "Luego:\n",
    "$$ \\mathrm{\\frac{Potencia}{Consumo} = \\frac{1\\,080\\,000 \\, kJ/h}{1500 \\, kg/h} = 720 \\, kJ/kg } $$"
   ]
  },
  {
   "cell_type": "code",
   "execution_count": 25,
   "metadata": {},
   "outputs": [
    {
     "name": "stdout",
     "output_type": "stream",
     "text": [
      "El trabajo por kg de vapor: 720.0 kJ/kg\n"
     ]
    }
   ],
   "source": [
    "Potencia = 300 * 3600 # kJ/h\n",
    "Consumo = 1500 # kg/h\n",
    "\n",
    "print('El trabajo por kg de vapor: %s kJ/kg'%round(Potencia/Consumo,2))"
   ]
  },
  {
   "cell_type": "code",
   "execution_count": 26,
   "metadata": {},
   "outputs": [],
   "source": [
    "%reset -s -f"
   ]
  },
  {
   "cell_type": "markdown",
   "metadata": {},
   "source": [
    "## Ejercicio 8\n",
    "La caldera de una planta de producción de vapor consume 4 toneladas de combustible por hora para alimentar\n",
    "una turbina 410 kW. Si la capacidad calorífica del combustible es de 716 kcal/Kg, determinar el rendimiento\n",
    "térmico.\n",
    "\n",
    "$$ \\mathrm{ \\eta = \\frac{Entregado}{Absorbido} } \\qquad \\qquad (\\mathrm{\\eta = Rendimiento}) $$\n",
    "\n",
    "![08.png](img/08.png)"
   ]
  },
  {
   "cell_type": "markdown",
   "metadata": {},
   "source": [
    "### Solución:\n",
    "Capacidad calorífica del combustible:\n",
    "\n",
    "Convertimos a kJ:\n",
    "\n",
    "    0.2389 kcal  ________________ 1 kJ\n",
    "    716 kcal  __________________  x"
   ]
  },
  {
   "cell_type": "code",
   "execution_count": 27,
   "metadata": {},
   "outputs": [
    {
     "name": "stdout",
     "output_type": "stream",
     "text": [
      "CCComb = 2997.07 kJ\n"
     ]
    }
   ],
   "source": [
    "CCComb=716*1/0.2389 # (capacidad calorífica del combustible)\n",
    "\n",
    "print('CCComb = %s kJ'%round(CCComb,2))"
   ]
  },
  {
   "cell_type": "markdown",
   "metadata": {},
   "source": [
    "$\\mathrm{CCComb = 2997,07 \\, kJ} $"
   ]
  },
  {
   "cell_type": "markdown",
   "metadata": {},
   "source": [
    "Calculamos el flujo\n",
    "\n",
    "$$ \\mathrm{Flujo = 4 \\, \\left[ \\frac{ton}{h} \\right] \\cdot 1000 \\, \\left[ \\frac{kg}{ton} \\right] \\cdot \\left[ \\frac{1 \\, h}{3600 \\, s} \\right] } $$\n",
    "Kg de combustible por segundo:"
   ]
  },
  {
   "cell_type": "code",
   "execution_count": 28,
   "metadata": {},
   "outputs": [
    {
     "name": "stdout",
     "output_type": "stream",
     "text": [
      "Flujo = 1.111 kg/s\n"
     ]
    }
   ],
   "source": [
    "Flujo = 4*1000*1/3600 # Kg/s\n",
    "\n",
    "print('Flujo = %s kg/s'%round(Flujo,3))"
   ]
  },
  {
   "cell_type": "markdown",
   "metadata": {},
   "source": [
    "$$\\left\\{\n",
    "\\begin{array}{l}\n",
    "\\mathrm{Potencia = 410 \\, kW} \\\\\n",
    "\\mathrm{Flujo = 1,111 \\, kg/s} \\\\\n",
    "\\mathrm{CCComb = 2997,07 \\, kJ}\n",
    "\\end{array}\n",
    "\\right. \\quad \\rightarrow \\qquad\n",
    "\\eta = \\mathrm{ \\frac{Potencia}{CCComb \\cdot Flujo} }$$"
   ]
  },
  {
   "cell_type": "code",
   "execution_count": 29,
   "metadata": {},
   "outputs": [
    {
     "name": "stdout",
     "output_type": "stream",
     "text": [
      "n = 0.1231\n"
     ]
    }
   ],
   "source": [
    "Potencia = 410 # kW\n",
    "n = Potencia/(CCComb*Flujo) # Rendimiento\n",
    "\n",
    "print('n =',round(n,4))"
   ]
  },
  {
   "cell_type": "code",
   "execution_count": 30,
   "metadata": {},
   "outputs": [
    {
     "name": "stdout",
     "output_type": "stream",
     "text": [
      "np = 12.31 %\n"
     ]
    }
   ],
   "source": [
    "np = n*100 # Rendimiento en porcentaje\n",
    "\n",
    "print('np = %s %%'%round(np,2))"
   ]
  },
  {
   "cell_type": "code",
   "execution_count": 31,
   "metadata": {},
   "outputs": [],
   "source": [
    "%reset -s -f"
   ]
  },
  {
   "cell_type": "markdown",
   "metadata": {},
   "source": [
    "## Ejercicio 8.1\n",
    "A un conjunto cilindro pistón adiabático que contiene aire se le entrega energía eléctrica durante 2 minutos. Si el sistema es el aire y resistencia, determinar:\n",
    "1. $T_f$\n",
    "2. $W_{\\Delta V}$\n",
    "\n",
    "![8.1.png](img/8.1.png)"
   ]
  },
  {
   "cell_type": "markdown",
   "metadata": {},
   "source": [
    "### Solución\n",
    "#### Item 1\n",
    "Trabajo eléctrico\n",
    "$$ W_e = V \\, I \\, \\Delta t = \\mathrm{(50 \\, V) \\, (2 \\, A) \\, (2 \\times 60 \\, s)}$$\n",
    "\n",
    "$$ W_e = \\mathrm{ 12000 \\, J = 12 \\, kJ}$$\n",
    "\n",
    "La masa de aire se determina a partir de la ecuación de gas ideal\n",
    "\n",
    "$$ m = \\frac{P_1 V_1}{R T_1} = \\mathrm{ \\frac{(200 \\, kPa) \\, (0,03 \\, m^3)}{(0,287 \\, kJ/kg \\cdot K) \\, (300,15 \\, K)} }$$\n",
    "\n",
    "$$ m = \\mathrm{ 6,965 \\times 10^{-2} \\, kg }$$"
   ]
  },
  {
   "cell_type": "markdown",
   "metadata": {},
   "source": [
    "$$ \\begin{array}{ccc}\n",
    "E_\\mathrm{entrada} - E_\\mathrm{salida} & =  & \\Delta E_\\mathrm{sistema} \\\\\n",
    "\\mathrm{Transferencia \\, neta \\, de  \\, energia} &  &\\mathrm{ Cambio \\, en \\, las \\, energias \\, interna, }\\\\\n",
    "\\mathrm{por \\, calor, \\, trabajo \\, y \\, masa} &  &\\mathrm{ cinetica, \\, potencial, \\, etc.}\n",
    "\\end{array}\n",
    "$$"
   ]
  },
  {
   "cell_type": "markdown",
   "metadata": {},
   "source": [
    "$$ W_{e,entrada} - W_{b,salida} = \\Delta U $$\n",
    "\n",
    "$$ W_{e,entrada} = \\Delta U + W_{b,salida} $$\n",
    "\n",
    "Dado que $\\Delta U + W_b \\equiv \\Delta H $\n",
    "\n",
    "$$ \\Delta H = m(h_2 - h_1) = m \\, c_p \\, (T_2 - T_1) $$\n",
    "\n",
    "Entonces:\n",
    "$$ W_{e,entrada} = m \\, c_p \\, (T_2 - T_1) $$\n",
    "Luego:\n",
    "$$ T_2 = \\frac{W_{e,entrada}}{m \\,c_p} +  T_1 $$"
   ]
  },
  {
   "cell_type": "code",
   "execution_count": 32,
   "metadata": {},
   "outputs": [
    {
     "name": "stdout",
     "output_type": "stream",
     "text": [
      "Resultados:\n",
      "We = 12.0 kJ\n",
      "m = 0.06965 kg\n",
      "T2 = 471.63 K\n"
     ]
    }
   ],
   "source": [
    "# Datos:\n",
    "V = 50 # V\n",
    "I = 2 # A\n",
    "Dt = 2*60 # s\n",
    "P1 = 200 # kPa\n",
    "T1 = 27 + 273.15 # K\n",
    "V1 = 0.03 # m^3\n",
    "R = 0.287 # kJ/(kg·K)\n",
    "cp = 1.0047 # kJ/(kg·K)  (aire)\n",
    "\n",
    "# Trabajo eléctrico\n",
    "We = V*I*Dt * (1/1000) # kJ\n",
    "# Masa de aire\n",
    "m = (P1*V1)/(R*T1) # kg\n",
    "# Temperatura final\n",
    "T2 = We/(m*cp) + T1\n",
    "\n",
    "print('Resultados:')\n",
    "print('We = %s kJ'%round(We,2))\n",
    "print('m = %s kg'%round(m,5))\n",
    "print('T2 = %s K'%round(T2,2))"
   ]
  },
  {
   "cell_type": "markdown",
   "metadata": {},
   "source": [
    "Reemplazando, la temperatura final es:\n",
    "$$ T_2 = 471,63 \\, \\mathrm{K} $$"
   ]
  },
  {
   "cell_type": "markdown",
   "metadata": {},
   "source": [
    "#### Item 2\n",
    "Trabajo por variación de volumen o frontera\n",
    "\n",
    "$$ W_{\\Delta V} = W_b = P \\, (V_2 - V_1) = P V_2 - P V_1 $$\n",
    "\n",
    "Sabiendo que:\n",
    "$$ PV = mRT $$\n",
    "Entonces:\n",
    "$$ W_b = m R T_2 - P_1 V_1 $$"
   ]
  },
  {
   "cell_type": "code",
   "execution_count": 33,
   "metadata": {},
   "outputs": [
    {
     "name": "stdout",
     "output_type": "stream",
     "text": [
      "Resultado:\n",
      "Wb = 3.43 kJ\n"
     ]
    }
   ],
   "source": [
    "# Trabajo por variación de volumen o frontera\n",
    "Wb = m*R*T2 - P1*V1\n",
    "\n",
    "print('Resultado:')\n",
    "print('Wb = %s kJ'%round(Wb,2))"
   ]
  },
  {
   "cell_type": "markdown",
   "metadata": {},
   "source": [
    "Reemplazando:\n",
    "$$ W_b = 3,43 \\, \\mathrm{kJ} $$"
   ]
  },
  {
   "cell_type": "code",
   "execution_count": 34,
   "metadata": {},
   "outputs": [],
   "source": [
    "%reset -s -f"
   ]
  },
  {
   "cell_type": "markdown",
   "metadata": {},
   "source": [
    "--------------------\n",
    "<a href=\"https://github.com/daniel-lorenzo/Termodinamica/blob/master/Readme.md\">Index</a> - \n",
    "<a href=\"https://nbviewer.jupyter.org/github/daniel-lorenzo/Termodinamica/blob/master/p02.ipynb\">Next --></a>"
   ]
  }
 ],
 "metadata": {
  "kernelspec": {
   "display_name": "Python 3",
   "language": "python",
   "name": "python3"
  },
  "language_info": {
   "codemirror_mode": {
    "name": "ipython",
    "version": 3
   },
   "file_extension": ".py",
   "mimetype": "text/x-python",
   "name": "python",
   "nbconvert_exporter": "python",
   "pygments_lexer": "ipython3",
   "version": "3.7.3"
  }
 },
 "nbformat": 4,
 "nbformat_minor": 2
}
