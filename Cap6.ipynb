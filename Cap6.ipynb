{
 "cells": [
  {
   "cell_type": "markdown",
   "metadata": {},
   "source": [
    "## Segunda ley de la termodinámica y depósitos de energía térmica"
   ]
  },
  {
   "cell_type": "markdown",
   "metadata": {},
   "source": [
    "### Ejercicio 6-17\n",
    "La eficiencia térmica de una máquina térmica general es 40%, y produce 30 hp. ¿A qué tasa se transfiere calor en este motor, en kJ/s?"
   ]
  },
  {
   "cell_type": "markdown",
   "metadata": {},
   "source": [
    "### Solución\n",
    "Se dan la potencia de salida y la eficiencia térmica de un motor térmico. La tasa de entrada de calor debe ser determinada.\n",
    "\n",
    "![c6-17.png](img/c6-17.png)\n",
    "__Supuestos__ \n",
    "1. La planta funciona de manera constante. \n",
    "2. Las pérdidas de calor del fluido de trabajo en las tuberías y otros componentes son despreciables.\n",
    "\n",
    "__Análisis__ aplicando la definición de eficiencia térmica al motor térmico\n",
    "$$ \\dot{Q}_H = \\frac{\\dot{W}_{net}}{\\eta_{th}} $$"
   ]
  },
  {
   "cell_type": "code",
   "execution_count": 2,
   "metadata": {},
   "outputs": [
    {
     "name": "stdout",
     "output_type": "stream",
     "text": [
      "Q_H = 55.93 kJ/s\n"
     ]
    }
   ],
   "source": [
    "# 1 hp = 0.7457 kJ/s\n",
    "W_net = 30*0.7457e3 # J/s\n",
    "eta_th = 0.4\n",
    "Q_H = W_net/eta_th\n",
    "\n",
    "print('Q_H = %s kJ/s'%round(Q_H/1000,2))"
   ]
  },
  {
   "cell_type": "code",
   "execution_count": null,
   "metadata": {},
   "outputs": [],
   "source": []
  }
 ],
 "metadata": {
  "kernelspec": {
   "display_name": "Python 2",
   "language": "python",
   "name": "python2"
  },
  "language_info": {
   "codemirror_mode": {
    "name": "ipython",
    "version": 3
   },
   "file_extension": ".py",
   "mimetype": "text/x-python",
   "name": "python",
   "nbconvert_exporter": "python",
   "pygments_lexer": "ipython3",
   "version": "3.7.3"
  }
 },
 "nbformat": 4,
 "nbformat_minor": 2
}
