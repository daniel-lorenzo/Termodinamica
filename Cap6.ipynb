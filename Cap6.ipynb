{
 "cells": [
  {
   "cell_type": "markdown",
   "metadata": {},
   "source": [
    "## Segunda ley de la termodinámica y depósitos de energía térmica"
   ]
  },
  {
   "cell_type": "markdown",
   "metadata": {},
   "source": [
    "## Ejercicio 6-17\n",
    "La eficiencia térmica de una máquina térmica general es 40%, y produce 30 hp. ¿A qué tasa se transfiere calor en este motor, en kJ/s?"
   ]
  },
  {
   "cell_type": "markdown",
   "metadata": {},
   "source": [
    "### Solución\n",
    "Se dan la potencia de salida y la eficiencia térmica de un motor térmico. La tasa de entrada de calor debe ser determinada.\n",
    "\n",
    "![c6-17.png](img/c6-17.png)\n",
    "__Supuestos__ \n",
    "1. La planta funciona de manera constante. \n",
    "2. Las pérdidas de calor del fluido de trabajo en las tuberías y otros componentes son despreciables.\n",
    "\n",
    "__Análisis__ aplicando la definición de eficiencia térmica al motor térmico\n",
    "$$ \\dot{Q}_H = \\frac{\\dot{W}_{net}}{\\eta_{th}} $$"
   ]
  },
  {
   "cell_type": "code",
   "execution_count": 2,
   "metadata": {},
   "outputs": [
    {
     "name": "stdout",
     "output_type": "stream",
     "text": [
      "Q_H = 55.93 kJ/s\n"
     ]
    }
   ],
   "source": [
    "# 1 hp = 0.7457 kJ/s\n",
    "W_net = 30*0.7457e3 # J/s\n",
    "eta_th = 0.4\n",
    "Q_H = W_net/eta_th\n",
    "\n",
    "print('Q_H = %s kJ/s'%round(Q_H/1000,2))"
   ]
  },
  {
   "cell_type": "code",
   "execution_count": null,
   "metadata": {},
   "outputs": [],
   "source": [
    "%reset -s -f"
   ]
  },
  {
   "cell_type": "markdown",
   "metadata": {},
   "source": [
    "## Ejercicio 6-18\n",
    "Una planta termoeléctrica de 600 MW, que usa, para el proceso de enfriamiento, el agua de un río cercano, tiene\n",
    "una eficiencia térmica de 40 por ciento. Determine la tasa de transferencia térmica al agua del río. ¿La tasa real de transferencia será mayor o menor que este valor? ¿Por qué?"
   ]
  },
  {
   "cell_type": "markdown",
   "metadata": {},
   "source": [
    "### Solución\n",
    "Se dan la potencia de salida y la eficiencia térmica de una central eléctrica. La tasa de rechazo de calor debe ser determinada, y el resultado debe compararse con el caso real en la práctica.\n",
    "\n",
    "![c6-18.png](img/c6-18.png)\n",
    "\n",
    "__Supuestos__ \n",
    "1. La planta funciona de manera constante. \n",
    "2. Las pérdidas de calor del fluido de trabajo en las tuberías y otros componentes son despreciable.\n",
    "\n",
    "__Análisis__ La tasa de suministro de calor a la planta de energía se determina a partir de la relación de eficiencia térmica\n",
    "\n",
    "$$ \\dot{Q}_H = \\frac{\\dot{W}_{net}}{\\eta_{th}} $$"
   ]
  },
  {
   "cell_type": "code",
   "execution_count": 3,
   "metadata": {},
   "outputs": [
    {
     "name": "stdout",
     "output_type": "stream",
     "text": [
      "Q_H = 1500.0 MW\n"
     ]
    }
   ],
   "source": [
    "W_net = 600 # MW\n",
    "eta_th = 0.4\n",
    "\n",
    "Q_H = W_net/eta_th\n",
    "print('Q_H = %s MW'%round(Q_H,2))"
   ]
  },
  {
   "cell_type": "markdown",
   "metadata": {},
   "source": [
    "La tasa de transferencia de calor al agua del río se determina a partir de la primera relación de la ley para un motor térmico\n",
    "\n",
    "$$ \\dot{Q}_L = \\dot{Q}_H - \\dot{W}_{net} $$"
   ]
  },
  {
   "cell_type": "code",
   "execution_count": 4,
   "metadata": {},
   "outputs": [
    {
     "name": "stdout",
     "output_type": "stream",
     "text": [
      "Q_L = 900.0 MW\n"
     ]
    }
   ],
   "source": [
    "Q_L = Q_H - W_net\n",
    "\n",
    "print('Q_L = %s MW'%round(Q_L,2))"
   ]
  },
  {
   "cell_type": "markdown",
   "metadata": {},
   "source": [
    "En realidad, la cantidad de calor rechazada hacia el río será menor, ya que parte del calor se perderá en el aire circundante del fluido de trabajo a medida que pasa a través de las tuberías y otros componentes."
   ]
  },
  {
   "cell_type": "code",
   "execution_count": 5,
   "metadata": {},
   "outputs": [],
   "source": [
    "%reset -s -f"
   ]
  },
  {
   "cell_type": "markdown",
   "metadata": {},
   "source": [
    "## Ejercicio 6-20\n",
    "Una máquina térmica con una eficiencia térmica de 40 por ciento rechaza 1 000 kJ/kg de calor. ¿Cuánto calor\n",
    "recibe?\n",
    "\n",
    "![c6-20.png](img/c6-20.png)"
   ]
  },
  {
   "cell_type": "markdown",
   "metadata": {},
   "source": [
    "### Solución\n",
    "Se dan el rechazo de calor y la eficiencia térmica de un motor térmico. La entrada de calor al motor debe ser determinada.\n",
    "\n",
    "__Supuestos__\n",
    "1. La planta funciona de manera estacionaria. \n",
    "2. Las pérdidas de calor del fluido de trabajo en las tuberías y otros componentes son despreciables.\n",
    "\n",
    "__Análisis:__ Según la definición de eficiencia térmica aplicada al motor térmico.\n",
    "\n",
    "$$ w_{net} = \\eta_{th} q_H $$\n",
    "\n",
    "$$ q_H - q_L = \\eta_{th} q_H $$\n",
    "\n",
    "que cuando se reorganiza da\n",
    "\n",
    "$$ q_H = \\frac{q_L}{1 - \\eta_{th}} $$"
   ]
  },
  {
   "cell_type": "code",
   "execution_count": 6,
   "metadata": {},
   "outputs": [
    {
     "name": "stdout",
     "output_type": "stream",
     "text": [
      "q_H = 1666.67 kJ/kg\n"
     ]
    }
   ],
   "source": [
    "q_L = 1000 # kJ/kg\n",
    "n_th = 0.4\n",
    "\n",
    "q_H = q_L/(1-n_th)\n",
    "print('q_H = %s kJ/kg'%round(q_H,2))"
   ]
  },
  {
   "cell_type": "code",
   "execution_count": 7,
   "metadata": {},
   "outputs": [],
   "source": [
    "%reset -s -f"
   ]
  },
  {
   "cell_type": "markdown",
   "metadata": {},
   "source": [
    "## Ejercicio 6-23\n",
    "En 2001, Estados Unidos produjo 51% de su electricidad, $1,878 \\times 10^{12} \\, kWh$, en plantas con quemadores de carbón. Tomando la eficiencia térmica promedio como 34%, determine la cantidad de energía térmica rechazada por las plantas eléctricas de carbón en Estados Unidos ese año."
   ]
  },
  {
   "cell_type": "markdown",
   "metadata": {},
   "source": [
    "### Solución\n",
    "__Análisis:__ Teniendo en cuenta que la eficiencia de conversión es del 34%, la cantidad de calor rechazada por las plantas de carbón por año es\n",
    "![c6-23.png](img/c6-23.png)\n",
    "$$ \\eta_{th} = \\frac{W_c}{Q_{in}} = \\frac{W_c}{Q_{out} + W_c} $$\n",
    "\n",
    "$$ Q_{out} = \\frac{W_c}{\\eta_{th}} - W_c $$"
   ]
  },
  {
   "cell_type": "code",
   "execution_count": 7,
   "metadata": {},
   "outputs": [
    {
     "name": "stdout",
     "output_type": "stream",
     "text": [
      "Q_out = 3.646e12 kWh\n"
     ]
    }
   ],
   "source": [
    "W_c = 1.878 # *10^12 kWh\n",
    "eta_th = 0.34\n",
    "\n",
    "Q_out = W_c/eta_th - W_c\n",
    "\n",
    "print('Q_out = %se12 kWh'%round(Q_out,3))"
   ]
  },
  {
   "cell_type": "markdown",
   "metadata": {},
   "source": [
    "$Q_{out}=3,646 \\times 10^{12} \\, kWh$"
   ]
  },
  {
   "cell_type": "code",
   "execution_count": 8,
   "metadata": {},
   "outputs": [],
   "source": [
    "%reset -s -f "
   ]
  },
  {
   "cell_type": "markdown",
   "metadata": {},
   "source": [
    "## Ejercicio 6-28\n",
    "Una planta eléctrica de carbón produce una potencia neta de 300 MW con una eficiencia térmica total de 32%. La relación real gravimétrica aire-combustible en el horno se calcula que es 28000 kJ/kg. Determine:\n",
    "1. La cantidad de carbón que se consume durante un periodo de 24 horas\n",
    "2. La tasa de aire que fluye a través del horno."
   ]
  },
  {
   "cell_type": "markdown",
   "metadata": {},
   "source": [
    "### Solución\n",
    "__Suposiciones:__\n",
    "1. La planta de energía funciona de manera constante. \n",
    "2. Los cambios de energía cinética y potencial son cero.\n",
    "\n",
    "__Propiedades:__ El valor calorífico del carbón es de 28,000 kJ / kg.\n",
    "\n",
    "__Análisis:__ (1) La velocidad y la cantidad de entradas de calor a la central eléctrica son:\n",
    "$$ \\dot{Q}_{in} = \\frac{\\dot{W}_{net \\, out}}{\\eta_{th}} $$"
   ]
  },
  {
   "cell_type": "code",
   "execution_count": 13,
   "metadata": {},
   "outputs": [
    {
     "name": "stdout",
     "output_type": "stream",
     "text": [
      "Q_in = 937.5 MW\n"
     ]
    }
   ],
   "source": [
    "W_net = 300e6 # W\n",
    "eta_th = 0.32\n",
    "\n",
    "Q_in = W_net/eta_th\n",
    "print('Q_in = %s MW'%round(Q_in/1e6,2))"
   ]
  },
  {
   "cell_type": "markdown",
   "metadata": {},
   "source": [
    "$$ m_c = \\frac{\\dot{Q}_{in} \\Delta t}{q_{HV}} $$"
   ]
  },
  {
   "cell_type": "code",
   "execution_count": 17,
   "metadata": {},
   "outputs": [
    {
     "name": "stdout",
     "output_type": "stream",
     "text": [
      "m_c = 33.48 kg/s\n",
      "masa_c = 2892857.14 kg\n"
     ]
    }
   ],
   "source": [
    "Dt = 24*3600 # s\n",
    "q_hv = 28e6 # J/kg\n",
    "\n",
    "m_c = Q_in / q_hv\n",
    "masa_c = m_c * Dt\n",
    "\n",
    "print('m_c = %s kg/s'%round(m_c,2))\n",
    "print('masa_c = %s kg'%round(masa_c,2))"
   ]
  },
  {
   "cell_type": "markdown",
   "metadata": {},
   "source": [
    "(2) Observando que la relación aire-combustible es 12, la velocidad del aire que fluye a través del horno es\n",
    "\n",
    "$$ \\dot{m}_{air} = (AF) \\dot{m}_c $$"
   ]
  },
  {
   "cell_type": "code",
   "execution_count": 18,
   "metadata": {},
   "outputs": [
    {
     "name": "stdout",
     "output_type": "stream",
     "text": [
      "m_air = 401.79 kg/s\n"
     ]
    }
   ],
   "source": [
    "AF = 12 # kg air/kg fuel\n",
    "\n",
    "m_air = AF*m_c\n",
    "\n",
    "print('m_air = %s kg/s'%round(m_air,2))"
   ]
  },
  {
   "cell_type": "code",
   "execution_count": 22,
   "metadata": {},
   "outputs": [],
   "source": [
    "%reset -s -f"
   ]
  },
  {
   "cell_type": "markdown",
   "metadata": {},
   "source": [
    "## Ejercicio 6-42\n",
    "Un almacén de alimentos se mantiene a -12°C mediante un refrigerador, en un entorno de 30°C. La ganancia total de calor al almacén se estima en 3300 kJ/h, y el rechazo de calor en el condensador es de 4800 kJ/h. Determine la entrada de potencia al compresor, en kW, y el COP del refrigerador.\n",
    "![c6-42.png](img/c6-42.png)"
   ]
  },
  {
   "cell_type": "markdown",
   "metadata": {},
   "source": [
    "### Solución\n",
    "__Análisis__ La entrada de potencia se determina a partir de\n",
    "\n",
    "$$ \\dot{W}_{in} = \\dot{Q}_H - \\dot{Q}_L $$"
   ]
  },
  {
   "cell_type": "code",
   "execution_count": 27,
   "metadata": {},
   "outputs": [
    {
     "name": "stdout",
     "output_type": "stream",
     "text": [
      "W_in = 1500.0 kJ/h = 0.417 kW\n"
     ]
    }
   ],
   "source": [
    "Q_H = 4800e3 # J/h\n",
    "Q_L = 3300e3 # J/h\n",
    "\n",
    "W_in = Q_H - Q_L\n",
    "print('W_in = %s kJ/h = %s kW'%(round(W_in/1e3,2),round(W_in/3.6e6,3)))"
   ]
  },
  {
   "cell_type": "code",
   "execution_count": 28,
   "metadata": {},
   "outputs": [
    {
     "name": "stdout",
     "output_type": "stream",
     "text": [
      "COP = 2.2\n"
     ]
    }
   ],
   "source": [
    "# El COP es\n",
    "COP = Q_L/W_in\n",
    "\n",
    "print('COP = %s'%COP)"
   ]
  },
  {
   "cell_type": "code",
   "execution_count": 29,
   "metadata": {},
   "outputs": [],
   "source": [
    "%reset -s -f"
   ]
  },
  {
   "cell_type": "markdown",
   "metadata": {},
   "source": [
    "## Ejercicio 6-77\n",
    "Desde una perspectiva de producción de trabajo, ¿qué es más valioso? \n",
    "1. depósitos de energía térmica a 675 K y 325 K\n",
    "2. depósitos de energía térmica a 625 K y 275 K\n",
    "![c6-77.png](img/c6-77.png)"
   ]
  },
  {
   "cell_type": "markdown",
   "metadata": {},
   "source": [
    "### Solución\n",
    "Dos pares de reservorios de energía térmica deben compararse desde la perspectiva del trabajo y la producción.\n",
    "\n",
    "__Suposiciones:__ El motor térmico funciona de manera estacionaria.\n",
    "\n",
    "__Análisis:__ Para la producción máxima de trabajo, un motor térmico que funcione entre los depósitos de energía debería ser completamente reversible. Luego, para el primer par de embalses.\n",
    "\n",
    "$$ \\eta_{th} = 1 - \\frac{T_L}{T_H} $$"
   ]
  },
  {
   "cell_type": "code",
   "execution_count": 32,
   "metadata": {},
   "outputs": [
    {
     "name": "stdout",
     "output_type": "stream",
     "text": [
      "n1_th = 0.519\n"
     ]
    }
   ],
   "source": [
    "T1_L = 325 # K\n",
    "T1_H = 675 # K\n",
    "\n",
    "n1_th = 1 - T1_L / T1_H\n",
    "print('n1_th = %s'%round(n1_th,3))"
   ]
  },
  {
   "cell_type": "markdown",
   "metadata": {},
   "source": [
    "Para el segundo"
   ]
  },
  {
   "cell_type": "code",
   "execution_count": 33,
   "metadata": {},
   "outputs": [
    {
     "name": "stdout",
     "output_type": "stream",
     "text": [
      "n2_th = 0.56\n"
     ]
    }
   ],
   "source": [
    "T2_L = 275 # K\n",
    "T2_H = 625 # K\n",
    "\n",
    "n2_th = 1 - T2_L / T2_H\n",
    "print('n2_th = %s'%round(n2_th,3))"
   ]
  },
  {
   "cell_type": "markdown",
   "metadata": {},
   "source": [
    "El segundo par es capaz de producir más trabajo por cada unidad de calor extraída del depósito caliente."
   ]
  },
  {
   "cell_type": "code",
   "execution_count": 34,
   "metadata": {},
   "outputs": [],
   "source": [
    "%reset -s -f"
   ]
  },
  {
   "cell_type": "code",
   "execution_count": null,
   "metadata": {},
   "outputs": [],
   "source": []
  }
 ],
 "metadata": {
  "kernelspec": {
   "display_name": "Python 3",
   "language": "python",
   "name": "python3"
  },
  "language_info": {
   "codemirror_mode": {
    "name": "ipython",
    "version": 3
   },
   "file_extension": ".py",
   "mimetype": "text/x-python",
   "name": "python",
   "nbconvert_exporter": "python",
   "pygments_lexer": "ipython3",
   "version": "3.7.3"
  }
 },
 "nbformat": 4,
 "nbformat_minor": 2
}
