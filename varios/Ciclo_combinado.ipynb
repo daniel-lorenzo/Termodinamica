{
 "cells": [
  {
   "cell_type": "raw",
   "metadata": {},
   "source": [
    "<script>\n",
    "  function code_toggle() {\n",
    "    if (code_shown){\n",
    "      $('div.input').hide('500');\n",
    "      $('#toggleButton').val('Show Code')\n",
    "    } else {\n",
    "      $('div.input').show('500');\n",
    "      $('#toggleButton').val('Hide Code')\n",
    "    }\n",
    "    code_shown = !code_shown\n",
    "  }\n",
    "\n",
    "  $( document ).ready(function(){\n",
    "    code_shown=false;\n",
    "    $('div.input').hide()\n",
    "  });\n",
    "</script>\n",
    "<form action=\"javascript:code_toggle()\"><input type=\"submit\" id=\"toggleButton\" value=\"Show Code\"></form>"
   ]
  },
  {
   "cell_type": "markdown",
   "metadata": {},
   "source": [
    "# Ciclo combinado\n",
    "## Ejemplo 10-1 ~  El ciclo Rankine ideal simple\n",
    "Considere una central de vapor que opera en el ciclo Rankine ideal simple. El vapor de agua entra a la turbina a 3 MPa y 350°C y es condensado en el compresor a una presión de 75 kPa. Determine la eficiencia térmica de este ciclo."
   ]
  },
  {
   "cell_type": "markdown",
   "metadata": {},
   "source": [
    "### Solución\n",
    "Se tiene una central eléctrica de vapor que opera en el ciclo Rankine ideal simple. Se determinará la eficiencia térmica del ciclo.   \n",
    "__Suposiciones:__ __1.__ Existen condiciones estacionarias de operación. __2.__ Los cambios en las energías cinética y potencial son insignificantes.   \n",
    "__Análisis:__ El esquema de la central y el diagrama _T-s_ del ciclo se muestran en la figura. Observe que la central opera en el ciclo Rankine ideal, por lo tanto la turbina y la bomba son isentrópicas, no hay caídas de presión en la caldera ni en el condensador y el vapor sale de este último para entrar a la bomba como líquido saturado a la presión del condensador.\n",
    "![c10-1.png](img/c10-1.png)"
   ]
  },
  {
   "cell_type": "markdown",
   "metadata": {},
   "source": [
    "Primero se determinan las entalpías en varios puntos del ciclo, utilizando los datos de las tablas de vapor.\n",
    "\n",
    "Estado 1:\n",
    "$$\\left.\n",
    "\\begin{array}{l}\n",
    "P_1 = 75 \\, \\mathrm{kPa} \\\\\n",
    "\\mbox{Líquido daturado}\n",
    "\\end{array}\n",
    "\\right\\}\n",
    "\\begin{array}{l}\n",
    "h_1 = h_{f \\, \\mathrm{ a \\, 75 kPa}} \\\\\n",
    "v_1 = v_{f \\, \\mathrm{ a \\, 75 kPa}}\n",
    "\\end{array}\n",
    "$$\n",
    "Table: miniREFPROP   \n",
    "water: Saturarion points (at equilibrium)\n",
    "![c10-1.1.png](img/c10-1.1.png)"
   ]
  },
  {
   "cell_type": "code",
   "execution_count": 1,
   "metadata": {},
   "outputs": [],
   "source": [
    "import CoolProp.CoolProp as cp # importa bilioteca CoolProp"
   ]
  },
  {
   "cell_type": "code",
   "execution_count": 24,
   "metadata": {},
   "outputs": [
    {
     "name": "stdout",
     "output_type": "stream",
     "text": [
      "h1 = 384.44 kJ/kg\n",
      "v1 = 0.0010372 m^3/kg\n",
      "s1 = 1.2132 kJ/kg·K\n",
      "T1 = 364.91 K = 91.76°C\n"
     ]
    }
   ],
   "source": [
    "# Estado 1: (datos del problema)\n",
    "P1 = 75e3 # Pa\n",
    "x1 = 0 # (Líquido saturado)\n",
    "# Consultamos la base de datos CoolProp (en unidades SI)\n",
    "h1 = cp.PropsSI('H','P',P1,'Q',x1,'Water')   # Entalpía\n",
    "v1 = 1/cp.PropsSI('D','P',P1,'Q',x1,'Water') # Volúmen específico\n",
    "s1 = cp.PropsSI('S','P',P1,'Q',x1,'Water')   # Entropía\n",
    "T1 = cp.PropsSI('T','P',P1,'Q',x1,'Water')   # Temperatura\n",
    "# Imprime los valores consultados\n",
    "print('h1 = %s kJ/kg'%round(h1/1000,2)) # h1/1000 para expresarlo en kJ/kg\n",
    "print('v1 = %s m^3/kg'%round(v1,7))\n",
    "print('s1 = %s kJ/kg·K'%round(s1/1000,4)) # s1/1000 para expresarlo en kJ/kg·K\n",
    "print('T1 = %s K = %s°C'%(round(T1,2),round(T1 - 273.15,2))) # T1 - 273.15 para expresarlo en °C"
   ]
  },
  {
   "cell_type": "code",
   "execution_count": 15,
   "metadata": {},
   "outputs": [
    {
     "name": "stdout",
     "output_type": "stream",
     "text": [
      "w_bom = 3.03 kJ/kg\n",
      "h2 = 387.47 kJ/kg\n"
     ]
    }
   ],
   "source": [
    "# Estado 2: (datos del problema)\n",
    "P2 = 3e6 # Pa\n",
    "s2 = s1\n",
    "\n",
    "w_bom = v1*(P2 - P1)\n",
    "h2 = h1 + w_bom\n",
    "# Imprime los valores\n",
    "print('w_bom = %s kJ/kg'%round(w_bom/1000,2))\n",
    "print('h2 = %s kJ/kg'%round(h2/1000,2))"
   ]
  },
  {
   "cell_type": "code",
   "execution_count": 16,
   "metadata": {},
   "outputs": [
    {
     "name": "stdout",
     "output_type": "stream",
     "text": [
      "h3 = 3116.06 kJ/kg\n",
      "s3 = 6.7449 kJ/kg·K\n"
     ]
    }
   ],
   "source": [
    "# Estado 3: (datos del problema)\n",
    "P3 = 3e6 # Pa\n",
    "T3 = 350 + 273.15 # K\n",
    "# Consultamos la base de datos CoolProp (en unidades SI)\n",
    "h3 = cp.PropsSI('H','P',P3,'T',T3,'Water')\n",
    "s3 = cp.PropsSI('S','P',P3,'T',T3,'Water')\n",
    "# Imprime los valores consultados\n",
    "print('h3 = %s kJ/kg'%round(h3/1000,2))\n",
    "print('s3 = %s kJ/kg·K'%round(s3/1000,4))"
   ]
  },
  {
   "cell_type": "code",
   "execution_count": 17,
   "metadata": {},
   "outputs": [
    {
     "name": "stdout",
     "output_type": "stream",
     "text": [
      "x4 = 0.8861 \n",
      "h4 = 2403.02 kJ/kg\n"
     ]
    }
   ],
   "source": [
    "# Estado 4: (datos del problema)\n",
    "P4 = 75e3 # Pa\n",
    "s4 = s3\n",
    "# Consultamos la base de datos CoolProp (en unidades SI)\n",
    "x4 = cp.PropsSI('Q','P',P4,'S',s4,'Water')\n",
    "h4 = cp.PropsSI('H','P',P4,'S',s4,'Water')\n",
    "# Imprime los valores consultados\n",
    "print('x4 = %s '%round(x4,4))\n",
    "print('h4 = %s kJ/kg'%round(h4/1000,2))"
   ]
  },
  {
   "cell_type": "markdown",
   "metadata": {},
   "source": [
    "Por lo tanto,\n",
    "$$ q_\\mathrm{entrada} = h_3 - h_2 $$\n",
    "$$ q_\\mathrm{salida} = h_4 - h_1 $$"
   ]
  },
  {
   "cell_type": "code",
   "execution_count": 19,
   "metadata": {},
   "outputs": [
    {
     "name": "stdout",
     "output_type": "stream",
     "text": [
      "q_ent = 2728.59 kJ/kg\n",
      "q_sal = 2018.58 kJ/kg\n"
     ]
    }
   ],
   "source": [
    "q_ent = h3 - h2\n",
    "q_sal = h4 - h1\n",
    "# Imprime los valores\n",
    "print('q_ent = %s kJ/kg'%round(q_ent/1000,2))\n",
    "print('q_sal = %s kJ/kg'%round(q_sal/1000,2))"
   ]
  },
  {
   "cell_type": "code",
   "execution_count": 23,
   "metadata": {},
   "outputs": [
    {
     "name": "stdout",
     "output_type": "stream",
     "text": [
      "eta_ter = 0.26   =>  26.021%\n"
     ]
    }
   ],
   "source": [
    "eta_ter = 1 - q_sal/q_ent\n",
    "print('eta_ter = %s   =>  %s%%'%(round(eta_ter,3),round(eta_ter*100,3)))"
   ]
  },
  {
   "cell_type": "markdown",
   "metadata": {},
   "source": [
    "La eficiencia térmica también podría determinarse a partir de\n",
    "$$ w_\\mathrm{turbina,salida} = h_3 - h_4 $$\n",
    "\n",
    "$$ w_\\mathrm{neto} = w_\\mathrm{turbina,salida} - w_\\mathrm{bomba,entrada} $$\n",
    "\n",
    "$$ w_\\mathrm{neto} = q_\\mathrm{entrada} - q_\\mathrm{salida} $$\n",
    "\n",
    "$$ \\eta_\\mathrm{tér} = \\frac{w_\\mathrm{neto}}{q_\\mathrm{entrada}} $$\n",
    "\n",
    "Es decir, esta cantral eléctrica convierte en trabajo neto 26 por ciento del calor que recibe de la caldera. Una central eléctrica real que opera entre los mismos límites de temperatura y presión tendrá una eficiencia menor debido a irreversibilidades como la fricción.  \n",
    "__Comentario:__ Note que la relación de trabajo de retroceso $(r_\\mathrm{bw} = w_\\mathrm{entrada}/w_\\mathrm{salida})$ de esta central eléctrica es 0,004 por lo tanto sólo se requiere 0,4 por ciento de la saloda de trabajo en la turbina para operar la bomba. Tener relaciones de trabajo de retroceso bajas es característico de los ciclos de potencia de vapor, lo cual contrasta con los de potencia de gas por lo general incluyen relaciones de trabajo de retroceso muy altas (entre 40 y 80 por ciento).\n",
    "\n",
    "También es interesante observar la eficiencia térmica de un ciclo de Carnot que opera entre los mismos límites de temperatura\n",
    "\n",
    "$$ \\eta_\\mathrm{tér,Carnot} = 1 - \\frac{T_\\mathrm{mín}}{T_\\mathrm{máx}} $$"
   ]
  },
  {
   "cell_type": "code",
   "execution_count": null,
   "metadata": {},
   "outputs": [],
   "source": [
    "T_min = T1\n",
    "T_max = T3\n",
    "\n",
    "eta_terCar = 1 - T_min/T_max\n",
    "print('eta_terCar = %s'%round(eta_terCar,4))"
   ]
  },
  {
   "cell_type": "markdown",
   "metadata": {},
   "source": [
    "La diferencia entre las dos eficiencias se debe a la gran irreversibilidad externa en el ciclo Rankine causada por la mayor diferencia de temperatura entre el vapor y los gases de combustión en la caldera."
   ]
  },
  {
   "cell_type": "code",
   "execution_count": 29,
   "metadata": {},
   "outputs": [],
   "source": [
    "%reset -s -f"
   ]
  },
  {
   "cell_type": "markdown",
   "metadata": {},
   "source": [
    "## Ejercicio 10-16\n",
    "Un ciclo Rankine ideal simple que usa agua como fluido de trabajo opera su condensador a 40 °C y su caldera\n",
    "a 300 °C. Calcule el trabajo que produce la turbina, el calor que se suministra en la caldera, y la eficiencia térmica de este ciclo cuando el vapor entra a la turbina sin ningún sobrecalen tamiento.\n",
    "![ce10-25.png](img/ce10-25.png)"
   ]
  },
  {
   "cell_type": "markdown",
   "metadata": {},
   "source": [
    "### Solución\n",
    "La producción de trabajo de la turbina, la adición de calor en la caldera y la eficiencia térmica del ciclo se deben determinar.  \n",
    "__Supuestos:__ 1. Existen condiciones operativas estables. 2. Los cambios de energía cinética y potencial son despreciables."
   ]
  },
  {
   "cell_type": "code",
   "execution_count": 31,
   "metadata": {},
   "outputs": [],
   "source": [
    "import CoolProp.CoolProp as cp"
   ]
  },
  {
   "cell_type": "code",
   "execution_count": 32,
   "metadata": {},
   "outputs": [
    {
     "name": "stdout",
     "output_type": "stream",
     "text": [
      "P1 = 7.385 kPa\n",
      "h1 = 167.53 kJ/kg\n",
      "v1 = 0.001008 m^3/kg\n"
     ]
    }
   ],
   "source": [
    "T1 = 40 + 273.15 # K\n",
    "x1 = 0 # líquido saturado\n",
    "\n",
    "P1 = cp.PropsSI('P','T',T1,'Q',x1,'Water')\n",
    "h1 = cp.PropsSI('H','T',T1,'Q',x1,'Water')\n",
    "v1 = 1/cp.PropsSI('D','T',T1,'Q',x1,'Water')\n",
    "print('P1 = %s kPa'%round(P1/1000,3))\n",
    "print('h1 = %s kJ/kg'%round(h1/1000,2))\n",
    "print('v1 = %s m^3/kg'%round(v1,6))"
   ]
  },
  {
   "cell_type": "code",
   "execution_count": 20,
   "metadata": {},
   "outputs": [
    {
     "name": "stdout",
     "output_type": "stream",
     "text": [
      "P2 = 8587.9 kPa\n"
     ]
    }
   ],
   "source": [
    "T2 = 300 + 273.15 # K\n",
    "x2 = 1 # vapor saturado\n",
    "\n",
    "P2 = cp.PropsSI('P','T',T2,'Q',x2,'Water')\n",
    "print('P2 = %s kPa'%round(P2/1000,2))"
   ]
  },
  {
   "cell_type": "markdown",
   "metadata": {},
   "source": [
    "$$ w_{p,in} = v_1 \\, (P_2 - P_1) $$"
   ]
  },
  {
   "cell_type": "code",
   "execution_count": 21,
   "metadata": {},
   "outputs": [
    {
     "name": "stdout",
     "output_type": "stream",
     "text": [
      "wp_in = 8.65 kJ/kg\n"
     ]
    }
   ],
   "source": [
    "wp_in = v1 * (P2 - P1)\n",
    "print('wp_in = %s kJ/kg'%round(wp_in/1000,2))"
   ]
  },
  {
   "cell_type": "markdown",
   "metadata": {},
   "source": [
    "$$ h_2 = h_1 + w_{p,in} $$"
   ]
  },
  {
   "cell_type": "code",
   "execution_count": 22,
   "metadata": {},
   "outputs": [
    {
     "name": "stdout",
     "output_type": "stream",
     "text": [
      "h2 = 176.18 kJ/kg\n"
     ]
    }
   ],
   "source": [
    "h2 = h1 + wp_in\n",
    "print('h2 = %s kJ/kg'%round(h2/1000,2))"
   ]
  },
  {
   "cell_type": "code",
   "execution_count": 23,
   "metadata": {},
   "outputs": [
    {
     "name": "stdout",
     "output_type": "stream",
     "text": [
      "h3 = 2749.64 kJ/kg\n",
      "s3 = 5.7059 kJ/kg·K\n"
     ]
    }
   ],
   "source": [
    "T3 = 300 + 273.15 # K\n",
    "x3 = 1 # vapor saturado\n",
    "\n",
    "h3 = cp.PropsSI('H','T',T3,'Q',x3,'Water')\n",
    "s3 = cp.PropsSI('S','T',T3,'Q',x3,'Water')\n",
    "print('h3 = %s kJ/kg'%round(h3/1000,2))\n",
    "print('s3 = %s kJ/kg·K'%round(s3/1000,4))"
   ]
  },
  {
   "cell_type": "markdown",
   "metadata": {},
   "source": [
    "$$ \\left. \\begin{array}{l}\n",
    "T_4 = 40^\\circ \\mathrm{C} \\\\\n",
    "s_4 = s_3\n",
    "\\end{array}\n",
    "\\right\\} \\quad \\rightarrow \\quad\n",
    "\\begin{array}{l}\n",
    "\\displaystyle x_4 = \\frac{s_4 - s_f}{s_g - s_f} \\\\\n",
    "h_4 = h_f + x_4 (h_g - h_f)\n",
    "\\end{array}\n",
    "$$"
   ]
  },
  {
   "cell_type": "code",
   "execution_count": 24,
   "metadata": {},
   "outputs": [
    {
     "name": "stdout",
     "output_type": "stream",
     "text": [
      "x4 = 0.6681\n",
      "h4 = 1775.08\n"
     ]
    }
   ],
   "source": [
    "T4 = 40 + 273.15 # K\n",
    "s4 = s3\n",
    "\n",
    "sf = cp.PropsSI('S','T',T4,'Q',0,'Water')\n",
    "sg = cp.PropsSI('S','T',T4,'Q',1,'Water')\n",
    "hf = cp.PropsSI('H','T',T4,'Q',0,'Water')\n",
    "hg = cp.PropsSI('H','T',T4,'Q',1,'Water')\n",
    "\n",
    "x4 = (s4 - sf)/(sg - sf)\n",
    "h4 = hf + x4*(hg - hf)\n",
    "\n",
    "print('x4 = %s'%round(x4,4))\n",
    "print('h4 = %s kJ/kg'%round(h4/1000,2))"
   ]
  },
  {
   "cell_type": "code",
   "execution_count": 25,
   "metadata": {},
   "outputs": [
    {
     "name": "stdout",
     "output_type": "stream",
     "text": [
      "x4 = 0.6681\n"
     ]
    }
   ],
   "source": [
    "# o también podemos consultar directamente x con coolprop usando el parámetro 'Q'\n",
    "x4 = cp.PropsSI('Q','T',T4,'S',s4,'Water')\n",
    "print('x4 = %s'%round(x4,4))"
   ]
  },
  {
   "cell_type": "markdown",
   "metadata": {},
   "source": [
    "$$ \n",
    "\\left.\n",
    "\\begin{array}{l}\n",
    "w_{T,out} = h_3 - h_4 \\\\\n",
    "q_{in} = h_3 - h_2 \\\\\n",
    "q_{out} = h_4 - h_1\n",
    "\\end{array}\n",
    "\\right\\}\n",
    " \\quad \\rightarrow \\quad\n",
    " \\begin{array}{l}\n",
    "\\displaystyle \\eta_{th} = 1 - \\frac{q_{out}}{q_{in}}\n",
    " \\end{array}\n",
    "$$"
   ]
  },
  {
   "cell_type": "code",
   "execution_count": 30,
   "metadata": {},
   "outputs": [
    {
     "name": "stdout",
     "output_type": "stream",
     "text": [
      "w_Tout = 974.55 kJ/kg\n",
      "q_in = 2573.46 kJ/kg\n",
      "q_out = 1607.55 kJ/kg\n",
      "eta_th = 0.375 = 37.53% (eficiencia térmica del cíclo)\n"
     ]
    }
   ],
   "source": [
    "w_Tout = h3 - h4\n",
    "q_in = h3 - h2\n",
    "q_out = h4 - h1\n",
    "\n",
    "eta_th = 1 - q_out/q_in\n",
    "print('w_Tout = %s kJ/kg'%round(w_Tout/1000,2))\n",
    "print('q_in = %s kJ/kg'%round(q_in/1000,2))\n",
    "print('q_out = %s kJ/kg'%round(q_out/1000,2))\n",
    "print('eta_th = %s = %s%% (eficiencia térmica del cíclo)'%(round(eta_th,3),round(eta_th*100,2)))"
   ]
  },
  {
   "cell_type": "code",
   "execution_count": 16,
   "metadata": {},
   "outputs": [],
   "source": [
    "%reset -s -f"
   ]
  },
  {
   "cell_type": "markdown",
   "metadata": {},
   "source": [
    "## Ejercicio 10-23\n",
    "Un ciclo Rankine simple usa agua como fluido de trabajo. La caldera opera a 6 000 kPa y el condensador a 50 kPa.\n",
    "A la entrada de la turbina, la temperatura es 450 °C. La eficiencia isentrópica de la turbina es 94 por ciento, las pérdidas de presión y de bomba son despreciables, y el agua que sale del condensador está subenfriada en 6.3 °C. La caldera está diseñada para un flujo másico de 20 kg/s. Determine la tasa de adición de calor en la caldera, la potencia necesaria para operar las bombas, la potencia neta producida por el ciclo, y la eficiencia térmica.\n",
    "\n",
    "![ce10-25.png](img/ce10-25.png)"
   ]
  },
  {
   "cell_type": "markdown",
   "metadata": {},
   "source": [
    "### Solución\n",
    "Un simple ciclo Rankine con agua a medida que el fluido de trabajo opera entre los límites de presión especificados. La tasa de adición de calor en la caldera, la potencia de entrada a las bombas, la potencia neta y la eficiencia térmica del ciclo deben ser determinadas."
   ]
  },
  {
   "cell_type": "code",
   "execution_count": 1,
   "metadata": {},
   "outputs": [],
   "source": [
    "import CoolProp.CoolProp as cp"
   ]
  },
  {
   "cell_type": "markdown",
   "metadata": {},
   "source": [
    "$$\\left.\n",
    "\\begin{array}{l}\n",
    "P_1 = 50 \\, kPa \\\\\n",
    "T_1 = T_{sat@50kPa} -6,3\n",
    "\\end{array}\n",
    "\\right\\} \\quad \\rightarrow \\quad\n",
    "\\begin{array}{l}\n",
    "h_1 \\approx h_{f@T_1} \\\\\n",
    "v_1 = v_{f@T_1}\n",
    "\\end{array}\n",
    "$$"
   ]
  },
  {
   "cell_type": "code",
   "execution_count": 2,
   "metadata": {},
   "outputs": [
    {
     "name": "stdout",
     "output_type": "stream",
     "text": [
      "Ts = 81.32 °C\n",
      "T1 = 75.02 °C\n"
     ]
    }
   ],
   "source": [
    "P1 = 50e3 # Pa\n",
    "x = 0 # líquido saturado\n",
    "# Temperatura del líquido saturado\n",
    "Ts = cp.PropsSI('T','P',P1,'Q',x,'Water'); print('Ts = %s °C'%round(Ts - 273.15,2))\n",
    "# Temperatura del agua subenfriada\n",
    "T1 = Ts - 6.3                           ;  print('T1 = %s °C'%round(T1 - 273.15,2))"
   ]
  },
  {
   "cell_type": "code",
   "execution_count": 3,
   "metadata": {},
   "outputs": [
    {
     "name": "stdout",
     "output_type": "stream",
     "text": [
      "h1 = 314.11 kJ/kg\n",
      "v1 = 0.001026 m^3/kg\n"
     ]
    }
   ],
   "source": [
    "# Con P1 y T1, de tabla obtengo h1 y v1\n",
    "h1 = cp.PropsSI('H','P',P1,'T',T1,'Water');   print('h1 = %s kJ/kg'%round(h1/1000,2))\n",
    "v1 = 1/cp.PropsSI('D','P',P1,'T',T1,'Water'); print('v1 = %s m^3/kg'%round(v1,6))"
   ]
  },
  {
   "cell_type": "markdown",
   "metadata": {},
   "source": [
    "$P_2 = 6 \\, MPa \\quad \\Rightarrow$\n",
    "$$ \\begin{array}{l} \n",
    "w_{p,in} = v_1 \\, (P_2 - P_1) \\\\\n",
    "h_2 = h_1 + w_{p,in}\n",
    "\\end{array}\n",
    "$$"
   ]
  },
  {
   "cell_type": "code",
   "execution_count": 4,
   "metadata": {},
   "outputs": [
    {
     "name": "stdout",
     "output_type": "stream",
     "text": [
      "wp_in = 6.1 kJ/kg\n",
      "h2 = 320.21 kJ/kg\n"
     ]
    }
   ],
   "source": [
    "P2 = 6e6 # Pa\n",
    "# Trabajo de entrada a la bomba \n",
    "wp_in = v1*(P2 - P1); print('wp_in = %s kJ/kg'%round(wp_in/1000,2))\n",
    "# Entalía en 2\n",
    "h2 = h1 + wp_in    ;  print('h2 = %s kJ/kg'%round(h2/1000,2))"
   ]
  },
  {
   "cell_type": "markdown",
   "metadata": {},
   "source": [
    "$$ \\left.\n",
    "\\begin{array}{l}\n",
    "P_3 = 6000 \\, kPa \\\\\n",
    "T_3 = 450^\\circ \\mathrm{C}\n",
    "\\end{array}\n",
    "\\right\\} \\quad \\rightarrow \\quad\n",
    "\\left[\n",
    "\\begin{array}{l}\n",
    "h_3 \\\\\n",
    "s_3\n",
    "\\end{array}\n",
    "\\right]\n",
    "$$"
   ]
  },
  {
   "cell_type": "code",
   "execution_count": 5,
   "metadata": {},
   "outputs": [
    {
     "name": "stdout",
     "output_type": "stream",
     "text": [
      "h3 = 3302.91 kJ/kg\n",
      "s3 = 6.7219 kJ/kg·K\n"
     ]
    }
   ],
   "source": [
    "P3 = P2\n",
    "T3 = 450 + 273.15 # K\n",
    "# Con P2 y T3 obtengo de tabla h3 y s3\n",
    "h3 = cp.PropsSI('H','P',P3,'T',T3,'Water'); print('h3 = %s kJ/kg'%round(h3/1000,2))\n",
    "s3 = cp.PropsSI('S','P',P3,'T',T3,'Water'); print('s3 = %s kJ/kg·K'%round(s3/1000,4))"
   ]
  },
  {
   "cell_type": "markdown",
   "metadata": {},
   "source": [
    "$$\\left.\n",
    "\\begin{array}{l}\n",
    "P_4 = 50 \\, kPa \\\\\n",
    "s_4 = s_3\n",
    "\\end{array}\n",
    "\\right\\} \\quad \\rightarrow \\quad\n",
    "\\begin{array}{l}\n",
    "\\displaystyle x_{4s} = \\frac{s_4 - s_f}{s_g - s_f} \\\\\n",
    "h_{4s} = h_f + x_{4s} (h_g - h_f)\n",
    "\\end{array}\n",
    "$$"
   ]
  },
  {
   "cell_type": "code",
   "execution_count": 8,
   "metadata": {},
   "outputs": [
    {
     "name": "stdout",
     "output_type": "stream",
     "text": [
      "x4s = 0.86602\n",
      "h4s = 2336.43 kJ/kg\n"
     ]
    }
   ],
   "source": [
    "P4 = 50e3 # Pa\n",
    "s4 = s3 # Isentrópico\n",
    "\n",
    "sf = cp.PropsSI('S','P',P4,'Q',0,'Water')\n",
    "sg = cp.PropsSI('S','P',P4,'Q',1,'Water')\n",
    "hf = cp.PropsSI('H','P',P4,'Q',0,'Water')\n",
    "hg = cp.PropsSI('H','P',P4,'Q',1,'Water')\n",
    "\n",
    "x4s = (s4 - sf)/(sg - sf); print('x4s = %s'%round(x4s,5))\n",
    "h4s = hf + x4s*(hg - hf);  print('h4s = %s kJ/kg'%round(h4s/1000,2))"
   ]
  },
  {
   "cell_type": "markdown",
   "metadata": {},
   "source": [
    "$$ \\eta_T = \\frac{h_3 - h_4}{h_3 - h_{4s}} \\quad \\Rightarrow \\quad h_4 = h_3 - \\eta_T \\, (h_3 - h_{4s} ) $$"
   ]
  },
  {
   "cell_type": "code",
   "execution_count": 11,
   "metadata": {},
   "outputs": [
    {
     "name": "stdout",
     "output_type": "stream",
     "text": [
      "h4 = 2394.42 kJ/kg\n"
     ]
    }
   ],
   "source": [
    "eta_T = 0.94\n",
    "\n",
    "h4 = h3 - eta_T*(h3 - h4s); print('h4 = %s kJ/kg'%round(h4/1000,2))"
   ]
  },
  {
   "cell_type": "markdown",
   "metadata": {},
   "source": [
    "$$\\begin{array}{l}\n",
    "\\dot{Q}_{in} = \\dot{m} (h_3 - h_2) \\\\\n",
    "\\dot{W}_{T,out} = \\dot{m} (h_3 - h_4) \\\\\n",
    "\\dot{W}_{P,in} = \\dot{m} w_{P,in} \\\\\n",
    "\\dot{W}_{net} = \\dot{W}_{T,out} - \\dot{W}_{P,in}\n",
    "\\end{array}\n",
    "$$"
   ]
  },
  {
   "cell_type": "code",
   "execution_count": 15,
   "metadata": {},
   "outputs": [
    {
     "name": "stdout",
     "output_type": "stream",
     "text": [
      "Q_in = 59654.0 kW\n",
      "W_Tout = 18170.0 kW\n",
      "W_Pin = 122.1 kW\n",
      "W_net = 18048.0 kW\n"
     ]
    }
   ],
   "source": [
    "m = 20 # kg/s\n",
    "\n",
    "Q_in = m*(h3 - h2);     print('Q_in = %s kW'%round(Q_in/1000,0))\n",
    "W_Tout = m*(h3 - h4);   print('W_Tout = %s kW'%round(W_Tout/1000,0))\n",
    "W_Pin = m*wp_in;        print('W_Pin = %s kW'%round(W_Pin/1000,1))\n",
    "W_net = W_Tout - W_Pin; print('W_net = %s kW'%round(W_net/1000,0))"
   ]
  },
  {
   "cell_type": "markdown",
   "metadata": {},
   "source": [
    "$$ \\eta_{th} = \\frac{W_{net}}{Q_{in}} $$"
   ]
  },
  {
   "cell_type": "code",
   "execution_count": 17,
   "metadata": {},
   "outputs": [
    {
     "name": "stdout",
     "output_type": "stream",
     "text": [
      "eta_th = 0.3025\n"
     ]
    }
   ],
   "source": [
    "eta_th = W_net/Q_in ; print('eta_th = %s'%round(eta_th,4))"
   ]
  },
  {
   "cell_type": "code",
   "execution_count": 18,
   "metadata": {},
   "outputs": [],
   "source": [
    "%reset -s -f"
   ]
  },
  {
   "cell_type": "markdown",
   "metadata": {},
   "source": [
    "## Ejercicio 10-25\n",
    "Se deben calcular y comparar la producción neta de trabajo y la eficiencia térmica para los ciclos Carnot y Rankine ideal simple. El vapor de agua entra a la turbina en ambos casos a 5 MPa como vapor saturado y la presión del condensador es de 50 kPa. En el ciclo Rankine, el estado de salida del condensador es líquido saturado y en el ciclo Carnot el estado de entrada a la caldera es líquido saturado. Trace diagramas T-s para ambos ciclos.\n",
    "\n",
    "![ce10-25.png](img/ce10-25.png)"
   ]
  },
  {
   "cell_type": "markdown",
   "metadata": {},
   "source": [
    "### Solución\n",
    "Las salidas netas de trabajo y las eficiencias térmicas para un ciclo de Carnot y un ciclo de Rankine ideal simple están determinadas.  \n",
    "__Supuestos:__ 1 Existen condiciones operativas estables. 2 Los cambios de energía cinética y potencial son despreciables.  \n",
    "__Análisis:__ (a) Análisis del ciclo de Rankine: De las tablas de vapor"
   ]
  },
  {
   "cell_type": "markdown",
   "metadata": {},
   "source": [
    "![ce10-25_1.png](img/ce10-25_1.png)"
   ]
  },
  {
   "cell_type": "code",
   "execution_count": 1,
   "metadata": {},
   "outputs": [],
   "source": [
    "import CoolProp.CoolProp as cp"
   ]
  },
  {
   "cell_type": "markdown",
   "metadata": {},
   "source": [
    "$$ \\left\\{\n",
    "\\begin{array}{l}\n",
    "P_1 = 50 \\, kPa \\\\\n",
    "x_1 = 0\n",
    "\\end{array}\n",
    "\\right.\n",
    "\\quad \\rightarrow \\quad\n",
    "\\left[\n",
    "\\begin{array}{l}\n",
    "h_1 \\\\\n",
    "v_1\n",
    "\\end{array}\n",
    "\\right] $$"
   ]
  },
  {
   "cell_type": "code",
   "execution_count": 2,
   "metadata": {},
   "outputs": [
    {
     "name": "stdout",
     "output_type": "stream",
     "text": [
      "h1 = 340.54 kJ/kg\n",
      "v1 = 0.00103 m^3/kg\n"
     ]
    }
   ],
   "source": [
    "P1 = 50e3 # Pa\n",
    "x1 = 0\n",
    "\n",
    "h1 = cp.PropsSI('H','P',P1,'Q',x1,'Water');   print('h1 = %s kJ/kg'%round(h1/1000,2))\n",
    "v1 = 1/cp.PropsSI('D','P',P1,'Q',x1,'Water'); print('v1 = %s m^3/kg'%round(v1,6))"
   ]
  },
  {
   "cell_type": "markdown",
   "metadata": {},
   "source": [
    "$$ \\left\\{\n",
    "\\begin{array}{l}\n",
    "P_1 = 50 \\, kPa \\\\\n",
    "P_2 = 5000 \\, kPa \\\\\n",
    "v_1 = 0,00103 \\, kPa\n",
    "\\end{array}\n",
    "\\right.\n",
    "\\quad \\rightarrow \\quad\n",
    "\\left[\n",
    "\\begin{array}{l}\n",
    "w_{p,in} = v_1 \\, (P_2 - P_1) \\\\\n",
    "h_2 = h_1 + w_{p,in}\n",
    "\\end{array}\n",
    "\\right]\n",
    "$$"
   ]
  },
  {
   "cell_type": "code",
   "execution_count": 3,
   "metadata": {},
   "outputs": [
    {
     "name": "stdout",
     "output_type": "stream",
     "text": [
      "wp_in = 5.1 kJ/kg\n",
      "h2 = 345.64 kJ/kg\n"
     ]
    }
   ],
   "source": [
    "P2 = 5e6 # Pa\n",
    "wp_in = v1*(P2 - P1) ; print('wp_in = %s kJ/kg'%round(wp_in/1000,2))\n",
    "h2 = h1 + wp_in ;      print('h2 = %s kJ/kg'%round(h2/1000,2))"
   ]
  },
  {
   "cell_type": "markdown",
   "metadata": {},
   "source": [
    "$$ \\left\\{\n",
    "\\begin{array}{l}\n",
    "P_3 = P_2 \\\\\n",
    "x_3 = 1\n",
    "\\end{array}\n",
    "\\right. \\quad \\rightarrow \\quad\n",
    "\\left[\n",
    "\\begin{array}{l}\n",
    "h_3 \\\\\n",
    "s_3\n",
    "\\end{array}\n",
    "\\right]\n",
    "$$"
   ]
  },
  {
   "cell_type": "code",
   "execution_count": 4,
   "metadata": {},
   "outputs": [
    {
     "name": "stdout",
     "output_type": "stream",
     "text": [
      "h3 = 2794.21 kJ/kg\n",
      "s3 = 5.9737 kJ/kg·K\n"
     ]
    }
   ],
   "source": [
    "P3 = P2\n",
    "x3 = 1\n",
    "\n",
    "h3 = cp.PropsSI('H','P',P3,'Q',x3,'Water') ; print('h3 = %s kJ/kg'%round(h3/1000,2))\n",
    "s3 = cp.PropsSI('S','P',P3,'Q',x3,'Water') ; print('s3 = %s kJ/kg·K'%round(s3/1000,4))"
   ]
  },
  {
   "cell_type": "markdown",
   "metadata": {},
   "source": [
    "$$ \\left\\{\n",
    "\\begin{array}{l}\n",
    "P_4 = 50 \\, kPa \\\\\n",
    "s_4 = s_3\n",
    "\\end{array}\n",
    "\\right. \\quad \\rightarrow \\quad\n",
    "\\begin{array}{l}\n",
    "\\displaystyle x_4 = \\frac{s_4 - s_f}{s_g - s_f} \\\\\n",
    "h_4 = h_f + x_4 \\, (h_g - h_f)\n",
    "\\end{array}\n",
    "$$"
   ]
  },
  {
   "cell_type": "code",
   "execution_count": 5,
   "metadata": {},
   "outputs": [
    {
     "name": "stdout",
     "output_type": "stream",
     "text": [
      "x4 = 0.7509\n"
     ]
    }
   ],
   "source": [
    "P4 = 50e3 # Pa\n",
    "s4 = s3\n",
    "\n",
    "sf = cp.PropsSI('S','P',P4,'Q',0,'Water')\n",
    "sg = cp.PropsSI('S','P',P4,'Q',1,'Water')\n",
    "\n",
    "x4 = (s4 - sf)/(sg - sf) ; print('x4 = %s'%round(x4,4))"
   ]
  },
  {
   "cell_type": "code",
   "execution_count": 6,
   "metadata": {},
   "outputs": [
    {
     "name": "stdout",
     "output_type": "stream",
     "text": [
      "h4 = 2071.22 kJ/kg\n"
     ]
    }
   ],
   "source": [
    "hf = cp.PropsSI('H','P',P4,'Q',0,'Water')\n",
    "hg = cp.PropsSI('H','P',P4,'Q',1,'Water')\n",
    "\n",
    "h4 = hf + x4*(hg - hf) ; print('h4 = %s kJ/kg'%round(h4/1000,2))"
   ]
  },
  {
   "cell_type": "markdown",
   "metadata": {},
   "source": [
    "$$ \\begin{array}{l}\n",
    "q_{in} = h_3 - h_2 \\\\\n",
    "q_{out} = h_4 - h_1 \\\\\n",
    "w_{net} = q_{in} - q_{out}\n",
    "\\end{array}\n",
    "$$"
   ]
  },
  {
   "cell_type": "code",
   "execution_count": 7,
   "metadata": {},
   "outputs": [
    {
     "name": "stdout",
     "output_type": "stream",
     "text": [
      "q_in = 2448.57 kJ/kg\n",
      "q_out = 1730.67 kJ/kg\n",
      "w_net = 717.89 kJ/kg\n"
     ]
    }
   ],
   "source": [
    "q_in = h3 - h2 ; print('q_in = %s kJ/kg'%round(q_in/1000,2))\n",
    "q_out = h4 - h1 ; print('q_out = %s kJ/kg'%round(q_out/1000,2))\n",
    "w_net = q_in - q_out ; print('w_net = %s kJ/kg'%round(w_net/1000,2))"
   ]
  },
  {
   "cell_type": "markdown",
   "metadata": {},
   "source": [
    "$$ n_{th} = 1 - \\frac{q_{out}}{q_{in}} $$"
   ]
  },
  {
   "cell_type": "code",
   "execution_count": 8,
   "metadata": {},
   "outputs": [
    {
     "name": "stdout",
     "output_type": "stream",
     "text": [
      "eta_th = 0.2932 = 29.32%\n"
     ]
    }
   ],
   "source": [
    "eta_th = 1 - q_out/q_in  ; print('eta_th = %s = %s%%'%(round(eta_th,4),round(eta_th*100,2)))"
   ]
  },
  {
   "cell_type": "markdown",
   "metadata": {},
   "source": [
    "(b) Análisis ciclo de Carnot\n",
    "![ce10-25_2.png](img/ce10-25_2.png)"
   ]
  },
  {
   "cell_type": "markdown",
   "metadata": {},
   "source": [
    "$$ \\left.\n",
    "\\begin{array}{l}\n",
    "P_3 = 5 \\, MPa \\\\\n",
    "x_3 = 1\n",
    "\\end{array}\n",
    "\\right\\} \\quad \\rightarrow \\quad\n",
    "\\left[\n",
    "\\begin{array}{l}\n",
    "h_3 \\\\\n",
    "T_3\n",
    "\\end{array}\n",
    "\\right]\n",
    "$$"
   ]
  },
  {
   "cell_type": "code",
   "execution_count": 9,
   "metadata": {},
   "outputs": [
    {
     "name": "stdout",
     "output_type": "stream",
     "text": [
      "T3 = 263.94°C\n"
     ]
    }
   ],
   "source": [
    "T3 = cp.PropsSI('T','P',P3,'Q',x3,'Water') ; print('T3 = %s°C'%round(T3 - 273.15,2))"
   ]
  },
  {
   "cell_type": "markdown",
   "metadata": {},
   "source": [
    "$$ \\left.\n",
    "\\begin{array}{l}\n",
    "T_2 = T_3 \\\\\n",
    "x_2 = 0\n",
    "\\end{array}\n",
    "\\right\\} \n",
    "\\quad \\rightarrow \\quad \n",
    "\\left[\n",
    "\\begin{array}{l}\n",
    "h_2 \\\\\n",
    "s_2\n",
    "\\end{array}\n",
    "\\right]\n",
    "$$"
   ]
  },
  {
   "cell_type": "code",
   "execution_count": 10,
   "metadata": {},
   "outputs": [
    {
     "name": "stdout",
     "output_type": "stream",
     "text": [
      "h2 = 1154.64 kJ/kg\n",
      "s2 = 2.921 kJ/kg·K\n"
     ]
    }
   ],
   "source": [
    "T2 = T3\n",
    "x2 = 0\n",
    "\n",
    "h2 = cp.PropsSI('H','T',T2,'Q',x2,'Water') ; print('h2 = %s kJ/kg'%round(h2/1000,2))\n",
    "s2 = cp.PropsSI('S','T',T2,'Q',x2,'Water') ; print('s2 = %s kJ/kg·K'%round(s2/1000,4))"
   ]
  },
  {
   "cell_type": "markdown",
   "metadata": {},
   "source": [
    "$$\\left.\n",
    "\\begin{array}{l}\n",
    "P_1 = 50 \\, kPa \\\\\n",
    "s_1 = s_2\n",
    "\\end{array}\n",
    "\\right\\}\n",
    "\\quad \\rightarrow \\quad\n",
    "\\begin{array}{l}\n",
    "\\displaystyle x_1 = \\frac{s_1 - s_f}{s_g - s_f} \\\\\n",
    "h_1 = h_f + x_1 \\, (h_g - h_f)\n",
    "\\end{array}\n",
    "$$"
   ]
  },
  {
   "cell_type": "code",
   "execution_count": 12,
   "metadata": {},
   "outputs": [
    {
     "name": "stdout",
     "output_type": "stream",
     "text": [
      "x1 = 0.2814\n",
      "h1 = 989.14 kJ/kg\n"
     ]
    }
   ],
   "source": [
    "P1 = 50e3 # Pa\n",
    "s1 = s2\n",
    "\n",
    "sf = cp.PropsSI('S','P',P1,'Q',0,'Water')\n",
    "sg = cp.PropsSI('S','P',P1,'Q',1,'Water')\n",
    "hf = cp.PropsSI('H','P',P1,'Q',0,'Water')\n",
    "hg = cp.PropsSI('H','P',P1,'Q',1,'Water')\n",
    "\n",
    "x1 = (s1 - sf)/(sg - sf) ; print('x1 = %s'%round(x1,4))\n",
    "h1 = hf + x1*(hg - hf) ; print('h1 = %s kJ/kg'%round(h1/1000,2))"
   ]
  },
  {
   "cell_type": "markdown",
   "metadata": {},
   "source": [
    "$$ \\begin{array}{l}\n",
    "q_{in} = h_3 - h_2 \\\\\n",
    "q_{out} = h_4 - h_1 \\\\\n",
    "w_{net} = q_{in} - q_{out} \\\\\n",
    "\\displaystyle n_{th} = 1 - \\frac{q_{out}}{q_{in}} \n",
    "\\end{array} $$"
   ]
  },
  {
   "cell_type": "code",
   "execution_count": 13,
   "metadata": {},
   "outputs": [
    {
     "name": "stdout",
     "output_type": "stream",
     "text": [
      "q_in = 1639.56 kJ/kg\n",
      "q_out = 1082.07 kJ/kg\n",
      "w_net = 557.49 kJ/kg\n",
      "eta_th = 0.34\n"
     ]
    }
   ],
   "source": [
    "q_in = h3 - h2 ; print('q_in = %s kJ/kg'%round(q_in/1000,2))\n",
    "q_out = h4 - h1 ; print('q_out = %s kJ/kg'%round(q_out/1000,2))\n",
    "w_net = q_in - q_out ; print('w_net = %s kJ/kg'%round(w_net/1000,2))\n",
    "eta_th = 1 - q_out/q_in ; print('eta_th = %s'%round(eta_th,4))"
   ]
  },
  {
   "cell_type": "code",
   "execution_count": 1,
   "metadata": {},
   "outputs": [],
   "source": [
    "%reset -s -f"
   ]
  }
 ],
 "metadata": {
  "kernelspec": {
   "display_name": "Python 3",
   "language": "python",
   "name": "python3"
  },
  "language_info": {
   "codemirror_mode": {
    "name": "ipython",
    "version": 3
   },
   "file_extension": ".py",
   "mimetype": "text/x-python",
   "name": "python",
   "nbconvert_exporter": "python",
   "pygments_lexer": "ipython3",
   "version": "3.7.3"
  }
 },
 "nbformat": 4,
 "nbformat_minor": 2
}
