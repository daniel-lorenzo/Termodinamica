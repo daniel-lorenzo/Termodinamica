{
 "cells": [
  {
   "cell_type": "markdown",
   "metadata": {},
   "source": [
    "Ciclo de potencia de gas\n",
    "-----"
   ]
  },
  {
   "cell_type": "markdown",
   "metadata": {},
   "source": [
    "## Ejemplo 9-1\n",
    "### Dedicción de la eficiencia del ciclo de Carnot\n",
    "Demuestre la eficiencia térmica de un ciclo de Carnot que opera entre los límites de temperatura $T_H$ y $T_L$ es una función exclusiva de estas dos temperaturas y que está dada por la ecuación\n",
    "\n",
    "$$ \\eta_\\mathrm{ter,Carnot} = 1 - \\frac{T_L}{T_H} $$"
   ]
  },
  {
   "cell_type": "markdown",
   "metadata": {},
   "source": [
    "### Solución\n",
    "Se demostrará que la eficiencia de un ciclo de Carnot depende solamente de las temperaturas de la fuente y el sumidero.   \n",
    "__Análisis:__ El diagrama T-s de un ciclo de Carnot se vuelve a trazar en la figura. Los cuatro procesos que componen este ciclo son reversibles y por lo tanto el área bajo cada curva del proceso representa la transferencia de calor para este proceso. El calor se transfiere al sistema durante los procesos 1-2 y se rechaza durante los procesos 3-4. Por consiguiente, las cantidades de entrada y salida de calor para el ciclo pueden ser expresadas como\n",
    "\n",
    "$$ q_\\mathrm{entrada} = T_H (s_2 - s_1) \\qquad \\mathrm{y} \\qquad q_\\mathrm{salida} = T_L (s_2 - s_1) $$\n",
    "\n",
    "dado que los procesos 2-3 y 4-1 son isentrópicos y, por lo tanto, $s_2 = s_3$ y $s_4 = s_1$. Sustituyendo éstos en la ecuación, la eficiencia térmica de un ciclo de Carnot es\n",
    "\n",
    "$$ \\eta_\\mathrm{ter} = \\frac{w_\\mathrm{neto}}{q_\\mathrm{entrada}} = 1 - \\frac{q_\\mathrm{salida}}{q_\\mathrm{entrada}} = 1 - \\frac{T_L (s_2 - s_1)}{T_H (s_2 - s_1)} = 1 - \\frac{T_L}{T_H} $$\n",
    "\n",
    "__Comentario:__ Observe que la eficiencia térmica de un ciclo de Carnot es independiente del tipo de fluido de trabajo utilizado (un gas ideal, vapor, etc.) o de si el ciclo es ejecutado en un sistema cerrado o en un sistema de flujo estacionario."
   ]
  },
  {
   "cell_type": "markdown",
   "metadata": {},
   "source": [
    "## Ejemplo 9-2\n",
    "### El ciclo Otto ideal\n",
    "Un ciclo Otto ideal tiene una relación de compresión de 8. Al inicio del proceso de compresión es aire está a 100 kPa y 17°C, y 800 kJ/kg de calor se transfieren a volumen constante hacia el aire durante el proceso de adición de calor."
   ]
  },
  {
   "cell_type": "code",
   "execution_count": null,
   "metadata": {},
   "outputs": [],
   "source": []
  }
 ],
 "metadata": {
  "kernelspec": {
   "display_name": "Python 3",
   "language": "python",
   "name": "python3"
  },
  "language_info": {
   "codemirror_mode": {
    "name": "ipython",
    "version": 3
   },
   "file_extension": ".py",
   "mimetype": "text/x-python",
   "name": "python",
   "nbconvert_exporter": "python",
   "pygments_lexer": "ipython3",
   "version": "3.7.3"
  }
 },
 "nbformat": 4,
 "nbformat_minor": 2
}
