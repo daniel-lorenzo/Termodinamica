{
 "cells": [
  {
   "cell_type": "markdown",
   "metadata": {},
   "source": [
    "# Cambio de entropía de gases ideales\n",
    "Una fórmula para el cambio de entropía de un gas ideal se obtiene de la ecuación\n",
    "\n",
    "$$ ds = \\frac{du}{T} + \\frac{P \\; dv}{T} \\tag{1} $$\n",
    "y\n",
    "$$ ds = \\frac{dh}{T} - \\frac{v \\; dP}{T} \\tag{2} $$\n",
    "\n",
    "empleando las relaciones de propiedad para los gases ideales. Sustituyendo $du = c_v dT$ y $P=RT/v$ en la ecuación [1], el cambio difrencial de entropía de un gas ideal se vuelve\n",
    "\n",
    "$$ ds = c_v \\frac{dT}{T} + R \\frac{dv}{v}  \\tag{3} $$\n",
    "\n",
    "$$ \\begin{array}{l}\n",
    "Pv = RT \\\\\n",
    "du = c_v \\; dT \\\\\n",
    "dh = c_p \\; dT\n",
    "\\end{array}\n",
    "$$\n",
    "\n",
    "El cambio de entropía para un proceso se obtiene integrando esta relación entre los estados extremos:\n",
    "\n",
    "$$ s_2 - s_1 = \\int_1^2 c_v(T) \\; \\frac{dT}{T} + R \\ln \\frac{v_2}{v_1}  \\tag{4} $$\n",
    "\n",
    "Una segunda relación para el cambio de entropía de un gas ideal se obtiene de manera similar a la anterior, sustituyendo $dh = c_p \\, dT$ y $v = RT/P$ en la ecuación [2] e integrando. El resultado es\n",
    "\n",
    "$$ s_2 - s_1 = \\int_1^2 c_p (T) \\; \\frac{dT}{T} - R \\ln \\frac{P_2}{P_1} \\tag{5} $$\n",
    "\n",
    "Con excepción de los monoatómicos, los calores específicos de los gases ideales dependen de la temperatura, y de las integrales en las ecuaciones [4] y [5] no pueden resolverse a menos que se conozca la dependencia de $c_v$ y $c_p$ respecto a la temperatura. Incluso cuando se tienen las funciones $c_v(T)$ y $c_p(T)$ no es práctico realizar largas integraciones cada vez que se calcula el cambio de entropía. Por lo tanto se dispone de dos opciones razonables: realizar estas integraciones suponiendo simplemente los calores específicos constantes o evaluarlas una vez y tabular los resultados. Ambos enfoques se presentan a continuación."
   ]
  },
  {
   "cell_type": "markdown",
   "metadata": {},
   "source": [
    "# Calores específicos constantes (análisis aproximado)\n",
    "Suponer los calores específicos constantes para los gases ideales es una forma común de aproximación. Esta forma normalmente simplifica el análisis, pero el precio que pagamos por emplearla es alguna pérdida de exactitud. La magnitud de error introducida por esta suposición depende de la situación, por ejemplo: para los gases monoatómicos ideales como el helio, los calores específicos son independientes de la temperatura y por consiguiente suponer el calor constante específico no provoca error; mientras que para gases ideales cuyos calores específicos varían casi linealmente en el intervalo en que se hallan las temperaturas de interés, el error posible se minimiza usando los calores específicos evaluados a temperatura promedio. Los resultados obtenidos con este tipo de aproximación son los suficientemente exacos si el intervalo de temperatura no es mayor que unos cientos de grados.\n",
    "\n",
    "Las relaciones de cambio de entropía para los gases ideales bajo la suposición de calor específico constante se obtiene fácilmente al reemplazar $c_v(T)$ y $c_p(T)$ en las ecuaciones [4] y [5] por el $c_\\mathrm{v,prom}$ y $c_\\mathrm{p,prom} $ respectivamente, y al realizar las integraciones. Así, se obtiene\n",
    "\n",
    "$$ s_2 - s_1 = c_\\mathrm{v,prom} \\ln \\frac{T_2}{T_1} + R \\ln \\frac{v_2}{v_1} \\qquad \\mathrm{(kJ/kg \\cdot K)} \\tag{6} $$\n",
    "y\n",
    "$$ s_2 - s_1 = c_\\mathrm{p,prom} \\ln \\frac{T_2}{T_1} - R \\ln \\frac{P_2}{P_1} \\qquad \\mathrm{(kJ/kg \\cdot K)} \\tag{7} $$\n",
    "\n",
    "Los cambios de entropía también pueden expresarse por unidad de mol, al multiplicar estas relaciones por la masa molar:\n",
    "\n",
    "$$ \\overline{s}_2 - \\overline{s}_1 = \\overline{c}_\\mathrm{v,prom} \\ln \\frac{T_2}{T_1} + R_u \\ln \\frac{v_2}{v_1} \\qquad \\mathrm{(kJ/kmol \\cdot K)} \\tag{8} $$\n",
    "y\n",
    "$$ \\overline{s}_2 - \\overline{s}_1 = \\overline{c}_\\mathrm{v,prom} \\ln \\frac{T_2}{T_1} + R_u \\ln \\frac{P_2}{P_1} \\qquad \\mathrm{(kJ/kmol \\cdot K)} \\tag{9} $$"
   ]
  },
  {
   "cell_type": "markdown",
   "metadata": {},
   "source": [
    "## Calores específicos variables (análisis exacto)\n",
    "Durante un proceso, cuando el cambio de temperatura es grande y los calores específicos del gas ideal no varían linealmente dentro del intervalo de temperatura, la suposición de calores específicos constantes puede llevar a errores considerables al calcular el cambio de entropía. En estos casos, la variación de los calores específicos a causa de la temperatura debe considerarse adecuadamente y utilizar las relaciones exactas para estos calores como una función de la temperatura. El cambio de entropía durante un proceso se determina entonces al sustituir las relaciones $c_v(T)$ o $c_p(T)$ en la ecuación [4] o [5] y después llevar a cabo las integraciones.\n",
    "\n",
    "En lugar de resolver estas laboriosas integrales cada vez que tenemos un nuevo proceso, es conveniente realizarlas una vez y tabular los resultados. Para esto, se elige el cero absoluto como la temperatura de referencia y se define una función $s^\\circ$ como\n",
    "\n",
    "\\begin{equation} s^\\circ = \\int_0^T c_p(T) \\; \\frac{dT}{T} \\tag{10} \\end{equation}\n",
    "\n",
    "Obviamente, $s^\\circ$ es una función sólo de la temperatura y su valor es cero en la temperatura absoluta cero. Los valores de $s^\\circ$ están calculados para varias temperaturas y se encuentran tabulados. Dada esta definición, la integral en la ecuación [5] se vuelve\n",
    "\n",
    "$$ \\int_1^2 c_p(T) \\; \\frac{dT}{T} = s^\\circ_2 - s^\\circ_1 \\tag{11} $$\n",
    "\n",
    "donde $s^\\circ_2$ es el valor de $s^\\circ$ en $T_2$ y $s^\\circ_1$ es el valor de $T_1$. Así\n",
    "\n",
    "$$ s_2 - s_1 = s^\\circ_2 - s^\\circ_1 - R \\ln \\frac{P_2}{P_1} \\qquad \\mathrm{(kJ/kg \\cdot K)} \\tag{12} $$\n",
    "\n",
    "A diferencia de la energía interna y la entalpía, la entropía de un gas ideal varía con el volumen específico, la presión o la temperatura. Por lo tanto, la entropía no puede tabularse exclusivamente como una función de la temperatura. Los valores de $s^\\circ$ en las tablas toman en cuenta la dependencia de la temperatura que tiene entropía. La variación de entropía con la presión se considera en el último término de la ecuación [4], pero esto requeriría de la definición de otra función y de la tabulación de sus valores, lo cual no es práctico."
   ]
  },
  {
   "cell_type": "markdown",
   "metadata": {},
   "source": [
    "## Ejemplo 7-9 Cambio de entropía de un gas ideal\n",
    "Se comprime aire de un estado inicial de 100kPa y 17°C, hasta otro final de 600kPa y 57°C. Determine el cambio de entropía del aire durante este proceso de compresión usando,   \n",
    "__a)__ los valores de propiedades de la tabla del aire  \n",
    "__b)__ los calores específicos promedio  "
   ]
  },
  {
   "cell_type": "markdown",
   "metadata": {},
   "source": [
    "### Solución\n",
    "Se comprime aire estre dos estados especificados. Se determinará el cambio de entropía del aire usando valores tabulados de las propiedades y los calores específicos promedio.   \n",
    "__Suposiciones:__ El aire es un gas ideal porque se halla a una temperatura alta y a baja presión respecto a sus valores de punto crítico. Por lo tanto, son aplicables las relaciones de cambio de entropía desarrolladas bajo la suposición de gas ideal.   \n",
    "__Análisis:__ a) Las propiedades del aire se toman de la tabla para el aire, de la que se leen los valores de $s^\\circ$ a las temperaturas dadas y al sustituir se obtiene\n",
    "\n",
    "$$ s_2 - s_1 = s^\\circ_2 - s^\\circ_1 - R \\ln \\frac{P_2}{P_1} $$"
   ]
  },
  {
   "cell_type": "code",
   "execution_count": 2,
   "metadata": {},
   "outputs": [],
   "source": [
    "import math as m"
   ]
  },
  {
   "cell_type": "code",
   "execution_count": 5,
   "metadata": {},
   "outputs": [
    {
     "name": "stdout",
     "output_type": "stream",
     "text": [
      "(s2 - s1) = -0.3844 kJ/kg·K\n"
     ]
    }
   ],
   "source": [
    "sc2 = 1.79783 # kJ/kg·K (s°2) tabla\n",
    "sc1 = 1.66802 # kJ/kg·K (s°1) tabla\n",
    "R = 0.287 # kJ/kg·K tabla\n",
    "P2 = 600 # kPa\n",
    "P1 = 100 # kPa\n",
    "\n",
    "Ds = sc2 - sc1 - R * m.log(P2/P1)\n",
    "print('(s2 - s1) = %s kJ/kg·K'%round(Ds,4))"
   ]
  },
  {
   "cell_type": "markdown",
   "metadata": {},
   "source": [
    "También es posible de modo aproximado el cambio de entropía del aire durante el proceso, a partir de la ecuación (7)\n",
    "\n",
    "$$ s_2 - s_1 = c_\\mathrm{p,prom} \\ln \\frac{T_2}{T_1} - R \\ln \\frac{P_2}{P_1} \\qquad \\mathrm{(kJ/kg \\cdot K)} $$"
   ]
  },
  {
   "cell_type": "code",
   "execution_count": 6,
   "metadata": {},
   "outputs": [
    {
     "name": "stdout",
     "output_type": "stream",
     "text": [
      "(s2 - s1) = -0.3842 kJ/kg·K\n"
     ]
    }
   ],
   "source": [
    "cpprom = 1.006 # kJ/kg·K\n",
    "T2 = 330 # K\n",
    "T1 = 290 # K\n",
    "\n",
    "Ds = cpprom * m.log(T2/T1) - R* m.log(P2/P1)\n",
    "print('(s2 - s1) = %s kJ/kg·K'%round(Ds,4))"
   ]
  },
  {
   "cell_type": "markdown",
   "metadata": {},
   "source": [
    "Los dos resultados son casi idénticos, ya que el cambio en la temperatura durante el proceso es relativamente pequeño."
   ]
  },
  {
   "cell_type": "markdown",
   "metadata": {},
   "source": [
    "## Procesos isentrópicos de gases ideales\n",
    "Es posible obtener varias relaciones para los procesos isentrópicos de gases ideales al igualar a cero las relaciones del cambio de entropía desarrolladas previamente.\n",
    "## Calores específicos constantes (análisis aproximado)\n",
    "Cuando la suposición de calores específicos constantes es válida, las relaciones isentrópicas para los gases ideales se obtienen al igualar a cero las ecuaciones\n",
    "\n",
    "$$ \\ln \\frac{T_2}{T_1} = - \\frac{R}{c_v} \\ln \\frac{v_2}{v_1} $$\n",
    "\n",
    "la cual puede reestructurarse como\n",
    "\n",
    "$$ \\ln \\frac{T_2}{T_1} = \\ln \\left( \\frac{v_1}{v_2} \\right)^{R/c_v} \\tag{13} $$\n",
    "o\n",
    "$$ \\left( \\frac{T_2}{T_1} \\right)_\\mathrm{s=const.} = \\left( \\frac{v_1}{v_2} \\right)^{k-1} \\tag{14} \\qquad \\mbox{(gas ideal)} $$\n",
    "\n",
    "como $R = c_p - c_v$, $k = c_p/c_v$, entonces $R/c_v = k - 1$.\n",
    "\n",
    "La ecuación [14] es la primera relación isentrópica para los gases ideales bajo la suposición de calores específicos constantes. La segunda relación isentrópica se obtiene de forma similar de la ecuación [7], lo cual da como resultado:\n",
    "\n",
    "$$ \\left( \\frac{T_2}{T_1} \\right)_\\mathrm{s=const}  = \\left( \\frac{P_2}{P_1} \\right)^{(k-1)/k} \\qquad \\mbox{(gas ideal)} \\tag{15} $$\n",
    "\n",
    "La tercera relación isentrópica se obtiene al sustituir la ecuación [15] en la [13] y simplificar\n",
    "\n",
    "$$ \\left(\\frac{P_2}{P_1} \\right)_\\mathrm{s=const} = \\left( \\frac{v_1}{v_2} \\right)^k \\qquad \\mbox{(gas ideal)}  \\tag{16} $$\n",
    "\n",
    "También es posible expresar en forma compacta de la relación [14] a la [16]\n",
    "\n",
    "$$ \\begin{array}{rlr}\n",
    "Tv^{k-1} = \\mathrm{constante} & & (17) \\\\\n",
    "TP^{(1-k)/k} = \\mathrm{constante} & \\mathrm{(gas \\; ideal)} & (18) \\\\\n",
    "Pv^k = \\mathrm{constante} & & (19)\n",
    "\\end{array}\n",
    "$$\n",
    "\n",
    "Generalmente la relación de calores específicos $k$ varía con la temperatura, por lo que debe usarse un valor promedio $k$ para el intervalo de temperaturas dado.\n",
    "\n",
    "Observe que las anteriores relaciones isentrópicas de gas ideal, como su nombre lo implica, sólo son estrictamente válidas para los procesos isentrópicos cuando la suposición de calores específicos constantes es apropiada."
   ]
  },
  {
   "cell_type": "markdown",
   "metadata": {},
   "source": [
    "## Ejemplo 7-10 Compresión isentrópica del aire en el motor de un automóvil\n",
    "Se comprime aire en el motor de un automóvil a 22°C y 95 kPa de una manera reversible y adiabática. Si la razón de compresión $V_1/V_2$ del motor es 8, determine la temperatura final del aire."
   ]
  },
  {
   "cell_type": "markdown",
   "metadata": {},
   "source": [
    "### Solución\n",
    "Se comprime aire isentrópicamente en un motor de automóvil. Se determinará la temperatura final del aire a partir de una razón de compresión dada.   \n",
    "__Suposición:__ en las condiciones especificadas, puede considerarse el aire como un gas ideal. Por lo tanto, son aplicacles las relaciones isentrópicas para gases ideales.\n",
    "\n",
    "La temperatura final podría determinarse de la ecuación\n",
    "\n",
    "$$ \\left( \\frac{T_2}{T_1} \\right)_\\mathrm{s=const} = \\left( \\frac{v_1}{v_2} \\right)^{k-1} $$\n",
    "\n",
    "La relación de calores específicos k también varía con la temperatura y es necesario usar el valor de k que corresponde a la temperatura promedio. Sin embargo, la temperatura final no se conoce, por lo tanto no es posible determinar la temperatura promedio por adelantado. En estos casos puede empezarse a calcular con un valor inicial de k o de la temperatura promedio pronosticada, el cual podría mejorarse posteriormente, incluso repitiendo los cálculos si es necesario. Se sabe que la temperatura del aire aumentará considerablemente\n",
    "durante este proceso adiabático de compresión, entonces se supone la temperatura promedio de 450 K, aproximadamente. El valor de k a esta temperatura promedio pronosticada se determina como 1.391, de la tabla A-2b. Entonces la temperatura final del aire será"
   ]
  },
  {
   "cell_type": "code",
   "execution_count": 1,
   "metadata": {},
   "outputs": [
    {
     "name": "stdout",
     "output_type": "stream",
     "text": [
      "T2 = 665.5 K\n"
     ]
    }
   ],
   "source": [
    "T1 = 22 + 273.15 # K\n",
    "k = 1.391\n",
    "\n",
    "T2 = T1*(8)**(k-1) ; print('T2 = %s K'%round(T2,2))"
   ]
  },
  {
   "cell_type": "markdown",
   "metadata": {},
   "source": [
    "Esto da un valor de temperatura promedio de 480,1 K que es suficientemente cercano al valor supuesto de 450 K. Por lo tanto no es necesario repetir los cálculos con el valor de k a esta temperatura promedio.\n",
    "\n",
    "El resultado que se obtiene al asumir calores específicos constantes para este caso presenta un error aproximadamente de 0,4 por ciento, lo cual es bastante bajo. Esto no sorprende porque el cambio de temperatura del aire es relativamente pequeño (sólo unos cientos de grados) y los calores específicos del aire varían casi linealmente con la temperatura en este intervalo de temperaturas."
   ]
  },
  {
   "cell_type": "code",
   "execution_count": null,
   "metadata": {},
   "outputs": [],
   "source": []
  }
 ],
 "metadata": {
  "kernelspec": {
   "display_name": "Python 3",
   "language": "python",
   "name": "python3"
  },
  "language_info": {
   "codemirror_mode": {
    "name": "ipython",
    "version": 3
   },
   "file_extension": ".py",
   "mimetype": "text/x-python",
   "name": "python",
   "nbconvert_exporter": "python",
   "pygments_lexer": "ipython3",
   "version": "3.7.3"
  }
 },
 "nbformat": 4,
 "nbformat_minor": 2
}
