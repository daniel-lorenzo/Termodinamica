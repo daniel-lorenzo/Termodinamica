{
  "nbformat": 4,
  "nbformat_minor": 0,
  "metadata": {
    "colab": {
      "provenance": [],
      "authorship_tag": "ABX9TyN/WXciSryA0PqO3lmSJeAw",
      "include_colab_link": true
    },
    "kernelspec": {
      "name": "python3",
      "display_name": "Python 3"
    },
    "language_info": {
      "name": "python"
    }
  },
  "cells": [
    {
      "cell_type": "markdown",
      "metadata": {
        "id": "view-in-github",
        "colab_type": "text"
      },
      "source": [
        "<a href=\"https://colab.research.google.com/github/daniel-lorenzo/Termodinamica/blob/master/Pr%C3%A1ctica_5/P5_Ejercicio_3.ipynb\" target=\"_parent\"><img src=\"https://colab.research.google.com/assets/colab-badge.svg\" alt=\"Open In Colab\"/></a>"
      ]
    },
    {
      "cell_type": "markdown",
      "source": [
        "# Ejercicio 3\n",
        "A una cámara de mezcla adiabática ingresan dos corrientes, una de caudal másico de 0,5 kg/s de vapor de agua a 20 bar y título 80%, y se quiere obtener a la salida de la misma 0,8 kg/s de vapor saturado. Se pide:\n",
        "1. Caudal másico de la otra corriente\n",
        "2. Condiciones del vapor"
      ],
      "metadata": {
        "id": "XCFjv6wqJuWR"
      }
    },
    {
      "cell_type": "markdown",
      "source": [
        "![image.png](data:image/png;base64,iVBORw0KGgoAAAANSUhEUgAAAasAAAB1CAIAAAB/MFnRAAAAA3NCSVQICAjb4U/gAAANAUlEQVR4Xu2deYyN1xvHf6OjCJUgEbXVFstoLBVbWiIxYkmoYAYJ0qKE2lVpNCipPUIQ61TsW0xsEbpMJSRIVVrEHkvstXSC1vrj9/31ptPbe6+7vHPve899z2f+EPPe857zPJ/nne8957znnCft1atX/+EHAhCAgJUEiljpNU5DAAIQ+D8BFJDnAAIQsJcACmhv7PEcAhBAAXkGIAABewmggPbGHs8hAAEUkGcAAhCwlwAKaG/s8RwCEEABeQYgAAF7CaCA9sYezyEAARSQZwACELCXAApob+zxHAIQSAeBmwT+/PPP0aNHu9kibZlMoEaNGuPHjzfZQs/blsbJCG7GOD8/v0yZMm/89eNmu7RlIIEXL140a9bs0KFDBtpmj0n0AZMQ6//+9ZOEhmkSAhD4NwHmAXkiIAABewmggPbGHs8hAAEUkGcAAhCwlwAKaG/s8RwCEEABeQYgAAF7CaCA9sYezyEAARSQZwACELCXAApob+zxHAIQQAF5BiAAAXsJoID2xh7PIQABFJBnAAIQsJcA+4INjX3dunUXLlxoqHGYFZbAw4cPu3XrFrYIH5pCAAU0JRIBdpQuXTozM9NQ4zArLIH79++H/ZwPDSLAKNigYGAKBCDgMgEUMCHAz58/z8GLCSFLpRCIKwEUMK44/65s4sSJjRo12rp1KzqYEL5UCoE4EUAB4wQyqJrjx49nZ2ejg0FguAABgwiggIkNBjqYWL7UDoHCEYjhXfCNGzdyc3OHDRvmrMU//vjj2bNnzu5NubsCPPXpYJMmTT777LOU8wWDIWAagTNnzhw9evT58+fvv/9+7dq1C2NetAqoP+l+/fodPHjQsQJ+9dVXly9fLoytKXTvzz//HGytLk6YMCH4OlcgAIEoCWhiffDgwStXrixatGhaWtrTp08//vjjFStWOE89phoj/vz++++dOnWSicWKFYtYmAIikJWVFRDRd955Z/78+bdu3Yoy0soiBskUJXDv3r0oo9yiRYsU9TFZZs+cOVNs1ZOQ9qkPOGnSJP2qi47tiTwPqBeams7//vvvK1euHGVcKeZPwKd9Z8+eHTlypL5CgAMBCDgmsGzZsoyMjOnTp7/55pvp6ekaWVaqVGnjxo2OK4ysgH379i1fvryymjZv3txxM3beiPbZGXe8ThyBvLy8LVu2aPxb0IQSz758+dJxi5HnAbdv396+fXv/Jh03Zs+N1atX11SFZk41W2GP13gKgUQTqFatWkETGgVPmzZNM0vjxo1z3G5kBezQoYPj2q29cdasWdb6juMQcIGAFtv+8MMP2oI9evToMWPGOG4x8ijYcdXcCAEIQCBBBNQZ7N+/f7169RYtWjRnzhzHraCAjtFxIwQgkDQCs2fPlvD98ssvH3zwweeff37s2DFnpqCAzrhxFwQgkHwCeiM8duxY2fHtt986swYFdMaNuyAAAbcJ3L1796OPPtL6Z/+GfSvMnjx54swaFNAZN+6CAATcJlC2bNndu3dr/Kvl0AVtb9iwQf9v1aqVM2tQQGfcuAsCEHCbQJEiRbT85cKFCz169Dh8+PBPP/00dOjQVatWdenSpW3bts6sibwaxlm93AUBCEAg7gSGDBmiNCxff/21OoOqXEPg4cOHq1fouKE07adzfDM3xkogPz+/TJky0dylfcFHjhyJpiRlTCOgRWrlypWLxirtC9Zuq2hKUsafgEbBp06dknbVqVOnZMmShYHDKLgw9LgXAhAITSAnJ0cnqoT+rNBX1fVr3Ljxe++9V0j5kyEoYKGjQQUQgEAQgXnz5lWtWlWHuBieOQ8FDAodFyAAgXgQePTokbaH6nwQk3UQBYxHqKkDAhB4DQHDdZB3wa+JG5chkHgCv/322/LlyxPfThJaCJgE9Ong0qVLR4wYobMMonwf6ILd9AFdgEwTEICAoQToAxoaGA+YpdxYOlzy9OnT6g7oIN+OHTvq/V2BX8o5o3w3+rVXr16lSpUK8PfatWt79+7Vxe7du5vTX4h7UHT28KBBg+JerQkVLliw4ObNmwWWKMSffvqpjjDQvg4TzPvHBsfn63OjAwLRrw9I9Twhixcvfuutt/Sc6SjzAoHr06ePTrX0cRswYIDvKVy3bl0wyYKUUidOnAj+1PAr5AlRgHSWvS++iv748ePFxMyoMQo26wvJG9ZMnjxZX/gNGjQ4cODA48ePtYhfO5m6du0qsRs4cKC/jzrbQ4logr3evHkzx5IHY0mtKz7tu3LlijIZGdf1K0BppjB71Sob+oBK5KrUhdrtIO3zj6N6fy1bttSD9+uvv+q6rw/YuXNnrW598OCBf0lt+VSx1q1b61/6gCn6t6AsEVoJaL7x9AFT62s1BazVy00lr5kxY0bx4sX9zdVwWH2BL774Qv8puN6zZ0/tcNq5c6d/yU2bNtWsWbNp06Yp4C0mvoaAvuFSYgIXBXxNALnslIDeYGgGMORpRerWKc9hwQyRWmjTpo3eBvgPhJX3S7/27t3bafvcB4EYCKCAMcCiaEQC0q8bN24oVZ4GwhELq4CK6aSjffv2aa7QV15Th9evX0cBo6FHmcITQAELz5Aa/iHw7NmzFy9exJQYXgNhHfC7a9cuXy0aAusVin8/Eb4QSBwBFDBxbG2sWXN/pUuXjn45iBgp003FihV9A2Gp57Zt2+gA2vjoJMlnFDBJ4L3bbKNGjS5duhRSBLUJbNSoUfv37/f3Xgf/ZmVlafZQA+G8vLw7d+5ojbR38eCZWQRQQLPi4QFrPvzwQ62B0NK/YF/Wr1+vrQJKdB3wkW8grFN/NQTWihmlgg2+lysQSAQBFDARVK2uU9u83n777SlTpmhhoD+IkydPaqW0jrRUbocAQFo8qLPkJH/aRccQ2Oqnx3Xn2RfsOnKvN6idAGvWrFFPUAtitA1O6130wleLnJctW6b3JOobSh8DGGj7R3Z29ty5c1VSI2KvE8I/gwjQBzQoGJ4xJTMzU4ta2rVr980330gE1a3T4Ld+/frffffd67p4GgjLfcllhQoVPMMBR8wnQKYkV2NkW6YkHQ9z9epVveKoUqWKPdJGpiRX/6gK1xij4MLx4+6wBDTrV7du3bBF+BACySTAKDiZ9GkbAhBILgEUMLn8aR0CEEgmARQwIfR13klC6qVSCEAgrgRQwLji/Luy/v379+vX7+LFiwmpnUohAIE4EUAB4wTy39XoNNC1a9fWq1cPHUwIXyqFQJwIoIBxAhmqGi0ARgdDgeEaBEwhEJUCnj9/Xkd3LFmyROe4qXdjiu0pYoe/Dl6+fDlFrMZMCFhBIMJ6QJ1W9Mknn6xevVowlNRGE/zata7Nmw0bNowVj1LnnDt3Lta7UrS8slsEWO7Twdzc3BT1CLMh4E0C4VOZfPnll3JbWT61rF/JH/bs2aPT37S+PyAJTvhKLPw0eHNr0aJF+/bte+zYsSgfo1TPlmlh0AtcDnkyWMi460gIm0GZ4HuEUbD2dTZp0mTWrFna7q5z3JT0WplutM/pxx9/DBlRLgYT8GmfEofrvAAdHx9cgCsQgECyCIQbBevs8sGDBytrl79xlStX1q/a+Zgsi1OoXWmfDvvUkVABDFPIBUyFgLcJhFNAnXg+adKkAP99iQ0dzAN6m2OAd75+H9pnVdBxNhUJhFPAYH927Nihl8JdunR59913gz/lSgEBpYsuUaIEQCAAAcMJRJgH9LdemRw0pqtVq5YmBw33KunmIX9JDwEGQCAaAtEqYE5Ojrp+WgqjdyDlypWLpmrKQAACEDCcQGQF1Btrvf8dOHBg8+bNDx486HsTYrhXmAcBCEAgGgIR5gElf0p8o1ktHW6+atWqmDJhR9M8ZSAAAQgkkUCEPuDMmTMlfxJB5TlE/pIYJ5qGAAQSQSBcH/D27dtTp05V+i41PHz4cP/mldmrdevWiTCIOiEAAQi4RiCcAubl5WlRtExZvnx5gEFK/oACuhYkGoIABBJEIJwCau7vdbkNE2QN1UIAAhBwk0CEeUA3TaEtCEAAAi4TQAFdBk5zEICAQQRQQIOCgSkQgIDLBFBAl4HTHAQgYBABFNCgYGAKBCDgMgEU0GXgNAcBCBhEINxqGIPMtM8UrcQk3XCKhj0/Pz9FLbfQbBTQ0KAfP36ck6UNjQ1meYgAo2APBRNXIACBGAmggDECozgEIOAhAiigh4KJKxCAQIwEUMAYgVEcAhDwEAEU0EPBxBUIQCBGAihgjMAoDgEIeIgACuihYOIKBCAQIwEUMEZgFIcABDxEAAX0UDBxBQIQiJEAChgjMIpDAAIeIoACeiiYuAIBCMRIgH3BMQKLU/G0tLQ41UQ1qUpAybhT1XQP2Y0CuhrM9PT0zMxMV5ukMYMJZGRkGGydFaal8UVkRZxxEgIQCEWAecBQVLgGAQjYQQAFtCPOeAkBCIQigAKGosI1CEDADgIooB1xxksIQCAUgf8BChsMAhk5z+sAAAAASUVORK5CYII=)"
      ],
      "metadata": {
        "id": "0GYUpdyyKbOY"
      }
    },
    {
      "cell_type": "markdown",
      "source": [
        "## Solución"
      ],
      "metadata": {
        "id": "PD2amiZVKdGM"
      }
    },
    {
      "cell_type": "markdown",
      "source": [
        "### a)"
      ],
      "metadata": {
        "id": "lCgZ-NUzKhcM"
      }
    },
    {
      "cell_type": "markdown",
      "source": [
        "$$\\dot{m}_1 + \\dot{m}_2 = \\dot{m}_3$$"
      ],
      "metadata": {
        "id": "CUPILd-KPk_L"
      }
    },
    {
      "cell_type": "markdown",
      "source": [
        "$$\\dot{m}_2 = \\dot{m}_3 - \\dot{m}_1$$"
      ],
      "metadata": {
        "id": "kfC4w3ufKz7w"
      }
    },
    {
      "cell_type": "markdown",
      "source": [
        "$$\\dot{m}_2 = \\mathrm{(0,8 \\; kg/s) - (0,5 \\; kg/s)}$$"
      ],
      "metadata": {
        "id": "KU5rsx-BK_CO"
      }
    },
    {
      "cell_type": "markdown",
      "source": [
        "$$\\dot{m}_2 =0,3 \\; \\mathrm{kg/s}$$"
      ],
      "metadata": {
        "id": "XfPkFv7xLPO8"
      }
    },
    {
      "cell_type": "markdown",
      "source": [
        "### b)\n",
        "$$\\Delta H = 0$$"
      ],
      "metadata": {
        "id": "72X911veLY4P"
      }
    },
    {
      "cell_type": "markdown",
      "source": [
        "$$H_1 + H_2 - H_3 = 0$$"
      ],
      "metadata": {
        "id": "bSWC4m2iLez6"
      }
    },
    {
      "cell_type": "markdown",
      "source": [
        "$$m_1 h_1 + m_2 h_2 = m_3 h_3$$"
      ],
      "metadata": {
        "id": "BiuErWL6P5wm"
      }
    },
    {
      "cell_type": "markdown",
      "source": [
        "En tabla de vapor, $P = 20 \\; \\mathrm{bar}$    \n",
        "$h' = 908,59 \\; \\mathrm{kJ/kg}$     \n",
        "$h'' = 2797,22 \\; \\mathrm{kJ/kg}$    \n",
        "$x = 0,8$"
      ],
      "metadata": {
        "id": "nVnMLPNnP_ey"
      }
    },
    {
      "cell_type": "markdown",
      "source": [
        "$$h_1 = h'_1 + x (h''_1 - h'_1)$$"
      ],
      "metadata": {
        "id": "U2o_IiDIQh3x"
      }
    },
    {
      "cell_type": "code",
      "execution_count": null,
      "metadata": {
        "id": "Utvlfj0YJrr0"
      },
      "outputs": [],
      "source": [
        "# Datos:\n",
        "m_1 = 0.5\n",
        "m_3 = 0.8\n",
        "P = 20e5 # [Pa]\n",
        "x = 0.8"
      ]
    },
    {
      "cell_type": "code",
      "source": [
        "m_2 = m_3 - m_1"
      ],
      "metadata": {
        "id": "bjOZXbhgl0vT"
      },
      "execution_count": null,
      "outputs": []
    },
    {
      "cell_type": "code",
      "source": [
        "hp1 =  908.59 # [kJ/kg]\n",
        "hp2 = 2797.22 # [kJ/kg]"
      ],
      "metadata": {
        "id": "kiZhII-iTSik"
      },
      "execution_count": null,
      "outputs": []
    },
    {
      "cell_type": "code",
      "source": [
        "h_1 = hp1 + x*(hp2 - hp1)\n",
        "\n",
        "# De tabla\n",
        "h_3 = 2797.22 # [kJ/kg]    (x = 1)"
      ],
      "metadata": {
        "id": "cqSyO7guTdwz"
      },
      "execution_count": null,
      "outputs": []
    },
    {
      "cell_type": "code",
      "source": [
        "print(\"h_1 = %.3f [kJ/kg]\"%h_1)"
      ],
      "metadata": {
        "colab": {
          "base_uri": "https://localhost:8080/"
        },
        "id": "UFJLet3Jl7dV",
        "outputId": "415dba11-2b40-42b7-c3b0-19e2187d7f38"
      },
      "execution_count": null,
      "outputs": [
        {
          "output_type": "stream",
          "name": "stdout",
          "text": [
            "h_1 = 2419.494 [kJ/kg]\n"
          ]
        }
      ]
    },
    {
      "cell_type": "markdown",
      "source": [
        "$$h_2 = \\frac{m_3 h_3 - m_1 h_1}{m_2}$$"
      ],
      "metadata": {
        "id": "A3Hs1JV4kjGh"
      }
    },
    {
      "cell_type": "code",
      "source": [
        "h_2 = (m_3*h_3 - m_1*h_1)/m_2"
      ],
      "metadata": {
        "id": "T0XWkxgmjr-C"
      },
      "execution_count": null,
      "outputs": []
    },
    {
      "cell_type": "code",
      "source": [
        "print(\"h_2 = %.3f [kJ/kg]\"%h_2)"
      ],
      "metadata": {
        "colab": {
          "base_uri": "https://localhost:8080/"
        },
        "id": "kwV4TN08mEm7",
        "outputId": "9afc5be4-50df-435e-9ed3-35d6aa8c6207"
      },
      "execution_count": null,
      "outputs": [
        {
          "output_type": "stream",
          "name": "stdout",
          "text": [
            "h_2 = 3426.763 [kJ/kg]\n"
          ]
        }
      ]
    },
    {
      "cell_type": "markdown",
      "source": [
        "__Condiciones del vapor:__\n",
        "\n",
        "P = 20 bar    \n",
        "h = 3426,763 kJ/kg    \n",
        "Vapor sobrecalentado: 480°C"
      ],
      "metadata": {
        "id": "9tW93hHgmSeZ"
      }
    },
    {
      "cell_type": "markdown",
      "source": [
        "---\n",
        "### Usando coolprop"
      ],
      "metadata": {
        "id": "MNAOca6Rm5a1"
      }
    },
    {
      "cell_type": "code",
      "source": [
        "!pip install CoolProp"
      ],
      "metadata": {
        "colab": {
          "base_uri": "https://localhost:8080/"
        },
        "id": "sCpgnpWtmOpF",
        "outputId": "78bb949d-9181-40ef-d932-26e76e525e15"
      },
      "execution_count": null,
      "outputs": [
        {
          "output_type": "stream",
          "name": "stdout",
          "text": [
            "Collecting CoolProp\n",
            "  Downloading CoolProp-6.5.0.post1-cp310-cp310-manylinux_2_17_x86_64.manylinux2014_x86_64.whl (6.7 MB)\n",
            "\u001b[2K     \u001b[90m━━━━━━━━━━━━━━━━━━━━━━━━━━━━━━━━━━━━━━━━\u001b[0m \u001b[32m6.7/6.7 MB\u001b[0m \u001b[31m41.8 MB/s\u001b[0m eta \u001b[36m0:00:00\u001b[0m\n",
            "\u001b[?25hInstalling collected packages: CoolProp\n",
            "Successfully installed CoolProp-6.5.0.post1\n"
          ]
        }
      ]
    },
    {
      "cell_type": "code",
      "source": [
        "import CoolProp.CoolProp as cp"
      ],
      "metadata": {
        "id": "R9-_CnDdnTeb"
      },
      "execution_count": null,
      "outputs": []
    },
    {
      "cell_type": "code",
      "source": [
        "h_1 = cp.PropsSI('H','P',P,'Q',x,'Water')\n",
        "h_3 = cp.PropsSI('H','P',P,'Q',1,'Water')"
      ],
      "metadata": {
        "id": "plD3srfEnX76"
      },
      "execution_count": null,
      "outputs": []
    },
    {
      "cell_type": "code",
      "source": [
        "h_2 = (m_3*h_3 - m_1*h_1)/m_2\n",
        "T_2 = cp.PropsSI('T','P',P,'H',h_2,'Water')"
      ],
      "metadata": {
        "id": "-r6lLQcQn7lA"
      },
      "execution_count": null,
      "outputs": []
    },
    {
      "cell_type": "code",
      "source": [
        "#@title Resultados:\n",
        "print(\"h_1 = %.3f [kJ/kg]\"%(h_1/1000))\n",
        "print(\"h_3 = %.3f [kJ/kg]\"%(h_3/1000))\n",
        "print(\"h_2 = %.3f [kJ/kg]\"%(h_2/1000))\n",
        "print(\"T_2 = %.2f [K]\"%T_2)\n",
        "print(\"t_2 = %.2f°C\"%(T_2-273.15))"
      ],
      "metadata": {
        "colab": {
          "base_uri": "https://localhost:8080/"
        },
        "cellView": "form",
        "id": "Z4XPQ5B2oJjH",
        "outputId": "4192f431-1b26-417b-ab84-d7a2ad870d16"
      },
      "execution_count": null,
      "outputs": [
        {
          "output_type": "stream",
          "name": "stdout",
          "text": [
            "h_1 = 2420.334 [kJ/kg]\n",
            "h_3 = 2798.293 [kJ/kg]\n",
            "h_2 = 3428.224 [kJ/kg]\n",
            "T_2 = 754.99 [K]\n",
            "t_2 = 481.84°C\n"
          ]
        }
      ]
    },
    {
      "cell_type": "markdown",
      "source": [
        "__Condiciones de vapor:__      \n",
        "P = 20 bar     \n",
        "h = 3428,224 [kJ/kg]     \n",
        "Vapor sobrecalentado: 481,84°C  \n"
      ],
      "metadata": {
        "id": "CxCWQYBKomxL"
      }
    },
    {
      "cell_type": "code",
      "source": [],
      "metadata": {
        "id": "eWkR0DIvoTgG"
      },
      "execution_count": null,
      "outputs": []
    }
  ]
}