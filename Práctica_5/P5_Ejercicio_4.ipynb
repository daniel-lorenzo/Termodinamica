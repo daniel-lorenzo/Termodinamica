{
  "nbformat": 4,
  "nbformat_minor": 0,
  "metadata": {
    "colab": {
      "provenance": [],
      "authorship_tag": "ABX9TyNHdPA9PeAprjngxdGMD38M",
      "include_colab_link": true
    },
    "kernelspec": {
      "name": "python3",
      "display_name": "Python 3"
    },
    "language_info": {
      "name": "python"
    }
  },
  "cells": [
    {
      "cell_type": "markdown",
      "metadata": {
        "id": "view-in-github",
        "colab_type": "text"
      },
      "source": [
        "<a href=\"https://colab.research.google.com/github/daniel-lorenzo/Termodinamica/blob/master/Pr%C3%A1ctica_5/P5_Ejercicio_4.ipynb\" target=\"_parent\"><img src=\"https://colab.research.google.com/assets/colab-badge.svg\" alt=\"Open In Colab\"/></a>"
      ]
    },
    {
      "cell_type": "markdown",
      "source": [
        "# Ejercicio 4\n",
        "Para el siguiente intercambiador de calor, calcular que caudal másico de vapor debe circular para calentar 720 kg/h de agua a 1 bar de 10°C a 50°C. El vapor ingresa a 1,4 bar y 250°C y egresa a 1 bar y 150°C."
      ],
      "metadata": {
        "id": "JqAwQtgjq0yH"
      }
    },
    {
      "cell_type": "markdown",
      "source": [
        "![image.png](data:image/png;base64,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)"
      ],
      "metadata": {
        "id": "Zex-Dsbmredr"
      }
    },
    {
      "cell_type": "markdown",
      "source": [
        "## Solución"
      ],
      "metadata": {
        "id": "ZJKiZnLFrhNo"
      }
    },
    {
      "cell_type": "code",
      "execution_count": 1,
      "metadata": {
        "id": "M-ouh3XhqtVD"
      },
      "outputs": [],
      "source": [
        "# En tabla:\n",
        "h_1 = 2973.20 # [kJ/kg]     (con P=1.4 bar y t=250°C)\n",
        "h_2 = 2776.32 # [kJ/kg]     (con P=1 bar y t=150°C)\n",
        "h_3 =   42.09 # [kJ/kg]     (con P=1 bar y t=10°C)\n",
        "h_4 =  209.33 # [kJ/kg]     (con P=1 bar y t=50°C)"
      ]
    },
    {
      "cell_type": "markdown",
      "source": [
        "$$Q = \\Delta H_{agua} + \\Delta H_{vapor}$$"
      ],
      "metadata": {
        "id": "17R1lHwVt7VH"
      }
    },
    {
      "cell_type": "markdown",
      "source": [
        "$Q=0$\n",
        "$$-\\Delta  H_{vapor} = \\Delta H_{agua}$$"
      ],
      "metadata": {
        "id": "rw7sIzM5uNqy"
      }
    },
    {
      "cell_type": "markdown",
      "source": [
        "$$-m_1(h_2 - h_1) = m_3 (h_4 - h_3)$$"
      ],
      "metadata": {
        "id": "RwgqHPiWvLJx"
      }
    },
    {
      "cell_type": "markdown",
      "source": [
        "$$m_1(h_1 - h_2) = m_3(h_4 - h_3)$$"
      ],
      "metadata": {
        "id": "_y0-PZv9umw2"
      }
    },
    {
      "cell_type": "markdown",
      "source": [
        "$$m_1 = \\frac{m_3(h_4 - h_3)}{h_1 - h_2}$$"
      ],
      "metadata": {
        "id": "RuDo1k1NvZB1"
      }
    },
    {
      "cell_type": "code",
      "source": [
        "m_3 = 720 * 1/(60*60) # [kg/s]\n",
        "\n",
        "m_1 = (m_3*(h_4 - h_3))/(h_1 - h_2)"
      ],
      "metadata": {
        "id": "vEokGDYIuBIF"
      },
      "execution_count": 2,
      "outputs": []
    },
    {
      "cell_type": "code",
      "source": [
        "#@title Resultados\n",
        "print(\"m_1 = %.3f [kg/s]\"%m_1)\n",
        "print(\"m_1 = %.1f [kg/h]\"%(m_1*3600))"
      ],
      "metadata": {
        "colab": {
          "base_uri": "https://localhost:8080/"
        },
        "cellView": "form",
        "id": "wjY1D3jVwUh1",
        "outputId": "f8d5a713-8524-47c4-8f45-ff3a4cf2b472"
      },
      "execution_count": 3,
      "outputs": [
        {
          "output_type": "stream",
          "name": "stdout",
          "text": [
            "m_1 = 0.170 [kg/s]\n",
            "m_1 = 611.6 [kg/h]\n"
          ]
        }
      ]
    }
  ]
}