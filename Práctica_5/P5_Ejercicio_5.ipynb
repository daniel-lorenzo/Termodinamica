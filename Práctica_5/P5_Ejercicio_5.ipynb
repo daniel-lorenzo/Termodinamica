{
  "nbformat": 4,
  "nbformat_minor": 0,
  "metadata": {
    "colab": {
      "provenance": [],
      "authorship_tag": "ABX9TyN/uXwzRRabLv3M+MBLLjd/",
      "include_colab_link": true
    },
    "kernelspec": {
      "name": "python3",
      "display_name": "Python 3"
    },
    "language_info": {
      "name": "python"
    }
  },
  "cells": [
    {
      "cell_type": "markdown",
      "metadata": {
        "id": "view-in-github",
        "colab_type": "text"
      },
      "source": [
        "<a href=\"https://colab.research.google.com/github/daniel-lorenzo/Termodinamica/blob/master/Pr%C3%A1ctica_5/P5_Ejercicio_5.ipynb\" target=\"_parent\"><img src=\"https://colab.research.google.com/assets/colab-badge.svg\" alt=\"Open In Colab\"/></a>"
      ]
    },
    {
      "cell_type": "markdown",
      "source": [
        "# Ejercicio 5\n",
        "Para comprimir aire se utiliza una turbina de vapor. Determinar:\n",
        "1. Potencia que requiere el compresor.\n",
        "2. Caudal másico de vapor."
      ],
      "metadata": {
        "id": "mK618NiKx20x"
      }
    },
    {
      "cell_type": "markdown",
      "source": [
        "![image.png](data:image/png;base64,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)"
      ],
      "metadata": {
        "id": "AJIbI5hRyGAj"
      }
    },
    {
      "cell_type": "markdown",
      "source": [
        "## Solución"
      ],
      "metadata": {
        "id": "VkR-slkHyPxw"
      }
    },
    {
      "cell_type": "markdown",
      "source": [
        "### a)     \n",
        "$$Q - W = \\Delta H$$"
      ],
      "metadata": {
        "id": "LcN2x2QlyZM9"
      }
    },
    {
      "cell_type": "markdown",
      "source": [
        "$Q = 0$\n",
        "$$-\\dot{W}_C = \\Delta H$$"
      ],
      "metadata": {
        "id": "LnX1HbK3zUt2"
      }
    },
    {
      "cell_type": "markdown",
      "source": [
        "$$-\\dot{W}_C = m c_p \\Delta T$$"
      ],
      "metadata": {
        "id": "IGObDmXjypVl"
      }
    },
    {
      "cell_type": "markdown",
      "source": [
        "$$\\dot{W}_C = m c_p (T_1 - T_2)$$"
      ],
      "metadata": {
        "id": "sXr3Yb7Qy8JB"
      }
    },
    {
      "cell_type": "code",
      "execution_count": null,
      "metadata": {
        "id": "stPxhT-uxxCL"
      },
      "outputs": [],
      "source": [
        "# Datos:\n",
        "P_1 = 1e5 # [Pa]\n",
        "T_1 = T_0 = 300 # [K]\n",
        "m_1 = 3 # [kg/s]\n",
        "T_2 = 420 # [K]\n",
        "P_2 = 3e5 # [bar]\n",
        "P_3 = 4e5 # [Pa]\n",
        "T_3 = 473.15 # [K]\n",
        "x_4 = 1\n",
        "P_4 = 1.4e5 # [Pa]\n",
        "cp = 1.0047e3 # [J/(kg·K)]"
      ]
    },
    {
      "cell_type": "code",
      "source": [
        "W_c = m_1*cp*(T_1 - T_2)"
      ],
      "metadata": {
        "id": "aB6wK_jZ0z32"
      },
      "execution_count": null,
      "outputs": []
    },
    {
      "cell_type": "code",
      "source": [
        "print(\"W_c = %.3f [kW]\"%(W_c/1000))"
      ],
      "metadata": {
        "colab": {
          "base_uri": "https://localhost:8080/"
        },
        "id": "h9LqvVlQ0_R2",
        "outputId": "5b295a06-4946-4ae7-ec67-66dad9a7e87e"
      },
      "execution_count": null,
      "outputs": [
        {
          "output_type": "stream",
          "name": "stdout",
          "text": [
            "W_c = -361.692 [kW]\n"
          ]
        }
      ]
    },
    {
      "cell_type": "markdown",
      "source": [
        "### b)\n",
        "$$\\dot{W}_T = \\dot{m}_3 (h_3 - h_4)$$"
      ],
      "metadata": {
        "id": "wlFt5NlJ1SO-"
      }
    },
    {
      "cell_type": "markdown",
      "source": [
        "$$|\\dot{W}_C| = |\\dot{W}_T|$$"
      ],
      "metadata": {
        "id": "rvjrQxnr1w8-"
      }
    },
    {
      "cell_type": "markdown",
      "source": [
        "$$|\\dot{W}_C| = \\dot{m}_3 (h_3 - h_4)$$"
      ],
      "metadata": {
        "id": "3AE634T42Vs1"
      }
    },
    {
      "cell_type": "markdown",
      "source": [
        "$$\\dot{m}_3 = \\frac{|\\dot{W}_C|}{h_3 - h_4}$$"
      ],
      "metadata": {
        "id": "joqqnyaQ2k5X"
      }
    },
    {
      "cell_type": "code",
      "source": [
        "# De tabla\n",
        "h_3 = 2860.38 # [kJ/kg]      (con P=4 bar y T=200°C)\n",
        "h_4 = 2690.28 # [kJ/kg]      (con P=1.4 bar y x=1)"
      ],
      "metadata": {
        "id": "MFtL07ob1Eio"
      },
      "execution_count": null,
      "outputs": []
    },
    {
      "cell_type": "code",
      "source": [
        "m_3 = abs(W_c)/(h_3 - h_4)"
      ],
      "metadata": {
        "id": "6dZBMJmC3Pqc"
      },
      "execution_count": null,
      "outputs": []
    },
    {
      "cell_type": "code",
      "source": [
        "print(\"m_3 = %.3f [kg/s]\"%(m_3/1000))"
      ],
      "metadata": {
        "colab": {
          "base_uri": "https://localhost:8080/"
        },
        "id": "BKAWDp4o3Vz6",
        "outputId": "8ec1b7eb-4b72-4321-f15d-5c597a889c32"
      },
      "execution_count": null,
      "outputs": [
        {
          "output_type": "stream",
          "name": "stdout",
          "text": [
            "m_3 = 2.126 [kg/s]\n"
          ]
        }
      ]
    },
    {
      "cell_type": "code",
      "source": [],
      "metadata": {
        "id": "mLKETSOk3a6p"
      },
      "execution_count": null,
      "outputs": []
    }
  ]
}