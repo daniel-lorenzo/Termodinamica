{
  "nbformat": 4,
  "nbformat_minor": 0,
  "metadata": {
    "colab": {
      "provenance": [],
      "authorship_tag": "ABX9TyMhS46JOAqt3o8661MQL2GU",
      "include_colab_link": true
    },
    "kernelspec": {
      "name": "python3",
      "display_name": "Python 3"
    },
    "language_info": {
      "name": "python"
    }
  },
  "cells": [
    {
      "cell_type": "markdown",
      "metadata": {
        "id": "view-in-github",
        "colab_type": "text"
      },
      "source": [
        "<a href=\"https://colab.research.google.com/github/daniel-lorenzo/Termodinamica/blob/master/Pr%C3%A1ctica_5/P5_Ejercicio_1.ipynb\" target=\"_parent\"><img src=\"https://colab.research.google.com/assets/colab-badge.svg\" alt=\"Open In Colab\"/></a>"
      ]
    },
    {
      "cell_type": "markdown",
      "source": [
        "# Problema 1\n",
        "Analizar la válvula indicada. Si $\\Delta E_c$ y $\\Delta E_p$ son despreciables."
      ],
      "metadata": {
        "id": "PsRxg-Qx-ea0"
      }
    },
    {
      "cell_type": "markdown",
      "source": [
        "![image.png](data:image/png;base64,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)"
      ],
      "metadata": {
        "id": "ZjMsvk2x-7Jz"
      }
    },
    {
      "cell_type": "markdown",
      "source": [
        "## Solución"
      ],
      "metadata": {
        "id": "cn08MxZX-8tI"
      }
    },
    {
      "cell_type": "markdown",
      "source": [
        "$$Q - W = \\Delta h$$"
      ],
      "metadata": {
        "id": "VA7SCGr--_bc"
      }
    },
    {
      "cell_type": "markdown",
      "source": [
        "$$0 = \\Delta h$$"
      ],
      "metadata": {
        "id": "BiodQul7_HQ2"
      }
    },
    {
      "cell_type": "markdown",
      "source": [
        "$$0 = h_s - h_e$$"
      ],
      "metadata": {
        "id": "oRbZI_-R_clZ"
      }
    },
    {
      "cell_type": "markdown",
      "source": [
        "$$h_e = h_s$$"
      ],
      "metadata": {
        "id": "n_hOaVf8_me0"
      }
    },
    {
      "cell_type": "markdown",
      "source": [
        "$P_1 = 40 \\; \\mathrm{bar}$     \n",
        "$T = 300^\\circ \\mathrm{C}$\n",
        "$$h_1 = 2962,01 \\; \\mathrm{kJ/kg}$$"
      ],
      "metadata": {
        "id": "eHOLzd7p_uKu"
      }
    },
    {
      "cell_type": "markdown",
      "source": [
        "$P_2 = 20 \\; \\mathrm{bar}$   \n",
        "$h_1 = 2962 \\; \\mathrm{kJ/kg}$\n",
        "$$\\mbox{Vapor sobrecalentado a }270^\\circ \\mathrm{C}$$\n",
        "$$x = \\nexists$$"
      ],
      "metadata": {
        "id": "jvxGB09mACib"
      }
    }
  ]
}