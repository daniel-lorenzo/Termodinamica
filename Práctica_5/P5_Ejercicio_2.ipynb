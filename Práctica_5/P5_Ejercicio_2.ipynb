{
  "nbformat": 4,
  "nbformat_minor": 0,
  "metadata": {
    "colab": {
      "provenance": [],
      "authorship_tag": "ABX9TyNd6ddVd/+Lvg0oJhwZv2uG",
      "include_colab_link": true
    },
    "kernelspec": {
      "name": "python3",
      "display_name": "Python 3"
    },
    "language_info": {
      "name": "python"
    }
  },
  "cells": [
    {
      "cell_type": "markdown",
      "metadata": {
        "id": "view-in-github",
        "colab_type": "text"
      },
      "source": [
        "<a href=\"https://colab.research.google.com/github/daniel-lorenzo/Termodinamica/blob/master/Pr%C3%A1ctica_5/P5_Ejercicio_2.ipynb\" target=\"_parent\"><img src=\"https://colab.research.google.com/assets/colab-badge.svg\" alt=\"Open In Colab\"/></a>"
      ]
    },
    {
      "cell_type": "markdown",
      "source": [
        "# Ejercicio 2\n",
        "A través de una turbina adiabática circula un caudal másico de 180\n",
        "de vapor de agua. Este ingresa a 10MPa y 600°C y egresa a 100kPa entregando una potencia de 2,5MW.\n",
        "\n",
        "Determinar las condiciones del vapor a la salida. Despreciando ∆Ec y ∆Ep."
      ],
      "metadata": {
        "id": "cYiI-dPeFIuQ"
      }
    },
    {
      "cell_type": "markdown",
      "source": [
        "![image.png](data:image/png;base64,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)"
      ],
      "metadata": {
        "id": "aeCp_nXLFhwc"
      }
    },
    {
      "cell_type": "markdown",
      "source": [
        "## Solución"
      ],
      "metadata": {
        "id": "fg2gxVb6FkMk"
      }
    },
    {
      "cell_type": "markdown",
      "source": [
        "$$\\Delta H = Q - W$$"
      ],
      "metadata": {
        "id": "OaFJqPuNF1z2"
      }
    },
    {
      "cell_type": "markdown",
      "source": [
        "$$\\Delta (h + Ec + Ep) m = Q - W$$"
      ],
      "metadata": {
        "id": "Po_aAOwOFrgc"
      }
    },
    {
      "cell_type": "markdown",
      "source": [
        "$Q = 0$\n",
        "$$\\mbox{Potencia termica} \\qquad \\Delta H = - W \\qquad \\mbox{Potencia mecanica}$$"
      ],
      "metadata": {
        "id": "axJkwJxdF7Im"
      }
    },
    {
      "cell_type": "markdown",
      "source": [
        "$$(h_s - h_e) m = -W$$"
      ],
      "metadata": {
        "id": "xUI1xm-PGgTh"
      }
    },
    {
      "cell_type": "markdown",
      "source": [
        "$$(h_e - h_s)m = W$$"
      ],
      "metadata": {
        "id": "qr8jBealGmQB"
      }
    },
    {
      "cell_type": "markdown",
      "source": [
        "De Tabla de Vapor con   \n",
        "$P = 10 \\; \\mathrm{MPa}$    \n",
        "$T = 600^\\circ \\mathrm{C}$"
      ],
      "metadata": {
        "id": "q9MGlzSjGtZi"
      }
    },
    {
      "cell_type": "markdown",
      "source": [
        "$$h_e = 3622,7 \\; \\mathrm{kJ/kg}$$"
      ],
      "metadata": {
        "id": "ngOFs6b2G8DB"
      }
    },
    {
      "cell_type": "markdown",
      "source": [
        "$$m (h_e -h_s) = W$$"
      ],
      "metadata": {
        "id": "XcInllY1HRPq"
      }
    },
    {
      "cell_type": "markdown",
      "source": [
        "$$h_s = h_e - \\frac{W}{m}$$"
      ],
      "metadata": {
        "id": "i8e5iSiWHYcR"
      }
    },
    {
      "cell_type": "markdown",
      "source": [
        "Reemplazando\n",
        "$$h_s = \\mathrm{(3622,7 \\; kJ/kg) - \\left( \\frac{2500 \\; kW}{3 \\; kg/s} \\right)}$$"
      ],
      "metadata": {
        "id": "n-TLN_6XHxCd"
      }
    },
    {
      "cell_type": "markdown",
      "source": [
        "$$h_s = 2789,367 \\; \\mathrm{kJ/kg}$$"
      ],
      "metadata": {
        "id": "qQkaTSvVIMra"
      }
    },
    {
      "cell_type": "markdown",
      "source": [
        "Condición de vapor a la Salida:   \n",
        "$P = \\mathrm{100 \\; kPa = 1 \\; bar}$     \n",
        "$h_s = 2789,367 \\; \\mathrm{kJ/kg}$"
      ],
      "metadata": {
        "id": "x_tSf_EKITq9"
      }
    },
    {
      "cell_type": "markdown",
      "source": [
        "$$\\mbox{Vapor sobrecalentado } t \\approx 155^\\circ \\mathrm{C} \\quad \\mbox{(con interpolación)}$$"
      ],
      "metadata": {
        "id": "4CNnju0CIuei"
      }
    }
  ]
}