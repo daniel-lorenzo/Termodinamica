{
  "nbformat": 4,
  "nbformat_minor": 0,
  "metadata": {
    "colab": {
      "provenance": [],
      "authorship_tag": "ABX9TyOZRy2OqjJScmD/hWNjmzgH",
      "include_colab_link": true
    },
    "kernelspec": {
      "name": "python3",
      "display_name": "Python 3"
    },
    "language_info": {
      "name": "python"
    }
  },
  "cells": [
    {
      "cell_type": "markdown",
      "metadata": {
        "id": "view-in-github",
        "colab_type": "text"
      },
      "source": [
        "<a href=\"https://colab.research.google.com/github/daniel-lorenzo/Termodinamica/blob/master/Pr%C3%A1ctica_5/P5_Ejercicio_6.ipynb\" target=\"_parent\"><img src=\"https://colab.research.google.com/assets/colab-badge.svg\" alt=\"Open In Colab\"/></a>"
      ]
    },
    {
      "cell_type": "markdown",
      "source": [
        "# Ejercicio 6\n",
        "Determinar:\n",
        "\n",
        "a) $\\dot{Q}$   \n",
        "b) $\\dot{W}$"
      ],
      "metadata": {
        "id": "nu9a47ry4QM0"
      }
    },
    {
      "cell_type": "markdown",
      "source": [
        "![image.png](data:image/png;base64,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)"
      ],
      "metadata": {
        "id": "fl-H1Enp4kwx"
      }
    },
    {
      "cell_type": "markdown",
      "source": [
        "## Solución"
      ],
      "metadata": {
        "id": "tTyRMZ5O4mVM"
      }
    },
    {
      "cell_type": "code",
      "execution_count": null,
      "metadata": {
        "id": "O3rhMiD44OjX"
      },
      "outputs": [],
      "source": [
        "# Datos:\n",
        "m_1 = 23   # [kg/s]\n",
        "P_1 = 10e5 # [Pa]\n",
        "x_1 = 1\n",
        "P_2 = P_1\n",
        "T_2 = 300 + 273.15 # [K]\n",
        "P_3 = 2e5 # [Pa]\n",
        "T_3 = 130 + 273.15 # [K]"
      ]
    },
    {
      "cell_type": "markdown",
      "source": [
        "### a) $\\dot{Q}$\n",
        "$$Q - W = \\Delta H$$"
      ],
      "metadata": {
        "id": "AxX2ytY15Idm"
      }
    },
    {
      "cell_type": "markdown",
      "source": [
        "Entre 1 y 2 no hay trabajo\n",
        "$$Q = \\Delta H$$"
      ],
      "metadata": {
        "id": "JcBT6pZr5yl3"
      }
    },
    {
      "cell_type": "markdown",
      "source": [
        "$$Q = m_1 (h_2 - h_1)$$"
      ],
      "metadata": {
        "id": "wdxM4aKp56ce"
      }
    },
    {
      "cell_type": "code",
      "source": [
        "# De tabla\n",
        "h_1 = 2776.17 # [kJ/kg]      (con P=10 bar y x=1)\n",
        "h_2 = 3052.14 # [kJ/kg]      (con P=10 bar y T=300°C)"
      ],
      "metadata": {
        "id": "UcrMGpjC5nr-"
      },
      "execution_count": null,
      "outputs": []
    },
    {
      "cell_type": "code",
      "source": [
        "Q = m_1*(h_2 - h_1)"
      ],
      "metadata": {
        "id": "frQzNHqa6WTq"
      },
      "execution_count": null,
      "outputs": []
    },
    {
      "cell_type": "code",
      "source": [
        "#@title Resultado\n",
        "print(\"Q = %.2f [kJ/s]\"%Q)"
      ],
      "metadata": {
        "colab": {
          "base_uri": "https://localhost:8080/"
        },
        "id": "rHkRZzgU6aVM",
        "outputId": "acf05077-aac5-47d3-b10d-3be108b0c5d6",
        "cellView": "form"
      },
      "execution_count": null,
      "outputs": [
        {
          "output_type": "stream",
          "name": "stdout",
          "text": [
            "Q = 6347.31 [kJ/s]\n"
          ]
        }
      ]
    },
    {
      "cell_type": "markdown",
      "source": [
        "---\n",
        "### b) $\\dot{W}$"
      ],
      "metadata": {
        "id": "fnhondVx6mjl"
      }
    },
    {
      "cell_type": "code",
      "source": [
        "# De tabla\n",
        "h_3 = 2726.9 # [kJ/kg]     (con P=2 bar y T=130°C)"
      ],
      "metadata": {
        "id": "cVg3_JX-6fop"
      },
      "execution_count": null,
      "outputs": []
    },
    {
      "cell_type": "markdown",
      "source": [
        "$$Q - W = \\Delta H$$"
      ],
      "metadata": {
        "id": "MQ3Pgilk7DaW"
      }
    },
    {
      "cell_type": "markdown",
      "source": [
        "$Q = 0$\n",
        "$$-W = \\Delta H$$"
      ],
      "metadata": {
        "id": "SC_njJQ_7LX_"
      }
    },
    {
      "cell_type": "markdown",
      "source": [
        "$$-W = m_1 (h_3 - h_2)$$"
      ],
      "metadata": {
        "id": "FWeuf96h7gyp"
      }
    },
    {
      "cell_type": "markdown",
      "source": [
        "$$W = m_1 (h_2 - h_3)$$"
      ],
      "metadata": {
        "id": "ywAn0RCW7Tfl"
      }
    },
    {
      "cell_type": "code",
      "source": [
        "W = m_1*(h_2 - h_3)"
      ],
      "metadata": {
        "id": "jwAKXJdL7CYo"
      },
      "execution_count": null,
      "outputs": []
    },
    {
      "cell_type": "code",
      "source": [
        "#@title Resultado\n",
        "print(\"W = %.2f [kJ/s]\"%W)"
      ],
      "metadata": {
        "colab": {
          "base_uri": "https://localhost:8080/"
        },
        "id": "pMHDiSN57xFc",
        "outputId": "135585dd-3bd5-42c6-dc2e-ddf1dca5dd4c",
        "cellView": "form"
      },
      "execution_count": null,
      "outputs": [
        {
          "output_type": "stream",
          "name": "stdout",
          "text": [
            "W = 7480.52 [kJ/s]\n"
          ]
        }
      ]
    }
  ]
}