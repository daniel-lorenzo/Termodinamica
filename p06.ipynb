{
 "cells": [
  {
   "cell_type": "markdown",
   "metadata": {},
   "source": [
    "# Clase práctica 6 - Termodinámica\n",
    "__UNLZ - FI -- Jupyter Notebook + Python 3__\n",
    "\n",
    "__Alumno: Lorenzo, Daniel Antonio__  \n",
    "[<-Previous ](https://nbviewer.jupyter.org/github/daniel-lorenzo/Termodinamica/blob/master/p05.ipynb)\n",
    "[| Next ->](https://nbviewer.jupyter.org/github/daniel-lorenzo/Termodinamica/blob/master/p07.ipynb)"
   ]
  },
  {
   "cell_type": "markdown",
   "metadata": {},
   "source": [
    "# Ejemplo\n",
    "A una tobera entra vapor de agua a 400 °C y 800 kPa, con una velocidad de 10 m/s, y sale a 300 °C y 200 kPa, mientras pierde calor a una tasa de 25 kW. Para un área de entrada de 800 cm², determine la velocidad y el flujo volumétrico del vapor de agua en la salida de la tobera.\n",
    "\n",
    "![5-34.png](img/5-34.png)"
   ]
  },
  {
   "cell_type": "markdown",
   "metadata": {},
   "source": [
    "## Solución\n",
    "Se pierde calor del vapor que fluye en una boquilla. La velocidad y el caudal de volumen a la salida de la boquilla se determinarán.\n",
    "\n",
    "__Supuestos__\n",
    "1. Este es un proceso de flujo constante ya que no hay cambios con el tiempo.\n",
    "2. El cambio potencial de energía es insignificante.\n",
    "3. No hay interacciones laborales.\n",
    "\n",
    "__Análisis__\n",
    "\n",
    "Tomamos el vapor como el sistema, que es un volumen de control ya que la masa cruza el límite. El balance de energía para este sistema de flujo constante puede expresarse en forma de tasa como\n",
    "\n",
    "$$ Q - \\underbrace{W}_0 = \\Delta H + \\underbrace{ \\Delta U }_0 + \\Delta E_c + \\underbrace{ \\Delta E_p }_0 $$\n",
    "\n",
    "$$ Q = m \\, (h_2 - h_1) + \\frac{1}{2} m \\frac{c^2_2 - c^2_1}{2} $$\n",
    "\n",
    "$$ h_1 + \\frac{c^2_1}{2} = h_2 + \\frac{c^2_2}{2} + \\frac{\\dot{Q}}{\\dot{m}} $$\n",
    "\n",
    "$$ |c_2| = \\sqrt{ 2 \\, (h_1 - h_2 - Q/m ) } $$\n",
    "\n",
    "$$ \\dot{m} = \\frac{1}{v_1} A_1 c_1 $$"
   ]
  },
  {
   "cell_type": "code",
   "execution_count": 1,
   "metadata": {},
   "outputs": [],
   "source": [
    "import CoolProp.CoolProp as cp"
   ]
  },
  {
   "cell_type": "code",
   "execution_count": 2,
   "metadata": {},
   "outputs": [
    {
     "name": "stdout",
     "output_type": "stream",
     "text": [
      "h1 = 3267.64 kJ/kg\n",
      "v1 = 0.38428 m^3/s\n",
      "   \n",
      "h2 = 3072.07 kJ/kg\n",
      "v2 = 1.31623 m^3/s\n",
      "   \n",
      "m = 2.082 kg/s\n"
     ]
    }
   ],
   "source": [
    "P1 = 800e3 # Pa\n",
    "T1 = 400 + 273.15 # K\n",
    "c1 = 10 # m/s\n",
    "T2 = 300 + 273.15 # K\n",
    "P2 = 200e3 # Pa\n",
    "Q = 25e3 # J/s\n",
    "A1 = 800e-4 # m^2\n",
    "\n",
    "v1 = 1/cp.PropsSI('D','P',P1,'T',T1,'Water')\n",
    "v2 = 1/cp.PropsSI('D','P',P2,'T',T2,'Water')\n",
    "h1 = cp.PropsSI('H','P',P1,'T',T1,'Water')\n",
    "h2 = cp.PropsSI('H','P',P2,'T',T2,'Water')\n",
    "\n",
    "m = 1/v1 * A1 * c1\n",
    "\n",
    "print('h1 = %s kJ/kg'%round(h1/1000,2))\n",
    "print('v1 = %s m^3/s'%round(v1,5))\n",
    "print('   ')\n",
    "print('h2 = %s kJ/kg'%round(h2/1000,2))\n",
    "print('v2 = %s m^3/s'%round(v2,5))\n",
    "print('   ')\n",
    "print('m = %s kg/s'%round(m,3))"
   ]
  },
  {
   "cell_type": "code",
   "execution_count": 3,
   "metadata": {},
   "outputs": [],
   "source": [
    "import math"
   ]
  },
  {
   "cell_type": "code",
   "execution_count": 4,
   "metadata": {},
   "outputs": [
    {
     "name": "stdout",
     "output_type": "stream",
     "text": [
      "c2 = 605.91 m/s\n"
     ]
    }
   ],
   "source": [
    "c2 = math.sqrt(2*(h1 - h2 - Q/m))\n",
    "\n",
    "print('c2 = %s m/s'%round(c2,2))"
   ]
  },
  {
   "cell_type": "markdown",
   "metadata": {},
   "source": [
    "El flujo volumétrico del vapor de agua en la salida de la tobera es\n",
    "\n",
    "$$ \\dot{V}_2 = \\dot{m} v_2 $$"
   ]
  },
  {
   "cell_type": "code",
   "execution_count": 5,
   "metadata": {},
   "outputs": [
    {
     "name": "stdout",
     "output_type": "stream",
     "text": [
      "V2 = 2.74 m^3/s\n"
     ]
    }
   ],
   "source": [
    "V2 = m*v2\n",
    "\n",
    "print('V2 = %s m^3/s'%round(V2,2))"
   ]
  },
  {
   "cell_type": "code",
   "execution_count": 6,
   "metadata": {},
   "outputs": [],
   "source": [
    "%reset -s -f"
   ]
  },
  {
   "cell_type": "markdown",
   "metadata": {},
   "source": [
    "# Ejemplo\n",
    "A un tubo aislado entra vapor de agua a 200 kPa y 200 °C, y sale a 150 kPa y 150 °C. La relación de diámetros\n",
    "de entrada entre salida para ese tubo es $d_1/d_2 = 1,80$ . Determine las velocidades de entrada y salida del vapor.\n",
    "\n",
    "![5-113.png](img/5-113.png)"
   ]
  },
  {
   "cell_type": "markdown",
   "metadata": {},
   "source": [
    "## Solución\n",
    "__Suposiciones__ \n",
    "1. Este es un proceso de flujo constante ya que no hay cambios con el tiempo. \n",
    "2. El cambio potencial de energía es insignificante. \n",
    "3. No hay interacciones laborales. \n",
    "4. El dispositivo es adiabático y, por lo tanto, la transferencia de calor es insignificante.\n",
    "\n",
    "__Análisis:__ Tomamos la tubería como el sistema, que es un volumen de control ya que la masa cruza el límite. Los balances de masa y energía para este sistema de flujo constante pueden expresarse en la forma de velocidad de vapor como\n",
    "\n",
    "Balance de masa\n",
    "\n",
    "$$ \\dot{m}_{entra} - \\dot{m}_{sale} = \\overbrace{ \\Delta \\dot{m}_{sistema} }^{\\mathrm{(estacionario)}} = 0 $$\n",
    "\n",
    "$$ \\dot{m}_{entra} = \\dot{m}_{sale} $$\n",
    "\n",
    "$$ A_1 \\frac{c_1}{v_1} = A_2 \\frac{c_2}{v_2} $$\n",
    "\n",
    "$$ \\pi \\frac{d^2_1}{4} \\frac{c_1}{v_1} = \\pi \\frac{d^2_2}{4} \\frac{c_2}{v_2} $$\n",
    "\n",
    "$$ d^2_1 \\frac{c_1}{v_1} = d^2_2 \\frac{c_2}{v_2} $$\n",
    "\n",
    "$$ c_2 = \\left( \\frac{d_1}{d_2} \\right)^2 \\, \\frac{c_1}{v_1} v_2 \\tag{1} $$\n",
    "\n",
    "Balance de energía\n",
    "\n",
    "$$ \\underbrace{Q}_0 - \\underbrace{W}_0 = \\Delta H + \\underbrace{ \\Delta U }_0 + E_c + \\underbrace{ \\Delta E_p }_0 $$\n",
    "\n",
    "$$ \\Delta H = - E_c $$\n",
    "\n",
    "$$ m (h_2 - h_1) = - \\frac{1}{2} m \\, (c^2_2 - c^2_1) $$\n",
    "\n",
    "$$ h_2 - h_1 = - \\frac{1}{2}  \\, (c^2_2 - c^2_1) \\tag{2} $$\n",
    "\n",
    "$\\left.\n",
    "\\begin{array}{l}\n",
    "P_1 = 200 \\, \\mathrm{kPa} \\\\\n",
    "T_1 = 200^\\circ \\mathrm{C}\n",
    "\\end{array} \\right\\} \\qquad \\rightarrow \\qquad\n",
    "\\left[\n",
    "\\begin{array}{l}\n",
    "v_1 \\\\\n",
    "h_1\n",
    "\\end{array}\n",
    "\\right]\n",
    "$\n",
    "\n",
    "$\\left.\n",
    "\\begin{array}{l}\n",
    "P_2 = 150 \\, \\mathrm{kPa} \\\\\n",
    "T_2 = 150^\\circ \\mathrm{C}\n",
    "\\end{array} \\right\\} \\qquad \\rightarrow \\qquad\n",
    "\\left[\n",
    "\\begin{array}{l}\n",
    "v_2 \\\\\n",
    "h_2\n",
    "\\end{array}\n",
    "\\right]\n",
    "$"
   ]
  },
  {
   "cell_type": "code",
   "execution_count": 7,
   "metadata": {},
   "outputs": [],
   "source": [
    "import CoolProp.CoolProp as cp"
   ]
  },
  {
   "cell_type": "code",
   "execution_count": 8,
   "metadata": {},
   "outputs": [
    {
     "name": "stdout",
     "output_type": "stream",
     "text": [
      "h1 = 2870.73 kJ/kg\n",
      "h2 = 2772.9 kJ/kg\n",
      "v1 = 1.0805 m^3/kg\n",
      "v2 = 1.2855 m^3/kg\n"
     ]
    }
   ],
   "source": [
    "# Datos\n",
    "D12 = 1.8\n",
    "P1 = 200e3 # Pa\n",
    "P2 = 150e3 # Pa\n",
    "T1 = 200 + 273.15 # K\n",
    "T2 = 150 + 273.15 # K\n",
    "# Consulta entalpía y volumen específico en 1 y 2\n",
    "h1 = cp.PropsSI('H','P',P1,'T',T1,'Water')\n",
    "h2 = cp.PropsSI('H','P',P2,'T',T2,'Water')\n",
    "v1 = 1/cp.PropsSI('D','P',P1,'T',T1,'Water')\n",
    "v2 = 1/cp.PropsSI('D','P',P2,'T',T2,'Water')\n",
    "# Imprime resultados\n",
    "print('h1 = %s kJ/kg'%round(h1/1000,2))\n",
    "print('h2 = %s kJ/kg'%round(h2/1000,2))\n",
    "print('v1 = %s m^3/kg'%round(v1,4))\n",
    "print('v2 = %s m^3/kg'%round(v2,4))"
   ]
  },
  {
   "cell_type": "code",
   "execution_count": 9,
   "metadata": {},
   "outputs": [],
   "source": [
    "# importa biblioteca sympy\n",
    "import sympy as sp"
   ]
  },
  {
   "cell_type": "code",
   "execution_count": 10,
   "metadata": {},
   "outputs": [],
   "source": [
    "# Define variables\n",
    "c1 = sp.symbols('c1')\n",
    "c2 = sp.symbols('c2')\n",
    "# Ecuaciones\n",
    "Eq1 = sp.Eq(c2 , (D12)**2 * c1/v1 * v2)\n",
    "Eq2 = sp.Eq(h2 - h1 , -1/2 * (c2**2 - c1**2) )\n",
    "# Resuelve el sistema de ecuaciones\n",
    "Sol = sp.solve([Eq1,Eq2],[c1,c2])"
   ]
  },
  {
   "cell_type": "code",
   "execution_count": 11,
   "metadata": {},
   "outputs": [
    {
     "name": "stdout",
     "output_type": "stream",
     "text": [
      " c1 (m/s)=         c2 (m/s)=\n",
      "(118.817793837394, 458.020044932756)\n"
     ]
    }
   ],
   "source": [
    "# Imprime resultados\n",
    "print(' c1 (m/s)=         c2 (m/s)=')\n",
    "print(Sol[1])"
   ]
  },
  {
   "cell_type": "markdown",
   "metadata": {},
   "source": [
    "Entonces: \n",
    "\n",
    "$\\begin{array}{l}\n",
    "c_1 \\approx 118,82 \\, \\mathrm{m/s} \\\\\n",
    "c_2 \\approx 458,02 \\, \\mathrm{m/s}\n",
    "\\end{array}$"
   ]
  },
  {
   "cell_type": "code",
   "execution_count": 12,
   "metadata": {},
   "outputs": [],
   "source": [
    "%reset -s -f"
   ]
  },
  {
   "cell_type": "markdown",
   "metadata": {},
   "source": [
    "# Ejercicio 33\n",
    "Por una tobera adiabática circula vapor, determinar la velocidad de salida.\n",
    "\n",
    "![33.png](img/33.png)\n",
    "\n",
    "$$ \\begin{array}{l|l}\n",
    "P_1 = 6 \\, bar & P_2 = 1,2 \\, bar \\\\\n",
    "t_1 = 250^\\circ \\mathrm{C} & x_2 = 0,9 \\\\\n",
    "c_1 = 16 \\, m/s & c_2 = ?\n",
    "\\end{array}\n",
    "$$\n",
    "\n",
    "$$ Q - W = \\Delta H + \\Delta U + \\Delta E_c + \\Delta E_p   $$\n",
    "\n",
    "$ Q=0 \\; ; \\; W=0 \\; ; \\; \\Delta U = 0 \\; ; \\; \\Delta E_p = 0 $"
   ]
  },
  {
   "cell_type": "markdown",
   "metadata": {},
   "source": [
    "### Solución\n",
    "Entalpía en el punto 1"
   ]
  },
  {
   "cell_type": "code",
   "execution_count": 13,
   "metadata": {},
   "outputs": [],
   "source": [
    "# importa la biblioteca CoolProp (requiere instalación) - http://www.coolprop.org\n",
    "import CoolProp.CoolProp as cp"
   ]
  },
  {
   "cell_type": "markdown",
   "metadata": {},
   "source": [
    "$\\left\\{\n",
    "\\begin{array}{l}\n",
    "P_1 = 6 \\, \\mathrm{bar} \\\\\n",
    "t_1 = 250^\\circ \\mathrm{C}\n",
    "\\end{array}\n",
    "\\right. \\qquad \\rightarrow \\qquad h_1\n",
    "$"
   ]
  },
  {
   "cell_type": "code",
   "execution_count": 14,
   "metadata": {},
   "outputs": [
    {
     "name": "stdout",
     "output_type": "stream",
     "text": [
      "h_1 = 2957.55 kJ/kg\n"
     ]
    }
   ],
   "source": [
    "# utilizando CoolProp\n",
    "# Entalpía en 1\n",
    "T_1 = 250 + 273.15 # K\n",
    "P_1 = 6e5 # Pa\n",
    "\n",
    "h_1 = cp.PropsSI('H','T',T_1,'P',P_1,'Water')\n",
    "\n",
    "print('h_1 = %s kJ/kg' % round(h_1/1000,2) )"
   ]
  },
  {
   "cell_type": "markdown",
   "metadata": {},
   "source": [
    "Entalpía en el punto 2 nos encontramos en el equilibrio\n",
    "\n",
    "$\\left\\{\n",
    "\\begin{array}{l}\n",
    "P_2 = 1,2 \\, \\mathrm{bar} \\\\\n",
    "x_2 = 0,9\n",
    "\\end{array}\n",
    "\\right. \\qquad \\rightarrow \\qquad\n",
    "\\left[\n",
    "\\begin{array}{l}\n",
    "h' \\\\\n",
    "h''\n",
    "\\end{array}\n",
    "\\right]\n",
    "$\n",
    "\n",
    "Calculamos h con: \n",
    "\n",
    "$$ h_2 = x_2 \\, (h''-h')+h' $$"
   ]
  },
  {
   "cell_type": "code",
   "execution_count": 15,
   "metadata": {},
   "outputs": [
    {
     "name": "stdout",
     "output_type": "stream",
     "text": [
      "hp1 = 439.36 kJ/kg\n",
      "hp2 = 2683.05 kJ/kg\n"
     ]
    }
   ],
   "source": [
    "# Utilizando CoolProp\n",
    "P_2 = 1.2e5 # Pa\n",
    "x_2 = 0.9\n",
    "\n",
    "hp1 = cp.PropsSI('H','P',P_2,'Q',0,'Water')\n",
    "hp2 = cp.PropsSI('H','P',P_2,'Q',1,'Water')\n",
    "\n",
    "print('hp1 = %s kJ/kg'%round(hp1/1000,2))\n",
    "print('hp2 = %s kJ/kg'%round(hp2/1000,2))"
   ]
  },
  {
   "cell_type": "code",
   "execution_count": 16,
   "metadata": {},
   "outputs": [
    {
     "name": "stdout",
     "output_type": "stream",
     "text": [
      "h_2 = 2458.68 kJ/kg\n"
     ]
    }
   ],
   "source": [
    "# Entalpía en 2, calculado con la fórmula\n",
    "\n",
    "h_2 = x_2*(hp2 - hp1) + hp1\n",
    "\n",
    "print('h_2 = %s kJ/kg' % round(h_2/1000,2))"
   ]
  },
  {
   "cell_type": "code",
   "execution_count": 17,
   "metadata": {},
   "outputs": [
    {
     "data": {
      "text/plain": [
       "2458.6840630126912"
      ]
     },
     "execution_count": 17,
     "metadata": {},
     "output_type": "execute_result"
    }
   ],
   "source": [
    "# o directamente con CoolProp\n",
    "cp.PropsSI('H','P',P_2,'Q',x_2,'Water') / 1000"
   ]
  },
  {
   "cell_type": "markdown",
   "metadata": {},
   "source": [
    "$$ \\Delta H = - \\Delta E_c $$\n",
    "\n",
    "$$ m (h_2 - h_1 ) = - \\frac{1}{2} m (c^2_2 - c^2_1) $$\n",
    "\n",
    "$$ -2 (h_2 - h_1) + c^2_1 = c^2_2 $$\n",
    "\n",
    "$$ c_2 = \\sqrt{2 (h_1 - h_2) + c^2_1} $$"
   ]
  },
  {
   "cell_type": "code",
   "execution_count": 18,
   "metadata": {},
   "outputs": [],
   "source": [
    "import sympy as sp"
   ]
  },
  {
   "cell_type": "code",
   "execution_count": 19,
   "metadata": {},
   "outputs": [],
   "source": [
    "c2 = sp.symbols('c2')\n",
    "c1 = 16 # m/s\n",
    "\n",
    "Eq1 = sp.Eq(h_2 - h_1 , -1/2 * (c2**2 - c1**2) )\n",
    "\n",
    "Sol = sp.solve(Eq1,c2)"
   ]
  },
  {
   "cell_type": "code",
   "execution_count": 20,
   "metadata": {},
   "outputs": [],
   "source": [
    "import math"
   ]
  },
  {
   "cell_type": "code",
   "execution_count": 21,
   "metadata": {},
   "outputs": [
    {
     "name": "stdout",
     "output_type": "stream",
     "text": [
      "c_2 = 998.99 m/s\n"
     ]
    }
   ],
   "source": [
    "# Cálculo de c2\n",
    "c_1 = 16 # m/s\n",
    "\n",
    "c_2 = math.sqrt(2*(h_1 - h_2) + c_1**2)\n",
    "\n",
    "print('c_2 = %s m/s' % round(c_2,2) )"
   ]
  },
  {
   "cell_type": "code",
   "execution_count": 22,
   "metadata": {},
   "outputs": [],
   "source": [
    "%reset -s -f"
   ]
  },
  {
   "cell_type": "markdown",
   "metadata": {},
   "source": [
    "## Ejercicio 34\n",
    "Se abre la válvula y un recipiente con vacío inicial, se llena hasta alcanzar la presión de línea, se pide:\n",
    "1. Temperatura final\n",
    "2. Masa que ingresó\n",
    "![34.png](img/34.png)"
   ]
  },
  {
   "cell_type": "markdown",
   "metadata": {},
   "source": [
    "### Solución\n",
    "$$ Q - W = \\Delta U \\quad ; \\quad Q = 0 $$\n",
    "\n",
    "$$ W = W_{\\Delta V} = P \\, \\Delta V = P (V_f - V_i)  $$\n",
    "$\\left\\{\n",
    "\\begin{array}{l}\n",
    "V_i = 0 \\\\\n",
    "V_f = 0,5 \\, m^3 \\\\\n",
    "P = 1000 \\, kPa\n",
    "\\end{array}\n",
    "\\right.\n",
    "$"
   ]
  },
  {
   "cell_type": "code",
   "execution_count": 23,
   "metadata": {},
   "outputs": [
    {
     "name": "stdout",
     "output_type": "stream",
     "text": [
      "W_dv = -500.0 kJ\n"
     ]
    }
   ],
   "source": [
    "# Trabajo por variación de volumen\n",
    "# Inicialmete el recipiente está vacío,\n",
    "# Luego el gas ocupa el volumen del recipiente 0,5 m^3\n",
    "Vi = 0\n",
    "Vf = 0.5 # m^3\n",
    "P = 1000 # kPa\n",
    "W_dv = -P*(Vf - Vi) # trabajo realizado sobre el sistema signo (-) negantivo\n",
    "print('W_dv = %s kJ'% W_dv)"
   ]
  },
  {
   "cell_type": "markdown",
   "metadata": {},
   "source": [
    "$$ -W_{\\Delta V} = \\Delta U $$\n",
    "\n",
    "$$ \\Delta U = m \\, c_p \\, \\Delta T = m \\, c_p \\, (T_f - T_i) $$\n",
    "\n",
    "$$ m = \\frac{PV_f}{RT_f} $$\n",
    "\n",
    "$$ -W_{\\Delta V} = \\frac{PV_f}{RT_f} \\, c_p \\, (T_f - T_i)  $$"
   ]
  },
  {
   "cell_type": "code",
   "execution_count": 24,
   "metadata": {},
   "outputs": [],
   "source": [
    "from sympy import *"
   ]
  },
  {
   "cell_type": "code",
   "execution_count": 25,
   "metadata": {},
   "outputs": [
    {
     "name": "stdout",
     "output_type": "stream",
     "text": [
      "Tf = 662.36 K\n",
      "m = 2.63 kg\n"
     ]
    }
   ],
   "source": [
    "Tf = symbols('Tf')\n",
    "Ti = 200 + 273.15 # K\n",
    "R = 0.287 # kJ/(kg*K)\n",
    "cp = 1.0047 # kJ/(kg*K)\n",
    "m = (P*Vf)/(R*Tf)\n",
    "DU = m*cp*(Tf - Ti)\n",
    "eq1 = Eq(-W_dv , DU) # primer principio de la termodinámica\n",
    "seq1 = solve(eq1,Tf)\n",
    "Tf = seq1[0]\n",
    "print('Tf = %s K' % round(Tf,2))\n",
    "m = (P*Vf)/(R*Tf)\n",
    "print('m = %s kg' % round(m,2))"
   ]
  },
  {
   "cell_type": "code",
   "execution_count": 26,
   "metadata": {},
   "outputs": [],
   "source": [
    "%reset -s -f"
   ]
  },
  {
   "cell_type": "markdown",
   "metadata": {},
   "source": [
    "# Ejercicio 5-123\n",
    "Un dispositivo de cilindro-émbolo vertical aislado contiene una masa de 10 kg de agua, de la cual 6 kg están en\n",
    "fase de vapor. La masa del émbolo es tal que mantiene una presión constante de 200 kPa dentro del cilindro. Entonces, se deja entrar vapor de agua a 0.5 MPa y 350°C al cilindro, desde una línea de suministro, hasta que se haya evaporado todo el líquido en el cilindro.\n",
    "\n",
    "__Determine:__\n",
    "1. la temperatura final en el cilindro\n",
    "2. la masa del vapor que entró.\n",
    "\n",
    "![5-123.png](img/5-123.png)"
   ]
  },
  {
   "cell_type": "markdown",
   "metadata": {},
   "source": [
    "## Solución\n",
    "\n",
    "__Suposiciones__ \n",
    "1. Este es un proceso no estacionario ya que las condiciones dentro del dispositivo están cambiando durante el proceso, pero puede analizarse como un proceso de flujo uniforme ya que el estado del fluido en la entrada permanece constante. \n",
    "2. El proceso de expansión es cuasi-equilibrio. \n",
    "3. Las energías cinética y potencial son insignificantes. \n",
    "4. No hay interacciones laborales involucradas que no sean trabajos de límites. \n",
    "5. El dispositivo está aislado y, por lo tanto, la transferencia de calor es insignificante.\n",
    "\n",
    "$\\left.\n",
    "\\begin{array}{l}\n",
    "P_1 = 200 \\, \\mathrm{kPa} \\\\\n",
    "x_1 = 0,6\n",
    "\\end{array}\n",
    "\\right\\} \\quad \\rightarrow \\quad\n",
    "\\left[\n",
    "\\begin{array}{l}\n",
    "h' \\\\\n",
    "h''\n",
    "\\end{array}\n",
    "\\right]\n",
    "$\n",
    "\n",
    "$$ h_1 = x_1 \\, (h'' - h') + h' $$"
   ]
  },
  {
   "cell_type": "code",
   "execution_count": 27,
   "metadata": {},
   "outputs": [],
   "source": [
    "import CoolProp.CoolProp as cp"
   ]
  },
  {
   "cell_type": "code",
   "execution_count": 28,
   "metadata": {},
   "outputs": [
    {
     "name": "stdout",
     "output_type": "stream",
     "text": [
      "h_1 = 1825.62 kJ/kg\n"
     ]
    }
   ],
   "source": [
    "# Datos\n",
    "P_1 = 200e3 # Pa\n",
    "x_1 = 0.6\n",
    "\n",
    "h_1 = cp.PropsSI('H','P',P_1,'Q',x_1,'Water')\n",
    "\n",
    "print('h_1 = %s kJ/kg'%round(h_1/1000,2))"
   ]
  },
  {
   "cell_type": "markdown",
   "metadata": {},
   "source": [
    "$\\left.\n",
    "\\begin{array}{l}\n",
    "P_2 = 200 \\, \\mathrm{kPa} \\\\\n",
    "x_2 = 1\n",
    "\\end{array}\n",
    "\\right\\} \\quad \\rightarrow \\quad [h_2] $"
   ]
  },
  {
   "cell_type": "code",
   "execution_count": 29,
   "metadata": {},
   "outputs": [
    {
     "name": "stdout",
     "output_type": "stream",
     "text": [
      "h_2 = 2706.23 kJ/kg\n"
     ]
    }
   ],
   "source": [
    "# Datos\n",
    "P_2 = P_1\n",
    "x_2 = 1\n",
    "\n",
    "h_2 = cp.PropsSI('H','P',P_2,'Q',x_2,'Water')\n",
    "\n",
    "print('h_2 = %s kJ/kg'%round(h_2/1000,2))"
   ]
  },
  {
   "cell_type": "markdown",
   "metadata": {},
   "source": [
    "$\\left.\n",
    "\\begin{array}{l}\n",
    "P_i = 0,5 \\, \\mathrm{MPa} \\\\\n",
    "t_i = 350^\\circ \\mathrm{C}\n",
    "\\end{array}\n",
    "\\right\\} \\quad \\rightarrow \\quad [h_i] $"
   ]
  },
  {
   "cell_type": "code",
   "execution_count": 30,
   "metadata": {},
   "outputs": [
    {
     "name": "stdout",
     "output_type": "stream",
     "text": [
      "h_i = 3168.08 kJ/kg\n"
     ]
    }
   ],
   "source": [
    "# Datos\n",
    "P_i = 0.5e6 # Pa\n",
    "T_i = 350 + 273.15 # K\n",
    "\n",
    "h_i = cp.PropsSI('H','P',P_i,'T',T_i,'Water')\n",
    "\n",
    "print('h_i = %s kJ/kg'%round(h_i/1000,2))"
   ]
  },
  {
   "cell_type": "markdown",
   "metadata": {},
   "source": [
    "El cilindro contiene vapor saturado en el estado final a una presión de 200 kPa, por lo tanto, la temperatura final en el cilindro debe ser"
   ]
  },
  {
   "cell_type": "code",
   "execution_count": 31,
   "metadata": {},
   "outputs": [
    {
     "name": "stdout",
     "output_type": "stream",
     "text": [
      "T_2 = 393.36 K\n",
      "t_2 = 120.21°C\n"
     ]
    }
   ],
   "source": [
    "T_2 = cp.PropsSI('T','P',P_2,'Q',x_2,'Water')\n",
    "\n",
    "print('T_2 = %s K'%round(T_2,2))\n",
    "print('t_2 = %s°C'%round(T_2 - 273.15,2))"
   ]
  },
  {
   "cell_type": "markdown",
   "metadata": {},
   "source": [
    "$$ m_i = m_2 - m_1 $$\n",
    "\n",
    "$$ m_i h_i = W_b + m_2 u_2 - m_1 u_1 $$\n",
    "\n",
    "$$ (m_2 - m_1) \\, h_i = m_2 h_2 - m_1 h_1 $$\n",
    "\n",
    "$$ m_2 = \\frac{h_i - h_1}{h_i - h_2} \\, m_1 $$"
   ]
  },
  {
   "cell_type": "code",
   "execution_count": 32,
   "metadata": {},
   "outputs": [
    {
     "name": "stdout",
     "output_type": "stream",
     "text": [
      "m_2 = 29.07 kg\n",
      "m_i = 19.07 kg\n"
     ]
    }
   ],
   "source": [
    "m_1 = 10 # kg\n",
    "\n",
    "m_2 = (h_i - h_1)/(h_i - h_2) * m_1\n",
    "\n",
    "m_i = m_2 - m_1\n",
    "\n",
    "print('m_2 = %s kg'%round(m_2,2))\n",
    "print('m_i = %s kg'%round(m_i,2))"
   ]
  },
  {
   "cell_type": "code",
   "execution_count": 33,
   "metadata": {},
   "outputs": [],
   "source": [
    "%reset -s -f"
   ]
  },
  {
   "cell_type": "markdown",
   "metadata": {},
   "source": [
    "## Ejercicio 35\n",
    "Se abre la válvula y el recipiente con vacía inicial. Se llena hasta alcanzar la presión de línea:\n",
    "\n",
    "Determinar:\n",
    "1. Temperatura final del vapor\n",
    "2. Masa de vapor\n",
    "![35.png](img/35.png)"
   ]
  },
  {
   "cell_type": "markdown",
   "metadata": {},
   "source": [
    "### Solución\n",
    "$$ Q - W = \\Delta U + \\Delta E \\quad ; \\quad Q=0 $$\n",
    "\n",
    "Cálculo de entalpía de entrada $h_e$\n",
    "$$ x = \\frac{h-h'}{h''-h'} \\quad \\rightarrow \\quad h = x (h'' - h') + h' $$\n",
    "![35_m1.png](img/35_m1.png)\n",
    "\n",
    "$$ h' = 1085,8 \\, kJ/kg \\quad ; \\quad h'' = 2800,9 kJ/kg \\quad ; \\quad x = 0,8 $$"
   ]
  },
  {
   "cell_type": "code",
   "execution_count": 34,
   "metadata": {},
   "outputs": [],
   "source": [
    "# importa la biblioteca CoolProp - (http://www.coolprop.org)\n",
    "from CoolProp.CoolProp import PropsSI"
   ]
  },
  {
   "cell_type": "code",
   "execution_count": 35,
   "metadata": {},
   "outputs": [
    {
     "name": "stdout",
     "output_type": "stream",
     "text": [
      "hp1 = 1085.77 kJ/kg\n",
      "hp2 = 2800.93 kJ/kg\n"
     ]
    }
   ],
   "source": [
    "# utilizando CoolProp\n",
    "Ti = 250 + 273.15 # K\n",
    "hp1 = PropsSI('H','T',Ti,'Q',0,'Water') / 1000\n",
    "hp2 = PropsSI('H','T',Ti,'Q',1,'Water') / 1000\n",
    "print('hp1 = %s kJ/kg' %round(hp1,2) )\n",
    "print('hp2 = %s kJ/kg' %round(hp2,2) )"
   ]
  },
  {
   "cell_type": "code",
   "execution_count": 36,
   "metadata": {},
   "outputs": [
    {
     "name": "stdout",
     "output_type": "stream",
     "text": [
      "h_e = 2457.9 kJ/kg\n"
     ]
    }
   ],
   "source": [
    "x = 0.8\n",
    "h_e = x*(hp2 - hp1) + hp1\n",
    "print('h_e = %s kJ/kg' % round(h_e,2) )"
   ]
  },
  {
   "cell_type": "code",
   "execution_count": 37,
   "metadata": {},
   "outputs": [
    {
     "data": {
      "text/plain": [
       "2457.8999501428725"
      ]
     },
     "execution_count": 37,
     "metadata": {},
     "output_type": "execute_result"
    }
   ],
   "source": [
    "# o también con CoolProp\n",
    "PropsSI('H','T',Ti,'Q',x,'Water') / 1000"
   ]
  },
  {
   "cell_type": "markdown",
   "metadata": {},
   "source": [
    "$$ H_E = U_f $$\n",
    "\n",
    "$$ m \\, h_e = m \\, u_f $$\n",
    "\n",
    "$$ h_e = u_f $$\n",
    "\n",
    "$$ x = \\frac{u - u'}{u'' - u'} $$"
   ]
  },
  {
   "cell_type": "code",
   "execution_count": 38,
   "metadata": {},
   "outputs": [
    {
     "name": "stdout",
     "output_type": "stream",
     "text": [
      "up1 = 1080.79 kJ/kg\n",
      "up2 = 2601.79 kJ/kg\n"
     ]
    }
   ],
   "source": [
    "# Energía interna en el equilibrio u' y u''\n",
    "u_f = h_e\n",
    "up1 = PropsSI('U','T',Ti,'Q',0,'Water') / 1000 # u' en kJ/kg\n",
    "up2 = PropsSI('U','T',Ti,'Q',1,'Water') / 1000 # u'' en kJ/kg\n",
    "print('up1 = %s kJ/kg' %round(up1,2) )\n",
    "print('up2 = %s kJ/kg' %round(up2,2) )"
   ]
  },
  {
   "cell_type": "code",
   "execution_count": 39,
   "metadata": {},
   "outputs": [
    {
     "name": "stdout",
     "output_type": "stream",
     "text": [
      "x2 = 0.905\n"
     ]
    }
   ],
   "source": [
    "# Cálculo del título en el estado final\n",
    "x2 = (u_f - up1)/(up2 - up1)\n",
    "print('x2 = %s' % round(x2,3))"
   ]
  },
  {
   "cell_type": "code",
   "execution_count": 40,
   "metadata": {},
   "outputs": [
    {
     "name": "stdout",
     "output_type": "stream",
     "text": [
      "vp1 = 0.0012517301723926485 m^3/kg\n",
      "vp2 = 0.050083036576661015 m^3/kg\n"
     ]
    }
   ],
   "source": [
    "# Volumenes específicos en el equilirio u' y u''\n",
    "vp1 = 1 / PropsSI('D','T',Ti,'Q',0,'Water')\n",
    "vp2 = 1 / PropsSI('D','T',Ti,'Q',1,'Water')\n",
    "print('vp1 = %s m^3/kg' %vp1 )\n",
    "print('vp2 = %s m^3/kg' %vp2 )"
   ]
  },
  {
   "cell_type": "markdown",
   "metadata": {},
   "source": [
    "$x_2 = 0,905$\n",
    "$$ v = x_2 (v'' - v') + v' $$"
   ]
  },
  {
   "cell_type": "code",
   "execution_count": 41,
   "metadata": {},
   "outputs": [
    {
     "name": "stdout",
     "output_type": "stream",
     "text": [
      "Dens = 21.9957 kg/m^3\n",
      "m = 4.4 kg\n"
     ]
    }
   ],
   "source": [
    "# Cálculo de masa vapor final\n",
    "v_f = x2 * (vp2 - vp1) + vp1\n",
    "Dens = 1/v_f\n",
    "Vol = 0.2 # m^3\n",
    "print('Dens = %s kg/m^3' % round(Dens,4) )\n",
    "m = Dens * Vol\n",
    "print('m = %s kg' % round(m,2) )"
   ]
  },
  {
   "cell_type": "code",
   "execution_count": 42,
   "metadata": {},
   "outputs": [
    {
     "name": "stdout",
     "output_type": "stream",
     "text": [
      "D_final = 21.9957 kg/m^3\n",
      "masa = 4.4 kg\n"
     ]
    }
   ],
   "source": [
    "# o también con CoolProp se puede hacer directamente\n",
    "D_final = PropsSI('D','T',Ti,'Q',x2,'Water')\n",
    "print('D_final = %s kg/m^3'% round(D_final,4))\n",
    "masa = D_final * Vol\n",
    "print('masa = %s kg' % round(masa,2))"
   ]
  },
  {
   "cell_type": "code",
   "execution_count": 43,
   "metadata": {},
   "outputs": [],
   "source": [
    "%reset -s -f"
   ]
  },
  {
   "cell_type": "markdown",
   "metadata": {},
   "source": [
    "## Ejercicio 36\n",
    "Un conjunto cilindro-pistón adiabático contiene inicialmente 10 kg de vapor húmedo con\n",
    "título 0,8. Se abre la válvula e ingresa vapor a 0,5 MPa y 350°C. hasta que el conjunto contenga\n",
    "vapor saturado. Determinar:\n",
    "1. Masa que ingresó\n",
    "2. Trabajo realizado\n",
    "3. Trabajo útil o neto\n",
    "![36.png](img/36.png)"
   ]
  },
  {
   "cell_type": "markdown",
   "metadata": {},
   "source": [
    "## Solución\n",
    "\n",
    "__Suposiciones__ \n",
    "1. Este es un proceso no estacionario ya que las condiciones dentro del dispositivo están cambiando durante el proceso, pero puede analizarse como un proceso de flujo uniforme ya que el estado del fluido en la entrada permanece constante. \n",
    "2. El proceso de expansión es cuasi-equilibrio. \n",
    "3. Las energías cinética y potencial son insignificantes. \n",
    "4. No hay interacciones laborales involucradas que no sean trabajos de límites. \n",
    "5. El dispositivo está aislado y, por lo tanto, la transferencia de calor es insignificante.\n",
    "\n",
    "$\\left.\n",
    "\\begin{array}{l}\n",
    "P_1 = 3 \\, \\mathrm{bar} \\\\\n",
    "x_1 = 0,8\n",
    "\\end{array}\n",
    "\\right\\} \\quad \\rightarrow \\quad\n",
    "\\left[\n",
    "\\begin{array}{l}\n",
    "h' \\\\\n",
    "h''\n",
    "\\end{array}\n",
    "\\right]\n",
    "\\quad \\rightarrow \\quad\n",
    "\\left[\n",
    "\\begin{array}{l}\n",
    "v' \\\\\n",
    "v''\n",
    "\\end{array}\n",
    "\\right]\n",
    "$\n",
    "\n",
    "$$ h_1 = x_1 \\, (h'' - h') + h' $$\n",
    "\n",
    "$$ v_1 = x_1 \\, (v'' - v') + v' $$"
   ]
  },
  {
   "cell_type": "code",
   "execution_count": 44,
   "metadata": {},
   "outputs": [],
   "source": [
    "import CoolProp.CoolProp as cp"
   ]
  },
  {
   "cell_type": "code",
   "execution_count": 45,
   "metadata": {},
   "outputs": [
    {
     "name": "stdout",
     "output_type": "stream",
     "text": [
      "h_1 = 2292.19 kJ/kg\n",
      "v_1 = 0.48482 m^3/kg\n"
     ]
    }
   ],
   "source": [
    "# Datos\n",
    "P_1 = 3e5 # Pa\n",
    "x_1 = 0.8\n",
    "\n",
    "h_1 = cp.PropsSI('H','P',P_1,'Q',x_1,'Water')\n",
    "v_1 = 1/cp.PropsSI('D','P',P_1,'Q',x_1,'Water')\n",
    "\n",
    "print('h_1 = %s kJ/kg'%round(h_1/1000,2))\n",
    "print('v_1 = %s m^3/kg'%round(v_1,5))"
   ]
  },
  {
   "cell_type": "markdown",
   "metadata": {},
   "source": [
    "$\\left.\n",
    "\\begin{array}{l}\n",
    "P_2 = 3 \\, \\mathrm{bar} \\\\\n",
    "x_2 = 1\n",
    "\\end{array}\n",
    "\\right\\} \\quad \\rightarrow \\quad\n",
    "[h_2]\n",
    "\\quad \\rightarrow \\quad\n",
    "[v_2]$"
   ]
  },
  {
   "cell_type": "code",
   "execution_count": 46,
   "metadata": {},
   "outputs": [
    {
     "name": "stdout",
     "output_type": "stream",
     "text": [
      "h_2 = 2724.88 kJ/kg\n",
      "v_2 = 0.60576 m^3/kg\n"
     ]
    }
   ],
   "source": [
    "# Datos\n",
    "P_2 = P_1\n",
    "x_2 = 1\n",
    "\n",
    "h_2 = cp.PropsSI('H','P',P_2,'Q',x_2,'Water')\n",
    "v_2 = 1/cp.PropsSI('D','P',P_2,'Q',x_2,'Water')\n",
    "\n",
    "print('h_2 = %s kJ/kg'%round(h_2/1000,2))\n",
    "print('v_2 = %s m^3/kg'%round(v_2,5))"
   ]
  },
  {
   "cell_type": "markdown",
   "metadata": {},
   "source": [
    "$\\left.\n",
    "\\begin{array}{l}\n",
    "P_i = 0,5 \\, \\mathrm{MPa} \\\\\n",
    "t_i = 350^\\circ \\mathrm{C}\n",
    "\\end{array}\n",
    "\\right\\} \\quad \\rightarrow \\quad\n",
    "[h_i]$"
   ]
  },
  {
   "cell_type": "code",
   "execution_count": 47,
   "metadata": {},
   "outputs": [
    {
     "name": "stdout",
     "output_type": "stream",
     "text": [
      "h_i = 3168.08 kJ/kg\n"
     ]
    }
   ],
   "source": [
    "# Datos\n",
    "P_i = 0.5e6 # Pa\n",
    "T_i = 350 + 273.15 # K\n",
    "\n",
    "h_i = cp.PropsSI('H','P',P_i,'T',T_i,'Water')\n",
    "\n",
    "print('h_i = %s kJ/kg'%round(h_i/1000,2))"
   ]
  },
  {
   "cell_type": "markdown",
   "metadata": {},
   "source": [
    "$$ m_i = m_2 - m_1 $$\n",
    "\n",
    "$$ m_i h_i = W_b + m_2 u_2 - m_1 u_1 $$\n",
    "\n",
    "$$ (m_2 - m_1) \\, h_i = m_2 h_2 - m_1 h_1 $$\n",
    "\n",
    "$$ m_2 = \\frac{h_i - h_1}{h_i - h_2} \\, m_1 $$"
   ]
  },
  {
   "cell_type": "code",
   "execution_count": 48,
   "metadata": {},
   "outputs": [
    {
     "name": "stdout",
     "output_type": "stream",
     "text": [
      "m_2 = 19.76 kg\n",
      "m_i = 9.76 kg\n"
     ]
    }
   ],
   "source": [
    "m_1 = 10 # kg\n",
    "\n",
    "m_2 = (h_i - h_1)/(h_i - h_2) * m_1\n",
    "\n",
    "m_i = m_2 - m_1\n",
    "\n",
    "print('m_2 = %s kg'%round(m_2,2))\n",
    "print('m_i = %s kg'%round(m_i,2))"
   ]
  },
  {
   "cell_type": "code",
   "execution_count": 49,
   "metadata": {},
   "outputs": [
    {
     "name": "stdout",
     "output_type": "stream",
     "text": [
      "W_b = 2137.01 kJ\n",
      "W_neto = 1413.99 kJ\n"
     ]
    }
   ],
   "source": [
    "V_1 = m_1*v_1\n",
    "V_2 = m_2*v_2\n",
    "P_0 = 1015e2 # Pa\n",
    "\n",
    "W_b = P_2*(V_2 - V_1)\n",
    "W_neto = W_b - P_0*(V_2 - V_1)\n",
    "\n",
    "print('W_b = %s kJ'%round(W_b/1000,2))\n",
    "print('W_neto = %s kJ'%round(W_neto/1000,2))"
   ]
  },
  {
   "cell_type": "code",
   "execution_count": 50,
   "metadata": {},
   "outputs": [],
   "source": [
    "%reset -s -f"
   ]
  },
  {
   "cell_type": "markdown",
   "metadata": {},
   "source": [
    "## Ejercicio 37\n",
    "Para el siguiente proceso, determinar:\n",
    "1. Caudal másico $\\dot{m}_1$\n",
    "2. Caudal másico $\\dot{m}_3$\n",
    "3. Caudal másico $\\dot{m}_4$\n",
    "4. Temperatura de salida del aire\n",
    "![37.png](img/37.png)"
   ]
  },
  {
   "cell_type": "markdown",
   "metadata": {},
   "source": [
    "### Solución\n",
    "Fórmula cámara de mezclado\n",
    "$$ \\left\\{\n",
    "\\begin{array}{ll}\n",
    "m_2 h_2 + m_4 h_4 = m_5 h_5 & [1] \\\\\n",
    "m_5 = m_2 + m_4 & [2]\n",
    "\\end{array}\n",
    "\\right.\n",
    "$$\n",
    "Despejo $m_4$\n",
    "$$\\Rightarrow \\quad m_4 = m_2 \\frac{h_5 - h_2}{h_4 - h_5} $$"
   ]
  },
  {
   "cell_type": "code",
   "execution_count": 51,
   "metadata": {},
   "outputs": [],
   "source": [
    "# Importamos la librería CoolProp (tabla termodinámica)\n",
    "from CoolProp.CoolProp import PropsSI"
   ]
  },
  {
   "cell_type": "code",
   "execution_count": 52,
   "metadata": {},
   "outputs": [
    {
     "name": "stdout",
     "output_type": "stream",
     "text": [
      "h2 = 2777.11 kJ/kg\n",
      "h4 = 3051.63 kJ/kg\n",
      "h5 = 2828.26 kJ/kg\n"
     ]
    }
   ],
   "source": [
    "# Entalpía en h2, h4 y h5 con CoolProp (tabla)\n",
    "# Datos: (CoolProp trabaja con unidades SI)\n",
    "P5 = 10e5 # Pa\n",
    "T4 = 300 + 273.15 # K\n",
    "T5 = 200 + 273.15 # K\n",
    "\n",
    "h2 = PropsSI('H','P',P5,'Q',1,'Water') / 1000\n",
    "h4 = PropsSI('H','T',T4,'P',P5,'Water') / 1000\n",
    "h5 = PropsSI('H','T',T5,'P',P5,'Water') / 1000\n",
    "\n",
    "print('h2 = %s kJ/kg'% round(h2,2))\n",
    "print('h4 = %s kJ/kg'% round(h4,2))\n",
    "print('h5 = %s kJ/kg'% round(h5,2))"
   ]
  },
  {
   "cell_type": "code",
   "execution_count": 53,
   "metadata": {},
   "outputs": [
    {
     "name": "stdout",
     "output_type": "stream",
     "text": [
      "m4 = 0.6871 kg/s\n"
     ]
    }
   ],
   "source": [
    "# Cálculo de masa 4\n",
    "m2 = 3 # kg/s\n",
    "m4 = m2*(h5 - h2)/(h4 - h5)\n",
    "print('m4 = %s kg/s'%round(m4,4) )"
   ]
  },
  {
   "cell_type": "markdown",
   "metadata": {},
   "source": [
    "Ecuación turbina\n",
    "$$ \\left\\{\n",
    "\\begin{array}{ll}\n",
    "W = m_1 h_1 - m_3 h_3 - m_4 h_4 & [3] \\\\\n",
    "m_1 = m_3 + m_4 & [4]\n",
    "\\end{array}\n",
    "\\right.\n",
    "$$\n",
    "Despejo\n",
    "$$ \\Rightarrow \\quad m_3 = \\frac{W + m_4 (h_4 - h_1)}{h_1 - h_3}   $$"
   ]
  },
  {
   "cell_type": "code",
   "execution_count": 54,
   "metadata": {},
   "outputs": [
    {
     "name": "stdout",
     "output_type": "stream",
     "text": [
      "h1 = 3248.34 kJ/kg\n",
      "h3 = 2674.95 kJ/kg\n"
     ]
    }
   ],
   "source": [
    "# Entalpía en 1 y 3 con coolprop (tabla)\n",
    "P1 = 20e5 # Pa\n",
    "T1 = 400 + 273.15 # K\n",
    "P3 = 1e5 # Pa\n",
    "h1 = PropsSI('H','P',P1,'T',T1,'Water') / 1000\n",
    "h3 = PropsSI('H','P',P3,'Q',1,'Water') / 1000\n",
    "print('h1 = %s kJ/kg'%round(h1,2))\n",
    "print('h3 = %s kJ/kg'%round(h3,2))"
   ]
  },
  {
   "cell_type": "code",
   "execution_count": 55,
   "metadata": {},
   "outputs": [
    {
     "name": "stdout",
     "output_type": "stream",
     "text": [
      "m3 = 17.2 kg/s\n"
     ]
    }
   ],
   "source": [
    "# Cálculo de masa 3\n",
    "W = 10e3 # J/s\n",
    "m3 = (W + m4*(h4 - h1))/(h1 - h3)\n",
    "print('m3 = %s kg/s'%round(m3,2))"
   ]
  },
  {
   "cell_type": "code",
   "execution_count": 56,
   "metadata": {},
   "outputs": [
    {
     "name": "stdout",
     "output_type": "stream",
     "text": [
      "m1 = 17.89 kg/s\n"
     ]
    }
   ],
   "source": [
    "# Cálculo de masa 1\n",
    "m1 = m3 + m4\n",
    "print('m1 = %s kg/s'%round(m1,2))"
   ]
  },
  {
   "cell_type": "markdown",
   "metadata": {},
   "source": [
    "Intercambiador de calor\n",
    "$$ m_5 (h_5 - h_6) = m_7 c_p (T_f - T_i) $$\n",
    "\n",
    "$$\\Rightarrow \\quad T_f = \\frac{m_5 (h_5 - h_6)}{m_7 c_p} + T_i  $$"
   ]
  },
  {
   "cell_type": "code",
   "execution_count": 57,
   "metadata": {},
   "outputs": [
    {
     "name": "stdout",
     "output_type": "stream",
     "text": [
      "h6 = 2777.11 kJ/kg\n"
     ]
    }
   ],
   "source": [
    "# Entalpía en 6 con coolprop (tabla)\n",
    "h6 = PropsSI('H','P',P5,'Q',1,'Water') / 1000\n",
    "print('h6 = %s kJ/kg'%round(h6,2))"
   ]
  },
  {
   "cell_type": "code",
   "execution_count": 58,
   "metadata": {},
   "outputs": [
    {
     "name": "stdout",
     "output_type": "stream",
     "text": [
      "Tf = 425.31 K\n"
     ]
    }
   ],
   "source": [
    "# Cálculo de temperatura de salida del aire\n",
    "Ti = 27 + 273.15 # K\n",
    "cp = 1.0047 # (aire)\n",
    "m7 = 1.5 # kg/s\n",
    "m5 = m2 + m4\n",
    "\n",
    "Tf = m5*(h5 - h6) / (m7*cp) + Ti\n",
    "print('Tf = %s K'%round(Tf,2))"
   ]
  },
  {
   "cell_type": "code",
   "execution_count": 59,
   "metadata": {},
   "outputs": [],
   "source": [
    "%reset -s -f"
   ]
  },
  {
   "cell_type": "markdown",
   "metadata": {},
   "source": [
    "## Ejercicio 38\n",
    "Se abre la válvula en tiempo necesario para equilibrar las presiones. En el estado final, la\n",
    "masa que queda en el tanque esta a 250°C. Determinar:\n",
    "\n",
    "1. Temperatura final de la masa en el ciclindro\n",
    "2. Masa que ingresa al cilindro\n",
    "![38.png](img/38.png)"
   ]
  },
  {
   "cell_type": "markdown",
   "metadata": {},
   "source": [
    "### Solución\n",
    "Usamos la ecuación de estado de los gases ideales\n",
    "$$ PV = m RT $$\n",
    "\n",
    "$$ m_{A1} = \\frac{P_{A1} V_{A}}{R T_{A1}} $$"
   ]
  },
  {
   "cell_type": "code",
   "execution_count": 60,
   "metadata": {},
   "outputs": [
    {
     "name": "stdout",
     "output_type": "stream",
     "text": [
      "m_A1 = 1.8 kg (total)\n"
     ]
    }
   ],
   "source": [
    "# A: Tanque; B: Cilindro\n",
    "# 1: inicial; 2: final\n",
    "# Datos\n",
    "R = 0.287 # kJ/(kg*K)\n",
    "T_A1 = 500 + 273.15 # K\n",
    "P_A1 = 2000 # kPa\n",
    "V_A = 0.2 # m^3\n",
    "\n",
    "# Cálculo masa en inicial en A\n",
    "m_A1 = (P_A1*V_A)/(R*T_A1)\n",
    "\n",
    "print('m_A1 = %s kg (total)'% round(m_A1,2) )"
   ]
  },
  {
   "cell_type": "code",
   "execution_count": 61,
   "metadata": {},
   "outputs": [
    {
     "name": "stdout",
     "output_type": "stream",
     "text": [
      "m_A2 = 0.4 kg\n"
     ]
    }
   ],
   "source": [
    "# Datos:\n",
    "P_2 = 300 # kPa\n",
    "T_A2 = 250 + 273.15 # K\n",
    "\n",
    "# Cálculo masa final en A\n",
    "m_A2 = (P_2*V_A)/(R*T_A2)\n",
    "\n",
    "print('m_A2 = %s kg'%round(m_A2,2))"
   ]
  },
  {
   "cell_type": "code",
   "execution_count": 62,
   "metadata": {},
   "outputs": [
    {
     "name": "stdout",
     "output_type": "stream",
     "text": [
      "m_B2 = 1.4 kg\n"
     ]
    }
   ],
   "source": [
    "# Cálculo masa final en B\n",
    "m_B2 = m_A1 - m_A2\n",
    "\n",
    "print('m_B2 = %s kg'%round(m_B2,2))"
   ]
  },
  {
   "cell_type": "code",
   "execution_count": 63,
   "metadata": {},
   "outputs": [
    {
     "name": "stdout",
     "output_type": "stream",
     "text": [
      "U_A1 = 1000.14 kJ/kg\n"
     ]
    }
   ],
   "source": [
    "cv = 0.7176 # kJ/kg*K\n",
    "\n",
    "# Energía interna inicial en A\n",
    "U_A1 = m_A1*cv*T_A1\n",
    "\n",
    "print('U_A1 = %s kJ/kg'%round(U_A1,2))"
   ]
  },
  {
   "cell_type": "code",
   "execution_count": 64,
   "metadata": {},
   "outputs": [
    {
     "name": "stdout",
     "output_type": "stream",
     "text": [
      "U_A2 = 150.02 kJ/kg\n"
     ]
    }
   ],
   "source": [
    "# Energía interna final en A\n",
    "U_A2 = m_A2*cv*T_A2\n",
    "\n",
    "print('U_A2 = %s kJ/kg'%round(U_A2,2))"
   ]
  },
  {
   "cell_type": "code",
   "execution_count": 65,
   "metadata": {},
   "outputs": [
    {
     "name": "stdout",
     "output_type": "stream",
     "text": [
      "DU = -850.12 kJ/kg\n"
     ]
    }
   ],
   "source": [
    "# Variación de energía interna\n",
    "DU = U_A2 - U_A1\n",
    "\n",
    "print('DU = %s kJ/kg'%round(DU,2))"
   ]
  },
  {
   "cell_type": "markdown",
   "metadata": {},
   "source": [
    "$$ -\\Delta U_A = \\Delta H_B $$ \n",
    "\n",
    "$$ -\\Delta U_A = m_{B2} \\, c_p \\, T_{B2} $$\n",
    "\n",
    "$$ T_{B2} = \\frac{-\\Delta U}{m_{B2} \\, c_p} $$"
   ]
  },
  {
   "cell_type": "code",
   "execution_count": 66,
   "metadata": {},
   "outputs": [
    {
     "name": "stdout",
     "output_type": "stream",
     "text": [
      "T_B2 = 603.07 K\n",
      "t_B2 = 329.92°C\n"
     ]
    }
   ],
   "source": [
    "cp = 1.0047 # kJ/kg*K\n",
    "\n",
    "T_B2 = -DU/(m_B2*cp)\n",
    "\n",
    "print('T_B2 = %s K'%round(T_B2,2))\n",
    "print('t_B2 = %s°C'%round(T_B2 - 273.15,2))"
   ]
  },
  {
   "cell_type": "code",
   "execution_count": 67,
   "metadata": {},
   "outputs": [],
   "source": [
    "%reset -s -f"
   ]
  },
  {
   "cell_type": "markdown",
   "metadata": {},
   "source": [
    "[<-Previous ](https://nbviewer.jupyter.org/github/daniel-lorenzo/Termodinamica/blob/master/p05.ipynb)\n",
    "[| Next ->](https://nbviewer.jupyter.org/github/daniel-lorenzo/Termodinamica/blob/master/p07.ipynb)"
   ]
  }
 ],
 "metadata": {
  "kernelspec": {
   "display_name": "Python 3",
   "language": "python",
   "name": "python3"
  },
  "language_info": {
   "codemirror_mode": {
    "name": "ipython",
    "version": 3
   },
   "file_extension": ".py",
   "mimetype": "text/x-python",
   "name": "python",
   "nbconvert_exporter": "python",
   "pygments_lexer": "ipython3",
   "version": "3.7.3"
  }
 },
 "nbformat": 4,
 "nbformat_minor": 2
}
