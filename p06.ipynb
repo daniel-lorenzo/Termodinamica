{
 "cells": [
  {
   "cell_type": "markdown",
   "metadata": {},
   "source": [
    "# Clase práctica 6 - Termodinámica\n",
    "__UNLZ - FI -- Fecha: 11/05/2019 -- Jupyter Notebook + Python 3__\n",
    "\n",
    "__Alumno: Lorenzo, Daniel Antonio__"
   ]
  },
  {
   "cell_type": "markdown",
   "metadata": {},
   "source": [
    "## Ejercicio 33\n",
    "Por una tobera adiabática circula vapor, determinar la velocidad de salida.\n",
    "![33.png](img/33.png)\n",
    "$$ \\begin{array}{l|l}\n",
    "P_1 = 6 \\, bar & P_2 = 1,2 \\, bar \\\\\n",
    "t_1 = 250^\\circ \\mathrm{C} & x_2 = 0,9 \\\\\n",
    "c_1 = 16 \\, m/s & c_2 = ?\n",
    "\\end{array}\n",
    "$$\n",
    "\n",
    "$$ Q - W = \\Delta H + \\Delta U + \\Delta E_c + \\Delta E_p   $$\n",
    "\n",
    "$ Q=0 \\; ; \\; W=0 \\; ; \\; \\Delta U = 0 \\; ; \\; \\Delta E_p = 0 $"
   ]
  },
  {
   "cell_type": "markdown",
   "metadata": {},
   "source": [
    "### Solución\n",
    "Entalpía en el punto 1, con miniREF obtenemos: ![32_m1.png](img/32_m1.png)"
   ]
  },
  {
   "cell_type": "code",
   "execution_count": 1,
   "metadata": {},
   "outputs": [],
   "source": [
    "# importa la biblioteca CoolProp (requiere instalación) - http://www.coolprop.org\n",
    "from CoolProp.CoolProp import PropsSI"
   ]
  },
  {
   "cell_type": "code",
   "execution_count": 2,
   "metadata": {},
   "outputs": [
    {
     "name": "stdout",
     "output_type": "stream",
     "text": [
      "h1 = 2957.55 kJ/kg\n"
     ]
    }
   ],
   "source": [
    "# utilizando CoolProp\n",
    "# Entalpía en 1\n",
    "t1 = 250+273.15 # K\n",
    "P1 = 6e5 # Pa\n",
    "h1 = PropsSI('H','T',t1,'P',P1,'Water') / 1000\n",
    "print('h1 = %s kJ/kg' % round(h1,2) )"
   ]
  },
  {
   "cell_type": "markdown",
   "metadata": {},
   "source": [
    "Entalpía en el punto 2 nos encontramos en el equilibrio, $(P_2 = 1,2 \\, bar)$ y $(x=0,9)$\n",
    "\n",
    "Con miniREF ![32_m2.png](img/32_m2.png)\n",
    "\n",
    "Obtenemos: $\\left\\{ \\begin{array}{l}\n",
    "h' = 439,36 \\, kJ/kg  \\\\\n",
    "h'' = 2683,1 \\, kJ/kg\n",
    "\\end{array} \\right.\n",
    "$\n",
    "Calculamos h con: \n",
    "$\\; \\rightarrow \\; h = x \\, (h''-h')+h' $"
   ]
  },
  {
   "cell_type": "code",
   "execution_count": 3,
   "metadata": {},
   "outputs": [
    {
     "name": "stdout",
     "output_type": "stream",
     "text": [
      "hp1 = 439.36 kJ/kg\n",
      "hp2 = 2683.05 kJ/kg\n"
     ]
    }
   ],
   "source": [
    "# Utilizando CoolProp\n",
    "P2 = 1.2e5 # Pa\n",
    "hp1 = PropsSI('H','P',P2,'Q',0,'Water') / 1000 # kJ/kg\n",
    "hp2 = PropsSI('H','P',P2,'Q',1,'Water') / 1000 # kJ/kg\n",
    "print('hp1 = %s kJ/kg' % round(hp1,2))\n",
    "print('hp2 = %s kJ/kg' % round(hp2,2))"
   ]
  },
  {
   "cell_type": "code",
   "execution_count": 4,
   "metadata": {},
   "outputs": [
    {
     "name": "stdout",
     "output_type": "stream",
     "text": [
      "h2 = 2458.68 kJ/kg\n"
     ]
    }
   ],
   "source": [
    "# Entalpía en 2, calculado con la fórmula\n",
    "x = 0.9\n",
    "h2 = x*(hp2 - hp1) + hp1\n",
    "print('h2 = %s kJ/kg' % round(h2,2))"
   ]
  },
  {
   "cell_type": "code",
   "execution_count": 5,
   "metadata": {},
   "outputs": [
    {
     "data": {
      "text/plain": [
       "2458.6840630126912"
      ]
     },
     "execution_count": 5,
     "metadata": {},
     "output_type": "execute_result"
    }
   ],
   "source": [
    "# o directamente con CoolProp\n",
    "PropsSI('H','P',P2,'Q',x,'Water') / 1000"
   ]
  },
  {
   "cell_type": "markdown",
   "metadata": {},
   "source": [
    "$$ \\Delta H = - \\Delta E_c $$\n",
    "\n",
    "$$ m (h_2 - h_1 ) = - \\frac{1}{2} m (c^2_2 - c^2_1) $$\n",
    "\n",
    "$$ -2 (h_2 - h_1) + c^2_1 = c^2_2 $$\n",
    "\n",
    "$$ c_2 = \\sqrt{2 (h_1 - h_2) + c^2_1} $$"
   ]
  },
  {
   "cell_type": "code",
   "execution_count": 7,
   "metadata": {},
   "outputs": [
    {
     "name": "stdout",
     "output_type": "stream",
     "text": [
      "c2 = 35.41 m/s\n"
     ]
    }
   ],
   "source": [
    "# Cálculo de c2\n",
    "from math import *\n",
    "c1 = 16 # m/s\n",
    "c2 = sqrt(2*(h1 - h2) + c1**2)\n",
    "print('c2 = %s m/s' % round(c2,2) )"
   ]
  },
  {
   "cell_type": "code",
   "execution_count": 12,
   "metadata": {},
   "outputs": [],
   "source": [
    "%reset -s -f"
   ]
  },
  {
   "cell_type": "markdown",
   "metadata": {},
   "source": [
    "## Ejercicio 34\n",
    "Se abre la válvula y un recipiente con vacío inicial, se llena hasta alcanzar la presión de línea, se pide:\n",
    "1. Temperatura final\n",
    "2. Masa que ingresó\n",
    "![34.png](img/34.png)"
   ]
  },
  {
   "cell_type": "markdown",
   "metadata": {},
   "source": [
    "### Solución\n",
    "$$ Q - W = \\Delta U \\quad ; \\quad Q = 0 $$\n",
    "\n",
    "$$ W = W_{\\Delta V} = P \\, \\Delta V = P (V_f - V_i)  $$\n",
    "$\\left\\{\n",
    "\\begin{array}{l}\n",
    "V_i = 0 \\\\\n",
    "V_f = 0,5 \\, m^3 \\\\\n",
    "P = 1000 \\, kPa\n",
    "\\end{array}\n",
    "\\right.\n",
    "$"
   ]
  },
  {
   "cell_type": "code",
   "execution_count": 13,
   "metadata": {},
   "outputs": [
    {
     "name": "stdout",
     "output_type": "stream",
     "text": [
      "W_dv = -500.0 kJ\n"
     ]
    }
   ],
   "source": [
    "# Trabajo por variación de volumen\n",
    "# Inicialmete el recipiente está vacío,\n",
    "# Luego el gas ocupa el volumen del recipiente 0,5 m^3\n",
    "Vi = 0\n",
    "Vf = 0.5 # m^3\n",
    "P = 1000 # kPa\n",
    "W_dv = -P*(Vf - Vi) # trabajo realizado sobre el sistema signo (-) negantivo\n",
    "print('W_dv = %s kJ'% W_dv)"
   ]
  },
  {
   "cell_type": "markdown",
   "metadata": {},
   "source": [
    "$$ -W_{\\Delta V} = \\Delta U $$\n",
    "\n",
    "$$ \\Delta U = m \\, c_p \\, \\Delta T = m \\, c_p \\, (T_f - T_i) $$\n",
    "\n",
    "$$ m = \\frac{PV_f}{RT_f} $$\n",
    "\n",
    "$$ -W_{\\Delta V} = \\frac{PV_f}{RT_f} \\, c_p \\, (T_f - T_i)  $$"
   ]
  },
  {
   "cell_type": "code",
   "execution_count": 14,
   "metadata": {},
   "outputs": [],
   "source": [
    "from sympy import *"
   ]
  },
  {
   "cell_type": "code",
   "execution_count": 15,
   "metadata": {},
   "outputs": [
    {
     "name": "stdout",
     "output_type": "stream",
     "text": [
      "Tf = 662.36 K\n",
      "m = 2.63 kg\n"
     ]
    }
   ],
   "source": [
    "Tf = symbols('Tf')\n",
    "Ti = 200 + 273.15 # K\n",
    "R = 0.287 # kJ/(kg*K)\n",
    "cp = 1.0047 # kJ/(kg*K)\n",
    "m = (P*Vf)/(R*Tf)\n",
    "DU = m*cp*(Tf - Ti)\n",
    "eq1 = Eq(-W_dv , DU) # primer principio de la termodinámica\n",
    "seq1 = solve(eq1,Tf)\n",
    "Tf = seq1[0]\n",
    "print('Tf = %s K' % round(Tf,2))\n",
    "m = (P*Vf)/(R*Tf)\n",
    "print('m = %s kg' % round(m,2))"
   ]
  },
  {
   "cell_type": "code",
   "execution_count": 28,
   "metadata": {},
   "outputs": [
    {
     "name": "stdout",
     "output_type": "stream",
     "text": [
      "\u001b[H\u001b[2J"
     ]
    }
   ],
   "source": [
    "%reset -s -f"
   ]
  },
  {
   "cell_type": "markdown",
   "metadata": {},
   "source": [
    "## Ejercicio 35\n",
    "Se abre la válvula y el recipiente con vacía inicial. Se llena hasta alcanzar la presión de línea:\n",
    "\n",
    "Determinar:\n",
    "1. Temperatura final del vapor\n",
    "2. Masa de vapor\n",
    "![35.png](img/35.png)"
   ]
  },
  {
   "cell_type": "markdown",
   "metadata": {},
   "source": [
    "### Solución\n",
    "$$ Q - W = \\Delta U + \\Delta E \\quad ; \\quad Q=0 $$\n",
    "\n",
    "Cálculo de entalpía de entrada $h_e$\n",
    "$$ x = \\frac{h-h'}{h''-h'} \\quad \\rightarrow \\quad h = x (h'' - h') + h' $$\n",
    "![35_m1.png](img/35_m1.png)\n",
    "\n",
    "$$ h' = 1085,8 \\, kJ/kg \\quad ; \\quad h'' = 2800,9 kJ/kg \\quad ; \\quad x = 0,8 $$"
   ]
  },
  {
   "cell_type": "code",
   "execution_count": 30,
   "metadata": {},
   "outputs": [],
   "source": [
    "# importa la biblioteca CoolProp - (http://www.coolprop.org)\n",
    "from CoolProp.CoolProp import PropsSI"
   ]
  },
  {
   "cell_type": "code",
   "execution_count": 31,
   "metadata": {},
   "outputs": [
    {
     "name": "stdout",
     "output_type": "stream",
     "text": [
      "hp1 = 1085.77 kJ/kg\n",
      "hp2 = 2800.93 kJ/kg\n"
     ]
    }
   ],
   "source": [
    "# utilizando CoolProp\n",
    "Ti = 250 + 273.15 # K\n",
    "hp1 = PropsSI('H','T',Ti,'Q',0,'Water') / 1000\n",
    "hp2 = PropsSI('H','T',Ti,'Q',1,'Water') / 1000\n",
    "print('hp1 = %s kJ/kg' %round(hp1,2) )\n",
    "print('hp2 = %s kJ/kg' %round(hp2,2) )"
   ]
  },
  {
   "cell_type": "code",
   "execution_count": 32,
   "metadata": {},
   "outputs": [
    {
     "name": "stdout",
     "output_type": "stream",
     "text": [
      "h_e = 2457.9 kJ/kg\n"
     ]
    }
   ],
   "source": [
    "x = 0.8\n",
    "h_e = x*(hp2 - hp1) + hp1\n",
    "print('h_e = %s kJ/kg' % round(h_e,2) )"
   ]
  },
  {
   "cell_type": "code",
   "execution_count": 34,
   "metadata": {},
   "outputs": [
    {
     "data": {
      "text/plain": [
       "2457.8999501428725"
      ]
     },
     "execution_count": 34,
     "metadata": {},
     "output_type": "execute_result"
    }
   ],
   "source": [
    "# o también con CoolProp\n",
    "PropsSI('H','T',Ti,'Q',x,'Water') / 1000"
   ]
  },
  {
   "cell_type": "markdown",
   "metadata": {},
   "source": [
    "$$ H_E = U_f $$\n",
    "\n",
    "$$ m \\, h_e = m \\, u_f $$\n",
    "\n",
    "$$ h_e = u_f $$\n",
    "\n",
    "$$ x = \\frac{u - u'}{u'' - u'} $$"
   ]
  },
  {
   "cell_type": "code",
   "execution_count": 35,
   "metadata": {},
   "outputs": [
    {
     "name": "stdout",
     "output_type": "stream",
     "text": [
      "up1 = 1080.79 kJ/kg\n",
      "up2 = 2601.79 kJ/kg\n"
     ]
    }
   ],
   "source": [
    "# Energía interna en el equilibrio u' y u''\n",
    "u_f = h_e\n",
    "up1 = PropsSI('U','T',Ti,'Q',0,'Water') / 1000 # u' en kJ/kg\n",
    "up2 = PropsSI('U','T',Ti,'Q',1,'Water') / 1000 # u'' en kJ/kg\n",
    "print('up1 = %s kJ/kg' %round(up1,2) )\n",
    "print('up2 = %s kJ/kg' %round(up2,2) )"
   ]
  },
  {
   "cell_type": "code",
   "execution_count": 36,
   "metadata": {},
   "outputs": [
    {
     "name": "stdout",
     "output_type": "stream",
     "text": [
      "x2 = 0.905\n"
     ]
    }
   ],
   "source": [
    "# Cálculo del título en el estado final\n",
    "x2 = (u_f - up1)/(up2 - up1)\n",
    "print('x2 = %s' % round(x2,3))"
   ]
  },
  {
   "cell_type": "code",
   "execution_count": 44,
   "metadata": {},
   "outputs": [
    {
     "name": "stdout",
     "output_type": "stream",
     "text": [
      "vp1 = 0.0012517301723926485 m^3/kg\n",
      "vp2 = 0.050083036576661015 m^3/kg\n"
     ]
    }
   ],
   "source": [
    "# Volumenes específicos en el equilirio u' y u''\n",
    "vp1 = 1 / PropsSI('D','T',Ti,'Q',0,'Water')\n",
    "vp2 = 1 / PropsSI('D','T',Ti,'Q',1,'Water')\n",
    "print('vp1 = %s m^3/kg' %vp1 )\n",
    "print('vp2 = %s m^3/kg' %vp2 )"
   ]
  },
  {
   "cell_type": "markdown",
   "metadata": {},
   "source": [
    "$x_2 = 0,905$\n",
    "$$ v = x_2 (v'' - v') + v' $$"
   ]
  },
  {
   "cell_type": "code",
   "execution_count": 47,
   "metadata": {},
   "outputs": [
    {
     "name": "stdout",
     "output_type": "stream",
     "text": [
      "Dens = 21.9957 kg/m^3\n",
      "m = 4.4 kg\n"
     ]
    }
   ],
   "source": [
    "# Cálculo de masa vapor final\n",
    "v_f = x2 * (vp2 - vp1) + vp1\n",
    "Dens = 1/v_f\n",
    "Vol = 0.2 # m^3\n",
    "print('Dens = %s kg/m^3' % round(Dens,4) )\n",
    "m = Dens * Vol\n",
    "print('m = %s kg' % round(m,2) )"
   ]
  },
  {
   "cell_type": "code",
   "execution_count": 49,
   "metadata": {},
   "outputs": [
    {
     "name": "stdout",
     "output_type": "stream",
     "text": [
      "D_final = 21.9957 kg/m^3\n",
      "masa = 4.4 kg\n"
     ]
    }
   ],
   "source": [
    "# o también con CoolProp se puede hacer directamente\n",
    "D_final = PropsSI('D','T',Ti,'Q',x2,'Water')\n",
    "print('D_final = %s kg/m^3'% round(D_final,4))\n",
    "masa = D_final * Vol\n",
    "print('masa = %s kg' % round(masa,2))"
   ]
  },
  {
   "cell_type": "code",
   "execution_count": 100,
   "metadata": {},
   "outputs": [],
   "source": [
    "%reset -s -f"
   ]
  },
  {
   "cell_type": "markdown",
   "metadata": {},
   "source": [
    "## Ejercicio 36\n",
    "Un conjunto cilindro-pistón adiabático contiene inicialmente 10 kg de vapor húmedo con\n",
    "título 0,8. Se abre la válvula e ingresa vapor a 0,5 MPa y 350°C. hasta que el conjunto contenga\n",
    "vapor saturado. Determinar:\n",
    "1. Masa que ingresó\n",
    "2. Trabajo realizado\n",
    "3. Trabajo útil o neto\n",
    "![36.png](img/36.png)"
   ]
  },
  {
   "cell_type": "markdown",
   "metadata": {},
   "source": [
    "### Solución\n",
    "Inicialmente con una $P_i = 3 \\, bar$ y $x=0,8$\n",
    "![36_m1.png](img/36_m1.png)"
   ]
  },
  {
   "cell_type": "code",
   "execution_count": 1,
   "metadata": {},
   "outputs": [],
   "source": [
    "from CoolProp.CoolProp import PropsSI"
   ]
  },
  {
   "cell_type": "code",
   "execution_count": 2,
   "metadata": {},
   "outputs": [
    {
     "name": "stdout",
     "output_type": "stream",
     "text": [
      "hp1 = 561.43 kJ/kg\n",
      "hp2 = 2724.88 kJ/kg\n"
     ]
    }
   ],
   "source": [
    "Pp = 3e5 # Pa\n",
    "hp1 = PropsSI('H','P',Pp,'Q',0,'Water') / 1000 # (h' en kJ/kg)\n",
    "hp2 = PropsSI('H','P',Pp,'Q',1,'Water') / 1000 # (h'' en kJ/kg)\n",
    "print('hp1 = %s kJ/kg' %round(hp1,2) )\n",
    "print('hp2 = %s kJ/kg' %round(hp2,2) )"
   ]
  },
  {
   "cell_type": "code",
   "execution_count": 3,
   "metadata": {},
   "outputs": [
    {
     "name": "stdout",
     "output_type": "stream",
     "text": [
      "h1 = 2292.19 kJ/kg\n"
     ]
    }
   ],
   "source": [
    "# Calculamos la entalpía en 1\n",
    "x = 0.8\n",
    "h1 = x*(hp2 - hp1) + hp1\n",
    "print('h1 = %s kJ/kg' %round(h1,2) )"
   ]
  },
  {
   "cell_type": "code",
   "execution_count": 13,
   "metadata": {},
   "outputs": [
    {
     "data": {
      "text/plain": [
       "2292.1914397907026"
      ]
     },
     "execution_count": 13,
     "metadata": {},
     "output_type": "execute_result"
    }
   ],
   "source": [
    "# h1 directamente con coolprop\n",
    "PropsSI('H','P',Pp,'Q',x,'Water') / 1000"
   ]
  },
  {
   "cell_type": "markdown",
   "metadata": {},
   "source": [
    "$h_2 = h_e \\quad ; \\quad P_e = 0,5 \\, MPa = 5 \\, bar \\quad ; \\quad t_e = 350 ^\\circ \\mathrm{C}$\n",
    "![36_m2.png](img/36_m2.png)"
   ]
  },
  {
   "cell_type": "code",
   "execution_count": 4,
   "metadata": {},
   "outputs": [
    {
     "name": "stdout",
     "output_type": "stream",
     "text": [
      "h2 = 3168.08 kJ/kg\n"
     ]
    }
   ],
   "source": [
    "# Entalpía en 2\n",
    "t2 = 350 + 273.15 # K\n",
    "P2 = 5e5 # Pa\n",
    "h2 = PropsSI('H','T',t2,'P',P2,'Water') / 1000\n",
    "print('h2 = %s kJ/kg' % round(h2,2) )"
   ]
  },
  {
   "cell_type": "code",
   "execution_count": 5,
   "metadata": {},
   "outputs": [
    {
     "name": "stdout",
     "output_type": "stream",
     "text": [
      "h3 = 2724.88 kJ/kg\n"
     ]
    }
   ],
   "source": [
    "# Entalpía en 3\n",
    "h3 = PropsSI('H','P',Pp,'Q',1,'Water') / 1000\n",
    "print('h3 = %s kJ/kg' % round(h3,2) )"
   ]
  },
  {
   "cell_type": "markdown",
   "metadata": {},
   "source": [
    "Fórmula cámara de mezclado\n",
    "$$ \\left\\{ \\begin{array}{ll}\n",
    "m_1 h_1 + m_2 h_2 = m_3 h_3 & [1] \\\\\n",
    "m_3 = m_1 + m_2 & [2]\n",
    "\\end{array}\n",
    "\\right.\n",
    "$$\n",
    "Reemplazo [2] en [1]\n",
    "$$\\Rightarrow \\quad m_1 h_1 + m_2 h_2 = (m_1 + m_2) h_3 $$\n",
    "Despejo $m_2$\n",
    "$$ m_2 = \\frac{m_1 (h_1 - h_3)}{h_3 - h_2} $$"
   ]
  },
  {
   "cell_type": "code",
   "execution_count": 10,
   "metadata": {},
   "outputs": [
    {
     "name": "stdout",
     "output_type": "stream",
     "text": [
      "m2 = 9.763 kg\n"
     ]
    }
   ],
   "source": [
    "# Cálculo de masa que ingresó (m2)\n",
    "m2 = (m1*(h1 - h3))/(h3 - h2)\n",
    "print('m2 = %s kg'%round(m2,3) )"
   ]
  },
  {
   "cell_type": "code",
   "execution_count": 6,
   "metadata": {},
   "outputs": [],
   "source": [
    "from sympy import *"
   ]
  },
  {
   "cell_type": "code",
   "execution_count": 8,
   "metadata": {},
   "outputs": [
    {
     "name": "stdout",
     "output_type": "stream",
     "text": [
      "m2 = 9.763 kg\n"
     ]
    }
   ],
   "source": [
    "# Usando sympy (opcional)\n",
    "# Cálculo de masa que ingresó\n",
    "m1 = 10 # kg\n",
    "m2 = symbols('m2')\n",
    "eq1 = Eq(m1*h1 + m2*h2 , (m1 + m2)*h3 )\n",
    "seq1 = solve(eq1,m2)\n",
    "m2 = seq1[0]\n",
    "print('m2 = %s kg'%round(m2,3) )"
   ]
  },
  {
   "cell_type": "code",
   "execution_count": 16,
   "metadata": {},
   "outputs": [
    {
     "name": "stdout",
     "output_type": "stream",
     "text": [
      "Vi = 4.8482 m^3\n"
     ]
    }
   ],
   "source": [
    "# Cálculo del volumen inicial con CoolProp\n",
    "v1 = 1 / PropsSI('D','P',Pp,'Q',x,'Water')\n",
    "m1 = 10 # kg\n",
    "Vi = v1 * m1\n",
    "print('Vi = %s m^3' %round(Vi,4) )"
   ]
  },
  {
   "cell_type": "code",
   "execution_count": 18,
   "metadata": {},
   "outputs": [
    {
     "name": "stdout",
     "output_type": "stream",
     "text": [
      "Vf = 11.9716 m^3\n"
     ]
    }
   ],
   "source": [
    "# Cálculo del volumen final\n",
    "v3 = 1 / PropsSI('D','P',Pp,'Q',1,'Water')\n",
    "m3 = m1 + m2\n",
    "Vf = v3 * m3\n",
    "print('Vf = %s m^3' %round(Vf,4) )"
   ]
  },
  {
   "cell_type": "code",
   "execution_count": 19,
   "metadata": {},
   "outputs": [
    {
     "name": "stdout",
     "output_type": "stream",
     "text": [
      "W_dv = 2137.01 kJ\n"
     ]
    }
   ],
   "source": [
    "# Trabajo por variación de volumen\n",
    "W_dv = Pp/1000 * (Vf - Vi)\n",
    "print('W_dv = %s kJ' %round(W_dv,2))"
   ]
  },
  {
   "cell_type": "code",
   "execution_count": 20,
   "metadata": {},
   "outputs": [
    {
     "name": "stdout",
     "output_type": "stream",
     "text": [
      "W_atm = 723.02 kJ\n"
     ]
    }
   ],
   "source": [
    "# Trabajo de presión atmosférica\n",
    "P_atm = 101.5 # kPa\n",
    "W_atm = P_atm * (Vf - Vi)\n",
    "print('W_atm = %s kJ' %round(W_atm,2) )"
   ]
  },
  {
   "cell_type": "code",
   "execution_count": 21,
   "metadata": {},
   "outputs": [
    {
     "name": "stdout",
     "output_type": "stream",
     "text": [
      "W_net = 1413.99 kJ\n"
     ]
    }
   ],
   "source": [
    "# Trabajo neto\n",
    "W_net = W_dv - W_atm\n",
    "print('W_net = %s kJ' %round(W_net,2) )"
   ]
  },
  {
   "cell_type": "code",
   "execution_count": 9,
   "metadata": {},
   "outputs": [],
   "source": [
    "%reset -s -f"
   ]
  },
  {
   "cell_type": "markdown",
   "metadata": {},
   "source": [
    "## Ejercicio 37\n",
    "Para el siguiente proceso, determinar:\n",
    "1. Caudal másico $\\dot{m}_1$\n",
    "2. Caudal másico $\\dot{m}_3$\n",
    "3. Caudal másico $\\dot{m}_4$\n",
    "4. Temperatura de salida del aire\n",
    "![37.png](img/37.png)"
   ]
  },
  {
   "cell_type": "markdown",
   "metadata": {},
   "source": [
    "### Solución\n",
    "Fórmula cámara de mezclado\n",
    "$$ \\left\\{\n",
    "\\begin{array}{ll}\n",
    "m_2 h_2 + m_4 h_4 = m_5 h_5 & [1] \\\\\n",
    "m_5 = m_2 + m_4 & [2]\n",
    "\\end{array}\n",
    "\\right.\n",
    "$$\n",
    "Despejo $m_4$\n",
    "$$\\Rightarrow \\quad m_4 = m_2 \\frac{h_5 - h_2}{h_4 - h_5} $$"
   ]
  },
  {
   "cell_type": "code",
   "execution_count": 10,
   "metadata": {},
   "outputs": [],
   "source": [
    "# Importamos la librería CoolProp (tabla termodinámica)\n",
    "from CoolProp.CoolProp import PropsSI"
   ]
  },
  {
   "cell_type": "code",
   "execution_count": 11,
   "metadata": {},
   "outputs": [
    {
     "name": "stdout",
     "output_type": "stream",
     "text": [
      "h2 = 2777.11 kJ/kg\n",
      "h4 = 3051.63 kJ/kg\n",
      "h5 = 2828.26 kJ/kg\n"
     ]
    }
   ],
   "source": [
    "# Entalpía en h2, h4 y h5 con CoolProp (tabla)\n",
    "# Datos: (CoolProp trabaja con unidades SI)\n",
    "P5 = 10e5 # Pa\n",
    "T4 = 300 + 273.15 # K\n",
    "T5 = 200 + 273.15 # K\n",
    "\n",
    "h2 = PropsSI('H','P',P5,'Q',1,'Water') / 1000\n",
    "h4 = PropsSI('H','T',T4,'P',P5,'Water') / 1000\n",
    "h5 = PropsSI('H','T',T5,'P',P5,'Water') / 1000\n",
    "\n",
    "print('h2 = %s kJ/kg'% round(h2,2))\n",
    "print('h4 = %s kJ/kg'% round(h4,2))\n",
    "print('h5 = %s kJ/kg'% round(h5,2))"
   ]
  },
  {
   "cell_type": "code",
   "execution_count": 12,
   "metadata": {},
   "outputs": [
    {
     "name": "stdout",
     "output_type": "stream",
     "text": [
      "m4 = 0.6871 kg/s\n"
     ]
    }
   ],
   "source": [
    "# Cálculo de masa 4\n",
    "m2 = 3 # kg/s\n",
    "m4 = m2*(h5 - h2)/(h4 - h5)\n",
    "print('m4 = %s kg/s'%round(m4,4) )"
   ]
  },
  {
   "cell_type": "markdown",
   "metadata": {},
   "source": [
    "Ecuación turbina\n",
    "$$ \\left\\{\n",
    "\\begin{array}{ll}\n",
    "W = m_1 h_1 - m_3 h_3 - m_4 h_4 & [3] \\\\\n",
    "m_1 = m_3 + m_4 & [4]\n",
    "\\end{array}\n",
    "\\right.\n",
    "$$\n",
    "Despejo\n",
    "$$ \\Rightarrow \\quad m_3 = \\frac{W + m_4 (h_4 - h_1)}{h_1 - h_3}   $$"
   ]
  },
  {
   "cell_type": "code",
   "execution_count": 13,
   "metadata": {},
   "outputs": [
    {
     "name": "stdout",
     "output_type": "stream",
     "text": [
      "h1 = 3248.34 kJ/kg\n",
      "h3 = 2674.95 kJ/kg\n"
     ]
    }
   ],
   "source": [
    "# Entalpía en 1 y 3 con coolprop (tabla)\n",
    "P1 = 20e5 # Pa\n",
    "T1 = 400 + 273.15 # K\n",
    "P3 = 1e5 # Pa\n",
    "h1 = PropsSI('H','P',P1,'T',T1,'Water') / 1000\n",
    "h3 = PropsSI('H','P',P3,'Q',1,'Water') / 1000\n",
    "print('h1 = %s kJ/kg'%round(h1,2))\n",
    "print('h3 = %s kJ/kg'%round(h3,2))"
   ]
  },
  {
   "cell_type": "code",
   "execution_count": 15,
   "metadata": {},
   "outputs": [
    {
     "name": "stdout",
     "output_type": "stream",
     "text": [
      "m3 = 17.2 kg/s\n"
     ]
    }
   ],
   "source": [
    "# Cálculo de masa 3\n",
    "W = 10e3 # J/s\n",
    "m3 = (W + m4*(h4 - h1))/(h1 - h3)\n",
    "print('m3 = %s kg/s'%round(m3,2))"
   ]
  },
  {
   "cell_type": "code",
   "execution_count": 16,
   "metadata": {},
   "outputs": [
    {
     "name": "stdout",
     "output_type": "stream",
     "text": [
      "m1 = 17.89 kg/s\n"
     ]
    }
   ],
   "source": [
    "# Cálculo de masa 1\n",
    "m1 = m3 + m4\n",
    "print('m1 = %s kg/s'%round(m1,2))"
   ]
  },
  {
   "cell_type": "markdown",
   "metadata": {},
   "source": [
    "Intercambiador de calor\n",
    "$$ m_5 (h_5 - h_6) = m_7 c_p (T_f - T_i) $$\n",
    "\n",
    "$$\\Rightarrow \\quad T_f = \\frac{m_5 (h_5 - h_6)}{m_7 c_p} + T_i  $$"
   ]
  },
  {
   "cell_type": "code",
   "execution_count": 17,
   "metadata": {},
   "outputs": [
    {
     "name": "stdout",
     "output_type": "stream",
     "text": [
      "h6 = 2777.11 kJ/kg\n"
     ]
    }
   ],
   "source": [
    "# Entalpía en 6 con coolprop (tabla)\n",
    "h6 = PropsSI('H','P',P5,'Q',1,'Water') / 1000\n",
    "print('h6 = %s kJ/kg'%round(h6,2))"
   ]
  },
  {
   "cell_type": "code",
   "execution_count": 18,
   "metadata": {},
   "outputs": [
    {
     "name": "stdout",
     "output_type": "stream",
     "text": [
      "Tf = 425.31 K\n"
     ]
    }
   ],
   "source": [
    "# Cálculo de temperatura de salida del aire\n",
    "Ti = 27 + 273.15 # K\n",
    "cp = 1.0047 # (aire)\n",
    "m7 = 1.5 # kg/s\n",
    "m5 = m2 + m4\n",
    "\n",
    "Tf = m5*(h5 - h6) / (m7*cp) + Ti\n",
    "print('Tf = %s K'%round(Tf,2))"
   ]
  },
  {
   "cell_type": "code",
   "execution_count": 1,
   "metadata": {},
   "outputs": [],
   "source": [
    "%reset -s -f"
   ]
  },
  {
   "cell_type": "markdown",
   "metadata": {},
   "source": [
    "## Ejercicio 38\n",
    "Se abre la válvula en tiempo necesario para equilibrar las presiones. En el estado final, la\n",
    "masa que queda en el tanque esta a 250°C. Determinar:\n",
    "\n",
    "1. Temperatura final de la masa en el ciclindro\n",
    "2. Masa que ingresa al cilindro\n",
    "![38.png](img/38.png)"
   ]
  },
  {
   "cell_type": "markdown",
   "metadata": {},
   "source": [
    "### Solución\n",
    "Usamos la ecuación de estado de los gases ideales\n",
    "$$ PV = m RT $$\n",
    "\n",
    "$$ m_{A1} = \\frac{P_{A1} V_{A}}{R T_{A1}} $$"
   ]
  },
  {
   "cell_type": "code",
   "execution_count": 2,
   "metadata": {},
   "outputs": [
    {
     "name": "stdout",
     "output_type": "stream",
     "text": [
      "m_A1 = 1.8 kg (total)\n"
     ]
    }
   ],
   "source": [
    "# A: Tanque; B: Cilindro\n",
    "# 1: inicial; 2: final\n",
    "# Datos\n",
    "R = 0.287 # kJ/(kg*K)\n",
    "T_A1 = 500 + 273.15 # K\n",
    "P_A1 = 2000 # kPa\n",
    "V_A = 0.2 # m^3\n",
    "# Cálculo masa en inicial en A\n",
    "m_A1 = (P_A1*V_A)/(R*T_A1)\n",
    "print('m_A1 = %s kg (total)'% round(m_A1,2) )"
   ]
  },
  {
   "cell_type": "code",
   "execution_count": 3,
   "metadata": {},
   "outputs": [
    {
     "name": "stdout",
     "output_type": "stream",
     "text": [
      "m_A2 = 0.4 kg\n"
     ]
    }
   ],
   "source": [
    "# Datos:\n",
    "P_2 = 300 # kPa\n",
    "T_A2 = 250 + 273.15 # K\n",
    "# Cálculo masa final en A\n",
    "m_A2 = (P_2*V_A)/(R*T_A2)\n",
    "print('m_A2 = %s kg'%round(m_A2,2))"
   ]
  },
  {
   "cell_type": "code",
   "execution_count": 4,
   "metadata": {},
   "outputs": [
    {
     "name": "stdout",
     "output_type": "stream",
     "text": [
      "m_B2 = 1.4 kg\n"
     ]
    }
   ],
   "source": [
    "# Cálculo masa final en B\n",
    "m_B2 = m_A1 - m_A2\n",
    "print('m_B2 = %s kg'%round(m_B2,2))"
   ]
  },
  {
   "cell_type": "markdown",
   "metadata": {},
   "source": [
    "$$ PV = m R T $$\n",
    "Enronces:\n",
    "$$ m_{A1} R T_{A1} = m_{A2} R T_{A2} + m_{B2} R T_{B2}  $$\n",
    "\n",
    "$$ T_{B2} = \\frac{m_{A1} T_{A1} - m_{A2}  T_{A2} }{m_{B2} }  $$"
   ]
  },
  {
   "cell_type": "code",
   "execution_count": 5,
   "metadata": {},
   "outputs": [
    {
     "name": "stdout",
     "output_type": "stream",
     "text": [
      "T_B2 = 844.36 K\n"
     ]
    }
   ],
   "source": [
    "# Cálculo temperatura final en B\n",
    "T_B2 = (m_A1*T_A1 - m_A2*T_A2)/m_B2\n",
    "print('T_B2 = %s K' %round(T_B2,2))"
   ]
  },
  {
   "cell_type": "markdown",
   "metadata": {},
   "source": [
    "Volumen del cilindro en el estado final\n",
    "$$ P_{A1} V_A = P_{A2} V_A + P_{2} V_{B2} $$\n",
    "\n",
    "$$ V_{B2} = \\frac{ P_{A1} V_A - P_{2} V_A }{P_2} $$"
   ]
  },
  {
   "cell_type": "code",
   "execution_count": 11,
   "metadata": {},
   "outputs": [
    {
     "name": "stdout",
     "output_type": "stream",
     "text": [
      "V_B2 = 1.1333 m^3\n"
     ]
    }
   ],
   "source": [
    "# Cálculo volumen final en B\n",
    "V_B2 = (P_A1*V_A - P_2*V_A)/P_2\n",
    "print('V_B2 = %s m^3'%round(V_B2,4))"
   ]
  },
  {
   "cell_type": "code",
   "execution_count": null,
   "metadata": {},
   "outputs": [],
   "source": [
    "%reset -s -f"
   ]
  }
 ],
 "metadata": {
  "kernelspec": {
   "display_name": "Python 3",
   "language": "python",
   "name": "python3"
  },
  "language_info": {
   "codemirror_mode": {
    "name": "ipython",
    "version": 3
   },
   "file_extension": ".py",
   "mimetype": "text/x-python",
   "name": "python",
   "nbconvert_exporter": "python",
   "pygments_lexer": "ipython3",
   "version": "3.7.3"
  }
 },
 "nbformat": 4,
 "nbformat_minor": 2
}
