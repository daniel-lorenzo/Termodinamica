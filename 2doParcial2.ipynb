{
 "cells": [
  {
   "cell_type": "raw",
   "metadata": {},
   "source": [
    "<script>\n",
    "  function code_toggle() {\n",
    "    if (code_shown){\n",
    "      $('div.input').hide('500');\n",
    "      $('#toggleButton').val('Show Code')\n",
    "    } else {\n",
    "      $('div.input').show('500');\n",
    "      $('#toggleButton').val('Hide Code')\n",
    "    }\n",
    "    code_shown = !code_shown\n",
    "  }\n",
    "\n",
    "  $( document ).ready(function(){\n",
    "    code_shown=true;\n",
    "    $('div.input').show()\n",
    "  });\n",
    "</script>\n",
    "<form action=\"javascript:code_toggle()\"><input type=\"submit\" id=\"toggleButton\" value=\"Hide Code\"></form>"
   ]
  },
  {
   "cell_type": "markdown",
   "metadata": {},
   "source": [
    "# 2° Parcial - termodinámica\n",
    "\n",
    "[=> Index <=](https://github.com/daniel-lorenzo/Termodinamica/blob/master/Readme.md)\n",
    "\n",
    "![2doParcial2.png](img/2doParcial2.png)\n",
    "\n",
    "\n",
    "__Calcular:__\n",
    "1. $\\Delta S_u$\n",
    "2. $\\eta_\\mathrm{ex,proceso}$\n",
    "3. $\\eta_\\mathrm{iso,comp}$"
   ]
  },
  {
   "cell_type": "markdown",
   "metadata": {},
   "source": [
    "## Solución\n",
    "$$ \\Delta S_1 = \\frac{Q_1}{T_1} $$\n",
    "\n",
    "$$ Q_{U1} = Q_1 - T_0 \\Delta S_1 $$"
   ]
  },
  {
   "cell_type": "code",
   "execution_count": 14,
   "metadata": {},
   "outputs": [
    {
     "name": "stdout",
     "output_type": "stream",
     "text": [
      "DS1 = 0.875 kJ/K\n",
      "QU1 = 437.5 kJ/s\n"
     ]
    }
   ],
   "source": [
    "Q1 = 700e3 # kW\n",
    "T1 = 800 # K\n",
    "T0 = 300 # K\n",
    "T2 = T0\n",
    "\n",
    "DS1 = Q1/T1\n",
    "QU1 = Q1 - T0*DS1\n",
    "\n",
    "print('DS1 = %s kJ/K'%round(DS1/1000,4))\n",
    "print('QU1 = %s kJ/s'%round(QU1/1000,2))"
   ]
  },
  {
   "cell_type": "markdown",
   "metadata": {},
   "source": [
    "$$ Q_{U2} = Q_2 - T_0 \\, \\frac{Q_2}{T_2} \\quad \\rightarrow \\quad Q_{U2} = 0 $$\n",
    "\n",
    "$$ \\eta_{ex,MT} = \\frac{W_{MT} + |Q_{U2}|}{|Q_{U1}|} \\quad \\rightarrow \\quad W_{MT} = \\eta_{ex,MT} |Q_{U1}| $$"
   ]
  },
  {
   "cell_type": "code",
   "execution_count": 15,
   "metadata": {},
   "outputs": [
    {
     "name": "stdout",
     "output_type": "stream",
     "text": [
      "W_MT = 350.0 kW\n"
     ]
    }
   ],
   "source": [
    "eta_exMT = 0.8\n",
    "\n",
    "W_MT = eta_exMT*abs(QU1)\n",
    "\n",
    "print('W_MT = %s kW'%round(W_MT/1000,2))"
   ]
  },
  {
   "cell_type": "markdown",
   "metadata": {},
   "source": [
    "$$ W_{MT} = Q_1 + Q_2 $$\n",
    "\n",
    "$$ Q_2 = W_{MT} - Q_1 $$"
   ]
  },
  {
   "cell_type": "code",
   "execution_count": 16,
   "metadata": {},
   "outputs": [
    {
     "name": "stdout",
     "output_type": "stream",
     "text": [
      "Q2 = -350.0 kJ/s\n"
     ]
    }
   ],
   "source": [
    "Q2 = W_MT - Q1\n",
    "print('Q2 = %s kJ/s'%round(Q2/1000,2))"
   ]
  },
  {
   "cell_type": "code",
   "execution_count": 17,
   "metadata": {},
   "outputs": [],
   "source": [
    "import CoolProp.CoolProp as cp"
   ]
  },
  {
   "cell_type": "markdown",
   "metadata": {},
   "source": [
    "$\\left.\n",
    "\\begin{array}{l}\n",
    "P_1 = 1 \\, \\mathrm{bar} \\\\\n",
    "t_1 = 170^\\circ \\mathrm{C}\n",
    "\\end{array}\n",
    "\\right\\} \\quad \\rightarrow \\quad\n",
    "\\left[\n",
    "\\begin{array}{l}\n",
    "h_1 \\\\\n",
    "s_1\n",
    "\\end{array}\n",
    "\\right]\n",
    "$\n",
    "\n",
    "$\\left.\n",
    "\\begin{array}{l}\n",
    "P_2 = 3 \\, \\mathrm{bar} \\\\\n",
    "t_2 = 330^\\circ \\mathrm{C}\n",
    "\\end{array}\n",
    "\\right\\} \\quad \\rightarrow \\quad\n",
    "\\left[\n",
    "\\begin{array}{l}\n",
    "h_2 \\\\\n",
    "s_2\n",
    "\\end{array}\n",
    "\\right]\n",
    "$"
   ]
  },
  {
   "cell_type": "code",
   "execution_count": 18,
   "metadata": {},
   "outputs": [
    {
     "name": "stdout",
     "output_type": "stream",
     "text": [
      "h1 = 2816.2 kJ/kg\n",
      "s1 = 7.70619 kJ/kg·K\n",
      "---------------\n",
      "h2 = 3130.9 kJ/kg\n",
      "s2 = 7.80799 kJ/kg·K\n"
     ]
    }
   ],
   "source": [
    "P1 = 1e5 # Pa\n",
    "T1 = 170 + 273.15 # K\n",
    "P2 = 3e5 # Pa\n",
    "T2 = 330 + 273.15 # K\n",
    "\n",
    "h1 = cp.PropsSI('H','P',P1,'T',T1,'Water')\n",
    "s1 = cp.PropsSI('S','P',P1,'T',T1,'Water')\n",
    "h2 = cp.PropsSI('H','P',P2,'T',T2,'Water')\n",
    "s2 = cp.PropsSI('S','P',P2,'T',T2,'Water')\n",
    "\n",
    "print('h1 = %s kJ/kg'%round(h1/1000,2))\n",
    "print('s1 = %s kJ/kg·K'%round(s1/1000,5))\n",
    "print('---------------')\n",
    "print('h2 = %s kJ/kg'%round(h2/1000,2))\n",
    "print('s2 = %s kJ/kg·K'%round(s2/1000,5))"
   ]
  },
  {
   "cell_type": "markdown",
   "metadata": {},
   "source": [
    "### Compresor:\n",
    "$|W_c| \\equiv |W_{MT}|$\n",
    "$$ \\Delta H = \\overbrace{Q}^{= \\, 0} = W $$\n",
    "\n",
    "$$ W_c = m (h_2 - h_1) $$\n",
    "\n",
    "$$ m = \\frac{W_c}{h_2 - h_1} $$"
   ]
  },
  {
   "cell_type": "code",
   "execution_count": 19,
   "metadata": {},
   "outputs": [
    {
     "name": "stdout",
     "output_type": "stream",
     "text": [
      "m = 1.1122 kg/s\n"
     ]
    }
   ],
   "source": [
    "Wc = W_MT\n",
    "\n",
    "m = Wc/(h2 - h1)\n",
    "\n",
    "print('m = %s kg/s'%round(m,4))"
   ]
  },
  {
   "cell_type": "markdown",
   "metadata": {},
   "source": [
    "$\\left.\n",
    "\\begin{array}{l}\n",
    "s_{2rev} = s_1 \\\\\n",
    "P_3 = P_2 = 3 \\, \\mathrm{bar}\n",
    "\\end{array}\n",
    "\\right\\} \\quad \\rightarrow \\quad\n",
    "\\left[\n",
    "\\begin{array}{l}\n",
    "T_2 \\\\\n",
    "h_{2rev}\n",
    "\\end{array}\n",
    "\\right]\n",
    "$"
   ]
  },
  {
   "cell_type": "code",
   "execution_count": 20,
   "metadata": {},
   "outputs": [
    {
     "name": "stdout",
     "output_type": "stream",
     "text": [
      "Fase = gas\n",
      "T2 = 573.85 K = 300.7°C\n",
      "h2rev = 3071.0 kJ/kg\n"
     ]
    }
   ],
   "source": [
    "s2rev = s1\n",
    "P3 = 3e5 # Pa\n",
    "P2 = P3\n",
    "\n",
    "phase2 = cp.PhaseSI('P',P2,'S',s2rev,'Water')\n",
    "T2 = cp.PropsSI('T','P',P2,'S',s2rev,'Water')\n",
    "h2rev = cp.PropsSI('H','P',P2,'S',s2rev,'Water')\n",
    "\n",
    "print('Fase = %s'%phase2)\n",
    "print('T2 = %s K = %s°C'%(round(T2,2),round(T2 - 273.15,2)))\n",
    "print('h2rev = %s kJ/kg'%round(h2rev/1000,2))"
   ]
  },
  {
   "cell_type": "markdown",
   "metadata": {},
   "source": [
    "### Rendimiento isoentrópico del compresor\n",
    "$$ \\eta_\\mathrm{iso,comp} = \\frac{W_\\mathrm{ideal}}{W_\\mathrm{real}} = \\frac{h_1 - h_{2rev}}{h_1 - h_2} $$"
   ]
  },
  {
   "cell_type": "code",
   "execution_count": 21,
   "metadata": {},
   "outputs": [
    {
     "name": "stdout",
     "output_type": "stream",
     "text": [
      "eta_isoc = 0.8097\n"
     ]
    }
   ],
   "source": [
    "eta_isoc = (h1 - h2rev)/(h1 - h2)\n",
    "\n",
    "print('eta_isoc = %s'%round(eta_isoc,4))"
   ]
  },
  {
   "cell_type": "markdown",
   "metadata": {},
   "source": [
    "### Cámara de mezcla\n",
    "\n",
    "$\\left.\n",
    "\\begin{array}{l}\n",
    "P_3 = 3 \\, \\mathrm{bar} \\\\\n",
    "x_3 = 0,8\n",
    "\\end{array}\n",
    "\\right\\} \\quad \\rightarrow \\quad\n",
    "\\left[\n",
    "\\begin{array}{l}\n",
    "h'' \\\\\n",
    "h'\n",
    "\\end{array}\n",
    "\\right]\n",
    "$\n",
    "\n",
    "$$ \\begin{array}{l}\n",
    "h_3 = x_3 (h'' - h') + h' \\\\\n",
    "s_3 = x_3 (s'' - s') + s' \n",
    "\\end{array} $$"
   ]
  },
  {
   "cell_type": "code",
   "execution_count": 22,
   "metadata": {},
   "outputs": [
    {
     "name": "stdout",
     "output_type": "stream",
     "text": [
      "h3p2 = 2724.88 kJ/kg\n",
      "h3p1 = 561.43 kJ/kg\n",
      "s3p2 = 6.99162 kJ/kg·K\n",
      "s3p1 = 1.67172 kJ/kg·K\n",
      "---------------\n",
      "h3 = 2292.19 kJ/kg\n",
      "s3 = 5.92764 kJ/kg·K\n",
      "T3 = 406.67 K\n",
      "t3 = 133.52°C\n"
     ]
    }
   ],
   "source": [
    "x3 = 0.8\n",
    "h3p2 = cp.PropsSI('H','P',P3,'Q',1,'Water')\n",
    "h3p1 = cp.PropsSI('H','P',P3,'Q',0,'Water')\n",
    "s3p2 = cp.PropsSI('S','P',P3,'Q',1,'Water')\n",
    "s3p1 = cp.PropsSI('S','P',P3,'Q',0,'Water')\n",
    "\n",
    "h3 = cp.PropsSI('H','P',P3,'Q',x3,'Water')\n",
    "s3 = cp.PropsSI('S','P',P3,'Q',x3,'Water')\n",
    "T3 = cp.PropsSI('T','P',P3,'Q',x3,'Water')\n",
    "\n",
    "print('h3p2 = %s kJ/kg'%round(h3p2/1000,2))\n",
    "print('h3p1 = %s kJ/kg'%round(h3p1/1000,2))\n",
    "print('s3p2 = %s kJ/kg·K'%round(s3p2/1000,5))\n",
    "print('s3p1 = %s kJ/kg·K'%round(s3p1/1000,5))\n",
    "print('---------------')\n",
    "print('h3 = %s kJ/kg'%round(h3/1000,2))\n",
    "print('s3 = %s kJ/kg·K'%round(s3/1000,5))\n",
    "print('T3 = %s K'%round(T3,2))\n",
    "print('t3 = %s°C'%round(T3 - 273.15,2))"
   ]
  },
  {
   "cell_type": "markdown",
   "metadata": {},
   "source": [
    "$$ m_4 = m_2 + m_3 $$"
   ]
  },
  {
   "cell_type": "code",
   "execution_count": 23,
   "metadata": {},
   "outputs": [
    {
     "name": "stdout",
     "output_type": "stream",
     "text": [
      "m4 = 1.7122 kg/s\n"
     ]
    }
   ],
   "source": [
    "m2 = m\n",
    "m3 = 0.6 # kg/s\n",
    "m4 = m2 + m3\n",
    "print('m4 = %s kg/s'%round(m4,4))"
   ]
  },
  {
   "cell_type": "markdown",
   "metadata": {},
   "source": [
    "$$ m_2 h_2 + m_3 h_3 = m_4 h_4 $$\n",
    "\n",
    "$$ h_4 = \\frac{m_2 h_2 + m_3 h_3}{m_4} $$"
   ]
  },
  {
   "cell_type": "code",
   "execution_count": 24,
   "metadata": {},
   "outputs": [
    {
     "name": "stdout",
     "output_type": "stream",
     "text": [
      "h4 = 2836.99 kJ/kg\n"
     ]
    }
   ],
   "source": [
    "h4 = (m2*h2 + m3*h3)/m4\n",
    "\n",
    "print('h4 = %s kJ/kg'%round(h4/1000,2))"
   ]
  },
  {
   "cell_type": "markdown",
   "metadata": {},
   "source": [
    "$$ \\Delta S_{14} = m_1 (s_4 - s_1) $$"
   ]
  },
  {
   "cell_type": "code",
   "execution_count": 25,
   "metadata": {},
   "outputs": [
    {
     "data": {
      "text/plain": [
       "'gas'"
      ]
     },
     "execution_count": 25,
     "metadata": {},
     "output_type": "execute_result"
    }
   ],
   "source": [
    "P4 = P3\n",
    "\n",
    "cp.PhaseSI('P',P4,'H',h4,'Water')"
   ]
  },
  {
   "cell_type": "markdown",
   "metadata": {},
   "source": [
    "$\\left.\n",
    "\\begin{array}{l}\n",
    "P_4 = P_3 \\\\\n",
    "h_4\n",
    "\\end{array}\n",
    "\\right\\} \\quad \\rightarrow \\quad\n",
    "s_4\n",
    "$"
   ]
  },
  {
   "cell_type": "markdown",
   "metadata": {},
   "source": [
    "$$ \\Delta S_{2-4} = m_2 (s_4 - s_2) $$\n",
    "$$ \\Delta S_{3-4} = m_3 (s_4 - s_3) $$"
   ]
  },
  {
   "cell_type": "code",
   "execution_count": 26,
   "metadata": {},
   "outputs": [
    {
     "name": "stdout",
     "output_type": "stream",
     "text": [
      "s4 = 7.25112 kJ/kg·K\n",
      "T4 = 459.13 K\n",
      "t4 = 185.98°C\n"
     ]
    }
   ],
   "source": [
    "s4 = cp.PropsSI('S','P',P4,'H',h4,'Water')\n",
    "T4 = cp.PropsSI('T','P',P4,'H',h4,'Water')\n",
    "\n",
    "print('s4 = %s kJ/kg·K'%round(s4/1000,5))\n",
    "print('T4 = %s K'%round(T4,2))\n",
    "print('t4 = %s°C'%round(T4 - 273.15,2))"
   ]
  },
  {
   "cell_type": "code",
   "execution_count": 27,
   "metadata": {},
   "outputs": [
    {
     "name": "stdout",
     "output_type": "stream",
     "text": [
      "DS14 = -0.50611 kJ/K\n"
     ]
    }
   ],
   "source": [
    "m1 = m2\n",
    "\n",
    "DS14 = m1*(s4 - s1)\n",
    "print('DS14 = %s kJ/K'%round(DS14/1000,5))"
   ]
  },
  {
   "cell_type": "code",
   "execution_count": 28,
   "metadata": {},
   "outputs": [
    {
     "name": "stdout",
     "output_type": "stream",
     "text": [
      "DS24 = -0.6193 kJ/K\n",
      "DS34 = 0.7941 kJ/K\n"
     ]
    }
   ],
   "source": [
    "DS24 = m2*(s4 - s2)\n",
    "DS34 = m3*(s4 - s3)\n",
    "\n",
    "print('DS24 = %s kJ/K'%round(DS24/1000,4))\n",
    "print('DS34 = %s kJ/K'%round(DS34/1000,4))"
   ]
  },
  {
   "cell_type": "markdown",
   "metadata": {},
   "source": [
    "### Variación de entropía del universo\n",
    "$$ \\Delta S_u = \\Delta S_1 + \\Delta S_{14} + \\Delta S_{34} $$"
   ]
  },
  {
   "cell_type": "code",
   "execution_count": 29,
   "metadata": {},
   "outputs": [
    {
     "name": "stdout",
     "output_type": "stream",
     "text": [
      "DSu = 1.16298 kJ/K\n"
     ]
    }
   ],
   "source": [
    "DSu = DS1 + DS14 + DS34\n",
    "\n",
    "print('DSu = %s kJ/K'%round(DSu/1000,5))"
   ]
  },
  {
   "cell_type": "markdown",
   "metadata": {},
   "source": [
    "$$\\begin{array}{l}\n",
    "\\Delta Ex_{12} = [(h_2 - h_1) - T_0 (s2 - s1)] \\, m_1 \\\\\n",
    "\\Delta Ex_{24} = [(h_4 - h_2) - T_0 (s4 - s2)] \\, m_2 \\\\\n",
    "\\Delta Ex_{34} = [(h_4 - h_3) - T_0 (s4 - s3)] \\, m_3\n",
    "\\end{array}$$"
   ]
  },
  {
   "cell_type": "code",
   "execution_count": 30,
   "metadata": {},
   "outputs": [
    {
     "name": "stdout",
     "output_type": "stream",
     "text": [
      "DEx12 = 316.03 kJ\n",
      "DEx24 = -141.08 kJ\n",
      "DEx34 = 326.88 kJ\n"
     ]
    }
   ],
   "source": [
    "m1 = m\n",
    "DEx12 = ( (h2 - h1) - T0*(s2 - s1) )*m1\n",
    "DEx24 = ( (h4 - h2) - T0*(s4 - s2) )*m2\n",
    "DEx34 = ( (h4 - h3) - T0*(s4 - s4) )*m3\n",
    "\n",
    "print('DEx12 = %s kJ'%round(DEx12/1000,2))\n",
    "print('DEx24 = %s kJ'%round(DEx24/1000,2))\n",
    "print('DEx34 = %s kJ'%round(DEx34/1000,2))"
   ]
  },
  {
   "cell_type": "markdown",
   "metadata": {},
   "source": [
    "### Rendimiento exergético del proceso\n",
    "$$ \\eta_{ex} = \\frac{W_{MT} + \\Delta Ex_{34} }{ | \\Delta Ex_{24} - \\Delta Ex_{12} - Q_{U1} | } $$"
   ]
  },
  {
   "cell_type": "code",
   "execution_count": 31,
   "metadata": {},
   "outputs": [
    {
     "name": "stdout",
     "output_type": "stream",
     "text": [
      "eta_ex = 0.7566\n"
     ]
    }
   ],
   "source": [
    "eta_ex = (W_MT + DEx34)/( abs(DEx24 - DEx12 - QU1) )\n",
    "\n",
    "print('eta_ex = %s'%round(eta_ex,4))"
   ]
  },
  {
   "cell_type": "code",
   "execution_count": 32,
   "metadata": {},
   "outputs": [],
   "source": [
    "%reset -s -f"
   ]
  }
 ],
 "metadata": {
  "kernelspec": {
   "display_name": "Python 3",
   "language": "python",
   "name": "python3"
  },
  "language_info": {
   "codemirror_mode": {
    "name": "ipython",
    "version": 3
   },
   "file_extension": ".py",
   "mimetype": "text/x-python",
   "name": "python",
   "nbconvert_exporter": "python",
   "pygments_lexer": "ipython3",
   "version": "3.7.3"
  }
 },
 "nbformat": 4,
 "nbformat_minor": 2
}
