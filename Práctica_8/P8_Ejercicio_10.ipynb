{
  "nbformat": 4,
  "nbformat_minor": 0,
  "metadata": {
    "colab": {
      "provenance": [],
      "authorship_tag": "ABX9TyPLxXAal5P5jCSeGg3CtdLN",
      "include_colab_link": true
    },
    "kernelspec": {
      "name": "python3",
      "display_name": "Python 3"
    },
    "language_info": {
      "name": "python"
    }
  },
  "cells": [
    {
      "cell_type": "markdown",
      "metadata": {
        "id": "view-in-github",
        "colab_type": "text"
      },
      "source": [
        "<a href=\"https://colab.research.google.com/github/daniel-lorenzo/Termodinamica/blob/master/Pr%C3%A1ctica_8/P8_Ejercicio_10.ipynb\" target=\"_parent\"><img src=\"https://colab.research.google.com/assets/colab-badge.svg\" alt=\"Open In Colab\"/></a>"
      ]
    },
    {
      "cell_type": "markdown",
      "source": [
        "# Ejercicio 10\n",
        "Un tanque rígido adiabático está conectado a través de una válvula, inicialmente cerrada, con un cilindro pistón adiabático. El tanque contiene 0,6 kg de aire a 27°C y 5 bar. Se abre la válvula y simultáneamente se entrega trabajo eléctrico hasta que el aire alcance 427°C. El pistón por su masa genera una presión de 2 bar. Calcular:\n",
        "\n",
        "a) $W$ eléctrico   \n",
        "b) $W_u$   \n",
        "c) $\\eta_{ex}$  \n",
        "\n",
        "**En los siguientes casos:**\n",
        "1. La resistencia mantiene su $T$ constante.\n",
        "2. La resistencia modifica la temperatura de 27°C a 427°C y su capacidad calorífica es de 0,5 kJ/K.\n",
        "\n",
        "$P_{absoluta} = 300 \\; \\mathrm{kPa}$   \n",
        "$P_0 = 1 \\; \\mathrm{bar}$   \n",
        "$T_0 = 300 \\; \\mathrm{K}$   \n",
        "\n",
        "![image.png](data:image/png;base64,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)"
      ],
      "metadata": {
        "id": "cBQwGDe3QlZp"
      }
    },
    {
      "cell_type": "markdown",
      "source": [
        "## Solución"
      ],
      "metadata": {
        "id": "sFVqITOwSYt4"
      }
    },
    {
      "cell_type": "markdown",
      "source": [
        "### 1) La resistencia mantiene su $T$ constante."
      ],
      "metadata": {
        "id": "CEIKKhYfYUsA"
      }
    },
    {
      "cell_type": "markdown",
      "source": [
        "Ecuación general de los gases ideales\n",
        "$$PV = mRT$$"
      ],
      "metadata": {
        "id": "nNbaJ3_RUsdO"
      }
    },
    {
      "cell_type": "markdown",
      "source": [
        "Volumen final\n",
        "$$V_f = \\frac{m R T_f}{P_f}$$"
      ],
      "metadata": {
        "id": "h7cpox9nUdQg"
      }
    },
    {
      "cell_type": "markdown",
      "source": [
        "Volumen inicial\n",
        "$$V_i = \\frac{m R T_i}{P_i}$$"
      ],
      "metadata": {
        "id": "kuv861jqUyo3"
      }
    },
    {
      "cell_type": "markdown",
      "source": [
        "Primer principio\n",
        "$$Q - W = \\Delta U$$"
      ],
      "metadata": {
        "id": "w95VtADaS5o7"
      }
    },
    {
      "cell_type": "markdown",
      "source": [
        "$Q=0$\n",
        "$$-(W_e + W_p) = \\Delta U_a$$"
      ],
      "metadata": {
        "id": "1LOB_wSMTC5g"
      }
    },
    {
      "cell_type": "markdown",
      "source": [
        "Trabajo eléctrico\n",
        "$$W_e = -\\Delta U_a - W_p$$"
      ],
      "metadata": {
        "id": "kXu9WJXbSrR_"
      }
    },
    {
      "cell_type": "markdown",
      "source": [
        "$$W_e = m c_v (T_i - T_f) - P (V_f - V_i)$$"
      ],
      "metadata": {
        "id": "tC4hAFY_UMgQ"
      }
    },
    {
      "cell_type": "markdown",
      "source": [
        "Trabajo en el pistón\n",
        "$$W_p = (P_i - P_p) \\Delta V$$"
      ],
      "metadata": {
        "id": "Cecj1gjhozZ_"
      }
    },
    {
      "cell_type": "markdown",
      "source": [
        "Trabajo útil en el pistón\n",
        "$$W_{up} = W_p - P_0 \\Delta V$$"
      ],
      "metadata": {
        "id": "K1YPgqAkVIxg"
      }
    },
    {
      "cell_type": "markdown",
      "source": [
        "Variación de entropía del aire\n",
        "$$\\Delta S_a = m \\left[ c_p \\ln \\left( \\frac{T_f}{T_i} \\right) - R \\ln \\left( \\frac{P_f}{P_i} \\right) \\right]$$"
      ],
      "metadata": {
        "id": "U0rCC5pTWe7h"
      }
    },
    {
      "cell_type": "markdown",
      "source": [
        "Variación de entropía de la resistencia\n",
        "$$\\Delta S_r = 0$$"
      ],
      "metadata": {
        "id": "gLm6AYnKXhmA"
      }
    },
    {
      "cell_type": "markdown",
      "source": [
        "Variación de entropía del universo\n",
        "$$\\Delta S_u = \\Delta S_a + \\Delta S_r$$"
      ],
      "metadata": {
        "id": "nHN4SEtTXkwI"
      }
    },
    {
      "cell_type": "markdown",
      "source": [
        "Variación de exergía del aire\n",
        "$$\\Delta Ex_a = \\Delta U_a - T_0 \\Delta S_a + P_0 \\Delta V$$"
      ],
      "metadata": {
        "id": "IMyU8HDoXs1E"
      }
    },
    {
      "cell_type": "markdown",
      "source": [
        "Rendimiento exergético\n",
        "$$\\eta_{ex} = \\frac{\\Delta Ex_a + W_{up}}{W_e}$$"
      ],
      "metadata": {
        "id": "b6DIkGdvYEo7"
      }
    },
    {
      "cell_type": "code",
      "execution_count": null,
      "metadata": {
        "id": "vL05b91XQkN2"
      },
      "outputs": [],
      "source": [
        "#@title Datos:\n",
        "m = 0.6 # [kg]\n",
        "T_i = 27 + 273 # [K]\n",
        "P_i = 500 # [kPa]\n",
        "T_f = 427 + 273 # [K]\n",
        "P_f = 300 # [kPa]\n",
        "P_p = 200 # [kPa]\n",
        "c_r = 0.5 # [kJ/K]\n",
        "P_0 = 100 # [kPa]\n",
        "T_0 = 300 # [K]\n",
        "R_a = 0.287 # [kPa·m^3/(kg·K)]\n",
        "cp_a = 1.0047 # [kJ/(kg·K)]\n",
        "cv_a = 0.7176 # [kJ/(kg·K)]"
      ]
    },
    {
      "cell_type": "code",
      "source": [
        "import numpy as np"
      ],
      "metadata": {
        "id": "0BHQiirWbLWh"
      },
      "execution_count": null,
      "outputs": []
    },
    {
      "cell_type": "code",
      "source": [
        "#@title Cálculo ítem 1\n",
        "# Volumen final\n",
        "V_f = (m*R_a*T_f)/P_f\n",
        "# Volumen inicial\n",
        "V_i = (m*R_a*T_i)/P_i\n",
        "# Trabajo eléctrico\n",
        "W_e = m*cv_a*(T_i - T_f) - P_f*(V_f - V_i)\n",
        "# Trabajo en el pistón\n",
        "W_p = (P_i - P_p)*(V_f - V_i)\n",
        "# Trabajo útil en el pistón\n",
        "W_up = W_p - P_0*(V_f - V_i)\n",
        "# Variación de entropía del aire\n",
        "ΔS_a = m*(cp_a*np.log(T_f/T_i) - R_a*np.log(P_f/P_i))\n",
        "# Variación de entropía de la resistencia\n",
        "ΔS_r = 0\n",
        "# Variación de energía interna del aire\n",
        "ΔU_a = m*cv_a*(T_f - T_i)\n",
        "# Variación de entropía del universo\n",
        "ΔS_u = ΔS_a + ΔS_r\n",
        "# Variación de exergía del aire\n",
        "ΔEx_a = ΔU - T_0*ΔS_a + P_0*(V_f - V_i)\n",
        "# Rendimiento exergético\n",
        "η_ex = (ΔEx_a + W_up)/abs(W_e)"
      ],
      "metadata": {
        "id": "eIzw2P_SbNL7"
      },
      "execution_count": null,
      "outputs": []
    },
    {
      "cell_type": "code",
      "source": [
        "#@title Resultados ítem 1\n",
        "print(\"V_f = %.3f [m^3]\"%V_f)\n",
        "print(\"V_i = %.3f [m^3]\\n\"%V_i)\n",
        "print(\"W_e = %.3f [kJ]\"%W_e)\n",
        "print(\"W_up = %.3f [kJ]\"%W_up)\n",
        "print(\"\\nΔS_a = %.3f [kJ/K]\"%ΔS_a)\n",
        "print(\"ΔU_a = %.3f [kJ]\"%ΔU_a)\n",
        "print(\"ΔS_u = %.3f [kJ]\"%ΔS_u)\n",
        "print(\"ΔEx_a = %.3f [kJ]\\n\"%ΔEx_a)\n",
        "print(\"η_ex = %.3f\"%η_ex)"
      ],
      "metadata": {
        "colab": {
          "base_uri": "https://localhost:8080/"
        },
        "cellView": "form",
        "id": "iZp0Jz_pdgTx",
        "outputId": "133c2eb4-ea5a-452e-9284-a87e5b374a89"
      },
      "execution_count": null,
      "outputs": [
        {
          "output_type": "stream",
          "name": "stdout",
          "text": [
            "V_f = 0.402 [m^3]\n",
            "V_i = 0.103 [m^3]\n",
            "\n",
            "W_e = -261.768 [kJ]\n",
            "W_up = 59.696 [kJ]\n",
            "\n",
            "ΔS_a = 0.599 [kJ/K]\n",
            "ΔU_a = 172.224 [kJ]\n",
            "ΔS_u = 0.599 [kJ]\n",
            "ΔEx_a = 22.452 [kJ]\n",
            "\n",
            "η_ex = 0.314\n"
          ]
        }
      ]
    },
    {
      "cell_type": "markdown",
      "source": [
        "---\n",
        "### 2) La resistencia modifica la temperatura de 27°C a 427°C y su capacidad calorífica es de 0,5 kJ/K."
      ],
      "metadata": {
        "id": "R286ieJvh8DG"
      }
    },
    {
      "cell_type": "markdown",
      "source": [
        "Primer principio\n",
        "$$Q - (W_p + W_e) = \\Delta U_a + \\Delta U_r$$"
      ],
      "metadata": {
        "id": "og3Z3kAwiMxN"
      }
    },
    {
      "cell_type": "markdown",
      "source": [
        "Variación de energía interna de la resistencia\n",
        "\n",
        "$$\\Delta U_r = c_r (T_f - T_i)$$"
      ],
      "metadata": {
        "id": "r0dJj39Bm6ki"
      }
    },
    {
      "cell_type": "markdown",
      "source": [
        "Trabajo eléctico   \n",
        "$Q=0$\n",
        "$$W_e = -\\Delta U_a -\\Delta U_r - W_p$$"
      ],
      "metadata": {
        "id": "L2MLa7n8jD2k"
      }
    },
    {
      "cell_type": "markdown",
      "source": [
        "Trabajo útil del pistón\n",
        "$$W_{up} = (P_i - P_p) \\Delta V - P_0 \\Delta V$$"
      ],
      "metadata": {
        "id": "xQ1o-GLbkEB-"
      }
    },
    {
      "cell_type": "markdown",
      "source": [
        "Variación de entropía de la resistencia\n",
        "$$\\Delta S_r = c_r \\ln \\left( \\frac{T_f}{T_i} \\right)$$"
      ],
      "metadata": {
        "id": "6TjOUPC2pl0n"
      }
    },
    {
      "cell_type": "markdown",
      "source": [
        "Variación de exergía de la resistencia\n",
        "$$\\Delta Ex_r = \\Delta U_r - T_0 \\Delta S_r$$"
      ],
      "metadata": {
        "id": "TiZ-tTHHqHE5"
      }
    },
    {
      "cell_type": "markdown",
      "source": [
        "Rendimiento exergético\n",
        "$$\\eta_{ex} = \\frac{\\Delta Ex_a + \\Delta Ex_r + W_{up}}{W_e}$$"
      ],
      "metadata": {
        "id": "J4G-Cb1uqpCW"
      }
    },
    {
      "cell_type": "code",
      "source": [
        "#@title Cálculo ítem 2\n",
        "# Variación de energía interna de la resistencia\n",
        "ΔU_r = c_r*(T_f - T_i)\n",
        "# Trabajo eléctrico\n",
        "W_e = -ΔU_a - ΔU_r - W_p\n",
        "# Variación de entropía de la resistencia\n",
        "ΔS_r = c_r*np.log(T_f/T_i)\n",
        "# Variación de entropía del universo\n",
        "ΔS_u = ΔS_a + ΔS_r\n",
        "# Variación de exergía de la resistencia\n",
        "ΔEx_r = ΔU_r - T_0*ΔS_r\n",
        "# Rendimiento exergético\n",
        "η_ex = (ΔEx_a + ΔEx_r + W_up)/abs(W_e)"
      ],
      "metadata": {
        "id": "qgCnDVkce8sF"
      },
      "execution_count": null,
      "outputs": []
    },
    {
      "cell_type": "code",
      "source": [
        "#@title Resultados ítem 2\n",
        "print(\"V_f = %.3f [m^3]\"%V_f)\n",
        "print(\"V_i = %.3f [m^3]\\n\"%V_i)\n",
        "print(\"W_e = %.3f [kJ]\"%W_e)\n",
        "print(\"W_up = %.3f [kJ]\"%W_up)\n",
        "print(\"\\nΔS_a = %.3f [kJ/K]\"%ΔS_a)\n",
        "print(\"ΔS_r = %.3f [kJ/K]\"%ΔS_r)\n",
        "print(\"ΔU_a = %.3f [kJ]\"%ΔU_a)\n",
        "print(\"ΔS_u = %.3f [kJ]\"%ΔS_u)\n",
        "print(\"ΔEx_a = %.3f [kJ]\"%ΔEx_a)\n",
        "print(\"ΔEx_r = %.3f [kJ]\\n\"%ΔEx_r)\n",
        "print(\"η_ex = %.3f\"%η_ex)"
      ],
      "metadata": {
        "colab": {
          "base_uri": "https://localhost:8080/"
        },
        "cellView": "form",
        "id": "3oHfArytpG4R",
        "outputId": "f768c164-e220-4aba-d7b2-776284dac370"
      },
      "execution_count": null,
      "outputs": [
        {
          "output_type": "stream",
          "name": "stdout",
          "text": [
            "V_f = 0.402 [m^3]\n",
            "V_i = 0.103 [m^3]\n",
            "\n",
            "W_e = -461.768 [kJ]\n",
            "W_up = 59.696 [kJ]\n",
            "\n",
            "ΔS_a = 0.599 [kJ/K]\n",
            "ΔS_r = 0.424 [kJ/K]\n",
            "ΔU_a = 172.224 [kJ]\n",
            "ΔS_u = 1.022 [kJ]\n",
            "ΔEx_a = 22.452 [kJ]\n",
            "ΔEx_r = 72.905 [kJ]\n",
            "\n",
            "η_ex = 0.336\n"
          ]
        }
      ]
    }
  ]
}