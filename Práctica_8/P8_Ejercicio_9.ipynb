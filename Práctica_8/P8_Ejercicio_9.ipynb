{
  "nbformat": 4,
  "nbformat_minor": 0,
  "metadata": {
    "colab": {
      "provenance": [],
      "authorship_tag": "ABX9TyMKVoxiraSK+2+I+6OrVthD",
      "include_colab_link": true
    },
    "kernelspec": {
      "name": "python3",
      "display_name": "Python 3"
    },
    "language_info": {
      "name": "python"
    }
  },
  "cells": [
    {
      "cell_type": "markdown",
      "metadata": {
        "id": "view-in-github",
        "colab_type": "text"
      },
      "source": [
        "<a href=\"https://colab.research.google.com/github/daniel-lorenzo/Termodinamica/blob/master/Pr%C3%A1ctica_8/P8_Ejercicio_9.ipynb\" target=\"_parent\"><img src=\"https://colab.research.google.com/assets/colab-badge.svg\" alt=\"Open In Colab\"/></a>"
      ]
    },
    {
      "cell_type": "markdown",
      "source": [
        "# Ejercicio 9\n",
        "El esquema indica los parámetros iniciales de un proceso. Se abre la válvula V y se logra el equilibrio térmico y mecánico para 300 K y 0,5 bar. Si los parámetros ambientales son 1 bar y 300 K, determinar:\n",
        "\n",
        "1. $W_t$ y $V_b$\n",
        "2. $\\Delta S_{sist}$, $\\Delta S_m$, $\\Delta S_u$   \n",
        "3. $\\Delta Ex_{sist}$; $\\Delta Ex_m$, $\\Delta Ex_{vacio}$, $\\Delta Ex_u$\n",
        "4. $\\eta_{ex}$\n",
        "\n",
        "![image.png](data:image/png;base64,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)"
      ],
      "metadata": {
        "id": "UhczQipO8iD2"
      }
    },
    {
      "cell_type": "markdown",
      "source": [
        "## Solución"
      ],
      "metadata": {
        "id": "VnGiC8Lp9xBJ"
      }
    },
    {
      "cell_type": "markdown",
      "source": [
        "Primer principio\n",
        "$$Q - W = \\Delta U$$"
      ],
      "metadata": {
        "id": "BJlN-4cS95GB"
      }
    },
    {
      "cell_type": "markdown",
      "source": [
        "$$-W_t = m c_v (T_f - T_i)$$"
      ],
      "metadata": {
        "id": "atBC3A8t-DV7"
      }
    },
    {
      "cell_type": "markdown",
      "source": [
        "Trabajo turbina\n",
        "$$W_t = m c_v (T_i - T_f)$$"
      ],
      "metadata": {
        "id": "iVeb_JPy7nY9"
      }
    },
    {
      "cell_type": "markdown",
      "source": [
        "Variación de entropía flujo másico    \n",
        "(Consideramos la válvula y la turbina isoentrópicas)\n",
        "$$\\Delta S_m = 0$$"
      ],
      "metadata": {
        "id": "qqoRbxVI-TTM"
      }
    },
    {
      "cell_type": "markdown",
      "source": [
        "Variación de entropía del sistema\n",
        "$$\\Delta S_{sist} = m \\left[ c_{p,aire} \\ln \\left( \\frac{T_f}{T_i} \\right) - R_{aire} \\ln \\left( \\frac{P_f}{P_i} \\right) \\right]$$"
      ],
      "metadata": {
        "id": "2pCr9ReD-Y0e"
      }
    },
    {
      "cell_type": "markdown",
      "source": [
        "Variación de entropía del universo\n",
        "$$\\Delta S_u = \\Delta S_m + \\Delta S_{sist}$$"
      ],
      "metadata": {
        "id": "5yovrNss-7Qh"
      }
    },
    {
      "cell_type": "markdown",
      "source": [
        "Ecuación general de los gases ideales\n",
        "$$P V = m R T$$"
      ],
      "metadata": {
        "id": "OmVIfQHx_GeH"
      }
    },
    {
      "cell_type": "markdown",
      "source": [
        "Volumen inicial\n",
        "$$V_i = \\frac{m R T_i}{P_i}$$"
      ],
      "metadata": {
        "id": "SzxB3Kk6_KPq"
      }
    },
    {
      "cell_type": "markdown",
      "source": [
        "Volumen final\n",
        "$$V_f = \\frac{m R T_f}{P_f}$$"
      ],
      "metadata": {
        "id": "EqsTsjUr_SO6"
      }
    },
    {
      "cell_type": "markdown",
      "source": [
        "Variación de exergía del sistema\n",
        "$$\\Delta Ex_{sist} = \\Delta U - T_0 \\Delta S_{sist} + P_0 \\Delta V$$"
      ],
      "metadata": {
        "id": "PA229DFY_dL-"
      }
    },
    {
      "cell_type": "markdown",
      "source": [
        "$$\\Delta Ex_{sist} = m c_v (T_f - T_i) - T_0 \\Delta S_{sist} + P_0 (V_f - V_i)$$"
      ],
      "metadata": {
        "id": "MZlpx7dmTWPL"
      }
    },
    {
      "cell_type": "markdown",
      "source": [
        "Variación de exergía vacío\n",
        "$$\\Delta Ex_v = -P_0 \\Delta V$$"
      ],
      "metadata": {
        "id": "nrhpP2YY43eU"
      }
    },
    {
      "cell_type": "markdown",
      "source": [
        "Variación de exergía flujo másico\n",
        "$$\\Delta Ex_m = W_t$$"
      ],
      "metadata": {
        "id": "NnvqQ0RC4sJu"
      }
    },
    {
      "cell_type": "markdown",
      "source": [
        "Variación de exergía universo\n",
        "$$\\Delta Ex_u = - T_0 \\Delta S_u$$"
      ],
      "metadata": {
        "id": "r4iSwqm95CSY"
      }
    },
    {
      "cell_type": "markdown",
      "source": [
        "Rendimiento exergético\n",
        "$$\\eta_{ex} = \\frac{W_t}{|\\Delta Ex_{sist}| + |\\Delta Ex_v|}$$"
      ],
      "metadata": {
        "id": "aNpcfHoJ5Hyf"
      }
    },
    {
      "cell_type": "code",
      "source": [
        "#@title Datos:\n",
        "T_0 =  300 # [K]                  (Temperatura ambiente)\n",
        "P_0 =  100 # [kPa]                (Presión atmosférica)\n",
        "m   =  100 # [kg]                 (flujo másico)\n",
        "P_i = 1000 # [kPa]                (Presión inicial en A)\n",
        "P_f =   50 # [kPa]                (Presión final)\n",
        "T_i =  550 # [K]                  (Temperatura inicial en A)\n",
        "T_f =  300 # [K]                  (Temperatura final)\n",
        "R_aire  = 0.2870 # [kJ/(kg·K)]    (Constante R del aire)\n",
        "cp_aire = 1.0047 # [kJ/(kg·K)]    (Constante cp del aire)\n",
        "cv_aire = 0.7176 # [kJ/(kg·K)]    (Constante cv del aire)"
      ],
      "metadata": {
        "id": "nlwVp7HV5m-v"
      },
      "execution_count": 3,
      "outputs": []
    },
    {
      "cell_type": "code",
      "source": [
        "import numpy as np"
      ],
      "metadata": {
        "id": "iZjA7FgzjGoC"
      },
      "execution_count": 2,
      "outputs": []
    },
    {
      "cell_type": "code",
      "source": [
        "#@title Cálculo:\n",
        "# Trabajo turbina\n",
        "W_t = m*cv_aire*(T_i - T_f)\n",
        "# Variación de entropía flujo másico\n",
        "ΔS_m = 0\n",
        "# Variación de entropía del sistema\n",
        "ΔS_sist = m*( cp_aire*np.log(T_f/T_i) - R_aire*np.log(P_f/P_i) )\n",
        "# Variación de entropía del universo\n",
        "ΔS_u = ΔS_m + ΔS_sist\n",
        "# Volumen inicial\n",
        "V_i = (m*R_aire*T_i)/P_i\n",
        "# Volumen final\n",
        "V_f = (m*R_aire*T_f)/P_f\n",
        "# Variación de exergía del sistema\n",
        "ΔEx_sist = m*cv_aire*(T_f - T_i) - T_0*ΔS_sist + P_0*(V_f - V_i)\n",
        "# Variación de exergía vacío\n",
        "ΔEx_v = -P_0*(V_f - V_i)\n",
        "# Variación de exergía flujo másico\n",
        "ΔEx_m = W_t\n",
        "# Variación de exergía universo\n",
        "ΔEx_u = -T_0*ΔS_u\n",
        "# Rendimiento exergético\n",
        "η_ex = W_t/abs(ΔEx_sist + ΔEx_v)"
      ],
      "metadata": {
        "id": "js8J-tpk7WTy"
      },
      "execution_count": 9,
      "outputs": []
    },
    {
      "cell_type": "code",
      "source": [
        "#@title Resultados:\n",
        "print(\"W_t = %.1f [kJ]\"%W_t)\n",
        "print(\"ΔS_sist = %.3f [kJ/K]\"%ΔS_sist)\n",
        "print(\"ΔS_u = %.3f [kJ/K]\"%ΔS_u)\n",
        "print(\"V_i = %.3f [m^3]\"%V_i)\n",
        "print(\"V_f = %.3f [m^3]\"%V_f)\n",
        "print(\"ΔEx_sist = %.1f [kJ]\"%ΔEx_sist)\n",
        "print(\"ΔEx_v = %.1f [kJ]\"%ΔEx_v)\n",
        "print(\"ΔEx_m = %.1f [kJ]\"%ΔEx_m)\n",
        "print(\"ΔEx_u = %.1f [kJ]\"%ΔEx_u)\n",
        "print(\"\\nη_ex = %.3f\"%η_ex)"
      ],
      "metadata": {
        "colab": {
          "base_uri": "https://localhost:8080/"
        },
        "cellView": "form",
        "id": "mWH49qr7_hrW",
        "outputId": "a7520938-5989-4c93-b321-b6ebdf720722"
      },
      "execution_count": 10,
      "outputs": [
        {
          "output_type": "stream",
          "name": "stdout",
          "text": [
            "W_t = 17940.0 [kJ]\n",
            "ΔS_sist = 25.079 [kJ/K]\n",
            "ΔS_u = 25.079 [kJ/K]\n",
            "V_i = 15.785 [m^3]\n",
            "V_f = 172.200 [m^3]\n",
            "ΔEx_sist = -9822.2 [kJ]\n",
            "ΔEx_v = -15641.5 [kJ]\n",
            "ΔEx_m = 17940.0 [kJ]\n",
            "ΔEx_u = -7523.7 [kJ]\n",
            "\n",
            "η_ex = 0.705\n"
          ]
        }
      ]
    }
  ]
}