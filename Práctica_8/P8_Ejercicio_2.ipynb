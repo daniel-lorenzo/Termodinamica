{
  "nbformat": 4,
  "nbformat_minor": 0,
  "metadata": {
    "colab": {
      "provenance": [],
      "authorship_tag": "ABX9TyMnaRe3ji63uAiIWZH10m9b",
      "include_colab_link": true
    },
    "kernelspec": {
      "name": "python3",
      "display_name": "Python 3"
    },
    "language_info": {
      "name": "python"
    }
  },
  "cells": [
    {
      "cell_type": "markdown",
      "metadata": {
        "id": "view-in-github",
        "colab_type": "text"
      },
      "source": [
        "<a href=\"https://colab.research.google.com/github/daniel-lorenzo/Termodinamica/blob/master/Pr%C3%A1ctica_8/P8_Ejercicio_2.ipynb\" target=\"_parent\"><img src=\"https://colab.research.google.com/assets/colab-badge.svg\" alt=\"Open In Colab\"/></a>"
      ]
    },
    {
      "cell_type": "markdown",
      "source": [
        "# Ejercicio 2\n",
        "Un recipiente rígido y parcialmente aislado consta de 2 compartimientos, A y B, separados por una pared diatérmica. El compartimiento B recibe energía térmica de una fuente, hasta alcanzar la temperatura de esta. Determinar:\n",
        "\n",
        "a) $Q$ (energía térmica entregada por la fuente).    \n",
        "b) $\\Delta S_u$ (variación de entropía del universo).    \n",
        "c) $W_{perd}$ (trabajo perdido).    \n",
        "d) $\\Delta Exs$ (variación de energía del sistema y del medio.   \n",
        "e) $\\eta_{ex}$ (rendimiento exergético).   \n",
        "\n",
        "![image.png](data:image/png;base64,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)\n",
        "\n",
        "$T_0 = 300 \\; \\mathrm{K}$    \n",
        "$P_0 = 1 \\; \\mathrm{bar}$"
      ],
      "metadata": {
        "id": "fMXfH9o3J53x"
      }
    },
    {
      "cell_type": "markdown",
      "source": [
        "---\n",
        "## Solución"
      ],
      "metadata": {
        "id": "uCXM8LwXLgnX"
      }
    },
    {
      "cell_type": "code",
      "source": [
        "# Datos:\n",
        "m_A = 30 # [kg]\n",
        "m_B = 20 # [kg]\n",
        "T_iB = 27 + 273 # [K]\n",
        "cv_O2 = 0.6585 # [kJ/(kg·K)]\n",
        "cv_N2 = 0.7431 # [kJ/(kg·K)]\n",
        "T_0 = 300 # [K]\n",
        "P_0 = 100 # [kPa]\n",
        "T_F = 500 # [K]\n",
        "R_O2 = 0.2598 # [kJ/(kg·K)]\n",
        "R_N2 = 0.2968 # [kJ/(kg·K)]"
      ],
      "metadata": {
        "id": "Tokbv2tpM-ca"
      },
      "execution_count": 1,
      "outputs": []
    },
    {
      "cell_type": "markdown",
      "source": [
        "---\n",
        "### a) $Q$ (energía térmica entregada por la fuente)"
      ],
      "metadata": {
        "id": "oVdHbaiILkf6"
      }
    },
    {
      "cell_type": "markdown",
      "source": [
        "$W = 0$   \n",
        "$\\Delta U_A = m_A c_{vO_2} (T_{fA} - T_{iA})$    \n",
        "$\\Delta U_B =  m_B  c_{vN_2} (T_{fB} - T_{iB})$  \n",
        "$$Q = \\Delta U_A + \\Delta U_B + W$$"
      ],
      "metadata": {
        "id": "Mso1VTw1MBX-"
      }
    },
    {
      "cell_type": "markdown",
      "source": [
        "$T_{iA} = T_{iB}$    \n",
        "$T_{fA} = T_{fB} = T_{Fuente}$"
      ],
      "metadata": {
        "id": "1fsKZiOmMi93"
      }
    },
    {
      "cell_type": "code",
      "source": [
        "W = 0\n",
        "T_iA = T_iB\n",
        "T_fA = T_fB = T_F\n",
        "ΔU_A = m_A*cv_O2*(T_fA - T_iA)\n",
        "ΔU_B = m_B*cv_N2*(T_fB - T_iB)\n",
        "\n",
        "Q = ΔU_A + ΔU_B + W"
      ],
      "metadata": {
        "id": "04o91TUoN9-c"
      },
      "execution_count": 2,
      "outputs": []
    },
    {
      "cell_type": "code",
      "source": [
        "#@title Resultado\n",
        "print(\"Q = %.1f [kJ]\"%Q)"
      ],
      "metadata": {
        "colab": {
          "base_uri": "https://localhost:8080/"
        },
        "cellView": "form",
        "id": "xmNhGsnpOh_j",
        "outputId": "6f044b7b-c11e-4ac3-f781-fc1587ef808e"
      },
      "execution_count": 3,
      "outputs": [
        {
          "output_type": "stream",
          "name": "stdout",
          "text": [
            "Q = 6923.4 [kJ]\n"
          ]
        }
      ]
    },
    {
      "cell_type": "markdown",
      "source": [
        "---\n",
        "### b) $\\Delta S_u$, (variación de entropía del universo)."
      ],
      "metadata": {
        "id": "SZwvoEEvMgIJ"
      }
    },
    {
      "cell_type": "markdown",
      "source": [
        "Variación de entropía de A\n",
        "$$\\Delta S_A = m_A \\left( c_{vO_2} \\ln \\frac{T_{fA}}{T_{iA}} + R_{O_2} \\ln \\frac{V_{fA}}{V_{iA}} \\right)$$"
      ],
      "metadata": {
        "id": "PhzDaj9KqEXv"
      }
    },
    {
      "cell_type": "markdown",
      "source": [
        "Variación de entropía de B\n",
        "$$\\Delta S_B = m_B \\left( c_{vN_2} \\ln \\frac{T_{fB}}{T_{iB}} + R_{N_2} \\ln \\frac{V_{fB}}{V_{iB}} \\right)$$"
      ],
      "metadata": {
        "id": "K_1bRPHnqWI5"
      }
    },
    {
      "cell_type": "markdown",
      "source": [
        "Como:   \n",
        "$V_{fA} = V_{iA}$   \n",
        "$V_{fB} = V_{iB}$\n",
        "$$\\ln \\frac{V_{fA}}{V_{iA}} = 0 \\qquad \\wedge \\qquad \\ln \\frac{V_{fB}}{V_{iB}} = 0 $$"
      ],
      "metadata": {
        "id": "-fgsdMUVSrHf"
      }
    },
    {
      "cell_type": "markdown",
      "source": [
        "Variación de entropía del sistema\n",
        "\n",
        "$$\\Delta S_s = \\Delta S_A + \\Delta S_B$$"
      ],
      "metadata": {
        "id": "cXgmCTOlPigx"
      }
    },
    {
      "cell_type": "markdown",
      "source": [
        "Variación de entropía del medio\n",
        "$$\\Delta S_m = \\frac{-Q}{T_F}$$"
      ],
      "metadata": {
        "id": "sqqVVeD-Tq9J"
      }
    },
    {
      "cell_type": "code",
      "source": [
        "import numpy as np"
      ],
      "metadata": {
        "id": "whr7gXz_QZ1i"
      },
      "execution_count": 4,
      "outputs": []
    },
    {
      "cell_type": "code",
      "execution_count": 5,
      "metadata": {
        "id": "NcudGEgNJ4w1"
      },
      "outputs": [],
      "source": [
        "ΔS_A = m_A*(cv_O2*np.log(T_fA/T_iA))\n",
        "ΔS_B = m_B*(cv_N2*np.log(T_fB/T_iB))\n",
        "ΔS_s = ΔS_A + ΔS_B\n",
        "ΔS_m = -Q/T_F\n",
        "ΔS_u = ΔS_s + ΔS_m"
      ]
    },
    {
      "cell_type": "code",
      "source": [
        "#@title Resultados:\n",
        "print(\"ΔS_s = %.3f [kJ/K]\"%ΔS_s)\n",
        "print(\"ΔS_m = %.3f [kJ/K]\"%ΔS_m)\n",
        "print(\"\\nΔS_u = %.3f [kJ/K]\"%ΔS_u)"
      ],
      "metadata": {
        "colab": {
          "base_uri": "https://localhost:8080/"
        },
        "cellView": "form",
        "id": "W6ORGs-iTiUK",
        "outputId": "9b1c6763-9804-4629-e2ec-f21f95a178e7"
      },
      "execution_count": 6,
      "outputs": [
        {
          "output_type": "stream",
          "name": "stdout",
          "text": [
            "ΔS_s = 17.683 [kJ/K]\n",
            "ΔS_m = -13.847 [kJ/K]\n",
            "\n",
            "ΔS_u = 3.836 [kJ/K]\n"
          ]
        }
      ]
    },
    {
      "cell_type": "markdown",
      "source": [
        "---\n",
        "### c) $W_{perd}$, (trabajo perdido)"
      ],
      "metadata": {
        "id": "-yEPNHJwUtAF"
      }
    },
    {
      "cell_type": "markdown",
      "source": [
        "$$W_{perd} = T_0 \\Delta S_u$$"
      ],
      "metadata": {
        "id": "AKdBsBMZVpmM"
      }
    },
    {
      "cell_type": "code",
      "source": [
        "W_perd = T_0*ΔS_u"
      ],
      "metadata": {
        "id": "5yFvheVXUIZG"
      },
      "execution_count": 7,
      "outputs": []
    },
    {
      "cell_type": "code",
      "source": [
        "#@title Resultado:\n",
        "print(\"W_perd = %.1f [kJ]\"%W_perd)"
      ],
      "metadata": {
        "colab": {
          "base_uri": "https://localhost:8080/"
        },
        "cellView": "form",
        "id": "A81MkRtcVyh6",
        "outputId": "4131034d-f3e8-45b3-b532-697c4847e10d"
      },
      "execution_count": 8,
      "outputs": [
        {
          "output_type": "stream",
          "name": "stdout",
          "text": [
            "W_perd = 1150.9 [kJ]\n"
          ]
        }
      ]
    },
    {
      "cell_type": "markdown",
      "source": [
        "---\n",
        "### d) $\\Delta Ex_s, \\; \\Delta Ex_m \\;$, (variación de exergía del sistema y del medio)"
      ],
      "metadata": {
        "id": "KKViAvewWCan"
      }
    },
    {
      "cell_type": "markdown",
      "source": [
        "Variación de exergía del sistema\n",
        "$$\\Delta Ex_s = (\\Delta U_A + \\Delta U_B) - T_0 \\Delta S_s$$"
      ],
      "metadata": {
        "id": "JZXzvVj-WeWX"
      }
    },
    {
      "cell_type": "markdown",
      "source": [
        "Variación de exergía del medio\n",
        "$$\\Delta Ex_m = Q - T_0 \\Delta S_m$$"
      ],
      "metadata": {
        "id": "DPBEZE3cWusv"
      }
    },
    {
      "cell_type": "code",
      "source": [
        "ΔEx_s = (ΔU_A + ΔU_B) - T_0*ΔS_s\n",
        "ΔEx_m = Q - T_0*(-ΔS_m)\n",
        "Q_u = ΔEx_m\n",
        "η_ex = ΔEx_s/Q_u"
      ],
      "metadata": {
        "id": "N5I9YFapV4Tw"
      },
      "execution_count": 9,
      "outputs": []
    },
    {
      "cell_type": "code",
      "source": [
        "#@title Resultados:\n",
        "print(\"ΔEx_s = %.1f [kJ]\"%ΔEx_s)\n",
        "print(\"ΔEx_m = %.1f [kJ]\"%ΔEx_m)\n",
        "print(\"\\nη_ex = %.3f\"%η_ex)"
      ],
      "metadata": {
        "colab": {
          "base_uri": "https://localhost:8080/"
        },
        "cellView": "form",
        "id": "fNWhqXup3aon",
        "outputId": "19c99d31-035f-4553-fc34-2b51db746874"
      },
      "execution_count": 10,
      "outputs": [
        {
          "output_type": "stream",
          "name": "stdout",
          "text": [
            "ΔEx_s = 1618.4 [kJ]\n",
            "ΔEx_m = 2769.4 [kJ]\n",
            "\n",
            "η_ex = 0.584\n"
          ]
        }
      ]
    }
  ]
}