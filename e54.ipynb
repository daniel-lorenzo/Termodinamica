{
 "cells": [
  {
   "cell_type": "markdown",
   "metadata": {},
   "source": [
    "# Ejercicio 54\n",
    "\n",
    "![54.png](img/54.png)\n",
    "\n",
    "1. $\\Delta S_u$\n",
    "2. $\\eta_{ex,proc}$\n",
    "3. $\\eta_{iso}$"
   ]
  },
  {
   "cell_type": "markdown",
   "metadata": {},
   "source": [
    "## Solución\n",
    "\n",
    "$$ \\eta_{iso} = \\frac{h_3 - h_4}{h_3 - h_{4rev}} $$"
   ]
  },
  {
   "cell_type": "code",
   "execution_count": 48,
   "metadata": {},
   "outputs": [],
   "source": [
    "import CoolProp.CoolProp as cp"
   ]
  },
  {
   "cell_type": "markdown",
   "metadata": {},
   "source": [
    "En el punto 3 tenemos vapor, con la presión y temperatura obtenemos entalpía y entroía de tabla\n",
    "\n",
    "$\\left.\n",
    "\\begin{array}{l}\n",
    "P_3 = 4 \\, \\mathrm{bar} \\\\\n",
    "t_3 = 200^\\circ \\mathrm{C}\n",
    "\\end{array}\n",
    "\\right\\} \\quad \\rightarrow \\quad\n",
    "\\left[\n",
    "\\begin{array}{l}\n",
    "h_3 \\\\\n",
    "s_3\n",
    "\\end{array}\n",
    "\\right]$"
   ]
  },
  {
   "cell_type": "code",
   "execution_count": 24,
   "metadata": {},
   "outputs": [
    {
     "name": "stdout",
     "output_type": "stream",
     "text": [
      "h3 = 2860.93 kJ/kg\n",
      "s3 = 7.1723 kJ/kg·K\n"
     ]
    }
   ],
   "source": [
    "P3 = 4e5 # Pa\n",
    "T3 = 200 + 273.15 # K\n",
    "\n",
    "h3 = cp.PropsSI('H','P',P3,'T',T3,'Water')\n",
    "s3 = cp.PropsSI('S','P',P3,'T',T3,'Water')\n",
    "\n",
    "print('h3 = %s kJ/kg'%round(h3/1000,2))\n",
    "print('s3 = %s kJ/kg·K'%round(s3/1000,5))"
   ]
  },
  {
   "cell_type": "markdown",
   "metadata": {},
   "source": [
    "$\\left.\n",
    "\\begin{array}{l}\n",
    "P_4 = 1,4 \\, \\mathrm{bar} \\\\\n",
    "s_{4rev} = s_3\n",
    "\\end{array}\n",
    "\\right\\} \\quad \\rightarrow \\quad\n",
    "\\left[\n",
    "\\begin{array}{l}\n",
    "s_4' \\\\\n",
    "s_4''\n",
    "\\end{array}\n",
    "\\right] \\quad\n",
    "\\left[\n",
    "\\begin{array}{l}\n",
    "h_4' \\\\\n",
    "h_4''\n",
    "\\end{array}\n",
    "\\right]\n",
    "$\n",
    "\n",
    "$$ x_{4rev} = \\frac{s_{4rev} - s'}{s'' - s'} $$"
   ]
  },
  {
   "cell_type": "code",
   "execution_count": 25,
   "metadata": {},
   "outputs": [
    {
     "data": {
      "text/plain": [
       "'twophase'"
      ]
     },
     "execution_count": 25,
     "metadata": {},
     "output_type": "execute_result"
    }
   ],
   "source": [
    "P4 = 1.4e5 # Pa\n",
    "s4rev = s3\n",
    "\n",
    "cp.PhaseSI('P',P4,'S',s4rev,'Water')"
   ]
  },
  {
   "cell_type": "code",
   "execution_count": 26,
   "metadata": {},
   "outputs": [
    {
     "name": "stdout",
     "output_type": "stream",
     "text": [
      "x4rev = 0.9874\n"
     ]
    }
   ],
   "source": [
    "x4rev = cp.PropsSI('Q','P',P4,'S',s4rev,'Water')\n",
    "\n",
    "print('x4rev = %s'%round(x4rev,4))"
   ]
  },
  {
   "cell_type": "markdown",
   "metadata": {},
   "source": [
    "$$ h_{4rev} = x_{4rev} (h'' - h') + h' $$"
   ]
  },
  {
   "cell_type": "code",
   "execution_count": 27,
   "metadata": {},
   "outputs": [
    {
     "name": "stdout",
     "output_type": "stream",
     "text": [
      "h4rev = 2661.78 kJ/kg\n"
     ]
    }
   ],
   "source": [
    "h4rev = cp.PropsSI('H','P',P4,'S',s4rev,'Water')\n",
    "print('h4rev = %s kJ/kg'%round(h4rev/1000,2))"
   ]
  },
  {
   "cell_type": "markdown",
   "metadata": {},
   "source": [
    "$$ \\eta_{iso} = \\frac{h_3 - h_4}{h_3 - h_{4rev}} $$\n",
    "\n",
    "$$ h_4 = \\eta_{iso} (h_{4rev} - h_3) + h_3 $$"
   ]
  },
  {
   "cell_type": "code",
   "execution_count": 28,
   "metadata": {},
   "outputs": [
    {
     "name": "stdout",
     "output_type": "stream",
     "text": [
      "h4 = 2691.65 kJ/kg\n"
     ]
    }
   ],
   "source": [
    "eta_iso = 0.85\n",
    "\n",
    "h4 = eta_iso*(h4rev - h3) + h3\n",
    "\n",
    "print('h4 = %s kJ/kg'%round(h4/1000,2))"
   ]
  },
  {
   "cell_type": "markdown",
   "metadata": {},
   "source": [
    "$\\left.\n",
    "\\begin{array}{l}\n",
    "P_4 = 1,4 \\, \\mathrm{bar} \\\\\n",
    "h_4\n",
    "\\end{array}\n",
    "\\right\\} \\quad \\rightarrow \\quad\n",
    "[s_4]$"
   ]
  },
  {
   "cell_type": "code",
   "execution_count": 51,
   "metadata": {},
   "outputs": [
    {
     "name": "stdout",
     "output_type": "stream",
     "text": [
      "s4 = 7.25041 kJ/kg·K\n",
      "T4 = 383.23 K\n"
     ]
    }
   ],
   "source": [
    "s4 = cp.PropsSI('S','P',P4,'H',h4,'Water')\n",
    "T4 = cp.PropsSI('T','P',P4,'S',s4,'Water')\n",
    "\n",
    "print('s4 = %s kJ/kg·K'%round(s4/1000,5))\n",
    "print('T4 = %s K'%round(T4,2))"
   ]
  },
  {
   "cell_type": "markdown",
   "metadata": {},
   "source": [
    "$$ W_{MT} = m_3 (h_3 - h_4) $$"
   ]
  },
  {
   "cell_type": "code",
   "execution_count": 30,
   "metadata": {},
   "outputs": [
    {
     "name": "stdout",
     "output_type": "stream",
     "text": [
      "WMT = -355.48 kW\n"
     ]
    }
   ],
   "source": [
    "m3 = 2.1 # kg/s\n",
    "\n",
    "WMT = m3*(h4 - h3)\n",
    "\n",
    "print('WMT = %s kW'%round(WMT/1000,2))"
   ]
  },
  {
   "cell_type": "markdown",
   "metadata": {},
   "source": [
    "$\\left.\n",
    "\\begin{array}{l}\n",
    "P_5 = 1,2 \\, \\mathrm{bar} \\\\\n",
    "x_5 = 0,5\n",
    "\\end{array}\n",
    "\\right\\} \\quad \\rightarrow \\quad\n",
    "\\left[\n",
    "\\begin{array}{l}\n",
    "s_5' \\\\\n",
    "s_5''\n",
    "\\end{array}\n",
    "\\right] \\quad\n",
    "\\left[\n",
    "\\begin{array}{l}\n",
    "h_5' \\\\\n",
    "h_5''\n",
    "\\end{array}\n",
    "\\right]\n",
    "$\n",
    "\n",
    "Entonces\n",
    "\n",
    "$$\\begin{array}{l}\n",
    "h_5 = x_5 (h_5'' - h_5') + h_5' \\\\\n",
    "s_5 = x_5 (s_5'' - s_5') + s_5' \n",
    "\\end{array}$$"
   ]
  },
  {
   "cell_type": "code",
   "execution_count": 31,
   "metadata": {},
   "outputs": [
    {
     "name": "stdout",
     "output_type": "stream",
     "text": [
      "h5 = 1561.21 kJ/kg\n",
      "s5 = 4.3293 kJ/kg·K\n"
     ]
    }
   ],
   "source": [
    "P5 = 1.2e5 # Pa\n",
    "x5 = 0.5\n",
    "\n",
    "h5 = cp.PropsSI('H','P',P5,'Q',x5,'Water')\n",
    "s5 = cp.PropsSI('S','P',P5,'Q',x5,'Water')\n",
    "\n",
    "print('h5 = %s kJ/kg'%round(h5/1000,2))\n",
    "print('s5 = %s kJ/kg·K'%round(s5/1000,5))"
   ]
  },
  {
   "cell_type": "markdown",
   "metadata": {},
   "source": [
    "$\\left\\{\n",
    "\\begin{array}{l}\n",
    "|W_c| = \\Delta H_{12} \\\\\n",
    "\\Delta H_{12} = m_1 c_{p,aire} \\Delta T_{12}\n",
    "\\end{array}\n",
    "\\right.$"
   ]
  },
  {
   "cell_type": "markdown",
   "metadata": {},
   "source": [
    "$$ \\Delta T_{12} = \\frac{\\Delta H_{12}}{m_1 c_{p,aire}} $$"
   ]
  },
  {
   "cell_type": "code",
   "execution_count": 32,
   "metadata": {},
   "outputs": [
    {
     "name": "stdout",
     "output_type": "stream",
     "text": [
      "DT12 = 101.09 K\n"
     ]
    }
   ],
   "source": [
    "Wc = WMT\n",
    "T0 = 300 # K\n",
    "T1 = T0\n",
    "m1 = 3.5 # kg/s\n",
    "cp = 1.0047e3 # J/kg·K\n",
    "\n",
    "DT12 = abs(Wc)/(m1*cp)\n",
    "\n",
    "print('DT12 = %s K'%round(DT12,2))"
   ]
  },
  {
   "cell_type": "markdown",
   "metadata": {},
   "source": [
    "$$ T_2 = \\Delta T_{12} + T_0 $$"
   ]
  },
  {
   "cell_type": "code",
   "execution_count": 33,
   "metadata": {},
   "outputs": [
    {
     "name": "stdout",
     "output_type": "stream",
     "text": [
      "T2 = 401.09 K\n"
     ]
    }
   ],
   "source": [
    "T2 = DT12 + T0\n",
    "print('T2 = %s K'%round(T2,2))"
   ]
  },
  {
   "cell_type": "markdown",
   "metadata": {},
   "source": [
    "$$ \\Delta S_{12} = m_1 \\left( c_{p,aire} \\ln \\frac{T_2}{T_1} - R \\ln \\frac{P_2}{P_1} \\right) $$"
   ]
  },
  {
   "cell_type": "code",
   "execution_count": 34,
   "metadata": {},
   "outputs": [],
   "source": [
    "import math"
   ]
  },
  {
   "cell_type": "code",
   "execution_count": 35,
   "metadata": {},
   "outputs": [
    {
     "name": "stdout",
     "output_type": "stream",
     "text": [
      "DS12 = 0.3249 kJ/K\n"
     ]
    }
   ],
   "source": [
    "P0 = 100e5 # Pa\n",
    "P1 = P0\n",
    "P2 = 200e5 # Pa\n",
    "R = 0.287e3 # J/kg·K\n",
    "cp = 1.0047e3 # J/kg·K\n",
    "\n",
    "DS12 = m1*(cp*math.log(T2/T1) - R*math.log(P2/P1))\n",
    "\n",
    "print('DS12 = %s kJ/K'%round(DS12/1000,4))"
   ]
  },
  {
   "cell_type": "markdown",
   "metadata": {},
   "source": [
    "$ \\Delta h_{67} = c_{p,O_2} (T_7 - T_6) $"
   ]
  },
  {
   "cell_type": "code",
   "execution_count": 36,
   "metadata": {},
   "outputs": [],
   "source": [
    "T6 = 27 + 273.15 # K\n",
    "T7 = 67 + 273.15 # K\n",
    "cpO2 = 0.9185e3 # J/kg·K\n",
    "\n",
    "Dh67 = cpO2*(T7 - T6)"
   ]
  },
  {
   "cell_type": "markdown",
   "metadata": {},
   "source": [
    "$$ | \\Delta H_{45} | =  m_6 | \\Delta h_{67} | $$"
   ]
  },
  {
   "cell_type": "markdown",
   "metadata": {},
   "source": [
    "$$ m_6 = \\frac{| \\Delta H_{45} |}{\\Delta h_{67}} $$"
   ]
  },
  {
   "cell_type": "code",
   "execution_count": 37,
   "metadata": {},
   "outputs": [
    {
     "name": "stdout",
     "output_type": "stream",
     "text": [
      "m6 = 64.61 kg/s\n"
     ]
    }
   ],
   "source": [
    "m4 = m3\n",
    "DH45 = m4*(h5 - h4)\n",
    "\n",
    "m6 = abs(DH45)/Dh67\n",
    "print('m6 = %s kg/s'%round(m6,2))"
   ]
  },
  {
   "cell_type": "markdown",
   "metadata": {},
   "source": [
    "Variación de entalía en 6\n",
    "\n",
    "$ \\Delta H_{67} = m_6 \\Delta h_{67} $"
   ]
  },
  {
   "cell_type": "markdown",
   "metadata": {},
   "source": [
    "$$ \\Delta S_{67} = m_6 \\left( c_{p,O_2} \\ln \\frac{T_7}{T_6} - R \\ln \\frac{P_7}{P_6}  \\right) $$\n",
    "\n",
    "$$ P_6 = P_7 $$"
   ]
  },
  {
   "cell_type": "code",
   "execution_count": 38,
   "metadata": {},
   "outputs": [
    {
     "name": "stdout",
     "output_type": "stream",
     "text": [
      "DS67 = 7.4247 kJ/K\n"
     ]
    }
   ],
   "source": [
    "DS67 = m6*( cpO2*math.log(T7/T6) )\n",
    "\n",
    "print('DS67 = %s kJ/K'%round(DS67/1000,4))"
   ]
  },
  {
   "cell_type": "markdown",
   "metadata": {},
   "source": [
    "$ \\Delta S_{35} = m_3 (s_5 - s_3) $"
   ]
  },
  {
   "cell_type": "code",
   "execution_count": 39,
   "metadata": {},
   "outputs": [
    {
     "name": "stdout",
     "output_type": "stream",
     "text": [
      "DS35 = -5.9703 kJ/K\n"
     ]
    }
   ],
   "source": [
    "DS35 = m3*(s5 - s3)\n",
    "print('DS35 = %s kJ/K'%round(DS35/1000,5))"
   ]
  },
  {
   "cell_type": "markdown",
   "metadata": {},
   "source": [
    "$\\Delta S_{34} = m_3 (s_4 - s_3)$"
   ]
  },
  {
   "cell_type": "code",
   "execution_count": 40,
   "metadata": {},
   "outputs": [
    {
     "name": "stdout",
     "output_type": "stream",
     "text": [
      "DS34 = 0.16402 kJ/K\n"
     ]
    }
   ],
   "source": [
    "DS34 = m3*(s4 - s3)\n",
    "print('DS34 = %s kJ/K'%round(DS34/1000,5))"
   ]
  },
  {
   "cell_type": "markdown",
   "metadata": {},
   "source": [
    "$ \\Delta S_{45} = (s_5 - s_4) $"
   ]
  },
  {
   "cell_type": "code",
   "execution_count": 41,
   "metadata": {},
   "outputs": [
    {
     "name": "stdout",
     "output_type": "stream",
     "text": [
      "DS45 = -6.13432 kJ/K\n"
     ]
    }
   ],
   "source": [
    "DS45 = m4*(s5 - s4)\n",
    "print('DS45 = %s kJ/K'%round(DS45/1000,5))"
   ]
  },
  {
   "cell_type": "markdown",
   "metadata": {},
   "source": [
    "### Variación de entropía del universo\n",
    "$$ \\Delta S_u = \\Delta S_{12} + \\Delta S_{35} + \\Delta S_{67} $$"
   ]
  },
  {
   "cell_type": "code",
   "execution_count": 42,
   "metadata": {},
   "outputs": [
    {
     "name": "stdout",
     "output_type": "stream",
     "text": [
      "DSu = 1.77936 kJ/K\n"
     ]
    }
   ],
   "source": [
    "DSu = DS12 + DS35 + DS67\n",
    "print('DSu = %s kJ/K'%round(DSu/1000,5))"
   ]
  },
  {
   "cell_type": "markdown",
   "metadata": {},
   "source": [
    "### Variación de exergías\n",
    "$\\begin{array}{l}\n",
    "\\Delta Ex_{12} = \\Delta H_{12} - T_0 \\Delta S_{12} \\\\\n",
    "\\Delta Ex_{34} = \\Delta H_{34} - T_0 \\Delta S_{34} \\\\\n",
    "\\Delta Ex_{45} = \\Delta H_{45} - T_0 \\Delta S_{45} \\\\\n",
    "\\Delta Ex_{67} = \\Delta H_{67} - T_0 \\Delta S_{67} \n",
    "\\end{array}$"
   ]
  },
  {
   "cell_type": "code",
   "execution_count": 43,
   "metadata": {},
   "outputs": [
    {
     "name": "stdout",
     "output_type": "stream",
     "text": [
      "DEx12 = 258.0 kJ\n",
      "DEx34 = -404.69 kJ\n",
      "DEx45 = -533.63 kJ\n",
      "DEx67 = 146.51 kJ\n"
     ]
    }
   ],
   "source": [
    "DH12 = abs(Wc)\n",
    "DEx12 = DH12 - T0*DS12\n",
    "\n",
    "DH34 = m3*(h4 - h3)\n",
    "DEx34 = DH34 - T0*DS34\n",
    "\n",
    "DEx45 = DH45 - T0*DS45\n",
    "\n",
    "DH67 = m6*Dh67\n",
    "DEx67 = DH67 - T0*DS67\n",
    "\n",
    "print('DEx12 = %s kJ'%round(DEx12/1000,2))\n",
    "print('DEx34 = %s kJ'%round(DEx34/1000,2))\n",
    "print('DEx45 = %s kJ'%round(DEx45/1000,2))\n",
    "print('DEx67 = %s kJ'%round(DEx67/1000,2))"
   ]
  },
  {
   "cell_type": "markdown",
   "metadata": {},
   "source": [
    "Rendimiento exergético del proceso\n",
    "$$ \\eta_{ex,proc} = \\frac{ \\Delta Ex_{12} + \\Delta Ex_{67} }{ \\Delta Ex_{34} + \\Delta Ex_{45} } $$"
   ]
  },
  {
   "cell_type": "code",
   "execution_count": 44,
   "metadata": {},
   "outputs": [
    {
     "name": "stdout",
     "output_type": "stream",
     "text": [
      "eta_exproc = 0.4311\n"
     ]
    }
   ],
   "source": [
    "eta_exproc = (DEx12 + DEx67)/abs(DEx34 + DEx45)\n",
    "\n",
    "print('eta_exproc = %s'%round(eta_exproc,4))"
   ]
  },
  {
   "cell_type": "markdown",
   "metadata": {},
   "source": [
    "### Rendimiento isoentrópico del compresor\n",
    "\n",
    "$$ \\eta_{iso,comp} = \\frac{W_{ideal}}{W_{real}} = \\frac{T_{2id} - T_1}{T_2 - T_1} $$"
   ]
  },
  {
   "cell_type": "code",
   "execution_count": 49,
   "metadata": {},
   "outputs": [
    {
     "name": "stdout",
     "output_type": "stream",
     "text": [
      "T4id = 382.44 K\n",
      "t4id = 109.29°C\n"
     ]
    }
   ],
   "source": [
    "s2id = s1\n",
    "\n",
    "T4id = cp.PropsSI('T','P',P4,'S',s4id,'Water')\n",
    "print('T4id = %s K'%round(T4id,2))\n",
    "print('t4id = %s°C'%round(T4id - 273.15,2))"
   ]
  },
  {
   "cell_type": "code",
   "execution_count": 53,
   "metadata": {},
   "outputs": [
    {
     "name": "stdout",
     "output_type": "stream",
     "text": [
      "eta_isocomp = 1.0087\n"
     ]
    }
   ],
   "source": [
    "eta_isocomp = (T4id - T3)/(T4 - T3)\n",
    "print('eta_isocomp = %s'%round(eta_isocomp,4))"
   ]
  },
  {
   "cell_type": "code",
   "execution_count": 47,
   "metadata": {},
   "outputs": [],
   "source": [
    "#print('Resumen:')\n",
    "#print('--------')\n",
    "#print('')"
   ]
  }
 ],
 "metadata": {
  "kernelspec": {
   "display_name": "Python 3",
   "language": "python",
   "name": "python3"
  },
  "language_info": {
   "codemirror_mode": {
    "name": "ipython",
    "version": 3
   },
   "file_extension": ".py",
   "mimetype": "text/x-python",
   "name": "python",
   "nbconvert_exporter": "python",
   "pygments_lexer": "ipython3",
   "version": "3.7.3"
  }
 },
 "nbformat": 4,
 "nbformat_minor": 2
}
