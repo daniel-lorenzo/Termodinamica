{
 "cells": [
  {
   "cell_type": "markdown",
   "metadata": {},
   "source": [
    "# Final de termodinámica\n",
    "\n",
    "![final5-0.png](img/final5-0.png)\n",
    "\n",
    "### Se pide:\n",
    "1. ¿ $m$ de la MT alcanza para entregar ese $W_{MT}$ ?    \n",
    "  a) Si no alcanza $\\rightarrow m_{min}$ (hasta que se pare) para abastecer ese $W_{MT}$       \n",
    "  b) Si excede $T_{F1}$ y $T_{F2}$ cuando entrega ese $W_{MT}$\n",
    "2. Estado final del vapor\n",
    "3. $W_{perd}$ del universo\n",
    "4. $\\eta_{ex,inst}$ de la instalación.\n",
    "5. Si con $Q$ almacenado en una fuente a $T_F$ se quiere obtener un $W$ con una máquina térmica con $\\eta_{ex} = 0,8 \\, \\eta_{ex,id}$ cuanto $W$ se podría obtener?"
   ]
  },
  {
   "cell_type": "markdown",
   "metadata": {},
   "source": [
    "------\n",
    "## Solución"
   ]
  },
  {
   "cell_type": "markdown",
   "metadata": {},
   "source": [
    "### Compresor (adiabático)\n",
    "\n",
    "Datos disponibles: $P_3, T_3, m_3, P_4, \\eta_{isoent}$     \n",
    "Incógnitas: $W_{disp}$"
   ]
  },
  {
   "cell_type": "markdown",
   "metadata": {},
   "source": [
    "$\\begin{array}{l|l|l}\n",
    "n^\\circ & \\mbox{Ecuación} & \\mbox{Incógnita} \\\\\n",
    "\\hline   \n",
    "1) & W_{disp} = - \\Delta H_{34} & W_{disp}, \\Delta H_{34} \\\\\n",
    "2) & \\Delta H_{34} = m_3 cp (T_4 - T_3) & T_4 \\\\\n",
    "3) & \\displaystyle \\eta_{iso} = \\frac{T_{4id} - T_3}{T_4 - T_3} & T_{4id} \\\\\n",
    "4) & \\displaystyle \\Delta S_{34id} = m_3 \\left[ cp \\ln \\left( \\frac{T_{4id}}{T_3} \\right) - R \\ln \\left( \\frac{P_4}{P_3} \\right)  \\right] & \\Delta S_{34id} \\\\\n",
    "5) & \\Delta S_{34id} = 0 \\quad \\mbox{(por adiabático e isoentrópico)}\n",
    "\\end{array}$ "
   ]
  },
  {
   "cell_type": "markdown",
   "metadata": {},
   "source": [
    "<img src=\"img/final5-1.png\" alt=\"compresor\">\n",
    "Para calcular los puntos 3 y 4 necesito $\\Delta S_{34}$ y $\\Delta Ex_{34}$\n",
    "\n",
    "$ \\displaystyle \\Delta S_{34} = m_3 \\left[ cp \\ln \\left( \\frac{T_{4}}{T_3} \\right) - R \\ln \\left( \\frac{P_4}{P_3} \\right)  \\right] \\quad (+)$ por adiabático    \n",
    "\n",
    "$\\Delta Ex_{34} = \\Delta H_{34} - T_0 \\Delta S_{34} \\; \\rightarrow \\; \\mbox{producida} $\n",
    "\n",
    "$\\begin{array}{|lc|}\n",
    "\\hline\n",
    "\\Delta S_{34} & (+) \\\\\n",
    "\\Delta Ex_{34} & (P) \\\\\n",
    "\\hline\n",
    "\\end{array}$"
   ]
  },
  {
   "cell_type": "markdown",
   "metadata": {},
   "source": [
    "------\n",
    "### Cálculo de calores y trabajos\n",
    "$\\begin{array}{l|l}\n",
    "W_{MT} = W_{disp} + \\%1 W_{MT} + \\% 2 W_{MT} + \\% 3 W_{MT} & \\Rightarrow \\; W_{MT} \\\\\n",
    "Q_F = \\% 1 W_{MT} & \\Rightarrow Q_F \\\\\n",
    "W_{recip} = \\% 2 W_{MT} & \\Rightarrow W_{recip} \\\\\n",
    "W_{MF} = \\% 3 W_{MT} & \\Rightarrow W_{MF}\n",
    "\\end{array}$\n",
    "\n",
    "$$ Q_{Uq} = Q_F - T_0 \\Delta S_F \\quad \\mbox{producida} $$\n",
    "\n",
    "$$ \\Delta S_F = \\frac{Q_F}{T_F} \\quad (+) $$"
   ]
  },
  {
   "cell_type": "markdown",
   "metadata": {},
   "source": [
    "--------\n",
    "### Máquina térmica\n",
    "Datos disponibles: $T_{1i}, \\, T_{2i}, \\, c_1, \\, c_2, \\, m_1 = m_2 = m, \\, \\Delta Ex_{MT}$\n",
    "\n",
    "Con esa $m$ que $W_{MT}$ se podría obtener?    \n",
    "Para diferenciar llamaremos $W_{MTP}$ al trabajo producido por la masa $m$ de esos cuerpos y $W_{MTR}$ al trabajo requerido necesario para abastecer a toda la instalación.\n",
    "\n",
    "$$ W_{MTR} = W_{disp} + Q_F + W_{recip} + W_{MF} \\quad \\Rightarrow \\quad \\mbox{Trabajo requerido} $$\n",
    "<center>\n",
    "<img src=\"img/final5-2.png\" alt=\"máquina térmica\">\n",
    "</center>    "
   ]
  },
  {
   "cell_type": "markdown",
   "metadata": {},
   "source": [
    "$\\begin{array}{l|l|l}\n",
    "n^\\circ & \\mbox{Ecuación} & \\mbox{Incógnita} \\\\\n",
    "\\hline   \n",
    "1) & W_{MTP} = Q_1 + Q_2 & W_{MTP}, Q_1, Q_2 \\\\\n",
    "2) & Q_1 = m c_1 (T_F - T_{1i}) & T_F \\\\\n",
    "3) & Q_2 = m c_2 (T_F - T_{2i}) & \\\\\n",
    "4) & \\Delta S_1 = m c_1 \\ln (T_F/T_{1i}) & \\Delta S_1 \\\\\n",
    "5) & \\Delta S_{UMT} = \\Delta S_1 + \\Delta S_2 & \\Delta S_{MT}, \\Delta S_2 \\\\\n",
    "6) & \\Delta Ex_{MT} = - T_0 \\Delta S_{MT} & \\\\\n",
    "7) & \\Delta S_2 = m c_2 \\ln (T_F/T_{2i}) &\n",
    "\\end{array}$"
   ]
  },
  {
   "cell_type": "markdown",
   "metadata": {},
   "source": [
    "Para resolver al punto (1) comparamos    \n",
    "\n",
    "$\\rightarrow \\mathrm{Si} \\; W_{MTP} = W_{MTR} \\; \\Rightarrow \\; m$ de la máquina térmica alcanza.\n",
    "\n",
    "$\\rightarrow \\mathrm{Si} \\; W_{MTP} < W_{MTR} \\; \\Rightarrow \\; m$ no alzanza para entregar el trabajo requerido y hay que calcular la masa mínima $(m_{min})$\n",
    "\n",
    "$\\rightarrow \\mathrm{Si} \\; W_{MTP} > W_{MTR} \\; \\Rightarrow \\; m$ la masa de los cuerpos es mayor que la masa mínima por lo que los cuerpos no alcanzarán el equilibrio térmico y sus temperaturas finales serán distintas $(T_{F2} \\neq T_{F2})$"
   ]
  },
  {
   "cell_type": "markdown",
   "metadata": {},
   "source": [
    "a) Cálculo de $m_{min}$ para obtener $W_{MTR}$ (R = requerido)\n",
    "\n",
    "$\\begin{array}{l|l|l}\n",
    "n^\\circ   & \\mbox{Ecuación} & \\mbox{Incógnitas} \\\\\n",
    "\\hline   \n",
    "1) & W_{MTR} = Q_{1R} + Q_{2R} & Q_{1R}, Q_{2R} \\\\\n",
    "2) & Q_{2R} = m_{min} c_2 (T_F - T_{2i}) & T_F, m_{min} \\\\\n",
    "3) & Q_{1R} = m_{min} c_1 (T_F - T_{1i} & \\\\\n",
    "4) & \\Delta S_1 = m_{min} c_1 \\ln (T_F / T_{1i} ) & \\Delta S_1 \\\\\n",
    "5) & \\Delta S_{MT} = \\Delta S_1 + \\Delta S_2 & \\Delta S_{MT}, \\Delta S_2 \\\\\n",
    "6) & \\Delta Ex_{MT} = - T_0 \\Delta S_{MT} & \\\\\n",
    "7) & \\Delta S_2 = m_{min} c_2 \\ln (T_F / T_{2i}) &\n",
    "\\end{array}\n",
    "$"
   ]
  },
  {
   "cell_type": "markdown",
   "metadata": {},
   "source": [
    "b) Cálculo de $T_{F2}$ y $T_{F1}$ una vez obtenido $W_{MTR}$ (R = requerido)\n",
    "\n",
    "$\\begin{array}{l|l|l}\n",
    "n^\\circ & \\mbox{Ecuación} & \\mbox{Incógnitas} \\\\\n",
    "\\hline\n",
    "1) & W_{MTR} = Q_1 + Q_2 & Q_1, Q_2 \\\\\n",
    "2) & Q_2 = m c_2 (T_{2F} - T_{2i}) & T_{2F} \\\\\n",
    "3) & \\Delta S_2 m c_2 \\ln (T_{2F} / T_{2i}) & \\Delta S_2 \\\\\n",
    "4) & \\Delta S_{MT} = \\Delta S_1 + \\Delta S_2 & \\Delta S_{MT}, \\Delta S_1 \\\\\n",
    "5) & \\Delta Ex_{MT} = - T_0 \\Delta S_{MT} & \\\\\n",
    "6) & \\Delta S_1 = m c_1 \\ln (T_{1F}/T_{1i}) & T_{1F} \\\\\n",
    "7) & Q_1 = m c_1 (T_{1F} - T_{1i}) &\n",
    "\\end{array}\n",
    "$"
   ]
  },
  {
   "cell_type": "markdown",
   "metadata": {},
   "source": [
    "Para contestar los puntos 3 y 4 necesito los calores utilizables y las variaciones de entropía de los cuerpos.\n",
    "\n",
    "$\\begin{array}{l}\n",
    "\\Delta S_1 \\; (-) \\quad \\mbox{(ya se calculo)} \\\\\n",
    "\\Delta S_2 \\; (+) \\quad \\mbox{(ya se calculo)} \\\\\n",
    "Q_{U1} = Q_1 - T_0 \\Delta S_1 \\\\\n",
    "Q_{U2} = Q_2 - T_0 \\Delta S_2\n",
    "\\end{array}$"
   ]
  },
  {
   "cell_type": "markdown",
   "metadata": {},
   "source": [
    "---------\n",
    "### Análisis de los calores utilizables\n",
    "\n",
    "Teniendo en cuenta que $T_{2i}<T_F<T_{1i}$, es decir $30^\\circ C < T_F < 350^\\circ C$, resulta que:"
   ]
  },
  {
   "cell_type": "markdown",
   "metadata": {},
   "source": [
    "__Para el cuerpo 1__\n",
    "\n",
    "$ \\downarrow T_1 (t) \\quad\n",
    "\\begin{array}{ll}\n",
    " & T_{1i} = 350^\\circ \\mathrm{C} \\\\\n",
    "\\hline\n",
    "\\Delta T = 330^\\circ \\mathrm{C} & \\updownarrow \\\\\n",
    "-------  & T_0 = 20^\\circ \\mathrm{C} \\\\\n",
    "\\Delta T = 330^\\circ \\mathrm{C} & \\updownarrow \\\\\n",
    "\\hline\n",
    "  & T = -310^\\circ \\mathrm{C}\n",
    "\\end{array}$\n",
    "\n",
    "$\\begin{array}{ll}\n",
    "\\mbox{Si} \\; T_{1F} < -310^\\circ \\mathrm{C} & \\Rightarrow Q_{U4} \\rightarrow \\mbox{producido} \\\\\n",
    "\\mbox{Si} \\; 10^\\circ \\mathrm{C} < T_{1F} < -310^\\circ \\mathrm{C} & \\Rightarrow Q_{U4} \\rightarrow \\mbox{consumido}\n",
    "\\end{array}$\n",
    "\n",
    "Como $T_{1F} > 30^\\circ C \\; \\Rightarrow \\; Q_{U1}$ consumido si o si"
   ]
  },
  {
   "cell_type": "markdown",
   "metadata": {},
   "source": [
    "__Para el cuerpo 2__\n",
    "\n",
    "$ \\uparrow T_2 (t) \\quad\n",
    "\\begin{array}{ll}\n",
    " & T = 40^\\circ \\mathrm{C} \\\\\n",
    "\\hline\n",
    "\\Delta T = 10^\\circ \\mathrm{C} & \\updownarrow \\\\\n",
    "-------  & T_{2i} = 30^\\circ \\mathrm{C} \\\\\n",
    "\\Delta T = 10^\\circ \\mathrm{C} & \\updownarrow \\\\\n",
    "\\hline\n",
    "  & T_0 = 20^\\circ \\mathrm{C}\n",
    "\\end{array}$\n",
    "\n",
    "El cuerpo 2 está recibiendo calor, su temperatura esta aumentando y se aleja de la temperatura ambiente, cualquiera que sea la $T_{2F}$ es producido."
   ]
  },
  {
   "cell_type": "markdown",
   "metadata": {},
   "source": [
    "$\\begin{array}{|ll|}\n",
    "\\hline\n",
    "\\Delta S_1 \\; (-) & Q_{U1} \\rightarrow (C) \\\\\n",
    "\\Delta S_2 \\; (+) & Q_{U2} \\rightarrow (P) \\\\\n",
    "\\hline\n",
    "\\end{array}$"
   ]
  },
  {
   "cell_type": "markdown",
   "metadata": {},
   "source": [
    "-------------\n",
    "### Recipiente adiabático\n",
    "Datos disponibles: $x_i, v_i, T_i, P_\\mathrm{rotura}, V_{max}, W_{recip}$\n",
    "\n",
    "<img src=\"img/final5-3.png\" alt=\"Recipiente Adiabático\">"
   ]
  },
  {
   "cell_type": "markdown",
   "metadata": {},
   "source": [
    "2) Estado final del vapor\n",
    "\n",
    "Primer hipótesis: la separación no se rompe\n",
    "\n",
    "$\\begin{array}{l|l|l}\n",
    "n^\\circ & \\mbox{Ecuación} & \\mbox{Incógnita} \\\\\n",
    "\\hline\n",
    "1) & W_R = - \\Delta U_{vapor} & \\Delta U \\\\\n",
    "2) & \\Delta U = m (u_f - u_i) & m, u_f, u_i \\\\\n",
    "3) & m = V_i/v_i & v_i \\\\\n",
    "4) & u_i = x_i (u''_i - u'_i) + u'_i & u''_i, u'_i \\\\\n",
    "5) & v_i = x_i (v''_i - v'_i) + v'_i & v''_i, v'_i \\\\\n",
    "6) & u''_i = f(T_i) \\; \\mbox{(vapor saturado)} \\\\\n",
    "7) & u'_i = f(T_i) \\; \\mbox{(líquido saturado)} \\\\\n",
    "8) & v''_i = f(T_i) \\; \\mbox{(vapor saturado)} \\\\\n",
    "9) & v'_i = f(T_i) \\; \\mbox{(líquido saturado)}\n",
    "\\end{array}\n",
    "$"
   ]
  },
  {
   "cell_type": "markdown",
   "metadata": {},
   "source": [
    "Si no se rompe $v_f = v_i$, con $v_f$ y $u_f$ de la tabla obtengo $P_F$.   \n",
    "\n",
    "Si $P_F < P_\\mathrm{rotura} \\Rightarrow \\mbox{verifica} \\therefore \\mbox{la hipótesis es correcta} $\n",
    "\n",
    "Si $P_F > P_\\mathrm{rotura} \\Rightarrow \\mbox{no verifica} \\therefore$ la hipótesis no es correcta y tenemos que plantear la segunda hipótesis $\\rightarrow$ la separación se rompe."
   ]
  },
  {
   "cell_type": "markdown",
   "metadata": {},
   "source": [
    "Segunda hipótesis: la separación se rompe\n",
    "\n",
    "$\\begin{array}{l|l|l}\n",
    "n^\\circ & \\mbox{Ecuación} & \\mbox{Incógnita} \\\\\n",
    "\\hline\n",
    "1) & \\Delta U = - W_R - W_{\\Delta V} & \\Delta U, W_{\\Delta V} \\\\\n",
    "2) & W_{\\Delta V} = 0 \\quad \\mbox{(Trabajo contra vacío)} \\\\\n",
    "3) & v_f = V_{max}/m\n",
    "\\end{array}$\n",
    "\n",
    "de (1) y (2) se concluye que $u_f$ es la misma que en el caso planteado anteriormente"
   ]
  },
  {
   "cell_type": "markdown",
   "metadata": {},
   "source": [
    "con $v_f$ y $u_f$ de la tabla obtengo $p_f, t_f$ y/o $x_f$\n",
    "\n",
    "$\\begin{array}{lll}\n",
    "\\mbox{Si} & v_f < v'_f & \\Rightarrow \\mbox{líquido subenfriado (si se rompe)} \\\\\n",
    "\\mbox{Si} & v_f = v'_f & \\Rightarrow \\mbox{líquido saturado} \\\\\n",
    "\\mbox{Si} & v'_f<v_f < v''_f & \\mbox{vapor húmedo } \\Rightarrow \\mbox{calculo el título} \\\\\n",
    "   & \\displaystyle x_f = \\frac{v_f - v'_f}{v''_f - v'_f} \\\\\n",
    "\\mbox{Si} & v_f = v''_f & \\Rightarrow \\mbox{vapor saturado} \\\\\n",
    "\\mbox{Si} & v_f > v''_f & \\Rightarrow \\mbox{vapor sobrecalentado (si no se rompe)}\n",
    "\\end{array}\n",
    "$"
   ]
  },
  {
   "cell_type": "markdown",
   "metadata": {},
   "source": [
    "Para contestar los puntos 3 y 4 necesito la variación de entropía y de exergía"
   ]
  },
  {
   "cell_type": "markdown",
   "metadata": {},
   "source": [
    "$\\begin{array}{l|l|l}\n",
    "n^\\circ & \\mbox{Ecuación} & \\mbox{Incógnita} \\\\\n",
    "\\hline\n",
    "1) & \\Delta S_{vapor} = m (s_f - s_i) \\quad (+) \\; \\mbox{(por adiabático)} & \\Delta S_{vapor}, s_f,s_i \\\\\n",
    "2) & s_f = f(v_f, P_f) \\quad \\mbox{de tabla} & \\\\\n",
    "Si & v'_f < v_f < v''_f \\; \\Rightarrow & \\\\\n",
    "   & s_f = x_f (s''_f - s'_f) + s'_f & \\\\\n",
    "   & \\quad s'_f = f(P_f) \\; \\mbox{líq. sat.} & \\\\\n",
    "   & \\quad  s''_f = f(P_f) \\; \\mbox{vap. sat.} & \\\\\n",
    "3) & s_i = x_i (s''_i - s'_i) + s'_i & s'_i, s''_i \\\\\n",
    "4) & \\quad s'_i = f(T_i) \\; \\mbox{líq. sat.} & \\\\\n",
    "5) & \\quad s''_i = f(T_i) \\; \\mbox{vap. sat.} & \\\\\n",
    "\\end{array}\n",
    "$"
   ]
  },
  {
   "cell_type": "markdown",
   "metadata": {},
   "source": [
    "Si la separación no se rompe\n",
    "\n",
    "$$ \\Delta Ex_{vapor} = \\Delta U - T_0 \\Delta S_{vapor} \\; \\rightarrow \\; \\mbox{producida} $$"
   ]
  },
  {
   "cell_type": "markdown",
   "metadata": {},
   "source": [
    "Si la separación se rompe\n",
    "\n",
    "$$ \\Delta Ex_{vapor} = \\Delta U - T_0 \\Delta S_{vapor} + P_0 ( \\overbrace{ V_{max} - V_i}^{ \\Delta V } ) \\; \\rightarrow \\; \\mbox{producida o consumida} $$"
   ]
  },
  {
   "cell_type": "markdown",
   "metadata": {},
   "source": [
    "$$ \\Delta Ex_{vacio} = P_0 \\Delta V = P_0 (0 - V_v) = P_0 [ 0 - (V_{max} - V_i) ] = P_0 (V_i - V_{max} ) $$"
   ]
  },
  {
   "cell_type": "markdown",
   "metadata": {},
   "source": [
    "$$ \\Delta Ex_{vacio} = P_0 (V_i V_{max}) \\; \\rightarrow \\; \\mbox{consumida} $$"
   ]
  },
  {
   "cell_type": "markdown",
   "metadata": {},
   "source": [
    "$\\begin{array}{|lll|}\n",
    "\\hline\n",
    "\\Delta S_{vapor} \\; (+) & \\Delta Ex_{vacio} \\rightarrow \\mbox{(C)} \\\\\n",
    "   & \\mbox{(si corresponde)} \\\\\n",
    "\\hline\n",
    "\\Delta Ex_{vapor} & \\rightarrow \\; (P) \\\\\n",
    "   & \\rightarrow \\; (C) \\\\\n",
    "\\hline   \n",
    "\\end{array}\n",
    "$"
   ]
  },
  {
   "cell_type": "markdown",
   "metadata": {},
   "source": [
    "-----------\n",
    "### Máquina frigorífica\n",
    "Datos disponibles: $T_{7i}, T_{6i}$, capacidades caloríficas, $W_{MF}, \\eta_{ex}$\n",
    "\n",
    "Para responder a los puntos 3 y 4 necesito los calores utilizables y la variación de entropía de los cuerpos.\n",
    "\n",
    "<img src=\"img/final5-4.png\" alt=\"Máquina frigorífica\">"
   ]
  },
  {
   "cell_type": "markdown",
   "metadata": {},
   "source": [
    "$\\begin{array}{l|l|l}\n",
    "n^\\circ & \\mbox{Ecuación} & \\mbox{Incógnita} \\\\\n",
    "\\hline\n",
    "1) & W_{MF} = Q_6 + Q_7 & Q_6, Q_7 \\\\\n",
    "2) & Q_7 = c_c (T_{F7} - T_{i7}) & T_{F7} \\\\\n",
    "3) & \\Delta S_7 = c_c \\ln (T_{F7} / T_{i7}) & \\Delta S_7 \\\\\n",
    "4) & Q_{U7} = Q_7 - T_0 \\Delta S_7 & Q_{U7} \\\\\n",
    "5) & \\displaystyle \\eta_{ex} = \\frac{Q_{U7} + Q_{U6} \\, \\mathrm{(P)}}{W_{MF} + Q_{U6} \\, \\mathrm{(C)}} & Q_{U6} \\\\\n",
    "6) & Q_{U6} = Q_6 - T_0 \\Delta S_6 & \\Delta S_6 \\\\\n",
    "7) & \\Delta S_6 = c_c \\ln (T_{F6} / T_{i6}) & T_{F6} \\\\\n",
    "8) & Q_6 = c_c (T_{F6} - T_{i6})\n",
    "\\end{array}$"
   ]
  },
  {
   "cell_type": "markdown",
   "metadata": {},
   "source": [
    "$ \\uparrow T_7 (t) \\quad\n",
    "\\begin{array}{ll}\n",
    " & T \\\\\n",
    "\\hline\n",
    "    \\\\\n",
    "-------  & T_{i7} = 80^\\circ \\mathrm{C} \\\\\n",
    "\\Delta T = 60^\\circ \\mathrm{C} & \\updownarrow \\\\\n",
    "\\hline\n",
    "  & T_0 = 20^\\circ \\mathrm{C}\n",
    "\\end{array}$\n",
    "\n",
    "$T_7$ se esta incrementando, cada vez está más lejos de $T_0 \\; \\therefore$ su energía está aumentando $\\therefore Q_{U7} \\rightarrow \\mbox{producida}$ "
   ]
  },
  {
   "cell_type": "markdown",
   "metadata": {},
   "source": [
    "$ \\downarrow T_6 (t) \\quad\n",
    "\\begin{array}{ll}\n",
    " & T_{6i} = 40^\\circ \\mathrm{C} \\\\\n",
    "\\hline\n",
    "\\Delta T = 20^\\circ \\mathrm{C} & \\updownarrow \\\\\n",
    "-------  & T_= = 20^\\circ \\mathrm{C} \\\\\n",
    "\\Delta T = 20^\\circ \\mathrm{C} & \\updownarrow \\\\\n",
    "\\hline\n",
    "  & T_0 = 0^\\circ \\mathrm{C}\n",
    "\\end{array}$\n",
    "\n",
    "Si $T_{F6} < 0^\\circ \\mathrm{C} \\; \\Rightarrow \\; Q_{U6} \\; \\mbox{producida}$\n",
    "\n",
    "Si $0^\\circ \\mathrm{C} < T_{F6} < 40^\\circ \\mathrm{C} \\; Q_{U6} \\; \\mbox{consumida}$"
   ]
  },
  {
   "cell_type": "markdown",
   "metadata": {},
   "source": [
    "$\\begin{array}{|l|ll|}\n",
    "\\hline\n",
    "\\Delta S_6 \\; (-) & Q_{U7} & \\mathrm{(P)} \\\\\n",
    "\\hline\n",
    "\\Delta S_7 \\; (+) & Q_{U6} & \\mathrm{(P)} \\\\\n",
    "   &    & \\mathrm{(C)} \\\\\n",
    "\\hline   \n",
    "\\end{array}$"
   ]
  },
  {
   "cell_type": "markdown",
   "metadata": {},
   "source": [
    "---------\n",
    "### (3) $W$ perdido del universo\n",
    "$$ W_{perd} = T_0 \\Delta S_u $$"
   ]
  },
  {
   "cell_type": "markdown",
   "metadata": {},
   "source": [
    "$$ \\Delta S_u = \\underbrace{ \\Delta S_{34} }_{(+)} + \\underbrace{ \\Delta S_F }_{(+)} + \\underbrace{ \\Delta S_1 }_{(-)} + \\underbrace{ \\Delta S_2 }_{(+)} + \\underbrace{ \\Delta S_{vapor} }_{(+)} + \\underbrace{ \\Delta S_6 }_{(-)} + \\underbrace{ \\Delta S_7 }_{(+)} > 0 $$"
   ]
  },
  {
   "cell_type": "markdown",
   "metadata": {},
   "source": [
    "-----------\n",
    "### (4) $\\eta_{ex}$ de la instalación\n",
    "\n",
    "$$ \\eta_{ex} = \\frac{\\sum Ex_{prod}}{\\sum Ex_{cons}} $$"
   ]
  },
  {
   "cell_type": "markdown",
   "metadata": {},
   "source": [
    "$$ \\eta_{ex} = \\frac{\\Delta Ex_{34} + Q_{U2} + Q_{Uq} + \\Delta Ex_{vapor} \\mathrm{(P)} + Q_{U7} + Q_{U6} \\mathrm{(P)} }{ Q_{U1} + Q_{U6} \\mathrm{(C)} + \\Delta Ex_{vapor} \\mathrm{(C)} + \\Delta Ex_{vacio} } $$"
   ]
  },
  {
   "cell_type": "markdown",
   "metadata": {},
   "source": [
    "------------\n",
    "### (5)\n",
    "\n",
    "$\\begin{array}{l|l|l}\n",
    "n^\\circ & \\mbox{Ecuación} & \\mbox{Incógnita} \\\\\n",
    "\\hline\n",
    "1) & \\eta_{ex} = 0,8 \\eta_{ex,id} = 0,8 \\cdot 1 & \\eta_{ex} \\\\\n",
    "2) & \\displaystyle \\eta_{ex} = \\frac{W_{MT} + Q_{U0}}{Q_{UF}} & W_{MT}, Q_{U0}, Q_{UF} \\\\\n",
    "3) & Q_{U0} = Q_0 - T_0 Q_0 / T_0 = 0 &  \\\\\n",
    "4) & Q_{UF} = Q_F - T_0 \\Delta S_F &\n",
    "\\end{array}$"
   ]
  },
  {
   "cell_type": "markdown",
   "metadata": {},
   "source": [
    "$$\\begin{array}{|l|}\n",
    "\\hline\n",
    "W_{MT} = \\eta_{ex} \\, Q_{UF} = 0,8 \\, Q_{UF} \\\\\n",
    "\\hline\n",
    "\\end{array}$$\n",
    "<center>\n",
    "<img src=\"img/final5-5.png\" src=\"MT\">\n",
    "</center>    "
   ]
  },
  {
   "cell_type": "code",
   "execution_count": null,
   "metadata": {},
   "outputs": [],
   "source": []
  }
 ],
 "metadata": {
  "kernelspec": {
   "display_name": "Python 3",
   "language": "python",
   "name": "python3"
  },
  "language_info": {
   "codemirror_mode": {
    "name": "ipython",
    "version": 3
   },
   "file_extension": ".py",
   "mimetype": "text/x-python",
   "name": "python",
   "nbconvert_exporter": "python",
   "pygments_lexer": "ipython3",
   "version": "3.7.3"
  }
 },
 "nbformat": 4,
 "nbformat_minor": 2
}
