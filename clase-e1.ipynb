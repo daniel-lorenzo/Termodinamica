{
 "cells": [
  {
   "cell_type": "markdown",
   "metadata": {},
   "source": [
    "# Ejemplo 1\n",
    "Un dispositivo de cilindro-embolo adiabático, contiene una masa de 2 kg de vapor de agua, inicialmente saturado a una presión de 2 atm. El cilindro está provisto con topes de manera tal que el volumen máximo que puede desarrollar es de 2 veces el volumen inicial ocupado por el vapor de agua. Si mediante un eje que acciona una rueda de paletas, se entrega un trabajo de 500 kJ al vapor contenido.     \n",
    "__Plantear:__ el sistema de ecuaciones necesario para determinar el estado final del vapor.\n",
    "\n",
    "![ct-1-1.png](img/ct-1-1.png)"
   ]
  },
  {
   "cell_type": "markdown",
   "metadata": {},
   "source": [
    "## Solución\n",
    "__Datos:__ \n",
    "$\\begin{array}{|l|l|l|l|l|}\n",
    "\\hline\n",
    "m & x_i & P_i & P_i=P & V_{max}=2V_i & W_{pal} \\\\\n",
    "\\hline\n",
    "\\end{array}$\n",
    "\n",
    "__Incognitas:__\n",
    "$\\begin{array}{|l|l|}\n",
    "\\hline\n",
    "P_f & h_f \\\\\n",
    "\\hline\n",
    "\\end{array}$"
   ]
  },
  {
   "cell_type": "markdown",
   "metadata": {},
   "source": [
    "__Definición:__\n",
    "$$ \\Delta H = \\Delta U + W_{\\Delta V} $$\n",
    "__Primer principio__\n",
    "$$ Q = \\underbrace{ \\Delta U + W_{\\Delta V} }_{\\Delta H} + W_{pal} $$\n",
    "__Entonces__\n",
    "$$ Q = \\Delta H + W_{pal} $$"
   ]
  },
  {
   "cell_type": "markdown",
   "metadata": {},
   "source": [
    "### Primer hipótesis\n",
    "El émbolo no llega al tope.\n",
    "\n",
    "Condición a cumplir: $V_f < 2 V_i$"
   ]
  },
  {
   "cell_type": "markdown",
   "metadata": {},
   "source": [
    "__Determinar:__ $h_f$; $v_i$; $v_f$"
   ]
  },
  {
   "cell_type": "markdown",
   "metadata": {},
   "source": [
    "$\\begin{array}{l|l|l|l}\n",
    " & \\mathrm{Ecuaciones} & & \\mathrm{Incognitas} \\\\\n",
    " \\hline\n",
    "1) & Q = \\dot{m} (h_f - h_i) + W_{pal} &  & Q, \\, h_f, \\, h_i \\\\\n",
    "2) & h_i = h''_i & f(P) \\mbox{ vapor saturado } x_i = 1 \\\\\n",
    "3) & Q = 0 & \\mbox{porque es adiabático} \\\\\n",
    "4) & V_i = \\dot{m} v_i & & v_i, \\, Vi \\\\\n",
    "5) & v_i = v''_i & f(P) \\, \\mbox{vapor saturado } x_i = 1 \\\\\n",
    "6) & V_f = \\dot{m} v_f & & V_f, \\, v_f \\\\\n",
    "7) & v_f & f(h_f;P) \\\\\n",
    "\\hline\n",
    "\\end{array}$\n",
    "\n",
    "__7 ecuaciones - 7 incognitas__"
   ]
  },
  {
   "cell_type": "markdown",
   "metadata": {},
   "source": [
    "Verif. condic. hip. $V_f < 2 V_i$"
   ]
  },
  {
   "cell_type": "markdown",
   "metadata": {},
   "source": [
    "![ct-1-2.png](img/ct-1-2.png)\n",
    "\n",
    "Como el $V_f$ aumenta a $P$ constante en el estado final el vapor es sobrecalentado"
   ]
  },
  {
   "cell_type": "markdown",
   "metadata": {},
   "source": [
    "### Segunda hipótesis\n",
    "$$ V_f = 2 V_i = V_{max} $$\n",
    "\n",
    "debe cumplir: $P_f > P_i$"
   ]
  },
  {
   "cell_type": "markdown",
   "metadata": {},
   "source": [
    "__Determinar:__ $V_f$, $v_f$, $u_f$"
   ]
  },
  {
   "cell_type": "markdown",
   "metadata": {},
   "source": [
    "$\\begin{array}{l|l|l|l}\n",
    " & \\mathrm{Ecuaciones} & & \\mathrm{Incognitas} \\\\\n",
    "\\hline\n",
    "1) & V_f = 2 V_i & & V_f \\\\\n",
    "2) & V_f = m v_f & & v_f \\\\\n",
    "3) & \\Delta U = m (u_f - u_i) & & \\Delta U, \\, u_f, \\, u_i \\\\\n",
    "4) & u_i = u''_i & f(P) \\; \\mbox{vapor saturado} \\\\\n",
    "5) & Q = \\Delta U + W_{\\Delta V} + W_{pal} & & Q, \\, W_{\\Delta V} \\\\\n",
    "6) & Q = 0 & \\mbox{porque es adiabático} \\\\\n",
    "7) & W_{\\Delta V} = P (V_f - V_i) \\\\\n",
    "\\hline\n",
    "\\end{array}$\n",
    "\n",
    "__7 ecuaciones - 7 incognitas__"
   ]
  },
  {
   "cell_type": "markdown",
   "metadata": {},
   "source": [
    "![ct-1-3.png](img/ct-1-3.png)\n",
    "\n",
    "Dado que:  \n",
    "$\\left.\n",
    "\\begin{array}{l}\n",
    "P_f > P_i \\\\\n",
    "V_f > V_i \n",
    "\\end{array}\n",
    "\\right\\}\n",
    "\\; \\therefore \\;$ es vapor sobrecalentado."
   ]
  },
  {
   "cell_type": "markdown",
   "metadata": {},
   "source": [
    "-------------------------------\n",
    "\n",
    "### Resolución numérica: (opcional)\n",
    "\n",
    "-------------------------------"
   ]
  },
  {
   "cell_type": "code",
   "execution_count": 1,
   "metadata": {},
   "outputs": [],
   "source": [
    "import CoolProp.CoolProp as cp"
   ]
  },
  {
   "cell_type": "code",
   "execution_count": 2,
   "metadata": {},
   "outputs": [
    {
     "name": "stdout",
     "output_type": "stream",
     "text": [
      "hi = 2706.83 kJ/kg\n",
      "hf = 2956.83 kJ/kg\n",
      "fase final = gas\n",
      "Vi = 1.75 m^3\n",
      "Vf = 2.33 m^3\n",
      "Pf = 202.65 kPa\n"
     ]
    }
   ],
   "source": [
    "# Datos\n",
    "m = 2 # kg\n",
    "xi = 1\n",
    "P = 2*101325 # Pa\n",
    "Pi = P\n",
    "Wpal = -500e3 # J\n",
    "\n",
    "hi = cp.PropsSI('H','P',Pi,'Q',xi,'Water')\n",
    "vi = 1/cp.PropsSI('D','P',Pi,'Q',xi,'Water')\n",
    "Q = 0 # porque es adiabático\n",
    "\n",
    "hf = hi - Wpal/m\n",
    "fasef = cp.PhaseSI('P',P,'H',hf,'Water')\n",
    "Vi = m*vi\n",
    "vf = 1/cp.PropsSI('D','P',P,'H',hf,'Water')\n",
    "Vf = m*vf\n",
    "\n",
    "print('hi = %s kJ/kg'%round(hi/1000,2))\n",
    "print('hf = %s kJ/kg'%round(hf/1000,2))\n",
    "print('fase final = %s'%fasef)\n",
    "print('Vi = %s m^3'%round(Vi,2))\n",
    "print('Vf = %s m^3'%round(Vf,2))\n",
    "print('Pf = %s kPa'%round(P/1000,3))"
   ]
  },
  {
   "cell_type": "markdown",
   "metadata": {},
   "source": [
    "$V_f < 2Vi \\; \\Rightarrow \\; P_f = P = 202,65 \\, \\mathrm{kPa} = 2 \\, \\mathrm{atm}$"
   ]
  },
  {
   "cell_type": "code",
   "execution_count": 3,
   "metadata": {},
   "outputs": [],
   "source": [
    "%reset -s -f"
   ]
  },
  {
   "cell_type": "markdown",
   "metadata": {},
   "source": [
    "# Ejemplo 2\n",
    "Para la instalación dada en el esquema se pide:\n",
    "\n",
    "![ct-1-4.png](img/ct-1-4.png)\n",
    "\n",
    "1. $\\Delta S_u$\n",
    "2. Determinar: $\\eta_{ex,proceso}$"
   ]
  },
  {
   "cell_type": "markdown",
   "metadata": {},
   "source": [
    "## Solución\n",
    "### Máquina térmica\n",
    "__Datos:__\n",
    "$\\begin{array}{|l|l|l|l|}\n",
    "\\hline\n",
    "T_1 & T_2 & Q_1 & \\eta_{ex} \\\\\n",
    "\\hline\n",
    "\\end{array}$\n",
    "\n",
    "__Incongitas:__\n",
    "$\\begin{array}{|l|}\n",
    "\\hline\n",
    "W_{MT} \\\\\n",
    "\\hline\n",
    "\\end{array}$"
   ]
  },
  {
   "cell_type": "markdown",
   "metadata": {},
   "source": [
    "$\\begin{array}{l|l|l|l}\n",
    " & \\mathrm{Ecuaciones} &  & \\mathrm{Incognitas} \\\\\n",
    "\\hline\n",
    "1) & \\displaystyle \\eta_{ex} = \\frac{W_{MT} + Q_{U2}}{|Q_{U1}|} &  & W_{MT}, \\; Q_{U1}, \\; Q_{U2} \\\\\n",
    "2) & Q_{U1} = Q_1 - T_0 \\Delta S_1 & \\mbox{(consumido)} & \\Delta S_1 \\\\\n",
    "3) & Q_{U2} = Q_2 - T_0 \\Delta S_2 & \\mbox{(producido)} & \\Delta S_2, \\; Q_2 \\\\\n",
    "4) & \\displaystyle \\Delta S_1 = \\frac{Q_1}{T_1} & (-) \\\\\n",
    "5) & \\displaystyle \\Delta S_2 = \\frac{Q_2}{T_2} & (+) \\\\\n",
    "6) & W_{MT} = Q_1 + Q_2 \\\\\n",
    "\\hline\n",
    "\\end{array}$\n",
    "\n",
    "__6 ecuaciones - 6 incognitas__"
   ]
  },
  {
   "cell_type": "markdown",
   "metadata": {},
   "source": [
    "### Compresor\n",
    "__Datos:__\n",
    "$\\begin{array}{|l|l|l|l|l|}\n",
    "\\hline\n",
    "P_3 & T_3 & P_4=P_5 & \\eta_{iso} & |W_c|= W_{MT} \\\\\n",
    "\\hline\n",
    "\\end{array}$\n",
    "\n",
    "__Incognitas:__\n",
    "$\\begin{array}{|l|l|l|}\n",
    "\\hline\n",
    "m_3 & h_4 & s_4 \\\\\n",
    "\\hline\n",
    "\\end{array}$"
   ]
  },
  {
   "cell_type": "markdown",
   "metadata": {},
   "source": [
    "$\\begin{array}{l|l|l|l}\n",
    "  & \\mathrm{Ecuaciones} &  & \\mathrm{Incognitas} \\\\\n",
    "\\hline\n",
    "1) & \\Delta H_{34} = m_3 (h_4 - h_3) &  & m_3, \\; h_3, \\; h_4, \\; \\Delta H_{34} \\\\\n",
    "2) & W_c = -\\Delta H_{34} \\\\\n",
    "3) & h_3 & f(P_3,T_3) \\rightarrow \\mbox{tabla} \\\\ \n",
    "4) & \\displaystyle \\eta_{iso} = \\frac{h_{4rev} - h_3}{h_4 - h_3} &  & h_{4rev} \\\\\n",
    "5) & h_{4rev} & f(P_4,s_{4rev}) \\rightarrow \\mbox{tabla} & s_{4rev} \\\\\n",
    "6) & s_{4rev} = s_3 & \\mbox{(Rev. y adiab.)} & s_3 \\\\\n",
    "7) & s_3 & f(P_3,T_3) \\rightarrow \\mbox{tabla} \\\\\n",
    "8) & s_4 & f(P_4,h_4) \\rightarrow \\mbox{tabla} & s_4 \\\\\n",
    "\\hline\n",
    "\\end{array}$\n",
    "\n",
    "__8 incognitas - 8 ecuaciones__"
   ]
  },
  {
   "cell_type": "markdown",
   "metadata": {},
   "source": [
    "$\\begin{array}{lll}\n",
    "\\mathrm{a)} & \\Delta S_{34} = m_3 (s_4 - s_3 ) & (+) \\\\\n",
    "\\mathrm{b)} & \\Delta Ex_{34} = \\Delta H_{34} - T_0 \\Delta S_{34} & \\mathrm{Prod.}\n",
    "\\end{array}\n",
    "$"
   ]
  },
  {
   "cell_type": "markdown",
   "metadata": {},
   "source": [
    "### Cámara de mezcla\n",
    "__Datos:__\n",
    "$\\begin{array}{|l|l|l|}\n",
    "\\hline\n",
    "m_4 = m_3 & m_5 & m_6 = m_5 + m_4 \\\\\n",
    "\\hline\n",
    "\\end{array}\n",
    "$\n",
    "\n",
    "__Incognitas:__\n",
    "$\\begin{array}{|l|l|l|l|}\n",
    "\\hline\n",
    "h_5 & s_5 & h_6 & s_6 \\\\\n",
    "\\hline\n",
    "\\end{array}\n",
    "$"
   ]
  },
  {
   "cell_type": "markdown",
   "metadata": {},
   "source": [
    "$\\begin{array}{l|l|l|l}\n",
    "   & \\mathrm{Ecuaciones} &  & \\mathrm{Incognitas} \\\\\n",
    "\\hline   \n",
    "1) & Q - W = \\Delta H &  Q = 0, \\; W = 0 & Q, \\; W, \\; \\Delta H \\\\\n",
    "2) & \\Delta H = m_6 h_6 - m_4 h_4 - m_5 h_5 = 0 & & \\Delta H, \\, m_6, \\; h_6, \\; m_4, \\; h_4, \\; m_5, \\; h_5 \\\\\n",
    "3) & h_5 = x_5 (h''_5 - h'_5) + h'_5 & & h_5 \\\\\n",
    "4) & h'_5 & f(P_5) \\; \\mbox{liq. sat.} \\\\\n",
    "5) & h''_5 & f(P_5) \\; \\mbox{vap. sat.} \\\\\n",
    "6) & s_5 = x_5 (s''_5 - s'_5) + s'_5 & & s_5 \\\\\n",
    "7) & s'_5 & f(P_5) \\; \\mbox{liq. sat.} \\\\\n",
    "8) & s''_5 & f(P_5) \\; \\mbox{vap. sat.} \\\\\n",
    "9) & s_6 = x_6 (s''_6 - s'_6) + s_6 & \\mbox{Si } h_6 < h''_6 & s_6  \\\\\n",
    "10) & s'_6  & f(P_6) \\; \\mbox{liq. sat.} \\\\\n",
    "11) & s''_6 & f(P_6) \\; \\mbox{vap. sat.} \\\\\n",
    "12) & \\displaystyle x_6 = \\frac{h_6 - h'_6}{h''_6 - h'_6} & & x_6 \\\\\n",
    "13) & h'_6 & f(P_6) \\; \\mbox{liq. sat.} \\\\\n",
    "14) & h''_6 & f(P_6) \\; \\mbox{vap. sat.} \\\\\n",
    "\\hline\n",
    "\\end{array}\n",
    "$\n",
    "\n",
    "__14 ecuaciones - 14 incognitas__"
   ]
  },
  {
   "cell_type": "markdown",
   "metadata": {},
   "source": [
    "Si $h_6 > h''_6 \\; \\Rightarrow$ \n",
    "\n",
    "$\\begin{array}{l|l|l|l}\n",
    "\\hline\n",
    "9) & s_6 & f(P_6,h_6) \\; \\mbox{tabla} & s_6 \\\\\n",
    "\\hline\n",
    "\\end{array}\n",
    "$\n",
    "\n",
    "__9 ecuaciones - 9 incognitas__"
   ]
  },
  {
   "cell_type": "markdown",
   "metadata": {},
   "source": [
    "$\\begin{array}{ll}\n",
    "\\Delta S_{46} = m_4 (s_6 - s_4) & (-) \\\\\n",
    "\\Delta S_{56} = m_5 (s_6 - s_5) & (+) \\\\\n",
    "\\Delta Ex_{46} = m_4 (h_6 - h_4) - T_0 \\Delta S_{46} & \\mbox{Cons.} \\\\\n",
    "\\Delta Ex_{56} = m_5 (h_6 - h_5) - T_0 \\Delta S_{56} & \\mbox{Prod.}\n",
    "\\end{array}$"
   ]
  },
  {
   "cell_type": "markdown",
   "metadata": {},
   "source": [
    "1)       \n",
    "$$\\begin{array}{lllllllllll}\n",
    "\\Delta S_u & = & \\Delta S_1 & + & \\Delta S_2 & + & \\Delta S_{34} & + & \\Delta S_{46} & + & \\Delta _{56} \\\\\n",
    " & & (-) & & (+) & & (+) & & (-) & & (+)\n",
    "\\end{array}\n",
    "$$"
   ]
  },
  {
   "cell_type": "markdown",
   "metadata": {},
   "source": [
    "2)     \n",
    "$$ \\eta_{ex,proc} = \\frac{\\Delta Ex_{34} + \\Delta Ex_{56} + Q_{U2} }{|Q_{U1} + \\Delta Ex_{46}|} $$"
   ]
  },
  {
   "cell_type": "markdown",
   "metadata": {},
   "source": [
    "--------------------------------\n",
    "\n",
    "### Resolución numérica (opcional)\n",
    "\n",
    "---------------------------------"
   ]
  },
  {
   "cell_type": "code",
   "execution_count": 4,
   "metadata": {},
   "outputs": [],
   "source": [
    "import CoolProp.CoolProp as cp"
   ]
  },
  {
   "cell_type": "code",
   "execution_count": 5,
   "metadata": {},
   "outputs": [
    {
     "name": "stdout",
     "output_type": "stream",
     "text": [
      "h3 = 2816.2 kJ/kg\n",
      "s3 = s4rev = 7.70619 kJ/kg\n",
      "fase4rev = gas\n",
      "h4rev = 3071.0 kJ/kg\n"
     ]
    }
   ],
   "source": [
    "P3 = 1e5 # Pa\n",
    "T3 = 170 + 273.15 # K\n",
    "P4 = 3e5 # Pa\n",
    "P5 = P4\n",
    "P6 = P4\n",
    "\n",
    "h3 = cp.PropsSI('H','P',P3,'T',T3,'Water')\n",
    "s3 = cp.PropsSI('S','P',P3,'T',T3,'Water')\n",
    "s4rev = s3\n",
    "phase4rev = cp.PhaseSI('P',P4,'S',s4rev,'Water')\n",
    "h4rev = cp.PropsSI('H','P',P4,'S',s4rev,'Water')\n",
    "\n",
    "print('h3 = %s kJ/kg'%round(h3/1000,2))\n",
    "print('s3 = s4rev = %s kJ/kg'%round(s3/1000,5))\n",
    "print('fase4rev = %s'%phase4rev)\n",
    "print('h4rev = %s kJ/kg'%round(h4rev/1000,2))"
   ]
  },
  {
   "cell_type": "markdown",
   "metadata": {},
   "source": [
    "$$ \\eta_{iso} = \\frac{h_{4rev} - h_3}{h_4 - h_3} $$"
   ]
  },
  {
   "cell_type": "markdown",
   "metadata": {},
   "source": [
    "$$ h_4 = \\frac{h_{4rev} - h_3}{\\eta_{iso}} + h_3 $$"
   ]
  },
  {
   "cell_type": "markdown",
   "metadata": {},
   "source": [
    "$$ \\Delta S_1 = \\frac{Q_1}{T_1} $$\n",
    "\n",
    "$$ Q_{U1} = Q_1 - T_0 \\Delta S_1 $$\n",
    "\n",
    "$$ \\eta_{ex} = \\frac{W_{MT}}{|Q_{U1}|} $$\n",
    "\n",
    "$$ W_{MT} = \\eta_{ex} |Q_{U1}| $$"
   ]
  },
  {
   "cell_type": "code",
   "execution_count": 6,
   "metadata": {},
   "outputs": [
    {
     "name": "stdout",
     "output_type": "stream",
     "text": [
      "W_MT = 350.0 kJ\n",
      "QU1 = -437.5 kJ\n"
     ]
    }
   ],
   "source": [
    "Q1 = 700e3 # J\n",
    "T1 = 800 # K\n",
    "T0 = 300 # K\n",
    "eta_ex = 0.8\n",
    "\n",
    "DS1 = Q1/T1\n",
    "QU1 = -(Q1 - T0*DS1)\n",
    "\n",
    "W_MT = eta_ex*abs(QU1)\n",
    "\n",
    "print('W_MT = %s kJ'%round(W_MT/1000,2))\n",
    "print('QU1 = %s kJ'%round(QU1/1000,2))"
   ]
  },
  {
   "cell_type": "code",
   "execution_count": 7,
   "metadata": {},
   "outputs": [
    {
     "name": "stdout",
     "output_type": "stream",
     "text": [
      "h4 = 3155.94 kJ/kg\n",
      "s4 = 7.84908 kJ/kg·K\n"
     ]
    }
   ],
   "source": [
    "eta_iso = 0.75\n",
    "h4 = (h4rev - h3)/eta_iso + h3\n",
    "\n",
    "s4 = cp.PropsSI('S','P',P4,'H',h4,'Water')\n",
    "\n",
    "print('h4 = %s kJ/kg'%round(h4/1000,2))\n",
    "print('s4 = %s kJ/kg·K'%round(s4/1000,5))"
   ]
  },
  {
   "cell_type": "markdown",
   "metadata": {},
   "source": [
    "$$ |W_{MT}| = |W_c| $$\n",
    "\n",
    "$$ W_c = m_3 (h_4 - h_3) $$\n",
    "\n",
    "$$ m_3 = \\frac{W_c}{h_4 - h_3} $$"
   ]
  },
  {
   "cell_type": "code",
   "execution_count": 8,
   "metadata": {},
   "outputs": [
    {
     "name": "stdout",
     "output_type": "stream",
     "text": [
      "m3 = 1.0302 kg\n"
     ]
    }
   ],
   "source": [
    "W_c = W_MT\n",
    "m3 = W_c/(h4 - h3)\n",
    "\n",
    "print('m3 = %s kg'%round(m3,4))"
   ]
  },
  {
   "cell_type": "code",
   "execution_count": 9,
   "metadata": {},
   "outputs": [
    {
     "name": "stdout",
     "output_type": "stream",
     "text": [
      "m6 = 1.6302 kg/s\n"
     ]
    }
   ],
   "source": [
    "m4 = m3\n",
    "m5 = 0.6 # kg/s\n",
    "m6 = m4 + m5\n",
    "\n",
    "print('m6 = %s kg/s'%round(m6,4))"
   ]
  },
  {
   "cell_type": "code",
   "execution_count": 10,
   "metadata": {},
   "outputs": [
    {
     "name": "stdout",
     "output_type": "stream",
     "text": [
      "h5 = 2292.19 kJ/kg\n",
      "s5 = 5.92764 kJ/kg·K\n"
     ]
    }
   ],
   "source": [
    "x5 = 0.8\n",
    "h5 = cp.PropsSI('H','P',P5,'Q',x5,'Water')\n",
    "s5 = cp.PropsSI('S','P',P5,'Q',x5,'Water')\n",
    "\n",
    "print('h5 = %s kJ/kg'%round(h5/1000,2))\n",
    "print('s5 = %s kJ/kg·K'%round(s5/1000,5))"
   ]
  },
  {
   "cell_type": "markdown",
   "metadata": {},
   "source": [
    "$$ m_4 + m_5 = m_6 $$\n",
    "\n",
    "$$ m_4 h_4 + m_5 h_5 = m_6 h_6 $$\n",
    "\n",
    "$$ h_6 = \\frac{m_4 h_4 + m_5 h_5}{m_6} $$"
   ]
  },
  {
   "cell_type": "code",
   "execution_count": 11,
   "metadata": {},
   "outputs": [
    {
     "name": "stdout",
     "output_type": "stream",
     "text": [
      "h6 = 2838.03 kJ/kg\n",
      "s6 = 7.25339 kJ/kg·K\n"
     ]
    }
   ],
   "source": [
    "h6 = (m4*h4 + m5*h5)/m6\n",
    "\n",
    "s6 = cp.PropsSI('S','P',P6,'H',h6,'Water')\n",
    "\n",
    "print('h6 = %s kJ/kg'%round(h6/1000,2))\n",
    "print('s6 = %s kJ/kg·K'%round(s6/1000,5))"
   ]
  },
  {
   "cell_type": "markdown",
   "metadata": {},
   "source": [
    "$$ W_{MT} = Q_1 + Q_2 $$\n",
    "\n",
    "$$ |Q_2| = W_{MT} - Q_1 $$"
   ]
  },
  {
   "cell_type": "code",
   "execution_count": 12,
   "metadata": {},
   "outputs": [
    {
     "name": "stdout",
     "output_type": "stream",
     "text": [
      "|Q2| = 350.0 kJ\n"
     ]
    }
   ],
   "source": [
    "Q2 = W_MT - Q1\n",
    "print('|Q2| = %s kJ'%round(abs(Q2)/1000,2))"
   ]
  },
  {
   "cell_type": "markdown",
   "metadata": {},
   "source": [
    "$$ \\Delta S_2 = \\frac{Q_2}{T_2} $$"
   ]
  },
  {
   "cell_type": "code",
   "execution_count": 13,
   "metadata": {},
   "outputs": [
    {
     "name": "stdout",
     "output_type": "stream",
     "text": [
      "DS2 = 1.129 kJ/K\n"
     ]
    }
   ],
   "source": [
    "T2 = 310 # K\n",
    "DS2 = abs(Q2)/T2\n",
    "print('DS2 = %s kJ/K'%round(DS2/1000,4))"
   ]
  },
  {
   "cell_type": "markdown",
   "metadata": {},
   "source": [
    "$$ Q_{U2} = |Q_2| - T_0 \\Delta S_2 $$"
   ]
  },
  {
   "cell_type": "code",
   "execution_count": 14,
   "metadata": {},
   "outputs": [
    {
     "name": "stdout",
     "output_type": "stream",
     "text": [
      "QU2 = 11.29 kJ\n"
     ]
    }
   ],
   "source": [
    "QU2 = abs(Q2) - T0*DS2\n",
    "print('QU2 = %s kJ'%round(QU2/1000,2))"
   ]
  },
  {
   "cell_type": "markdown",
   "metadata": {},
   "source": [
    "$$ \\Delta S_{34} = m_3 (s_4 - s_3) $$"
   ]
  },
  {
   "cell_type": "code",
   "execution_count": 15,
   "metadata": {},
   "outputs": [
    {
     "name": "stdout",
     "output_type": "stream",
     "text": [
      "DS34 = 0.14721 kJ/K\n"
     ]
    }
   ],
   "source": [
    "DS34 = m3*(s4 - s3)\n",
    "\n",
    "print('DS34 = %s kJ/K'%round(DS34/1000,5))"
   ]
  },
  {
   "cell_type": "markdown",
   "metadata": {},
   "source": [
    "$$ \\Delta S_{46} = m_4 (h_6 - h_4) $$"
   ]
  },
  {
   "cell_type": "code",
   "execution_count": 16,
   "metadata": {},
   "outputs": [
    {
     "name": "stdout",
     "output_type": "stream",
     "text": [
      "DS46 = -0.61368 kJ/K\n"
     ]
    }
   ],
   "source": [
    "DS46 = m4*(s6 - s4)\n",
    "\n",
    "print('DS46 = %s kJ/K'%round(DS46/1000,5))"
   ]
  },
  {
   "cell_type": "markdown",
   "metadata": {},
   "source": [
    "$$ \\Delta S_{56} = m_5 (h_6 - h_5) $$"
   ]
  },
  {
   "cell_type": "code",
   "execution_count": 17,
   "metadata": {},
   "outputs": [
    {
     "name": "stdout",
     "output_type": "stream",
     "text": [
      "DS56 = 0.79545 kJ/K\n"
     ]
    }
   ],
   "source": [
    "DS56 = m5*(s6 - s5)\n",
    "\n",
    "print('DS56 = %s kJ/K'%round(DS56/1000,5))"
   ]
  },
  {
   "cell_type": "markdown",
   "metadata": {},
   "source": [
    "$$ \\Delta S_u = \\Delta S_1 + \\Delta S_2 + \\Delta S_{34} + \\Delta S_{46} + \\Delta S_{56} $$"
   ]
  },
  {
   "cell_type": "code",
   "execution_count": 18,
   "metadata": {},
   "outputs": [
    {
     "name": "stdout",
     "output_type": "stream",
     "text": [
      "DSu = 2.33301 kJ/K\n"
     ]
    }
   ],
   "source": [
    "DSu = DS1 + DS2 + DS34 + DS46 + DS56\n",
    "\n",
    "print('DSu = %s kJ/K'%round(DSu/1000,5))"
   ]
  },
  {
   "cell_type": "markdown",
   "metadata": {},
   "source": [
    "$\\begin{array}{l}\n",
    "\\Delta Ex_{34} = m_3(h_4 - h_3) - T_0 m_3 (s_4 - s_3) \\\\\n",
    "\\Delta Ex_{46} = m_4(h_6 - h_4) - T_0 m_4 (s_6 - s_4) \\\\\n",
    "\\Delta Ex_{56} = m_5(h_6 - h_5) - T_0 m_5 (s_6 - s_5)\n",
    "\\end{array}$"
   ]
  },
  {
   "cell_type": "code",
   "execution_count": 19,
   "metadata": {},
   "outputs": [
    {
     "name": "stdout",
     "output_type": "stream",
     "text": [
      "DEx34 = 305.84 kJ\n",
      "DEx46 = -143.4 kJ\n",
      "DEx56 = 88.87 kJ\n"
     ]
    }
   ],
   "source": [
    "DEx34 = m3*(h4 - h3) - T0*m3*(s4 - s3)\n",
    "DEx46 = m4*(h6 - h4) - T0*m4*(s6 - s4)\n",
    "DEx56 = m5*(h6 - h5) - T0*m5*(s6 - s5)\n",
    "\n",
    "print('DEx34 = %s kJ'%round(DEx34/1000,2))\n",
    "print('DEx46 = %s kJ'%round(DEx46/1000,2))\n",
    "print('DEx56 = %s kJ'%round(DEx56/1000,2))"
   ]
  },
  {
   "cell_type": "markdown",
   "metadata": {},
   "source": [
    "$$ \\eta_{ex,proc} = \\frac{\\Delta Ex_{34} + \\Delta Ex_{56} + Q_{U2} }{|Q_{U1} + \\Delta Ex_{46} |} $$"
   ]
  },
  {
   "cell_type": "code",
   "execution_count": 20,
   "metadata": {},
   "outputs": [
    {
     "name": "stdout",
     "output_type": "stream",
     "text": [
      "eta_exproc = 0.6989\n"
     ]
    }
   ],
   "source": [
    "eta_ex_proc = (DEx34 + DEx56 + QU2)/abs(QU1 + DEx46)\n",
    "\n",
    "print('eta_exproc = %s'%round(eta_ex_proc,4))"
   ]
  },
  {
   "cell_type": "code",
   "execution_count": 21,
   "metadata": {},
   "outputs": [],
   "source": [
    "%reset -s -f"
   ]
  }
 ],
 "metadata": {
  "kernelspec": {
   "display_name": "Python 3",
   "language": "python",
   "name": "python3"
  },
  "language_info": {
   "codemirror_mode": {
    "name": "ipython",
    "version": 3
   },
   "file_extension": ".py",
   "mimetype": "text/x-python",
   "name": "python",
   "nbconvert_exporter": "python",
   "pygments_lexer": "ipython3",
   "version": "3.7.3"
  }
 },
 "nbformat": 4,
 "nbformat_minor": 2
}
