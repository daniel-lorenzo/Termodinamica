{
 "cells": [
  {
   "cell_type": "markdown",
   "metadata": {},
   "source": [
    "# Ejemplo 1\n",
    "Un dispositivo de cilindro-embolo adiabático, contiene una masa de 2 kg de vapor de agua, inicialmente saturado a una presión de 2 atm. El cilindro está provisto con topes de manera tal que el volumen máximo que puede desarrollar es de 2 veces el volumen inicial ocupado por el vapor de agua. Si mediante un eje que acciona una rueda de paletas, se entrega un trabajo de 500 kJ al vapor contenido.     \n",
    "__Plantear:__ el sistema de ecuaciones necesario para determinar el estado final del vapor.\n",
    "\n",
    "![ct-1-1.png](img/ct-1-1.png)"
   ]
  },
  {
   "cell_type": "markdown",
   "metadata": {},
   "source": [
    "## Solución\n",
    "__Datos:__ \n",
    "$\\begin{array}{|l|l|l|l|l|}\n",
    "\\hline\n",
    "m & x_i & P_i & P_i=P & V_{max}=2V_i & W_{pal} \\\\\n",
    "\\hline\n",
    "\\end{array}$\n",
    "\n",
    "__Incognitas:__\n",
    "$\\begin{array}{|l|l|}\n",
    "\\hline\n",
    "P_f & h_f \\\\\n",
    "\\hline\n",
    "\\end{array}$"
   ]
  },
  {
   "cell_type": "markdown",
   "metadata": {},
   "source": [
    "__Definición:__\n",
    "$$ \\Delta H = \\Delta U + W_{\\Delta V} $$\n",
    "__Primer principio__\n",
    "$$ Q = \\underbrace{ \\Delta U + W_{\\Delta V} }_{\\Delta H} + W_{pal} $$\n",
    "__Entonces__\n",
    "$$ Q = \\Delta H + W_{pal} $$"
   ]
  },
  {
   "cell_type": "markdown",
   "metadata": {},
   "source": [
    "### Primer hipótesis\n",
    "El émbolo no llega al tope.\n",
    "\n",
    "Condición a cumplir: $V_f < 2 V_i$"
   ]
  },
  {
   "cell_type": "markdown",
   "metadata": {},
   "source": [
    "__Determinar:__ $h_f$; $v_i$; $v_f$"
   ]
  },
  {
   "cell_type": "markdown",
   "metadata": {},
   "source": [
    "$\\begin{array}{l|l|l|l}\n",
    " & \\mathrm{Ecuaciones} & & \\mathrm{Incognitas} \\\\\n",
    " \\hline\n",
    "1) & Q = \\dot{m} (h_f - h_i) + W_{pal} &  & Q, \\, h_f, \\, h_i \\\\\n",
    "2) & h_i = h''_i & f(P) \\mbox{ vapor saturado } x_i = 1 \\\\\n",
    "3) & Q = 0 & \\mbox{porque es adiabático} \\\\\n",
    "4) & V_i = \\dot{m} v_i & & v_i, \\, Vi \\\\\n",
    "5) & v_i = v''_i & f(P) \\, \\mbox{vapor saturado } x_i = 1 \\\\\n",
    "6) & V_f = \\dot{m} v_f & & V_f, \\, v_f \\\\\n",
    "7) & v_f & f(h_f;P) \\\\\n",
    "\\hline\n",
    "\\end{array}$\n",
    "\n",
    "__7 ecuaciones - 7 incognitas__"
   ]
  },
  {
   "cell_type": "markdown",
   "metadata": {},
   "source": [
    "Verif. condic. hip. $V_f < 2 V_i$"
   ]
  },
  {
   "cell_type": "markdown",
   "metadata": {},
   "source": [
    "![ct-1-2.png](img/ct-1-2.png)\n",
    "\n",
    "Como el $V_f$ aumenta a $P$ constante en el estado final el vapor es sobrecalentado"
   ]
  },
  {
   "cell_type": "markdown",
   "metadata": {},
   "source": [
    "### Segunda hipótesis\n",
    "$$ V_f = 2 V_i = V_{max} $$\n",
    "\n",
    "debe cumplir: $P_f > P_i$"
   ]
  },
  {
   "cell_type": "markdown",
   "metadata": {},
   "source": [
    "__Determinar:__ $V_f$, $v_f$, $u_f$"
   ]
  },
  {
   "cell_type": "markdown",
   "metadata": {},
   "source": [
    "$\\begin{array}{l|l|l|l}\n",
    " & \\mathrm{Ecuaciones} & & \\mathrm{Incognitas} \\\\\n",
    "\\hline\n",
    "1) & V_f = 2 V_i & & V_f \\\\\n",
    "2) & V_f = m v_f & & v_f \\\\\n",
    "3) & \\Delta U = m (u_f - u_i) & & \\Delta U, \\, u_f, \\, u_i \\\\\n",
    "4) & u_i = u''_i & f(P) \\; \\mbox{vapor saturado} \\\\\n",
    "5) & Q = \\Delta U + W_{\\Delta V} + W_{pal} & & Q, \\, W_{\\Delta V} \\\\\n",
    "6) & Q = 0 & \\mbox{porque es adiabático} \\\\\n",
    "7) & W_{\\Delta V} = P (V_f - V_i) \\\\\n",
    "\\hline\n",
    "\\end{array}$\n",
    "\n",
    "__7 ecuaciones - 7 incognitas__"
   ]
  },
  {
   "cell_type": "markdown",
   "metadata": {},
   "source": [
    "![ct-1-3.png](img/ct-1-3.png)\n",
    "\n",
    "Dado que:  \n",
    "$\\left.\n",
    "\\begin{array}{l}\n",
    "P_f > P_i \\\\\n",
    "V_f > V_i \n",
    "\\end{array}\n",
    "\\right\\}\n",
    "\\; \\therefore \\;$ es vapor sobrecalentado."
   ]
  },
  {
   "cell_type": "markdown",
   "metadata": {},
   "source": [
    "# Ejemplo 2\n",
    "Para la instalación dada en el esquema se pide:\n",
    "\n",
    "![ct-1-4.png](img/ct-1-4.png)\n",
    "\n",
    "1. $\\Delta S_u$\n",
    "2. Determinar: $\\eta_{ex,proceso}$"
   ]
  },
  {
   "cell_type": "markdown",
   "metadata": {},
   "source": [
    "## Solución\n",
    "### Máquina térmica\n",
    "__Datos:__\n",
    "$\\begin{array}{|l|l|l|l|}\n",
    "\\hline\n",
    "T_1 & T_2 & Q_1 & \\eta_{ex} \\\\\n",
    "\\hline\n",
    "\\end{array}$\n",
    "\n",
    "__Incongitas:__\n",
    "$\\begin{array}{|l|}\n",
    "\\hline\n",
    "W_{MT} \\\\\n",
    "\\hline\n",
    "\\end{array}$"
   ]
  },
  {
   "cell_type": "markdown",
   "metadata": {},
   "source": [
    "$\\begin{array}{l|l|l|l}\n",
    " & \\mathrm{Ecuaciones} &  & \\mathrm{Incognitas} \\\\\n",
    "\\hline\n",
    "1) & \\displaystyle \\eta_{ex} = \\frac{W_{MT} + Q_{U2}}{|Q_{U1}|} &  & W_{MT}, \\; Q_{U1}, \\; Q_{U2} \\\\\n",
    "2) & Q_{U1} = Q_1 - T_0 \\Delta S_1 & \\mbox{(consumido)} & \\Delta S_1 \\\\\n",
    "3) & Q_{U2} = Q_2 - T_0 \\Delta S_2 & \\mbox{(producido)} & \\Delta S_2, \\; Q_2 \\\\\n",
    "4) & \\displaystyle \\Delta S_1 = \\frac{Q_1}{T_1} & (-) \\\\\n",
    "5) & \\displaystyle \\Delta S_2 = \\frac{Q_2}{T_2} & (+) \\\\\n",
    "6) & W_{MT} = Q_1 + Q_2 \\\\\n",
    "\\hline\n",
    "\\end{array}$\n",
    "\n",
    "__6 ecuaciones - 6 incognitas__"
   ]
  },
  {
   "cell_type": "markdown",
   "metadata": {},
   "source": [
    "### Compresor\n",
    "__Datos:__\n",
    "$\\begin{array}{|l|l|l|l|l|}\n",
    "\\hline\n",
    "P_3 & T_3 & P_4=P_5 & \\eta_{iso} & |W_c|= W_{MT} \\\\\n",
    "\\hline\n",
    "\\end{array}$\n",
    "\n",
    "__Incognitas:__\n",
    "$\\begin{array}{|l|l|l|}\n",
    "\\hline\n",
    "m_3 & h_4 & s_4 \\\\\n",
    "\\hline\n",
    "\\end{array}$"
   ]
  },
  {
   "cell_type": "markdown",
   "metadata": {},
   "source": [
    "$\\begin{array}{l|l|l|l}\n",
    "  & \\mathrm{Ecuaciones} &  & \\mathrm{Incognitas} \\\\\n",
    "\\hline\n",
    "1) & \\Delta H_{34} = m_3 (h_4 - h_3) &  & m_3, \\; h_3, \\; h_4, \\; \\Delta H_{34} \\\\\n",
    "2) & W_c = -\\Delta H_{34} \\\\\n",
    "3) & h_3 & f(P_3,T_3) \\rightarrow \\mbox{tabla} \\\\ \n",
    "4) & \\displaystyle \\eta_{iso} = \\frac{h_{4rev} - h_3}{h_4 - h_3} &  & h_{4rev} \\\\\n",
    "5) & h_{4rev} & f(P_4,s_{4rev}) \\rightarrow \\mbox{tabla} & s_{4rev} \\\\\n",
    "6) & s_{4rev} = s_3 & \\mbox{(Rev. y adiab.)} & s_3 \\\\\n",
    "7) & s_3 & f(P_3,T_3) \\rightarrow \\mbox{tabla} \\\\\n",
    "8) & s_4 & f(P_4,h_4) \\rightarrow \\mbox{tabla} & s_4 \\\\\n",
    "\\hline\n",
    "\\end{array}$\n",
    "\n",
    "__8 incognitas - 8 ecuaciones__"
   ]
  },
  {
   "cell_type": "markdown",
   "metadata": {},
   "source": [
    "$\\begin{array}{lll}\n",
    "\\mathrm{a)} & \\Delta S_{34} = m_3 (s_4 - s_3 ) & (+) \\\\\n",
    "\\mathrm{b)} & \\Delta Ex_{34} = \\Delta H_{34} - T_0 \\Delta S_{34} & \\mathrm{Prod.}\n",
    "\\end{array}\n",
    "$"
   ]
  },
  {
   "cell_type": "markdown",
   "metadata": {},
   "source": [
    "### Cámara de mezcla\n",
    "__Datos:__\n",
    "$\\begin{array}{|l|l|l|}\n",
    "\\hline\n",
    "m_4 = m_3 & m_5 & m_6 = m_5 + m_4 \\\\\n",
    "\\hline\n",
    "\\end{array}\n",
    "$\n",
    "\n",
    "__Incognitas:__\n",
    "$\\begin{array}{|l|l|l|l|}\n",
    "\\hline\n",
    "h_5 & s_5 & h_6 & s_6 \\\\\n",
    "\\hline\n",
    "\\end{array}\n",
    "$"
   ]
  },
  {
   "cell_type": "markdown",
   "metadata": {},
   "source": [
    "$\\begin{array}{l|l|l|l}\n",
    "   & \\mathrm{Ecuaciones} &  & \\mathrm{Incognitas} \\\\\n",
    "\\hline   \n",
    "1) & Q - W = \\Delta H &  Q = 0, \\; W = 0 & Q, \\; W, \\; \\Delta H \\\\\n",
    "2) & \\Delta H = m_6 h_6 - m_4 h_4 - m_5 h_5 = 0 & & \\Delta H, \\, m_6, \\; h_6, \\; m_4, \\; h_4, \\; m_5, \\; h_5 \\\\\n",
    "3) & h_5 = x_5 (h''_5 - h'_5) + h'_5 & & h_5 \\\\\n",
    "4) & h'_5 & f(P_5) \\; \\mbox{liq. sat.} \\\\\n",
    "5) & h''_5 & f(P_5) \\; \\mbox{vap. sat.} \\\\\n",
    "6) & s_5 = x_5 (s''_5 - s'_5) + s'_5 & & s_5 \\\\\n",
    "7) & s'_5 & f(P_5) \\; \\mbox{liq. sat.} \\\\\n",
    "8) & s''_5 & f(P_5) \\; \\mbox{vap. sat.} \\\\\n",
    "9) & s_6 = x_6 (s''_6 - s'_6) + s_6 & \\mbox{Si } h_6 < h''_6 & s_6  \\\\\n",
    "10) & s'_6  & f(P_6) \\; \\mbox{liq. sat.} \\\\\n",
    "11) & s''_6 & f(P_6) \\; \\mbox{vap. sat.} \\\\\n",
    "12) & \\displaystyle x_6 = \\frac{h_6 - h'_6}{h''_6 - h'_6} & & x_6 \\\\\n",
    "13) & h'_6 & f(P_6) \\; \\mbox{liq. sat.} \\\\\n",
    "14) & h''_6 & f(P_6) \\; \\mbox{vap. sat.} \\\\\n",
    "\\hline\n",
    "\\end{array}\n",
    "$\n",
    "\n",
    "__14 ecuaciones - 14 incognitas__"
   ]
  },
  {
   "cell_type": "markdown",
   "metadata": {},
   "source": [
    "Si $h_6 > h''_6 \\; \\Rightarrow$ \n",
    "\n",
    "$\\begin{array}{l|l|l|l}\n",
    "\\hline\n",
    "9) & s_6 & f(P_6,h_6) \\; \\mbox{tabla} & s_6 \\\\\n",
    "\\hline\n",
    "\\end{array}\n",
    "$\n",
    "\n",
    "__9 ecuaciones - 9 incognitas__"
   ]
  },
  {
   "cell_type": "markdown",
   "metadata": {},
   "source": [
    "$\\begin{array}{ll}\n",
    "\\Delta S_{46} = m_4 (s_6 - s_4) & (-) \\\\\n",
    "\\Delta S_{56} = m_5 (s_6 - s_5) & (+) \\\\\n",
    "\\Delta Ex_{46} = m_4 (h_6 - h_4) - T_0 \\Delta S_{46} & \\mbox{Cons.} \\\\\n",
    "\\Delta Ex_{56} = m_5 (h_6 - h_5) - T_0 \\Delta S_{56} & \\mbox{Prod.}\n",
    "\\end{array}$"
   ]
  },
  {
   "cell_type": "markdown",
   "metadata": {},
   "source": [
    "1)       \n",
    "$$\\begin{array}{lllllllllll}\n",
    "\\Delta S_u & = & \\Delta S_1 & + & \\Delta S_2 & + & \\Delta S_{34} & + & \\Delta S_{46} & + & \\Delta _{56} \\\\\n",
    " & & (-) & & (+) & & (+) & & (-) & & (+)\n",
    "\\end{array}\n",
    "$$"
   ]
  },
  {
   "cell_type": "markdown",
   "metadata": {},
   "source": [
    "2)     \n",
    "$$ \\eta_{ex,proc} = \\frac{\\Delta Ex_{34} + \\Delta Ex_{56} + Q_{U2} }{|Q_{U1} + \\Delta Ex_{46}|} $$"
   ]
  },
  {
   "cell_type": "code",
   "execution_count": null,
   "metadata": {},
   "outputs": [],
   "source": []
  }
 ],
 "metadata": {
  "kernelspec": {
   "display_name": "Python 3",
   "language": "python",
   "name": "python3"
  },
  "language_info": {
   "codemirror_mode": {
    "name": "ipython",
    "version": 3
   },
   "file_extension": ".py",
   "mimetype": "text/x-python",
   "name": "python",
   "nbconvert_exporter": "python",
   "pygments_lexer": "ipython3",
   "version": "3.7.3"
  }
 },
 "nbformat": 4,
 "nbformat_minor": 2
}
