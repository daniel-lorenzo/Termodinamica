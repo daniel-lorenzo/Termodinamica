{
 "cells": [
  {
   "cell_type": "markdown",
   "metadata": {},
   "source": [
    "# Clase práctica 1 - Termodinámica\n",
    "### UNLZ - Facultad de Ingeniería"
   ]
  },
  {
   "cell_type": "markdown",
   "metadata": {},
   "source": [
    "## Ejercicio 1\n",
    "\n",
    "Indicar cuales de las siguientes magnitudes son intensivas, y cuales extensivas:\n",
    "\n",
    "\n",
    "|  Item                      |Propiedad                      \n",
    "|:-----------------------|:---------------------\n",
    "|a) Longitud de un alambre  |     a) EXTENSIVA \n",
    "|b) Capacidad calorífica    |     b) EXTENSIVA    \n",
    "|c) Densidad                |     c) INTENSIVA           \n",
    "|d) Peso de un cuerpo       |     d) EXTENSIVA        \n",
    "|e) Indice de refracción    |     e) INTENSIVA           \n",
    "|f)  Calor específico        |     f) INTENSIVA           \n",
    "|g) Carga eléctrica          |     g) EXTENSIVA           \n",
    "|h) Tensión eléctrica      |       h) INTENSIVA        \n"
   ]
  },
  {
   "cell_type": "markdown",
   "metadata": {},
   "source": [
    "## Ejercicio 2\n",
    "\n",
    "Se calienta agua en un recipiente abierto y luego de un intervalo de tiempo comienza a\n",
    "hervir. La descripción de dicho proceso para el mencionado intervalo es:\n",
    "\n",
    "1. ¿Transformación isotérmica?\n",
    "2. ¿Transformación isocórica?\n",
    "3. ¿Transformación isobárica?     $ \\Leftarrow $\n",
    "\n",
    "Es una transformación isobárica porque se trata de un recipiente abierto."
   ]
  },
  {
   "cell_type": "markdown",
   "metadata": {},
   "source": [
    "## Ejercicio 3\n",
    "\n",
    "Un recipiente contiene gas, la presión absoluta es de 0,04 MPa. Si la presión almosférica\n",
    "es de 1015 hPa, determinar la presión relativa.\n",
    "\n",
    "### Solución:\n",
    "\n",
    "Presión absoluta, convertimos a kPa"
   ]
  },
  {
   "cell_type": "code",
   "execution_count": 3,
   "metadata": {},
   "outputs": [
    {
     "name": "stdout",
     "output_type": "stream",
     "text": [
      "Pabs = 40 kPa\n"
     ]
    }
   ],
   "source": [
    "Pabs=0.04*1000; # kPa\n",
    "printf('Pabs = %d kPa\\n',Pabs)"
   ]
  },
  {
   "cell_type": "markdown",
   "metadata": {},
   "source": [
    "Presión atmosférica, convertimos a kPa"
   ]
  },
  {
   "cell_type": "code",
   "execution_count": 6,
   "metadata": {},
   "outputs": [
    {
     "name": "stdout",
     "output_type": "stream",
     "text": [
      "Patm = 101.5 kPa\n"
     ]
    }
   ],
   "source": [
    "Patm=1015/10; # kPa\n",
    "printf('Patm = %d kPa\\n',Patm)"
   ]
  },
  {
   "cell_type": "markdown",
   "metadata": {},
   "source": [
    "$$ P_{abs} = P_{atm} + P_{rel} $$\n",
    "\n",
    "$$ \\Rightarrow P_{rel} = P_{abs} - P_{atm}  $$"
   ]
  },
  {
   "cell_type": "code",
   "execution_count": 3,
   "metadata": {},
   "outputs": [
    {
     "name": "stdout",
     "output_type": "stream",
     "text": [
      "Prel = -61.500\n"
     ]
    }
   ],
   "source": [
    "Prel=Pabs-Patm # kPa"
   ]
  },
  {
   "cell_type": "code",
   "execution_count": 4,
   "metadata": {},
   "outputs": [],
   "source": [
    "clear -a"
   ]
  },
  {
   "cell_type": "markdown",
   "metadata": {},
   "source": [
    "## Ejercicio 4\n",
    "\n",
    "Un recipiente de Vol = 9000 lts contiene aire. Para una\n",
    "lectura barométrica de 1018 hPa, existe una depresión de\n",
    "600 mmHg y una temperatura de 17°C. Calcular la masa del\n",
    "aire.\n",
    "\n",
    "### Solución\n",
    "\n",
    "                     V = 9 m³ ________________________ Po = 101,8 kPa\n",
    "                                              |\n",
    "                                            ( - )  600 mmHg = 79,98 kPa\n",
    "$P_{abs} = P_{atm} + P_{rel}$\n",
    "\n",
    "                                       \n",
    "$PV = mRT$                  \n",
    " \n",
    "$$ m = \\frac{P_{abs} V}{R T}  $$\n",
    "$R = 0,287 kJ/(Kg \\cdot K) \\quad ; \\quad T = 290 K$"
   ]
  },
  {
   "cell_type": "code",
   "execution_count": 5,
   "metadata": {},
   "outputs": [
    {
     "name": "stdout",
     "output_type": "stream",
     "text": [
      "Prel =  79.998\n"
     ]
    }
   ],
   "source": [
    "# Convertimos a kPa\n",
    "Prel=600*0.13333 # kPa"
   ]
  },
  {
   "cell_type": "code",
   "execution_count": 6,
   "metadata": {},
   "outputs": [],
   "source": [
    "Patm=101.8;  # kPa\n",
    "V=9;   # m^3\n",
    "R=0.287; # kJ/(Kg*K)\n",
    "T=273+17; # K"
   ]
  },
  {
   "cell_type": "code",
   "execution_count": 7,
   "metadata": {},
   "outputs": [
    {
     "name": "stdout",
     "output_type": "stream",
     "text": [
      "Pabs =  21.802\n"
     ]
    }
   ],
   "source": [
    "Pabs=Patm+(-Prel) # (kPa)"
   ]
  },
  {
   "cell_type": "code",
   "execution_count": 8,
   "metadata": {},
   "outputs": [
    {
     "name": "stdout",
     "output_type": "stream",
     "text": [
      "m =  2.3575\n"
     ]
    }
   ],
   "source": [
    "m=(Pabs*V)/(R*T) # (Kg)"
   ]
  },
  {
   "cell_type": "markdown",
   "metadata": {},
   "source": [
    "Se necesitan aprox. 2,36 Kg de aire."
   ]
  },
  {
   "cell_type": "code",
   "execution_count": 9,
   "metadata": {},
   "outputs": [],
   "source": [
    "clear -a"
   ]
  },
  {
   "cell_type": "markdown",
   "metadata": {},
   "source": [
    "## Ejercicio 5\n",
    "\n",
    "Qué cantidad de calor será necesaria para producir un trabajo de 0,25 kWh, sabiendo que si se pierde un 10% al\n",
    "medir.\n",
    "\n",
    "### Solución\n",
    "Convertimos     $1kW = 1kJ/s  \\Rightarrow $\n",
    "$$ 0,25 \\frac{kJ}{s} \\cdot 1 h \\cdot \\frac{3600s}{1h} $$"
   ]
  },
  {
   "cell_type": "code",
   "execution_count": 10,
   "metadata": {},
   "outputs": [
    {
     "name": "stdout",
     "output_type": "stream",
     "text": [
      "ans =  900\n"
     ]
    }
   ],
   "source": [
    "0.25*1*3600 # kJ"
   ]
  },
  {
   "cell_type": "markdown",
   "metadata": {},
   "source": [
    "`90%   __________ 900 kJ` \n",
    "\n",
    "`100% __________ x`"
   ]
  },
  {
   "cell_type": "code",
   "execution_count": 11,
   "metadata": {},
   "outputs": [
    {
     "name": "stdout",
     "output_type": "stream",
     "text": [
      "ans =  1000\n"
     ]
    }
   ],
   "source": [
    "100*900/90 # kJ"
   ]
  },
  {
   "cell_type": "markdown",
   "metadata": {},
   "source": [
    "`1kJ __________ 0,2389 kcal`\n",
    "\n",
    "`1000 kJ ______ x`"
   ]
  },
  {
   "cell_type": "code",
   "execution_count": 12,
   "metadata": {},
   "outputs": [
    {
     "name": "stdout",
     "output_type": "stream",
     "text": [
      "ans =  238.90\n"
     ]
    }
   ],
   "source": [
    "1000*0.2389/1 # kcal"
   ]
  },
  {
   "cell_type": "markdown",
   "metadata": {},
   "source": [
    "## Ejercicio 6\n",
    "Un turbogenerador consume 1500 Kg/h de vapor y desarrolla una potencia de 300 kW. Determinar el trabajo por\n",
    "Kg de vapor.\n",
    "\n",
    "### Solución:\n",
    "\n",
    "$ \\dot{m} = \\mathrm{1500 (Kg/h) \\cdot (1h) / (3600s)}$\n",
    "\n",
    "$ \\dot{W} = \\mathrm{300 kW} $"
   ]
  },
  {
   "cell_type": "code",
   "execution_count": 13,
   "metadata": {},
   "outputs": [
    {
     "name": "stdout",
     "output_type": "stream",
     "text": [
      "m =  0.41667\n"
     ]
    }
   ],
   "source": [
    "m=1500*1/3600 # (Kg/s)"
   ]
  },
  {
   "cell_type": "code",
   "execution_count": 14,
   "metadata": {},
   "outputs": [
    {
     "name": "stdout",
     "output_type": "stream",
     "text": [
      "W =  300\n"
     ]
    }
   ],
   "source": [
    "W=300 # (kW)"
   ]
  },
  {
   "cell_type": "markdown",
   "metadata": {},
   "source": [
    "$$ w = \\frac{J}{Kg} = \\frac{W}{m} = \\frac{kJ}{Kg/s} = \\frac{kJ}{Kg}  $$"
   ]
  },
  {
   "cell_type": "code",
   "execution_count": 15,
   "metadata": {},
   "outputs": [
    {
     "name": "stdout",
     "output_type": "stream",
     "text": [
      "w =  720\n"
     ]
    }
   ],
   "source": [
    "w=W/m # (kJ/Kg)"
   ]
  },
  {
   "cell_type": "markdown",
   "metadata": {},
   "source": [
    "Se desarrollan 720 kJ/Kg"
   ]
  },
  {
   "cell_type": "code",
   "execution_count": 16,
   "metadata": {},
   "outputs": [],
   "source": [
    "clear -a"
   ]
  },
  {
   "cell_type": "markdown",
   "metadata": {},
   "source": [
    "## Ejercicio 7\n",
    "Que trabajo se podría realizar mediante el calor producido por la combustión de 1000 Kg de carbón que\n",
    "producen 9000 kcal suponiendo que ha sido aprovechado totalmente.\n",
    "### Solución\n",
    "`1 kJ ________________ 0.2389 kcal`\n",
    "\n",
    "`   x ________________ 9000 kcal`"
   ]
  },
  {
   "cell_type": "code",
   "execution_count": 17,
   "metadata": {},
   "outputs": [
    {
     "name": "stdout",
     "output_type": "stream",
     "text": [
      "ans =    3.7673e+04\n"
     ]
    }
   ],
   "source": [
    "9000*1/0.2389 # kJ"
   ]
  },
  {
   "cell_type": "markdown",
   "metadata": {},
   "source": [
    "## Ejercicio 8\n",
    "La caldera de una planta de producción de vapor consume 4 toneladas de combustible por hora para alimentar\n",
    "una turbina 410 kW. Si la capacidad calorífica del combustible es de 716 kcal/Kg, determinar el rendimiento\n",
    "térmico.\n",
    "\n",
    "$$ \\mathrm{ \\eta = \\frac{Entregado}{Absorbido} } \\qquad \\qquad (\\mathrm{\\eta = Rendimiento}) $$\n",
    "\n",
    "![08.png](img/08.png)"
   ]
  },
  {
   "cell_type": "markdown",
   "metadata": {},
   "source": [
    "### Solución:\n",
    "Convertimos a kJ:\n",
    "\n",
    "`1 kJ ________________ 0.2389 kcal`\n",
    "\n",
    "`x  __________________ 716 kcal`"
   ]
  },
  {
   "cell_type": "code",
   "execution_count": 18,
   "metadata": {},
   "outputs": [
    {
     "name": "stdout",
     "output_type": "stream",
     "text": [
      "CCComb =  2997.1\n"
     ]
    }
   ],
   "source": [
    "CCComb=716*1/0.2389 # (kJ) capacidad calorífica del combustible"
   ]
  },
  {
   "cell_type": "markdown",
   "metadata": {},
   "source": [
    "Kg de combustible por segundo:\n",
    "\n",
    "(4 Ton/h)*(1000 Kg/Ton)*(1h/3600s)"
   ]
  },
  {
   "cell_type": "code",
   "execution_count": 19,
   "metadata": {},
   "outputs": [
    {
     "name": "stdout",
     "output_type": "stream",
     "text": [
      "Flujo =  1.1111\n"
     ]
    }
   ],
   "source": [
    "Flujo=4*1000*1/3600 # (Kg/s)"
   ]
  },
  {
   "cell_type": "code",
   "execution_count": 20,
   "metadata": {},
   "outputs": [
    {
     "name": "stdout",
     "output_type": "stream",
     "text": [
      "Potencia =  410\n"
     ]
    }
   ],
   "source": [
    "Potencia=410 # (kW)"
   ]
  },
  {
   "cell_type": "code",
   "execution_count": 21,
   "metadata": {},
   "outputs": [
    {
     "name": "stdout",
     "output_type": "stream",
     "text": [
      "n =  0.12312\n"
     ]
    }
   ],
   "source": [
    "n=Potencia/(CCComb*Flujo) # Rendimiento"
   ]
  },
  {
   "cell_type": "code",
   "execution_count": 22,
   "metadata": {},
   "outputs": [
    {
     "name": "stdout",
     "output_type": "stream",
     "text": [
      "np =  12.312\n"
     ]
    }
   ],
   "source": [
    "np=n*100 # Rendimiento en porcentaje"
   ]
  },
  {
   "cell_type": "code",
   "execution_count": 23,
   "metadata": {},
   "outputs": [],
   "source": [
    "clear -a"
   ]
  },
  {
   "cell_type": "code",
   "execution_count": 0,
   "metadata": {},
   "outputs": [],
   "source": []
  }
 ],
 "metadata": {
  "kernelspec": {
   "display_name": "Octave",
   "language": "octave",
   "name": "octave"
  },
  "language_info": {
   "file_extension": ".m",
   "help_links": [
    {
     "text": "GNU Octave",
     "url": "https://www.gnu.org/software/octave/support.html"
    },
    {
     "text": "Octave Kernel",
     "url": "https://github.com/Calysto/octave_kernel"
    },
    {
     "text": "MetaKernel Magics",
     "url": "https://github.com/calysto/metakernel/blob/master/metakernel/magics/README.md"
    }
   ],
   "mimetype": "text/x-octave",
   "name": "octave",
   "version": "4.2.2"
  }
 },
 "nbformat": 4,
 "nbformat_minor": 1
}
