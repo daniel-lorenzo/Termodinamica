{
 "cells": [
  {
   "cell_type": "raw",
   "metadata": {},
   "source": [
    "<script>\n",
    "  function code_toggle() {\n",
    "    if (code_shown){\n",
    "      $('div.input').hide('500');\n",
    "      $('#toggleButton').val('Show Code')\n",
    "    } else {\n",
    "      $('div.input').show('500');\n",
    "      $('#toggleButton').val('Hide Code')\n",
    "    }\n",
    "    code_shown = !code_shown\n",
    "  }\n",
    "\n",
    "  $( document ).ready(function(){\n",
    "    code_shown=false;\n",
    "    $('div.input').hide()\n",
    "  });\n",
    "</script>\n",
    "<form action=\"javascript:code_toggle()\"><input type=\"submit\" id=\"toggleButton\" value=\"Show Code\"></form>"
   ]
  },
  {
   "cell_type": "markdown",
   "metadata": {},
   "source": [
    "   # Clase práctica 2 - Termodinámica\n",
    "   __UNLZ - FI -- Jupyter Notebook + Python 3__\n",
    "   \n",
    "   __Alumno: Lorenzo, Daniel Antonio__  \n",
    "   [<-Previous ](https://nbviewer.jupyter.org/github/daniel-lorenzo/Termodinamica/blob/master/p01.ipynb) - \n",
    "   [Index](https://github.com/daniel-lorenzo/Termodinamica/blob/master/Readme.md) - \n",
    "   [Next->](https://nbviewer.jupyter.org/github/daniel-lorenzo/Termodinamica/blob/master/p03.ipynb)"
   ]
  },
  {
   "cell_type": "markdown",
   "metadata": {},
   "source": [
    "# Ejercicio 9 \n",
    "\n",
    "Se cierra el circuito un lapso de tiempo y se verifica que el agua modifica su temperatura $t_f>t_i$ y la resistencia posee una capacidad calorífica. Planteando el primer principio de la termodinámica, determinar para cada sistema como se comportan las diferentes variables de la ecuación.\n",
    "\n",
    "![09.png](img/09.png)\n",
    "\n",
    "1. Sist. A\n",
    "2. Sist. (A+R)\n",
    "3. Sist. (A+R+B)\n",
    "4. Sist. B\n",
    "5. Sist. (A+R+B+E)\n",
    "\n",
    "## Solución\n",
    "$$ U = m \\, c_v \\, \\Delta t  \\qquad ; \\qquad  Q = \\Delta U + W $$"
   ]
  },
  {
   "cell_type": "markdown",
   "metadata": {},
   "source": [
    "Tabla\n",
    "<table cellspacing=\"0\" border=\"0\">\n",
    "\t<colgroup span=\"4\" width=\"85\"></colgroup>\n",
    "\t<tr>\n",
    "\t\t<td style=\"border-top: 1px solid #000000; border-bottom: 2px solid #000000; border-left: 1px solid #000000; border-right: 1px solid #000000\" height=\"17\" align=\"center\"><b>Sistema</b></td>\n",
    "\t\t<td style=\"border-top: 1px solid #000000; border-bottom: 2px solid #000000; border-left: 1px solid #000000; border-right: 1px solid #000000\" align=\"center\"><b>$\\sum Q$</b></td>\n",
    "\t\t<td style=\"border-top: 1px solid #000000; border-bottom: 2px solid #000000; border-left: 1px solid #000000; border-right: 1px solid #000000\" align=\"center\"><b>$W$</b></td>\n",
    "\t\t<td style=\"border-top: 1px solid #000000; border-bottom: 2px solid #000000; border-left: 1px solid #000000; border-right: 1px solid #000000\" align=\"center\"><b> $\\Delta U$ </b></td>\n",
    "\t</tr>\n",
    "\t<tr>\n",
    "\t\t<td style=\"border-top: 1px solid #000000; border-bottom: 1px solid #000000; border-left: 1px solid #000000; border-right: 1px solid #000000\" height=\"17\" align=\"left\">A</td>\n",
    "\t\t<td style=\"border-top: 1px solid #000000; border-bottom: 1px solid #000000; border-left: 1px solid #000000; border-right: 1px solid #000000\" align=\"center\">+</td>\n",
    "\t\t<td style=\"border-top: 1px solid #000000; border-bottom: 1px solid #000000; border-left: 1px solid #000000; border-right: 1px solid #000000\" align=\"center\" sdval=\"0\" sdnum=\"11274;\">0</td>\n",
    "\t\t<td style=\"border-top: 1px solid #000000; border-bottom: 1px solid #000000; border-left: 1px solid #000000; border-right: 1px solid #000000\" align=\"center\">+</td>\n",
    "\t</tr>\n",
    "\t<tr>\n",
    "\t\t<td style=\"border-top: 1px solid #000000; border-bottom: 1px solid #000000; border-left: 1px solid #000000; border-right: 1px solid #000000\" height=\"17\" align=\"left\">A+R</td>\n",
    "\t\t<td style=\"border-top: 1px solid #000000; border-bottom: 1px solid #000000; border-left: 1px solid #000000; border-right: 1px solid #000000\" align=\"center\">-</td>\n",
    "\t\t<td style=\"border-top: 1px solid #000000; border-bottom: 1px solid #000000; border-left: 1px solid #000000; border-right: 1px solid #000000\" align=\"center\">-</td>\n",
    "\t\t<td style=\"border-top: 1px solid #000000; border-bottom: 1px solid #000000; border-left: 1px solid #000000; border-right: 1px solid #000000\" align=\"center\">+</td>\n",
    "\t</tr>\n",
    "\t<tr>\n",
    "\t\t<td style=\"border-top: 1px solid #000000; border-bottom: 1px solid #000000; border-left: 1px solid #000000; border-right: 1px solid #000000\" height=\"17\" align=\"left\">A+R+B</td>\n",
    "\t\t<td style=\"border-top: 1px solid #000000; border-bottom: 1px solid #000000; border-left: 1px solid #000000; border-right: 1px solid #000000\" align=\"center\" sdval=\"0\" sdnum=\"11274;\">0</td>\n",
    "\t\t<td style=\"border-top: 1px solid #000000; border-bottom: 1px solid #000000; border-left: 1px solid #000000; border-right: 1px solid #000000\" align=\"center\">-</td>\n",
    "\t\t<td style=\"border-top: 1px solid #000000; border-bottom: 1px solid #000000; border-left: 1px solid #000000; border-right: 1px solid #000000\" align=\"center\">+</td>\n",
    "\t</tr>\n",
    "\t<tr>\n",
    "\t\t<td style=\"border-top: 1px solid #000000; border-bottom: 1px solid #000000; border-left: 1px solid #000000; border-right: 1px solid #000000\" height=\"17\" align=\"left\">B</td>\n",
    "\t\t<td style=\"border-top: 1px solid #000000; border-bottom: 1px solid #000000; border-left: 1px solid #000000; border-right: 1px solid #000000\" align=\"center\">+</td>\n",
    "\t\t<td style=\"border-top: 1px solid #000000; border-bottom: 1px solid #000000; border-left: 1px solid #000000; border-right: 1px solid #000000\" align=\"center\" sdval=\"0\" sdnum=\"11274;\">0</td>\n",
    "\t\t<td style=\"border-top: 1px solid #000000; border-bottom: 1px solid #000000; border-left: 1px solid #000000; border-right: 1px solid #000000\" align=\"center\">+</td>\n",
    "\t</tr>\n",
    "\t<tr>\n",
    "\t\t<td style=\"border-top: 1px solid #000000; border-bottom: 1px solid #000000; border-left: 1px solid #000000; border-right: 1px solid #000000\" height=\"17\" align=\"left\">A+R+B+E</td>\n",
    "\t\t<td style=\"border-top: 1px solid #000000; border-bottom: 1px solid #000000; border-left: 1px solid #000000; border-right: 1px solid #000000\" align=\"center\" sdval=\"0\" sdnum=\"11274;\">0</td>\n",
    "\t\t<td style=\"border-top: 1px solid #000000; border-bottom: 1px solid #000000; border-left: 1px solid #000000; border-right: 1px solid #000000\" align=\"center\" sdval=\"0\" sdnum=\"11274;\">0</td>\n",
    "\t\t<td style=\"border-top: 1px solid #000000; border-bottom: 1px solid #000000; border-left: 1px solid #000000; border-right: 1px solid #000000\" align=\"center\" sdval=\"0\" sdnum=\"11274;\">0</td>\n",
    "\t</tr>\n",
    "</table>"
   ]
  },
  {
   "cell_type": "markdown",
   "metadata": {},
   "source": [
    "# Ejercicio 10\n",
    "Un sistema cerrado se somete a un ciclo-combinado de 2 procesos. En el \n",
    "primero se transfieren 60kJ de energía térmica, y éste entrega al medio un\n",
    "trabajo de 80kJ. En el segundo, el medio exterior entrega al sistema un \n",
    "trabajo de 45 kJ. Se pide\n",
    "\n",
    "1. Determinar el intercambio de calor durante el segundo proceso.\n",
    "2. Determinar el trabajo y el calor intercambiado durante el ciclo.\n",
    "\n",
    "![10.png](img/10.png)\n",
    "## Solución"
   ]
  },
  {
   "cell_type": "markdown",
   "metadata": {},
   "source": [
    "1) \n",
    "$$ Q_1 = \\Delta U_1 + W_1 $$\n",
    "Entonces:\n",
    "$$ \\Delta U_1 = Q_1 - W_1 $$\n",
    "\n",
    "$$ \\Delta U_1 = \\mathrm{60 \\, kJ - 80 \\, kJ = -20 \\, kJ} $$"
   ]
  },
  {
   "cell_type": "markdown",
   "metadata": {},
   "source": [
    "$$ Q_2 = -(\\Delta U_1 + W_2)  $$\n",
    "\n",
    "$$ Q_2 = \\mathrm{-(-20 \\, kJ + 45 \\, kJ) = -25 \\, kJ} $$"
   ]
  },
  {
   "cell_type": "markdown",
   "metadata": {},
   "source": [
    "2) \n",
    "$$ W = W_1 + W_2 $$\n",
    "\n",
    "$$ W = \\mathrm{80 \\, kJ + (-45 \\, kJ) = 35 \\, kJ}$$"
   ]
  },
  {
   "cell_type": "markdown",
   "metadata": {},
   "source": [
    "$$ Q = Q_1 + Q_2 $$\n",
    "\n",
    "$$ Q = \\mathrm{60 \\, kJ + (-25 \\, kJ) = 35 \\, kJ} $$"
   ]
  },
  {
   "cell_type": "code",
   "execution_count": 1,
   "metadata": {},
   "outputs": [
    {
     "name": "stdout",
     "output_type": "stream",
     "text": [
      "Resultados:\n",
      "Punto 1\n",
      "DU1 = -20 kJ\n",
      "Q2 = -25 kJ\n",
      "Punto 2\n",
      "W = 35 kJ\n",
      "Q = 35 kJ\n"
     ]
    }
   ],
   "source": [
    "# Punto 1:\n",
    "Q1 = 60 # kJ (dato)\n",
    "W1 = 80 # kJ (dato)\n",
    "# Varición de energía interna\n",
    "DU1 = Q1 - W1 # kJ\n",
    "\n",
    "W2 = 45 # kJ (dato)\n",
    "# Intercambio de calor durante el segundo proceso\n",
    "Q2 = -(DU1+W2) # kJ\n",
    "#................................................\n",
    "# Punto 2:\n",
    "W1 = 80 # kJ (dato)\n",
    "W2 = -45 # kJ (dato)\n",
    "# Trabajo intercambiado durante el ciclo\n",
    "W = W1 + W2\n",
    "\n",
    "Q1 = 60 # kJ (dato)\n",
    "# Calor intercambiado durante el ciclo\n",
    "Q = Q1 + Q2 # kJ\n",
    "\n",
    "print('Resultados:')\n",
    "print('Punto 1')\n",
    "print('DU1 = %s kJ'%DU1)\n",
    "print('Q2 = %s kJ'%Q2) \n",
    "print('Punto 2')\n",
    "print('W = %s kJ'%W) \n",
    "print('Q = %s kJ'%Q)"
   ]
  },
  {
   "cell_type": "code",
   "execution_count": 2,
   "metadata": {},
   "outputs": [],
   "source": [
    "%reset -s -f"
   ]
  },
  {
   "cell_type": "markdown",
   "metadata": {},
   "source": [
    "# Ejemplo 4-9 \n",
    "__Calentamiento de un gas mediante un calentador de resistencia__  \n",
    "\n",
    "Un dispositivo que consta de cilindro-émbolo contiene inicialmente 0,5 m³ de gas a 400 kPa y 27°C. Dentro del dispositivo se enciende un calentador eléctrico con lo cual pasa una corriente de 2 A durante 5 minutos desde una fuente de 120 V. El nitrógeno se expande a presión constante y ocurre una pérdida de calor de 2800 J durante el proceso. Determine la temperatura final del nitrógeno.\n",
    "\n",
    "![e4-9.png](img/e4-9.png)"
   ]
  },
  {
   "cell_type": "markdown",
   "metadata": {},
   "source": [
    "## Solución\n",
    "En un cilindro-émbolo se calienta nitrógeno mediante un calentador de resistencia eléctrica. La sustancia se expande a presión constante mientras se pierde algo de calor. Se determinará la temperatura finál del nitrógeno.\n",
    "\n",
    "__Suposiciones:__\n",
    "1. El nitrógeno es un gas ideal porque está a temperatura alta y presión baja en relación con sus valores de punto crítico de -147°C y 3,39 MPa.\n",
    "2. El sistema es estacionario y, por lo tanto, los cambios de energía potencial y cinética son cero, $\\Delta Ec = \\Delta Ep = 0$ y $\\Delta E = \\Delta U$.\n",
    "3. La presión permanece constante durante el proceso, de moso que $P_2=P_1$.\n",
    "4. El nitrógeno tiene calores específicos constantes a temperatura ambiente.\n",
    "\n",
    "__Análisis:__ Se considera el contenido del cilindro como un sistema cerrado, porque ninguna masa cruza sus fronteras durante el proceso. Se observa que comúnmente un dispositivo de cilindro-embolo se relaciona con una frontera móvil y, por lo tanto, con trabajo de frontera, $W_b$. También, se pierde calor del sistema y se hace trabajo eléctrico $W_e$ sobre el sistema.\n",
    "\n",
    "Primero, se determina el trabajo eléctrico realizado sobre el nitrógeno:\n",
    "\n",
    "$$ W_e = V I \\Delta t = \\mathrm{(120 \\, V) (2 \\, A) (5 \\times 60 \\, s) \\left( \\frac{1 \\, kJ/s}{1000 \\, VA} \\right) = 72 \\, kJ} $$"
   ]
  },
  {
   "cell_type": "markdown",
   "metadata": {},
   "source": [
    "La masa del nitrógeno se determina a partir de la relación de gas ideal:\n",
    "\n",
    "$$ m = \\frac{P_1 V_1}{R T_1} = \\mathrm{ \\frac{(400 \\, kPa)(0,5 \\, m^3)}{(0,297 \\, kPa \\cdot m^3/kg \\cdot K)(300 \\, K)} = 2,245 \\, kg }$$"
   ]
  },
  {
   "cell_type": "markdown",
   "metadata": {},
   "source": [
    "Bajo las suposiciones y observaciones consideradas, el balance de energía sobre el sistema se puede expresar como\n",
    "\n",
    "$$ \\begin{array}{ccc}\n",
    "E_\\mathrm{entrada} - E_\\mathrm{salida} & =  & \\Delta E_\\mathrm{sistema} \\\\\n",
    "\\mathrm{Transferencia \\, neta \\, de  \\, energia} &  &\\mathrm{ Cambio \\, en \\, las \\, energias \\, interna, }\\\\\n",
    "\\mathrm{por \\, calor, \\, trabajo \\, y \\, masa} &  &\\mathrm{ cinetica, \\, potencial, \\, etc.}\n",
    "\\end{array}\n",
    "$$"
   ]
  },
  {
   "cell_type": "markdown",
   "metadata": {},
   "source": [
    "$$ W_{e,entrada} - Q_{salida} - W_{b,salida} = \\Delta U $$\n",
    "\n",
    "$$ W_{e,entrada} - Q_{salida} = \\Delta H = m (h_2 - h_1) = m c_p (T_2 - T_1) $$\n",
    "\n",
    "Dado que $\\Delta U + W_b \\equiv \\Delta H$ para un sistema cerrado que experimenta una expansión o compresión en cuasiequilibrio a presión constante. De la tabla $c_p = 1,039 \\, \\mathrm{kJ/kg \\cdot K}$ para el nitrógeno a temperatura ambiente. La única cantidad desconocida en la ecuación anterior es $T_2$, y se encuentra como\n",
    "\n",
    "$$\\mathrm{ 72 \\, kJ - 2,8 \\, kJ = (2,245 \\, kg)(1,039 \\, kJ/kg \\cdot K)}(T_2 - \\mathrm{27^\\circ C)} $$\n",
    "\n",
    "$$ T_2 = 56,7^\\circ \\mathrm{C} $$\n",
    "\n",
    "__Comentario:__ observe que este problema se podría resolver también si se determina el trabajo de frontera y el cambio de energía interna en vez del cambio de entalpía."
   ]
  },
  {
   "cell_type": "markdown",
   "metadata": {},
   "source": [
    "# Ejercicio 11\n",
    "Si a través de los límites del sistema contenido en el conjunto cilindro-pistón se entrega\n",
    "un trabajo eléctrico (We) se 1000 kJ. Considerando ΔEc = ΔEp = 0\n",
    "Determinar\n",
    "\n",
    "1. Masa del aire\n",
    "2. $T_{final}$\n",
    "3. $W_{ΔV}$\n",
    "\n",
    "![11.png](img/11.png)"
   ]
  },
  {
   "cell_type": "markdown",
   "metadata": {},
   "source": [
    "## Solución\n",
    "### 1. item \n",
    "$$ PV = mRT$$\n",
    "\n",
    "$$ \\Rightarrow \\qquad m = \\frac{PV}{RT} $$"
   ]
  },
  {
   "cell_type": "code",
   "execution_count": 3,
   "metadata": {},
   "outputs": [],
   "source": [
    "# Convertimos bar a kPa\n",
    "# 0,01 bar ___________ 1kPa\n",
    "# 10 bar   ____________ x\n",
    "\n",
    "P = 10*1/0.01 # kPa"
   ]
  },
  {
   "cell_type": "code",
   "execution_count": 4,
   "metadata": {},
   "outputs": [],
   "source": [
    "# Datos del problema:\n",
    "V1 = 0.3 # m^3\n",
    "R = 0.287 # kJ/(Kg*K) (R del aire dato de tabla)\n",
    "T1 = 27 + 273 # K"
   ]
  },
  {
   "cell_type": "markdown",
   "metadata": {},
   "source": [
    "Calculamos la masa con la ecuación de estado de los gases ideales\n",
    "$$ m = \\frac{P \\, V_i}{R \\, T_i} $$"
   ]
  },
  {
   "cell_type": "code",
   "execution_count": 5,
   "metadata": {},
   "outputs": [],
   "source": [
    "m = (P*V1)/(R*T1) # Kg"
   ]
  },
  {
   "cell_type": "code",
   "execution_count": 6,
   "metadata": {},
   "outputs": [
    {
     "name": "stdout",
     "output_type": "stream",
     "text": [
      "Resultados:\n",
      "P = 1000.0 kPa\n",
      "m = 3.4843 kg\n"
     ]
    }
   ],
   "source": [
    "print('Resultados:')\n",
    "print('P = %s kPa'%round(P,2))\n",
    "print('m = %s kg'%round(m,4))"
   ]
  },
  {
   "cell_type": "markdown",
   "metadata": {},
   "source": [
    "### 2. item \n",
    "\n",
    "Primer principio de la termodinámica\n",
    "\n",
    "$$ Q = \\Delta U + W $$\n",
    "\n",
    "$$\\left\\{\n",
    "\\begin{array}{l}\n",
    "Q = 0 \\\\\n",
    "W = W_e + W_b \\\\\n",
    "\\Delta U + W_b = m \\, c_p (T_2 - T_1) \\\\\n",
    "\\end{array}\n",
    "\\right. \\qquad\n",
    "\\Rightarrow \\qquad\n",
    "0 = m \\, c_p (T_2 - T_1) + W_e\n",
    "$$\n",
    "\n",
    "Dado que $\\Delta U + W_b \\equiv \\Delta H = m \\, c_p (T_2 - T_1)$ para un sistema cerrado que experimenta una expansión o compresión en cuasiequilibrio a presión constante.\n",
    "\n",
    "Luego:\n",
    "$$ T_2 = \\frac{T_1 c_p m - W_e}{c_p m} $$"
   ]
  },
  {
   "cell_type": "code",
   "execution_count": 7,
   "metadata": {},
   "outputs": [
    {
     "name": "stdout",
     "output_type": "stream",
     "text": [
      "T2 = 585.66 K (temperatura final)\n"
     ]
    }
   ],
   "source": [
    "cp = 1.0047 # kJ/(Kg·K) (del aire) dato de tabla\n",
    "Q = 0 # intercambio de calor es cero, porque es adiabático el recipiente\n",
    "We = -1000     # kJ (trabajo eléctrico negativo porque se realiza sobre el sistema gas)\n",
    "\n",
    "T2 = (T1*cp*m-We)/(cp*m)\n",
    "\n",
    "# temperatura en [K]\n",
    "print('T2 = %s K (temperatura final)'%round(T2,2)) "
   ]
  },
  {
   "cell_type": "code",
   "execution_count": 8,
   "metadata": {},
   "outputs": [],
   "source": [
    "import sympy as sp"
   ]
  },
  {
   "cell_type": "code",
   "execution_count": 9,
   "metadata": {},
   "outputs": [
    {
     "name": "stdout",
     "output_type": "stream",
     "text": [
      "T2 = 585.66 K (temperatura final)\n"
     ]
    }
   ],
   "source": [
    "# Con sympy (opcional de prueba)\n",
    "T2 = sp.symbols('T2') # define variable\n",
    "\n",
    "eq1 = sp.Eq(Q , m*cp*(T2 - T1) + We)\n",
    "\n",
    "# resuelve la ecuación 1\n",
    "seq1=sp.solve(eq1,T2) \n",
    "# aproximación numérica\n",
    "T2 = seq1[0] \n",
    "\n",
    "# temperatura en [K]\n",
    "print('T2 = %s K (temperatura final)'%round(T2,2)) "
   ]
  },
  {
   "cell_type": "markdown",
   "metadata": {},
   "source": [
    "### 3. item"
   ]
  },
  {
   "cell_type": "markdown",
   "metadata": {},
   "source": [
    "Trabajo por variación de volumen o frontera\n",
    "$$ W_b = P (V_2 - V_1) = P V_2 - P V_1 $$\n",
    "Sabiendo que:\n",
    "$$ PV = m R T $$\n",
    "Entonces:\n",
    "$$ W_b = m R T_2 - P V_1 $$\n",
    "La variación de volumen es\n",
    "$$ \\Delta V = \\frac{W_b}{P} $$"
   ]
  },
  {
   "cell_type": "code",
   "execution_count": 10,
   "metadata": {},
   "outputs": [],
   "source": [
    "# trabajo de variación de volumen (kJ)\n",
    "Wb = m*R*T2 - P*V1\n",
    "# Variación de volumen\n",
    "DV = Wb/P\n",
    "# Volumen final (m^3)\n",
    "V2 = DV + V1"
   ]
  },
  {
   "cell_type": "code",
   "execution_count": 11,
   "metadata": {},
   "outputs": [
    {
     "name": "stdout",
     "output_type": "stream",
     "text": [
      "Resultados:\n",
      "Wb = 285.66 kJ\n",
      "DV = 0.2857 m^3\n",
      "V2 = 0.5857 m^3\n"
     ]
    }
   ],
   "source": [
    "print('Resultados:')\n",
    "print('Wb = %s kJ'%round(Wb,2))\n",
    "print('DV = %s m^3'%round(DV,4))\n",
    "print('V2 = %s m^3'%round(V2,4))"
   ]
  },
  {
   "cell_type": "code",
   "execution_count": 12,
   "metadata": {},
   "outputs": [],
   "source": [
    "%reset -s -f"
   ]
  },
  {
   "cell_type": "markdown",
   "metadata": {},
   "source": [
    "# Ejercicio 12\n",
    "Los recipientes rígidos y adiabáticos están interconectados por medio de\n",
    "válvulas inicialmente cerradas. Se abren hasta alcanzar un nuevo equilibrio.\n",
    "\n",
    "Determinar:\n",
    "1. Temperatura de equilibrio final\n",
    "2. Presión de equilibrio final\n",
    "\n",
    "![12.png](img/12.png)"
   ]
  },
  {
   "cell_type": "markdown",
   "metadata": {},
   "source": [
    "## Solución\n",
    "<table cellspacing=\"0\" border=\"0\">\n",
    "\t<colgroup width=\"21\"></colgroup>\n",
    "\t<colgroup span=\"2\" width=\"85\"></colgroup>\n",
    "\t<colgroup width=\"35\"></colgroup>\n",
    "\t<tr>\n",
    "\t\t<td style=\"border-top: 1px solid #000000; border-left: 1px solid #000000; border-right: 1px solid #000000\" height=\"17\" align=\"left\"><br></td>\n",
    "\t\t<td style=\"border-top: 1px solid #000000; border-right: 1px solid #000000\" align=\"center\" sdnum=\"11274;0;0,0000\"><b>R</b></td>\n",
    "\t\t<td style=\"border-top: 1px solid #000000; border-right: 1px solid #000000\" align=\"center\"><b>cv</b></td>\n",
    "\t\t<td style=\"border-top: 1px solid #000000; border-right: 1px solid #000000\" align=\"right\"><br></td>\n",
    "\t</tr>\n",
    "\t<tr>\n",
    "\t\t<td style=\"border-left: 1px solid #000000; border-right: 1px solid #000000\" height=\"17\" align=\"left\"><br></td>\n",
    "\t\t<td style=\"border-right: 1px solid #000000\" align=\"center\" sdnum=\"11274;0;0,0000\"><b>kJ/(kg·K)</b></td>\n",
    "\t\t<td style=\"border-right: 1px solid #000000\" align=\"center\"><b>kJ/(kg·K)</b></td>\n",
    "\t\t<td style=\"border-right: 1px solid #000000\" align=\"right\"><br></td>\n",
    "\t</tr>\n",
    "\t<tr>\n",
    "\t\t<td style=\"border-top: 1px solid #000000; border-bottom: 1px solid #000000; border-left: 1px solid #000000; border-right: 1px solid #000000\" height=\"17\" align=\"left\"><b>A</b></td>\n",
    "\t\t<td style=\"border-top: 1px solid #000000; border-bottom: 1px solid #000000; border-left: 1px solid #000000; border-right: 1px solid #000000\" align=\"center\" sdval=\"0,2598\" sdnum=\"11274;0;0,0000\">0,2598</td>\n",
    "\t\t<td style=\"border-top: 1px solid #000000; border-bottom: 1px solid #000000; border-left: 1px solid #000000; border-right: 1px solid #000000\" align=\"center\" sdval=\"0,6585\" sdnum=\"11274;\">0,6585</td>\n",
    "\t\t<td style=\"border-top: 1px solid #000000; border-bottom: 1px solid #000000; border-left: 1px solid #000000; border-right: 1px solid #000000\" align=\"right\">$O_2$</td>\n",
    "\t</tr>\n",
    "\t<tr>\n",
    "\t\t<td style=\"border-top: 1px solid #000000; border-bottom: 1px solid #000000; border-left: 1px solid #000000; border-right: 1px solid #000000\" height=\"17\" align=\"left\"><b>B</b></td>\n",
    "\t\t<td style=\"border-top: 1px solid #000000; border-bottom: 1px solid #000000; border-left: 1px solid #000000; border-right: 1px solid #000000\" align=\"center\" sdval=\"0,2968\" sdnum=\"11274;0;0,0000\">0,2968</td>\n",
    "\t\t<td style=\"border-top: 1px solid #000000; border-bottom: 1px solid #000000; border-left: 1px solid #000000; border-right: 1px solid #000000\" align=\"center\" sdval=\"0,7431\" sdnum=\"11274;\">0,7431</td>\n",
    "\t\t<td style=\"border-top: 1px solid #000000; border-bottom: 1px solid #000000; border-left: 1px solid #000000; border-right: 1px solid #000000\" align=\"right\">$N_2$</td>\n",
    "\t</tr>\n",
    "\t<tr>\n",
    "\t\t<td style=\"border-top: 1px solid #000000; border-bottom: 1px solid #000000; border-left: 1px solid #000000; border-right: 1px solid #000000\" height=\"17\" align=\"left\"><b>C</b></td>\n",
    "\t\t<td style=\"border-top: 1px solid #000000; border-bottom: 1px solid #000000; border-left: 1px solid #000000; border-right: 1px solid #000000\" align=\"center\" sdval=\"0,287\" sdnum=\"11274;0;0,0000\">0,2870</td>\n",
    "\t\t<td style=\"border-top: 1px solid #000000; border-bottom: 1px solid #000000; border-left: 1px solid #000000; border-right: 1px solid #000000\" align=\"center\" sdval=\"0,7176\" sdnum=\"11274;\">0,7176</td>\n",
    "\t\t<td style=\"border-top: 1px solid #000000; border-bottom: 1px solid #000000; border-left: 1px solid #000000; border-right: 1px solid #000000\" align=\"right\">Aire</td>\n",
    "\t</tr>\n",
    "</table>"
   ]
  },
  {
   "cell_type": "markdown",
   "metadata": {},
   "source": [
    "Calculamos la masa de gas en A (oxígeno)\n",
    "\n",
    "$$\\mbox{Datos: } \\left\\{\n",
    "\\begin{array}{l}\n",
    "V_A = 5 \\, \\mathrm{m^3} \\\\\n",
    "T_{iA} = 350,15 \\, \\mathrm{K} \\\\\n",
    "P_{iA} = 300 \\, \\mathrm{kPa} \\\\\n",
    "R_A = 0,2598 \\, \\mathrm{kJ/(Kg \\cdot K)}\n",
    "\\end{array}\n",
    "\\right. \\qquad\n",
    "\\begin{array}{l}\n",
    "\\mathrm{Ecuaci \\acute{o} n \\, de \\, los \\, gases \\, ideales} \\\\\n",
    "P_{iA} V_A = m_A R_A T_{iA} \\\\\n",
    "\\displaystyle \\Rightarrow m_A = \\frac{P_{iA}V_A}{R_A T_{iA}}\n",
    "\\end{array}\n",
    "$$"
   ]
  },
  {
   "cell_type": "code",
   "execution_count": 13,
   "metadata": {},
   "outputs": [],
   "source": [
    "# Calculamos la masa de gas en A (oxígeno)\n",
    "# Datos\n",
    "VA = 5 # m^3\n",
    "TiA = 77+273.15 # K\n",
    "PiA = 3*100 # kPa\n",
    "RA = 0.2598 # kJ/(Kg*K) Dato de tabla\n",
    "\n",
    "# Ecuación de los gases ideales\n",
    "mA = (PiA*VA)/(RA*TiA)"
   ]
  },
  {
   "cell_type": "code",
   "execution_count": 14,
   "metadata": {},
   "outputs": [
    {
     "name": "stdout",
     "output_type": "stream",
     "text": [
      "mA = 16.4891 Kg\n"
     ]
    }
   ],
   "source": [
    "# Imprime resultado\n",
    "print('mA = %s Kg'%round(mA,4))"
   ]
  },
  {
   "cell_type": "markdown",
   "metadata": {},
   "source": [
    "Calculamos la masa de gas en B (nitrógeno)\n",
    "\n",
    "$$\\mbox{Datos: } \\left\\{\n",
    "\\begin{array}{l}\n",
    "V_B = 10 \\, \\mathrm{m^3} \\\\\n",
    "T_{iB} = 400,15 \\, \\mathrm{K} \\\\\n",
    "P_{iB} = 500 \\, \\mathrm{kPa} \\\\\n",
    "R_B = 0,2968 \\, \\mathrm{kJ/(Kg \\cdot K)}\n",
    "\\end{array}\n",
    "\\right. \\qquad\n",
    "\\begin{array}{l}\n",
    "\\mathrm{Ecuaci \\acute{o} n \\, de \\, los \\, gases \\, ideales} \\\\\n",
    "P_{iB} V_B = m_B R_B T_{iB} \\\\\n",
    "\\displaystyle \\Rightarrow m_B = \\frac{P_{iB}V_B}{R_B T_{iB}}\n",
    "\\end{array}\n",
    "$$"
   ]
  },
  {
   "cell_type": "code",
   "execution_count": 15,
   "metadata": {},
   "outputs": [],
   "source": [
    "# Calculamos la masa de gas en B (nitrógeno)\n",
    "# Datos\n",
    "VB = 10 # m^3\n",
    "TiB = 127 + 273.15 # K\n",
    "PiB = 5*100 # kPa\n",
    "RB = 0.2968 # kJ/(Kg*K) Dato de tabla\n",
    "\n",
    "# Ecuación de los gases ideales\n",
    "mB = (PiB*VB)/(RB*TiB)"
   ]
  },
  {
   "cell_type": "code",
   "execution_count": 16,
   "metadata": {},
   "outputs": [
    {
     "name": "stdout",
     "output_type": "stream",
     "text": [
      "mB = 42.1001 kg\n"
     ]
    }
   ],
   "source": [
    "# Imprime resultado\n",
    "print('mB = %s kg'%round(mB,4))"
   ]
  },
  {
   "cell_type": "markdown",
   "metadata": {},
   "source": [
    "Calculamos la masa de gas en C (aire)\n",
    "\n",
    "$$\\mbox{Datos: } \\left\\{\n",
    "\\begin{array}{l}\n",
    "V_C = 12 \\, \\mathrm{m^3} \\\\\n",
    "T_{iC} = 300,15 \\, \\mathrm{K} \\\\\n",
    "P_{iC} = 100 \\, \\mathrm{kPa} \\\\\n",
    "R_C = 0,287 \\, \\mathrm{kJ/(Kg \\cdot K)}\n",
    "\\end{array}\n",
    "\\right. \\qquad\n",
    "\\begin{array}{l}\n",
    "\\mathrm{Ecuaci \\acute{o} n \\, de \\, los \\, gases \\, ideales} \\\\\n",
    "P_{iC} V_C = m_C R_C T_{iC} \\\\\n",
    "\\displaystyle \\Rightarrow m_C = \\frac{P_{iC}V_C}{R_C T_{iC}}\n",
    "\\end{array}\n",
    "$$"
   ]
  },
  {
   "cell_type": "code",
   "execution_count": 17,
   "metadata": {},
   "outputs": [],
   "source": [
    "# Calculammos la masa de gas en C (aire)\n",
    "# Datos\n",
    "VC = 12 # m^3\n",
    "TiC = 27 + 273.15 # K\n",
    "PiC = 1*100 # kPa\n",
    "RC = 0.287 # kJ/(Kg*K) Dato de tabla\n",
    "\n",
    "# Ecuación de los gases ideales\n",
    "mC = (PiC*VC)/(RC*TiC)"
   ]
  },
  {
   "cell_type": "code",
   "execution_count": 18,
   "metadata": {},
   "outputs": [
    {
     "name": "stdout",
     "output_type": "stream",
     "text": [
      "mC = 13.9303 kg\n"
     ]
    }
   ],
   "source": [
    "# Imprime resultado\n",
    "print('mC = %s kg'%round(mC,4))"
   ]
  },
  {
   "cell_type": "markdown",
   "metadata": {},
   "source": [
    "Utilizamos la ecuación\n",
    "$$ \\Delta U = m \\, c_v \\, \\Delta T $$\n",
    "con $\\Delta U = 0$\n",
    "\n",
    "$$ m_A c_{vA} (T_f - T_{iA}) + m_B c_{vB} (T_f - T_{iB}) + m_C c_{vC} (T_f - T_{iC}) = 0 $$\n",
    "Despejando $T_f$ :\n",
    "$$ T_f = \\frac{T_{iC} \\, c_{vC} \\, m_C + T_{iB} \\, c_{vB} \\, m_B + T_{iA} \\, c_{vA} \\, m_A }{c_{vC} \\, m_C + c_{vB} \\, m_B + c_{vA} \\, m_A } $$"
   ]
  },
  {
   "cell_type": "code",
   "execution_count": 19,
   "metadata": {},
   "outputs": [],
   "source": [
    "# Datos:\n",
    "cvA = 0.6585 # kJ/(Kg*K)\n",
    "cvB = 0.7431 # kJ/(Kg*K)\n",
    "cvC = 0.7176 # kJ/(Kg*K)"
   ]
  },
  {
   "cell_type": "code",
   "execution_count": 20,
   "metadata": {},
   "outputs": [],
   "source": [
    "# Temperatura final\n",
    "Tf = (TiC*cvC*mC + TiB*cvB*mB + TiA*cvA*mA)/(cvC*mC + cvB*mB + cvA*mA)"
   ]
  },
  {
   "cell_type": "code",
   "execution_count": 21,
   "metadata": {},
   "outputs": [
    {
     "name": "stdout",
     "output_type": "stream",
     "text": [
      "Tf = 370.56 K\n"
     ]
    }
   ],
   "source": [
    "# Imprime resultado\n",
    "print('Tf = %s K'%round(Tf,2))"
   ]
  },
  {
   "cell_type": "code",
   "execution_count": 22,
   "metadata": {},
   "outputs": [],
   "source": [
    "# Opcional con sympy despejamos la ecuación anterior\n",
    "import sympy as sp "
   ]
  },
  {
   "cell_type": "code",
   "execution_count": 23,
   "metadata": {},
   "outputs": [
    {
     "name": "stdout",
     "output_type": "stream",
     "text": [
      "Tf = 370.56 K\n"
     ]
    }
   ],
   "source": [
    "# Usando sympy\n",
    "# Calculo de la temperatura de equilibrio final\n",
    "\n",
    "# Usamos sympy para resolver Tf\n",
    "Tf = sp.symbols('Tf')\n",
    "eq4 = sp.Eq(0 , mA*cvA*(Tf-TiA) + mB*cvB*(Tf-TiB) + mC*cvC*(Tf-TiC))\n",
    "seq4 = sp.solve(eq4,Tf)\n",
    "Tf = seq4[0]\n",
    "\n",
    "print('Tf = %s K'%round(Tf,2))"
   ]
  },
  {
   "cell_type": "markdown",
   "metadata": {},
   "source": [
    "Calculo de la presión final del gas A (oxígeno) sobre el volumen final\n",
    "\n",
    "$$\\left\\{\n",
    "\\begin{array}{l}\n",
    "V_f = V_A + V_B + V_C \\\\\n",
    "P_{fA} V_f = m_{A} R_A T_f\n",
    "\\end{array}\n",
    "\\right.\n",
    "\\quad \\Rightarrow \\quad\n",
    "P_{fA} = \\frac{m_A \\, R_A \\, T_f}{V_f}\n",
    "$$"
   ]
  },
  {
   "cell_type": "code",
   "execution_count": 24,
   "metadata": {},
   "outputs": [],
   "source": [
    "# Calculo de la presión final del gas A (oxígeno) sobre el volumen final\n",
    "Vf = VA + VB + VC\n",
    "\n",
    "PfA = (mA*RA*Tf)/Vf"
   ]
  },
  {
   "cell_type": "code",
   "execution_count": 25,
   "metadata": {},
   "outputs": [
    {
     "name": "stdout",
     "output_type": "stream",
     "text": [
      "PfA = 58.7946 kPa\n"
     ]
    }
   ],
   "source": [
    "# Imprime resultado\n",
    "print('PfA = %s kPa'%round(PfA,4))"
   ]
  },
  {
   "cell_type": "markdown",
   "metadata": {},
   "source": [
    "Calculo de la presión final del gas B (nitrógeno) sobre el volumen final\n",
    "\n",
    "$$ P_{fB} V_f = m_B R_B T_f \\quad \\Rightarrow \\quad P_{fB} = \\frac{m_B \\, R_B \\, T_f}{V_f} $$"
   ]
  },
  {
   "cell_type": "code",
   "execution_count": 26,
   "metadata": {},
   "outputs": [],
   "source": [
    "# Calculo de la presión final del gas B (nitrógeno) sobre el volumen final\n",
    "\n",
    "PfB = (mB*RB*Tf)/Vf"
   ]
  },
  {
   "cell_type": "code",
   "execution_count": 27,
   "metadata": {},
   "outputs": [
    {
     "name": "stdout",
     "output_type": "stream",
     "text": [
      "PfB = 171.4935 kPa\n"
     ]
    }
   ],
   "source": [
    "# Imprime resultado\n",
    "print('PfB = %s kPa'%round(PfB,4))"
   ]
  },
  {
   "cell_type": "markdown",
   "metadata": {},
   "source": [
    "Calculo de la presión final del gas C (aire) sobre el volumen final\n",
    "\n",
    "$$ P_{fC} V_f = m_C R_C T_f \\quad \\Rightarrow \\quad P_{fC} = \\frac{m_C \\, R_C \\, Tf}{V_f}$$"
   ]
  },
  {
   "cell_type": "code",
   "execution_count": 28,
   "metadata": {},
   "outputs": [],
   "source": [
    "# Calculo de la presión final del gas C (aire) sobre el volumen final\n",
    "\n",
    "PfC = (mC*RC*Tf)/Vf"
   ]
  },
  {
   "cell_type": "code",
   "execution_count": 29,
   "metadata": {},
   "outputs": [
    {
     "name": "stdout",
     "output_type": "stream",
     "text": [
      "PfC = 54.8711 kPa\n"
     ]
    }
   ],
   "source": [
    "# Imprime resultado\n",
    "print('PfC = %s kPa'%round(PfC,4))"
   ]
  },
  {
   "cell_type": "markdown",
   "metadata": {},
   "source": [
    "Presión final (alcanzado el equilibrio)\n",
    "\n",
    "$$ P_{final} = P_{fA} + P_{fB} + P_{fC} $$"
   ]
  },
  {
   "cell_type": "code",
   "execution_count": 30,
   "metadata": {},
   "outputs": [],
   "source": [
    "# Presión final (alcanzado el equilibrio)\n",
    "Pfinal = PfA+PfB+PfC"
   ]
  },
  {
   "cell_type": "code",
   "execution_count": 31,
   "metadata": {},
   "outputs": [
    {
     "name": "stdout",
     "output_type": "stream",
     "text": [
      "Pfinal = 285.1591 kPa\n"
     ]
    }
   ],
   "source": [
    "# Imprime resultado\n",
    "print('Pfinal = %s kPa'%round(Pfinal,4))"
   ]
  },
  {
   "cell_type": "code",
   "execution_count": 32,
   "metadata": {},
   "outputs": [],
   "source": [
    "%reset -s -f"
   ]
  },
  {
   "cell_type": "markdown",
   "metadata": {},
   "source": [
    "# Ejercicio 12.1\n",
    "Un cilindro-pistón diatérmico contiene $CO_2$. Inicialmente el pistón que genera una presión de 10 bares. Se encuentra trabado. Determinar el intercambio de energía en el medio exterior cuando se quitan las trabas.\n",
    "\n",
    "![12.1.png](img/12.1.png)\n",
    "$\\begin{array}{l}\n",
    "\\mathrm{Temp. \\, ambiente = 20^\\circ \\; C}\\\\\n",
    "P_0 = 1 \\, \\mathrm{bar}\n",
    "\\end{array}$\n",
    "\n",
    "$$\\left\\{\n",
    "\\begin{array}{l}\n",
    "\\displaystyle \\frac{P_1 V_1}{T_1} = \\frac{P_2 V_2}{T_2} \\\\\n",
    "T_1 = T_2\n",
    "\\end{array}\n",
    "\\right. \\quad \\Rightarrow \\qquad V_2 = \\frac{P_1 V_1}{P_2}\n",
    "$$"
   ]
  },
  {
   "cell_type": "code",
   "execution_count": 33,
   "metadata": {},
   "outputs": [],
   "source": [
    "# Datos\n",
    "P1 = 1*100 # kPa (inicial)\n",
    "P2 = 10*100 # kPa (final)\n",
    "V1 = 10 # m^3 (inicial)\n",
    "\n",
    "# Cálculo del volumen 2 (final)\n",
    "V2 = P1*V1/P2"
   ]
  },
  {
   "cell_type": "code",
   "execution_count": 34,
   "metadata": {},
   "outputs": [
    {
     "name": "stdout",
     "output_type": "stream",
     "text": [
      "V2 = 1.0 m^3\n"
     ]
    }
   ],
   "source": [
    "print('V2 = %s m^3'%round(V2,2))"
   ]
  },
  {
   "cell_type": "markdown",
   "metadata": {},
   "source": [
    "$$ Q = \\Delta U + W_{\\Delta V} $$\n",
    "\n",
    "$$ Q = m \\, c_v \\, \\underbrace{(T_f - T_i)}_{=0} + P_p \\, (V_f - V_i) $$\n",
    "\n",
    "$$ Q = W_{\\Delta V} = P_p \\, (V_f - V_i) $$"
   ]
  },
  {
   "cell_type": "code",
   "execution_count": 35,
   "metadata": {},
   "outputs": [],
   "source": [
    "# El trabajo pore variación de volumen\n",
    "# se transforma en calor\n",
    "Q = P2*(V2 - V1)"
   ]
  },
  {
   "cell_type": "code",
   "execution_count": 36,
   "metadata": {},
   "outputs": [
    {
     "name": "stdout",
     "output_type": "stream",
     "text": [
      "Q = -9000.0 kJ\n"
     ]
    }
   ],
   "source": [
    "print('Q = %s kJ'%round(Q,2))"
   ]
  },
  {
   "cell_type": "code",
   "execution_count": 37,
   "metadata": {},
   "outputs": [],
   "source": [
    "%reset -s -f"
   ]
  },
  {
   "cell_type": "markdown",
   "metadata": {},
   "source": [
    "# Ejercicio 12.2\n",
    "Un cilindro pistón adiabático contiene $CO_2$. Inicialmente, el pistón que genera una presión de 10 bares absoluta, se encuentra trabado. Determinar el intercambio de energía con el medio exterior cuando se quitan las trabas.\n",
    "\n",
    "![12.2.png](img/12.2.png)\n",
    "$\\begin{array}{l}\n",
    "\\mathrm{Temp. \\, ambiente = 20^\\circ \\; C}\\\\\n",
    "P_0 = 1 \\, \\mathrm{bar}\n",
    "\\end{array}$\n",
    "## Solución\n",
    "$$ P_1 V_1 = m R T_1 $$\n",
    "\n",
    "$$ m = \\frac{P_1 V_1}{R T_1} $$"
   ]
  },
  {
   "cell_type": "code",
   "execution_count": 38,
   "metadata": {},
   "outputs": [],
   "source": [
    "# Datos\n",
    "P1 = 1*100 # kPa\n",
    "V1 = 10 # m^3\n",
    "T1 = 20 + 273.15 # K\n",
    "R = 0.1889 # kJ/(kg·K)\n",
    "\n",
    "# Cálculo de la masa de CO2\n",
    "m = (P1*V1)/(R*T1)"
   ]
  },
  {
   "cell_type": "code",
   "execution_count": 39,
   "metadata": {},
   "outputs": [
    {
     "name": "stdout",
     "output_type": "stream",
     "text": [
      "m = 18.0584 kg\n"
     ]
    }
   ],
   "source": [
    "# Imprime resultado\n",
    "print('m = %s kg'%round(m,4))"
   ]
  },
  {
   "cell_type": "markdown",
   "metadata": {},
   "source": [
    "$$\n",
    "\\left\\{ \n",
    "\\begin{array}{l} Q = \\Delta U + W_b \\\\ \n",
    "Q = 0 \\\\\n",
    "\\Delta U = m \\, c_v \\, (T_2 - T_1) \\\\\n",
    "W_b = P_{pist} (V_2 - V_1) \\\\ \n",
    "PV = mRT \n",
    "\\end{array} \n",
    "\\right. \\quad \\rightarrow \\quad \n",
    "\\begin{array}{l} 0 = \\Delta U + W_b \\\\\n",
    "0 = m \\, c_v \\, (T_2 - T_1) + P_{pist} (V_2 - V_1) \\\\\n",
    "0 = m \\, c_v \\, (T_2 - T_1) + m R T_2 -P_{pist} V_1 \\\\\n",
    "\\displaystyle \\mathrm{Entonces:} \\quad T_2 = \\frac{T_1 \\, c_v \\, m + P_{pist} V_1}{(c_v+R)m} \n",
    "\\end{array} \n",
    "$$"
   ]
  },
  {
   "cell_type": "code",
   "execution_count": 40,
   "metadata": {},
   "outputs": [],
   "source": [
    "# Datos\n",
    "Pp = 10*100 # kPa\n",
    "cv = 0.6552 # kJ/(kg·K)\n",
    "\n",
    "# Cálculo de T2\n",
    "T2 = (T1*cv*m + Pp*V1)/((cv+R)*m)"
   ]
  },
  {
   "cell_type": "code",
   "execution_count": 41,
   "metadata": {},
   "outputs": [
    {
     "name": "stdout",
     "output_type": "stream",
     "text": [
      "T2 = 883.58 K\n"
     ]
    }
   ],
   "source": [
    "# Imprime resultado\n",
    "print('T2 = %s K'%round(T2,2))"
   ]
  },
  {
   "cell_type": "markdown",
   "metadata": {},
   "source": [
    "Primer principio de la termodinámica\n",
    "$$ Q = \\Delta U + W_b $$\n",
    "Reemplazamos\n",
    "$$ 0 = m \\, c_v \\, (T_2 - T_1) + W_b $$\n",
    "Entonces:\n",
    "$$ W_{\\Delta V} = W_b = - m \\, c_v \\, (T_2 - T_1) $$"
   ]
  },
  {
   "cell_type": "code",
   "execution_count": 42,
   "metadata": {},
   "outputs": [],
   "source": [
    "# Cálculo del trabajo por variación de volumen\n",
    "Wb = -m*cv*(T2 - T1)"
   ]
  },
  {
   "cell_type": "code",
   "execution_count": 43,
   "metadata": {},
   "outputs": [
    {
     "name": "stdout",
     "output_type": "stream",
     "text": [
      "Wb = -6985.9 kJ\n"
     ]
    }
   ],
   "source": [
    "# Imprime resultado\n",
    "print('Wb = %s kJ'%round(Wb,2))"
   ]
  },
  {
   "cell_type": "code",
   "execution_count": 44,
   "metadata": {},
   "outputs": [
    {
     "name": "stdout",
     "output_type": "stream",
     "text": [
      "Resultados:\n",
      "m = 18.0584 kg\n",
      "T2 = 883.58 K\n",
      "Wb = -6985.9 kJ\n"
     ]
    }
   ],
   "source": [
    "# Resumen de resultados\n",
    "print('Resultados:')\n",
    "print('m = %s kg'%round(m,4))\n",
    "print('T2 = %s K'%round(T2,2))\n",
    "print('Wb = %s kJ'%round(Wb,2))"
   ]
  },
  {
   "cell_type": "code",
   "execution_count": 45,
   "metadata": {},
   "outputs": [],
   "source": [
    "%reset -s -f"
   ]
  },
  {
   "cell_type": "markdown",
   "metadata": {},
   "source": [
    "# Ejemplo 4-10 Calentamiento de un gas a presión constante\n",
    "Un dispositivo de cilindro-émbolo contiene al inicio aire a 150 kP y 27°C. En este estado el émbolo descansa sobre un par de topes, como se ilustra en la figura, y el volumen encerrado es de 400 L. La masa del émbolo es tal que se requiere una presión de 350 kPa para moverlo. Se calienta el aire hasta duplicar su volumen.\n",
    "\n",
    "__Determinar:__\n",
    "1. La temperatura final.\n",
    "2. El trabajo que realiza el aire.\n",
    "3. El calor total transferido al aire.\n",
    "\n",
    "![e4-10.png](img/e4-10.png)"
   ]
  },
  {
   "cell_type": "markdown",
   "metadata": {},
   "source": [
    "## Solución\n",
    "En un dispositivo de cilindro-émbolo provisto de dos topes se calienta aire hasta duplicar su volumen. Se determinará la temperatura final, el trabajo realizado y la transferencia de calor total.   \n",
    "__Suposiciones:__\n",
    "1.  El aire es un gas ideal porque está a temperatura alta y baja presión en relación con sus valores de punto crítico.\n",
    "2. El sistema es estacionario; por lo tanto, los cambios de energía cinética y potencial son cero, $\\Delta Ec = \\Delta Ep = 0$ y $\\Delta E = \\Delta U$.\n",
    "3. El volumen permanece constante hasta que el émbolo comienza a moverse, después la presión permanece constante hasta que el émbolo comienza a moverse, después la presión permanece constante durante el proceso.\n",
    "4. No hay trabajo de flecha, eléctrico o de otro tipo.   \n",
    "__Anállisis:__ Se toma el contenido del cilindro como el sistema, el cual es cerrado puesto que ninguna masa cruza sus fronteras durante el proceso. Se observa que comúnmente un dispositivo de cilindro-émbolo tiene relación con una frontera móvil y, por lo tanto, con trabajo de frontera, $W_b$. Asimismo, el sistema realiza trabajo de frontera y se transfiere calor al sistema."
   ]
  },
  {
   "cell_type": "markdown",
   "metadata": {},
   "source": [
    "a) La temperatura final se determina fácilmente por medio de la relación del gas ideal entre los estados 1 y 3 en la siguiente forma:\n",
    "\n",
    "$$ \\frac{P_1 V_1}{T_1} = \\frac{P_3 V_3}{T_3} \\quad \\longrightarrow \\quad  \\frac{(150 \\, \\mathrm{kPa})(V_1)}{300 \\, \\mathrm{K}} = \\frac{(350 \\, \\mathrm{kPa})(2V_1)}{T_3} $$\n",
    "\n",
    "$$ T_3 = 1400 \\, \\mathrm{K} $$"
   ]
  },
  {
   "cell_type": "markdown",
   "metadata": {},
   "source": [
    "b) El trabajo realizado se podría determinar por integración, pero en este caso es mucho más fácil hacerlo a partir del área bajo la curva del proceso, en un diagrama P-V.\n",
    "\n",
    "$$ A = (V_2 - V_1) P_2 = \\mathrm{(0,4 \\, m^3)(350 \\, kPa) = 140 \\, m^3 \\cdot kPa} $$\n",
    "\n",
    "Por consiguiente,\n",
    "\n",
    "$$ W_{13} = 140 \\, \\mathrm{kJ} $$\n",
    "\n",
    "El sistema realiza trabajo (para elevar el émbolo y expulsar el aire atmosférico de su camino), por lo tanto se trata de producción de trabajo."
   ]
  },
  {
   "cell_type": "markdown",
   "metadata": {},
   "source": [
    "c) Bajo las suposiciones y observaciones consideradas, el balance de energía en el sistema entre los estados inicial y final (proceso 1-3) se puede expresar como\n",
    "\n",
    "$$ \\begin{array}{ccc}\n",
    "E_\\mathrm{entrada} - E_\\mathrm{salida} & =  & \\Delta E_\\mathrm{sistema} \\\\\n",
    "\\mathrm{Transferencia \\, neta \\, de  \\, energia} &  &\\mathrm{ Cambio \\, en \\, las \\, energias \\, interna, }\\\\\n",
    "\\mathrm{por \\, calor, \\, trabajo \\, y \\, masa} &  &\\mathrm{ cinetica, \\, potencial, \\, etc.}\n",
    "\\end{array}\n",
    "$$\n",
    "\n",
    "$$ Q_\\mathrm{entrada} - W_\\mathrm{b,salida} = \\Delta U = m (u_3 - u_1) $$\n",
    "\n",
    "La masa del sistema se determina a partir de la reacción de gas ideal:\n",
    "\n",
    "$$ m = \\frac{P_1 V_1}{R t_1} = \\mathrm{\\frac{(150 \\, kPa)(0,4 \\, m^3)}{(0,287 \\, kPa \\cdot m^3 / kg \\cdot K)(300 \\, K)} = 0,697 \\, kg} $$\n",
    "\n",
    "Las energías internas se determinan del la tabla del aire (tabla A-17, Termodinámica Cengel) como\n",
    "\n",
    "$$ u_1 = u_\\mathrm{a \\, 300 \\, K} = 214,07 \\, \\mathrm{kJ/kg} $$\n",
    "$$ u_3 = u_\\mathrm{a \\, 1400 \\, K} = 1113,52 \\, \\mathrm{kJ/kg} $$\n",
    "\n",
    "Así,\n",
    "$$ Q_\\mathrm{entrada} - 140 \\, \\mathrm{kJ = (0,697 \\, kg) [(1113,52 - 214,07) \\, kJ/kg] }$$\n",
    "\n",
    "$$ Q_\\mathrm{entrada} = 767 \\, \\mathrm{kJ} $$\n",
    "\n",
    "__Comentario:__ El signo positivo asegura que se transfire calor al sistema."
   ]
  },
  {
   "cell_type": "markdown",
   "metadata": {},
   "source": [
    "# Ejercicio 13 \n",
    "Un recipiente rígido y adiabático está conectado a través de una válvula\n",
    "con un conjunto cilindro-embolo también adiabáticos. Inicialmente, la válvula\n",
    "está cerrada y el cilindro vacío. Se abre la válvula alcanzando el sistema un\n",
    "nuevo estado de equilibrio. Se pide:\n",
    "\n",
    "1. Temperatura final\n",
    "2. Trabajo\n",
    "\n",
    "![13.png](img/13.png)"
   ]
  },
  {
   "cell_type": "markdown",
   "metadata": {},
   "source": [
    "## Solución\n",
    "$$\\mathrm{Datos:} \\left\\{\n",
    "\\begin{array}{l}\n",
    "m = 50 \\, \\mathrm{kg} \\\\\n",
    "T_1 = 320,15 \\, \\mathrm{K} \\\\\n",
    "P_1 = 8000 \\, \\mathrm{kPa} \\\\\n",
    "R = 0,287 \\, \\mathrm{kJ/(kg \\cdot K)}\n",
    "\\end{array}\n",
    "\\right.\n",
    "\\quad \\Rightarrow \\quad\n",
    "\\begin{array}{l}\n",
    "P_1 V_R = m R T_1 \\\\\n",
    "\\mathrm{Vol. \\, recipiente:} \\\\\n",
    "\\displaystyle V_R = \\frac{m R T_1}{P_1} \n",
    "\\end{array}\n",
    "$$"
   ]
  },
  {
   "cell_type": "code",
   "execution_count": 46,
   "metadata": {},
   "outputs": [
    {
     "name": "stdout",
     "output_type": "stream",
     "text": [
      "T1 = 320.15 K (temperatura inicial)\n",
      "V1 = 0.574 m^3 (volumen del recipiente)\n"
     ]
    }
   ],
   "source": [
    "# Calculoamos el volumen del recipiente R\n",
    "# ---------------------------------------\n",
    "# Datos:\n",
    "m = 50 # Kg (masa)\n",
    "T1 = 47+273.15 # K (temperatura inicial)\n",
    "P1 = 80*100 # kPa (presión inicial)\n",
    "R = 0.287 # (aire) kJ/(Kg*K) Dato de tabla\n",
    "Vc = 0.2\n",
    "\n",
    "# Volumen del recipiente:\n",
    "V1 = m*R*T1/P1\n",
    "\n",
    "print('T1 = %s K (temperatura inicial)'%T1)\n",
    "print('V1 = %s m^3 (volumen del recipiente)'%round(V1,3))"
   ]
  },
  {
   "cell_type": "markdown",
   "metadata": {},
   "source": [
    "--------------------\n",
    "Para gases ideales $u$, $h$, $c_v$ y $c_p$ son funciones sólo de la temperatura. El $\\Delta u$ y $\\Delta h$ de gases ideales se expresa como\n",
    "\n",
    "$$ \\Delta u = u_2 -u_1 = \\int_1^2 c_v (T) \\; dT \\approx c_{v,prom} (T_2 - T_1) $$\n",
    "\n",
    "$$ \\Delta h = h_2 -h_1 = \\int_1^2 c_p (T) \\; dT \\approx c_{p,prom} (T_2 - T_1) $$\n",
    "\n",
    "Para gases ideales, $c_v$ y $c_p$ se relacionan mediante\n",
    "\n",
    "$$ c_p = c_v + R $$\n",
    "\n",
    "---------------------\n",
    "$$\\left\\{\n",
    "\\begin{array}{l}\n",
    "Q = \\Delta U + W_b \\\\\n",
    "Q = 0 \\\\\n",
    "\\Delta U = m \\, c_v \\, (T_2 - T_1) \\\\\n",
    "W_b = P_{pist} (V_2 - V_1) \\\\\n",
    "PV = mRT\n",
    "\\end{array}\n",
    "\\right.\n",
    "\\quad \\rightarrow \\quad\n",
    "\\begin{array}{l}\n",
    "0 = \\Delta U + W_b \\\\\n",
    "0 = m \\, c_v \\, (T_2 - T_1) + P_{pist} (V_2 - V_1) \\\\\n",
    "0 = m \\, c_v \\, (T_2 - T_1) + m R T_2 -P_{pist} V_1 \\\\\n",
    "\\displaystyle \\mathrm{Entonces:} \\quad T_2 = \\frac{T_1 \\, c_v \\, m + P_{pist} V_1}{(c_v+R)m}\n",
    "\\end{array}\n",
    "$$"
   ]
  },
  {
   "cell_type": "code",
   "execution_count": 47,
   "metadata": {},
   "outputs": [
    {
     "name": "stdout",
     "output_type": "stream",
     "text": [
      "Temperatura final en (Kelvin):\n",
      "T2 = 285.85 K\n"
     ]
    }
   ],
   "source": [
    "Pp = 50*100 # kPa presión del pistón\n",
    "cv = 0.7176 # (aire) kJ/(Kg*K)\n",
    "\n",
    "T2 = (T1*cv*m + Pp*V1)/((cv + R)*m)\n",
    "\n",
    "print('Temperatura final en (Kelvin):')\n",
    "print('T2 = %s K'%round(T2,2))"
   ]
  },
  {
   "cell_type": "markdown",
   "metadata": {},
   "source": [
    "$$ V_2 = \\frac{m R T_2}{P_p} $$"
   ]
  },
  {
   "cell_type": "code",
   "execution_count": 48,
   "metadata": {},
   "outputs": [
    {
     "name": "stdout",
     "output_type": "stream",
     "text": [
      "V2 = 0.82 m^3\n",
      "Vf = 0.774 m^3\n"
     ]
    }
   ],
   "source": [
    "V2 = (m*R*T2)/Pp\n",
    "Vf = Vc + V1 # volumen máximo disponible\n",
    "\n",
    "print('V2 = %s m^3'%round(V2,3))\n",
    "print('Vf = %s m^3'%round(Vf,3))"
   ]
  },
  {
   "cell_type": "markdown",
   "metadata": {},
   "source": [
    "El volumen $V_2$ excede el disponible $V_1 + V_c$, entonces el trabajo por variación de volúmen es el recorrido completo del cilindro."
   ]
  },
  {
   "cell_type": "code",
   "execution_count": 49,
   "metadata": {},
   "outputs": [
    {
     "name": "stdout",
     "output_type": "stream",
     "text": [
      "Wb = 1000.0 kJ\n"
     ]
    }
   ],
   "source": [
    "# Trabajo por variación de volumen\n",
    "# o trabajo de frontera\n",
    "Wb = Pp*Vc\n",
    "\n",
    "print('Wb = %s kJ'%round(Wb,2))"
   ]
  },
  {
   "cell_type": "markdown",
   "metadata": {},
   "source": [
    "$$ Q = \\Delta U + W_b $$\n",
    "\n",
    "$$ 0 = m \\, c_v \\, (T_f - T_1) + W_b $$\n",
    "\n",
    "$$ T_f = T_1 - \\frac{W_b}{m \\, c_v} $$"
   ]
  },
  {
   "cell_type": "code",
   "execution_count": 50,
   "metadata": {},
   "outputs": [
    {
     "name": "stdout",
     "output_type": "stream",
     "text": [
      "Tf = 292.28 K\n"
     ]
    }
   ],
   "source": [
    "# Temperatura final\n",
    "Tf = T1 - Wb/(m*cv)\n",
    "\n",
    "print('Tf = %s K'%round(Tf,2))"
   ]
  },
  {
   "cell_type": "code",
   "execution_count": 51,
   "metadata": {},
   "outputs": [],
   "source": [
    "%reset -s -f"
   ]
  },
  {
   "cell_type": "markdown",
   "metadata": {},
   "source": [
    "# Ejercicio 14\n",
    "El recipiente R, rígido y diatérmico, se encuentra conectado a un cilindro\n",
    "émbolo adiabático, a través de una válvula inicialmente cerrada. Se abre la\n",
    "válvula y luego de un tiempo se alcanza un nuevo equilibrio.\n",
    "\n",
    "Determinar:\n",
    "1. Energía térmica intercambia con el medio (Q)\n",
    "2. Energía mecánica intercambiada con el medio (W)\n",
    "3. Trabajo útil neto.\n",
    "![14.png](img/14.png)"
   ]
  },
  {
   "cell_type": "markdown",
   "metadata": {},
   "source": [
    "## Solución\n",
    "\n",
    "$$ Q = \\Delta U + W $$\n",
    "\n",
    "$$ \\Delta U = m \\, c_v \\, \\Delta T $$\n",
    "\n",
    "$$ W = W_{\\Delta V} = P_f(V_f-V_i) = m R T_f - P_f V_i $$\n",
    "\n",
    "$$ P_f V_f = m R T_f $$"
   ]
  },
  {
   "cell_type": "markdown",
   "metadata": {},
   "source": [
    "------------------------------------------\n",
    "$$ V_{iA} = m_C R \\frac{T_{iC}}{P_f} $$\n",
    "\n",
    "$$ V_{Ti} = V_{iC} + V_A $$"
   ]
  },
  {
   "cell_type": "code",
   "execution_count": 52,
   "metadata": {},
   "outputs": [
    {
     "name": "stdout",
     "output_type": "stream",
     "text": [
      "ViC = 0.4911 m^3 (Volumen inicial en C)\n",
      "VTi = 1.0911 m^3 (Volumen total inicial)\n"
     ]
    }
   ],
   "source": [
    "# Datos:\n",
    "TiC = 227 + 273 # K\n",
    "R = 0.1889 # (CO2) kJ/(Kg*K) Dato de tabla\n",
    "cv = 0.6552 # (CO2) kJ/(Kg*K) Dato de tabla\n",
    "mC = 2.6 # K\n",
    "Pf = 5*100 # kPa\n",
    "VA = 0.6 # m^3\n",
    "\n",
    "# Calculo del volumen inicial:\n",
    "ViC = mC*R*TiC/Pf\n",
    "VTi = ViC + VA\n",
    "\n",
    "print('ViC = %s m^3 (Volumen inicial en C)'%round(ViC,4))\n",
    "print('VTi = %s m^3 (Volumen total inicial)'%round(VTi,4)) "
   ]
  },
  {
   "cell_type": "markdown",
   "metadata": {},
   "source": [
    "$$ m_A = \\frac{P_a V_A}{R T_f} $$"
   ]
  },
  {
   "cell_type": "code",
   "execution_count": 53,
   "metadata": {},
   "outputs": [
    {
     "name": "stdout",
     "output_type": "stream",
     "text": [
      "mA = 8.4701 kg\n"
     ]
    }
   ],
   "source": [
    "# Calculo la masa en A\n",
    "Tf = 300 # K\n",
    "Pa = 8*100 # kPa\n",
    "\n",
    "mA = (Pa*VA)/(R*Tf)\n",
    "\n",
    "print('mA = %s kg'%round(mA,4))"
   ]
  },
  {
   "cell_type": "markdown",
   "metadata": {},
   "source": [
    "$$ V_{Tf} = \\frac{m_T R T_f}{P_f} $$"
   ]
  },
  {
   "cell_type": "code",
   "execution_count": 54,
   "metadata": {},
   "outputs": [
    {
     "name": "stdout",
     "output_type": "stream",
     "text": [
      "VTf = 1.2547 m^3 (Volumen total final)\n"
     ]
    }
   ],
   "source": [
    "mT = mA + mC # mT: masa total en Kg\n",
    "Pf = 5*100 # kPa\n",
    "\n",
    "VTf = (mT*R*Tf)/Pf\n",
    "\n",
    "print('VTf = %s m^3 (Volumen total final)'%round(VTf,4))"
   ]
  },
  {
   "cell_type": "markdown",
   "metadata": {},
   "source": [
    "$$ \\Delta V = V_{Tf} - V_{Ti} $$"
   ]
  },
  {
   "cell_type": "code",
   "execution_count": 55,
   "metadata": {},
   "outputs": [
    {
     "name": "stdout",
     "output_type": "stream",
     "text": [
      "DV = 0.1635 m^3 (Variación de volumen)\n"
     ]
    }
   ],
   "source": [
    "# DV: Variación de volumen\n",
    "DV = VTf - VTi\n",
    "\n",
    "print('DV = %s m^3 (Variación de volumen)'%round(DV,4))"
   ]
  },
  {
   "cell_type": "markdown",
   "metadata": {},
   "source": [
    "$$ \\Delta U = m_C c_v (T_f - T_{iC}) $$"
   ]
  },
  {
   "cell_type": "code",
   "execution_count": 56,
   "metadata": {},
   "outputs": [
    {
     "name": "stdout",
     "output_type": "stream",
     "text": [
      "DU = -340.704 kJ\n"
     ]
    }
   ],
   "source": [
    "# Variación de energía interna\n",
    "DU = mC * cv * (Tf - TiC)\n",
    "\n",
    "print('DU = %s kJ'%round(DU,4))"
   ]
  },
  {
   "cell_type": "markdown",
   "metadata": {},
   "source": [
    "### item 2\n",
    "Energía mecánica intercambiada con el medio (W)"
   ]
  },
  {
   "cell_type": "markdown",
   "metadata": {},
   "source": [
    "$$ W_{\\Delta V} = P_f \\Delta V $$"
   ]
  },
  {
   "cell_type": "code",
   "execution_count": 57,
   "metadata": {},
   "outputs": [
    {
     "name": "stdout",
     "output_type": "stream",
     "text": [
      "Wdv = 81.772 kJ\n"
     ]
    }
   ],
   "source": [
    "# Wdv: Trabajo por variación de volumen\n",
    "Wdv = Pf * DV\n",
    "\n",
    "# energía mecánica intercambiada con el medio\n",
    "print('Wdv = %s kJ'%round(Wdv,4)) "
   ]
  },
  {
   "cell_type": "markdown",
   "metadata": {},
   "source": [
    "### item 1\n",
    "Energía térmica intercambia con el medio (Q)"
   ]
  },
  {
   "cell_type": "markdown",
   "metadata": {},
   "source": [
    "$$ Q = \\Delta U + W_{\\Delta V} $$"
   ]
  },
  {
   "cell_type": "code",
   "execution_count": 58,
   "metadata": {},
   "outputs": [
    {
     "name": "stdout",
     "output_type": "stream",
     "text": [
      "Q = -258.932 kJ\n"
     ]
    }
   ],
   "source": [
    "# Q: Intercambio de calor con el medio\n",
    "Q = DU + Wdv\n",
    "\n",
    "print('Q = %s kJ'%round(Q,4))"
   ]
  },
  {
   "cell_type": "markdown",
   "metadata": {},
   "source": [
    "### item 3\n",
    "Trabajo útil neto."
   ]
  },
  {
   "cell_type": "markdown",
   "metadata": {},
   "source": [
    "$$ W_{net} = (P_f - P_0) \\Delta V $$"
   ]
  },
  {
   "cell_type": "code",
   "execution_count": 59,
   "metadata": {},
   "outputs": [
    {
     "name": "stdout",
     "output_type": "stream",
     "text": [
      "Wnet = 65.4176 kJ\n"
     ]
    }
   ],
   "source": [
    "# Wnet: Trabajo útil neto\n",
    "Po = 1*100 # kPa\n",
    "\n",
    "Wnet = (Pf-Po) * DV\n",
    "\n",
    "print('Wnet = %s kJ'%round(Wnet,4))"
   ]
  },
  {
   "cell_type": "code",
   "execution_count": 60,
   "metadata": {},
   "outputs": [],
   "source": [
    "%reset -s -f"
   ]
  },
  {
   "cell_type": "markdown",
   "metadata": {},
   "source": [
    "# Ejercicio 14.1\n",
    "Se abren simultáneamente las 3 válvulas y se alcanza un estado de equilibrio. Determinar\n",
    "1. Presión final\n",
    "2. Temperatura final\n",
    "\n",
    "![14.1.png](img/14.1.png)"
   ]
  },
  {
   "cell_type": "markdown",
   "metadata": {},
   "source": [
    "### Solución"
   ]
  },
  {
   "cell_type": "code",
   "execution_count": 61,
   "metadata": {},
   "outputs": [],
   "source": [
    "# Datos\n",
    "PA1 = 100*100 # kPa\n",
    "TA1 = 500 # K\n",
    "VA = 500/1000 # m^3\n",
    "PB = 10*100 # kPa (presión pistón B)\n",
    "PC1 = 15*100 # kPa\n",
    "TC1 = 360 # K\n",
    "VC1 = 300/1000 # m^3\n",
    "PD1 = 20*100 # kPa\n",
    "TD1 = 300 # K\n",
    "VD1 = 200/1000 # m^3\n",
    "R = 0.287 # kJ/(kg·K) (aire)\n",
    "cv = 0.7176 # (aire) kJ/(Kg*K)"
   ]
  },
  {
   "cell_type": "markdown",
   "metadata": {},
   "source": [
    "Cálculo de masas:\n",
    "$$ m_A = \\frac{P_{A1}V_A}{R T_{A1}} \\quad ; \\quad m_C = \\frac{P_{C1}V_C}{R T_{C1}} \\quad ; \\quad m_D = \\frac{P_{D1}V_D}{R T_{D1}} $$"
   ]
  },
  {
   "cell_type": "code",
   "execution_count": 62,
   "metadata": {},
   "outputs": [],
   "source": [
    "# Cálculo de la masa A\n",
    "mA = (PA1*VA)/(R*TA1)\n",
    "# Cálculo de la masa C\n",
    "mC = (PC1*VC1)/(R*TC1)\n",
    "# Cálculo de la masa D\n",
    "mD = (PD1*VD1)/(R*TD1)"
   ]
  },
  {
   "cell_type": "code",
   "execution_count": 63,
   "metadata": {},
   "outputs": [
    {
     "name": "stdout",
     "output_type": "stream",
     "text": [
      "mA = 34.8432 kg\n",
      "mC = 4.3554 kg\n",
      "mD = 4.6458 kg\n"
     ]
    }
   ],
   "source": [
    "# Imprime masa A, C y D\n",
    "print('mA = %s kg'%round(mA,4))\n",
    "print('mC = %s kg'%round(mC,4))\n",
    "print('mD = %s kg'%round(mD,4))"
   ]
  },
  {
   "cell_type": "code",
   "execution_count": 64,
   "metadata": {},
   "outputs": [],
   "source": [
    "# Importa bilioteca sympy\n",
    "import sympy as sp"
   ]
  },
  {
   "cell_type": "markdown",
   "metadata": {},
   "source": [
    "$$ Q = \\Delta U + W_{\\Delta V} $$\n",
    "\n",
    "$$\\left\\{\n",
    "\\begin{array}{l}\n",
    "Q = 0 \\\\\n",
    "m_T = m_A + m_C + m_D \\\\\n",
    "\\Delta U = m_A \\, c_v \\, (T_f - T_{A1}) + m_C \\, c_v \\, (T_f - T_{C1}) + m_D \\, c_v \\, (T_f - T_{D1}) \\\\\n",
    "W_{\\Delta V} = P_B (V_f - V_i) = m_T \\, R \\, T_f - P_B \\, (V_A + V_{C1} + V_{D1})\n",
    "\\end{array}\n",
    "\\right.\n",
    "$$"
   ]
  },
  {
   "cell_type": "code",
   "execution_count": 65,
   "metadata": {},
   "outputs": [],
   "source": [
    "# Usando sympy para resolver la ecuación\n",
    "# Declara variable Tf\n",
    "Tf = sp.symbols('Tf')\n",
    "# Calor\n",
    "Q = 0\n",
    "# Masa total\n",
    "mT = mA + mC + mD\n",
    "# Variación de energía interna en A\n",
    "DUA = mA*cv*(Tf - TA1)\n",
    "# Variación de energía interna en C\n",
    "DUC = mC*cv*(Tf - TC1)\n",
    "# Variación de energía interna en D\n",
    "DUD = mD*cv*(Tf - TD1)\n",
    "# Variación de energía interna\n",
    "DU = DUA + DUC + DUD\n",
    "# Trabajo por variación de volumen\n",
    "Wb = mT*R*Tf - PB*(VA + VC1 + VD1)\n",
    "# 1er. principio de la termodinámica\n",
    "eq1 = sp.Eq(Q , DU + Wb)\n",
    "# Despeja el valor de Tf\n",
    "Sol = sp.solve(eq1,Tf)\n",
    "Tf = Sol[0]"
   ]
  },
  {
   "cell_type": "code",
   "execution_count": 66,
   "metadata": {},
   "outputs": [
    {
     "name": "stdout",
     "output_type": "stream",
     "text": [
      "Tf = 354.79 K\n"
     ]
    }
   ],
   "source": [
    "# Imprime el valor de Tf\n",
    "print('Tf = %s K'%round(Tf,2))"
   ]
  },
  {
   "cell_type": "markdown",
   "metadata": {},
   "source": [
    "Despejando $T_f$:\n",
    "\n",
    "$$ T_f = \\frac{T_{D1} \\, c_v \\, m_D + T_{C1} \\, c_v \\, m_C + T_{A1} \\, c_v \\, m_A + P_B V_{D1} + P_B V_{C1} + P_B V_A }{R \\, m_A + (c_v + R) \\, m_D + (c_v + R) \\, m_C + c_v m_A} $$"
   ]
  },
  {
   "cell_type": "code",
   "execution_count": 67,
   "metadata": {},
   "outputs": [],
   "source": [
    "# Sin usar sympy (ecuación despejada con gnu/maxima)\n",
    "Tf = (TD1*cv*mD + TC1*cv*mC + TA1*cv*mA + PB*VD1 + PB*VC1 + PB*VA)/(R*mA + (cv + R)*mD + (cv + R)*mC + cv*mA)"
   ]
  },
  {
   "cell_type": "code",
   "execution_count": 68,
   "metadata": {},
   "outputs": [
    {
     "name": "stdout",
     "output_type": "stream",
     "text": [
      "Tf = 354.79 K\n"
     ]
    }
   ],
   "source": [
    "# Imprime el valor de Tf\n",
    "print('Tf = %s K'%round(Tf,2))"
   ]
  },
  {
   "cell_type": "code",
   "execution_count": 69,
   "metadata": {},
   "outputs": [],
   "source": [
    "%reset -s -f"
   ]
  },
  {
   "cell_type": "markdown",
   "metadata": {},
   "source": [
    "# Ejercicio 14.2\n",
    "El recipiente R, rígido y adiabático, se encuentra conectado a un cilindro émbolo diatermico, a través de una válvula inicialmente cerrada. Se abre la válvula y luego de un tiempo se alcanza un nuevo equilibrio.\n",
    "\n",
    "Determinar:\n",
    "1. Energía térmica intercambia con el medio (Q)\n",
    "2. Energía mecánica intercambiada con el medio (W)\n",
    "3. Trabajo útil neto.\n",
    "\n",
    "![14.png](img/14.2.png)"
   ]
  },
  {
   "cell_type": "markdown",
   "metadata": {},
   "source": [
    "## Solución\n",
    "$$ PV = mRT $$\n",
    "\n",
    "Masa inicial en el recipiente A\n",
    "$$ m_{iA} = \\frac{P_{iA} V_A}{R T_{iA}} $$"
   ]
  },
  {
   "cell_type": "code",
   "execution_count": 70,
   "metadata": {},
   "outputs": [
    {
     "name": "stdout",
     "output_type": "stream",
     "text": [
      "m_iA = 5.081 kg\n"
     ]
    }
   ],
   "source": [
    "# Cálculo de masa en el recipiente A\n",
    "# antes de abrir la válvula\n",
    "\n",
    "# Datos\n",
    "P_iA = 800 # kPa\n",
    "V_A = 0.6 # m^3\n",
    "R = 0.1889 # kJ/(kg·K)\n",
    "T_iA = 227 + 273.15 # K\n",
    "\n",
    "m_iA = (P_iA*V_A)/(R*T_iA)\n",
    "\n",
    "print('m_iA = %s kg'%round(m_iA,3))"
   ]
  },
  {
   "cell_type": "markdown",
   "metadata": {},
   "source": [
    "Energía interna inicial en el recipiente A\n",
    "$$ U_{iA} = m_{iA} \\, c_v \\, T_{iA} $$"
   ]
  },
  {
   "cell_type": "code",
   "execution_count": 71,
   "metadata": {},
   "outputs": [
    {
     "name": "stdout",
     "output_type": "stream",
     "text": [
      "U_iA = 1664.88 kJ/kg\n"
     ]
    }
   ],
   "source": [
    "# Energía interna en A\n",
    "# antes de abrir la válvula\n",
    "\n",
    "# Datos\n",
    "cv = 0.6552 # kJ/(kg·K)\n",
    "T_f = 300 # K\n",
    "\n",
    "U_iA = m_iA*cv*T_iA\n",
    "\n",
    "print('U_iA = %s kJ/kg'%round(U_iA,2))"
   ]
  },
  {
   "cell_type": "markdown",
   "metadata": {},
   "source": [
    "Volumen inicial en el cilindro\n",
    "$$ V_{ic} = \\frac{m_{ic} R T_0}{P_p} $$"
   ]
  },
  {
   "cell_type": "code",
   "execution_count": 72,
   "metadata": {},
   "outputs": [
    {
     "name": "stdout",
     "output_type": "stream",
     "text": [
      "V_ic = 0.295 m^3\n"
     ]
    }
   ],
   "source": [
    "# Cálculo del volumen del cilindro\n",
    "# antes de abrir la válvula\n",
    "\n",
    "# Datos:\n",
    "Pp = 500 # kPa\n",
    "m_ic = 2.6 # kg\n",
    "To = 300 # K\n",
    "\n",
    "V_ic = (m_ic*R*To)/Pp\n",
    "\n",
    "print('V_ic = %s m^3'%round(V_ic,3))"
   ]
  },
  {
   "cell_type": "markdown",
   "metadata": {},
   "source": [
    "Energía interna inicial en el cilindro\n",
    "$$ U_{ic} = m_{ic} \\, c_v \\, T_0 $$"
   ]
  },
  {
   "cell_type": "code",
   "execution_count": 73,
   "metadata": {},
   "outputs": [
    {
     "name": "stdout",
     "output_type": "stream",
     "text": [
      "U_ic = 511.06 kJ/kg\n"
     ]
    }
   ],
   "source": [
    "# Cálculo de energía interna en el cilindro\n",
    "# antes de abrir la válvula\n",
    "\n",
    "U_ic = m_ic*cv*To\n",
    "\n",
    "print('U_ic = %s kJ/kg'%round(U_ic,2))"
   ]
  },
  {
   "cell_type": "markdown",
   "metadata": {},
   "source": [
    "Masa total\n",
    "$$ m_T = m_{iA} + m_{ic} $$\n",
    "Volumen final del cilindro depués de abrir la válvula\n",
    "$$ v_{fc} = \\frac{m_T R T_f}{P_p} - V_A $$"
   ]
  },
  {
   "cell_type": "code",
   "execution_count": 74,
   "metadata": {},
   "outputs": [
    {
     "name": "stdout",
     "output_type": "stream",
     "text": [
      "V_fc = 0.271 m^3\n"
     ]
    }
   ],
   "source": [
    "# Cálculo de volumen final del cilindro\n",
    "# después de abrir la válvula\n",
    "\n",
    "m_T = m_iA + m_ic\n",
    "\n",
    "V_fc = (m_T*R*T_f)/Pp - V_A\n",
    "\n",
    "print('V_fc = %s m^3'%round(V_fc,3))"
   ]
  },
  {
   "cell_type": "markdown",
   "metadata": {},
   "source": [
    "Energía interna final\n",
    "$$ U_f = m_T c_v T_f $$"
   ]
  },
  {
   "cell_type": "code",
   "execution_count": 75,
   "metadata": {},
   "outputs": [
    {
     "name": "stdout",
     "output_type": "stream",
     "text": [
      "U_f = 1509.68 kJ/kg\n"
     ]
    }
   ],
   "source": [
    "# Energía interna final\n",
    "# después de abrir la válvula\n",
    "\n",
    "U_f = m_T*cv*T_f\n",
    "\n",
    "print('U_f = %s kJ/kg'%round(U_f,2))"
   ]
  },
  {
   "cell_type": "markdown",
   "metadata": {},
   "source": [
    "Trabajo por variación de volumen\n",
    "\n",
    "$$ W_{\\Delta V} = P_p \\, (V_{fc} - V_{ic}) $$"
   ]
  },
  {
   "cell_type": "code",
   "execution_count": 76,
   "metadata": {},
   "outputs": [
    {
     "name": "stdout",
     "output_type": "stream",
     "text": [
      "W_b = -12.09 kJ\n"
     ]
    }
   ],
   "source": [
    "# Trabajo por variación de volumen\n",
    "\n",
    "W_b = Pp*(V_fc - V_ic)\n",
    "\n",
    "print('W_b = %s kJ'%round(W_b,2))"
   ]
  },
  {
   "cell_type": "markdown",
   "metadata": {},
   "source": [
    "Trabajo útil neto\n",
    "$$ W_{neto} = W_{\\Delta V} - P_0 \\, (V_{fc} - V_{ic}) $$"
   ]
  },
  {
   "cell_type": "code",
   "execution_count": 77,
   "metadata": {},
   "outputs": [
    {
     "name": "stdout",
     "output_type": "stream",
     "text": [
      "W_neto = -9.67 kJ\n"
     ]
    }
   ],
   "source": [
    "# Trabajo útil neto\n",
    "\n",
    "Po = 100 # kPa\n",
    "\n",
    "W_neto = W_b - Po*(V_fc - V_ic)\n",
    "\n",
    "print('W_neto = %s kJ'%round(W_neto,2))"
   ]
  },
  {
   "cell_type": "markdown",
   "metadata": {},
   "source": [
    "Variación de energía interna\n",
    "$$ \\Delta U = U_f - U_{iA} - U_{ic} $$\n",
    "Calor intercambiado con el medio\n",
    "$$ Q = \\Delta U + W_{\\Delta V} $$"
   ]
  },
  {
   "cell_type": "code",
   "execution_count": 78,
   "metadata": {},
   "outputs": [
    {
     "name": "stdout",
     "output_type": "stream",
     "text": [
      "Q = -654.17 kJ/kg\n"
     ]
    }
   ],
   "source": [
    "# Variación de energía interna\n",
    "DU = U_f - U_iA - U_ic\n",
    "\n",
    "# Calor intercambiado con el medio\n",
    "Q = DU + (-W_b)\n",
    "\n",
    "print('Q = %s kJ/kg'%round(Q,2))"
   ]
  },
  {
   "cell_type": "code",
   "execution_count": 79,
   "metadata": {},
   "outputs": [],
   "source": [
    "%reset -s -f"
   ]
  },
  {
   "cell_type": "markdown",
   "metadata": {},
   "source": [
    "   ---------------------\n",
    "   [<-Previous ](https://nbviewer.jupyter.org/github/daniel-lorenzo/Termodinamica/blob/master/p01.ipynb) - \n",
    "   [Index](https://github.com/daniel-lorenzo/Termodinamica/blob/master/Readme.md) - \n",
    "   [Next->](https://nbviewer.jupyter.org/github/daniel-lorenzo/Termodinamica/blob/master/p03.ipynb)"
   ]
  },
  {
   "cell_type": "raw",
   "metadata": {},
   "source": [
    "<script>\n",
    "  $(document).ready(function(){\n",
    "    $('div.prompt').hide();\n",
    "    $('div.back-to-top').hide();\n",
    "    $('nav#menubar').hide();\n",
    "    $('.breadcrumb').hide();\n",
    "    $('.hidden-print').hide();\n",
    "  });\n",
    "</script>\n",
    "\n",
    "<footer id=\"attribution\" style=\"float:right; color:#999; background:#fff;\">\n",
    "Created with Jupyter, delivered by Fastly, rendered by Rackspace.\n",
    "</footer>"
   ]
  }
 ],
 "metadata": {
  "kernelspec": {
   "display_name": "Python 3",
   "language": "python",
   "name": "python3"
  },
  "language_info": {
   "codemirror_mode": {
    "name": "ipython",
    "version": 3
   },
   "file_extension": ".py",
   "mimetype": "text/x-python",
   "name": "python",
   "nbconvert_exporter": "python",
   "pygments_lexer": "ipython3",
   "version": "3.7.3"
  }
 },
 "nbformat": 4,
 "nbformat_minor": 2
}
