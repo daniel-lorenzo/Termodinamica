{
 "cells": [
  {
   "cell_type": "markdown",
   "metadata": {},
   "source": [
    "   # Clase práctica 2 - Termodinámica\n",
    "   __UNLZ - FI -- Fecha: 15/04/2019 -- Jupyter Notebook + Python 3__\n",
    "   \n",
    "   __Alumno: Lorenzo, Daniel Antonio__  \n",
    "   [<-Previous ](https://nbviewer.jupyter.org/github/daniel-lorenzo/Termodinamica/blob/master/p01.ipynb)\n",
    "   [| Next->](https://nbviewer.jupyter.org/github/daniel-lorenzo/Termodinamica/blob/master/p03.ipynb)"
   ]
  },
  {
   "cell_type": "markdown",
   "metadata": {},
   "source": [
    "## Ejercicio 9 \n",
    "\n",
    "Se cierra el circuito un lapso de tiempo y se \n",
    "verifica que el agua modifica su temperatura\n",
    "$t_f>t_i$ y la resistencia posee una capacidad\n",
    "calorífica.\n",
    "\n",
    "![09.png](img/09.png)\n",
    "\n",
    "1. Sist. A\n",
    "2. Sist. (A+R)\n",
    "3. Sist. (A+R+B)\n",
    "4. Sist. B\n",
    "5. Sist. (A+R+B+E)\n",
    "\n",
    "## Solución\n",
    "$$ U = m \\, c_v \\, \\Delta t  \\qquad ; \\qquad  Q = \\Delta U + W $$\n",
    "\n",
    "| Sistema\t |\tQ |\tΔU |\tW |\n",
    "|------------|----|----|--------|\n",
    "|A\t       |\t(-)     |\t(+) |\t0   |\n",
    "|A+R\t   |\t(-)     |\t(+) |\t(-) |\n",
    "|A+R+B\t   |\t(+)     |    .  |    .  |\n",
    "|B         |\t(+)     |\t(+) |    .  |\n",
    "|A+R+B+E   |     .      |    .  |   .   |"
   ]
  },
  {
   "cell_type": "markdown",
   "metadata": {},
   "source": [
    "## Ejercicio 10\n",
    "Un sistema cerrado se somete a un ciclo-combinado de 2 procesos. En el \n",
    "primero se transfieren 60kJ de energía térmica, y éste entrega al medio un\n",
    "trabajo de 80kJ. En el segundo, el medio exterior entrega al sistema un \n",
    "trabajo de 45 kJ. Se pide\n",
    "\n",
    "1. Determinar el intercambio de calor durante el segundo proceso.\n",
    "2. Determinar el trabajo y el calor intercambiado durante el ciclo.\n",
    "\n",
    "![10.png](img/10.png)\n",
    "## Solución"
   ]
  },
  {
   "cell_type": "markdown",
   "metadata": {},
   "source": [
    "1) \n",
    "$$ Q_1 = \\Delta U_1 + W_1 $$\n",
    "Entonces:\n",
    "$$ \\Delta U_1 = Q_1 - W_1 $$\n",
    "\n",
    "$$ \\Delta U_1 = 60 \\, kJ - 80 \\, kJ = -20 \\, kJ $$"
   ]
  },
  {
   "cell_type": "markdown",
   "metadata": {},
   "source": [
    "$$ Q_2 = -(\\Delta U_1 + W_2)  $$\n",
    "\n",
    "$$ Q_2 = -(-20 \\, kJ + 45 \\, kJ) = -25 \\, kJ $$"
   ]
  },
  {
   "cell_type": "markdown",
   "metadata": {},
   "source": [
    "2) \n",
    "$$ W = W_1 + W_2 $$\n",
    "\n",
    "$$ W = 80 \\, kJ + (-45 \\, kJ) = 35 \\, kJ$$"
   ]
  },
  {
   "cell_type": "markdown",
   "metadata": {},
   "source": [
    "$$ Q = Q_1 + Q_2 $$\n",
    "\n",
    "$$ Q = 60 \\, kJ + (-25 \\, kJ) = 35 \\, kJ $$"
   ]
  },
  {
   "cell_type": "code",
   "execution_count": 4,
   "metadata": {},
   "outputs": [
    {
     "name": "stdout",
     "output_type": "stream",
     "text": [
      "Resultados:\n",
      "Punto 1\n",
      "DU1 = -20 kJ\n",
      "Q2 = -25 kJ\n",
      "Punto 2\n",
      "W = 35 kJ\n",
      "Q = 35 kJ\n"
     ]
    }
   ],
   "source": [
    "# Punto 1:\n",
    "Q1 = 60 # kJ (dato)\n",
    "W1 = 80 # kJ (dato)\n",
    "# Varición de energía interna\n",
    "DU1 = Q1 - W1 # kJ\n",
    "\n",
    "W2 = 45 # kJ (dato)\n",
    "# Intercambio de calor durante el segundo proceso\n",
    "Q2 = -(DU1+W2) # kJ\n",
    "#................................................\n",
    "# Punto 2:\n",
    "W1 = 80 # kJ (dato)\n",
    "W2 = -45 # kJ (dato)\n",
    "# Trabajo intercambiado durante el ciclo\n",
    "W = W1 + W2\n",
    "\n",
    "Q1 = 60 # kJ (dato)\n",
    "# Calor intercambiado durante el ciclo\n",
    "Q = Q1 + Q2 # kJ\n",
    "\n",
    "print('Resultados:')\n",
    "print('Punto 1')\n",
    "print('DU1 = %s kJ'%DU1)\n",
    "print('Q2 = %s kJ'%Q2) \n",
    "print('Punto 2')\n",
    "print('W = %s kJ'%W) \n",
    "print('Q = %s kJ'%Q)"
   ]
  },
  {
   "cell_type": "code",
   "execution_count": 5,
   "metadata": {},
   "outputs": [],
   "source": [
    "%reset -s -f"
   ]
  },
  {
   "cell_type": "markdown",
   "metadata": {},
   "source": [
    "## Ejercicio 11\n",
    "Si a través de los límites del sistema contenido en el conjunto cilindro-pistón se entrega\n",
    "un trabajo eléctrico (We) se 1000 kJ. Considerando ΔEc = ΔEp = 0\n",
    "Determinar\n",
    "\n",
    "1. Masa del aire\n",
    "2. $T_{final}$\n",
    "3. $W_{ΔV}$\n",
    "\n",
    "![11.png](img/11.png)"
   ]
  },
  {
   "cell_type": "markdown",
   "metadata": {},
   "source": [
    "## Solución\n",
    "### 1. item \n",
    "$$ PV = mRT$$\n",
    "\n",
    "$$ \\Rightarrow \\qquad m = \\frac{PV}{RT} $$"
   ]
  },
  {
   "cell_type": "code",
   "execution_count": 1,
   "metadata": {},
   "outputs": [],
   "source": [
    "# Convertimos bar a kPa\n",
    "# 0,01 bar ___________ 1kPa\n",
    "# 10 bar   ____________ x\n",
    "\n",
    "P = 10*1/0.01 # kPa"
   ]
  },
  {
   "cell_type": "code",
   "execution_count": 2,
   "metadata": {},
   "outputs": [],
   "source": [
    "# Datos del problema:\n",
    "Vi = 0.3 # m^3\n",
    "R = 0.287 # kJ/(Kg*K) (R del aire dato de tabla)\n",
    "Ti = 27 + 273 # K"
   ]
  },
  {
   "cell_type": "markdown",
   "metadata": {},
   "source": [
    "$$ m = \\frac{P \\cdot V_i}{R \\cdot T_i} $$"
   ]
  },
  {
   "cell_type": "code",
   "execution_count": 3,
   "metadata": {},
   "outputs": [],
   "source": [
    "# Calculamos la masa con la ecuación de estado de los gases ideales\n",
    "m = (P*Vi)/(R*Ti) # Kg"
   ]
  },
  {
   "cell_type": "code",
   "execution_count": 4,
   "metadata": {},
   "outputs": [
    {
     "name": "stdout",
     "output_type": "stream",
     "text": [
      "Resultados:\n",
      "P = 1000.0 kPa\n",
      "m = 3.4843 kg\n"
     ]
    }
   ],
   "source": [
    "print('Resultados:')\n",
    "print('P = %s kPa'%round(P,2))\n",
    "print('m = %s kg'%round(m,4))"
   ]
  },
  {
   "cell_type": "markdown",
   "metadata": {},
   "source": [
    "### 2. item \n",
    "\n",
    "Primer principio de la termodinámica\n",
    "\n",
    "$$ Q = \\Delta U + W $$\n",
    "\n",
    "El intercambio de calor del sistema con el medio es cero porque el recipiente es adiabático  \n",
    "\n",
    "$$ Q = 0$$\n",
    "\n",
    "Variación de energía interna:\n",
    "\n",
    " $$ \\Delta U = m · c_p · \\Delta T $$ \n",
    "\n",
    "El trabajo total en este caso el la suma del trabajo eléctico y el trabajo de varición de volumen\n",
    "\n",
    "$$ W = W_E + W_{\\Delta V} $$\n",
    "\n",
    "El trabajo eléctrico $W_E$ se realiza sobre el sistema, entonces es negativo:\n",
    "\n",
    "$$ W_E = -1000 kJ $$ \n",
    "\n",
    "Trabajo de variaón de volumen:\n",
    "\n",
    "$$ W_{\\Delta V} = P (V_f-V_i) = PV_f - PV_i $$ \n",
    "\n",
    "Reemplazamos $PV_f$ en la ecuación anterior\n",
    "\n",
    "$$ \\qquad PV_f = mRT_f$$\n",
    "\n",
    "Entonces\n",
    "\n",
    "$$ \\Rightarrow W_{\\Delta V} = mRT_f - PV_i $$"
   ]
  },
  {
   "cell_type": "code",
   "execution_count": 6,
   "metadata": {},
   "outputs": [],
   "source": [
    "import sympy as sp"
   ]
  },
  {
   "cell_type": "markdown",
   "metadata": {},
   "source": [
    "$$ W_{\\Delta V} = m R T_f - P V_i $$"
   ]
  },
  {
   "cell_type": "code",
   "execution_count": 7,
   "metadata": {},
   "outputs": [],
   "source": [
    "Tf = sp.symbols('Tf') # define variable\n",
    "cp = 1.0047 # kJ/(Kg·K) (del aire) dato de tabla\n",
    "Q = 0 # intercambio de calor es cero, porque es adiabático el recipiente\n",
    "We = -1000     # kJ (trabajo eléctrico negativo porque se realiza sobre el sistema gas)\n",
    "\n",
    "# varición de energía interna del sistema\n",
    "DU = m*cp*(Tf - Ti) \n",
    "# trabajo variación de volumen\n",
    "Wdv = m*R*Tf - P*Vi "
   ]
  },
  {
   "cell_type": "markdown",
   "metadata": {},
   "source": [
    "$$ Q = \\Delta U + W_E + W_{\\Delta V} $$"
   ]
  },
  {
   "cell_type": "code",
   "execution_count": 8,
   "metadata": {},
   "outputs": [
    {
     "name": "stdout",
     "output_type": "stream",
     "text": [
      "Tf = 522.19 K\n"
     ]
    }
   ],
   "source": [
    "# Calculamos la temperatura final\n",
    "\n",
    "# (primer principio de la termodinámica)\n",
    "eq1 = sp.Eq(Q,DU + We + Wdv) # ecuación 1\n",
    "\n",
    "# resuelve la ecuación 1\n",
    "seq1=sp.solve(eq1,Tf) \n",
    "# aproximación numérica\n",
    "Tfinal = seq1[0] \n",
    "\n",
    "# temperatura en [K]\n",
    "print('Tf = %s K'%round(Tfinal,2)) "
   ]
  },
  {
   "cell_type": "markdown",
   "metadata": {},
   "source": [
    "### 3. item"
   ]
  },
  {
   "cell_type": "code",
   "execution_count": 9,
   "metadata": {},
   "outputs": [],
   "source": [
    "# trabajo de variación de volumen (kJ)\n",
    "# sustituimos Tfinal en Wdv (trabajo de variación de volumen)\n",
    "\n",
    "Wvol = Wdv.subs(Tf,Tfinal) "
   ]
  },
  {
   "cell_type": "code",
   "execution_count": 10,
   "metadata": {},
   "outputs": [],
   "source": [
    "# Variacion de volumen (m^3)\n",
    "DV = Wvol/P "
   ]
  },
  {
   "cell_type": "code",
   "execution_count": 11,
   "metadata": {},
   "outputs": [],
   "source": [
    "# Volumen final (m^3)\n",
    "Vf = DV + Vi "
   ]
  },
  {
   "cell_type": "code",
   "execution_count": 12,
   "metadata": {},
   "outputs": [
    {
     "name": "stdout",
     "output_type": "stream",
     "text": [
      "Resultados:\n",
      "Wdv = 222.19 kJ\n",
      "DV = 0.2222 m^3\n",
      "Vf = 0.5222 m^3\n"
     ]
    }
   ],
   "source": [
    "print('Resultados:')\n",
    "print('Wdv = %s kJ'%round(Wvol,2))\n",
    "print('DV = %s m^3'%round(DV,4))\n",
    "print('Vf = %s m^3'%round(Vf,4))"
   ]
  },
  {
   "cell_type": "code",
   "execution_count": 12,
   "metadata": {},
   "outputs": [],
   "source": [
    "%reset -s -f"
   ]
  },
  {
   "cell_type": "markdown",
   "metadata": {},
   "source": [
    "## Ejercicio 12\n",
    "Los recipientes rígidos y adiabáticos están interconectados por medio de\n",
    "válvulas inicialmente cerradas. Se abren hasta alcanzar un nuevo equilibrio.\n",
    "\n",
    "Determinar:\n",
    "1. Temperatura de equilibrio final\n",
    "2. Presión de equilibrio final\n",
    "\n",
    "![12.png](img/12.png)\n",
    "\n",
    "$$ \\begin{array}{l|r|r}\n",
    " & R \\; [kJ/(Kg \\cdot K)] & c_v  \\; [ kJ/(Kg \\cdot K)]\\\\\n",
    "\\hline\n",
    "A & O_2 = 0,2598  & O_2 = 0,6585  \\\\\n",
    "B & N_2 = 0,2968  & N_2 = 0,7431 \\\\\n",
    "C & Aire = 0,2870 & Aire = 0,7176\n",
    "\\end{array}   $$\n",
    "## Solución"
   ]
  },
  {
   "cell_type": "code",
   "execution_count": 17,
   "metadata": {},
   "outputs": [],
   "source": [
    "import sympy as sp"
   ]
  },
  {
   "cell_type": "markdown",
   "metadata": {},
   "source": [
    "$$ P_{iA} V_A = m_A R_A T_{iA} $$"
   ]
  },
  {
   "cell_type": "code",
   "execution_count": 19,
   "metadata": {},
   "outputs": [
    {
     "name": "stdout",
     "output_type": "stream",
     "text": [
      "mA = 16.4962 Kg\n"
     ]
    }
   ],
   "source": [
    "# Calculamos la masa de gas en A (oxígeno)\n",
    "mA = sp.symbols('mA')\n",
    "# Datos\n",
    "VA = 5 # m^3\n",
    "TiA = 77+273 # K\n",
    "PiA = 3*100 # kPa\n",
    "RA = 0.2598 # kJ/(Kg*K) Dato de tabla\n",
    "\n",
    "# Ecuación de los gases ideales\n",
    "eqA = sp.Eq((PiA)*(VA),(mA)*(RA)*(TiA))\n",
    "seqA = sp.solve(eqA,mA)\n",
    "mA = seqA[0]\n",
    "\n",
    "print('mA = %s Kg'%round(mA,4))"
   ]
  },
  {
   "cell_type": "markdown",
   "metadata": {},
   "source": [
    "$$ P_{iB} V_B = m_B R_B T_{iB} $$"
   ]
  },
  {
   "cell_type": "code",
   "execution_count": 23,
   "metadata": {},
   "outputs": [
    {
     "name": "stdout",
     "output_type": "stream",
     "text": [
      "mB = 42.1159 kg\n"
     ]
    }
   ],
   "source": [
    "# Calculamos la masa de gas en B (nitrógeno)\n",
    "mB = sp.symbols('mB')\n",
    "# Datos\n",
    "VB = 10 # m^3\n",
    "TiB = 127 + 273 # K\n",
    "PiB = 5*100 # kPa\n",
    "RB = 0.2968 # kJ/(Kg*K) Dato de tabla\n",
    "\n",
    "# Ecuación de los gases ideales\n",
    "eqB = sp.Eq((PiB)*(VB) , (mB)*(RB)*(TiB))\n",
    "seqB = sp.solve(eqB,mB)\n",
    "mB = seqB[0]\n",
    "\n",
    "print('mB = %s kg'%round(mB,4))"
   ]
  },
  {
   "cell_type": "markdown",
   "metadata": {},
   "source": [
    "$$ P_{iC} V_C = m_C R_C T_{iC} $$"
   ]
  },
  {
   "cell_type": "code",
   "execution_count": 22,
   "metadata": {},
   "outputs": [
    {
     "name": "stdout",
     "output_type": "stream",
     "text": [
      "mC = 13.9373 kg\n"
     ]
    }
   ],
   "source": [
    "# Calculammos la masa de gas en C (aire)\n",
    "mC = sp.symbols('mC')\n",
    "# Datos\n",
    "VC = 12 # m^3\n",
    "TiC = 27 + 273 # K\n",
    "PiC = 1*100 # kPa\n",
    "RC = 0.287 # kJ/(Kg*K) Dato de tabla\n",
    "\n",
    "# Ecuación de los gases ideales\n",
    "eqC = sp.Eq((PiC)*(VC) , (mC)*(RC)*(TiC))\n",
    "seqC = sp.solve(eqC,mC)\n",
    "mC = seqC[0]\n",
    "\n",
    "print('mC = %s kg'%round(mC,4))"
   ]
  },
  {
   "cell_type": "markdown",
   "metadata": {},
   "source": [
    "Utilizamos la ecuación\n",
    "$$ \\Delta U = m \\, c_v \\, \\Delta T $$\n",
    "con $\\Delta U = 0$\n",
    "\n",
    "$$ m_A c_{vA} (T_f - T_{iA}) + m_B cv_{B} (T_f - T_{iB}) + m_C cv_{C} (T_f - T_{iC}) = 0 $$"
   ]
  },
  {
   "cell_type": "code",
   "execution_count": 24,
   "metadata": {},
   "outputs": [
    {
     "name": "stdout",
     "output_type": "stream",
     "text": [
      "Tf = 370.41 K\n"
     ]
    }
   ],
   "source": [
    "# Calculo de la temperatura de equilibrio final\n",
    "# Datos:\n",
    "cvA = 0.6585 # kJ/(Kg*K)\n",
    "cvB = 0.7431 # kJ/(Kg*K)\n",
    "cvC = 0.7176 # kJ/(Kg*K)\n",
    "\n",
    "Tf = sp.symbols('Tf')\n",
    "eq4 = sp.Eq(0 , mA*cvA*(Tf-TiA)+mB*cvB*(Tf-TiB)+mC*cvC*(Tf-TiC))\n",
    "seq4 = sp.solve(eq4,Tf)\n",
    "Tf = seq4[0]\n",
    "\n",
    "print('Tf = %s K'%round(Tf,2))"
   ]
  },
  {
   "cell_type": "markdown",
   "metadata": {},
   "source": [
    "$$ V_f = V_A + V_B + V_C $$\n",
    "\n",
    "$$ P_{fA} V_f = m_{A} R_A T_f $$"
   ]
  },
  {
   "cell_type": "code",
   "execution_count": 26,
   "metadata": {},
   "outputs": [
    {
     "name": "stdout",
     "output_type": "stream",
     "text": [
      "PfA = 58.7957 kPa\n"
     ]
    }
   ],
   "source": [
    "# Calculo de la presión final del gas A (oxígeno) sobre el volumen final\n",
    "PfA = sp.symbols('PfA')\n",
    "Vf = VA + VB + VC\n",
    "\n",
    "eq5 = sp.Eq(PfA*Vf , mA*RA*Tf)\n",
    "seq5 = sp.solve(eq5,PfA)\n",
    "PfA = seq5[0]\n",
    "\n",
    "print('PfA = %s kPa'%round(PfA,4))"
   ]
  },
  {
   "cell_type": "markdown",
   "metadata": {},
   "source": [
    "$$ P_{fB} V_f = m_B R_B T_f $$"
   ]
  },
  {
   "cell_type": "code",
   "execution_count": 27,
   "metadata": {},
   "outputs": [
    {
     "name": "stdout",
     "output_type": "stream",
     "text": [
      "PfB = 171.4875 kPa\n"
     ]
    }
   ],
   "source": [
    "# Calculo de la presión final del gas B (nitrógeno) sobre el volumen final\n",
    "PfB = sp.symbols('PfB')\n",
    "\n",
    "eq6 = sp.Eq(PfB*Vf , mB*RB*Tf)\n",
    "seq6 = sp.solve(eq6,PfB)\n",
    "PfB = seq6[0]\n",
    "\n",
    "print('PfB = %s kPa'%round(PfB,4))"
   ]
  },
  {
   "cell_type": "markdown",
   "metadata": {},
   "source": [
    "$$ P_{fC} V_f = m_C R_C T_f $$"
   ]
  },
  {
   "cell_type": "code",
   "execution_count": 28,
   "metadata": {},
   "outputs": [
    {
     "name": "stdout",
     "output_type": "stream",
     "text": [
      "PfC = 54.876 kPa\n"
     ]
    }
   ],
   "source": [
    "# Calculo de la presión final del gas C (aire) sobre el volumen final\n",
    "PfC = sp.symbols('PfC')\n",
    "\n",
    "eq7 = sp.Eq(PfC*Vf , mC*RC*Tf)\n",
    "seq7 = sp.solve(eq7,PfC)\n",
    "PfC = seq7[0]\n",
    "\n",
    "print('PfC = %s kPa'%round(PfC,4))"
   ]
  },
  {
   "cell_type": "markdown",
   "metadata": {},
   "source": [
    "$$ P_{final} = P_{fA} + P_{fB} + P_{fC} $$"
   ]
  },
  {
   "cell_type": "code",
   "execution_count": 29,
   "metadata": {},
   "outputs": [
    {
     "name": "stdout",
     "output_type": "stream",
     "text": [
      "Pfinal = 285.1591 kPa\n"
     ]
    }
   ],
   "source": [
    "# Presión final (alcanzado el equilibrio)\n",
    "Pfinal = PfA+PfB+PfC\n",
    "\n",
    "print('Pfinal = %s kPa'%round(Pfinal,4))"
   ]
  },
  {
   "cell_type": "code",
   "execution_count": 30,
   "metadata": {},
   "outputs": [],
   "source": [
    "%reset -s -f"
   ]
  },
  {
   "cell_type": "markdown",
   "metadata": {},
   "source": [
    "## Ejercicio 13 \n",
    "Un recipiente rígido y adiabático está conectado a través de una válvula\n",
    "con un conjunto cilindro-embolo también adiabáticos. Inicialmente, la válvula\n",
    "está cerrada y el cilindro vacío. Se abre la válvula alcanzando el sistema un\n",
    "nuevo estado de equilibrio. Se pide:\n",
    "\n",
    "1. Temperatura final\n",
    "2. Trabajo\n",
    "\n",
    "![13.png](img/13.png)"
   ]
  },
  {
   "cell_type": "markdown",
   "metadata": {},
   "source": [
    "## Solución\n",
    "$$ P_iV_R = m R T_i $$\n",
    "\n",
    "$$ V_R = \\frac{m R T_i}{P_i} $$"
   ]
  },
  {
   "cell_type": "code",
   "execution_count": 32,
   "metadata": {},
   "outputs": [
    {
     "name": "stdout",
     "output_type": "stream",
     "text": [
      "Ti = 320 K (temperatura inicial)\n",
      "Vr = 0.574 m^3 (volumen del recipiente)\n"
     ]
    }
   ],
   "source": [
    "# Calculoamos el volumen del recipiente R\n",
    "# ---------------------------------------\n",
    "# Datos:\n",
    "m = 50 # Kg (masa)\n",
    "Ti = 47+273 # K (temperatura inicial)\n",
    "Pi = 80*100 # kPa (presión inicial)\n",
    "R = 0.287 # (aire) kJ/(Kg*K) Dato de tabla\n",
    "\n",
    "# Volumen del recipiente:\n",
    "Vr = m*R*Ti/Pi\n",
    "\n",
    "print('Ti = %s K (temperatura inicial)'%Ti)\n",
    "print('Vr = %s m^3 (volumen del recipiente)'%round(Vr,3))"
   ]
  },
  {
   "cell_type": "code",
   "execution_count": 33,
   "metadata": {},
   "outputs": [],
   "source": [
    "# Usando la biblioteca sympy\n",
    "import sympy as sp\n",
    "Tf = sp.symbols('Tf')"
   ]
  },
  {
   "cell_type": "markdown",
   "metadata": {},
   "source": [
    "$$ W_{\\Delta V} = P_p (V_f - V_i) $$\n",
    "\n",
    "$$ \\Delta U = m \\, c_v \\, (T_f - T_i) $$\n",
    "\n",
    "$$ Q = \\Delta U + \\Delta W_v $$"
   ]
  },
  {
   "cell_type": "code",
   "execution_count": 34,
   "metadata": {},
   "outputs": [
    {
     "name": "stdout",
     "output_type": "stream",
     "text": [
      "Temperatura final en (Kelvin):\n",
      "Tf = 292.13 K\n"
     ]
    }
   ],
   "source": [
    "Pp = 50*100 # kPa presión del pistón\n",
    "cv = 0.7176 # (aire) kJ/(Kg*K)\n",
    "Vc = 0.2 # m^3 volumen del cilindro\n",
    "Vf = Vr + Vc # volumen final\n",
    "\n",
    "WvV = Pp*(Vf-Vr) # trabajo por variación de volumen\n",
    "Uv = m * cv * (Tf-Ti) # variación de energía interna\n",
    "Q = 0 # el recipiente es adiabaico, el intercambio de calor es cero\n",
    "\n",
    "eq1 = sp.Eq(Q,Uv + WvV) # primer principio de la termodinámica\n",
    "Seq1 = sp.solve(eq1,Tf) # resuelve eq1 para Tf\n",
    "\n",
    "print('Temperatura final en (Kelvin):')\n",
    "print('Tf = %s K'%round(Seq1[0],2))"
   ]
  },
  {
   "cell_type": "code",
   "execution_count": 35,
   "metadata": {},
   "outputs": [
    {
     "name": "stdout",
     "output_type": "stream",
     "text": [
      "Trabajo por varición de volumen:\n",
      "WvV = 1000.0 kJ\n"
     ]
    }
   ],
   "source": [
    "Tf = Seq1[0]\n",
    "\n",
    "print('Trabajo por varición de volumen:')\n",
    "print('WvV = %s kJ'%round(WvV,2))"
   ]
  },
  {
   "cell_type": "code",
   "execution_count": 36,
   "metadata": {},
   "outputs": [],
   "source": [
    "%reset -s -f"
   ]
  },
  {
   "cell_type": "markdown",
   "metadata": {},
   "source": [
    "## Ejercicio 14\n",
    "El recipiente R, rígido y diatérmico, se encuentra conectado a un cilindro\n",
    "émbolo adiabático, a través de una válvula inicialmente cerrada. Se abre la\n",
    "válvula y luego de un tiempo se alcanza un nuevo equilibrio.\n",
    "\n",
    "Determinar:\n",
    "1. Energía térmica intercambia con el medio (Q)\n",
    "2. Energía mecánica intercambiada con el medio (W)\n",
    "3. Trabajo útil neto.\n",
    "![14.png](img/14.png)"
   ]
  },
  {
   "cell_type": "markdown",
   "metadata": {},
   "source": [
    "## Solución\n",
    "\n",
    "$$ Q = \\Delta U + W $$\n",
    "\n",
    "$$ \\Delta U = m \\, c_v \\, \\Delta T $$\n",
    "\n",
    "$$ W = W_{\\Delta V} = P_f(V_f-V_i) = m R T_f - P_f V_i $$\n",
    "\n",
    "$$ P_f V_f = m R T_f $$"
   ]
  },
  {
   "cell_type": "markdown",
   "metadata": {},
   "source": [
    "------------------------------------------\n",
    "$$ V_{iA} = m_C R \\frac{T_{iC}}{P_f} $$\n",
    "\n",
    "$$ V_{Ti} = V_{iC} + V_A $$"
   ]
  },
  {
   "cell_type": "code",
   "execution_count": 37,
   "metadata": {},
   "outputs": [
    {
     "name": "stdout",
     "output_type": "stream",
     "text": [
      "ViC = 0.4911 m^3 (Volumen inicial en C)\n",
      "VTi = 1.0911 m^3 (Volumen total inicial)\n"
     ]
    }
   ],
   "source": [
    "# Datos:\n",
    "TiC = 227 + 273 # K\n",
    "R = 0.1889 # (CO2) kJ/(Kg*K) Dato de tabla\n",
    "cv = 0.6552 # (CO2) kJ/(Kg*K) Dato de tabla\n",
    "mC = 2.6 # K\n",
    "Pf = 5*100 # kPa\n",
    "VA = 0.6 # m^3\n",
    "\n",
    "# Calculo del volumen inicial:\n",
    "ViC = mC*R*TiC/Pf\n",
    "VTi = ViC + VA\n",
    "\n",
    "print('ViC = %s m^3 (Volumen inicial en C)'%round(ViC,4))\n",
    "print('VTi = %s m^3 (Volumen total inicial)'%round(VTi,4)) "
   ]
  },
  {
   "cell_type": "markdown",
   "metadata": {},
   "source": [
    "$$ m_A = \\frac{P_a V_A}{R T_f} $$"
   ]
  },
  {
   "cell_type": "code",
   "execution_count": 38,
   "metadata": {},
   "outputs": [
    {
     "name": "stdout",
     "output_type": "stream",
     "text": [
      "mA = 8.4701 kg\n"
     ]
    }
   ],
   "source": [
    "# Calculo la masa en A\n",
    "Tf = 300 # K\n",
    "Pa = 8*100 # kPa\n",
    "\n",
    "mA = (Pa*VA)/(R*Tf)\n",
    "\n",
    "print('mA = %s kg'%round(mA,4))"
   ]
  },
  {
   "cell_type": "markdown",
   "metadata": {},
   "source": [
    "$$ V_{Tf} = \\frac{m_T R T_f}{P_f} $$"
   ]
  },
  {
   "cell_type": "code",
   "execution_count": 39,
   "metadata": {},
   "outputs": [
    {
     "name": "stdout",
     "output_type": "stream",
     "text": [
      "VTf = 1.2547 m^3 (Volumen total final)\n"
     ]
    }
   ],
   "source": [
    "mT = mA + mC # mT: masa total en Kg\n",
    "Pf = 5*100 # kPa\n",
    "\n",
    "VTf = (mT*R*Tf)/Pf\n",
    "\n",
    "print('VTf = %s m^3 (Volumen total final)'%round(VTf,4))"
   ]
  },
  {
   "cell_type": "markdown",
   "metadata": {},
   "source": [
    "$$ \\Delta V = V_{Tf} - V_{Ti} $$"
   ]
  },
  {
   "cell_type": "code",
   "execution_count": 40,
   "metadata": {},
   "outputs": [
    {
     "name": "stdout",
     "output_type": "stream",
     "text": [
      "DV = 0.1635 m^3 (Variación de volumen)\n"
     ]
    }
   ],
   "source": [
    "# DV: Variación de volumen\n",
    "DV = VTf - VTi\n",
    "\n",
    "print('DV = %s m^3 (Variación de volumen)'%round(DV,4))"
   ]
  },
  {
   "cell_type": "markdown",
   "metadata": {},
   "source": [
    "$$ \\Delta U = m_C c_v (T_f - T_{iC}) $$"
   ]
  },
  {
   "cell_type": "code",
   "execution_count": 41,
   "metadata": {},
   "outputs": [
    {
     "name": "stdout",
     "output_type": "stream",
     "text": [
      "DU = -340.704 kJ\n"
     ]
    }
   ],
   "source": [
    "# Variación de energía interna\n",
    "DU = mC * cv * (Tf - TiC)\n",
    "\n",
    "print('DU = %s kJ'%round(DU,4))"
   ]
  },
  {
   "cell_type": "markdown",
   "metadata": {},
   "source": [
    "### item 2\n",
    "Energía mecánica intercambiada con el medio (W)"
   ]
  },
  {
   "cell_type": "markdown",
   "metadata": {},
   "source": [
    "$$ W_{\\Delta V} = P_f \\Delta V $$"
   ]
  },
  {
   "cell_type": "code",
   "execution_count": 42,
   "metadata": {},
   "outputs": [
    {
     "name": "stdout",
     "output_type": "stream",
     "text": [
      "Wdv = 81.772 kJ\n"
     ]
    }
   ],
   "source": [
    "# Wdv: Trabajo por variación de volumen\n",
    "Wdv = Pf * DV\n",
    "\n",
    "# energía mecánica intercambiada con el medio\n",
    "print('Wdv = %s kJ'%round(Wdv,4)) "
   ]
  },
  {
   "cell_type": "markdown",
   "metadata": {},
   "source": [
    "### item 1\n",
    "Energía térmica intercambia con el medio (Q)"
   ]
  },
  {
   "cell_type": "markdown",
   "metadata": {},
   "source": [
    "$$ Q = \\Delta U + W_{\\Delta V} $$"
   ]
  },
  {
   "cell_type": "code",
   "execution_count": 43,
   "metadata": {},
   "outputs": [
    {
     "name": "stdout",
     "output_type": "stream",
     "text": [
      "Q = -258.932 kJ\n"
     ]
    }
   ],
   "source": [
    "# Q: Intercambio de calor con el medio\n",
    "Q = DU + Wdv\n",
    "\n",
    "print('Q = %s kJ'%round(Q,4))"
   ]
  },
  {
   "cell_type": "markdown",
   "metadata": {},
   "source": [
    "### item 3\n",
    "Trabajo útil neto."
   ]
  },
  {
   "cell_type": "markdown",
   "metadata": {},
   "source": [
    "$$ W_{net} = (P_f - P_0) \\Delta V $$"
   ]
  },
  {
   "cell_type": "code",
   "execution_count": 44,
   "metadata": {},
   "outputs": [
    {
     "name": "stdout",
     "output_type": "stream",
     "text": [
      "Wnet = 65.4176 kJ\n"
     ]
    }
   ],
   "source": [
    "# Wnet: Trabajo útil neto\n",
    "Po = 1*100 # kPa\n",
    "\n",
    "Wnet = (Pf-Po) * DV\n",
    "\n",
    "print('Wnet = %s kJ'%round(Wnet,4))"
   ]
  },
  {
   "cell_type": "code",
   "execution_count": 45,
   "metadata": {},
   "outputs": [],
   "source": [
    "%reset -s -f"
   ]
  },
  {
   "cell_type": "markdown",
   "metadata": {},
   "source": [
    "   [<-Previous ](https://nbviewer.jupyter.org/github/daniel-lorenzo/Termodinamica/blob/master/p01.ipynb)\n",
    "   [| Next->](https://nbviewer.jupyter.org/github/daniel-lorenzo/Termodinamica/blob/master/p03.ipynb)"
   ]
  }
 ],
 "metadata": {
  "kernelspec": {
   "display_name": "Python 3",
   "language": "python",
   "name": "python3"
  },
  "language_info": {
   "codemirror_mode": {
    "name": "ipython",
    "version": 3
   },
   "file_extension": ".py",
   "mimetype": "text/x-python",
   "name": "python",
   "nbconvert_exporter": "python",
   "pygments_lexer": "ipython3",
   "version": "3.7.3"
  }
 },
 "nbformat": 4,
 "nbformat_minor": 2
}
