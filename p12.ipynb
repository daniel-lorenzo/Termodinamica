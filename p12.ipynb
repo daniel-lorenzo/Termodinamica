{
 "cells": [
  {
   "cell_type": "markdown",
   "metadata": {},
   "source": [
    "# Ejercicio\n",
    "\n",
    "![58.png](img/58.png)\n",
    "\n",
    "__Calcular:__\n",
    "1. $\\Delta S_u$\n",
    "2. $\\eta_{ex,proc}$\n",
    "3. $\\eta_{ex,turb}$\n",
    "4. $\\eta_{ex,comp}$"
   ]
  },
  {
   "cell_type": "markdown",
   "metadata": {},
   "source": [
    "## Solución"
   ]
  },
  {
   "cell_type": "code",
   "execution_count": 1,
   "metadata": {},
   "outputs": [],
   "source": [
    "import CoolProp.CoolProp as cp"
   ]
  },
  {
   "cell_type": "code",
   "execution_count": 2,
   "metadata": {},
   "outputs": [
    {
     "name": "stdout",
     "output_type": "stream",
     "text": [
      "h1 = 3248.34 kJ/kg\n",
      "s1 = 7.12916 kJ/kg·K\n"
     ]
    }
   ],
   "source": [
    "P1 = 20e5 # Pa\n",
    "T1 = 400 + 273.15 # K\n",
    "\n",
    "h1 = cp.PropsSI('H','P',P1,'T',T1,'Water')\n",
    "s1 = cp.PropsSI('S','P',P1,'T',T1,'Water')\n",
    "\n",
    "print('h1 = %s kJ/kg'%round(h1/1000,2))\n",
    "print('s1 = %s kJ/kg·K'%round(s1/1000,5))"
   ]
  },
  {
   "cell_type": "code",
   "execution_count": 3,
   "metadata": {},
   "outputs": [
    {
     "data": {
      "text/plain": [
       "'gas'"
      ]
     },
     "execution_count": 3,
     "metadata": {},
     "output_type": "execute_result"
    }
   ],
   "source": [
    "P4 = 10e5 # Pa\n",
    "s4rev = s1\n",
    "\n",
    "cp.PhaseSI('P',P4,'S',s4rev,'Water')"
   ]
  },
  {
   "cell_type": "code",
   "execution_count": 4,
   "metadata": {},
   "outputs": [
    {
     "name": "stdout",
     "output_type": "stream",
     "text": [
      "h4rev = 3054.24 kJ/kg\n"
     ]
    }
   ],
   "source": [
    "h4rev = cp.PropsSI('H','P',P4,'S',s4rev,'Water')\n",
    "print('h4rev = %s kJ/kg'%round(h4rev/1000,2))"
   ]
  },
  {
   "cell_type": "markdown",
   "metadata": {},
   "source": [
    "$$ \\eta_{isoT} = \\frac{h_1 - h_4}{h_1 - h_{4rev}} $$"
   ]
  },
  {
   "cell_type": "markdown",
   "metadata": {},
   "source": [
    "$$ h_4 = \\eta_{isoT} (h_{4rev} - h_1) + h_1 $$"
   ]
  },
  {
   "cell_type": "code",
   "execution_count": 17,
   "metadata": {},
   "outputs": [
    {
     "name": "stdout",
     "output_type": "stream",
     "text": [
      "h4 = 3073.65 kJ/kg\n",
      "s4 = 7.16269 kJ/kg·K\n",
      "T4 = 583.44 K = 310.29°C\n"
     ]
    }
   ],
   "source": [
    "eta_isoT = 0.9\n",
    "\n",
    "h4 = eta_isoT*(h4rev - h1) + h1\n",
    "\n",
    "s4 = cp.PropsSI('S','P',P4,'H',h4,'Water')\n",
    "T4 = cp.PropsSI('T','P',P4,'H',h4,'Water')\n",
    "\n",
    "print('h4 = %s kJ/kg'%round(h4/1000,2))\n",
    "print('s4 = %s kJ/kg·K'%round(s4/1000,5))\n",
    "print('T4 = %s K = %s°C'%(round(T4,2),round(T4 - 273.15,2)))"
   ]
  },
  {
   "cell_type": "markdown",
   "metadata": {},
   "source": [
    "$$ \\overbrace{Q}^{= \\, 0} = \\Delta H + W_T $$\n",
    "\n",
    "$$ W_T = m_1 (h_1 - h_4) $$\n",
    "\n",
    "$$ m_1 = \\frac{W}{h_1 - h_4} $$"
   ]
  },
  {
   "cell_type": "code",
   "execution_count": 10,
   "metadata": {},
   "outputs": [
    {
     "name": "stdout",
     "output_type": "stream",
     "text": [
      "m4 = 45.7934 kg\n"
     ]
    }
   ],
   "source": [
    "W = 8000e3 # W\n",
    "\n",
    "m4 = W/(h1 - h4)\n",
    "\n",
    "print('m4 = %s kg'%round(m4,4))"
   ]
  },
  {
   "cell_type": "code",
   "execution_count": 7,
   "metadata": {},
   "outputs": [
    {
     "data": {
      "text/plain": [
       "'twophase'"
      ]
     },
     "execution_count": 7,
     "metadata": {},
     "output_type": "execute_result"
    }
   ],
   "source": [
    "P3 = 1e5 # Pa\n",
    "s3rev = s1\n",
    "\n",
    "cp.PhaseSI('P',P3,'S',s3rev,'Water')"
   ]
  },
  {
   "cell_type": "code",
   "execution_count": 8,
   "metadata": {},
   "outputs": [
    {
     "name": "stdout",
     "output_type": "stream",
     "text": [
      "h3rev = 2589.33 kJ/kg\n"
     ]
    }
   ],
   "source": [
    "h3rev = cp.PropsSI('H','P',P3,'S',s3rev,'Water')\n",
    "print('h3rev = %s kJ/kg'%round(h3rev/1000,2))"
   ]
  },
  {
   "cell_type": "code",
   "execution_count": 18,
   "metadata": {},
   "outputs": [
    {
     "name": "stdout",
     "output_type": "stream",
     "text": [
      "h3 = 2655.23 kJ/kg\n",
      "s3 = 7.30596 kJ/kg·K\n"
     ]
    }
   ],
   "source": [
    "h3 = eta_isoT*(h3rev - h1) + h1\n",
    "\n",
    "s3 = cp.PropsSI('S','P',P3,'H',h3,'Water')\n",
    "\n",
    "print('h3 = %s kJ/kg'%round(h3/1000,2))\n",
    "print('s3 = %s kJ/kg·K'%round(s3/1000,5))"
   ]
  },
  {
   "cell_type": "code",
   "execution_count": 11,
   "metadata": {},
   "outputs": [
    {
     "name": "stdout",
     "output_type": "stream",
     "text": [
      "m3 = 13.4882 kg\n"
     ]
    }
   ],
   "source": [
    "m3 = W/(h1 - h3)\n",
    "\n",
    "print('m3 = %s kg'%round(m3,4))"
   ]
  },
  {
   "cell_type": "code",
   "execution_count": 12,
   "metadata": {},
   "outputs": [
    {
     "name": "stdout",
     "output_type": "stream",
     "text": [
      "m1 = 59.2815 kg\n"
     ]
    }
   ],
   "source": [
    "m1 = m3 + m4\n",
    "\n",
    "print('m1 = %s kg'%round(m1,4))"
   ]
  },
  {
   "cell_type": "code",
   "execution_count": 13,
   "metadata": {},
   "outputs": [
    {
     "name": "stdout",
     "output_type": "stream",
     "text": [
      "m5 = 48.7934 kg/s\n"
     ]
    }
   ],
   "source": [
    "m2 = 3 # kg/s\n",
    "\n",
    "m5 = m2 + m4\n",
    "print('m5 = %s kg/s'%round(m5,4))"
   ]
  },
  {
   "cell_type": "code",
   "execution_count": 15,
   "metadata": {},
   "outputs": [
    {
     "name": "stdout",
     "output_type": "stream",
     "text": [
      "h2 = 2777.11 kJ/kg\n",
      "s2 = 6.58502 kJ/kg·K\n",
      "T2 = 453.03 K = 179.88°C\n"
     ]
    }
   ],
   "source": [
    "x2 = 1\n",
    "P2 = P4\n",
    "\n",
    "h2 = cp.PropsSI('H','P',P2,'Q',x2,'Water')\n",
    "s2 = cp.PropsSI('S','P',P2,'Q',x2,'Water')\n",
    "T2 = cp.PropsSI('T','P',P2,'Q',x2,'Water')\n",
    "print('h2 = %s kJ/kg'%round(h2/1000,2))\n",
    "print('s2 = %s kJ/kg·K'%round(s2/1000,5))\n",
    "print('T2 = %s K = %s°C'%(round(T2,2),round(T2 - 273.15,2)))"
   ]
  },
  {
   "cell_type": "code",
   "execution_count": 19,
   "metadata": {},
   "outputs": [
    {
     "name": "stdout",
     "output_type": "stream",
     "text": [
      "h5 = 2828.26 kJ/kg\n",
      "s5 = 6.69554 kJ/kg·K\n"
     ]
    }
   ],
   "source": [
    "T5 = 200 + 273.15 # K\n",
    "P5 = P4\n",
    "\n",
    "h5 = cp.PropsSI('H','P',P5,'T',T5,'Water')\n",
    "s5 = cp.PropsSI('S','P',P5,'T',T5,'Water')\n",
    "\n",
    "print('h5 = %s kJ/kg'%round(h5/1000,2))\n",
    "print('s5 = %s kJ/kg·K'%round(s5/1000,5))"
   ]
  },
  {
   "cell_type": "code",
   "execution_count": 20,
   "metadata": {},
   "outputs": [
    {
     "name": "stdout",
     "output_type": "stream",
     "text": [
      "h6 = 2374.19 kJ/kg\n",
      "s6 = 5.69563 kJ/kg·K\n"
     ]
    }
   ],
   "source": [
    "P6 = P5\n",
    "x6 = 0.8\n",
    "\n",
    "h6 = cp.PropsSI('H','P',P6,'Q',x6,'Water')\n",
    "s6 = cp.PropsSI('S','P',P6,'Q',x6,'Water')\n",
    "\n",
    "print('h6 = %s kJ/kg'%round(h6/1000,2))\n",
    "print('s6 = %s kJ/kg·K'%round(s6/1000,5))"
   ]
  },
  {
   "cell_type": "markdown",
   "metadata": {},
   "source": [
    "$$ m_{aire} c_p (T_8 - T_7) = m_5 (h_6 - h_5) $$\n",
    "\n",
    "$$ m_{aire} = m_5 \\frac{h_5 - h_6}{c_p (T_8 - T_7)} $$"
   ]
  },
  {
   "cell_type": "code",
   "execution_count": 23,
   "metadata": {},
   "outputs": [
    {
     "name": "stdout",
     "output_type": "stream",
     "text": [
      "m_aire = 367.54 kg/s\n"
     ]
    }
   ],
   "source": [
    "T8 = 87 + 273.15 # K\n",
    "T7 = 27 + 273.15 # K\n",
    "cp = 1.0047e3 # J/kg·K\n",
    "\n",
    "m_aire = m5*(h5 - h6)/(cp*(T8 - T7))\n",
    "\n",
    "print('m_aire = %s kg/s'%round(m_aire,2))"
   ]
  },
  {
   "cell_type": "markdown",
   "metadata": {},
   "source": [
    "$$ \\frac{P_9}{T_9} = \\frac{P_{10}}{T_{10}} $$\n",
    "\n",
    "$$ T_{10} = \\frac{T_9}{P_9} P_{10} $$"
   ]
  },
  {
   "cell_type": "code",
   "execution_count": 26,
   "metadata": {},
   "outputs": [
    {
     "name": "stdout",
     "output_type": "stream",
     "text": [
      "T10 = 900.0 K\n"
     ]
    }
   ],
   "source": [
    "P0 = 1e5 # Pa\n",
    "T0 = 300 # K\n",
    "P9 = P0\n",
    "P10 = 3e5 # Pa\n",
    "T9 = T0\n",
    "\n",
    "T10 = T9/P9*P10\n",
    "print('T10 = %s K'%T10)"
   ]
  },
  {
   "cell_type": "markdown",
   "metadata": {},
   "source": [
    "$$ W = m c_p (T_{10} - T_9) $$\n",
    "\n",
    "$$ m = \\frac{W}{c_p (T_{10} - T9)} $$"
   ]
  },
  {
   "cell_type": "code",
   "execution_count": 27,
   "metadata": {},
   "outputs": [
    {
     "name": "stdout",
     "output_type": "stream",
     "text": [
      "m_a = 13.27 kg/s\n"
     ]
    }
   ],
   "source": [
    "m_a = W/( cp*(T10 - T9) )\n",
    "\n",
    "print('m_a = %s kg/s'%round(m_a,2))"
   ]
  },
  {
   "cell_type": "code",
   "execution_count": null,
   "metadata": {},
   "outputs": [],
   "source": []
  }
 ],
 "metadata": {
  "kernelspec": {
   "display_name": "Python 3",
   "language": "python",
   "name": "python3"
  },
  "language_info": {
   "codemirror_mode": {
    "name": "ipython",
    "version": 3
   },
   "file_extension": ".py",
   "mimetype": "text/x-python",
   "name": "python",
   "nbconvert_exporter": "python",
   "pygments_lexer": "ipython3",
   "version": "3.7.3"
  }
 },
 "nbformat": 4,
 "nbformat_minor": 2
}
