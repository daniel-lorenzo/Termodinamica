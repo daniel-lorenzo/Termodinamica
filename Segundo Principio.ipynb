{
 "cells": [
  {
   "cell_type": "markdown",
   "metadata": {},
   "source": [
    "## Introducción a la segunda ley\n",
    "La energía es una propiedad conservada y se sabe de ningún proceso que viole la primera ley de la termodinámica. Sin embargo, satisfacerla no asegura que en realidad el proceso tenga lugar.\n",
    "\n",
    "Ejemplos:\n",
    "Una tasa de café no se pondrá más caliente en una habitación más fria. Transferir calor a un alambre no generará electricidad. Transferir calor a una rueda de paletas no hará que ésta gire.\n",
    "\n",
    "Un proceso no puede ocurrir a menos que satisfaga tanto la primera ley de la termodinámica como la segunda.\n",
    "Los procesos ocurren en una cierta dirección y no en la dirección contraria.\n",
    "\n",
    "Sin embargo, el uso de la segunda ley de la termodinámica no se limita a identificar la dirección de los procesos, también afirma que la energía tiene calidad así como cantidad.\n",
    "\n",
    "La segunda ley de la termodinámica se usa también para determinar los límites teóricos en el desempeño de sistemas de ingeniería de uso ordinario, como máquinas térmicas y refrigeradores, así como predecir el grado de terminación de las reacciones químicas. \n",
    "\n",
    "Se puede usar para cuantificar el nivel de perfección de un proceso y señalar la dirección para eliminar eficazmente las imperfecciones.\n",
    "\n",
    "## Depósitos de energía térmica\n",
    "En el desarrollo de la segunda ley de la termodinámica, es muy conveniente tener\n",
    "un hipotético cuerpo que posea una capacidad de energía térmica relativamente\n",
    "grande (masa x calor específico) que pueda suministrar o absorber cantidades\n",
    "finitas de calor sin experimentar ningún cambio de temperatura. Tal cuerpo se\n",
    "llama depósito de energía térmica, o sólo depósito. En la práctica, los grandes\n",
    "cuerpos de agua, como océanos, lagos y ríos, así como el aire atmosférico, se\n",
    "pueden modelar de manera precisa como depósitos de energía térmica debido a\n",
    "sus grandes capacidades de almacenaje de energía o masas térmicas.\n",
    "\n",
    "Un depósito que suministra energía en la forma de calor se llama fuente, y\n",
    "otro que absorbe energía en la forma de calor se llama sumidero.\n",
    "\n",
    "## Máquinas térmicas\n",
    "El trabajo se puede convertir fácilmente en otras formas\n",
    "de energía, pero convertir éstas en trabajo no es fácil. \n",
    "El trabajo se puede convertir en calor\n",
    "de manera directa y por completo, pero convertir el calor en trabajo requiere\n",
    "usar algunos dispositivos especiales. Estos dispositivos se llaman máquinas\n",
    "térmicas.\n",
    "1. Reciben calor de una fuente a temperatura alta (energía solar, horno de\n",
    "petróleo, reactor nuclear, etcétera).\n",
    "2. Convierten parte de este calor en trabajo (por lo general en la forma de\n",
    "una flecha rotatoria).\n",
    "3. Rechazan el calor de desecho hacia un sumidero de calor de baja tempe-\n",
    "ratura (la atmósfera, los ríos, etcétera).\n",
    "4. Operan en un ciclo.\n",
    "\n",
    "Parte del calor que recibe una máquina térmica se convierte en trabajo, mientras que el resto es rechazado a un sumidero.\n",
    "\n",
    "El término máquina térmica se usa con frecuencia en un sentido más amplio\n",
    "que incluye dispositivos que producen trabajo que no operan en un ciclo termodinámico. Las máquinas relacionadas con la combustión interna, como las\n",
    "turbinas de gas y los motores de automóviles, entran en esta categoría. Estos\n",
    "dispositivos operan en un ciclo mecánico pero no en un ciclo termodinámico,\n",
    "porque el fluido de trabajo (los gases de combustión) no experimenta un ciclo\n",
    "completo. En lugar de ser enfriados a la temperatura inicial, los gases de\n",
    "escape se purgan y se reemplazan por una mezcla fresca de aire y combustible\n",
    "al final de ciclo.\n",
    "\n",
    "El dispositivo productor de trabajo que mejor se ajusta a la definición de una\n",
    "máquina térmica es la central eléctrica de vapor, la cual es una máquina de\n",
    "combustión externa."
   ]
  },
  {
   "cell_type": "markdown",
   "metadata": {},
   "source": [
    "### Ejemplo - Producción de potencia neta de una máquina térmica\n",
    "Se transfiere calor a una máquina térmica desde un horno a una tasa de 80\n",
    "MW. Si la tasa de rechazo de calor hacia un río cercano es 50 MW, determine\n",
    "la salida de potencia neta y la eficiencia térmica para esta máquina térmica.\n",
    "\n"
   ]
  },
  {
   "cell_type": "markdown",
   "metadata": {},
   "source": [
    "### Solución \n",
    "Se cuenta con las tasas de transferencia de calor hacia y desde\n",
    "una máquina térmica. Se determinará la salida de potencia neta y la eficiencia térmica.\n",
    "\n",
    "Suposición: Se ignoran las pérdidas de calor por las tuberías y otros componentes.\n",
    "![ejemplo6-1.png](img/ejemplo6-1.png)\n",
    "Análisis En la figura se ofrece un esquema de la máquina térmica.\n",
    "\n",
    "El horno sirve como un depósito de alta temperatura para la máquina y el\n",
    "río como un depósito de temperatura baja. Las cantidades dadas se pueden\n",
    "expresar como\n"
   ]
  },
  {
   "cell_type": "code",
   "execution_count": 3,
   "metadata": {},
   "outputs": [
    {
     "name": "stdout",
     "output_type": "stream",
     "text": [
      "W_ns = 30 MW (Trabajo neto salida)\n"
     ]
    }
   ],
   "source": [
    "Q_H = 80 # MW\n",
    "Q_L = 50 # MW\n",
    "# La salida de potencia para esta máquina térmica es\n",
    "W_ns = Q_H - Q_L # Trabajo neto salida\n",
    "print('W_ns = %s MW (Trabajo neto salida)'%W_ns)"
   ]
  },
  {
   "cell_type": "code",
   "execution_count": 13,
   "metadata": {},
   "outputs": [
    {
     "name": "stdout",
     "output_type": "stream",
     "text": [
      "n_ter = 0.375\n",
      "Rendimiento: 37.5 %\n"
     ]
    }
   ],
   "source": [
    "# La eficiencia térmica se determina sin dificultad como\n",
    "n_ter = W_ns / Q_H\n",
    "rend = n_ter*100\n",
    "print('n_ter = %s'%n_ter)\n",
    "print('Rendimiento: %s %%'%rend)"
   ]
  },
  {
   "cell_type": "code",
   "execution_count": null,
   "metadata": {},
   "outputs": [],
   "source": []
  }
 ],
 "metadata": {
  "kernelspec": {
   "display_name": "Python 3",
   "language": "python",
   "name": "python3"
  },
  "language_info": {
   "codemirror_mode": {
    "name": "ipython",
    "version": 3
   },
   "file_extension": ".py",
   "mimetype": "text/x-python",
   "name": "python",
   "nbconvert_exporter": "python",
   "pygments_lexer": "ipython3",
   "version": "3.7.3"
  }
 },
 "nbformat": 4,
 "nbformat_minor": 2
}
